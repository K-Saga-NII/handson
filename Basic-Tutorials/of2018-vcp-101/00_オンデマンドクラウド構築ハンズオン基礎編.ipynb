{
 "cells": [
  {
   "cell_type": "markdown",
   "metadata": {
    "lc_cell_meme": {
     "current": "bee17f46-d891-11e7-8605-0242ac110002",
     "next": "bee18040-d891-11e7-8605-0242ac110002",
     "previous": null
    }
   },
   "source": [
    "# はじめに\n",
    "\n",
    "ハンズオン基礎編は、以下の2つのメニューで構成されています。\n",
    "\n",
    "## Jupyter Notebook の操作方法\n",
    "\n",
    "- Jupyter Notebook の基本的な使い方を確認します。\n",
    "\n",
    "## AWSのクラウドでのサーバ起動\n",
    "\n",
    "- VCPを利用し、Jupyter Notebook からAWSクラウド上にサーバを起動します。\n",
    "- 起動したサーバへSSH経由でリモートコマンドを実行し、負荷をかけます。\n",
    "- サーバの負荷状況を Grafana のダッシュボードから確認します。\n"
   ]
  },
  {
   "cell_type": "markdown",
   "metadata": {
    "collapsed": true,
    "lc_cell_meme": {
     "current": "bee18040-d891-11e7-8605-0242ac110002",
     "next": "bee18108-d891-11e7-8605-0242ac110002",
     "previous": "bee17f46-d891-11e7-8605-0242ac110002"
    }
   },
   "source": [
    "# Jupyter Notebook の操作方法\n",
    "\n",
    "まずはじめに、Jupyter Notebook の基本操作を確認します。\n",
    "\n",
    "Jupyter NotebookはCellという単位で文書を構築します。\n",
    "このCellにはPythonコードやMarkdownテキストといった種別があり、適切なものを選択し文書を作成していきます。\n",
    "\n",
    "Jupyter Notebook のツールバーにある実行ボタンを押す、または、キーボードの Shift + Enter 操作により\n",
    "Cell を順番に実行していくことができ、Pythonコードが実行されたりMarkdownドキュメントが表示されたりします。\n",
    "![](media/run-icon.png)"
   ]
  },
  {
   "cell_type": "markdown",
   "metadata": {
    "lc_cell_meme": {
     "current": "bee18108-d891-11e7-8605-0242ac110002",
     "next": "bee181c6-d891-11e7-8605-0242ac110002",
     "previous": "bee18040-d891-11e7-8605-0242ac110002"
    }
   },
   "source": [
    "## Python Code を実行する"
   ]
  },
  {
   "cell_type": "code",
   "execution_count": 1,
   "metadata": {
    "deletable": false,
    "editable": false,
    "lc_cell_meme": {
     "current": "bee181c6-d891-11e7-8605-0242ac110002",
     "history": [],
     "next": "21b265de-5cba-11e8-b257-0242ac110002",
     "previous": "bee18108-d891-11e7-8605-0242ac110002"
    },
    "run_through_control": {
     "frozen": true
    },
    "scrolled": true
   },
   "outputs": [
    {
     "name": "stdout",
     "output_type": "stream",
     "text": [
      "HELLO WORLD\n"
     ]
    }
   ],
   "source": [
    "name = 'Hello world'\n",
    "print(name.upper())"
   ]
  },
  {
   "cell_type": "code",
   "execution_count": 2,
   "metadata": {
    "deletable": false,
    "editable": false,
    "lc_cell_meme": {
     "current": "21b265de-5cba-11e8-b257-0242ac110002",
     "history": [],
     "next": "e4bead16-63b9-11e8-ae82-0242ac110002",
     "previous": "bee181c6-d891-11e7-8605-0242ac110002"
    },
    "run_through_control": {
     "frozen": true
    }
   },
   "outputs": [
    {
     "name": "stdout",
     "output_type": "stream",
     "text": [
      "pine apple\n"
     ]
    }
   ],
   "source": [
    "strings = ['pine', 'apple']\n",
    "print(' '.join(strings))"
   ]
  },
  {
   "cell_type": "code",
   "execution_count": 3,
   "metadata": {
    "deletable": false,
    "editable": false,
    "lc_cell_meme": {
     "current": "e4bead16-63b9-11e8-ae82-0242ac110002",
     "next": "e4beae2e-63b9-11e8-ae82-0242ac110002",
     "previous": "21b265de-5cba-11e8-b257-0242ac110002"
    },
    "run_through_control": {
     "frozen": true
    }
   },
   "outputs": [
    {
     "data": {
      "text/plain": [
       "5"
      ]
     },
     "execution_count": 3,
     "metadata": {},
     "output_type": "execute_result"
    }
   ],
   "source": [
    "2+3"
   ]
  },
  {
   "cell_type": "code",
   "execution_count": 4,
   "metadata": {
    "deletable": false,
    "editable": false,
    "lc_cell_meme": {
     "current": "e4beae2e-63b9-11e8-ae82-0242ac110002",
     "next": "bee1828e-d891-11e7-8605-0242ac110002",
     "previous": "e4bead16-63b9-11e8-ae82-0242ac110002"
    },
    "run_through_control": {
     "frozen": true
    }
   },
   "outputs": [
    {
     "data": {
      "text/plain": [
       "32"
      ]
     },
     "execution_count": 4,
     "metadata": {},
     "output_type": "execute_result"
    }
   ],
   "source": [
    "2**5"
   ]
  },
  {
   "cell_type": "markdown",
   "metadata": {
    "lc_cell_meme": {
     "current": "bee1828e-d891-11e7-8605-0242ac110002",
     "history": [],
     "next": "a6c23322-f68e-11e7-8605-0242ac110002",
     "previous": "e4beae2e-63b9-11e8-ae82-0242ac110002"
    }
   },
   "source": [
    "## Linux コマンドを実行する"
   ]
  },
  {
   "cell_type": "code",
   "execution_count": 5,
   "metadata": {
    "deletable": false,
    "editable": false,
    "lc_cell_meme": {
     "current": "a6c23322-f68e-11e7-8605-0242ac110002",
     "history": [],
     "next": "c6a688c2-63b8-11e8-ae82-0242ac110002",
     "previous": "bee1828e-d891-11e7-8605-0242ac110002"
    },
    "run_through_control": {
     "frozen": true
    },
    "scrolled": false
   },
   "outputs": [
    {
     "name": "stdout",
     "output_type": "stream",
     "text": [
      "total 80\r\n",
      "-rw-r--r-- 1 bit_kun users 68905 Jun 26 17:27 00_オンデマンドクラウド構築ハンズオン基礎編.ipynb\r\n",
      "-rw-r--r-- 1 bit_kun users   403 Jun 14 13:38 handson_config.py\r\n",
      "drwxr-xr-x 3 bit_kun users  4096 Jun 13 15:40 media\r\n",
      "drwxr-xr-x 2 bit_kun users  4096 Jun 14 13:50 __pycache__\r\n"
     ]
    }
   ],
   "source": [
    "!ls -l"
   ]
  },
  {
   "cell_type": "code",
   "execution_count": 6,
   "metadata": {
    "deletable": false,
    "editable": false,
    "lc_cell_meme": {
     "current": "c6a688c2-63b8-11e8-ae82-0242ac110002",
     "history": [],
     "next": "b25d1aea-5746-11e7-8a3b-9660ba7e074f",
     "previous": "a6c23322-f68e-11e7-8605-0242ac110002"
    },
    "run_through_control": {
     "frozen": true
    },
    "scrolled": true
   },
   "outputs": [
    {
     "name": "stdout",
     "output_type": "stream",
     "text": [
      "xyz\n",
      "└── test\n",
      "    ├── aa\n",
      "    │   └── bb\n",
      "    └── x.txt\n",
      "\n",
      "3 directories, 1 file\n",
      "total 80\n",
      "-rw-r--r-- 1 bit_kun users 68905 Jun 26 17:27 00_オンデマンドクラウド構築ハンズオン基礎編.ipynb\n",
      "-rw-r--r-- 1 bit_kun users   403 Jun 14 13:38 handson_config.py\n",
      "drwxr-xr-x 3 bit_kun users  4096 Jun 13 15:40 media\n",
      "drwxr-xr-x 2 bit_kun users  4096 Jun 14 13:50 __pycache__\n"
     ]
    }
   ],
   "source": [
    "!mkdir -p xyz/test/aa/bb && touch xyz/test/x.txt && tree xyz\n",
    "!rm -rf xyz && ls -l"
   ]
  },
  {
   "cell_type": "markdown",
   "metadata": {
    "lc_cell_meme": {
     "current": "b25d1aea-5746-11e7-8a3b-9660ba7e074f",
     "history": [],
     "next": "c9b9d514-53fa-11e8-b1e2-0242ac110002",
     "previous": "c6a688c2-63b8-11e8-ae82-0242ac110002"
    }
   },
   "source": [
    "# AWSクラウド環境でのサーバ作成\n",
    "\n",
    "オンデマンド構築サービスのVCP SDKを利用して、AWSクラウド環境にサーバを作成します。\n",
    "\n",
    "![](media/vcp-handson.png)"
   ]
  },
  {
   "cell_type": "markdown",
   "metadata": {
    "lc_cell_meme": {
     "current": "c9b9d514-53fa-11e8-b1e2-0242ac110002",
     "next": "b25d1c02-5746-11e7-8a3b-9660ba7e074f",
     "previous": "b25d1aea-5746-11e7-8a3b-9660ba7e074f"
    }
   },
   "source": [
    "## VCP SDK 初期化\n",
    "\n",
    "最初に VCP SDK を初期化します。"
   ]
  },
  {
   "cell_type": "code",
   "execution_count": 18,
   "metadata": {
    "deletable": false,
    "editable": false,
    "lc_cell_meme": {
     "current": "b25d1c02-5746-11e7-8a3b-9660ba7e074f",
     "history": [],
     "next": "a23924dc-6ec5-11e8-ae82-0242ac110002",
     "previous": "c9b9d514-53fa-11e8-b1e2-0242ac110002"
    },
    "pinned_outputs": [],
    "run_through_control": {
     "frozen": true
    }
   },
   "outputs": [
    {
     "name": "stdout",
     "output_type": "stream",
     "text": [
      "\n",
      "vcplib:\n",
      "  filename: /notebooks/notebook/vcplib/occtr.py\n",
      "  version: 18.04.1+201805010\n",
      "\n",
      "vcpsdk:\n",
      "  filename: /notebooks/notebook/vcpsdk/vcpsdk.py\n",
      "  version: 18.04.1+20180510\n",
      "\n",
      "  plugin:\n",
      "    aws: 1.0+20180331\n",
      "    azure: 1.0+20180331\n",
      "    sakura: 1.0+20180331\n",
      "    aic: 1.0+20180331\n",
      "    gcp: 1.0+20180331\n",
      "    onpremises: 1.0+20180331\n",
      "\n",
      "server:\n",
      "    host: 192.168.2.1\n",
      "    name: VCC514\n"
     ]
    }
   ],
   "source": [
    "from common import logsetting\n",
    "from vcpsdk.vcpsdk import VcpSDK\n",
    "import handson_config\n",
    "\n",
    "#\n",
    "# VCP SDK の初期化\n",
    "#\n",
    "vcc_access_token = handson_config.vcc_access_token\n",
    "\n",
    "my_vc_name = \"vcp_handson\"\n",
    "\n",
    "v = VcpSDK(vcc_access_token, my_vc_name)\n",
    "\n",
    "# VCP SDK バージョン確認\n",
    "v.version()"
   ]
  },
  {
   "cell_type": "markdown",
   "metadata": {
    "lc_cell_meme": {
     "current": "a23924dc-6ec5-11e8-ae82-0242ac110002",
     "next": "44ec76b0-2773-11e8-bf0d-0242ac110002",
     "previous": "b25d1c02-5746-11e7-8a3b-9660ba7e074f"
    }
   },
   "source": [
    "新規にサーバを作成する前に、SDKを初期化したときのVC状態を確認します。  \n",
    "ここで出力される `vcid` は実行環境によって異なります。"
   ]
  },
  {
   "cell_type": "code",
   "execution_count": 19,
   "metadata": {
    "deletable": false,
    "editable": false,
    "lc_cell_meme": {
     "current": "44ec76b0-2773-11e8-bf0d-0242ac110002",
     "history": [],
     "next": "c8e6223c-5d8c-11e8-b97a-0242ac110003",
     "previous": "a23924dc-6ec5-11e8-ae82-0242ac110002"
    },
    "pinned_outputs": [],
    "run_through_control": {
     "frozen": true
    },
    "scrolled": false
   },
   "outputs": [
    {
     "name": "stdout",
     "output_type": "stream",
     "text": [
      "vc_name: vcp_handson\n",
      "\n",
      "[Vc]\n",
      "+ name[vcp_handson] vcno(16) state[RUNNING] vcid[8016bd91a026435aa8e0fcd64726d3de]\n",
      "\n",
      "\n",
      "\n"
     ]
    }
   ],
   "source": [
    "print(v)"
   ]
  },
  {
   "cell_type": "markdown",
   "metadata": {
    "lc_cell_meme": {
     "current": "c8e6223c-5d8c-11e8-b97a-0242ac110003",
     "history": [],
     "next": "106d8078-5d8d-11e8-b97a-0242ac110003",
     "previous": "44ec76b0-2773-11e8-bf0d-0242ac110002"
    }
   },
   "source": [
    "## 現在起動しているサーバ（が無いこと）を確認\n",
    "\n",
    "VC `my_vc_name` の上で実行中のサーバを確認します。\n",
    "まだサーバが1個も無い状態が確認できます。"
   ]
  },
  {
   "cell_type": "code",
   "execution_count": 20,
   "metadata": {
    "deletable": false,
    "editable": false,
    "lc_cell_meme": {
     "current": "106d8078-5d8d-11e8-b97a-0242ac110003",
     "next": "c9b9d622-53fa-11e8-b1e2-0242ac110002",
     "previous": "c8e6223c-5d8c-11e8-b97a-0242ac110003"
    },
    "run_through_control": {
     "frozen": true
    }
   },
   "outputs": [
    {
     "data": {
      "text/html": [
       "<div>\n",
       "<style>\n",
       "    .dataframe thead tr:only-child th {\n",
       "        text-align: right;\n",
       "    }\n",
       "\n",
       "    .dataframe thead th {\n",
       "        text-align: left;\n",
       "    }\n",
       "\n",
       "    .dataframe tbody tr th {\n",
       "        vertical-align: top;\n",
       "    }\n",
       "</style>\n",
       "<table border=\"1\" class=\"dataframe\">\n",
       "  <thead>\n",
       "    <tr style=\"text-align: right;\">\n",
       "      <th></th>\n",
       "      <th>vcno</th>\n",
       "      <th>vcname</th>\n",
       "      <th>vc_state</th>\n",
       "      <th>vcid</th>\n",
       "      <th>cdate</th>\n",
       "      <th>unit_name</th>\n",
       "      <th>unit_state</th>\n",
       "    </tr>\n",
       "  </thead>\n",
       "  <tbody>\n",
       "  </tbody>\n",
       "</table>\n",
       "</div>"
      ],
      "text/plain": [
       "Empty DataFrame\n",
       "Columns: [vcno, vcname, vc_state, vcid, cdate, unit_name, unit_state]\n",
       "Index: []"
      ]
     },
     "execution_count": 20,
     "metadata": {},
     "output_type": "execute_result"
    }
   ],
   "source": [
    "v._vc.units_df()"
   ]
  },
  {
   "cell_type": "markdown",
   "metadata": {
    "heading_collapsed": true,
    "lc_cell_meme": {
     "current": "c9b9d622-53fa-11e8-b1e2-0242ac110002",
     "history": [],
     "next": "241ea398-63ca-11e8-ae82-0242ac110002",
     "previous": "106d8078-5d8d-11e8-b97a-0242ac110003"
    }
   },
   "source": [
    "## SSH キーペアの準備\n",
    "\n",
    "これから起動するサーバにSSHで接続するための準備を行います。  \n",
    "パスフレーズ無しのSSH鍵ペアを作成し、公開鍵認証でSSHログインできるようにします。"
   ]
  },
  {
   "cell_type": "code",
   "execution_count": 21,
   "metadata": {
    "deletable": false,
    "editable": false,
    "hidden": true,
    "lc_cell_meme": {
     "current": "241ea398-63ca-11e8-ae82-0242ac110002",
     "next": "7ebf7d94-534a-11e8-b1e2-0242ac110002",
     "previous": "c9b9d622-53fa-11e8-b1e2-0242ac110002"
    },
    "run_through_control": {
     "frozen": true
    },
    "scrolled": true
   },
   "outputs": [
    {
     "name": "stdout",
     "output_type": "stream",
     "text": [
      "Generating public/private rsa key pair.\n",
      "Your identification has been saved in id_rsa.\n",
      "Your public key has been saved in id_rsa.pub.\n",
      "The key fingerprint is:\n",
      "d7:f1:b1:e2:c3:4b:4c:f7:ab:3c:39:59:f8:84:97:75 bit_kun@57d8d7164fc4\n",
      "The key's randomart image is:\n",
      "+---[RSA 2048]----+\n",
      "|                 |\n",
      "|                 |\n",
      "|            . .  |\n",
      "|           . o oE|\n",
      "|        S . + * +|\n",
      "|         . = = * |\n",
      "|            * B .|\n",
      "|           ..B ..|\n",
      "|            .o+. |\n",
      "+-----------------+\n"
     ]
    }
   ],
   "source": [
    "!ssh-keygen -f id_rsa -N \"\""
   ]
  },
  {
   "cell_type": "code",
   "execution_count": 22,
   "metadata": {
    "deletable": false,
    "editable": false,
    "hidden": true,
    "lc_cell_meme": {
     "current": "7ebf7d94-534a-11e8-b1e2-0242ac110002",
     "history": [],
     "next": "8d87c864-53f8-11e8-b1e2-0242ac110002",
     "previous": "241ea398-63ca-11e8-ae82-0242ac110002"
    },
    "run_through_control": {
     "frozen": true
    }
   },
   "outputs": [],
   "source": [
    "# SSH公開鍵 `./id_rsa.pub` の内容を1行のBase64形式になるようにエンコードする。\n",
    "base64_pubkey_tmp = !openssl base64 -e -A < ./id_rsa.pub\n",
    "base64_pubkey = base64_pubkey_tmp[0]"
   ]
  },
  {
   "cell_type": "code",
   "execution_count": 23,
   "metadata": {
    "deletable": false,
    "editable": false,
    "hidden": true,
    "lc_cell_meme": {
     "current": "8d87c864-53f8-11e8-b1e2-0242ac110002",
     "next": "b25d2062-5746-11e7-8a3b-9660ba7e074f",
     "previous": "7ebf7d94-534a-11e8-b1e2-0242ac110002"
    },
    "run_through_control": {
     "frozen": true
    }
   },
   "outputs": [
    {
     "data": {
      "text/plain": [
       "'c3NoLXJzYSBBQUFBQjNOemFDMXljMkVBQUFBREFRQUJBQUFCQVFESk9qMk9VdDdNTDMzU0FFYnhpSDlFQWlwcWhtelN0TDdIekR1R0loUHUwSnorRFc2VGZnMXArbCtKU25jQkZHd2dHbldMRW50SXRMWUhTaDlIUERKOENIdzRNcCttYWJXZHlnUmlteHkvaW80aXJqbzFLNkdHSkFUb3F3MXZ3UnZuZzVQcVczaTZKbnpGSm11ZkN3T0ZseGRIZ1pRaHpqUng5eERGTlJUZU1GQ3Q0MFZncnFmNWp4MlNTZDFJVlJsSEc3K0xSM1h2ZU5Qc21OMTJaeUFreWZXMU12R1JLNGF3aGZSc25IUG1ZaTA2dVF6Vmdxa25kL0NLRHNhcnQrYU1pVU8wL0ZtRjdnbk9HK29jQ016QmJQV25QSWVNVG5UQU5qUXlpYWY4VjhWeHpkZXBkdHJvMDdTSTh4Z0JKOGQwaGhPQis1a1QzNEg3RmtHbStsR0wgYml0X2t1bkA1N2Q4ZDcxNjRmYzQK'"
      ]
     },
     "execution_count": 23,
     "metadata": {},
     "output_type": "execute_result"
    }
   ],
   "source": [
    "base64_pubkey"
   ]
  },
  {
   "cell_type": "markdown",
   "metadata": {
    "lc_cell_meme": {
     "current": "b25d2062-5746-11e7-8a3b-9660ba7e074f",
     "history": [],
     "next": "1aae61a8-6eca-11e8-ae82-0242ac110002",
     "previous": "8d87c864-53f8-11e8-b1e2-0242ac110002"
    }
   },
   "source": [
    "## 新規サーバを作成\n",
    "\n",
    "サーバの Spec 情報を指定し、 `VcpUnitClass#create` API を呼び出すことでサーバを起動することができます。"
   ]
  },
  {
   "cell_type": "markdown",
   "metadata": {
    "lc_cell_meme": {
     "current": "1aae61a8-6eca-11e8-ae82-0242ac110002",
     "next": "f9ed00be-5746-11e7-8a3b-9660ba7e074f",
     "previous": "b25d2062-5746-11e7-8a3b-9660ba7e074f"
    }
   },
   "source": [
    "### 必須のパラメータ設定\n",
    "サーバの Spec 情報として、クラウドプロバイダに応じてインスタンスタイプなどが設定済みの Flavor を指定します。"
   ]
  },
  {
   "cell_type": "code",
   "execution_count": 24,
   "metadata": {
    "deletable": false,
    "editable": false,
    "lc_cell_meme": {
     "current": "f9ed00be-5746-11e7-8a3b-9660ba7e074f",
     "history": [],
     "next": "1aae62b6-6eca-11e8-ae82-0242ac110002",
     "previous": "1aae61a8-6eca-11e8-ae82-0242ac110002"
    },
    "pinned_outputs": [],
    "run_through_control": {
     "frozen": true
    }
   },
   "outputs": [],
   "source": [
    "# AWS の small タイプの Flavor を指定\n",
    "spec = v.spec.find_spec(\"aws\", \"small\")\n",
    "\n",
    "# サーバへ公開鍵認証で接続するために、作成済みの鍵情報を指定\n",
    "spec.params_e = ['AUTHORIZED_KEYS='+base64_pubkey]"
   ]
  },
  {
   "cell_type": "markdown",
   "metadata": {
    "lc_cell_meme": {
     "current": "1aae62b6-6eca-11e8-ae82-0242ac110002",
     "next": "d326c834-6ec9-11e8-ae82-0242ac110002",
     "previous": "f9ed00be-5746-11e7-8a3b-9660ba7e074f"
    }
   },
   "source": [
    "### オプションのパラメータ設定\n",
    "以下の各Spec情報については、オプションとして指定することができます。"
   ]
  },
  {
   "cell_type": "code",
   "execution_count": 25,
   "metadata": {
    "deletable": false,
    "editable": false,
    "lc_cell_meme": {
     "current": "d326c834-6ec9-11e8-ae82-0242ac110002",
     "history": [],
     "next": "1aae62b6-6eca-11e8-ae82-0242ac110002",
     "previous": "1aae62b6-6eca-11e8-ae82-0242ac110002"
    },
    "run_through_control": {
     "frozen": true
    }
   },
   "outputs": [],
   "source": [
    "# 同じSpecのサーバを複数起動する場合の個数 (デフォルト値: 1)\n",
    "# spec.num_nodes = 1\n",
    "\n",
    "# クラウドのインスタンスタイプ名\n",
    "# spec.instance_type = 't2.medium'\n",
    "\n",
    "# クラウドのインスタンスの Volume マウント指定 (`docker run -v` オプションに対応)\n",
    "# spec.params_v = ['/var/lib/docker', '/mnt:/opt']\n",
    "\n",
    "# クラウドのインスタンスに割り当てるルートディスクサイズ (単位: GB)\n",
    "# spec.volume_size = 8\n",
    "\n",
    "# クラウドのインスタンスに割り当てるボリュームタイプ (AWSの選択肢: standard|io1|gp2|sc1|st1)\n",
    "# spec.volume_type = \"standard\"\n",
    "\n",
    "# サーバの固定IPアドレス (プライベートIPアドレス)\n",
    "# spec.ip_address_list = ['10.0.0.123']\n",
    "\n",
    "# サーバに使用するコンテナイメージ名 (Baseコンテナ)\n",
    "# spec.image = 'vcp/base:1.2'   # Baseコンテナイメージ名 \n",
    "\n",
    "# サーバにアタッチする拡張ディスク (EBSボリュームID)\n",
    "# spec.volume_id = ['vol-08cbb04b35c8c9545']\n",
    "\n",
    "# クラウドのインスタンスに設定するタグ情報\n",
    "# spec.set_tag('key1', 'value1')\n",
    "# spec.set_tag('key2', 'value2')"
   ]
  },
  {
   "cell_type": "markdown",
   "metadata": {
    "lc_cell_meme": {
     "current": "1aae62b6-6eca-11e8-ae82-0242ac110002",
     "history": [],
     "next": "d326c960-6ec9-11e8-ae82-0242ac110002",
     "previous": "d326c834-6ec9-11e8-ae82-0242ac110002"
    }
   },
   "source": [
    "### 起動\n",
    "作成したSpec情報を指定して、 `VcpUnitClass#create` API を呼び出すことでサーバを起動します。"
   ]
  },
  {
   "cell_type": "code",
   "execution_count": 26,
   "metadata": {
    "deletable": false,
    "editable": false,
    "lc_cell_meme": {
     "current": "d326c960-6ec9-11e8-ae82-0242ac110002",
     "history": [],
     "next": "055c14b6-57a2-11e7-8a3b-9660ba7e074f",
     "previous": "1aae62b6-6eca-11e8-ae82-0242ac110002"
    },
    "run_through_control": {
     "frozen": true
    },
    "scrolled": true
   },
   "outputs": [
    {
     "name": "stdout",
     "output_type": "stream",
     "text": [
      "2018-06-26 22:40:52,836 - INFO - BOOTING ... 0 sec\n",
      "2018-06-26 22:40:58,118 - INFO - BOOTING ... 5 sec\n",
      "2018-06-26 22:41:03,398 - INFO - BOOTING ... 10 sec\n",
      "2018-06-26 22:41:08,680 - INFO - BOOTING ... 15 sec\n",
      "2018-06-26 22:41:13,965 - INFO - BOOTING ... 20 sec\n",
      "2018-06-26 22:41:19,249 - INFO - BOOTING ... 25 sec\n",
      "2018-06-26 22:41:24,531 - INFO - BOOTING ... 30 sec\n",
      "2018-06-26 22:41:29,818 - INFO - BOOTING ... 35 sec\n",
      "2018-06-26 22:41:35,096 - INFO - BOOTING ... 40 sec\n",
      "2018-06-26 22:41:40,386 - INFO - BOOTING ... 45 sec\n",
      "2018-06-26 22:41:45,723 - INFO - BOOTING ... 50 sec\n",
      "2018-06-26 22:41:51,000 - INFO - BOOTING ... 55 sec\n",
      "2018-06-26 22:41:56,306 - INFO - BOOTING ... 60 sec\n",
      "2018-06-26 22:42:01,595 - INFO - BOOTING ... 65 sec\n",
      "2018-06-26 22:42:06,876 - INFO - BOOTING ... 70 sec\n",
      "2018-06-26 22:42:12,174 - INFO - unit new_server is RUNNING\n"
     ]
    }
   ],
   "source": [
    "unit_name = 'new_server'\n",
    "nodes = v.unit.create(unit_name, spec, wait_for=True, verbose=0)"
   ]
  },
  {
   "cell_type": "markdown",
   "metadata": {
    "lc_cell_meme": {
     "current": "055c14b6-57a2-11e7-8a3b-9660ba7e074f",
     "history": [],
     "next": "acd29f86-5747-11e7-8a3b-9660ba7e074f",
     "previous": "d326c960-6ec9-11e8-ae82-0242ac110002"
    }
   },
   "source": [
    "## 起動したサーバ情報を確認\n",
    "\n",
    "サーバの起動状態、IPアドレス、クラウドインスタンスIDなどを確認します。"
   ]
  },
  {
   "cell_type": "code",
   "execution_count": 27,
   "metadata": {
    "deletable": false,
    "editable": false,
    "lc_cell_meme": {
     "current": "acd29f86-5747-11e7-8a3b-9660ba7e074f",
     "history": [],
     "next": "ae5ea72e-309e-11e8-bf0d-0242ac110002",
     "previous": "055c14b6-57a2-11e7-8a3b-9660ba7e074f"
    },
    "pinned_outputs": [],
    "run_through_control": {
     "frozen": true
    }
   },
   "outputs": [
    {
     "name": "stdout",
     "output_type": "stream",
     "text": [
      "[VcNode]\n",
      "+ no(1) state[RUNNING] id[9bff0d9743204ad9820fd7a57a768168] cloud_instance_address[172.30.2.111] cloud_instance_id[i-0707b6340c5b92b7a]\n",
      "\n"
     ]
    }
   ],
   "source": [
    "for node in nodes:\n",
    "    print(node)\n",
    "    for vol in node.volumes:\n",
    "        print(vol)"
   ]
  },
  {
   "cell_type": "code",
   "execution_count": 28,
   "metadata": {
    "deletable": false,
    "editable": false,
    "lc_cell_meme": {
     "current": "ae5ea72e-309e-11e8-bf0d-0242ac110002",
     "next": "57d924a6-1df7-11e8-bf0d-0242ac110002",
     "previous": "acd29f86-5747-11e7-8a3b-9660ba7e074f"
    },
    "run_through_control": {
     "frozen": true
    }
   },
   "outputs": [
    {
     "name": "stdout",
     "output_type": "stream",
     "text": [
      "RUNNING\n",
      "172.30.2.111\n"
     ]
    }
   ],
   "source": [
    "for node in v.unit.find_node(unit_name=\"new_server\"):\n",
    "    print(node.state)\n",
    "    print(node.cloud_instance_address)"
   ]
  },
  {
   "cell_type": "code",
   "execution_count": 29,
   "metadata": {
    "deletable": false,
    "editable": false,
    "lc_cell_meme": {
     "current": "57d924a6-1df7-11e8-bf0d-0242ac110002",
     "history": [],
     "next": "57d924a6-1df7-11e8-bf0d-0242ac110002",
     "previous": "ae5ea72e-309e-11e8-bf0d-0242ac110002"
    },
    "pinned_outputs": [],
    "run_through_control": {
     "frozen": true
    },
    "scrolled": true
   },
   "outputs": [
    {
     "data": {
      "text/html": [
       "<div>\n",
       "<style>\n",
       "    .dataframe thead tr:only-child th {\n",
       "        text-align: right;\n",
       "    }\n",
       "\n",
       "    .dataframe thead th {\n",
       "        text-align: left;\n",
       "    }\n",
       "\n",
       "    .dataframe tbody tr th {\n",
       "        vertical-align: top;\n",
       "    }\n",
       "</style>\n",
       "<table border=\"1\" class=\"dataframe\">\n",
       "  <thead>\n",
       "    <tr style=\"text-align: right;\">\n",
       "      <th></th>\n",
       "      <th>vcno</th>\n",
       "      <th>vcname</th>\n",
       "      <th>vc_state</th>\n",
       "      <th>vcid</th>\n",
       "      <th>cdate</th>\n",
       "      <th>unit_name</th>\n",
       "      <th>unit_state</th>\n",
       "    </tr>\n",
       "  </thead>\n",
       "  <tbody>\n",
       "    <tr>\n",
       "      <th>0</th>\n",
       "      <td>16</td>\n",
       "      <td>vcp_handson</td>\n",
       "      <td>RUNNING</td>\n",
       "      <td>8016bd91...</td>\n",
       "      <td>2018/06/26 13:39:08 UTC</td>\n",
       "      <td>new_server</td>\n",
       "      <td>RUNNING</td>\n",
       "    </tr>\n",
       "  </tbody>\n",
       "</table>\n",
       "</div>"
      ],
      "text/plain": [
       "   vcno       vcname vc_state         vcid                    cdate  \\\n",
       "0    16  vcp_handson  RUNNING  8016bd91...  2018/06/26 13:39:08 UTC   \n",
       "\n",
       "    unit_name unit_state  \n",
       "0  new_server    RUNNING  "
      ]
     },
     "execution_count": 29,
     "metadata": {},
     "output_type": "execute_result"
    }
   ],
   "source": [
    "# VC に含まれる Unit 情報\n",
    "v._vc.units_df()"
   ]
  },
  {
   "cell_type": "code",
   "execution_count": 30,
   "metadata": {
    "deletable": false,
    "editable": false,
    "lc_cell_meme": {
     "current": "57d924a6-1df7-11e8-bf0d-0242ac110002",
     "history": [],
     "next": "724a5c80-53fb-11e8-b1e2-0242ac110002",
     "previous": "57d924a6-1df7-11e8-bf0d-0242ac110002"
    },
    "pinned_outputs": [],
    "run_through_control": {
     "frozen": true
    },
    "scrolled": false
   },
   "outputs": [
    {
     "data": {
      "text/html": [
       "<div>\n",
       "<style>\n",
       "    .dataframe thead tr:only-child th {\n",
       "        text-align: right;\n",
       "    }\n",
       "\n",
       "    .dataframe thead th {\n",
       "        text-align: left;\n",
       "    }\n",
       "\n",
       "    .dataframe tbody tr th {\n",
       "        vertical-align: top;\n",
       "    }\n",
       "</style>\n",
       "<table border=\"1\" class=\"dataframe\">\n",
       "  <thead>\n",
       "    <tr style=\"text-align: right;\">\n",
       "      <th></th>\n",
       "      <th>vcno</th>\n",
       "      <th>vc_name</th>\n",
       "      <th>unit_name</th>\n",
       "      <th>unit_state</th>\n",
       "      <th>node_no</th>\n",
       "      <th>node_id</th>\n",
       "      <th>node_state</th>\n",
       "      <th>cloud_instance_address</th>\n",
       "      <th>cloud_instance_id</th>\n",
       "      <th>cloud_instance_name</th>\n",
       "      <th>volumes</th>\n",
       "    </tr>\n",
       "  </thead>\n",
       "  <tbody>\n",
       "    <tr>\n",
       "      <th>0</th>\n",
       "      <td>16</td>\n",
       "      <td>vcp_handson</td>\n",
       "      <td>new_server</td>\n",
       "      <td>RUNNING</td>\n",
       "      <td>1</td>\n",
       "      <td>9bff0d97...</td>\n",
       "      <td>RUNNING</td>\n",
       "      <td>172.30.2.111</td>\n",
       "      <td>i-0707b6340c5b92b7a</td>\n",
       "      <td>VCP-38f612b6-8016bd91</td>\n",
       "      <td>none</td>\n",
       "    </tr>\n",
       "  </tbody>\n",
       "</table>\n",
       "</div>"
      ],
      "text/plain": [
       "   vcno      vc_name   unit_name unit_state  node_no      node_id node_state  \\\n",
       "0    16  vcp_handson  new_server    RUNNING        1  9bff0d97...    RUNNING   \n",
       "\n",
       "  cloud_instance_address    cloud_instance_id    cloud_instance_name volumes  \n",
       "0           172.30.2.111  i-0707b6340c5b92b7a  VCP-38f612b6-8016bd91    none  "
      ]
     },
     "execution_count": 30,
     "metadata": {},
     "output_type": "execute_result"
    }
   ],
   "source": [
    "# Unit に含まれる Node 情報\n",
    "v._vc.units[0].nodes_df()"
   ]
  },
  {
   "cell_type": "markdown",
   "metadata": {
    "lc_cell_meme": {
     "current": "724a5c80-53fb-11e8-b1e2-0242ac110002",
     "history": [],
     "next": "5407998a-6e0a-11e8-ae82-0242ac110002",
     "previous": "57d924a6-1df7-11e8-bf0d-0242ac110002"
    }
   },
   "source": [
    "## 起動したサーバにSSHリモートコマンド実行\n",
    "\n",
    "起動したサーバで、Applicationコンテナを1個起動します。  \n",
    "今回は、stress コマンドを含むコンテナ・イメージを利用してサーバに負荷をかけてみることにします。"
   ]
  },
  {
   "cell_type": "markdown",
   "metadata": {
    "lc_cell_meme": {
     "current": "5407998a-6e0a-11e8-ae82-0242ac110002",
     "history": [],
     "next": "000a0c7a-7452-11e8-ae82-0242ac110002",
     "previous": "724a5c80-53fb-11e8-b1e2-0242ac110002"
    }
   },
   "source": [
    "![](media/vcp-handson2.png)"
   ]
  },
  {
   "cell_type": "markdown",
   "metadata": {
    "lc_cell_meme": {
     "current": "000a0c7a-7452-11e8-ae82-0242ac110002",
     "next": "948522d6-534b-11e8-b1e2-0242ac110002",
     "previous": "5407998a-6e0a-11e8-ae82-0242ac110002"
    }
   },
   "source": [
    "まず最初に、公開鍵認証によるSSH接続でリモートコマンド実行ができることを確認します。"
   ]
  },
  {
   "cell_type": "code",
   "execution_count": 31,
   "metadata": {
    "deletable": false,
    "editable": false,
    "lc_cell_meme": {
     "current": "948522d6-534b-11e8-b1e2-0242ac110002",
     "history": [],
     "next": "361a9e14-63eb-11e8-ae82-0242ac110002",
     "previous": "000a0c7a-7452-11e8-ae82-0242ac110002"
    },
    "run_through_control": {
     "frozen": true
    },
    "scrolled": true
   },
   "outputs": [
    {
     "name": "stdout",
     "output_type": "stream",
     "text": [
      "Warning: Permanently added '172.30.2.111' (ECDSA) to the list of known hosts.\n",
      "ip-172-30-2-111\n"
     ]
    }
   ],
   "source": [
    "# SSHで `hostname` コマンドを実行\n",
    "server = v.unit.find_node(unit_name=\"new_server\")[0].cloud_instance_address\n",
    "!ssh -i ./id_rsa -o StrictHostKeyChecking=no root@$server hostname"
   ]
  },
  {
   "cell_type": "markdown",
   "metadata": {
    "lc_cell_meme": {
     "current": "361a9e14-63eb-11e8-ae82-0242ac110002",
     "history": [],
     "next": "dd6b8578-63cf-11e8-ae82-0242ac110002",
     "previous": "948522d6-534b-11e8-b1e2-0242ac110002"
    }
   },
   "source": [
    "SSH接続が可能なことを確認できたら、stress コマンドを含むコンテナ・イメージを起動します。  \n",
    "以下の例では、60秒間だけ CPU x 2 とメモリ 128 MB を消費します。"
   ]
  },
  {
   "cell_type": "code",
   "execution_count": 32,
   "metadata": {
    "deletable": false,
    "editable": false,
    "lc_cell_meme": {
     "current": "dd6b8578-63cf-11e8-ae82-0242ac110002",
     "history": [],
     "next": "d959bb04-5cbc-11e8-b257-0242ac110002",
     "previous": "361a9e14-63eb-11e8-ae82-0242ac110002"
    },
    "pinned_outputs": [],
    "run_through_control": {
     "frozen": true
    },
    "scrolled": true
   },
   "outputs": [
    {
     "name": "stdout",
     "output_type": "stream",
     "text": [
      "Unable to find image 'polinux/stress:latest' locally\n",
      "latest: Pulling from polinux/stress\n",
      "627beaf3eaaf: Pulling fs layer\n",
      "4de9f469a6f4: Pulling fs layer\n",
      "627beaf3eaaf: Verifying Checksum\n",
      "627beaf3eaaf: Download complete\n",
      "4de9f469a6f4: Verifying Checksum\n",
      "4de9f469a6f4: Download complete\n",
      "627beaf3eaaf: Pull complete\n",
      "4de9f469a6f4: Pull complete\n",
      "Digest: sha256:6d1825288ddb6b3cec8d3ac8a488c8ec2449334512ecb938483fc2b25cbbdb9a\n",
      "Status: Downloaded newer image for polinux/stress:latest\n",
      "stress: dbug: [7] touching bytes in strides of 4096 bytes ...\n",
      "stress: dbug: [9] freed 134217728 bytes\n",
      "stress: dbug: [9] allocating 134217728 bytes ...\n",
      "stress: dbug: [9] touching bytes in strides of 4096 bytes ...\n",
      "stress: dbug: [1] <-- worker 5 signalled normally\n",
      "stress: dbug: [1] <-- worker 8 signalled normally\n",
      "stress: dbug: [1] <-- worker 9 signalled normally\n",
      "stress: dbug: [1] <-- worker 7 signalled normally\n",
      "stress: dbug: [1] <-- worker 6 signalled normally\n",
      "stress: info: [1] successful run completed in 60s\n"
     ]
    }
   ],
   "source": [
    "# SSHで `docker run` コマンドを実行し、stress コンテナを起動\n",
    "stress_cmd = '''\\\n",
    "/usr/local/bin/docker run --rm --name stress polinux/stress \\\n",
    "  stress --cpu 2 --io 1 --vm 2 --vm-bytes 128M --timeout 60s --verbose \\\n",
    "  | tail -n10\n",
    "'''\n",
    "!ssh -i ./id_rsa -o StrictHostKeyChecking=no root@$server $stress_cmd"
   ]
  },
  {
   "cell_type": "markdown",
   "metadata": {
    "lc_cell_meme": {
     "current": "d959bb04-5cbc-11e8-b257-0242ac110002",
     "history": [],
     "next": "2c28e2e0-63d6-11e8-ae82-0242ac110002",
     "previous": "dd6b8578-63cf-11e8-ae82-0242ac110002"
    }
   },
   "source": [
    "# Grafanaダッシュボードで負荷状況を見る\n",
    "\n",
    "\n",
    "## Grafanaへのログイン\n",
    "\n",
    "ユーザ名とパスワードは両方とも `admin` です。  \n",
    "⇒[**ログイン**](/grafana/d/handson/vcp-metrics?refresh=30s&orgId=1)\n",
    "\n",
    "![](media/grafana-login.png)\n",
    "\n",
    "## 負荷状況のグラフ表示\n",
    "\n",
    "以下のように表示されます。\n",
    "\n",
    "![](media/grafana-metrics.png)"
   ]
  },
  {
   "cell_type": "markdown",
   "metadata": {
    "lc_cell_meme": {
     "current": "2c28e2e0-63d6-11e8-ae82-0242ac110002",
     "history": [],
     "next": "99a60ad8-6948-11e8-ae82-0242ac110002",
     "previous": "d959bb04-5cbc-11e8-b257-0242ac110002"
    }
   },
   "source": [
    "# 使い終わったサーバの削除\n",
    "\n",
    "VCP SDK の cleanup API を呼び出します。この結果、上記手順で起動した全サーバが削除されます。"
   ]
  },
  {
   "cell_type": "code",
   "execution_count": 33,
   "metadata": {
    "deletable": false,
    "editable": false,
    "lc_cell_meme": {
     "current": "99a60ad8-6948-11e8-ae82-0242ac110002",
     "next": "2c28e3ee-63d6-11e8-ae82-0242ac110002",
     "previous": "2c28e2e0-63d6-11e8-ae82-0242ac110002"
    },
    "run_through_control": {
     "frozen": true
    }
   },
   "outputs": [
    {
     "name": "stdout",
     "output_type": "stream",
     "text": [
      "vc_name: vcp_handson\n",
      "\n",
      "[Vc]\n",
      "+ name[vcp_handson] vcno(16) state[RUNNING] vcid[8016bd91a026435aa8e0fcd64726d3de]\n",
      "\n",
      "\n",
      "\n"
     ]
    }
   ],
   "source": [
    "print(v)"
   ]
  },
  {
   "cell_type": "code",
   "execution_count": 34,
   "metadata": {
    "deletable": false,
    "editable": false,
    "lc_cell_meme": {
     "current": "2c28e3ee-63d6-11e8-ae82-0242ac110002",
     "history": [],
     "next": "2c28e470-63d6-11e8-ae82-0242ac110002",
     "previous": "99a60ad8-6948-11e8-ae82-0242ac110002"
    },
    "run_through_control": {
     "frozen": true
    },
    "scrolled": false
   },
   "outputs": [
    {
     "name": "stdout",
     "output_type": "stream",
     "text": [
      "2018-06-26 22:43:59,973 - INFO - new_server is DELETING ... 0 sec\n",
      "2018-06-26 22:44:05,299 - INFO - new_server is DELETING ... 5 sec\n",
      "2018-06-26 22:44:10,619 - INFO - new_server is DELETING ... 10 sec\n",
      "2018-06-26 22:44:15,945 - INFO - new_server is DELETING ... 15 sec\n",
      "2018-06-26 22:44:21,264 - INFO - new_server is DELETING ... 20 sec\n",
      "2018-06-26 22:44:26,585 - INFO - new_server is DELETING ... 25 sec\n",
      "2018-06-26 22:44:31,900 - INFO - new_server is DELETING ... 30 sec\n",
      "2018-06-26 22:44:37,215 - INFO - new_server is DELETING ... 35 sec\n",
      "2018-06-26 22:44:42,532 - INFO - new_server is DELETING ... 40 sec\n",
      "2018-06-26 22:44:47,856 - INFO - new_server is DELETING ... 45 sec\n",
      "2018-06-26 22:44:53,026 - INFO - cleanup completed. vc vcp_handson is cleanup(no unit)\n"
     ]
    }
   ],
   "source": [
    "v.cleanup()"
   ]
  },
  {
   "cell_type": "markdown",
   "metadata": {
    "lc_cell_meme": {
     "current": "2c28e470-63d6-11e8-ae82-0242ac110002",
     "history": [],
     "next": "5bbbe156-63d6-11e8-ae82-0242ac110002",
     "previous": "2c28e3ee-63d6-11e8-ae82-0242ac110002"
    }
   },
   "source": [
    "正しく削除されたことを確認します。１つもサーバ情報が出力されなければ削除が成功しています。"
   ]
  },
  {
   "cell_type": "code",
   "execution_count": 35,
   "metadata": {
    "deletable": false,
    "editable": false,
    "lc_cell_meme": {
     "current": "5bbbe156-63d6-11e8-ae82-0242ac110002",
     "next": "bee18702-d891-11e7-8605-0242ac110002",
     "previous": "2c28e470-63d6-11e8-ae82-0242ac110002"
    },
    "run_through_control": {
     "frozen": true
    },
    "scrolled": true
   },
   "outputs": [
    {
     "name": "stdout",
     "output_type": "stream",
     "text": [
      "vc_name: vcp_handson\n",
      "\n",
      "no unit\n",
      "\n"
     ]
    }
   ],
   "source": [
    "print(v)"
   ]
  },
  {
   "cell_type": "markdown",
   "metadata": {
    "collapsed": true,
    "lc_cell_meme": {
     "current": "bee18702-d891-11e7-8605-0242ac110002",
     "history": [],
     "next": "ee29da62-63d0-11e8-ae82-0242ac110002",
     "previous": "5bbbe156-63d6-11e8-ae82-0242ac110002"
    }
   },
   "source": [
    "# （参考資料）\n",
    "## クラウド環境構築テンプレート - Jupyter Notebook によるノウハウ共有\n",
    "\n",
    "[オープンフォーラム2017：【クラウドトラック】](http://www.nii.ac.jp/csi/openforum2017/track/day2_4.html)\n",
    "\n",
    "「クラウド環境構築テンプレート Jupyter Notebook によるノウハウ共有」\n",
    " * http://www.nii.ac.jp/csi/openforum2017/track/pdf/20170608PM_C_02_masatani.pdf"
   ]
  },
  {
   "cell_type": "code",
   "execution_count": null,
   "metadata": {
    "lc_cell_meme": {
     "current": "ee29da62-63d0-11e8-ae82-0242ac110002",
     "next": null,
     "previous": "bee18702-d891-11e7-8605-0242ac110002"
    }
   },
   "outputs": [],
   "source": []
  }
 ],
 "metadata": {
  "kernelspec": {
   "display_name": "Python 3",
   "language": "python",
   "name": "python3"
  },
  "language_info": {
   "codemirror_mode": {
    "name": "ipython",
    "version": 3
   },
   "file_extension": ".py",
   "mimetype": "text/x-python",
   "name": "python",
   "nbconvert_exporter": "python",
   "pygments_lexer": "ipython3",
   "version": "3.5.2"
  },
  "lc_notebook_meme": {
   "current": "bee17d52-d891-11e7-8605-0242ac110002",
   "lc_server_signature": {
    "current": {
     "notebook_dir": "/notebooks/notebook",
     "notebook_path": "/handson/101",
     "server_url": "/handson/",
     "signature_id": "b365c89a-59a9-11e8-8f0e-0242ac110002"
    },
    "history": []
   }
  },
  "toc": {
   "nav_menu": {},
   "number_sections": true,
   "sideBar": true,
   "skip_h1_title": false,
   "toc_cell": false,
   "toc_position": {
    "height": "963px",
    "left": "0px",
    "right": "1662px",
    "top": "111px",
    "width": "258px"
   },
   "toc_section_display": "block",
   "toc_window_display": false
  }
 },
 "nbformat": 4,
 "nbformat_minor": 2
}
