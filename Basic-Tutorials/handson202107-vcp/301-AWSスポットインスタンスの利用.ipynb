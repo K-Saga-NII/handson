{
 "cells": [
  {
   "cell_type": "markdown",
   "metadata": {
    "lc_cell_meme": {
     "current": "f73ecb8e-dd4a-11eb-b33a-02420a01000d-1-eb3e",
     "next": "f73eccec-dd4a-11eb-b33a-02420a01000d-1-389e",
     "previous": null
    }
   },
   "source": [
    "Amazon EC2 スポットインスタンスを利用してVCノードを起動します。\n",
    "\n",
    "**スポットインスタンスとは？**\n",
    "- 通常のオンデマンドインスタンスと比較して低コスト\n",
    "  * AWSの余剰リソースが使われ、最大90%割引\n",
    "- 変動する価格に対して入札方式によりインスタンス利用料金が決まる\n",
    "  * スポット価格 <= 入札価格 ... 指定したインスタンスが起動\n",
    "  * 入札価格 < スポット価格  ... インスタンスが終了される\n",
    "\n",
    "**本Notebookは、[101-VCノードの起動、削除](./101-VCノードの起動、削除.ipynb) にスポットインスタンス向けの設定内容を追記したものです。**\n",
    "- スポットインスタンス向けの設定箇所は、セクションのタイトル末尾に★マークを付けています。\n",
    "  * 2.5.1 flavor★\n",
    "  * 2.5.2 specオブジェクトを作成する★\n",
    "  * 2.5.3 AWSスポットインスタンス専用のspec設定★"
   ]
  },
  {
   "cell_type": "markdown",
   "metadata": {
    "lc_cell_meme": {
     "current": "f73eccec-dd4a-11eb-b33a-02420a01000d-1-389e",
     "next": "f73ecdfa-dd4a-11eb-b33a-02420a01000d-1-5c7e",
     "previous": "f73ecb8e-dd4a-11eb-b33a-02420a01000d-1-eb3e"
    }
   },
   "source": [
    "# VCノードの起動、削除\n",
    "\n",
    "このNotebookではVCP SDKを利用してVCノードを起動、削除する手順を記しています。"
   ]
  },
  {
   "cell_type": "markdown",
   "metadata": {
    "lc_cell_meme": {
     "current": "f73ecdfa-dd4a-11eb-b33a-02420a01000d-1-5c7e",
     "next": "f73ecefe-dd4a-11eb-b33a-02420a01000d-1-a664",
     "previous": "f73eccec-dd4a-11eb-b33a-02420a01000d-1-389e"
    }
   },
   "source": [
    "## 概要"
   ]
  },
  {
   "cell_type": "markdown",
   "metadata": {
    "lc_cell_meme": {
     "current": "f73ecefe-dd4a-11eb-b33a-02420a01000d-1-a664",
     "next": "f73ecfd0-dd4a-11eb-b33a-02420a01000d-1-1c81",
     "previous": "f73ecdfa-dd4a-11eb-b33a-02420a01000d-1-5c7e"
    }
   },
   "source": [
    "![構成](images/101-001.png)"
   ]
  },
  {
   "cell_type": "markdown",
   "metadata": {
    "heading_collapsed": true,
    "lc_cell_meme": {
     "current": "f73ecfd0-dd4a-11eb-b33a-02420a01000d-1-1c81",
     "next": "f73ed0a2-dd4a-11eb-b33a-02420a01000d-1-1283",
     "previous": "f73ecefe-dd4a-11eb-b33a-02420a01000d-1-a664"
    }
   },
   "source": [
    "### 用語説明"
   ]
  },
  {
   "cell_type": "markdown",
   "metadata": {
    "hidden": true,
    "lc_cell_meme": {
     "current": "f73ed0a2-dd4a-11eb-b33a-02420a01000d-1-1283",
     "next": "f73ed17e-dd4a-11eb-b33a-02420a01000d-1-84d5",
     "previous": "f73ecfd0-dd4a-11eb-b33a-02420a01000d-1-1c81"
    }
   },
   "source": [
    "上の図、またはこれ以降に示す図に記されている構成要素についての簡単な説明を以下に記します。\n",
    "\n",
    "* [VPC](https://aws.amazon.com/jp/vpc/)\n",
    "  - Amazon が提供している AWS 内の仮想プライベートネットワーク環境\n",
    "* [Amazon EC2](https://aws.amazon.com/jp/ec2/)\n",
    "  - Amazon が提供している仮想コンピューティング環境\n",
    "* [Azure Virtual Network](https://azure.microsoft.com/ja-jp/services/virtual-network/)\n",
    "  - Microsoft が提供しているクラウド内の仮想プライベートネットワーク環境\n",
    "* [Azure Virtual Machine](https://azure.microsoft.com/ja-jp/services/virtual-machines/)\n",
    "  - Microsoft が提供している仮想コンピューティング環境\n",
    "* VC Controller\n",
    "  - VCPがユーザに対して提供しているサービス群\n",
    "* VC Controller Core\n",
    "  - ユーザからのAPI呼び出しを受けとりUnitGroupの作成、削除などを行う\n",
    "* Grafana\n",
    "  - 可視化ツール、ダッシュボードツール\n",
    "  - VCP では VCノード のモニタリング状況を表示するのに利用している\n",
    "* VCP SDK\n",
    "  - VCPの機能を呼び出して VM/BM の作成、削除などを行うPython3のライブラリ\n",
    "* VCノード\n",
    "  - Amazon EC2, Azure Virtual Machine などの計算資源を抽象化したVCPのノード\n",
    "* Unit\n",
    "  - 同質（同じ計算資源(cpu, memory, ...)、同じクラウド、同じ用途、...）であるVCノードをまとめて扱うためのもの\n",
    "* UnitGroup\n",
    "  - 複数のUnitをまとめて扱うためのものです"
   ]
  },
  {
   "cell_type": "markdown",
   "metadata": {
    "lc_cell_meme": {
     "current": "f73ed17e-dd4a-11eb-b33a-02420a01000d-1-84d5",
     "next": "f73ed25a-dd4a-11eb-b33a-02420a01000d-1-ba1c",
     "previous": "f73ed0a2-dd4a-11eb-b33a-02420a01000d-1-1283"
    }
   },
   "source": [
    "## 操作手順"
   ]
  },
  {
   "cell_type": "markdown",
   "metadata": {
    "lc_cell_meme": {
     "current": "f73ed25a-dd4a-11eb-b33a-02420a01000d-1-ba1c",
     "next": "f73ed340-dd4a-11eb-b33a-02420a01000d-1-cce0",
     "previous": "f73ed17e-dd4a-11eb-b33a-02420a01000d-1-84d5"
    }
   },
   "source": [
    "大まかな操作手順は以下のようになります。\n",
    "\n",
    "1. VCP SDKを用いてVCノード(Amazon EC2 インスタンス)を起動する\n",
    "1. 起動したVCノードに ssh でログインして操作する\n",
    "1. GrafanaでVCノードの利用状況を確認する\n",
    "1. Unit内のVCノードをスケールアウト、スケールインする\n",
    "1. 別のパブリッククラウド(Microsoft Azure)のVCノードを起動する\n",
    "1. 起動したVCノードをすべて削除する"
   ]
  },
  {
   "cell_type": "markdown",
   "metadata": {
    "lc_cell_meme": {
     "current": "f73ed340-dd4a-11eb-b33a-02420a01000d-1-cce0",
     "next": "f73ed426-dd4a-11eb-b33a-02420a01000d-1-e206",
     "previous": "f73ed25a-dd4a-11eb-b33a-02420a01000d-1-ba1c"
    }
   },
   "source": [
    "# VCノード(Amazon EC2インスタンス)の起動\n",
    "\n",
    "VCP SDKを用いてVCノード(Amazon EC2インスタンス)を起動します。また、起動したVCノードに対してsshでログインして操作を行います。"
   ]
  },
  {
   "cell_type": "markdown",
   "metadata": {
    "lc_cell_meme": {
     "current": "f73ed426-dd4a-11eb-b33a-02420a01000d-1-e206",
     "next": "f73ed4ee-dd4a-11eb-b33a-02420a01000d-1-b42f",
     "previous": "f73ed340-dd4a-11eb-b33a-02420a01000d-1-cce0"
    }
   },
   "source": [
    "![EC2の起動](images/101-003.png)"
   ]
  },
  {
   "cell_type": "markdown",
   "metadata": {
    "lc_cell_meme": {
     "current": "f73ed4ee-dd4a-11eb-b33a-02420a01000d-1-b42f",
     "next": "f73ed5c0-dd4a-11eb-b33a-02420a01000d-1-fca1",
     "previous": "f73ed426-dd4a-11eb-b33a-02420a01000d-1-e206"
    }
   },
   "source": [
    "## アクセストークンの入力"
   ]
  },
  {
   "cell_type": "markdown",
   "metadata": {
    "lc_cell_meme": {
     "current": "f73ed5c0-dd4a-11eb-b33a-02420a01000d-1-fca1",
     "next": "f73ed6b0-dd4a-11eb-b33a-02420a01000d-1-46bd",
     "previous": "f73ed4ee-dd4a-11eb-b33a-02420a01000d-1-b42f"
    }
   },
   "source": [
    "VCP SDKを利用するにはVC Controllerのアクセストークンが必要となります。次のセルを実行すると入力枠が表示されるのでアクセストークンの値を入力してください。\n",
    "\n",
    "> アクセストークン入力後に Enter キーを押すことで入力が完了します。"
   ]
  },
  {
   "cell_type": "code",
   "execution_count": 1,
   "metadata": {
    "deletable": false,
    "editable": false,
    "lc_cell_meme": {
     "current": "f73ed6b0-dd4a-11eb-b33a-02420a01000d-1-46bd",
     "execution_end_time": "2021-07-05T06:45:45.524536Z",
     "next": "f73ed78c-dd4a-11eb-b33a-02420a01000d-1-282d",
     "previous": "f73ed5c0-dd4a-11eb-b33a-02420a01000d-1-fca1"
    },
    "lc_wrapper": {},
    "run_through_control": {
     "frozen": true
    }
   },
   "outputs": [
    {
     "name": "stdout",
     "output_type": "stream",
     "text": [
      "········\n"
     ]
    }
   ],
   "source": [
    "from getpass import getpass\n",
    "vcc_access_token = getpass()"
   ]
  },
  {
   "cell_type": "markdown",
   "metadata": {
    "lc_cell_meme": {
     "current": "f73ed78c-dd4a-11eb-b33a-02420a01000d-1-282d",
     "next": "f73ed868-dd4a-11eb-b33a-02420a01000d-1-66fb",
     "previous": "f73ed6b0-dd4a-11eb-b33a-02420a01000d-1-46bd"
    }
   },
   "source": [
    "## VCP SDKの初期化\n",
    "\n",
    "VCP SDKの初期化を行います。"
   ]
  },
  {
   "cell_type": "code",
   "execution_count": 2,
   "metadata": {
    "deletable": false,
    "editable": false,
    "lc_cell_meme": {
     "current": "f73ed868-dd4a-11eb-b33a-02420a01000d-1-66fb",
     "execution_end_time": "2021-07-05T06:45:48.599941Z",
     "next": "f73ed944-dd4a-11eb-b33a-02420a01000d-1-05b4",
     "previous": "f73ed78c-dd4a-11eb-b33a-02420a01000d-1-282d"
    },
    "lc_wrapper": {},
    "run_through_control": {
     "frozen": true
    },
    "scrolled": true
   },
   "outputs": [],
   "source": [
    "from common import logsetting\n",
    "from vcpsdk.vcpsdk import VcpSDK\n",
    "\n",
    "# VCP SDKの初期化\n",
    "vcp = VcpSDK(\n",
    "    vcc_access_token,  # VCCのアクセストークン\n",
    ")"
   ]
  },
  {
   "cell_type": "markdown",
   "metadata": {
    "lc_cell_meme": {
     "current": "f73ed944-dd4a-11eb-b33a-02420a01000d-1-05b4",
     "next": "f73eda16-dd4a-11eb-b33a-02420a01000d-1-ca9c",
     "previous": "f73ed868-dd4a-11eb-b33a-02420a01000d-1-66fb"
    }
   },
   "source": [
    "上のセルの実行結果がエラーとなり以下のようなメッセージが表示されている場合は、入力されたアクセストークンに誤りがあります。\n",
    "\n",
    "```\n",
    "2019-XX-XX XX:XX:XX,XXX - ERROR - config vc failed: http_status(403)\n",
    "2019-XX-XX XX:XX:XX,XXX - ERROR - 2019/XX/XX XX:XX:XX UTC: VCPAuthException: xxxxxxx:token lookup is failed: permission denied\n",
    "```\n",
    "\n",
    "この場合はアクセストークンの入力からやり直してください。"
   ]
  },
  {
   "cell_type": "markdown",
   "metadata": {
    "lc_cell_meme": {
     "current": "f73eda16-dd4a-11eb-b33a-02420a01000d-1-ca9c",
     "next": "f73edaf2-dd4a-11eb-b33a-02420a01000d-1-0510",
     "previous": "f73ed944-dd4a-11eb-b33a-02420a01000d-1-05b4"
    }
   },
   "source": [
    "`vcp`からは UnitGroup の管理（作成、情報取得）や VCP SDK自体に関する情報取得を行うことができます。例えば、次のセルを実行するとUnitGroupの一覧が表示されます。\n",
    "\n",
    "> まだUnitGroupを作成していないので、ヘッダー以外はなにも表示されないはずです。"
   ]
  },
  {
   "cell_type": "code",
   "execution_count": 3,
   "metadata": {
    "deletable": false,
    "editable": false,
    "lc_cell_meme": {
     "current": "f73edaf2-dd4a-11eb-b33a-02420a01000d-1-0510",
     "execution_end_time": "2021-07-05T06:45:50.262488Z",
     "next": "f73edbc4-dd4a-11eb-b33a-02420a01000d-1-7b0a",
     "previous": "f73eda16-dd4a-11eb-b33a-02420a01000d-1-ca9c"
    },
    "lc_wrapper": {},
    "run_through_control": {
     "frozen": true
    },
    "scrolled": true
   },
   "outputs": [
    {
     "data": {
      "text/html": [
       "<style  type=\"text/css\" >\n",
       "</style><table id=\"T_a2c66e38_dd5c_11eb_997d_02420a010024\" ><thead>    <tr>        <th class=\"blank level0\" ></th>        <th class=\"col_heading level0 col0\" >vcno</th>        <th class=\"col_heading level0 col1\" >vctype</th>        <th class=\"col_heading level0 col2\" >vcname</th>        <th class=\"col_heading level0 col3\" >state</th>        <th class=\"col_heading level0 col4\" >vcid</th>        <th class=\"col_heading level0 col5\" >cdate</th>    </tr></thead><tbody>\n",
       "        </tbody></table>"
      ],
      "text/plain": [
       "<pandas.io.formats.style.Styler at 0x7f7cd9133410>"
      ]
     },
     "execution_count": 3,
     "metadata": {},
     "output_type": "execute_result"
    }
   ],
   "source": [
    "# UnitGroupの一覧を DataFrame で表示する\n",
    "vcp.df_ugroups()"
   ]
  },
  {
   "cell_type": "markdown",
   "metadata": {
    "lc_cell_meme": {
     "current": "f73edbc4-dd4a-11eb-b33a-02420a01000d-1-7b0a",
     "next": "f73edcb4-dd4a-11eb-b33a-02420a01000d-1-c9a0",
     "previous": "f73edaf2-dd4a-11eb-b33a-02420a01000d-1-0510"
    }
   },
   "source": [
    "次のセルを実行すると VCP SDK と VC Controller のバージョンが表示されます。"
   ]
  },
  {
   "cell_type": "code",
   "execution_count": 4,
   "metadata": {
    "deletable": false,
    "editable": false,
    "lc_cell_meme": {
     "current": "f73edcb4-dd4a-11eb-b33a-02420a01000d-1-c9a0",
     "execution_end_time": "2021-07-05T06:45:51.880284Z",
     "next": "f73edd86-dd4a-11eb-b33a-02420a01000d-1-94d1",
     "previous": "f73edbc4-dd4a-11eb-b33a-02420a01000d-1-7b0a"
    },
    "lc_wrapper": {},
    "run_through_control": {
     "frozen": true
    },
    "scrolled": true
   },
   "outputs": [
    {
     "name": "stdout",
     "output_type": "stream",
     "text": [
      "\n",
      "vcplib:\n",
      "  filename: /home/jovyan/vcpsdk/vcplib/occtr.py\n",
      "  version: 20.10.0+20201001\n",
      "\n",
      "vcpsdk:\n",
      "  filename: /home/jovyan/vcpsdk/vcpsdk/vcpsdk.py\n",
      "  version: 21.04.0+20210401\n",
      "\n",
      "  plugin:\n",
      "    aws: 1.2+20191001\n",
      "    aws_disk: 1.0+20190408\n",
      "    aws_spot: 1.1+20191001\n",
      "    azure: 1.2+20191001\n",
      "    vmware: 1.1+20191001\n",
      "    azure_disk: 1.0+20190408\n",
      "    sakura: 1.1+20191001\n",
      "    sakura_disk: 1.0+20190930\n",
      "    oracle: 1.0+20200331\n",
      "    oracle_disk: 1.0+20200331\n",
      "    aic: 1.2+20191001\n",
      "    abc: 1.3+20190408\n",
      "    hokudai: 1.1+20191001\n",
      "    chameleon: 1.0+20200831\n",
      "    chameleon_ext: 20200831\n",
      "    gcp: 1.0+20190408\n",
      "    onpremises: 1.0+20190408\n",
      "\n",
      "vc_controller:\n",
      "  host: localhost\n",
      "  name: vcc511\n",
      "  wait_timeout_sec: 1000(default 15min)\n",
      "  vc_controller: 21.04.0+20210401\n",
      "  vc_controller_git_tag: 21.04.0-117-gd0b1d69-dirty\n",
      "\n",
      "  plugin:\n",
      "    aic: 1.2+20210401\n",
      "    hokudai: 1.1+20210401\n",
      "    vmware: 1.1+20210401\n",
      "    sakura: 1.1+20210401\n",
      "    aws: 1.2+20210401\n",
      "    azure: 1.2+20210401\n",
      "    oracle: 1.0+20210401\n",
      "    abc: 1.3+20210401\n",
      "    chameleon: 1.0+20210401\n",
      "    gcp: 1.0+20210401\n",
      "    aws_spot: 1.1+20210401"
     ]
    }
   ],
   "source": [
    "vcp.version()"
   ]
  },
  {
   "cell_type": "markdown",
   "metadata": {
    "lc_cell_meme": {
     "current": "f73edd86-dd4a-11eb-b33a-02420a01000d-1-94d1",
     "next": "f73ede58-dd4a-11eb-b33a-02420a01000d-1-a924",
     "previous": "f73edcb4-dd4a-11eb-b33a-02420a01000d-1-c9a0"
    }
   },
   "source": [
    "## UnitGroupの作成"
   ]
  },
  {
   "cell_type": "markdown",
   "metadata": {
    "lc_cell_meme": {
     "current": "f73ede58-dd4a-11eb-b33a-02420a01000d-1-a924",
     "next": "f73edf3e-dd4a-11eb-b33a-02420a01000d-1-d8e2",
     "previous": "f73edd86-dd4a-11eb-b33a-02420a01000d-1-94d1"
    }
   },
   "source": [
    "`handson101`という名前の UnitGroup を作成します。"
   ]
  },
  {
   "cell_type": "code",
   "execution_count": 5,
   "metadata": {
    "deletable": false,
    "editable": false,
    "lc_cell_meme": {
     "current": "f73edf3e-dd4a-11eb-b33a-02420a01000d-1-d8e2",
     "execution_end_time": "2021-07-05T06:45:55.792988Z",
     "next": "f73ee010-dd4a-11eb-b33a-02420a01000d-1-2ce7",
     "previous": "f73ede58-dd4a-11eb-b33a-02420a01000d-1-a924"
    },
    "lc_wrapper": {},
    "run_through_control": {
     "frozen": true
    }
   },
   "outputs": [],
   "source": [
    "# UnitGroupの作成\n",
    "unit_group = vcp.create_ugroup(\n",
    "    'handson101'                   # UnitGroupの名前\n",
    ")"
   ]
  },
  {
   "cell_type": "markdown",
   "metadata": {
    "lc_cell_meme": {
     "current": "f73ee010-dd4a-11eb-b33a-02420a01000d-1-2ce7",
     "next": "f73ee0ec-dd4a-11eb-b33a-02420a01000d-1-1a8c",
     "previous": "f73edf3e-dd4a-11eb-b33a-02420a01000d-1-d8e2"
    }
   },
   "source": [
    "作成したUnitGroupの状態を表示してみます。\n",
    "\n",
    "> UnitGroup の名前が `handson101` であることと、その状態が `RUNNING` であることなどが確認できるはずです。"
   ]
  },
  {
   "cell_type": "code",
   "execution_count": 6,
   "metadata": {
    "deletable": false,
    "editable": false,
    "lc_cell_meme": {
     "current": "f73ee0ec-dd4a-11eb-b33a-02420a01000d-1-1a8c",
     "execution_end_time": "2021-07-05T06:45:57.013840Z",
     "next": "f73ee1c8-dd4a-11eb-b33a-02420a01000d-1-acf8",
     "previous": "f73ee010-dd4a-11eb-b33a-02420a01000d-1-2ce7"
    },
    "lc_wrapper": {},
    "run_through_control": {
     "frozen": true
    },
    "scrolled": true
   },
   "outputs": [
    {
     "name": "stdout",
     "output_type": "stream",
     "text": [
      "[Vc]\n",
      "+ type[compute] name[handson101] vcno(5) state[RUNNING] vcid[8928ee1425c84452876aa39cbf948b26]\n",
      "\n"
     ]
    }
   ],
   "source": [
    "print(unit_group)"
   ]
  },
  {
   "cell_type": "markdown",
   "metadata": {
    "lc_cell_meme": {
     "current": "f73ee1c8-dd4a-11eb-b33a-02420a01000d-1-acf8",
     "next": "f73ee29a-dd4a-11eb-b33a-02420a01000d-1-839d",
     "previous": "f73ee0ec-dd4a-11eb-b33a-02420a01000d-1-1a8c"
    }
   },
   "source": [
    "UnitGroupの一覧を表示してみます。"
   ]
  },
  {
   "cell_type": "code",
   "execution_count": 7,
   "metadata": {
    "deletable": false,
    "editable": false,
    "lc_cell_meme": {
     "current": "f73ee29a-dd4a-11eb-b33a-02420a01000d-1-839d",
     "execution_end_time": "2021-07-05T06:45:57.941083Z",
     "next": "f73ee376-dd4a-11eb-b33a-02420a01000d-1-0c54",
     "previous": "f73ee1c8-dd4a-11eb-b33a-02420a01000d-1-acf8"
    },
    "lc_wrapper": {},
    "run_through_control": {
     "frozen": true
    }
   },
   "outputs": [
    {
     "data": {
      "text/html": [
       "<style  type=\"text/css\" >\n",
       "    #T_a75a50cc_dd5c_11eb_997d_02420a010024row0_col3 {\n",
       "            background-color:  #dfd;\n",
       "        }</style><table id=\"T_a75a50cc_dd5c_11eb_997d_02420a010024\" ><thead>    <tr>        <th class=\"blank level0\" ></th>        <th class=\"col_heading level0 col0\" >vcno</th>        <th class=\"col_heading level0 col1\" >vctype</th>        <th class=\"col_heading level0 col2\" >vcname</th>        <th class=\"col_heading level0 col3\" >state</th>        <th class=\"col_heading level0 col4\" >vcid</th>        <th class=\"col_heading level0 col5\" >cdate</th>    </tr></thead><tbody>\n",
       "                <tr>\n",
       "                        <th id=\"T_a75a50cc_dd5c_11eb_997d_02420a010024level0_row0\" class=\"row_heading level0 row0\" >0</th>\n",
       "                        <td id=\"T_a75a50cc_dd5c_11eb_997d_02420a010024row0_col0\" class=\"data row0 col0\" >5</td>\n",
       "                        <td id=\"T_a75a50cc_dd5c_11eb_997d_02420a010024row0_col1\" class=\"data row0 col1\" >compute</td>\n",
       "                        <td id=\"T_a75a50cc_dd5c_11eb_997d_02420a010024row0_col2\" class=\"data row0 col2\" >handson101</td>\n",
       "                        <td id=\"T_a75a50cc_dd5c_11eb_997d_02420a010024row0_col3\" class=\"data row0 col3\" >RUNNING</td>\n",
       "                        <td id=\"T_a75a50cc_dd5c_11eb_997d_02420a010024row0_col4\" class=\"data row0 col4\" >8928ee14...</td>\n",
       "                        <td id=\"T_a75a50cc_dd5c_11eb_997d_02420a010024row0_col5\" class=\"data row0 col5\" >2021/07/05 06:45:38 UTC</td>\n",
       "            </tr>\n",
       "    </tbody></table>"
      ],
      "text/plain": [
       "<pandas.io.formats.style.Styler at 0x7f7cd7cce610>"
      ]
     },
     "execution_count": 7,
     "metadata": {},
     "output_type": "execute_result"
    }
   ],
   "source": [
    "# UnitGroupの一覧を DataFrame で表示する\n",
    "vcp.df_ugroups()"
   ]
  },
  {
   "cell_type": "markdown",
   "metadata": {
    "lc_cell_meme": {
     "current": "f73ee376-dd4a-11eb-b33a-02420a01000d-1-0c54",
     "next": "f73ee466-dd4a-11eb-b33a-02420a01000d-1-7777",
     "previous": "f73ee29a-dd4a-11eb-b33a-02420a01000d-1-839d"
    }
   },
   "source": [
    "## UnitGroupの状態を確認する"
   ]
  },
  {
   "cell_type": "markdown",
   "metadata": {
    "lc_cell_meme": {
     "current": "f73ee466-dd4a-11eb-b33a-02420a01000d-1-7777",
     "next": "f73ee538-dd4a-11eb-b33a-02420a01000d-1-c80f",
     "previous": "f73ee376-dd4a-11eb-b33a-02420a01000d-1-0c54"
    }
   },
   "source": [
    "UnitGroupに属している Unit の一覧を表示します。\n",
    "\n",
    "> まだ、このUnitGroupでは Unit を作成していないのでヘッダー以外は何も表示されません。"
   ]
  },
  {
   "cell_type": "code",
   "execution_count": 8,
   "metadata": {
    "deletable": false,
    "editable": false,
    "lc_cell_meme": {
     "current": "f73ee538-dd4a-11eb-b33a-02420a01000d-1-c80f",
     "execution_end_time": "2021-07-05T06:46:02.918884Z",
     "next": "f73ee614-dd4a-11eb-b33a-02420a01000d-1-f510",
     "previous": "f73ee466-dd4a-11eb-b33a-02420a01000d-1-7777"
    },
    "lc_wrapper": {},
    "run_through_control": {
     "frozen": true
    }
   },
   "outputs": [
    {
     "data": {
      "text/html": [
       "<div>\n",
       "<style scoped>\n",
       "    .dataframe tbody tr th:only-of-type {\n",
       "        vertical-align: middle;\n",
       "    }\n",
       "\n",
       "    .dataframe tbody tr th {\n",
       "        vertical-align: top;\n",
       "    }\n",
       "\n",
       "    .dataframe thead th {\n",
       "        text-align: right;\n",
       "    }\n",
       "</style>\n",
       "<table border=\"1\" class=\"dataframe\">\n",
       "  <thead>\n",
       "    <tr style=\"text-align: right;\">\n",
       "      <th></th>\n",
       "      <th>vctype</th>\n",
       "      <th>vcno</th>\n",
       "      <th>vcname</th>\n",
       "      <th>vc_state</th>\n",
       "      <th>vcid</th>\n",
       "      <th>cdate</th>\n",
       "      <th>unit_name</th>\n",
       "      <th>unit_state</th>\n",
       "    </tr>\n",
       "  </thead>\n",
       "  <tbody>\n",
       "  </tbody>\n",
       "</table>\n",
       "</div>"
      ],
      "text/plain": [
       "Empty DataFrame\n",
       "Columns: [vctype, vcno, vcname, vc_state, vcid, cdate, unit_name, unit_state]\n",
       "Index: []"
      ]
     },
     "execution_count": 8,
     "metadata": {},
     "output_type": "execute_result"
    }
   ],
   "source": [
    "# Unitの一覧を DataFrame で表示する\n",
    "unit_group.df_units()"
   ]
  },
  {
   "cell_type": "markdown",
   "metadata": {
    "lc_cell_meme": {
     "current": "f73ee614-dd4a-11eb-b33a-02420a01000d-1-f510",
     "next": "f73ee6f0-dd4a-11eb-b33a-02420a01000d-1-edfb",
     "previous": "f73ee538-dd4a-11eb-b33a-02420a01000d-1-c80f"
    }
   },
   "source": [
    "UnitGroupに属しているVCノードの一覧を表示します。\n",
    "\n",
    "> まだVCノードが存在していないので何も表示されません。"
   ]
  },
  {
   "cell_type": "code",
   "execution_count": 9,
   "metadata": {
    "deletable": false,
    "editable": false,
    "lc_cell_meme": {
     "current": "f73ee6f0-dd4a-11eb-b33a-02420a01000d-1-edfb",
     "execution_end_time": "2021-07-05T06:46:04.883923Z",
     "next": "f73ee7cc-dd4a-11eb-b33a-02420a01000d-1-3210",
     "previous": "f73ee614-dd4a-11eb-b33a-02420a01000d-1-f510"
    },
    "lc_wrapper": {},
    "run_through_control": {
     "frozen": true
    }
   },
   "outputs": [
    {
     "data": {
      "text/plain": [
       "[]"
      ]
     },
     "execution_count": 9,
     "metadata": {},
     "output_type": "execute_result"
    }
   ],
   "source": [
    "unit_group.df_nodes()"
   ]
  },
  {
   "cell_type": "markdown",
   "metadata": {
    "lc_cell_meme": {
     "current": "f73ee7cc-dd4a-11eb-b33a-02420a01000d-1-3210",
     "next": "f73ee8a8-dd4a-11eb-b33a-02420a01000d-1-95b5",
     "previous": "f73ee6f0-dd4a-11eb-b33a-02420a01000d-1-edfb"
    }
   },
   "source": [
    "## VCノードのspecを指定する"
   ]
  },
  {
   "cell_type": "markdown",
   "metadata": {
    "lc_cell_meme": {
     "current": "f73ee8a8-dd4a-11eb-b33a-02420a01000d-1-95b5",
     "next": "f73ee984-dd4a-11eb-b33a-02420a01000d-1-97f3",
     "previous": "f73ee7cc-dd4a-11eb-b33a-02420a01000d-1-3210"
    }
   },
   "source": [
    "Unitを構成するVCノードがどのような設定であるかを指定するためのオブジェクトとしてVCP SDKでは`spec`オブジェクトを用意しています。VCP SDKの利用者は`spec`オブジェクトのプロパティを設定することで Unitに起動するVCノードの設定内容を定義することができます。\n",
    "\n",
    "`spec`オブジェクトの設定項目の例を以下に示します。\n",
    "\n",
    "* 仮想マシンのインスタンスタイプ\n",
    "  - m5.large, c5.large, ...\n",
    "* 仮想マシンのルートボリュームサイズ(GiB)\n",
    "* 仮想マシンに割り当てるプライベートIPアドレス\n",
    "* Unit内に作成するVCノードの数\n",
    "\n",
    "設定できる項目はクラウドプロバイダ(aws, azure, ...)毎に異なります。"
   ]
  },
  {
   "cell_type": "markdown",
   "metadata": {
    "lc_cell_meme": {
     "current": "f73ee984-dd4a-11eb-b33a-02420a01000d-1-97f3",
     "next": "f73eea4c-dd4a-11eb-b33a-02420a01000d-1-13a2",
     "previous": "f73ee8a8-dd4a-11eb-b33a-02420a01000d-1-95b5"
    }
   },
   "source": [
    "### flavor ★"
   ]
  },
  {
   "cell_type": "markdown",
   "metadata": {
    "lc_cell_meme": {
     "current": "f73eea4c-dd4a-11eb-b33a-02420a01000d-1-13a2",
     "next": "f73eeb28-dd4a-11eb-b33a-02420a01000d-1-29dc",
     "previous": "f73ee984-dd4a-11eb-b33a-02420a01000d-1-97f3"
    }
   },
   "source": [
    "`spec`オブジェクトの全てのパラメータを毎回設定するのは煩雑になるので典型的な構成のパラメータセットを事前に定義しています。事前に定義した`spec`パラメータセットのことを VCP SDKでは `flavor`と呼んでいます。`spec`に設定できるパラメータはクラウドプロバイダ毎に異なるので `flavor`の定義もクラウドプロバイダ毎に行っています。\n",
    "\n",
    "次のセルを実行すると aws用に定義している `flavor` の一覧が表示されます。"
   ]
  },
  {
   "cell_type": "code",
   "execution_count": 10,
   "metadata": {
    "deletable": false,
    "editable": false,
    "lc_cell_meme": {
     "current": "f73eeb28-dd4a-11eb-b33a-02420a01000d-1-29dc",
     "execution_end_time": "2021-07-05T06:46:14.670751Z",
     "next": "f73eec0e-dd4a-11eb-b33a-02420a01000d-1-9145",
     "previous": "f73eea4c-dd4a-11eb-b33a-02420a01000d-1-13a2"
    },
    "lc_wrapper": {},
    "run_through_control": {
     "frozen": true
    }
   },
   "outputs": [
    {
     "data": {
      "text/html": [
       "<div>\n",
       "<style scoped>\n",
       "    .dataframe tbody tr th:only-of-type {\n",
       "        vertical-align: middle;\n",
       "    }\n",
       "\n",
       "    .dataframe tbody tr th {\n",
       "        vertical-align: top;\n",
       "    }\n",
       "\n",
       "    .dataframe thead th {\n",
       "        text-align: right;\n",
       "    }\n",
       "</style>\n",
       "<table border=\"1\" class=\"dataframe\">\n",
       "  <thead>\n",
       "    <tr style=\"text-align: right;\">\n",
       "      <th></th>\n",
       "      <th>flavor</th>\n",
       "      <th>instance_type</th>\n",
       "      <th>volume_type</th>\n",
       "      <th>volume_size</th>\n",
       "    </tr>\n",
       "  </thead>\n",
       "  <tbody>\n",
       "    <tr>\n",
       "      <th>0</th>\n",
       "      <td>small</td>\n",
       "      <td>m4.large</td>\n",
       "      <td>standard</td>\n",
       "      <td>8</td>\n",
       "    </tr>\n",
       "    <tr>\n",
       "      <th>1</th>\n",
       "      <td>medium</td>\n",
       "      <td>m4.xlarge</td>\n",
       "      <td>standard</td>\n",
       "      <td>40</td>\n",
       "    </tr>\n",
       "    <tr>\n",
       "      <th>2</th>\n",
       "      <td>large</td>\n",
       "      <td>m4.2xlarge</td>\n",
       "      <td>standard</td>\n",
       "      <td>100</td>\n",
       "    </tr>\n",
       "  </tbody>\n",
       "</table>\n",
       "</div>"
      ],
      "text/plain": [
       "   flavor instance_type volume_type  volume_size\n",
       "0   small      m4.large    standard            8\n",
       "1  medium     m4.xlarge    standard           40\n",
       "2   large    m4.2xlarge    standard          100"
      ]
     },
     "execution_count": 10,
     "metadata": {},
     "output_type": "execute_result"
    }
   ],
   "source": [
    "# スポットインスタンスを利用するためには、aws を aws_spot に変更\n",
    "vcp.df_flavors('aws_spot')"
   ]
  },
  {
   "cell_type": "markdown",
   "metadata": {
    "lc_cell_meme": {
     "current": "f73eec0e-dd4a-11eb-b33a-02420a01000d-1-9145",
     "next": "f73eecf4-dd4a-11eb-b33a-02420a01000d-1-aa56",
     "previous": "f73eeb28-dd4a-11eb-b33a-02420a01000d-1-29dc"
    }
   },
   "source": [
    "### spec オブジェクトを作成する ★"
   ]
  },
  {
   "cell_type": "markdown",
   "metadata": {
    "lc_cell_meme": {
     "current": "f73eecf4-dd4a-11eb-b33a-02420a01000d-1-aa56",
     "next": "f73eedc6-dd4a-11eb-b33a-02420a01000d-1-b977",
     "previous": "f73eec0e-dd4a-11eb-b33a-02420a01000d-1-9145"
    }
   },
   "source": [
    "specオブジェクトを作成します。specオブジェクトを作成するにはプロバイダと`flavor`を指定します。ここでは以下の値を指定します。\n",
    "\n",
    "* プロバイダ: `aws_spot`\n",
    "* flavor: `small`"
   ]
  },
  {
   "cell_type": "code",
   "execution_count": 11,
   "metadata": {
    "deletable": false,
    "editable": false,
    "lc_cell_meme": {
     "current": "f73eedc6-dd4a-11eb-b33a-02420a01000d-1-b977",
     "execution_end_time": "2021-07-05T06:46:26.414599Z",
     "next": "f73eeea2-dd4a-11eb-b33a-02420a01000d-1-8cec",
     "previous": "f73eecf4-dd4a-11eb-b33a-02420a01000d-1-aa56"
    },
    "lc_wrapper": {},
    "run_through_control": {
     "frozen": true
    }
   },
   "outputs": [],
   "source": [
    "# スポットインスタンスを利用するためには、aws を aws_spot に変更\n",
    "spec = vcp.get_spec('aws_spot', 'small')"
   ]
  },
  {
   "cell_type": "markdown",
   "metadata": {
    "lc_cell_meme": {
     "current": "f73eeea2-dd4a-11eb-b33a-02420a01000d-1-8cec",
     "next": "f73eef74-dd4a-11eb-b33a-02420a01000d-1-0b0f",
     "previous": "f73eedc6-dd4a-11eb-b33a-02420a01000d-1-b977"
    }
   },
   "source": [
    "作成した`spec`の設定内容を確認してみます。\n",
    "\n",
    "> `instance_type`パラメータに `flavor` の指定と対応するEC2インスタンスタイプ`m4.large`が設定されていることが確認できるはずです。\n",
    "> `volume_size`, `volume_type`についてもそれぞれ`flavor`と対応する値が設定されます。"
   ]
  },
  {
   "cell_type": "code",
   "execution_count": 12,
   "metadata": {
    "deletable": false,
    "editable": false,
    "lc_cell_meme": {
     "current": "f73eef74-dd4a-11eb-b33a-02420a01000d-1-0b0f",
     "execution_end_time": "2021-07-05T06:46:27.513612Z",
     "next": "f73ef05a-dd4a-11eb-b33a-02420a01000d-1-ef18",
     "previous": "f73eeea2-dd4a-11eb-b33a-02420a01000d-1-8cec"
    },
    "lc_wrapper": {},
    "run_through_control": {
     "frozen": true
    }
   },
   "outputs": [
    {
     "name": "stdout",
     "output_type": "stream",
     "text": [
      "\n",
      "========================\n",
      "aws_spot\n",
      "------------------------\n",
      "\n",
      "========================\n",
      "aws_spot\n",
      "------------------------\n",
      "\n",
      "    cci_version: \"1.1\"\n",
      "    name: \n",
      "    description: \n",
      "    private_network: default\n",
      "    num_nodes: 1\n",
      "    image: vcp/base:1.6.2\n",
      "    recovery_mode: none\n",
      "    docker_opt: {}\n",
      "    params:\n",
      "        {'v': [], 'e': []}\n",
      "\n",
      "    instance_type: m4.large\n",
      "    volume_size: 8\n",
      "    volume_type: standard\n",
      "    volume_id: []\n",
      "    cloud_image: default\n",
      "    ip_address_list: []\n",
      "    tags: {}\n",
      "========================\n",
      "    spot_type: one-time\n",
      "    spot_price: \n",
      "    block_duration_minutes: 0\n",
      "    instance_type: m4.large\n",
      "    instance_type: m4.large\n",
      "    volume_size: 8\n",
      "    volume_type: standard\n",
      "    volume_id: []\n",
      "    cloud_image: default\n",
      "    tags: {}\n",
      "========================\n"
     ]
    }
   ],
   "source": [
    "print(spec)"
   ]
  },
  {
   "cell_type": "markdown",
   "metadata": {
    "lc_cell_meme": {
     "current": "f73ef05a-dd4a-11eb-b33a-02420a01000d-1-ef18",
     "next": "f73ef14a-dd4a-11eb-b33a-02420a01000d-1-3fbe",
     "previous": "f73eef74-dd4a-11eb-b33a-02420a01000d-1-0b0f"
    }
   },
   "source": [
    "`spec`に対しては `flavor`で指定するだけではなく個々のパラメータを直接指定することもできます。例えば、以下のようなものが指定できます。\n",
    "\n",
    "* num_nodes\n",
    "  - Unit内に作成するVCノードの数: デフォルト=1\n",
    "* ip_addresses\n",
    "  - VCノードに割り当てるプライベートIPアドレスのリスト\n",
    "  - このパラメータを指定しない場合は利用可能なアドレスが自動的に割り当てられる\n",
    "* instance_type\n",
    "  - Amazon EC2のインスタンスタイプ\n",
    "  - flavorで設定されているもの以外を利用したい場合に指定する\n",
    "* volume_size\n",
    "  - Amazon EC2インスタンスのルートボリュームに割り当てるサイズ(GiB)\n",
    "  - flavorで設定されているもの以外を利用したい場合に指定する\n",
    "* volume_type\n",
    "  - Amazon EC2インスタンスのルートボリュームのEBSタイプ\n",
    "  - flavorで設定されているもの以外を利用したい場合に指定する"
   ]
  },
  {
   "cell_type": "markdown",
   "metadata": {
    "lc_cell_meme": {
     "current": "f73ef14a-dd4a-11eb-b33a-02420a01000d-1-3fbe",
     "next": "f73ef21c-dd4a-11eb-b33a-02420a01000d-1-5bc3",
     "previous": "f73ef05a-dd4a-11eb-b33a-02420a01000d-1-ef18"
    }
   },
   "source": [
    "試しに `volume_size`を指定してみます。"
   ]
  },
  {
   "cell_type": "code",
   "execution_count": 13,
   "metadata": {
    "deletable": false,
    "editable": false,
    "lc_cell_meme": {
     "current": "f73ef21c-dd4a-11eb-b33a-02420a01000d-1-5bc3",
     "execution_end_time": "2021-07-05T06:46:33.713990Z",
     "next": "f73ef316-dd4a-11eb-b33a-02420a01000d-1-f65c",
     "previous": "f73ef14a-dd4a-11eb-b33a-02420a01000d-1-3fbe"
    },
    "lc_wrapper": {},
    "run_through_control": {
     "frozen": true
    }
   },
   "outputs": [],
   "source": [
    "spec.volume_size = 15"
   ]
  },
  {
   "cell_type": "markdown",
   "metadata": {
    "lc_cell_meme": {
     "current": "f73ef316-dd4a-11eb-b33a-02420a01000d-1-f65c",
     "next": "f73ef3f2-dd4a-11eb-b33a-02420a01000d-1-fe5d",
     "previous": "f73ef21c-dd4a-11eb-b33a-02420a01000d-1-5bc3"
    },
    "lc_wrapper": {}
   },
   "source": [
    "### AWSスポットインスタンス専用のspec設定 ★\n",
    "\n",
    "AWSスポットインスタンスに対して、以下のパラメータを指定することができます。\n",
    "\n",
    "- インスタンス1時間当たりの上限価格(=入札価格)\n",
    "  * 米ドル単位で指定。指定無しの場合はオンデマンドインスタンスの価格が上限価格として指定される。\n",
    "  > *小さすぎる価格では起動できない可能性がある*\n",
    "- インスタンスの継続時間\n",
    "  * 1〜6時間の範囲で 60, 120, 180, 240, 300, 360 のように分単位で指定可能\n",
    "  > *長過ぎる継続時間では起動できない可能性がある*"
   ]
  },
  {
   "cell_type": "code",
   "execution_count": 14,
   "metadata": {
    "deletable": false,
    "editable": false,
    "lc_cell_meme": {
     "current": "f73ef3f2-dd4a-11eb-b33a-02420a01000d-1-fe5d",
     "execution_end_time": "2021-07-05T06:46:57.613719Z",
     "next": "f73ef4e2-dd4a-11eb-b33a-02420a01000d-1-f949",
     "previous": "f73ef316-dd4a-11eb-b33a-02420a01000d-1-f65c"
    },
    "lc_wrapper": {},
    "run_through_control": {
     "frozen": true
    }
   },
   "outputs": [],
   "source": [
    "# スポットインスタンスの1時間当たりの上限価格 (単位: USD)\n",
    "spec.spot_price = '0.15'\n",
    "\n",
    "# スポットインスタンスの継続時間 (単位: 分、60の倍数)\n",
    "# spec.block_duration_minutes = 300\n",
    "\n",
    "# インスタンスタイプ (0.15 USD 以内の例: m4.large, c4.large, t2.large, t2.medium)\n",
    "# spec.instance_type = 'm4.large'"
   ]
  },
  {
   "cell_type": "markdown",
   "metadata": {
    "lc_cell_meme": {
     "current": "f73ef4e2-dd4a-11eb-b33a-02420a01000d-1-f949",
     "next": "f73ef5be-dd4a-11eb-b33a-02420a01000d-1-df9a",
     "previous": "f73ef3f2-dd4a-11eb-b33a-02420a01000d-1-fe5d"
    }
   },
   "source": [
    "指定した値が`spec`の設定に反映されていることを確認してみます。"
   ]
  },
  {
   "cell_type": "code",
   "execution_count": 15,
   "metadata": {
    "deletable": false,
    "editable": false,
    "lc_cell_meme": {
     "current": "f73ef5be-dd4a-11eb-b33a-02420a01000d-1-df9a",
     "execution_end_time": "2021-07-05T06:46:59.113642Z",
     "next": "f73ef69a-dd4a-11eb-b33a-02420a01000d-1-d101",
     "previous": "f73ef4e2-dd4a-11eb-b33a-02420a01000d-1-f949"
    },
    "lc_wrapper": {},
    "run_through_control": {
     "frozen": true
    }
   },
   "outputs": [
    {
     "name": "stdout",
     "output_type": "stream",
     "text": [
      "\n",
      "========================\n",
      "aws_spot\n",
      "------------------------\n",
      "\n",
      "========================\n",
      "aws_spot\n",
      "------------------------\n",
      "\n",
      "    cci_version: \"1.1\"\n",
      "    name: \n",
      "    description: \n",
      "    private_network: default\n",
      "    num_nodes: 1\n",
      "    image: vcp/base:1.6.2\n",
      "    recovery_mode: none\n",
      "    docker_opt: {}\n",
      "    params:\n",
      "        {'v': [], 'e': []}\n",
      "\n",
      "    instance_type: m4.large\n",
      "    volume_size: 15\n",
      "    volume_type: standard\n",
      "    volume_id: []\n",
      "    cloud_image: default\n",
      "    ip_address_list: []\n",
      "    tags: {}\n",
      "========================\n",
      "    spot_type: one-time\n",
      "    spot_price: 0.15\n",
      "    block_duration_minutes: 0\n",
      "    instance_type: m4.large\n",
      "    instance_type: m4.large\n",
      "    volume_size: 15\n",
      "    volume_type: standard\n",
      "    volume_id: []\n",
      "    cloud_image: default\n",
      "    tags: {}\n",
      "========================\n"
     ]
    }
   ],
   "source": [
    "print(spec)"
   ]
  },
  {
   "cell_type": "markdown",
   "metadata": {
    "lc_cell_meme": {
     "current": "f73ef69a-dd4a-11eb-b33a-02420a01000d-1-d101",
     "next": "f73ef762-dd4a-11eb-b33a-02420a01000d-1-0a6c",
     "previous": "f73ef5be-dd4a-11eb-b33a-02420a01000d-1-df9a"
    }
   },
   "source": [
    "`volume_size`の値が指定した値に変更されています。"
   ]
  },
  {
   "cell_type": "markdown",
   "metadata": {
    "lc_cell_meme": {
     "current": "f73ef762-dd4a-11eb-b33a-02420a01000d-1-0a6c",
     "next": "f73ef834-dd4a-11eb-b33a-02420a01000d-1-9edc",
     "previous": "f73ef69a-dd4a-11eb-b33a-02420a01000d-1-d101"
    }
   },
   "source": [
    "### sshの鍵ファイルを設定する\n",
    "\n",
    "VCノードにsshでログインするためには事前に公開鍵認証の鍵を登録する必要があります。そのための設定をここで行います。"
   ]
  },
  {
   "cell_type": "markdown",
   "metadata": {
    "lc_cell_meme": {
     "current": "f73ef834-dd4a-11eb-b33a-02420a01000d-1-9edc",
     "next": "f73ef910-dd4a-11eb-b33a-02420a01000d-1-3e73",
     "previous": "f73ef762-dd4a-11eb-b33a-02420a01000d-1-0a6c"
    }
   },
   "source": [
    "VCノードに登録する公開鍵認証の**公開鍵**のパスを次のセルで指定してください。"
   ]
  },
  {
   "cell_type": "code",
   "execution_count": 16,
   "metadata": {
    "deletable": false,
    "editable": false,
    "lc_cell_meme": {
     "current": "f73ef910-dd4a-11eb-b33a-02420a01000d-1-3e73",
     "execution_end_time": "2021-07-05T06:47:02.513825Z",
     "next": "f73efa00-dd4a-11eb-b33a-02420a01000d-1-7005",
     "previous": "f73ef834-dd4a-11eb-b33a-02420a01000d-1-9edc"
    },
    "lc_wrapper": {},
    "run_through_control": {
     "frozen": true
    }
   },
   "outputs": [],
   "source": [
    "import os\n",
    "ssh_public_key = os.path.expanduser('~/.ssh/id_rsa.pub')"
   ]
  },
  {
   "cell_type": "markdown",
   "metadata": {
    "lc_cell_meme": {
     "current": "f73efa00-dd4a-11eb-b33a-02420a01000d-1-7005",
     "next": "f73efad2-dd4a-11eb-b33a-02420a01000d-1-81ed",
     "previous": "f73ef910-dd4a-11eb-b33a-02420a01000d-1-3e73"
    }
   },
   "source": [
    "指定した公開鍵を `spec` に設定します。"
   ]
  },
  {
   "cell_type": "code",
   "execution_count": 17,
   "metadata": {
    "deletable": false,
    "editable": false,
    "lc_cell_meme": {
     "current": "f73efad2-dd4a-11eb-b33a-02420a01000d-1-81ed",
     "execution_end_time": "2021-07-05T06:47:03.447506Z",
     "next": "f73efba4-dd4a-11eb-b33a-02420a01000d-1-0640",
     "previous": "f73efa00-dd4a-11eb-b33a-02420a01000d-1-7005"
    },
    "lc_wrapper": {},
    "run_through_control": {
     "frozen": true
    }
   },
   "outputs": [],
   "source": [
    "spec.set_ssh_pubkey(ssh_public_key)"
   ]
  },
  {
   "cell_type": "markdown",
   "metadata": {
    "lc_cell_meme": {
     "current": "f73efba4-dd4a-11eb-b33a-02420a01000d-1-0640",
     "next": "f73efc80-dd4a-11eb-b33a-02420a01000d-1-27b1",
     "previous": "f73efad2-dd4a-11eb-b33a-02420a01000d-1-81ed"
    }
   },
   "source": [
    "sshの公開鍵に関する設定が`spec`に反映されたことを確認してみます。次のセルを実行すると`params`の`e`の`AUTHORIZED_KEYS`に値が設定されていることが確認できます。"
   ]
  },
  {
   "cell_type": "code",
   "execution_count": 18,
   "metadata": {
    "deletable": false,
    "editable": false,
    "lc_cell_meme": {
     "current": "f73efc80-dd4a-11eb-b33a-02420a01000d-1-27b1",
     "execution_end_time": "2021-07-05T06:47:04.215428Z",
     "next": "f73efd66-dd4a-11eb-b33a-02420a01000d-1-4cc6",
     "previous": "f73efba4-dd4a-11eb-b33a-02420a01000d-1-0640"
    },
    "lc_wrapper": {},
    "run_through_control": {
     "frozen": true
    }
   },
   "outputs": [
    {
     "name": "stdout",
     "output_type": "stream",
     "text": [
      "\n",
      "========================\n",
      "aws_spot\n",
      "------------------------\n",
      "\n",
      "========================\n",
      "aws_spot\n",
      "------------------------\n",
      "\n",
      "    cci_version: \"1.1\"\n",
      "    name: \n",
      "    description: \n",
      "    private_network: default\n",
      "    num_nodes: 1\n",
      "    image: vcp/base:1.6.2\n",
      "    recovery_mode: none\n",
      "    docker_opt: {}\n",
      "    params:\n",
      "        {'v': [], 'e': ['AUTHORIZED_KEYS=c3NoLXJzYSBBQUFBQjNOemFDMXljMkVBQUFBREFRQUJBQUFCQVFDc09nTzdmTXJMSG5yRkpSZFROVkVOaWRDNlJTYlNYSE94dmxzSWUvMWc3Nk9IdXB5TE9EUUJ5aXhHc2t1QlVkaXBPaElGV3doeUR4RFRVMU9Xb1BLbHhuTndiV29oZXh1T2s3bmtCYmJ6Y09hT2hhZW5EL1RVdGVLeU05Tm85SW5PTktyS3lTQ0pQVklCUklTVlNXenF6ZzM4NENzSkNNVVBXdVNRcnZmNFpXajI3TDZCYUdaa0c2elVYaVVmMzAvZSsvcitrV2NIZFNFUUcyUHhqRk1iWU9aQkZSMzR5K1RuaWlpTE5LNFlXODgvajdFbXBCRGZ2VEtzL0ZLTXd3WjRjWkdqbmx6eWxFOEdldGhVNC9zcWFYQ1dZSWtHOFJzSjQ2MzRLNU5uTkdRSG80WEZPRzQ0TEJFdkhRTlJoajZCSU14eGd5TkgxVFZlUTdFT2RZNG4gdXNlcjUxMXhlNWIwNTJAMGVhNDIwMGNjMDUxCg==']}\n",
      "\n",
      "    instance_type: m4.large\n",
      "    volume_size: 15\n",
      "    volume_type: standard\n",
      "    volume_id: []\n",
      "    cloud_image: default\n",
      "    ip_address_list: []\n",
      "    tags: {}\n",
      "========================\n",
      "    spot_type: one-time\n",
      "    spot_price: 0.15\n",
      "    block_duration_minutes: 0\n",
      "    instance_type: m4.large\n",
      "    instance_type: m4.large\n",
      "    volume_size: 15\n",
      "    volume_type: standard\n",
      "    volume_id: []\n",
      "    cloud_image: default\n",
      "    tags: {}\n",
      "========================\n"
     ]
    }
   ],
   "source": [
    "print(spec)"
   ]
  },
  {
   "cell_type": "markdown",
   "metadata": {
    "lc_cell_meme": {
     "current": "f73efd66-dd4a-11eb-b33a-02420a01000d-1-4cc6",
     "next": "f73efe38-dd4a-11eb-b33a-02420a01000d-1-b80a",
     "previous": "f73efc80-dd4a-11eb-b33a-02420a01000d-1-27b1"
    }
   },
   "source": [
    "後でVCノードにログインする際にsshの秘密鍵も必要になるので、ここで設定しておきます。次のセルで**秘密鍵**のパスを指定してください。"
   ]
  },
  {
   "cell_type": "code",
   "execution_count": 19,
   "metadata": {
    "deletable": false,
    "editable": false,
    "lc_cell_meme": {
     "current": "f73efe38-dd4a-11eb-b33a-02420a01000d-1-b80a",
     "execution_end_time": "2021-07-05T06:47:06.913879Z",
     "next": "f73eff1e-dd4a-11eb-b33a-02420a01000d-1-648b",
     "previous": "f73efd66-dd4a-11eb-b33a-02420a01000d-1-4cc6"
    },
    "lc_wrapper": {},
    "run_through_control": {
     "frozen": true
    }
   },
   "outputs": [],
   "source": [
    "ssh_private_key = os.path.expanduser('~/.ssh/id_rsa')"
   ]
  },
  {
   "cell_type": "markdown",
   "metadata": {
    "lc_cell_meme": {
     "current": "f73eff1e-dd4a-11eb-b33a-02420a01000d-1-648b",
     "next": "f73effe6-dd4a-11eb-b33a-02420a01000d-1-2184",
     "previous": "f73efe38-dd4a-11eb-b33a-02420a01000d-1-b80a"
    }
   },
   "source": [
    "公開鍵と秘密鍵が正しいペアであることをチェックします。次のセルを実行してエラーにならないことを確認してください。"
   ]
  },
  {
   "cell_type": "code",
   "execution_count": 20,
   "metadata": {
    "deletable": false,
    "editable": false,
    "lc_cell_meme": {
     "current": "f73effe6-dd4a-11eb-b33a-02420a01000d-1-2184",
     "execution_end_time": "2021-07-05T06:47:08.206239Z",
     "next": "f73f00b8-dd4a-11eb-b33a-02420a01000d-1-6b2c",
     "previous": "f73eff1e-dd4a-11eb-b33a-02420a01000d-1-648b"
    },
    "lc_wrapper": {},
    "run_through_control": {
     "frozen": true
    }
   },
   "outputs": [],
   "source": [
    "!grep -q \"$(ssh-keygen -y -f {ssh_private_key})\" {ssh_public_key}"
   ]
  },
  {
   "cell_type": "markdown",
   "metadata": {
    "lc_cell_meme": {
     "current": "f73f00b8-dd4a-11eb-b33a-02420a01000d-1-6b2c",
     "next": "f73f019e-dd4a-11eb-b33a-02420a01000d-1-e36e",
     "previous": "f73effe6-dd4a-11eb-b33a-02420a01000d-1-2184"
    },
    "vcp_tutorial": {
     "url": "files/DOC/index.html#module-vcpsdk.plugins.spec"
    }
   },
   "source": [
    "<!---\n",
    "他にどのようなパラメータが設定できるのかについては\n",
    "「[VCPSDK APIドキュメント](/handson/files/DOC/index.html#module-vcpsdk.plugins.spec)」を参照してください。\n",
    "--->"
   ]
  },
  {
   "cell_type": "markdown",
   "metadata": {
    "lc_cell_meme": {
     "current": "f73f019e-dd4a-11eb-b33a-02420a01000d-1-e36e",
     "next": "f73f027a-dd4a-11eb-b33a-02420a01000d-1-9478",
     "previous": "f73f00b8-dd4a-11eb-b33a-02420a01000d-1-6b2c"
    }
   },
   "source": [
    "## Unitの作成とVCノードの起動"
   ]
  },
  {
   "cell_type": "markdown",
   "metadata": {
    "lc_cell_meme": {
     "current": "f73f027a-dd4a-11eb-b33a-02420a01000d-1-9478",
     "next": "f73f043c-dd4a-11eb-b33a-02420a01000d-1-2649",
     "previous": "f73f019e-dd4a-11eb-b33a-02420a01000d-1-e36e"
    }
   },
   "source": [
    "Unitを作成します。Unitを作成すると同時に VCノード（ここでは Amazon EC2インスタンス）が起動します。\n",
    "\n",
    "> 処理が完了するまで1分半～2分程度かかります。"
   ]
  },
  {
   "cell_type": "code",
   "execution_count": 21,
   "metadata": {
    "deletable": false,
    "editable": false,
    "lc_cell_meme": {
     "current": "f73f043c-dd4a-11eb-b33a-02420a01000d-1-2649",
     "execution_end_time": "2021-07-05T06:52:36.086140Z",
     "next": "f73f0568-dd4a-11eb-b33a-02420a01000d-1-625c",
     "previous": "f73f027a-dd4a-11eb-b33a-02420a01000d-1-9478"
    },
    "lc_wrapper": {},
    "run_through_control": {
     "frozen": true
    },
    "scrolled": true
   },
   "outputs": [
    {
     "name": "stdout",
     "output_type": "stream",
     "text": [
      "2021-07-05 15:47:13,576 - INFO - BOOTING ... 0 sec\n",
      "2021-07-05 15:47:18,795 - INFO - BOOTING ... 5 sec\n",
      "2021-07-05 15:47:23,952 - INFO - BOOTING ... 10 sec\n",
      "2021-07-05 15:47:29,087 - INFO - BOOTING ... 15 sec\n",
      "2021-07-05 15:47:34,228 - INFO - BOOTING ... 20 sec\n",
      "2021-07-05 15:47:39,358 - INFO - BOOTING ... 25 sec\n",
      "2021-07-05 15:47:44,507 - INFO - BOOTING ... 30 sec\n",
      "2021-07-05 15:47:49,645 - INFO - BOOTING ... 35 sec\n",
      "2021-07-05 15:47:54,803 - INFO - BOOTING ... 40 sec\n",
      "2021-07-05 15:47:59,972 - INFO - BOOTING ... 45 sec\n",
      "2021-07-05 15:48:05,156 - INFO - BOOTING ... 50 sec\n",
      "2021-07-05 15:48:10,361 - INFO - BOOTING ... 55 sec\n",
      "2021-07-05 15:48:15,537 - INFO - BOOTING ... 60 sec\n",
      "2021-07-05 15:48:20,694 - INFO - BOOTING ... 65 sec\n",
      "2021-07-05 15:48:25,879 - INFO - BOOTING ... 70 sec\n",
      "2021-07-05 15:48:31,106 - INFO - BOOTING ... 75 sec\n",
      "2021-07-05 15:48:36,277 - INFO - BOOTING ... 80 sec\n",
      "2021-07-05 15:48:41,454 - INFO - BOOTING ... 85 sec\n",
      "2021-07-05 15:48:46,608 - INFO - BOOTING ... 90 sec\n",
      "2021-07-05 15:48:51,750 - INFO - BOOTING ... 95 sec\n",
      "2021-07-05 15:48:56,883 - INFO - BOOTING ... 100 sec\n",
      "2021-07-05 15:49:02,047 - INFO - BOOTING ... 105 sec\n",
      "2021-07-05 15:49:07,228 - INFO - BOOTING ... 110 sec\n",
      "2021-07-05 15:49:12,421 - INFO - BOOTING ... 115 sec\n",
      "2021-07-05 15:49:17,562 - INFO - BOOTING ... 120 sec\n",
      "2021-07-05 15:49:22,699 - INFO - BOOTING ... 125 sec\n",
      "2021-07-05 15:49:27,855 - INFO - BOOTING ... 130 sec\n",
      "2021-07-05 15:49:33,027 - INFO - BOOTING ... 135 sec\n",
      "2021-07-05 15:49:38,212 - INFO - BOOTING ... 140 sec\n",
      "2021-07-05 15:49:43,340 - INFO - BOOTING ... 145 sec\n",
      "2021-07-05 15:49:48,532 - INFO - BOOTING ... 150 sec\n",
      "2021-07-05 15:49:53,714 - INFO - BOOTING ... 155 sec\n",
      "2021-07-05 15:49:58,911 - INFO - BOOTING ... 160 sec\n",
      "2021-07-05 15:50:04,179 - INFO - BOOTING ... 165 sec\n",
      "2021-07-05 15:50:09,389 - INFO - BOOTING ... 170 sec\n",
      "2021-07-05 15:50:14,678 - INFO - BOOTING ... 175 sec\n",
      "2021-07-05 15:50:20,041 - INFO - BOOTING ... 180 sec\n",
      "2021-07-05 15:50:25,243 - INFO - BOOTING ... 185 sec\n",
      "2021-07-05 15:50:30,404 - INFO - BOOTING ... 190 sec\n",
      "2021-07-05 15:50:35,625 - INFO - BOOTING ... 195 sec\n",
      "2021-07-05 15:50:40,773 - INFO - BOOTING ... 200 sec\n",
      "2021-07-05 15:50:45,934 - INFO - BOOTING ... 205 sec\n",
      "2021-07-05 15:50:51,241 - INFO - BOOTING ... 210 sec\n",
      "2021-07-05 15:50:56,430 - INFO - BOOTING ... 215 sec\n",
      "2021-07-05 15:51:01,559 - INFO - BOOTING ... 220 sec\n",
      "2021-07-05 15:51:06,777 - INFO - BOOTING ... 225 sec\n",
      "2021-07-05 15:51:11,944 - INFO - BOOTING ... 230 sec\n",
      "2021-07-05 15:51:17,083 - INFO - BOOTING ... 235 sec\n",
      "2021-07-05 15:51:22,304 - INFO - BOOTING ... 240 sec\n",
      "2021-07-05 15:51:27,743 - INFO - BOOTING ... 245 sec\n",
      "2021-07-05 15:51:32,972 - INFO - BOOTING ... 250 sec\n",
      "2021-07-05 15:51:38,087 - INFO - BOOTING ... 255 sec\n",
      "2021-07-05 15:51:43,248 - INFO - BOOTING ... 260 sec\n",
      "2021-07-05 15:51:48,455 - INFO - BOOTING ... 265 sec\n",
      "2021-07-05 15:51:53,616 - INFO - BOOTING ... 270 sec\n",
      "2021-07-05 15:51:58,764 - INFO - BOOTING ... 275 sec\n",
      "2021-07-05 15:52:03,948 - INFO - BOOTING ... 280 sec\n",
      "2021-07-05 15:52:09,095 - INFO - BOOTING ... 285 sec\n",
      "2021-07-05 15:52:14,240 - INFO - BOOTING ... 290 sec\n",
      "2021-07-05 15:52:19,451 - INFO - BOOTING ... 295 sec\n",
      "2021-07-05 15:52:24,644 - INFO - BOOTING ... 300 sec\n",
      "2021-07-05 15:52:35,880 - INFO - unit aws-server is RUNNING\n"
     ]
    }
   ],
   "source": [
    "# Unitの作成（同時に VCノードが作成される）\n",
    "unit = unit_group.create_unit(\n",
    "    'aws-server',               # Unit名の指定\n",
    "    spec\n",
    ")"
   ]
  },
  {
   "cell_type": "markdown",
   "metadata": {
    "lc_cell_meme": {
     "current": "f73f0568-dd4a-11eb-b33a-02420a01000d-1-625c",
     "next": "f73f0644-dd4a-11eb-b33a-02420a01000d-1-e612",
     "previous": "f73f043c-dd4a-11eb-b33a-02420a01000d-1-2649"
    }
   },
   "source": [
    "UnitGroupに属しているUnitの一覧表示を行い、Unitが作成されていることを確認します。"
   ]
  },
  {
   "cell_type": "code",
   "execution_count": 22,
   "metadata": {
    "deletable": false,
    "editable": false,
    "lc_cell_meme": {
     "current": "f73f0644-dd4a-11eb-b33a-02420a01000d-1-e612",
     "execution_end_time": "2021-07-05T06:52:49.460946Z",
     "next": "f73f0720-dd4a-11eb-b33a-02420a01000d-1-21c6",
     "previous": "f73f0568-dd4a-11eb-b33a-02420a01000d-1-625c"
    },
    "lc_wrapper": {},
    "run_through_control": {
     "frozen": true
    }
   },
   "outputs": [
    {
     "data": {
      "text/html": [
       "<div>\n",
       "<style scoped>\n",
       "    .dataframe tbody tr th:only-of-type {\n",
       "        vertical-align: middle;\n",
       "    }\n",
       "\n",
       "    .dataframe tbody tr th {\n",
       "        vertical-align: top;\n",
       "    }\n",
       "\n",
       "    .dataframe thead th {\n",
       "        text-align: right;\n",
       "    }\n",
       "</style>\n",
       "<table border=\"1\" class=\"dataframe\">\n",
       "  <thead>\n",
       "    <tr style=\"text-align: right;\">\n",
       "      <th></th>\n",
       "      <th>vctype</th>\n",
       "      <th>vcno</th>\n",
       "      <th>vcname</th>\n",
       "      <th>vc_state</th>\n",
       "      <th>vcid</th>\n",
       "      <th>cdate</th>\n",
       "      <th>unit_name</th>\n",
       "      <th>unit_state</th>\n",
       "    </tr>\n",
       "  </thead>\n",
       "  <tbody>\n",
       "    <tr>\n",
       "      <th>0</th>\n",
       "      <td>compute</td>\n",
       "      <td>5</td>\n",
       "      <td>handson101</td>\n",
       "      <td>RUNNING</td>\n",
       "      <td>8928ee14...</td>\n",
       "      <td>2021/07/05 06:45:38 UTC</td>\n",
       "      <td>aws-server</td>\n",
       "      <td>RUNNING</td>\n",
       "    </tr>\n",
       "  </tbody>\n",
       "</table>\n",
       "</div>"
      ],
      "text/plain": [
       "    vctype  vcno      vcname vc_state         vcid                    cdate  \\\n",
       "0  compute     5  handson101  RUNNING  8928ee14...  2021/07/05 06:45:38 UTC   \n",
       "\n",
       "    unit_name unit_state  \n",
       "0  aws-server    RUNNING  "
      ]
     },
     "execution_count": 22,
     "metadata": {},
     "output_type": "execute_result"
    }
   ],
   "source": [
    "# Unitの一覧を DataFrame で表示する\n",
    "unit_group.df_units()"
   ]
  },
  {
   "cell_type": "markdown",
   "metadata": {
    "lc_cell_meme": {
     "current": "f73f0720-dd4a-11eb-b33a-02420a01000d-1-21c6",
     "next": "f73f0810-dd4a-11eb-b33a-02420a01000d-1-a28e",
     "previous": "f73f0644-dd4a-11eb-b33a-02420a01000d-1-e612"
    }
   },
   "source": [
    "UnitGroupに属しているVCノードの一覧表示を行い、VCノードが起動していることを確認します。VCノードが正常に起動していることは `node_state` の表示が `RUNNING`になっていることで確認できます。"
   ]
  },
  {
   "cell_type": "code",
   "execution_count": 23,
   "metadata": {
    "deletable": false,
    "editable": false,
    "lc_cell_meme": {
     "current": "f73f0810-dd4a-11eb-b33a-02420a01000d-1-a28e",
     "execution_end_time": "2021-07-05T06:52:51.435189Z",
     "next": "f73f08e2-dd4a-11eb-b33a-02420a01000d-1-82a6",
     "previous": "f73f0720-dd4a-11eb-b33a-02420a01000d-1-21c6"
    },
    "lc_wrapper": {},
    "run_through_control": {
     "frozen": true
    },
    "scrolled": true
   },
   "outputs": [
    {
     "data": {
      "text/html": [
       "<style  type=\"text/css\" >\n",
       "    #T_9dd066ee_dd5d_11eb_997d_02420a010024row0_col3 {\n",
       "            background-color:  #dfd;\n",
       "        }    #T_9dd066ee_dd5d_11eb_997d_02420a010024row0_col6 {\n",
       "            background-color:  #dfd;\n",
       "        }</style><table id=\"T_9dd066ee_dd5d_11eb_997d_02420a010024\" ><thead>    <tr>        <th class=\"blank level0\" ></th>        <th class=\"col_heading level0 col0\" >vcno</th>        <th class=\"col_heading level0 col1\" >vcname</th>        <th class=\"col_heading level0 col2\" >unit_name</th>        <th class=\"col_heading level0 col3\" >unit_state</th>        <th class=\"col_heading level0 col4\" >node_no</th>        <th class=\"col_heading level0 col5\" >node_id</th>        <th class=\"col_heading level0 col6\" >node_state</th>        <th class=\"col_heading level0 col7\" >cloud_instance_address</th>        <th class=\"col_heading level0 col8\" >cloud_instance_id</th>        <th class=\"col_heading level0 col9\" >cloud_instance_name</th>        <th class=\"col_heading level0 col10\" >volumes</th>    </tr></thead><tbody>\n",
       "                <tr>\n",
       "                        <th id=\"T_9dd066ee_dd5d_11eb_997d_02420a010024level0_row0\" class=\"row_heading level0 row0\" >0</th>\n",
       "                        <td id=\"T_9dd066ee_dd5d_11eb_997d_02420a010024row0_col0\" class=\"data row0 col0\" >5</td>\n",
       "                        <td id=\"T_9dd066ee_dd5d_11eb_997d_02420a010024row0_col1\" class=\"data row0 col1\" >handson101</td>\n",
       "                        <td id=\"T_9dd066ee_dd5d_11eb_997d_02420a010024row0_col2\" class=\"data row0 col2\" >aws-server</td>\n",
       "                        <td id=\"T_9dd066ee_dd5d_11eb_997d_02420a010024row0_col3\" class=\"data row0 col3\" >RUNNING</td>\n",
       "                        <td id=\"T_9dd066ee_dd5d_11eb_997d_02420a010024row0_col4\" class=\"data row0 col4\" >1</td>\n",
       "                        <td id=\"T_9dd066ee_dd5d_11eb_997d_02420a010024row0_col5\" class=\"data row0 col5\" >ff27f448...</td>\n",
       "                        <td id=\"T_9dd066ee_dd5d_11eb_997d_02420a010024row0_col6\" class=\"data row0 col6\" >RUNNING</td>\n",
       "                        <td id=\"T_9dd066ee_dd5d_11eb_997d_02420a010024row0_col7\" class=\"data row0 col7\" >172.30.2.104</td>\n",
       "                        <td id=\"T_9dd066ee_dd5d_11eb_997d_02420a010024row0_col8\" class=\"data row0 col8\" >i-0f3a952880fd13de9</td>\n",
       "                        <td id=\"T_9dd066ee_dd5d_11eb_997d_02420a010024row0_col9\" class=\"data row0 col9\" >VCP-8dbe841c-8928ee14</td>\n",
       "                        <td id=\"T_9dd066ee_dd5d_11eb_997d_02420a010024row0_col10\" class=\"data row0 col10\" >none</td>\n",
       "            </tr>\n",
       "    </tbody></table>"
      ],
      "text/plain": [
       "<pandas.io.formats.style.Styler at 0x7f7cd7cdcf90>"
      ]
     },
     "execution_count": 23,
     "metadata": {},
     "output_type": "execute_result"
    }
   ],
   "source": [
    "# VCノードの一覧を DataFrame で表示する\n",
    "unit_group.df_nodes()"
   ]
  },
  {
   "cell_type": "markdown",
   "metadata": {
    "lc_cell_meme": {
     "current": "f73f08e2-dd4a-11eb-b33a-02420a01000d-1-82a6",
     "next": "f73f09be-dd4a-11eb-b33a-02420a01000d-1-c4a9",
     "previous": "f73f0810-dd4a-11eb-b33a-02420a01000d-1-a28e"
    }
   },
   "source": [
    "ここでは VCノードの起動が完了するまで待ち合わせるモードでUnitの作成を行いましたが、非同期処理でUnit, VCノードの作成を行うこともできます。`create_unit()`の`wait_for`パラメータに`False`を指定すると非同期モードでのUnit, VCノードの作成が行えます。\n",
    "\n",
    "```\n",
    "unit = unit_group.create_unit('aws-server', spec, wait_for=False)\n",
    "```\n",
    "\n",
    "非同期モードでUnitを作成した場合にUnitやVCノードが起動したことを確認するには、以下に示す方法で状態取得を行ってください。\n",
    "\n",
    "1. `unit_group.df_units()`\n",
    "  * Unitの一覧表示の`unit_state`の項目で Unitの状態を確認できます\n",
    "  * 起動中は `BOOTING`、起動が完了して実行中になると `RUNNING` と表示されます\n",
    " \n",
    "1. `unit.df_nodes()`, `unit_group.df_nodes()`\n",
    "  * VCノードの一覧表示の`node_state`の項目で VCノードの状態を確認できます\n",
    "  * 起動中は `BOOTING`、起動が完了して実行中になると `RUNNING` と表示されます\n",
    "\n",
    "非同期モードでUnit作成を行った場合でも、以下のメソッドを利用することで後からVCノード起動の待ち合わせを行うことができます。\n",
    "* `unit_group.wait_unit_applied(unit_name)`\n",
    "  - unit_nameで指定されたUnitの状態が `RUNNING` または `ERROR`になるのを待ちます"
   ]
  },
  {
   "cell_type": "markdown",
   "metadata": {
    "lc_cell_meme": {
     "current": "f73f09be-dd4a-11eb-b33a-02420a01000d-1-c4a9",
     "next": "f73f0a9a-dd4a-11eb-b33a-02420a01000d-1-1216",
     "previous": "f73f08e2-dd4a-11eb-b33a-02420a01000d-1-82a6"
    }
   },
   "source": [
    "## 疎通確認\n",
    "\n",
    "起動した VCノードに対して`ping`を行ってみます。"
   ]
  },
  {
   "cell_type": "markdown",
   "metadata": {
    "lc_cell_meme": {
     "current": "f73f0a9a-dd4a-11eb-b33a-02420a01000d-1-1216",
     "next": "f73f0b80-dd4a-11eb-b33a-02420a01000d-1-09c9",
     "previous": "f73f09be-dd4a-11eb-b33a-02420a01000d-1-c4a9"
    }
   },
   "source": [
    "まずUnitGroup内で起動しているVCノードに割り当てられているプライベートIPアドレスの値を取得して変数 `ip_address`に格納します。"
   ]
  },
  {
   "cell_type": "code",
   "execution_count": 24,
   "metadata": {
    "deletable": false,
    "editable": false,
    "lc_cell_meme": {
     "current": "f73f0b80-dd4a-11eb-b33a-02420a01000d-1-09c9",
     "execution_end_time": "2021-07-05T06:52:57.658609Z",
     "next": "f73f0c5c-dd4a-11eb-b33a-02420a01000d-1-73b7",
     "previous": "f73f0a9a-dd4a-11eb-b33a-02420a01000d-1-1216"
    },
    "lc_wrapper": {},
    "run_through_control": {
     "frozen": true
    }
   },
   "outputs": [
    {
     "name": "stdout",
     "output_type": "stream",
     "text": [
      "172.30.2.104\n"
     ]
    }
   ],
   "source": [
    "# unit_group.find_ip_addresses() は UnitGroup内の全VCノードのIPアドレスのリストを返します\n",
    "ip_address = unit_group.find_ip_addresses(node_state='RUNNING')[0] # 今は１つのVCノードのみ起動しているので [0] で最初の要素を取り出す\n",
    "\n",
    "print(ip_address)"
   ]
  },
  {
   "cell_type": "markdown",
   "metadata": {
    "lc_cell_meme": {
     "current": "f73f0c5c-dd4a-11eb-b33a-02420a01000d-1-73b7",
     "next": "f73f0d38-dd4a-11eb-b33a-02420a01000d-1-d334",
     "previous": "f73f0b80-dd4a-11eb-b33a-02420a01000d-1-09c9"
    }
   },
   "source": [
    "実際に `ping` を行ってみます。\n",
    "\n",
    "> Codeセルで先頭に `!` をつけるとシェルコマンドが実行できます。また `{}`で囲むことで Python の変数参照やコードの実行に置き換えることができます。詳しくは「[IPython Documentation](https://ipython.readthedocs.io/en/stable/interactive/tutorial.html#system-shell-commands)」などを参照してください。"
   ]
  },
  {
   "cell_type": "code",
   "execution_count": 25,
   "metadata": {
    "deletable": false,
    "editable": false,
    "lc_cell_meme": {
     "current": "f73f0d38-dd4a-11eb-b33a-02420a01000d-1-d334",
     "execution_end_time": "2021-07-05T06:52:59.913639Z",
     "next": "f73f0e0a-dd4a-11eb-b33a-02420a01000d-1-5807",
     "previous": "f73f0c5c-dd4a-11eb-b33a-02420a01000d-1-73b7"
    },
    "lc_wrapper": {},
    "run_through_control": {
     "frozen": true
    }
   },
   "outputs": [],
   "source": [
    "# NIIのハンズオン環境ではネットワーク構成の事情により本NotebookからVCノードへのping実行はできません。\n",
    "# !ping -c 5 {ip_address}"
   ]
  },
  {
   "cell_type": "markdown",
   "metadata": {
    "lc_cell_meme": {
     "current": "f73f0e0a-dd4a-11eb-b33a-02420a01000d-1-5807",
     "next": "f73f0ee6-dd4a-11eb-b33a-02420a01000d-1-3d93",
     "previous": "f73f0d38-dd4a-11eb-b33a-02420a01000d-1-d334"
    }
   },
   "source": [
    "# VCノードに ssh でログインして操作する"
   ]
  },
  {
   "cell_type": "markdown",
   "metadata": {
    "lc_cell_meme": {
     "current": "f73f0ee6-dd4a-11eb-b33a-02420a01000d-1-3d93",
     "next": "f73f0fd6-dd4a-11eb-b33a-02420a01000d-1-c746",
     "previous": "f73f0e0a-dd4a-11eb-b33a-02420a01000d-1-5807"
    }
   },
   "source": [
    "起動したVCノードに ssh でログインして操作を行います。"
   ]
  },
  {
   "cell_type": "markdown",
   "metadata": {
    "lc_cell_meme": {
     "current": "f73f0fd6-dd4a-11eb-b33a-02420a01000d-1-c746",
     "next": "f73f10a8-dd4a-11eb-b33a-02420a01000d-1-105b",
     "previous": "f73f0ee6-dd4a-11eb-b33a-02420a01000d-1-3d93"
    }
   },
   "source": [
    "まず、ログインする前に ~/.ssh/known_hosts のホストキーを更新します。"
   ]
  },
  {
   "cell_type": "code",
   "execution_count": 26,
   "metadata": {
    "deletable": false,
    "editable": false,
    "lc_cell_meme": {
     "current": "f73f10a8-dd4a-11eb-b33a-02420a01000d-1-105b",
     "execution_end_time": "2021-07-05T06:53:06.189058Z",
     "next": "f73f117a-dd4a-11eb-b33a-02420a01000d-1-9de3",
     "previous": "f73f0fd6-dd4a-11eb-b33a-02420a01000d-1-c746"
    },
    "lc_wrapper": {},
    "run_through_control": {
     "frozen": true
    }
   },
   "outputs": [
    {
     "name": "stdout",
     "output_type": "stream",
     "text": [
      "Host 172.30.2.104 not found in /home/jovyan/.ssh/known_hosts\n"
     ]
    }
   ],
   "source": [
    "!touch ~/.ssh/known_hosts\n",
    "# ~/.ssh/known_hosts から古いホストキーを削除する\n",
    "!ssh-keygen -R {ip_address}\n",
    "\n",
    "# ホストキーの登録\n",
    "!ssh-keyscan -H {ip_address} >> ~/.ssh/known_hosts"
   ]
  },
  {
   "cell_type": "markdown",
   "metadata": {
    "lc_cell_meme": {
     "current": "f73f117a-dd4a-11eb-b33a-02420a01000d-1-9de3",
     "next": "f73f124c-dd4a-11eb-b33a-02420a01000d-1-f5fe",
     "previous": "f73f10a8-dd4a-11eb-b33a-02420a01000d-1-105b"
    }
   },
   "source": [
    "`ls -la` を実行してみます。"
   ]
  },
  {
   "cell_type": "code",
   "execution_count": 27,
   "metadata": {
    "deletable": false,
    "editable": false,
    "lc_cell_meme": {
     "current": "f73f124c-dd4a-11eb-b33a-02420a01000d-1-f5fe",
     "execution_end_time": "2021-07-05T06:53:08.882645Z",
     "next": "f73f1332-dd4a-11eb-b33a-02420a01000d-1-ff91",
     "previous": "f73f117a-dd4a-11eb-b33a-02420a01000d-1-9de3"
    },
    "lc_wrapper": {},
    "run_through_control": {
     "frozen": true
    },
    "scrolled": true
   },
   "outputs": [
    {
     "name": "stdout",
     "output_type": "stream",
     "text": [
      "Warning: Permanently added '172.30.2.104' (ECDSA) to the list of known hosts.\n",
      "total 20\n",
      "drwx------    1 root     root          4096 Oct  5  2020 .\n",
      "drwxr-xr-x    1 root     root          4096 Jul  5 06:52 ..\n",
      "drwxr-xr-x    1 root     root          4096 Oct  5  2020 .cache\n",
      "drwxr-xr-x    3 root     root          4096 Oct  5  2020 .gem\n",
      "drwx------    1 root     root          4096 Jul  5 06:52 .ssh\n"
     ]
    }
   ],
   "source": [
    "!ssh -i {ssh_private_key} -l root {ip_address} /bin/ls -la"
   ]
  },
  {
   "cell_type": "markdown",
   "metadata": {
    "lc_cell_meme": {
     "current": "f73f1332-dd4a-11eb-b33a-02420a01000d-1-ff91",
     "next": "f73f1418-dd4a-11eb-b33a-02420a01000d-1-117f",
     "previous": "f73f124c-dd4a-11eb-b33a-02420a01000d-1-f5fe"
    }
   },
   "source": [
    "VCノードにsshでログインするにはsshの引数に以下の指定が必要となります。\n",
    "\n",
    "* sshの identity ファイル(-i)\n",
    "  - `spec`オブジェクトに設定した公開鍵に対応する秘密鍵\n",
    "* ユーザ名(-l)\n",
    "  - `root`\n",
    "* ログイン先のIPアドレス"
   ]
  },
  {
   "cell_type": "markdown",
   "metadata": {
    "lc_cell_meme": {
     "current": "f73f1418-dd4a-11eb-b33a-02420a01000d-1-117f",
     "next": "f73f14ea-dd4a-11eb-b33a-02420a01000d-1-3fe1",
     "previous": "f73f1332-dd4a-11eb-b33a-02420a01000d-1-ff91"
    }
   },
   "source": [
    "sshのオプションを毎回指定するのも煩雑なので変数に設定しておきます。"
   ]
  },
  {
   "cell_type": "code",
   "execution_count": 28,
   "metadata": {
    "deletable": false,
    "editable": false,
    "lc_cell_meme": {
     "current": "f73f14ea-dd4a-11eb-b33a-02420a01000d-1-3fe1",
     "execution_end_time": "2021-07-05T06:53:11.016102Z",
     "next": "f73f15c6-dd4a-11eb-b33a-02420a01000d-1-df3d",
     "previous": "f73f1418-dd4a-11eb-b33a-02420a01000d-1-117f"
    },
    "lc_wrapper": {},
    "run_through_control": {
     "frozen": true
    }
   },
   "outputs": [],
   "source": [
    "ssh_opts = f\"-i {ssh_private_key} -l root\""
   ]
  },
  {
   "cell_type": "markdown",
   "metadata": {
    "lc_cell_meme": {
     "current": "f73f15c6-dd4a-11eb-b33a-02420a01000d-1-df3d",
     "next": "f73f1698-dd4a-11eb-b33a-02420a01000d-1-aa9a",
     "previous": "f73f14ea-dd4a-11eb-b33a-02420a01000d-1-3fe1"
    }
   },
   "source": [
    "VCノードに対して`uname -a`, `df -h` などを実行してみます。"
   ]
  },
  {
   "cell_type": "code",
   "execution_count": 29,
   "metadata": {
    "deletable": false,
    "editable": false,
    "lc_cell_meme": {
     "current": "f73f1698-dd4a-11eb-b33a-02420a01000d-1-aa9a",
     "execution_end_time": "2021-07-05T06:53:12.787801Z",
     "next": "f73f176a-dd4a-11eb-b33a-02420a01000d-1-ef6c",
     "previous": "f73f15c6-dd4a-11eb-b33a-02420a01000d-1-df3d"
    },
    "lc_wrapper": {},
    "run_through_control": {
     "frozen": true
    }
   },
   "outputs": [
    {
     "name": "stdout",
     "output_type": "stream",
     "text": [
      "Linux ip-172-30-2-104 4.4.0-159-generic #187-Ubuntu SMP Thu Aug 1 16:28:06 UTC 2019 x86_64 Linux\r\n"
     ]
    }
   ],
   "source": [
    "!ssh {ssh_opts} {ip_address} uname -a"
   ]
  },
  {
   "cell_type": "code",
   "execution_count": 30,
   "metadata": {
    "deletable": false,
    "editable": false,
    "lc_cell_meme": {
     "current": "f73f176a-dd4a-11eb-b33a-02420a01000d-1-ef6c",
     "execution_end_time": "2021-07-05T06:53:15.083309Z",
     "next": "f73f1896-dd4a-11eb-b33a-02420a01000d-1-c74c",
     "previous": "f73f1698-dd4a-11eb-b33a-02420a01000d-1-aa9a"
    },
    "lc_wrapper": {},
    "run_through_control": {
     "frozen": true
    }
   },
   "outputs": [
    {
     "name": "stdout",
     "output_type": "stream",
     "text": [
      "Filesystem                Size      Used Available Use% Mounted on\r\n",
      "overlay                  14.6G      3.3G     10.6G  24% /\r\n",
      "tmpfs                     3.9G         0      3.9G   0% /sys/fs/cgroup\r\n",
      "udev                      3.9G         0      3.9G   0% /dev\r\n",
      "tmpfs                     3.9G         0      3.9G   0% /dev/shm\r\n",
      "/dev/xvda1               14.6G      3.3G     10.6G  24% /etc/resolv.conf\r\n",
      "/dev/xvda1               14.6G      3.3G     10.6G  24% /etc/hostname\r\n",
      "/dev/xvda1               14.6G      3.3G     10.6G  24% /etc/hosts\r\n",
      "/dev/xvda1               14.6G      3.3G     10.6G  24% /var/lib/docker\r\n",
      "none                      3.9G         0      3.9G   0% /tmp\r\n"
     ]
    }
   ],
   "source": [
    "!ssh {ssh_opts} {ip_address} df -h"
   ]
  },
  {
   "cell_type": "markdown",
   "metadata": {
    "lc_cell_meme": {
     "current": "f73f1896-dd4a-11eb-b33a-02420a01000d-1-c74c",
     "next": "f73f1972-dd4a-11eb-b33a-02420a01000d-1-34b4",
     "previous": "f73f176a-dd4a-11eb-b33a-02420a01000d-1-ef6c"
    }
   },
   "source": [
    "# GrafanaでVCノードの利用状況を確認する"
   ]
  },
  {
   "cell_type": "markdown",
   "metadata": {
    "lc_cell_meme": {
     "current": "f73f1972-dd4a-11eb-b33a-02420a01000d-1-34b4",
     "next": "f73f1a3a-dd4a-11eb-b33a-02420a01000d-1-6594",
     "previous": "f73f1896-dd4a-11eb-b33a-02420a01000d-1-c74c"
    }
   },
   "source": [
    "VCPではVCノードの利用状況(CPU負荷、メモリ使用量、ネットワーク）を確認するためGrafanaのダッシュボードを提供しています。"
   ]
  },
  {
   "cell_type": "markdown",
   "metadata": {
    "lc_cell_meme": {
     "current": "f73f1a3a-dd4a-11eb-b33a-02420a01000d-1-6594",
     "next": "f73f1b16-dd4a-11eb-b33a-02420a01000d-1-9dd4",
     "previous": "f73f1972-dd4a-11eb-b33a-02420a01000d-1-34b4"
    }
   },
   "source": [
    "## Grafanaへのログイン"
   ]
  },
  {
   "cell_type": "markdown",
   "metadata": {
    "lc_cell_meme": {
     "current": "f73f1b16-dd4a-11eb-b33a-02420a01000d-1-9dd4",
     "next": "f73f1be8-dd4a-11eb-b33a-02420a01000d-1-92cb",
     "previous": "f73f1a3a-dd4a-11eb-b33a-02420a01000d-1-6594"
    }
   },
   "source": [
    "以下のセルを実行して Grafana ダッシュボードを開いてください。\n",
    "\n",
    "最初にログイン画面が表示されるので ユーザ名、パスワードにそれぞれ `admin`, `admin`を入力してください。 "
   ]
  },
  {
   "cell_type": "code",
   "execution_count": 31,
   "metadata": {
    "deletable": false,
    "editable": false,
    "lc_cell_meme": {
     "current": "f73f1be8-dd4a-11eb-b33a-02420a01000d-1-92cb",
     "execution_end_time": "2021-07-05T06:53:18.177656Z",
     "next": "f73f1ce2-dd4a-11eb-b33a-02420a01000d-1-319f",
     "previous": "f73f1b16-dd4a-11eb-b33a-02420a01000d-1-9dd4"
    },
    "lc_wrapper": {},
    "run_through_control": {
     "frozen": true
    }
   },
   "outputs": [
    {
     "name": "stdout",
     "output_type": "stream",
     "text": [
      "https://localhost/grafana/d/vcp/vcp-metrics?refresh=5s\n"
     ]
    }
   ],
   "source": [
    "vcc_ctr = vcp.vcc_info()['host']\n",
    "http_host = vcc_ctr.split(':')[0]\n",
    "grafana_url = \"https://{}/grafana/d/vcp/vcp-metrics?refresh=5s\".format(http_host)\n",
    "print(grafana_url)"
   ]
  },
  {
   "cell_type": "markdown",
   "metadata": {
    "lc_cell_meme": {
     "current": "f73f1ce2-dd4a-11eb-b33a-02420a01000d-1-319f",
     "next": "f73f1dc8-dd4a-11eb-b33a-02420a01000d-1-9151",
     "previous": "f73f1be8-dd4a-11eb-b33a-02420a01000d-1-92cb"
    }
   },
   "source": [
    "![Grafanaのログイン画面](./images/grafana-login.png)"
   ]
  },
  {
   "cell_type": "markdown",
   "metadata": {
    "lc_cell_meme": {
     "current": "f73f1dc8-dd4a-11eb-b33a-02420a01000d-1-9151",
     "next": "f73f1e9a-dd4a-11eb-b33a-02420a01000d-1-a6fa",
     "previous": "f73f1ce2-dd4a-11eb-b33a-02420a01000d-1-319f"
    }
   },
   "source": [
    "## 負荷状況のグラフ表示\n",
    "\n",
    "以下のように表示されます。左半分のグラフがBaseコンテナの負荷状況で、右半分がアプリケーションコンテナの負荷状況のグラフです。\n",
    "\n",
    "![負荷状況](./images/grafana-metrics.png)"
   ]
  },
  {
   "cell_type": "markdown",
   "metadata": {
    "lc_cell_meme": {
     "current": "f73f1e9a-dd4a-11eb-b33a-02420a01000d-1-a6fa",
     "next": "f73f1f6c-dd4a-11eb-b33a-02420a01000d-1-0946",
     "previous": "f73f1dc8-dd4a-11eb-b33a-02420a01000d-1-9151"
    }
   },
   "source": [
    "VCノードに負荷をかけるために、アプリケーションコンテナで stress コマンドを実行します。"
   ]
  },
  {
   "cell_type": "code",
   "execution_count": 32,
   "metadata": {
    "deletable": false,
    "editable": false,
    "lc_cell_meme": {
     "current": "f73f1f6c-dd4a-11eb-b33a-02420a01000d-1-0946",
     "execution_end_time": "2021-07-05T06:53:29.208645Z",
     "next": "f73f2048-dd4a-11eb-b33a-02420a01000d-1-cf4a",
     "previous": "f73f1e9a-dd4a-11eb-b33a-02420a01000d-1-a6fa"
    },
    "lc_wrapper": {},
    "run_through_control": {
     "frozen": true
    },
    "scrolled": true
   },
   "outputs": [
    {
     "name": "stdout",
     "output_type": "stream",
     "text": [
      "Unable to find image 'polinux/stress:latest' locally\n",
      "latest: Pulling from polinux/stress\n",
      "63bc94deeb28: Pulling fs layer\n",
      "8d43371bad93: Pulling fs layer\n",
      "8d43371bad93: Verifying Checksum\n",
      "8d43371bad93: Download complete\n",
      "63bc94deeb28: Verifying Checksum\n",
      "63bc94deeb28: Download complete\n",
      "63bc94deeb28: Pull complete\n",
      "8d43371bad93: Pull complete\n",
      "Digest: sha256:b6144f84f9c15dac80deb48d3a646b55c7043ab1d83ea0a697c09097aaad21aa\n",
      "Status: Downloaded newer image for polinux/stress:latest\n",
      "7805aaa904344341ed02acee5bc7da7d8add7046b1056946f573f9b5cbe83c86\n"
     ]
    }
   ],
   "source": [
    "# 60秒間だけ CPU x 2 とメモリ 128 MB を消費する\n",
    "!ssh {ssh_opts} {ip_address} \\\n",
    "    /usr/local/bin/docker run -td --rm --name stress-0 polinux/stress \\\n",
    "    stress --cpu 2 --io 1 --vm 2 --vm-bytes 128M --timeout 60s --verbose"
   ]
  },
  {
   "cell_type": "markdown",
   "metadata": {
    "lc_cell_meme": {
     "current": "f73f2048-dd4a-11eb-b33a-02420a01000d-1-cf4a",
     "next": "f73f2124-dd4a-11eb-b33a-02420a01000d-1-dec5",
     "previous": "f73f1f6c-dd4a-11eb-b33a-02420a01000d-1-0946"
    }
   },
   "source": [
    "# 全てのVCノードを削除する"
   ]
  },
  {
   "cell_type": "markdown",
   "metadata": {
    "lc_cell_meme": {
     "current": "f73f2124-dd4a-11eb-b33a-02420a01000d-1-dec5",
     "next": "f73f2200-dd4a-11eb-b33a-02420a01000d-1-71da",
     "previous": "f73f2048-dd4a-11eb-b33a-02420a01000d-1-cf4a"
    }
   },
   "source": [
    "ここまで作成した全てのリソース（UnitGroup, Unit、VCノード）を削除します。この操作を行うことで AWS EC2インスタンスやAzure VMなどのクラウドに作成したリソースが削除されます。\n",
    "\n",
    "> 全てのリソースの削除には 4～5分程度かかります。"
   ]
  },
  {
   "cell_type": "code",
   "execution_count": 33,
   "metadata": {
    "deletable": false,
    "editable": false,
    "lc_cell_meme": {
     "current": "f73f2200-dd4a-11eb-b33a-02420a01000d-1-71da",
     "execution_end_time": "2021-07-05T06:54:21.935941Z",
     "next": "f73f22c8-dd4a-11eb-b33a-02420a01000d-1-9c6d",
     "previous": "f73f2124-dd4a-11eb-b33a-02420a01000d-1-dec5"
    },
    "lc_wrapper": {},
    "run_through_control": {
     "frozen": true
    },
    "scrolled": true
   },
   "outputs": [
    {
     "name": "stdout",
     "output_type": "stream",
     "text": [
      "2021-07-05 15:53:35,508 - INFO - aws-server is DELETING ... 0 sec\n",
      "2021-07-05 15:53:40,626 - INFO - aws-server is DELETING ... 5 sec\n",
      "2021-07-05 15:53:45,775 - INFO - aws-server is DELETING ... 10 sec\n",
      "2021-07-05 15:53:50,952 - INFO - aws-server is DELETING ... 15 sec\n",
      "2021-07-05 15:53:56,137 - INFO - aws-server is DELETING ... 20 sec\n",
      "2021-07-05 15:54:01,358 - INFO - aws-server is DELETING ... 25 sec\n",
      "2021-07-05 15:54:06,574 - INFO - aws-server is DELETING ... 30 sec\n",
      "2021-07-05 15:54:11,736 - INFO - aws-server is DELETING ... 35 sec\n",
      "2021-07-05 15:54:16,863 - INFO - aws-server is DELETING ... 40 sec\n",
      "2021-07-05 15:54:21,933 - INFO - cleanup completed. vc  is cleanup(no unit)\n"
     ]
    }
   ],
   "source": [
    "unit_group.cleanup()"
   ]
  },
  {
   "cell_type": "markdown",
   "metadata": {
    "lc_cell_meme": {
     "current": "f73f22c8-dd4a-11eb-b33a-02420a01000d-1-9c6d",
     "next": "f73f239a-dd4a-11eb-b33a-02420a01000d-1-72af",
     "previous": "f73f2200-dd4a-11eb-b33a-02420a01000d-1-71da"
    }
   },
   "source": [
    "削除後の状態を確認してみます。"
   ]
  },
  {
   "cell_type": "code",
   "execution_count": 34,
   "metadata": {
    "deletable": false,
    "editable": false,
    "lc_cell_meme": {
     "current": "f73f239a-dd4a-11eb-b33a-02420a01000d-1-72af",
     "execution_end_time": "2021-07-05T06:55:04.117047Z",
     "next": null,
     "previous": "f73f22c8-dd4a-11eb-b33a-02420a01000d-1-9c6d"
    },
    "lc_wrapper": {},
    "run_through_control": {
     "frozen": true
    },
    "scrolled": true
   },
   "outputs": [
    {
     "data": {
      "text/html": [
       "<style  type=\"text/css\" >\n",
       "</style><table id=\"T_ece6377c_dd5d_11eb_997d_02420a010024\" ><thead>    <tr>        <th class=\"blank level0\" ></th>        <th class=\"col_heading level0 col0\" >vcno</th>        <th class=\"col_heading level0 col1\" >vctype</th>        <th class=\"col_heading level0 col2\" >vcname</th>        <th class=\"col_heading level0 col3\" >state</th>        <th class=\"col_heading level0 col4\" >vcid</th>        <th class=\"col_heading level0 col5\" >cdate</th>    </tr></thead><tbody>\n",
       "        </tbody></table>"
      ],
      "text/plain": [
       "<pandas.io.formats.style.Styler at 0x7f7cd79cff90>"
      ]
     },
     "execution_count": 34,
     "metadata": {},
     "output_type": "execute_result"
    }
   ],
   "source": [
    "# UnitGroupの一覧を DataFrame で表示する\n",
    "vcp.df_ugroups()"
   ]
  }
 ],
 "metadata": {
  "kernelspec": {
   "display_name": "Python 3",
   "language": "python",
   "name": "python3"
  },
  "language_info": {
   "file_extension": ".py",
   "mimetype": "text/x-python",
   "name": "python",
   "nbconvert_exporter": "python",
   "pygments_lexer": "ipython3",
   "version": "3.7.6"
  },
  "toc": {
   "base_numbering": 1,
   "nav_menu": {},
   "number_sections": true,
   "sideBar": true,
   "skip_h1_title": false,
   "title_cell": "Table of Contents",
   "title_sidebar": "Contents",
   "toc_cell": false,
   "toc_position": {
    "height": "826px",
    "left": "0px",
    "right": "1202px",
    "top": "111px",
    "width": "219px"
   },
   "toc_section_display": "block",
   "toc_window_display": true
  }
 },
 "nbformat": 4,
 "nbformat_minor": 2
}
