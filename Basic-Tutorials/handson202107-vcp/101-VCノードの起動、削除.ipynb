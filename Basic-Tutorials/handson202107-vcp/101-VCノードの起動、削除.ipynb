{
 "cells": [
  {
   "cell_type": "markdown",
   "metadata": {
    "lc_cell_meme": {
     "current": "f5c9dcda-dd4a-11eb-8d4b-02420a01000d-3-ebb3-c715-41ba",
     "next": "f5c9de2e-dd4a-11eb-8d4b-02420a01000d-3-271c-a2c5-44ef",
     "previous": null
    }
   },
   "source": [
    "# VCノードの起動、削除\n",
    "\n",
    "このNotebookではVCP SDKを利用してVCノードを起動、削除する手順を記しています。"
   ]
  },
  {
   "cell_type": "markdown",
   "metadata": {
    "lc_cell_meme": {
     "current": "f5c9de2e-dd4a-11eb-8d4b-02420a01000d-3-271c-a2c5-44ef",
     "next": "f5c9df28-dd4a-11eb-8d4b-02420a01000d-3-2be7-4691-ba33",
     "previous": "f5c9dcda-dd4a-11eb-8d4b-02420a01000d-3-ebb3-c715-41ba"
    }
   },
   "source": [
    "## 概要"
   ]
  },
  {
   "cell_type": "markdown",
   "metadata": {
    "lc_cell_meme": {
     "current": "f5c9df28-dd4a-11eb-8d4b-02420a01000d-3-2be7-4691-ba33",
     "next": "f5c9e022-dd4a-11eb-8d4b-02420a01000d-3-256d-bcf5-e0b6",
     "previous": "f5c9de2e-dd4a-11eb-8d4b-02420a01000d-3-271c-a2c5-44ef"
    }
   },
   "source": [
    "![構成](images/101-001.png)"
   ]
  },
  {
   "cell_type": "markdown",
   "metadata": {
    "heading_collapsed": true,
    "lc_cell_meme": {
     "current": "f5c9e022-dd4a-11eb-8d4b-02420a01000d-3-256d-bcf5-e0b6",
     "next": "f5c9e0fe-dd4a-11eb-8d4b-02420a01000d-3-ee2d-7f18-99ca",
     "previous": "f5c9df28-dd4a-11eb-8d4b-02420a01000d-3-2be7-4691-ba33"
    }
   },
   "source": [
    "### 用語説明"
   ]
  },
  {
   "cell_type": "markdown",
   "metadata": {
    "hidden": true,
    "lc_cell_meme": {
     "current": "f5c9e0fe-dd4a-11eb-8d4b-02420a01000d-3-ee2d-7f18-99ca",
     "next": "f5c9e1d0-dd4a-11eb-8d4b-02420a01000d-3-f7e6-5960-5874",
     "previous": "f5c9e022-dd4a-11eb-8d4b-02420a01000d-3-256d-bcf5-e0b6"
    }
   },
   "source": [
    "上の図、またはこれ以降に示す図に記されている構成要素についての簡単な説明を以下に記します。\n",
    "\n",
    "* [VPC](https://aws.amazon.com/jp/vpc/)\n",
    "  - Amazon が提供している AWS 内の仮想プライベートネットワーク環境\n",
    "* [Amazon EC2](https://aws.amazon.com/jp/ec2/)\n",
    "  - Amazon が提供している仮想コンピューティング環境\n",
    "* [Azure Virtual Network](https://azure.microsoft.com/ja-jp/services/virtual-network/)\n",
    "  - Microsoft が提供しているクラウド内の仮想プライベートネットワーク環境\n",
    "* [Azure Virtual Machine](https://azure.microsoft.com/ja-jp/services/virtual-machines/)\n",
    "  - Microsoft が提供している仮想コンピューティング環境\n",
    "* VC Controller\n",
    "  - VCPがユーザに対して提供しているサービス群\n",
    "* VC Controller Core\n",
    "  - ユーザからのAPI呼び出しを受けとりUnitGroupの作成、削除などを行う\n",
    "* Grafana\n",
    "  - 可視化ツール、ダッシュボードツール\n",
    "  - VCP では VCノード のモニタリング状況を表示するのに利用している\n",
    "* VCP SDK\n",
    "  - VCPの機能を呼び出して VM/BM の作成、削除などを行うPython3のライブラリ\n",
    "* VCノード\n",
    "  - Amazon EC2, Azure Virtual Machine などの計算資源を抽象化したVCPのノード\n",
    "* Unit\n",
    "  - 同質（同じ計算資源(cpu, memory, ...)、同じクラウド、同じ用途、...）であるVCノードをまとめて扱うためのもの\n",
    "* UnitGroup\n",
    "  - 複数のUnitをまとめて扱うためのものです"
   ]
  },
  {
   "cell_type": "markdown",
   "metadata": {
    "lc_cell_meme": {
     "current": "f5c9e1d0-dd4a-11eb-8d4b-02420a01000d-3-f7e6-5960-5874",
     "next": "f5c9e2b6-dd4a-11eb-8d4b-02420a01000d-3-85ab-afff-947a",
     "previous": "f5c9e0fe-dd4a-11eb-8d4b-02420a01000d-3-ee2d-7f18-99ca"
    }
   },
   "source": [
    "## 操作手順"
   ]
  },
  {
   "cell_type": "markdown",
   "metadata": {
    "lc_cell_meme": {
     "current": "f5c9e2b6-dd4a-11eb-8d4b-02420a01000d-3-85ab-afff-947a",
     "next": "f5c9e388-dd4a-11eb-8d4b-02420a01000d-3-d3fd-6246-0439",
     "previous": "f5c9e1d0-dd4a-11eb-8d4b-02420a01000d-3-f7e6-5960-5874"
    }
   },
   "source": [
    "大まかな操作手順は以下のようになります。\n",
    "\n",
    "1. VCP SDKを用いてVCノード(Amazon EC2 インスタンス)を起動する\n",
    "1. 起動したVCノードに ssh でログインして操作する\n",
    "1. GrafanaでVCノードの利用状況を確認する\n",
    "1. Unit内のVCノードをスケールアウト、スケールインする\n",
    "1. 別のパブリッククラウド(Microsoft Azure)のVCノードを起動する\n",
    "1. 起動したVCノードをすべて削除する"
   ]
  },
  {
   "cell_type": "markdown",
   "metadata": {
    "lc_cell_meme": {
     "current": "f5c9e388-dd4a-11eb-8d4b-02420a01000d-3-d3fd-6246-0439",
     "next": "f5c9e464-dd4a-11eb-8d4b-02420a01000d-3-b374-87aa-7867",
     "previous": "f5c9e2b6-dd4a-11eb-8d4b-02420a01000d-3-85ab-afff-947a"
    }
   },
   "source": [
    "## アクセストークンの入力"
   ]
  },
  {
   "cell_type": "markdown",
   "metadata": {
    "lc_cell_meme": {
     "current": "f5c9e464-dd4a-11eb-8d4b-02420a01000d-3-b374-87aa-7867",
     "next": "f5c9e52c-dd4a-11eb-8d4b-02420a01000d-3-9c7e-0225-7d45",
     "previous": "f5c9e388-dd4a-11eb-8d4b-02420a01000d-3-d3fd-6246-0439"
    }
   },
   "source": [
    "VCP SDKを利用するにはVC Controllerのアクセストークンが必要となります。次のセルを実行すると入力枠が表示されるのでアクセストークンの値を入力してください。\n",
    "\n",
    "> アクセストークン入力後に Enter キーを押すことで入力が完了します。"
   ]
  },
  {
   "cell_type": "code",
   "execution_count": 1,
   "metadata": {
    "deletable": false,
    "editable": false,
    "lc_cell_meme": {
     "current": "f5c9e52c-dd4a-11eb-8d4b-02420a01000d-3-9c7e-0225-7d45",
     "execution_end_time": "2021-07-05T06:22:31.923334Z",
     "next": "f5c9e608-dd4a-11eb-8d4b-02420a01000d-3-ac5d-45ee-803f",
     "previous": "f5c9e464-dd4a-11eb-8d4b-02420a01000d-3-b374-87aa-7867"
    },
    "lc_wrapper": {},
    "run_through_control": {
     "frozen": true
    }
   },
   "outputs": [
    {
     "name": "stdout",
     "output_type": "stream",
     "text": [
      "········\n"
     ]
    }
   ],
   "source": [
    "from getpass import getpass\n",
    "vcc_access_token = getpass()"
   ]
  },
  {
   "cell_type": "markdown",
   "metadata": {
    "lc_cell_meme": {
     "current": "f5c9e608-dd4a-11eb-8d4b-02420a01000d-3-ac5d-45ee-803f",
     "next": "f5c9e6d0-dd4a-11eb-8d4b-02420a01000d-3-1e2d-44e7-f5d8",
     "previous": "f5c9e52c-dd4a-11eb-8d4b-02420a01000d-3-9c7e-0225-7d45"
    }
   },
   "source": [
    "# VCノード(Amazon EC2インスタンス)の起動\n",
    "\n",
    "VCP SDKを用いてVCノード(Amazon EC2インスタンス)を起動します。また、起動したVCノードに対してsshでログインして操作を行います。"
   ]
  },
  {
   "cell_type": "markdown",
   "metadata": {
    "lc_cell_meme": {
     "current": "f5c9e6d0-dd4a-11eb-8d4b-02420a01000d-3-1e2d-44e7-f5d8",
     "next": "f5c9e7b6-dd4a-11eb-8d4b-02420a01000d-3-8ee9-3510-c2f1",
     "previous": "f5c9e608-dd4a-11eb-8d4b-02420a01000d-3-ac5d-45ee-803f"
    }
   },
   "source": [
    "![EC2の起動](images/101-003.png)"
   ]
  },
  {
   "cell_type": "markdown",
   "metadata": {
    "lc_cell_meme": {
     "current": "f5c9e7b6-dd4a-11eb-8d4b-02420a01000d-3-8ee9-3510-c2f1",
     "next": "f5c9e892-dd4a-11eb-8d4b-02420a01000d-3-d102-1d37-652a",
     "previous": "f5c9e6d0-dd4a-11eb-8d4b-02420a01000d-3-1e2d-44e7-f5d8"
    }
   },
   "source": [
    "## VCP SDKの初期化\n",
    "\n",
    "VCP SDKの初期化を行います。"
   ]
  },
  {
   "cell_type": "code",
   "execution_count": 2,
   "metadata": {
    "deletable": false,
    "editable": false,
    "lc_cell_meme": {
     "current": "f5c9e892-dd4a-11eb-8d4b-02420a01000d-3-d102-1d37-652a",
     "execution_end_time": "2021-07-05T06:22:35.217675Z",
     "next": "f5c9e95a-dd4a-11eb-8d4b-02420a01000d-3-fe60-3762-055f",
     "previous": "f5c9e7b6-dd4a-11eb-8d4b-02420a01000d-3-8ee9-3510-c2f1"
    },
    "lc_wrapper": {},
    "run_through_control": {
     "frozen": true
    },
    "scrolled": true
   },
   "outputs": [],
   "source": [
    "from common import logsetting\n",
    "from vcpsdk.vcpsdk import VcpSDK\n",
    "\n",
    "# VCP SDKの初期化\n",
    "vcp = VcpSDK(\n",
    "    vcc_access_token,  # VCCのアクセストークン\n",
    ")"
   ]
  },
  {
   "cell_type": "markdown",
   "metadata": {
    "lc_cell_meme": {
     "current": "f5c9e95a-dd4a-11eb-8d4b-02420a01000d-3-fe60-3762-055f",
     "next": "f5c9ea2c-dd4a-11eb-8d4b-02420a01000d-3-60a7-baa1-6d5d",
     "previous": "f5c9e892-dd4a-11eb-8d4b-02420a01000d-3-d102-1d37-652a"
    }
   },
   "source": [
    "上のセルの実行結果がエラーとなり以下のようなメッセージが表示されている場合は、入力されたアクセストークンに誤りがあります。\n",
    "\n",
    "```\n",
    "2019-XX-XX XX:XX:XX,XXX - ERROR - config vc failed: http_status(403)\n",
    "2019-XX-XX XX:XX:XX,XXX - ERROR - 2019/XX/XX XX:XX:XX UTC: VCPAuthException: xxxxxxx:token lookup is failed: permission denied\n",
    "```\n",
    "\n",
    "この場合はアクセストークンの入力からやり直してください。"
   ]
  },
  {
   "cell_type": "markdown",
   "metadata": {
    "lc_cell_meme": {
     "current": "f5c9ea2c-dd4a-11eb-8d4b-02420a01000d-3-60a7-baa1-6d5d",
     "next": "f5c9eb12-dd4a-11eb-8d4b-02420a01000d-3-d67a-8970-654f",
     "previous": "f5c9e95a-dd4a-11eb-8d4b-02420a01000d-3-fe60-3762-055f"
    }
   },
   "source": [
    "`vcp`からは UnitGroup の管理（作成、情報取得）や VCP SDK自体に関する情報取得を行うことができます。例えば、次のセルを実行するとUnitGroupの一覧が表示されます。\n",
    "\n",
    "> まだUnitGroupを作成していないので、ヘッダー以外はなにも表示されないはずです。"
   ]
  },
  {
   "cell_type": "code",
   "execution_count": 3,
   "metadata": {
    "deletable": false,
    "editable": false,
    "lc_cell_meme": {
     "current": "f5c9eb12-dd4a-11eb-8d4b-02420a01000d-3-d67a-8970-654f",
     "execution_end_time": "2021-07-05T06:22:37.701514Z",
     "next": "f5c9ebda-dd4a-11eb-8d4b-02420a01000d-3-2e82-45e6-dbe1",
     "previous": "f5c9ea2c-dd4a-11eb-8d4b-02420a01000d-3-60a7-baa1-6d5d"
    },
    "lc_wrapper": {},
    "run_through_control": {
     "frozen": true
    },
    "scrolled": true
   },
   "outputs": [
    {
     "data": {
      "text/html": [
       "<style  type=\"text/css\" >\n",
       "</style><table id=\"T_64be7066_dd59_11eb_9668_02420a010024\" ><thead>    <tr>        <th class=\"blank level0\" ></th>        <th class=\"col_heading level0 col0\" >vcno</th>        <th class=\"col_heading level0 col1\" >vctype</th>        <th class=\"col_heading level0 col2\" >vcname</th>        <th class=\"col_heading level0 col3\" >state</th>        <th class=\"col_heading level0 col4\" >vcid</th>        <th class=\"col_heading level0 col5\" >cdate</th>    </tr></thead><tbody>\n",
       "        </tbody></table>"
      ],
      "text/plain": [
       "<pandas.io.formats.style.Styler at 0x7f18550a8c10>"
      ]
     },
     "execution_count": 3,
     "metadata": {},
     "output_type": "execute_result"
    }
   ],
   "source": [
    "# UnitGroupの一覧を DataFrame で表示する\n",
    "vcp.df_ugroups()"
   ]
  },
  {
   "cell_type": "markdown",
   "metadata": {
    "lc_cell_meme": {
     "current": "f5c9ebda-dd4a-11eb-8d4b-02420a01000d-3-2e82-45e6-dbe1",
     "next": "f5c9eca2-dd4a-11eb-8d4b-02420a01000d-3-be74-bbf9-c489",
     "previous": "f5c9eb12-dd4a-11eb-8d4b-02420a01000d-3-d67a-8970-654f"
    }
   },
   "source": [
    "次のセルを実行すると VCP SDK と VC Controller のバージョンが表示されます。"
   ]
  },
  {
   "cell_type": "code",
   "execution_count": 4,
   "metadata": {
    "deletable": false,
    "editable": false,
    "lc_cell_meme": {
     "current": "f5c9eca2-dd4a-11eb-8d4b-02420a01000d-3-be74-bbf9-c489",
     "execution_end_time": "2021-07-05T06:22:41.265469Z",
     "next": "f5c9ed6a-dd4a-11eb-8d4b-02420a01000d-3-cb60-35a3-0cd5",
     "previous": "f5c9ebda-dd4a-11eb-8d4b-02420a01000d-3-2e82-45e6-dbe1"
    },
    "lc_wrapper": {},
    "run_through_control": {
     "frozen": true
    },
    "scrolled": true
   },
   "outputs": [
    {
     "name": "stdout",
     "output_type": "stream",
     "text": [
      "\n",
      "vcplib:\n",
      "  filename: /home/jovyan/vcpsdk/vcplib/occtr.py\n",
      "  version: 20.10.0+20201001\n",
      "\n",
      "vcpsdk:\n",
      "  filename: /home/jovyan/vcpsdk/vcpsdk/vcpsdk.py\n",
      "  version: 21.04.0+20210401\n",
      "\n",
      "  plugin:\n",
      "    aws: 1.2+20191001\n",
      "    aws_disk: 1.0+20190408\n",
      "    aws_spot: 1.1+20191001\n",
      "    azure: 1.2+20191001\n",
      "    vmware: 1.1+20191001\n",
      "    azure_disk: 1.0+20190408\n",
      "    sakura: 1.1+20191001\n",
      "    sakura_disk: 1.0+20190930\n",
      "    oracle: 1.0+20200331\n",
      "    oracle_disk: 1.0+20200331\n",
      "    aic: 1.2+20191001\n",
      "    abc: 1.3+20190408\n",
      "    hokudai: 1.1+20191001\n",
      "    chameleon: 1.0+20200831\n",
      "    chameleon_ext: 20200831\n",
      "    gcp: 1.0+20190408\n",
      "    onpremises: 1.0+20190408\n",
      "\n",
      "vc_controller:\n",
      "  host: localhost\n",
      "  name: vcc511\n",
      "  wait_timeout_sec: 1000(default 15min)\n",
      "  vc_controller: 21.04.0+20210401\n",
      "  vc_controller_git_tag: 21.04.0-117-gd0b1d69-dirty\n",
      "\n",
      "  plugin:\n",
      "    aic: 1.2+20210401\n",
      "    hokudai: 1.1+20210401\n",
      "    vmware: 1.1+20210401\n",
      "    sakura: 1.1+20210401\n",
      "    aws: 1.2+20210401\n",
      "    azure: 1.2+20210401\n",
      "    oracle: 1.0+20210401\n",
      "    abc: 1.3+20210401\n",
      "    chameleon: 1.0+20210401\n",
      "    gcp: 1.0+20210401\n",
      "    aws_spot: 1.1+20210401"
     ]
    }
   ],
   "source": [
    "vcp.version()"
   ]
  },
  {
   "cell_type": "markdown",
   "metadata": {
    "lc_cell_meme": {
     "current": "f5c9ed6a-dd4a-11eb-8d4b-02420a01000d-3-cb60-35a3-0cd5",
     "next": "f5c9ee50-dd4a-11eb-8d4b-02420a01000d-3-bf8d-fbf8-ef45",
     "previous": "f5c9eca2-dd4a-11eb-8d4b-02420a01000d-3-be74-bbf9-c489"
    }
   },
   "source": [
    "## UnitGroupの作成"
   ]
  },
  {
   "cell_type": "markdown",
   "metadata": {
    "lc_cell_meme": {
     "current": "f5c9ee50-dd4a-11eb-8d4b-02420a01000d-3-bf8d-fbf8-ef45",
     "next": "f5c9ef2c-dd4a-11eb-8d4b-02420a01000d-3-bfad-05b2-d312",
     "previous": "f5c9ed6a-dd4a-11eb-8d4b-02420a01000d-3-cb60-35a3-0cd5"
    }
   },
   "source": [
    "`handson101`という名前の UnitGroup を作成します。"
   ]
  },
  {
   "cell_type": "code",
   "execution_count": 5,
   "metadata": {
    "deletable": false,
    "editable": false,
    "lc_cell_meme": {
     "current": "f5c9ef2c-dd4a-11eb-8d4b-02420a01000d-3-bfad-05b2-d312",
     "execution_end_time": "2021-07-05T06:22:44.476622Z",
     "next": "f5c9f012-dd4a-11eb-8d4b-02420a01000d-3-76eb-7451-fd6c",
     "previous": "f5c9ee50-dd4a-11eb-8d4b-02420a01000d-3-bf8d-fbf8-ef45"
    },
    "lc_wrapper": {},
    "run_through_control": {
     "frozen": true
    }
   },
   "outputs": [],
   "source": [
    "# UnitGroupの作成\n",
    "unit_group = vcp.create_ugroup(\n",
    "    'handson101'                   # UnitGroupの名前\n",
    ")"
   ]
  },
  {
   "cell_type": "markdown",
   "metadata": {
    "lc_cell_meme": {
     "current": "f5c9f012-dd4a-11eb-8d4b-02420a01000d-3-76eb-7451-fd6c",
     "next": "f5c9f0e4-dd4a-11eb-8d4b-02420a01000d-3-9070-4885-11e9",
     "previous": "f5c9ef2c-dd4a-11eb-8d4b-02420a01000d-3-bfad-05b2-d312"
    }
   },
   "source": [
    "作成したUnitGroupの状態を表示してみます。\n",
    "\n",
    "> UnitGroup の名前が `handson101` であることと、その状態が `RUNNING` であることなどが確認できるはずです。"
   ]
  },
  {
   "cell_type": "code",
   "execution_count": 6,
   "metadata": {
    "deletable": false,
    "editable": false,
    "lc_cell_meme": {
     "current": "f5c9f0e4-dd4a-11eb-8d4b-02420a01000d-3-9070-4885-11e9",
     "execution_end_time": "2021-07-05T06:22:46.313799Z",
     "next": "f5c9f1c0-dd4a-11eb-8d4b-02420a01000d-3-da57-f3f6-d5df",
     "previous": "f5c9f012-dd4a-11eb-8d4b-02420a01000d-3-76eb-7451-fd6c"
    },
    "lc_wrapper": {},
    "run_through_control": {
     "frozen": true
    },
    "scrolled": true
   },
   "outputs": [
    {
     "name": "stdout",
     "output_type": "stream",
     "text": [
      "[Vc]\n",
      "+ type[compute] name[handson101] vcno(4) state[RUNNING] vcid[eea5d99d2f6944adb5f7dd4fc83fdc9a]\n",
      "\n"
     ]
    }
   ],
   "source": [
    "print(unit_group)"
   ]
  },
  {
   "cell_type": "markdown",
   "metadata": {
    "lc_cell_meme": {
     "current": "f5c9f1c0-dd4a-11eb-8d4b-02420a01000d-3-da57-f3f6-d5df",
     "next": "f5c9f292-dd4a-11eb-8d4b-02420a01000d-3-dff9-5c42-1e37",
     "previous": "f5c9f0e4-dd4a-11eb-8d4b-02420a01000d-3-9070-4885-11e9"
    }
   },
   "source": [
    "UnitGroupの一覧を表示してみます。"
   ]
  },
  {
   "cell_type": "code",
   "execution_count": 7,
   "metadata": {
    "deletable": false,
    "editable": false,
    "lc_cell_meme": {
     "current": "f5c9f292-dd4a-11eb-8d4b-02420a01000d-3-dff9-5c42-1e37",
     "execution_end_time": "2021-07-05T06:22:47.239437Z",
     "next": "f5c9f35a-dd4a-11eb-8d4b-02420a01000d-3-158b-179c-79de",
     "previous": "f5c9f1c0-dd4a-11eb-8d4b-02420a01000d-3-da57-f3f6-d5df"
    },
    "lc_wrapper": {},
    "run_through_control": {
     "frozen": true
    }
   },
   "outputs": [
    {
     "data": {
      "text/html": [
       "<style  type=\"text/css\" >\n",
       "    #T_6a6e0e22_dd59_11eb_9668_02420a010024row0_col3 {\n",
       "            background-color:  #dfd;\n",
       "        }</style><table id=\"T_6a6e0e22_dd59_11eb_9668_02420a010024\" ><thead>    <tr>        <th class=\"blank level0\" ></th>        <th class=\"col_heading level0 col0\" >vcno</th>        <th class=\"col_heading level0 col1\" >vctype</th>        <th class=\"col_heading level0 col2\" >vcname</th>        <th class=\"col_heading level0 col3\" >state</th>        <th class=\"col_heading level0 col4\" >vcid</th>        <th class=\"col_heading level0 col5\" >cdate</th>    </tr></thead><tbody>\n",
       "                <tr>\n",
       "                        <th id=\"T_6a6e0e22_dd59_11eb_9668_02420a010024level0_row0\" class=\"row_heading level0 row0\" >0</th>\n",
       "                        <td id=\"T_6a6e0e22_dd59_11eb_9668_02420a010024row0_col0\" class=\"data row0 col0\" >4</td>\n",
       "                        <td id=\"T_6a6e0e22_dd59_11eb_9668_02420a010024row0_col1\" class=\"data row0 col1\" >compute</td>\n",
       "                        <td id=\"T_6a6e0e22_dd59_11eb_9668_02420a010024row0_col2\" class=\"data row0 col2\" >handson101</td>\n",
       "                        <td id=\"T_6a6e0e22_dd59_11eb_9668_02420a010024row0_col3\" class=\"data row0 col3\" >RUNNING</td>\n",
       "                        <td id=\"T_6a6e0e22_dd59_11eb_9668_02420a010024row0_col4\" class=\"data row0 col4\" >eea5d99d...</td>\n",
       "                        <td id=\"T_6a6e0e22_dd59_11eb_9668_02420a010024row0_col5\" class=\"data row0 col5\" >2021/07/05 06:22:27 UTC</td>\n",
       "            </tr>\n",
       "    </tbody></table>"
      ],
      "text/plain": [
       "<pandas.io.formats.style.Styler at 0x7f182ee54950>"
      ]
     },
     "execution_count": 7,
     "metadata": {},
     "output_type": "execute_result"
    }
   ],
   "source": [
    "# UnitGroupの一覧を DataFrame で表示する\n",
    "vcp.df_ugroups()"
   ]
  },
  {
   "cell_type": "markdown",
   "metadata": {
    "lc_cell_meme": {
     "current": "f5c9f35a-dd4a-11eb-8d4b-02420a01000d-3-158b-179c-79de",
     "next": "f5c9f422-dd4a-11eb-8d4b-02420a01000d-3-b2c7-e55d-a1bf",
     "previous": "f5c9f292-dd4a-11eb-8d4b-02420a01000d-3-dff9-5c42-1e37"
    }
   },
   "source": [
    "## UnitGroupの状態を確認する"
   ]
  },
  {
   "cell_type": "markdown",
   "metadata": {
    "lc_cell_meme": {
     "current": "f5c9f422-dd4a-11eb-8d4b-02420a01000d-3-b2c7-e55d-a1bf",
     "next": "f5c9f512-dd4a-11eb-8d4b-02420a01000d-3-a973-6e99-c059",
     "previous": "f5c9f35a-dd4a-11eb-8d4b-02420a01000d-3-158b-179c-79de"
    }
   },
   "source": [
    "UnitGroupに属している Unit の一覧を表示します。\n",
    "\n",
    "> まだ、このUnitGroupでは Unit を作成していないのでヘッダー以外は何も表示されません。"
   ]
  },
  {
   "cell_type": "code",
   "execution_count": 8,
   "metadata": {
    "deletable": false,
    "editable": false,
    "lc_cell_meme": {
     "current": "f5c9f512-dd4a-11eb-8d4b-02420a01000d-3-a973-6e99-c059",
     "execution_end_time": "2021-07-05T06:22:48.792223Z",
     "next": "f5c9f5f8-dd4a-11eb-8d4b-02420a01000d-3-4381-db60-3c40",
     "previous": "f5c9f422-dd4a-11eb-8d4b-02420a01000d-3-b2c7-e55d-a1bf"
    },
    "lc_wrapper": {},
    "run_through_control": {
     "frozen": true
    }
   },
   "outputs": [
    {
     "data": {
      "text/html": [
       "<div>\n",
       "<style scoped>\n",
       "    .dataframe tbody tr th:only-of-type {\n",
       "        vertical-align: middle;\n",
       "    }\n",
       "\n",
       "    .dataframe tbody tr th {\n",
       "        vertical-align: top;\n",
       "    }\n",
       "\n",
       "    .dataframe thead th {\n",
       "        text-align: right;\n",
       "    }\n",
       "</style>\n",
       "<table border=\"1\" class=\"dataframe\">\n",
       "  <thead>\n",
       "    <tr style=\"text-align: right;\">\n",
       "      <th></th>\n",
       "      <th>vctype</th>\n",
       "      <th>vcno</th>\n",
       "      <th>vcname</th>\n",
       "      <th>vc_state</th>\n",
       "      <th>vcid</th>\n",
       "      <th>cdate</th>\n",
       "      <th>unit_name</th>\n",
       "      <th>unit_state</th>\n",
       "    </tr>\n",
       "  </thead>\n",
       "  <tbody>\n",
       "  </tbody>\n",
       "</table>\n",
       "</div>"
      ],
      "text/plain": [
       "Empty DataFrame\n",
       "Columns: [vctype, vcno, vcname, vc_state, vcid, cdate, unit_name, unit_state]\n",
       "Index: []"
      ]
     },
     "execution_count": 8,
     "metadata": {},
     "output_type": "execute_result"
    }
   ],
   "source": [
    "# Unitの一覧を DataFrame で表示する\n",
    "unit_group.df_units()"
   ]
  },
  {
   "cell_type": "markdown",
   "metadata": {
    "lc_cell_meme": {
     "current": "f5c9f5f8-dd4a-11eb-8d4b-02420a01000d-3-4381-db60-3c40",
     "next": "f5c9f6ca-dd4a-11eb-8d4b-02420a01000d-3-f369-6d89-56b2",
     "previous": "f5c9f512-dd4a-11eb-8d4b-02420a01000d-3-a973-6e99-c059"
    }
   },
   "source": [
    "UnitGroupに属しているVCノードの一覧を表示します。\n",
    "\n",
    "> まだVCノードが存在していないので何も表示されません。"
   ]
  },
  {
   "cell_type": "code",
   "execution_count": 9,
   "metadata": {
    "deletable": false,
    "editable": false,
    "lc_cell_meme": {
     "current": "f5c9f6ca-dd4a-11eb-8d4b-02420a01000d-3-f369-6d89-56b2",
     "execution_end_time": "2021-07-05T06:22:49.520661Z",
     "next": "f5c9f792-dd4a-11eb-8d4b-02420a01000d-3-b06c-cb31-5db4",
     "previous": "f5c9f5f8-dd4a-11eb-8d4b-02420a01000d-3-4381-db60-3c40"
    },
    "lc_wrapper": {},
    "run_through_control": {
     "frozen": true
    }
   },
   "outputs": [
    {
     "data": {
      "text/plain": [
       "[]"
      ]
     },
     "execution_count": 9,
     "metadata": {},
     "output_type": "execute_result"
    }
   ],
   "source": [
    "unit_group.df_nodes()"
   ]
  },
  {
   "cell_type": "markdown",
   "metadata": {
    "lc_cell_meme": {
     "current": "f5c9f792-dd4a-11eb-8d4b-02420a01000d-3-b06c-cb31-5db4",
     "next": "f5c9f85a-dd4a-11eb-8d4b-02420a01000d-3-a9d7-24b4-d4b0",
     "previous": "f5c9f6ca-dd4a-11eb-8d4b-02420a01000d-3-f369-6d89-56b2"
    }
   },
   "source": [
    "## VCノードのspecを指定する"
   ]
  },
  {
   "cell_type": "markdown",
   "metadata": {
    "lc_cell_meme": {
     "current": "f5c9f85a-dd4a-11eb-8d4b-02420a01000d-3-a9d7-24b4-d4b0",
     "next": "f5c9f936-dd4a-11eb-8d4b-02420a01000d-3-a492-a92d-8e12",
     "previous": "f5c9f792-dd4a-11eb-8d4b-02420a01000d-3-b06c-cb31-5db4"
    }
   },
   "source": [
    "Unitを構成するVCノードがどのような設定であるかを指定するためのオブジェクトとしてVCP SDKでは`spec`オブジェクトを用意しています。VCP SDKの利用者は`spec`オブジェクトのプロパティを設定することで Unitに起動するVCノードの設定内容を定義することができます。\n",
    "\n",
    "`spec`オブジェクトの設定項目の例を以下に示します。\n",
    "\n",
    "* 仮想マシンのインスタンスタイプ\n",
    "  - m5.large, c5.large, ...\n",
    "* 仮想マシンのルートボリュームサイズ(GiB)\n",
    "* 仮想マシンに割り当てるプライベートIPアドレス\n",
    "* Unit内に作成するVCノードの数\n",
    "\n",
    "設定できる項目はクラウドプロバイダ(aws, azure, ...)毎に異なります。"
   ]
  },
  {
   "cell_type": "markdown",
   "metadata": {
    "lc_cell_meme": {
     "current": "f5c9f936-dd4a-11eb-8d4b-02420a01000d-3-a492-a92d-8e12",
     "next": "f5c9fa1c-dd4a-11eb-8d4b-02420a01000d-3-f8c3-1601-0c5a",
     "previous": "f5c9f85a-dd4a-11eb-8d4b-02420a01000d-3-a9d7-24b4-d4b0"
    }
   },
   "source": [
    "### flavor の内容を確認する"
   ]
  },
  {
   "cell_type": "markdown",
   "metadata": {
    "lc_cell_meme": {
     "current": "f5c9fa1c-dd4a-11eb-8d4b-02420a01000d-3-f8c3-1601-0c5a",
     "next": "f5c9fb16-dd4a-11eb-8d4b-02420a01000d-3-9c49-e3a6-a499",
     "previous": "f5c9f936-dd4a-11eb-8d4b-02420a01000d-3-a492-a92d-8e12"
    }
   },
   "source": [
    "`spec`オブジェクトの全てのパラメータを毎回設定するのは煩雑になるので典型的な構成のパラメータセットを事前に定義しています。事前に定義した`spec`パラメータセットのことを VCP SDKでは `flavor`と呼んでいます。`spec`に設定できるパラメータはクラウドプロバイダ毎に異なるので `flavor`の定義もクラウドプロバイダ毎に行っています。\n",
    "\n",
    "次のセルを実行すると aws用に定義している `flavor` の一覧が表示されます。"
   ]
  },
  {
   "cell_type": "code",
   "execution_count": 10,
   "metadata": {
    "deletable": false,
    "editable": false,
    "lc_cell_meme": {
     "current": "f5c9fb16-dd4a-11eb-8d4b-02420a01000d-3-9c49-e3a6-a499",
     "execution_end_time": "2021-07-05T06:22:53.170140Z",
     "next": "f5c9fbfc-dd4a-11eb-8d4b-02420a01000d-3-d6af-bd7c-3bd9",
     "previous": "f5c9fa1c-dd4a-11eb-8d4b-02420a01000d-3-f8c3-1601-0c5a"
    },
    "lc_wrapper": {},
    "run_through_control": {
     "frozen": true
    }
   },
   "outputs": [
    {
     "data": {
      "text/html": [
       "<div>\n",
       "<style scoped>\n",
       "    .dataframe tbody tr th:only-of-type {\n",
       "        vertical-align: middle;\n",
       "    }\n",
       "\n",
       "    .dataframe tbody tr th {\n",
       "        vertical-align: top;\n",
       "    }\n",
       "\n",
       "    .dataframe thead th {\n",
       "        text-align: right;\n",
       "    }\n",
       "</style>\n",
       "<table border=\"1\" class=\"dataframe\">\n",
       "  <thead>\n",
       "    <tr style=\"text-align: right;\">\n",
       "      <th></th>\n",
       "      <th>flavor</th>\n",
       "      <th>instance_type</th>\n",
       "      <th>volume_type</th>\n",
       "      <th>volume_size</th>\n",
       "    </tr>\n",
       "  </thead>\n",
       "  <tbody>\n",
       "    <tr>\n",
       "      <th>0</th>\n",
       "      <td>small</td>\n",
       "      <td>m4.large</td>\n",
       "      <td>gp2</td>\n",
       "      <td>8</td>\n",
       "    </tr>\n",
       "    <tr>\n",
       "      <th>1</th>\n",
       "      <td>medium</td>\n",
       "      <td>m4.xlarge</td>\n",
       "      <td>gp2</td>\n",
       "      <td>40</td>\n",
       "    </tr>\n",
       "    <tr>\n",
       "      <th>2</th>\n",
       "      <td>large</td>\n",
       "      <td>m4.2xlarge</td>\n",
       "      <td>gp2</td>\n",
       "      <td>100</td>\n",
       "    </tr>\n",
       "    <tr>\n",
       "      <th>3</th>\n",
       "      <td>gpu</td>\n",
       "      <td>g3.4xlarge</td>\n",
       "      <td>gp2</td>\n",
       "      <td>40</td>\n",
       "    </tr>\n",
       "  </tbody>\n",
       "</table>\n",
       "</div>"
      ],
      "text/plain": [
       "   flavor instance_type volume_type  volume_size\n",
       "0   small      m4.large         gp2            8\n",
       "1  medium     m4.xlarge         gp2           40\n",
       "2   large    m4.2xlarge         gp2          100\n",
       "3     gpu    g3.4xlarge         gp2           40"
      ]
     },
     "execution_count": 10,
     "metadata": {},
     "output_type": "execute_result"
    }
   ],
   "source": [
    "vcp.df_flavors('aws')"
   ]
  },
  {
   "cell_type": "markdown",
   "metadata": {
    "lc_cell_meme": {
     "current": "f5c9fbfc-dd4a-11eb-8d4b-02420a01000d-3-d6af-bd7c-3bd9",
     "next": "f5c9fcec-dd4a-11eb-8d4b-02420a01000d-3-e013-bfad-8e8c",
     "previous": "f5c9fb16-dd4a-11eb-8d4b-02420a01000d-3-9c49-e3a6-a499"
    }
   },
   "source": [
    "### spec オブジェクトを作成する"
   ]
  },
  {
   "cell_type": "markdown",
   "metadata": {
    "lc_cell_meme": {
     "current": "f5c9fcec-dd4a-11eb-8d4b-02420a01000d-3-e013-bfad-8e8c",
     "next": "f5c9fdbe-dd4a-11eb-8d4b-02420a01000d-3-2ea7-4946-17df",
     "previous": "f5c9fbfc-dd4a-11eb-8d4b-02420a01000d-3-d6af-bd7c-3bd9"
    }
   },
   "source": [
    "specオブジェクトを作成します。specオブジェクトを作成するにはプロバイダと`flavor`を指定します。ここでは以下の値を指定します。\n",
    "\n",
    "* プロバイダ: `aws`\n",
    "* flavor: `small`"
   ]
  },
  {
   "cell_type": "code",
   "execution_count": 11,
   "metadata": {
    "deletable": false,
    "editable": false,
    "lc_cell_meme": {
     "current": "f5c9fdbe-dd4a-11eb-8d4b-02420a01000d-3-2ea7-4946-17df",
     "execution_end_time": "2021-07-05T06:22:54.807124Z",
     "next": "f5c9fe90-dd4a-11eb-8d4b-02420a01000d-3-2eba-f818-caf0",
     "previous": "f5c9fcec-dd4a-11eb-8d4b-02420a01000d-3-e013-bfad-8e8c"
    },
    "lc_wrapper": {},
    "run_through_control": {
     "frozen": true
    }
   },
   "outputs": [],
   "source": [
    "spec = vcp.get_spec('aws', 'small')"
   ]
  },
  {
   "cell_type": "markdown",
   "metadata": {
    "lc_cell_meme": {
     "current": "f5c9fe90-dd4a-11eb-8d4b-02420a01000d-3-2eba-f818-caf0",
     "next": "f5c9ff6c-dd4a-11eb-8d4b-02420a01000d-3-3f7e-0f27-eae8",
     "previous": "f5c9fdbe-dd4a-11eb-8d4b-02420a01000d-3-2ea7-4946-17df"
    }
   },
   "source": [
    "作成した`spec`の設定内容を確認してみます。\n",
    "\n",
    "> `instance_type`パラメータに `flavor` の指定と対応するEC2インスタンスタイプ`m4.large`が設定されていることが確認できるはずです。\n",
    "> `volume_size`, `volume_type`についてもそれぞれ`flavor`と対応する値が設定されます。"
   ]
  },
  {
   "cell_type": "code",
   "execution_count": 12,
   "metadata": {
    "deletable": false,
    "editable": false,
    "lc_cell_meme": {
     "current": "f5c9ff6c-dd4a-11eb-8d4b-02420a01000d-3-3f7e-0f27-eae8",
     "execution_end_time": "2021-07-05T06:22:55.714172Z",
     "next": "f5ca003e-dd4a-11eb-8d4b-02420a01000d-3-ef24-234b-3ac5",
     "previous": "f5c9fe90-dd4a-11eb-8d4b-02420a01000d-3-2eba-f818-caf0"
    },
    "lc_wrapper": {},
    "run_through_control": {
     "frozen": true
    }
   },
   "outputs": [
    {
     "name": "stdout",
     "output_type": "stream",
     "text": [
      "\n",
      "========================\n",
      "aws\n",
      "------------------------\n",
      "\n",
      "    cci_version: \"1.1\"\n",
      "    name: \n",
      "    description: \n",
      "    private_network: default\n",
      "    num_nodes: 1\n",
      "    image: vcp/base:1.6.2\n",
      "    recovery_mode: none\n",
      "    docker_opt: {}\n",
      "    params:\n",
      "        {'v': [], 'e': []}\n",
      "\n",
      "    instance_type: m4.large\n",
      "    volume_size: 8\n",
      "    volume_type: gp2\n",
      "    volume_id: []\n",
      "    cloud_image: default\n",
      "    ip_address_list: []\n",
      "    tags: {}\n",
      "========================\n"
     ]
    }
   ],
   "source": [
    "print(spec)"
   ]
  },
  {
   "cell_type": "markdown",
   "metadata": {
    "lc_cell_meme": {
     "current": "f5ca003e-dd4a-11eb-8d4b-02420a01000d-3-ef24-234b-3ac5",
     "next": "f5ca0110-dd4a-11eb-8d4b-02420a01000d-3-a3ed-8daf-d03b",
     "previous": "f5c9ff6c-dd4a-11eb-8d4b-02420a01000d-3-3f7e-0f27-eae8"
    }
   },
   "source": [
    "`spec`に対しては `flavor`で指定するだけではなく個々のパラメータを直接指定することもできます。例えば、以下のようなものが指定できます。\n",
    "\n",
    "* num_nodes\n",
    "  - Unit内に作成するVCノードの数: デフォルト=1\n",
    "* ip_addresses\n",
    "  - VCノードに割り当てるプライベートIPアドレスのリスト\n",
    "  - このパラメータを指定しない場合は利用可能なアドレスが自動的に割り当てられる\n",
    "* instance_type\n",
    "  - Amazon EC2のインスタンスタイプ\n",
    "  - flavorで設定されているもの以外を利用したい場合に指定する\n",
    "* volume_size\n",
    "  - Amazon EC2インスタンスのルートボリュームに割り当てるサイズ(GiB)\n",
    "  - flavorで設定されているもの以外を利用したい場合に指定する\n",
    "* volume_type\n",
    "  - Amazon EC2インスタンスのルートボリュームのEBSタイプ\n",
    "  - flavorで設定されているもの以外を利用したい場合に指定する"
   ]
  },
  {
   "cell_type": "markdown",
   "metadata": {
    "lc_cell_meme": {
     "current": "f5ca0110-dd4a-11eb-8d4b-02420a01000d-3-a3ed-8daf-d03b",
     "next": "f5ca01e2-dd4a-11eb-8d4b-02420a01000d-3-8882-7f9f-7bd4",
     "previous": "f5ca003e-dd4a-11eb-8d4b-02420a01000d-3-ef24-234b-3ac5"
    }
   },
   "source": [
    "試しに `volume_size`を指定してみます。"
   ]
  },
  {
   "cell_type": "code",
   "execution_count": 13,
   "metadata": {
    "deletable": false,
    "editable": false,
    "lc_cell_meme": {
     "current": "f5ca01e2-dd4a-11eb-8d4b-02420a01000d-3-8882-7f9f-7bd4",
     "execution_end_time": "2021-07-05T06:22:57.413880Z",
     "next": "f5ca02be-dd4a-11eb-8d4b-02420a01000d-3-7669-10bb-d49e",
     "previous": "f5ca0110-dd4a-11eb-8d4b-02420a01000d-3-a3ed-8daf-d03b"
    },
    "lc_wrapper": {},
    "run_through_control": {
     "frozen": true
    }
   },
   "outputs": [],
   "source": [
    "spec.volume_size = 15"
   ]
  },
  {
   "cell_type": "markdown",
   "metadata": {
    "lc_cell_meme": {
     "current": "f5ca02be-dd4a-11eb-8d4b-02420a01000d-3-7669-10bb-d49e",
     "next": "f5ca039a-dd4a-11eb-8d4b-02420a01000d-3-6e5a-083d-a8d2",
     "previous": "f5ca01e2-dd4a-11eb-8d4b-02420a01000d-3-8882-7f9f-7bd4"
    }
   },
   "source": [
    "指定した値が`spec`の設定に反映されていることを確認してみます。"
   ]
  },
  {
   "cell_type": "code",
   "execution_count": 14,
   "metadata": {
    "deletable": false,
    "editable": false,
    "lc_cell_meme": {
     "current": "f5ca039a-dd4a-11eb-8d4b-02420a01000d-3-6e5a-083d-a8d2",
     "execution_end_time": "2021-07-05T06:22:57.914070Z",
     "next": "f5ca046c-dd4a-11eb-8d4b-02420a01000d-3-7bfb-7ca3-d6e3",
     "previous": "f5ca02be-dd4a-11eb-8d4b-02420a01000d-3-7669-10bb-d49e"
    },
    "lc_wrapper": {},
    "run_through_control": {
     "frozen": true
    }
   },
   "outputs": [
    {
     "name": "stdout",
     "output_type": "stream",
     "text": [
      "\n",
      "========================\n",
      "aws\n",
      "------------------------\n",
      "\n",
      "    cci_version: \"1.1\"\n",
      "    name: \n",
      "    description: \n",
      "    private_network: default\n",
      "    num_nodes: 1\n",
      "    image: vcp/base:1.6.2\n",
      "    recovery_mode: none\n",
      "    docker_opt: {}\n",
      "    params:\n",
      "        {'v': [], 'e': []}\n",
      "\n",
      "    instance_type: m4.large\n",
      "    volume_size: 15\n",
      "    volume_type: gp2\n",
      "    volume_id: []\n",
      "    cloud_image: default\n",
      "    ip_address_list: []\n",
      "    tags: {}\n",
      "========================\n"
     ]
    }
   ],
   "source": [
    "print(spec)"
   ]
  },
  {
   "cell_type": "markdown",
   "metadata": {
    "lc_cell_meme": {
     "current": "f5ca046c-dd4a-11eb-8d4b-02420a01000d-3-7bfb-7ca3-d6e3",
     "next": "f5ca0552-dd4a-11eb-8d4b-02420a01000d-3-2a8a-06a4-bb3f",
     "previous": "f5ca039a-dd4a-11eb-8d4b-02420a01000d-3-6e5a-083d-a8d2"
    }
   },
   "source": [
    "`volume_size`の値が指定した値に変更されています。"
   ]
  },
  {
   "cell_type": "markdown",
   "metadata": {
    "lc_cell_meme": {
     "current": "f5ca0552-dd4a-11eb-8d4b-02420a01000d-3-2a8a-06a4-bb3f",
     "next": "f5ca0624-dd4a-11eb-8d4b-02420a01000d-3-7f67-c779-4640",
     "previous": "f5ca046c-dd4a-11eb-8d4b-02420a01000d-3-7bfb-7ca3-d6e3"
    }
   },
   "source": [
    "### sshの鍵ファイルを設定する\n",
    "\n",
    "VCノードにsshでログインするためには事前に公開鍵認証の鍵を登録する必要があります。そのための設定をここで行います。"
   ]
  },
  {
   "cell_type": "markdown",
   "metadata": {
    "lc_cell_meme": {
     "current": "f5ca0624-dd4a-11eb-8d4b-02420a01000d-3-7f67-c779-4640",
     "next": "f5ca06ec-dd4a-11eb-8d4b-02420a01000d-3-4104-b8bc-b5aa",
     "previous": "f5ca0552-dd4a-11eb-8d4b-02420a01000d-3-2a8a-06a4-bb3f"
    }
   },
   "source": [
    "VCノードに登録する公開鍵認証の**公開鍵**のパスを次のセルで指定してください。"
   ]
  },
  {
   "cell_type": "code",
   "execution_count": 15,
   "metadata": {
    "deletable": false,
    "editable": false,
    "lc_cell_meme": {
     "current": "f5ca06ec-dd4a-11eb-8d4b-02420a01000d-3-4104-b8bc-b5aa",
     "execution_end_time": "2021-07-05T06:22:59.913768Z",
     "next": "f5ca07c8-dd4a-11eb-8d4b-02420a01000d-3-7b8c-d1d1-9e99",
     "previous": "f5ca0624-dd4a-11eb-8d4b-02420a01000d-3-7f67-c779-4640"
    },
    "lc_wrapper": {},
    "run_through_control": {
     "frozen": true
    }
   },
   "outputs": [],
   "source": [
    "import os\n",
    "ssh_public_key = os.path.expanduser('~/.ssh/id_rsa.pub')"
   ]
  },
  {
   "cell_type": "markdown",
   "metadata": {
    "lc_cell_meme": {
     "current": "f5ca07c8-dd4a-11eb-8d4b-02420a01000d-3-7b8c-d1d1-9e99",
     "next": "f5ca0890-dd4a-11eb-8d4b-02420a01000d-3-3fde-92b0-3fff",
     "previous": "f5ca06ec-dd4a-11eb-8d4b-02420a01000d-3-4104-b8bc-b5aa"
    }
   },
   "source": [
    "指定した公開鍵を `spec` に設定します。"
   ]
  },
  {
   "cell_type": "code",
   "execution_count": 16,
   "metadata": {
    "deletable": false,
    "editable": false,
    "lc_cell_meme": {
     "current": "f5ca0890-dd4a-11eb-8d4b-02420a01000d-3-3fde-92b0-3fff",
     "execution_end_time": "2021-07-05T06:23:01.214065Z",
     "next": "f5ca096c-dd4a-11eb-8d4b-02420a01000d-3-52e4-40b6-4931",
     "previous": "f5ca07c8-dd4a-11eb-8d4b-02420a01000d-3-7b8c-d1d1-9e99"
    },
    "lc_wrapper": {},
    "run_through_control": {
     "frozen": true
    }
   },
   "outputs": [],
   "source": [
    "spec.set_ssh_pubkey(ssh_public_key)"
   ]
  },
  {
   "cell_type": "markdown",
   "metadata": {
    "lc_cell_meme": {
     "current": "f5ca096c-dd4a-11eb-8d4b-02420a01000d-3-52e4-40b6-4931",
     "next": "f5ca0a48-dd4a-11eb-8d4b-02420a01000d-3-9067-b0e1-1337",
     "previous": "f5ca0890-dd4a-11eb-8d4b-02420a01000d-3-3fde-92b0-3fff"
    }
   },
   "source": [
    "sshの公開鍵に関する設定が`spec`に反映されたことを確認してみます。次のセルを実行すると`params`の`e`の`AUTHORIZED_KEYS`に値が設定されていることが確認できます。"
   ]
  },
  {
   "cell_type": "code",
   "execution_count": 17,
   "metadata": {
    "deletable": false,
    "editable": false,
    "lc_cell_meme": {
     "current": "f5ca0a48-dd4a-11eb-8d4b-02420a01000d-3-9067-b0e1-1337",
     "execution_end_time": "2021-07-05T06:23:01.814361Z",
     "next": "f5ca0b2e-dd4a-11eb-8d4b-02420a01000d-3-3fda-fce3-64bb",
     "previous": "f5ca096c-dd4a-11eb-8d4b-02420a01000d-3-52e4-40b6-4931"
    },
    "lc_wrapper": {},
    "run_through_control": {
     "frozen": true
    }
   },
   "outputs": [
    {
     "name": "stdout",
     "output_type": "stream",
     "text": [
      "\n",
      "========================\n",
      "aws\n",
      "------------------------\n",
      "\n",
      "    cci_version: \"1.1\"\n",
      "    name: \n",
      "    description: \n",
      "    private_network: default\n",
      "    num_nodes: 1\n",
      "    image: vcp/base:1.6.2\n",
      "    recovery_mode: none\n",
      "    docker_opt: {}\n",
      "    params:\n",
      "        {'v': [], 'e': ['AUTHORIZED_KEYS=c3NoLXJzYSBBQUFBQjNOemFDMXljMkVBQUFBREFRQUJBQUFCQVFDc09nTzdmTXJMSG5yRkpSZFROVkVOaWRDNlJTYlNYSE94dmxzSWUvMWc3Nk9IdXB5TE9EUUJ5aXhHc2t1QlVkaXBPaElGV3doeUR4RFRVMU9Xb1BLbHhuTndiV29oZXh1T2s3bmtCYmJ6Y09hT2hhZW5EL1RVdGVLeU05Tm85SW5PTktyS3lTQ0pQVklCUklTVlNXenF6ZzM4NENzSkNNVVBXdVNRcnZmNFpXajI3TDZCYUdaa0c2elVYaVVmMzAvZSsvcitrV2NIZFNFUUcyUHhqRk1iWU9aQkZSMzR5K1RuaWlpTE5LNFlXODgvajdFbXBCRGZ2VEtzL0ZLTXd3WjRjWkdqbmx6eWxFOEdldGhVNC9zcWFYQ1dZSWtHOFJzSjQ2MzRLNU5uTkdRSG80WEZPRzQ0TEJFdkhRTlJoajZCSU14eGd5TkgxVFZlUTdFT2RZNG4gdXNlcjUxMXhlNWIwNTJAMGVhNDIwMGNjMDUxCg==']}\n",
      "\n",
      "    instance_type: m4.large\n",
      "    volume_size: 15\n",
      "    volume_type: gp2\n",
      "    volume_id: []\n",
      "    cloud_image: default\n",
      "    ip_address_list: []\n",
      "    tags: {}\n",
      "========================\n"
     ]
    }
   ],
   "source": [
    "print(spec)"
   ]
  },
  {
   "cell_type": "markdown",
   "metadata": {
    "lc_cell_meme": {
     "current": "f5ca0b2e-dd4a-11eb-8d4b-02420a01000d-3-3fda-fce3-64bb",
     "next": "f5ca0c00-dd4a-11eb-8d4b-02420a01000d-3-6697-5417-804c",
     "previous": "f5ca0a48-dd4a-11eb-8d4b-02420a01000d-3-9067-b0e1-1337"
    }
   },
   "source": [
    "後でVCノードにログインする際にsshの秘密鍵も必要になるので、ここで設定しておきます。次のセルで**秘密鍵**のパスを指定してください。"
   ]
  },
  {
   "cell_type": "code",
   "execution_count": 18,
   "metadata": {
    "deletable": false,
    "editable": false,
    "lc_cell_meme": {
     "current": "f5ca0c00-dd4a-11eb-8d4b-02420a01000d-3-6697-5417-804c",
     "execution_end_time": "2021-07-05T06:23:03.313390Z",
     "next": "f5ca0cc8-dd4a-11eb-8d4b-02420a01000d-3-2085-a71c-daa8",
     "previous": "f5ca0b2e-dd4a-11eb-8d4b-02420a01000d-3-3fda-fce3-64bb"
    },
    "lc_wrapper": {},
    "run_through_control": {
     "frozen": true
    }
   },
   "outputs": [],
   "source": [
    "ssh_private_key = os.path.expanduser('~/.ssh/id_rsa')"
   ]
  },
  {
   "cell_type": "markdown",
   "metadata": {
    "lc_cell_meme": {
     "current": "f5ca0cc8-dd4a-11eb-8d4b-02420a01000d-3-2085-a71c-daa8",
     "next": "f5ca0d9a-dd4a-11eb-8d4b-02420a01000d-3-c3e4-dfeb-2071",
     "previous": "f5ca0c00-dd4a-11eb-8d4b-02420a01000d-3-6697-5417-804c"
    }
   },
   "source": [
    "公開鍵と秘密鍵が正しいペアであることをチェックします。次のセルを実行してエラーにならないことを確認してください。"
   ]
  },
  {
   "cell_type": "code",
   "execution_count": 19,
   "metadata": {
    "deletable": false,
    "editable": false,
    "lc_cell_meme": {
     "current": "f5ca0d9a-dd4a-11eb-8d4b-02420a01000d-3-c3e4-dfeb-2071",
     "execution_end_time": "2021-07-05T06:23:06.574603Z",
     "next": "f5ca0e6c-dd4a-11eb-8d4b-02420a01000d-3-f276-8f1e-ea64",
     "previous": "f5ca0cc8-dd4a-11eb-8d4b-02420a01000d-3-2085-a71c-daa8"
    },
    "lc_wrapper": {},
    "run_through_control": {
     "frozen": true
    }
   },
   "outputs": [],
   "source": [
    "!grep -q \"$(ssh-keygen -y -f {ssh_private_key})\" {ssh_public_key}"
   ]
  },
  {
   "cell_type": "markdown",
   "metadata": {
    "lc_cell_meme": {
     "current": "f5ca0e6c-dd4a-11eb-8d4b-02420a01000d-3-f276-8f1e-ea64",
     "next": "f5ca0f5c-dd4a-11eb-8d4b-02420a01000d-3-825d-41c4-844a",
     "previous": "f5ca0d9a-dd4a-11eb-8d4b-02420a01000d-3-c3e4-dfeb-2071"
    },
    "vcp_tutorial": {
     "url": "files/DOC/index.html#module-vcpsdk.plugins.spec"
    }
   },
   "source": [
    "<!---\n",
    "他にどのようなパラメータが設定できるのかについては\n",
    "「[VCPSDK APIドキュメント](/handson/files/DOC/index.html#module-vcpsdk.plugins.spec)」を参照してください。\n",
    "--->"
   ]
  },
  {
   "cell_type": "markdown",
   "metadata": {
    "lc_cell_meme": {
     "current": "f5ca0f5c-dd4a-11eb-8d4b-02420a01000d-3-825d-41c4-844a",
     "next": "f5ca1024-dd4a-11eb-8d4b-02420a01000d-3-f50c-6a60-dc3a",
     "previous": "f5ca0e6c-dd4a-11eb-8d4b-02420a01000d-3-f276-8f1e-ea64"
    }
   },
   "source": [
    "## Unitの作成とVCノードの起動"
   ]
  },
  {
   "cell_type": "markdown",
   "metadata": {
    "lc_cell_meme": {
     "current": "f5ca1024-dd4a-11eb-8d4b-02420a01000d-3-f50c-6a60-dc3a",
     "next": "f5ca10f6-dd4a-11eb-8d4b-02420a01000d-3-77d8-6643-c231",
     "previous": "f5ca0f5c-dd4a-11eb-8d4b-02420a01000d-3-825d-41c4-844a"
    }
   },
   "source": [
    "Unitを作成します。Unitを作成すると同時に VCノード（ここでは Amazon EC2インスタンス）が起動します。\n",
    "\n",
    "> 処理が完了するまで1分半～2分程度かかります。"
   ]
  },
  {
   "cell_type": "code",
   "execution_count": 20,
   "metadata": {
    "deletable": false,
    "editable": false,
    "lc_cell_meme": {
     "current": "f5ca10f6-dd4a-11eb-8d4b-02420a01000d-3-77d8-6643-c231",
     "execution_end_time": "2021-07-05T06:25:28.462020Z",
     "next": "f5ca11c8-dd4a-11eb-8d4b-02420a01000d-3-fa92-b9c5-43d8",
     "previous": "f5ca1024-dd4a-11eb-8d4b-02420a01000d-3-f50c-6a60-dc3a"
    },
    "lc_wrapper": {},
    "run_through_control": {
     "frozen": true
    },
    "scrolled": true
   },
   "outputs": [
    {
     "name": "stdout",
     "output_type": "stream",
     "text": [
      "2021-07-05 15:23:12,361 - INFO - BOOTING ... 0 sec\n",
      "2021-07-05 15:23:17,493 - INFO - BOOTING ... 5 sec\n",
      "2021-07-05 15:23:22,642 - INFO - BOOTING ... 10 sec\n",
      "2021-07-05 15:23:27,794 - INFO - BOOTING ... 15 sec\n",
      "2021-07-05 15:23:32,951 - INFO - BOOTING ... 20 sec\n",
      "2021-07-05 15:23:38,079 - INFO - BOOTING ... 25 sec\n",
      "2021-07-05 15:23:43,274 - INFO - BOOTING ... 30 sec\n",
      "2021-07-05 15:23:48,441 - INFO - BOOTING ... 35 sec\n",
      "2021-07-05 15:23:53,594 - INFO - BOOTING ... 40 sec\n",
      "2021-07-05 15:23:58,740 - INFO - BOOTING ... 45 sec\n",
      "2021-07-05 15:24:03,906 - INFO - BOOTING ... 50 sec\n",
      "2021-07-05 15:24:09,056 - INFO - BOOTING ... 55 sec\n",
      "2021-07-05 15:24:14,211 - INFO - BOOTING ... 60 sec\n",
      "2021-07-05 15:24:19,359 - INFO - BOOTING ... 65 sec\n",
      "2021-07-05 15:24:24,511 - INFO - BOOTING ... 70 sec\n",
      "2021-07-05 15:24:29,659 - INFO - BOOTING ... 75 sec\n",
      "2021-07-05 15:24:35,206 - INFO - BOOTING ... 80 sec\n",
      "2021-07-05 15:24:40,700 - INFO - BOOTING ... 85 sec\n",
      "2021-07-05 15:24:45,910 - INFO - BOOTING ... 90 sec\n",
      "2021-07-05 15:24:51,084 - INFO - BOOTING ... 95 sec\n",
      "2021-07-05 15:24:56,292 - INFO - BOOTING ... 100 sec\n",
      "2021-07-05 15:25:01,448 - INFO - BOOTING ... 105 sec\n",
      "2021-07-05 15:25:06,802 - INFO - BOOTING ... 110 sec\n",
      "2021-07-05 15:25:11,997 - INFO - BOOTING ... 115 sec\n",
      "2021-07-05 15:25:17,145 - INFO - BOOTING ... 120 sec\n",
      "2021-07-05 15:25:28,315 - INFO - unit aws-server is RUNNING\n"
     ]
    }
   ],
   "source": [
    "# Unitの作成（同時に VCノードが作成される）\n",
    "unit = unit_group.create_unit(\n",
    "    'aws-server',               # Unit名の指定\n",
    "    spec\n",
    ")"
   ]
  },
  {
   "cell_type": "markdown",
   "metadata": {
    "lc_cell_meme": {
     "current": "f5ca11c8-dd4a-11eb-8d4b-02420a01000d-3-fa92-b9c5-43d8",
     "next": "f5ca12ae-dd4a-11eb-8d4b-02420a01000d-3-c05c-8bd3-eaef",
     "previous": "f5ca10f6-dd4a-11eb-8d4b-02420a01000d-3-77d8-6643-c231"
    }
   },
   "source": [
    "UnitGroupに属しているUnitの一覧表示を行い、Unitが作成されていることを確認します。"
   ]
  },
  {
   "cell_type": "code",
   "execution_count": 21,
   "metadata": {
    "deletable": false,
    "editable": false,
    "lc_cell_meme": {
     "current": "f5ca12ae-dd4a-11eb-8d4b-02420a01000d-3-c05c-8bd3-eaef",
     "execution_end_time": "2021-07-05T06:25:33.377196Z",
     "next": "f5ca1376-dd4a-11eb-8d4b-02420a01000d-3-22c8-66d4-65c6",
     "previous": "f5ca11c8-dd4a-11eb-8d4b-02420a01000d-3-fa92-b9c5-43d8"
    },
    "lc_wrapper": {},
    "run_through_control": {
     "frozen": true
    }
   },
   "outputs": [
    {
     "data": {
      "text/html": [
       "<div>\n",
       "<style scoped>\n",
       "    .dataframe tbody tr th:only-of-type {\n",
       "        vertical-align: middle;\n",
       "    }\n",
       "\n",
       "    .dataframe tbody tr th {\n",
       "        vertical-align: top;\n",
       "    }\n",
       "\n",
       "    .dataframe thead th {\n",
       "        text-align: right;\n",
       "    }\n",
       "</style>\n",
       "<table border=\"1\" class=\"dataframe\">\n",
       "  <thead>\n",
       "    <tr style=\"text-align: right;\">\n",
       "      <th></th>\n",
       "      <th>vctype</th>\n",
       "      <th>vcno</th>\n",
       "      <th>vcname</th>\n",
       "      <th>vc_state</th>\n",
       "      <th>vcid</th>\n",
       "      <th>cdate</th>\n",
       "      <th>unit_name</th>\n",
       "      <th>unit_state</th>\n",
       "    </tr>\n",
       "  </thead>\n",
       "  <tbody>\n",
       "    <tr>\n",
       "      <th>0</th>\n",
       "      <td>compute</td>\n",
       "      <td>4</td>\n",
       "      <td>handson101</td>\n",
       "      <td>RUNNING</td>\n",
       "      <td>eea5d99d...</td>\n",
       "      <td>2021/07/05 06:22:27 UTC</td>\n",
       "      <td>aws-server</td>\n",
       "      <td>RUNNING</td>\n",
       "    </tr>\n",
       "  </tbody>\n",
       "</table>\n",
       "</div>"
      ],
      "text/plain": [
       "    vctype  vcno      vcname vc_state         vcid                    cdate  \\\n",
       "0  compute     4  handson101  RUNNING  eea5d99d...  2021/07/05 06:22:27 UTC   \n",
       "\n",
       "    unit_name unit_state  \n",
       "0  aws-server    RUNNING  "
      ]
     },
     "execution_count": 21,
     "metadata": {},
     "output_type": "execute_result"
    }
   ],
   "source": [
    "# Unitの一覧を DataFrame で表示する\n",
    "unit_group.df_units()"
   ]
  },
  {
   "cell_type": "markdown",
   "metadata": {
    "lc_cell_meme": {
     "current": "f5ca1376-dd4a-11eb-8d4b-02420a01000d-3-22c8-66d4-65c6",
     "next": "f5ca1452-dd4a-11eb-8d4b-02420a01000d-3-4c3f-2fb7-b819",
     "previous": "f5ca12ae-dd4a-11eb-8d4b-02420a01000d-3-c05c-8bd3-eaef"
    }
   },
   "source": [
    "UnitGroupに属しているVCノードの一覧表示を行い、VCノードが起動していることを確認します。VCノードが正常に起動していることは `node_state` の表示が `RUNNING`になっていることで確認できます。"
   ]
  },
  {
   "cell_type": "code",
   "execution_count": 22,
   "metadata": {
    "deletable": false,
    "editable": false,
    "lc_cell_meme": {
     "current": "f5ca1452-dd4a-11eb-8d4b-02420a01000d-3-4c3f-2fb7-b819",
     "execution_end_time": "2021-07-05T06:25:35.145465Z",
     "next": "f5ca1524-dd4a-11eb-8d4b-02420a01000d-3-30c7-9d6c-cbe6",
     "previous": "f5ca1376-dd4a-11eb-8d4b-02420a01000d-3-22c8-66d4-65c6"
    },
    "lc_wrapper": {},
    "run_through_control": {
     "frozen": true
    },
    "scrolled": true
   },
   "outputs": [
    {
     "data": {
      "text/html": [
       "<style  type=\"text/css\" >\n",
       "    #T_ce826426_dd59_11eb_9668_02420a010024row0_col3 {\n",
       "            background-color:  #dfd;\n",
       "        }    #T_ce826426_dd59_11eb_9668_02420a010024row0_col6 {\n",
       "            background-color:  #dfd;\n",
       "        }</style><table id=\"T_ce826426_dd59_11eb_9668_02420a010024\" ><thead>    <tr>        <th class=\"blank level0\" ></th>        <th class=\"col_heading level0 col0\" >vcno</th>        <th class=\"col_heading level0 col1\" >vcname</th>        <th class=\"col_heading level0 col2\" >unit_name</th>        <th class=\"col_heading level0 col3\" >unit_state</th>        <th class=\"col_heading level0 col4\" >node_no</th>        <th class=\"col_heading level0 col5\" >node_id</th>        <th class=\"col_heading level0 col6\" >node_state</th>        <th class=\"col_heading level0 col7\" >cloud_instance_address</th>        <th class=\"col_heading level0 col8\" >cloud_instance_id</th>        <th class=\"col_heading level0 col9\" >cloud_instance_name</th>        <th class=\"col_heading level0 col10\" >volumes</th>    </tr></thead><tbody>\n",
       "                <tr>\n",
       "                        <th id=\"T_ce826426_dd59_11eb_9668_02420a010024level0_row0\" class=\"row_heading level0 row0\" >0</th>\n",
       "                        <td id=\"T_ce826426_dd59_11eb_9668_02420a010024row0_col0\" class=\"data row0 col0\" >4</td>\n",
       "                        <td id=\"T_ce826426_dd59_11eb_9668_02420a010024row0_col1\" class=\"data row0 col1\" >handson101</td>\n",
       "                        <td id=\"T_ce826426_dd59_11eb_9668_02420a010024row0_col2\" class=\"data row0 col2\" >aws-server</td>\n",
       "                        <td id=\"T_ce826426_dd59_11eb_9668_02420a010024row0_col3\" class=\"data row0 col3\" >RUNNING</td>\n",
       "                        <td id=\"T_ce826426_dd59_11eb_9668_02420a010024row0_col4\" class=\"data row0 col4\" >1</td>\n",
       "                        <td id=\"T_ce826426_dd59_11eb_9668_02420a010024row0_col5\" class=\"data row0 col5\" >5ebea5e8...</td>\n",
       "                        <td id=\"T_ce826426_dd59_11eb_9668_02420a010024row0_col6\" class=\"data row0 col6\" >RUNNING</td>\n",
       "                        <td id=\"T_ce826426_dd59_11eb_9668_02420a010024row0_col7\" class=\"data row0 col7\" >172.30.2.188</td>\n",
       "                        <td id=\"T_ce826426_dd59_11eb_9668_02420a010024row0_col8\" class=\"data row0 col8\" >i-0598cb2b417048269</td>\n",
       "                        <td id=\"T_ce826426_dd59_11eb_9668_02420a010024row0_col9\" class=\"data row0 col9\" >VCP-8dbe841c-eea5d99d</td>\n",
       "                        <td id=\"T_ce826426_dd59_11eb_9668_02420a010024row0_col10\" class=\"data row0 col10\" >none</td>\n",
       "            </tr>\n",
       "    </tbody></table>"
      ],
      "text/plain": [
       "<pandas.io.formats.style.Styler at 0x7f183032b750>"
      ]
     },
     "execution_count": 22,
     "metadata": {},
     "output_type": "execute_result"
    }
   ],
   "source": [
    "# VCノードの一覧を DataFrame で表示する\n",
    "unit_group.df_nodes()"
   ]
  },
  {
   "cell_type": "markdown",
   "metadata": {
    "lc_cell_meme": {
     "current": "f5ca1524-dd4a-11eb-8d4b-02420a01000d-3-30c7-9d6c-cbe6",
     "next": "f5ca1600-dd4a-11eb-8d4b-02420a01000d-3-1fdc-1283-62e5",
     "previous": "f5ca1452-dd4a-11eb-8d4b-02420a01000d-3-4c3f-2fb7-b819"
    }
   },
   "source": [
    "ここでは VCノードの起動が完了するまで待ち合わせるモードでUnitの作成を行いましたが、非同期処理でUnit, VCノードの作成を行うこともできます。`create_unit()`の`wait_for`パラメータに`False`を指定すると非同期モードでのUnit, VCノードの作成が行えます。\n",
    "\n",
    "```\n",
    "unit = unit_group.create_unit('aws-server', spec, wait_for=False)\n",
    "```\n",
    "\n",
    "非同期モードでUnitを作成した場合にUnitやVCノードが起動したことを確認するには、以下に示す方法で状態取得を行ってください。\n",
    "\n",
    "1. `unit_group.df_units()`\n",
    "  * Unitの一覧表示の`unit_state`の項目で Unitの状態を確認できます\n",
    "  * 起動中は `BOOTING`、起動が完了して実行中になると `RUNNING` と表示されます\n",
    " \n",
    "1. `unit.df_nodes()`, `unit_group.df_nodes()`\n",
    "  * VCノードの一覧表示の`node_state`の項目で VCノードの状態を確認できます\n",
    "  * 起動中は `BOOTING`、起動が完了して実行中になると `RUNNING` と表示されます\n",
    "\n",
    "非同期モードでUnit作成を行った場合でも、以下のメソッドを利用することで後からVCノード起動の待ち合わせを行うことができます。\n",
    "* `unit_group.wait_unit_applied(unit_name)`\n",
    "  - unit_nameで指定されたUnitの状態が `RUNNING` または `ERROR`になるのを待ちます"
   ]
  },
  {
   "cell_type": "markdown",
   "metadata": {
    "lc_cell_meme": {
     "current": "f5ca1600-dd4a-11eb-8d4b-02420a01000d-3-1fdc-1283-62e5",
     "next": "f5ca184e-dd4a-11eb-8d4b-02420a01000d-3-b6e3-db17-2a7d",
     "previous": "f5ca1524-dd4a-11eb-8d4b-02420a01000d-3-30c7-9d6c-cbe6"
    }
   },
   "source": [
    "## 疎通確認\n",
    "\n",
    "起動した VCノードに対して`ping`を行ってみます。"
   ]
  },
  {
   "cell_type": "markdown",
   "metadata": {
    "lc_cell_meme": {
     "current": "f5ca184e-dd4a-11eb-8d4b-02420a01000d-3-b6e3-db17-2a7d",
     "next": "f5ca1970-dd4a-11eb-8d4b-02420a01000d-3-be98-c291-3a39",
     "previous": "f5ca1600-dd4a-11eb-8d4b-02420a01000d-3-1fdc-1283-62e5"
    }
   },
   "source": [
    "まずUnitGroup内で起動しているVCノードに割り当てられているプライベートIPアドレスの値を取得して変数 `ip_address`に格納します。"
   ]
  },
  {
   "cell_type": "code",
   "execution_count": 23,
   "metadata": {
    "deletable": false,
    "editable": false,
    "lc_cell_meme": {
     "current": "f5ca1970-dd4a-11eb-8d4b-02420a01000d-3-be98-c291-3a39",
     "execution_end_time": "2021-07-05T06:25:44.075147Z",
     "next": "f5ca1a42-dd4a-11eb-8d4b-02420a01000d-3-7738-b1cc-7e92",
     "previous": "f5ca184e-dd4a-11eb-8d4b-02420a01000d-3-b6e3-db17-2a7d"
    },
    "lc_wrapper": {},
    "run_through_control": {
     "frozen": true
    }
   },
   "outputs": [
    {
     "name": "stdout",
     "output_type": "stream",
     "text": [
      "172.30.2.188\n"
     ]
    }
   ],
   "source": [
    "# unit_group.find_ip_addresses() は UnitGroup内の全VCノードのIPアドレスのリストを返します\n",
    "ip_address = unit_group.find_ip_addresses(node_state='RUNNING')[0] # 今は１つのVCノードのみ起動しているので [0] で最初の要素を取り出す\n",
    "\n",
    "print(ip_address)"
   ]
  },
  {
   "cell_type": "markdown",
   "metadata": {
    "lc_cell_meme": {
     "current": "f5ca1a42-dd4a-11eb-8d4b-02420a01000d-3-7738-b1cc-7e92",
     "next": "f5ca1b3c-dd4a-11eb-8d4b-02420a01000d-3-5269-0c31-4ba8",
     "previous": "f5ca1970-dd4a-11eb-8d4b-02420a01000d-3-be98-c291-3a39"
    }
   },
   "source": [
    "実際に `ping` を行ってみます。\n",
    "\n",
    "> Codeセルで先頭に `!` をつけるとシェルコマンドが実行できます。また `{}`で囲むことで Python の変数参照やコードの実行に置き換えることができます。詳しくは「[IPython Documentation](https://ipython.readthedocs.io/en/stable/interactive/tutorial.html#system-shell-commands)」などを参照してください。"
   ]
  },
  {
   "cell_type": "code",
   "execution_count": 24,
   "metadata": {
    "deletable": false,
    "editable": false,
    "lc_cell_meme": {
     "current": "f5ca1b3c-dd4a-11eb-8d4b-02420a01000d-3-5269-0c31-4ba8",
     "execution_end_time": "2021-07-05T06:25:54.413376Z",
     "next": "f5ca1c0e-dd4a-11eb-8d4b-02420a01000d-3-7f25-4465-b8e5",
     "previous": "f5ca1a42-dd4a-11eb-8d4b-02420a01000d-3-7738-b1cc-7e92"
    },
    "lc_wrapper": {},
    "run_through_control": {
     "frozen": true
    }
   },
   "outputs": [],
   "source": [
    "# NIIのハンズオン環境ではネットワーク構成の事情により本NotebookからVCノードへのping実行はできません。\n",
    "# !ping -c 5 {ip_address}"
   ]
  },
  {
   "cell_type": "markdown",
   "metadata": {
    "lc_cell_meme": {
     "current": "f5ca1c0e-dd4a-11eb-8d4b-02420a01000d-3-7f25-4465-b8e5",
     "next": "f5ca1cd6-dd4a-11eb-8d4b-02420a01000d-3-e997-1756-b145",
     "previous": "f5ca1b3c-dd4a-11eb-8d4b-02420a01000d-3-5269-0c31-4ba8"
    }
   },
   "source": [
    "# VCノードに ssh でログインして操作する"
   ]
  },
  {
   "cell_type": "markdown",
   "metadata": {
    "lc_cell_meme": {
     "current": "f5ca1cd6-dd4a-11eb-8d4b-02420a01000d-3-e997-1756-b145",
     "next": "f5ca1d9e-dd4a-11eb-8d4b-02420a01000d-3-1f16-c4a2-c69c",
     "previous": "f5ca1c0e-dd4a-11eb-8d4b-02420a01000d-3-7f25-4465-b8e5"
    }
   },
   "source": [
    "起動したVCノードに ssh でログインして操作を行います。\n",
    "\n",
    "![](./images/101-006.png)"
   ]
  },
  {
   "cell_type": "markdown",
   "metadata": {
    "lc_cell_meme": {
     "current": "f5ca1d9e-dd4a-11eb-8d4b-02420a01000d-3-1f16-c4a2-c69c",
     "next": "f5ca1e7a-dd4a-11eb-8d4b-02420a01000d-3-735a-2d6a-398b",
     "previous": "f5ca1cd6-dd4a-11eb-8d4b-02420a01000d-3-e997-1756-b145"
    }
   },
   "source": [
    "まず、ログインする前に ~/.ssh/known_hosts のホストキーを更新します。"
   ]
  },
  {
   "cell_type": "code",
   "execution_count": 25,
   "metadata": {
    "deletable": false,
    "editable": false,
    "lc_cell_meme": {
     "current": "f5ca1e7a-dd4a-11eb-8d4b-02420a01000d-3-735a-2d6a-398b",
     "execution_end_time": "2021-07-05T06:26:03.992563Z",
     "next": "f5ca1f56-dd4a-11eb-8d4b-02420a01000d-3-1ac9-b5e0-877b",
     "previous": "f5ca1d9e-dd4a-11eb-8d4b-02420a01000d-3-1f16-c4a2-c69c"
    },
    "lc_wrapper": {},
    "run_through_control": {
     "frozen": true
    }
   },
   "outputs": [
    {
     "name": "stdout",
     "output_type": "stream",
     "text": [
      "Host 172.30.2.188 not found in /home/jovyan/.ssh/known_hosts\n"
     ]
    }
   ],
   "source": [
    "!touch ~/.ssh/known_hosts\n",
    "# ~/.ssh/known_hosts から古いホストキーを削除する\n",
    "!ssh-keygen -R {ip_address}\n",
    "\n",
    "# ホストキーの登録\n",
    "!ssh-keyscan -H {ip_address} >> ~/.ssh/known_hosts"
   ]
  },
  {
   "cell_type": "markdown",
   "metadata": {
    "lc_cell_meme": {
     "current": "f5ca1f56-dd4a-11eb-8d4b-02420a01000d-3-1ac9-b5e0-877b",
     "next": "f5ca205a-dd4a-11eb-8d4b-02420a01000d-3-9ef8-71bc-6368",
     "previous": "f5ca1e7a-dd4a-11eb-8d4b-02420a01000d-3-735a-2d6a-398b"
    }
   },
   "source": [
    "`ls -la` を実行してみます。"
   ]
  },
  {
   "cell_type": "code",
   "execution_count": 26,
   "metadata": {
    "deletable": false,
    "editable": false,
    "lc_cell_meme": {
     "current": "f5ca205a-dd4a-11eb-8d4b-02420a01000d-3-9ef8-71bc-6368",
     "execution_end_time": "2021-07-05T06:26:08.787376Z",
     "next": "f5ca2122-dd4a-11eb-8d4b-02420a01000d-3-3b8b-aa52-4644",
     "previous": "f5ca1f56-dd4a-11eb-8d4b-02420a01000d-3-1ac9-b5e0-877b"
    },
    "lc_wrapper": {},
    "run_through_control": {
     "frozen": true
    },
    "scrolled": true
   },
   "outputs": [
    {
     "name": "stdout",
     "output_type": "stream",
     "text": [
      "Warning: Permanently added '172.30.2.188' (ECDSA) to the list of known hosts.\n",
      "total 20\n",
      "drwx------    1 root     root          4096 Oct  5  2020 .\n",
      "drwxr-xr-x    1 root     root          4096 Jul  5 06:25 ..\n",
      "drwxr-xr-x    1 root     root          4096 Oct  5  2020 .cache\n",
      "drwxr-xr-x    3 root     root          4096 Oct  5  2020 .gem\n",
      "drwx------    1 root     root          4096 Jul  5 06:25 .ssh\n"
     ]
    }
   ],
   "source": [
    "!ssh -i {ssh_private_key} -l root {ip_address} /bin/ls -la"
   ]
  },
  {
   "cell_type": "markdown",
   "metadata": {
    "lc_cell_meme": {
     "current": "f5ca2122-dd4a-11eb-8d4b-02420a01000d-3-3b8b-aa52-4644",
     "next": "f5ca21ea-dd4a-11eb-8d4b-02420a01000d-3-dc44-8bff-13c8",
     "previous": "f5ca205a-dd4a-11eb-8d4b-02420a01000d-3-9ef8-71bc-6368"
    }
   },
   "source": [
    "VCノードにsshでログインするにはsshの引数に以下の指定が必要となります。\n",
    "\n",
    "* sshの identity ファイル(-i)\n",
    "  - `spec`オブジェクトに設定した公開鍵に対応する秘密鍵\n",
    "* ユーザ名(-l)\n",
    "  - `root`\n",
    "* ログイン先のIPアドレス"
   ]
  },
  {
   "cell_type": "markdown",
   "metadata": {
    "lc_cell_meme": {
     "current": "f5ca21ea-dd4a-11eb-8d4b-02420a01000d-3-dc44-8bff-13c8",
     "next": "f5ca22d0-dd4a-11eb-8d4b-02420a01000d-3-5fb3-8fd8-6434",
     "previous": "f5ca2122-dd4a-11eb-8d4b-02420a01000d-3-3b8b-aa52-4644"
    }
   },
   "source": [
    "sshのオプションを毎回指定するのも煩雑なので変数に設定しておきます。"
   ]
  },
  {
   "cell_type": "code",
   "execution_count": 27,
   "metadata": {
    "deletable": false,
    "editable": false,
    "lc_cell_meme": {
     "current": "f5ca22d0-dd4a-11eb-8d4b-02420a01000d-3-5fb3-8fd8-6434",
     "execution_end_time": "2021-07-05T06:26:14.213387Z",
     "next": "f5ca2398-dd4a-11eb-8d4b-02420a01000d-3-90cd-9979-93f3",
     "previous": "f5ca21ea-dd4a-11eb-8d4b-02420a01000d-3-dc44-8bff-13c8"
    },
    "lc_wrapper": {},
    "run_through_control": {
     "frozen": true
    }
   },
   "outputs": [],
   "source": [
    "ssh_opts = f\"-i {ssh_private_key} -l root\""
   ]
  },
  {
   "cell_type": "markdown",
   "metadata": {
    "lc_cell_meme": {
     "current": "f5ca2398-dd4a-11eb-8d4b-02420a01000d-3-90cd-9979-93f3",
     "next": "f5ca2460-dd4a-11eb-8d4b-02420a01000d-3-1530-7dc3-0829",
     "previous": "f5ca22d0-dd4a-11eb-8d4b-02420a01000d-3-5fb3-8fd8-6434"
    }
   },
   "source": [
    "VCノードに対して`uname -a`, `df -h` などを実行してみます。"
   ]
  },
  {
   "cell_type": "code",
   "execution_count": 28,
   "metadata": {
    "deletable": false,
    "editable": false,
    "lc_cell_meme": {
     "current": "f5ca2460-dd4a-11eb-8d4b-02420a01000d-3-1530-7dc3-0829",
     "execution_end_time": "2021-07-05T06:26:16.783120Z",
     "next": "f5ca2546-dd4a-11eb-8d4b-02420a01000d-3-e43d-dd93-4db6",
     "previous": "f5ca2398-dd4a-11eb-8d4b-02420a01000d-3-90cd-9979-93f3"
    },
    "lc_wrapper": {},
    "run_through_control": {
     "frozen": true
    }
   },
   "outputs": [
    {
     "name": "stdout",
     "output_type": "stream",
     "text": [
      "Linux ip-172-30-2-188 4.4.0-159-generic #187-Ubuntu SMP Thu Aug 1 16:28:06 UTC 2019 x86_64 Linux\r\n"
     ]
    }
   ],
   "source": [
    "!ssh {ssh_opts} {ip_address} uname -a"
   ]
  },
  {
   "cell_type": "code",
   "execution_count": 29,
   "metadata": {
    "deletable": false,
    "editable": false,
    "lc_cell_meme": {
     "current": "f5ca2546-dd4a-11eb-8d4b-02420a01000d-3-e43d-dd93-4db6",
     "execution_end_time": "2021-07-05T06:26:18.571172Z",
     "next": "f5ca2622-dd4a-11eb-8d4b-02420a01000d-3-ce2e-10e1-2545",
     "previous": "f5ca2460-dd4a-11eb-8d4b-02420a01000d-3-1530-7dc3-0829"
    },
    "lc_wrapper": {},
    "run_through_control": {
     "frozen": true
    }
   },
   "outputs": [
    {
     "name": "stdout",
     "output_type": "stream",
     "text": [
      "Filesystem                Size      Used Available Use% Mounted on\r\n",
      "overlay                  14.6G      3.3G     10.6G  24% /\r\n",
      "tmpfs                     3.9G         0      3.9G   0% /sys/fs/cgroup\r\n",
      "udev                      3.9G         0      3.9G   0% /dev\r\n",
      "tmpfs                     3.9G         0      3.9G   0% /dev/shm\r\n",
      "/dev/xvda1               14.6G      3.3G     10.6G  24% /etc/resolv.conf\r\n",
      "/dev/xvda1               14.6G      3.3G     10.6G  24% /etc/hostname\r\n",
      "/dev/xvda1               14.6G      3.3G     10.6G  24% /etc/hosts\r\n",
      "/dev/xvda1               14.6G      3.3G     10.6G  24% /var/lib/docker\r\n",
      "none                      3.9G         0      3.9G   0% /tmp\r\n"
     ]
    }
   ],
   "source": [
    "!ssh {ssh_opts} {ip_address} df -h"
   ]
  },
  {
   "cell_type": "markdown",
   "metadata": {
    "lc_cell_meme": {
     "current": "f5ca2622-dd4a-11eb-8d4b-02420a01000d-3-ce2e-10e1-2545",
     "next": "f5ca26ea-dd4a-11eb-8d4b-02420a01000d-3-8603-80e4-8298",
     "previous": "f5ca2546-dd4a-11eb-8d4b-02420a01000d-3-e43d-dd93-4db6"
    }
   },
   "source": [
    "# GrafanaでVCノードの利用状況を確認する"
   ]
  },
  {
   "cell_type": "markdown",
   "metadata": {
    "lc_cell_meme": {
     "current": "f5ca26ea-dd4a-11eb-8d4b-02420a01000d-3-8603-80e4-8298",
     "next": "f5ca27bc-dd4a-11eb-8d4b-02420a01000d-3-9ffa-4580-9857",
     "previous": "f5ca2622-dd4a-11eb-8d4b-02420a01000d-3-ce2e-10e1-2545"
    }
   },
   "source": [
    "VCPではVCノードの利用状況(CPU負荷、メモリ使用量、ネットワーク）を確認するためGrafanaのダッシュボードを提供しています。"
   ]
  },
  {
   "cell_type": "markdown",
   "metadata": {
    "lc_cell_meme": {
     "current": "f5ca27bc-dd4a-11eb-8d4b-02420a01000d-3-9ffa-4580-9857",
     "next": "f5ca2884-dd4a-11eb-8d4b-02420a01000d-3-9a9a-1588-0992",
     "previous": "f5ca26ea-dd4a-11eb-8d4b-02420a01000d-3-8603-80e4-8298"
    }
   },
   "source": [
    "## Grafanaへのログイン"
   ]
  },
  {
   "cell_type": "markdown",
   "metadata": {
    "lc_cell_meme": {
     "current": "f5ca2884-dd4a-11eb-8d4b-02420a01000d-3-9a9a-1588-0992",
     "next": "f5ca296a-dd4a-11eb-8d4b-02420a01000d-3-7509-1b25-afdc",
     "previous": "f5ca27bc-dd4a-11eb-8d4b-02420a01000d-3-9ffa-4580-9857"
    }
   },
   "source": [
    "以下のセルを実行して Grafana ダッシュボードを開いてください。\n",
    "\n",
    "最初にログイン画面が表示されるので ユーザ名、パスワードにそれぞれ `admin`, `admin`を入力してください。 "
   ]
  },
  {
   "cell_type": "code",
   "execution_count": 30,
   "metadata": {
    "deletable": false,
    "editable": false,
    "lc_cell_meme": {
     "current": "f5ca296a-dd4a-11eb-8d4b-02420a01000d-3-7509-1b25-afdc",
     "execution_end_time": "2021-07-05T06:26:25.875375Z",
     "next": "f5ca2a46-dd4a-11eb-8d4b-02420a01000d-3-5d74-4ce0-8dd2",
     "previous": "f5ca2884-dd4a-11eb-8d4b-02420a01000d-3-9a9a-1588-0992"
    },
    "lc_wrapper": {},
    "run_through_control": {
     "frozen": true
    }
   },
   "outputs": [
    {
     "name": "stdout",
     "output_type": "stream",
     "text": [
      "https://localhost/grafana/d/vcp/vcp-metrics?refresh=5s\n"
     ]
    }
   ],
   "source": [
    "vcc_ctr = vcp.vcc_info()['host']\n",
    "http_host = vcc_ctr.split(':')[0]\n",
    "grafana_url = \"https://{}/grafana/d/vcp/vcp-metrics?refresh=5s\".format(http_host)\n",
    "print(grafana_url)"
   ]
  },
  {
   "cell_type": "markdown",
   "metadata": {
    "lc_cell_meme": {
     "current": "f5ca2a46-dd4a-11eb-8d4b-02420a01000d-3-5d74-4ce0-8dd2",
     "next": "f5ca2b22-dd4a-11eb-8d4b-02420a01000d-3-bb95-dcf4-f8ea",
     "previous": "f5ca296a-dd4a-11eb-8d4b-02420a01000d-3-7509-1b25-afdc"
    }
   },
   "source": [
    "![Grafanaのログイン画面](./images/grafana-login.png)"
   ]
  },
  {
   "cell_type": "markdown",
   "metadata": {
    "lc_cell_meme": {
     "current": "f5ca2b22-dd4a-11eb-8d4b-02420a01000d-3-bb95-dcf4-f8ea",
     "next": "f5ca2bfe-dd4a-11eb-8d4b-02420a01000d-3-aada-5841-1ea4",
     "previous": "f5ca2a46-dd4a-11eb-8d4b-02420a01000d-3-5d74-4ce0-8dd2"
    }
   },
   "source": [
    "## 負荷状況のグラフ表示\n",
    "\n",
    "以下のように表示されます。左半分のグラフがBaseコンテナの負荷状況で、右半分がアプリケーションコンテナの負荷状況のグラフです。\n",
    "\n",
    "![負荷状況](./images/grafana-metrics.png)"
   ]
  },
  {
   "cell_type": "markdown",
   "metadata": {
    "lc_cell_meme": {
     "current": "f5ca2bfe-dd4a-11eb-8d4b-02420a01000d-3-aada-5841-1ea4",
     "next": "f5ca2cc6-dd4a-11eb-8d4b-02420a01000d-3-d9f8-a8fe-4067",
     "previous": "f5ca2b22-dd4a-11eb-8d4b-02420a01000d-3-bb95-dcf4-f8ea"
    }
   },
   "source": [
    "VCノードに負荷をかけるために、アプリケーションコンテナで stress コマンドを実行します。"
   ]
  },
  {
   "cell_type": "code",
   "execution_count": 31,
   "metadata": {
    "deletable": false,
    "editable": false,
    "lc_cell_meme": {
     "current": "f5ca2cc6-dd4a-11eb-8d4b-02420a01000d-3-d9f8-a8fe-4067",
     "execution_end_time": "2021-07-05T06:26:37.322180Z",
     "next": "f5ca2d8e-dd4a-11eb-8d4b-02420a01000d-3-b21e-85ea-2292",
     "previous": "f5ca2bfe-dd4a-11eb-8d4b-02420a01000d-3-aada-5841-1ea4"
    },
    "lc_wrapper": {},
    "run_through_control": {
     "frozen": true
    },
    "scrolled": true
   },
   "outputs": [
    {
     "name": "stdout",
     "output_type": "stream",
     "text": [
      "Unable to find image 'polinux/stress:latest' locally\n",
      "latest: Pulling from polinux/stress\n",
      "63bc94deeb28: Pulling fs layer\n",
      "8d43371bad93: Pulling fs layer\n",
      "63bc94deeb28: Verifying Checksum\n",
      "63bc94deeb28: Download complete\n",
      "8d43371bad93: Verifying Checksum\n",
      "8d43371bad93: Download complete\n",
      "63bc94deeb28: Pull complete\n",
      "8d43371bad93: Pull complete\n",
      "Digest: sha256:b6144f84f9c15dac80deb48d3a646b55c7043ab1d83ea0a697c09097aaad21aa\n",
      "Status: Downloaded newer image for polinux/stress:latest\n",
      "9bf8a3e959bf02dafd8237ec769bb3205b20abcd03b875666a5e51e918be23b3\n"
     ]
    }
   ],
   "source": [
    "# 60秒間だけ CPU x 2 とメモリ 128 MB を消費する\n",
    "!ssh {ssh_opts} {ip_address} \\\n",
    "    /usr/local/bin/docker run -td --rm --name stress-0 polinux/stress \\\n",
    "    stress --cpu 2 --io 1 --vm 2 --vm-bytes 128M --timeout 60s --verbose"
   ]
  },
  {
   "cell_type": "code",
   "execution_count": 32,
   "metadata": {
    "deletable": false,
    "editable": false,
    "lc_cell_meme": {
     "current": "f5ca2d8e-dd4a-11eb-8d4b-02420a01000d-3-b21e-85ea-2292",
     "execution_end_time": "2021-07-05T06:26:44.153906Z",
     "next": "f5ca2e88-dd4a-11eb-8d4b-02420a01000d-3-11b8-b7e1-5f62",
     "previous": "f5ca2cc6-dd4a-11eb-8d4b-02420a01000d-3-d9f8-a8fe-4067"
    },
    "lc_wrapper": {},
    "run_through_control": {
     "frozen": true
    }
   },
   "outputs": [
    {
     "name": "stdout",
     "output_type": "stream",
     "text": [
      "f93c5d21d358bcb9009640687827dca94aa5a3de159be4a48f42aaf10b8f7902\r\n"
     ]
    }
   ],
   "source": [
    "# 60秒間だけ CPU x 2 とメモリ 128 MB を消費する (2回目)\n",
    "!ssh {ssh_opts} {ip_address} \\\n",
    "    /usr/local/bin/docker run -td --rm --name stress-1 polinux/stress \\\n",
    "    stress --cpu 2 --io 1 --vm 2 --vm-bytes 128M --timeout 60s --verbose"
   ]
  },
  {
   "cell_type": "markdown",
   "metadata": {
    "heading_collapsed": true,
    "lc_cell_meme": {
     "current": "f5ca2e88-dd4a-11eb-8d4b-02420a01000d-3-11b8-b7e1-5f62",
     "next": "f5ca2f6e-dd4a-11eb-8d4b-02420a01000d-3-2557-2f4d-fad6",
     "previous": "f5ca2d8e-dd4a-11eb-8d4b-02420a01000d-3-b21e-85ea-2292"
    }
   },
   "source": [
    "# VCノードのスケールアウト、スケールイン"
   ]
  },
  {
   "cell_type": "markdown",
   "metadata": {
    "hidden": true,
    "lc_cell_meme": {
     "current": "f5ca2f6e-dd4a-11eb-8d4b-02420a01000d-3-2557-2f4d-fad6",
     "next": "f5ca304a-dd4a-11eb-8d4b-02420a01000d-3-3090-0286-0dac",
     "previous": "f5ca2e88-dd4a-11eb-8d4b-02420a01000d-3-11b8-b7e1-5f62"
    }
   },
   "source": [
    "![スケールアウト、スケールイン](images/101-004.png)"
   ]
  },
  {
   "cell_type": "markdown",
   "metadata": {
    "heading_collapsed": true,
    "hidden": true,
    "lc_cell_meme": {
     "current": "f5ca304a-dd4a-11eb-8d4b-02420a01000d-3-3090-0286-0dac",
     "next": "f5ca3126-dd4a-11eb-8d4b-02420a01000d-3-bb1a-81b4-6f39",
     "previous": "f5ca2f6e-dd4a-11eb-8d4b-02420a01000d-3-2557-2f4d-fad6"
    }
   },
   "source": [
    "## VCノードのスケールアウト"
   ]
  },
  {
   "cell_type": "markdown",
   "metadata": {
    "hidden": true,
    "lc_cell_meme": {
     "current": "f5ca3126-dd4a-11eb-8d4b-02420a01000d-3-bb1a-81b4-6f39",
     "next": "f5ca31ee-dd4a-11eb-8d4b-02420a01000d-3-a192-0c7c-d4c8",
     "previous": "f5ca304a-dd4a-11eb-8d4b-02420a01000d-3-3090-0286-0dac"
    }
   },
   "source": [
    "Unitには `spec`オブジェクトに指定されている設定と同一の VCノードを作成する機能があります。その機能を利用して Unit にVCノードを追加してみます。"
   ]
  },
  {
   "cell_type": "markdown",
   "metadata": {
    "hidden": true,
    "lc_cell_meme": {
     "current": "f5ca31ee-dd4a-11eb-8d4b-02420a01000d-3-a192-0c7c-d4c8",
     "next": "f5ca32c0-dd4a-11eb-8d4b-02420a01000d-3-5d5f-3366-41a9",
     "previous": "f5ca3126-dd4a-11eb-8d4b-02420a01000d-3-bb1a-81b4-6f39"
    }
   },
   "source": [
    "まず、現在のVCノードの状況を確認しておきます。"
   ]
  },
  {
   "cell_type": "code",
   "execution_count": null,
   "metadata": {
    "hidden": true,
    "lc_cell_meme": {
     "current": "f5ca32c0-dd4a-11eb-8d4b-02420a01000d-3-5d5f-3366-41a9",
     "next": "f5ca339c-dd4a-11eb-8d4b-02420a01000d-3-669e-bf5e-7dde",
     "previous": "f5ca31ee-dd4a-11eb-8d4b-02420a01000d-3-a192-0c7c-d4c8"
    },
    "lc_wrapper": {}
   },
   "outputs": [],
   "source": [
    "# VCノードの一覧を DataFrame で表示する\n",
    "unit.df_nodes()"
   ]
  },
  {
   "cell_type": "markdown",
   "metadata": {
    "hidden": true,
    "lc_cell_meme": {
     "current": "f5ca339c-dd4a-11eb-8d4b-02420a01000d-3-669e-bf5e-7dde",
     "next": "f5ca3478-dd4a-11eb-8d4b-02420a01000d-3-9226-fdeb-3575",
     "previous": "f5ca32c0-dd4a-11eb-8d4b-02420a01000d-3-5d5f-3366-41a9"
    }
   },
   "source": [
    "Unit に VCノードを追加するには`unit`オブジェクトに対して `add_nodes()` を呼び出します。次のセルを実行するとUnitに VCノード が追加されます。\n",
    "\n",
    "> VCノード の起動には 1分半～2分程度かかります。"
   ]
  },
  {
   "cell_type": "code",
   "execution_count": null,
   "metadata": {
    "hidden": true,
    "lc_cell_meme": {
     "current": "f5ca3478-dd4a-11eb-8d4b-02420a01000d-3-9226-fdeb-3575",
     "next": "f5ca3540-dd4a-11eb-8d4b-02420a01000d-3-3fb3-3a2e-c546",
     "previous": "f5ca339c-dd4a-11eb-8d4b-02420a01000d-3-669e-bf5e-7dde"
    },
    "lc_wrapper": {},
    "scrolled": true
   },
   "outputs": [],
   "source": [
    "unit.add_nodes()"
   ]
  },
  {
   "cell_type": "markdown",
   "metadata": {
    "hidden": true,
    "lc_cell_meme": {
     "current": "f5ca3540-dd4a-11eb-8d4b-02420a01000d-3-3fb3-3a2e-c546",
     "next": "f5ca3608-dd4a-11eb-8d4b-02420a01000d-3-5122-e99a-2910",
     "previous": "f5ca3478-dd4a-11eb-8d4b-02420a01000d-3-9226-fdeb-3575"
    }
   },
   "source": [
    "`add_node()`を呼び出すことで追加されるVCノードの数はデフォルトでは１ですが、パラメータ`num_add_nodes`を設定することで追加するVCノード数を変更することが出来ます。例えば３ノードを追加するには以下のような指定を行います。\n",
    "\n",
    "```\n",
    "unit.add_nodes(num_add_nodes=3)\n",
    "```\n",
    "また、追加するVCノードのIPアドレスを指定する場合は、以下のような指定を行います。\n",
    "```\n",
    "unit.add_nodes(ip_address='172.30.2.30')\n",
    "```\n",
    "他にどんなパラメータを指定することが出来るかについては次のセルのように Codeセルの先頭で `?` を指定することで確認できます。"
   ]
  },
  {
   "cell_type": "code",
   "execution_count": null,
   "metadata": {
    "hidden": true,
    "lc_cell_meme": {
     "current": "f5ca3608-dd4a-11eb-8d4b-02420a01000d-3-5122-e99a-2910",
     "next": "f5ca36da-dd4a-11eb-8d4b-02420a01000d-3-9784-ef4e-0ae9",
     "previous": "f5ca3540-dd4a-11eb-8d4b-02420a01000d-3-3fb3-3a2e-c546"
    },
    "lc_wrapper": {}
   },
   "outputs": [],
   "source": [
    "?unit.add_nodes"
   ]
  },
  {
   "cell_type": "markdown",
   "metadata": {
    "hidden": true,
    "lc_cell_meme": {
     "current": "f5ca36da-dd4a-11eb-8d4b-02420a01000d-3-9784-ef4e-0ae9",
     "next": "f5ca37b6-dd4a-11eb-8d4b-02420a01000d-3-b2a2-7bbf-ef0f",
     "previous": "f5ca3608-dd4a-11eb-8d4b-02420a01000d-3-5122-e99a-2910"
    }
   },
   "source": [
    "追加したVCノードの状態を確認するために、VCノードの一覧表示をおこなってみます。"
   ]
  },
  {
   "cell_type": "code",
   "execution_count": null,
   "metadata": {
    "hidden": true,
    "lc_cell_meme": {
     "current": "f5ca37b6-dd4a-11eb-8d4b-02420a01000d-3-b2a2-7bbf-ef0f",
     "next": "f5ca387e-dd4a-11eb-8d4b-02420a01000d-3-dfca-1457-1e35",
     "previous": "f5ca36da-dd4a-11eb-8d4b-02420a01000d-3-9784-ef4e-0ae9"
    },
    "lc_wrapper": {},
    "scrolled": true
   },
   "outputs": [],
   "source": [
    "unit.df_nodes()"
   ]
  },
  {
   "cell_type": "markdown",
   "metadata": {
    "hidden": true,
    "lc_cell_meme": {
     "current": "f5ca387e-dd4a-11eb-8d4b-02420a01000d-3-dfca-1457-1e35",
     "next": "f5ca395a-dd4a-11eb-8d4b-02420a01000d-3-ff8c-26e9-4923",
     "previous": "f5ca37b6-dd4a-11eb-8d4b-02420a01000d-3-b2a2-7bbf-ef0f"
    }
   },
   "source": [
    "起動している全てのVCノードに対して `ping` を行ってみます。"
   ]
  },
  {
   "cell_type": "code",
   "execution_count": null,
   "metadata": {
    "hidden": true,
    "lc_cell_meme": {
     "current": "f5ca395a-dd4a-11eb-8d4b-02420a01000d-3-ff8c-26e9-4923",
     "next": "f5ca3a36-dd4a-11eb-8d4b-02420a01000d-3-ebdb-114f-3933",
     "previous": "f5ca387e-dd4a-11eb-8d4b-02420a01000d-3-dfca-1457-1e35"
    },
    "lc_wrapper": {},
    "scrolled": true
   },
   "outputs": [],
   "source": [
    "# Unit内のVCノードのIPアドレスのリストを取得する\n",
    "ip_address = unit.find_ip_addresses(node_state='RUNNING')\n",
    "print(ip_address)\n",
    "\n",
    "# それぞれのIPアドレスに対して pingコマンドを実行する\n",
    "for address in ip_address:\n",
    "    !ping -c 5 {address}\n",
    "    print()"
   ]
  },
  {
   "cell_type": "markdown",
   "metadata": {
    "hidden": true,
    "lc_cell_meme": {
     "current": "f5ca3a36-dd4a-11eb-8d4b-02420a01000d-3-ebdb-114f-3933",
     "next": "f5ca3b12-dd4a-11eb-8d4b-02420a01000d-3-f2dc-84ed-4756",
     "previous": "f5ca395a-dd4a-11eb-8d4b-02420a01000d-3-ff8c-26e9-4923"
    }
   },
   "source": [
    "VCノードを追加したので ~/.ssh/known_hosts を更新します。"
   ]
  },
  {
   "cell_type": "code",
   "execution_count": null,
   "metadata": {
    "hidden": true,
    "lc_cell_meme": {
     "current": "f5ca3b12-dd4a-11eb-8d4b-02420a01000d-3-f2dc-84ed-4756",
     "next": "f5ca3bda-dd4a-11eb-8d4b-02420a01000d-3-657a-da81-f702",
     "previous": "f5ca3a36-dd4a-11eb-8d4b-02420a01000d-3-ebdb-114f-3933"
    },
    "lc_wrapper": {}
   },
   "outputs": [],
   "source": [
    "for address in ip_address:\n",
    "    # ~/.ssh/known_hosts から古いホストキーを削除する\n",
    "    !ssh-keygen -R {address}\n",
    "    # ホストキーの登録\n",
    "    !ssh-keyscan -H {address} >> ~/.ssh/known_hosts"
   ]
  },
  {
   "cell_type": "markdown",
   "metadata": {
    "hidden": true,
    "lc_cell_meme": {
     "current": "f5ca3bda-dd4a-11eb-8d4b-02420a01000d-3-657a-da81-f702",
     "next": "f5ca3ca2-dd4a-11eb-8d4b-02420a01000d-3-6001-a0eb-2dbc",
     "previous": "f5ca3b12-dd4a-11eb-8d4b-02420a01000d-3-f2dc-84ed-4756"
    }
   },
   "source": [
    "追加で起動した VCノード は同じ Unit に属しているため同じ構成(cpu, memory, disk)になっています。そのことを確認するために、sshでログインして以下のコマンドを実行してみます。\n",
    "\n",
    "* カーネルバージョン\n",
    "  - uname -a\n",
    "* CPU\n",
    "  - cat /proc/cpuinfo\n",
    "* メモリ量\n",
    "  - free\n",
    "* ディスク容量\n",
    "  - df -h\n",
    "  \n",
    "> ただし aws では同じインスタンスタイプに複数種類の CPU が混在していることがあり CPU が微妙に異なることがあります。"
   ]
  },
  {
   "cell_type": "code",
   "execution_count": null,
   "metadata": {
    "hidden": true,
    "lc_cell_meme": {
     "current": "f5ca3ca2-dd4a-11eb-8d4b-02420a01000d-3-6001-a0eb-2dbc",
     "next": "f5ca3d7e-dd4a-11eb-8d4b-02420a01000d-3-e50a-682e-056c",
     "previous": "f5ca3bda-dd4a-11eb-8d4b-02420a01000d-3-657a-da81-f702"
    },
    "lc_wrapper": {},
    "scrolled": true
   },
   "outputs": [],
   "source": [
    "for address in ip_address:\n",
    "    print(address + ':')\n",
    "    !ssh {ssh_opts} {address} uname -a\n",
    "    print()"
   ]
  },
  {
   "cell_type": "code",
   "execution_count": null,
   "metadata": {
    "hidden": true,
    "lc_cell_meme": {
     "current": "f5ca3d7e-dd4a-11eb-8d4b-02420a01000d-3-e50a-682e-056c",
     "next": "f5ca3e5a-dd4a-11eb-8d4b-02420a01000d-3-6b20-1cc6-5ca9",
     "previous": "f5ca3ca2-dd4a-11eb-8d4b-02420a01000d-3-6001-a0eb-2dbc"
    },
    "lc_wrapper": {}
   },
   "outputs": [],
   "source": [
    "for address in ip_address:\n",
    "    print(address + ':')\n",
    "    !ssh {ssh_opts} {address} cat /proc/cpuinfo | grep 'model name'\n",
    "    print()"
   ]
  },
  {
   "cell_type": "code",
   "execution_count": null,
   "metadata": {
    "hidden": true,
    "lc_cell_meme": {
     "current": "f5ca3e5a-dd4a-11eb-8d4b-02420a01000d-3-6b20-1cc6-5ca9",
     "next": "f5ca3f2c-dd4a-11eb-8d4b-02420a01000d-3-dccf-2cf0-1274",
     "previous": "f5ca3d7e-dd4a-11eb-8d4b-02420a01000d-3-e50a-682e-056c"
    },
    "lc_wrapper": {}
   },
   "outputs": [],
   "source": [
    "for address in ip_address:\n",
    "    print(address + ':')\n",
    "    !ssh {ssh_opts} {address} free\n",
    "    print()"
   ]
  },
  {
   "cell_type": "code",
   "execution_count": null,
   "metadata": {
    "hidden": true,
    "lc_cell_meme": {
     "current": "f5ca3f2c-dd4a-11eb-8d4b-02420a01000d-3-dccf-2cf0-1274",
     "next": "f5ca3ff4-dd4a-11eb-8d4b-02420a01000d-3-38b8-b164-2c71",
     "previous": "f5ca3e5a-dd4a-11eb-8d4b-02420a01000d-3-6b20-1cc6-5ca9"
    },
    "lc_wrapper": {}
   },
   "outputs": [],
   "source": [
    "for address in ip_address:\n",
    "    print(address + ':')\n",
    "    !ssh {ssh_opts} {address} df -h\n",
    "    print()"
   ]
  },
  {
   "cell_type": "markdown",
   "metadata": {
    "hidden": true,
    "lc_cell_meme": {
     "current": "f5ca3ff4-dd4a-11eb-8d4b-02420a01000d-3-38b8-b164-2c71",
     "next": "f5ca40c6-dd4a-11eb-8d4b-02420a01000d-3-49df-2987-b55f",
     "previous": "f5ca3f2c-dd4a-11eb-8d4b-02420a01000d-3-dccf-2cf0-1274"
    }
   },
   "source": [
    "先程と同様に、負荷をかけるためにそれぞれのVCノードでアプリケーションコンテナによる stress コマンドの実行を行います。"
   ]
  },
  {
   "cell_type": "code",
   "execution_count": null,
   "metadata": {
    "hidden": true,
    "lc_cell_meme": {
     "current": "f5ca40c6-dd4a-11eb-8d4b-02420a01000d-3-49df-2987-b55f",
     "next": "f5ca41b6-dd4a-11eb-8d4b-02420a01000d-3-9982-d59b-4d0a",
     "previous": "f5ca3ff4-dd4a-11eb-8d4b-02420a01000d-3-38b8-b164-2c71"
    },
    "lc_wrapper": {}
   },
   "outputs": [],
   "source": [
    "for idx, address in enumerate(ip_address):\n",
    "    # 60秒間だけ CPU x 2 とメモリ 128 MB を消費する\n",
    "    !ssh {ssh_opts} {address} \\\n",
    "        /usr/local/bin/docker run -td --rm --name stress-{idx} polinux/stress \\\n",
    "        stress --cpu 2 --io 1 --vm 2 --vm-bytes 128M --timeout 60s --verbose"
   ]
  },
  {
   "cell_type": "markdown",
   "metadata": {
    "hidden": true,
    "lc_cell_meme": {
     "current": "f5ca41b6-dd4a-11eb-8d4b-02420a01000d-3-9982-d59b-4d0a",
     "next": "f5ca4292-dd4a-11eb-8d4b-02420a01000d-3-e1ca-c1b0-71a8",
     "previous": "f5ca40c6-dd4a-11eb-8d4b-02420a01000d-3-49df-2987-b55f"
    }
   },
   "source": [
    "[Grafana](/grafana/d/vcp/vcp-metrics?refresh=5s) で利用状況を確認してみます。"
   ]
  },
  {
   "cell_type": "markdown",
   "metadata": {
    "heading_collapsed": true,
    "hidden": true,
    "lc_cell_meme": {
     "current": "f5ca4292-dd4a-11eb-8d4b-02420a01000d-3-e1ca-c1b0-71a8",
     "next": "f5ca4382-dd4a-11eb-8d4b-02420a01000d-3-57a6-c183-1a03",
     "previous": "f5ca41b6-dd4a-11eb-8d4b-02420a01000d-3-9982-d59b-4d0a"
    }
   },
   "source": [
    "## VCノードのスケールイン\n",
    "\n",
    "現在Unitには２つのVCノードがありますが、そのうちの一つを削除してみます。"
   ]
  },
  {
   "cell_type": "markdown",
   "metadata": {
    "hidden": true,
    "lc_cell_meme": {
     "current": "f5ca4382-dd4a-11eb-8d4b-02420a01000d-3-57a6-c183-1a03",
     "next": "f5ca445e-dd4a-11eb-8d4b-02420a01000d-3-f86e-732b-77a6",
     "previous": "f5ca4292-dd4a-11eb-8d4b-02420a01000d-3-e1ca-c1b0-71a8"
    }
   },
   "source": [
    "まず、現在のVCノードの状況を確認しておきます。"
   ]
  },
  {
   "cell_type": "code",
   "execution_count": null,
   "metadata": {
    "hidden": true,
    "lc_cell_meme": {
     "current": "f5ca445e-dd4a-11eb-8d4b-02420a01000d-3-f86e-732b-77a6",
     "next": "f5ca4530-dd4a-11eb-8d4b-02420a01000d-3-34a3-27b0-e1c6",
     "previous": "f5ca4382-dd4a-11eb-8d4b-02420a01000d-3-57a6-c183-1a03"
    },
    "lc_wrapper": {},
    "scrolled": true
   },
   "outputs": [],
   "source": [
    "# VCノードの一覧を DataFrame で表示する\n",
    "unit.df_nodes()"
   ]
  },
  {
   "cell_type": "markdown",
   "metadata": {
    "hidden": true,
    "lc_cell_meme": {
     "current": "f5ca4530-dd4a-11eb-8d4b-02420a01000d-3-34a3-27b0-e1c6",
     "next": "f5ca45f8-dd4a-11eb-8d4b-02420a01000d-3-458d-ceae-3e82",
     "previous": "f5ca445e-dd4a-11eb-8d4b-02420a01000d-3-f86e-732b-77a6"
    }
   },
   "source": [
    "Unit から VCノードを削除するにはオブジェクト`unit`に対して `delete_nodes()` を呼び出します。\n",
    "\n",
    "複数の VCノード のうちどのVCノード を削除するかを引数で指定することができます。ここでは`ip_address`パラメータを指定してVCノードに割り当てられている IPアドレスで VCノードを特定します。\n",
    "\n",
    "> VCノードを特定するパラメータが指定されなかった場合は削除対象となる VCノードは VCP SDK によって自動的に選択されます。\n",
    "\n",
    "VCノードを特定するための他のパラメータに指定方法については次のセルを実行すると表示される情報で確認してください。"
   ]
  },
  {
   "cell_type": "code",
   "execution_count": null,
   "metadata": {
    "hidden": true,
    "lc_cell_meme": {
     "current": "f5ca45f8-dd4a-11eb-8d4b-02420a01000d-3-458d-ceae-3e82",
     "next": "f5ca46ca-dd4a-11eb-8d4b-02420a01000d-3-7ed3-ba3d-4a7e",
     "previous": "f5ca4530-dd4a-11eb-8d4b-02420a01000d-3-34a3-27b0-e1c6"
    },
    "lc_wrapper": {}
   },
   "outputs": [],
   "source": [
    "?unit.delete_nodes"
   ]
  },
  {
   "cell_type": "markdown",
   "metadata": {
    "hidden": true,
    "lc_cell_meme": {
     "current": "f5ca46ca-dd4a-11eb-8d4b-02420a01000d-3-7ed3-ba3d-4a7e",
     "next": "f5ca47b0-dd4a-11eb-8d4b-02420a01000d-3-3c3a-72ef-62d2",
     "previous": "f5ca45f8-dd4a-11eb-8d4b-02420a01000d-3-458d-ceae-3e82"
    }
   },
   "source": [
    "では実際にVCノードを削除します。まず削除対象とするVCノードのIPアドレスを確認します。スケールアウトの節で追加したVCノードのIPアドレスを指定することにします。"
   ]
  },
  {
   "cell_type": "code",
   "execution_count": null,
   "metadata": {
    "hidden": true,
    "lc_cell_meme": {
     "current": "f5ca47b0-dd4a-11eb-8d4b-02420a01000d-3-3c3a-72ef-62d2",
     "next": "f5ca4882-dd4a-11eb-8d4b-02420a01000d-3-53f3-5beb-d4bb",
     "previous": "f5ca46ca-dd4a-11eb-8d4b-02420a01000d-3-7ed3-ba3d-4a7e"
    },
    "lc_wrapper": {}
   },
   "outputs": [],
   "source": [
    "# 削除対象とするVCノードの IPアドレスを表示 \n",
    "print(ip_address[-1])                         # 後から追加した VCノード を削除対象とする"
   ]
  },
  {
   "cell_type": "markdown",
   "metadata": {
    "hidden": true,
    "lc_cell_meme": {
     "current": "f5ca4882-dd4a-11eb-8d4b-02420a01000d-3-53f3-5beb-d4bb",
     "next": "f5ca494a-dd4a-11eb-8d4b-02420a01000d-3-49e5-3f50-018b",
     "previous": "f5ca47b0-dd4a-11eb-8d4b-02420a01000d-3-3c3a-72ef-62d2"
    }
   },
   "source": [
    "次のセルを実行するとUnit からVCノードが削除され、対応するAWS EC2インスタンスも削除されます。\n",
    "\n",
    "> VCノード の削除には 1分～2分程度かかります。"
   ]
  },
  {
   "cell_type": "code",
   "execution_count": null,
   "metadata": {
    "hidden": true,
    "lc_cell_meme": {
     "current": "f5ca494a-dd4a-11eb-8d4b-02420a01000d-3-49e5-3f50-018b",
     "next": "f5ca4a12-dd4a-11eb-8d4b-02420a01000d-3-f93e-5d8d-b7df",
     "previous": "f5ca4882-dd4a-11eb-8d4b-02420a01000d-3-53f3-5beb-d4bb"
    },
    "lc_wrapper": {},
    "scrolled": true
   },
   "outputs": [],
   "source": [
    "# VCノードの削除\n",
    "unit.delete_nodes(\n",
    "    ip_address=ip_address[-1]     # IPアドレスで削除対象を指定する\n",
    ")"
   ]
  },
  {
   "cell_type": "markdown",
   "metadata": {
    "hidden": true,
    "lc_cell_meme": {
     "current": "f5ca4a12-dd4a-11eb-8d4b-02420a01000d-3-f93e-5d8d-b7df",
     "next": "f5ca4af8-dd4a-11eb-8d4b-02420a01000d-3-0707-4a2a-035c",
     "previous": "f5ca494a-dd4a-11eb-8d4b-02420a01000d-3-49e5-3f50-018b"
    }
   },
   "source": [
    "Unit内のVCノードの一覧を確認してみます。VCノードが減っていることが確認できるはずです。"
   ]
  },
  {
   "cell_type": "code",
   "execution_count": null,
   "metadata": {
    "hidden": true,
    "lc_cell_meme": {
     "current": "f5ca4af8-dd4a-11eb-8d4b-02420a01000d-3-0707-4a2a-035c",
     "next": "f5ca4bca-dd4a-11eb-8d4b-02420a01000d-3-761f-e43a-04dd",
     "previous": "f5ca4a12-dd4a-11eb-8d4b-02420a01000d-3-f93e-5d8d-b7df"
    },
    "lc_wrapper": {},
    "scrolled": false
   },
   "outputs": [],
   "source": [
    "unit.df_nodes()"
   ]
  },
  {
   "cell_type": "markdown",
   "metadata": {
    "hidden": true,
    "lc_cell_meme": {
     "current": "f5ca4bca-dd4a-11eb-8d4b-02420a01000d-3-761f-e43a-04dd",
     "next": "f5ca4c9c-dd4a-11eb-8d4b-02420a01000d-3-416c-f124-1f1e",
     "previous": "f5ca4af8-dd4a-11eb-8d4b-02420a01000d-3-0707-4a2a-035c"
    }
   },
   "source": [
    "先ほど取得した２つのVCノードのIPアドレスに対して `ping` を行ってみます。\n",
    "削除されている VCノード に対する `ping` が失敗するので、次のセルは必ずエラーになるはずです。"
   ]
  },
  {
   "cell_type": "code",
   "execution_count": null,
   "metadata": {
    "hidden": true,
    "lc_cell_meme": {
     "current": "f5ca4c9c-dd4a-11eb-8d4b-02420a01000d-3-416c-f124-1f1e",
     "next": "f5ca4d64-dd4a-11eb-8d4b-02420a01000d-3-0cc2-edcd-2552",
     "previous": "f5ca4bca-dd4a-11eb-8d4b-02420a01000d-3-761f-e43a-04dd"
    },
    "lc_wrapper": {}
   },
   "outputs": [],
   "source": [
    "for address in ip_address:\n",
    "    !ping -c 5 {address}"
   ]
  },
  {
   "cell_type": "markdown",
   "metadata": {
    "lc_cell_meme": {
     "current": "f5ca4d64-dd4a-11eb-8d4b-02420a01000d-3-0cc2-edcd-2552",
     "next": "f5ca4e36-dd4a-11eb-8d4b-02420a01000d-3-4547-124a-ea71",
     "previous": "f5ca4c9c-dd4a-11eb-8d4b-02420a01000d-3-416c-f124-1f1e"
    }
   },
   "source": [
    "# 別のクラウドでVCノードを起動する"
   ]
  },
  {
   "cell_type": "markdown",
   "metadata": {
    "lc_cell_meme": {
     "current": "f5ca4e36-dd4a-11eb-8d4b-02420a01000d-3-4547-124a-ea71",
     "next": "f5ca4f1c-dd4a-11eb-8d4b-02420a01000d-3-3a9c-6702-b093",
     "previous": "f5ca4d64-dd4a-11eb-8d4b-02420a01000d-3-0cc2-edcd-2552"
    }
   },
   "source": [
    "![azure](images/101-005.png)"
   ]
  },
  {
   "cell_type": "markdown",
   "metadata": {
    "lc_cell_meme": {
     "current": "f5ca4f1c-dd4a-11eb-8d4b-02420a01000d-3-3a9c-6702-b093",
     "next": "f5ca4ff8-dd4a-11eb-8d4b-02420a01000d-3-31ef-5fb9-ca23",
     "previous": "f5ca4e36-dd4a-11eb-8d4b-02420a01000d-3-4547-124a-ea71"
    }
   },
   "source": [
    "## Unit の追加"
   ]
  },
  {
   "cell_type": "markdown",
   "metadata": {
    "lc_cell_meme": {
     "current": "f5ca4ff8-dd4a-11eb-8d4b-02420a01000d-3-31ef-5fb9-ca23",
     "next": "f5ca50c0-dd4a-11eb-8d4b-02420a01000d-3-727e-cad6-a6c4",
     "previous": "f5ca4f1c-dd4a-11eb-8d4b-02420a01000d-3-3a9c-6702-b093"
    }
   },
   "source": [
    "先程とは異なる構成のVCノードを追加するので、新たな Unit を作成します。"
   ]
  },
  {
   "cell_type": "markdown",
   "metadata": {
    "lc_cell_meme": {
     "current": "f5ca50c0-dd4a-11eb-8d4b-02420a01000d-3-727e-cad6-a6c4",
     "next": "f5ca5188-dd4a-11eb-8d4b-02420a01000d-3-3571-b1a1-4c79",
     "previous": "f5ca4ff8-dd4a-11eb-8d4b-02420a01000d-3-31ef-5fb9-ca23"
    }
   },
   "source": [
    "### VCノードのspecを指定する"
   ]
  },
  {
   "cell_type": "markdown",
   "metadata": {
    "lc_cell_meme": {
     "current": "f5ca5188-dd4a-11eb-8d4b-02420a01000d-3-3571-b1a1-4c79",
     "next": "f5ca5264-dd4a-11eb-8d4b-02420a01000d-3-a572-cc86-443c",
     "previous": "f5ca50c0-dd4a-11eb-8d4b-02420a01000d-3-727e-cad6-a6c4"
    }
   },
   "source": [
    "AWSの場合と同様 `spec` オブジェクトを作成します。\n",
    "\n",
    "AWSの場合からの変更点は、specの作成等で指定するプロバイダ名を、使用するプロバイダのものに変更するだけです。\n",
    "ここでの具体的な変更箇所は次の2つのAPIの引数になります。\n",
    "\n",
    "- `VCPSDK::df_flavors()`\n",
    "- `VCPSDK::get_spec()`\n",
    "\n",
    "VCP SDKで現在使用可能なクラウドプロバイダと、それを使用する際の引数に指定するプロバイダ名の値は以下のとおりです。\n",
    "\n",
    "|  クラウドプロバイダ  |  プロバイダ名  |\n",
    "| :---- | :---- |\n",
    "|  Amazon EC2  |  `aws`  |\n",
    "|  Microsoft Azure  |  `azure`  |\n",
    "|  Oracle Cloud Infrastructure  |  `oracle`  |\n",
    "|  さくらのクラウド  |  `sakura` |\n",
    "|  VMware vSphere  |  `vmware`  |\n",
    "\n",
    "ここでは、Microsoft Azure でVCノードを作成します。\n",
    "下記の `'azure'` を指定した箇所を変更することで、他のプロバイダでも同様の操作をすることができます。"
   ]
  },
  {
   "cell_type": "markdown",
   "metadata": {
    "lc_cell_meme": {
     "current": "f5ca5264-dd4a-11eb-8d4b-02420a01000d-3-a572-cc86-443c",
     "next": "f5ca532c-dd4a-11eb-8d4b-02420a01000d-3-064c-1ef7-a5f8",
     "previous": "f5ca5188-dd4a-11eb-8d4b-02420a01000d-3-3571-b1a1-4c79"
    }
   },
   "source": [
    "まず最初に、Microsoft Azure 用に定義している `flavor` の内容を確認します。"
   ]
  },
  {
   "cell_type": "code",
   "execution_count": 33,
   "metadata": {
    "deletable": false,
    "editable": false,
    "lc_cell_meme": {
     "current": "f5ca532c-dd4a-11eb-8d4b-02420a01000d-3-064c-1ef7-a5f8",
     "execution_end_time": "2021-07-05T06:27:08.871853Z",
     "next": "f5ca53f4-dd4a-11eb-8d4b-02420a01000d-3-6770-1b41-6e15",
     "previous": "f5ca5264-dd4a-11eb-8d4b-02420a01000d-3-a572-cc86-443c"
    },
    "lc_wrapper": {},
    "run_through_control": {
     "frozen": true
    }
   },
   "outputs": [
    {
     "data": {
      "text/html": [
       "<div>\n",
       "<style scoped>\n",
       "    .dataframe tbody tr th:only-of-type {\n",
       "        vertical-align: middle;\n",
       "    }\n",
       "\n",
       "    .dataframe tbody tr th {\n",
       "        vertical-align: top;\n",
       "    }\n",
       "\n",
       "    .dataframe thead th {\n",
       "        text-align: right;\n",
       "    }\n",
       "</style>\n",
       "<table border=\"1\" class=\"dataframe\">\n",
       "  <thead>\n",
       "    <tr style=\"text-align: right;\">\n",
       "      <th></th>\n",
       "      <th>flavor</th>\n",
       "      <th>vm_size</th>\n",
       "      <th>disk_size_gb</th>\n",
       "      <th>managed_disk_type</th>\n",
       "    </tr>\n",
       "  </thead>\n",
       "  <tbody>\n",
       "    <tr>\n",
       "      <th>0</th>\n",
       "      <td>small</td>\n",
       "      <td>Standard_B1s</td>\n",
       "      <td>40</td>\n",
       "      <td>Standard_LRS</td>\n",
       "    </tr>\n",
       "    <tr>\n",
       "      <th>1</th>\n",
       "      <td>medium</td>\n",
       "      <td>Standard_D3_v2</td>\n",
       "      <td>100</td>\n",
       "      <td>Standard_LRS</td>\n",
       "    </tr>\n",
       "    <tr>\n",
       "      <th>2</th>\n",
       "      <td>large</td>\n",
       "      <td>Standard_D4_v2</td>\n",
       "      <td>100</td>\n",
       "      <td>Premium_LRS</td>\n",
       "    </tr>\n",
       "  </tbody>\n",
       "</table>\n",
       "</div>"
      ],
      "text/plain": [
       "   flavor         vm_size  disk_size_gb managed_disk_type\n",
       "0   small    Standard_B1s            40      Standard_LRS\n",
       "1  medium  Standard_D3_v2           100      Standard_LRS\n",
       "2   large  Standard_D4_v2           100       Premium_LRS"
      ]
     },
     "execution_count": 33,
     "metadata": {},
     "output_type": "execute_result"
    }
   ],
   "source": [
    "vcp.df_flavors('azure')"
   ]
  },
  {
   "cell_type": "markdown",
   "metadata": {
    "lc_cell_meme": {
     "current": "f5ca53f4-dd4a-11eb-8d4b-02420a01000d-3-6770-1b41-6e15",
     "next": "f5ca54d0-dd4a-11eb-8d4b-02420a01000d-3-7e1c-b599-c13a",
     "previous": "f5ca532c-dd4a-11eb-8d4b-02420a01000d-3-064c-1ef7-a5f8"
    }
   },
   "source": [
    "続いて、以下のパラメータを指定して `spec`オブジェクトを作成します。\n",
    "* プロバイダ: `azure`\n",
    "* flavor: `medium`"
   ]
  },
  {
   "cell_type": "code",
   "execution_count": 34,
   "metadata": {
    "deletable": false,
    "editable": false,
    "lc_cell_meme": {
     "current": "f5ca54d0-dd4a-11eb-8d4b-02420a01000d-3-7e1c-b599-c13a",
     "execution_end_time": "2021-07-05T06:27:11.203333Z",
     "next": "f5ca55a2-dd4a-11eb-8d4b-02420a01000d-3-2b82-55c7-7c40",
     "previous": "f5ca53f4-dd4a-11eb-8d4b-02420a01000d-3-6770-1b41-6e15"
    },
    "lc_wrapper": {},
    "run_through_control": {
     "frozen": true
    }
   },
   "outputs": [],
   "source": [
    "spec_azure = vcp.get_spec('azure', 'medium')"
   ]
  },
  {
   "cell_type": "markdown",
   "metadata": {
    "lc_cell_meme": {
     "current": "f5ca55a2-dd4a-11eb-8d4b-02420a01000d-3-2b82-55c7-7c40",
     "next": "f5ca5688-dd4a-11eb-8d4b-02420a01000d-3-5e32-31ad-5cf0",
     "previous": "f5ca54d0-dd4a-11eb-8d4b-02420a01000d-3-7e1c-b599-c13a"
    }
   },
   "source": [
    "作成した`spec_azure`の設定内容を確認してみます。"
   ]
  },
  {
   "cell_type": "code",
   "execution_count": 35,
   "metadata": {
    "deletable": false,
    "editable": false,
    "lc_cell_meme": {
     "current": "f5ca5688-dd4a-11eb-8d4b-02420a01000d-3-5e32-31ad-5cf0",
     "execution_end_time": "2021-07-05T06:27:16.290284Z",
     "next": "f5ca575a-dd4a-11eb-8d4b-02420a01000d-3-c0c1-bc54-d5f5",
     "previous": "f5ca55a2-dd4a-11eb-8d4b-02420a01000d-3-2b82-55c7-7c40"
    },
    "lc_wrapper": {},
    "run_through_control": {
     "frozen": true
    },
    "scrolled": false
   },
   "outputs": [
    {
     "name": "stdout",
     "output_type": "stream",
     "text": [
      "\n",
      "========================\n",
      "azure\n",
      "------------------------\n",
      "\n",
      "    cci_version: \"1.1\"\n",
      "    name: \n",
      "    description: \n",
      "    private_network: default\n",
      "    num_nodes: 1\n",
      "    image: vcp/base:1.6.2\n",
      "    recovery_mode: none\n",
      "    docker_opt: {}\n",
      "    params:\n",
      "        {'v': [], 'e': []}\n",
      "\n",
      "\n",
      "        vm_size: Standard_D3_v2\n",
      "        disk_size_gb: 100\n",
      "        managed_disk_type: Standard_LRS\n",
      "        ext_managed_disk: []\n",
      "        cloud_image: default\n",
      "        ip_address_list: []\n",
      "    tags: \n",
      "        tags: {}\n",
      "========================\n"
     ]
    }
   ],
   "source": [
    "print(spec_azure)"
   ]
  },
  {
   "cell_type": "markdown",
   "metadata": {
    "lc_cell_meme": {
     "current": "f5ca575a-dd4a-11eb-8d4b-02420a01000d-3-c0c1-bc54-d5f5",
     "next": "f5ca582c-dd4a-11eb-8d4b-02420a01000d-3-b72d-cb3f-7750",
     "previous": "f5ca5688-dd4a-11eb-8d4b-02420a01000d-3-5e32-31ad-5cf0"
    }
   },
   "source": [
    "指定した `flavor`に対応する `vm_size`, `disk_size_gb` などが設定されていることが確認できます。"
   ]
  },
  {
   "cell_type": "markdown",
   "metadata": {
    "lc_cell_meme": {
     "current": "f5ca582c-dd4a-11eb-8d4b-02420a01000d-3-b72d-cb3f-7750",
     "next": "f5ca58f4-dd4a-11eb-8d4b-02420a01000d-3-cb3e-545e-9582",
     "previous": "f5ca575a-dd4a-11eb-8d4b-02420a01000d-3-c0c1-bc54-d5f5"
    }
   },
   "source": [
    "### sshの公開鍵設定"
   ]
  },
  {
   "cell_type": "markdown",
   "metadata": {
    "lc_cell_meme": {
     "current": "f5ca58f4-dd4a-11eb-8d4b-02420a01000d-3-cb3e-545e-9582",
     "next": "f5ca59c6-dd4a-11eb-8d4b-02420a01000d-3-4635-2d1d-aab8",
     "previous": "f5ca582c-dd4a-11eb-8d4b-02420a01000d-3-b72d-cb3f-7750"
    }
   },
   "source": [
    "VCノードに登録するsshの公開鍵を `spec_azure`に設定します。先ほど aws 向けの`spec`に設定したのと同じ値を指定しています。"
   ]
  },
  {
   "cell_type": "code",
   "execution_count": 36,
   "metadata": {
    "deletable": false,
    "editable": false,
    "lc_cell_meme": {
     "current": "f5ca59c6-dd4a-11eb-8d4b-02420a01000d-3-4635-2d1d-aab8",
     "execution_end_time": "2021-07-05T06:27:18.914006Z",
     "next": "f5ca5a8e-dd4a-11eb-8d4b-02420a01000d-3-9147-a7e3-1039",
     "previous": "f5ca58f4-dd4a-11eb-8d4b-02420a01000d-3-cb3e-545e-9582"
    },
    "lc_wrapper": {},
    "run_through_control": {
     "frozen": true
    }
   },
   "outputs": [],
   "source": [
    "spec_azure.set_ssh_pubkey(ssh_public_key)"
   ]
  },
  {
   "cell_type": "markdown",
   "metadata": {
    "lc_cell_meme": {
     "current": "f5ca5a8e-dd4a-11eb-8d4b-02420a01000d-3-9147-a7e3-1039",
     "next": "f5ca5b74-dd4a-11eb-8d4b-02420a01000d-3-730c-6e09-98fd",
     "previous": "f5ca59c6-dd4a-11eb-8d4b-02420a01000d-3-4635-2d1d-aab8"
    }
   },
   "source": [
    "### specの設定内容を確認する\n",
    "\n",
    "`spec_azure`の設定内容を確認してみます。"
   ]
  },
  {
   "cell_type": "code",
   "execution_count": 37,
   "metadata": {
    "deletable": false,
    "editable": false,
    "lc_cell_meme": {
     "current": "f5ca5b74-dd4a-11eb-8d4b-02420a01000d-3-730c-6e09-98fd",
     "execution_end_time": "2021-07-05T06:27:19.845733Z",
     "next": "f5ca5c3c-dd4a-11eb-8d4b-02420a01000d-3-3de7-70a4-94eb",
     "previous": "f5ca5a8e-dd4a-11eb-8d4b-02420a01000d-3-9147-a7e3-1039"
    },
    "lc_wrapper": {},
    "run_through_control": {
     "frozen": true
    },
    "scrolled": false
   },
   "outputs": [
    {
     "name": "stdout",
     "output_type": "stream",
     "text": [
      "\n",
      "========================\n",
      "azure\n",
      "------------------------\n",
      "\n",
      "    cci_version: \"1.1\"\n",
      "    name: \n",
      "    description: \n",
      "    private_network: default\n",
      "    num_nodes: 1\n",
      "    image: vcp/base:1.6.2\n",
      "    recovery_mode: none\n",
      "    docker_opt: {}\n",
      "    params:\n",
      "        {'v': [], 'e': ['AUTHORIZED_KEYS=c3NoLXJzYSBBQUFBQjNOemFDMXljMkVBQUFBREFRQUJBQUFCQVFDc09nTzdmTXJMSG5yRkpSZFROVkVOaWRDNlJTYlNYSE94dmxzSWUvMWc3Nk9IdXB5TE9EUUJ5aXhHc2t1QlVkaXBPaElGV3doeUR4RFRVMU9Xb1BLbHhuTndiV29oZXh1T2s3bmtCYmJ6Y09hT2hhZW5EL1RVdGVLeU05Tm85SW5PTktyS3lTQ0pQVklCUklTVlNXenF6ZzM4NENzSkNNVVBXdVNRcnZmNFpXajI3TDZCYUdaa0c2elVYaVVmMzAvZSsvcitrV2NIZFNFUUcyUHhqRk1iWU9aQkZSMzR5K1RuaWlpTE5LNFlXODgvajdFbXBCRGZ2VEtzL0ZLTXd3WjRjWkdqbmx6eWxFOEdldGhVNC9zcWFYQ1dZSWtHOFJzSjQ2MzRLNU5uTkdRSG80WEZPRzQ0TEJFdkhRTlJoajZCSU14eGd5TkgxVFZlUTdFT2RZNG4gdXNlcjUxMXhlNWIwNTJAMGVhNDIwMGNjMDUxCg==']}\n",
      "\n",
      "\n",
      "        vm_size: Standard_D3_v2\n",
      "        disk_size_gb: 100\n",
      "        managed_disk_type: Standard_LRS\n",
      "        ext_managed_disk: []\n",
      "        cloud_image: default\n",
      "        ip_address_list: []\n",
      "    tags: \n",
      "        tags: {}\n",
      "========================\n"
     ]
    }
   ],
   "source": [
    "print(spec_azure)"
   ]
  },
  {
   "cell_type": "markdown",
   "metadata": {
    "lc_cell_meme": {
     "current": "f5ca5c3c-dd4a-11eb-8d4b-02420a01000d-3-3de7-70a4-94eb",
     "next": "f5ca5d22-dd4a-11eb-8d4b-02420a01000d-3-ed2f-c0ab-0cb8",
     "previous": "f5ca5b74-dd4a-11eb-8d4b-02420a01000d-3-730c-6e09-98fd"
    }
   },
   "source": [
    "aws向けに最初に作成した `spec`オブジェクトと`spec_azure`との差分を確認してみます。\n",
    "\n",
    "> `spec`オブジェクトの内部では aws は `instance_type`、azure は`vm_size` などそれぞれのクラウドプロバイダに応じたパラメータが設定されていることが確認できます。"
   ]
  },
  {
   "cell_type": "code",
   "execution_count": 38,
   "metadata": {
    "deletable": false,
    "editable": false,
    "lc_cell_meme": {
     "current": "f5ca5d22-dd4a-11eb-8d4b-02420a01000d-3-ed2f-c0ab-0cb8",
     "execution_end_time": "2021-07-05T06:27:22.820491Z",
     "next": "f5ca5dea-dd4a-11eb-8d4b-02420a01000d-3-a48c-6455-0f29",
     "previous": "f5ca5c3c-dd4a-11eb-8d4b-02420a01000d-3-3de7-70a4-94eb"
    },
    "lc_wrapper": {},
    "run_through_control": {
     "frozen": true
    },
    "scrolled": true
   },
   "outputs": [
    {
     "name": "stdout",
     "output_type": "stream",
     "text": [
      "--- aws\n",
      "+++ azure\n",
      "@@ -1,10 +1,10 @@\n",
      " \n",
      " ========================\n",
      "-aws\n",
      "+azure\n",
      " ------------------------\n",
      " \n",
      "     cci_version: \"1.1\"\n",
      "-    name: aws-server\n",
      "+    name: \n",
      "     description: \n",
      "     private_network: default\n",
      "     num_nodes: 1\n",
      "@@ -14,11 +14,13 @@\n",
      "     params:\n",
      "         {'v': [], 'e': ['AUTHORIZED_KEYS=c3NoLXJzYSBBQUFBQjNOemFDMXljMkVBQUFBREFRQUJBQUFCQVFDc09nTzdmTXJMSG5yRkpSZFROVkVOaWRDNlJTYlNYSE94dmxzSWUvMWc3Nk9IdXB5TE9EUUJ5aXhHc2t1QlVkaXBPaElGV3doeUR4RFRVMU9Xb1BLbHhuTndiV29oZXh1T2s3bmtCYmJ6Y09hT2hhZW5EL1RVdGVLeU05Tm85SW5PTktyS3lTQ0pQVklCUklTVlNXenF6ZzM4NENzSkNNVVBXdVNRcnZmNFpXajI3TDZCYUdaa0c2elVYaVVmMzAvZSsvcitrV2NIZFNFUUcyUHhqRk1iWU9aQkZSMzR5K1RuaWlpTE5LNFlXODgvajdFbXBCRGZ2VEtzL0ZLTXd3WjRjWkdqbmx6eWxFOEdldGhVNC9zcWFYQ1dZSWtHOFJzSjQ2MzRLNU5uTkdRSG80WEZPRzQ0TEJFdkhRTlJoajZCSU14eGd5TkgxVFZlUTdFT2RZNG4gdXNlcjUxMXhlNWIwNTJAMGVhNDIwMGNjMDUxCg==']}\n",
      " \n",
      "-    instance_type: m4.large\n",
      "-    volume_size: 15\n",
      "-    volume_type: gp2\n",
      "-    volume_id: []\n",
      "-    cloud_image: default\n",
      "-    ip_address_list: []\n",
      "-    tags: {}\n",
      "+\n",
      "+        vm_size: Standard_D3_v2\n",
      "+        disk_size_gb: 100\n",
      "+        managed_disk_type: Standard_LRS\n",
      "+        ext_managed_disk: []\n",
      "+        cloud_image: default\n",
      "+        ip_address_list: []\n",
      "+    tags: \n",
      "+        tags: {}\n",
      " ========================"
     ]
    }
   ],
   "source": [
    "from difflib import unified_diff\n",
    "import sys\n",
    "\n",
    "sys.stdout.writelines(unified_diff(\n",
    "    str(spec).splitlines(True),\n",
    "    str(spec_azure).splitlines(True),\n",
    "    fromfile='aws',\n",
    "    tofile='azure',\n",
    "))"
   ]
  },
  {
   "cell_type": "markdown",
   "metadata": {
    "lc_cell_meme": {
     "current": "f5ca5dea-dd4a-11eb-8d4b-02420a01000d-3-a48c-6455-0f29",
     "next": "f5ca5eb2-dd4a-11eb-8d4b-02420a01000d-3-1b69-249c-9bfd",
     "previous": "f5ca5d22-dd4a-11eb-8d4b-02420a01000d-3-ed2f-c0ab-0cb8"
    }
   },
   "source": [
    "### Unitの作成とVCノードの起動"
   ]
  },
  {
   "cell_type": "markdown",
   "metadata": {
    "lc_cell_meme": {
     "current": "f5ca5eb2-dd4a-11eb-8d4b-02420a01000d-3-1b69-249c-9bfd",
     "next": "f5ca5f84-dd4a-11eb-8d4b-02420a01000d-3-4d39-d6ba-b63e",
     "previous": "f5ca5dea-dd4a-11eb-8d4b-02420a01000d-3-a48c-6455-0f29"
    }
   },
   "source": [
    "まず作成前のUnitGroup状態を確認しておきます。"
   ]
  },
  {
   "cell_type": "code",
   "execution_count": 39,
   "metadata": {
    "deletable": false,
    "editable": false,
    "lc_cell_meme": {
     "current": "f5ca5f84-dd4a-11eb-8d4b-02420a01000d-3-4d39-d6ba-b63e",
     "execution_end_time": "2021-07-05T06:27:30.828684Z",
     "next": "f5ca6056-dd4a-11eb-8d4b-02420a01000d-3-f9cb-63bd-c0e1",
     "previous": "f5ca5eb2-dd4a-11eb-8d4b-02420a01000d-3-1b69-249c-9bfd"
    },
    "lc_wrapper": {},
    "run_through_control": {
     "frozen": true
    }
   },
   "outputs": [
    {
     "data": {
      "text/html": [
       "<div>\n",
       "<style scoped>\n",
       "    .dataframe tbody tr th:only-of-type {\n",
       "        vertical-align: middle;\n",
       "    }\n",
       "\n",
       "    .dataframe tbody tr th {\n",
       "        vertical-align: top;\n",
       "    }\n",
       "\n",
       "    .dataframe thead th {\n",
       "        text-align: right;\n",
       "    }\n",
       "</style>\n",
       "<table border=\"1\" class=\"dataframe\">\n",
       "  <thead>\n",
       "    <tr style=\"text-align: right;\">\n",
       "      <th></th>\n",
       "      <th>vctype</th>\n",
       "      <th>vcno</th>\n",
       "      <th>vcname</th>\n",
       "      <th>vc_state</th>\n",
       "      <th>vcid</th>\n",
       "      <th>cdate</th>\n",
       "      <th>unit_name</th>\n",
       "      <th>unit_state</th>\n",
       "    </tr>\n",
       "  </thead>\n",
       "  <tbody>\n",
       "    <tr>\n",
       "      <th>0</th>\n",
       "      <td>compute</td>\n",
       "      <td>4</td>\n",
       "      <td>handson101</td>\n",
       "      <td>RUNNING</td>\n",
       "      <td>eea5d99d...</td>\n",
       "      <td>2021/07/05 06:22:27 UTC</td>\n",
       "      <td>aws-server</td>\n",
       "      <td>RUNNING</td>\n",
       "    </tr>\n",
       "  </tbody>\n",
       "</table>\n",
       "</div>"
      ],
      "text/plain": [
       "    vctype  vcno      vcname vc_state         vcid                    cdate  \\\n",
       "0  compute     4  handson101  RUNNING  eea5d99d...  2021/07/05 06:22:27 UTC   \n",
       "\n",
       "    unit_name unit_state  \n",
       "0  aws-server    RUNNING  "
      ]
     },
     "metadata": {},
     "output_type": "display_data"
    },
    {
     "data": {
      "text/html": [
       "<style  type=\"text/css\" >\n",
       "    #T_13763da0_dd5a_11eb_9668_02420a010024row0_col3 {\n",
       "            background-color:  #dfd;\n",
       "        }    #T_13763da0_dd5a_11eb_9668_02420a010024row0_col6 {\n",
       "            background-color:  #dfd;\n",
       "        }</style><table id=\"T_13763da0_dd5a_11eb_9668_02420a010024\" ><thead>    <tr>        <th class=\"blank level0\" ></th>        <th class=\"col_heading level0 col0\" >vcno</th>        <th class=\"col_heading level0 col1\" >vcname</th>        <th class=\"col_heading level0 col2\" >unit_name</th>        <th class=\"col_heading level0 col3\" >unit_state</th>        <th class=\"col_heading level0 col4\" >node_no</th>        <th class=\"col_heading level0 col5\" >node_id</th>        <th class=\"col_heading level0 col6\" >node_state</th>        <th class=\"col_heading level0 col7\" >cloud_instance_address</th>        <th class=\"col_heading level0 col8\" >cloud_instance_id</th>        <th class=\"col_heading level0 col9\" >cloud_instance_name</th>        <th class=\"col_heading level0 col10\" >volumes</th>    </tr></thead><tbody>\n",
       "                <tr>\n",
       "                        <th id=\"T_13763da0_dd5a_11eb_9668_02420a010024level0_row0\" class=\"row_heading level0 row0\" >0</th>\n",
       "                        <td id=\"T_13763da0_dd5a_11eb_9668_02420a010024row0_col0\" class=\"data row0 col0\" >4</td>\n",
       "                        <td id=\"T_13763da0_dd5a_11eb_9668_02420a010024row0_col1\" class=\"data row0 col1\" >handson101</td>\n",
       "                        <td id=\"T_13763da0_dd5a_11eb_9668_02420a010024row0_col2\" class=\"data row0 col2\" >aws-server</td>\n",
       "                        <td id=\"T_13763da0_dd5a_11eb_9668_02420a010024row0_col3\" class=\"data row0 col3\" >RUNNING</td>\n",
       "                        <td id=\"T_13763da0_dd5a_11eb_9668_02420a010024row0_col4\" class=\"data row0 col4\" >1</td>\n",
       "                        <td id=\"T_13763da0_dd5a_11eb_9668_02420a010024row0_col5\" class=\"data row0 col5\" >5ebea5e8...</td>\n",
       "                        <td id=\"T_13763da0_dd5a_11eb_9668_02420a010024row0_col6\" class=\"data row0 col6\" >RUNNING</td>\n",
       "                        <td id=\"T_13763da0_dd5a_11eb_9668_02420a010024row0_col7\" class=\"data row0 col7\" >172.30.2.188</td>\n",
       "                        <td id=\"T_13763da0_dd5a_11eb_9668_02420a010024row0_col8\" class=\"data row0 col8\" >i-0598cb2b417048269</td>\n",
       "                        <td id=\"T_13763da0_dd5a_11eb_9668_02420a010024row0_col9\" class=\"data row0 col9\" >VCP-8dbe841c-eea5d99d</td>\n",
       "                        <td id=\"T_13763da0_dd5a_11eb_9668_02420a010024row0_col10\" class=\"data row0 col10\" >none</td>\n",
       "            </tr>\n",
       "    </tbody></table>"
      ],
      "text/plain": [
       "<pandas.io.formats.style.Styler at 0x7f182eb8bc50>"
      ]
     },
     "metadata": {},
     "output_type": "display_data"
    }
   ],
   "source": [
    "from IPython.display import display\n",
    "\n",
    "# Unitの一覧を DataFrame で表示する\n",
    "display(unit_group.df_units())\n",
    "\n",
    "# VCノードの一覧を DataFrame で表示する\n",
    "display(unit_group.df_nodes())"
   ]
  },
  {
   "cell_type": "markdown",
   "metadata": {
    "lc_cell_meme": {
     "current": "f5ca6056-dd4a-11eb-8d4b-02420a01000d-3-f9cb-63bd-c0e1",
     "next": "f5ca6128-dd4a-11eb-8d4b-02420a01000d-3-f61a-9dfa-b327",
     "previous": "f5ca5f84-dd4a-11eb-8d4b-02420a01000d-3-4d39-d6ba-b63e"
    }
   },
   "source": [
    "Unitを作成します。\n",
    "\n",
    "> 処理が完了するまでには 2～5分程度かかります。"
   ]
  },
  {
   "cell_type": "code",
   "execution_count": 40,
   "metadata": {
    "deletable": false,
    "editable": false,
    "lc_cell_meme": {
     "current": "f5ca6128-dd4a-11eb-8d4b-02420a01000d-3-f61a-9dfa-b327",
     "execution_end_time": "2021-07-05T06:32:05.480468Z",
     "next": "f5ca6204-dd4a-11eb-8d4b-02420a01000d-3-a956-88ed-3a49",
     "previous": "f5ca6056-dd4a-11eb-8d4b-02420a01000d-3-f9cb-63bd-c0e1"
    },
    "lc_wrapper": {},
    "run_through_control": {
     "frozen": true
    },
    "scrolled": true
   },
   "outputs": [
    {
     "name": "stdout",
     "output_type": "stream",
     "text": [
      "2021-07-05 15:27:32,166 - INFO - BOOTING ... 0 sec\n",
      "2021-07-05 15:27:37,397 - INFO - BOOTING ... 5 sec\n",
      "2021-07-05 15:27:42,661 - INFO - BOOTING ... 10 sec\n",
      "2021-07-05 15:27:47,884 - INFO - BOOTING ... 15 sec\n",
      "2021-07-05 15:27:53,073 - INFO - BOOTING ... 20 sec\n",
      "2021-07-05 15:27:58,297 - INFO - BOOTING ... 25 sec\n",
      "2021-07-05 15:28:03,499 - INFO - BOOTING ... 30 sec\n",
      "2021-07-05 15:28:08,724 - INFO - BOOTING ... 35 sec\n",
      "2021-07-05 15:28:13,961 - INFO - BOOTING ... 40 sec\n",
      "2021-07-05 15:28:19,186 - INFO - BOOTING ... 45 sec\n",
      "2021-07-05 15:28:24,414 - INFO - BOOTING ... 50 sec\n",
      "2021-07-05 15:28:29,614 - INFO - BOOTING ... 55 sec\n",
      "2021-07-05 15:28:34,791 - INFO - BOOTING ... 60 sec\n",
      "2021-07-05 15:28:40,031 - INFO - BOOTING ... 65 sec\n",
      "2021-07-05 15:28:45,239 - INFO - BOOTING ... 70 sec\n",
      "2021-07-05 15:28:50,477 - INFO - BOOTING ... 75 sec\n",
      "2021-07-05 15:28:55,679 - INFO - BOOTING ... 80 sec\n",
      "2021-07-05 15:29:00,952 - INFO - BOOTING ... 85 sec\n",
      "2021-07-05 15:29:06,236 - INFO - BOOTING ... 90 sec\n",
      "2021-07-05 15:29:11,467 - INFO - BOOTING ... 95 sec\n",
      "2021-07-05 15:29:16,666 - INFO - BOOTING ... 100 sec\n",
      "2021-07-05 15:29:21,908 - INFO - BOOTING ... 105 sec\n",
      "2021-07-05 15:29:27,106 - INFO - BOOTING ... 110 sec\n",
      "2021-07-05 15:29:32,398 - INFO - BOOTING ... 115 sec\n",
      "2021-07-05 15:29:37,617 - INFO - BOOTING ... 120 sec\n",
      "2021-07-05 15:29:42,838 - INFO - BOOTING ... 125 sec\n",
      "2021-07-05 15:29:48,086 - INFO - BOOTING ... 130 sec\n",
      "2021-07-05 15:29:53,296 - INFO - BOOTING ... 135 sec\n",
      "2021-07-05 15:29:58,533 - INFO - BOOTING ... 140 sec\n",
      "2021-07-05 15:30:03,763 - INFO - BOOTING ... 145 sec\n",
      "2021-07-05 15:30:08,997 - INFO - BOOTING ... 150 sec\n",
      "2021-07-05 15:30:14,243 - INFO - BOOTING ... 155 sec\n",
      "2021-07-05 15:30:19,497 - INFO - BOOTING ... 160 sec\n",
      "2021-07-05 15:30:24,690 - INFO - BOOTING ... 165 sec\n",
      "2021-07-05 15:30:29,965 - INFO - BOOTING ... 170 sec\n",
      "2021-07-05 15:30:35,253 - INFO - BOOTING ... 175 sec\n",
      "2021-07-05 15:30:40,443 - INFO - BOOTING ... 180 sec\n",
      "2021-07-05 15:30:45,723 - INFO - BOOTING ... 185 sec\n",
      "2021-07-05 15:30:50,933 - INFO - BOOTING ... 190 sec\n",
      "2021-07-05 15:30:56,185 - INFO - BOOTING ... 195 sec\n",
      "2021-07-05 15:31:01,400 - INFO - BOOTING ... 200 sec\n",
      "2021-07-05 15:31:06,561 - INFO - BOOTING ... 205 sec\n",
      "2021-07-05 15:31:11,863 - INFO - BOOTING ... 210 sec\n",
      "2021-07-05 15:31:17,164 - INFO - BOOTING ... 215 sec\n",
      "2021-07-05 15:31:22,397 - INFO - BOOTING ... 220 sec\n",
      "2021-07-05 15:31:27,626 - INFO - BOOTING ... 225 sec\n",
      "2021-07-05 15:31:32,911 - INFO - BOOTING ... 230 sec\n",
      "2021-07-05 15:31:38,239 - INFO - BOOTING ... 235 sec\n",
      "2021-07-05 15:31:43,427 - INFO - BOOTING ... 240 sec\n",
      "2021-07-05 15:31:48,723 - INFO - BOOTING ... 245 sec\n",
      "2021-07-05 15:31:53,907 - INFO - BOOTING ... 250 sec\n",
      "2021-07-05 15:32:05,175 - INFO - unit azure-server is RUNNING\n"
     ]
    }
   ],
   "source": [
    "# Unitの作成（同時に VCノードが作成される）\n",
    "unit2 = unit_group.create_unit(\n",
    "            'azure-server',    # Unit 名\n",
    "            spec_azure         # spec オブジェクト\n",
    "        )"
   ]
  },
  {
   "cell_type": "markdown",
   "metadata": {
    "lc_cell_meme": {
     "current": "f5ca6204-dd4a-11eb-8d4b-02420a01000d-3-a956-88ed-3a49",
     "next": "f5ca62ea-dd4a-11eb-8d4b-02420a01000d-3-5026-afdf-eebc",
     "previous": "f5ca6128-dd4a-11eb-8d4b-02420a01000d-3-f61a-9dfa-b327"
    }
   },
   "source": [
    "Unit作成後の状態を確認します。Unit とVCノードがそれぞれ２つあることが確認できるはずです。VCノード一覧ではそれぞれのVCノードの unit_name が異なることが確認できるはずです。またawsとazureのVCノードには**異なるサブネット**のIPアドレスが割り当てられていることが確認できます。\n",
    "\n",
    "> 各プロバイダにどのようなサブネットを割り当てているのかについては[VCP Manager Web UI](https://vcpdev.ecloud.nii.ac.jp/vcp/v1/ui/occmgr/menu/occtrs) で確認ができます。"
   ]
  },
  {
   "cell_type": "code",
   "execution_count": 41,
   "metadata": {
    "deletable": false,
    "editable": false,
    "lc_cell_meme": {
     "current": "f5ca62ea-dd4a-11eb-8d4b-02420a01000d-3-5026-afdf-eebc",
     "execution_end_time": "2021-07-05T06:32:06.276588Z",
     "next": "f5ca63bc-dd4a-11eb-8d4b-02420a01000d-3-0ea6-f411-c952",
     "previous": "f5ca6204-dd4a-11eb-8d4b-02420a01000d-3-a956-88ed-3a49"
    },
    "lc_wrapper": {},
    "run_through_control": {
     "frozen": true
    }
   },
   "outputs": [
    {
     "data": {
      "text/html": [
       "<div>\n",
       "<style scoped>\n",
       "    .dataframe tbody tr th:only-of-type {\n",
       "        vertical-align: middle;\n",
       "    }\n",
       "\n",
       "    .dataframe tbody tr th {\n",
       "        vertical-align: top;\n",
       "    }\n",
       "\n",
       "    .dataframe thead th {\n",
       "        text-align: right;\n",
       "    }\n",
       "</style>\n",
       "<table border=\"1\" class=\"dataframe\">\n",
       "  <thead>\n",
       "    <tr style=\"text-align: right;\">\n",
       "      <th></th>\n",
       "      <th>vctype</th>\n",
       "      <th>vcno</th>\n",
       "      <th>vcname</th>\n",
       "      <th>vc_state</th>\n",
       "      <th>vcid</th>\n",
       "      <th>cdate</th>\n",
       "      <th>unit_name</th>\n",
       "      <th>unit_state</th>\n",
       "    </tr>\n",
       "  </thead>\n",
       "  <tbody>\n",
       "    <tr>\n",
       "      <th>0</th>\n",
       "      <td>compute</td>\n",
       "      <td>4</td>\n",
       "      <td>handson101</td>\n",
       "      <td>RUNNING</td>\n",
       "      <td>eea5d99d...</td>\n",
       "      <td>2021/07/05 06:22:27 UTC</td>\n",
       "      <td>aws-server</td>\n",
       "      <td>RUNNING</td>\n",
       "    </tr>\n",
       "    <tr>\n",
       "      <th>1</th>\n",
       "      <td>compute</td>\n",
       "      <td>4</td>\n",
       "      <td>handson101</td>\n",
       "      <td>RUNNING</td>\n",
       "      <td>eea5d99d...</td>\n",
       "      <td>2021/07/05 06:22:27 UTC</td>\n",
       "      <td>azure-server</td>\n",
       "      <td>RUNNING</td>\n",
       "    </tr>\n",
       "  </tbody>\n",
       "</table>\n",
       "</div>"
      ],
      "text/plain": [
       "    vctype  vcno      vcname vc_state         vcid                    cdate  \\\n",
       "0  compute     4  handson101  RUNNING  eea5d99d...  2021/07/05 06:22:27 UTC   \n",
       "1  compute     4  handson101  RUNNING  eea5d99d...  2021/07/05 06:22:27 UTC   \n",
       "\n",
       "      unit_name unit_state  \n",
       "0    aws-server    RUNNING  \n",
       "1  azure-server    RUNNING  "
      ]
     },
     "metadata": {},
     "output_type": "display_data"
    },
    {
     "data": {
      "text/html": [
       "<style  type=\"text/css\" >\n",
       "    #T_b7a425f4_dd5a_11eb_9668_02420a010024row0_col3 {\n",
       "            background-color:  #dfd;\n",
       "        }    #T_b7a425f4_dd5a_11eb_9668_02420a010024row0_col6 {\n",
       "            background-color:  #dfd;\n",
       "        }    #T_b7a425f4_dd5a_11eb_9668_02420a010024row1_col3 {\n",
       "            background-color:  #dfd;\n",
       "        }    #T_b7a425f4_dd5a_11eb_9668_02420a010024row1_col6 {\n",
       "            background-color:  #dfd;\n",
       "        }</style><table id=\"T_b7a425f4_dd5a_11eb_9668_02420a010024\" ><thead>    <tr>        <th class=\"blank level0\" ></th>        <th class=\"col_heading level0 col0\" >vcno</th>        <th class=\"col_heading level0 col1\" >vcname</th>        <th class=\"col_heading level0 col2\" >unit_name</th>        <th class=\"col_heading level0 col3\" >unit_state</th>        <th class=\"col_heading level0 col4\" >node_no</th>        <th class=\"col_heading level0 col5\" >node_id</th>        <th class=\"col_heading level0 col6\" >node_state</th>        <th class=\"col_heading level0 col7\" >cloud_instance_address</th>        <th class=\"col_heading level0 col8\" >cloud_instance_id</th>        <th class=\"col_heading level0 col9\" >cloud_instance_name</th>        <th class=\"col_heading level0 col10\" >volumes</th>    </tr></thead><tbody>\n",
       "                <tr>\n",
       "                        <th id=\"T_b7a425f4_dd5a_11eb_9668_02420a010024level0_row0\" class=\"row_heading level0 row0\" >0</th>\n",
       "                        <td id=\"T_b7a425f4_dd5a_11eb_9668_02420a010024row0_col0\" class=\"data row0 col0\" >4</td>\n",
       "                        <td id=\"T_b7a425f4_dd5a_11eb_9668_02420a010024row0_col1\" class=\"data row0 col1\" >handson101</td>\n",
       "                        <td id=\"T_b7a425f4_dd5a_11eb_9668_02420a010024row0_col2\" class=\"data row0 col2\" >aws-server</td>\n",
       "                        <td id=\"T_b7a425f4_dd5a_11eb_9668_02420a010024row0_col3\" class=\"data row0 col3\" >RUNNING</td>\n",
       "                        <td id=\"T_b7a425f4_dd5a_11eb_9668_02420a010024row0_col4\" class=\"data row0 col4\" >1</td>\n",
       "                        <td id=\"T_b7a425f4_dd5a_11eb_9668_02420a010024row0_col5\" class=\"data row0 col5\" >5ebea5e8...</td>\n",
       "                        <td id=\"T_b7a425f4_dd5a_11eb_9668_02420a010024row0_col6\" class=\"data row0 col6\" >RUNNING</td>\n",
       "                        <td id=\"T_b7a425f4_dd5a_11eb_9668_02420a010024row0_col7\" class=\"data row0 col7\" >172.30.2.188</td>\n",
       "                        <td id=\"T_b7a425f4_dd5a_11eb_9668_02420a010024row0_col8\" class=\"data row0 col8\" >i-0598cb2b417048269</td>\n",
       "                        <td id=\"T_b7a425f4_dd5a_11eb_9668_02420a010024row0_col9\" class=\"data row0 col9\" >VCP-8dbe841c-eea5d99d</td>\n",
       "                        <td id=\"T_b7a425f4_dd5a_11eb_9668_02420a010024row0_col10\" class=\"data row0 col10\" >none</td>\n",
       "            </tr>\n",
       "            <tr>\n",
       "                        <th id=\"T_b7a425f4_dd5a_11eb_9668_02420a010024level0_row1\" class=\"row_heading level0 row1\" >1</th>\n",
       "                        <td id=\"T_b7a425f4_dd5a_11eb_9668_02420a010024row1_col0\" class=\"data row1 col0\" >4</td>\n",
       "                        <td id=\"T_b7a425f4_dd5a_11eb_9668_02420a010024row1_col1\" class=\"data row1 col1\" >handson101</td>\n",
       "                        <td id=\"T_b7a425f4_dd5a_11eb_9668_02420a010024row1_col2\" class=\"data row1 col2\" >azure-server</td>\n",
       "                        <td id=\"T_b7a425f4_dd5a_11eb_9668_02420a010024row1_col3\" class=\"data row1 col3\" >RUNNING</td>\n",
       "                        <td id=\"T_b7a425f4_dd5a_11eb_9668_02420a010024row1_col4\" class=\"data row1 col4\" >1</td>\n",
       "                        <td id=\"T_b7a425f4_dd5a_11eb_9668_02420a010024row1_col5\" class=\"data row1 col5\" >8b011e6e...</td>\n",
       "                        <td id=\"T_b7a425f4_dd5a_11eb_9668_02420a010024row1_col6\" class=\"data row1 col6\" >RUNNING</td>\n",
       "                        <td id=\"T_b7a425f4_dd5a_11eb_9668_02420a010024row1_col7\" class=\"data row1 col7\" >172.20.2.5</td>\n",
       "                        <td id=\"T_b7a425f4_dd5a_11eb_9668_02420a010024row1_col8\" class=\"data row1 col8\" >/subscriptions/d47388de-3ed7-4aa6-9e7c-5c09ecf55fd8/resourceGroups/niivcp/providers/Microsoft.Compute/virtualMachines/8b011e6evm</td>\n",
       "                        <td id=\"T_b7a425f4_dd5a_11eb_9668_02420a010024row1_col9\" class=\"data row1 col9\" >VCP-8dbe841c-eea5d99d</td>\n",
       "                        <td id=\"T_b7a425f4_dd5a_11eb_9668_02420a010024row1_col10\" class=\"data row1 col10\" >none</td>\n",
       "            </tr>\n",
       "    </tbody></table>"
      ],
      "text/plain": [
       "<pandas.io.formats.style.Styler at 0x7f182e4e1590>"
      ]
     },
     "metadata": {},
     "output_type": "display_data"
    }
   ],
   "source": [
    "# Unitの一覧を DataFrame で表示する\n",
    "display(unit_group.df_units())\n",
    "\n",
    "# VCノードの一覧を DataFrame で表示する\n",
    "display(unit_group.df_nodes())"
   ]
  },
  {
   "cell_type": "markdown",
   "metadata": {
    "lc_cell_meme": {
     "current": "f5ca63bc-dd4a-11eb-8d4b-02420a01000d-3-0ea6-f411-c952",
     "next": "f5ca64b6-dd4a-11eb-8d4b-02420a01000d-3-7a86-7217-fc7b",
     "previous": "f5ca62ea-dd4a-11eb-8d4b-02420a01000d-3-5026-afdf-eebc"
    }
   },
   "source": [
    "VCノードを追加したので ~/.ssh/known_hosts を更新します。"
   ]
  },
  {
   "cell_type": "code",
   "execution_count": 42,
   "metadata": {
    "deletable": false,
    "editable": false,
    "lc_cell_meme": {
     "current": "f5ca64b6-dd4a-11eb-8d4b-02420a01000d-3-7a86-7217-fc7b",
     "execution_end_time": "2021-07-05T06:32:16.357986Z",
     "next": "f5ca657e-dd4a-11eb-8d4b-02420a01000d-3-e2e4-ec36-a458",
     "previous": "f5ca63bc-dd4a-11eb-8d4b-02420a01000d-3-0ea6-f411-c952"
    },
    "lc_wrapper": {},
    "run_through_control": {
     "frozen": true
    }
   },
   "outputs": [
    {
     "name": "stdout",
     "output_type": "stream",
     "text": [
      "# Host 172.30.2.188 found: line 3\n",
      "/home/jovyan/.ssh/known_hosts updated.\n",
      "Original contents retained as /home/jovyan/.ssh/known_hosts.old\n",
      "Host 172.20.2.5 not found in /home/jovyan/.ssh/known_hosts\n"
     ]
    }
   ],
   "source": [
    "for addr in unit_group.find_ip_addresses(node_state='RUNNING'):\n",
    "    !ssh-keygen -R {addr}\n",
    "    !ssh-keyscan -H {addr} >> ~/.ssh/known_hosts"
   ]
  },
  {
   "cell_type": "markdown",
   "metadata": {
    "lc_cell_meme": {
     "current": "f5ca657e-dd4a-11eb-8d4b-02420a01000d-3-e2e4-ec36-a458",
     "next": "f5ca6678-dd4a-11eb-8d4b-02420a01000d-3-0a07-d6ea-2b18",
     "previous": "f5ca64b6-dd4a-11eb-8d4b-02420a01000d-3-7a86-7217-fc7b"
    }
   },
   "source": [
    "### 疎通確認\n",
    "\n",
    "VCノードに対して`ping` を実行してみます。\n",
    "\n",
    "![](./images/101-007.png)"
   ]
  },
  {
   "cell_type": "code",
   "execution_count": 43,
   "metadata": {
    "deletable": false,
    "editable": false,
    "lc_cell_meme": {
     "current": "f5ca6678-dd4a-11eb-8d4b-02420a01000d-3-0a07-d6ea-2b18",
     "execution_end_time": "2021-07-05T06:32:28.513088Z",
     "next": "f5ca6740-dd4a-11eb-8d4b-02420a01000d-3-a100-7f5f-6137",
     "previous": "f5ca657e-dd4a-11eb-8d4b-02420a01000d-3-e2e4-ec36-a458"
    },
    "lc_wrapper": {},
    "run_through_control": {
     "frozen": true
    }
   },
   "outputs": [],
   "source": [
    "# UnitGroup内にあるVCノードのIPアドレスリストを取得する\n",
    "ip_address = unit_group.find_ip_addresses(node_state='RUNNING')\n",
    "\n",
    "# それぞれのVCノードに対してpingを実行する\n",
    "# NIIのハンズオン環境ではネットワーク構成の事情により本NotebookからVCノードへのping実行はできません。\n",
    "# for address in ip_address:\n",
    "#     !ping -c 5 {address}\n",
    "#     print()"
   ]
  },
  {
   "cell_type": "markdown",
   "metadata": {
    "lc_cell_meme": {
     "current": "f5ca6740-dd4a-11eb-8d4b-02420a01000d-3-a100-7f5f-6137",
     "execution_end_time": "2021-04-08T03:43:58.664297Z",
     "next": "f5ca6826-dd4a-11eb-8d4b-02420a01000d-3-11ac-3103-d86f",
     "previous": "f5ca6678-dd4a-11eb-8d4b-02420a01000d-3-0a07-d6ea-2b18"
    },
    "lc_wrapper": {}
   },
   "source": [
    "VCPでは複数の異なるクラウドを仮想的に一つの計算基盤（仮想クラウド）のように扱える機能を提供しています。そのため異なるクラウド(aws, azure)で起動したVCノードであっても、追加の設定なしに互いに通信することができます。そのことを確認するために、作成した２つの VCノード の一方から他方に対して `ping` を行ってみます。"
   ]
  },
  {
   "cell_type": "code",
   "execution_count": 44,
   "metadata": {
    "deletable": false,
    "editable": false,
    "lc_cell_meme": {
     "current": "f5ca6826-dd4a-11eb-8d4b-02420a01000d-3-11ac-3103-d86f",
     "execution_end_time": "2021-07-05T06:32:40.883815Z",
     "next": "f5ca68e4-dd4a-11eb-8d4b-02420a01000d-3-8434-0e9f-61b6",
     "previous": "f5ca6740-dd4a-11eb-8d4b-02420a01000d-3-a100-7f5f-6137"
    },
    "lc_wrapper": {},
    "run_through_control": {
     "frozen": true
    }
   },
   "outputs": [
    {
     "name": "stdout",
     "output_type": "stream",
     "text": [
      "172.30.2.188\n",
      "\n",
      "Warning: Permanently added '172.30.2.188' (ECDSA) to the list of known hosts.\n",
      "PING 172.20.2.5 (172.20.2.5): 56 data bytes\n",
      "64 bytes from 172.20.2.5: seq=0 ttl=62 time=6.551 ms\n",
      "64 bytes from 172.20.2.5: seq=1 ttl=62 time=7.506 ms\n",
      "64 bytes from 172.20.2.5: seq=2 ttl=62 time=6.934 ms\n",
      "64 bytes from 172.20.2.5: seq=3 ttl=62 time=6.854 ms\n",
      "64 bytes from 172.20.2.5: seq=4 ttl=62 time=6.741 ms\n",
      "64 bytes from 172.20.2.5: seq=5 ttl=62 time=7.263 ms\n",
      "64 bytes from 172.20.2.5: seq=6 ttl=62 time=7.906 ms\n",
      "64 bytes from 172.20.2.5: seq=7 ttl=62 time=6.722 ms\n",
      "64 bytes from 172.20.2.5: seq=8 ttl=62 time=7.369 ms\n",
      "64 bytes from 172.20.2.5: seq=9 ttl=62 time=6.923 ms\n",
      "\n",
      "--- 172.20.2.5 ping statistics ---\n",
      "10 packets transmitted, 10 packets received, 0% packet loss\n",
      "round-trip min/avg/max = 6.551/7.076/7.906 ms\n"
     ]
    }
   ],
   "source": [
    "# pingを実行するVCノードのIPアドレスを表示する\n",
    "print(ip_address[0])\n",
    "print()\n",
    "\n",
    "!ssh {ssh_opts} {ip_address[0]} \\\n",
    "    ping -c 10 {ip_address[1]}"
   ]
  },
  {
   "cell_type": "markdown",
   "metadata": {
    "lc_cell_meme": {
     "current": "f5ca68e4-dd4a-11eb-8d4b-02420a01000d-3-8434-0e9f-61b6",
     "next": "f5ca69ac-dd4a-11eb-8d4b-02420a01000d-3-dfb5-70a8-0ab7",
     "previous": "f5ca6826-dd4a-11eb-8d4b-02420a01000d-3-11ac-3103-d86f"
    }
   },
   "source": [
    "逆方向で同様のことを行ってみます。"
   ]
  },
  {
   "cell_type": "code",
   "execution_count": 45,
   "metadata": {
    "deletable": false,
    "editable": false,
    "lc_cell_meme": {
     "current": "f5ca69ac-dd4a-11eb-8d4b-02420a01000d-3-dfb5-70a8-0ab7",
     "execution_end_time": "2021-07-05T06:32:53.080310Z",
     "next": "f5ca6a92-dd4a-11eb-8d4b-02420a01000d-3-4188-43e5-9f21",
     "previous": "f5ca68e4-dd4a-11eb-8d4b-02420a01000d-3-8434-0e9f-61b6"
    },
    "lc_wrapper": {},
    "run_through_control": {
     "frozen": true
    }
   },
   "outputs": [
    {
     "name": "stdout",
     "output_type": "stream",
     "text": [
      "172.20.2.5\n",
      "\n",
      "Warning: Permanently added '172.20.2.5' (ECDSA) to the list of known hosts.\n",
      "PING 172.30.2.188 (172.30.2.188): 56 data bytes\n",
      "64 bytes from 172.30.2.188: seq=0 ttl=62 time=6.895 ms\n",
      "64 bytes from 172.30.2.188: seq=1 ttl=62 time=6.897 ms\n",
      "64 bytes from 172.30.2.188: seq=2 ttl=62 time=8.655 ms\n",
      "64 bytes from 172.30.2.188: seq=3 ttl=62 time=7.383 ms\n",
      "64 bytes from 172.30.2.188: seq=4 ttl=62 time=6.720 ms\n",
      "64 bytes from 172.30.2.188: seq=5 ttl=62 time=6.644 ms\n",
      "64 bytes from 172.30.2.188: seq=6 ttl=62 time=6.865 ms\n",
      "64 bytes from 172.30.2.188: seq=7 ttl=62 time=7.177 ms\n",
      "64 bytes from 172.30.2.188: seq=8 ttl=62 time=7.179 ms\n",
      "64 bytes from 172.30.2.188: seq=9 ttl=62 time=6.645 ms\n",
      "\n",
      "--- 172.30.2.188 ping statistics ---\n",
      "10 packets transmitted, 10 packets received, 0% packet loss\n",
      "round-trip min/avg/max = 6.644/7.106/8.655 ms\n"
     ]
    }
   ],
   "source": [
    "# pingを実行するVCノードのIPアドレスを表示する\n",
    "print(ip_address[1])\n",
    "print()\n",
    "\n",
    "!ssh {ssh_opts} {ip_address[1]} \\\n",
    "    ping -c 10 {ip_address[0]}"
   ]
  },
  {
   "cell_type": "markdown",
   "metadata": {
    "lc_cell_meme": {
     "current": "f5ca6a92-dd4a-11eb-8d4b-02420a01000d-3-4188-43e5-9f21",
     "next": "f5ca6b5a-dd4a-11eb-8d4b-02420a01000d-3-ae76-d01a-5027",
     "previous": "f5ca69ac-dd4a-11eb-8d4b-02420a01000d-3-dfb5-70a8-0ab7"
    }
   },
   "source": [
    "## VCノードに ssh でログインして操作する\n",
    "\n",
    "![](./images/101-008.png)"
   ]
  },
  {
   "cell_type": "markdown",
   "metadata": {
    "lc_cell_meme": {
     "current": "f5ca6b5a-dd4a-11eb-8d4b-02420a01000d-3-ae76-d01a-5027",
     "next": "f5ca6c2c-dd4a-11eb-8d4b-02420a01000d-3-8a81-3065-56a5",
     "previous": "f5ca6a92-dd4a-11eb-8d4b-02420a01000d-3-4188-43e5-9f21"
    }
   },
   "source": [
    "Azureに追加で起動した VCノード は aws とは異なる構成(cpu, memory, disk)になってるはずです。そのことを確認するために、sshでログインして以下のコマンドを実行してみます。\n",
    "\n",
    "* カーネルバージョン\n",
    "  - uname -a\n",
    "* CPU\n",
    "  - cat /proc/cpuinfo\n",
    "* メモリ量\n",
    "  - free\n",
    "* ディスク容量\n",
    "  - df -h"
   ]
  },
  {
   "cell_type": "code",
   "execution_count": 46,
   "metadata": {
    "deletable": false,
    "editable": false,
    "lc_cell_meme": {
     "current": "f5ca6c2c-dd4a-11eb-8d4b-02420a01000d-3-8a81-3065-56a5",
     "execution_end_time": "2021-07-05T06:32:58.087482Z",
     "next": "f5ca6cfe-dd4a-11eb-8d4b-02420a01000d-3-7c7f-fc83-ff86",
     "previous": "f5ca6b5a-dd4a-11eb-8d4b-02420a01000d-3-ae76-d01a-5027"
    },
    "lc_wrapper": {},
    "run_through_control": {
     "frozen": true
    }
   },
   "outputs": [
    {
     "name": "stdout",
     "output_type": "stream",
     "text": [
      "172.30.2.188:\n",
      "Linux ip-172-30-2-188 4.4.0-159-generic #187-Ubuntu SMP Thu Aug 1 16:28:06 UTC 2019 x86_64 Linux\n",
      "\n",
      "172.20.2.5:\n",
      "Linux 8b011e6e 4.15.0-1082-azure #92~16.04.1-Ubuntu SMP Tue Apr 14 22:28:34 UTC 2020 x86_64 Linux\n",
      "\n"
     ]
    }
   ],
   "source": [
    "for address in ip_address:\n",
    "    print(address + ':')\n",
    "    !ssh {ssh_opts} {address} uname -a\n",
    "    print()"
   ]
  },
  {
   "cell_type": "code",
   "execution_count": 47,
   "metadata": {
    "deletable": false,
    "editable": false,
    "lc_cell_meme": {
     "current": "f5ca6cfe-dd4a-11eb-8d4b-02420a01000d-3-7c7f-fc83-ff86",
     "execution_end_time": "2021-07-05T06:33:00.828856Z",
     "next": "f5ca6dc6-dd4a-11eb-8d4b-02420a01000d-3-b2d3-0163-360e",
     "previous": "f5ca6c2c-dd4a-11eb-8d4b-02420a01000d-3-8a81-3065-56a5"
    },
    "lc_wrapper": {},
    "run_through_control": {
     "frozen": true
    }
   },
   "outputs": [
    {
     "name": "stdout",
     "output_type": "stream",
     "text": [
      "172.30.2.188:\n",
      "model name\t: Intel(R) Xeon(R) CPU E5-2686 v4 @ 2.30GHz\n",
      "model name\t: Intel(R) Xeon(R) CPU E5-2686 v4 @ 2.30GHz\n",
      "\n",
      "172.20.2.5:\n",
      "model name\t: Intel(R) Xeon(R) Platinum 8171M CPU @ 2.60GHz\n",
      "model name\t: Intel(R) Xeon(R) Platinum 8171M CPU @ 2.60GHz\n",
      "model name\t: Intel(R) Xeon(R) Platinum 8171M CPU @ 2.60GHz\n",
      "model name\t: Intel(R) Xeon(R) Platinum 8171M CPU @ 2.60GHz\n",
      "\n"
     ]
    }
   ],
   "source": [
    "for address in ip_address:\n",
    "    print(address + ':')\n",
    "    !ssh {ssh_opts} {address} cat /proc/cpuinfo | grep 'model name'\n",
    "    print()"
   ]
  },
  {
   "cell_type": "code",
   "execution_count": 48,
   "metadata": {
    "deletable": false,
    "editable": false,
    "lc_cell_meme": {
     "current": "f5ca6dc6-dd4a-11eb-8d4b-02420a01000d-3-b2d3-0163-360e",
     "execution_end_time": "2021-07-05T06:33:03.579874Z",
     "next": "f5ca6e98-dd4a-11eb-8d4b-02420a01000d-3-952a-7a79-49d7",
     "previous": "f5ca6cfe-dd4a-11eb-8d4b-02420a01000d-3-7c7f-fc83-ff86"
    },
    "lc_wrapper": {},
    "run_through_control": {
     "frozen": true
    }
   },
   "outputs": [
    {
     "name": "stdout",
     "output_type": "stream",
     "text": [
      "172.30.2.188:\n",
      "              total        used        free      shared  buff/cache   available\n",
      "Mem:        8173364      409908     5910852       12448     1852604     7632552\n",
      "Swap:             0           0           0\n",
      "\n",
      "172.20.2.5:\n",
      "              total        used        free      shared  buff/cache   available\n",
      "Mem:       14361896      645084    11585708        8868     2131104    13562924\n",
      "Swap:             0           0           0\n",
      "\n"
     ]
    }
   ],
   "source": [
    "for address in ip_address:\n",
    "    print(address + ':')\n",
    "    !ssh {ssh_opts} {address} free\n",
    "    print()"
   ]
  },
  {
   "cell_type": "code",
   "execution_count": 49,
   "metadata": {
    "deletable": false,
    "editable": false,
    "lc_cell_meme": {
     "current": "f5ca6e98-dd4a-11eb-8d4b-02420a01000d-3-952a-7a79-49d7",
     "execution_end_time": "2021-07-05T06:33:06.140385Z",
     "next": "f5ca6f7e-dd4a-11eb-8d4b-02420a01000d-3-3e15-2931-8ffa",
     "previous": "f5ca6dc6-dd4a-11eb-8d4b-02420a01000d-3-b2d3-0163-360e"
    },
    "lc_wrapper": {},
    "run_through_control": {
     "frozen": true
    },
    "scrolled": true
   },
   "outputs": [
    {
     "name": "stdout",
     "output_type": "stream",
     "text": [
      "172.30.2.188:\n",
      "Filesystem                Size      Used Available Use% Mounted on\n",
      "overlay                  14.6G      3.3G     10.6G  24% /\n",
      "tmpfs                     3.9G         0      3.9G   0% /sys/fs/cgroup\n",
      "udev                      3.9G         0      3.9G   0% /dev\n",
      "tmpfs                     3.9G         0      3.9G   0% /dev/shm\n",
      "/dev/xvda1               14.6G      3.3G     10.6G  24% /etc/resolv.conf\n",
      "/dev/xvda1               14.6G      3.3G     10.6G  24% /etc/hostname\n",
      "/dev/xvda1               14.6G      3.3G     10.6G  24% /etc/hosts\n",
      "/dev/xvda1               14.6G      3.3G     10.6G  24% /var/lib/docker\n",
      "none                      3.9G         0      3.9G   0% /tmp\n",
      "\n",
      "172.20.2.5:\n",
      "Filesystem                Size      Used Available Use% Mounted on\n",
      "overlay                  96.7G      2.8G     94.0G   3% /\n",
      "tmpfs                     6.8G         0      6.8G   0% /sys/fs/cgroup\n",
      "udev                      6.8G         0      6.8G   0% /dev\n",
      "tmpfs                     6.8G         0      6.8G   0% /dev/shm\n",
      "/dev/sda1                96.7G      2.8G     94.0G   3% /etc/resolv.conf\n",
      "/dev/sda1                96.7G      2.8G     94.0G   3% /etc/hostname\n",
      "/dev/sda1                96.7G      2.8G     94.0G   3% /etc/hosts\n",
      "/dev/sda1                96.7G      2.8G     94.0G   3% /var/lib/docker\n",
      "none                      6.8G         0      6.8G   0% /tmp\n",
      "\n"
     ]
    }
   ],
   "source": [
    "for address in ip_address:\n",
    "    print(address + ':')\n",
    "    !ssh {ssh_opts} {address} df -h\n",
    "    print()"
   ]
  },
  {
   "cell_type": "markdown",
   "metadata": {
    "lc_cell_meme": {
     "current": "f5ca6f7e-dd4a-11eb-8d4b-02420a01000d-3-3e15-2931-8ffa",
     "next": "f5ca7046-dd4a-11eb-8d4b-02420a01000d-3-e524-ba51-401d",
     "previous": "f5ca6e98-dd4a-11eb-8d4b-02420a01000d-3-952a-7a79-49d7"
    }
   },
   "source": [
    "最後に先程と同様に、負荷をかけるためにそれぞれのVCノードで stress コマンドを実行します。これまで同様 stressコマンドはアプリケーションコンテナとして実行します。"
   ]
  },
  {
   "cell_type": "code",
   "execution_count": 50,
   "metadata": {
    "deletable": false,
    "editable": false,
    "lc_cell_meme": {
     "current": "f5ca7046-dd4a-11eb-8d4b-02420a01000d-3-e524-ba51-401d",
     "execution_end_time": "2021-07-05T06:33:16.655130Z",
     "next": "f5ca710e-dd4a-11eb-8d4b-02420a01000d-3-549e-66db-9ae5",
     "previous": "f5ca6f7e-dd4a-11eb-8d4b-02420a01000d-3-3e15-2931-8ffa"
    },
    "lc_wrapper": {},
    "run_through_control": {
     "frozen": true
    },
    "scrolled": true
   },
   "outputs": [
    {
     "name": "stdout",
     "output_type": "stream",
     "text": [
      "3f00d4f6d3f32db5653569a536a60f5e72703055f17028c876f9d00d6ed69e40\n",
      "Unable to find image 'polinux/stress:latest' locally\n",
      "latest: Pulling from polinux/stress\n",
      "63bc94deeb28: Pulling fs layer\n",
      "8d43371bad93: Pulling fs layer\n",
      "63bc94deeb28: Verifying Checksum\n",
      "63bc94deeb28: Download complete\n",
      "8d43371bad93: Download complete\n",
      "63bc94deeb28: Pull complete\n",
      "8d43371bad93: Pull complete\n",
      "Digest: sha256:b6144f84f9c15dac80deb48d3a646b55c7043ab1d83ea0a697c09097aaad21aa\n",
      "Status: Downloaded newer image for polinux/stress:latest\n",
      "c2bb3c8df18e065c4aa6f45cbbebb569458c00a0819f28a9566862fe4fccadc4\n"
     ]
    }
   ],
   "source": [
    "for unit in unit_group.find_units():\n",
    "    address = unit.find_ip_addresses(node_state='RUNNING')\n",
    "    # 60秒間だけ CPU x 2 とメモリ 128 MB を消費する\n",
    "    !ssh {ssh_opts} {address[0]} \\\n",
    "        /usr/local/bin/docker run -td --rm --name stress-{unit.name} polinux/stress \\\n",
    "        stress --cpu 2 --io 1 --vm 2 --vm-bytes 128M --timeout 60s --verbose"
   ]
  },
  {
   "cell_type": "markdown",
   "metadata": {
    "lc_cell_meme": {
     "current": "f5ca710e-dd4a-11eb-8d4b-02420a01000d-3-549e-66db-9ae5",
     "next": "f5ca71d6-dd4a-11eb-8d4b-02420a01000d-3-057b-732f-9150",
     "previous": "f5ca7046-dd4a-11eb-8d4b-02420a01000d-3-e524-ba51-401d"
    }
   },
   "source": [
    "Grafanaで利用状況を確認してみます。"
   ]
  },
  {
   "cell_type": "code",
   "execution_count": 51,
   "metadata": {
    "deletable": false,
    "editable": false,
    "lc_cell_meme": {
     "current": "f5ca71d6-dd4a-11eb-8d4b-02420a01000d-3-057b-732f-9150",
     "execution_end_time": "2021-07-05T06:33:20.313673Z",
     "next": "f5ca72bc-dd4a-11eb-8d4b-02420a01000d-3-2400-32e1-65cf",
     "previous": "f5ca710e-dd4a-11eb-8d4b-02420a01000d-3-549e-66db-9ae5"
    },
    "lc_wrapper": {},
    "run_through_control": {
     "frozen": true
    }
   },
   "outputs": [
    {
     "name": "stdout",
     "output_type": "stream",
     "text": [
      "https://localhost/grafana/d/vcp/vcp-metrics?refresh=5s\n"
     ]
    }
   ],
   "source": [
    "print(grafana_url)"
   ]
  },
  {
   "cell_type": "markdown",
   "metadata": {
    "lc_cell_meme": {
     "current": "f5ca72bc-dd4a-11eb-8d4b-02420a01000d-3-2400-32e1-65cf",
     "next": "f5ca7398-dd4a-11eb-8d4b-02420a01000d-3-6b96-9727-b9d3",
     "previous": "f5ca71d6-dd4a-11eb-8d4b-02420a01000d-3-057b-732f-9150"
    }
   },
   "source": [
    "# 全てのVCノードを削除する"
   ]
  },
  {
   "cell_type": "markdown",
   "metadata": {
    "lc_cell_meme": {
     "current": "f5ca7398-dd4a-11eb-8d4b-02420a01000d-3-6b96-9727-b9d3",
     "next": "f5ca7460-dd4a-11eb-8d4b-02420a01000d-3-8359-42aa-7ad1",
     "previous": "f5ca72bc-dd4a-11eb-8d4b-02420a01000d-3-2400-32e1-65cf"
    }
   },
   "source": [
    "ここまで作成した全てのリソース（UnitGroup, Unit、VCノード）を削除します。この操作を行うことで AWS EC2インスタンスやAzure VMなどのクラウドに作成したリソースが削除されます。\n",
    "\n",
    "> 全てのリソースの削除には 4～5分程度かかります。"
   ]
  },
  {
   "cell_type": "code",
   "execution_count": 52,
   "metadata": {
    "deletable": false,
    "editable": false,
    "lc_cell_meme": {
     "current": "f5ca7460-dd4a-11eb-8d4b-02420a01000d-3-8359-42aa-7ad1",
     "execution_end_time": "2021-07-05T06:36:38.290210Z",
     "next": "f5ca7528-dd4a-11eb-8d4b-02420a01000d-3-f7c7-e661-b353",
     "previous": "f5ca7398-dd4a-11eb-8d4b-02420a01000d-3-6b96-9727-b9d3"
    },
    "lc_wrapper": {},
    "run_through_control": {
     "frozen": true
    },
    "scrolled": true
   },
   "outputs": [
    {
     "name": "stdout",
     "output_type": "stream",
     "text": [
      "2021-07-05 15:33:32,070 - INFO - aws-server is DELETING\n",
      "azure-server is DELETING ... 0 sec\n",
      "2021-07-05 15:33:37,248 - INFO - aws-server is DELETING\n",
      "azure-server is DELETING ... 5 sec\n",
      "2021-07-05 15:33:42,477 - INFO - aws-server is DELETING\n",
      "azure-server is DELETING ... 10 sec\n",
      "2021-07-05 15:33:47,793 - INFO - aws-server is DELETING\n",
      "azure-server is DELETING ... 15 sec\n",
      "2021-07-05 15:33:52,991 - INFO - aws-server is DELETING\n",
      "azure-server is DELETING ... 20 sec\n",
      "2021-07-05 15:33:58,202 - INFO - aws-server is DELETING\n",
      "azure-server is DELETING ... 25 sec\n",
      "2021-07-05 15:34:03,395 - INFO - aws-server is DELETING\n",
      "azure-server is DELETING ... 30 sec\n",
      "2021-07-05 15:34:08,601 - INFO - aws-server is DELETING\n",
      "azure-server is DELETING ... 35 sec\n",
      "2021-07-05 15:34:13,789 - INFO - aws-server is DELETING\n",
      "azure-server is DELETING ... 40 sec\n",
      "2021-07-05 15:34:18,944 - INFO - azure-server is DELETING ... 45 sec\n",
      "2021-07-05 15:34:24,070 - INFO - azure-server is DELETING ... 50 sec\n",
      "2021-07-05 15:34:29,220 - INFO - azure-server is DELETING ... 55 sec\n",
      "2021-07-05 15:34:34,367 - INFO - azure-server is DELETING ... 60 sec\n",
      "2021-07-05 15:34:39,533 - INFO - azure-server is DELETING ... 65 sec\n",
      "2021-07-05 15:34:44,754 - INFO - azure-server is DELETING ... 70 sec\n",
      "2021-07-05 15:34:49,924 - INFO - azure-server is DELETING ... 75 sec\n",
      "2021-07-05 15:34:55,066 - INFO - azure-server is DELETING ... 80 sec\n",
      "2021-07-05 15:35:00,224 - INFO - azure-server is DELETING ... 85 sec\n",
      "2021-07-05 15:35:05,405 - INFO - azure-server is DELETING ... 90 sec\n",
      "2021-07-05 15:35:10,573 - INFO - azure-server is DELETING ... 95 sec\n",
      "2021-07-05 15:35:15,740 - INFO - azure-server is DELETING ... 100 sec\n",
      "2021-07-05 15:35:20,949 - INFO - azure-server is DELETING ... 105 sec\n",
      "2021-07-05 15:35:26,097 - INFO - azure-server is DELETING ... 110 sec\n",
      "2021-07-05 15:35:31,250 - INFO - azure-server is DELETING ... 115 sec\n",
      "2021-07-05 15:35:36,433 - INFO - azure-server is DELETING ... 120 sec\n",
      "2021-07-05 15:35:41,591 - INFO - azure-server is DELETING ... 125 sec\n",
      "2021-07-05 15:35:46,766 - INFO - azure-server is DELETING ... 130 sec\n",
      "2021-07-05 15:35:51,947 - INFO - azure-server is DELETING ... 135 sec\n",
      "2021-07-05 15:35:57,099 - INFO - azure-server is DELETING ... 140 sec\n",
      "2021-07-05 15:36:02,253 - INFO - azure-server is DELETING ... 145 sec\n",
      "2021-07-05 15:36:07,433 - INFO - azure-server is DELETING ... 150 sec\n",
      "2021-07-05 15:36:12,605 - INFO - azure-server is DELETING ... 155 sec\n",
      "2021-07-05 15:36:17,784 - INFO - azure-server is DELETING ... 160 sec\n",
      "2021-07-05 15:36:22,921 - INFO - azure-server is DELETING ... 165 sec\n",
      "2021-07-05 15:36:28,073 - INFO - azure-server is DELETING ... 170 sec\n",
      "2021-07-05 15:36:33,228 - INFO - azure-server is DELETING ... 175 sec\n",
      "2021-07-05 15:36:38,287 - INFO - cleanup completed. vc  is cleanup(no unit)\n"
     ]
    }
   ],
   "source": [
    "unit_group.cleanup()"
   ]
  },
  {
   "cell_type": "markdown",
   "metadata": {
    "lc_cell_meme": {
     "current": "f5ca7528-dd4a-11eb-8d4b-02420a01000d-3-f7c7-e661-b353",
     "next": "f5ca75f0-dd4a-11eb-8d4b-02420a01000d-3-3c45-cdb8-5cb8",
     "previous": "f5ca7460-dd4a-11eb-8d4b-02420a01000d-3-8359-42aa-7ad1"
    }
   },
   "source": [
    "削除後の状態を確認してみます。"
   ]
  },
  {
   "cell_type": "code",
   "execution_count": 53,
   "metadata": {
    "deletable": false,
    "editable": false,
    "lc_cell_meme": {
     "current": "f5ca75f0-dd4a-11eb-8d4b-02420a01000d-3-3c45-cdb8-5cb8",
     "execution_end_time": "2021-07-05T06:36:49.926650Z",
     "next": null,
     "previous": "f5ca7528-dd4a-11eb-8d4b-02420a01000d-3-f7c7-e661-b353"
    },
    "lc_wrapper": {},
    "run_through_control": {
     "frozen": true
    },
    "scrolled": true
   },
   "outputs": [
    {
     "data": {
      "text/html": [
       "<style  type=\"text/css\" >\n",
       "</style><table id=\"T_60b5fc94_dd5b_11eb_9668_02420a010024\" ><thead>    <tr>        <th class=\"blank level0\" ></th>        <th class=\"col_heading level0 col0\" >vcno</th>        <th class=\"col_heading level0 col1\" >vctype</th>        <th class=\"col_heading level0 col2\" >vcname</th>        <th class=\"col_heading level0 col3\" >state</th>        <th class=\"col_heading level0 col4\" >vcid</th>        <th class=\"col_heading level0 col5\" >cdate</th>    </tr></thead><tbody>\n",
       "        </tbody></table>"
      ],
      "text/plain": [
       "<pandas.io.formats.style.Styler at 0x7f1830ffab90>"
      ]
     },
     "execution_count": 53,
     "metadata": {},
     "output_type": "execute_result"
    }
   ],
   "source": [
    "# UnitGroupの一覧を DataFrame で表示する\n",
    "vcp.df_ugroups()"
   ]
  }
 ],
 "metadata": {
  "kernelspec": {
   "display_name": "Python 3",
   "language": "python",
   "name": "python3"
  },
  "language_info": {
   "file_extension": ".py",
   "mimetype": "text/x-python",
   "name": "python",
   "nbconvert_exporter": "python",
   "pygments_lexer": "ipython3",
   "version": "3.7.6"
  },
  "toc": {
   "base_numbering": 1,
   "nav_menu": {},
   "number_sections": true,
   "sideBar": true,
   "skip_h1_title": false,
   "title_cell": "Table of Contents",
   "title_sidebar": "Contents",
   "toc_cell": false,
   "toc_position": {
    "height": "826px",
    "left": "0px",
    "right": "1202px",
    "top": "111px",
    "width": "310px"
   },
   "toc_section_display": "block",
   "toc_window_display": true
  }
 },
 "nbformat": 4,
 "nbformat_minor": 2
}
