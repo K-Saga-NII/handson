{
 "cells": [
  {
   "cell_type": "markdown",
   "metadata": {
    "lc_cell_meme": {
     "current": "dc6e4e7c-c2e7-11e8-9925-0242ac110002",
     "next": "dc6e4f58-c2e7-11e8-9925-0242ac110002",
     "previous": null
    }
   },
   "source": [
    "# VCディスク(Amazon EBS)を利用したVCノードの起動、削除、再起動"
   ]
  },
  {
   "cell_type": "markdown",
   "metadata": {
    "lc_cell_meme": {
     "current": "dc6e4f58-c2e7-11e8-9925-0242ac110002",
     "next": "dc6e5002-c2e7-11e8-9925-0242ac110002",
     "previous": "dc6e4e7c-c2e7-11e8-9925-0242ac110002"
    }
   },
   "source": [
    "## VCディスクについて"
   ]
  },
  {
   "cell_type": "markdown",
   "metadata": {
    "lc_cell_meme": {
     "current": "dc6e5002-c2e7-11e8-9925-0242ac110002",
     "next": "dc6e50ac-c2e7-11e8-9925-0242ac110002",
     "previous": "dc6e4f58-c2e7-11e8-9925-0242ac110002"
    }
   },
   "source": [
    "VCPでは計算資源の操作だけではなく、外付けディスク（[Amazon EBS](https://aws.amazon.com/jp/ebs/), [Microsoft Azure Managed Disks](https://azure.microsoft.com/ja-jp/services/storage/disks/), ...）を生成、削除する機能があります。VCPによって、生成されたディスクをVCディスクと呼んでいます。\n",
    "\n",
    "通常、外付けディスクのライフサイクルは計算資源（VCノード）とは異なるので、VCディスクとVCノードは別々のUnitGroupとして扱います。"
   ]
  },
  {
   "attachments": {},
   "cell_type": "markdown",
   "metadata": {
    "heading_collapsed": true,
    "lc_cell_meme": {
     "current": "dc6e50ac-c2e7-11e8-9925-0242ac110002",
     "next": "dc6e5156-c2e7-11e8-9925-0242ac110002",
     "previous": "dc6e5002-c2e7-11e8-9925-0242ac110002"
    }
   },
   "source": [
    "## 構成\n",
    "\n",
    "このNotebookで構築するVCノード, VCディスクの構成を以下の図に示します。\n",
    "\n",
    "![構成](images/104-001.png)"
   ]
  },
  {
   "cell_type": "markdown",
   "metadata": {
    "hidden": true,
    "lc_cell_meme": {
     "current": "dc6e5156-c2e7-11e8-9925-0242ac110002",
     "next": "dc6e5200-c2e7-11e8-9925-0242ac110002",
     "previous": "dc6e50ac-c2e7-11e8-9925-0242ac110002"
    }
   },
   "source": [
    "* UnitGroup: handson104\n",
    "  * VCノード(Amazon EC2インスタンス)で構成されるUnitGroup\n",
    "  * ２つのUnit(nfsServer, nfsClient)で構成されている\n",
    "    * Unit: nfsServer\n",
    "      - NFSサーバとなる VCノードで構成されているUnit\n",
    "      - VC:handson104-disk の VCディスク がアタッチされる\n",
    "      - 事前に設定したIPアドレスが割り当てられる\n",
    "      - NFSサーバ用のBaseコンテナイメージを利用する\n",
    "    * Unit: nfsClient\n",
    "      - NFSクライアントとなる VCノードで構成されているUnit\n",
    "* UnitGroup: handson104-disk\n",
    "  * VCディスク(Amazon EBS)で構成されるUnitGroup\n",
    "  * １つのUnit(data)で構成されている\n",
    "    * Unit: data\n",
    "      - NFS公開用ディスクとなる VCディスクで構成されているUnit\n",
    "      - Unit:nfsServer の VCノードにアタッチされる"
   ]
  },
  {
   "cell_type": "markdown",
   "metadata": {
    "lc_cell_meme": {
     "current": "dc6e5200-c2e7-11e8-9925-0242ac110002",
     "next": "dc6e52a0-c2e7-11e8-9925-0242ac110002",
     "previous": "dc6e5156-c2e7-11e8-9925-0242ac110002"
    }
   },
   "source": [
    "## 操作手順"
   ]
  },
  {
   "cell_type": "markdown",
   "metadata": {
    "lc_cell_meme": {
     "current": "dc6e52a0-c2e7-11e8-9925-0242ac110002",
     "next": "dc6e5336-c2e7-11e8-9925-0242ac110002",
     "previous": "dc6e5200-c2e7-11e8-9925-0242ac110002"
    }
   },
   "source": [
    "この Notebook での大まかな操作手順は以下のようになります。\n",
    "\n",
    "1. VCP SDKを用いてVCディスク(Amazon EBS)を作成する\n",
    "1. 作成したVCディスクをアタッチしたVCノード(Amazon EC2インスタンス)を起動する\n",
    "1. VCディスクにファイルシステムを作成しNFSサーバで公開する\n",
    "1. NFSで公開されているディレクトリを他のVCノードからNFSマウントして、ファイルの読み書きを行う\n",
    "1. VCノードを全て削除する\n",
    "1. VCディスクをアタッチしたVCノードを新たに起動して、先ほど書き込んだファイルにアクセスできることを確認する"
   ]
  },
  {
   "attachments": {},
   "cell_type": "markdown",
   "metadata": {
    "lc_cell_meme": {
     "current": "dc6e5336-c2e7-11e8-9925-0242ac110002",
     "next": "dc6e53e0-c2e7-11e8-9925-0242ac110002",
     "previous": "dc6e52a0-c2e7-11e8-9925-0242ac110002"
    }
   },
   "source": [
    "# ディスクの作成\n",
    "\n",
    "VCP SDKでVCディスク(Amazon EBS)を作成します。\n",
    "\n",
    "この節を実行すると次図の状態になります。\n",
    "\n",
    "![step1](images/104-002.png)"
   ]
  },
  {
   "cell_type": "markdown",
   "metadata": {
    "lc_cell_meme": {
     "current": "dc6e53e0-c2e7-11e8-9925-0242ac110002",
     "next": "dc6e5480-c2e7-11e8-9925-0242ac110002",
     "previous": "dc6e5336-c2e7-11e8-9925-0242ac110002"
    }
   },
   "source": [
    "VCディスクの作成手順は基本的に VCノードの作成手順と同じですが、以下の点が異なります。\n",
    "\n",
    "* UnitGroupを作成するときに`ugroup_type`パラメータを`storage`と指定します\n",
    "* flavor の定義に用いるプロバイダ名はサフィックスに `_disk`を付ける命名規則になっています。例えば\n",
    "  - `aws` の 場合は、`aws_disk`\n",
    "  - `azure` の場合は `azure_disk`"
   ]
  },
  {
   "cell_type": "markdown",
   "metadata": {
    "lc_cell_meme": {
     "current": "dc6e5480-c2e7-11e8-9925-0242ac110002",
     "next": "dc6e5516-c2e7-11e8-9925-0242ac110002",
     "previous": "dc6e53e0-c2e7-11e8-9925-0242ac110002"
    }
   },
   "source": [
    "## アクセストークンの入力\n",
    "\n",
    "VCP SDKを利用するにはVC Controllerのアクセストークンが必要となります。"
   ]
  },
  {
   "cell_type": "markdown",
   "metadata": {
    "lc_cell_meme": {
     "current": "dc6e5516-c2e7-11e8-9925-0242ac110002",
     "next": "dc6e55b6-c2e7-11e8-9925-0242ac110002",
     "previous": "dc6e5480-c2e7-11e8-9925-0242ac110002"
    }
   },
   "source": [
    "次のセルを実行すると表示される入力枠にVC Controllerのアクセストークンの値を入力してください。"
   ]
  },
  {
   "cell_type": "code",
   "execution_count": 1,
   "metadata": {
    "deletable": false,
    "editable": false,
    "lc_cell_meme": {
     "current": "dc6e55b6-c2e7-11e8-9925-0242ac110002",
     "next": "dc6e5656-c2e7-11e8-9925-0242ac110002",
     "previous": "dc6e5516-c2e7-11e8-9925-0242ac110002"
    },
    "run_through_control": {
     "frozen": true
    }
   },
   "outputs": [
    {
     "name": "stdout",
     "output_type": "stream",
     "text": [
      "········\n"
     ]
    }
   ],
   "source": [
    "from getpass import getpass\n",
    "vcc_access_token = getpass()"
   ]
  },
  {
   "cell_type": "markdown",
   "metadata": {
    "lc_cell_meme": {
     "current": "dc6e5656-c2e7-11e8-9925-0242ac110002",
     "next": "dc6e56f6-c2e7-11e8-9925-0242ac110002",
     "previous": "dc6e55b6-c2e7-11e8-9925-0242ac110002"
    }
   },
   "source": [
    "## VCP SDKの初期化\n",
    "\n",
    "VCP SDKの初期化を行います。"
   ]
  },
  {
   "cell_type": "code",
   "execution_count": 2,
   "metadata": {
    "deletable": false,
    "editable": false,
    "lc_cell_meme": {
     "current": "dc6e56f6-c2e7-11e8-9925-0242ac110002",
     "next": "dc6e5796-c2e7-11e8-9925-0242ac110002",
     "previous": "dc6e5656-c2e7-11e8-9925-0242ac110002"
    },
    "run_through_control": {
     "frozen": true
    }
   },
   "outputs": [],
   "source": [
    "from common import logsetting\n",
    "from vcpsdk.vcpsdk import VcpSDK\n",
    "\n",
    "# 管理オブジェクトの作成\n",
    "vcp = VcpSDK(\n",
    "    vcc_access_token,    # VCCのアクセストークン\n",
    ")"
   ]
  },
  {
   "cell_type": "markdown",
   "metadata": {
    "lc_cell_meme": {
     "current": "dc6e5796-c2e7-11e8-9925-0242ac110002",
     "next": "dc6e582c-c2e7-11e8-9925-0242ac110002",
     "previous": "dc6e56f6-c2e7-11e8-9925-0242ac110002"
    }
   },
   "source": [
    "上のセルの実行結果がエラーとなり以下のようなメッセージが表示されている場合は、入力されたアクセストークンに誤りがあります。\n",
    "\n",
    "```\n",
    "2018-09-XX XX:XX:XX,XXX - ERROR - config vc failed: http_status(403)\n",
    "2018-09-XX XX:XX:XX,XXX - ERROR - 2018/XX/XX XX:XX:XX UTC: VCPAuthException: xxxxxxx:token lookup is failed: permission denied\n",
    "```\n",
    "\n",
    "この場合はアクセストークンの入力からやり直してください。"
   ]
  },
  {
   "cell_type": "markdown",
   "metadata": {
    "lc_cell_meme": {
     "current": "dc6e582c-c2e7-11e8-9925-0242ac110002",
     "next": "dc6e58cc-c2e7-11e8-9925-0242ac110002",
     "previous": "dc6e5796-c2e7-11e8-9925-0242ac110002"
    }
   },
   "source": [
    "## UnitGroupの作成\n",
    "\n",
    "VCディスクのための UnitGroupを作成します。"
   ]
  },
  {
   "cell_type": "markdown",
   "metadata": {
    "lc_cell_meme": {
     "current": "dc6e58cc-c2e7-11e8-9925-0242ac110002",
     "next": "dc6e596c-c2e7-11e8-9925-0242ac110002",
     "previous": "dc6e582c-c2e7-11e8-9925-0242ac110002"
    }
   },
   "source": [
    "VCノード用のUnitGroupと異なり、`ugroup_type`パラメータに `storage` を指定する必要があります。"
   ]
  },
  {
   "cell_type": "code",
   "execution_count": 3,
   "metadata": {
    "deletable": false,
    "editable": false,
    "lc_cell_meme": {
     "current": "dc6e596c-c2e7-11e8-9925-0242ac110002",
     "next": "dc6e5a0c-c2e7-11e8-9925-0242ac110002",
     "previous": "dc6e58cc-c2e7-11e8-9925-0242ac110002"
    },
    "run_through_control": {
     "frozen": true
    }
   },
   "outputs": [],
   "source": [
    "ugroup_disk = vcp.create_ugroup(\n",
    "    'handson104-disk',       # UnitGroupの名前\n",
    "    ugroup_type='storage'    # UnitGroupの種別を指定する\n",
    ")"
   ]
  },
  {
   "cell_type": "markdown",
   "metadata": {
    "lc_cell_meme": {
     "current": "dc6e5a0c-c2e7-11e8-9925-0242ac110002",
     "next": "dc6e5aa2-c2e7-11e8-9925-0242ac110002",
     "previous": "dc6e596c-c2e7-11e8-9925-0242ac110002"
    }
   },
   "source": [
    "UnitGroupの一覧を表示してみます。\n",
    "\n",
    "> UnitGroup`handson104-disk` のタイプが `storage` であることが確認できます。"
   ]
  },
  {
   "cell_type": "code",
   "execution_count": 4,
   "metadata": {
    "deletable": false,
    "editable": false,
    "lc_cell_meme": {
     "current": "dc6e5aa2-c2e7-11e8-9925-0242ac110002",
     "next": "dc6e5b42-c2e7-11e8-9925-0242ac110002",
     "previous": "dc6e5a0c-c2e7-11e8-9925-0242ac110002"
    },
    "run_through_control": {
     "frozen": true
    }
   },
   "outputs": [
    {
     "data": {
      "text/html": [
       "<div>\n",
       "<style>\n",
       "    .dataframe thead tr:only-child th {\n",
       "        text-align: right;\n",
       "    }\n",
       "\n",
       "    .dataframe thead th {\n",
       "        text-align: left;\n",
       "    }\n",
       "\n",
       "    .dataframe tbody tr th {\n",
       "        vertical-align: top;\n",
       "    }\n",
       "</style>\n",
       "<table border=\"1\" class=\"dataframe\">\n",
       "  <thead>\n",
       "    <tr style=\"text-align: right;\">\n",
       "      <th></th>\n",
       "      <th>vcno</th>\n",
       "      <th>vctype</th>\n",
       "      <th>vcname</th>\n",
       "      <th>state</th>\n",
       "      <th>vcid</th>\n",
       "      <th>cdate</th>\n",
       "    </tr>\n",
       "  </thead>\n",
       "  <tbody>\n",
       "    <tr>\n",
       "      <th>0</th>\n",
       "      <td>39</td>\n",
       "      <td>storage</td>\n",
       "      <td>handson104-disk</td>\n",
       "      <td>RUNNING</td>\n",
       "      <td>9a906c6d...</td>\n",
       "      <td>2018/09/28 06:29:02 UTC</td>\n",
       "    </tr>\n",
       "  </tbody>\n",
       "</table>\n",
       "</div>"
      ],
      "text/plain": [
       "   vcno   vctype           vcname    state         vcid  \\\n",
       "0    39  storage  handson104-disk  RUNNING  9a906c6d...   \n",
       "\n",
       "                     cdate  \n",
       "0  2018/09/28 06:29:02 UTC  "
      ]
     },
     "execution_count": 4,
     "metadata": {},
     "output_type": "execute_result"
    }
   ],
   "source": [
    "# UnitGroupの一覧を DataFrame で表示する\n",
    "vcp.df_ugroups()"
   ]
  },
  {
   "cell_type": "markdown",
   "metadata": {
    "lc_cell_meme": {
     "current": "dc6e5b42-c2e7-11e8-9925-0242ac110002",
     "next": "dc6e5bd8-c2e7-11e8-9925-0242ac110002",
     "previous": "dc6e5aa2-c2e7-11e8-9925-0242ac110002"
    }
   },
   "source": [
    "## UnitGroupの状態を確認する"
   ]
  },
  {
   "cell_type": "markdown",
   "metadata": {
    "lc_cell_meme": {
     "current": "dc6e5bd8-c2e7-11e8-9925-0242ac110002",
     "next": "dc6e5c6e-c2e7-11e8-9925-0242ac110002",
     "previous": "dc6e5b42-c2e7-11e8-9925-0242ac110002"
    }
   },
   "source": [
    "UnitGroup `handson104-disk` にまだ Unit, VCディスク が作成されていないことを確認します。"
   ]
  },
  {
   "cell_type": "code",
   "execution_count": 5,
   "metadata": {
    "deletable": false,
    "editable": false,
    "lc_cell_meme": {
     "current": "dc6e5c6e-c2e7-11e8-9925-0242ac110002",
     "next": "dc6e5d0e-c2e7-11e8-9925-0242ac110002",
     "previous": "dc6e5bd8-c2e7-11e8-9925-0242ac110002"
    },
    "run_through_control": {
     "frozen": true
    }
   },
   "outputs": [
    {
     "data": {
      "text/html": [
       "<div>\n",
       "<style>\n",
       "    .dataframe thead tr:only-child th {\n",
       "        text-align: right;\n",
       "    }\n",
       "\n",
       "    .dataframe thead th {\n",
       "        text-align: left;\n",
       "    }\n",
       "\n",
       "    .dataframe tbody tr th {\n",
       "        vertical-align: top;\n",
       "    }\n",
       "</style>\n",
       "<table border=\"1\" class=\"dataframe\">\n",
       "  <thead>\n",
       "    <tr style=\"text-align: right;\">\n",
       "      <th></th>\n",
       "      <th>vctype</th>\n",
       "      <th>vcno</th>\n",
       "      <th>vcname</th>\n",
       "      <th>vc_state</th>\n",
       "      <th>vcid</th>\n",
       "      <th>cdate</th>\n",
       "      <th>unit_name</th>\n",
       "      <th>unit_state</th>\n",
       "    </tr>\n",
       "  </thead>\n",
       "  <tbody>\n",
       "  </tbody>\n",
       "</table>\n",
       "</div>"
      ],
      "text/plain": [
       "Empty DataFrame\n",
       "Columns: [vctype, vcno, vcname, vc_state, vcid, cdate, unit_name, unit_state]\n",
       "Index: []"
      ]
     },
     "metadata": {},
     "output_type": "display_data"
    },
    {
     "data": {
      "text/plain": [
       "None"
      ]
     },
     "metadata": {},
     "output_type": "display_data"
    }
   ],
   "source": [
    "from IPython.display import display\n",
    "\n",
    "# Unitの一覧を DataFrame で表示する\n",
    "display(ugroup_disk.df_units())\n",
    "\n",
    "# VCディスクの一覧を DataFrame で表示する\n",
    "display(ugroup_disk.df_nodes())"
   ]
  },
  {
   "cell_type": "markdown",
   "metadata": {
    "lc_cell_meme": {
     "current": "dc6e5d0e-c2e7-11e8-9925-0242ac110002",
     "next": "dc6e5dae-c2e7-11e8-9925-0242ac110002",
     "previous": "dc6e5c6e-c2e7-11e8-9925-0242ac110002"
    }
   },
   "source": [
    "## VCディスクのspecを指定する"
   ]
  },
  {
   "cell_type": "markdown",
   "metadata": {
    "lc_cell_meme": {
     "current": "dc6e5dae-c2e7-11e8-9925-0242ac110002",
     "next": "dc6e5e4e-c2e7-11e8-9925-0242ac110002",
     "previous": "dc6e5d0e-c2e7-11e8-9925-0242ac110002"
    }
   },
   "source": [
    "### flavor"
   ]
  },
  {
   "cell_type": "markdown",
   "metadata": {
    "lc_cell_meme": {
     "current": "dc6e5e4e-c2e7-11e8-9925-0242ac110002",
     "next": "dc6e5eee-c2e7-11e8-9925-0242ac110002",
     "previous": "dc6e5dae-c2e7-11e8-9925-0242ac110002"
    }
   },
   "source": [
    "VCノードの場合と同様、VCディスクについても典型的な構成のパラメータセットを flavor として定義しています。\n",
    "\n",
    "aws用に定義しているVCディスクの flavor 定義の一覧を表示してみます。"
   ]
  },
  {
   "cell_type": "code",
   "execution_count": 6,
   "metadata": {
    "deletable": false,
    "editable": false,
    "lc_cell_meme": {
     "current": "dc6e5eee-c2e7-11e8-9925-0242ac110002",
     "next": "dc6e5f84-c2e7-11e8-9925-0242ac110002",
     "previous": "dc6e5e4e-c2e7-11e8-9925-0242ac110002"
    },
    "run_through_control": {
     "frozen": true
    }
   },
   "outputs": [
    {
     "data": {
      "text/html": [
       "<div>\n",
       "<style>\n",
       "    .dataframe thead tr:only-child th {\n",
       "        text-align: right;\n",
       "    }\n",
       "\n",
       "    .dataframe thead th {\n",
       "        text-align: left;\n",
       "    }\n",
       "\n",
       "    .dataframe tbody tr th {\n",
       "        vertical-align: top;\n",
       "    }\n",
       "</style>\n",
       "<table border=\"1\" class=\"dataframe\">\n",
       "  <thead>\n",
       "    <tr style=\"text-align: right;\">\n",
       "      <th></th>\n",
       "      <th>flavor</th>\n",
       "      <th>size</th>\n",
       "      <th>type</th>\n",
       "    </tr>\n",
       "  </thead>\n",
       "  <tbody>\n",
       "    <tr>\n",
       "      <th>0</th>\n",
       "      <td>small</td>\n",
       "      <td>8</td>\n",
       "      <td>standard</td>\n",
       "    </tr>\n",
       "    <tr>\n",
       "      <th>1</th>\n",
       "      <td>medium</td>\n",
       "      <td>32</td>\n",
       "      <td>standard</td>\n",
       "    </tr>\n",
       "    <tr>\n",
       "      <th>2</th>\n",
       "      <td>large</td>\n",
       "      <td>128</td>\n",
       "      <td>standard</td>\n",
       "    </tr>\n",
       "  </tbody>\n",
       "</table>\n",
       "</div>"
      ],
      "text/plain": [
       "   flavor  size      type\n",
       "0   small     8  standard\n",
       "1  medium    32  standard\n",
       "2   large   128  standard"
      ]
     },
     "execution_count": 6,
     "metadata": {},
     "output_type": "execute_result"
    }
   ],
   "source": [
    "VcpSDK.df_flavors('aws_disk')"
   ]
  },
  {
   "cell_type": "markdown",
   "metadata": {
    "lc_cell_meme": {
     "current": "dc6e5f84-c2e7-11e8-9925-0242ac110002",
     "next": "dc6e6024-c2e7-11e8-9925-0242ac110002",
     "previous": "dc6e5eee-c2e7-11e8-9925-0242ac110002"
    }
   },
   "source": [
    "### spec オブジェクトを作成する\n",
    "\n",
    "specオブジェクトを作成します。"
   ]
  },
  {
   "cell_type": "markdown",
   "metadata": {
    "lc_cell_meme": {
     "current": "dc6e6024-c2e7-11e8-9925-0242ac110002",
     "next": "dc6e60ba-c2e7-11e8-9925-0242ac110002",
     "previous": "dc6e5f84-c2e7-11e8-9925-0242ac110002"
    }
   },
   "source": [
    "specオブジェクトを作成するにはプロバイダと`flavor`を指定します。ここでは以下の値を指定します。\n",
    "\n",
    "* プロバイダ: `aws_disk`\n",
    "* flavor: `small`\n",
    "\n",
    "\n",
    "> VCディスクのプロバイダ名にはサフィックスに `_disk`を付ける命名規則になっています。"
   ]
  },
  {
   "cell_type": "code",
   "execution_count": 7,
   "metadata": {
    "deletable": false,
    "editable": false,
    "lc_cell_meme": {
     "current": "dc6e60ba-c2e7-11e8-9925-0242ac110002",
     "next": "dc6e615a-c2e7-11e8-9925-0242ac110002",
     "previous": "dc6e6024-c2e7-11e8-9925-0242ac110002"
    },
    "run_through_control": {
     "frozen": true
    }
   },
   "outputs": [],
   "source": [
    "spec_disk = VcpSDK.get_spec('aws_disk', 'small')"
   ]
  },
  {
   "cell_type": "markdown",
   "metadata": {
    "lc_cell_meme": {
     "current": "dc6e615a-c2e7-11e8-9925-0242ac110002",
     "next": "dc6e61f0-c2e7-11e8-9925-0242ac110002",
     "previous": "dc6e60ba-c2e7-11e8-9925-0242ac110002"
    }
   },
   "source": [
    "### specの設定内容の確認\n",
    "\n",
    "`spec` オブジェクトの設定内容を確認してみます。"
   ]
  },
  {
   "cell_type": "markdown",
   "metadata": {
    "lc_cell_meme": {
     "current": "dc6e61f0-c2e7-11e8-9925-0242ac110002",
     "next": "dc6e6290-c2e7-11e8-9925-0242ac110002",
     "previous": "dc6e615a-c2e7-11e8-9925-0242ac110002"
    }
   },
   "source": [
    "> `flavor` の指定に対応する値が `size`, `type`に 設定されていることが確認できます。"
   ]
  },
  {
   "cell_type": "code",
   "execution_count": 8,
   "metadata": {
    "deletable": false,
    "editable": false,
    "lc_cell_meme": {
     "current": "dc6e6290-c2e7-11e8-9925-0242ac110002",
     "next": "dc6e6326-c2e7-11e8-9925-0242ac110002",
     "previous": "dc6e61f0-c2e7-11e8-9925-0242ac110002"
    },
    "run_through_control": {
     "frozen": true
    }
   },
   "outputs": [
    {
     "name": "stdout",
     "output_type": "stream",
     "text": [
      "\n",
      "========================\n",
      "aws_disk\n",
      "------------------------\n",
      "\n",
      "    cci_version: \"1.0\"\n",
      "    name: \n",
      "    description: \n",
      "    private_network: default\n",
      "    num_disks: 1\n",
      "    size: 8\n",
      "    type: standard\n",
      "    cloud_image: default\n",
      "    tags: {}\n",
      "========================\n"
     ]
    }
   ],
   "source": [
    "print(spec_disk)"
   ]
  },
  {
   "cell_type": "markdown",
   "metadata": {
    "lc_cell_meme": {
     "current": "dc6e6326-c2e7-11e8-9925-0242ac110002",
     "next": "dc6e640c-c2e7-11e8-9925-0242ac110002",
     "previous": "dc6e6290-c2e7-11e8-9925-0242ac110002"
    }
   },
   "source": [
    "`spec`オブジェクトに対しては、以下のようなパラメータを指定することもできます。\n",
    "\n",
    "* num_disks\n",
    "  - Unit内に作成するVCディスクの数: デフォルト=1\n",
    "* type\n",
    "  - Amazon EBSのタイプ\n",
    "  - flavorで設定されているもの以外を利用したい場合に指定する\n",
    "* size\n",
    "  - Amazon EBSのサイズ(GiB)\n",
    "  - flavorで設定されているもの以外を利用したい場合に指定する"
   ]
  },
  {
   "cell_type": "markdown",
   "metadata": {
    "lc_cell_meme": {
     "current": "dc6e640c-c2e7-11e8-9925-0242ac110002",
     "next": "dc6e64b6-c2e7-11e8-9925-0242ac110002",
     "previous": "dc6e6326-c2e7-11e8-9925-0242ac110002"
    }
   },
   "source": [
    "## Unitの作成とVCディスクの作成"
   ]
  },
  {
   "cell_type": "markdown",
   "metadata": {
    "lc_cell_meme": {
     "current": "dc6e64b6-c2e7-11e8-9925-0242ac110002",
     "next": "dc6e6560-c2e7-11e8-9925-0242ac110002",
     "previous": "dc6e640c-c2e7-11e8-9925-0242ac110002"
    }
   },
   "source": [
    "Unitを作成します。同時に VCディスク（ここでは Amazon EBS）が作成されます。\n",
    "\n",
    "> 処理が完了するまで20～30秒程度かかります。"
   ]
  },
  {
   "cell_type": "code",
   "execution_count": 9,
   "metadata": {
    "deletable": false,
    "editable": false,
    "lc_cell_meme": {
     "current": "dc6e6560-c2e7-11e8-9925-0242ac110002",
     "next": "dc6e65f6-c2e7-11e8-9925-0242ac110002",
     "previous": "dc6e64b6-c2e7-11e8-9925-0242ac110002"
    },
    "run_through_control": {
     "frozen": true
    }
   },
   "outputs": [
    {
     "name": "stdout",
     "output_type": "stream",
     "text": [
      "2018-09-28 15:31:02,760 - INFO - CREATING ... 0 sec\n",
      "2018-09-28 15:31:07,926 - INFO - CREATING ... 5 sec\n",
      "2018-09-28 15:31:13,100 - INFO - CREATING ... 10 sec\n",
      "2018-09-28 15:31:18,268 - INFO - CREATING ... 15 sec\n",
      "2018-09-28 15:31:23,433 - INFO - unit data is RUNNING\n"
     ]
    },
    {
     "data": {
      "text/plain": [
       "<vcpsdk.vcpsdk.VcpUnitClass at 0x7fbbcfb50ba8>"
      ]
     },
     "execution_count": 9,
     "metadata": {},
     "output_type": "execute_result"
    }
   ],
   "source": [
    "# Unitの作成（同時に VCディスクが作成される）\n",
    "ugroup_disk.create_unit('data', spec_disk)"
   ]
  },
  {
   "cell_type": "markdown",
   "metadata": {
    "lc_cell_meme": {
     "current": "dc6e65f6-c2e7-11e8-9925-0242ac110002",
     "next": "dc6e6696-c2e7-11e8-9925-0242ac110002",
     "previous": "dc6e6560-c2e7-11e8-9925-0242ac110002"
    }
   },
   "source": [
    "現在の Unit, VCディスク の一覧を表示します。"
   ]
  },
  {
   "cell_type": "code",
   "execution_count": 10,
   "metadata": {
    "deletable": false,
    "editable": false,
    "lc_cell_meme": {
     "current": "dc6e6696-c2e7-11e8-9925-0242ac110002",
     "next": "dc6e6736-c2e7-11e8-9925-0242ac110002",
     "previous": "dc6e65f6-c2e7-11e8-9925-0242ac110002"
    },
    "run_through_control": {
     "frozen": true
    }
   },
   "outputs": [
    {
     "data": {
      "text/html": [
       "<div>\n",
       "<style>\n",
       "    .dataframe thead tr:only-child th {\n",
       "        text-align: right;\n",
       "    }\n",
       "\n",
       "    .dataframe thead th {\n",
       "        text-align: left;\n",
       "    }\n",
       "\n",
       "    .dataframe tbody tr th {\n",
       "        vertical-align: top;\n",
       "    }\n",
       "</style>\n",
       "<table border=\"1\" class=\"dataframe\">\n",
       "  <thead>\n",
       "    <tr style=\"text-align: right;\">\n",
       "      <th></th>\n",
       "      <th>vctype</th>\n",
       "      <th>vcno</th>\n",
       "      <th>vcname</th>\n",
       "      <th>vc_state</th>\n",
       "      <th>vcid</th>\n",
       "      <th>cdate</th>\n",
       "      <th>unit_name</th>\n",
       "      <th>unit_state</th>\n",
       "    </tr>\n",
       "  </thead>\n",
       "  <tbody>\n",
       "    <tr>\n",
       "      <th>0</th>\n",
       "      <td>storage</td>\n",
       "      <td>39</td>\n",
       "      <td>handson104-disk</td>\n",
       "      <td>RUNNING</td>\n",
       "      <td>9a906c6d...</td>\n",
       "      <td>2018/09/28 06:29:02 UTC</td>\n",
       "      <td>data</td>\n",
       "      <td>RUNNING</td>\n",
       "    </tr>\n",
       "  </tbody>\n",
       "</table>\n",
       "</div>"
      ],
      "text/plain": [
       "    vctype  vcno           vcname vc_state         vcid  \\\n",
       "0  storage    39  handson104-disk  RUNNING  9a906c6d...   \n",
       "\n",
       "                     cdate unit_name unit_state  \n",
       "0  2018/09/28 06:29:02 UTC      data   RUNNING  "
      ]
     },
     "metadata": {},
     "output_type": "display_data"
    },
    {
     "data": {
      "text/html": [
       "<div>\n",
       "<style>\n",
       "    .dataframe thead tr:only-child th {\n",
       "        text-align: right;\n",
       "    }\n",
       "\n",
       "    .dataframe thead th {\n",
       "        text-align: left;\n",
       "    }\n",
       "\n",
       "    .dataframe tbody tr th {\n",
       "        vertical-align: top;\n",
       "    }\n",
       "</style>\n",
       "<table border=\"1\" class=\"dataframe\">\n",
       "  <thead>\n",
       "    <tr style=\"text-align: right;\">\n",
       "      <th></th>\n",
       "      <th>vcno</th>\n",
       "      <th>vcname</th>\n",
       "      <th>unit_name</th>\n",
       "      <th>unit_state</th>\n",
       "      <th>disk_no</th>\n",
       "      <th>disk_id</th>\n",
       "      <th>node_state</th>\n",
       "      <th>cloud_disk_id</th>\n",
       "      <th>cloud_disk_size</th>\n",
       "    </tr>\n",
       "  </thead>\n",
       "  <tbody>\n",
       "    <tr>\n",
       "      <th>0</th>\n",
       "      <td>39</td>\n",
       "      <td>handson104-disk</td>\n",
       "      <td>data</td>\n",
       "      <td>RUNNING</td>\n",
       "      <td>1</td>\n",
       "      <td>b30a4472...</td>\n",
       "      <td>RUNNING</td>\n",
       "      <td>vol-05352d9eb7355cdd7</td>\n",
       "      <td>8</td>\n",
       "    </tr>\n",
       "  </tbody>\n",
       "</table>\n",
       "</div>"
      ],
      "text/plain": [
       "   vcno           vcname unit_name unit_state  disk_no      disk_id  \\\n",
       "0    39  handson104-disk      data   RUNNING        1  b30a4472...   \n",
       "\n",
       "  node_state          cloud_disk_id  cloud_disk_size  \n",
       "0   RUNNING  vol-05352d9eb7355cdd7                8  "
      ]
     },
     "metadata": {},
     "output_type": "display_data"
    }
   ],
   "source": [
    "# Unitの一覧を DataFrame で表示する\n",
    "display(ugroup_disk.df_units())\n",
    "\n",
    "# VCディスクの一覧を DataFrame で表示する\n",
    "display(ugroup_disk.df_nodes())"
   ]
  },
  {
   "attachments": {},
   "cell_type": "markdown",
   "metadata": {
    "heading_collapsed": true,
    "lc_cell_meme": {
     "current": "dc6e6736-c2e7-11e8-9925-0242ac110002",
     "next": "dc6e67cc-c2e7-11e8-9925-0242ac110002",
     "previous": "dc6e6696-c2e7-11e8-9925-0242ac110002"
    }
   },
   "source": [
    "# NFSサーバ用VCノードの起動\n",
    "\n",
    "NFSサーバ用のVCノードを起動します。\n",
    "\n",
    "この節を実行すると次図の状態になります。\n",
    "\n",
    "![step2](images/104-003.png)"
   ]
  },
  {
   "cell_type": "markdown",
   "metadata": {
    "hidden": true,
    "lc_cell_meme": {
     "current": "dc6e67cc-c2e7-11e8-9925-0242ac110002",
     "next": "dc6e6862-c2e7-11e8-9925-0242ac110002",
     "previous": "dc6e6736-c2e7-11e8-9925-0242ac110002"
    }
   },
   "source": [
    "## UnitGroupの作成\n",
    "\n",
    "VCノードのためのUnitGroupを作成します。"
   ]
  },
  {
   "cell_type": "code",
   "execution_count": 11,
   "metadata": {
    "deletable": false,
    "editable": false,
    "hidden": true,
    "lc_cell_meme": {
     "current": "dc6e6862-c2e7-11e8-9925-0242ac110002",
     "next": "dc6e6902-c2e7-11e8-9925-0242ac110002",
     "previous": "dc6e67cc-c2e7-11e8-9925-0242ac110002"
    },
    "run_through_control": {
     "frozen": true
    }
   },
   "outputs": [],
   "source": [
    "unit_group = vcp.create_ugroup(\n",
    "    'handson104'       # UnitGroupの名前\n",
    ")"
   ]
  },
  {
   "cell_type": "markdown",
   "metadata": {
    "hidden": true,
    "lc_cell_meme": {
     "current": "dc6e6902-c2e7-11e8-9925-0242ac110002",
     "next": "dc6e6998-c2e7-11e8-9925-0242ac110002",
     "previous": "dc6e6862-c2e7-11e8-9925-0242ac110002"
    }
   },
   "source": [
    "UnitGroupの一覧を表示してみます。"
   ]
  },
  {
   "cell_type": "code",
   "execution_count": 12,
   "metadata": {
    "deletable": false,
    "editable": false,
    "hidden": true,
    "lc_cell_meme": {
     "current": "dc6e6998-c2e7-11e8-9925-0242ac110002",
     "next": "dc6e6a38-c2e7-11e8-9925-0242ac110002",
     "previous": "dc6e6902-c2e7-11e8-9925-0242ac110002"
    },
    "run_through_control": {
     "frozen": true
    }
   },
   "outputs": [
    {
     "data": {
      "text/html": [
       "<div>\n",
       "<style>\n",
       "    .dataframe thead tr:only-child th {\n",
       "        text-align: right;\n",
       "    }\n",
       "\n",
       "    .dataframe thead th {\n",
       "        text-align: left;\n",
       "    }\n",
       "\n",
       "    .dataframe tbody tr th {\n",
       "        vertical-align: top;\n",
       "    }\n",
       "</style>\n",
       "<table border=\"1\" class=\"dataframe\">\n",
       "  <thead>\n",
       "    <tr style=\"text-align: right;\">\n",
       "      <th></th>\n",
       "      <th>vcno</th>\n",
       "      <th>vctype</th>\n",
       "      <th>vcname</th>\n",
       "      <th>state</th>\n",
       "      <th>vcid</th>\n",
       "      <th>cdate</th>\n",
       "    </tr>\n",
       "  </thead>\n",
       "  <tbody>\n",
       "    <tr>\n",
       "      <th>0</th>\n",
       "      <td>39</td>\n",
       "      <td>storage</td>\n",
       "      <td>handson104-disk</td>\n",
       "      <td>RUNNING</td>\n",
       "      <td>9a906c6d...</td>\n",
       "      <td>2018/09/28 06:29:02 UTC</td>\n",
       "    </tr>\n",
       "    <tr>\n",
       "      <th>1</th>\n",
       "      <td>40</td>\n",
       "      <td>compute</td>\n",
       "      <td>handson104</td>\n",
       "      <td>RUNNING</td>\n",
       "      <td>37f7d717...</td>\n",
       "      <td>2018/09/28 06:30:31 UTC</td>\n",
       "    </tr>\n",
       "  </tbody>\n",
       "</table>\n",
       "</div>"
      ],
      "text/plain": [
       "   vcno   vctype           vcname    state         vcid  \\\n",
       "0    39  storage  handson104-disk  RUNNING  9a906c6d...   \n",
       "1    40  compute       handson104  RUNNING  37f7d717...   \n",
       "\n",
       "                     cdate  \n",
       "0  2018/09/28 06:29:02 UTC  \n",
       "1  2018/09/28 06:30:31 UTC  "
      ]
     },
     "execution_count": 12,
     "metadata": {},
     "output_type": "execute_result"
    }
   ],
   "source": [
    "vcp.df_ugroups()"
   ]
  },
  {
   "cell_type": "markdown",
   "metadata": {
    "hidden": true,
    "lc_cell_meme": {
     "current": "dc6e6a38-c2e7-11e8-9925-0242ac110002",
     "next": "dc6e6ae2-c2e7-11e8-9925-0242ac110002",
     "previous": "dc6e6998-c2e7-11e8-9925-0242ac110002"
    }
   },
   "source": [
    "Unit Group `handson104` にまだ Unit, VCノードが作成されていないことを確認します。"
   ]
  },
  {
   "cell_type": "code",
   "execution_count": 13,
   "metadata": {
    "deletable": false,
    "editable": false,
    "hidden": true,
    "lc_cell_meme": {
     "current": "dc6e6ae2-c2e7-11e8-9925-0242ac110002",
     "next": "dc6e6b82-c2e7-11e8-9925-0242ac110002",
     "previous": "dc6e6a38-c2e7-11e8-9925-0242ac110002"
    },
    "run_through_control": {
     "frozen": true
    }
   },
   "outputs": [
    {
     "data": {
      "text/html": [
       "<div>\n",
       "<style>\n",
       "    .dataframe thead tr:only-child th {\n",
       "        text-align: right;\n",
       "    }\n",
       "\n",
       "    .dataframe thead th {\n",
       "        text-align: left;\n",
       "    }\n",
       "\n",
       "    .dataframe tbody tr th {\n",
       "        vertical-align: top;\n",
       "    }\n",
       "</style>\n",
       "<table border=\"1\" class=\"dataframe\">\n",
       "  <thead>\n",
       "    <tr style=\"text-align: right;\">\n",
       "      <th></th>\n",
       "      <th>vctype</th>\n",
       "      <th>vcno</th>\n",
       "      <th>vcname</th>\n",
       "      <th>vc_state</th>\n",
       "      <th>vcid</th>\n",
       "      <th>cdate</th>\n",
       "      <th>unit_name</th>\n",
       "      <th>unit_state</th>\n",
       "    </tr>\n",
       "  </thead>\n",
       "  <tbody>\n",
       "  </tbody>\n",
       "</table>\n",
       "</div>"
      ],
      "text/plain": [
       "Empty DataFrame\n",
       "Columns: [vctype, vcno, vcname, vc_state, vcid, cdate, unit_name, unit_state]\n",
       "Index: []"
      ]
     },
     "metadata": {},
     "output_type": "display_data"
    },
    {
     "data": {
      "text/plain": [
       "None"
      ]
     },
     "metadata": {},
     "output_type": "display_data"
    }
   ],
   "source": [
    "# Unitの一覧を DataFrame で表示する\n",
    "display(unit_group.df_units())\n",
    "\n",
    "# VCノードの一覧を DataFrame で表示する\n",
    "display(unit_group.df_nodes())"
   ]
  },
  {
   "cell_type": "markdown",
   "metadata": {
    "hidden": true,
    "lc_cell_meme": {
     "current": "dc6e6b82-c2e7-11e8-9925-0242ac110002",
     "next": "dc6e6c18-c2e7-11e8-9925-0242ac110002",
     "previous": "dc6e6ae2-c2e7-11e8-9925-0242ac110002"
    }
   },
   "source": [
    "## VCノードのspecを指定する\n",
    "\n",
    "NFSサーバ用の`spec`を指定します。"
   ]
  },
  {
   "cell_type": "markdown",
   "metadata": {
    "hidden": true,
    "lc_cell_meme": {
     "current": "dc6e6c18-c2e7-11e8-9925-0242ac110002",
     "next": "dc6e6cb8-c2e7-11e8-9925-0242ac110002",
     "previous": "dc6e6b82-c2e7-11e8-9925-0242ac110002"
    }
   },
   "source": [
    "NFSサーバ用の`spec`ではSSHの公開鍵認証の設定に加えて、以下の設定を行います。\n",
    "\n",
    "* 事前に定めたIPアドレスを割り当てる\n",
    "* `handson104-disk` の VCディスクをアタッチする\n",
    "* NFSサーバ用のBaseコンテナに関する設定を行う"
   ]
  },
  {
   "cell_type": "markdown",
   "metadata": {
    "hidden": true,
    "lc_cell_meme": {
     "current": "dc6e6cb8-c2e7-11e8-9925-0242ac110002",
     "next": "dc6e6d4e-c2e7-11e8-9925-0242ac110002",
     "previous": "dc6e6c18-c2e7-11e8-9925-0242ac110002"
    }
   },
   "source": [
    "### spec オブジェクトを作成する"
   ]
  },
  {
   "cell_type": "markdown",
   "metadata": {
    "hidden": true,
    "lc_cell_meme": {
     "current": "dc6e6d4e-c2e7-11e8-9925-0242ac110002",
     "next": "dc6e6dee-c2e7-11e8-9925-0242ac110002",
     "previous": "dc6e6cb8-c2e7-11e8-9925-0242ac110002"
    }
   },
   "source": [
    "specオブジェクトを作成します。ここでは以下の値を指定します。\n",
    "\n",
    "* プロバイダ: `aws`\n",
    "* flavor: `small`。"
   ]
  },
  {
   "cell_type": "code",
   "execution_count": 14,
   "metadata": {
    "deletable": false,
    "editable": false,
    "hidden": true,
    "lc_cell_meme": {
     "current": "dc6e6dee-c2e7-11e8-9925-0242ac110002",
     "next": "dc6e6e84-c2e7-11e8-9925-0242ac110002",
     "previous": "dc6e6d4e-c2e7-11e8-9925-0242ac110002"
    },
    "run_through_control": {
     "frozen": true
    }
   },
   "outputs": [],
   "source": [
    "spec_server = VcpSDK.get_spec('aws', 'small')"
   ]
  },
  {
   "cell_type": "markdown",
   "metadata": {
    "hidden": true,
    "lc_cell_meme": {
     "current": "dc6e6e84-c2e7-11e8-9925-0242ac110002",
     "next": "dc6e6f1a-c2e7-11e8-9925-0242ac110002",
     "previous": "dc6e6dee-c2e7-11e8-9925-0242ac110002"
    }
   },
   "source": [
    "### sshの鍵ファイルを設定する"
   ]
  },
  {
   "cell_type": "markdown",
   "metadata": {
    "hidden": true,
    "lc_cell_meme": {
     "current": "dc6e6f1a-c2e7-11e8-9925-0242ac110002",
     "next": "dc6e6fba-c2e7-11e8-9925-0242ac110002",
     "previous": "dc6e6e84-c2e7-11e8-9925-0242ac110002"
    }
   },
   "source": [
    "VCノードにsshでログインするための秘密鍵のパスを設定します。"
   ]
  },
  {
   "cell_type": "code",
   "execution_count": 15,
   "metadata": {
    "deletable": false,
    "editable": false,
    "hidden": true,
    "lc_cell_meme": {
     "current": "dc6e6fba-c2e7-11e8-9925-0242ac110002",
     "next": "dc6e7064-c2e7-11e8-9925-0242ac110002",
     "previous": "dc6e6f1a-c2e7-11e8-9925-0242ac110002"
    },
    "run_through_control": {
     "frozen": true
    }
   },
   "outputs": [],
   "source": [
    "import os\n",
    "ssh_private_key = os.path.expanduser('~/.ssh/id_rsa')"
   ]
  },
  {
   "cell_type": "markdown",
   "metadata": {
    "hidden": true,
    "lc_cell_meme": {
     "current": "dc6e7064-c2e7-11e8-9925-0242ac110002",
     "next": "dc6e7104-c2e7-11e8-9925-0242ac110002",
     "previous": "dc6e6fba-c2e7-11e8-9925-0242ac110002"
    }
   },
   "source": [
    "spec に設定が必要となるのは公開鍵なので `ssh-keygen -y` コマンドで秘密鍵から公開鍵を取り出します。さらに公開鍵を`spec`が要求するフォーマット(Base64)に変換して `spec` オブジェクトに設定します。"
   ]
  },
  {
   "cell_type": "code",
   "execution_count": 16,
   "metadata": {
    "deletable": false,
    "editable": false,
    "hidden": true,
    "lc_cell_meme": {
     "current": "dc6e7104-c2e7-11e8-9925-0242ac110002",
     "next": "dc6e71a4-c2e7-11e8-9925-0242ac110002",
     "previous": "dc6e7064-c2e7-11e8-9925-0242ac110002"
    },
    "run_through_control": {
     "frozen": true
    }
   },
   "outputs": [],
   "source": [
    "out = !ssh-keygen -y -f {ssh_private_key} | base64 -w 0\n",
    "b64_ssh_public_key = out[0]\n",
    "spec_server.params_e.append('AUTHORIZED_KEYS={}'.format(b64_ssh_public_key))"
   ]
  },
  {
   "cell_type": "markdown",
   "metadata": {
    "hidden": true,
    "lc_cell_meme": {
     "current": "dc6e71a4-c2e7-11e8-9925-0242ac110002",
     "next": "dc6e723a-c2e7-11e8-9925-0242ac110002",
     "previous": "dc6e7104-c2e7-11e8-9925-0242ac110002"
    }
   },
   "source": [
    "### VCノードのIPアドレスを設定する"
   ]
  },
  {
   "cell_type": "markdown",
   "metadata": {
    "hidden": true,
    "lc_cell_meme": {
     "current": "dc6e723a-c2e7-11e8-9925-0242ac110002",
     "next": "dc6e72da-c2e7-11e8-9925-0242ac110002",
     "previous": "dc6e71a4-c2e7-11e8-9925-0242ac110002"
    }
   },
   "source": [
    "NFSサーバに固定のIPアドレスを割り当てるための設定を `spec` に行います。次のセルの `server_ip_address`にNFSサーバに割り当てる IPアドレスを指定してください。\n",
    "\n",
    "> 割り当て可能な IP アドレスの範囲は[VCP Manager Web UI](https://tokyo01.vcloud.nii.ac.jp/vcp/v1/ui/occmgr/menu/occtrs) から取得することができます。"
   ]
  },
  {
   "cell_type": "code",
   "execution_count": 17,
   "metadata": {
    "deletable": false,
    "editable": false,
    "hidden": true,
    "lc_cell_meme": {
     "current": "dc6e72da-c2e7-11e8-9925-0242ac110002",
     "next": "dc6e737a-c2e7-11e8-9925-0242ac110002",
     "previous": "dc6e723a-c2e7-11e8-9925-0242ac110002"
    },
    "run_through_control": {
     "frozen": true
    }
   },
   "outputs": [],
   "source": [
    "# NFSサーバのIPアドレス\n",
    "server_ip_address = '172.30.2.10'\n",
    "\n",
    "# spec_server にIPアドレスを設定する\n",
    "spec_server.ip_address_list = [server_ip_address]"
   ]
  },
  {
   "cell_type": "markdown",
   "metadata": {
    "hidden": true,
    "lc_cell_meme": {
     "current": "dc6e737a-c2e7-11e8-9925-0242ac110002",
     "next": "dc6e7456-c2e7-11e8-9925-0242ac110002",
     "previous": "dc6e72da-c2e7-11e8-9925-0242ac110002"
    }
   },
   "source": [
    "### VCディスクをアタッチする"
   ]
  },
  {
   "cell_type": "markdown",
   "metadata": {
    "hidden": true,
    "lc_cell_meme": {
     "current": "dc6e7456-c2e7-11e8-9925-0242ac110002",
     "next": "dc6e7514-c2e7-11e8-9925-0242ac110002",
     "previous": "dc6e737a-c2e7-11e8-9925-0242ac110002"
    }
   },
   "source": [
    "VCディスクをVCノードにアタッチするには(Amazon EBSの)ボリュームIDを`spec`オブジェクトに設定する必要があります。\n",
    "\n",
    "VCディスクのボリュームIDを取得します。"
   ]
  },
  {
   "cell_type": "code",
   "execution_count": 18,
   "metadata": {
    "deletable": false,
    "editable": false,
    "hidden": true,
    "lc_cell_meme": {
     "current": "dc6e7514-c2e7-11e8-9925-0242ac110002",
     "next": "dc6e75be-c2e7-11e8-9925-0242ac110002",
     "previous": "dc6e7456-c2e7-11e8-9925-0242ac110002"
    },
    "run_through_control": {
     "frozen": true
    }
   },
   "outputs": [
    {
     "name": "stdout",
     "output_type": "stream",
     "text": [
      "['vol-05352d9eb7355cdd7']\n"
     ]
    }
   ],
   "source": [
    "# VCディスクのボリュームIDを取得する\n",
    "volume_id = ugroup_disk.find_nodes(mapper=lambda x: x.cloud_disk_id)\n",
    "\n",
    "print(volume_id)"
   ]
  },
  {
   "cell_type": "markdown",
   "metadata": {
    "hidden": true,
    "lc_cell_meme": {
     "current": "dc6e75be-c2e7-11e8-9925-0242ac110002",
     "next": "dc6e765e-c2e7-11e8-9925-0242ac110002",
     "previous": "dc6e7514-c2e7-11e8-9925-0242ac110002"
    }
   },
   "source": [
    "取得したボリュームIDのリストを `spec.volume_id` に設定します。リストに複数のボリュームIDを指定した場合は対応する全てのVCディスクが一つのVCノードにアタッチされます。\n",
    "\n",
    "> VCノードにディスクをアタッチするように設定した場合は Unit に複数の VCノードを作成することが出来なくなります。"
   ]
  },
  {
   "cell_type": "code",
   "execution_count": 19,
   "metadata": {
    "deletable": false,
    "editable": false,
    "hidden": true,
    "lc_cell_meme": {
     "current": "dc6e765e-c2e7-11e8-9925-0242ac110002",
     "next": "dc6e76f4-c2e7-11e8-9925-0242ac110002",
     "previous": "dc6e75be-c2e7-11e8-9925-0242ac110002"
    },
    "run_through_control": {
     "frozen": true
    }
   },
   "outputs": [],
   "source": [
    "spec_server.volume_id = volume_id"
   ]
  },
  {
   "cell_type": "markdown",
   "metadata": {
    "hidden": true,
    "lc_cell_meme": {
     "current": "dc6e76f4-c2e7-11e8-9925-0242ac110002",
     "next": "dc6e7794-c2e7-11e8-9925-0242ac110002",
     "previous": "dc6e765e-c2e7-11e8-9925-0242ac110002"
    }
   },
   "source": [
    "> ここではVCディスクオブジェクトのリストからAmazon EBSのボリュームIDを取得してその値を`spec.volume_id`に設定しました。VCディスクのオブジェクトのリストを直接`spec.volume_id`に設定することもできます。詳しくはVCP SDKの説明資料を参照してください。"
   ]
  },
  {
   "cell_type": "markdown",
   "metadata": {
    "hidden": true,
    "lc_cell_meme": {
     "current": "dc6e7794-c2e7-11e8-9925-0242ac110002",
     "next": "dc6e782a-c2e7-11e8-9925-0242ac110002",
     "previous": "dc6e76f4-c2e7-11e8-9925-0242ac110002"
    }
   },
   "source": [
    "### NFSサーバ用のBaseコンテナに関する設定を行う"
   ]
  },
  {
   "cell_type": "markdown",
   "metadata": {
    "hidden": true,
    "lc_cell_meme": {
     "current": "dc6e782a-c2e7-11e8-9925-0242ac110002",
     "next": "dc6e78ca-c2e7-11e8-9925-0242ac110002",
     "previous": "dc6e7794-c2e7-11e8-9925-0242ac110002"
    }
   },
   "source": [
    "これまでの例ではBaseコンテナには標準のコンテナイメージを利用していました。今回起動するVCノードではNFSサーバ用のBaseコンテナイメージを利用します。まず`spec`オブジェクトにNFSサーバ用のコンテナイメージの指定を行います。"
   ]
  },
  {
   "cell_type": "code",
   "execution_count": 20,
   "metadata": {
    "deletable": false,
    "editable": false,
    "hidden": true,
    "lc_cell_meme": {
     "current": "dc6e78ca-c2e7-11e8-9925-0242ac110002",
     "next": "dc6e7960-c2e7-11e8-9925-0242ac110002",
     "previous": "dc6e782a-c2e7-11e8-9925-0242ac110002"
    },
    "run_through_control": {
     "frozen": true
    }
   },
   "outputs": [],
   "source": [
    "# NFSサーバ用のコンテナイメージを設定する\n",
    "spec_server.image = 'nfsd'"
   ]
  },
  {
   "cell_type": "markdown",
   "metadata": {
    "hidden": true,
    "lc_cell_meme": {
     "current": "dc6e7960-c2e7-11e8-9925-0242ac110002",
     "next": "dc6e7a14-c2e7-11e8-9925-0242ac110002",
     "previous": "dc6e78ca-c2e7-11e8-9925-0242ac110002"
    }
   },
   "source": [
    "Baseコンテナには `spec.params_e` に設定した値を環境変数として受け渡すことができます。これを利用してBaseコンテナの動作や設定値を変更することができます。パラメータの役割を担う環境変数はいくつかありますが、最もよく用いるのはVCノードにsshの公開鍵を登録するための`AUTHORIZED_KEYS`です。\n",
    "\n",
    "どのような環境変数がパラメータの役割を担うのかはコンテナイメージ毎に異なります。NFSサーバ用のコンテナイメージで指定可能なパラメータを以下に記します。\n",
    "\n",
    "* NFS_DOMAIN\n",
    "  - 指定された値をNFSドメインとして設定ファイル(/etc/idmapd.conf)に反映する\n",
    "* ETC_EXPORTS\n",
    "  - 指定された値を/etc/exportsに反映する。ただしbase64エンコードした値を指定する必要がある\n",
    "* ETC_FSTAB\n",
    "  - 指定された値を/etc/fstabに反映する。ただしbase64エンコードした値を指定する必要がある\n",
    "* MKDIR_LIST\n",
    "  - 指定されたディレクトリを起動時に作成する\n",
    "  - 複数のディレクトリを指定する場合は `:` で区切る\n",
    "  - 事前に作成することが必要となるマウントポイントなどのディレクトリを指定する\n",
    "  \n",
    "ここでは NFSドメインの設定のみ行います。"
   ]
  },
  {
   "cell_type": "code",
   "execution_count": 21,
   "metadata": {
    "deletable": false,
    "editable": false,
    "hidden": true,
    "lc_cell_meme": {
     "current": "dc6e7a14-c2e7-11e8-9925-0242ac110002",
     "next": "dc6e7abe-c2e7-11e8-9925-0242ac110002",
     "previous": "dc6e7960-c2e7-11e8-9925-0242ac110002"
    },
    "run_through_control": {
     "frozen": true
    }
   },
   "outputs": [],
   "source": [
    "# NFSドメインの設定\n",
    "nfs_domain = 'vcp-handson.org'\n",
    "\n",
    "spec_server.params_e.append('NFS_DOMAIN={}'.format(nfs_domain))"
   ]
  },
  {
   "cell_type": "markdown",
   "metadata": {
    "hidden": true,
    "lc_cell_meme": {
     "current": "dc6e7abe-c2e7-11e8-9925-0242ac110002",
     "next": "dc6e7b54-c2e7-11e8-9925-0242ac110002",
     "previous": "dc6e7a14-c2e7-11e8-9925-0242ac110002"
    }
   },
   "source": [
    "### specの設定内容の確認\n",
    "\n",
    "ここまで `spec` オブジェクトに設定した内容を確認してみます。"
   ]
  },
  {
   "cell_type": "code",
   "execution_count": 22,
   "metadata": {
    "deletable": false,
    "editable": false,
    "hidden": true,
    "lc_cell_meme": {
     "current": "dc6e7b54-c2e7-11e8-9925-0242ac110002",
     "next": "dc6e7bf4-c2e7-11e8-9925-0242ac110002",
     "previous": "dc6e7abe-c2e7-11e8-9925-0242ac110002"
    },
    "run_through_control": {
     "frozen": true
    },
    "scrolled": false
   },
   "outputs": [
    {
     "name": "stdout",
     "output_type": "stream",
     "text": [
      "\n",
      "========================\n",
      "aws\n",
      "------------------------\n",
      "\n",
      "    cci_version: \"1.0\"\n",
      "    name: \n",
      "    description: \n",
      "    private_network: default\n",
      "    num_nodes: 1\n",
      "    image: nfsd\n",
      "    recovery_mode: none\n",
      "    params:\n",
      "        {'v': [], 'e': ['AUTHORIZED_KEYS=c3NoLXJzYSBBQUFBQjNOemFDMXljMkVBQUFBREFRQUJBQUFCQVFDdE5KYjBIWkU0SHR0ZjV3WWhhbkQyR2RBZm9Wc0o2eVZOR3JMOWFUQ040SWtXUGZ1a1ZOOFdUTldldHp4T3cwOXlrZlZqQlFZUG9JOWhzOHYzd2hjaHRqZlFneHEvWTBvTWFLNlQ1bmdybmtMZFd6VFcxSFhhZ3A0SFdBTGtvVGNtQkhUaG9lWitKdGdkbS9ham8ySHVNblhqbHY0Y215WDVQZ3JhdU5IVDZoTEJUc2k2NzBkNWFSTTZLY3B1VVc0RS8xMHF1WklQcXhaMzJvQnFxU2V6c1gzVlV2Nnk2Um1Ldzg3eC9FUU1XVUtlemR3bHJuTWpwY3p0TTRSQzVrc0s1QWp6bC9oY3FaOGVOMjhaanVxM3RPRHNWY05SVHdzajdGWTZjaXVsbFhURndzZHhjNjM5U290VmpwWWNZSUpqWGhZTW1mTkNpdFFRamxaNVNVdUgK', 'NFS_DOMAIN=vcp-handson.org']}\n",
      "    instance_type: m4.large\n",
      "    volume_size: 20\n",
      "    volume_type: standard\n",
      "    volume_id: ['vol-05352d9eb7355cdd7']\n",
      "    cloud_image: default\n",
      "    tags: {}\n",
      "========================\n"
     ]
    }
   ],
   "source": [
    "print(spec_server)"
   ]
  },
  {
   "cell_type": "markdown",
   "metadata": {
    "hidden": true,
    "lc_cell_meme": {
     "current": "dc6e7bf4-c2e7-11e8-9925-0242ac110002",
     "next": "dc6e7c94-c2e7-11e8-9925-0242ac110002",
     "previous": "dc6e7b54-c2e7-11e8-9925-0242ac110002"
    }
   },
   "source": [
    "## Unitの作成とVCノードの起動"
   ]
  },
  {
   "cell_type": "markdown",
   "metadata": {
    "hidden": true,
    "lc_cell_meme": {
     "current": "dc6e7c94-c2e7-11e8-9925-0242ac110002",
     "next": "dc6e7d34-c2e7-11e8-9925-0242ac110002",
     "previous": "dc6e7bf4-c2e7-11e8-9925-0242ac110002"
    }
   },
   "source": [
    "起動前のUnit, VCノードの状態を確認しておきます。"
   ]
  },
  {
   "cell_type": "code",
   "execution_count": 23,
   "metadata": {
    "deletable": false,
    "editable": false,
    "hidden": true,
    "lc_cell_meme": {
     "current": "dc6e7d34-c2e7-11e8-9925-0242ac110002",
     "next": "dc6e7dca-c2e7-11e8-9925-0242ac110002",
     "previous": "dc6e7c94-c2e7-11e8-9925-0242ac110002"
    },
    "run_through_control": {
     "frozen": true
    }
   },
   "outputs": [
    {
     "data": {
      "text/html": [
       "<div>\n",
       "<style>\n",
       "    .dataframe thead tr:only-child th {\n",
       "        text-align: right;\n",
       "    }\n",
       "\n",
       "    .dataframe thead th {\n",
       "        text-align: left;\n",
       "    }\n",
       "\n",
       "    .dataframe tbody tr th {\n",
       "        vertical-align: top;\n",
       "    }\n",
       "</style>\n",
       "<table border=\"1\" class=\"dataframe\">\n",
       "  <thead>\n",
       "    <tr style=\"text-align: right;\">\n",
       "      <th></th>\n",
       "      <th>vctype</th>\n",
       "      <th>vcno</th>\n",
       "      <th>vcname</th>\n",
       "      <th>vc_state</th>\n",
       "      <th>vcid</th>\n",
       "      <th>cdate</th>\n",
       "      <th>unit_name</th>\n",
       "      <th>unit_state</th>\n",
       "    </tr>\n",
       "  </thead>\n",
       "  <tbody>\n",
       "  </tbody>\n",
       "</table>\n",
       "</div>"
      ],
      "text/plain": [
       "Empty DataFrame\n",
       "Columns: [vctype, vcno, vcname, vc_state, vcid, cdate, unit_name, unit_state]\n",
       "Index: []"
      ]
     },
     "metadata": {},
     "output_type": "display_data"
    },
    {
     "data": {
      "text/plain": [
       "None"
      ]
     },
     "metadata": {},
     "output_type": "display_data"
    }
   ],
   "source": [
    "from IPython.display import display\n",
    "\n",
    "# Unitの一覧を DataFrame で表示する\n",
    "display(unit_group.df_units())\n",
    "\n",
    "# Nodeの一覧を DataFrame で表示する\n",
    "display(unit_group.df_nodes())"
   ]
  },
  {
   "cell_type": "markdown",
   "metadata": {
    "hidden": true,
    "lc_cell_meme": {
     "current": "dc6e7dca-c2e7-11e8-9925-0242ac110002",
     "next": "dc6e7e60-c2e7-11e8-9925-0242ac110002",
     "previous": "dc6e7d34-c2e7-11e8-9925-0242ac110002"
    }
   },
   "source": [
    "Unitの作成とVCノードの起動を行います。\n",
    "\n",
    "> 処理が完了するまで1分半～2分程度かかります。"
   ]
  },
  {
   "cell_type": "code",
   "execution_count": 24,
   "metadata": {
    "deletable": false,
    "editable": false,
    "hidden": true,
    "lc_cell_meme": {
     "current": "dc6e7e60-c2e7-11e8-9925-0242ac110002",
     "next": "dc6e7f00-c2e7-11e8-9925-0242ac110002",
     "previous": "dc6e7dca-c2e7-11e8-9925-0242ac110002"
    },
    "run_through_control": {
     "frozen": true
    }
   },
   "outputs": [
    {
     "name": "stdout",
     "output_type": "stream",
     "text": [
      "2018-09-28 15:31:54,084 - INFO - BOOTING ... 0 sec\n",
      "2018-09-28 15:31:59,294 - INFO - BOOTING ... 5 sec\n",
      "2018-09-28 15:32:04,490 - INFO - BOOTING ... 10 sec\n",
      "2018-09-28 15:32:09,711 - INFO - BOOTING ... 15 sec\n",
      "2018-09-28 15:32:14,917 - INFO - BOOTING ... 20 sec\n",
      "2018-09-28 15:32:20,126 - INFO - BOOTING ... 25 sec\n",
      "2018-09-28 15:32:25,339 - INFO - BOOTING ... 30 sec\n",
      "2018-09-28 15:32:30,547 - INFO - BOOTING ... 35 sec\n",
      "2018-09-28 15:32:35,750 - INFO - BOOTING ... 40 sec\n",
      "2018-09-28 15:32:40,948 - INFO - BOOTING ... 45 sec\n",
      "2018-09-28 15:32:46,141 - INFO - BOOTING ... 50 sec\n",
      "2018-09-28 15:32:51,342 - INFO - BOOTING ... 55 sec\n",
      "2018-09-28 15:32:56,537 - INFO - BOOTING ... 60 sec\n",
      "2018-09-28 15:33:01,739 - INFO - BOOTING ... 65 sec\n",
      "2018-09-28 15:33:06,934 - INFO - BOOTING ... 70 sec\n",
      "2018-09-28 15:33:12,154 - INFO - BOOTING ... 75 sec\n",
      "2018-09-28 15:33:17,358 - INFO - BOOTING ... 80 sec\n",
      "2018-09-28 15:33:22,572 - INFO - BOOTING ... 85 sec\n",
      "2018-09-28 15:33:27,787 - INFO - unit nfsServer is RUNNING\n"
     ]
    }
   ],
   "source": [
    "# Unitの作成（同時に VCノードが作成される）\n",
    "unit_server = unit_group.create_unit('nfsServer', spec_server)"
   ]
  },
  {
   "cell_type": "markdown",
   "metadata": {
    "hidden": true,
    "lc_cell_meme": {
     "current": "dc6e7f00-c2e7-11e8-9925-0242ac110002",
     "next": "dc6e7f96-c2e7-11e8-9925-0242ac110002",
     "previous": "dc6e7e60-c2e7-11e8-9925-0242ac110002"
    }
   },
   "source": [
    "起動したUnit, VCノードの一覧を表示します。"
   ]
  },
  {
   "cell_type": "code",
   "execution_count": 25,
   "metadata": {
    "deletable": false,
    "editable": false,
    "hidden": true,
    "lc_cell_meme": {
     "current": "dc6e7f96-c2e7-11e8-9925-0242ac110002",
     "next": "dc6e802c-c2e7-11e8-9925-0242ac110002",
     "previous": "dc6e7f00-c2e7-11e8-9925-0242ac110002"
    },
    "run_through_control": {
     "frozen": true
    },
    "scrolled": false
   },
   "outputs": [
    {
     "data": {
      "text/html": [
       "<div>\n",
       "<style>\n",
       "    .dataframe thead tr:only-child th {\n",
       "        text-align: right;\n",
       "    }\n",
       "\n",
       "    .dataframe thead th {\n",
       "        text-align: left;\n",
       "    }\n",
       "\n",
       "    .dataframe tbody tr th {\n",
       "        vertical-align: top;\n",
       "    }\n",
       "</style>\n",
       "<table border=\"1\" class=\"dataframe\">\n",
       "  <thead>\n",
       "    <tr style=\"text-align: right;\">\n",
       "      <th></th>\n",
       "      <th>vctype</th>\n",
       "      <th>vcno</th>\n",
       "      <th>vcname</th>\n",
       "      <th>vc_state</th>\n",
       "      <th>vcid</th>\n",
       "      <th>cdate</th>\n",
       "      <th>unit_name</th>\n",
       "      <th>unit_state</th>\n",
       "    </tr>\n",
       "  </thead>\n",
       "  <tbody>\n",
       "    <tr>\n",
       "      <th>0</th>\n",
       "      <td>compute</td>\n",
       "      <td>40</td>\n",
       "      <td>handson104</td>\n",
       "      <td>RUNNING</td>\n",
       "      <td>37f7d717...</td>\n",
       "      <td>2018/09/28 06:30:31 UTC</td>\n",
       "      <td>nfsServer</td>\n",
       "      <td>RUNNING</td>\n",
       "    </tr>\n",
       "  </tbody>\n",
       "</table>\n",
       "</div>"
      ],
      "text/plain": [
       "    vctype  vcno      vcname vc_state         vcid                    cdate  \\\n",
       "0  compute    40  handson104  RUNNING  37f7d717...  2018/09/28 06:30:31 UTC   \n",
       "\n",
       "   unit_name unit_state  \n",
       "0  nfsServer    RUNNING  "
      ]
     },
     "metadata": {},
     "output_type": "display_data"
    },
    {
     "data": {
      "text/html": [
       "<div>\n",
       "<style>\n",
       "    .dataframe thead tr:only-child th {\n",
       "        text-align: right;\n",
       "    }\n",
       "\n",
       "    .dataframe thead th {\n",
       "        text-align: left;\n",
       "    }\n",
       "\n",
       "    .dataframe tbody tr th {\n",
       "        vertical-align: top;\n",
       "    }\n",
       "</style>\n",
       "<table border=\"1\" class=\"dataframe\">\n",
       "  <thead>\n",
       "    <tr style=\"text-align: right;\">\n",
       "      <th></th>\n",
       "      <th>vcno</th>\n",
       "      <th>vcname</th>\n",
       "      <th>unit_name</th>\n",
       "      <th>unit_state</th>\n",
       "      <th>node_no</th>\n",
       "      <th>node_id</th>\n",
       "      <th>node_state</th>\n",
       "      <th>cloud_instance_address</th>\n",
       "      <th>cloud_instance_id</th>\n",
       "      <th>cloud_instance_name</th>\n",
       "      <th>volumes</th>\n",
       "    </tr>\n",
       "  </thead>\n",
       "  <tbody>\n",
       "    <tr>\n",
       "      <th>0</th>\n",
       "      <td>40</td>\n",
       "      <td>handson104</td>\n",
       "      <td>nfsServer</td>\n",
       "      <td>RUNNING</td>\n",
       "      <td>1</td>\n",
       "      <td>672226cc...</td>\n",
       "      <td>RUNNING</td>\n",
       "      <td>172.30.2.10</td>\n",
       "      <td>i-0071f4bf83ff9d223</td>\n",
       "      <td>VCP-020661f0-37f7d717</td>\n",
       "      <td>exists</td>\n",
       "    </tr>\n",
       "  </tbody>\n",
       "</table>\n",
       "</div>"
      ],
      "text/plain": [
       "   vcno      vcname  unit_name unit_state  node_no      node_id node_state  \\\n",
       "0    40  handson104  nfsServer    RUNNING        1  672226cc...    RUNNING   \n",
       "\n",
       "  cloud_instance_address    cloud_instance_id    cloud_instance_name volumes  \n",
       "0            172.30.2.10  i-0071f4bf83ff9d223  VCP-020661f0-37f7d717  exists  "
      ]
     },
     "metadata": {},
     "output_type": "display_data"
    }
   ],
   "source": [
    "# Unitの一覧を DataFrame で表示する\n",
    "display(unit_group.df_units())\n",
    "\n",
    "# Nodeの一覧を DataFrame で表示する\n",
    "display(unit_group.df_nodes())"
   ]
  },
  {
   "cell_type": "markdown",
   "metadata": {
    "hidden": true,
    "lc_cell_meme": {
     "current": "dc6e802c-c2e7-11e8-9925-0242ac110002",
     "next": "dc6e80cc-c2e7-11e8-9925-0242ac110002",
     "previous": "dc6e7f96-c2e7-11e8-9925-0242ac110002"
    }
   },
   "source": [
    "起動したVCノード に対して `ping` を行ってみます。"
   ]
  },
  {
   "cell_type": "code",
   "execution_count": 26,
   "metadata": {
    "deletable": false,
    "editable": false,
    "hidden": true,
    "lc_cell_meme": {
     "current": "dc6e80cc-c2e7-11e8-9925-0242ac110002",
     "next": "dc6e8162-c2e7-11e8-9925-0242ac110002",
     "previous": "dc6e802c-c2e7-11e8-9925-0242ac110002"
    },
    "run_through_control": {
     "frozen": true
    }
   },
   "outputs": [
    {
     "name": "stdout",
     "output_type": "stream",
     "text": [
      "PING 172.30.2.10 (172.30.2.10): 56 data bytes\n",
      "64 bytes from 172.30.2.10: icmp_seq=2 ttl=63 time=0.332 ms\n",
      "64 bytes from 172.30.2.10: icmp_seq=3 ttl=63 time=0.282 ms\n",
      "64 bytes from 172.30.2.10: icmp_seq=4 ttl=63 time=0.288 ms\n",
      "--- 172.30.2.10 ping statistics ---\n",
      "5 packets transmitted, 3 packets received, 40% packet loss\n",
      "round-trip min/avg/max/stddev = 0.282/0.301/0.332/0.000 ms\n"
     ]
    }
   ],
   "source": [
    "!ping -c 5 {server_ip_address}"
   ]
  },
  {
   "cell_type": "markdown",
   "metadata": {
    "hidden": true,
    "lc_cell_meme": {
     "current": "dc6e8162-c2e7-11e8-9925-0242ac110002",
     "next": "dc6e8202-c2e7-11e8-9925-0242ac110002",
     "previous": "dc6e80cc-c2e7-11e8-9925-0242ac110002"
    }
   },
   "source": [
    "## Ansible の設定"
   ]
  },
  {
   "cell_type": "markdown",
   "metadata": {
    "hidden": true,
    "lc_cell_meme": {
     "current": "dc6e8202-c2e7-11e8-9925-0242ac110002",
     "next": "dc6e8298-c2e7-11e8-9925-0242ac110002",
     "previous": "dc6e8162-c2e7-11e8-9925-0242ac110002"
    }
   },
   "source": [
    "VCノードの操作には [Ansible](https://www.ansible.com/) を用いるので、その設定を行います。\n",
    "\n",
    "まず、起動したVCノードのIPアドレスをインベントリに登録します。グループ名は Unit名に合わせて `nfsServer`とします。"
   ]
  },
  {
   "cell_type": "code",
   "execution_count": 27,
   "metadata": {
    "deletable": false,
    "editable": false,
    "hidden": true,
    "lc_cell_meme": {
     "current": "dc6e8298-c2e7-11e8-9925-0242ac110002",
     "next": "dc6e832e-c2e7-11e8-9925-0242ac110002",
     "previous": "dc6e8202-c2e7-11e8-9925-0242ac110002"
    },
    "run_through_control": {
     "frozen": true
    }
   },
   "outputs": [
    {
     "name": "stdout",
     "output_type": "stream",
     "text": [
      "[nfsServer]\r\n",
      "172.30.2.10\r\n"
     ]
    }
   ],
   "source": [
    "# ./hosts に追記する\n",
    "with open('hosts', 'a') as f:\n",
    "    f.write(\"[{}]\\n\".format(unit_server.name))\n",
    "    for addr in unit_server.find_ip_addresses():\n",
    "        f.write(\"{}\\n\".format(addr))\n",
    "\n",
    "# ./hosts の内容を表示する\n",
    "!cat hosts"
   ]
  },
  {
   "cell_type": "markdown",
   "metadata": {
    "hidden": true,
    "lc_cell_meme": {
     "current": "dc6e832e-c2e7-11e8-9925-0242ac110002",
     "next": "dc6e83c4-c2e7-11e8-9925-0242ac110002",
     "previous": "dc6e8298-c2e7-11e8-9925-0242ac110002"
    }
   },
   "source": [
    "インベントリは次のセルを実行すると表示されるリンクからも編集することができます。"
   ]
  },
  {
   "cell_type": "code",
   "execution_count": 28,
   "metadata": {
    "deletable": false,
    "editable": false,
    "hidden": true,
    "lc_cell_meme": {
     "current": "dc6e83c4-c2e7-11e8-9925-0242ac110002",
     "next": "dc6e8464-c2e7-11e8-9925-0242ac110002",
     "previous": "dc6e832e-c2e7-11e8-9925-0242ac110002"
    },
    "run_through_control": {
     "frozen": true
    }
   },
   "outputs": [
    {
     "data": {
      "text/html": [
       "<a href=\"/red/edit/handson/vcp-tutorial/hosts\" target=\"_blank\">インベントリ</a>"
      ],
      "text/plain": [
       "<IPython.core.display.HTML object>"
      ]
     },
     "execution_count": 28,
     "metadata": {},
     "output_type": "execute_result"
    }
   ],
   "source": [
    "%run scripts/nbutils.py\n",
    "nb_html_link(os.path.abspath('hosts'), 'インベントリ')"
   ]
  },
  {
   "cell_type": "markdown",
   "metadata": {
    "hidden": true,
    "lc_cell_meme": {
     "current": "dc6e8464-c2e7-11e8-9925-0242ac110002",
     "next": "dc6e84fa-c2e7-11e8-9925-0242ac110002",
     "previous": "dc6e83c4-c2e7-11e8-9925-0242ac110002"
    }
   },
   "source": [
    "カレントディレクトリの `hosts`ファイルをインベントリとして Ansible が認識するようにする設定を `ansible.cfg`に書き込みます。"
   ]
  },
  {
   "cell_type": "code",
   "execution_count": 29,
   "metadata": {
    "deletable": false,
    "editable": false,
    "hidden": true,
    "lc_cell_meme": {
     "current": "dc6e84fa-c2e7-11e8-9925-0242ac110002",
     "next": "dc6e859a-c2e7-11e8-9925-0242ac110002",
     "previous": "dc6e8464-c2e7-11e8-9925-0242ac110002"
    },
    "run_through_control": {
     "frozen": true
    }
   },
   "outputs": [
    {
     "name": "stdout",
     "output_type": "stream",
     "text": [
      "[defaults]\r\n",
      "inventory = /notebooks/notebook/handson/vcp-tutorial/hosts\r\n"
     ]
    }
   ],
   "source": [
    "if not os.path.exists('ansible.cfg'):\n",
    "    # ansible.cfgが存在しない場合のみ作成する\n",
    "    with open('ansible.cfg', 'w') as f:\n",
    "        f.write('''[defaults]\n",
    "inventory = {}\n",
    "'''.format(os.path.abspath('./hosts')))\n",
    "    \n",
    "!cat ansible.cfg"
   ]
  },
  {
   "cell_type": "markdown",
   "metadata": {
    "hidden": true,
    "lc_cell_meme": {
     "current": "dc6e859a-c2e7-11e8-9925-0242ac110002",
     "next": "dc6e8630-c2e7-11e8-9925-0242ac110002",
     "previous": "dc6e84fa-c2e7-11e8-9925-0242ac110002"
    }
   },
   "source": [
    "VCノードに接続する際のsshの設定を Ansible の変数ファイルに格納しておきます。"
   ]
  },
  {
   "cell_type": "code",
   "execution_count": 30,
   "metadata": {
    "deletable": false,
    "editable": false,
    "hidden": true,
    "lc_cell_meme": {
     "current": "dc6e8630-c2e7-11e8-9925-0242ac110002",
     "next": "dc6e86d0-c2e7-11e8-9925-0242ac110002",
     "previous": "dc6e859a-c2e7-11e8-9925-0242ac110002"
    },
    "run_through_control": {
     "frozen": true
    }
   },
   "outputs": [
    {
     "name": "stdout",
     "output_type": "stream",
     "text": [
      "ansible_ssh_extra_args: -o StrictHostKeyChecking=no -o UserKnownHostsFile=/dev/null\r\n",
      "ansible_ssh_private_key_file: /home/bit_kun/.ssh/id_rsa\r\n",
      "ansible_user: root\r\n"
     ]
    }
   ],
   "source": [
    "import yaml\n",
    "\n",
    "# ansibleでVCノードに接続する際の設定\n",
    "ansible_params = {\n",
    "    'ansible_user': 'root',\n",
    "    'ansible_ssh_extra_args': '-o StrictHostKeyChecking=no -o UserKnownHostsFile=/dev/null',\n",
    "    'ansible_ssh_private_key_file': os.path.abspath(ssh_private_key),\n",
    "}\n",
    "\n",
    "# group_vars への書き込み\n",
    "!mkdir -p group_vars\n",
    "vc_group_vars = os.path.abspath('group_vars/{}.yml'.format(unit_server.name))\n",
    "with open(vc_group_vars, 'w') as f:\n",
    "    yaml.dump(ansible_params, stream=f, default_flow_style=False)\n",
    "\n",
    "!cat {vc_group_vars}"
   ]
  },
  {
   "cell_type": "markdown",
   "metadata": {
    "hidden": true,
    "lc_cell_meme": {
     "current": "dc6e86d0-c2e7-11e8-9925-0242ac110002",
     "next": "dc6e8766-c2e7-11e8-9925-0242ac110002",
     "previous": "dc6e8630-c2e7-11e8-9925-0242ac110002"
    }
   },
   "source": [
    "Ansible で VCノードに接続できるか確認します。"
   ]
  },
  {
   "cell_type": "code",
   "execution_count": 31,
   "metadata": {
    "deletable": false,
    "editable": false,
    "hidden": true,
    "lc_cell_meme": {
     "current": "dc6e8766-c2e7-11e8-9925-0242ac110002",
     "next": "dc6e87fc-c2e7-11e8-9925-0242ac110002",
     "previous": "dc6e86d0-c2e7-11e8-9925-0242ac110002"
    },
    "run_through_control": {
     "frozen": true
    },
    "scrolled": true
   },
   "outputs": [
    {
     "name": "stdout",
     "output_type": "stream",
     "text": [
      "\u001b[0;32m172.30.2.10 | SUCCESS => {\u001b[0m\r\n",
      "\u001b[0;32m    \"changed\": false, \u001b[0m\r\n",
      "\u001b[0;32m    \"failed\": false, \u001b[0m\r\n",
      "\u001b[0;32m    \"ping\": \"pong\"\u001b[0m\r\n",
      "\u001b[0;32m}\u001b[0m\r\n"
     ]
    }
   ],
   "source": [
    "!ansible {unit_server.name} -m ping"
   ]
  },
  {
   "attachments": {},
   "cell_type": "markdown",
   "metadata": {
    "heading_collapsed": true,
    "lc_cell_meme": {
     "current": "dc6e87fc-c2e7-11e8-9925-0242ac110002",
     "next": "dc6e8892-c2e7-11e8-9925-0242ac110002",
     "previous": "dc6e8766-c2e7-11e8-9925-0242ac110002"
    }
   },
   "source": [
    "# NFSクライアント用VCノードの起動\n",
    "\n",
    "NFSクライアント用のVCノードを起動します。\n",
    "\n",
    "この節を実行すると次図の状態になります。\n",
    "\n",
    "![step3](images/104-004.png)"
   ]
  },
  {
   "cell_type": "markdown",
   "metadata": {
    "hidden": true,
    "lc_cell_meme": {
     "current": "dc6e8892-c2e7-11e8-9925-0242ac110002",
     "next": "dc6e8932-c2e7-11e8-9925-0242ac110002",
     "previous": "dc6e87fc-c2e7-11e8-9925-0242ac110002"
    }
   },
   "source": [
    "## VCノードのspecを指定する\n",
    "\n",
    "NFSクライアント用の`spec`を指定します。"
   ]
  },
  {
   "cell_type": "markdown",
   "metadata": {
    "hidden": true,
    "lc_cell_meme": {
     "current": "dc6e8932-c2e7-11e8-9925-0242ac110002",
     "next": "dc6e89c8-c2e7-11e8-9925-0242ac110002",
     "previous": "dc6e8892-c2e7-11e8-9925-0242ac110002"
    }
   },
   "source": [
    "VCディスクをアタッチしない、NFSサーバの設定を行わない等、NFSサーバ用のVCノードとは設定が異なるので新たなUnitを作成します。このUnitではsshの公開鍵認証の設定のみ行います。"
   ]
  },
  {
   "cell_type": "markdown",
   "metadata": {
    "hidden": true,
    "lc_cell_meme": {
     "current": "dc6e89c8-c2e7-11e8-9925-0242ac110002",
     "next": "dc6e8a5e-c2e7-11e8-9925-0242ac110002",
     "previous": "dc6e8932-c2e7-11e8-9925-0242ac110002"
    }
   },
   "source": [
    "### spec オブジェクトを作成する"
   ]
  },
  {
   "cell_type": "markdown",
   "metadata": {
    "hidden": true,
    "lc_cell_meme": {
     "current": "dc6e8a5e-c2e7-11e8-9925-0242ac110002",
     "next": "dc6e8af4-c2e7-11e8-9925-0242ac110002",
     "previous": "dc6e89c8-c2e7-11e8-9925-0242ac110002"
    }
   },
   "source": [
    "NFSクライアント用のspecオブジェクトを作成します。ここでは以下の値を指定します。\n",
    "\n",
    "* プロバイダ: `aws`\n",
    "* flavor: `small`"
   ]
  },
  {
   "cell_type": "code",
   "execution_count": 32,
   "metadata": {
    "deletable": false,
    "editable": false,
    "hidden": true,
    "lc_cell_meme": {
     "current": "dc6e8af4-c2e7-11e8-9925-0242ac110002",
     "next": "dc6e8b94-c2e7-11e8-9925-0242ac110002",
     "previous": "dc6e8a5e-c2e7-11e8-9925-0242ac110002"
    },
    "run_through_control": {
     "frozen": true
    }
   },
   "outputs": [],
   "source": [
    "spec_client = VcpSDK.get_spec('aws', 'small')"
   ]
  },
  {
   "cell_type": "markdown",
   "metadata": {
    "hidden": true,
    "lc_cell_meme": {
     "current": "dc6e8b94-c2e7-11e8-9925-0242ac110002",
     "next": "dc6e8c2a-c2e7-11e8-9925-0242ac110002",
     "previous": "dc6e8af4-c2e7-11e8-9925-0242ac110002"
    }
   },
   "source": [
    "### sshの鍵ファイルを設定する"
   ]
  },
  {
   "cell_type": "markdown",
   "metadata": {
    "hidden": true,
    "lc_cell_meme": {
     "current": "dc6e8c2a-c2e7-11e8-9925-0242ac110002",
     "next": "dc6e8cc0-c2e7-11e8-9925-0242ac110002",
     "previous": "dc6e8b94-c2e7-11e8-9925-0242ac110002"
    }
   },
   "source": [
    "VCノードに登録するsshの公開鍵を `spec`オブジェクトに設定します。先ほどNFSサーバ用Unitで設定したのと同じ値を指定しています。"
   ]
  },
  {
   "cell_type": "code",
   "execution_count": 33,
   "metadata": {
    "deletable": false,
    "editable": false,
    "hidden": true,
    "lc_cell_meme": {
     "current": "dc6e8cc0-c2e7-11e8-9925-0242ac110002",
     "next": "dc6e8d56-c2e7-11e8-9925-0242ac110002",
     "previous": "dc6e8c2a-c2e7-11e8-9925-0242ac110002"
    },
    "run_through_control": {
     "frozen": true
    }
   },
   "outputs": [],
   "source": [
    "spec_client.params_e.append('AUTHORIZED_KEYS={}'.format(b64_ssh_public_key))"
   ]
  },
  {
   "cell_type": "markdown",
   "metadata": {
    "hidden": true,
    "lc_cell_meme": {
     "current": "dc6e8d56-c2e7-11e8-9925-0242ac110002",
     "next": "dc6e8df6-c2e7-11e8-9925-0242ac110002",
     "previous": "dc6e8cc0-c2e7-11e8-9925-0242ac110002"
    }
   },
   "source": [
    "### specの設定内容の確認\n",
    "\n",
    "`spec` オブジェクトの設定内容を確認してみます。"
   ]
  },
  {
   "cell_type": "code",
   "execution_count": 34,
   "metadata": {
    "deletable": false,
    "editable": false,
    "hidden": true,
    "lc_cell_meme": {
     "current": "dc6e8df6-c2e7-11e8-9925-0242ac110002",
     "next": "dc6e8e8c-c2e7-11e8-9925-0242ac110002",
     "previous": "dc6e8d56-c2e7-11e8-9925-0242ac110002"
    },
    "run_through_control": {
     "frozen": true
    }
   },
   "outputs": [
    {
     "name": "stdout",
     "output_type": "stream",
     "text": [
      "\n",
      "========================\n",
      "aws\n",
      "------------------------\n",
      "\n",
      "    cci_version: \"1.0\"\n",
      "    name: \n",
      "    description: \n",
      "    private_network: default\n",
      "    num_nodes: 1\n",
      "    image: vcp/base:1.3\n",
      "    recovery_mode: none\n",
      "    params:\n",
      "        {'v': [], 'e': ['AUTHORIZED_KEYS=c3NoLXJzYSBBQUFBQjNOemFDMXljMkVBQUFBREFRQUJBQUFCQVFDdE5KYjBIWkU0SHR0ZjV3WWhhbkQyR2RBZm9Wc0o2eVZOR3JMOWFUQ040SWtXUGZ1a1ZOOFdUTldldHp4T3cwOXlrZlZqQlFZUG9JOWhzOHYzd2hjaHRqZlFneHEvWTBvTWFLNlQ1bmdybmtMZFd6VFcxSFhhZ3A0SFdBTGtvVGNtQkhUaG9lWitKdGdkbS9ham8ySHVNblhqbHY0Y215WDVQZ3JhdU5IVDZoTEJUc2k2NzBkNWFSTTZLY3B1VVc0RS8xMHF1WklQcXhaMzJvQnFxU2V6c1gzVlV2Nnk2Um1Ldzg3eC9FUU1XVUtlemR3bHJuTWpwY3p0TTRSQzVrc0s1QWp6bC9oY3FaOGVOMjhaanVxM3RPRHNWY05SVHdzajdGWTZjaXVsbFhURndzZHhjNjM5U290VmpwWWNZSUpqWGhZTW1mTkNpdFFRamxaNVNVdUgK']}\n",
      "    instance_type: m4.large\n",
      "    volume_size: 20\n",
      "    volume_type: standard\n",
      "    volume_id: []\n",
      "    cloud_image: default\n",
      "    tags: {}\n",
      "========================\n"
     ]
    }
   ],
   "source": [
    "print(spec_client)"
   ]
  },
  {
   "cell_type": "markdown",
   "metadata": {
    "hidden": true,
    "lc_cell_meme": {
     "current": "dc6e8e8c-c2e7-11e8-9925-0242ac110002",
     "next": "dc6e8f2c-c2e7-11e8-9925-0242ac110002",
     "previous": "dc6e8df6-c2e7-11e8-9925-0242ac110002"
    }
   },
   "source": [
    "## Unitの作成とVCノードの起動"
   ]
  },
  {
   "cell_type": "markdown",
   "metadata": {
    "hidden": true,
    "lc_cell_meme": {
     "current": "dc6e8f2c-c2e7-11e8-9925-0242ac110002",
     "next": "dc6e8fcc-c2e7-11e8-9925-0242ac110002",
     "previous": "dc6e8e8c-c2e7-11e8-9925-0242ac110002"
    }
   },
   "source": [
    "起動前のUnit, Nodeの状態を確認しておきます。"
   ]
  },
  {
   "cell_type": "code",
   "execution_count": 35,
   "metadata": {
    "deletable": false,
    "editable": false,
    "hidden": true,
    "lc_cell_meme": {
     "current": "dc6e8fcc-c2e7-11e8-9925-0242ac110002",
     "next": "dc6e9076-c2e7-11e8-9925-0242ac110002",
     "previous": "dc6e8f2c-c2e7-11e8-9925-0242ac110002"
    },
    "run_through_control": {
     "frozen": true
    }
   },
   "outputs": [
    {
     "data": {
      "text/html": [
       "<div>\n",
       "<style>\n",
       "    .dataframe thead tr:only-child th {\n",
       "        text-align: right;\n",
       "    }\n",
       "\n",
       "    .dataframe thead th {\n",
       "        text-align: left;\n",
       "    }\n",
       "\n",
       "    .dataframe tbody tr th {\n",
       "        vertical-align: top;\n",
       "    }\n",
       "</style>\n",
       "<table border=\"1\" class=\"dataframe\">\n",
       "  <thead>\n",
       "    <tr style=\"text-align: right;\">\n",
       "      <th></th>\n",
       "      <th>vctype</th>\n",
       "      <th>vcno</th>\n",
       "      <th>vcname</th>\n",
       "      <th>vc_state</th>\n",
       "      <th>vcid</th>\n",
       "      <th>cdate</th>\n",
       "      <th>unit_name</th>\n",
       "      <th>unit_state</th>\n",
       "    </tr>\n",
       "  </thead>\n",
       "  <tbody>\n",
       "    <tr>\n",
       "      <th>0</th>\n",
       "      <td>compute</td>\n",
       "      <td>40</td>\n",
       "      <td>handson104</td>\n",
       "      <td>RUNNING</td>\n",
       "      <td>37f7d717...</td>\n",
       "      <td>2018/09/28 06:30:31 UTC</td>\n",
       "      <td>nfsServer</td>\n",
       "      <td>RUNNING</td>\n",
       "    </tr>\n",
       "  </tbody>\n",
       "</table>\n",
       "</div>"
      ],
      "text/plain": [
       "    vctype  vcno      vcname vc_state         vcid                    cdate  \\\n",
       "0  compute    40  handson104  RUNNING  37f7d717...  2018/09/28 06:30:31 UTC   \n",
       "\n",
       "   unit_name unit_state  \n",
       "0  nfsServer    RUNNING  "
      ]
     },
     "metadata": {},
     "output_type": "display_data"
    },
    {
     "data": {
      "text/html": [
       "<div>\n",
       "<style>\n",
       "    .dataframe thead tr:only-child th {\n",
       "        text-align: right;\n",
       "    }\n",
       "\n",
       "    .dataframe thead th {\n",
       "        text-align: left;\n",
       "    }\n",
       "\n",
       "    .dataframe tbody tr th {\n",
       "        vertical-align: top;\n",
       "    }\n",
       "</style>\n",
       "<table border=\"1\" class=\"dataframe\">\n",
       "  <thead>\n",
       "    <tr style=\"text-align: right;\">\n",
       "      <th></th>\n",
       "      <th>vcno</th>\n",
       "      <th>vcname</th>\n",
       "      <th>unit_name</th>\n",
       "      <th>unit_state</th>\n",
       "      <th>node_no</th>\n",
       "      <th>node_id</th>\n",
       "      <th>node_state</th>\n",
       "      <th>cloud_instance_address</th>\n",
       "      <th>cloud_instance_id</th>\n",
       "      <th>cloud_instance_name</th>\n",
       "      <th>volumes</th>\n",
       "    </tr>\n",
       "  </thead>\n",
       "  <tbody>\n",
       "    <tr>\n",
       "      <th>0</th>\n",
       "      <td>40</td>\n",
       "      <td>handson104</td>\n",
       "      <td>nfsServer</td>\n",
       "      <td>RUNNING</td>\n",
       "      <td>1</td>\n",
       "      <td>672226cc...</td>\n",
       "      <td>RUNNING</td>\n",
       "      <td>172.30.2.10</td>\n",
       "      <td>i-0071f4bf83ff9d223</td>\n",
       "      <td>VCP-020661f0-37f7d717</td>\n",
       "      <td>exists</td>\n",
       "    </tr>\n",
       "  </tbody>\n",
       "</table>\n",
       "</div>"
      ],
      "text/plain": [
       "   vcno      vcname  unit_name unit_state  node_no      node_id node_state  \\\n",
       "0    40  handson104  nfsServer    RUNNING        1  672226cc...    RUNNING   \n",
       "\n",
       "  cloud_instance_address    cloud_instance_id    cloud_instance_name volumes  \n",
       "0            172.30.2.10  i-0071f4bf83ff9d223  VCP-020661f0-37f7d717  exists  "
      ]
     },
     "metadata": {},
     "output_type": "display_data"
    }
   ],
   "source": [
    "# Unitの一覧を DataFrame で表示する\n",
    "display(unit_group.df_units())\n",
    "\n",
    "# Nodeの一覧を DataFrame で表示する\n",
    "display(unit_group.df_nodes())"
   ]
  },
  {
   "cell_type": "markdown",
   "metadata": {
    "hidden": true,
    "lc_cell_meme": {
     "current": "dc6e9076-c2e7-11e8-9925-0242ac110002",
     "next": "dc6e9116-c2e7-11e8-9925-0242ac110002",
     "previous": "dc6e8fcc-c2e7-11e8-9925-0242ac110002"
    }
   },
   "source": [
    "Unitの作成とVCノードの起動を行います。\n",
    "\n",
    "> 処理が完了するまで1分半～2分程度かかります。"
   ]
  },
  {
   "cell_type": "code",
   "execution_count": 36,
   "metadata": {
    "deletable": false,
    "editable": false,
    "hidden": true,
    "lc_cell_meme": {
     "current": "dc6e9116-c2e7-11e8-9925-0242ac110002",
     "next": "dc6e91b6-c2e7-11e8-9925-0242ac110002",
     "previous": "dc6e9076-c2e7-11e8-9925-0242ac110002"
    },
    "run_through_control": {
     "frozen": true
    }
   },
   "outputs": [
    {
     "name": "stdout",
     "output_type": "stream",
     "text": [
      "2018-09-28 15:33:59,175 - INFO - BOOTING ... 0 sec\n",
      "2018-09-28 15:34:04,413 - INFO - BOOTING ... 5 sec\n",
      "2018-09-28 15:34:09,653 - INFO - BOOTING ... 10 sec\n",
      "2018-09-28 15:34:14,895 - INFO - BOOTING ... 15 sec\n",
      "2018-09-28 15:34:20,139 - INFO - BOOTING ... 20 sec\n",
      "2018-09-28 15:34:25,385 - INFO - BOOTING ... 25 sec\n",
      "2018-09-28 15:34:30,634 - INFO - BOOTING ... 30 sec\n",
      "2018-09-28 15:34:35,868 - INFO - BOOTING ... 35 sec\n",
      "2018-09-28 15:34:41,116 - INFO - BOOTING ... 40 sec\n",
      "2018-09-28 15:34:46,351 - INFO - BOOTING ... 45 sec\n",
      "2018-09-28 15:34:51,802 - INFO - BOOTING ... 50 sec\n",
      "2018-09-28 15:34:57,040 - INFO - BOOTING ... 55 sec\n",
      "2018-09-28 15:35:02,298 - INFO - BOOTING ... 60 sec\n",
      "2018-09-28 15:35:07,552 - INFO - BOOTING ... 65 sec\n",
      "2018-09-28 15:35:12,811 - INFO - BOOTING ... 70 sec\n",
      "2018-09-28 15:35:18,048 - INFO - unit nfsClient is RUNNING\n"
     ]
    }
   ],
   "source": [
    "# Unitの作成（同時に VCノードが作成される）\n",
    "unit_client = unit_group.create_unit('nfsClient', spec_client)"
   ]
  },
  {
   "cell_type": "markdown",
   "metadata": {
    "hidden": true,
    "lc_cell_meme": {
     "current": "dc6e91b6-c2e7-11e8-9925-0242ac110002",
     "next": "dc6e9256-c2e7-11e8-9925-0242ac110002",
     "previous": "dc6e9116-c2e7-11e8-9925-0242ac110002"
    }
   },
   "source": [
    "起動したUnit, VCノードの一覧を表示します。"
   ]
  },
  {
   "cell_type": "code",
   "execution_count": 37,
   "metadata": {
    "deletable": false,
    "editable": false,
    "hidden": true,
    "lc_cell_meme": {
     "current": "dc6e9256-c2e7-11e8-9925-0242ac110002",
     "next": "dc6e92ec-c2e7-11e8-9925-0242ac110002",
     "previous": "dc6e91b6-c2e7-11e8-9925-0242ac110002"
    },
    "run_through_control": {
     "frozen": true
    }
   },
   "outputs": [
    {
     "data": {
      "text/html": [
       "<div>\n",
       "<style>\n",
       "    .dataframe thead tr:only-child th {\n",
       "        text-align: right;\n",
       "    }\n",
       "\n",
       "    .dataframe thead th {\n",
       "        text-align: left;\n",
       "    }\n",
       "\n",
       "    .dataframe tbody tr th {\n",
       "        vertical-align: top;\n",
       "    }\n",
       "</style>\n",
       "<table border=\"1\" class=\"dataframe\">\n",
       "  <thead>\n",
       "    <tr style=\"text-align: right;\">\n",
       "      <th></th>\n",
       "      <th>vctype</th>\n",
       "      <th>vcno</th>\n",
       "      <th>vcname</th>\n",
       "      <th>vc_state</th>\n",
       "      <th>vcid</th>\n",
       "      <th>cdate</th>\n",
       "      <th>unit_name</th>\n",
       "      <th>unit_state</th>\n",
       "    </tr>\n",
       "  </thead>\n",
       "  <tbody>\n",
       "    <tr>\n",
       "      <th>0</th>\n",
       "      <td>compute</td>\n",
       "      <td>40</td>\n",
       "      <td>handson104</td>\n",
       "      <td>RUNNING</td>\n",
       "      <td>37f7d717...</td>\n",
       "      <td>2018/09/28 06:30:31 UTC</td>\n",
       "      <td>nfsServer</td>\n",
       "      <td>RUNNING</td>\n",
       "    </tr>\n",
       "    <tr>\n",
       "      <th>1</th>\n",
       "      <td>compute</td>\n",
       "      <td>40</td>\n",
       "      <td>handson104</td>\n",
       "      <td>RUNNING</td>\n",
       "      <td>37f7d717...</td>\n",
       "      <td>2018/09/28 06:30:31 UTC</td>\n",
       "      <td>nfsClient</td>\n",
       "      <td>RUNNING</td>\n",
       "    </tr>\n",
       "  </tbody>\n",
       "</table>\n",
       "</div>"
      ],
      "text/plain": [
       "    vctype  vcno      vcname vc_state         vcid                    cdate  \\\n",
       "0  compute    40  handson104  RUNNING  37f7d717...  2018/09/28 06:30:31 UTC   \n",
       "1  compute    40  handson104  RUNNING  37f7d717...  2018/09/28 06:30:31 UTC   \n",
       "\n",
       "   unit_name unit_state  \n",
       "0  nfsServer    RUNNING  \n",
       "1  nfsClient    RUNNING  "
      ]
     },
     "metadata": {},
     "output_type": "display_data"
    },
    {
     "data": {
      "text/html": [
       "<div>\n",
       "<style>\n",
       "    .dataframe thead tr:only-child th {\n",
       "        text-align: right;\n",
       "    }\n",
       "\n",
       "    .dataframe thead th {\n",
       "        text-align: left;\n",
       "    }\n",
       "\n",
       "    .dataframe tbody tr th {\n",
       "        vertical-align: top;\n",
       "    }\n",
       "</style>\n",
       "<table border=\"1\" class=\"dataframe\">\n",
       "  <thead>\n",
       "    <tr style=\"text-align: right;\">\n",
       "      <th></th>\n",
       "      <th>vcno</th>\n",
       "      <th>vcname</th>\n",
       "      <th>unit_name</th>\n",
       "      <th>unit_state</th>\n",
       "      <th>node_no</th>\n",
       "      <th>node_id</th>\n",
       "      <th>node_state</th>\n",
       "      <th>cloud_instance_address</th>\n",
       "      <th>cloud_instance_id</th>\n",
       "      <th>cloud_instance_name</th>\n",
       "      <th>volumes</th>\n",
       "    </tr>\n",
       "  </thead>\n",
       "  <tbody>\n",
       "    <tr>\n",
       "      <th>0</th>\n",
       "      <td>40</td>\n",
       "      <td>handson104</td>\n",
       "      <td>nfsServer</td>\n",
       "      <td>RUNNING</td>\n",
       "      <td>1</td>\n",
       "      <td>672226cc...</td>\n",
       "      <td>RUNNING</td>\n",
       "      <td>172.30.2.10</td>\n",
       "      <td>i-0071f4bf83ff9d223</td>\n",
       "      <td>VCP-020661f0-37f7d717</td>\n",
       "      <td>exists</td>\n",
       "    </tr>\n",
       "    <tr>\n",
       "      <th>1</th>\n",
       "      <td>40</td>\n",
       "      <td>handson104</td>\n",
       "      <td>nfsClient</td>\n",
       "      <td>RUNNING</td>\n",
       "      <td>1</td>\n",
       "      <td>55083ca5...</td>\n",
       "      <td>RUNNING</td>\n",
       "      <td>172.30.2.143</td>\n",
       "      <td>i-053c86810a4798485</td>\n",
       "      <td>VCP-020661f0-37f7d717</td>\n",
       "      <td>none</td>\n",
       "    </tr>\n",
       "  </tbody>\n",
       "</table>\n",
       "</div>"
      ],
      "text/plain": [
       "   vcno      vcname  unit_name unit_state  node_no      node_id node_state  \\\n",
       "0    40  handson104  nfsServer    RUNNING        1  672226cc...    RUNNING   \n",
       "1    40  handson104  nfsClient    RUNNING        1  55083ca5...    RUNNING   \n",
       "\n",
       "  cloud_instance_address    cloud_instance_id    cloud_instance_name volumes  \n",
       "0            172.30.2.10  i-0071f4bf83ff9d223  VCP-020661f0-37f7d717  exists  \n",
       "1           172.30.2.143  i-053c86810a4798485  VCP-020661f0-37f7d717    none  "
      ]
     },
     "metadata": {},
     "output_type": "display_data"
    }
   ],
   "source": [
    "# Unitの一覧を DataFrame で表示する\n",
    "display(unit_group.df_units())\n",
    "\n",
    "# Nodeの一覧を DataFrame で表示する\n",
    "display(unit_group.df_nodes())"
   ]
  },
  {
   "cell_type": "markdown",
   "metadata": {
    "hidden": true,
    "lc_cell_meme": {
     "current": "dc6e92ec-c2e7-11e8-9925-0242ac110002",
     "next": "dc6e938c-c2e7-11e8-9925-0242ac110002",
     "previous": "dc6e9256-c2e7-11e8-9925-0242ac110002"
    }
   },
   "source": [
    "## Ansible の設定"
   ]
  },
  {
   "cell_type": "markdown",
   "metadata": {
    "hidden": true,
    "lc_cell_meme": {
     "current": "dc6e938c-c2e7-11e8-9925-0242ac110002",
     "next": "dc6e9422-c2e7-11e8-9925-0242ac110002",
     "previous": "dc6e92ec-c2e7-11e8-9925-0242ac110002"
    }
   },
   "source": [
    "起動したVCノードのIPアドレスをインベントリに登録します。グループ名は Unit名に合わせて `nfsClient`とします。"
   ]
  },
  {
   "cell_type": "code",
   "execution_count": 38,
   "metadata": {
    "deletable": false,
    "editable": false,
    "hidden": true,
    "lc_cell_meme": {
     "current": "dc6e9422-c2e7-11e8-9925-0242ac110002",
     "next": "dc6e94c2-c2e7-11e8-9925-0242ac110002",
     "previous": "dc6e938c-c2e7-11e8-9925-0242ac110002"
    },
    "run_through_control": {
     "frozen": true
    }
   },
   "outputs": [
    {
     "name": "stdout",
     "output_type": "stream",
     "text": [
      "[nfsServer]\r\n",
      "172.30.2.10\r\n",
      "[nfsClient]\r\n",
      "172.30.2.143\r\n"
     ]
    }
   ],
   "source": [
    "# ./hosts に追記する\n",
    "with open('hosts', 'a') as f:\n",
    "    f.write(\"[{}]\\n\".format(unit_client.name))\n",
    "    for addr in unit_client.find_ip_addresses():\n",
    "        f.write(\"{}\\n\".format(addr))\n",
    "\n",
    "# ./hosts の内容を表示する\n",
    "!cat hosts"
   ]
  },
  {
   "cell_type": "markdown",
   "metadata": {
    "hidden": true,
    "lc_cell_meme": {
     "current": "dc6e94c2-c2e7-11e8-9925-0242ac110002",
     "next": "dc6e9576-c2e7-11e8-9925-0242ac110002",
     "previous": "dc6e9422-c2e7-11e8-9925-0242ac110002"
    }
   },
   "source": [
    "インベントリは次のセルを実行すると表示されるリンクからも編集することができます。"
   ]
  },
  {
   "cell_type": "code",
   "execution_count": 39,
   "metadata": {
    "deletable": false,
    "editable": false,
    "hidden": true,
    "lc_cell_meme": {
     "current": "dc6e9576-c2e7-11e8-9925-0242ac110002",
     "next": "dc6e9620-c2e7-11e8-9925-0242ac110002",
     "previous": "dc6e94c2-c2e7-11e8-9925-0242ac110002"
    },
    "run_through_control": {
     "frozen": true
    },
    "scrolled": true
   },
   "outputs": [
    {
     "data": {
      "text/html": [
       "<a href=\"/red/edit/handson/vcp-tutorial/hosts\" target=\"_blank\">インベントリ</a>"
      ],
      "text/plain": [
       "<IPython.core.display.HTML object>"
      ]
     },
     "execution_count": 39,
     "metadata": {},
     "output_type": "execute_result"
    }
   ],
   "source": [
    "%run scripts/nbutils.py\n",
    "nb_html_link(os.path.abspath('hosts'), 'インベントリ')"
   ]
  },
  {
   "cell_type": "markdown",
   "metadata": {
    "hidden": true,
    "lc_cell_meme": {
     "current": "dc6e9620-c2e7-11e8-9925-0242ac110002",
     "next": "dc6e96c0-c2e7-11e8-9925-0242ac110002",
     "previous": "dc6e9576-c2e7-11e8-9925-0242ac110002"
    }
   },
   "source": [
    "VCノードに接続する際のsshの設定を Ansible の変数ファイルに格納しておきます。"
   ]
  },
  {
   "cell_type": "code",
   "execution_count": 40,
   "metadata": {
    "deletable": false,
    "editable": false,
    "hidden": true,
    "lc_cell_meme": {
     "current": "dc6e96c0-c2e7-11e8-9925-0242ac110002",
     "next": "dc6e9756-c2e7-11e8-9925-0242ac110002",
     "previous": "dc6e9620-c2e7-11e8-9925-0242ac110002"
    },
    "run_through_control": {
     "frozen": true
    }
   },
   "outputs": [
    {
     "name": "stdout",
     "output_type": "stream",
     "text": [
      "ansible_ssh_extra_args: -o StrictHostKeyChecking=no -o UserKnownHostsFile=/dev/null\r\n",
      "ansible_ssh_private_key_file: /home/bit_kun/.ssh/id_rsa\r\n",
      "ansible_user: root\r\n"
     ]
    }
   ],
   "source": [
    "import yaml\n",
    "\n",
    "# ansibleでVCノードに接続する際の設定\n",
    "ansible_params = {\n",
    "    'ansible_user': 'root',\n",
    "    'ansible_ssh_extra_args': '-o StrictHostKeyChecking=no -o UserKnownHostsFile=/dev/null',\n",
    "    'ansible_ssh_private_key_file': os.path.abspath(ssh_private_key),\n",
    "}\n",
    "\n",
    "# group_vars への書き込み\n",
    "!mkdir -p group_vars\n",
    "vc_group_vars = os.path.abspath('group_vars/{}.yml'.format(unit_client.name))\n",
    "with open(vc_group_vars, 'w') as f:\n",
    "    yaml.dump(ansible_params, stream=f, default_flow_style=False)\n",
    "\n",
    "!cat {vc_group_vars}"
   ]
  },
  {
   "cell_type": "markdown",
   "metadata": {
    "hidden": true,
    "lc_cell_meme": {
     "current": "dc6e9756-c2e7-11e8-9925-0242ac110002",
     "next": "dc6e97f6-c2e7-11e8-9925-0242ac110002",
     "previous": "dc6e96c0-c2e7-11e8-9925-0242ac110002"
    }
   },
   "source": [
    "Ansible で VCノードに接続できるか確認します。"
   ]
  },
  {
   "cell_type": "code",
   "execution_count": 41,
   "metadata": {
    "deletable": false,
    "editable": false,
    "hidden": true,
    "lc_cell_meme": {
     "current": "dc6e97f6-c2e7-11e8-9925-0242ac110002",
     "next": "dc6e988c-c2e7-11e8-9925-0242ac110002",
     "previous": "dc6e9756-c2e7-11e8-9925-0242ac110002"
    },
    "run_through_control": {
     "frozen": true
    }
   },
   "outputs": [
    {
     "name": "stdout",
     "output_type": "stream",
     "text": [
      "\u001b[0;32m172.30.2.143 | SUCCESS => {\u001b[0m\r\n",
      "\u001b[0;32m    \"changed\": false, \u001b[0m\r\n",
      "\u001b[0;32m    \"failed\": false, \u001b[0m\r\n",
      "\u001b[0;32m    \"ping\": \"pong\"\u001b[0m\r\n",
      "\u001b[0;32m}\u001b[0m\r\n"
     ]
    }
   ],
   "source": [
    "!ansible {unit_client.name} -m ping"
   ]
  },
  {
   "attachments": {},
   "cell_type": "markdown",
   "metadata": {
    "lc_cell_meme": {
     "current": "dc6e988c-c2e7-11e8-9925-0242ac110002",
     "next": "dc6e992c-c2e7-11e8-9925-0242ac110002",
     "previous": "dc6e97f6-c2e7-11e8-9925-0242ac110002"
    }
   },
   "source": [
    "# NFSサーバの設定\n",
    "\n",
    "VCディスクをNFSサーバで公開するための設定を行います。\n",
    "\n",
    "この節を実行すると次図の状態になります。\n",
    "\n",
    "![step4](images/104-005.png)"
   ]
  },
  {
   "cell_type": "markdown",
   "metadata": {
    "lc_cell_meme": {
     "current": "dc6e992c-c2e7-11e8-9925-0242ac110002",
     "next": "dc6e9ada-c2e7-11e8-9925-0242ac110002",
     "previous": "dc6e988c-c2e7-11e8-9925-0242ac110002"
    }
   },
   "source": [
    "主な手順は以下のようになります。\n",
    "\n",
    "1. VCディスクにファイルシステム(xfs)を作成する\n",
    "1. VCディスクをマウントする\n",
    "1. マウントしたディレクトリをNFSサーバの公開ディレクトリに設定する"
   ]
  },
  {
   "cell_type": "markdown",
   "metadata": {
    "lc_cell_meme": {
     "current": "dc6e9ada-c2e7-11e8-9925-0242ac110002",
     "next": "dc6e9bc0-c2e7-11e8-9925-0242ac110002",
     "previous": "dc6e992c-c2e7-11e8-9925-0242ac110002"
    }
   },
   "source": [
    "## ファイルシステムの作成とマウント"
   ]
  },
  {
   "cell_type": "markdown",
   "metadata": {
    "lc_cell_meme": {
     "current": "dc6e9bc0-c2e7-11e8-9925-0242ac110002",
     "next": "dc6e9c6a-c2e7-11e8-9925-0242ac110002",
     "previous": "dc6e9ada-c2e7-11e8-9925-0242ac110002"
    }
   },
   "source": [
    "VCノードにアタッチされたVCディスクのデバイス名を確認します。アタッチしているVCディスクは１つだけなので、次のセルを実行して表示されるブロックデバイスのうちルートファイルシステムで利用しているもの(xvda)以外になります。"
   ]
  },
  {
   "cell_type": "code",
   "execution_count": 42,
   "metadata": {
    "deletable": false,
    "editable": false,
    "lc_cell_meme": {
     "current": "dc6e9c6a-c2e7-11e8-9925-0242ac110002",
     "next": "dc6e9d0a-c2e7-11e8-9925-0242ac110002",
     "previous": "dc6e9bc0-c2e7-11e8-9925-0242ac110002"
    },
    "run_through_control": {
     "frozen": true
    },
    "scrolled": true
   },
   "outputs": [
    {
     "name": "stdout",
     "output_type": "stream",
     "text": [
      "\u001b[0;32m172.30.2.10 | SUCCESS | rc=0 >>\u001b[0m\r\n",
      "\u001b[0;32mNAME    MAJ:MIN RM SIZE RO TYPE MOUNTPOINT\u001b[0m\r\n",
      "\u001b[0;32mxvda    202:0    0  20G  0 disk \u001b[0m\r\n",
      "\u001b[0;32m└─xvda1 202:1    0  20G  0 part /var/lib/docker/aufs\u001b[0m\r\n",
      "\u001b[0;32mxvdf    202:80   0   8G  0 disk \u001b[0m\r\n",
      "\u001b[0;32m\u001b[0m\r\n"
     ]
    }
   ],
   "source": [
    "!ansible {unit_server.name} -a 'lsblk'"
   ]
  },
  {
   "cell_type": "markdown",
   "metadata": {
    "lc_cell_meme": {
     "current": "dc6e9d0a-c2e7-11e8-9925-0242ac110002",
     "next": "dc6e9da0-c2e7-11e8-9925-0242ac110002",
     "previous": "dc6e9c6a-c2e7-11e8-9925-0242ac110002"
    }
   },
   "source": [
    "ファイルシステム(xfs)を作成します。`lsblk`で確認したVCディスクのデバイス名を次のセルの変数 `device` に設定してからセルを実行してください。\n",
    "\n",
    "ファイルシステムにはラベルを付けています。マウントなどの操作を行う際はデバイス名ではなくラベル名を指定して操作します。"
   ]
  },
  {
   "cell_type": "code",
   "execution_count": 43,
   "metadata": {
    "deletable": false,
    "editable": false,
    "lc_cell_meme": {
     "current": "dc6e9da0-c2e7-11e8-9925-0242ac110002",
     "next": "dc6e9e40-c2e7-11e8-9925-0242ac110002",
     "previous": "dc6e9d0a-c2e7-11e8-9925-0242ac110002"
    },
    "run_through_control": {
     "frozen": true
    }
   },
   "outputs": [
    {
     "name": "stdout",
     "output_type": "stream",
     "text": [
      "\u001b[0;32m172.30.2.10 | SUCCESS | rc=0 >>\u001b[0m\r\n",
      "\u001b[0;32mmeta-data=/dev/xvdf              isize=512    agcount=4, agsize=524288 blks\u001b[0m\r\n",
      "\u001b[0;32m         =                       sectsz=512   attr=2, projid32bit=1\u001b[0m\r\n",
      "\u001b[0;32m         =                       crc=1        finobt=1, sparse=0\u001b[0m\r\n",
      "\u001b[0;32mdata     =                       bsize=4096   blocks=2097152, imaxpct=25\u001b[0m\r\n",
      "\u001b[0;32m         =                       sunit=0      swidth=0 blks\u001b[0m\r\n",
      "\u001b[0;32mnaming   =version 2              bsize=4096   ascii-ci=0 ftype=1\u001b[0m\r\n",
      "\u001b[0;32mlog      =internal log           bsize=4096   blocks=2560, version=2\u001b[0m\r\n",
      "\u001b[0;32m         =                       sectsz=512   sunit=0 blks, lazy-count=1\u001b[0m\r\n",
      "\u001b[0;32mrealtime =none                   extsz=4096   blocks=0, rtextents=0\u001b[0m\r\n",
      "\u001b[0;32m\u001b[0m\r\n"
     ]
    }
   ],
   "source": [
    "# デバイス名\n",
    "device = '/dev/xvdf'\n",
    "\n",
    "# ファイルシステムのラベル\n",
    "fs_label = 'nfs-data'\n",
    "\n",
    "!ansible {unit_server.name} -b -a 'mkfs.xfs -L {fs_label} {device}'"
   ]
  },
  {
   "cell_type": "markdown",
   "metadata": {
    "lc_cell_meme": {
     "current": "dc6e9e40-c2e7-11e8-9925-0242ac110002",
     "next": "dc6e9ee0-c2e7-11e8-9925-0242ac110002",
     "previous": "dc6e9da0-c2e7-11e8-9925-0242ac110002"
    }
   },
   "source": [
    "Ansibleの[mountモジュール](https://docs.ansible.com/ansible/2.6/modules/mount_module.html)を利用してVCディスクを `/data` にマウントします。mountモジュールの簡単な使用方法を以下に記します。詳細についてはリンク先の[公式ドキュメント](https://docs.ansible.com/ansible/2.6/modules/mount_module.html)を参照してください。\n",
    "\n",
    "```\n",
    "ansible <ホストパターン> -m mount -a 'path=<mount point> src=<device> state=<state> fstype=<fstype>'\n",
    "\n",
    "mountモジュールのパラメータ(-a)について:\n",
    "path\n",
    "      マウントポイントのパス\n",
    "src\n",
    "      マウントされるブロックデバイス名など（ここではラベル名を指定している）\n",
    "state\n",
    "      absent, mounted, present, unmounted の何れかを指定する\n",
    "      mounted:\n",
    "          マウントをされている状態にして、/etc/fstab にエントリを追加する\n",
    "      unmounted:\n",
    "          アンマウント状態にする。/etc/fstab は更新しない\n",
    "fstype\n",
    "      マウントする際のファイルシステムの指定\n",
    "```"
   ]
  },
  {
   "cell_type": "code",
   "execution_count": 44,
   "metadata": {
    "deletable": false,
    "editable": false,
    "lc_cell_meme": {
     "current": "dc6e9ee0-c2e7-11e8-9925-0242ac110002",
     "next": "dc6e9f76-c2e7-11e8-9925-0242ac110002",
     "previous": "dc6e9e40-c2e7-11e8-9925-0242ac110002"
    },
    "run_through_control": {
     "frozen": true
    },
    "scrolled": true
   },
   "outputs": [
    {
     "name": "stdout",
     "output_type": "stream",
     "text": [
      "\u001b[0;33m172.30.2.10 | SUCCESS => {\u001b[0m\r\n",
      "\u001b[0;33m    \"changed\": true, \u001b[0m\r\n",
      "\u001b[0;33m    \"dump\": \"0\", \u001b[0m\r\n",
      "\u001b[0;33m    \"failed\": false, \u001b[0m\r\n",
      "\u001b[0;33m    \"fstab\": \"/etc/fstab\", \u001b[0m\r\n",
      "\u001b[0;33m    \"fstype\": \"xfs\", \u001b[0m\r\n",
      "\u001b[0;33m    \"name\": \"/data\", \u001b[0m\r\n",
      "\u001b[0;33m    \"opts\": \"defaults\", \u001b[0m\r\n",
      "\u001b[0;33m    \"passno\": \"0\", \u001b[0m\r\n",
      "\u001b[0;33m    \"src\": \"LABEL=nfs-data\"\u001b[0m\r\n",
      "\u001b[0;33m}\u001b[0m\r\n"
     ]
    }
   ],
   "source": [
    "!ansible {unit_server.name} -b -m mount \\\n",
    "    -a 'path=/data src=LABEL=nfs-data state=mounted fstype=xfs'"
   ]
  },
  {
   "cell_type": "markdown",
   "metadata": {
    "lc_cell_meme": {
     "current": "dc6e9f76-c2e7-11e8-9925-0242ac110002",
     "next": "dc6ea00c-c2e7-11e8-9925-0242ac110002",
     "previous": "dc6e9ee0-c2e7-11e8-9925-0242ac110002"
    }
   },
   "source": [
    "`/data` にマウントされていることを確認します。"
   ]
  },
  {
   "cell_type": "code",
   "execution_count": 45,
   "metadata": {
    "deletable": false,
    "editable": false,
    "lc_cell_meme": {
     "current": "dc6ea00c-c2e7-11e8-9925-0242ac110002",
     "next": "dc6ea0ac-c2e7-11e8-9925-0242ac110002",
     "previous": "dc6e9f76-c2e7-11e8-9925-0242ac110002"
    },
    "run_through_control": {
     "frozen": true
    }
   },
   "outputs": [
    {
     "name": "stdout",
     "output_type": "stream",
     "text": [
      "\u001b[1;35m [WARNING]: Consider using mount module rather than running mount\u001b[0m\n",
      "\u001b[1;35m\u001b[0m\n",
      "\u001b[0;32m172.30.2.10 | SUCCESS | rc=0 >>\u001b[0m\n",
      "\u001b[0;32m/dev/xvdf on /data type xfs (rw,relatime,attr2,inode64,noquota)\u001b[0m\n",
      "\u001b[0;32m\u001b[0m\n",
      "\u001b[0;32m172.30.2.10 | SUCCESS | rc=0 >>\u001b[0m\n",
      "\u001b[0;32mFilesystem                Size      Used Available Use% Mounted on\u001b[0m\n",
      "\u001b[0;32m/dev/xvdf                 8.0G     32.2M      8.0G   0% /data\u001b[0m\n",
      "\u001b[0;32m\u001b[0m\n"
     ]
    }
   ],
   "source": [
    "!ansible {unit_server.name} -m shell -a 'mount | grep /data'\n",
    "!ansible {unit_server.name} -a 'df -h /data'"
   ]
  },
  {
   "cell_type": "markdown",
   "metadata": {
    "lc_cell_meme": {
     "current": "dc6ea0ac-c2e7-11e8-9925-0242ac110002",
     "next": "dc6ea142-c2e7-11e8-9925-0242ac110002",
     "previous": "dc6ea00c-c2e7-11e8-9925-0242ac110002"
    }
   },
   "source": [
    "Ansibleの[mountモジュール](https://docs.ansible.com/ansible/2.6/modules/mount_module.html)でstateに`mounted`を指定しているのでマウントをするだけでなく/etc/fstabの更新も行います。/etc/fstabの内容を確認してみます。"
   ]
  },
  {
   "cell_type": "code",
   "execution_count": 46,
   "metadata": {
    "deletable": false,
    "editable": false,
    "lc_cell_meme": {
     "current": "dc6ea142-c2e7-11e8-9925-0242ac110002",
     "next": "dc6ea1d8-c2e7-11e8-9925-0242ac110002",
     "previous": "dc6ea0ac-c2e7-11e8-9925-0242ac110002"
    },
    "run_through_control": {
     "frozen": true
    },
    "scrolled": true
   },
   "outputs": [
    {
     "name": "stdout",
     "output_type": "stream",
     "text": [
      "\u001b[0;32m172.30.2.10 | SUCCESS | rc=0 >>\u001b[0m\r\n",
      "\u001b[0;32m/dev/cdrom\t/media/cdrom\tiso9660\tnoauto,ro 0 0\u001b[0m\r\n",
      "\u001b[0;32m/dev/usbdisk\t/media/usb\tvfat\tnoauto,ro 0 0\u001b[0m\r\n",
      "\u001b[0;32mLABEL=nfs-data /data xfs defaults 0 0\u001b[0m\r\n",
      "\u001b[0;32m\u001b[0m\r\n"
     ]
    }
   ],
   "source": [
    "!ansible {unit_server.name} -a 'cat /etc/fstab'"
   ]
  },
  {
   "cell_type": "markdown",
   "metadata": {
    "lc_cell_meme": {
     "current": "dc6ea1d8-c2e7-11e8-9925-0242ac110002",
     "next": "dc6ea26e-c2e7-11e8-9925-0242ac110002",
     "previous": "dc6ea142-c2e7-11e8-9925-0242ac110002"
    }
   },
   "source": [
    "最後にVCディスクをマウントした`/data`のパーミッションを変更します。今回はテスト用に誰でも書き込めるように設定します。"
   ]
  },
  {
   "cell_type": "code",
   "execution_count": 47,
   "metadata": {
    "deletable": false,
    "editable": false,
    "lc_cell_meme": {
     "current": "dc6ea26e-c2e7-11e8-9925-0242ac110002",
     "next": "dc6ea30e-c2e7-11e8-9925-0242ac110002",
     "previous": "dc6ea1d8-c2e7-11e8-9925-0242ac110002"
    },
    "run_through_control": {
     "frozen": true
    }
   },
   "outputs": [
    {
     "name": "stdout",
     "output_type": "stream",
     "text": [
      "\u001b[1;35m [WARNING]: Consider using file module with mode rather than running chmod\u001b[0m\r\n",
      "\u001b[1;35m\u001b[0m\r\n",
      "\u001b[0;32m172.30.2.10 | SUCCESS | rc=0 >>\u001b[0m\r\n",
      "\u001b[0;32m\u001b[0m\r\n",
      "\u001b[0;32m\u001b[0m\r\n"
     ]
    }
   ],
   "source": [
    "!ansible {unit_server.name} -b -a 'chmod 01777 /data'"
   ]
  },
  {
   "cell_type": "markdown",
   "metadata": {
    "lc_cell_meme": {
     "current": "dc6ea30e-c2e7-11e8-9925-0242ac110002",
     "next": "dc6ea3a4-c2e7-11e8-9925-0242ac110002",
     "previous": "dc6ea26e-c2e7-11e8-9925-0242ac110002"
    }
   },
   "source": [
    "パーミッションが変更されたことを確認します。"
   ]
  },
  {
   "cell_type": "code",
   "execution_count": 48,
   "metadata": {
    "deletable": false,
    "editable": false,
    "lc_cell_meme": {
     "current": "dc6ea3a4-c2e7-11e8-9925-0242ac110002",
     "next": "dc6ea43a-c2e7-11e8-9925-0242ac110002",
     "previous": "dc6ea30e-c2e7-11e8-9925-0242ac110002"
    },
    "run_through_control": {
     "frozen": true
    },
    "scrolled": true
   },
   "outputs": [
    {
     "name": "stdout",
     "output_type": "stream",
     "text": [
      "\u001b[0;32m172.30.2.10 | SUCCESS | rc=0 >>\u001b[0m\r\n",
      "\u001b[0;32mtotal 4\u001b[0m\r\n",
      "\u001b[0;32mdrwxrwxrwt    2 root     root             6 Sep 28 06:36 .\u001b[0m\r\n",
      "\u001b[0;32mdrwxr-xr-x   69 root     root          4096 Sep 28 06:36 ..\u001b[0m\r\n",
      "\u001b[0;32m\u001b[0m\r\n"
     ]
    }
   ],
   "source": [
    "!ansible {unit_server.name} -a 'ls -la /data'"
   ]
  },
  {
   "cell_type": "markdown",
   "metadata": {
    "lc_cell_meme": {
     "current": "dc6ea43a-c2e7-11e8-9925-0242ac110002",
     "next": "dc6ea4d0-c2e7-11e8-9925-0242ac110002",
     "previous": "dc6ea3a4-c2e7-11e8-9925-0242ac110002"
    }
   },
   "source": [
    "## NFS エクスポートの設定\n",
    "\n",
    "NFSエクスポートの設定を行います。ここでは以下の内容の設定を追加します。\n",
    "\n",
    "* 対象ディレクトリ:\n",
    "   - /data\n",
    "* 対象となるホスト:\n",
    "   - 172.30.2.0/24\n",
    "* オプション:\n",
    "   - rw,fsid=0,no_subtree_check"
   ]
  },
  {
   "cell_type": "markdown",
   "metadata": {
    "lc_cell_meme": {
     "current": "dc6ea4d0-c2e7-11e8-9925-0242ac110002",
     "next": "dc6ea566-c2e7-11e8-9925-0242ac110002",
     "previous": "dc6ea43a-c2e7-11e8-9925-0242ac110002"
    }
   },
   "source": [
    "/etc/exportsの内容を変数に設定します。"
   ]
  },
  {
   "cell_type": "code",
   "execution_count": 49,
   "metadata": {
    "deletable": false,
    "editable": false,
    "lc_cell_meme": {
     "current": "dc6ea566-c2e7-11e8-9925-0242ac110002",
     "next": "dc6ea5fc-c2e7-11e8-9925-0242ac110002",
     "previous": "dc6ea4d0-c2e7-11e8-9925-0242ac110002"
    },
    "run_through_control": {
     "frozen": true
    }
   },
   "outputs": [],
   "source": [
    "exports = '/data 172.30.2.0/24(rw,fsid=0,no_subtree_check)'"
   ]
  },
  {
   "cell_type": "markdown",
   "metadata": {
    "lc_cell_meme": {
     "current": "dc6ea5fc-c2e7-11e8-9925-0242ac110002",
     "next": "dc6ea69c-c2e7-11e8-9925-0242ac110002",
     "previous": "dc6ea566-c2e7-11e8-9925-0242ac110002"
    }
   },
   "source": [
    "VCノードの/etc/exportsに上記の設定内容を反映します。"
   ]
  },
  {
   "cell_type": "code",
   "execution_count": 50,
   "metadata": {
    "deletable": false,
    "editable": false,
    "lc_cell_meme": {
     "current": "dc6ea69c-c2e7-11e8-9925-0242ac110002",
     "next": "dc6ea73c-c2e7-11e8-9925-0242ac110002",
     "previous": "dc6ea5fc-c2e7-11e8-9925-0242ac110002"
    },
    "run_through_control": {
     "frozen": true
    }
   },
   "outputs": [
    {
     "name": "stdout",
     "output_type": "stream",
     "text": [
      "\u001b[0;32m172.30.2.10 | SUCCESS | rc=0 >>\u001b[0m\r\n",
      "\u001b[0;32m\u001b[0m\r\n",
      "\u001b[0;32m\u001b[0m\r\n"
     ]
    }
   ],
   "source": [
    "!ansible {unit_server.name} -b -m shell \\\n",
    "    -a 'echo \"{exports}\" > /etc/exports'"
   ]
  },
  {
   "cell_type": "markdown",
   "metadata": {
    "lc_cell_meme": {
     "current": "dc6ea73c-c2e7-11e8-9925-0242ac110002",
     "next": "dc6ea7d2-c2e7-11e8-9925-0242ac110002",
     "previous": "dc6ea69c-c2e7-11e8-9925-0242ac110002"
    }
   },
   "source": [
    "/etc/exportsが書き換わったことを確認します。"
   ]
  },
  {
   "cell_type": "code",
   "execution_count": 51,
   "metadata": {
    "deletable": false,
    "editable": false,
    "lc_cell_meme": {
     "current": "dc6ea7d2-c2e7-11e8-9925-0242ac110002",
     "next": "dc6ea872-c2e7-11e8-9925-0242ac110002",
     "previous": "dc6ea73c-c2e7-11e8-9925-0242ac110002"
    },
    "run_through_control": {
     "frozen": true
    },
    "scrolled": true
   },
   "outputs": [
    {
     "name": "stdout",
     "output_type": "stream",
     "text": [
      "\u001b[0;32m172.30.2.10 | SUCCESS | rc=0 >>\u001b[0m\r\n",
      "\u001b[0;32m/data 172.30.2.0/24(rw,fsid=0,no_subtree_check)\u001b[0m\r\n",
      "\u001b[0;32m\u001b[0m\r\n"
     ]
    }
   ],
   "source": [
    "!ansible {unit_server.name} -a 'cat /etc/exports'"
   ]
  },
  {
   "cell_type": "markdown",
   "metadata": {
    "lc_cell_meme": {
     "current": "dc6ea872-c2e7-11e8-9925-0242ac110002",
     "next": "dc6ea908-c2e7-11e8-9925-0242ac110002",
     "previous": "dc6ea7d2-c2e7-11e8-9925-0242ac110002"
    }
   },
   "source": [
    "現在のエクスポートの状態を確認します。"
   ]
  },
  {
   "cell_type": "code",
   "execution_count": 52,
   "metadata": {
    "deletable": false,
    "editable": false,
    "lc_cell_meme": {
     "current": "dc6ea908-c2e7-11e8-9925-0242ac110002",
     "next": "dc6ea99e-c2e7-11e8-9925-0242ac110002",
     "previous": "dc6ea872-c2e7-11e8-9925-0242ac110002"
    },
    "run_through_control": {
     "frozen": true
    }
   },
   "outputs": [
    {
     "name": "stdout",
     "output_type": "stream",
     "text": [
      "\u001b[0;32m172.30.2.10 | SUCCESS | rc=0 >>\u001b[0m\r\n",
      "\u001b[0;32m\u001b[0m\r\n",
      "\u001b[0;32m\u001b[0m\r\n"
     ]
    }
   ],
   "source": [
    "!ansible {unit_server.name} -b -a 'exportfs -v'"
   ]
  },
  {
   "cell_type": "markdown",
   "metadata": {
    "lc_cell_meme": {
     "current": "dc6ea99e-c2e7-11e8-9925-0242ac110002",
     "next": "dc6eaa34-c2e7-11e8-9925-0242ac110002",
     "previous": "dc6ea908-c2e7-11e8-9925-0242ac110002"
    }
   },
   "source": [
    "/etc/exportsを読み込みなおします。"
   ]
  },
  {
   "cell_type": "code",
   "execution_count": 53,
   "metadata": {
    "deletable": false,
    "editable": false,
    "lc_cell_meme": {
     "current": "dc6eaa34-c2e7-11e8-9925-0242ac110002",
     "next": "dc6eaaca-c2e7-11e8-9925-0242ac110002",
     "previous": "dc6ea99e-c2e7-11e8-9925-0242ac110002"
    },
    "run_through_control": {
     "frozen": true
    },
    "scrolled": true
   },
   "outputs": [
    {
     "name": "stdout",
     "output_type": "stream",
     "text": [
      "\u001b[0;32m172.30.2.10 | SUCCESS | rc=0 >>\u001b[0m\r\n",
      "\u001b[0;32m\u001b[0m\r\n",
      "\u001b[0;32m\u001b[0m\r\n"
     ]
    }
   ],
   "source": [
    "!ansible {unit_server.name} -b -a 'exportfs -ra'"
   ]
  },
  {
   "cell_type": "markdown",
   "metadata": {
    "lc_cell_meme": {
     "current": "dc6eaaca-c2e7-11e8-9925-0242ac110002",
     "next": "dc6eab6a-c2e7-11e8-9925-0242ac110002",
     "previous": "dc6eaa34-c2e7-11e8-9925-0242ac110002"
    }
   },
   "source": [
    "現在のエクスポートの状態を確認します。"
   ]
  },
  {
   "cell_type": "code",
   "execution_count": 54,
   "metadata": {
    "deletable": false,
    "editable": false,
    "lc_cell_meme": {
     "current": "dc6eab6a-c2e7-11e8-9925-0242ac110002",
     "next": "dc6eac00-c2e7-11e8-9925-0242ac110002",
     "previous": "dc6eaaca-c2e7-11e8-9925-0242ac110002"
    },
    "run_through_control": {
     "frozen": true
    }
   },
   "outputs": [
    {
     "name": "stdout",
     "output_type": "stream",
     "text": [
      "\u001b[0;32m172.30.2.10 | SUCCESS | rc=0 >>\u001b[0m\r\n",
      "\u001b[0;32m/data         \t172.30.2.0/24(rw,wdelay,root_squash,no_subtree_check,fsid=0,sec=sys,rw,secure,root_squash,no_all_squash)\u001b[0m\r\n",
      "\u001b[0;32m\u001b[0m\r\n"
     ]
    }
   ],
   "source": [
    "!ansible {unit_server.name} -b -a 'exportfs -v'"
   ]
  },
  {
   "attachments": {},
   "cell_type": "markdown",
   "metadata": {
    "lc_cell_meme": {
     "current": "dc6eac00-c2e7-11e8-9925-0242ac110002",
     "next": "dc6eac96-c2e7-11e8-9925-0242ac110002",
     "previous": "dc6eab6a-c2e7-11e8-9925-0242ac110002"
    }
   },
   "source": [
    "# NFSクライアントの設定\n",
    "\n",
    "この節を実行すると次図の状態になります。\n",
    "\n",
    "![step5](images/104-006.png)"
   ]
  },
  {
   "cell_type": "markdown",
   "metadata": {
    "heading_collapsed": true,
    "lc_cell_meme": {
     "current": "dc6eac96-c2e7-11e8-9925-0242ac110002",
     "next": "dc6ead2c-c2e7-11e8-9925-0242ac110002",
     "previous": "dc6eac00-c2e7-11e8-9925-0242ac110002"
    }
   },
   "source": [
    "## 初期設定\n",
    "\n",
    "NFSクライアント用のVCノードは標準のBaseコンテナイメージを用いているのでNFS関連の設定が行われていません。必要となる初期設定をここで行います。"
   ]
  },
  {
   "cell_type": "markdown",
   "metadata": {
    "hidden": true,
    "lc_cell_meme": {
     "current": "dc6ead2c-c2e7-11e8-9925-0242ac110002",
     "next": "dc6eadcc-c2e7-11e8-9925-0242ac110002",
     "previous": "dc6eac96-c2e7-11e8-9925-0242ac110002"
    }
   },
   "source": [
    "まずNFSドメインの設定を/etc/idmapd.confに行います。NFSドメインの値は NFSサーバを設定したときの変数`nfs_domain`に格納されている値をそのまま用います。"
   ]
  },
  {
   "cell_type": "code",
   "execution_count": 55,
   "metadata": {
    "deletable": false,
    "editable": false,
    "hidden": true,
    "lc_cell_meme": {
     "current": "dc6eadcc-c2e7-11e8-9925-0242ac110002",
     "next": "dc6eae62-c2e7-11e8-9925-0242ac110002",
     "previous": "dc6ead2c-c2e7-11e8-9925-0242ac110002"
    },
    "run_through_control": {
     "frozen": true
    }
   },
   "outputs": [
    {
     "name": "stdout",
     "output_type": "stream",
     "text": [
      "\u001b[1;35m [WARNING]: Consider using template or lineinfile module rather than running\u001b[0m\r\n",
      "\u001b[1;35msed\u001b[0m\r\n",
      "\u001b[1;35m\u001b[0m\r\n",
      "\u001b[0;32m172.30.2.143 | SUCCESS | rc=0 >>\u001b[0m\r\n",
      "\u001b[0;32m\u001b[0m\r\n",
      "\u001b[0;32m\u001b[0m\r\n"
     ]
    }
   ],
   "source": [
    "!ansible {unit_client.name} -b \\\n",
    "    -a 'sed -ri \"s/^#?\\s*Domain\\s*=.*/Domain = {nfs_domain}/\" /etc/idmapd.conf'"
   ]
  },
  {
   "cell_type": "markdown",
   "metadata": {
    "hidden": true,
    "lc_cell_meme": {
     "current": "dc6eae62-c2e7-11e8-9925-0242ac110002",
     "next": "dc6eaf02-c2e7-11e8-9925-0242ac110002",
     "previous": "dc6eadcc-c2e7-11e8-9925-0242ac110002"
    }
   },
   "source": [
    "/etc/idmapd.conf のドメイン設定が更新されていることを確認します。"
   ]
  },
  {
   "cell_type": "code",
   "execution_count": 56,
   "metadata": {
    "deletable": false,
    "editable": false,
    "hidden": true,
    "lc_cell_meme": {
     "current": "dc6eaf02-c2e7-11e8-9925-0242ac110002",
     "next": "dc6eaf98-c2e7-11e8-9925-0242ac110002",
     "previous": "dc6eae62-c2e7-11e8-9925-0242ac110002"
    },
    "run_through_control": {
     "frozen": true
    }
   },
   "outputs": [
    {
     "name": "stdout",
     "output_type": "stream",
     "text": [
      "\u001b[0;32m172.30.2.143 | SUCCESS | rc=0 >>\u001b[0m\r\n",
      "\u001b[0;32mDomain = vcp-handson.org\u001b[0m\r\n",
      "\u001b[0;32m\u001b[0m\r\n"
     ]
    }
   ],
   "source": [
    "!ansible {unit_client.name} -b \\\n",
    "    -a 'egrep -e \"^#?\\s*Domain\\s*=\" /etc/idmapd.conf'"
   ]
  },
  {
   "cell_type": "markdown",
   "metadata": {
    "hidden": true,
    "lc_cell_meme": {
     "current": "dc6eaf98-c2e7-11e8-9925-0242ac110002",
     "next": "dc6eb02e-c2e7-11e8-9925-0242ac110002",
     "previous": "dc6eaf02-c2e7-11e8-9925-0242ac110002"
    }
   },
   "source": [
    "rpc_pipefs を /var/lib/nfs/rpc_pipefsにマウントします。"
   ]
  },
  {
   "cell_type": "code",
   "execution_count": 57,
   "metadata": {
    "deletable": false,
    "editable": false,
    "hidden": true,
    "lc_cell_meme": {
     "current": "dc6eb02e-c2e7-11e8-9925-0242ac110002",
     "next": "dc6eb0c4-c2e7-11e8-9925-0242ac110002",
     "previous": "dc6eaf98-c2e7-11e8-9925-0242ac110002"
    },
    "run_through_control": {
     "frozen": true
    }
   },
   "outputs": [
    {
     "name": "stdout",
     "output_type": "stream",
     "text": [
      "\u001b[0;33m172.30.2.143 | SUCCESS => {\u001b[0m\r\n",
      "\u001b[0;33m    \"changed\": true, \u001b[0m\r\n",
      "\u001b[0;33m    \"dump\": \"0\", \u001b[0m\r\n",
      "\u001b[0;33m    \"failed\": false, \u001b[0m\r\n",
      "\u001b[0;33m    \"fstab\": \"/etc/fstab\", \u001b[0m\r\n",
      "\u001b[0;33m    \"fstype\": \"rpc_pipefs\", \u001b[0m\r\n",
      "\u001b[0;33m    \"name\": \"/var/lib/nfs/rpc_pipefs\", \u001b[0m\r\n",
      "\u001b[0;33m    \"opts\": \"defaults\", \u001b[0m\r\n",
      "\u001b[0;33m    \"passno\": \"0\", \u001b[0m\r\n",
      "\u001b[0;33m    \"src\": \"none\"\u001b[0m\r\n",
      "\u001b[0;33m}\u001b[0m\r\n"
     ]
    }
   ],
   "source": [
    "!ansible {unit_client.name} -b -m mount \\\n",
    "    -a 'path=/var/lib/nfs/rpc_pipefs fstype=rpc_pipefs state=mounted src=none'"
   ]
  },
  {
   "cell_type": "markdown",
   "metadata": {
    "lc_cell_meme": {
     "current": "dc6eb0c4-c2e7-11e8-9925-0242ac110002",
     "next": "dc6eb164-c2e7-11e8-9925-0242ac110002",
     "previous": "dc6eb02e-c2e7-11e8-9925-0242ac110002"
    }
   },
   "source": [
    "## NFSマウント"
   ]
  },
  {
   "cell_type": "markdown",
   "metadata": {
    "lc_cell_meme": {
     "current": "dc6eb164-c2e7-11e8-9925-0242ac110002",
     "next": "dc6eb1fa-c2e7-11e8-9925-0242ac110002",
     "previous": "dc6eb0c4-c2e7-11e8-9925-0242ac110002"
    }
   },
   "source": [
    "`/data` にNFSマウントします。"
   ]
  },
  {
   "cell_type": "code",
   "execution_count": 58,
   "metadata": {
    "deletable": false,
    "editable": false,
    "lc_cell_meme": {
     "current": "dc6eb1fa-c2e7-11e8-9925-0242ac110002",
     "next": "dc6eb290-c2e7-11e8-9925-0242ac110002",
     "previous": "dc6eb164-c2e7-11e8-9925-0242ac110002"
    },
    "run_through_control": {
     "frozen": true
    },
    "scrolled": true
   },
   "outputs": [
    {
     "name": "stdout",
     "output_type": "stream",
     "text": [
      "\u001b[0;33m172.30.2.143 | SUCCESS => {\u001b[0m\r\n",
      "\u001b[0;33m    \"changed\": true, \u001b[0m\r\n",
      "\u001b[0;33m    \"dump\": \"0\", \u001b[0m\r\n",
      "\u001b[0;33m    \"failed\": false, \u001b[0m\r\n",
      "\u001b[0;33m    \"fstab\": \"/etc/fstab\", \u001b[0m\r\n",
      "\u001b[0;33m    \"fstype\": \"nfs\", \u001b[0m\r\n",
      "\u001b[0;33m    \"name\": \"/data\", \u001b[0m\r\n",
      "\u001b[0;33m    \"opts\": \"nfsvers=4\", \u001b[0m\r\n",
      "\u001b[0;33m    \"passno\": \"0\", \u001b[0m\r\n",
      "\u001b[0;33m    \"src\": \"172.30.2.10:/\"\u001b[0m\r\n",
      "\u001b[0;33m}\u001b[0m\r\n"
     ]
    }
   ],
   "source": [
    "!ansible {unit_client.name} -b -m mount \\\n",
    "    -a 'path=/data src=172.30.2.10:/ state=mounted fstype=nfs opts=nfsvers=4'"
   ]
  },
  {
   "cell_type": "markdown",
   "metadata": {
    "lc_cell_meme": {
     "current": "dc6eb290-c2e7-11e8-9925-0242ac110002",
     "next": "dc6eb330-c2e7-11e8-9925-0242ac110002",
     "previous": "dc6eb1fa-c2e7-11e8-9925-0242ac110002"
    }
   },
   "source": [
    "マウントされたことを確認します。"
   ]
  },
  {
   "cell_type": "code",
   "execution_count": 59,
   "metadata": {
    "deletable": false,
    "editable": false,
    "lc_cell_meme": {
     "current": "dc6eb330-c2e7-11e8-9925-0242ac110002",
     "next": "dc6eb3c6-c2e7-11e8-9925-0242ac110002",
     "previous": "dc6eb290-c2e7-11e8-9925-0242ac110002"
    },
    "run_through_control": {
     "frozen": true
    }
   },
   "outputs": [
    {
     "name": "stdout",
     "output_type": "stream",
     "text": [
      "\u001b[1;35m [WARNING]: Consider using mount module rather than running mount\u001b[0m\r\n",
      "\u001b[1;35m\u001b[0m\r\n",
      "\u001b[0;32m172.30.2.143 | SUCCESS | rc=0 >>\u001b[0m\r\n",
      "\u001b[0;32m172.30.2.10:/ on /data type nfs4 (rw,relatime,vers=4.0,rsize=1048576,wsize=1048576,namlen=255,hard,proto=tcp,timeo=600,retrans=2,sec=sys,clientaddr=172.30.2.143,local_lock=none,addr=172.30.2.10)\u001b[0m\r\n",
      "\u001b[0;32m\u001b[0m\r\n"
     ]
    }
   ],
   "source": [
    "!ansible {unit_client.name} -m shell -a 'mount | grep /data'"
   ]
  },
  {
   "cell_type": "markdown",
   "metadata": {
    "lc_cell_meme": {
     "current": "dc6eb3c6-c2e7-11e8-9925-0242ac110002",
     "next": "dc6eb45c-c2e7-11e8-9925-0242ac110002",
     "previous": "dc6eb330-c2e7-11e8-9925-0242ac110002"
    }
   },
   "source": [
    "## ファイルの作成"
   ]
  },
  {
   "cell_type": "markdown",
   "metadata": {
    "lc_cell_meme": {
     "current": "dc6eb45c-c2e7-11e8-9925-0242ac110002",
     "next": "dc6eb4f2-c2e7-11e8-9925-0242ac110002",
     "previous": "dc6eb3c6-c2e7-11e8-9925-0242ac110002"
    }
   },
   "source": [
    "NFSマウントした `/data` （NFSクライアント側）でファイルを作成してみます。"
   ]
  },
  {
   "cell_type": "markdown",
   "metadata": {
    "heading_collapsed": true,
    "lc_cell_meme": {
     "current": "dc6eb4f2-c2e7-11e8-9925-0242ac110002",
     "next": "dc6eb588-c2e7-11e8-9925-0242ac110002",
     "previous": "dc6eb45c-c2e7-11e8-9925-0242ac110002"
    }
   },
   "source": [
    "### ユーザの作成\n",
    "\n",
    "NFSの場合 `root` 権限でファイルの書き込みを行うと squash の機能により所有者が `nobody` になってしまい扱いづらいので、一般ユーザ`vcp`を作成します。"
   ]
  },
  {
   "cell_type": "markdown",
   "metadata": {
    "hidden": true,
    "lc_cell_meme": {
     "current": "dc6eb588-c2e7-11e8-9925-0242ac110002",
     "next": "dc6eb628-c2e7-11e8-9925-0242ac110002",
     "previous": "dc6eb4f2-c2e7-11e8-9925-0242ac110002"
    }
   },
   "source": [
    "NFSサーバ、NFSクライアントそれぞれで `vcp` という名前のユーザを作成します。"
   ]
  },
  {
   "cell_type": "code",
   "execution_count": 60,
   "metadata": {
    "deletable": false,
    "editable": false,
    "hidden": true,
    "lc_cell_meme": {
     "current": "dc6eb628-c2e7-11e8-9925-0242ac110002",
     "next": "dc6eb6be-c2e7-11e8-9925-0242ac110002",
     "previous": "dc6eb588-c2e7-11e8-9925-0242ac110002"
    },
    "run_through_control": {
     "frozen": true
    }
   },
   "outputs": [
    {
     "name": "stdout",
     "output_type": "stream",
     "text": [
      "\u001b[0;32m172.30.2.143 | SUCCESS | rc=0 >>\u001b[0m\n",
      "\u001b[0;32m\u001b[0m\n",
      "\u001b[0;32m\u001b[0m\n",
      "\u001b[0;32m172.30.2.10 | SUCCESS | rc=0 >>\u001b[0m\n",
      "\u001b[0;32m\u001b[0m\n",
      "\u001b[0;32m\u001b[0m\n"
     ]
    }
   ],
   "source": [
    "!ansible {unit_client.name} -b -a 'adduser -D vcp'\n",
    "!ansible {unit_server.name} -b -a 'adduser -D vcp'"
   ]
  },
  {
   "cell_type": "markdown",
   "metadata": {
    "hidden": true,
    "lc_cell_meme": {
     "current": "dc6eb6be-c2e7-11e8-9925-0242ac110002",
     "next": "dc6eb75e-c2e7-11e8-9925-0242ac110002",
     "previous": "dc6eb628-c2e7-11e8-9925-0242ac110002"
    }
   },
   "source": [
    "作成したユーザ権限でコマンドが実行できることを確認するために `id`コマンドを実行してみます。\n",
    "\n",
    "> ansibleで別のユーザ権限でコマンドを実行するには --become-user にユーザ名を指定します。"
   ]
  },
  {
   "cell_type": "code",
   "execution_count": 61,
   "metadata": {
    "deletable": false,
    "editable": false,
    "hidden": true,
    "lc_cell_meme": {
     "current": "dc6eb75e-c2e7-11e8-9925-0242ac110002",
     "next": "dc6eb7f4-c2e7-11e8-9925-0242ac110002",
     "previous": "dc6eb6be-c2e7-11e8-9925-0242ac110002"
    },
    "run_through_control": {
     "frozen": true
    }
   },
   "outputs": [
    {
     "name": "stdout",
     "output_type": "stream",
     "text": [
      "\u001b[0;32m172.30.2.143 | SUCCESS | rc=0 >>\u001b[0m\n",
      "\u001b[0;32muid=1000(vcp) gid=1000(vcp) groups=1000(vcp)\u001b[0m\n",
      "\u001b[0;32m\u001b[0m\n",
      "\u001b[0;32m172.30.2.10 | SUCCESS | rc=0 >>\u001b[0m\n",
      "\u001b[0;32muid=1000(vcp) gid=1000(vcp) groups=1000(vcp)\u001b[0m\n",
      "\u001b[0;32m\u001b[0m\n"
     ]
    }
   ],
   "source": [
    "# 別のユーザ権限に変更するためのオプションを変数に設定しておく\n",
    "become_opts = '-b --become-user=vcp --become-method=su'\n",
    "\n",
    "# id コマンドを実行して一般ユーザ(vcp)権限でコマンドが実行できることを確認する\n",
    "!ansible {unit_client.name} {become_opts} -a 'id'\n",
    "!ansible {unit_server.name} {become_opts} -a 'id'"
   ]
  },
  {
   "cell_type": "markdown",
   "metadata": {
    "lc_cell_meme": {
     "current": "dc6eb7f4-c2e7-11e8-9925-0242ac110002",
     "next": "dc6eb88a-c2e7-11e8-9925-0242ac110002",
     "previous": "dc6eb75e-c2e7-11e8-9925-0242ac110002"
    }
   },
   "source": [
    "### ファイルの作成"
   ]
  },
  {
   "cell_type": "markdown",
   "metadata": {
    "lc_cell_meme": {
     "current": "dc6eb88a-c2e7-11e8-9925-0242ac110002",
     "next": "dc6eb984-c2e7-11e8-9925-0242ac110002",
     "previous": "dc6eb7f4-c2e7-11e8-9925-0242ac110002"
    }
   },
   "source": [
    "ファイルに書き込む内容を変数に設定します。"
   ]
  },
  {
   "cell_type": "code",
   "execution_count": 62,
   "metadata": {
    "deletable": false,
    "editable": false,
    "lc_cell_meme": {
     "current": "dc6eb984-c2e7-11e8-9925-0242ac110002",
     "next": "dc6eba24-c2e7-11e8-9925-0242ac110002",
     "previous": "dc6eb88a-c2e7-11e8-9925-0242ac110002"
    },
    "run_through_control": {
     "frozen": true
    }
   },
   "outputs": [],
   "source": [
    "text = '''\n",
    "この Notebook では以下の操作を行います。\n",
    "\n",
    "1. VCP SDKを用いてVCディスク(Amazon EBS)を作成する\n",
    "2. 作成したVCディスクをアタッチしたVCノード(Amazon EC2)を起動する\n",
    "3. VCディスクにファイルシステムを作成しNFSサーバで公開する\n",
    "4. NFSで公開されているディレクトリを他のVCノードからNFSマウントして、ファイルの読み書きを行う\n",
    "5. VCノードを全て削除する\n",
    "6. VCディスクをアタッチしたVCノードを新たに起動して、先ほど書き込んだファイルにアクセスできることを確認する\n",
    "'''"
   ]
  },
  {
   "cell_type": "markdown",
   "metadata": {
    "lc_cell_meme": {
     "current": "dc6eba24-c2e7-11e8-9925-0242ac110002",
     "next": "dc6ebae2-c2e7-11e8-9925-0242ac110002",
     "previous": "dc6eb984-c2e7-11e8-9925-0242ac110002"
    }
   },
   "source": [
    "NFSクライアント側で `/data/text` というファイルに先ほどの内容を書き込みます。書き込む際のユーザ権限は先ほど設定した `become_opts` の指定で一般ユーザ `vcp` に変更します。ファイルの書き込みには、リモート環境にあるファイルの内容を書き換えることができる Ansible の [blockinfile モジュール](https://docs.ansible.com/ansible/latest/modules/blockinfile_module.html)を利用します。\n",
    "blockinfileモジュールの簡単な使用方法を以下に記します。詳細についてはリンク先の[公式ドキュメント](https://docs.ansible.com/ansible/latest/modules/blockinfile_module.html)を参照してください。\n",
    "\n",
    "\n",
    "```\n",
    "ansible <ホストパターン> -m blockinfile -a 'path=<path> owner=<owner> create=<no|yes> block=<content>'\n",
    "\n",
    "blockinfileモジュールのパラメータ(-a)について:\n",
    "path\n",
    "      更新対象となるリモート環境のファイル\n",
    "owner\n",
    "      更新対象のファイルのオーナー\n",
    "create\n",
    "      ファイルが存在しない場合、作成するか否か\n",
    "      yes を設定するとファイルが存在しない場合でもファイルを作成して内容の変更を行う\n",
    "      no を設定するとファイルが存在しない場合は何もしない(デフォルト)\n",
    "block\n",
    "      ファイルに書き込む内容\n",
    "```"
   ]
  },
  {
   "cell_type": "code",
   "execution_count": 63,
   "metadata": {
    "deletable": false,
    "editable": false,
    "lc_cell_meme": {
     "current": "dc6ebae2-c2e7-11e8-9925-0242ac110002",
     "next": "dc6ebb82-c2e7-11e8-9925-0242ac110002",
     "previous": "dc6eba24-c2e7-11e8-9925-0242ac110002"
    },
    "run_through_control": {
     "frozen": true
    }
   },
   "outputs": [
    {
     "name": "stdout",
     "output_type": "stream",
     "text": [
      "\u001b[0;33m172.30.2.143 | SUCCESS => {\u001b[0m\r\n",
      "\u001b[0;33m    \"changed\": true, \u001b[0m\r\n",
      "\u001b[0;33m    \"failed\": false, \u001b[0m\r\n",
      "\u001b[0;33m    \"msg\": \"File created\"\u001b[0m\r\n",
      "\u001b[0;33m}\u001b[0m\r\n"
     ]
    }
   ],
   "source": [
    "!ansible {unit_client.name} {become_opts} -m blockinfile \\\n",
    "    -a 'path=/data/text owner=vcp create=yes block=\"{text}\"'"
   ]
  },
  {
   "cell_type": "markdown",
   "metadata": {
    "lc_cell_meme": {
     "current": "dc6ebb82-c2e7-11e8-9925-0242ac110002",
     "next": "dc6ebc22-c2e7-11e8-9925-0242ac110002",
     "previous": "dc6ebae2-c2e7-11e8-9925-0242ac110002"
    }
   },
   "source": [
    "ファイルが作成されたことを確認するためにNFSクライアント側で `ls -l /data`, `cat /data/text` を実行してみます。"
   ]
  },
  {
   "cell_type": "code",
   "execution_count": 64,
   "metadata": {
    "deletable": false,
    "editable": false,
    "lc_cell_meme": {
     "current": "dc6ebc22-c2e7-11e8-9925-0242ac110002",
     "next": "dc6ebcb8-c2e7-11e8-9925-0242ac110002",
     "previous": "dc6ebb82-c2e7-11e8-9925-0242ac110002"
    },
    "run_through_control": {
     "frozen": true
    },
    "scrolled": true
   },
   "outputs": [
    {
     "name": "stdout",
     "output_type": "stream",
     "text": [
      "\u001b[0;32m172.30.2.143 | SUCCESS | rc=0 >>\u001b[0m\r\n",
      "\u001b[0;32mtotal 8\u001b[0m\r\n",
      "\u001b[0;32mdrwxrwxrwt    2 root     root            18 Sep 28 06:37 .\u001b[0m\r\n",
      "\u001b[0;32mdrwxr-xr-x   62 root     root          4096 Sep 28 06:37 ..\u001b[0m\r\n",
      "\u001b[0;32m-rw-r--r--    1 vcp      vcp            682 Sep 28 06:37 text\u001b[0m\r\n",
      "\u001b[0;32m\u001b[0m\r\n"
     ]
    }
   ],
   "source": [
    "!ansible {unit_client.name} -a 'ls -la /data'"
   ]
  },
  {
   "cell_type": "code",
   "execution_count": 65,
   "metadata": {
    "deletable": false,
    "editable": false,
    "lc_cell_meme": {
     "current": "dc6ebcb8-c2e7-11e8-9925-0242ac110002",
     "next": "dc6ebd58-c2e7-11e8-9925-0242ac110002",
     "previous": "dc6ebc22-c2e7-11e8-9925-0242ac110002"
    },
    "run_through_control": {
     "frozen": true
    }
   },
   "outputs": [
    {
     "name": "stdout",
     "output_type": "stream",
     "text": [
      "\u001b[0;32m172.30.2.143 | SUCCESS | rc=0 >>\u001b[0m\r\n",
      "\u001b[0;32m# BEGIN ANSIBLE MANAGED BLOCK\u001b[0m\r\n",
      "\u001b[0;32m\u001b[0m\r\n",
      "\u001b[0;32mこの Notebook では以下の操作を行います。\u001b[0m\r\n",
      "\u001b[0;32m\u001b[0m\r\n",
      "\u001b[0;32m1. VCP SDKを用いてVCディスク(Amazon EBS)を作成する\u001b[0m\r\n",
      "\u001b[0;32m2. 作成したVCディスクをアタッチしたVCノード(Amazon EC2)を起動する\u001b[0m\r\n",
      "\u001b[0;32m3. VCディスクにファイルシステムを作成しNFSサーバで公開する\u001b[0m\r\n",
      "\u001b[0;32m4. NFSで公開されているディレクトリを他のVCノードからNFSマウントして、ファイルの読み書きを行う\u001b[0m\r\n",
      "\u001b[0;32m5. VCノードを全て削除する\u001b[0m\r\n",
      "\u001b[0;32m6. VCディスクをアタッチしたVCノードを新たに起動して、先ほど書き込んだファイルにアクセスできることを確認する\u001b[0m\r\n",
      "\u001b[0;32m# END ANSIBLE MANAGED BLOCK\u001b[0m\r\n",
      "\u001b[0;32m\u001b[0m\r\n"
     ]
    }
   ],
   "source": [
    "!ansible {unit_client.name} -a 'cat /data/text'"
   ]
  },
  {
   "cell_type": "markdown",
   "metadata": {
    "lc_cell_meme": {
     "current": "dc6ebd58-c2e7-11e8-9925-0242ac110002",
     "next": "dc6ebdee-c2e7-11e8-9925-0242ac110002",
     "previous": "dc6ebcb8-c2e7-11e8-9925-0242ac110002"
    }
   },
   "source": [
    "NFSサーバ側でも同様の確認を行ってみます。"
   ]
  },
  {
   "cell_type": "code",
   "execution_count": 66,
   "metadata": {
    "deletable": false,
    "editable": false,
    "lc_cell_meme": {
     "current": "dc6ebdee-c2e7-11e8-9925-0242ac110002",
     "next": "dc6ebe8e-c2e7-11e8-9925-0242ac110002",
     "previous": "dc6ebd58-c2e7-11e8-9925-0242ac110002"
    },
    "run_through_control": {
     "frozen": true
    }
   },
   "outputs": [
    {
     "name": "stdout",
     "output_type": "stream",
     "text": [
      "\u001b[0;32m172.30.2.10 | SUCCESS | rc=0 >>\u001b[0m\r\n",
      "\u001b[0;32mtotal 8\u001b[0m\r\n",
      "\u001b[0;32mdrwxrwxrwt    2 root     root            18 Sep 28 06:37 .\u001b[0m\r\n",
      "\u001b[0;32mdrwxr-xr-x   70 root     root          4096 Sep 28 06:37 ..\u001b[0m\r\n",
      "\u001b[0;32m-rw-r--r--    1 vcp      vcp            682 Sep 28 06:37 text\u001b[0m\r\n",
      "\u001b[0;32m\u001b[0m\r\n"
     ]
    }
   ],
   "source": [
    "!ansible {unit_server.name} -a 'ls -la /data'"
   ]
  },
  {
   "cell_type": "code",
   "execution_count": 67,
   "metadata": {
    "deletable": false,
    "editable": false,
    "lc_cell_meme": {
     "current": "dc6ebe8e-c2e7-11e8-9925-0242ac110002",
     "next": "dc6ebf24-c2e7-11e8-9925-0242ac110002",
     "previous": "dc6ebdee-c2e7-11e8-9925-0242ac110002"
    },
    "run_through_control": {
     "frozen": true
    },
    "scrolled": true
   },
   "outputs": [
    {
     "name": "stdout",
     "output_type": "stream",
     "text": [
      "\u001b[0;32m172.30.2.10 | SUCCESS | rc=0 >>\u001b[0m\r\n",
      "\u001b[0;32m# BEGIN ANSIBLE MANAGED BLOCK\u001b[0m\r\n",
      "\u001b[0;32m\u001b[0m\r\n",
      "\u001b[0;32mこの Notebook では以下の操作を行います。\u001b[0m\r\n",
      "\u001b[0;32m\u001b[0m\r\n",
      "\u001b[0;32m1. VCP SDKを用いてVCディスク(Amazon EBS)を作成する\u001b[0m\r\n",
      "\u001b[0;32m2. 作成したVCディスクをアタッチしたVCノード(Amazon EC2)を起動する\u001b[0m\r\n",
      "\u001b[0;32m3. VCディスクにファイルシステムを作成しNFSサーバで公開する\u001b[0m\r\n",
      "\u001b[0;32m4. NFSで公開されているディレクトリを他のVCノードからNFSマウントして、ファイルの読み書きを行う\u001b[0m\r\n",
      "\u001b[0;32m5. VCノードを全て削除する\u001b[0m\r\n",
      "\u001b[0;32m6. VCディスクをアタッチしたVCノードを新たに起動して、先ほど書き込んだファイルにアクセスできることを確認する\u001b[0m\r\n",
      "\u001b[0;32m# END ANSIBLE MANAGED BLOCK\u001b[0m\r\n",
      "\u001b[0;32m\u001b[0m\r\n"
     ]
    }
   ],
   "source": [
    "!ansible {unit_server.name} -a 'cat /data/text'"
   ]
  },
  {
   "attachments": {},
   "cell_type": "markdown",
   "metadata": {
    "lc_cell_meme": {
     "current": "dc6ebf24-c2e7-11e8-9925-0242ac110002",
     "next": "dc6ebfc4-c2e7-11e8-9925-0242ac110002",
     "previous": "dc6ebe8e-c2e7-11e8-9925-0242ac110002"
    }
   },
   "source": [
    "# VCノードの削除\n",
    "\n",
    "作成したVCノードをいったん全て削除します。\n",
    "\n",
    "この節を実行すると次図の状態になります。\n",
    "\n",
    "![step6](images/104-007.png)"
   ]
  },
  {
   "cell_type": "markdown",
   "metadata": {
    "lc_cell_meme": {
     "current": "dc6ebfc4-c2e7-11e8-9925-0242ac110002",
     "next": "dc6ec05a-c2e7-11e8-9925-0242ac110002",
     "previous": "dc6ebf24-c2e7-11e8-9925-0242ac110002"
    }
   },
   "source": [
    "VCノードを削除するまえにNFSのアンマウントを行います。"
   ]
  },
  {
   "cell_type": "code",
   "execution_count": 68,
   "metadata": {
    "deletable": false,
    "editable": false,
    "lc_cell_meme": {
     "current": "dc6ec05a-c2e7-11e8-9925-0242ac110002",
     "next": "dc6ec0f0-c2e7-11e8-9925-0242ac110002",
     "previous": "dc6ebfc4-c2e7-11e8-9925-0242ac110002"
    },
    "run_through_control": {
     "frozen": true
    },
    "scrolled": true
   },
   "outputs": [
    {
     "name": "stdout",
     "output_type": "stream",
     "text": [
      "\u001b[0;33m172.30.2.143 | SUCCESS => {\u001b[0m\r\n",
      "\u001b[0;33m    \"changed\": true, \u001b[0m\r\n",
      "\u001b[0;33m    \"dump\": \"0\", \u001b[0m\r\n",
      "\u001b[0;33m    \"failed\": false, \u001b[0m\r\n",
      "\u001b[0;33m    \"fstab\": \"/etc/fstab\", \u001b[0m\r\n",
      "\u001b[0;33m    \"fstype\": \"nfs\", \u001b[0m\r\n",
      "\u001b[0;33m    \"name\": \"/data\", \u001b[0m\r\n",
      "\u001b[0;33m    \"opts\": \"nfsvers=4\", \u001b[0m\r\n",
      "\u001b[0;33m    \"passno\": \"0\", \u001b[0m\r\n",
      "\u001b[0;33m    \"src\": \"172.30.2.10:/\"\u001b[0m\r\n",
      "\u001b[0;33m}\u001b[0m\r\n"
     ]
    }
   ],
   "source": [
    "!ansible {unit_client.name} -b -m mount \\\n",
    "    -a 'path=/data src=172.30.2.10:/ state=unmounted fstype=nfs opts=nfsvers=4'"
   ]
  },
  {
   "cell_type": "markdown",
   "metadata": {
    "lc_cell_meme": {
     "current": "dc6ec0f0-c2e7-11e8-9925-0242ac110002",
     "next": "dc6ec190-c2e7-11e8-9925-0242ac110002",
     "previous": "dc6ec05a-c2e7-11e8-9925-0242ac110002"
    }
   },
   "source": [
    "NFSサーバのVCノードではVCディスクのアンマウントを行います。"
   ]
  },
  {
   "cell_type": "code",
   "execution_count": 69,
   "metadata": {
    "deletable": false,
    "editable": false,
    "lc_cell_meme": {
     "current": "dc6ec190-c2e7-11e8-9925-0242ac110002",
     "next": "dc6ec226-c2e7-11e8-9925-0242ac110002",
     "previous": "dc6ec0f0-c2e7-11e8-9925-0242ac110002"
    },
    "run_through_control": {
     "frozen": true
    }
   },
   "outputs": [
    {
     "name": "stdout",
     "output_type": "stream",
     "text": [
      "\u001b[0;32m172.30.2.10 | SUCCESS | rc=0 >>\u001b[0m\n",
      "\u001b[0;32m\u001b[0m\n",
      "\u001b[0;32m\u001b[0m\n",
      "\u001b[0;33m172.30.2.10 | SUCCESS => {\u001b[0m\n",
      "\u001b[0;33m    \"changed\": true, \u001b[0m\n",
      "\u001b[0;33m    \"dump\": \"0\", \u001b[0m\n",
      "\u001b[0;33m    \"failed\": false, \u001b[0m\n",
      "\u001b[0;33m    \"fstab\": \"/etc/fstab\", \u001b[0m\n",
      "\u001b[0;33m    \"fstype\": \"xfs\", \u001b[0m\n",
      "\u001b[0;33m    \"name\": \"/data\", \u001b[0m\n",
      "\u001b[0;33m    \"opts\": \"defaults\", \u001b[0m\n",
      "\u001b[0;33m    \"passno\": \"0\", \u001b[0m\n",
      "\u001b[0;33m    \"src\": \"LABEL=nfs-data\"\u001b[0m\n",
      "\u001b[0;33m}\u001b[0m\n"
     ]
    }
   ],
   "source": [
    "# 全てのディレクトリをアンエクスポートする\n",
    "!ansible {unit_server.name} -b -a 'exportfs -ua'\n",
    "\n",
    "# アンマウントを行う\n",
    "!ansible {unit_server.name} -b -m mount \\\n",
    "    -a 'path=/data src=LABEL=nfs-data state=unmounted fstype=xfs'"
   ]
  },
  {
   "cell_type": "markdown",
   "metadata": {
    "lc_cell_meme": {
     "current": "dc6ec226-c2e7-11e8-9925-0242ac110002",
     "next": "dc6ec2c6-c2e7-11e8-9925-0242ac110002",
     "previous": "dc6ec190-c2e7-11e8-9925-0242ac110002"
    }
   },
   "source": [
    "`handson104` に属している全てのVCノードを削除します。\n",
    "\n",
    "> 処理が完了するまで1分半～2分程度かかります。"
   ]
  },
  {
   "cell_type": "code",
   "execution_count": 70,
   "metadata": {
    "deletable": false,
    "editable": false,
    "lc_cell_meme": {
     "current": "dc6ec2c6-c2e7-11e8-9925-0242ac110002",
     "next": "dc6ec366-c2e7-11e8-9925-0242ac110002",
     "previous": "dc6ec226-c2e7-11e8-9925-0242ac110002"
    },
    "run_through_control": {
     "frozen": true
    },
    "scrolled": true
   },
   "outputs": [
    {
     "name": "stdout",
     "output_type": "stream",
     "text": [
      "2018-09-28 15:38:32,114 - INFO - nfsServer is DELETING\n",
      "nfsClient is DELETING ... 0 sec\n",
      "2018-09-28 15:38:37,413 - INFO - nfsServer is DELETING\n",
      "nfsClient is DELETING ... 5 sec\n",
      "2018-09-28 15:38:42,710 - INFO - nfsServer is DELETING\n",
      "nfsClient is DELETING ... 10 sec\n",
      "2018-09-28 15:38:48,027 - INFO - nfsServer is DELETING\n",
      "nfsClient is DELETING ... 15 sec\n",
      "2018-09-28 15:38:53,325 - INFO - nfsServer is DELETING\n",
      "nfsClient is DELETING ... 20 sec\n",
      "2018-09-28 15:38:58,616 - INFO - nfsServer is DELETING\n",
      "nfsClient is DELETING ... 25 sec\n",
      "2018-09-28 15:39:03,906 - INFO - nfsServer is DELETING\n",
      "nfsClient is DELETING ... 30 sec\n",
      "2018-09-28 15:39:09,198 - INFO - nfsServer is DELETING\n",
      "nfsClient is DELETING ... 35 sec\n",
      "2018-09-28 15:39:14,496 - INFO - nfsServer is DELETING\n",
      "nfsClient is DELETING ... 40 sec\n",
      "2018-09-28 15:39:19,801 - INFO - nfsServer is DELETING\n",
      "nfsClient is DELETING ... 45 sec\n",
      "2018-09-28 15:39:25,107 - INFO - nfsServer is DELETING\n",
      "nfsClient is DELETING ... 50 sec\n",
      "2018-09-28 15:39:30,367 - INFO - nfsClient is DELETING ... 55 sec\n",
      "2018-09-28 15:39:35,623 - INFO - nfsClient is DELETING ... 60 sec\n",
      "2018-09-28 15:39:40,880 - INFO - nfsClient is DELETING ... 65 sec\n",
      "2018-09-28 15:39:46,139 - INFO - nfsClient is DELETING ... 70 sec\n",
      "2018-09-28 15:39:51,396 - INFO - nfsClient is DELETING ... 75 sec\n",
      "2018-09-28 15:39:56,657 - INFO - nfsClient is DELETING ... 80 sec\n",
      "2018-09-28 15:40:01,914 - INFO - nfsClient is DELETING ... 85 sec\n",
      "2018-09-28 15:40:07,177 - INFO - nfsClient is DELETING ... 90 sec\n",
      "2018-09-28 15:40:12,424 - INFO - nfsClient is DELETING ... 95 sec\n",
      "2018-09-28 15:40:17,668 - INFO - nfsClient is None ... 100 sec\n",
      "2018-09-28 15:40:22,881 - INFO - cleanup completed. vc handson104 is cleanup(no unit)\n"
     ]
    }
   ],
   "source": [
    "unit_group.cleanup()"
   ]
  },
  {
   "cell_type": "markdown",
   "metadata": {
    "lc_cell_meme": {
     "current": "dc6ec366-c2e7-11e8-9925-0242ac110002",
     "next": "dc6ec3fc-c2e7-11e8-9925-0242ac110002",
     "previous": "dc6ec2c6-c2e7-11e8-9925-0242ac110002"
    }
   },
   "source": [
    "削除後の状態を確認してみます。"
   ]
  },
  {
   "cell_type": "code",
   "execution_count": 71,
   "metadata": {
    "deletable": false,
    "editable": false,
    "lc_cell_meme": {
     "current": "dc6ec3fc-c2e7-11e8-9925-0242ac110002",
     "next": "dc6ec4b0-c2e7-11e8-9925-0242ac110002",
     "previous": "dc6ec366-c2e7-11e8-9925-0242ac110002"
    },
    "run_through_control": {
     "frozen": true
    }
   },
   "outputs": [
    {
     "data": {
      "text/html": [
       "<div>\n",
       "<style>\n",
       "    .dataframe thead tr:only-child th {\n",
       "        text-align: right;\n",
       "    }\n",
       "\n",
       "    .dataframe thead th {\n",
       "        text-align: left;\n",
       "    }\n",
       "\n",
       "    .dataframe tbody tr th {\n",
       "        vertical-align: top;\n",
       "    }\n",
       "</style>\n",
       "<table border=\"1\" class=\"dataframe\">\n",
       "  <thead>\n",
       "    <tr style=\"text-align: right;\">\n",
       "      <th></th>\n",
       "      <th>vcno</th>\n",
       "      <th>vctype</th>\n",
       "      <th>vcname</th>\n",
       "      <th>state</th>\n",
       "      <th>vcid</th>\n",
       "      <th>cdate</th>\n",
       "    </tr>\n",
       "  </thead>\n",
       "  <tbody>\n",
       "    <tr>\n",
       "      <th>0</th>\n",
       "      <td>39</td>\n",
       "      <td>storage</td>\n",
       "      <td>handson104-disk</td>\n",
       "      <td>RUNNING</td>\n",
       "      <td>9a906c6d...</td>\n",
       "      <td>2018/09/28 06:29:02 UTC</td>\n",
       "    </tr>\n",
       "  </tbody>\n",
       "</table>\n",
       "</div>"
      ],
      "text/plain": [
       "   vcno   vctype           vcname    state         vcid  \\\n",
       "0    39  storage  handson104-disk  RUNNING  9a906c6d...   \n",
       "\n",
       "                     cdate  \n",
       "0  2018/09/28 06:29:02 UTC  "
      ]
     },
     "execution_count": 71,
     "metadata": {},
     "output_type": "execute_result"
    }
   ],
   "source": [
    "vcp.df_ugroups()"
   ]
  },
  {
   "attachments": {},
   "cell_type": "markdown",
   "metadata": {
    "lc_cell_meme": {
     "current": "dc6ec4b0-c2e7-11e8-9925-0242ac110002",
     "next": "dc6ec550-c2e7-11e8-9925-0242ac110002",
     "previous": "dc6ec3fc-c2e7-11e8-9925-0242ac110002"
    }
   },
   "source": [
    "# 新たなVCノードにVCディスクを再びアタッチする\n",
    "\n",
    "この節を実行すると次の図の状態になります。\n",
    "\n",
    "![step7](images/104-008.png)"
   ]
  },
  {
   "cell_type": "markdown",
   "metadata": {
    "heading_collapsed": true,
    "lc_cell_meme": {
     "current": "dc6ec550-c2e7-11e8-9925-0242ac110002",
     "next": "dc6ec5f0-c2e7-11e8-9925-0242ac110002",
     "previous": "dc6ec4b0-c2e7-11e8-9925-0242ac110002"
    }
   },
   "source": [
    "## VCノードの起動"
   ]
  },
  {
   "cell_type": "markdown",
   "metadata": {
    "hidden": true,
    "lc_cell_meme": {
     "current": "dc6ec5f0-c2e7-11e8-9925-0242ac110002",
     "next": "dc6ec686-c2e7-11e8-9925-0242ac110002",
     "previous": "dc6ec550-c2e7-11e8-9925-0242ac110002"
    }
   },
   "source": [
    "### UnitGroupの作成\n",
    "\n",
    "VCノード用のUnitGroupを新たに作成します。"
   ]
  },
  {
   "cell_type": "code",
   "execution_count": 72,
   "metadata": {
    "deletable": false,
    "editable": false,
    "hidden": true,
    "lc_cell_meme": {
     "current": "dc6ec686-c2e7-11e8-9925-0242ac110002",
     "next": "dc6ec726-c2e7-11e8-9925-0242ac110002",
     "previous": "dc6ec5f0-c2e7-11e8-9925-0242ac110002"
    },
    "run_through_control": {
     "frozen": true
    }
   },
   "outputs": [],
   "source": [
    "unit_group2 = vcp.create_ugroup('handson104B')"
   ]
  },
  {
   "cell_type": "markdown",
   "metadata": {
    "hidden": true,
    "lc_cell_meme": {
     "current": "dc6ec726-c2e7-11e8-9925-0242ac110002",
     "next": "dc6ec7bc-c2e7-11e8-9925-0242ac110002",
     "previous": "dc6ec686-c2e7-11e8-9925-0242ac110002"
    }
   },
   "source": [
    "### VCノードのspecを指定する\n",
    "\n",
    "VCディスクをアタッチするVCノードのUnitを構成します。基本的にはNFSサーバ用のUnitと同じ設定を `spec`オブジェクトに対して行います。"
   ]
  },
  {
   "cell_type": "markdown",
   "metadata": {
    "hidden": true,
    "lc_cell_meme": {
     "current": "dc6ec7bc-c2e7-11e8-9925-0242ac110002",
     "next": "dc6ec85c-c2e7-11e8-9925-0242ac110002",
     "previous": "dc6ec726-c2e7-11e8-9925-0242ac110002"
    }
   },
   "source": [
    "#### spec オブジェクトを作成する"
   ]
  },
  {
   "cell_type": "markdown",
   "metadata": {
    "hidden": true,
    "lc_cell_meme": {
     "current": "dc6ec85c-c2e7-11e8-9925-0242ac110002",
     "next": "dc6ec8f2-c2e7-11e8-9925-0242ac110002",
     "previous": "dc6ec7bc-c2e7-11e8-9925-0242ac110002"
    }
   },
   "source": [
    "Unitに対応する specオブジェクトを作成します。ここでは以下の値を指定します。\n",
    "\n",
    "* プロバイダ: `aws`\n",
    "* flavor: `small`"
   ]
  },
  {
   "cell_type": "code",
   "execution_count": 73,
   "metadata": {
    "deletable": false,
    "editable": false,
    "hidden": true,
    "lc_cell_meme": {
     "current": "dc6ec8f2-c2e7-11e8-9925-0242ac110002",
     "next": "dc6ec988-c2e7-11e8-9925-0242ac110002",
     "previous": "dc6ec85c-c2e7-11e8-9925-0242ac110002"
    },
    "run_through_control": {
     "frozen": true
    }
   },
   "outputs": [],
   "source": [
    "spec_server2 = VcpSDK.get_spec('aws', 'small')"
   ]
  },
  {
   "cell_type": "markdown",
   "metadata": {
    "hidden": true,
    "lc_cell_meme": {
     "current": "dc6ec988-c2e7-11e8-9925-0242ac110002",
     "next": "dc6eca1e-c2e7-11e8-9925-0242ac110002",
     "previous": "dc6ec8f2-c2e7-11e8-9925-0242ac110002"
    }
   },
   "source": [
    "#### sshの鍵ファイルを設定する"
   ]
  },
  {
   "cell_type": "markdown",
   "metadata": {
    "hidden": true,
    "lc_cell_meme": {
     "current": "dc6eca1e-c2e7-11e8-9925-0242ac110002",
     "next": "dc6ecabe-c2e7-11e8-9925-0242ac110002",
     "previous": "dc6ec988-c2e7-11e8-9925-0242ac110002"
    }
   },
   "source": [
    "VCノードに登録するsshの公開鍵を `spec`オブジェクトに設定します。先ほどNFSサーバ用Unitで設定したのと同じ値を指定しています。"
   ]
  },
  {
   "cell_type": "code",
   "execution_count": 74,
   "metadata": {
    "deletable": false,
    "editable": false,
    "hidden": true,
    "lc_cell_meme": {
     "current": "dc6ecabe-c2e7-11e8-9925-0242ac110002",
     "next": "dc6ecb54-c2e7-11e8-9925-0242ac110002",
     "previous": "dc6eca1e-c2e7-11e8-9925-0242ac110002"
    },
    "run_through_control": {
     "frozen": true
    }
   },
   "outputs": [],
   "source": [
    "spec_server2.params_e.append('AUTHORIZED_KEYS={}'.format(b64_ssh_public_key))"
   ]
  },
  {
   "cell_type": "markdown",
   "metadata": {
    "hidden": true,
    "lc_cell_meme": {
     "current": "dc6ecb54-c2e7-11e8-9925-0242ac110002",
     "next": "dc6ecc08-c2e7-11e8-9925-0242ac110002",
     "previous": "dc6ecabe-c2e7-11e8-9925-0242ac110002"
    }
   },
   "source": [
    "#### VCノードのIPアドレスを設定する"
   ]
  },
  {
   "cell_type": "markdown",
   "metadata": {
    "hidden": true,
    "lc_cell_meme": {
     "current": "dc6ecc08-c2e7-11e8-9925-0242ac110002",
     "next": "dc6ecca8-c2e7-11e8-9925-0242ac110002",
     "previous": "dc6ecb54-c2e7-11e8-9925-0242ac110002"
    }
   },
   "source": [
    "先ほどNFSサーバ用Unitで設定したのと同じIPアドレスを`spec`オブジェクトに指定します。"
   ]
  },
  {
   "cell_type": "code",
   "execution_count": 75,
   "metadata": {
    "deletable": false,
    "editable": false,
    "hidden": true,
    "lc_cell_meme": {
     "current": "dc6ecca8-c2e7-11e8-9925-0242ac110002",
     "next": "dc6ecd48-c2e7-11e8-9925-0242ac110002",
     "previous": "dc6ecc08-c2e7-11e8-9925-0242ac110002"
    },
    "run_through_control": {
     "frozen": true
    }
   },
   "outputs": [],
   "source": [
    "spec_server2.ip_address_list = [server_ip_address]"
   ]
  },
  {
   "cell_type": "markdown",
   "metadata": {
    "hidden": true,
    "lc_cell_meme": {
     "current": "dc6ecd48-c2e7-11e8-9925-0242ac110002",
     "next": "dc6ecdfc-c2e7-11e8-9925-0242ac110002",
     "previous": "dc6ecca8-c2e7-11e8-9925-0242ac110002"
    }
   },
   "source": [
    "#### VCディスクをアタッチする"
   ]
  },
  {
   "cell_type": "markdown",
   "metadata": {
    "hidden": true,
    "lc_cell_meme": {
     "current": "dc6ecdfc-c2e7-11e8-9925-0242ac110002",
     "next": "dc6ecea6-c2e7-11e8-9925-0242ac110002",
     "previous": "dc6ecd48-c2e7-11e8-9925-0242ac110002"
    }
   },
   "source": [
    "先ほどNFSサーバ用Unitで設定したのと同じボリュームIDを`spec`オブジェクトに指定します。"
   ]
  },
  {
   "cell_type": "code",
   "execution_count": 76,
   "metadata": {
    "deletable": false,
    "editable": false,
    "hidden": true,
    "lc_cell_meme": {
     "current": "dc6ecea6-c2e7-11e8-9925-0242ac110002",
     "next": "dc6ecf46-c2e7-11e8-9925-0242ac110002",
     "previous": "dc6ecdfc-c2e7-11e8-9925-0242ac110002"
    },
    "run_through_control": {
     "frozen": true
    }
   },
   "outputs": [],
   "source": [
    "spec_server2.volume_id = volume_id"
   ]
  },
  {
   "cell_type": "markdown",
   "metadata": {
    "hidden": true,
    "lc_cell_meme": {
     "current": "dc6ecf46-c2e7-11e8-9925-0242ac110002",
     "next": "dc6ed00e-c2e7-11e8-9925-0242ac110002",
     "previous": "dc6ecea6-c2e7-11e8-9925-0242ac110002"
    }
   },
   "source": [
    "#### NFSサーバ用のBaseコンテナに関する設定を行う"
   ]
  },
  {
   "cell_type": "markdown",
   "metadata": {
    "hidden": true,
    "lc_cell_meme": {
     "current": "dc6ed00e-c2e7-11e8-9925-0242ac110002",
     "next": "dc6ed0b8-c2e7-11e8-9925-0242ac110002",
     "previous": "dc6ecf46-c2e7-11e8-9925-0242ac110002"
    }
   },
   "source": [
    "先ほどNFSサーバ用Unitで設定したのと同じBaseコンテナイメージを`spec`オブジェクトに指定します。"
   ]
  },
  {
   "cell_type": "code",
   "execution_count": 77,
   "metadata": {
    "deletable": false,
    "editable": false,
    "hidden": true,
    "lc_cell_meme": {
     "current": "dc6ed0b8-c2e7-11e8-9925-0242ac110002",
     "next": "dc6ed14e-c2e7-11e8-9925-0242ac110002",
     "previous": "dc6ed00e-c2e7-11e8-9925-0242ac110002"
    },
    "run_through_control": {
     "frozen": true
    }
   },
   "outputs": [],
   "source": [
    "# NFSサーバ用のコンテナイメージを設定する\n",
    "spec_server2.image = 'nfsd'"
   ]
  },
  {
   "cell_type": "markdown",
   "metadata": {
    "hidden": true,
    "lc_cell_meme": {
     "current": "dc6ed14e-c2e7-11e8-9925-0242ac110002",
     "next": "dc6ed1f8-c2e7-11e8-9925-0242ac110002",
     "previous": "dc6ed0b8-c2e7-11e8-9925-0242ac110002"
    }
   },
   "source": [
    "先ほどNFSサーバ用Unitで設定したのとNFSドメインの値を`spec`オブジェクトに指定します。"
   ]
  },
  {
   "cell_type": "code",
   "execution_count": 78,
   "metadata": {
    "deletable": false,
    "editable": false,
    "hidden": true,
    "lc_cell_meme": {
     "current": "dc6ed1f8-c2e7-11e8-9925-0242ac110002",
     "next": "dc6ed28e-c2e7-11e8-9925-0242ac110002",
     "previous": "dc6ed14e-c2e7-11e8-9925-0242ac110002"
    },
    "run_through_control": {
     "frozen": true
    }
   },
   "outputs": [],
   "source": [
    "spec_server2.params_e.append('NFS_DOMAIN={}'.format(nfs_domain))"
   ]
  },
  {
   "cell_type": "markdown",
   "metadata": {
    "hidden": true,
    "lc_cell_meme": {
     "current": "dc6ed28e-c2e7-11e8-9925-0242ac110002",
     "next": "dc6ed32e-c2e7-11e8-9925-0242ac110002",
     "previous": "dc6ed1f8-c2e7-11e8-9925-0242ac110002"
    }
   },
   "source": [
    "NFSサーバの /etc/fstab, /etc/exports は VCノード を削除したときに同時に削除されています。先程と同等の /etc/fstab, /etc/exports を復元するには Baseコンテナの環境変数として与える必要があります。"
   ]
  },
  {
   "cell_type": "markdown",
   "metadata": {
    "hidden": true,
    "lc_cell_meme": {
     "current": "dc6ed32e-c2e7-11e8-9925-0242ac110002",
     "next": "dc6ed3ce-c2e7-11e8-9925-0242ac110002",
     "previous": "dc6ed28e-c2e7-11e8-9925-0242ac110002"
    }
   },
   "source": [
    "まず NFSサーバの /etc/fstab に関する設定を行います。/etc/fstabに関するBaseコンテナの環境変数の設定方法は以下のようになっています。\n",
    "\n",
    "* ETC_FSTAB\n",
    "  - 指定された値を/etc/fstabに反映する。ただしbase64エンコードした値を指定する必要がある\n",
    "  \n",
    "設定する /etc/fstab の内容を変数に設定します。\n",
    "\n",
    "> /etc/fstab の設定内容は先ほどNFSサーバを設定した箇所の実行記録で確認できます。"
   ]
  },
  {
   "cell_type": "code",
   "execution_count": 79,
   "metadata": {
    "deletable": false,
    "editable": false,
    "hidden": true,
    "lc_cell_meme": {
     "current": "dc6ed3ce-c2e7-11e8-9925-0242ac110002",
     "next": "dc6ed464-c2e7-11e8-9925-0242ac110002",
     "previous": "dc6ed32e-c2e7-11e8-9925-0242ac110002"
    },
    "run_through_control": {
     "frozen": true
    }
   },
   "outputs": [],
   "source": [
    "fstab = 'LABEL=nfs-data /data xfs defaults 0 0'"
   ]
  },
  {
   "cell_type": "markdown",
   "metadata": {
    "hidden": true,
    "lc_cell_meme": {
     "current": "dc6ed464-c2e7-11e8-9925-0242ac110002",
     "next": "dc6ed4fa-c2e7-11e8-9925-0242ac110002",
     "previous": "dc6ed3ce-c2e7-11e8-9925-0242ac110002"
    }
   },
   "source": [
    "`fstab`の内容を base64エンコードして `ETC_FSTAB` に設定します。"
   ]
  },
  {
   "cell_type": "code",
   "execution_count": 80,
   "metadata": {
    "deletable": false,
    "editable": false,
    "hidden": true,
    "lc_cell_meme": {
     "current": "dc6ed4fa-c2e7-11e8-9925-0242ac110002",
     "next": "dc6ed59a-c2e7-11e8-9925-0242ac110002",
     "previous": "dc6ed464-c2e7-11e8-9925-0242ac110002"
    },
    "run_through_control": {
     "frozen": true
    }
   },
   "outputs": [],
   "source": [
    "import base64\n",
    "spec_server2.params_e.append('ETC_FSTAB={}'.format(\n",
    "    base64.b64encode(fstab.encode('UTF-8')).decode('UTF-8')))"
   ]
  },
  {
   "cell_type": "markdown",
   "metadata": {
    "hidden": true,
    "lc_cell_meme": {
     "current": "dc6ed59a-c2e7-11e8-9925-0242ac110002",
     "next": "dc6ed630-c2e7-11e8-9925-0242ac110002",
     "previous": "dc6ed4fa-c2e7-11e8-9925-0242ac110002"
    }
   },
   "source": [
    "次に /etc/exports に関する設定を行います。/etc/exportsに関するBaseコンテナの環境変数の設定方法は以下のようになっています。\n",
    "\n",
    "* ETC_EXPORTS\n",
    "  - 指定された値を/etc/exportsに反映する。ただしbase64エンコードした値を指定する必要がある\n",
    "  \n",
    "/etc/exports の記述内容は、先ほどNFSサーバを設定した際に変数 `exports` に格納してあるので、その内容を確認してみます。"
   ]
  },
  {
   "cell_type": "code",
   "execution_count": 81,
   "metadata": {
    "deletable": false,
    "editable": false,
    "hidden": true,
    "lc_cell_meme": {
     "current": "dc6ed630-c2e7-11e8-9925-0242ac110002",
     "next": "dc6ed6d0-c2e7-11e8-9925-0242ac110002",
     "previous": "dc6ed59a-c2e7-11e8-9925-0242ac110002"
    },
    "run_through_control": {
     "frozen": true
    }
   },
   "outputs": [
    {
     "data": {
      "text/plain": [
       "'/data 172.30.2.0/24(rw,fsid=0,no_subtree_check)'"
      ]
     },
     "execution_count": 81,
     "metadata": {},
     "output_type": "execute_result"
    }
   ],
   "source": [
    "exports"
   ]
  },
  {
   "cell_type": "markdown",
   "metadata": {
    "hidden": true,
    "lc_cell_meme": {
     "current": "dc6ed6d0-c2e7-11e8-9925-0242ac110002",
     "next": "dc6ed766-c2e7-11e8-9925-0242ac110002",
     "previous": "dc6ed630-c2e7-11e8-9925-0242ac110002"
    }
   },
   "source": [
    "`exports`の内容を base64エンコードして `ETC_EXPORTS` に設定します。"
   ]
  },
  {
   "cell_type": "code",
   "execution_count": 82,
   "metadata": {
    "deletable": false,
    "editable": false,
    "hidden": true,
    "lc_cell_meme": {
     "current": "dc6ed766-c2e7-11e8-9925-0242ac110002",
     "next": "dc6ed806-c2e7-11e8-9925-0242ac110002",
     "previous": "dc6ed6d0-c2e7-11e8-9925-0242ac110002"
    },
    "run_through_control": {
     "frozen": true
    }
   },
   "outputs": [],
   "source": [
    "spec_server2.params_e.append('ETC_EXPORTS={}'.format(\n",
    "    base64.b64encode(exports.encode('UTF-8')).decode('UTF-8')))"
   ]
  },
  {
   "cell_type": "markdown",
   "metadata": {
    "hidden": true,
    "lc_cell_meme": {
     "current": "dc6ed806-c2e7-11e8-9925-0242ac110002",
     "next": "dc6ed89c-c2e7-11e8-9925-0242ac110002",
     "previous": "dc6ed766-c2e7-11e8-9925-0242ac110002"
    }
   },
   "source": [
    "最後にマウントポイントになるディレクトリ `/data` を事前に作成するために環境変数 `MKDIR_LIST` の設定を行います。\n",
    "\n",
    "* MKDIR_LIST\n",
    "  - 指定されたディレクトリを起動時に作成する\n",
    "  - 複数のディレクトリを指定する場合は `:` で区切る\n",
    "  - マウントポイントなど事前にディレクトリが存在する必要がある場合に指定する"
   ]
  },
  {
   "cell_type": "code",
   "execution_count": 83,
   "metadata": {
    "deletable": false,
    "editable": false,
    "hidden": true,
    "lc_cell_meme": {
     "current": "dc6ed89c-c2e7-11e8-9925-0242ac110002",
     "next": "dc6ed93c-c2e7-11e8-9925-0242ac110002",
     "previous": "dc6ed806-c2e7-11e8-9925-0242ac110002"
    },
    "run_through_control": {
     "frozen": true
    }
   },
   "outputs": [],
   "source": [
    "spec_server2.params_e.append('MKDIR_LIST=/data')"
   ]
  },
  {
   "cell_type": "markdown",
   "metadata": {
    "hidden": true,
    "lc_cell_meme": {
     "current": "dc6ed93c-c2e7-11e8-9925-0242ac110002",
     "next": "dc6ed9dc-c2e7-11e8-9925-0242ac110002",
     "previous": "dc6ed89c-c2e7-11e8-9925-0242ac110002"
    }
   },
   "source": [
    "#### specの設定内容の確認\n",
    "\n",
    "ここまで `spec` オブジェクトに設定した内容を確認してみます。"
   ]
  },
  {
   "cell_type": "code",
   "execution_count": 84,
   "metadata": {
    "deletable": false,
    "editable": false,
    "hidden": true,
    "lc_cell_meme": {
     "current": "dc6ed9dc-c2e7-11e8-9925-0242ac110002",
     "next": "dc6eda72-c2e7-11e8-9925-0242ac110002",
     "previous": "dc6ed93c-c2e7-11e8-9925-0242ac110002"
    },
    "run_through_control": {
     "frozen": true
    }
   },
   "outputs": [
    {
     "name": "stdout",
     "output_type": "stream",
     "text": [
      "\n",
      "========================\n",
      "aws\n",
      "------------------------\n",
      "\n",
      "    cci_version: \"1.0\"\n",
      "    name: \n",
      "    description: \n",
      "    private_network: default\n",
      "    num_nodes: 1\n",
      "    image: nfsd\n",
      "    recovery_mode: none\n",
      "    params:\n",
      "        {'v': [], 'e': ['AUTHORIZED_KEYS=c3NoLXJzYSBBQUFBQjNOemFDMXljMkVBQUFBREFRQUJBQUFCQVFDdE5KYjBIWkU0SHR0ZjV3WWhhbkQyR2RBZm9Wc0o2eVZOR3JMOWFUQ040SWtXUGZ1a1ZOOFdUTldldHp4T3cwOXlrZlZqQlFZUG9JOWhzOHYzd2hjaHRqZlFneHEvWTBvTWFLNlQ1bmdybmtMZFd6VFcxSFhhZ3A0SFdBTGtvVGNtQkhUaG9lWitKdGdkbS9ham8ySHVNblhqbHY0Y215WDVQZ3JhdU5IVDZoTEJUc2k2NzBkNWFSTTZLY3B1VVc0RS8xMHF1WklQcXhaMzJvQnFxU2V6c1gzVlV2Nnk2Um1Ldzg3eC9FUU1XVUtlemR3bHJuTWpwY3p0TTRSQzVrc0s1QWp6bC9oY3FaOGVOMjhaanVxM3RPRHNWY05SVHdzajdGWTZjaXVsbFhURndzZHhjNjM5U290VmpwWWNZSUpqWGhZTW1mTkNpdFFRamxaNVNVdUgK', 'NFS_DOMAIN=vcp-handson.org', 'ETC_FSTAB=TEFCRUw9bmZzLWRhdGEgL2RhdGEgeGZzIGRlZmF1bHRzIDAgMA==', 'ETC_EXPORTS=L2RhdGEgMTcyLjMwLjIuMC8yNChydyxmc2lkPTAsbm9fc3VidHJlZV9jaGVjayk=', 'MKDIR_LIST=/data']}\n",
      "    instance_type: m4.large\n",
      "    volume_size: 20\n",
      "    volume_type: standard\n",
      "    volume_id: ['vol-05352d9eb7355cdd7']\n",
      "    cloud_image: default\n",
      "    tags: {}\n",
      "========================\n"
     ]
    }
   ],
   "source": [
    "print(spec_server2)"
   ]
  },
  {
   "cell_type": "markdown",
   "metadata": {
    "hidden": true,
    "lc_cell_meme": {
     "current": "dc6eda72-c2e7-11e8-9925-0242ac110002",
     "next": "dc6edb12-c2e7-11e8-9925-0242ac110002",
     "previous": "dc6ed9dc-c2e7-11e8-9925-0242ac110002"
    }
   },
   "source": [
    "### Unitの作成とVCノードの起動"
   ]
  },
  {
   "cell_type": "markdown",
   "metadata": {
    "hidden": true,
    "lc_cell_meme": {
     "current": "dc6edb12-c2e7-11e8-9925-0242ac110002",
     "next": "dc6edba8-c2e7-11e8-9925-0242ac110002",
     "previous": "dc6eda72-c2e7-11e8-9925-0242ac110002"
    }
   },
   "source": [
    "起動前のUnit, Nodeの状態を確認しておきます。"
   ]
  },
  {
   "cell_type": "code",
   "execution_count": 85,
   "metadata": {
    "deletable": false,
    "editable": false,
    "hidden": true,
    "lc_cell_meme": {
     "current": "dc6edba8-c2e7-11e8-9925-0242ac110002",
     "next": "dc6edc48-c2e7-11e8-9925-0242ac110002",
     "previous": "dc6edb12-c2e7-11e8-9925-0242ac110002"
    },
    "run_through_control": {
     "frozen": true
    }
   },
   "outputs": [
    {
     "data": {
      "text/html": [
       "<div>\n",
       "<style>\n",
       "    .dataframe thead tr:only-child th {\n",
       "        text-align: right;\n",
       "    }\n",
       "\n",
       "    .dataframe thead th {\n",
       "        text-align: left;\n",
       "    }\n",
       "\n",
       "    .dataframe tbody tr th {\n",
       "        vertical-align: top;\n",
       "    }\n",
       "</style>\n",
       "<table border=\"1\" class=\"dataframe\">\n",
       "  <thead>\n",
       "    <tr style=\"text-align: right;\">\n",
       "      <th></th>\n",
       "      <th>vctype</th>\n",
       "      <th>vcno</th>\n",
       "      <th>vcname</th>\n",
       "      <th>vc_state</th>\n",
       "      <th>vcid</th>\n",
       "      <th>cdate</th>\n",
       "      <th>unit_name</th>\n",
       "      <th>unit_state</th>\n",
       "    </tr>\n",
       "  </thead>\n",
       "  <tbody>\n",
       "  </tbody>\n",
       "</table>\n",
       "</div>"
      ],
      "text/plain": [
       "Empty DataFrame\n",
       "Columns: [vctype, vcno, vcname, vc_state, vcid, cdate, unit_name, unit_state]\n",
       "Index: []"
      ]
     },
     "metadata": {},
     "output_type": "display_data"
    },
    {
     "data": {
      "text/plain": [
       "None"
      ]
     },
     "metadata": {},
     "output_type": "display_data"
    }
   ],
   "source": [
    "# Unitの一覧を DataFrame で表示する\n",
    "display(unit_group2.df_units())\n",
    "\n",
    "# Nodeの一覧を DataFrame で表示する\n",
    "display(unit_group2.df_nodes())"
   ]
  },
  {
   "cell_type": "markdown",
   "metadata": {
    "hidden": true,
    "lc_cell_meme": {
     "current": "dc6edc48-c2e7-11e8-9925-0242ac110002",
     "next": "dc6edcde-c2e7-11e8-9925-0242ac110002",
     "previous": "dc6edba8-c2e7-11e8-9925-0242ac110002"
    }
   },
   "source": [
    "Unitの作成とVCノードの起動を行います。\n",
    "\n",
    "> 処理が完了するまで1分半～2分程度かかります。"
   ]
  },
  {
   "cell_type": "code",
   "execution_count": 86,
   "metadata": {
    "deletable": false,
    "editable": false,
    "hidden": true,
    "lc_cell_meme": {
     "current": "dc6edcde-c2e7-11e8-9925-0242ac110002",
     "next": "dc6edd74-c2e7-11e8-9925-0242ac110002",
     "previous": "dc6edc48-c2e7-11e8-9925-0242ac110002"
    },
    "run_through_control": {
     "frozen": true
    }
   },
   "outputs": [
    {
     "name": "stdout",
     "output_type": "stream",
     "text": [
      "2018-09-28 15:40:35,183 - INFO - BOOTING ... 0 sec\n",
      "2018-09-28 15:40:40,390 - INFO - BOOTING ... 5 sec\n",
      "2018-09-28 15:40:45,598 - INFO - BOOTING ... 10 sec\n",
      "2018-09-28 15:40:50,797 - INFO - BOOTING ... 15 sec\n",
      "2018-09-28 15:40:55,996 - INFO - BOOTING ... 20 sec\n",
      "2018-09-28 15:41:01,207 - INFO - BOOTING ... 25 sec\n",
      "2018-09-28 15:41:06,398 - INFO - BOOTING ... 30 sec\n",
      "2018-09-28 15:41:11,592 - INFO - BOOTING ... 35 sec\n",
      "2018-09-28 15:41:16,797 - INFO - BOOTING ... 40 sec\n",
      "2018-09-28 15:41:21,990 - INFO - BOOTING ... 45 sec\n",
      "2018-09-28 15:41:27,176 - INFO - BOOTING ... 50 sec\n",
      "2018-09-28 15:41:32,367 - INFO - BOOTING ... 55 sec\n",
      "2018-09-28 15:41:37,567 - INFO - BOOTING ... 60 sec\n",
      "2018-09-28 15:41:42,778 - INFO - BOOTING ... 65 sec\n",
      "2018-09-28 15:41:47,978 - INFO - BOOTING ... 70 sec\n",
      "2018-09-28 15:41:53,193 - INFO - BOOTING ... 75 sec\n",
      "2018-09-28 15:41:58,398 - INFO - BOOTING ... 80 sec\n",
      "2018-09-28 15:42:03,616 - INFO - unit nfsServer is RUNNING\n"
     ]
    }
   ],
   "source": [
    "# Unitの作成（同時に VCノードが作成される）\n",
    "unit_server = unit_group2.create_unit('nfsServer', spec_server2)"
   ]
  },
  {
   "cell_type": "markdown",
   "metadata": {
    "hidden": true,
    "lc_cell_meme": {
     "current": "dc6edd74-c2e7-11e8-9925-0242ac110002",
     "next": "dc6ede0a-c2e7-11e8-9925-0242ac110002",
     "previous": "dc6edcde-c2e7-11e8-9925-0242ac110002"
    }
   },
   "source": [
    "起動したUnit, VCノードの一覧を表示します。"
   ]
  },
  {
   "cell_type": "code",
   "execution_count": 87,
   "metadata": {
    "deletable": false,
    "editable": false,
    "hidden": true,
    "lc_cell_meme": {
     "current": "dc6ede0a-c2e7-11e8-9925-0242ac110002",
     "next": "dc6edeaa-c2e7-11e8-9925-0242ac110002",
     "previous": "dc6edd74-c2e7-11e8-9925-0242ac110002"
    },
    "run_through_control": {
     "frozen": true
    }
   },
   "outputs": [
    {
     "data": {
      "text/html": [
       "<div>\n",
       "<style>\n",
       "    .dataframe thead tr:only-child th {\n",
       "        text-align: right;\n",
       "    }\n",
       "\n",
       "    .dataframe thead th {\n",
       "        text-align: left;\n",
       "    }\n",
       "\n",
       "    .dataframe tbody tr th {\n",
       "        vertical-align: top;\n",
       "    }\n",
       "</style>\n",
       "<table border=\"1\" class=\"dataframe\">\n",
       "  <thead>\n",
       "    <tr style=\"text-align: right;\">\n",
       "      <th></th>\n",
       "      <th>vctype</th>\n",
       "      <th>vcno</th>\n",
       "      <th>vcname</th>\n",
       "      <th>vc_state</th>\n",
       "      <th>vcid</th>\n",
       "      <th>cdate</th>\n",
       "      <th>unit_name</th>\n",
       "      <th>unit_state</th>\n",
       "    </tr>\n",
       "  </thead>\n",
       "  <tbody>\n",
       "    <tr>\n",
       "      <th>0</th>\n",
       "      <td>compute</td>\n",
       "      <td>41</td>\n",
       "      <td>handson104B</td>\n",
       "      <td>RUNNING</td>\n",
       "      <td>eb13b412...</td>\n",
       "      <td>2018/09/28 06:39:13 UTC</td>\n",
       "      <td>nfsServer</td>\n",
       "      <td>RUNNING</td>\n",
       "    </tr>\n",
       "  </tbody>\n",
       "</table>\n",
       "</div>"
      ],
      "text/plain": [
       "    vctype  vcno       vcname vc_state         vcid                    cdate  \\\n",
       "0  compute    41  handson104B  RUNNING  eb13b412...  2018/09/28 06:39:13 UTC   \n",
       "\n",
       "   unit_name unit_state  \n",
       "0  nfsServer    RUNNING  "
      ]
     },
     "metadata": {},
     "output_type": "display_data"
    },
    {
     "data": {
      "text/html": [
       "<div>\n",
       "<style>\n",
       "    .dataframe thead tr:only-child th {\n",
       "        text-align: right;\n",
       "    }\n",
       "\n",
       "    .dataframe thead th {\n",
       "        text-align: left;\n",
       "    }\n",
       "\n",
       "    .dataframe tbody tr th {\n",
       "        vertical-align: top;\n",
       "    }\n",
       "</style>\n",
       "<table border=\"1\" class=\"dataframe\">\n",
       "  <thead>\n",
       "    <tr style=\"text-align: right;\">\n",
       "      <th></th>\n",
       "      <th>vcno</th>\n",
       "      <th>vcname</th>\n",
       "      <th>unit_name</th>\n",
       "      <th>unit_state</th>\n",
       "      <th>node_no</th>\n",
       "      <th>node_id</th>\n",
       "      <th>node_state</th>\n",
       "      <th>cloud_instance_address</th>\n",
       "      <th>cloud_instance_id</th>\n",
       "      <th>cloud_instance_name</th>\n",
       "      <th>volumes</th>\n",
       "    </tr>\n",
       "  </thead>\n",
       "  <tbody>\n",
       "    <tr>\n",
       "      <th>0</th>\n",
       "      <td>41</td>\n",
       "      <td>handson104B</td>\n",
       "      <td>nfsServer</td>\n",
       "      <td>RUNNING</td>\n",
       "      <td>1</td>\n",
       "      <td>6c2ae4d8...</td>\n",
       "      <td>RUNNING</td>\n",
       "      <td>172.30.2.10</td>\n",
       "      <td>i-09dd361b661fd2290</td>\n",
       "      <td>VCP-020661f0-eb13b412</td>\n",
       "      <td>exists</td>\n",
       "    </tr>\n",
       "  </tbody>\n",
       "</table>\n",
       "</div>"
      ],
      "text/plain": [
       "   vcno       vcname  unit_name unit_state  node_no      node_id node_state  \\\n",
       "0    41  handson104B  nfsServer    RUNNING        1  6c2ae4d8...    RUNNING   \n",
       "\n",
       "  cloud_instance_address    cloud_instance_id    cloud_instance_name volumes  \n",
       "0            172.30.2.10  i-09dd361b661fd2290  VCP-020661f0-eb13b412  exists  "
      ]
     },
     "metadata": {},
     "output_type": "display_data"
    }
   ],
   "source": [
    "# Unitの一覧を DataFrame で表示する\n",
    "display(unit_group2.df_units())\n",
    "\n",
    "# Nodeの一覧を DataFrame で表示する\n",
    "display(unit_group2.df_nodes())"
   ]
  },
  {
   "cell_type": "markdown",
   "metadata": {
    "lc_cell_meme": {
     "current": "dc6edeaa-c2e7-11e8-9925-0242ac110002",
     "next": "dc6edf4a-c2e7-11e8-9925-0242ac110002",
     "previous": "dc6ede0a-c2e7-11e8-9925-0242ac110002"
    }
   },
   "source": [
    "## VCディスクの内容を確認する"
   ]
  },
  {
   "cell_type": "markdown",
   "metadata": {
    "lc_cell_meme": {
     "current": "dc6edf4a-c2e7-11e8-9925-0242ac110002",
     "next": "dc6ee01c-c2e7-11e8-9925-0242ac110002",
     "previous": "dc6edeaa-c2e7-11e8-9925-0242ac110002"
    }
   },
   "source": [
    "先程NFSクライアントで作成したファイルにアクセスできるか確認してみます。"
   ]
  },
  {
   "cell_type": "code",
   "execution_count": 88,
   "metadata": {
    "deletable": false,
    "editable": false,
    "lc_cell_meme": {
     "current": "dc6ee01c-c2e7-11e8-9925-0242ac110002",
     "next": "dc6ee0bc-c2e7-11e8-9925-0242ac110002",
     "previous": "dc6edf4a-c2e7-11e8-9925-0242ac110002"
    },
    "run_through_control": {
     "frozen": true
    }
   },
   "outputs": [
    {
     "name": "stdout",
     "output_type": "stream",
     "text": [
      "\u001b[0;32m172.30.2.10 | SUCCESS | rc=0 >>\u001b[0m\r\n",
      "\u001b[0;32mtotal 8\u001b[0m\r\n",
      "\u001b[0;32mdrwxrwxrwt    2 root     root            18 Sep 28 06:37 .\u001b[0m\r\n",
      "\u001b[0;32mdrwxr-xr-x   69 root     root          4096 Sep 28 06:41 ..\u001b[0m\r\n",
      "\u001b[0;32m-rw-r--r--    1 1000     1000           682 Sep 28 06:37 text\u001b[0m\r\n",
      "\u001b[0;32m\u001b[0m\r\n"
     ]
    }
   ],
   "source": [
    "!ansible {unit_server.name} -a 'ls -la /data'"
   ]
  },
  {
   "cell_type": "code",
   "execution_count": 89,
   "metadata": {
    "deletable": false,
    "editable": false,
    "lc_cell_meme": {
     "current": "dc6ee0bc-c2e7-11e8-9925-0242ac110002",
     "next": "dc6ee15c-c2e7-11e8-9925-0242ac110002",
     "previous": "dc6ee01c-c2e7-11e8-9925-0242ac110002"
    },
    "run_through_control": {
     "frozen": true
    }
   },
   "outputs": [
    {
     "name": "stdout",
     "output_type": "stream",
     "text": [
      "\u001b[0;32m172.30.2.10 | SUCCESS | rc=0 >>\u001b[0m\r\n",
      "\u001b[0;32m# BEGIN ANSIBLE MANAGED BLOCK\u001b[0m\r\n",
      "\u001b[0;32m\u001b[0m\r\n",
      "\u001b[0;32mこの Notebook では以下の操作を行います。\u001b[0m\r\n",
      "\u001b[0;32m\u001b[0m\r\n",
      "\u001b[0;32m1. VCP SDKを用いてVCディスク(Amazon EBS)を作成する\u001b[0m\r\n",
      "\u001b[0;32m2. 作成したVCディスクをアタッチしたVCノード(Amazon EC2)を起動する\u001b[0m\r\n",
      "\u001b[0;32m3. VCディスクにファイルシステムを作成しNFSサーバで公開する\u001b[0m\r\n",
      "\u001b[0;32m4. NFSで公開されているディレクトリを他のVCノードからNFSマウントして、ファイルの読み書きを行う\u001b[0m\r\n",
      "\u001b[0;32m5. VCノードを全て削除する\u001b[0m\r\n",
      "\u001b[0;32m6. VCディスクをアタッチしたVCノードを新たに起動して、先ほど書き込んだファイルにアクセスできることを確認する\u001b[0m\r\n",
      "\u001b[0;32m# END ANSIBLE MANAGED BLOCK\u001b[0m\r\n",
      "\u001b[0;32m\u001b[0m\r\n"
     ]
    }
   ],
   "source": [
    "!ansible {unit_server.name} -a 'cat /data/text'"
   ]
  },
  {
   "cell_type": "markdown",
   "metadata": {
    "lc_cell_meme": {
     "current": "dc6ee15c-c2e7-11e8-9925-0242ac110002",
     "next": "dc6ee1f2-c2e7-11e8-9925-0242ac110002",
     "previous": "dc6ee0bc-c2e7-11e8-9925-0242ac110002"
    }
   },
   "source": [
    "> ユーザ`vcp`に関する情報が削除されているので、所有者に関する情報がユーザ名ではなく UID:GID になっています。ユーザ情報などは外部の（あるいは別UnitGroupに構築した）LDAPサーバなどに格納することが望ましいです。"
   ]
  },
  {
   "cell_type": "markdown",
   "metadata": {
    "lc_cell_meme": {
     "current": "dc6ee1f2-c2e7-11e8-9925-0242ac110002",
     "next": "dc6ee292-c2e7-11e8-9925-0242ac110002",
     "previous": "dc6ee15c-c2e7-11e8-9925-0242ac110002"
    }
   },
   "source": [
    "# 後始末"
   ]
  },
  {
   "cell_type": "markdown",
   "metadata": {
    "lc_cell_meme": {
     "current": "dc6ee292-c2e7-11e8-9925-0242ac110002",
     "next": "dc6ee332-c2e7-11e8-9925-0242ac110002",
     "previous": "dc6ee1f2-c2e7-11e8-9925-0242ac110002"
    }
   },
   "source": [
    "これまでに作成した全てのリソースを削除します。\n",
    "\n",
    "> 処理が完了するまで1分～2分程度かかります。"
   ]
  },
  {
   "cell_type": "code",
   "execution_count": 90,
   "metadata": {
    "deletable": false,
    "editable": false,
    "lc_cell_meme": {
     "current": "dc6ee332-c2e7-11e8-9925-0242ac110002",
     "next": "dc6ee3c8-c2e7-11e8-9925-0242ac110002",
     "previous": "dc6ee292-c2e7-11e8-9925-0242ac110002"
    },
    "run_through_control": {
     "frozen": true
    }
   },
   "outputs": [
    {
     "name": "stdout",
     "output_type": "stream",
     "text": [
      "2018-09-28 15:42:31,343 - INFO - nfsServer is DELETING ... 0 sec\n",
      "2018-09-28 15:42:36,591 - INFO - nfsServer is DELETING ... 5 sec\n",
      "2018-09-28 15:42:41,841 - INFO - nfsServer is DELETING ... 10 sec\n",
      "2018-09-28 15:42:47,084 - INFO - nfsServer is DELETING ... 15 sec\n",
      "2018-09-28 15:42:52,324 - INFO - nfsServer is DELETING ... 20 sec\n",
      "2018-09-28 15:42:57,563 - INFO - nfsServer is DELETING ... 25 sec\n",
      "2018-09-28 15:43:02,803 - INFO - nfsServer is DELETING ... 30 sec\n",
      "2018-09-28 15:43:08,052 - INFO - nfsServer is DELETING ... 35 sec\n",
      "2018-09-28 15:43:13,293 - INFO - nfsServer is DELETING ... 40 sec\n",
      "2018-09-28 15:43:18,543 - INFO - nfsServer is DELETING ... 45 sec\n",
      "2018-09-28 15:43:23,814 - INFO - nfsServer is DELETING ... 50 sec\n",
      "2018-09-28 15:43:29,032 - INFO - cleanup completed. vc handson104B is cleanup(no unit)\n",
      "2018-09-28 15:43:29,425 - INFO - data is DELETING ... 0 sec\n",
      "2018-09-28 15:43:34,643 - INFO - data is DELETING ... 5 sec\n",
      "2018-09-28 15:43:39,832 - INFO - cleanup completed. vc handson104-disk is cleanup(no unit)\n"
     ]
    }
   ],
   "source": [
    "# VCノードの削除\n",
    "unit_group2.cleanup()\n",
    "\n",
    "# VCディスクの削除\n",
    "ugroup_disk.cleanup()"
   ]
  },
  {
   "cell_type": "markdown",
   "metadata": {
    "lc_cell_meme": {
     "current": "dc6ee3c8-c2e7-11e8-9925-0242ac110002",
     "next": "dc6ee45e-c2e7-11e8-9925-0242ac110002",
     "previous": "dc6ee332-c2e7-11e8-9925-0242ac110002"
    }
   },
   "source": [
    "削除後の状態を確認します。"
   ]
  },
  {
   "cell_type": "code",
   "execution_count": 91,
   "metadata": {
    "deletable": false,
    "editable": false,
    "lc_cell_meme": {
     "current": "dc6ee45e-c2e7-11e8-9925-0242ac110002",
     "next": "dc6ee4fe-c2e7-11e8-9925-0242ac110002",
     "previous": "dc6ee3c8-c2e7-11e8-9925-0242ac110002"
    },
    "run_through_control": {
     "frozen": true
    }
   },
   "outputs": [
    {
     "data": {
      "text/html": [
       "<div>\n",
       "<style>\n",
       "    .dataframe thead tr:only-child th {\n",
       "        text-align: right;\n",
       "    }\n",
       "\n",
       "    .dataframe thead th {\n",
       "        text-align: left;\n",
       "    }\n",
       "\n",
       "    .dataframe tbody tr th {\n",
       "        vertical-align: top;\n",
       "    }\n",
       "</style>\n",
       "<table border=\"1\" class=\"dataframe\">\n",
       "  <thead>\n",
       "    <tr style=\"text-align: right;\">\n",
       "      <th></th>\n",
       "      <th>vcno</th>\n",
       "      <th>vctype</th>\n",
       "      <th>vcname</th>\n",
       "      <th>state</th>\n",
       "      <th>vcid</th>\n",
       "      <th>cdate</th>\n",
       "    </tr>\n",
       "  </thead>\n",
       "  <tbody>\n",
       "  </tbody>\n",
       "</table>\n",
       "</div>"
      ],
      "text/plain": [
       "Empty DataFrame\n",
       "Columns: [vcno, vctype, vcname, state, vcid, cdate]\n",
       "Index: []"
      ]
     },
     "execution_count": 91,
     "metadata": {},
     "output_type": "execute_result"
    }
   ],
   "source": [
    "# UnitGroupの一覧を DataFrame で表示する\n",
    "vcp.df_ugroups()"
   ]
  },
  {
   "cell_type": "markdown",
   "metadata": {
    "lc_cell_meme": {
     "current": "dc6ee4fe-c2e7-11e8-9925-0242ac110002",
     "next": "dc6ee59e-c2e7-11e8-9925-0242ac110002",
     "previous": "dc6ee45e-c2e7-11e8-9925-0242ac110002"
    }
   },
   "source": [
    "不要になったインベントリファイルを削除します。"
   ]
  },
  {
   "cell_type": "code",
   "execution_count": 92,
   "metadata": {
    "deletable": false,
    "editable": false,
    "lc_cell_meme": {
     "current": "dc6ee59e-c2e7-11e8-9925-0242ac110002",
     "next": null,
     "previous": "dc6ee4fe-c2e7-11e8-9925-0242ac110002"
    },
    "run_through_control": {
     "frozen": true
    }
   },
   "outputs": [],
   "source": [
    "!rm hosts"
   ]
  }
 ],
 "metadata": {
  "kernelspec": {
   "display_name": "Python 3",
   "language": "python",
   "name": "python3"
  },
  "language_info": {
   "codemirror_mode": {
    "name": "ipython",
    "version": 3
   },
   "file_extension": ".py",
   "mimetype": "text/x-python",
   "name": "python",
   "nbconvert_exporter": "python",
   "pygments_lexer": "ipython3",
   "version": "3.5.2"
  },
  "lc_notebook_meme": {
   "current": "dc6e4ca6-c2e7-11e8-9925-0242ac110002",
   "lc_server_signature": {
    "current": {
     "notebook_dir": "/notebooks/notebook",
     "notebook_path": "/handson/vcp-tutorial",
     "server_url": "http://13.231.115.112:8888/red/",
     "signature_id": "9618e102-9304-11e8-ab91-0242ac110002"
    },
    "history": []
   }
  },
  "toc": {
   "nav_menu": {},
   "number_sections": true,
   "sideBar": true,
   "skip_h1_title": false,
   "toc_cell": false,
   "toc_position": {
    "height": "826px",
    "left": "0px",
    "right": "1239px",
    "top": "111px",
    "width": "212px"
   },
   "toc_section_display": "block",
   "toc_window_display": true
  }
 },
 "nbformat": 4,
 "nbformat_minor": 2
}
