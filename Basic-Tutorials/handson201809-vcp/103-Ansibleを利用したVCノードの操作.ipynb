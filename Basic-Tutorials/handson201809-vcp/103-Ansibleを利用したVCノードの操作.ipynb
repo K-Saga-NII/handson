{
 "cells": [
  {
   "cell_type": "markdown",
   "metadata": {
    "lc_cell_meme": {
     "current": "89eb4ed0-c2e6-11e8-9925-0242ac110002",
     "next": "89eb4fa2-c2e6-11e8-9925-0242ac110002",
     "previous": null
    }
   },
   "source": [
    "# Ansibleを利用したVCノードの操作\n",
    "\n",
    "このNotebookではAnsible による VCノードの操作を行ってみます。"
   ]
  },
  {
   "cell_type": "markdown",
   "metadata": {
    "lc_cell_meme": {
     "current": "89eb4fa2-c2e6-11e8-9925-0242ac110002",
     "next": "89eb5042-c2e6-11e8-9925-0242ac110002",
     "previous": "89eb4ed0-c2e6-11e8-9925-0242ac110002"
    }
   },
   "source": [
    "## Ansibleについて"
   ]
  },
  {
   "cell_type": "markdown",
   "metadata": {
    "lc_cell_meme": {
     "current": "89eb5042-c2e6-11e8-9925-0242ac110002",
     "next": "89eb50d8-c2e6-11e8-9925-0242ac110002",
     "previous": "89eb4fa2-c2e6-11e8-9925-0242ac110002"
    }
   },
   "source": [
    "[Ansible](https://www.ansible.com/)は構成管理ツールとよばれるもののひとつです。次のような特徴をもっています。\n",
    "\n",
    "* エージェントレス\n",
    " - 管理対象となるホストに専用のエージェントをインストールする必要がない\n",
    " - Python が使用可能なこと、sshで接続可能であればよい\n",
    "* 冪等性\n",
    " - 何度操作しても同じ状態になることを保証している\n",
    " - ただし、シェルコマンドを実行するモジュールなどの冪等性を保証しないものもある\n",
    "* モジュール\n",
    " - ansibleの特定の機能を行う単位\n",
    " - コマンドを実行するモジュールやファイルを操作するモジュールなどがある\n",
    " - モジュールのリストは「[All modules](https://docs.ansible.com/ansible/latest/modules/list_of_all_modules.html)」で確認できる"
   ]
  },
  {
   "cell_type": "markdown",
   "metadata": {
    "lc_cell_meme": {
     "current": "89eb50d8-c2e6-11e8-9925-0242ac110002",
     "next": "89eb5178-c2e6-11e8-9925-0242ac110002",
     "previous": "89eb5042-c2e6-11e8-9925-0242ac110002"
    }
   },
   "source": [
    "複数のホストに対する操作が容易になるなどの利点があるので、VCPのアプリケーションテンプレートではVCノードを操作するために ansible を利用しています。"
   ]
  },
  {
   "cell_type": "markdown",
   "metadata": {
    "lc_cell_meme": {
     "current": "89eb5178-c2e6-11e8-9925-0242ac110002",
     "next": "89eb5218-c2e6-11e8-9925-0242ac110002",
     "previous": "89eb50d8-c2e6-11e8-9925-0242ac110002"
    }
   },
   "source": [
    "## 操作手順"
   ]
  },
  {
   "cell_type": "markdown",
   "metadata": {
    "lc_cell_meme": {
     "current": "89eb5218-c2e6-11e8-9925-0242ac110002",
     "next": "89eb52ae-c2e6-11e8-9925-0242ac110002",
     "previous": "89eb5178-c2e6-11e8-9925-0242ac110002"
    }
   },
   "source": [
    "この Notebook では大まかな操作手順は以下のようになります。\n",
    "\n",
    "1. Ansibleの操作対象となるVCノードを起動する\n",
    "1. VCノードをAnsibleのインベントリに登録する\n",
    "1. Ansibleを利用して VCノード でコマンドを実行する\n",
    "1. Ansibleを利用して VCノード のファイルをローカル環境に取得する\n",
    "1. Ansibleを利用して VCノード でパッケージをインストールする\n",
    "1. Ansibleを利用してローカル環境のファイルをVCノードに配置する"
   ]
  },
  {
   "cell_type": "markdown",
   "metadata": {
    "lc_cell_meme": {
     "current": "89eb52ae-c2e6-11e8-9925-0242ac110002",
     "next": "89eb5344-c2e6-11e8-9925-0242ac110002",
     "previous": "89eb5218-c2e6-11e8-9925-0242ac110002"
    }
   },
   "source": [
    "# VCノードを起動する\n",
    "\n",
    "Ansible の操作対象とする VCノード を起動します。"
   ]
  },
  {
   "cell_type": "markdown",
   "metadata": {
    "lc_cell_meme": {
     "current": "89eb5344-c2e6-11e8-9925-0242ac110002",
     "next": "89eb53e4-c2e6-11e8-9925-0242ac110002",
     "previous": "89eb52ae-c2e6-11e8-9925-0242ac110002"
    }
   },
   "source": [
    "## 構成"
   ]
  },
  {
   "cell_type": "markdown",
   "metadata": {
    "lc_cell_meme": {
     "current": "89eb53e4-c2e6-11e8-9925-0242ac110002",
     "next": "89eb547a-c2e6-11e8-9925-0242ac110002",
     "previous": "89eb5344-c2e6-11e8-9925-0242ac110002"
    }
   },
   "source": [
    "２つの VCノードを起動します。Unit, VCノードの構成を次の図に示します。"
   ]
  },
  {
   "attachments": {},
   "cell_type": "markdown",
   "metadata": {
    "lc_cell_meme": {
     "current": "89eb547a-c2e6-11e8-9925-0242ac110002",
     "next": "89eb5510-c2e6-11e8-9925-0242ac110002",
     "previous": "89eb53e4-c2e6-11e8-9925-0242ac110002"
    }
   },
   "source": [
    "![構成](images/103-001.png)\n",
    "\n",
    "* UnitGroup: handson103\n",
    "  - Unit: server\n",
    "    + サーバ用のVCノード\n",
    "    + 固定のIPアドレスを設定する\n",
    "    + flavor: small\n",
    "  - Unit: client\n",
    "    + クライアント用のVCノード\n",
    "    + flavor: small\n"
   ]
  },
  {
   "cell_type": "markdown",
   "metadata": {
    "lc_cell_meme": {
     "current": "89eb5510-c2e6-11e8-9925-0242ac110002",
     "next": "89eb55a6-c2e6-11e8-9925-0242ac110002",
     "previous": "89eb547a-c2e6-11e8-9925-0242ac110002"
    }
   },
   "source": [
    "## アクセストークンの入力"
   ]
  },
  {
   "cell_type": "markdown",
   "metadata": {
    "lc_cell_meme": {
     "current": "89eb55a6-c2e6-11e8-9925-0242ac110002",
     "next": "89eb563c-c2e6-11e8-9925-0242ac110002",
     "previous": "89eb5510-c2e6-11e8-9925-0242ac110002"
    }
   },
   "source": [
    "VCP SDKを利用するにはVC Controllerのアクセストークンが必要となります。次のセルを実行すると入力枠が表示されるのでアクセストークンの値を入力してください。"
   ]
  },
  {
   "cell_type": "code",
   "execution_count": 1,
   "metadata": {
    "deletable": false,
    "editable": false,
    "lc_cell_meme": {
     "current": "89eb563c-c2e6-11e8-9925-0242ac110002",
     "next": "89eb56dc-c2e6-11e8-9925-0242ac110002",
     "previous": "89eb55a6-c2e6-11e8-9925-0242ac110002"
    },
    "run_through_control": {
     "frozen": true
    }
   },
   "outputs": [
    {
     "name": "stdout",
     "output_type": "stream",
     "text": [
      "········\n"
     ]
    }
   ],
   "source": [
    "from getpass import getpass\n",
    "vcc_access_token = getpass()"
   ]
  },
  {
   "cell_type": "markdown",
   "metadata": {
    "lc_cell_meme": {
     "current": "89eb56dc-c2e6-11e8-9925-0242ac110002",
     "next": "89eb5768-c2e6-11e8-9925-0242ac110002",
     "previous": "89eb563c-c2e6-11e8-9925-0242ac110002"
    }
   },
   "source": [
    "## VCP SDKの初期化\n",
    "\n",
    "VCP SDKの初期化を行います。"
   ]
  },
  {
   "cell_type": "code",
   "execution_count": 2,
   "metadata": {
    "deletable": false,
    "editable": false,
    "lc_cell_meme": {
     "current": "89eb5768-c2e6-11e8-9925-0242ac110002",
     "next": "89eb5808-c2e6-11e8-9925-0242ac110002",
     "previous": "89eb56dc-c2e6-11e8-9925-0242ac110002"
    },
    "run_through_control": {
     "frozen": true
    }
   },
   "outputs": [],
   "source": [
    "from common import logsetting\n",
    "from vcpsdk.vcpsdk import VcpSDK\n",
    "\n",
    "\n",
    "# VCP SDKの初期化\n",
    "vcp = VcpSDK(\n",
    "    vcc_access_token,  # VCCのアクセストークン\n",
    ")"
   ]
  },
  {
   "cell_type": "markdown",
   "metadata": {
    "lc_cell_meme": {
     "current": "89eb5808-c2e6-11e8-9925-0242ac110002",
     "next": "89eb589e-c2e6-11e8-9925-0242ac110002",
     "previous": "89eb5768-c2e6-11e8-9925-0242ac110002"
    }
   },
   "source": [
    "上のセルの実行結果がエラーとなり以下のようなメッセージが表示されている場合は、入力されたアクセストークンに誤りがあります。\n",
    "\n",
    "```\n",
    "2018-09-XX XX:XX:XX,XXX - ERROR - config vc failed: http_status(403)\n",
    "2018-09-XX XX:XX:XX,XXX - ERROR - 2018/XX/XX XX:XX:XX UTC: VCPAuthException: xxxxxxx:token lookup is failed: permission denied\n",
    "```\n",
    "\n",
    "この場合はアクセストークンの入力からやり直してください。"
   ]
  },
  {
   "cell_type": "markdown",
   "metadata": {
    "lc_cell_meme": {
     "current": "89eb589e-c2e6-11e8-9925-0242ac110002",
     "next": "89eb593e-c2e6-11e8-9925-0242ac110002",
     "previous": "89eb5808-c2e6-11e8-9925-0242ac110002"
    }
   },
   "source": [
    "## ssh公開鍵認証の設定"
   ]
  },
  {
   "cell_type": "markdown",
   "metadata": {
    "lc_cell_meme": {
     "current": "89eb593e-c2e6-11e8-9925-0242ac110002",
     "next": "89eb59d4-c2e6-11e8-9925-0242ac110002",
     "previous": "89eb589e-c2e6-11e8-9925-0242ac110002"
    }
   },
   "source": [
    "VCノードに登録する公開鍵認証の**秘密鍵**のパスを次のセルで設定してください。\n",
    "\n",
    "> 起動する２つのVCノードには、ここで設定したsshの認証鍵を登録します。"
   ]
  },
  {
   "cell_type": "code",
   "execution_count": 3,
   "metadata": {
    "deletable": false,
    "editable": false,
    "lc_cell_meme": {
     "current": "89eb59d4-c2e6-11e8-9925-0242ac110002",
     "next": "89eb5a6a-c2e6-11e8-9925-0242ac110002",
     "previous": "89eb593e-c2e6-11e8-9925-0242ac110002"
    },
    "run_through_control": {
     "frozen": true
    }
   },
   "outputs": [],
   "source": [
    "import os\n",
    "ssh_private_key = os.path.expanduser('~/.ssh/id_rsa')"
   ]
  },
  {
   "cell_type": "markdown",
   "metadata": {
    "lc_cell_meme": {
     "current": "89eb5a6a-c2e6-11e8-9925-0242ac110002",
     "next": "89eb5b00-c2e6-11e8-9925-0242ac110002",
     "previous": "89eb59d4-c2e6-11e8-9925-0242ac110002"
    }
   },
   "source": [
    "## サーバ用IPアドレスの設定"
   ]
  },
  {
   "cell_type": "markdown",
   "metadata": {
    "lc_cell_meme": {
     "current": "89eb5b00-c2e6-11e8-9925-0242ac110002",
     "next": "89eb5b96-c2e6-11e8-9925-0242ac110002",
     "previous": "89eb5a6a-c2e6-11e8-9925-0242ac110002"
    }
   },
   "source": [
    "サーバ用のVCノードに割り当てるIPアドレスを設定します。\n",
    "\n",
    "> 割り当て可能な IP アドレスの範囲は[VCP Manager Web UI](https://vcpdev.ecloud.nii.ac.jp/vcp/v1/ui/occmgr/menu/occtrs) から取得することができます。\n",
    "\n",
    "> 172.30.2.1, 172.30.2.200 は他の用途で割り当て済なので、次のセルで指定しないでください。"
   ]
  },
  {
   "cell_type": "code",
   "execution_count": 4,
   "metadata": {
    "deletable": false,
    "editable": false,
    "lc_cell_meme": {
     "current": "89eb5b96-c2e6-11e8-9925-0242ac110002",
     "next": "89eb5c2c-c2e6-11e8-9925-0242ac110002",
     "previous": "89eb5b00-c2e6-11e8-9925-0242ac110002"
    },
    "run_through_control": {
     "frozen": true
    }
   },
   "outputs": [],
   "source": [
    "server_ip_address = '172.30.2.20'"
   ]
  },
  {
   "cell_type": "markdown",
   "metadata": {
    "heading_collapsed": true,
    "lc_cell_meme": {
     "current": "89eb5c2c-c2e6-11e8-9925-0242ac110002",
     "next": "89eb5cc2-c2e6-11e8-9925-0242ac110002",
     "previous": "89eb5b96-c2e6-11e8-9925-0242ac110002"
    }
   },
   "source": [
    "## VCノードの起動"
   ]
  },
  {
   "cell_type": "markdown",
   "metadata": {
    "hidden": true,
    "lc_cell_meme": {
     "current": "89eb5cc2-c2e6-11e8-9925-0242ac110002",
     "next": "89eb5d58-c2e6-11e8-9925-0242ac110002",
     "previous": "89eb5c2c-c2e6-11e8-9925-0242ac110002"
    }
   },
   "source": [
    "### VCノードのspecを指定する"
   ]
  },
  {
   "cell_type": "markdown",
   "metadata": {
    "hidden": true,
    "lc_cell_meme": {
     "current": "89eb5d58-c2e6-11e8-9925-0242ac110002",
     "next": "89eb5df8-c2e6-11e8-9925-0242ac110002",
     "previous": "89eb5cc2-c2e6-11e8-9925-0242ac110002"
    }
   },
   "source": [
    "このNotebookではサーバ用VCノードのUnitとクライアント用VCノードのUnitを作成します。それぞれのUnitに対応する `spec`を指定します。"
   ]
  },
  {
   "cell_type": "markdown",
   "metadata": {
    "hidden": true,
    "lc_cell_meme": {
     "current": "89eb5df8-c2e6-11e8-9925-0242ac110002",
     "next": "89eb5e8e-c2e6-11e8-9925-0242ac110002",
     "previous": "89eb5d58-c2e6-11e8-9925-0242ac110002"
    }
   },
   "source": [
    "#### サーバ用 specの指定\n",
    "\n",
    "サーバ用VCノードのUnitに対応する spec オブジェクト `spec_server` の設定を行います。"
   ]
  },
  {
   "cell_type": "code",
   "execution_count": 5,
   "metadata": {
    "deletable": false,
    "editable": false,
    "hidden": true,
    "lc_cell_meme": {
     "current": "89eb5e8e-c2e6-11e8-9925-0242ac110002",
     "next": "89eb5f24-c2e6-11e8-9925-0242ac110002",
     "previous": "89eb5df8-c2e6-11e8-9925-0242ac110002"
    },
    "run_through_control": {
     "frozen": true
    }
   },
   "outputs": [
    {
     "name": "stdout",
     "output_type": "stream",
     "text": [
      "\n",
      "========================\n",
      "aws\n",
      "------------------------\n",
      "\n",
      "    cci_version: \"1.0\"\n",
      "    name: \n",
      "    description: \n",
      "    private_network: default\n",
      "    num_nodes: 1\n",
      "    image: vcp/base:1.3\n",
      "    recovery_mode: none\n",
      "    params:\n",
      "        {'e': ['AUTHORIZED_KEYS=c3NoLXJzYSBBQUFBQjNOemFDMXljMkVBQUFBREFRQUJBQUFCQVFDdE5KYjBIWkU0SHR0ZjV3WWhhbkQyR2RBZm9Wc0o2eVZOR3JMOWFUQ040SWtXUGZ1a1ZOOFdUTldldHp4T3cwOXlrZlZqQlFZUG9JOWhzOHYzd2hjaHRqZlFneHEvWTBvTWFLNlQ1bmdybmtMZFd6VFcxSFhhZ3A0SFdBTGtvVGNtQkhUaG9lWitKdGdkbS9ham8ySHVNblhqbHY0Y215WDVQZ3JhdU5IVDZoTEJUc2k2NzBkNWFSTTZLY3B1VVc0RS8xMHF1WklQcXhaMzJvQnFxU2V6c1gzVlV2Nnk2Um1Ldzg3eC9FUU1XVUtlemR3bHJuTWpwY3p0TTRSQzVrc0s1QWp6bC9oY3FaOGVOMjhaanVxM3RPRHNWY05SVHdzajdGWTZjaXVsbFhURndzZHhjNjM5U290VmpwWWNZSUpqWGhZTW1mTkNpdFFRamxaNVNVdUgK'], 'v': []}\n",
      "    instance_type: m4.large\n",
      "    volume_size: 20\n",
      "    volume_type: standard\n",
      "    volume_id: []\n",
      "    cloud_image: default\n",
      "    tags: {}\n",
      "========================\n"
     ]
    }
   ],
   "source": [
    "# specの取得\n",
    "spec_server = VcpSDK.get_spec('aws', 'small')\n",
    "\n",
    "# SSHの鍵ファイルをVCノードの設定パラメータに合わせたフォーマットに変換して spec に設定する\n",
    "out = !ssh-keygen -y -f {ssh_private_key} | base64 -w 0\n",
    "b64_ssh_public_key = out[0]\n",
    "spec_server.params_e = ['AUTHORIZED_KEYS={}'.format(b64_ssh_public_key)]\n",
    "\n",
    "# IPアドレスの設定\n",
    "spec_server.ip_address_list = [server_ip_address]\n",
    "\n",
    "# 設定内容の表示\n",
    "print(spec_server)"
   ]
  },
  {
   "cell_type": "markdown",
   "metadata": {
    "hidden": true,
    "lc_cell_meme": {
     "current": "89eb5f24-c2e6-11e8-9925-0242ac110002",
     "next": "89eb5fba-c2e6-11e8-9925-0242ac110002",
     "previous": "89eb5e8e-c2e6-11e8-9925-0242ac110002"
    }
   },
   "source": [
    "#### クライアント用 specオブジェクトの設定\n",
    "\n",
    "クライアント用VCノードのUnitに対応する spec オブジェクト `spec_client` の設定を行います。"
   ]
  },
  {
   "cell_type": "code",
   "execution_count": 6,
   "metadata": {
    "deletable": false,
    "editable": false,
    "hidden": true,
    "lc_cell_meme": {
     "current": "89eb5fba-c2e6-11e8-9925-0242ac110002",
     "next": "89eb6050-c2e6-11e8-9925-0242ac110002",
     "previous": "89eb5f24-c2e6-11e8-9925-0242ac110002"
    },
    "run_through_control": {
     "frozen": true
    }
   },
   "outputs": [
    {
     "name": "stdout",
     "output_type": "stream",
     "text": [
      "\n",
      "========================\n",
      "aws\n",
      "------------------------\n",
      "\n",
      "    cci_version: \"1.0\"\n",
      "    name: \n",
      "    description: \n",
      "    private_network: default\n",
      "    num_nodes: 1\n",
      "    image: vcp/base:1.3\n",
      "    recovery_mode: none\n",
      "    params:\n",
      "        {'e': ['AUTHORIZED_KEYS=c3NoLXJzYSBBQUFBQjNOemFDMXljMkVBQUFBREFRQUJBQUFCQVFDdE5KYjBIWkU0SHR0ZjV3WWhhbkQyR2RBZm9Wc0o2eVZOR3JMOWFUQ040SWtXUGZ1a1ZOOFdUTldldHp4T3cwOXlrZlZqQlFZUG9JOWhzOHYzd2hjaHRqZlFneHEvWTBvTWFLNlQ1bmdybmtMZFd6VFcxSFhhZ3A0SFdBTGtvVGNtQkhUaG9lWitKdGdkbS9ham8ySHVNblhqbHY0Y215WDVQZ3JhdU5IVDZoTEJUc2k2NzBkNWFSTTZLY3B1VVc0RS8xMHF1WklQcXhaMzJvQnFxU2V6c1gzVlV2Nnk2Um1Ldzg3eC9FUU1XVUtlemR3bHJuTWpwY3p0TTRSQzVrc0s1QWp6bC9oY3FaOGVOMjhaanVxM3RPRHNWY05SVHdzajdGWTZjaXVsbFhURndzZHhjNjM5U290VmpwWWNZSUpqWGhZTW1mTkNpdFFRamxaNVNVdUgK'], 'v': []}\n",
      "    instance_type: m4.large\n",
      "    volume_size: 20\n",
      "    volume_type: standard\n",
      "    volume_id: []\n",
      "    cloud_image: default\n",
      "    tags: {}\n",
      "========================\n"
     ]
    }
   ],
   "source": [
    "# specの取得\n",
    "spec_client = VcpSDK.get_spec('aws', 'small')\n",
    "\n",
    "# SSHの鍵ファイルの設定はサーバと同じなので既に変換済みの値をそのまま利用する\n",
    "spec_client.params_e = ['AUTHORIZED_KEYS={}'.format(b64_ssh_public_key)]\n",
    "\n",
    "# 設定内容の表示\n",
    "print(spec_client)"
   ]
  },
  {
   "cell_type": "markdown",
   "metadata": {
    "hidden": true,
    "lc_cell_meme": {
     "current": "89eb6050-c2e6-11e8-9925-0242ac110002",
     "next": "89eb60e6-c2e6-11e8-9925-0242ac110002",
     "previous": "89eb5fba-c2e6-11e8-9925-0242ac110002"
    }
   },
   "source": [
    "### UnitGroup, Unitの作成とVCノードの起動\n",
    "\n",
    "UnitGroup, Unitを作成し、VCノードの起動を行います。"
   ]
  },
  {
   "cell_type": "markdown",
   "metadata": {
    "hidden": true,
    "lc_cell_meme": {
     "current": "89eb60e6-c2e6-11e8-9925-0242ac110002",
     "next": "89eb617c-c2e6-11e8-9925-0242ac110002",
     "previous": "89eb6050-c2e6-11e8-9925-0242ac110002"
    }
   },
   "source": [
    "まずUnitGroupを作成します。"
   ]
  },
  {
   "cell_type": "code",
   "execution_count": 7,
   "metadata": {
    "deletable": false,
    "editable": false,
    "hidden": true,
    "lc_cell_meme": {
     "current": "89eb617c-c2e6-11e8-9925-0242ac110002",
     "next": "89eb6208-c2e6-11e8-9925-0242ac110002",
     "previous": "89eb60e6-c2e6-11e8-9925-0242ac110002"
    },
    "run_through_control": {
     "frozen": true
    }
   },
   "outputs": [],
   "source": [
    "unit_group = vcp.create_ugroup(\n",
    "    'handson103'                 # UnitGroupの名前\n",
    ")"
   ]
  },
  {
   "cell_type": "markdown",
   "metadata": {
    "hidden": true,
    "lc_cell_meme": {
     "current": "89eb6208-c2e6-11e8-9925-0242ac110002",
     "next": "89eb629e-c2e6-11e8-9925-0242ac110002",
     "previous": "89eb617c-c2e6-11e8-9925-0242ac110002"
    }
   },
   "source": [
    "VCノード起動前のUnit, VCノードの状態を確認しておきます。"
   ]
  },
  {
   "cell_type": "code",
   "execution_count": 8,
   "metadata": {
    "deletable": false,
    "editable": false,
    "hidden": true,
    "lc_cell_meme": {
     "current": "89eb629e-c2e6-11e8-9925-0242ac110002",
     "next": "89eb6334-c2e6-11e8-9925-0242ac110002",
     "previous": "89eb6208-c2e6-11e8-9925-0242ac110002"
    },
    "run_through_control": {
     "frozen": true
    }
   },
   "outputs": [
    {
     "data": {
      "text/html": [
       "<div>\n",
       "<style>\n",
       "    .dataframe thead tr:only-child th {\n",
       "        text-align: right;\n",
       "    }\n",
       "\n",
       "    .dataframe thead th {\n",
       "        text-align: left;\n",
       "    }\n",
       "\n",
       "    .dataframe tbody tr th {\n",
       "        vertical-align: top;\n",
       "    }\n",
       "</style>\n",
       "<table border=\"1\" class=\"dataframe\">\n",
       "  <thead>\n",
       "    <tr style=\"text-align: right;\">\n",
       "      <th></th>\n",
       "      <th>vctype</th>\n",
       "      <th>vcno</th>\n",
       "      <th>vcname</th>\n",
       "      <th>vc_state</th>\n",
       "      <th>vcid</th>\n",
       "      <th>cdate</th>\n",
       "      <th>unit_name</th>\n",
       "      <th>unit_state</th>\n",
       "    </tr>\n",
       "  </thead>\n",
       "  <tbody>\n",
       "  </tbody>\n",
       "</table>\n",
       "</div>"
      ],
      "text/plain": [
       "Empty DataFrame\n",
       "Columns: [vctype, vcno, vcname, vc_state, vcid, cdate, unit_name, unit_state]\n",
       "Index: []"
      ]
     },
     "metadata": {},
     "output_type": "display_data"
    },
    {
     "data": {
      "text/plain": [
       "None"
      ]
     },
     "metadata": {},
     "output_type": "display_data"
    }
   ],
   "source": [
    "from IPython.display import display\n",
    "\n",
    "# Unitの一覧を DataFrame で表示する\n",
    "display(unit_group.df_units())\n",
    "\n",
    "# Nodeの一覧を DataFrame で表示する\n",
    "display(unit_group.df_nodes())"
   ]
  },
  {
   "cell_type": "markdown",
   "metadata": {
    "hidden": true,
    "lc_cell_meme": {
     "current": "89eb6334-c2e6-11e8-9925-0242ac110002",
     "next": "89eb6438-c2e6-11e8-9925-0242ac110002",
     "previous": "89eb629e-c2e6-11e8-9925-0242ac110002"
    }
   },
   "source": [
    "Unitを作成します。Unitを作成すると同時に VCノード（Amazon EC2インスタンス）が起動します。\n",
    "\n",
    "> 処理が完了するまで3分半～4分程度かかります。"
   ]
  },
  {
   "cell_type": "code",
   "execution_count": 9,
   "metadata": {
    "deletable": false,
    "editable": false,
    "hidden": true,
    "lc_cell_meme": {
     "current": "89eb6438-c2e6-11e8-9925-0242ac110002",
     "next": "89eb64d8-c2e6-11e8-9925-0242ac110002",
     "previous": "89eb6334-c2e6-11e8-9925-0242ac110002"
    },
    "run_through_control": {
     "frozen": true
    },
    "scrolled": true
   },
   "outputs": [
    {
     "name": "stdout",
     "output_type": "stream",
     "text": [
      "2018-09-28 15:18:59,089 - INFO - BOOTING ... 0 sec\n",
      "2018-09-28 15:19:04,293 - INFO - BOOTING ... 5 sec\n",
      "2018-09-28 15:19:09,497 - INFO - BOOTING ... 10 sec\n",
      "2018-09-28 15:19:14,703 - INFO - BOOTING ... 15 sec\n",
      "2018-09-28 15:19:19,906 - INFO - BOOTING ... 20 sec\n",
      "2018-09-28 15:19:25,113 - INFO - BOOTING ... 25 sec\n",
      "2018-09-28 15:19:30,320 - INFO - BOOTING ... 30 sec\n",
      "2018-09-28 15:19:35,518 - INFO - BOOTING ... 35 sec\n",
      "2018-09-28 15:19:40,722 - INFO - BOOTING ... 40 sec\n",
      "2018-09-28 15:19:45,931 - INFO - BOOTING ... 45 sec\n",
      "2018-09-28 15:19:51,140 - INFO - BOOTING ... 50 sec\n",
      "2018-09-28 15:19:56,381 - INFO - BOOTING ... 55 sec\n",
      "2018-09-28 15:20:01,600 - INFO - BOOTING ... 60 sec\n",
      "2018-09-28 15:20:06,809 - INFO - BOOTING ... 65 sec\n",
      "2018-09-28 15:20:12,023 - INFO - BOOTING ... 70 sec\n",
      "2018-09-28 15:20:17,235 - INFO - BOOTING ... 75 sec\n",
      "2018-09-28 15:20:22,451 - INFO - unit server is RUNNING\n",
      "2018-09-28 15:20:24,330 - INFO - BOOTING ... 0 sec\n",
      "2018-09-28 15:20:29,569 - INFO - BOOTING ... 5 sec\n",
      "2018-09-28 15:20:34,811 - INFO - BOOTING ... 10 sec\n",
      "2018-09-28 15:20:40,058 - INFO - BOOTING ... 15 sec\n",
      "2018-09-28 15:20:45,302 - INFO - BOOTING ... 20 sec\n",
      "2018-09-28 15:20:50,555 - INFO - BOOTING ... 25 sec\n",
      "2018-09-28 15:20:55,798 - INFO - BOOTING ... 30 sec\n",
      "2018-09-28 15:21:01,050 - INFO - BOOTING ... 35 sec\n",
      "2018-09-28 15:21:06,291 - INFO - BOOTING ... 40 sec\n",
      "2018-09-28 15:21:11,532 - INFO - BOOTING ... 45 sec\n",
      "2018-09-28 15:21:16,766 - INFO - BOOTING ... 50 sec\n",
      "2018-09-28 15:21:22,003 - INFO - BOOTING ... 55 sec\n",
      "2018-09-28 15:21:27,258 - INFO - BOOTING ... 60 sec\n",
      "2018-09-28 15:21:32,511 - INFO - BOOTING ... 65 sec\n",
      "2018-09-28 15:21:37,776 - INFO - BOOTING ... 70 sec\n",
      "2018-09-28 15:21:43,016 - INFO - unit client is RUNNING\n"
     ]
    },
    {
     "data": {
      "text/plain": [
       "<vcpsdk.vcpsdk.VcpUnitClass at 0x7f4222dd8ac8>"
      ]
     },
     "execution_count": 9,
     "metadata": {},
     "output_type": "execute_result"
    }
   ],
   "source": [
    "# サーバ用Unitの作成\n",
    "unit_group.create_unit('server', spec_server)\n",
    "\n",
    "# クライアント用Unitの作成\n",
    "unit_group.create_unit('client', spec_client)"
   ]
  },
  {
   "cell_type": "markdown",
   "metadata": {
    "hidden": true,
    "lc_cell_meme": {
     "current": "89eb64d8-c2e6-11e8-9925-0242ac110002",
     "next": "89eb656e-c2e6-11e8-9925-0242ac110002",
     "previous": "89eb6438-c2e6-11e8-9925-0242ac110002"
    }
   },
   "source": [
    "起動したUnit, VCノードの一覧を表示します。"
   ]
  },
  {
   "cell_type": "code",
   "execution_count": 10,
   "metadata": {
    "deletable": false,
    "editable": false,
    "hidden": true,
    "lc_cell_meme": {
     "current": "89eb656e-c2e6-11e8-9925-0242ac110002",
     "next": "89eb6604-c2e6-11e8-9925-0242ac110002",
     "previous": "89eb64d8-c2e6-11e8-9925-0242ac110002"
    },
    "run_through_control": {
     "frozen": true
    }
   },
   "outputs": [
    {
     "data": {
      "text/html": [
       "<div>\n",
       "<style>\n",
       "    .dataframe thead tr:only-child th {\n",
       "        text-align: right;\n",
       "    }\n",
       "\n",
       "    .dataframe thead th {\n",
       "        text-align: left;\n",
       "    }\n",
       "\n",
       "    .dataframe tbody tr th {\n",
       "        vertical-align: top;\n",
       "    }\n",
       "</style>\n",
       "<table border=\"1\" class=\"dataframe\">\n",
       "  <thead>\n",
       "    <tr style=\"text-align: right;\">\n",
       "      <th></th>\n",
       "      <th>vctype</th>\n",
       "      <th>vcno</th>\n",
       "      <th>vcname</th>\n",
       "      <th>vc_state</th>\n",
       "      <th>vcid</th>\n",
       "      <th>cdate</th>\n",
       "      <th>unit_name</th>\n",
       "      <th>unit_state</th>\n",
       "    </tr>\n",
       "  </thead>\n",
       "  <tbody>\n",
       "    <tr>\n",
       "      <th>0</th>\n",
       "      <td>compute</td>\n",
       "      <td>38</td>\n",
       "      <td>handson103</td>\n",
       "      <td>RUNNING</td>\n",
       "      <td>e37c6192...</td>\n",
       "      <td>2018/09/28 06:17:37 UTC</td>\n",
       "      <td>server</td>\n",
       "      <td>RUNNING</td>\n",
       "    </tr>\n",
       "    <tr>\n",
       "      <th>1</th>\n",
       "      <td>compute</td>\n",
       "      <td>38</td>\n",
       "      <td>handson103</td>\n",
       "      <td>RUNNING</td>\n",
       "      <td>e37c6192...</td>\n",
       "      <td>2018/09/28 06:17:37 UTC</td>\n",
       "      <td>client</td>\n",
       "      <td>RUNNING</td>\n",
       "    </tr>\n",
       "  </tbody>\n",
       "</table>\n",
       "</div>"
      ],
      "text/plain": [
       "    vctype  vcno      vcname vc_state         vcid                    cdate  \\\n",
       "0  compute    38  handson103  RUNNING  e37c6192...  2018/09/28 06:17:37 UTC   \n",
       "1  compute    38  handson103  RUNNING  e37c6192...  2018/09/28 06:17:37 UTC   \n",
       "\n",
       "  unit_name unit_state  \n",
       "0    server    RUNNING  \n",
       "1    client    RUNNING  "
      ]
     },
     "metadata": {},
     "output_type": "display_data"
    },
    {
     "data": {
      "text/html": [
       "<div>\n",
       "<style>\n",
       "    .dataframe thead tr:only-child th {\n",
       "        text-align: right;\n",
       "    }\n",
       "\n",
       "    .dataframe thead th {\n",
       "        text-align: left;\n",
       "    }\n",
       "\n",
       "    .dataframe tbody tr th {\n",
       "        vertical-align: top;\n",
       "    }\n",
       "</style>\n",
       "<table border=\"1\" class=\"dataframe\">\n",
       "  <thead>\n",
       "    <tr style=\"text-align: right;\">\n",
       "      <th></th>\n",
       "      <th>vcno</th>\n",
       "      <th>vcname</th>\n",
       "      <th>unit_name</th>\n",
       "      <th>unit_state</th>\n",
       "      <th>node_no</th>\n",
       "      <th>node_id</th>\n",
       "      <th>node_state</th>\n",
       "      <th>cloud_instance_address</th>\n",
       "      <th>cloud_instance_id</th>\n",
       "      <th>cloud_instance_name</th>\n",
       "      <th>volumes</th>\n",
       "    </tr>\n",
       "  </thead>\n",
       "  <tbody>\n",
       "    <tr>\n",
       "      <th>0</th>\n",
       "      <td>38</td>\n",
       "      <td>handson103</td>\n",
       "      <td>server</td>\n",
       "      <td>RUNNING</td>\n",
       "      <td>1</td>\n",
       "      <td>01d11573...</td>\n",
       "      <td>RUNNING</td>\n",
       "      <td>172.30.2.20</td>\n",
       "      <td>i-0b426228280601f83</td>\n",
       "      <td>VCP-020661f0-e37c6192</td>\n",
       "      <td>none</td>\n",
       "    </tr>\n",
       "    <tr>\n",
       "      <th>1</th>\n",
       "      <td>38</td>\n",
       "      <td>handson103</td>\n",
       "      <td>client</td>\n",
       "      <td>RUNNING</td>\n",
       "      <td>1</td>\n",
       "      <td>bb320f35...</td>\n",
       "      <td>RUNNING</td>\n",
       "      <td>172.30.2.251</td>\n",
       "      <td>i-0c05cc7317a72f07a</td>\n",
       "      <td>VCP-020661f0-e37c6192</td>\n",
       "      <td>none</td>\n",
       "    </tr>\n",
       "  </tbody>\n",
       "</table>\n",
       "</div>"
      ],
      "text/plain": [
       "   vcno      vcname unit_name unit_state  node_no      node_id node_state  \\\n",
       "0    38  handson103    server    RUNNING        1  01d11573...    RUNNING   \n",
       "1    38  handson103    client    RUNNING        1  bb320f35...    RUNNING   \n",
       "\n",
       "  cloud_instance_address    cloud_instance_id    cloud_instance_name volumes  \n",
       "0            172.30.2.20  i-0b426228280601f83  VCP-020661f0-e37c6192    none  \n",
       "1           172.30.2.251  i-0c05cc7317a72f07a  VCP-020661f0-e37c6192    none  "
      ]
     },
     "metadata": {},
     "output_type": "display_data"
    }
   ],
   "source": [
    "# Unitの一覧を DataFrame で表示する\n",
    "display(unit_group.df_units())\n",
    "\n",
    "# Nodeの一覧を DataFrame で表示する\n",
    "display(unit_group.df_nodes())"
   ]
  },
  {
   "cell_type": "markdown",
   "metadata": {
    "lc_cell_meme": {
     "current": "89eb6604-c2e6-11e8-9925-0242ac110002",
     "next": "89eb669a-c2e6-11e8-9925-0242ac110002",
     "previous": "89eb656e-c2e6-11e8-9925-0242ac110002"
    }
   },
   "source": [
    "# sshで VCノードを操作する\n",
    "\n",
    "まずは Ansible を使わずに sshコマンドで VCノード の操作を行ってみます。"
   ]
  },
  {
   "attachments": {},
   "cell_type": "markdown",
   "metadata": {
    "lc_cell_meme": {
     "current": "89eb669a-c2e6-11e8-9925-0242ac110002",
     "next": "89eb6730-c2e6-11e8-9925-0242ac110002",
     "previous": "89eb6604-c2e6-11e8-9925-0242ac110002"
    }
   },
   "source": [
    "次の操作を行います。\n",
    "\n",
    "* VCノードでコマンドを実行する\n",
    "  - uname -a\n",
    "  - df -h\n",
    "* VCノードのファイルをローカル環境に取得する\n",
    "\n",
    "![ssh](images/103-002.png)"
   ]
  },
  {
   "cell_type": "markdown",
   "metadata": {
    "lc_cell_meme": {
     "current": "89eb6730-c2e6-11e8-9925-0242ac110002",
     "next": "89eb67c6-c2e6-11e8-9925-0242ac110002",
     "previous": "89eb669a-c2e6-11e8-9925-0242ac110002"
    }
   },
   "source": [
    "まずUnitGroupの全てのVCノードのIPアドレスを取得して変数 `ip_address`に格納します。"
   ]
  },
  {
   "cell_type": "code",
   "execution_count": 11,
   "metadata": {
    "deletable": false,
    "editable": false,
    "lc_cell_meme": {
     "current": "89eb67c6-c2e6-11e8-9925-0242ac110002",
     "next": "89eb685c-c2e6-11e8-9925-0242ac110002",
     "previous": "89eb6730-c2e6-11e8-9925-0242ac110002"
    },
    "run_through_control": {
     "frozen": true
    }
   },
   "outputs": [
    {
     "name": "stdout",
     "output_type": "stream",
     "text": [
      "['172.30.2.20', '172.30.2.251']\n"
     ]
    }
   ],
   "source": [
    "ip_address = unit_group.find_ip_addresses()\n",
    "\n",
    "# 取得したIPアドレスを表示する\n",
    "print(ip_address)"
   ]
  },
  {
   "cell_type": "markdown",
   "metadata": {
    "lc_cell_meme": {
     "current": "89eb685c-c2e6-11e8-9925-0242ac110002",
     "next": "89eb68f2-c2e6-11e8-9925-0242ac110002",
     "previous": "89eb67c6-c2e6-11e8-9925-0242ac110002"
    }
   },
   "source": [
    "sshを実行するときに指定するオプションを変数に設定しておきます。\n",
    "\n",
    "> 指定しているオプションの意味については「[101-VCノードの起動、削除.ipynb](101-VCノードの起動、削除.ipynb#VCノードに-ssh-でログインして操作する)」を参照してください。\n",
    "\n",
    "> 実運用では指定しないほうがよいオプションもあるので注意してください。"
   ]
  },
  {
   "cell_type": "code",
   "execution_count": 12,
   "metadata": {
    "deletable": false,
    "editable": false,
    "lc_cell_meme": {
     "current": "89eb68f2-c2e6-11e8-9925-0242ac110002",
     "next": "89eb697e-c2e6-11e8-9925-0242ac110002",
     "previous": "89eb685c-c2e6-11e8-9925-0242ac110002"
    },
    "run_through_control": {
     "frozen": true
    }
   },
   "outputs": [],
   "source": [
    "ssh_opts = \"-i {} -o StrictHostKeyChecking=no -o UserKnownHostsFile=/dev/null -q\".format(ssh_private_key)"
   ]
  },
  {
   "cell_type": "markdown",
   "metadata": {
    "lc_cell_meme": {
     "current": "89eb697e-c2e6-11e8-9925-0242ac110002",
     "next": "89eb6a14-c2e6-11e8-9925-0242ac110002",
     "previous": "89eb68f2-c2e6-11e8-9925-0242ac110002"
    }
   },
   "source": [
    "`uname -a`, `df -h` をVCノードで実行してみます。"
   ]
  },
  {
   "cell_type": "code",
   "execution_count": 13,
   "metadata": {
    "deletable": false,
    "editable": false,
    "lc_cell_meme": {
     "current": "89eb6a14-c2e6-11e8-9925-0242ac110002",
     "next": "89eb6ab4-c2e6-11e8-9925-0242ac110002",
     "previous": "89eb697e-c2e6-11e8-9925-0242ac110002"
    },
    "run_through_control": {
     "frozen": true
    }
   },
   "outputs": [
    {
     "name": "stdout",
     "output_type": "stream",
     "text": [
      "172.30.2.20:\n",
      "Linux ip-172-30-2-20 4.4.0-67-generic #88-Ubuntu SMP Wed Mar 8 16:34:45 UTC 2017 x86_64 Linux\n",
      "\n",
      "172.30.2.251:\n",
      "Linux ip-172-30-2-251 4.4.0-67-generic #88-Ubuntu SMP Wed Mar 8 16:34:45 UTC 2017 x86_64 Linux\n",
      "\n"
     ]
    }
   ],
   "source": [
    "for address in ip_address:\n",
    "    print(address + ':')\n",
    "    !ssh {ssh_opts} root@{address} uname -a\n",
    "    print()"
   ]
  },
  {
   "cell_type": "code",
   "execution_count": 14,
   "metadata": {
    "deletable": false,
    "editable": false,
    "lc_cell_meme": {
     "current": "89eb6ab4-c2e6-11e8-9925-0242ac110002",
     "next": "89eb6b4a-c2e6-11e8-9925-0242ac110002",
     "previous": "89eb6a14-c2e6-11e8-9925-0242ac110002"
    },
    "run_through_control": {
     "frozen": true
    }
   },
   "outputs": [
    {
     "name": "stdout",
     "output_type": "stream",
     "text": [
      "172.30.2.20:\n",
      "----------------------------------------\n",
      "Filesystem                Size      Used Available Use% Mounted on\n",
      "none                     19.6G      1.8G     16.8G  10% /\n",
      "tmpfs                     3.9G         0      3.9G   0% /sys/fs/cgroup\n",
      "udev                      3.9G         0      3.9G   0% /dev\n",
      "tmpfs                    64.0M         0     64.0M   0% /dev/shm\n",
      "/dev/xvda1               19.6G      1.8G     16.8G  10% /etc/resolv.conf\n",
      "/dev/xvda1               19.6G      1.8G     16.8G  10% /etc/hostname\n",
      "/dev/xvda1               19.6G      1.8G     16.8G  10% /etc/hosts\n",
      "shm                      64.0M         0     64.0M   0% /dev/shm\n",
      "/dev/xvda1               19.6G      1.8G     16.8G  10% /var/lib/docker\n",
      "none                      3.9G         0      3.9G   0% /tmp\n",
      "/dev/xvda1               19.6G      1.8G     16.8G  10% /var/lib/docker/aufs\n",
      "\n",
      "172.30.2.251:\n",
      "----------------------------------------\n",
      "Filesystem                Size      Used Available Use% Mounted on\n",
      "none                     19.6G      1.8G     16.8G  10% /\n",
      "tmpfs                     3.9G         0      3.9G   0% /sys/fs/cgroup\n",
      "udev                      3.9G         0      3.9G   0% /dev\n",
      "tmpfs                    64.0M         0     64.0M   0% /dev/shm\n",
      "/dev/xvda1               19.6G      1.8G     16.8G  10% /etc/resolv.conf\n",
      "/dev/xvda1               19.6G      1.8G     16.8G  10% /etc/hostname\n",
      "/dev/xvda1               19.6G      1.8G     16.8G  10% /etc/hosts\n",
      "shm                      64.0M         0     64.0M   0% /dev/shm\n",
      "/dev/xvda1               19.6G      1.8G     16.8G  10% /var/lib/docker\n",
      "none                      3.9G         0      3.9G   0% /tmp\n",
      "/dev/xvda1               19.6G      1.8G     16.8G  10% /var/lib/docker/aufs\n",
      "\n"
     ]
    }
   ],
   "source": [
    "for address in ip_address:\n",
    "    print(address + ':')\n",
    "    print('-' * 40)\n",
    "    !ssh {ssh_opts} root@{address} df -h\n",
    "    print()"
   ]
  },
  {
   "cell_type": "markdown",
   "metadata": {
    "lc_cell_meme": {
     "current": "89eb6b4a-c2e6-11e8-9925-0242ac110002",
     "next": "89eb6bea-c2e6-11e8-9925-0242ac110002",
     "previous": "89eb6ab4-c2e6-11e8-9925-0242ac110002"
    }
   },
   "source": [
    "scp コマンドでVCノードのファイル`/etc/os-release`をローカル環境に取得して、内容を表示させてみます。"
   ]
  },
  {
   "cell_type": "code",
   "execution_count": 15,
   "metadata": {
    "deletable": false,
    "editable": false,
    "lc_cell_meme": {
     "current": "89eb6bea-c2e6-11e8-9925-0242ac110002",
     "next": "89eb6c80-c2e6-11e8-9925-0242ac110002",
     "previous": "89eb6b4a-c2e6-11e8-9925-0242ac110002"
    },
    "run_through_control": {
     "frozen": true
    }
   },
   "outputs": [
    {
     "name": "stdout",
     "output_type": "stream",
     "text": [
      "/tmp/tmpw8fvxo_j\n",
      "├── 172.30.2.20\n",
      "│   └── os-release\n",
      "└── 172.30.2.251\n",
      "    └── os-release\n",
      "\n",
      "2 directories, 2 files\n",
      "172.30.2.20:\n",
      "----------------------------------------\n",
      "NAME=\"Alpine Linux\"\n",
      "ID=alpine\n",
      "VERSION_ID=3.5.2\n",
      "PRETTY_NAME=\"Alpine Linux v3.5\"\n",
      "HOME_URL=\"http://alpinelinux.org\"\n",
      "BUG_REPORT_URL=\"http://bugs.alpinelinux.org\"\n",
      "\n",
      "172.30.2.251:\n",
      "----------------------------------------\n",
      "NAME=\"Alpine Linux\"\n",
      "ID=alpine\n",
      "VERSION_ID=3.5.2\n",
      "PRETTY_NAME=\"Alpine Linux v3.5\"\n",
      "HOME_URL=\"http://alpinelinux.org\"\n",
      "BUG_REPORT_URL=\"http://bugs.alpinelinux.org\"\n",
      "\n"
     ]
    }
   ],
   "source": [
    "import tempfile\n",
    "import os\n",
    "\n",
    "# 作業ディレクトリを作成\n",
    "work_dir = tempfile.mkdtemp()\n",
    "\n",
    "# VCノードのファイルをローカル環境にコピー\n",
    "for address in ip_address:\n",
    "    !mkdir -p {work_dir}/{address}\n",
    "    !scp {ssh_opts} root@{server_ip_address}:/etc/os-release {work_dir}/{address}\n",
    "\n",
    "# 取得したファイルを配置したディレクトリ構成を表示する\n",
    "!tree {work_dir}\n",
    "        \n",
    "# 取得したファイルの内容を表示する\n",
    "for address in ip_address:\n",
    "    print(address + ':')\n",
    "    print('-' * 40)\n",
    "    !cat {os.path.join(work_dir, address, 'os-release')}\n",
    "    print()\n",
    "\n",
    "# 作業ディレクトリを削除\n",
    "!rm -rf {work_dir}"
   ]
  },
  {
   "cell_type": "markdown",
   "metadata": {
    "lc_cell_meme": {
     "current": "89eb6c80-c2e6-11e8-9925-0242ac110002",
     "next": "89eb6d16-c2e6-11e8-9925-0242ac110002",
     "previous": "89eb6bea-c2e6-11e8-9925-0242ac110002"
    }
   },
   "source": [
    "# Ansibleを利用した VCノードの操作\n",
    "\n",
    "前節で行った操作と同じことを Ansibleを用いて実行してみます。"
   ]
  },
  {
   "cell_type": "markdown",
   "metadata": {
    "lc_cell_meme": {
     "current": "89eb6d16-c2e6-11e8-9925-0242ac110002",
     "next": "89eb6dac-c2e6-11e8-9925-0242ac110002",
     "previous": "89eb6c80-c2e6-11e8-9925-0242ac110002"
    }
   },
   "source": [
    "## インベントリにVCノードを登録する"
   ]
  },
  {
   "cell_type": "markdown",
   "metadata": {
    "lc_cell_meme": {
     "current": "89eb6dac-c2e6-11e8-9925-0242ac110002",
     "next": "89eb6e42-c2e6-11e8-9925-0242ac110002",
     "previous": "89eb6d16-c2e6-11e8-9925-0242ac110002"
    }
   },
   "source": [
    "Ansibleを用いてホストの操作を行うためには、事前にそのホスト（IPアドレス）をAnsibleのインベントリに登録する必要があります。インベントリにホスト登録する方法はいくつかありますが、ここではINI形式のファイルに登録する方法を用います。INI形式のインベントリファイルは次のようなフォーマットになっています。\n",
    "\n",
    "```\n",
    "[group1]\n",
    "host0\n",
    "\n",
    "[group2]\n",
    "host0\n",
    "host1\n",
    "host2\n",
    "```\n",
    "\n",
    "角括弧内の見出しはグループ名で、ホストの利用目的などで分類するために使用できます。`host0`のように一つのホストを複数のグループに所属させることもできます。\n",
    "\n",
    "> インベントリの設定方法の詳細については[Ansibleのドキュメント - Working with Inventory](https://docs.ansible.com/ansible/latest/user_guide/intro_inventory.html)などを参照してください。"
   ]
  },
  {
   "cell_type": "markdown",
   "metadata": {
    "lc_cell_meme": {
     "current": "89eb6e42-c2e6-11e8-9925-0242ac110002",
     "next": "89eb6ed8-c2e6-11e8-9925-0242ac110002",
     "previous": "89eb6dac-c2e6-11e8-9925-0242ac110002"
    }
   },
   "source": [
    "では、実際にインベントリファイルへの VCノード の登録を行います。ここでは、全てのVCノードを一つのグループに所属させるインベントリファイルを作成してみます。インベントリのグループ名は `handson103` とします。\n",
    "\n",
    "次のセルを実行すると、カレントディレクトリにインベントリファイル`hosts`が作成されます。"
   ]
  },
  {
   "cell_type": "code",
   "execution_count": 16,
   "metadata": {
    "deletable": false,
    "editable": false,
    "lc_cell_meme": {
     "current": "89eb6ed8-c2e6-11e8-9925-0242ac110002",
     "next": "89eb6f6e-c2e6-11e8-9925-0242ac110002",
     "previous": "89eb6e42-c2e6-11e8-9925-0242ac110002"
    },
    "run_through_control": {
     "frozen": true
    }
   },
   "outputs": [
    {
     "name": "stdout",
     "output_type": "stream",
     "text": [
      "[handson103]\r\n",
      "172.30.2.20\r\n",
      "172.30.2.251\r\n"
     ]
    }
   ],
   "source": [
    "# 次のようなファイルを作成する\n",
    "# \n",
    "# [handson103]\n",
    "# 172.30.2.20\n",
    "# 172.30.2.xxx\n",
    "\n",
    "with open('hosts', 'w') as f:\n",
    "    f.write(\"[{}]\\n\".format(unit_group.name))   # グループ名を書き込む\n",
    "    for addr in ip_address:                     # 取得済の VCノードのIPアドレスのリストで forループする\n",
    "        f.write(\"{}\\n\".format(addr))            #  VCノードのIPアドレスを書き込む\n",
    "\n",
    "# 作成したインベントリファイルの内容を表示する\n",
    "!cat hosts"
   ]
  },
  {
   "cell_type": "markdown",
   "metadata": {
    "lc_cell_meme": {
     "current": "89eb6f6e-c2e6-11e8-9925-0242ac110002",
     "next": "89eb700e-c2e6-11e8-9925-0242ac110002",
     "previous": "89eb6ed8-c2e6-11e8-9925-0242ac110002"
    }
   },
   "source": [
    "登録した VCノード をAnsible が操作対象と認識していることを確認するために `ansible` コマンドでホストの一覧を表示してみます。次のセルを実行すると`handson103`グループのホストを表示します。"
   ]
  },
  {
   "cell_type": "code",
   "execution_count": 17,
   "metadata": {
    "deletable": false,
    "editable": false,
    "lc_cell_meme": {
     "current": "89eb700e-c2e6-11e8-9925-0242ac110002",
     "next": "89eb70a4-c2e6-11e8-9925-0242ac110002",
     "previous": "89eb6f6e-c2e6-11e8-9925-0242ac110002"
    },
    "run_through_control": {
     "frozen": true
    }
   },
   "outputs": [
    {
     "name": "stdout",
     "output_type": "stream",
     "text": [
      "  hosts (2):\r\n",
      "    172.30.2.20\r\n",
      "    172.30.2.251\r\n"
     ]
    }
   ],
   "source": [
    "!ansible handson103 --list-hosts -i ./hosts"
   ]
  },
  {
   "cell_type": "markdown",
   "metadata": {
    "lc_cell_meme": {
     "current": "89eb70a4-c2e6-11e8-9925-0242ac110002",
     "next": "89eb713a-c2e6-11e8-9925-0242ac110002",
     "previous": "89eb700e-c2e6-11e8-9925-0242ac110002"
    }
   },
   "source": [
    "`ansible` コマンドの実行方法と、上のセルで用いたオプションの簡単な説明を以下に記します。\n",
    "\n",
    "```\n",
    "ansible <ホストパターン> [オプション]\n",
    "\n",
    "--list-hosts \n",
    "    ホストパターンにマッチするホストの一覧を表示する\n",
    "\n",
    "-i INVENTORY\n",
    "    インベントリのパスを指定する（デフォルト: /etc/ansible/hosts）\n",
    "```\n",
    "\n",
    "ホストパターンにはグループ名 `handson103` を指定したので、グループに属するホストが表示されます。"
   ]
  },
  {
   "cell_type": "markdown",
   "metadata": {
    "lc_cell_meme": {
     "current": "89eb713a-c2e6-11e8-9925-0242ac110002",
     "next": "89eb71e4-c2e6-11e8-9925-0242ac110002",
     "previous": "89eb70a4-c2e6-11e8-9925-0242ac110002"
    }
   },
   "source": [
    "インベントリファイルのパスを毎回`-i`オプションで指定するのは煩雑なので、Ansible の設定ファイル`ansible.cfg`をカレントディレクトリに作成してインベントリのパスを設定します。\n",
    "\n",
    "> Ansible の設定ファイルの記述方法については [Ansibleのドキュメント - The configuration file](https://docs.ansible.com/ansible/latest/reference_appendices/config.html)などを参照してください。"
   ]
  },
  {
   "cell_type": "code",
   "execution_count": 18,
   "metadata": {
    "deletable": false,
    "editable": false,
    "lc_cell_meme": {
     "current": "89eb71e4-c2e6-11e8-9925-0242ac110002",
     "next": "89eb727a-c2e6-11e8-9925-0242ac110002",
     "previous": "89eb713a-c2e6-11e8-9925-0242ac110002"
    },
    "run_through_control": {
     "frozen": true
    }
   },
   "outputs": [
    {
     "name": "stdout",
     "output_type": "stream",
     "text": [
      "[defaults]\r\n",
      "inventory = /notebooks/notebook/handson/vcp-tutorial/hosts\r\n"
     ]
    }
   ],
   "source": [
    "!chmod o-w .    # world-writable に設定されていると、カレントディレクトリの ansible.cfg を読み込まないので\n",
    "\n",
    "if not os.path.exists('ansible.cfg'):\n",
    "    # ansible.cfgが存在しない場合のみ作成する\n",
    "    with open('ansible.cfg', 'w') as f:\n",
    "        f.write('''[defaults]\n",
    "inventory = {}\n",
    "'''.format(os.path.abspath('./hosts')))\n",
    "\n",
    "# 設定ファイルの内容を表示する\n",
    "!cat ansible.cfg"
   ]
  },
  {
   "cell_type": "markdown",
   "metadata": {
    "lc_cell_meme": {
     "current": "89eb727a-c2e6-11e8-9925-0242ac110002",
     "next": "89eb7310-c2e6-11e8-9925-0242ac110002",
     "previous": "89eb71e4-c2e6-11e8-9925-0242ac110002"
    }
   },
   "source": [
    "先程と同じ`ansible`コマンドを`-i`オプション指定なしで実行して、インベントリファイルのパスの指定が不要になったことを確認してみます。"
   ]
  },
  {
   "cell_type": "code",
   "execution_count": 19,
   "metadata": {
    "deletable": false,
    "editable": false,
    "lc_cell_meme": {
     "current": "89eb7310-c2e6-11e8-9925-0242ac110002",
     "next": "89eb73a6-c2e6-11e8-9925-0242ac110002",
     "previous": "89eb727a-c2e6-11e8-9925-0242ac110002"
    },
    "run_through_control": {
     "frozen": true
    }
   },
   "outputs": [
    {
     "name": "stdout",
     "output_type": "stream",
     "text": [
      "  hosts (2):\r\n",
      "    172.30.2.20\r\n",
      "    172.30.2.251\r\n"
     ]
    }
   ],
   "source": [
    "!ansible handson103 --list-hosts"
   ]
  },
  {
   "cell_type": "markdown",
   "metadata": {
    "lc_cell_meme": {
     "current": "89eb73a6-c2e6-11e8-9925-0242ac110002",
     "next": "89eb743c-c2e6-11e8-9925-0242ac110002",
     "previous": "89eb7310-c2e6-11e8-9925-0242ac110002"
    }
   },
   "source": [
    "Ansibleがリモートホストを操作する場合、通常 ssh でリモートホストに接続を行います。そのためsshで接続するためのパラメータ（ユーザ名、Identityファイルのパス、...）などを指定する必要があります。次に示すAnsibleの変数を設定することで、これらのsshの設定が行われます。\n",
    "\n",
    "* ansible_user\n",
    "  - リモートホストにsshで接続するためのユーザ名\n",
    "* ansible_ssh_private_key_file\n",
    "  - sshの秘密鍵ファイル\n",
    "* ansible_ssh_extra_args\n",
    "  - 設定した引数が常にsshコマンドラインに追加される\n",
    "  \n",
    "> 他の設定可能な変数については[Ansibleのドキュメント - List of Behavioral Inventory Parameters](https://docs.ansible.com/ansible/latest/user_guide/intro_inventory.html#list-of-behavioral-inventory-parameters)を参照してください。"
   ]
  },
  {
   "cell_type": "markdown",
   "metadata": {
    "lc_cell_meme": {
     "current": "89eb743c-c2e6-11e8-9925-0242ac110002",
     "next": "89eb74d2-c2e6-11e8-9925-0242ac110002",
     "previous": "89eb73a6-c2e6-11e8-9925-0242ac110002"
    }
   },
   "source": [
    "Ansibleの変数を設定する方法はコマンドラインのオプション、インベントリファイルなど色々とありますが、ここでは変数用の YAML ファイルを作成してそこに値を格納します。変数のYAMLファイルはインベントリファイルのあるディレクトリからの相対パスで\n",
    "```\n",
    "group_vars/{グループ名}.yml\n",
    "```\n",
    "に配置します。\n",
    "\n",
    "インベントリファイルはカレントディレクトリに置いてあるので`handson103`グループの変数ファイルは `./group_vars/handson103.yml`に配置します。次のセルを実行するとsshのパラメータを設定するための変数ファイルを作成します。"
   ]
  },
  {
   "cell_type": "code",
   "execution_count": 20,
   "metadata": {
    "deletable": false,
    "editable": false,
    "lc_cell_meme": {
     "current": "89eb74d2-c2e6-11e8-9925-0242ac110002",
     "next": "89eb7568-c2e6-11e8-9925-0242ac110002",
     "previous": "89eb743c-c2e6-11e8-9925-0242ac110002"
    },
    "run_through_control": {
     "frozen": true
    }
   },
   "outputs": [
    {
     "name": "stdout",
     "output_type": "stream",
     "text": [
      "/notebooks/notebook/handson/vcp-tutorial/group_vars/handson103.yml\n",
      "ansible_ssh_extra_args: -o StrictHostKeyChecking=no -o UserKnownHostsFile=/dev/null\n",
      "ansible_ssh_private_key_file: /home/bit_kun/.ssh/id_rsa\n",
      "ansible_user: root\n"
     ]
    }
   ],
   "source": [
    "import yaml\n",
    "\n",
    "# sshコマンドを実行したときと同等のパラメータを設定する\n",
    "ansible_params = {\n",
    "    'ansible_user': 'root',\n",
    "    'ansible_ssh_private_key_file': os.path.abspath(ssh_private_key),\n",
    "    \n",
    "    # 次のパラメータは実運用では指定するべきではありません\n",
    "    'ansible_ssh_extra_args': '-o StrictHostKeyChecking=no -o UserKnownHostsFile=/dev/null',\n",
    "}\n",
    "\n",
    "!mkdir -p group_vars\n",
    "vc_group_vars_path = os.path.abspath('group_vars/{}.yml'.format(unit_group.name))\n",
    "# 変数ファイルのパスを表示する\n",
    "print(vc_group_vars_path)\n",
    "\n",
    "with open(vc_group_vars_path, 'w') as f:\n",
    "    yaml.dump(ansible_params, stream=f, default_flow_style=False)   # YAML形式でファイルに ansiable_params を書き込む\n",
    "\n",
    "# 変数ファイルの内容を表示する\n",
    "!cat {vc_group_vars_path}"
   ]
  },
  {
   "cell_type": "markdown",
   "metadata": {
    "lc_cell_meme": {
     "current": "89eb7568-c2e6-11e8-9925-0242ac110002",
     "next": "89eb75fe-c2e6-11e8-9925-0242ac110002",
     "previous": "89eb74d2-c2e6-11e8-9925-0242ac110002"
    }
   },
   "source": [
    "## 疎通確認\n",
    "\n",
    "VCノードに Ansible で接続できるかを確認します。"
   ]
  },
  {
   "cell_type": "markdown",
   "metadata": {
    "lc_cell_meme": {
     "current": "89eb75fe-c2e6-11e8-9925-0242ac110002",
     "next": "89eb76b2-c2e6-11e8-9925-0242ac110002",
     "previous": "89eb7568-c2e6-11e8-9925-0242ac110002"
    }
   },
   "source": [
    "次のセルを実行してください。Ansibleでの接続に成功すると以下のような出力が表示されます。\n",
    "\n",
    "```\n",
    "172.30.2.XXX | SUCCESS => {\n",
    "    \"changed\": false, \n",
    "    \"failed\": false, \n",
    "    \"ping\": \"pong\"\n",
    "}\n",
    "```"
   ]
  },
  {
   "cell_type": "code",
   "execution_count": 21,
   "metadata": {
    "deletable": false,
    "editable": false,
    "lc_cell_meme": {
     "current": "89eb76b2-c2e6-11e8-9925-0242ac110002",
     "next": "89eb7748-c2e6-11e8-9925-0242ac110002",
     "previous": "89eb75fe-c2e6-11e8-9925-0242ac110002"
    },
    "run_through_control": {
     "frozen": true
    }
   },
   "outputs": [
    {
     "name": "stdout",
     "output_type": "stream",
     "text": [
      "\u001b[0;32m172.30.2.251 | SUCCESS => {\u001b[0m\r\n",
      "\u001b[0;32m    \"changed\": false, \u001b[0m\r\n",
      "\u001b[0;32m    \"failed\": false, \u001b[0m\r\n",
      "\u001b[0;32m    \"ping\": \"pong\"\u001b[0m\r\n",
      "\u001b[0;32m}\u001b[0m\r\n",
      "\u001b[0;32m172.30.2.20 | SUCCESS => {\u001b[0m\r\n",
      "\u001b[0;32m    \"changed\": false, \u001b[0m\r\n",
      "\u001b[0;32m    \"failed\": false, \u001b[0m\r\n",
      "\u001b[0;32m    \"ping\": \"pong\"\u001b[0m\r\n",
      "\u001b[0;32m}\u001b[0m\r\n"
     ]
    }
   ],
   "source": [
    "# グループ名をホストパターンに指定した場合\n",
    "!ansible handson103 -m ping"
   ]
  },
  {
   "cell_type": "markdown",
   "metadata": {
    "lc_cell_meme": {
     "current": "89eb7748-c2e6-11e8-9925-0242ac110002",
     "next": "89eb77de-c2e6-11e8-9925-0242ac110002",
     "previous": "89eb76b2-c2e6-11e8-9925-0242ac110002"
    }
   },
   "source": [
    "上のセルで用いた`ansible`コマンドのオプションの簡単な説明を以下に記します。\n",
    "\n",
    "```\n",
    "ansible <ホストパターン> -m <モジュール名> [オプション]\n",
    "\n",
    "-m MODULE_NAME\n",
    "    実行するモジュールを指定する（デフォルト: command）\n",
    "```\n",
    "\n",
    "[ping モジュール](https://docs.ansible.com/ansible/latest/modules/ping_module.html)は、ホストパターンで指定したホストに Ansible が接続できるかをテストするモジュールです。\n",
    "\n",
    "> IPの `ping`を行うのではなく、Ansibleに設定でリモートホストにsshで接続できるかをテストしています。"
   ]
  },
  {
   "cell_type": "markdown",
   "metadata": {
    "lc_cell_meme": {
     "current": "89eb77de-c2e6-11e8-9925-0242ac110002",
     "next": "89eb7874-c2e6-11e8-9925-0242ac110002",
     "previous": "89eb7748-c2e6-11e8-9925-0242ac110002"
    }
   },
   "source": [
    "ホストパターンにはグループ名だけでなくインベントリに登録しているホスト名（IPアドレス）を指定することもできます。"
   ]
  },
  {
   "cell_type": "code",
   "execution_count": 22,
   "metadata": {
    "deletable": false,
    "editable": false,
    "lc_cell_meme": {
     "current": "89eb7874-c2e6-11e8-9925-0242ac110002",
     "next": "89eb790a-c2e6-11e8-9925-0242ac110002",
     "previous": "89eb77de-c2e6-11e8-9925-0242ac110002"
    },
    "run_through_control": {
     "frozen": true
    }
   },
   "outputs": [
    {
     "name": "stdout",
     "output_type": "stream",
     "text": [
      "\u001b[0;32m172.30.2.20 | SUCCESS => {\u001b[0m\r\n",
      "\u001b[0;32m    \"changed\": false, \u001b[0m\r\n",
      "\u001b[0;32m    \"failed\": false, \u001b[0m\r\n",
      "\u001b[0;32m    \"ping\": \"pong\"\u001b[0m\r\n",
      "\u001b[0;32m}\u001b[0m\r\n"
     ]
    }
   ],
   "source": [
    "# IPアドレスをホストパターンに指定した場合\n",
    "!ansible 172.30.2.20 -m ping"
   ]
  },
  {
   "cell_type": "markdown",
   "metadata": {
    "lc_cell_meme": {
     "current": "89eb790a-c2e6-11e8-9925-0242ac110002",
     "next": "89eb79a0-c2e6-11e8-9925-0242ac110002",
     "previous": "89eb7874-c2e6-11e8-9925-0242ac110002"
    }
   },
   "source": [
    "また、インベントリに登録されている全てのホストが所属している特別なグループ `all` を指定することもできます。"
   ]
  },
  {
   "cell_type": "code",
   "execution_count": 23,
   "metadata": {
    "deletable": false,
    "editable": false,
    "lc_cell_meme": {
     "current": "89eb79a0-c2e6-11e8-9925-0242ac110002",
     "next": "89eb7a36-c2e6-11e8-9925-0242ac110002",
     "previous": "89eb790a-c2e6-11e8-9925-0242ac110002"
    },
    "run_through_control": {
     "frozen": true
    }
   },
   "outputs": [
    {
     "name": "stdout",
     "output_type": "stream",
     "text": [
      "\u001b[0;32m172.30.2.251 | SUCCESS => {\u001b[0m\r\n",
      "\u001b[0;32m    \"changed\": false, \u001b[0m\r\n",
      "\u001b[0;32m    \"failed\": false, \u001b[0m\r\n",
      "\u001b[0;32m    \"ping\": \"pong\"\u001b[0m\r\n",
      "\u001b[0;32m}\u001b[0m\r\n",
      "\u001b[0;32m172.30.2.20 | SUCCESS => {\u001b[0m\r\n",
      "\u001b[0;32m    \"changed\": false, \u001b[0m\r\n",
      "\u001b[0;32m    \"failed\": false, \u001b[0m\r\n",
      "\u001b[0;32m    \"ping\": \"pong\"\u001b[0m\r\n",
      "\u001b[0;32m}\u001b[0m\r\n"
     ]
    }
   ],
   "source": [
    "!ansible all -m ping"
   ]
  },
  {
   "cell_type": "markdown",
   "metadata": {
    "lc_cell_meme": {
     "current": "89eb7a36-c2e6-11e8-9925-0242ac110002",
     "next": "89eb7acc-c2e6-11e8-9925-0242ac110002",
     "previous": "89eb79a0-c2e6-11e8-9925-0242ac110002"
    }
   },
   "source": [
    "インベントリに登録していないホスト名を指定すると、以下のような警告メッセージが表示されます。マッチするホストがインベントリにないのでAnsibleによる操作が実行されません。\n",
    "```\n",
    " [WARNING]: Could not match supplied host pattern, ignoring: 172.30.2.***\n",
    "\n",
    " [WARNING]: No hosts matched, nothing to do\n",
    "```\n",
    "\n"
   ]
  },
  {
   "cell_type": "code",
   "execution_count": 24,
   "metadata": {
    "deletable": false,
    "editable": false,
    "lc_cell_meme": {
     "current": "89eb7acc-c2e6-11e8-9925-0242ac110002",
     "next": "89eb7b58-c2e6-11e8-9925-0242ac110002",
     "previous": "89eb7a36-c2e6-11e8-9925-0242ac110002"
    },
    "run_through_control": {
     "frozen": true
    }
   },
   "outputs": [
    {
     "name": "stdout",
     "output_type": "stream",
     "text": [
      "\u001b[1;35m [WARNING]: Could not match supplied host pattern, ignoring: 172.30.2.200\u001b[0m\r\n",
      "\u001b[1;35m\u001b[0m\r\n",
      "\u001b[1;35m [WARNING]: No hosts matched, nothing to do\u001b[0m\r\n",
      "\u001b[1;35m\u001b[0m\r\n"
     ]
    }
   ],
   "source": [
    "# インベントリに登録していないホストを指定した場合\n",
    "!ansible 172.30.2.200 -m ping"
   ]
  },
  {
   "cell_type": "markdown",
   "metadata": {
    "lc_cell_meme": {
     "current": "89eb7b58-c2e6-11e8-9925-0242ac110002",
     "next": "89eb7bf8-c2e6-11e8-9925-0242ac110002",
     "previous": "89eb7acc-c2e6-11e8-9925-0242ac110002"
    }
   },
   "source": [
    "## コマンドの実行"
   ]
  },
  {
   "cell_type": "markdown",
   "metadata": {
    "lc_cell_meme": {
     "current": "89eb7bf8-c2e6-11e8-9925-0242ac110002",
     "next": "89eb7c98-c2e6-11e8-9925-0242ac110002",
     "previous": "89eb7b58-c2e6-11e8-9925-0242ac110002"
    }
   },
   "source": [
    "Ansibleを利用する準備ができたので、sshコマンドで行ったのと同様の操作を VCノードに対して実行してみます。"
   ]
  },
  {
   "attachments": {},
   "cell_type": "markdown",
   "metadata": {
    "lc_cell_meme": {
     "current": "89eb7c98-c2e6-11e8-9925-0242ac110002",
     "next": "89eb7d2e-c2e6-11e8-9925-0242ac110002",
     "previous": "89eb7bf8-c2e6-11e8-9925-0242ac110002"
    }
   },
   "source": [
    "![Ansible](images/103-003.png)"
   ]
  },
  {
   "cell_type": "markdown",
   "metadata": {
    "lc_cell_meme": {
     "current": "89eb7d2e-c2e6-11e8-9925-0242ac110002",
     "next": "89eb7dc4-c2e6-11e8-9925-0242ac110002",
     "previous": "89eb7c98-c2e6-11e8-9925-0242ac110002"
    }
   },
   "source": [
    "`ansible`を用いてリモート環境のコマンドを実行するには[command モジュール](https://docs.ansible.com/ansible/latest/modules/command_module.html)を利用します。簡単な使用方法を以下に示します。\n",
    "\n",
    "```\n",
    "ansible <ホストパターン> [-m command] -a <リモート環境で実行するコマンド>\n",
    "```\n",
    "\n",
    "`-m`オプションのデフォルト値は `command` なので `-m command`を省略することができます。"
   ]
  },
  {
   "cell_type": "markdown",
   "metadata": {
    "lc_cell_meme": {
     "current": "89eb7dc4-c2e6-11e8-9925-0242ac110002",
     "next": "89eb7e5a-c2e6-11e8-9925-0242ac110002",
     "previous": "89eb7d2e-c2e6-11e8-9925-0242ac110002"
    }
   },
   "source": [
    "では実際に、VCノードに対して`uname -a`, `df -h` を実行してみます。"
   ]
  },
  {
   "cell_type": "code",
   "execution_count": 25,
   "metadata": {
    "deletable": false,
    "editable": false,
    "lc_cell_meme": {
     "current": "89eb7e5a-c2e6-11e8-9925-0242ac110002",
     "next": "89eb7ee6-c2e6-11e8-9925-0242ac110002",
     "previous": "89eb7dc4-c2e6-11e8-9925-0242ac110002"
    },
    "run_through_control": {
     "frozen": true
    },
    "scrolled": true
   },
   "outputs": [
    {
     "name": "stdout",
     "output_type": "stream",
     "text": [
      "\u001b[0;32m172.30.2.251 | SUCCESS | rc=0 >>\u001b[0m\n",
      "\u001b[0;32mLinux ip-172-30-2-251 4.4.0-67-generic #88-Ubuntu SMP Wed Mar 8 16:34:45 UTC 2017 x86_64 Linux\u001b[0m\n",
      "\u001b[0;32m\u001b[0m\n",
      "\u001b[0;32m172.30.2.20 | SUCCESS | rc=0 >>\u001b[0m\n",
      "\u001b[0;32mLinux ip-172-30-2-20 4.4.0-67-generic #88-Ubuntu SMP Wed Mar 8 16:34:45 UTC 2017 x86_64 Linux\u001b[0m\n",
      "\u001b[0;32m\u001b[0m\n",
      "\u001b[0;32m172.30.2.251 | SUCCESS | rc=0 >>\u001b[0m\n",
      "\u001b[0;32mFilesystem                Size      Used Available Use% Mounted on\u001b[0m\n",
      "\u001b[0;32mnone                     19.6G      1.8G     16.8G  10% /\u001b[0m\n",
      "\u001b[0;32mtmpfs                     3.9G         0      3.9G   0% /sys/fs/cgroup\u001b[0m\n",
      "\u001b[0;32mudev                      3.9G         0      3.9G   0% /dev\u001b[0m\n",
      "\u001b[0;32mtmpfs                    64.0M         0     64.0M   0% /dev/shm\u001b[0m\n",
      "\u001b[0;32m/dev/xvda1               19.6G      1.8G     16.8G  10% /etc/resolv.conf\u001b[0m\n",
      "\u001b[0;32m/dev/xvda1               19.6G      1.8G     16.8G  10% /etc/hostname\u001b[0m\n",
      "\u001b[0;32m/dev/xvda1               19.6G      1.8G     16.8G  10% /etc/hosts\u001b[0m\n",
      "\u001b[0;32mshm                      64.0M         0     64.0M   0% /dev/shm\u001b[0m\n",
      "\u001b[0;32m/dev/xvda1               19.6G      1.8G     16.8G  10% /var/lib/docker\u001b[0m\n",
      "\u001b[0;32mnone                      3.9G     56.0K      3.9G   0% /tmp\u001b[0m\n",
      "\u001b[0;32m/dev/xvda1               19.6G      1.8G     16.8G  10% /var/lib/docker/aufs\u001b[0m\n",
      "\u001b[0;32m\u001b[0m\n",
      "\u001b[0;32m172.30.2.20 | SUCCESS | rc=0 >>\u001b[0m\n",
      "\u001b[0;32mFilesystem                Size      Used Available Use% Mounted on\u001b[0m\n",
      "\u001b[0;32mnone                     19.6G      1.8G     16.8G  10% /\u001b[0m\n",
      "\u001b[0;32mtmpfs                     3.9G         0      3.9G   0% /sys/fs/cgroup\u001b[0m\n",
      "\u001b[0;32mudev                      3.9G         0      3.9G   0% /dev\u001b[0m\n",
      "\u001b[0;32mtmpfs                    64.0M         0     64.0M   0% /dev/shm\u001b[0m\n",
      "\u001b[0;32m/dev/xvda1               19.6G      1.8G     16.8G  10% /etc/resolv.conf\u001b[0m\n",
      "\u001b[0;32m/dev/xvda1               19.6G      1.8G     16.8G  10% /etc/hostname\u001b[0m\n",
      "\u001b[0;32m/dev/xvda1               19.6G      1.8G     16.8G  10% /etc/hosts\u001b[0m\n",
      "\u001b[0;32mshm                      64.0M         0     64.0M   0% /dev/shm\u001b[0m\n",
      "\u001b[0;32m/dev/xvda1               19.6G      1.8G     16.8G  10% /var/lib/docker\u001b[0m\n",
      "\u001b[0;32mnone                      3.9G     56.0K      3.9G   0% /tmp\u001b[0m\n",
      "\u001b[0;32m/dev/xvda1               19.6G      1.8G     16.8G  10% /var/lib/docker/aufs\u001b[0m\n",
      "\u001b[0;32m\u001b[0m\n"
     ]
    }
   ],
   "source": [
    "!ansible handson103 -a 'uname -a'\n",
    "!ansible handson103 -a 'df -h'"
   ]
  },
  {
   "cell_type": "markdown",
   "metadata": {
    "lc_cell_meme": {
     "current": "89eb7ee6-c2e6-11e8-9925-0242ac110002",
     "next": "89eb7f7c-c2e6-11e8-9925-0242ac110002",
     "previous": "89eb7e5a-c2e6-11e8-9925-0242ac110002"
    }
   },
   "source": [
    "sshコマンドで複数のVCノードを操作する場合はforループ処理を記述する必要がありましたが、Ansibleではその必要がありません。Ansibleでは操作対象の指定にグループ名が利用できるので、具体的なIPアドレスが変わった場合でもコマンドラインのパラメータを変更する必要がありません。\n",
    "\n",
    "比較のために sshコマンド、Ansibleのそれぞれで `uname -a`を実行するためのコードを以下に示します。\n",
    "\n",
    "sshコマンド:\n",
    "```\n",
    "ssh_opts = \"-i {} -o StrictHostKeyChecking=no -o UserKnownHostsFile=/dev/null -q\".format(ssh_private_key)\n",
    "for address in ip_address:\n",
    "    print(address + ':')\n",
    "    !ssh {ssh_opts} root@{address} uname -a\n",
    "    print()\n",
    "```\n",
    "\n",
    "Ansible:\n",
    "```\n",
    "!ansible handson103 -a 'uname -a'\n",
    "```\n",
    "\n",
    "Ansibleの場合、操作対象となるホストの情報はインベントリファイルに、sshのパラメータはAnsibleの変数ファイルに外出しされているので、簡潔な記述となります。"
   ]
  },
  {
   "cell_type": "markdown",
   "metadata": {
    "lc_cell_meme": {
     "current": "89eb7f7c-c2e6-11e8-9925-0242ac110002",
     "next": "89eb8012-c2e6-11e8-9925-0242ac110002",
     "previous": "89eb7ee6-c2e6-11e8-9925-0242ac110002"
    }
   },
   "source": [
    "command モジュールはシェルによるコマンド実行ではないのでシェル変数やパイプ、リダイレクトなどは利用できません。パイプ、リダイレクトを利用したい場合は、[shellモジュール](https://docs.ansible.com/ansible/latest/modules/shell_module.html)を利用する必要があります。"
   ]
  },
  {
   "cell_type": "code",
   "execution_count": 26,
   "metadata": {
    "deletable": false,
    "editable": false,
    "lc_cell_meme": {
     "current": "89eb8012-c2e6-11e8-9925-0242ac110002",
     "next": "89eb80a8-c2e6-11e8-9925-0242ac110002",
     "previous": "89eb7f7c-c2e6-11e8-9925-0242ac110002"
    },
    "run_through_control": {
     "frozen": true
    },
    "scrolled": false
   },
   "outputs": [
    {
     "name": "stdout",
     "output_type": "stream",
     "text": [
      "\u001b[1;35m [WARNING]: Consider using mount module rather than running mount\u001b[0m\r\n",
      "\u001b[1;35m\u001b[0m\r\n",
      "\u001b[0;32m172.30.2.20 | SUCCESS | rc=0 >>\u001b[0m\r\n",
      "\u001b[0;32mnone on / type aufs (rw,relatime,si=f4929605bab8dbd5,dio,dirperm1)\u001b[0m\r\n",
      "\u001b[0;32m\u001b[0m\r\n",
      "\u001b[0;32m172.30.2.251 | SUCCESS | rc=0 >>\u001b[0m\r\n",
      "\u001b[0;32mnone on / type aufs (rw,relatime,si=7cbebc2288d8f04e,dio,dirperm1)\u001b[0m\r\n",
      "\u001b[0;32m\u001b[0m\r\n"
     ]
    }
   ],
   "source": [
    "!ansible handson103 -m shell -a \"mount | grep -w /\""
   ]
  },
  {
   "cell_type": "markdown",
   "metadata": {
    "lc_cell_meme": {
     "current": "89eb80a8-c2e6-11e8-9925-0242ac110002",
     "next": "89eb813e-c2e6-11e8-9925-0242ac110002",
     "previous": "89eb8012-c2e6-11e8-9925-0242ac110002"
    }
   },
   "source": [
    "## ファイルの取得\n",
    "\n",
    "Ansibleを利用してVCノードのファイルをローカル環境に取得してみます。"
   ]
  },
  {
   "cell_type": "markdown",
   "metadata": {
    "lc_cell_meme": {
     "current": "89eb813e-c2e6-11e8-9925-0242ac110002",
     "next": "89eb81d4-c2e6-11e8-9925-0242ac110002",
     "previous": "89eb80a8-c2e6-11e8-9925-0242ac110002"
    }
   },
   "source": [
    "リモート環境にあるファイルをローカル環境に取得するには[fetch モジュール](https://docs.ansible.com/ansible/latest/modules/fetch_module.html)を利用します。簡単な使用方法を以下に示します。\n",
    "\n",
    "```\n",
    "ansible <ホストパターン> -m fetch -a 'src=<取得元ファイルのパス> dest=<取得先となるディレクトリ>'\n",
    "\n",
    "fetchモジュールのパラメータ(-a)について:\n",
    "src\n",
    "      取得元のリモート環境にあるファイルのパス\n",
    "dest\n",
    "      取得先となるローカル環境のディレクトリ\n",
    "```"
   ]
  },
  {
   "cell_type": "markdown",
   "metadata": {
    "lc_cell_meme": {
     "current": "89eb81d4-c2e6-11e8-9925-0242ac110002",
     "next": "89eb8288-c2e6-11e8-9925-0242ac110002",
     "previous": "89eb813e-c2e6-11e8-9925-0242ac110002"
    }
   },
   "source": [
    "では、実際にリモート環境の `/etc/os-release` をローカル環境に取得してみます。"
   ]
  },
  {
   "cell_type": "code",
   "execution_count": 27,
   "metadata": {
    "deletable": false,
    "editable": false,
    "lc_cell_meme": {
     "current": "89eb8288-c2e6-11e8-9925-0242ac110002",
     "next": "89eb831e-c2e6-11e8-9925-0242ac110002",
     "previous": "89eb81d4-c2e6-11e8-9925-0242ac110002"
    },
    "run_through_control": {
     "frozen": true
    },
    "scrolled": false
   },
   "outputs": [
    {
     "name": "stdout",
     "output_type": "stream",
     "text": [
      "\u001b[0;33m172.30.2.20 | SUCCESS => {\u001b[0m\n",
      "\u001b[0;33m    \"changed\": true, \u001b[0m\n",
      "\u001b[0;33m    \"checksum\": \"c6e0619046b498270ac737b51f1f869321e710f5\", \u001b[0m\n",
      "\u001b[0;33m    \"dest\": \"/tmp/tmpexbzvb7c/172.30.2.20/etc/os-release\", \u001b[0m\n",
      "\u001b[0;33m    \"failed\": false, \u001b[0m\n",
      "\u001b[0;33m    \"md5sum\": \"34b13b43513cad92a85bb8547f6fc5cb\", \u001b[0m\n",
      "\u001b[0;33m    \"remote_checksum\": \"c6e0619046b498270ac737b51f1f869321e710f5\", \u001b[0m\n",
      "\u001b[0;33m    \"remote_md5sum\": null\u001b[0m\n",
      "\u001b[0;33m}\u001b[0m\n",
      "\u001b[0;33m172.30.2.251 | SUCCESS => {\u001b[0m\n",
      "\u001b[0;33m    \"changed\": true, \u001b[0m\n",
      "\u001b[0;33m    \"checksum\": \"c6e0619046b498270ac737b51f1f869321e710f5\", \u001b[0m\n",
      "\u001b[0;33m    \"dest\": \"/tmp/tmpexbzvb7c/172.30.2.251/etc/os-release\", \u001b[0m\n",
      "\u001b[0;33m    \"failed\": false, \u001b[0m\n",
      "\u001b[0;33m    \"md5sum\": \"34b13b43513cad92a85bb8547f6fc5cb\", \u001b[0m\n",
      "\u001b[0;33m    \"remote_checksum\": \"c6e0619046b498270ac737b51f1f869321e710f5\", \u001b[0m\n",
      "\u001b[0;33m    \"remote_md5sum\": null\u001b[0m\n",
      "\u001b[0;33m}\u001b[0m\n",
      "/tmp/tmpexbzvb7c\n",
      "├── 172.30.2.20\n",
      "│   └── etc\n",
      "│       └── os-release\n",
      "└── 172.30.2.251\n",
      "    └── etc\n",
      "        └── os-release\n",
      "\n",
      "4 directories, 2 files\n",
      "172.30.2.20:\n",
      "----------------------------------------\n",
      "NAME=\"Alpine Linux\"\n",
      "ID=alpine\n",
      "VERSION_ID=3.5.2\n",
      "PRETTY_NAME=\"Alpine Linux v3.5\"\n",
      "HOME_URL=\"http://alpinelinux.org\"\n",
      "BUG_REPORT_URL=\"http://bugs.alpinelinux.org\"\n",
      "172.30.2.251:\n",
      "----------------------------------------\n",
      "NAME=\"Alpine Linux\"\n",
      "ID=alpine\n",
      "VERSION_ID=3.5.2\n",
      "PRETTY_NAME=\"Alpine Linux v3.5\"\n",
      "HOME_URL=\"http://alpinelinux.org\"\n",
      "BUG_REPORT_URL=\"http://bugs.alpinelinux.org\"\n"
     ]
    }
   ],
   "source": [
    "import tempfile\n",
    "\n",
    "# 作業ディレクトリを作成\n",
    "work_dir = tempfile.mkdtemp()\n",
    "\n",
    "# Ansibleを利用してVCノードのファイルをローカル環境に取得する\n",
    "!ansible handson103 -m fetch -a 'src=/etc/os-release dest={work_dir}'\n",
    "\n",
    "# 取得したファイルを配置したディレクトリ構成を表示する\n",
    "!tree {work_dir}\n",
    "        \n",
    "# 取得したファイルの内容を表示する\n",
    "for address in ip_address:\n",
    "    print(address + ':')\n",
    "    print('-' * 40)\n",
    "    !cat {os.path.join(work_dir, address, 'etc/os-release')}\n",
    "\n",
    "# 作業ディレクトリを削除\n",
    "!rm -rf {work_dir}"
   ]
  },
  {
   "cell_type": "markdown",
   "metadata": {
    "lc_cell_meme": {
     "current": "89eb831e-c2e6-11e8-9925-0242ac110002",
     "next": "89eb83be-c2e6-11e8-9925-0242ac110002",
     "previous": "89eb8288-c2e6-11e8-9925-0242ac110002"
    }
   },
   "source": [
    "比較のために scpコマンド、Ansibleのそれぞれでリモート環境のファイルをローカル環境に取得するためのコードを以下に示します。\n",
    "\n",
    "sshコマンド:\n",
    "```\n",
    "ssh_opts = \"-i {} -o StrictHostKeyChecking=no -o UserKnownHostsFile=/dev/null -q\".format(ssh_private_key)\n",
    "for address in ip_address:\n",
    "    !mkdir -p {work_dir}/{address}\n",
    "    !scp {ssh_opts} root@{server_ip_address}:/etc/os-release {work_dir}/{address}\n",
    "```\n",
    "\n",
    "Ansible:\n",
    "```\n",
    "!ansible handson103 -m fetch -a 'src=/etc/os-release dest={work_dir}'\n",
    "```"
   ]
  },
  {
   "cell_type": "markdown",
   "metadata": {
    "lc_cell_meme": {
     "current": "89eb83be-c2e6-11e8-9925-0242ac110002",
     "next": "89eb8454-c2e6-11e8-9925-0242ac110002",
     "previous": "89eb831e-c2e6-11e8-9925-0242ac110002"
    }
   },
   "source": [
    "# Ansibleを利用した VCノードの操作（続き）"
   ]
  },
  {
   "cell_type": "markdown",
   "metadata": {
    "lc_cell_meme": {
     "current": "89eb8454-c2e6-11e8-9925-0242ac110002",
     "next": "89eb84ea-c2e6-11e8-9925-0242ac110002",
     "previous": "89eb83be-c2e6-11e8-9925-0242ac110002"
    }
   },
   "source": [
    "前節では以下のモジュールの利用例を示しました。\n",
    "\n",
    "* [ping モジュール](https://docs.ansible.com/ansible/latest/modules/ping_module.html)\n",
    "* [command モジュール](https://docs.ansible.com/ansible/latest/modules/command_module.html)\n",
    "* [shellモジュール](https://docs.ansible.com/ansible/latest/modules/shell_module.html)\n",
    "* [fetch モジュール](https://docs.ansible.com/ansible/latest/modules/fetch_module.html)"
   ]
  },
  {
   "cell_type": "markdown",
   "metadata": {
    "lc_cell_meme": {
     "current": "89eb84ea-c2e6-11e8-9925-0242ac110002",
     "next": "89eb8580-c2e6-11e8-9925-0242ac110002",
     "previous": "89eb8454-c2e6-11e8-9925-0242ac110002"
    }
   },
   "source": [
    "今節では、次のモジュールの利用例を示します。\n",
    "\n",
    "* [packageモジュール](https://docs.ansible.com/ansible/latest/modules/package_module.html)\n",
    "  - 汎用的なパッケージ操作を行う\n",
    "* [copyモジュール](https://docs.ansible.com/ansible/latest/modules/copy_module.html)\n",
    "  - ローカル環境のファイルをリモート環境に配置する\n",
    "* [synchronizeモジュール](https://docs.ansible.com/ansible/latest/modules/synchronize_module.html)\n",
    "  - rsyncのラッパーモジュール。リモート環境への再帰的なファイル配置を行う場合は copy モジュールよりも適している。"
   ]
  },
  {
   "cell_type": "markdown",
   "metadata": {
    "lc_cell_meme": {
     "current": "89eb8580-c2e6-11e8-9925-0242ac110002",
     "next": "89eb8620-c2e6-11e8-9925-0242ac110002",
     "previous": "89eb84ea-c2e6-11e8-9925-0242ac110002"
    }
   },
   "source": [
    "また、インベントリにグループの階層（グループのグループ）を作成する方法についてもふれます。"
   ]
  },
  {
   "cell_type": "markdown",
   "metadata": {
    "lc_cell_meme": {
     "current": "89eb8620-c2e6-11e8-9925-0242ac110002",
     "next": "89eb86b6-c2e6-11e8-9925-0242ac110002",
     "previous": "89eb8580-c2e6-11e8-9925-0242ac110002"
    }
   },
   "source": [
    "## パッケージのインストール"
   ]
  },
  {
   "cell_type": "markdown",
   "metadata": {
    "lc_cell_meme": {
     "current": "89eb86b6-c2e6-11e8-9925-0242ac110002",
     "next": "89eb874c-c2e6-11e8-9925-0242ac110002",
     "previous": "89eb8620-c2e6-11e8-9925-0242ac110002"
    }
   },
   "source": [
    "VCノードでCPUに関する情報を表示する`lscpu` コマンドを実行してみます。"
   ]
  },
  {
   "cell_type": "code",
   "execution_count": 28,
   "metadata": {
    "lc_cell_meme": {
     "current": "89eb874c-c2e6-11e8-9925-0242ac110002",
     "next": "89eb87e2-c2e6-11e8-9925-0242ac110002",
     "previous": "89eb86b6-c2e6-11e8-9925-0242ac110002"
    },
    "scrolled": true
   },
   "outputs": [
    {
     "name": "stdout",
     "output_type": "stream",
     "text": [
      "\u001b[0;31m172.30.2.20 | FAILED | rc=2 >>\u001b[0m\r\n",
      "\u001b[0;31m[Errno 2] No such file or directory\u001b[0m\r\n",
      "\u001b[0;31m\u001b[0m\r\n",
      "\u001b[0;31m172.30.2.251 | FAILED | rc=2 >>\u001b[0m\r\n",
      "\u001b[0;31m[Errno 2] No such file or directory\u001b[0m\r\n",
      "\u001b[0;31m\u001b[0m\r\n"
     ]
    },
    {
     "ename": "RuntimeError",
     "evalue": "Unexpected exit code: 2",
     "output_type": "error",
     "traceback": [
      "\u001b[0;31m---------------------------------------------------------------------------\u001b[0m",
      "\u001b[0;31mRuntimeError\u001b[0m                              Traceback (most recent call last)",
      "\u001b[0;32m<ipython-input-28-260984185b9f>\u001b[0m in \u001b[0;36m<module>\u001b[0;34m()\u001b[0m\n\u001b[0;32m----> 1\u001b[0;31m \u001b[0mget_ipython\u001b[0m\u001b[0;34m(\u001b[0m\u001b[0;34m)\u001b[0m\u001b[0;34m.\u001b[0m\u001b[0msystem\u001b[0m\u001b[0;34m(\u001b[0m\u001b[0;34m\"ansible handson103 -a 'lscpu'\"\u001b[0m\u001b[0;34m)\u001b[0m\u001b[0;34m\u001b[0m\u001b[0m\n\u001b[0m",
      "\u001b[0;32m~/.ipython/profile_default/startup/10-custom-get_ipython_system.py\u001b[0m in \u001b[0;36m<lambda>\u001b[0;34m(x)\u001b[0m\n\u001b[1;32m      5\u001b[0m \u001b[0;34m\u001b[0m\u001b[0m\n\u001b[1;32m      6\u001b[0m \u001b[0msave_get_ipython_system\u001b[0m \u001b[0;34m=\u001b[0m \u001b[0mget_ipython\u001b[0m\u001b[0;34m(\u001b[0m\u001b[0;34m)\u001b[0m\u001b[0;34m.\u001b[0m\u001b[0msystem\u001b[0m\u001b[0;34m\u001b[0m\u001b[0m\n\u001b[0;32m----> 7\u001b[0;31m \u001b[0mget_ipython\u001b[0m\u001b[0;34m(\u001b[0m\u001b[0;34m)\u001b[0m\u001b[0;34m.\u001b[0m\u001b[0msystem\u001b[0m \u001b[0;34m=\u001b[0m \u001b[0;32mlambda\u001b[0m \u001b[0mx\u001b[0m\u001b[0;34m:\u001b[0m \u001b[0mget_ipython_system\u001b[0m\u001b[0;34m(\u001b[0m\u001b[0mx\u001b[0m\u001b[0;34m)\u001b[0m\u001b[0;34m\u001b[0m\u001b[0m\n\u001b[0m\u001b[1;32m      8\u001b[0m \u001b[0;34m\u001b[0m\u001b[0m\n\u001b[1;32m      9\u001b[0m \u001b[0;31m# interactiveshell.py's system_piped() function comment saids:\u001b[0m\u001b[0;34m\u001b[0m\u001b[0;34m\u001b[0m\u001b[0m\n",
      "\u001b[0;32m~/.ipython/profile_default/startup/10-custom-get_ipython_system.py\u001b[0m in \u001b[0;36mget_ipython_system\u001b[0;34m(cmd)\u001b[0m\n\u001b[1;32m     13\u001b[0m     \u001b[0msave_get_ipython_system\u001b[0m\u001b[0;34m(\u001b[0m\u001b[0mcmd\u001b[0m\u001b[0;34m)\u001b[0m\u001b[0;34m\u001b[0m\u001b[0m\n\u001b[1;32m     14\u001b[0m     \u001b[0;32mif\u001b[0m \u001b[0mget_ipython\u001b[0m\u001b[0;34m(\u001b[0m\u001b[0;34m)\u001b[0m\u001b[0;34m.\u001b[0m\u001b[0muser_ns\u001b[0m\u001b[0;34m[\u001b[0m\u001b[0;34m'_exit_code'\u001b[0m\u001b[0;34m]\u001b[0m \u001b[0;34m!=\u001b[0m \u001b[0;36m0\u001b[0m\u001b[0;34m:\u001b[0m\u001b[0;34m\u001b[0m\u001b[0m\n\u001b[0;32m---> 15\u001b[0;31m         \u001b[0;32mraise\u001b[0m \u001b[0mRuntimeError\u001b[0m\u001b[0;34m(\u001b[0m\u001b[0;34m'Unexpected exit code: %d'\u001b[0m \u001b[0;34m%\u001b[0m \u001b[0mget_ipython\u001b[0m\u001b[0;34m(\u001b[0m\u001b[0;34m)\u001b[0m\u001b[0;34m.\u001b[0m\u001b[0muser_ns\u001b[0m\u001b[0;34m[\u001b[0m\u001b[0;34m'_exit_code'\u001b[0m\u001b[0;34m]\u001b[0m\u001b[0;34m)\u001b[0m\u001b[0;34m\u001b[0m\u001b[0m\n\u001b[0m",
      "\u001b[0;31mRuntimeError\u001b[0m: Unexpected exit code: 2"
     ]
    }
   ],
   "source": [
    "!ansible handson103 -a 'lscpu'"
   ]
  },
  {
   "cell_type": "markdown",
   "metadata": {
    "lc_cell_meme": {
     "current": "89eb87e2-c2e6-11e8-9925-0242ac110002",
     "next": "89eb8878-c2e6-11e8-9925-0242ac110002",
     "previous": "89eb874c-c2e6-11e8-9925-0242ac110002"
    }
   },
   "source": [
    "VCノードに `lscpu`コマンドがインストールされていないのでエラーになります。そこで Ansible を利用して `lscpu`コマンドのインストールを行います。\n",
    "\n",
    "今回起動している VCノードは Alpine Linux 環境です。Alpine Linux では `lscpu`コマンドが `util-linux`というパッケージに[含まれています](https://pkgs.alpinelinux.org/contents?file=lscpu&path=&name=util-linux&branch=v3.5&repo=main&arch=x86)。そこで Ansible で `util-linux` パッケージのインストールを行います。"
   ]
  },
  {
   "cell_type": "markdown",
   "metadata": {
    "lc_cell_meme": {
     "current": "89eb8878-c2e6-11e8-9925-0242ac110002",
     "next": "89eb8918-c2e6-11e8-9925-0242ac110002",
     "previous": "89eb87e2-c2e6-11e8-9925-0242ac110002"
    }
   },
   "source": [
    "Ansible の[パッケージに関するモジュール](https://docs.ansible.com/ansible/latest/modules/list_of_packaging_modules.html)は色々とありますが、今回は汎用的なパッケージ操作を行う[packageモジュール](https://docs.ansible.com/ansible/latest/modules/package_module.html)を利用します。簡単な使用方法を以下に記します。\n",
    "\n",
    "```\n",
    "ansible <ホストパターン> -b -m package -a 'name=<パッケージ名>'\n",
    "\n",
    "-b\n",
    "    管理者権限で操作を実行する\n",
    "    \n",
    "packageモジュールのパラメータ(-a)について:\n",
    "name\n",
    "      操作対象のパッケージ名\n",
    "      複数指定する場合はカンマ(,)で区切る\n",
    "```"
   ]
  },
  {
   "cell_type": "code",
   "execution_count": 29,
   "metadata": {
    "deletable": false,
    "editable": false,
    "lc_cell_meme": {
     "current": "89eb8918-c2e6-11e8-9925-0242ac110002",
     "next": "89eb89ae-c2e6-11e8-9925-0242ac110002",
     "previous": "89eb8878-c2e6-11e8-9925-0242ac110002"
    },
    "run_through_control": {
     "frozen": true
    },
    "scrolled": true
   },
   "outputs": [
    {
     "name": "stdout",
     "output_type": "stream",
     "text": [
      "\u001b[0;33m172.30.2.20 | SUCCESS => {\u001b[0m\n",
      "\u001b[0;33m    \"changed\": true, \u001b[0m\n",
      "\u001b[0;33m    \"failed\": false, \u001b[0m\n",
      "\u001b[0;33m    \"msg\": \"installed util-linux package(s)\", \u001b[0m\n",
      "\u001b[0;33m    \"packages\": [\u001b[0m\n",
      "\u001b[0;33m        \"libsmartcols\", \u001b[0m\n",
      "\u001b[0;33m        \"findmnt\", \u001b[0m\n",
      "\u001b[0;33m        \"libfdisk\", \u001b[0m\n",
      "\u001b[0;33m        \"util-linux\"\u001b[0m\n",
      "\u001b[0;33m    ], \u001b[0m\n",
      "\u001b[0;33m    \"stderr\": \"\", \u001b[0m\n",
      "\u001b[0;33m    \"stderr_lines\": [], \u001b[0m\n",
      "\u001b[0;33m    \"stdout\": \"(1/4) Installing libsmartcols (2.28.2-r1)\\n(2/4) Installing findmnt (2.28.2-r1)\\n(3/4) Installing libfdisk (2.28.2-r1)\\n(4/4) Installing util-linux (2.28.2-r1)\\nExecuting busybox-1.25.1-r0.trigger\\nOK: 144 MiB in 101 packages\\n\", \u001b[0m\n",
      "\u001b[0;33m    \"stdout_lines\": [\u001b[0m\n",
      "\u001b[0;33m        \"(1/4) Installing libsmartcols (2.28.2-r1)\", \u001b[0m\n",
      "\u001b[0;33m        \"(2/4) Installing findmnt (2.28.2-r1)\", \u001b[0m\n",
      "\u001b[0;33m        \"(3/4) Installing libfdisk (2.28.2-r1)\", \u001b[0m\n",
      "\u001b[0;33m        \"(4/4) Installing util-linux (2.28.2-r1)\", \u001b[0m\n",
      "\u001b[0;33m        \"Executing busybox-1.25.1-r0.trigger\", \u001b[0m\n",
      "\u001b[0;33m        \"OK: 144 MiB in 101 packages\"\u001b[0m\n",
      "\u001b[0;33m    ]\u001b[0m\n",
      "\u001b[0;33m}\u001b[0m\n",
      "\u001b[0;33m172.30.2.251 | SUCCESS => {\u001b[0m\n",
      "\u001b[0;33m    \"changed\": true, \u001b[0m\n",
      "\u001b[0;33m    \"failed\": false, \u001b[0m\n",
      "\u001b[0;33m    \"msg\": \"installed util-linux package(s)\", \u001b[0m\n",
      "\u001b[0;33m    \"packages\": [\u001b[0m\n",
      "\u001b[0;33m        \"libsmartcols\", \u001b[0m\n",
      "\u001b[0;33m        \"findmnt\", \u001b[0m\n",
      "\u001b[0;33m        \"libfdisk\", \u001b[0m\n",
      "\u001b[0;33m        \"util-linux\"\u001b[0m\n",
      "\u001b[0;33m    ], \u001b[0m\n",
      "\u001b[0;33m    \"stderr\": \"\", \u001b[0m\n",
      "\u001b[0;33m    \"stderr_lines\": [], \u001b[0m\n",
      "\u001b[0;33m    \"stdout\": \"(1/4) Installing libsmartcols (2.28.2-r1)\\n(2/4) Installing findmnt (2.28.2-r1)\\n(3/4) Installing libfdisk (2.28.2-r1)\\n(4/4) Installing util-linux (2.28.2-r1)\\nExecuting busybox-1.25.1-r0.trigger\\nOK: 144 MiB in 101 packages\\n\", \u001b[0m\n",
      "\u001b[0;33m    \"stdout_lines\": [\u001b[0m\n",
      "\u001b[0;33m        \"(1/4) Installing libsmartcols (2.28.2-r1)\", \u001b[0m\n",
      "\u001b[0;33m        \"(2/4) Installing findmnt (2.28.2-r1)\", \u001b[0m\n",
      "\u001b[0;33m        \"(3/4) Installing libfdisk (2.28.2-r1)\", \u001b[0m\n",
      "\u001b[0;33m        \"(4/4) Installing util-linux (2.28.2-r1)\", \u001b[0m\n",
      "\u001b[0;33m        \"Executing busybox-1.25.1-r0.trigger\", \u001b[0m\n",
      "\u001b[0;33m        \"OK: 144 MiB in 101 packages\"\u001b[0m\n",
      "\u001b[0;33m    ]\u001b[0m\n",
      "\u001b[0;33m}\u001b[0m\n"
     ]
    }
   ],
   "source": [
    "!ansible handson103 -b -m package -a 'name=util-linux'"
   ]
  },
  {
   "cell_type": "markdown",
   "metadata": {
    "lc_cell_meme": {
     "current": "89eb89ae-c2e6-11e8-9925-0242ac110002",
     "next": "89eb8a44-c2e6-11e8-9925-0242ac110002",
     "previous": "89eb8918-c2e6-11e8-9925-0242ac110002"
    }
   },
   "source": [
    "`lscpu` を実行してみます。今度は `lscpu` が実行できるはずです。"
   ]
  },
  {
   "cell_type": "code",
   "execution_count": 30,
   "metadata": {
    "deletable": false,
    "editable": false,
    "lc_cell_meme": {
     "current": "89eb8a44-c2e6-11e8-9925-0242ac110002",
     "next": "89eb8ada-c2e6-11e8-9925-0242ac110002",
     "previous": "89eb89ae-c2e6-11e8-9925-0242ac110002"
    },
    "run_through_control": {
     "frozen": true
    },
    "scrolled": true
   },
   "outputs": [
    {
     "name": "stdout",
     "output_type": "stream",
     "text": [
      "\u001b[0;32m172.30.2.251 | SUCCESS | rc=0 >>\u001b[0m\r\n",
      "\u001b[0;32mArchitecture:          x86_64\u001b[0m\r\n",
      "\u001b[0;32mCPU op-mode(s):        32-bit, 64-bit\u001b[0m\r\n",
      "\u001b[0;32mByte Order:            Little Endian\u001b[0m\r\n",
      "\u001b[0;32mCPU(s):                2\u001b[0m\r\n",
      "\u001b[0;32mOn-line CPU(s) list:   0,1\u001b[0m\r\n",
      "\u001b[0;32mThread(s) per core:    2\u001b[0m\r\n",
      "\u001b[0;32mCore(s) per socket:    1\u001b[0m\r\n",
      "\u001b[0;32mSocket(s):             1\u001b[0m\r\n",
      "\u001b[0;32mNUMA node(s):          1\u001b[0m\r\n",
      "\u001b[0;32mVendor ID:             GenuineIntel\u001b[0m\r\n",
      "\u001b[0;32mCPU family:            6\u001b[0m\r\n",
      "\u001b[0;32mModel:                 79\u001b[0m\r\n",
      "\u001b[0;32mModel name:            Intel(R) Xeon(R) CPU E5-2686 v4 @ 2.30GHz\u001b[0m\r\n",
      "\u001b[0;32mStepping:              1\u001b[0m\r\n",
      "\u001b[0;32mCPU MHz:               2300.072\u001b[0m\r\n",
      "\u001b[0;32mBogoMIPS:              4600.14\u001b[0m\r\n",
      "\u001b[0;32mHypervisor vendor:     Xen\u001b[0m\r\n",
      "\u001b[0;32mVirtualization type:   full\u001b[0m\r\n",
      "\u001b[0;32mL1d cache:             32K\u001b[0m\r\n",
      "\u001b[0;32mL1i cache:             32K\u001b[0m\r\n",
      "\u001b[0;32mL2 cache:              256K\u001b[0m\r\n",
      "\u001b[0;32mL3 cache:              46080K\u001b[0m\r\n",
      "\u001b[0;32mNUMA node0 CPU(s):     0,1\u001b[0m\r\n",
      "\u001b[0;32mFlags:                 fpu vme de pse tsc msr pae mce cx8 apic sep mtrr pge mca cmov pat pse36 clflush mmx fxsr sse sse2 ht syscall nx pdpe1gb rdtscp lm constant_tsc rep_good nopl xtopology eagerfpu pni pclmulqdq ssse3 fma cx16 pcid sse4_1 sse4_2 x2apic movbe popcnt tsc_deadline_timer aes xsave avx f16c rdrand hypervisor lahf_lm abm fsgsbase bmi1 avx2 smep bmi2 erms invpcid xsaveopt\u001b[0m\r\n",
      "\u001b[0;32m\u001b[0m\r\n",
      "\u001b[0;32m172.30.2.20 | SUCCESS | rc=0 >>\u001b[0m\r\n",
      "\u001b[0;32mArchitecture:          x86_64\u001b[0m\r\n",
      "\u001b[0;32mCPU op-mode(s):        32-bit, 64-bit\u001b[0m\r\n",
      "\u001b[0;32mByte Order:            Little Endian\u001b[0m\r\n",
      "\u001b[0;32mCPU(s):                2\u001b[0m\r\n",
      "\u001b[0;32mOn-line CPU(s) list:   0,1\u001b[0m\r\n",
      "\u001b[0;32mThread(s) per core:    2\u001b[0m\r\n",
      "\u001b[0;32mCore(s) per socket:    1\u001b[0m\r\n",
      "\u001b[0;32mSocket(s):             1\u001b[0m\r\n",
      "\u001b[0;32mNUMA node(s):          1\u001b[0m\r\n",
      "\u001b[0;32mVendor ID:             GenuineIntel\u001b[0m\r\n",
      "\u001b[0;32mCPU family:            6\u001b[0m\r\n",
      "\u001b[0;32mModel:                 79\u001b[0m\r\n",
      "\u001b[0;32mModel name:            Intel(R) Xeon(R) CPU E5-2686 v4 @ 2.30GHz\u001b[0m\r\n",
      "\u001b[0;32mStepping:              1\u001b[0m\r\n",
      "\u001b[0;32mCPU MHz:               2300.060\u001b[0m\r\n",
      "\u001b[0;32mBogoMIPS:              4600.12\u001b[0m\r\n",
      "\u001b[0;32mHypervisor vendor:     Xen\u001b[0m\r\n",
      "\u001b[0;32mVirtualization type:   full\u001b[0m\r\n",
      "\u001b[0;32mL1d cache:             32K\u001b[0m\r\n",
      "\u001b[0;32mL1i cache:             32K\u001b[0m\r\n",
      "\u001b[0;32mL2 cache:              256K\u001b[0m\r\n",
      "\u001b[0;32mL3 cache:              46080K\u001b[0m\r\n",
      "\u001b[0;32mNUMA node0 CPU(s):     0,1\u001b[0m\r\n",
      "\u001b[0;32mFlags:                 fpu vme de pse tsc msr pae mce cx8 apic sep mtrr pge mca cmov pat pse36 clflush mmx fxsr sse sse2 ht syscall nx pdpe1gb rdtscp lm constant_tsc rep_good nopl xtopology eagerfpu pni pclmulqdq ssse3 fma cx16 pcid sse4_1 sse4_2 x2apic movbe popcnt tsc_deadline_timer aes xsave avx f16c rdrand hypervisor lahf_lm abm fsgsbase bmi1 avx2 smep bmi2 erms invpcid xsaveopt\u001b[0m\r\n",
      "\u001b[0;32m\u001b[0m\r\n"
     ]
    }
   ],
   "source": [
    "!ansible handson103 -a 'lscpu'"
   ]
  },
  {
   "cell_type": "markdown",
   "metadata": {
    "lc_cell_meme": {
     "current": "89eb8ada-c2e6-11e8-9925-0242ac110002",
     "next": "89eb8b70-c2e6-11e8-9925-0242ac110002",
     "previous": "89eb8a44-c2e6-11e8-9925-0242ac110002"
    }
   },
   "source": [
    "複数のパッケージをインストールする場合はカンマで区切ってパッケージ名を列挙します。"
   ]
  },
  {
   "cell_type": "code",
   "execution_count": 31,
   "metadata": {
    "deletable": false,
    "editable": false,
    "lc_cell_meme": {
     "current": "89eb8b70-c2e6-11e8-9925-0242ac110002",
     "next": "89eb8c06-c2e6-11e8-9925-0242ac110002",
     "previous": "89eb8ada-c2e6-11e8-9925-0242ac110002"
    },
    "run_through_control": {
     "frozen": true
    },
    "scrolled": true
   },
   "outputs": [
    {
     "name": "stdout",
     "output_type": "stream",
     "text": [
      "\u001b[0;33m172.30.2.20 | SUCCESS => {\u001b[0m\n",
      "\u001b[0;33m    \"changed\": true, \u001b[0m\n",
      "\u001b[0;33m    \"failed\": false, \u001b[0m\n",
      "\u001b[0;33m    \"msg\": \"installed rsync tree netcat-openbsd package(s)\", \u001b[0m\n",
      "\u001b[0;33m    \"packages\": [\u001b[0m\n",
      "\u001b[0;33m        \"libintl\", \u001b[0m\n",
      "\u001b[0;33m        \"pcre\", \u001b[0m\n",
      "\u001b[0;33m        \"glib\", \u001b[0m\n",
      "\u001b[0;33m        \"netcat-openbsd\", \u001b[0m\n",
      "\u001b[0;33m        \"libattr\", \u001b[0m\n",
      "\u001b[0;33m        \"libacl\", \u001b[0m\n",
      "\u001b[0;33m        \"popt\", \u001b[0m\n",
      "\u001b[0;33m        \"rsync\", \u001b[0m\n",
      "\u001b[0;33m        \"tree\"\u001b[0m\n",
      "\u001b[0;33m    ], \u001b[0m\n",
      "\u001b[0;33m    \"stderr\": \"\", \u001b[0m\n",
      "\u001b[0;33m    \"stderr_lines\": [], \u001b[0m\n",
      "\u001b[0;33m    \"stdout\": \"(1/9) Installing libintl (0.19.8.1-r0)\\n(2/9) Installing pcre (8.39-r0)\\n(3/9) Installing glib (2.50.2-r0)\\n(4/9) Installing netcat-openbsd (1.89-r2)\\n(5/9) Installing libattr (2.4.47-r4)\\n(6/9) Installing libacl (2.2.52-r2)\\n(7/9) Installing popt (1.16-r6)\\n(8/9) Installing rsync (3.1.3-r0)\\n(9/9) Installing tree (1.7.0-r0)\\nExecuting busybox-1.25.1-r0.trigger\\nExecuting glib-2.50.2-r0.trigger\\nOK: 148 MiB in 110 packages\\n\", \u001b[0m\n",
      "\u001b[0;33m    \"stdout_lines\": [\u001b[0m\n",
      "\u001b[0;33m        \"(1/9) Installing libintl (0.19.8.1-r0)\", \u001b[0m\n",
      "\u001b[0;33m        \"(2/9) Installing pcre (8.39-r0)\", \u001b[0m\n",
      "\u001b[0;33m        \"(3/9) Installing glib (2.50.2-r0)\", \u001b[0m\n",
      "\u001b[0;33m        \"(4/9) Installing netcat-openbsd (1.89-r2)\", \u001b[0m\n",
      "\u001b[0;33m        \"(5/9) Installing libattr (2.4.47-r4)\", \u001b[0m\n",
      "\u001b[0;33m        \"(6/9) Installing libacl (2.2.52-r2)\", \u001b[0m\n",
      "\u001b[0;33m        \"(7/9) Installing popt (1.16-r6)\", \u001b[0m\n",
      "\u001b[0;33m        \"(8/9) Installing rsync (3.1.3-r0)\", \u001b[0m\n",
      "\u001b[0;33m        \"(9/9) Installing tree (1.7.0-r0)\", \u001b[0m\n",
      "\u001b[0;33m        \"Executing busybox-1.25.1-r0.trigger\", \u001b[0m\n",
      "\u001b[0;33m        \"Executing glib-2.50.2-r0.trigger\", \u001b[0m\n",
      "\u001b[0;33m        \"OK: 148 MiB in 110 packages\"\u001b[0m\n",
      "\u001b[0;33m    ]\u001b[0m\n",
      "\u001b[0;33m}\u001b[0m\n",
      "\u001b[0;33m172.30.2.251 | SUCCESS => {\u001b[0m\n",
      "\u001b[0;33m    \"changed\": true, \u001b[0m\n",
      "\u001b[0;33m    \"failed\": false, \u001b[0m\n",
      "\u001b[0;33m    \"msg\": \"installed rsync tree netcat-openbsd package(s)\", \u001b[0m\n",
      "\u001b[0;33m    \"packages\": [\u001b[0m\n",
      "\u001b[0;33m        \"libintl\", \u001b[0m\n",
      "\u001b[0;33m        \"pcre\", \u001b[0m\n",
      "\u001b[0;33m        \"glib\", \u001b[0m\n",
      "\u001b[0;33m        \"netcat-openbsd\", \u001b[0m\n",
      "\u001b[0;33m        \"libattr\", \u001b[0m\n",
      "\u001b[0;33m        \"libacl\", \u001b[0m\n",
      "\u001b[0;33m        \"popt\", \u001b[0m\n",
      "\u001b[0;33m        \"rsync\", \u001b[0m\n",
      "\u001b[0;33m        \"tree\"\u001b[0m\n",
      "\u001b[0;33m    ], \u001b[0m\n",
      "\u001b[0;33m    \"stderr\": \"\", \u001b[0m\n",
      "\u001b[0;33m    \"stderr_lines\": [], \u001b[0m\n",
      "\u001b[0;33m    \"stdout\": \"(1/9) Installing libintl (0.19.8.1-r0)\\n(2/9) Installing pcre (8.39-r0)\\n(3/9) Installing glib (2.50.2-r0)\\n(4/9) Installing netcat-openbsd (1.89-r2)\\n(5/9) Installing libattr (2.4.47-r4)\\n(6/9) Installing libacl (2.2.52-r2)\\n(7/9) Installing popt (1.16-r6)\\n(8/9) Installing rsync (3.1.3-r0)\\n(9/9) Installing tree (1.7.0-r0)\\nExecuting busybox-1.25.1-r0.trigger\\nExecuting glib-2.50.2-r0.trigger\\nOK: 148 MiB in 110 packages\\n\", \u001b[0m\n",
      "\u001b[0;33m    \"stdout_lines\": [\u001b[0m\n",
      "\u001b[0;33m        \"(1/9) Installing libintl (0.19.8.1-r0)\", \u001b[0m\n",
      "\u001b[0;33m        \"(2/9) Installing pcre (8.39-r0)\", \u001b[0m\n",
      "\u001b[0;33m        \"(3/9) Installing glib (2.50.2-r0)\", \u001b[0m\n",
      "\u001b[0;33m        \"(4/9) Installing netcat-openbsd (1.89-r2)\", \u001b[0m\n",
      "\u001b[0;33m        \"(5/9) Installing libattr (2.4.47-r4)\", \u001b[0m\n",
      "\u001b[0;33m        \"(6/9) Installing libacl (2.2.52-r2)\", \u001b[0m\n",
      "\u001b[0;33m        \"(7/9) Installing popt (1.16-r6)\", \u001b[0m\n",
      "\u001b[0;33m        \"(8/9) Installing rsync (3.1.3-r0)\", \u001b[0m\n",
      "\u001b[0;33m        \"(9/9) Installing tree (1.7.0-r0)\", \u001b[0m\n",
      "\u001b[0;33m        \"Executing busybox-1.25.1-r0.trigger\", \u001b[0m\n",
      "\u001b[0;33m        \"Executing glib-2.50.2-r0.trigger\", \u001b[0m\n",
      "\u001b[0;33m        \"OK: 148 MiB in 110 packages\"\u001b[0m\n",
      "\u001b[0;33m    ]\u001b[0m\n",
      "\u001b[0;33m}\u001b[0m\n"
     ]
    }
   ],
   "source": [
    "!ansible handson103 -b -m package -a 'name=rsync,tree,netcat-openbsd'"
   ]
  },
  {
   "cell_type": "markdown",
   "metadata": {
    "lc_cell_meme": {
     "current": "89eb8c06-c2e6-11e8-9925-0242ac110002",
     "next": "89eb8c9c-c2e6-11e8-9925-0242ac110002",
     "previous": "89eb8b70-c2e6-11e8-9925-0242ac110002"
    }
   },
   "source": [
    "## グループの階層"
   ]
  },
  {
   "attachments": {},
   "cell_type": "markdown",
   "metadata": {
    "lc_cell_meme": {
     "current": "89eb8c9c-c2e6-11e8-9925-0242ac110002",
     "next": "89eb8d32-c2e6-11e8-9925-0242ac110002",
     "previous": "89eb8c06-c2e6-11e8-9925-0242ac110002"
    }
   },
   "source": [
    "Ansibleのグループは階層構造をもつことができます。\n",
    "\n",
    "現在のインベントリでは`handson103`というVCに対応するグループのみ定義しています。これを変更してUnit:`server`, Unit:`client`に対応するグループを定義して、さらにその親グループとして`handson103`を定義し直します。\n",
    "\n",
    "![inventory](images/103-004.png)\n",
    "\n",
    "こうすることでVCP SDKの UnitGroup, Unit と同じ構造をAnsibleのグループとして定義することができます。"
   ]
  },
  {
   "cell_type": "markdown",
   "metadata": {
    "lc_cell_meme": {
     "current": "89eb8d32-c2e6-11e8-9925-0242ac110002",
     "next": "89eb8dc8-c2e6-11e8-9925-0242ac110002",
     "previous": "89eb8c9c-c2e6-11e8-9925-0242ac110002"
    }
   },
   "source": [
    "### インベントリの更新"
   ]
  },
  {
   "cell_type": "markdown",
   "metadata": {
    "lc_cell_meme": {
     "current": "89eb8dc8-c2e6-11e8-9925-0242ac110002",
     "next": "89eb8e72-c2e6-11e8-9925-0242ac110002",
     "previous": "89eb8d32-c2e6-11e8-9925-0242ac110002"
    }
   },
   "source": [
    "グループの階層（グループのグループ）を定義するには、インベントリに角括弧内の見出しのサフィックスに`:children`を付けます。\n",
    "\n",
    "```\n",
    "[group1:children]\n",
    "group2\n",
    "group3\n",
    "```\n",
    "\n",
    "上の例では group2, group3 が group1の子グループになります。\n",
    "\n",
    "> 詳細については[Ansibleのドキュメント - Groups of Groups, and Group Variables](https://docs.ansible.com/ansible/latest/user_guide/intro_inventory.html#groups-of-groups-and-group-variables)などを参照してください。"
   ]
  },
  {
   "cell_type": "markdown",
   "metadata": {
    "lc_cell_meme": {
     "current": "89eb8e72-c2e6-11e8-9925-0242ac110002",
     "next": "89eb8f12-c2e6-11e8-9925-0242ac110002",
     "previous": "89eb8dc8-c2e6-11e8-9925-0242ac110002"
    }
   },
   "source": [
    "次のセルを実行するとカレントディレクトリのインベントリファイルを更新します。"
   ]
  },
  {
   "cell_type": "code",
   "execution_count": 32,
   "metadata": {
    "deletable": false,
    "editable": false,
    "lc_cell_meme": {
     "current": "89eb8f12-c2e6-11e8-9925-0242ac110002",
     "next": "89eb8fa8-c2e6-11e8-9925-0242ac110002",
     "previous": "89eb8e72-c2e6-11e8-9925-0242ac110002"
    },
    "run_through_control": {
     "frozen": true
    },
    "scrolled": true
   },
   "outputs": [
    {
     "name": "stdout",
     "output_type": "stream",
     "text": [
      "[server]\r\n",
      "172.30.2.20\r\n",
      "\r\n",
      "[client]\r\n",
      "172.30.2.251\r\n",
      "\r\n",
      "[handson103:children]\r\n",
      "server\r\n",
      "client\r\n"
     ]
    }
   ],
   "source": [
    "with open('hosts', 'w') as f:\n",
    "    for unit in unit_group.find_units():\n",
    "        f.write(\"[{}]\\n\".format(unit.name))                      # Unit名をグループ名にする\n",
    "        for addr in unit.find_ip_addresses():                    # Unitに属しているVCノードのリストを取得する\n",
    "            f.write(\"{}\\n\".format(addr))                         # VCノードのIPアドレスをインベントリ書き込む\n",
    "        f.write(\"\\n\")\n",
    "    f.write(\"[{}:children]\\n\".format(unit_group.name))           # グループのグループ定義。名前は VC名にする\n",
    "    for unit in unit_group.find_units():\n",
    "        f.write(\"{}\\n\".format(unit.name))                        # 所属するグループ名を書き込む\n",
    "\n",
    "# インベントリの内容を表示する\n",
    "!cat hosts"
   ]
  },
  {
   "cell_type": "markdown",
   "metadata": {
    "lc_cell_meme": {
     "current": "89eb8fa8-c2e6-11e8-9925-0242ac110002",
     "next": "89eb903e-c2e6-11e8-9925-0242ac110002",
     "previous": "89eb8f12-c2e6-11e8-9925-0242ac110002"
    }
   },
   "source": [
    "### Ansibleコマンドの実行"
   ]
  },
  {
   "attachments": {},
   "cell_type": "markdown",
   "metadata": {
    "lc_cell_meme": {
     "current": "89eb903e-c2e6-11e8-9925-0242ac110002",
     "next": "89eb90d4-c2e6-11e8-9925-0242ac110002",
     "previous": "89eb8fa8-c2e6-11e8-9925-0242ac110002"
    }
   },
   "source": [
    "新たに定義したグループ`server`, `client` をホストパターンに指定できることを確認します。\n",
    "\n",
    "![group](images/103-005.png)"
   ]
  },
  {
   "cell_type": "code",
   "execution_count": 33,
   "metadata": {
    "deletable": false,
    "editable": false,
    "lc_cell_meme": {
     "current": "89eb90d4-c2e6-11e8-9925-0242ac110002",
     "next": "89eb916a-c2e6-11e8-9925-0242ac110002",
     "previous": "89eb903e-c2e6-11e8-9925-0242ac110002"
    },
    "run_through_control": {
     "frozen": true
    }
   },
   "outputs": [
    {
     "name": "stdout",
     "output_type": "stream",
     "text": [
      "\u001b[0;32m172.30.2.20 | SUCCESS => {\u001b[0m\r\n",
      "\u001b[0;32m    \"changed\": false, \u001b[0m\r\n",
      "\u001b[0;32m    \"failed\": false, \u001b[0m\r\n",
      "\u001b[0;32m    \"ping\": \"pong\"\u001b[0m\r\n",
      "\u001b[0;32m}\u001b[0m\r\n"
     ]
    }
   ],
   "source": [
    "!ansible server -m ping"
   ]
  },
  {
   "cell_type": "code",
   "execution_count": 34,
   "metadata": {
    "deletable": false,
    "editable": false,
    "lc_cell_meme": {
     "current": "89eb916a-c2e6-11e8-9925-0242ac110002",
     "next": "89eb9200-c2e6-11e8-9925-0242ac110002",
     "previous": "89eb90d4-c2e6-11e8-9925-0242ac110002"
    },
    "run_through_control": {
     "frozen": true
    },
    "scrolled": true
   },
   "outputs": [
    {
     "name": "stdout",
     "output_type": "stream",
     "text": [
      "\u001b[0;32m172.30.2.251 | SUCCESS => {\u001b[0m\r\n",
      "\u001b[0;32m    \"changed\": false, \u001b[0m\r\n",
      "\u001b[0;32m    \"failed\": false, \u001b[0m\r\n",
      "\u001b[0;32m    \"ping\": \"pong\"\u001b[0m\r\n",
      "\u001b[0;32m}\u001b[0m\r\n"
     ]
    }
   ],
   "source": [
    "!ansible client -m ping"
   ]
  },
  {
   "cell_type": "markdown",
   "metadata": {
    "lc_cell_meme": {
     "current": "89eb9200-c2e6-11e8-9925-0242ac110002",
     "next": "89eb9296-c2e6-11e8-9925-0242ac110002",
     "previous": "89eb916a-c2e6-11e8-9925-0242ac110002"
    }
   },
   "source": [
    "グループのグループ`handson103`を指定すると `server`, `client` の両方のVCノードに対して操作できることを確認します。"
   ]
  },
  {
   "cell_type": "code",
   "execution_count": 35,
   "metadata": {
    "deletable": false,
    "editable": false,
    "lc_cell_meme": {
     "current": "89eb9296-c2e6-11e8-9925-0242ac110002",
     "next": "89eb932c-c2e6-11e8-9925-0242ac110002",
     "previous": "89eb9200-c2e6-11e8-9925-0242ac110002"
    },
    "run_through_control": {
     "frozen": true
    }
   },
   "outputs": [
    {
     "name": "stdout",
     "output_type": "stream",
     "text": [
      "\u001b[0;32m172.30.2.20 | SUCCESS => {\u001b[0m\r\n",
      "\u001b[0;32m    \"changed\": false, \u001b[0m\r\n",
      "\u001b[0;32m    \"failed\": false, \u001b[0m\r\n",
      "\u001b[0;32m    \"ping\": \"pong\"\u001b[0m\r\n",
      "\u001b[0;32m}\u001b[0m\r\n",
      "\u001b[0;32m172.30.2.251 | SUCCESS => {\u001b[0m\r\n",
      "\u001b[0;32m    \"changed\": false, \u001b[0m\r\n",
      "\u001b[0;32m    \"failed\": false, \u001b[0m\r\n",
      "\u001b[0;32m    \"ping\": \"pong\"\u001b[0m\r\n",
      "\u001b[0;32m}\u001b[0m\r\n"
     ]
    }
   ],
   "source": [
    "!ansible handson103 -m ping"
   ]
  },
  {
   "cell_type": "markdown",
   "metadata": {
    "lc_cell_meme": {
     "current": "89eb932c-c2e6-11e8-9925-0242ac110002",
     "next": "89eb93c2-c2e6-11e8-9925-0242ac110002",
     "previous": "89eb9296-c2e6-11e8-9925-0242ac110002"
    }
   },
   "source": [
    "## VCノードへのファイルの配置"
   ]
  },
  {
   "cell_type": "markdown",
   "metadata": {
    "lc_cell_meme": {
     "current": "89eb93c2-c2e6-11e8-9925-0242ac110002",
     "next": "89eb9458-c2e6-11e8-9925-0242ac110002",
     "previous": "89eb932c-c2e6-11e8-9925-0242ac110002"
    }
   },
   "source": [
    "### copyモジュール"
   ]
  },
  {
   "cell_type": "markdown",
   "metadata": {
    "lc_cell_meme": {
     "current": "89eb9458-c2e6-11e8-9925-0242ac110002",
     "next": "89eb94ee-c2e6-11e8-9925-0242ac110002",
     "previous": "89eb93c2-c2e6-11e8-9925-0242ac110002"
    }
   },
   "source": [
    "ローカル環境のファイルをリモート環境に配置するには[copyモジュール](https://docs.ansible.com/ansible/latest/modules/copy_module.html)を利用します。簡単な使用方法を以下に示します。\n",
    "\n",
    "```\n",
    "ansible <ホストパターン> [-b] -m copy -a 'src=<元ファイル> dest=<配置先>'\n",
    "\n",
    "-b\n",
    "    管理者権限で操作を実行する\n",
    "    \n",
    "copyモジュールのパラメータ(-a)について:\n",
    "src\n",
    "      配置元となるローカル環境のファイル\n",
    "dest\n",
    "      配置先となるリモート環境のパス\n",
    "```"
   ]
  },
  {
   "cell_type": "markdown",
   "metadata": {
    "lc_cell_meme": {
     "current": "89eb94ee-c2e6-11e8-9925-0242ac110002",
     "next": "89eb95a2-c2e6-11e8-9925-0242ac110002",
     "previous": "89eb9458-c2e6-11e8-9925-0242ac110002"
    }
   },
   "source": [
    "実際に[copyモジュール](https://docs.ansible.com/ansible/latest/modules/copy_module.html)を利用して、ローカル環境にあるVCPSDK API仕様書のhtmlファイルを server UnitのVCノードに配置してみます。"
   ]
  },
  {
   "cell_type": "code",
   "execution_count": 36,
   "metadata": {
    "deletable": false,
    "editable": false,
    "lc_cell_meme": {
     "current": "89eb95a2-c2e6-11e8-9925-0242ac110002",
     "next": "89eb9642-c2e6-11e8-9925-0242ac110002",
     "previous": "89eb94ee-c2e6-11e8-9925-0242ac110002"
    },
    "run_through_control": {
     "frozen": true
    },
    "scrolled": true
   },
   "outputs": [
    {
     "name": "stdout",
     "output_type": "stream",
     "text": [
      "\u001b[1;35m [WARNING]: Consider using file module with state=directory rather than running\u001b[0m\n",
      "\u001b[1;35mmkdir\u001b[0m\n",
      "\u001b[1;35m\u001b[0m\n",
      "\u001b[0;32m172.30.2.20 | SUCCESS | rc=0 >>\u001b[0m\n",
      "\u001b[0;32m\u001b[0m\n",
      "\u001b[0;32m\u001b[0m\n",
      "\u001b[0;33m172.30.2.20 | SUCCESS => {\u001b[0m\n",
      "\u001b[0;33m    \"changed\": true, \u001b[0m\n",
      "\u001b[0;33m    \"checksum\": \"3787893709964e3da1ef53289c69850b8ba42382\", \u001b[0m\n",
      "\u001b[0;33m    \"dest\": \"/opt/DOC/index.html\", \u001b[0m\n",
      "\u001b[0;33m    \"failed\": false, \u001b[0m\n",
      "\u001b[0;33m    \"gid\": 0, \u001b[0m\n",
      "\u001b[0;33m    \"group\": \"root\", \u001b[0m\n",
      "\u001b[0;33m    \"md5sum\": \"fb232c05541d075a6a4df0c07cf8904b\", \u001b[0m\n",
      "\u001b[0;33m    \"mode\": \"0644\", \u001b[0m\n",
      "\u001b[0;33m    \"owner\": \"root\", \u001b[0m\n",
      "\u001b[0;33m    \"size\": 164896, \u001b[0m\n",
      "\u001b[0;33m    \"src\": \"/root/.ansible/tmp/ansible-tmp-1538115872.31-121907729985167/source\", \u001b[0m\n",
      "\u001b[0;33m    \"state\": \"file\", \u001b[0m\n",
      "\u001b[0;33m    \"uid\": 0\u001b[0m\n",
      "\u001b[0;33m}\u001b[0m\n"
     ]
    }
   ],
   "source": [
    "# !ansible server -b -m file -a 'path=/opt/DOC/ state=directory'   #　次の文と同じ操作となる\n",
    "!ansible server -b -a 'mkdir -p /opt/DOC/'\n",
    "\n",
    "# ファイルの配置を行う\n",
    "!ansible server -b -m copy -a 'src=/notebooks/notebook/DOC/index.html dest=/opt/DOC/'"
   ]
  },
  {
   "cell_type": "markdown",
   "metadata": {
    "lc_cell_meme": {
     "current": "89eb9642-c2e6-11e8-9925-0242ac110002",
     "next": "89eb96d8-c2e6-11e8-9925-0242ac110002",
     "previous": "89eb95a2-c2e6-11e8-9925-0242ac110002"
    }
   },
   "source": [
    "VCノードにファイルが配置されたことを確認します。"
   ]
  },
  {
   "cell_type": "code",
   "execution_count": 37,
   "metadata": {
    "deletable": false,
    "editable": false,
    "lc_cell_meme": {
     "current": "89eb96d8-c2e6-11e8-9925-0242ac110002",
     "next": "89eb976e-c2e6-11e8-9925-0242ac110002",
     "previous": "89eb9642-c2e6-11e8-9925-0242ac110002"
    },
    "run_through_control": {
     "frozen": true
    },
    "scrolled": true
   },
   "outputs": [
    {
     "name": "stdout",
     "output_type": "stream",
     "text": [
      "\u001b[0;32m172.30.2.20 | SUCCESS | rc=0 >>\u001b[0m\r\n",
      "\u001b[0;32m/opt/DOC\u001b[0m\r\n",
      "\u001b[0;32m└── index.html\u001b[0m\r\n",
      "\u001b[0;32m\u001b[0m\r\n",
      "\u001b[0;32m0 directories, 1 file\u001b[0m\r\n",
      "\u001b[0;32m\u001b[0m\r\n"
     ]
    }
   ],
   "source": [
    "!ansible server -a 'tree /opt/DOC'"
   ]
  },
  {
   "cell_type": "markdown",
   "metadata": {
    "lc_cell_meme": {
     "current": "89eb976e-c2e6-11e8-9925-0242ac110002",
     "next": "89eb97fa-c2e6-11e8-9925-0242ac110002",
     "previous": "89eb96d8-c2e6-11e8-9925-0242ac110002"
    }
   },
   "source": [
    "### synchronizeモジュール"
   ]
  },
  {
   "cell_type": "markdown",
   "metadata": {
    "lc_cell_meme": {
     "current": "89eb97fa-c2e6-11e8-9925-0242ac110002",
     "next": "89eb9890-c2e6-11e8-9925-0242ac110002",
     "previous": "89eb976e-c2e6-11e8-9925-0242ac110002"
    }
   },
   "source": [
    "copyモジュールではHTMLファイルのみをVCノードに配置しました。次に、画像ファイルやスタイルシートなど含めたソースツリー全体をリモート環境に配置してみます。\n",
    "\n",
    "ローカル環境にあるディレクトリ階層をリモート環境に配置する場合は [synchronizeモジュール](https://docs.ansible.com/ansible/latest/modules/synchronize_module.html)を利用します。"
   ]
  },
  {
   "cell_type": "code",
   "execution_count": 38,
   "metadata": {
    "deletable": false,
    "editable": false,
    "lc_cell_meme": {
     "current": "89eb9890-c2e6-11e8-9925-0242ac110002",
     "next": "89eb9926-c2e6-11e8-9925-0242ac110002",
     "previous": "89eb97fa-c2e6-11e8-9925-0242ac110002"
    },
    "run_through_control": {
     "frozen": true
    }
   },
   "outputs": [
    {
     "name": "stdout",
     "output_type": "stream",
     "text": [
      "\u001b[0;33m172.30.2.20 | SUCCESS => {\u001b[0m\r\n",
      "\u001b[0;33m    \"changed\": true, \u001b[0m\r\n",
      "\u001b[0;33m    \"cmd\": \"/usr/bin/rsync --delay-updates -F --compress --archive --rsh=/usr/bin/ssh -S none -i /home/bit_kun/.ssh/id_rsa -o StrictHostKeyChecking=no -o UserKnownHostsFile=/dev/null --out-format=<<CHANGED>>%i %n%L /notebooks/notebook/DOC/ root@172.30.2.20:/opt/DOC/\", \u001b[0m\r\n",
      "\u001b[0;33m    \"failed\": false, \u001b[0m\r\n",
      "\u001b[0;33m    \"msg\": \".d..t.og... ./\\n<f..t.og... index.html\\ncd+++++++++ _images/\\n<f+++++++++ _images/disk_state.png\\n<f+++++++++ _images/node_state.png\\n<f+++++++++ _images/vc_state.png\\n<f+++++++++ _images/vcp_structure.png\\ncd+++++++++ _static/\\n<f+++++++++ _static/ajax-loader.gif\\n<f+++++++++ _static/basic.css\\n<f+++++++++ _static/comment-bright.png\\n<f+++++++++ _static/comment-close.png\\n<f+++++++++ _static/comment.png\\n<f+++++++++ _static/doctools.js\\n<f+++++++++ _static/down-pressed.png\\n<f+++++++++ _static/down.png\\n<f+++++++++ _static/file.png\\n<f+++++++++ _static/jquery.js\\n<f+++++++++ _static/minus.png\\n<f+++++++++ _static/plus.png\\n<f+++++++++ _static/print.css\\n<f+++++++++ _static/pygments.css\\n<f+++++++++ _static/searchtools.js\\n<f+++++++++ _static/translations.js\\n<f+++++++++ _static/underscore.js\\n<f+++++++++ _static/up-pressed.png\\n<f+++++++++ _static/up.png\\n<f+++++++++ _static/websupport.js\\ncd+++++++++ _static/css/\\n<f+++++++++ _static/css/badge_only.css\\n<f+++++++++ _static/css/theme.css\\ncd+++++++++ _static/fonts/\\n<f+++++++++ _static/fonts/Inconsolata-Bold.ttf\\n<f+++++++++ _static/fonts/Inconsolata-Regular.ttf\\n<f+++++++++ _static/fonts/Lato-Bold.ttf\\n<f+++++++++ _static/fonts/Lato-Regular.ttf\\n<f+++++++++ _static/fonts/RobotoSlab-Bold.ttf\\n<f+++++++++ _static/fonts/RobotoSlab-Regular.ttf\\n<f+++++++++ _static/fonts/fontawesome-webfont.eot\\n<f+++++++++ _static/fonts/fontawesome-webfont.svg\\n<f+++++++++ _static/fonts/fontawesome-webfont.ttf\\n<f+++++++++ _static/fonts/fontawesome-webfont.woff\\n<f+++++++++ _static/fonts/fontawesome-webfont.woff2\\ncd+++++++++ _static/fonts/Lato/\\n<f+++++++++ _static/fonts/Lato/lato-bold.eot\\n<f+++++++++ _static/fonts/Lato/lato-bold.ttf\\n<f+++++++++ _static/fonts/Lato/lato-bold.woff\\n<f+++++++++ _static/fonts/Lato/lato-bold.woff2\\n<f+++++++++ _static/fonts/Lato/lato-bolditalic.eot\\n<f+++++++++ _static/fonts/Lato/lato-bolditalic.ttf\\n<f+++++++++ _static/fonts/Lato/lato-bolditalic.woff\\n<f+++++++++ _static/fonts/Lato/lato-bolditalic.woff2\\n<f+++++++++ _static/fonts/Lato/lato-italic.eot\\n<f+++++++++ _static/fonts/Lato/lato-italic.ttf\\n<f+++++++++ _static/fonts/Lato/lato-italic.woff\\n<f+++++++++ _static/fonts/Lato/lato-italic.woff2\\n<f+++++++++ _static/fonts/Lato/lato-regular.eot\\n<f+++++++++ _static/fonts/Lato/lato-regular.ttf\\n<f+++++++++ _static/fonts/Lato/lato-regular.woff\\n<f+++++++++ _static/fonts/Lato/lato-regular.woff2\\ncd+++++++++ _static/fonts/RobotoSlab/\\n<f+++++++++ _static/fonts/RobotoSlab/roboto-slab-v7-bold.eot\\n<f+++++++++ _static/fonts/RobotoSlab/roboto-slab-v7-bold.ttf\\n<f+++++++++ _static/fonts/RobotoSlab/roboto-slab-v7-bold.woff\\n<f+++++++++ _static/fonts/RobotoSlab/roboto-slab-v7-bold.woff2\\n<f+++++++++ _static/fonts/RobotoSlab/roboto-slab-v7-regular.eot\\n<f+++++++++ _static/fonts/RobotoSlab/roboto-slab-v7-regular.ttf\\n<f+++++++++ _static/fonts/RobotoSlab/roboto-slab-v7-regular.woff\\n<f+++++++++ _static/fonts/RobotoSlab/roboto-slab-v7-regular.woff2\\ncd+++++++++ _static/js/\\n<f+++++++++ _static/js/modernizr.min.js\\n<f+++++++++ _static/js/theme.js\\ncd+++++++++ _static/media/\\n<f+++++++++ _static/media/node_state.png\\n<f+++++++++ _static/media/vc_state.png\\n<f+++++++++ _static/media/vcp_structure.png\\ncd+++++++++ media/\\n<f+++++++++ media/disk_state.png\\n\", \u001b[0m\r\n",
      "\u001b[0;33m    \"rc\": 0, \u001b[0m\r\n",
      "\u001b[0;33m    \"stdout_lines\": [\u001b[0m\r\n",
      "\u001b[0;33m        \".d..t.og... ./\", \u001b[0m\r\n",
      "\u001b[0;33m        \"<f..t.og... index.html\", \u001b[0m\r\n",
      "\u001b[0;33m        \"cd+++++++++ _images/\", \u001b[0m\r\n",
      "\u001b[0;33m        \"<f+++++++++ _images/disk_state.png\", \u001b[0m\r\n",
      "\u001b[0;33m        \"<f+++++++++ _images/node_state.png\", \u001b[0m\r\n",
      "\u001b[0;33m        \"<f+++++++++ _images/vc_state.png\", \u001b[0m\r\n",
      "\u001b[0;33m        \"<f+++++++++ _images/vcp_structure.png\", \u001b[0m\r\n",
      "\u001b[0;33m        \"cd+++++++++ _static/\", \u001b[0m\r\n",
      "\u001b[0;33m        \"<f+++++++++ _static/ajax-loader.gif\", \u001b[0m\r\n",
      "\u001b[0;33m        \"<f+++++++++ _static/basic.css\", \u001b[0m\r\n",
      "\u001b[0;33m        \"<f+++++++++ _static/comment-bright.png\", \u001b[0m\r\n",
      "\u001b[0;33m        \"<f+++++++++ _static/comment-close.png\", \u001b[0m\r\n",
      "\u001b[0;33m        \"<f+++++++++ _static/comment.png\", \u001b[0m\r\n",
      "\u001b[0;33m        \"<f+++++++++ _static/doctools.js\", \u001b[0m\r\n",
      "\u001b[0;33m        \"<f+++++++++ _static/down-pressed.png\", \u001b[0m\r\n",
      "\u001b[0;33m        \"<f+++++++++ _static/down.png\", \u001b[0m\r\n",
      "\u001b[0;33m        \"<f+++++++++ _static/file.png\", \u001b[0m\r\n",
      "\u001b[0;33m        \"<f+++++++++ _static/jquery.js\", \u001b[0m\r\n",
      "\u001b[0;33m        \"<f+++++++++ _static/minus.png\", \u001b[0m\r\n",
      "\u001b[0;33m        \"<f+++++++++ _static/plus.png\", \u001b[0m\r\n",
      "\u001b[0;33m        \"<f+++++++++ _static/print.css\", \u001b[0m\r\n",
      "\u001b[0;33m        \"<f+++++++++ _static/pygments.css\", \u001b[0m\r\n",
      "\u001b[0;33m        \"<f+++++++++ _static/searchtools.js\", \u001b[0m\r\n",
      "\u001b[0;33m        \"<f+++++++++ _static/translations.js\", \u001b[0m\r\n",
      "\u001b[0;33m        \"<f+++++++++ _static/underscore.js\", \u001b[0m\r\n",
      "\u001b[0;33m        \"<f+++++++++ _static/up-pressed.png\", \u001b[0m\r\n",
      "\u001b[0;33m        \"<f+++++++++ _static/up.png\", \u001b[0m\r\n",
      "\u001b[0;33m        \"<f+++++++++ _static/websupport.js\", \u001b[0m\r\n",
      "\u001b[0;33m        \"cd+++++++++ _static/css/\", \u001b[0m\r\n",
      "\u001b[0;33m        \"<f+++++++++ _static/css/badge_only.css\", \u001b[0m\r\n",
      "\u001b[0;33m        \"<f+++++++++ _static/css/theme.css\", \u001b[0m\r\n",
      "\u001b[0;33m        \"cd+++++++++ _static/fonts/\", \u001b[0m\r\n",
      "\u001b[0;33m        \"<f+++++++++ _static/fonts/Inconsolata-Bold.ttf\", \u001b[0m\r\n",
      "\u001b[0;33m        \"<f+++++++++ _static/fonts/Inconsolata-Regular.ttf\", \u001b[0m\r\n",
      "\u001b[0;33m        \"<f+++++++++ _static/fonts/Lato-Bold.ttf\", \u001b[0m\r\n",
      "\u001b[0;33m        \"<f+++++++++ _static/fonts/Lato-Regular.ttf\", \u001b[0m\r\n",
      "\u001b[0;33m        \"<f+++++++++ _static/fonts/RobotoSlab-Bold.ttf\", \u001b[0m\r\n",
      "\u001b[0;33m        \"<f+++++++++ _static/fonts/RobotoSlab-Regular.ttf\", \u001b[0m\r\n",
      "\u001b[0;33m        \"<f+++++++++ _static/fonts/fontawesome-webfont.eot\", \u001b[0m\r\n",
      "\u001b[0;33m        \"<f+++++++++ _static/fonts/fontawesome-webfont.svg\", \u001b[0m\r\n",
      "\u001b[0;33m        \"<f+++++++++ _static/fonts/fontawesome-webfont.ttf\", \u001b[0m\r\n",
      "\u001b[0;33m        \"<f+++++++++ _static/fonts/fontawesome-webfont.woff\", \u001b[0m\r\n",
      "\u001b[0;33m        \"<f+++++++++ _static/fonts/fontawesome-webfont.woff2\", \u001b[0m\r\n",
      "\u001b[0;33m        \"cd+++++++++ _static/fonts/Lato/\", \u001b[0m\r\n",
      "\u001b[0;33m        \"<f+++++++++ _static/fonts/Lato/lato-bold.eot\", \u001b[0m\r\n",
      "\u001b[0;33m        \"<f+++++++++ _static/fonts/Lato/lato-bold.ttf\", \u001b[0m\r\n",
      "\u001b[0;33m        \"<f+++++++++ _static/fonts/Lato/lato-bold.woff\", \u001b[0m\r\n",
      "\u001b[0;33m        \"<f+++++++++ _static/fonts/Lato/lato-bold.woff2\", \u001b[0m\r\n",
      "\u001b[0;33m        \"<f+++++++++ _static/fonts/Lato/lato-bolditalic.eot\", \u001b[0m\r\n",
      "\u001b[0;33m        \"<f+++++++++ _static/fonts/Lato/lato-bolditalic.ttf\", \u001b[0m\r\n",
      "\u001b[0;33m        \"<f+++++++++ _static/fonts/Lato/lato-bolditalic.woff\", \u001b[0m\r\n",
      "\u001b[0;33m        \"<f+++++++++ _static/fonts/Lato/lato-bolditalic.woff2\", \u001b[0m\r\n",
      "\u001b[0;33m        \"<f+++++++++ _static/fonts/Lato/lato-italic.eot\", \u001b[0m\r\n",
      "\u001b[0;33m        \"<f+++++++++ _static/fonts/Lato/lato-italic.ttf\", \u001b[0m\r\n",
      "\u001b[0;33m        \"<f+++++++++ _static/fonts/Lato/lato-italic.woff\", \u001b[0m\r\n",
      "\u001b[0;33m        \"<f+++++++++ _static/fonts/Lato/lato-italic.woff2\", \u001b[0m\r\n",
      "\u001b[0;33m        \"<f+++++++++ _static/fonts/Lato/lato-regular.eot\", \u001b[0m\r\n",
      "\u001b[0;33m        \"<f+++++++++ _static/fonts/Lato/lato-regular.ttf\", \u001b[0m\r\n",
      "\u001b[0;33m        \"<f+++++++++ _static/fonts/Lato/lato-regular.woff\", \u001b[0m\r\n",
      "\u001b[0;33m        \"<f+++++++++ _static/fonts/Lato/lato-regular.woff2\", \u001b[0m\r\n",
      "\u001b[0;33m        \"cd+++++++++ _static/fonts/RobotoSlab/\", \u001b[0m\r\n",
      "\u001b[0;33m        \"<f+++++++++ _static/fonts/RobotoSlab/roboto-slab-v7-bold.eot\", \u001b[0m\r\n",
      "\u001b[0;33m        \"<f+++++++++ _static/fonts/RobotoSlab/roboto-slab-v7-bold.ttf\", \u001b[0m\r\n",
      "\u001b[0;33m        \"<f+++++++++ _static/fonts/RobotoSlab/roboto-slab-v7-bold.woff\", \u001b[0m\r\n",
      "\u001b[0;33m        \"<f+++++++++ _static/fonts/RobotoSlab/roboto-slab-v7-bold.woff2\", \u001b[0m\r\n",
      "\u001b[0;33m        \"<f+++++++++ _static/fonts/RobotoSlab/roboto-slab-v7-regular.eot\", \u001b[0m\r\n",
      "\u001b[0;33m        \"<f+++++++++ _static/fonts/RobotoSlab/roboto-slab-v7-regular.ttf\", \u001b[0m\r\n",
      "\u001b[0;33m        \"<f+++++++++ _static/fonts/RobotoSlab/roboto-slab-v7-regular.woff\", \u001b[0m\r\n",
      "\u001b[0;33m        \"<f+++++++++ _static/fonts/RobotoSlab/roboto-slab-v7-regular.woff2\", \u001b[0m\r\n",
      "\u001b[0;33m        \"cd+++++++++ _static/js/\", \u001b[0m\r\n",
      "\u001b[0;33m        \"<f+++++++++ _static/js/modernizr.min.js\", \u001b[0m\r\n",
      "\u001b[0;33m        \"<f+++++++++ _static/js/theme.js\", \u001b[0m\r\n",
      "\u001b[0;33m        \"cd+++++++++ _static/media/\", \u001b[0m\r\n",
      "\u001b[0;33m        \"<f+++++++++ _static/media/node_state.png\", \u001b[0m\r\n",
      "\u001b[0;33m        \"<f+++++++++ _static/media/vc_state.png\", \u001b[0m\r\n",
      "\u001b[0;33m        \"<f+++++++++ _static/media/vcp_structure.png\", \u001b[0m\r\n",
      "\u001b[0;33m        \"cd+++++++++ media/\", \u001b[0m\r\n",
      "\u001b[0;33m        \"<f+++++++++ media/disk_state.png\"\u001b[0m\r\n",
      "\u001b[0;33m    ]\u001b[0m\r\n",
      "\u001b[0;33m}\u001b[0m\r\n"
     ]
    }
   ],
   "source": [
    "!ansible server -m synchronize -a 'src=/notebooks/notebook/DOC/ dest=/opt/DOC/'"
   ]
  },
  {
   "cell_type": "markdown",
   "metadata": {
    "lc_cell_meme": {
     "current": "89eb9926-c2e6-11e8-9925-0242ac110002",
     "next": "89eb99ee-c2e6-11e8-9925-0242ac110002",
     "previous": "89eb9890-c2e6-11e8-9925-0242ac110002"
    }
   },
   "source": [
    "VCノードにファイルが配置されたことを確認します。"
   ]
  },
  {
   "cell_type": "code",
   "execution_count": 39,
   "metadata": {
    "deletable": false,
    "editable": false,
    "lc_cell_meme": {
     "current": "89eb99ee-c2e6-11e8-9925-0242ac110002",
     "next": "89eb9a98-c2e6-11e8-9925-0242ac110002",
     "previous": "89eb9926-c2e6-11e8-9925-0242ac110002"
    },
    "run_through_control": {
     "frozen": true
    },
    "scrolled": true
   },
   "outputs": [
    {
     "name": "stdout",
     "output_type": "stream",
     "text": [
      "\u001b[0;32m172.30.2.20 | SUCCESS | rc=0 >>\u001b[0m\r\n",
      "\u001b[0;32m/opt/DOC\u001b[0m\r\n",
      "\u001b[0;32m├── _images\u001b[0m\r\n",
      "\u001b[0;32m│   ├── disk_state.png\u001b[0m\r\n",
      "\u001b[0;32m│   ├── node_state.png\u001b[0m\r\n",
      "\u001b[0;32m│   ├── vc_state.png\u001b[0m\r\n",
      "\u001b[0;32m│   └── vcp_structure.png\u001b[0m\r\n",
      "\u001b[0;32m├── _static\u001b[0m\r\n",
      "\u001b[0;32m│   ├── ajax-loader.gif\u001b[0m\r\n",
      "\u001b[0;32m│   ├── basic.css\u001b[0m\r\n",
      "\u001b[0;32m│   ├── comment-bright.png\u001b[0m\r\n",
      "\u001b[0;32m│   ├── comment-close.png\u001b[0m\r\n",
      "\u001b[0;32m│   ├── comment.png\u001b[0m\r\n",
      "\u001b[0;32m│   ├── css\u001b[0m\r\n",
      "\u001b[0;32m│   │   ├── badge_only.css\u001b[0m\r\n",
      "\u001b[0;32m│   │   └── theme.css\u001b[0m\r\n",
      "\u001b[0;32m│   ├── doctools.js\u001b[0m\r\n",
      "\u001b[0;32m│   ├── down-pressed.png\u001b[0m\r\n",
      "\u001b[0;32m│   ├── down.png\u001b[0m\r\n",
      "\u001b[0;32m│   ├── file.png\u001b[0m\r\n",
      "\u001b[0;32m│   ├── fonts\u001b[0m\r\n",
      "\u001b[0;32m│   │   ├── Inconsolata-Bold.ttf\u001b[0m\r\n",
      "\u001b[0;32m│   │   ├── Inconsolata-Regular.ttf\u001b[0m\r\n",
      "\u001b[0;32m│   │   ├── Lato\u001b[0m\r\n",
      "\u001b[0;32m│   │   │   ├── lato-bold.eot\u001b[0m\r\n",
      "\u001b[0;32m│   │   │   ├── lato-bold.ttf\u001b[0m\r\n",
      "\u001b[0;32m│   │   │   ├── lato-bold.woff\u001b[0m\r\n",
      "\u001b[0;32m│   │   │   ├── lato-bold.woff2\u001b[0m\r\n",
      "\u001b[0;32m│   │   │   ├── lato-bolditalic.eot\u001b[0m\r\n",
      "\u001b[0;32m│   │   │   ├── lato-bolditalic.ttf\u001b[0m\r\n",
      "\u001b[0;32m│   │   │   ├── lato-bolditalic.woff\u001b[0m\r\n",
      "\u001b[0;32m│   │   │   ├── lato-bolditalic.woff2\u001b[0m\r\n",
      "\u001b[0;32m│   │   │   ├── lato-italic.eot\u001b[0m\r\n",
      "\u001b[0;32m│   │   │   ├── lato-italic.ttf\u001b[0m\r\n",
      "\u001b[0;32m│   │   │   ├── lato-italic.woff\u001b[0m\r\n",
      "\u001b[0;32m│   │   │   ├── lato-italic.woff2\u001b[0m\r\n",
      "\u001b[0;32m│   │   │   ├── lato-regular.eot\u001b[0m\r\n",
      "\u001b[0;32m│   │   │   ├── lato-regular.ttf\u001b[0m\r\n",
      "\u001b[0;32m│   │   │   ├── lato-regular.woff\u001b[0m\r\n",
      "\u001b[0;32m│   │   │   └── lato-regular.woff2\u001b[0m\r\n",
      "\u001b[0;32m│   │   ├── Lato-Bold.ttf\u001b[0m\r\n",
      "\u001b[0;32m│   │   ├── Lato-Regular.ttf\u001b[0m\r\n",
      "\u001b[0;32m│   │   ├── RobotoSlab\u001b[0m\r\n",
      "\u001b[0;32m│   │   │   ├── roboto-slab-v7-bold.eot\u001b[0m\r\n",
      "\u001b[0;32m│   │   │   ├── roboto-slab-v7-bold.ttf\u001b[0m\r\n",
      "\u001b[0;32m│   │   │   ├── roboto-slab-v7-bold.woff\u001b[0m\r\n",
      "\u001b[0;32m│   │   │   ├── roboto-slab-v7-bold.woff2\u001b[0m\r\n",
      "\u001b[0;32m│   │   │   ├── roboto-slab-v7-regular.eot\u001b[0m\r\n",
      "\u001b[0;32m│   │   │   ├── roboto-slab-v7-regular.ttf\u001b[0m\r\n",
      "\u001b[0;32m│   │   │   ├── roboto-slab-v7-regular.woff\u001b[0m\r\n",
      "\u001b[0;32m│   │   │   └── roboto-slab-v7-regular.woff2\u001b[0m\r\n",
      "\u001b[0;32m│   │   ├── RobotoSlab-Bold.ttf\u001b[0m\r\n",
      "\u001b[0;32m│   │   ├── RobotoSlab-Regular.ttf\u001b[0m\r\n",
      "\u001b[0;32m│   │   ├── fontawesome-webfont.eot\u001b[0m\r\n",
      "\u001b[0;32m│   │   ├── fontawesome-webfont.svg\u001b[0m\r\n",
      "\u001b[0;32m│   │   ├── fontawesome-webfont.ttf\u001b[0m\r\n",
      "\u001b[0;32m│   │   ├── fontawesome-webfont.woff\u001b[0m\r\n",
      "\u001b[0;32m│   │   └── fontawesome-webfont.woff2\u001b[0m\r\n",
      "\u001b[0;32m│   ├── jquery.js\u001b[0m\r\n",
      "\u001b[0;32m│   ├── js\u001b[0m\r\n",
      "\u001b[0;32m│   │   ├── modernizr.min.js\u001b[0m\r\n",
      "\u001b[0;32m│   │   └── theme.js\u001b[0m\r\n",
      "\u001b[0;32m│   ├── media\u001b[0m\r\n",
      "\u001b[0;32m│   │   ├── node_state.png\u001b[0m\r\n",
      "\u001b[0;32m│   │   ├── vc_state.png\u001b[0m\r\n",
      "\u001b[0;32m│   │   └── vcp_structure.png\u001b[0m\r\n",
      "\u001b[0;32m│   ├── minus.png\u001b[0m\r\n",
      "\u001b[0;32m│   ├── plus.png\u001b[0m\r\n",
      "\u001b[0;32m│   ├── print.css\u001b[0m\r\n",
      "\u001b[0;32m│   ├── pygments.css\u001b[0m\r\n",
      "\u001b[0;32m│   ├── searchtools.js\u001b[0m\r\n",
      "\u001b[0;32m│   ├── translations.js\u001b[0m\r\n",
      "\u001b[0;32m│   ├── underscore.js\u001b[0m\r\n",
      "\u001b[0;32m│   ├── up-pressed.png\u001b[0m\r\n",
      "\u001b[0;32m│   ├── up.png\u001b[0m\r\n",
      "\u001b[0;32m│   └── websupport.js\u001b[0m\r\n",
      "\u001b[0;32m├── index.html\u001b[0m\r\n",
      "\u001b[0;32m└── media\u001b[0m\r\n",
      "\u001b[0;32m    └── disk_state.png\u001b[0m\r\n",
      "\u001b[0;32m\u001b[0m\r\n",
      "\u001b[0;32m9 directories, 68 files\u001b[0m\r\n",
      "\u001b[0;32m\u001b[0m\r\n"
     ]
    }
   ],
   "source": [
    "!ansible server -a 'tree /opt/DOC'"
   ]
  },
  {
   "cell_type": "markdown",
   "metadata": {
    "lc_cell_meme": {
     "current": "89eb9a98-c2e6-11e8-9925-0242ac110002",
     "next": "89eb9b38-c2e6-11e8-9925-0242ac110002",
     "previous": "89eb99ee-c2e6-11e8-9925-0242ac110002"
    }
   },
   "source": [
    "# 後始末"
   ]
  },
  {
   "cell_type": "markdown",
   "metadata": {
    "lc_cell_meme": {
     "current": "89eb9b38-c2e6-11e8-9925-0242ac110002",
     "next": "89eb9bce-c2e6-11e8-9925-0242ac110002",
     "previous": "89eb9a98-c2e6-11e8-9925-0242ac110002"
    }
   },
   "source": [
    "不要になった UnitGroup を削除します。\n",
    "\n",
    "> 処理が完了するまで2分半～3分程度かかります。"
   ]
  },
  {
   "cell_type": "code",
   "execution_count": 40,
   "metadata": {
    "deletable": false,
    "editable": false,
    "lc_cell_meme": {
     "current": "89eb9bce-c2e6-11e8-9925-0242ac110002",
     "next": "89eb9c64-c2e6-11e8-9925-0242ac110002",
     "previous": "89eb9b38-c2e6-11e8-9925-0242ac110002"
    },
    "run_through_control": {
     "frozen": true
    },
    "scrolled": true
   },
   "outputs": [
    {
     "name": "stdout",
     "output_type": "stream",
     "text": [
      "2018-09-28 15:24:49,665 - INFO - server is DELETING\n",
      "client is DELETING ... 0 sec\n",
      "2018-09-28 15:24:54,939 - INFO - server is DELETING\n",
      "client is DELETING ... 5 sec\n",
      "2018-09-28 15:25:00,231 - INFO - server is DELETING\n",
      "client is DELETING ... 10 sec\n",
      "2018-09-28 15:25:05,514 - INFO - server is DELETING\n",
      "client is DELETING ... 15 sec\n",
      "2018-09-28 15:25:10,797 - INFO - server is DELETING\n",
      "client is DELETING ... 20 sec\n",
      "2018-09-28 15:25:16,088 - INFO - server is DELETING\n",
      "client is DELETING ... 25 sec\n",
      "2018-09-28 15:25:21,374 - INFO - server is DELETING\n",
      "client is DELETING ... 30 sec\n",
      "2018-09-28 15:25:26,659 - INFO - server is DELETING\n",
      "client is DELETING ... 35 sec\n",
      "2018-09-28 15:25:31,940 - INFO - server is DELETING\n",
      "client is DELETING ... 40 sec\n",
      "2018-09-28 15:25:37,224 - INFO - server is DELETING\n",
      "client is DELETING ... 45 sec\n",
      "2018-09-28 15:25:42,465 - INFO - client is DELETING ... 50 sec\n",
      "2018-09-28 15:25:47,715 - INFO - client is DELETING ... 55 sec\n",
      "2018-09-28 15:25:52,955 - INFO - client is DELETING ... 60 sec\n",
      "2018-09-28 15:25:58,207 - INFO - client is DELETING ... 65 sec\n",
      "2018-09-28 15:26:03,465 - INFO - client is DELETING ... 70 sec\n",
      "2018-09-28 15:26:08,716 - INFO - client is DELETING ... 75 sec\n",
      "2018-09-28 15:26:13,962 - INFO - client is DELETING ... 80 sec\n",
      "2018-09-28 15:26:19,210 - INFO - client is DELETING ... 85 sec\n",
      "2018-09-28 15:26:24,461 - INFO - client is DELETING ... 90 sec\n",
      "2018-09-28 15:26:29,666 - INFO - cleanup completed. vc handson103 is cleanup(no unit)\n"
     ]
    }
   ],
   "source": [
    "unit_group.cleanup()"
   ]
  },
  {
   "cell_type": "markdown",
   "metadata": {
    "lc_cell_meme": {
     "current": "89eb9c64-c2e6-11e8-9925-0242ac110002",
     "next": "89eb9cfa-c2e6-11e8-9925-0242ac110002",
     "previous": "89eb9bce-c2e6-11e8-9925-0242ac110002"
    }
   },
   "source": [
    "不要になったインベントリファイルを削除します。"
   ]
  },
  {
   "cell_type": "code",
   "execution_count": 41,
   "metadata": {
    "deletable": false,
    "editable": false,
    "lc_cell_meme": {
     "current": "89eb9cfa-c2e6-11e8-9925-0242ac110002",
     "next": null,
     "previous": "89eb9c64-c2e6-11e8-9925-0242ac110002"
    },
    "run_through_control": {
     "frozen": true
    }
   },
   "outputs": [],
   "source": [
    "!rm hosts"
   ]
  }
 ],
 "metadata": {
  "kernelspec": {
   "display_name": "Python 3",
   "language": "python",
   "name": "python3"
  },
  "language_info": {
   "codemirror_mode": {
    "name": "ipython",
    "version": 3
   },
   "file_extension": ".py",
   "mimetype": "text/x-python",
   "name": "python",
   "nbconvert_exporter": "python",
   "pygments_lexer": "ipython3",
   "version": "3.5.2"
  },
  "lc_notebook_meme": {
   "current": "89eb4d22-c2e6-11e8-9925-0242ac110002",
   "lc_server_signature": {
    "current": {
     "notebook_dir": "/notebooks/notebook",
     "notebook_path": "/handson/vcp-tutorial",
     "server_url": "http://13.231.115.112:8888/red/",
     "signature_id": "9618e102-9304-11e8-ab91-0242ac110002"
    },
    "history": []
   }
  },
  "toc": {
   "nav_menu": {},
   "number_sections": true,
   "sideBar": true,
   "skip_h1_title": false,
   "toc_cell": false,
   "toc_position": {
    "height": "826px",
    "left": "0px",
    "right": "1239px",
    "top": "111px",
    "width": "212px"
   },
   "toc_section_display": "block",
   "toc_window_display": true
  }
 },
 "nbformat": 4,
 "nbformat_minor": 2
}
