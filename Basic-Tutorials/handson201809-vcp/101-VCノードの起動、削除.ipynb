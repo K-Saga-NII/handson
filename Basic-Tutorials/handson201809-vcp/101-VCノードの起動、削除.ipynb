{
 "cells": [
  {
   "cell_type": "markdown",
   "metadata": {
    "lc_cell_meme": {
     "current": "0ffccd34-c2e0-11e8-9925-0242ac110002",
     "next": "0ffccdfc-c2e0-11e8-9925-0242ac110002",
     "previous": null
    }
   },
   "source": [
    "# VCノードの起動、削除\n",
    "\n",
    "このNotebookではVCP SDKを利用してVCノードを起動、削除する手順を記しています。"
   ]
  },
  {
   "cell_type": "markdown",
   "metadata": {
    "lc_cell_meme": {
     "current": "0ffccdfc-c2e0-11e8-9925-0242ac110002",
     "history": [
      {
       "current": "0ffccdfc-c2e0-11e8-9925-0242ac110002",
       "next": "0ffccea6-c2e0-11e8-9925-0242ac110002",
       "previous": "0ffccd34-c2e0-11e8-9925-0242ac110002"
      },
      {
       "current": "0ffccdfc-c2e0-11e8-9925-0242ac110002",
       "next": "3dbb25a8-c2e1-11e8-9925-0242ac110002",
       "previous": "0ffccd34-c2e0-11e8-9925-0242ac110002"
      }
     ],
     "next": "dbfb7eb6-c2e1-11e8-9925-0242ac110002",
     "previous": "0ffccd34-c2e0-11e8-9925-0242ac110002"
    }
   },
   "source": [
    "## 概要"
   ]
  },
  {
   "attachments": {},
   "cell_type": "markdown",
   "metadata": {
    "lc_cell_meme": {
     "current": "dbfb7eb6-c2e1-11e8-9925-0242ac110002",
     "next": "0ffccf3c-c2e0-11e8-9925-0242ac110002",
     "previous": "0ffccdfc-c2e0-11e8-9925-0242ac110002"
    }
   },
   "source": [
    "![構成](images/101-001.png)"
   ]
  },
  {
   "cell_type": "markdown",
   "metadata": {
    "heading_collapsed": true,
    "lc_cell_meme": {
     "current": "0ffccf3c-c2e0-11e8-9925-0242ac110002",
     "history": [
      {
       "current": "0ffccf3c-c2e0-11e8-9925-0242ac110002",
       "next": "0ffccfdc-c2e0-11e8-9925-0242ac110002",
       "previous": "0ffccea6-c2e0-11e8-9925-0242ac110002"
      },
      {
       "current": "0ffccf3c-c2e0-11e8-9925-0242ac110002",
       "next": "0ffccfdc-c2e0-11e8-9925-0242ac110002",
       "previous": "3dbb25a8-c2e1-11e8-9925-0242ac110002"
      }
     ],
     "next": "0ffccfdc-c2e0-11e8-9925-0242ac110002",
     "previous": "dbfb7eb6-c2e1-11e8-9925-0242ac110002"
    }
   },
   "source": [
    "### 用語説明"
   ]
  },
  {
   "cell_type": "markdown",
   "metadata": {
    "hidden": true,
    "lc_cell_meme": {
     "current": "0ffccfdc-c2e0-11e8-9925-0242ac110002",
     "next": "0ffcd07c-c2e0-11e8-9925-0242ac110002",
     "previous": "0ffccf3c-c2e0-11e8-9925-0242ac110002"
    }
   },
   "source": [
    "上の図に記されている構成要素についての簡単な説明を以下に記します。\n",
    "\n",
    "* VC Controller\n",
    "  - VCPがユーザに対して提供しているサービス群\n",
    "* VC Controller Core\n",
    "  - ユーザからのAPI呼び出しを受けとりUnitGroupの作成、削除などを行う\n",
    "* Grafana\n",
    "  - 可視化ツール、ダッシュボードツール\n",
    "  - VCP では VCノード のモニタリング状況を表示するのに利用している\n",
    "* VCP SDK\n",
    "  - VCPの機能を呼び出して VM/BM の作成、削除などを行うPython3のライブラリ\n",
    "* [VPC](https://aws.amazon.com/jp/vpc/)\n",
    "  - Amazon が提供している AWS 内の仮想プライベートネットワーク環境\n",
    "* [Amazon EC2](https://aws.amazon.com/jp/ec2/)\n",
    "  - Amazon が提供している仮想コンピューティング環境\n",
    "* [Azure Virtual Network](https://azure.microsoft.com/ja-jp/services/virtual-network/)\n",
    "  - Microsoft が提供しているクラウド内の仮想プライベートネットワーク環境\n",
    "* [Azure Virtual Machine](https://azure.microsoft.com/ja-jp/services/virtual-machines/)\n",
    "  - Microsoft が提供している仮想コンピューティング環境"
   ]
  },
  {
   "cell_type": "markdown",
   "metadata": {
    "lc_cell_meme": {
     "current": "0ffcd07c-c2e0-11e8-9925-0242ac110002",
     "next": "0ffcd112-c2e0-11e8-9925-0242ac110002",
     "previous": "0ffccfdc-c2e0-11e8-9925-0242ac110002"
    }
   },
   "source": [
    "## 操作手順"
   ]
  },
  {
   "cell_type": "markdown",
   "metadata": {
    "lc_cell_meme": {
     "current": "0ffcd112-c2e0-11e8-9925-0242ac110002",
     "next": "0ffcd1b2-c2e0-11e8-9925-0242ac110002",
     "previous": "0ffcd07c-c2e0-11e8-9925-0242ac110002"
    }
   },
   "source": [
    "大まかな操作手順は以下のようになります。\n",
    "\n",
    "1. VCP SDKを用いてVCノード(Amazon EC2 インスタンス)を起動する\n",
    "1. 起動したVCノードに ssh でログインして操作する\n",
    "1. GrafanaでVCノードの利用状況を確認する\n",
    "1. Unit内のVCノードをスケールアウト、スケールインする\n",
    "1. 別のパブリッククラウド(Microsoft Azure)のVCノードを起動する\n",
    "1. 起動したVCノードをすべて削除する"
   ]
  },
  {
   "cell_type": "markdown",
   "metadata": {
    "lc_cell_meme": {
     "current": "0ffcd1b2-c2e0-11e8-9925-0242ac110002",
     "history": [
      {
       "current": "0ffcd1b2-c2e0-11e8-9925-0242ac110002",
       "next": "0ffcd252-c2e0-11e8-9925-0242ac110002",
       "previous": "0ffcd112-c2e0-11e8-9925-0242ac110002"
      },
      {
       "current": "0ffcd1b2-c2e0-11e8-9925-0242ac110002",
       "next": "286cd30a-c2e0-11e8-9925-0242ac110002",
       "previous": "0ffcd112-c2e0-11e8-9925-0242ac110002"
      },
      {
       "current": "0ffcd1b2-c2e0-11e8-9925-0242ac110002",
       "next": "49141afe-c2e1-11e8-9925-0242ac110002",
       "previous": "0ffcd112-c2e0-11e8-9925-0242ac110002"
      }
     ],
     "next": "dbfb8046-c2e1-11e8-9925-0242ac110002",
     "previous": "0ffcd112-c2e0-11e8-9925-0242ac110002"
    }
   },
   "source": [
    "# VCノード(Amazon EC2インスタンス)の起動\n",
    "\n",
    "VCP SDKを用いてVCノード(Amazon EC2インスタンス)を起動します。また、起動したVCノードに対してsshでログインして操作を行います。"
   ]
  },
  {
   "attachments": {},
   "cell_type": "markdown",
   "metadata": {
    "lc_cell_meme": {
     "current": "dbfb8046-c2e1-11e8-9925-0242ac110002",
     "next": "0ffcd2e8-c2e0-11e8-9925-0242ac110002",
     "previous": "0ffcd1b2-c2e0-11e8-9925-0242ac110002"
    }
   },
   "source": [
    "![VCノードの起動](images/101-003.png)"
   ]
  },
  {
   "cell_type": "markdown",
   "metadata": {
    "lc_cell_meme": {
     "current": "0ffcd2e8-c2e0-11e8-9925-0242ac110002",
     "history": [
      {
       "current": "0ffcd2e8-c2e0-11e8-9925-0242ac110002",
       "next": "0ffcd388-c2e0-11e8-9925-0242ac110002",
       "previous": "0ffcd252-c2e0-11e8-9925-0242ac110002"
      },
      {
       "current": "0ffcd2e8-c2e0-11e8-9925-0242ac110002",
       "next": "0ffcd388-c2e0-11e8-9925-0242ac110002",
       "previous": "286cd30a-c2e0-11e8-9925-0242ac110002"
      },
      {
       "current": "0ffcd2e8-c2e0-11e8-9925-0242ac110002",
       "next": "0ffcd388-c2e0-11e8-9925-0242ac110002",
       "previous": "49141afe-c2e1-11e8-9925-0242ac110002"
      }
     ],
     "next": "0ffcd388-c2e0-11e8-9925-0242ac110002",
     "previous": "dbfb8046-c2e1-11e8-9925-0242ac110002"
    }
   },
   "source": [
    "## アクセストークンの入力"
   ]
  },
  {
   "cell_type": "markdown",
   "metadata": {
    "lc_cell_meme": {
     "current": "0ffcd388-c2e0-11e8-9925-0242ac110002",
     "next": "0ffcd41e-c2e0-11e8-9925-0242ac110002",
     "previous": "0ffcd2e8-c2e0-11e8-9925-0242ac110002"
    }
   },
   "source": [
    "VCP SDKを利用するにはVC Controllerのアクセストークンが必要となります。次のセルを実行すると入力枠が表示されるのでアクセストークンの値を入力してください。"
   ]
  },
  {
   "cell_type": "code",
   "execution_count": 1,
   "metadata": {
    "deletable": false,
    "editable": false,
    "lc_cell_meme": {
     "current": "0ffcd41e-c2e0-11e8-9925-0242ac110002",
     "next": "0ffcd4b4-c2e0-11e8-9925-0242ac110002",
     "previous": "0ffcd388-c2e0-11e8-9925-0242ac110002"
    },
    "run_through_control": {
     "frozen": true
    }
   },
   "outputs": [
    {
     "name": "stdout",
     "output_type": "stream",
     "text": [
      "········\n"
     ]
    }
   ],
   "source": [
    "from getpass import getpass\n",
    "vcc_access_token = getpass()"
   ]
  },
  {
   "cell_type": "markdown",
   "metadata": {
    "lc_cell_meme": {
     "current": "0ffcd4b4-c2e0-11e8-9925-0242ac110002",
     "next": "0ffcd54a-c2e0-11e8-9925-0242ac110002",
     "previous": "0ffcd41e-c2e0-11e8-9925-0242ac110002"
    }
   },
   "source": [
    "## VCP SDKの初期化\n",
    "\n",
    "VCP SDKの初期化を行います。"
   ]
  },
  {
   "cell_type": "code",
   "execution_count": 2,
   "metadata": {
    "deletable": false,
    "editable": false,
    "lc_cell_meme": {
     "current": "0ffcd54a-c2e0-11e8-9925-0242ac110002",
     "next": "0ffcd630-c2e0-11e8-9925-0242ac110002",
     "previous": "0ffcd4b4-c2e0-11e8-9925-0242ac110002"
    },
    "run_through_control": {
     "frozen": true
    },
    "scrolled": true
   },
   "outputs": [],
   "source": [
    "from common import logsetting\n",
    "from vcpsdk.vcpsdk import VcpSDK\n",
    "\n",
    "# VCP SDKの初期化\n",
    "vcp = VcpSDK(\n",
    "    vcc_access_token,  # VCCのアクセストークン\n",
    ")"
   ]
  },
  {
   "cell_type": "markdown",
   "metadata": {
    "lc_cell_meme": {
     "current": "0ffcd630-c2e0-11e8-9925-0242ac110002",
     "next": "0ffcd6e4-c2e0-11e8-9925-0242ac110002",
     "previous": "0ffcd54a-c2e0-11e8-9925-0242ac110002"
    }
   },
   "source": [
    "上のセルの実行結果がエラーとなり以下のようなメッセージが表示されている場合は、入力されたアクセストークンに誤りがあります。\n",
    "\n",
    "```\n",
    "2018-09-XX XX:XX:XX,XXX - ERROR - config vc failed: http_status(403)\n",
    "2018-09-XX XX:XX:XX,XXX - ERROR - 2018/XX/XX XX:XX:XX UTC: VCPAuthException: xxxxxxx:token lookup is failed: permission denied\n",
    "```\n",
    "\n",
    "この場合はアクセストークンの入力からやり直してください。"
   ]
  },
  {
   "cell_type": "markdown",
   "metadata": {
    "lc_cell_meme": {
     "current": "0ffcd6e4-c2e0-11e8-9925-0242ac110002",
     "next": "0ffcd784-c2e0-11e8-9925-0242ac110002",
     "previous": "0ffcd630-c2e0-11e8-9925-0242ac110002"
    }
   },
   "source": [
    "`vcp`からは UnitGroup の管理（作成、情報取得）や VCP SDK自体に関する情報取得を行うことができます。例えば、次のセルを実行するとUnitGroupの一覧が表示されます。\n",
    "\n",
    "> まだUnitGroupを作成していないので、ヘッダー以外はなにも表示されないはずです。"
   ]
  },
  {
   "cell_type": "code",
   "execution_count": 3,
   "metadata": {
    "deletable": false,
    "editable": false,
    "lc_cell_meme": {
     "current": "0ffcd784-c2e0-11e8-9925-0242ac110002",
     "next": "0ffcd824-c2e0-11e8-9925-0242ac110002",
     "previous": "0ffcd6e4-c2e0-11e8-9925-0242ac110002"
    },
    "run_through_control": {
     "frozen": true
    },
    "scrolled": true
   },
   "outputs": [
    {
     "data": {
      "text/html": [
       "<div>\n",
       "<style>\n",
       "    .dataframe thead tr:only-child th {\n",
       "        text-align: right;\n",
       "    }\n",
       "\n",
       "    .dataframe thead th {\n",
       "        text-align: left;\n",
       "    }\n",
       "\n",
       "    .dataframe tbody tr th {\n",
       "        vertical-align: top;\n",
       "    }\n",
       "</style>\n",
       "<table border=\"1\" class=\"dataframe\">\n",
       "  <thead>\n",
       "    <tr style=\"text-align: right;\">\n",
       "      <th></th>\n",
       "      <th>vcno</th>\n",
       "      <th>vctype</th>\n",
       "      <th>vcname</th>\n",
       "      <th>state</th>\n",
       "      <th>vcid</th>\n",
       "      <th>cdate</th>\n",
       "    </tr>\n",
       "  </thead>\n",
       "  <tbody>\n",
       "  </tbody>\n",
       "</table>\n",
       "</div>"
      ],
      "text/plain": [
       "Empty DataFrame\n",
       "Columns: [vcno, vctype, vcname, state, vcid, cdate]\n",
       "Index: []"
      ]
     },
     "execution_count": 3,
     "metadata": {},
     "output_type": "execute_result"
    }
   ],
   "source": [
    "# UnitGroupの一覧を DataFrame で表示する\n",
    "vcp.df_ugroups()"
   ]
  },
  {
   "cell_type": "markdown",
   "metadata": {
    "lc_cell_meme": {
     "current": "0ffcd824-c2e0-11e8-9925-0242ac110002",
     "next": "0ffcd8c4-c2e0-11e8-9925-0242ac110002",
     "previous": "0ffcd784-c2e0-11e8-9925-0242ac110002"
    }
   },
   "source": [
    "次のセルを実行すると VCP SDK と VC Controller のバージョンが表示されます。"
   ]
  },
  {
   "cell_type": "code",
   "execution_count": 4,
   "metadata": {
    "deletable": false,
    "editable": false,
    "lc_cell_meme": {
     "current": "0ffcd8c4-c2e0-11e8-9925-0242ac110002",
     "history": [
      {
       "current": "0ffcd8c4-c2e0-11e8-9925-0242ac110002",
       "next": "0ffcd95a-c2e0-11e8-9925-0242ac110002",
       "previous": "0ffcd824-c2e0-11e8-9925-0242ac110002"
      }
     ],
     "next": "0ffcd9fa-c2e0-11e8-9925-0242ac110002",
     "previous": "0ffcd824-c2e0-11e8-9925-0242ac110002"
    },
    "run_through_control": {
     "frozen": true
    },
    "scrolled": true
   },
   "outputs": [
    {
     "name": "stdout",
     "output_type": "stream",
     "text": [
      "vcpsdk:\n",
      "  version: 18.10.0+20180925\n",
      "  filename: /notebooks/notebook/vcpsdk/vcpsdk.py\n",
      "vc_controller:\n",
      "  version: 18.08.0+20180731\n",
      "  plugin:\n",
      "    azure: 1.1+20180731\n",
      "    sakura: 1.0+20180731\n",
      "    abc: 1.1+20180731\n",
      "    gcp: 1.0+20180731\n",
      "    aic: 1.1+20180731\n",
      "    aws: 1.1+20180731\n",
      "  host: 10.0.0.1\n",
      "  name: vcc3015\n",
      "plugin:\n",
      "  onpremises: 1.0+20180731\n",
      "  azure: 1.1+20180731\n",
      "  sakura: 1.0+20180731\n",
      "  abc: 1.1+20180731\n",
      "  gcp: 1.0+20180731\n",
      "  aic: 1.1+20180731\n",
      "  aws: 1.1+20180731\n",
      "vcplib:\n",
      "  version: 18.08.0+20180731\n",
      "  filename: /notebooks/notebook/vcplib/occtr.py\n"
     ]
    }
   ],
   "source": [
    "vcp.version()"
   ]
  },
  {
   "cell_type": "markdown",
   "metadata": {
    "lc_cell_meme": {
     "current": "0ffcd9fa-c2e0-11e8-9925-0242ac110002",
     "history": [
      {
       "current": "0ffcd9fa-c2e0-11e8-9925-0242ac110002",
       "next": "0ffcda9a-c2e0-11e8-9925-0242ac110002",
       "previous": "0ffcd95a-c2e0-11e8-9925-0242ac110002"
      }
     ],
     "next": "0ffcda9a-c2e0-11e8-9925-0242ac110002",
     "previous": "0ffcd8c4-c2e0-11e8-9925-0242ac110002"
    }
   },
   "source": [
    "## UnitGroupの作成"
   ]
  },
  {
   "cell_type": "markdown",
   "metadata": {
    "lc_cell_meme": {
     "current": "0ffcda9a-c2e0-11e8-9925-0242ac110002",
     "next": "0ffcdb30-c2e0-11e8-9925-0242ac110002",
     "previous": "0ffcd9fa-c2e0-11e8-9925-0242ac110002"
    }
   },
   "source": [
    "`handson101`という名前の UnitGroup を作成します。"
   ]
  },
  {
   "cell_type": "code",
   "execution_count": 5,
   "metadata": {
    "deletable": false,
    "editable": false,
    "lc_cell_meme": {
     "current": "0ffcdb30-c2e0-11e8-9925-0242ac110002",
     "next": "0ffcdbd0-c2e0-11e8-9925-0242ac110002",
     "previous": "0ffcda9a-c2e0-11e8-9925-0242ac110002"
    },
    "run_through_control": {
     "frozen": true
    }
   },
   "outputs": [],
   "source": [
    "# UnitGroupの作成\n",
    "unit_group = vcp.create_ugroup(\n",
    "    'handson101'                   # UnitGroupの名前\n",
    ")"
   ]
  },
  {
   "cell_type": "markdown",
   "metadata": {
    "lc_cell_meme": {
     "current": "0ffcdbd0-c2e0-11e8-9925-0242ac110002",
     "next": "0ffcdc66-c2e0-11e8-9925-0242ac110002",
     "previous": "0ffcdb30-c2e0-11e8-9925-0242ac110002"
    }
   },
   "source": [
    "作成したUnitGroupの状態を表示してみます。\n",
    "\n",
    "> UnitGroup の名前が `handson101` であることと、その状態が `RUNNING` であることなどが確認できるはずです。"
   ]
  },
  {
   "cell_type": "code",
   "execution_count": 6,
   "metadata": {
    "deletable": false,
    "editable": false,
    "lc_cell_meme": {
     "current": "0ffcdc66-c2e0-11e8-9925-0242ac110002",
     "history": [
      {
       "current": "0ffcdc66-c2e0-11e8-9925-0242ac110002",
       "next": "0ffcdd10-c2e0-11e8-9925-0242ac110002",
       "previous": "0ffcdbd0-c2e0-11e8-9925-0242ac110002"
      }
     ],
     "next": "0ffcdda6-c2e0-11e8-9925-0242ac110002",
     "previous": "0ffcdbd0-c2e0-11e8-9925-0242ac110002"
    },
    "run_through_control": {
     "frozen": true
    },
    "scrolled": true
   },
   "outputs": [
    {
     "name": "stdout",
     "output_type": "stream",
     "text": [
      "unit group name: handson101\n",
      "\n",
      "[Vc]\n",
      "+ type[compute] name[handson101] vcno(36) state[RUNNING] vcid[2402ae36ff214307b26596a77118e75a]\n",
      "\n",
      "\n",
      "\n"
     ]
    }
   ],
   "source": [
    "print(unit_group)"
   ]
  },
  {
   "cell_type": "markdown",
   "metadata": {
    "lc_cell_meme": {
     "current": "0ffcdda6-c2e0-11e8-9925-0242ac110002",
     "history": [
      {
       "current": "0ffcdda6-c2e0-11e8-9925-0242ac110002",
       "next": "0ffcde46-c2e0-11e8-9925-0242ac110002",
       "previous": "0ffcdd10-c2e0-11e8-9925-0242ac110002"
      }
     ],
     "next": "0ffcde46-c2e0-11e8-9925-0242ac110002",
     "previous": "0ffcdc66-c2e0-11e8-9925-0242ac110002"
    }
   },
   "source": [
    "UnitGroupの一覧を表示してみます。"
   ]
  },
  {
   "cell_type": "code",
   "execution_count": 7,
   "metadata": {
    "deletable": false,
    "editable": false,
    "lc_cell_meme": {
     "current": "0ffcde46-c2e0-11e8-9925-0242ac110002",
     "next": "0ffcdedc-c2e0-11e8-9925-0242ac110002",
     "previous": "0ffcdda6-c2e0-11e8-9925-0242ac110002"
    },
    "pinned_outputs": [],
    "run_through_control": {
     "frozen": true
    }
   },
   "outputs": [
    {
     "data": {
      "text/html": [
       "<div>\n",
       "<style>\n",
       "    .dataframe thead tr:only-child th {\n",
       "        text-align: right;\n",
       "    }\n",
       "\n",
       "    .dataframe thead th {\n",
       "        text-align: left;\n",
       "    }\n",
       "\n",
       "    .dataframe tbody tr th {\n",
       "        vertical-align: top;\n",
       "    }\n",
       "</style>\n",
       "<table border=\"1\" class=\"dataframe\">\n",
       "  <thead>\n",
       "    <tr style=\"text-align: right;\">\n",
       "      <th></th>\n",
       "      <th>vcno</th>\n",
       "      <th>vctype</th>\n",
       "      <th>vcname</th>\n",
       "      <th>state</th>\n",
       "      <th>vcid</th>\n",
       "      <th>cdate</th>\n",
       "    </tr>\n",
       "  </thead>\n",
       "  <tbody>\n",
       "    <tr>\n",
       "      <th>0</th>\n",
       "      <td>36</td>\n",
       "      <td>compute</td>\n",
       "      <td>handson101</td>\n",
       "      <td>RUNNING</td>\n",
       "      <td>2402ae36...</td>\n",
       "      <td>2018/09/28 05:33:28 UTC</td>\n",
       "    </tr>\n",
       "  </tbody>\n",
       "</table>\n",
       "</div>"
      ],
      "text/plain": [
       "   vcno   vctype      vcname    state         vcid                    cdate\n",
       "0    36  compute  handson101  RUNNING  2402ae36...  2018/09/28 05:33:28 UTC"
      ]
     },
     "execution_count": 7,
     "metadata": {},
     "output_type": "execute_result"
    }
   ],
   "source": [
    "# UnitGroupの一覧を DataFrame で表示する\n",
    "vcp.df_ugroups()"
   ]
  },
  {
   "cell_type": "markdown",
   "metadata": {
    "lc_cell_meme": {
     "current": "0ffcdedc-c2e0-11e8-9925-0242ac110002",
     "next": "0ffcdf72-c2e0-11e8-9925-0242ac110002",
     "previous": "0ffcde46-c2e0-11e8-9925-0242ac110002"
    }
   },
   "source": [
    "## UnitGroupの状態を確認する"
   ]
  },
  {
   "cell_type": "markdown",
   "metadata": {
    "lc_cell_meme": {
     "current": "0ffcdf72-c2e0-11e8-9925-0242ac110002",
     "next": "0ffce008-c2e0-11e8-9925-0242ac110002",
     "previous": "0ffcdedc-c2e0-11e8-9925-0242ac110002"
    }
   },
   "source": [
    "UnitGroupに属している Unit の一覧を表示します。\n",
    "\n",
    "> まだ、このUnitGroupでは Unit を作成していないのでヘッダー以外は何も表示されません。"
   ]
  },
  {
   "cell_type": "code",
   "execution_count": 8,
   "metadata": {
    "deletable": false,
    "editable": false,
    "lc_cell_meme": {
     "current": "0ffce008-c2e0-11e8-9925-0242ac110002",
     "next": "0ffce09e-c2e0-11e8-9925-0242ac110002",
     "previous": "0ffcdf72-c2e0-11e8-9925-0242ac110002"
    },
    "run_through_control": {
     "frozen": true
    }
   },
   "outputs": [
    {
     "data": {
      "text/html": [
       "<div>\n",
       "<style>\n",
       "    .dataframe thead tr:only-child th {\n",
       "        text-align: right;\n",
       "    }\n",
       "\n",
       "    .dataframe thead th {\n",
       "        text-align: left;\n",
       "    }\n",
       "\n",
       "    .dataframe tbody tr th {\n",
       "        vertical-align: top;\n",
       "    }\n",
       "</style>\n",
       "<table border=\"1\" class=\"dataframe\">\n",
       "  <thead>\n",
       "    <tr style=\"text-align: right;\">\n",
       "      <th></th>\n",
       "      <th>vctype</th>\n",
       "      <th>vcno</th>\n",
       "      <th>vcname</th>\n",
       "      <th>vc_state</th>\n",
       "      <th>vcid</th>\n",
       "      <th>cdate</th>\n",
       "      <th>unit_name</th>\n",
       "      <th>unit_state</th>\n",
       "    </tr>\n",
       "  </thead>\n",
       "  <tbody>\n",
       "  </tbody>\n",
       "</table>\n",
       "</div>"
      ],
      "text/plain": [
       "Empty DataFrame\n",
       "Columns: [vctype, vcno, vcname, vc_state, vcid, cdate, unit_name, unit_state]\n",
       "Index: []"
      ]
     },
     "execution_count": 8,
     "metadata": {},
     "output_type": "execute_result"
    }
   ],
   "source": [
    "# Unitの一覧を DataFrame で表示する\n",
    "unit_group.df_units()"
   ]
  },
  {
   "cell_type": "markdown",
   "metadata": {
    "lc_cell_meme": {
     "current": "0ffce09e-c2e0-11e8-9925-0242ac110002",
     "next": "0ffce13e-c2e0-11e8-9925-0242ac110002",
     "previous": "0ffce008-c2e0-11e8-9925-0242ac110002"
    }
   },
   "source": [
    "UnitGroupに属しているVCノードの一覧を表示します。\n",
    "\n",
    "> まだVCノードが存在していないので何も表示されません。"
   ]
  },
  {
   "cell_type": "code",
   "execution_count": 9,
   "metadata": {
    "deletable": false,
    "editable": false,
    "lc_cell_meme": {
     "current": "0ffce13e-c2e0-11e8-9925-0242ac110002",
     "history": [
      {
       "current": "0ffce13e-c2e0-11e8-9925-0242ac110002",
       "next": "0ffce1de-c2e0-11e8-9925-0242ac110002",
       "previous": "0ffce09e-c2e0-11e8-9925-0242ac110002"
      }
     ],
     "next": "0ffce274-c2e0-11e8-9925-0242ac110002",
     "previous": "0ffce09e-c2e0-11e8-9925-0242ac110002"
    },
    "run_through_control": {
     "frozen": true
    }
   },
   "outputs": [],
   "source": [
    "unit_group.df_nodes()"
   ]
  },
  {
   "cell_type": "markdown",
   "metadata": {
    "lc_cell_meme": {
     "current": "0ffce274-c2e0-11e8-9925-0242ac110002",
     "history": [
      {
       "current": "0ffce274-c2e0-11e8-9925-0242ac110002",
       "next": "0ffce314-c2e0-11e8-9925-0242ac110002",
       "previous": "0ffce1de-c2e0-11e8-9925-0242ac110002"
      }
     ],
     "next": "0ffce314-c2e0-11e8-9925-0242ac110002",
     "previous": "0ffce13e-c2e0-11e8-9925-0242ac110002"
    }
   },
   "source": [
    "## VCノードのspecを指定する"
   ]
  },
  {
   "cell_type": "markdown",
   "metadata": {
    "lc_cell_meme": {
     "current": "0ffce314-c2e0-11e8-9925-0242ac110002",
     "next": "0ffce3aa-c2e0-11e8-9925-0242ac110002",
     "previous": "0ffce274-c2e0-11e8-9925-0242ac110002"
    }
   },
   "source": [
    "Unitを構成するVCノードがどのような設定であるかを指定するためのオブジェクトとしてVCP SDKでは`spec`オブジェクトを用意しています。VCP SDKの利用者は`spec`オブジェクトのプロパティを設定することで Unitに起動するVCノードの設定内容を定義することができます。\n",
    "\n",
    "`spec`オブジェクトの設定項目の例を以下に示します。\n",
    "\n",
    "* 仮想マシンのインスタンスタイプ\n",
    "  - m5.large, c5.large, ...\n",
    "* 仮想マシンのルートボリュームサイズ(GiB)\n",
    "* 仮想マシンに割り当てるプライベートIPアドレス\n",
    "* Unit内に作成するVCノードの数\n",
    "\n",
    "設定できる項目はクラウドプロバイダ(aws, azure, ...)毎に異なります。"
   ]
  },
  {
   "cell_type": "markdown",
   "metadata": {
    "lc_cell_meme": {
     "current": "0ffce3aa-c2e0-11e8-9925-0242ac110002",
     "next": "0ffce44a-c2e0-11e8-9925-0242ac110002",
     "previous": "0ffce314-c2e0-11e8-9925-0242ac110002"
    }
   },
   "source": [
    "### flavor"
   ]
  },
  {
   "cell_type": "markdown",
   "metadata": {
    "lc_cell_meme": {
     "current": "0ffce44a-c2e0-11e8-9925-0242ac110002",
     "next": "0ffce4e0-c2e0-11e8-9925-0242ac110002",
     "previous": "0ffce3aa-c2e0-11e8-9925-0242ac110002"
    }
   },
   "source": [
    "`spec`オブジェクトの全てのパラメータを毎回設定するのは煩雑になるので典型的な構成のパラメータセットを事前に定義しています。事前に定義した`spec`パラメータセットのことを VCP SDKでは `flavor`と呼んでいます。`spec`に設定できるパラメータはクラウドプロバイダ毎に異なるので `flavor`の定義もクラウドプロバイダ毎に行っています。\n",
    "\n",
    "次のセルを実行すると aws用に定義している `flavor` の一覧が表示されます。"
   ]
  },
  {
   "cell_type": "code",
   "execution_count": 10,
   "metadata": {
    "deletable": false,
    "editable": false,
    "lc_cell_meme": {
     "current": "0ffce4e0-c2e0-11e8-9925-0242ac110002",
     "next": "0ffce576-c2e0-11e8-9925-0242ac110002",
     "previous": "0ffce44a-c2e0-11e8-9925-0242ac110002"
    },
    "run_through_control": {
     "frozen": true
    }
   },
   "outputs": [
    {
     "data": {
      "text/html": [
       "<div>\n",
       "<style>\n",
       "    .dataframe thead tr:only-child th {\n",
       "        text-align: right;\n",
       "    }\n",
       "\n",
       "    .dataframe thead th {\n",
       "        text-align: left;\n",
       "    }\n",
       "\n",
       "    .dataframe tbody tr th {\n",
       "        vertical-align: top;\n",
       "    }\n",
       "</style>\n",
       "<table border=\"1\" class=\"dataframe\">\n",
       "  <thead>\n",
       "    <tr style=\"text-align: right;\">\n",
       "      <th></th>\n",
       "      <th>flavor</th>\n",
       "      <th>instance_type</th>\n",
       "      <th>volume_size</th>\n",
       "      <th>volume_type</th>\n",
       "    </tr>\n",
       "  </thead>\n",
       "  <tbody>\n",
       "    <tr>\n",
       "      <th>0</th>\n",
       "      <td>small</td>\n",
       "      <td>m4.large</td>\n",
       "      <td>20</td>\n",
       "      <td>standard</td>\n",
       "    </tr>\n",
       "    <tr>\n",
       "      <th>1</th>\n",
       "      <td>medium</td>\n",
       "      <td>m4.xlarge</td>\n",
       "      <td>40</td>\n",
       "      <td>standard</td>\n",
       "    </tr>\n",
       "    <tr>\n",
       "      <th>2</th>\n",
       "      <td>large</td>\n",
       "      <td>m4.2xlarge</td>\n",
       "      <td>100</td>\n",
       "      <td>standard</td>\n",
       "    </tr>\n",
       "  </tbody>\n",
       "</table>\n",
       "</div>"
      ],
      "text/plain": [
       "   flavor instance_type  volume_size volume_type\n",
       "0   small      m4.large           20    standard\n",
       "1  medium     m4.xlarge           40    standard\n",
       "2   large    m4.2xlarge          100    standard"
      ]
     },
     "execution_count": 10,
     "metadata": {},
     "output_type": "execute_result"
    }
   ],
   "source": [
    "VcpSDK.df_flavors('aws')"
   ]
  },
  {
   "cell_type": "markdown",
   "metadata": {
    "lc_cell_meme": {
     "current": "0ffce576-c2e0-11e8-9925-0242ac110002",
     "next": "0ffce616-c2e0-11e8-9925-0242ac110002",
     "previous": "0ffce4e0-c2e0-11e8-9925-0242ac110002"
    }
   },
   "source": [
    "### spec オブジェクトを作成する"
   ]
  },
  {
   "cell_type": "markdown",
   "metadata": {
    "lc_cell_meme": {
     "current": "0ffce616-c2e0-11e8-9925-0242ac110002",
     "next": "0ffce6b6-c2e0-11e8-9925-0242ac110002",
     "previous": "0ffce576-c2e0-11e8-9925-0242ac110002"
    }
   },
   "source": [
    "specオブジェクトを作成します。specオブジェクトを作成するにはプロバイダと`flavor`を指定します。ここでは以下の値を指定します。\n",
    "\n",
    "* プロバイダ: `aws`\n",
    "* flavor: `small`"
   ]
  },
  {
   "cell_type": "code",
   "execution_count": 11,
   "metadata": {
    "deletable": false,
    "editable": false,
    "lc_cell_meme": {
     "current": "0ffce6b6-c2e0-11e8-9925-0242ac110002",
     "next": "0ffce74c-c2e0-11e8-9925-0242ac110002",
     "previous": "0ffce616-c2e0-11e8-9925-0242ac110002"
    },
    "run_through_control": {
     "frozen": true
    }
   },
   "outputs": [],
   "source": [
    "spec = VcpSDK.get_spec('aws', 'small')"
   ]
  },
  {
   "cell_type": "markdown",
   "metadata": {
    "lc_cell_meme": {
     "current": "0ffce74c-c2e0-11e8-9925-0242ac110002",
     "next": "0ffce7e2-c2e0-11e8-9925-0242ac110002",
     "previous": "0ffce6b6-c2e0-11e8-9925-0242ac110002"
    }
   },
   "source": [
    "作成した`spec`の設定内容を確認してみます。\n",
    "\n",
    "> `instance_type`パラメータに `flavor` の指定と対応するEC2インスタンスタイプ`m4.large`が設定されていることが確認できるはずです。\n",
    "> `volume_size`, `volume_type`についてもそれぞれ`flavor`と対応する値が設定されます。"
   ]
  },
  {
   "cell_type": "code",
   "execution_count": 12,
   "metadata": {
    "deletable": false,
    "editable": false,
    "lc_cell_meme": {
     "current": "0ffce7e2-c2e0-11e8-9925-0242ac110002",
     "next": "0ffce882-c2e0-11e8-9925-0242ac110002",
     "previous": "0ffce74c-c2e0-11e8-9925-0242ac110002"
    },
    "run_through_control": {
     "frozen": true
    }
   },
   "outputs": [
    {
     "name": "stdout",
     "output_type": "stream",
     "text": [
      "\n",
      "========================\n",
      "aws\n",
      "------------------------\n",
      "\n",
      "    cci_version: \"1.0\"\n",
      "    name: \n",
      "    description: \n",
      "    private_network: default\n",
      "    num_nodes: 1\n",
      "    image: vcp/base:1.3\n",
      "    recovery_mode: none\n",
      "    params:\n",
      "        {'e': [], 'v': []}\n",
      "    instance_type: m4.large\n",
      "    volume_size: 20\n",
      "    volume_type: standard\n",
      "    volume_id: []\n",
      "    cloud_image: default\n",
      "    tags: {}\n",
      "========================\n"
     ]
    }
   ],
   "source": [
    "print(spec)"
   ]
  },
  {
   "cell_type": "markdown",
   "metadata": {
    "lc_cell_meme": {
     "current": "0ffce882-c2e0-11e8-9925-0242ac110002",
     "next": "0ffce918-c2e0-11e8-9925-0242ac110002",
     "previous": "0ffce7e2-c2e0-11e8-9925-0242ac110002"
    }
   },
   "source": [
    "`spec`に対しては `flavor`で指定するだけではなく個々のパラメータを直接指定することもできます。例えば、以下のようなものが指定できます。\n",
    "\n",
    "* num_nodes\n",
    "  - Unit内に作成するVCノードの数: デフォルト=1\n",
    "* ip_address_list\n",
    "  - VCノードに割り当てるプライベートIPアドレス\n",
    "  - このパラメータを指定しない場合は利用可能なアドレスが自動的に割り当てられる\n",
    "* instance_type\n",
    "  - Amazon EC2のインスタンスタイプ\n",
    "  - flavorで設定されているもの以外を利用したい場合に指定する\n",
    "* volume_size\n",
    "  - Amazon EC2インスタンスのルートボリュームに割り当てるサイズ(GiB)\n",
    "  - flavorで設定されているもの以外を利用したい場合に指定する\n",
    "* volume_type\n",
    "  - Amazon EC2インスタンスのルートボリュームのEBSタイプ\n",
    "  - flavorで設定されているもの以外を利用したい場合に指定する"
   ]
  },
  {
   "cell_type": "markdown",
   "metadata": {
    "lc_cell_meme": {
     "current": "0ffce918-c2e0-11e8-9925-0242ac110002",
     "next": "0ffce9b8-c2e0-11e8-9925-0242ac110002",
     "previous": "0ffce882-c2e0-11e8-9925-0242ac110002"
    }
   },
   "source": [
    "試しに `volume_size`を指定してみます。"
   ]
  },
  {
   "cell_type": "code",
   "execution_count": 13,
   "metadata": {
    "deletable": false,
    "editable": false,
    "lc_cell_meme": {
     "current": "0ffce9b8-c2e0-11e8-9925-0242ac110002",
     "next": "0ffcea4e-c2e0-11e8-9925-0242ac110002",
     "previous": "0ffce918-c2e0-11e8-9925-0242ac110002"
    },
    "run_through_control": {
     "frozen": true
    }
   },
   "outputs": [],
   "source": [
    "spec.volume_size = 15"
   ]
  },
  {
   "cell_type": "markdown",
   "metadata": {
    "lc_cell_meme": {
     "current": "0ffcea4e-c2e0-11e8-9925-0242ac110002",
     "next": "0ffceae4-c2e0-11e8-9925-0242ac110002",
     "previous": "0ffce9b8-c2e0-11e8-9925-0242ac110002"
    }
   },
   "source": [
    "指定した値が`spec`の設定に反映されていることを確認してみます。"
   ]
  },
  {
   "cell_type": "code",
   "execution_count": 14,
   "metadata": {
    "deletable": false,
    "editable": false,
    "lc_cell_meme": {
     "current": "0ffceae4-c2e0-11e8-9925-0242ac110002",
     "next": "0ffceb84-c2e0-11e8-9925-0242ac110002",
     "previous": "0ffcea4e-c2e0-11e8-9925-0242ac110002"
    },
    "run_through_control": {
     "frozen": true
    }
   },
   "outputs": [
    {
     "name": "stdout",
     "output_type": "stream",
     "text": [
      "\n",
      "========================\n",
      "aws\n",
      "------------------------\n",
      "\n",
      "    cci_version: \"1.0\"\n",
      "    name: \n",
      "    description: \n",
      "    private_network: default\n",
      "    num_nodes: 1\n",
      "    image: vcp/base:1.3\n",
      "    recovery_mode: none\n",
      "    params:\n",
      "        {'e': [], 'v': []}\n",
      "    instance_type: m4.large\n",
      "    volume_size: 15\n",
      "    volume_type: standard\n",
      "    volume_id: []\n",
      "    cloud_image: default\n",
      "    tags: {}\n",
      "========================\n"
     ]
    }
   ],
   "source": [
    "print(spec)"
   ]
  },
  {
   "cell_type": "markdown",
   "metadata": {
    "lc_cell_meme": {
     "current": "0ffceb84-c2e0-11e8-9925-0242ac110002",
     "next": "0ffcec1a-c2e0-11e8-9925-0242ac110002",
     "previous": "0ffceae4-c2e0-11e8-9925-0242ac110002"
    }
   },
   "source": [
    "`volume_size`の値が指定した値に変更されています。"
   ]
  },
  {
   "cell_type": "markdown",
   "metadata": {
    "lc_cell_meme": {
     "current": "0ffcec1a-c2e0-11e8-9925-0242ac110002",
     "next": "0ffcecba-c2e0-11e8-9925-0242ac110002",
     "previous": "0ffceb84-c2e0-11e8-9925-0242ac110002"
    }
   },
   "source": [
    "### sshの鍵ファイルを設定する\n",
    "\n",
    "VCノードにsshでログインするためには事前に公開鍵認証の鍵を登録する必要があります。そのための設定をここで行います。"
   ]
  },
  {
   "cell_type": "markdown",
   "metadata": {
    "lc_cell_meme": {
     "current": "0ffcecba-c2e0-11e8-9925-0242ac110002",
     "next": "0ffced50-c2e0-11e8-9925-0242ac110002",
     "previous": "0ffcec1a-c2e0-11e8-9925-0242ac110002"
    }
   },
   "source": [
    "VCノードに登録する公開鍵認証の**秘密鍵**のパスを次のセルで設定してください。\n",
    "\n",
    "> VCノードに登録が必要となるのは公開鍵です。しかしsshでログインする際に指定する秘密鍵と一致するペアの公開鍵が指定されていないと、VCノードにログイン出来なくなってしまいます。そのような状況に陥るのを避けるために、ここでは秘密鍵のファイルから公開鍵を取り出してそれを`spec`オブジェクトに設定する手順を採ります。これにより鍵ペアがが正しいことが保証されます。"
   ]
  },
  {
   "cell_type": "code",
   "execution_count": 15,
   "metadata": {
    "deletable": false,
    "editable": false,
    "lc_cell_meme": {
     "current": "0ffced50-c2e0-11e8-9925-0242ac110002",
     "next": "0ffcede6-c2e0-11e8-9925-0242ac110002",
     "previous": "0ffcecba-c2e0-11e8-9925-0242ac110002"
    },
    "run_through_control": {
     "frozen": true
    }
   },
   "outputs": [],
   "source": [
    "import os\n",
    "ssh_private_key = os.path.expanduser('~/.ssh/id_rsa')"
   ]
  },
  {
   "cell_type": "markdown",
   "metadata": {
    "lc_cell_meme": {
     "current": "0ffcede6-c2e0-11e8-9925-0242ac110002",
     "next": "0ffcee7c-c2e0-11e8-9925-0242ac110002",
     "previous": "0ffced50-c2e0-11e8-9925-0242ac110002"
    }
   },
   "source": [
    "`spec` に設定が必要となるのは公開鍵なので `ssh-keygen -y` コマンドで秘密鍵から公開鍵を取り出します。さらに公開鍵を`spec`が要求するフォーマット(Base64)に変換して `spec` オブジェクトに設定しています。"
   ]
  },
  {
   "cell_type": "code",
   "execution_count": 16,
   "metadata": {
    "deletable": false,
    "editable": false,
    "lc_cell_meme": {
     "current": "0ffcee7c-c2e0-11e8-9925-0242ac110002",
     "next": "0ffcef1c-c2e0-11e8-9925-0242ac110002",
     "previous": "0ffcede6-c2e0-11e8-9925-0242ac110002"
    },
    "run_through_control": {
     "frozen": true
    }
   },
   "outputs": [],
   "source": [
    "out = !ssh-keygen -y -f {ssh_private_key} | base64 -w 0         # 秘密鍵から公開鍵を取り出して Base64エンコードする\n",
    "b64_ssh_public_key = out[0]\n",
    "\n",
    "# specオブジェクトのパラメータに設定する\n",
    "spec.params_e = ['AUTHORIZED_KEYS={}'.format(b64_ssh_public_key)]"
   ]
  },
  {
   "cell_type": "markdown",
   "metadata": {
    "lc_cell_meme": {
     "current": "0ffcef1c-c2e0-11e8-9925-0242ac110002",
     "next": "0ffcefbc-c2e0-11e8-9925-0242ac110002",
     "previous": "0ffcee7c-c2e0-11e8-9925-0242ac110002"
    }
   },
   "source": [
    "SSHに関するパラメータが`spec`の設定に反映されたことを確認してみます。"
   ]
  },
  {
   "cell_type": "code",
   "execution_count": 17,
   "metadata": {
    "deletable": false,
    "editable": false,
    "lc_cell_meme": {
     "current": "0ffcefbc-c2e0-11e8-9925-0242ac110002",
     "history": [
      {
       "current": "0ffcefbc-c2e0-11e8-9925-0242ac110002",
       "next": "0ffcf052-c2e0-11e8-9925-0242ac110002",
       "previous": "0ffcef1c-c2e0-11e8-9925-0242ac110002"
      }
     ],
     "next": "0ffcf0fc-c2e0-11e8-9925-0242ac110002",
     "previous": "0ffcef1c-c2e0-11e8-9925-0242ac110002"
    },
    "run_through_control": {
     "frozen": true
    }
   },
   "outputs": [
    {
     "name": "stdout",
     "output_type": "stream",
     "text": [
      "\n",
      "========================\n",
      "aws\n",
      "------------------------\n",
      "\n",
      "    cci_version: \"1.0\"\n",
      "    name: \n",
      "    description: \n",
      "    private_network: default\n",
      "    num_nodes: 1\n",
      "    image: vcp/base:1.3\n",
      "    recovery_mode: none\n",
      "    params:\n",
      "        {'e': ['AUTHORIZED_KEYS=c3NoLXJzYSBBQUFBQjNOemFDMXljMkVBQUFBREFRQUJBQUFCQVFDdE5KYjBIWkU0SHR0ZjV3WWhhbkQyR2RBZm9Wc0o2eVZOR3JMOWFUQ040SWtXUGZ1a1ZOOFdUTldldHp4T3cwOXlrZlZqQlFZUG9JOWhzOHYzd2hjaHRqZlFneHEvWTBvTWFLNlQ1bmdybmtMZFd6VFcxSFhhZ3A0SFdBTGtvVGNtQkhUaG9lWitKdGdkbS9ham8ySHVNblhqbHY0Y215WDVQZ3JhdU5IVDZoTEJUc2k2NzBkNWFSTTZLY3B1VVc0RS8xMHF1WklQcXhaMzJvQnFxU2V6c1gzVlV2Nnk2Um1Ldzg3eC9FUU1XVUtlemR3bHJuTWpwY3p0TTRSQzVrc0s1QWp6bC9oY3FaOGVOMjhaanVxM3RPRHNWY05SVHdzajdGWTZjaXVsbFhURndzZHhjNjM5U290VmpwWWNZSUpqWGhZTW1mTkNpdFFRamxaNVNVdUgK'], 'v': []}\n",
      "    instance_type: m4.large\n",
      "    volume_size: 15\n",
      "    volume_type: standard\n",
      "    volume_id: []\n",
      "    cloud_image: default\n",
      "    tags: {}\n",
      "========================\n"
     ]
    }
   ],
   "source": [
    "print(spec)"
   ]
  },
  {
   "cell_type": "markdown",
   "metadata": {
    "lc_cell_meme": {
     "current": "0ffcf0fc-c2e0-11e8-9925-0242ac110002",
     "history": [
      {
       "current": "0ffcf0fc-c2e0-11e8-9925-0242ac110002",
       "next": "0ffcf19c-c2e0-11e8-9925-0242ac110002",
       "previous": "0ffcf052-c2e0-11e8-9925-0242ac110002"
      }
     ],
     "next": "0ffcf19c-c2e0-11e8-9925-0242ac110002",
     "previous": "0ffcefbc-c2e0-11e8-9925-0242ac110002"
    }
   },
   "source": [
    "## Unitの作成とVCノードの起動"
   ]
  },
  {
   "cell_type": "markdown",
   "metadata": {
    "lc_cell_meme": {
     "current": "0ffcf19c-c2e0-11e8-9925-0242ac110002",
     "next": "0ffcf232-c2e0-11e8-9925-0242ac110002",
     "previous": "0ffcf0fc-c2e0-11e8-9925-0242ac110002"
    }
   },
   "source": [
    "Unitを作成します。Unitを作成すると同時に VCノード（ここでは Amazon EC2インスタンス）が起動します。\n",
    "\n",
    "> 処理が完了するまで1分半～2分程度かかります。"
   ]
  },
  {
   "cell_type": "code",
   "execution_count": 18,
   "metadata": {
    "deletable": false,
    "editable": false,
    "lc_cell_meme": {
     "current": "0ffcf232-c2e0-11e8-9925-0242ac110002",
     "next": "0ffcf2c8-c2e0-11e8-9925-0242ac110002",
     "previous": "0ffcf19c-c2e0-11e8-9925-0242ac110002"
    },
    "run_through_control": {
     "frozen": true
    },
    "scrolled": true
   },
   "outputs": [
    {
     "name": "stdout",
     "output_type": "stream",
     "text": [
      "2018-09-28 14:36:04,017 - INFO - BOOTING ... 0 sec\n",
      "2018-09-28 14:36:09,234 - INFO - BOOTING ... 5 sec\n",
      "2018-09-28 14:36:14,466 - INFO - BOOTING ... 10 sec\n",
      "2018-09-28 14:36:19,674 - INFO - BOOTING ... 15 sec\n",
      "2018-09-28 14:36:24,869 - INFO - BOOTING ... 20 sec\n",
      "2018-09-28 14:36:30,060 - INFO - BOOTING ... 25 sec\n",
      "2018-09-28 14:36:35,257 - INFO - BOOTING ... 30 sec\n",
      "2018-09-28 14:36:40,449 - INFO - BOOTING ... 35 sec\n",
      "2018-09-28 14:36:45,652 - INFO - BOOTING ... 40 sec\n",
      "2018-09-28 14:36:50,845 - INFO - BOOTING ... 45 sec\n",
      "2018-09-28 14:36:56,054 - INFO - BOOTING ... 50 sec\n",
      "2018-09-28 14:37:01,287 - INFO - BOOTING ... 55 sec\n",
      "2018-09-28 14:37:06,490 - INFO - BOOTING ... 60 sec\n",
      "2018-09-28 14:37:11,712 - INFO - BOOTING ... 65 sec\n",
      "2018-09-28 14:37:16,928 - INFO - BOOTING ... 70 sec\n",
      "2018-09-28 14:37:22,124 - INFO - BOOTING ... 75 sec\n",
      "2018-09-28 14:37:27,325 - INFO - unit aws-server is RUNNING\n"
     ]
    }
   ],
   "source": [
    "# Unitの作成（同時に VCノードが作成される）\n",
    "unit = unit_group.create_unit(\n",
    "    'aws-server',               # Unit名の指定\n",
    "    spec\n",
    ")"
   ]
  },
  {
   "cell_type": "markdown",
   "metadata": {
    "lc_cell_meme": {
     "current": "0ffcf2c8-c2e0-11e8-9925-0242ac110002",
     "next": "0ffcf35e-c2e0-11e8-9925-0242ac110002",
     "previous": "0ffcf232-c2e0-11e8-9925-0242ac110002"
    }
   },
   "source": [
    "UnitGroupに属しているUnitの一覧表示を行い、Unitが作成されていることを確認します。"
   ]
  },
  {
   "cell_type": "code",
   "execution_count": 19,
   "metadata": {
    "deletable": false,
    "editable": false,
    "lc_cell_meme": {
     "current": "0ffcf35e-c2e0-11e8-9925-0242ac110002",
     "next": "0ffcf3f4-c2e0-11e8-9925-0242ac110002",
     "previous": "0ffcf2c8-c2e0-11e8-9925-0242ac110002"
    },
    "pinned_outputs": [],
    "run_through_control": {
     "frozen": true
    }
   },
   "outputs": [
    {
     "data": {
      "text/html": [
       "<div>\n",
       "<style>\n",
       "    .dataframe thead tr:only-child th {\n",
       "        text-align: right;\n",
       "    }\n",
       "\n",
       "    .dataframe thead th {\n",
       "        text-align: left;\n",
       "    }\n",
       "\n",
       "    .dataframe tbody tr th {\n",
       "        vertical-align: top;\n",
       "    }\n",
       "</style>\n",
       "<table border=\"1\" class=\"dataframe\">\n",
       "  <thead>\n",
       "    <tr style=\"text-align: right;\">\n",
       "      <th></th>\n",
       "      <th>vctype</th>\n",
       "      <th>vcno</th>\n",
       "      <th>vcname</th>\n",
       "      <th>vc_state</th>\n",
       "      <th>vcid</th>\n",
       "      <th>cdate</th>\n",
       "      <th>unit_name</th>\n",
       "      <th>unit_state</th>\n",
       "    </tr>\n",
       "  </thead>\n",
       "  <tbody>\n",
       "    <tr>\n",
       "      <th>0</th>\n",
       "      <td>compute</td>\n",
       "      <td>36</td>\n",
       "      <td>handson101</td>\n",
       "      <td>RUNNING</td>\n",
       "      <td>2402ae36...</td>\n",
       "      <td>2018/09/28 05:33:28 UTC</td>\n",
       "      <td>aws-server</td>\n",
       "      <td>RUNNING</td>\n",
       "    </tr>\n",
       "  </tbody>\n",
       "</table>\n",
       "</div>"
      ],
      "text/plain": [
       "    vctype  vcno      vcname vc_state         vcid                    cdate  \\\n",
       "0  compute    36  handson101  RUNNING  2402ae36...  2018/09/28 05:33:28 UTC   \n",
       "\n",
       "    unit_name unit_state  \n",
       "0  aws-server    RUNNING  "
      ]
     },
     "execution_count": 19,
     "metadata": {},
     "output_type": "execute_result"
    }
   ],
   "source": [
    "# Unitの一覧を DataFrame で表示する\n",
    "unit_group.df_units()"
   ]
  },
  {
   "cell_type": "markdown",
   "metadata": {
    "lc_cell_meme": {
     "current": "0ffcf3f4-c2e0-11e8-9925-0242ac110002",
     "next": "0ffcf48a-c2e0-11e8-9925-0242ac110002",
     "previous": "0ffcf35e-c2e0-11e8-9925-0242ac110002"
    }
   },
   "source": [
    "UnitGroupに属しているVCノードの一覧表示を行い、VCノードが起動していることを確認します。VCノードが正常に起動していることは `node_state` の表示が `RUNNING`になっていることで確認できます。"
   ]
  },
  {
   "cell_type": "code",
   "execution_count": 20,
   "metadata": {
    "deletable": false,
    "editable": false,
    "lc_cell_meme": {
     "current": "0ffcf48a-c2e0-11e8-9925-0242ac110002",
     "history": [
      {
       "current": "0ffcf48a-c2e0-11e8-9925-0242ac110002",
       "next": "0ffcf534-c2e0-11e8-9925-0242ac110002",
       "previous": "0ffcf3f4-c2e0-11e8-9925-0242ac110002"
      }
     ],
     "next": "0ffcf5ca-c2e0-11e8-9925-0242ac110002",
     "previous": "0ffcf3f4-c2e0-11e8-9925-0242ac110002"
    },
    "run_through_control": {
     "frozen": true
    },
    "scrolled": true
   },
   "outputs": [
    {
     "data": {
      "text/html": [
       "<div>\n",
       "<style>\n",
       "    .dataframe thead tr:only-child th {\n",
       "        text-align: right;\n",
       "    }\n",
       "\n",
       "    .dataframe thead th {\n",
       "        text-align: left;\n",
       "    }\n",
       "\n",
       "    .dataframe tbody tr th {\n",
       "        vertical-align: top;\n",
       "    }\n",
       "</style>\n",
       "<table border=\"1\" class=\"dataframe\">\n",
       "  <thead>\n",
       "    <tr style=\"text-align: right;\">\n",
       "      <th></th>\n",
       "      <th>vcno</th>\n",
       "      <th>vcname</th>\n",
       "      <th>unit_name</th>\n",
       "      <th>unit_state</th>\n",
       "      <th>node_no</th>\n",
       "      <th>node_id</th>\n",
       "      <th>node_state</th>\n",
       "      <th>cloud_instance_address</th>\n",
       "      <th>cloud_instance_id</th>\n",
       "      <th>cloud_instance_name</th>\n",
       "      <th>volumes</th>\n",
       "    </tr>\n",
       "  </thead>\n",
       "  <tbody>\n",
       "    <tr>\n",
       "      <th>0</th>\n",
       "      <td>36</td>\n",
       "      <td>handson101</td>\n",
       "      <td>aws-server</td>\n",
       "      <td>RUNNING</td>\n",
       "      <td>1</td>\n",
       "      <td>d983afca...</td>\n",
       "      <td>RUNNING</td>\n",
       "      <td>172.30.2.26</td>\n",
       "      <td>i-002140ab6e2fa858a</td>\n",
       "      <td>VCP-020661f0-2402ae36</td>\n",
       "      <td>none</td>\n",
       "    </tr>\n",
       "  </tbody>\n",
       "</table>\n",
       "</div>"
      ],
      "text/plain": [
       "   vcno      vcname   unit_name unit_state  node_no      node_id node_state  \\\n",
       "0    36  handson101  aws-server    RUNNING        1  d983afca...    RUNNING   \n",
       "\n",
       "  cloud_instance_address    cloud_instance_id    cloud_instance_name volumes  \n",
       "0            172.30.2.26  i-002140ab6e2fa858a  VCP-020661f0-2402ae36    none  "
      ]
     },
     "execution_count": 20,
     "metadata": {},
     "output_type": "execute_result"
    }
   ],
   "source": [
    "# VCノードの一覧を DataFrame で表示する\n",
    "unit_group.df_nodes()"
   ]
  },
  {
   "cell_type": "markdown",
   "metadata": {
    "lc_cell_meme": {
     "current": "0ffcf5ca-c2e0-11e8-9925-0242ac110002",
     "history": [
      {
       "current": "0ffcf5ca-c2e0-11e8-9925-0242ac110002",
       "next": "0ffcf66a-c2e0-11e8-9925-0242ac110002",
       "previous": "0ffcf534-c2e0-11e8-9925-0242ac110002"
      }
     ],
     "next": "0ffcf66a-c2e0-11e8-9925-0242ac110002",
     "previous": "0ffcf48a-c2e0-11e8-9925-0242ac110002"
    }
   },
   "source": [
    "ここでは VCノードの起動が完了するまで待ち合わせるモードでUnitの作成を行いましたが、非同期処理でUnit, VCノードの作成を行うこともできます。`create_unit()`の`wait_for`パラメータに`False`を指定すると非同期モードでのUnit, VCノードの作成を行います。\n",
    "\n",
    "```\n",
    "unit = unit_group.create_unit('aws-server', spec, wait_for=False)\n",
    "```\n",
    "\n",
    "非同期モードでUnitを作成した場合にUnitやVCノードが起動したことを確認するには、状態取得を行う以下に示す方法を利用してください。\n",
    "\n",
    "1. `unit_group.df_nodes()`\n",
    "  * Unitの一覧表示の`node_state`の項目で Unitの状態を確認できます\n",
    "1. `unit.df_nodes()`, `unit_group.df_nodes()`\n",
    "  * VCノードの一覧表示の`node_state`の項目で VCノードの状態を確認できます\n",
    "\n",
    "起動処理が正常に完了すると、状態は`RUNNING`となります。\n",
    "\n",
    "また、非同期モードでUnit作成を行った場合でも、以下のメソッドを利用することで後からVCノード起動の待ち合わせを行うことができます。\n",
    "* `unit_group.wait_unit(unit_name)`\n",
    "  - unit_nameで指定されたUnitの状態が `RUNNING` または `ERROR`になるのを待ちます"
   ]
  },
  {
   "cell_type": "markdown",
   "metadata": {
    "lc_cell_meme": {
     "current": "0ffcf66a-c2e0-11e8-9925-0242ac110002",
     "next": "0ffcf70a-c2e0-11e8-9925-0242ac110002",
     "previous": "0ffcf5ca-c2e0-11e8-9925-0242ac110002"
    }
   },
   "source": [
    "## 疎通確認\n",
    "\n",
    "起動した VCノードに対して`ping`を行ってみます。"
   ]
  },
  {
   "cell_type": "markdown",
   "metadata": {
    "lc_cell_meme": {
     "current": "0ffcf70a-c2e0-11e8-9925-0242ac110002",
     "next": "0ffcf7a0-c2e0-11e8-9925-0242ac110002",
     "previous": "0ffcf66a-c2e0-11e8-9925-0242ac110002"
    }
   },
   "source": [
    "まずUnitGroup内で起動しているVCノードに割り当てられているプライベートIPアドレスの値を取得して変数 `ip_address`に格納します。"
   ]
  },
  {
   "cell_type": "code",
   "execution_count": 21,
   "metadata": {
    "deletable": false,
    "editable": false,
    "lc_cell_meme": {
     "current": "0ffcf7a0-c2e0-11e8-9925-0242ac110002",
     "next": "0ffcf836-c2e0-11e8-9925-0242ac110002",
     "previous": "0ffcf70a-c2e0-11e8-9925-0242ac110002"
    },
    "run_through_control": {
     "frozen": true
    }
   },
   "outputs": [
    {
     "name": "stdout",
     "output_type": "stream",
     "text": [
      "172.30.2.26\n"
     ]
    }
   ],
   "source": [
    "# unit_group.find_ip_addresses() は UnitGroup内の全VCノードのIPアドレスのリストを返します\n",
    "ip_address = unit_group.find_ip_addresses()[0] # 今は１つのVCノードのみ起動しているので [0] で最初の要素を取り出す\n",
    "\n",
    "print(ip_address)"
   ]
  },
  {
   "cell_type": "markdown",
   "metadata": {
    "lc_cell_meme": {
     "current": "0ffcf836-c2e0-11e8-9925-0242ac110002",
     "next": "0ffcf8f4-c2e0-11e8-9925-0242ac110002",
     "previous": "0ffcf7a0-c2e0-11e8-9925-0242ac110002"
    }
   },
   "source": [
    "実際に `ping` を行ってみます。\n",
    "\n",
    "> Codeセルで先頭に `!` をつけるとシェルコマンドが実行できます。また `{}`で囲むことで Python の変数参照やコードの実行に置き換えることができます。詳しくは「[IPython Documentation](https://ipython.readthedocs.io/en/stable/interactive/tutorial.html#system-shell-commands)」などを参照してください。"
   ]
  },
  {
   "cell_type": "code",
   "execution_count": 22,
   "metadata": {
    "deletable": false,
    "editable": false,
    "lc_cell_meme": {
     "current": "0ffcf8f4-c2e0-11e8-9925-0242ac110002",
     "next": "0ffcf9a8-c2e0-11e8-9925-0242ac110002",
     "previous": "0ffcf836-c2e0-11e8-9925-0242ac110002"
    },
    "run_through_control": {
     "frozen": true
    }
   },
   "outputs": [
    {
     "name": "stdout",
     "output_type": "stream",
     "text": [
      "PING 172.30.2.26 (172.30.2.26): 56 data bytes\n",
      "64 bytes from 172.30.2.26: icmp_seq=0 ttl=63 time=0.403 ms\n",
      "64 bytes from 172.30.2.26: icmp_seq=1 ttl=63 time=0.289 ms\n",
      "64 bytes from 172.30.2.26: icmp_seq=2 ttl=63 time=0.341 ms\n",
      "64 bytes from 172.30.2.26: icmp_seq=3 ttl=63 time=0.266 ms\n",
      "64 bytes from 172.30.2.26: icmp_seq=4 ttl=63 time=0.348 ms\n",
      "--- 172.30.2.26 ping statistics ---\n",
      "5 packets transmitted, 5 packets received, 0% packet loss\n",
      "round-trip min/avg/max/stddev = 0.266/0.329/0.403/0.048 ms\n"
     ]
    }
   ],
   "source": [
    "!ping -c 5 {ip_address}"
   ]
  },
  {
   "cell_type": "markdown",
   "metadata": {
    "lc_cell_meme": {
     "current": "0ffcf9a8-c2e0-11e8-9925-0242ac110002",
     "next": "0ffcfa48-c2e0-11e8-9925-0242ac110002",
     "previous": "0ffcf8f4-c2e0-11e8-9925-0242ac110002"
    }
   },
   "source": [
    "# VCノードに ssh でログインして操作する"
   ]
  },
  {
   "cell_type": "markdown",
   "metadata": {
    "lc_cell_meme": {
     "current": "0ffcfa48-c2e0-11e8-9925-0242ac110002",
     "next": "0ffcfb10-c2e0-11e8-9925-0242ac110002",
     "previous": "0ffcf9a8-c2e0-11e8-9925-0242ac110002"
    }
   },
   "source": [
    "起動したVCノードに ssh でログインして操作を行います。"
   ]
  },
  {
   "cell_type": "markdown",
   "metadata": {
    "lc_cell_meme": {
     "current": "0ffcfb10-c2e0-11e8-9925-0242ac110002",
     "next": "0ffcfbba-c2e0-11e8-9925-0242ac110002",
     "previous": "0ffcfa48-c2e0-11e8-9925-0242ac110002"
    }
   },
   "source": [
    "まずは `ls -la` を実行してみます。"
   ]
  },
  {
   "cell_type": "code",
   "execution_count": 23,
   "metadata": {
    "deletable": false,
    "editable": false,
    "lc_cell_meme": {
     "current": "0ffcfbba-c2e0-11e8-9925-0242ac110002",
     "next": "0ffcfc50-c2e0-11e8-9925-0242ac110002",
     "previous": "0ffcfb10-c2e0-11e8-9925-0242ac110002"
    },
    "run_through_control": {
     "frozen": true
    },
    "scrolled": true
   },
   "outputs": [
    {
     "name": "stdout",
     "output_type": "stream",
     "text": [
      "total 20\r\n",
      "drwx------    6 root     root          4096 Sep 28 05:37 .\r\n",
      "drwxr-xr-x   60 root     root          4096 Sep 28 05:37 ..\r\n",
      "drwx------    3 root     root          4096 May  9 05:28 .cache\r\n",
      "drwxr-xr-x    3 root     root          4096 May  9 05:28 .gem\r\n",
      "drwx------    2 root     root          4096 Sep 28 05:37 .ssh\r\n"
     ]
    }
   ],
   "source": [
    "!ssh \\\n",
    "    -i {ssh_private_key} \\\n",
    "    -o StrictHostKeyChecking=no -o UserKnownHostsFile=/dev/null -q \\\n",
    "    root@{ip_address} \\\n",
    "    ls -la"
   ]
  },
  {
   "cell_type": "markdown",
   "metadata": {
    "lc_cell_meme": {
     "current": "0ffcfc50-c2e0-11e8-9925-0242ac110002",
     "next": "0ffcfce6-c2e0-11e8-9925-0242ac110002",
     "previous": "0ffcfbba-c2e0-11e8-9925-0242ac110002"
    }
   },
   "source": [
    "VCノードにsshでログインするにはsshの引数に以下の指定が必要となります。\n",
    "\n",
    "* sshの identity ファイル（秘密鍵）\n",
    "  - `spec`オブジェクトに設定した秘密鍵とおなじもの\n",
    "* ユーザ名\n",
    "  - `root`\n",
    "* ログイン先のIPアドレス\n",
    "\n",
    "さらにJupyter Notebook環境での操作の煩雑さを避けるため以下の指定も行っています。\n",
    "\n",
    "* `-o StrictHostKeyChecking=no`\n",
    "  - 新しいホスト鍵をユーザの known_hosts ファイルに自動的に追加します\n",
    "* `-o UserKnownHostsFile=/dev/null`\n",
    "  - ホスト鍵データベースとして使うファイルの指定\n",
    "    - 仮想マシンの起動、削除を繰り返すと異なるマシンが同じIPアドレスで起動されることがありホスト鍵が異なると警告される場合があるので、登録されるホスト鍵を /dev/null に捨てるように設定しています\n",
    "* `-q`\n",
    "  - ほとんどの警告メッセージや診断メッセージが抑制されます\n",
    "\n",
    "> 操作の煩雑さを避けるために追加で指定したオプションは**実際の運用時に指定するべきではありません**。実際の運用時には、Terminalを開いてホスト鍵データベースの登録を行ってください。"
   ]
  },
  {
   "cell_type": "markdown",
   "metadata": {
    "lc_cell_meme": {
     "current": "0ffcfce6-c2e0-11e8-9925-0242ac110002",
     "next": "0ffcfd7c-c2e0-11e8-9925-0242ac110002",
     "previous": "0ffcfc50-c2e0-11e8-9925-0242ac110002"
    }
   },
   "source": [
    "sshのオプションを毎回指定するのも煩雑なので変数に設定しておきます。"
   ]
  },
  {
   "cell_type": "code",
   "execution_count": 24,
   "metadata": {
    "deletable": false,
    "editable": false,
    "lc_cell_meme": {
     "current": "0ffcfd7c-c2e0-11e8-9925-0242ac110002",
     "next": "0ffcfe12-c2e0-11e8-9925-0242ac110002",
     "previous": "0ffcfce6-c2e0-11e8-9925-0242ac110002"
    },
    "run_through_control": {
     "frozen": true
    }
   },
   "outputs": [],
   "source": [
    "ssh_opts = \"-i {} -o StrictHostKeyChecking=no -o UserKnownHostsFile=/dev/null -q\".format(ssh_private_key)"
   ]
  },
  {
   "cell_type": "markdown",
   "metadata": {
    "lc_cell_meme": {
     "current": "0ffcfe12-c2e0-11e8-9925-0242ac110002",
     "next": "0ffcfea8-c2e0-11e8-9925-0242ac110002",
     "previous": "0ffcfd7c-c2e0-11e8-9925-0242ac110002"
    }
   },
   "source": [
    "VCノードに対して`uname -a`, `df -h` などを実行してみます。"
   ]
  },
  {
   "cell_type": "code",
   "execution_count": 25,
   "metadata": {
    "deletable": false,
    "editable": false,
    "lc_cell_meme": {
     "current": "0ffcfea8-c2e0-11e8-9925-0242ac110002",
     "next": "0ffcff3e-c2e0-11e8-9925-0242ac110002",
     "previous": "0ffcfe12-c2e0-11e8-9925-0242ac110002"
    },
    "run_through_control": {
     "frozen": true
    }
   },
   "outputs": [
    {
     "name": "stdout",
     "output_type": "stream",
     "text": [
      "Linux ip-172-30-2-26 4.4.0-67-generic #88-Ubuntu SMP Wed Mar 8 16:34:45 UTC 2017 x86_64 Linux\r\n"
     ]
    }
   ],
   "source": [
    "!ssh {ssh_opts} root@{ip_address} uname -a"
   ]
  },
  {
   "cell_type": "code",
   "execution_count": 26,
   "metadata": {
    "deletable": false,
    "editable": false,
    "lc_cell_meme": {
     "current": "0ffcff3e-c2e0-11e8-9925-0242ac110002",
     "next": "0ffcffde-c2e0-11e8-9925-0242ac110002",
     "previous": "0ffcfea8-c2e0-11e8-9925-0242ac110002"
    },
    "run_through_control": {
     "frozen": true
    }
   },
   "outputs": [
    {
     "name": "stdout",
     "output_type": "stream",
     "text": [
      "Filesystem                Size      Used Available Use% Mounted on\r\n",
      "none                     14.6G      1.8G     12.1G  13% /\r\n",
      "tmpfs                     3.9G         0      3.9G   0% /sys/fs/cgroup\r\n",
      "udev                      3.9G         0      3.9G   0% /dev\r\n",
      "tmpfs                    64.0M         0     64.0M   0% /dev/shm\r\n",
      "/dev/xvda1               14.6G      1.8G     12.1G  13% /etc/resolv.conf\r\n",
      "/dev/xvda1               14.6G      1.8G     12.1G  13% /etc/hostname\r\n",
      "/dev/xvda1               14.6G      1.8G     12.1G  13% /etc/hosts\r\n",
      "shm                      64.0M         0     64.0M   0% /dev/shm\r\n",
      "/dev/xvda1               14.6G      1.8G     12.1G  13% /var/lib/docker\r\n",
      "none                      3.9G         0      3.9G   0% /tmp\r\n",
      "/dev/xvda1               14.6G      1.8G     12.1G  13% /var/lib/docker/aufs\r\n"
     ]
    }
   ],
   "source": [
    "!ssh {ssh_opts} root@{ip_address} df -h"
   ]
  },
  {
   "cell_type": "markdown",
   "metadata": {
    "lc_cell_meme": {
     "current": "0ffcffde-c2e0-11e8-9925-0242ac110002",
     "next": "0ffd0074-c2e0-11e8-9925-0242ac110002",
     "previous": "0ffcff3e-c2e0-11e8-9925-0242ac110002"
    }
   },
   "source": [
    "# GrafanaでVCノードの利用状況を確認する"
   ]
  },
  {
   "cell_type": "markdown",
   "metadata": {
    "lc_cell_meme": {
     "current": "0ffd0074-c2e0-11e8-9925-0242ac110002",
     "next": "0ffd010a-c2e0-11e8-9925-0242ac110002",
     "previous": "0ffcffde-c2e0-11e8-9925-0242ac110002"
    }
   },
   "source": [
    "VCPではVCノードの利用状況(CPU負荷、メモリ使用量、ネットワーク）を確認するためGrafanaのダッシュボードを提供しています。"
   ]
  },
  {
   "cell_type": "markdown",
   "metadata": {
    "lc_cell_meme": {
     "current": "0ffd010a-c2e0-11e8-9925-0242ac110002",
     "next": "0ffd01a0-c2e0-11e8-9925-0242ac110002",
     "previous": "0ffd0074-c2e0-11e8-9925-0242ac110002"
    }
   },
   "source": [
    "## Grafanaへのログイン"
   ]
  },
  {
   "attachments": {},
   "cell_type": "markdown",
   "metadata": {
    "lc_cell_meme": {
     "current": "0ffd01a0-c2e0-11e8-9925-0242ac110002",
     "next": "0ffd0236-c2e0-11e8-9925-0242ac110002",
     "previous": "0ffd010a-c2e0-11e8-9925-0242ac110002"
    }
   },
   "source": [
    "[Grafana](/grafana/d/handson/vcp-metrics?refresh=5s) からダッシュボードを開いてください。\n",
    "\n",
    "最初にログイン画面が表示されるので ユーザ名、パスワードにそれぞれ `admin`, `admin`を入力してください。 \n",
    "\n",
    "![Grafanaのログイン画面](../of2018-vcp-101/media/grafana-login.png)"
   ]
  },
  {
   "attachments": {},
   "cell_type": "markdown",
   "metadata": {
    "lc_cell_meme": {
     "current": "0ffd0236-c2e0-11e8-9925-0242ac110002",
     "next": "0ffd02cc-c2e0-11e8-9925-0242ac110002",
     "previous": "0ffd01a0-c2e0-11e8-9925-0242ac110002"
    }
   },
   "source": [
    "## 負荷状況のグラフ表示\n",
    "\n",
    "以下のように表示されます。左半分のグラフがBaseコンテナの負荷状況で、右半分がアプリケーションコンテナの負荷状況のグラフです。\n",
    "\n",
    "![負荷状況](../of2018-vcp-101/media/grafana-metrics.png)"
   ]
  },
  {
   "cell_type": "markdown",
   "metadata": {
    "lc_cell_meme": {
     "current": "0ffd02cc-c2e0-11e8-9925-0242ac110002",
     "next": "0ffd036c-c2e0-11e8-9925-0242ac110002",
     "previous": "0ffd0236-c2e0-11e8-9925-0242ac110002"
    }
   },
   "source": [
    "VCノードに負荷をかけるために、アプリケーションコンテナで stress コマンドを実行します。"
   ]
  },
  {
   "cell_type": "code",
   "execution_count": 27,
   "metadata": {
    "deletable": false,
    "editable": false,
    "lc_cell_meme": {
     "current": "0ffd036c-c2e0-11e8-9925-0242ac110002",
     "next": "0ffd0402-c2e0-11e8-9925-0242ac110002",
     "previous": "0ffd02cc-c2e0-11e8-9925-0242ac110002"
    },
    "run_through_control": {
     "frozen": true
    },
    "scrolled": true
   },
   "outputs": [
    {
     "name": "stdout",
     "output_type": "stream",
     "text": [
      "Unable to find image 'polinux/stress:latest' locally\n",
      "latest: Pulling from polinux/stress\n",
      "627beaf3eaaf: Pulling fs layer\n",
      "4de9f469a6f4: Pulling fs layer\n",
      "627beaf3eaaf: Download complete\n",
      "4de9f469a6f4: Verifying Checksum\n",
      "4de9f469a6f4: Download complete\n",
      "627beaf3eaaf: Pull complete\n",
      "4de9f469a6f4: Pull complete\n",
      "Digest: sha256:6d1825288ddb6b3cec8d3ac8a488c8ec2449334512ecb938483fc2b25cbbdb9a\n",
      "Status: Downloaded newer image for polinux/stress:latest\n",
      "18484b53c6729d7bad711d1c974ff11d1f3b0cef5f7e3e2ec47f85001010ad77\n"
     ]
    }
   ],
   "source": [
    "# 60秒間だけ CPU x 2 とメモリ 128 MB を消費する\n",
    "!ssh {ssh_opts} root@{ip_address} \\\n",
    "    /usr/local/bin/docker run -td --rm --name stress polinux/stress \\\n",
    "    stress --cpu 2 --io 1 --vm 2 --vm-bytes 128M --timeout 60s --verbose"
   ]
  },
  {
   "cell_type": "markdown",
   "metadata": {
    "lc_cell_meme": {
     "current": "0ffd0402-c2e0-11e8-9925-0242ac110002",
     "history": [
      {
       "current": "0ffd0402-c2e0-11e8-9925-0242ac110002",
       "next": "0ffd0498-c2e0-11e8-9925-0242ac110002",
       "previous": "0ffd036c-c2e0-11e8-9925-0242ac110002"
      }
     ],
     "next": "f948cfc8-c2e1-11e8-9925-0242ac110002",
     "previous": "0ffd036c-c2e0-11e8-9925-0242ac110002"
    }
   },
   "source": [
    "# VCノードのスケールアウト、スケールイン"
   ]
  },
  {
   "attachments": {},
   "cell_type": "markdown",
   "metadata": {
    "lc_cell_meme": {
     "current": "f948cfc8-c2e1-11e8-9925-0242ac110002",
     "next": "0ffd052e-c2e0-11e8-9925-0242ac110002",
     "previous": "0ffd0402-c2e0-11e8-9925-0242ac110002"
    }
   },
   "source": [
    "![スケールアウト、スケールイン](images/101-004.png)"
   ]
  },
  {
   "cell_type": "markdown",
   "metadata": {
    "lc_cell_meme": {
     "current": "0ffd052e-c2e0-11e8-9925-0242ac110002",
     "history": [
      {
       "current": "0ffd052e-c2e0-11e8-9925-0242ac110002",
       "next": "0ffd05c4-c2e0-11e8-9925-0242ac110002",
       "previous": "0ffd0498-c2e0-11e8-9925-0242ac110002"
      }
     ],
     "next": "0ffd05c4-c2e0-11e8-9925-0242ac110002",
     "previous": "f948cfc8-c2e1-11e8-9925-0242ac110002"
    }
   },
   "source": [
    "## VCノードのスケールアウト"
   ]
  },
  {
   "cell_type": "markdown",
   "metadata": {
    "lc_cell_meme": {
     "current": "0ffd05c4-c2e0-11e8-9925-0242ac110002",
     "next": "0ffd065a-c2e0-11e8-9925-0242ac110002",
     "previous": "0ffd052e-c2e0-11e8-9925-0242ac110002"
    }
   },
   "source": [
    "Unitには `spec`オブジェクトに指定されている設定と同一の VCノードを作成する機能があります。その機能を利用して Unit にVCノードを追加してみます。"
   ]
  },
  {
   "cell_type": "markdown",
   "metadata": {
    "lc_cell_meme": {
     "current": "0ffd065a-c2e0-11e8-9925-0242ac110002",
     "next": "0ffd06f0-c2e0-11e8-9925-0242ac110002",
     "previous": "0ffd05c4-c2e0-11e8-9925-0242ac110002"
    }
   },
   "source": [
    "まず、現在のVCノードの状況を確認しておきます。"
   ]
  },
  {
   "cell_type": "code",
   "execution_count": 28,
   "metadata": {
    "deletable": false,
    "editable": false,
    "lc_cell_meme": {
     "current": "0ffd06f0-c2e0-11e8-9925-0242ac110002",
     "next": "0ffd0790-c2e0-11e8-9925-0242ac110002",
     "previous": "0ffd065a-c2e0-11e8-9925-0242ac110002"
    },
    "run_through_control": {
     "frozen": true
    }
   },
   "outputs": [
    {
     "data": {
      "text/html": [
       "<div>\n",
       "<style>\n",
       "    .dataframe thead tr:only-child th {\n",
       "        text-align: right;\n",
       "    }\n",
       "\n",
       "    .dataframe thead th {\n",
       "        text-align: left;\n",
       "    }\n",
       "\n",
       "    .dataframe tbody tr th {\n",
       "        vertical-align: top;\n",
       "    }\n",
       "</style>\n",
       "<table border=\"1\" class=\"dataframe\">\n",
       "  <thead>\n",
       "    <tr style=\"text-align: right;\">\n",
       "      <th></th>\n",
       "      <th>vcno</th>\n",
       "      <th>vcname</th>\n",
       "      <th>unit_name</th>\n",
       "      <th>unit_state</th>\n",
       "      <th>node_no</th>\n",
       "      <th>node_id</th>\n",
       "      <th>node_state</th>\n",
       "      <th>cloud_instance_address</th>\n",
       "      <th>cloud_instance_id</th>\n",
       "      <th>cloud_instance_name</th>\n",
       "      <th>volumes</th>\n",
       "    </tr>\n",
       "  </thead>\n",
       "  <tbody>\n",
       "    <tr>\n",
       "      <th>0</th>\n",
       "      <td>36</td>\n",
       "      <td>handson101</td>\n",
       "      <td>aws-server</td>\n",
       "      <td>RUNNING</td>\n",
       "      <td>1</td>\n",
       "      <td>d983afca...</td>\n",
       "      <td>RUNNING</td>\n",
       "      <td>172.30.2.26</td>\n",
       "      <td>i-002140ab6e2fa858a</td>\n",
       "      <td>VCP-020661f0-2402ae36</td>\n",
       "      <td>none</td>\n",
       "    </tr>\n",
       "  </tbody>\n",
       "</table>\n",
       "</div>"
      ],
      "text/plain": [
       "   vcno      vcname   unit_name unit_state  node_no      node_id node_state  \\\n",
       "0    36  handson101  aws-server    RUNNING        1  d983afca...    RUNNING   \n",
       "\n",
       "  cloud_instance_address    cloud_instance_id    cloud_instance_name volumes  \n",
       "0            172.30.2.26  i-002140ab6e2fa858a  VCP-020661f0-2402ae36    none  "
      ]
     },
     "execution_count": 28,
     "metadata": {},
     "output_type": "execute_result"
    }
   ],
   "source": [
    "# VCノードの一覧を DataFrame で表示する\n",
    "unit.df_nodes()"
   ]
  },
  {
   "cell_type": "markdown",
   "metadata": {
    "lc_cell_meme": {
     "current": "0ffd0790-c2e0-11e8-9925-0242ac110002",
     "next": "0ffd081c-c2e0-11e8-9925-0242ac110002",
     "previous": "0ffd06f0-c2e0-11e8-9925-0242ac110002"
    }
   },
   "source": [
    "Unit に VCノードを追加するには`unit`オブジェクトに対して `add_nodes()` を呼び出します。"
   ]
  },
  {
   "cell_type": "markdown",
   "metadata": {
    "lc_cell_meme": {
     "current": "0ffd081c-c2e0-11e8-9925-0242ac110002",
     "next": "0ffd08bc-c2e0-11e8-9925-0242ac110002",
     "previous": "0ffd0790-c2e0-11e8-9925-0242ac110002"
    }
   },
   "source": [
    "`add_node()`を呼び出すことで追加されるVCノードの数はデフォルトでは１ですが、パラメータ`num_add_nodes`を設定することで追加するVCノード数を変更することが出来ます。他にどんなパラメータを指定することが出来るかについては次のセルのように Codeセルの先頭で `?` を指定することで確認できます。"
   ]
  },
  {
   "cell_type": "code",
   "execution_count": 29,
   "metadata": {
    "deletable": false,
    "editable": false,
    "lc_cell_meme": {
     "current": "0ffd08bc-c2e0-11e8-9925-0242ac110002",
     "next": "0ffd0952-c2e0-11e8-9925-0242ac110002",
     "previous": "0ffd081c-c2e0-11e8-9925-0242ac110002"
    },
    "run_through_control": {
     "frozen": true
    }
   },
   "outputs": [],
   "source": [
    "?unit.add_nodes"
   ]
  },
  {
   "cell_type": "markdown",
   "metadata": {
    "lc_cell_meme": {
     "current": "0ffd0952-c2e0-11e8-9925-0242ac110002",
     "next": "0ffd09e8-c2e0-11e8-9925-0242ac110002",
     "previous": "0ffd08bc-c2e0-11e8-9925-0242ac110002"
    },
    "vcp_tutorial": {
     "url": "files/DOC/index.html#vcpsdk.vcpsdk.VcpUnitClass"
    }
   },
   "source": [
    "<!---\n",
    "> `add_nodes()` の仕様については「[VCPSDK APIドキュメント](/handson/files/DOC/index.html#vcpsdk.vcpsdk.VcpUnitClass)」でも確認できます。\n",
    "--->"
   ]
  },
  {
   "cell_type": "markdown",
   "metadata": {
    "lc_cell_meme": {
     "current": "0ffd09e8-c2e0-11e8-9925-0242ac110002",
     "next": "0ffd0a7e-c2e0-11e8-9925-0242ac110002",
     "previous": "0ffd0952-c2e0-11e8-9925-0242ac110002"
    }
   },
   "source": [
    "では実際にVCノードを追加します。次のセルを実行するとUnitに VCノード が追加されます。\n",
    "\n",
    "> VCノード の起動には 1分半～2分程度かかります。"
   ]
  },
  {
   "cell_type": "code",
   "execution_count": 30,
   "metadata": {
    "deletable": false,
    "editable": false,
    "lc_cell_meme": {
     "current": "0ffd0a7e-c2e0-11e8-9925-0242ac110002",
     "next": "0ffd0b14-c2e0-11e8-9925-0242ac110002",
     "previous": "0ffd09e8-c2e0-11e8-9925-0242ac110002"
    },
    "run_through_control": {
     "frozen": true
    },
    "scrolled": true
   },
   "outputs": [
    {
     "name": "stdout",
     "output_type": "stream",
     "text": [
      "2018-09-28 14:47:41,539 - INFO - INDEFINITE ... 0 sec\n",
      "2018-09-28 14:47:46,746 - INFO - INDEFINITE ... 5 sec\n",
      "2018-09-28 14:47:51,956 - INFO - INDEFINITE ... 10 sec\n",
      "2018-09-28 14:47:57,180 - INFO - INDEFINITE ... 15 sec\n",
      "2018-09-28 14:48:02,390 - INFO - INDEFINITE ... 20 sec\n",
      "2018-09-28 14:48:07,604 - INFO - INDEFINITE ... 25 sec\n",
      "2018-09-28 14:48:12,814 - INFO - INDEFINITE ... 30 sec\n",
      "2018-09-28 14:48:18,027 - INFO - INDEFINITE ... 35 sec\n",
      "2018-09-28 14:48:23,238 - INFO - INDEFINITE ... 40 sec\n",
      "2018-09-28 14:48:28,448 - INFO - INDEFINITE ... 45 sec\n",
      "2018-09-28 14:48:33,661 - INFO - INDEFINITE ... 50 sec\n",
      "2018-09-28 14:48:38,896 - INFO - INDEFINITE ... 55 sec\n",
      "2018-09-28 14:48:44,108 - INFO - INDEFINITE ... 60 sec\n",
      "2018-09-28 14:48:49,333 - INFO - INDEFINITE ... 65 sec\n",
      "2018-09-28 14:48:54,549 - INFO - INDEFINITE ... 70 sec\n",
      "2018-09-28 14:48:59,760 - INFO - INDEFINITE ... 75 sec\n",
      "2018-09-28 14:49:04,971 - INFO - unit aws-server is RUNNING\n",
      "2018-09-28 14:49:04,972 - INFO - add_node completed.\n"
     ]
    },
    {
     "data": {
      "text/plain": [
       "[<vcplib.occtr.VcNode at 0x7fcf2c9ccd30>,\n",
       " <vcplib.occtr.VcNode at 0x7fcf2c9cc860>]"
      ]
     },
     "execution_count": 30,
     "metadata": {},
     "output_type": "execute_result"
    }
   ],
   "source": [
    "unit.add_nodes()"
   ]
  },
  {
   "cell_type": "markdown",
   "metadata": {
    "lc_cell_meme": {
     "current": "0ffd0b14-c2e0-11e8-9925-0242ac110002",
     "next": "0ffd0bb4-c2e0-11e8-9925-0242ac110002",
     "previous": "0ffd0a7e-c2e0-11e8-9925-0242ac110002"
    }
   },
   "source": [
    "VCノードの一覧表示をおこなってみます。VCノードが増えていることが確認できるはずです。"
   ]
  },
  {
   "cell_type": "code",
   "execution_count": 31,
   "metadata": {
    "deletable": false,
    "editable": false,
    "lc_cell_meme": {
     "current": "0ffd0bb4-c2e0-11e8-9925-0242ac110002",
     "next": "0ffd0c5e-c2e0-11e8-9925-0242ac110002",
     "previous": "0ffd0b14-c2e0-11e8-9925-0242ac110002"
    },
    "run_through_control": {
     "frozen": true
    },
    "scrolled": true
   },
   "outputs": [
    {
     "data": {
      "text/html": [
       "<div>\n",
       "<style>\n",
       "    .dataframe thead tr:only-child th {\n",
       "        text-align: right;\n",
       "    }\n",
       "\n",
       "    .dataframe thead th {\n",
       "        text-align: left;\n",
       "    }\n",
       "\n",
       "    .dataframe tbody tr th {\n",
       "        vertical-align: top;\n",
       "    }\n",
       "</style>\n",
       "<table border=\"1\" class=\"dataframe\">\n",
       "  <thead>\n",
       "    <tr style=\"text-align: right;\">\n",
       "      <th></th>\n",
       "      <th>vcno</th>\n",
       "      <th>vcname</th>\n",
       "      <th>unit_name</th>\n",
       "      <th>unit_state</th>\n",
       "      <th>node_no</th>\n",
       "      <th>node_id</th>\n",
       "      <th>node_state</th>\n",
       "      <th>cloud_instance_address</th>\n",
       "      <th>cloud_instance_id</th>\n",
       "      <th>cloud_instance_name</th>\n",
       "      <th>volumes</th>\n",
       "    </tr>\n",
       "  </thead>\n",
       "  <tbody>\n",
       "    <tr>\n",
       "      <th>0</th>\n",
       "      <td>36</td>\n",
       "      <td>handson101</td>\n",
       "      <td>aws-server</td>\n",
       "      <td>RUNNING</td>\n",
       "      <td>1</td>\n",
       "      <td>d983afca...</td>\n",
       "      <td>RUNNING</td>\n",
       "      <td>172.30.2.26</td>\n",
       "      <td>i-002140ab6e2fa858a</td>\n",
       "      <td>VCP-020661f0-2402ae36</td>\n",
       "      <td>none</td>\n",
       "    </tr>\n",
       "    <tr>\n",
       "      <th>1</th>\n",
       "      <td>36</td>\n",
       "      <td>handson101</td>\n",
       "      <td>aws-server</td>\n",
       "      <td>RUNNING</td>\n",
       "      <td>2</td>\n",
       "      <td>f0fca9b0...</td>\n",
       "      <td>RUNNING</td>\n",
       "      <td>172.30.2.103</td>\n",
       "      <td>i-0ea151280eca0580f</td>\n",
       "      <td>VCP-020661f0-2402ae36</td>\n",
       "      <td>none</td>\n",
       "    </tr>\n",
       "  </tbody>\n",
       "</table>\n",
       "</div>"
      ],
      "text/plain": [
       "   vcno      vcname   unit_name unit_state  node_no      node_id node_state  \\\n",
       "0    36  handson101  aws-server    RUNNING        1  d983afca...    RUNNING   \n",
       "1    36  handson101  aws-server    RUNNING        2  f0fca9b0...    RUNNING   \n",
       "\n",
       "  cloud_instance_address    cloud_instance_id    cloud_instance_name volumes  \n",
       "0            172.30.2.26  i-002140ab6e2fa858a  VCP-020661f0-2402ae36    none  \n",
       "1           172.30.2.103  i-0ea151280eca0580f  VCP-020661f0-2402ae36    none  "
      ]
     },
     "execution_count": 31,
     "metadata": {},
     "output_type": "execute_result"
    }
   ],
   "source": [
    "unit.df_nodes()"
   ]
  },
  {
   "cell_type": "markdown",
   "metadata": {
    "lc_cell_meme": {
     "current": "0ffd0c5e-c2e0-11e8-9925-0242ac110002",
     "next": "0ffd0cfe-c2e0-11e8-9925-0242ac110002",
     "previous": "0ffd0bb4-c2e0-11e8-9925-0242ac110002"
    }
   },
   "source": [
    "VCノード対して `ping` を行ってみます。"
   ]
  },
  {
   "cell_type": "code",
   "execution_count": 32,
   "metadata": {
    "deletable": false,
    "editable": false,
    "lc_cell_meme": {
     "current": "0ffd0cfe-c2e0-11e8-9925-0242ac110002",
     "next": "0ffd0d94-c2e0-11e8-9925-0242ac110002",
     "previous": "0ffd0c5e-c2e0-11e8-9925-0242ac110002"
    },
    "run_through_control": {
     "frozen": true
    },
    "scrolled": true
   },
   "outputs": [
    {
     "name": "stdout",
     "output_type": "stream",
     "text": [
      "['172.30.2.26', '172.30.2.103']\n",
      "PING 172.30.2.26 (172.30.2.26): 56 data bytes\n",
      "64 bytes from 172.30.2.26: icmp_seq=0 ttl=63 time=0.356 ms\n",
      "64 bytes from 172.30.2.26: icmp_seq=1 ttl=63 time=0.277 ms\n",
      "64 bytes from 172.30.2.26: icmp_seq=2 ttl=63 time=0.283 ms\n",
      "64 bytes from 172.30.2.26: icmp_seq=3 ttl=63 time=0.336 ms\n",
      "64 bytes from 172.30.2.26: icmp_seq=4 ttl=63 time=0.265 ms\n",
      "--- 172.30.2.26 ping statistics ---\n",
      "5 packets transmitted, 5 packets received, 0% packet loss\n",
      "round-trip min/avg/max/stddev = 0.265/0.303/0.356/0.036 ms\n",
      "\n",
      "PING 172.30.2.103 (172.30.2.103): 56 data bytes\n",
      "64 bytes from 172.30.2.103: icmp_seq=0 ttl=63 time=0.479 ms\n",
      "64 bytes from 172.30.2.103: icmp_seq=1 ttl=63 time=0.295 ms\n",
      "64 bytes from 172.30.2.103: icmp_seq=2 ttl=63 time=0.377 ms\n",
      "64 bytes from 172.30.2.103: icmp_seq=3 ttl=63 time=0.287 ms\n",
      "64 bytes from 172.30.2.103: icmp_seq=4 ttl=63 time=0.296 ms\n",
      "--- 172.30.2.103 ping statistics ---\n",
      "5 packets transmitted, 5 packets received, 0% packet loss\n",
      "round-trip min/avg/max/stddev = 0.287/0.347/0.479/0.074 ms\n",
      "\n"
     ]
    }
   ],
   "source": [
    "# Unit内のVCノードのIPアドレスのリストを取得する\n",
    "ip_address = unit.find_ip_addresses()\n",
    "print(ip_address)\n",
    "\n",
    "# それぞれのIPアドレスに対して pingコマンドを実行する\n",
    "for address in ip_address:\n",
    "    !ping -c 5 {address}\n",
    "    print()"
   ]
  },
  {
   "cell_type": "markdown",
   "metadata": {
    "lc_cell_meme": {
     "current": "0ffd0d94-c2e0-11e8-9925-0242ac110002",
     "next": "0ffd0e3e-c2e0-11e8-9925-0242ac110002",
     "previous": "0ffd0cfe-c2e0-11e8-9925-0242ac110002"
    }
   },
   "source": [
    "追加で起動した VCノード は同じ Unit に属しているため同じ構成(cpu, memory, disk)になっています。そのことを確認するために、sshでログインして以下のコマンドを実行してみます。\n",
    "\n",
    "* カーネルバージョン\n",
    "  - uname -a\n",
    "* CPU\n",
    "  - cat /proc/cpuinfo\n",
    "* メモリ量\n",
    "  - free\n",
    "* ディスク容量\n",
    "  - df -h\n",
    "  \n",
    "> ただし aws では同じインスタンスタイプに複数種類の CPU が混在していることがあり CPU が微妙に異なることがあります。"
   ]
  },
  {
   "cell_type": "code",
   "execution_count": 33,
   "metadata": {
    "deletable": false,
    "editable": false,
    "lc_cell_meme": {
     "current": "0ffd0e3e-c2e0-11e8-9925-0242ac110002",
     "next": "0ffd0ede-c2e0-11e8-9925-0242ac110002",
     "previous": "0ffd0d94-c2e0-11e8-9925-0242ac110002"
    },
    "run_through_control": {
     "frozen": true
    },
    "scrolled": true
   },
   "outputs": [
    {
     "name": "stdout",
     "output_type": "stream",
     "text": [
      "172.30.2.26:\n",
      "Linux ip-172-30-2-26 4.4.0-67-generic #88-Ubuntu SMP Wed Mar 8 16:34:45 UTC 2017 x86_64 Linux\n",
      "\n",
      "172.30.2.103:\n",
      "Linux ip-172-30-2-103 4.4.0-67-generic #88-Ubuntu SMP Wed Mar 8 16:34:45 UTC 2017 x86_64 Linux\n",
      "\n"
     ]
    }
   ],
   "source": [
    "for address in ip_address:\n",
    "    print(address + ':')\n",
    "    !ssh {ssh_opts} root@{address} uname -a\n",
    "    print()"
   ]
  },
  {
   "cell_type": "code",
   "execution_count": 34,
   "metadata": {
    "deletable": false,
    "editable": false,
    "lc_cell_meme": {
     "current": "0ffd0ede-c2e0-11e8-9925-0242ac110002",
     "next": "0ffd0f7e-c2e0-11e8-9925-0242ac110002",
     "previous": "0ffd0e3e-c2e0-11e8-9925-0242ac110002"
    },
    "run_through_control": {
     "frozen": true
    }
   },
   "outputs": [
    {
     "name": "stdout",
     "output_type": "stream",
     "text": [
      "172.30.2.26:\n",
      "model name\t: Intel(R) Xeon(R) CPU E5-2686 v4 @ 2.30GHz\n",
      "model name\t: Intel(R) Xeon(R) CPU E5-2686 v4 @ 2.30GHz\n",
      "\n",
      "172.30.2.103:\n",
      "model name\t: Intel(R) Xeon(R) CPU E5-2686 v4 @ 2.30GHz\n",
      "model name\t: Intel(R) Xeon(R) CPU E5-2686 v4 @ 2.30GHz\n",
      "\n"
     ]
    }
   ],
   "source": [
    "for address in ip_address:\n",
    "    print(address + ':')\n",
    "    !ssh {ssh_opts} root@{address} cat /proc/cpuinfo | grep 'model name'\n",
    "    print()"
   ]
  },
  {
   "cell_type": "code",
   "execution_count": 35,
   "metadata": {
    "deletable": false,
    "editable": false,
    "lc_cell_meme": {
     "current": "0ffd0f7e-c2e0-11e8-9925-0242ac110002",
     "next": "0ffd1014-c2e0-11e8-9925-0242ac110002",
     "previous": "0ffd0ede-c2e0-11e8-9925-0242ac110002"
    },
    "run_through_control": {
     "frozen": true
    }
   },
   "outputs": [
    {
     "name": "stdout",
     "output_type": "stream",
     "text": [
      "172.30.2.26:\n",
      "             total       used       free     shared    buffers     cached\n",
      "Mem:       8173656     797956    7375700      12548      41444     510024\n",
      "-/+ buffers/cache:     246488    7927168\n",
      "Swap:            0          0          0\n",
      "\n",
      "172.30.2.103:\n",
      "             total       used       free     shared    buffers     cached\n",
      "Mem:       8173656     752488    7421168      12548      25040     497356\n",
      "-/+ buffers/cache:     230092    7943564\n",
      "Swap:            0          0          0\n",
      "\n"
     ]
    }
   ],
   "source": [
    "for address in ip_address:\n",
    "    print(address + ':')\n",
    "    !ssh {ssh_opts} root@{address} free\n",
    "    print()"
   ]
  },
  {
   "cell_type": "code",
   "execution_count": 36,
   "metadata": {
    "deletable": false,
    "editable": false,
    "lc_cell_meme": {
     "current": "0ffd1014-c2e0-11e8-9925-0242ac110002",
     "next": "0ffd10aa-c2e0-11e8-9925-0242ac110002",
     "previous": "0ffd0f7e-c2e0-11e8-9925-0242ac110002"
    },
    "run_through_control": {
     "frozen": true
    }
   },
   "outputs": [
    {
     "name": "stdout",
     "output_type": "stream",
     "text": [
      "172.30.2.26:\n",
      "Filesystem                Size      Used Available Use% Mounted on\n",
      "none                     14.6G      1.8G     12.1G  13% /\n",
      "tmpfs                     3.9G         0      3.9G   0% /sys/fs/cgroup\n",
      "udev                      3.9G         0      3.9G   0% /dev\n",
      "tmpfs                    64.0M         0     64.0M   0% /dev/shm\n",
      "/dev/xvda1               14.6G      1.8G     12.1G  13% /etc/resolv.conf\n",
      "/dev/xvda1               14.6G      1.8G     12.1G  13% /etc/hostname\n",
      "/dev/xvda1               14.6G      1.8G     12.1G  13% /etc/hosts\n",
      "shm                      64.0M         0     64.0M   0% /dev/shm\n",
      "/dev/xvda1               14.6G      1.8G     12.1G  13% /var/lib/docker\n",
      "none                      3.9G         0      3.9G   0% /tmp\n",
      "/dev/xvda1               14.6G      1.8G     12.1G  13% /var/lib/docker/aufs\n",
      "\n",
      "172.30.2.103:\n",
      "Filesystem                Size      Used Available Use% Mounted on\n",
      "none                     14.6G      1.8G     12.1G  13% /\n",
      "tmpfs                     3.9G         0      3.9G   0% /sys/fs/cgroup\n",
      "udev                      3.9G         0      3.9G   0% /dev\n",
      "tmpfs                    64.0M         0     64.0M   0% /dev/shm\n",
      "/dev/xvda1               14.6G      1.8G     12.1G  13% /etc/resolv.conf\n",
      "/dev/xvda1               14.6G      1.8G     12.1G  13% /etc/hostname\n",
      "/dev/xvda1               14.6G      1.8G     12.1G  13% /etc/hosts\n",
      "shm                      64.0M         0     64.0M   0% /dev/shm\n",
      "/dev/xvda1               14.6G      1.8G     12.1G  13% /var/lib/docker\n",
      "none                      3.9G         0      3.9G   0% /tmp\n",
      "/dev/xvda1               14.6G      1.8G     12.1G  13% /var/lib/docker/aufs\n",
      "\n"
     ]
    }
   ],
   "source": [
    "for address in ip_address:\n",
    "    print(address + ':')\n",
    "    !ssh {ssh_opts} root@{address} df -h\n",
    "    print()"
   ]
  },
  {
   "cell_type": "markdown",
   "metadata": {
    "lc_cell_meme": {
     "current": "0ffd10aa-c2e0-11e8-9925-0242ac110002",
     "next": "0ffd1140-c2e0-11e8-9925-0242ac110002",
     "previous": "0ffd1014-c2e0-11e8-9925-0242ac110002"
    }
   },
   "source": [
    "先程と同様に、負荷をかけるためにそれぞれのVCノードでアプリケーションコンテナによる stress コマンドの実行を行います。"
   ]
  },
  {
   "cell_type": "code",
   "execution_count": 37,
   "metadata": {
    "deletable": false,
    "editable": false,
    "lc_cell_meme": {
     "current": "0ffd1140-c2e0-11e8-9925-0242ac110002",
     "next": "0ffd11d6-c2e0-11e8-9925-0242ac110002",
     "previous": "0ffd10aa-c2e0-11e8-9925-0242ac110002"
    },
    "run_through_control": {
     "frozen": true
    }
   },
   "outputs": [
    {
     "name": "stdout",
     "output_type": "stream",
     "text": [
      "52b9cec887b16d645039e9cb5c202c0ecafac81cd691994b29c80235df279407\n",
      "Unable to find image 'polinux/stress:latest' locally\n",
      "latest: Pulling from polinux/stress\n",
      "627beaf3eaaf: Pulling fs layer\n",
      "4de9f469a6f4: Pulling fs layer\n",
      "627beaf3eaaf: Verifying Checksum\n",
      "627beaf3eaaf: Download complete\n",
      "4de9f469a6f4: Verifying Checksum\n",
      "4de9f469a6f4: Download complete\n",
      "627beaf3eaaf: Pull complete\n",
      "4de9f469a6f4: Pull complete\n",
      "Digest: sha256:6d1825288ddb6b3cec8d3ac8a488c8ec2449334512ecb938483fc2b25cbbdb9a\n",
      "Status: Downloaded newer image for polinux/stress:latest\n",
      "9aec4e17c4b8ce0dbe4d71a9b6009635146673299db27218728f598fca380a7c\n"
     ]
    }
   ],
   "source": [
    "for idx, address in enumerate(ip_address):\n",
    "    # 60秒間だけ CPU x 2 とメモリ 128 MB を消費する\n",
    "    !ssh {ssh_opts} root@{address} \\\n",
    "        /usr/local/bin/docker run -td --rm --name stress-{idx} polinux/stress \\\n",
    "        stress --cpu 2 --io 1 --vm 2 --vm-bytes 128M --timeout 60s --verbose"
   ]
  },
  {
   "cell_type": "markdown",
   "metadata": {
    "lc_cell_meme": {
     "current": "0ffd11d6-c2e0-11e8-9925-0242ac110002",
     "next": "0ffd1276-c2e0-11e8-9925-0242ac110002",
     "previous": "0ffd1140-c2e0-11e8-9925-0242ac110002"
    }
   },
   "source": [
    "[Grafana](/grafana/d/handson/vcp-metrics?refresh=5s)で利用状況を確認してみます。"
   ]
  },
  {
   "cell_type": "markdown",
   "metadata": {
    "lc_cell_meme": {
     "current": "0ffd1276-c2e0-11e8-9925-0242ac110002",
     "next": "0ffd130c-c2e0-11e8-9925-0242ac110002",
     "previous": "0ffd11d6-c2e0-11e8-9925-0242ac110002"
    }
   },
   "source": [
    "## VCノードのスケールイン\n",
    "\n",
    "現在Unitには２つのVCノードがありますが、そのうちの一つを削除してみます。"
   ]
  },
  {
   "cell_type": "markdown",
   "metadata": {
    "lc_cell_meme": {
     "current": "0ffd130c-c2e0-11e8-9925-0242ac110002",
     "next": "0ffd13a2-c2e0-11e8-9925-0242ac110002",
     "previous": "0ffd1276-c2e0-11e8-9925-0242ac110002"
    }
   },
   "source": [
    "まず、現在のVCノードの状況を確認しておきます。"
   ]
  },
  {
   "cell_type": "code",
   "execution_count": 38,
   "metadata": {
    "deletable": false,
    "editable": false,
    "lc_cell_meme": {
     "current": "0ffd13a2-c2e0-11e8-9925-0242ac110002",
     "next": "0ffd1438-c2e0-11e8-9925-0242ac110002",
     "previous": "0ffd130c-c2e0-11e8-9925-0242ac110002"
    },
    "run_through_control": {
     "frozen": true
    },
    "scrolled": true
   },
   "outputs": [
    {
     "data": {
      "text/html": [
       "<div>\n",
       "<style>\n",
       "    .dataframe thead tr:only-child th {\n",
       "        text-align: right;\n",
       "    }\n",
       "\n",
       "    .dataframe thead th {\n",
       "        text-align: left;\n",
       "    }\n",
       "\n",
       "    .dataframe tbody tr th {\n",
       "        vertical-align: top;\n",
       "    }\n",
       "</style>\n",
       "<table border=\"1\" class=\"dataframe\">\n",
       "  <thead>\n",
       "    <tr style=\"text-align: right;\">\n",
       "      <th></th>\n",
       "      <th>vcno</th>\n",
       "      <th>vcname</th>\n",
       "      <th>unit_name</th>\n",
       "      <th>unit_state</th>\n",
       "      <th>node_no</th>\n",
       "      <th>node_id</th>\n",
       "      <th>node_state</th>\n",
       "      <th>cloud_instance_address</th>\n",
       "      <th>cloud_instance_id</th>\n",
       "      <th>cloud_instance_name</th>\n",
       "      <th>volumes</th>\n",
       "    </tr>\n",
       "  </thead>\n",
       "  <tbody>\n",
       "    <tr>\n",
       "      <th>0</th>\n",
       "      <td>36</td>\n",
       "      <td>handson101</td>\n",
       "      <td>aws-server</td>\n",
       "      <td>RUNNING</td>\n",
       "      <td>1</td>\n",
       "      <td>d983afca...</td>\n",
       "      <td>RUNNING</td>\n",
       "      <td>172.30.2.26</td>\n",
       "      <td>i-002140ab6e2fa858a</td>\n",
       "      <td>VCP-020661f0-2402ae36</td>\n",
       "      <td>none</td>\n",
       "    </tr>\n",
       "    <tr>\n",
       "      <th>1</th>\n",
       "      <td>36</td>\n",
       "      <td>handson101</td>\n",
       "      <td>aws-server</td>\n",
       "      <td>RUNNING</td>\n",
       "      <td>2</td>\n",
       "      <td>f0fca9b0...</td>\n",
       "      <td>RUNNING</td>\n",
       "      <td>172.30.2.103</td>\n",
       "      <td>i-0ea151280eca0580f</td>\n",
       "      <td>VCP-020661f0-2402ae36</td>\n",
       "      <td>none</td>\n",
       "    </tr>\n",
       "  </tbody>\n",
       "</table>\n",
       "</div>"
      ],
      "text/plain": [
       "   vcno      vcname   unit_name unit_state  node_no      node_id node_state  \\\n",
       "0    36  handson101  aws-server    RUNNING        1  d983afca...    RUNNING   \n",
       "1    36  handson101  aws-server    RUNNING        2  f0fca9b0...    RUNNING   \n",
       "\n",
       "  cloud_instance_address    cloud_instance_id    cloud_instance_name volumes  \n",
       "0            172.30.2.26  i-002140ab6e2fa858a  VCP-020661f0-2402ae36    none  \n",
       "1           172.30.2.103  i-0ea151280eca0580f  VCP-020661f0-2402ae36    none  "
      ]
     },
     "execution_count": 38,
     "metadata": {},
     "output_type": "execute_result"
    }
   ],
   "source": [
    "# VCノードの一覧を DataFrame で表示する\n",
    "unit.df_nodes()"
   ]
  },
  {
   "cell_type": "markdown",
   "metadata": {
    "lc_cell_meme": {
     "current": "0ffd1438-c2e0-11e8-9925-0242ac110002",
     "next": "0ffd14ce-c2e0-11e8-9925-0242ac110002",
     "previous": "0ffd13a2-c2e0-11e8-9925-0242ac110002"
    }
   },
   "source": [
    "Unit から VCノードを削除するにはオブジェクト`unit`に対して `delete_nodes()` を呼び出します。\n",
    "\n",
    "複数の VCノード のうちどのVCノード を削除するかを引数で指定することができます。ここでは`ip_address`パラメータを指定してVCノードに割り当てられている IPアドレスで VCノードを特定します。\n",
    "\n",
    "> VCノードを特定するパラメータが指定されなかった場合は削除対象となる VCノードは VCP SDK によって自動的に選択されます。\n",
    "\n",
    "VCノードを特定するための他のパラメータに指定方法については次のセルを実行すると表示される情報で確認してください。"
   ]
  },
  {
   "cell_type": "code",
   "execution_count": 39,
   "metadata": {
    "deletable": false,
    "editable": false,
    "lc_cell_meme": {
     "current": "0ffd14ce-c2e0-11e8-9925-0242ac110002",
     "next": "0ffd156e-c2e0-11e8-9925-0242ac110002",
     "previous": "0ffd1438-c2e0-11e8-9925-0242ac110002"
    },
    "run_through_control": {
     "frozen": true
    }
   },
   "outputs": [],
   "source": [
    "?unit.delete_nodes"
   ]
  },
  {
   "cell_type": "markdown",
   "metadata": {
    "lc_cell_meme": {
     "current": "0ffd156e-c2e0-11e8-9925-0242ac110002",
     "next": "0ffd160e-c2e0-11e8-9925-0242ac110002",
     "previous": "0ffd14ce-c2e0-11e8-9925-0242ac110002"
    }
   },
   "source": [
    "では実際にVCノードを削除します。まず削除対象とするVCノードのIPアドレスを確認します。スケールアウトの節で追加したVCノードのIPアドレスを指定することにします。"
   ]
  },
  {
   "cell_type": "code",
   "execution_count": 40,
   "metadata": {
    "deletable": false,
    "editable": false,
    "lc_cell_meme": {
     "current": "0ffd160e-c2e0-11e8-9925-0242ac110002",
     "next": "0ffd16a4-c2e0-11e8-9925-0242ac110002",
     "previous": "0ffd156e-c2e0-11e8-9925-0242ac110002"
    },
    "run_through_control": {
     "frozen": true
    }
   },
   "outputs": [
    {
     "name": "stdout",
     "output_type": "stream",
     "text": [
      "172.30.2.103\n"
     ]
    }
   ],
   "source": [
    "# 削除対象とするVCノードの IPアドレスを表示 \n",
    "print(ip_address[-1])                         # 後から追加した VCノード を削除対象とする"
   ]
  },
  {
   "cell_type": "markdown",
   "metadata": {
    "lc_cell_meme": {
     "current": "0ffd16a4-c2e0-11e8-9925-0242ac110002",
     "next": "0ffd1744-c2e0-11e8-9925-0242ac110002",
     "previous": "0ffd160e-c2e0-11e8-9925-0242ac110002"
    }
   },
   "source": [
    "次のセルを実行すると VCノード が Unit から削除されます。\n",
    "\n",
    "> VCノード の削除には 1分～2分程度かかります。"
   ]
  },
  {
   "cell_type": "code",
   "execution_count": 41,
   "metadata": {
    "deletable": false,
    "editable": false,
    "lc_cell_meme": {
     "current": "0ffd1744-c2e0-11e8-9925-0242ac110002",
     "next": "0ffd17da-c2e0-11e8-9925-0242ac110002",
     "previous": "0ffd16a4-c2e0-11e8-9925-0242ac110002"
    },
    "run_through_control": {
     "frozen": true
    },
    "scrolled": true
   },
   "outputs": [
    {
     "name": "stdout",
     "output_type": "stream",
     "text": [
      "2018-09-28 14:50:01,775 - INFO - INDEFINITE ... 0 sec\n",
      "2018-09-28 14:50:06,980 - INFO - INDEFINITE ... 5 sec\n",
      "2018-09-28 14:50:12,195 - INFO - INDEFINITE ... 10 sec\n",
      "2018-09-28 14:50:17,408 - INFO - INDEFINITE ... 15 sec\n",
      "2018-09-28 14:50:22,623 - INFO - INDEFINITE ... 20 sec\n",
      "2018-09-28 14:50:27,838 - INFO - INDEFINITE ... 25 sec\n",
      "2018-09-28 14:50:33,050 - INFO - INDEFINITE ... 30 sec\n",
      "2018-09-28 14:50:38,267 - INFO - INDEFINITE ... 35 sec\n",
      "2018-09-28 14:50:43,481 - INFO - INDEFINITE ... 40 sec\n",
      "2018-09-28 14:50:48,698 - INFO - INDEFINITE ... 45 sec\n",
      "2018-09-28 14:50:53,918 - INFO - INDEFINITE ... 50 sec\n",
      "2018-09-28 14:50:59,132 - INFO - unit aws-server is RUNNING\n",
      "2018-09-28 14:50:59,133 - INFO - deleted_node completed.\n"
     ]
    },
    {
     "data": {
      "text/plain": [
       "[<vcplib.occtr.VcNode at 0x7fcf2cb80c50>]"
      ]
     },
     "execution_count": 41,
     "metadata": {},
     "output_type": "execute_result"
    }
   ],
   "source": [
    "# VCノードの削除\n",
    "unit.delete_nodes(\n",
    "    ip_address=ip_address[-1]     # IPアドレスで削除対象を指定する\n",
    ")"
   ]
  },
  {
   "cell_type": "markdown",
   "metadata": {
    "lc_cell_meme": {
     "current": "0ffd17da-c2e0-11e8-9925-0242ac110002",
     "next": "0ffd1870-c2e0-11e8-9925-0242ac110002",
     "previous": "0ffd1744-c2e0-11e8-9925-0242ac110002"
    }
   },
   "source": [
    "Unit内のVCノードの一覧を確認してみます。VCノードが減っていることが確認できるはずです。"
   ]
  },
  {
   "cell_type": "code",
   "execution_count": 42,
   "metadata": {
    "deletable": false,
    "editable": false,
    "lc_cell_meme": {
     "current": "0ffd1870-c2e0-11e8-9925-0242ac110002",
     "next": "0ffd1906-c2e0-11e8-9925-0242ac110002",
     "previous": "0ffd17da-c2e0-11e8-9925-0242ac110002"
    },
    "run_through_control": {
     "frozen": true
    },
    "scrolled": false
   },
   "outputs": [
    {
     "data": {
      "text/html": [
       "<div>\n",
       "<style>\n",
       "    .dataframe thead tr:only-child th {\n",
       "        text-align: right;\n",
       "    }\n",
       "\n",
       "    .dataframe thead th {\n",
       "        text-align: left;\n",
       "    }\n",
       "\n",
       "    .dataframe tbody tr th {\n",
       "        vertical-align: top;\n",
       "    }\n",
       "</style>\n",
       "<table border=\"1\" class=\"dataframe\">\n",
       "  <thead>\n",
       "    <tr style=\"text-align: right;\">\n",
       "      <th></th>\n",
       "      <th>vcno</th>\n",
       "      <th>vcname</th>\n",
       "      <th>unit_name</th>\n",
       "      <th>unit_state</th>\n",
       "      <th>node_no</th>\n",
       "      <th>node_id</th>\n",
       "      <th>node_state</th>\n",
       "      <th>cloud_instance_address</th>\n",
       "      <th>cloud_instance_id</th>\n",
       "      <th>cloud_instance_name</th>\n",
       "      <th>volumes</th>\n",
       "    </tr>\n",
       "  </thead>\n",
       "  <tbody>\n",
       "    <tr>\n",
       "      <th>0</th>\n",
       "      <td>36</td>\n",
       "      <td>handson101</td>\n",
       "      <td>aws-server</td>\n",
       "      <td>RUNNING</td>\n",
       "      <td>1</td>\n",
       "      <td>d983afca...</td>\n",
       "      <td>RUNNING</td>\n",
       "      <td>172.30.2.26</td>\n",
       "      <td>i-002140ab6e2fa858a</td>\n",
       "      <td>VCP-020661f0-2402ae36</td>\n",
       "      <td>none</td>\n",
       "    </tr>\n",
       "  </tbody>\n",
       "</table>\n",
       "</div>"
      ],
      "text/plain": [
       "   vcno      vcname   unit_name unit_state  node_no      node_id node_state  \\\n",
       "0    36  handson101  aws-server    RUNNING        1  d983afca...    RUNNING   \n",
       "\n",
       "  cloud_instance_address    cloud_instance_id    cloud_instance_name volumes  \n",
       "0            172.30.2.26  i-002140ab6e2fa858a  VCP-020661f0-2402ae36    none  "
      ]
     },
     "execution_count": 42,
     "metadata": {},
     "output_type": "execute_result"
    }
   ],
   "source": [
    "unit.df_nodes()"
   ]
  },
  {
   "cell_type": "markdown",
   "metadata": {
    "lc_cell_meme": {
     "current": "0ffd1906-c2e0-11e8-9925-0242ac110002",
     "next": "0ffd199c-c2e0-11e8-9925-0242ac110002",
     "previous": "0ffd1870-c2e0-11e8-9925-0242ac110002"
    }
   },
   "source": [
    "先ほど取得した２つのVCノードのIPアドレスに対して `ping` を行ってみます。\n",
    "削除されている VCノード に対する `ping` が失敗するので、次のセルは必ずエラーになるはずです。"
   ]
  },
  {
   "cell_type": "code",
   "execution_count": 43,
   "metadata": {
    "lc_cell_meme": {
     "current": "0ffd199c-c2e0-11e8-9925-0242ac110002",
     "next": "0ffd1a46-c2e0-11e8-9925-0242ac110002",
     "previous": "0ffd1906-c2e0-11e8-9925-0242ac110002"
    },
    "scrolled": true
   },
   "outputs": [
    {
     "name": "stdout",
     "output_type": "stream",
     "text": [
      "PING 172.30.2.26 (172.30.2.26): 56 data bytes\n",
      "64 bytes from 172.30.2.26: icmp_seq=0 ttl=63 time=0.276 ms\n",
      "64 bytes from 172.30.2.26: icmp_seq=1 ttl=63 time=0.288 ms\n",
      "64 bytes from 172.30.2.26: icmp_seq=2 ttl=63 time=0.254 ms\n",
      "64 bytes from 172.30.2.26: icmp_seq=3 ttl=63 time=0.268 ms\n",
      "64 bytes from 172.30.2.26: icmp_seq=4 ttl=63 time=0.277 ms\n",
      "--- 172.30.2.26 ping statistics ---\n",
      "5 packets transmitted, 5 packets received, 0% packet loss\n",
      "round-trip min/avg/max/stddev = 0.254/0.273/0.288/0.000 ms\n",
      "PING 172.30.2.103 (172.30.2.103): 56 data bytes\n",
      "--- 172.30.2.103 ping statistics ---\n",
      "5 packets transmitted, 0 packets received, 100% packet loss\n"
     ]
    },
    {
     "ename": "RuntimeError",
     "evalue": "Unexpected exit code: 1",
     "output_type": "error",
     "traceback": [
      "\u001b[0;31m---------------------------------------------------------------------------\u001b[0m",
      "\u001b[0;31mRuntimeError\u001b[0m                              Traceback (most recent call last)",
      "\u001b[0;32m<ipython-input-43-872b43d69686>\u001b[0m in \u001b[0;36m<module>\u001b[0;34m()\u001b[0m\n\u001b[1;32m      1\u001b[0m \u001b[0;32mfor\u001b[0m \u001b[0maddress\u001b[0m \u001b[0;32min\u001b[0m \u001b[0mip_address\u001b[0m\u001b[0;34m:\u001b[0m\u001b[0;34m\u001b[0m\u001b[0m\n\u001b[0;32m----> 2\u001b[0;31m     \u001b[0mget_ipython\u001b[0m\u001b[0;34m(\u001b[0m\u001b[0;34m)\u001b[0m\u001b[0;34m.\u001b[0m\u001b[0msystem\u001b[0m\u001b[0;34m(\u001b[0m\u001b[0;34m'ping -c 5 {address}'\u001b[0m\u001b[0;34m)\u001b[0m\u001b[0;34m\u001b[0m\u001b[0m\n\u001b[0m",
      "\u001b[0;32m~/.ipython/profile_default/startup/10-custom-get_ipython_system.py\u001b[0m in \u001b[0;36m<lambda>\u001b[0;34m(x)\u001b[0m\n\u001b[1;32m      5\u001b[0m \u001b[0;34m\u001b[0m\u001b[0m\n\u001b[1;32m      6\u001b[0m \u001b[0msave_get_ipython_system\u001b[0m \u001b[0;34m=\u001b[0m \u001b[0mget_ipython\u001b[0m\u001b[0;34m(\u001b[0m\u001b[0;34m)\u001b[0m\u001b[0;34m.\u001b[0m\u001b[0msystem\u001b[0m\u001b[0;34m\u001b[0m\u001b[0m\n\u001b[0;32m----> 7\u001b[0;31m \u001b[0mget_ipython\u001b[0m\u001b[0;34m(\u001b[0m\u001b[0;34m)\u001b[0m\u001b[0;34m.\u001b[0m\u001b[0msystem\u001b[0m \u001b[0;34m=\u001b[0m \u001b[0;32mlambda\u001b[0m \u001b[0mx\u001b[0m\u001b[0;34m:\u001b[0m \u001b[0mget_ipython_system\u001b[0m\u001b[0;34m(\u001b[0m\u001b[0mx\u001b[0m\u001b[0;34m)\u001b[0m\u001b[0;34m\u001b[0m\u001b[0m\n\u001b[0m\u001b[1;32m      8\u001b[0m \u001b[0;34m\u001b[0m\u001b[0m\n\u001b[1;32m      9\u001b[0m \u001b[0;31m# interactiveshell.py's system_piped() function comment saids:\u001b[0m\u001b[0;34m\u001b[0m\u001b[0;34m\u001b[0m\u001b[0m\n",
      "\u001b[0;32m~/.ipython/profile_default/startup/10-custom-get_ipython_system.py\u001b[0m in \u001b[0;36mget_ipython_system\u001b[0;34m(cmd)\u001b[0m\n\u001b[1;32m     13\u001b[0m     \u001b[0msave_get_ipython_system\u001b[0m\u001b[0;34m(\u001b[0m\u001b[0mcmd\u001b[0m\u001b[0;34m)\u001b[0m\u001b[0;34m\u001b[0m\u001b[0m\n\u001b[1;32m     14\u001b[0m     \u001b[0;32mif\u001b[0m \u001b[0mget_ipython\u001b[0m\u001b[0;34m(\u001b[0m\u001b[0;34m)\u001b[0m\u001b[0;34m.\u001b[0m\u001b[0muser_ns\u001b[0m\u001b[0;34m[\u001b[0m\u001b[0;34m'_exit_code'\u001b[0m\u001b[0;34m]\u001b[0m \u001b[0;34m!=\u001b[0m \u001b[0;36m0\u001b[0m\u001b[0;34m:\u001b[0m\u001b[0;34m\u001b[0m\u001b[0m\n\u001b[0;32m---> 15\u001b[0;31m         \u001b[0;32mraise\u001b[0m \u001b[0mRuntimeError\u001b[0m\u001b[0;34m(\u001b[0m\u001b[0;34m'Unexpected exit code: %d'\u001b[0m \u001b[0;34m%\u001b[0m \u001b[0mget_ipython\u001b[0m\u001b[0;34m(\u001b[0m\u001b[0;34m)\u001b[0m\u001b[0;34m.\u001b[0m\u001b[0muser_ns\u001b[0m\u001b[0;34m[\u001b[0m\u001b[0;34m'_exit_code'\u001b[0m\u001b[0;34m]\u001b[0m\u001b[0;34m)\u001b[0m\u001b[0;34m\u001b[0m\u001b[0m\n\u001b[0m",
      "\u001b[0;31mRuntimeError\u001b[0m: Unexpected exit code: 1"
     ]
    }
   ],
   "source": [
    "for address in ip_address:\n",
    "    !ping -c 5 {address}"
   ]
  },
  {
   "cell_type": "markdown",
   "metadata": {
    "lc_cell_meme": {
     "current": "0ffd1a46-c2e0-11e8-9925-0242ac110002",
     "history": [
      {
       "current": "0ffd1a46-c2e0-11e8-9925-0242ac110002",
       "next": "0ffd1adc-c2e0-11e8-9925-0242ac110002",
       "previous": "0ffd199c-c2e0-11e8-9925-0242ac110002"
      }
     ],
     "next": "6b8a4206-c2e2-11e8-9925-0242ac110002",
     "previous": "0ffd199c-c2e0-11e8-9925-0242ac110002"
    }
   },
   "source": [
    "# 別のクラウド(Microsoft Azure)でVCノードを起動する"
   ]
  },
  {
   "attachments": {},
   "cell_type": "markdown",
   "metadata": {
    "lc_cell_meme": {
     "current": "6b8a4206-c2e2-11e8-9925-0242ac110002",
     "history": [
      {
       "current": "6b8a4206-c2e2-11e8-9925-0242ac110002",
       "next": "0ffd1adc-c2e0-11e8-9925-0242ac110002",
       "previous": "0ffd1a46-c2e0-11e8-9925-0242ac110002"
      }
     ],
     "next": "0ffd1b72-c2e0-11e8-9925-0242ac110002",
     "previous": "0ffd1a46-c2e0-11e8-9925-0242ac110002"
    }
   },
   "source": [
    "![azure](images/101-005.png)"
   ]
  },
  {
   "cell_type": "markdown",
   "metadata": {
    "lc_cell_meme": {
     "current": "0ffd1b72-c2e0-11e8-9925-0242ac110002",
     "history": [
      {
       "current": "0ffd1b72-c2e0-11e8-9925-0242ac110002",
       "next": "0ffd1c08-c2e0-11e8-9925-0242ac110002",
       "previous": "0ffd1adc-c2e0-11e8-9925-0242ac110002"
      }
     ],
     "next": "0ffd1c08-c2e0-11e8-9925-0242ac110002",
     "previous": "6b8a4206-c2e2-11e8-9925-0242ac110002"
    }
   },
   "source": [
    "## Unit の追加"
   ]
  },
  {
   "cell_type": "markdown",
   "metadata": {
    "lc_cell_meme": {
     "current": "0ffd1c08-c2e0-11e8-9925-0242ac110002",
     "next": "0ffd1c9e-c2e0-11e8-9925-0242ac110002",
     "previous": "0ffd1b72-c2e0-11e8-9925-0242ac110002"
    }
   },
   "source": [
    "先程とは異なる構成のVCノードを追加するので、新たな Unit を作成します。"
   ]
  },
  {
   "cell_type": "markdown",
   "metadata": {
    "lc_cell_meme": {
     "current": "0ffd1c9e-c2e0-11e8-9925-0242ac110002",
     "next": "0ffd1d3e-c2e0-11e8-9925-0242ac110002",
     "previous": "0ffd1c08-c2e0-11e8-9925-0242ac110002"
    }
   },
   "source": [
    "### VCノードのspecを指定する"
   ]
  },
  {
   "cell_type": "markdown",
   "metadata": {
    "lc_cell_meme": {
     "current": "0ffd1d3e-c2e0-11e8-9925-0242ac110002",
     "next": "0ffd1dd4-c2e0-11e8-9925-0242ac110002",
     "previous": "0ffd1c9e-c2e0-11e8-9925-0242ac110002"
    }
   },
   "source": [
    "awsの場合と同様 `spec` オブジェクトを作成します。"
   ]
  },
  {
   "cell_type": "markdown",
   "metadata": {
    "lc_cell_meme": {
     "current": "0ffd1dd4-c2e0-11e8-9925-0242ac110002",
     "next": "0ffd1e6a-c2e0-11e8-9925-0242ac110002",
     "previous": "0ffd1d3e-c2e0-11e8-9925-0242ac110002"
    }
   },
   "source": [
    "まずはMicrosoft Azure向け `flavor` の定義内容を確認してみます。"
   ]
  },
  {
   "cell_type": "code",
   "execution_count": 44,
   "metadata": {
    "deletable": false,
    "editable": false,
    "lc_cell_meme": {
     "current": "0ffd1e6a-c2e0-11e8-9925-0242ac110002",
     "next": "0ffd1f00-c2e0-11e8-9925-0242ac110002",
     "previous": "0ffd1dd4-c2e0-11e8-9925-0242ac110002"
    },
    "run_through_control": {
     "frozen": true
    }
   },
   "outputs": [
    {
     "data": {
      "text/html": [
       "<div>\n",
       "<style>\n",
       "    .dataframe thead tr:only-child th {\n",
       "        text-align: right;\n",
       "    }\n",
       "\n",
       "    .dataframe thead th {\n",
       "        text-align: left;\n",
       "    }\n",
       "\n",
       "    .dataframe tbody tr th {\n",
       "        vertical-align: top;\n",
       "    }\n",
       "</style>\n",
       "<table border=\"1\" class=\"dataframe\">\n",
       "  <thead>\n",
       "    <tr style=\"text-align: right;\">\n",
       "      <th></th>\n",
       "      <th>flavor</th>\n",
       "      <th>disk_size_gb</th>\n",
       "      <th>managed_disk_type</th>\n",
       "      <th>vm_size</th>\n",
       "    </tr>\n",
       "  </thead>\n",
       "  <tbody>\n",
       "    <tr>\n",
       "      <th>0</th>\n",
       "      <td>small</td>\n",
       "      <td>40</td>\n",
       "      <td>Standard_LRS</td>\n",
       "      <td>Standard_B1s</td>\n",
       "    </tr>\n",
       "    <tr>\n",
       "      <th>1</th>\n",
       "      <td>medium</td>\n",
       "      <td>100</td>\n",
       "      <td>Standard_LRS</td>\n",
       "      <td>Standard_D3_v2</td>\n",
       "    </tr>\n",
       "    <tr>\n",
       "      <th>2</th>\n",
       "      <td>large</td>\n",
       "      <td>100</td>\n",
       "      <td>Premium_LRS</td>\n",
       "      <td>Standard_D4_v2</td>\n",
       "    </tr>\n",
       "  </tbody>\n",
       "</table>\n",
       "</div>"
      ],
      "text/plain": [
       "   flavor  disk_size_gb managed_disk_type         vm_size\n",
       "0   small            40      Standard_LRS    Standard_B1s\n",
       "1  medium           100      Standard_LRS  Standard_D3_v2\n",
       "2   large           100       Premium_LRS  Standard_D4_v2"
      ]
     },
     "execution_count": 44,
     "metadata": {},
     "output_type": "execute_result"
    }
   ],
   "source": [
    "VcpSDK.df_flavors('azure')"
   ]
  },
  {
   "cell_type": "markdown",
   "metadata": {
    "lc_cell_meme": {
     "current": "0ffd1f00-c2e0-11e8-9925-0242ac110002",
     "next": "0ffd20e0-c2e0-11e8-9925-0242ac110002",
     "previous": "0ffd1e6a-c2e0-11e8-9925-0242ac110002"
    }
   },
   "source": [
    "では、以下のパラメータを指定して `spec`オブジェクトを作成します。\n",
    "* プロバイダ: azure\n",
    "* flavor: medium"
   ]
  },
  {
   "cell_type": "code",
   "execution_count": 45,
   "metadata": {
    "deletable": false,
    "editable": false,
    "lc_cell_meme": {
     "current": "0ffd20e0-c2e0-11e8-9925-0242ac110002",
     "next": "0ffd21b2-c2e0-11e8-9925-0242ac110002",
     "previous": "0ffd1f00-c2e0-11e8-9925-0242ac110002"
    },
    "run_through_control": {
     "frozen": true
    }
   },
   "outputs": [],
   "source": [
    "spec_azure = VcpSDK.get_spec('azure', 'medium')"
   ]
  },
  {
   "cell_type": "markdown",
   "metadata": {
    "lc_cell_meme": {
     "current": "0ffd21b2-c2e0-11e8-9925-0242ac110002",
     "next": "0ffd2252-c2e0-11e8-9925-0242ac110002",
     "previous": "0ffd20e0-c2e0-11e8-9925-0242ac110002"
    }
   },
   "source": [
    "作成した`spec_azure`の設定内容を確認してみます。"
   ]
  },
  {
   "cell_type": "code",
   "execution_count": 46,
   "metadata": {
    "deletable": false,
    "editable": false,
    "lc_cell_meme": {
     "current": "0ffd2252-c2e0-11e8-9925-0242ac110002",
     "next": "0ffd22e8-c2e0-11e8-9925-0242ac110002",
     "previous": "0ffd21b2-c2e0-11e8-9925-0242ac110002"
    },
    "run_through_control": {
     "frozen": true
    },
    "scrolled": false
   },
   "outputs": [
    {
     "name": "stdout",
     "output_type": "stream",
     "text": [
      "\n",
      "========================\n",
      "azure\n",
      "------------------------\n",
      "\n",
      "    cci_version: \"1.0\"\n",
      "    name: \n",
      "    description: \n",
      "    private_network: default\n",
      "    num_nodes: 1\n",
      "    image: vcp/base:1.3\n",
      "    recovery_mode: none\n",
      "    params:\n",
      "        {'e': [], 'v': []}\n",
      "\n",
      "        vm_size: Standard_D3_v2\n",
      "        disk_size_gb: 100\n",
      "        managed_disk_type: Standard_LRS\n",
      "        ext_managed_disk: []\n",
      "        cloud_image: default\n",
      "        ip_address_list: []\n",
      "    tags: \n",
      "        tags: {}\n",
      "========================\n"
     ]
    }
   ],
   "source": [
    "print(spec_azure)"
   ]
  },
  {
   "cell_type": "markdown",
   "metadata": {
    "lc_cell_meme": {
     "current": "0ffd22e8-c2e0-11e8-9925-0242ac110002",
     "next": "0ffd2388-c2e0-11e8-9925-0242ac110002",
     "previous": "0ffd2252-c2e0-11e8-9925-0242ac110002"
    }
   },
   "source": [
    "指定した `flavor`に対応する `vm_size`, `disk_size_gb` などが設定されていることが確認できます。"
   ]
  },
  {
   "cell_type": "markdown",
   "metadata": {
    "lc_cell_meme": {
     "current": "0ffd2388-c2e0-11e8-9925-0242ac110002",
     "next": "0ffd241e-c2e0-11e8-9925-0242ac110002",
     "previous": "0ffd22e8-c2e0-11e8-9925-0242ac110002"
    }
   },
   "source": [
    "### sshの公開鍵設定"
   ]
  },
  {
   "cell_type": "markdown",
   "metadata": {
    "lc_cell_meme": {
     "current": "0ffd241e-c2e0-11e8-9925-0242ac110002",
     "next": "0ffd24be-c2e0-11e8-9925-0242ac110002",
     "previous": "0ffd2388-c2e0-11e8-9925-0242ac110002"
    }
   },
   "source": [
    "VCノードに登録するsshの公開鍵を `spec_azure`に設定します。先ほど aws 向けの`spec`に設定したのと同じ値を指定しています。"
   ]
  },
  {
   "cell_type": "code",
   "execution_count": 47,
   "metadata": {
    "deletable": false,
    "editable": false,
    "lc_cell_meme": {
     "current": "0ffd24be-c2e0-11e8-9925-0242ac110002",
     "next": "0ffd2554-c2e0-11e8-9925-0242ac110002",
     "previous": "0ffd241e-c2e0-11e8-9925-0242ac110002"
    },
    "run_through_control": {
     "frozen": true
    }
   },
   "outputs": [],
   "source": [
    "spec_azure.params_e = ['AUTHORIZED_KEYS={}'.format(b64_ssh_public_key)]"
   ]
  },
  {
   "cell_type": "markdown",
   "metadata": {
    "lc_cell_meme": {
     "current": "0ffd2554-c2e0-11e8-9925-0242ac110002",
     "next": "0ffd25ea-c2e0-11e8-9925-0242ac110002",
     "previous": "0ffd24be-c2e0-11e8-9925-0242ac110002"
    }
   },
   "source": [
    "### specの設定内容を確認する\n",
    "\n",
    "`spec_azure`の設定内容を確認してみます。"
   ]
  },
  {
   "cell_type": "code",
   "execution_count": 48,
   "metadata": {
    "deletable": false,
    "editable": false,
    "lc_cell_meme": {
     "current": "0ffd25ea-c2e0-11e8-9925-0242ac110002",
     "next": "0ffd2680-c2e0-11e8-9925-0242ac110002",
     "previous": "0ffd2554-c2e0-11e8-9925-0242ac110002"
    },
    "run_through_control": {
     "frozen": true
    },
    "scrolled": false
   },
   "outputs": [
    {
     "name": "stdout",
     "output_type": "stream",
     "text": [
      "\n",
      "========================\n",
      "azure\n",
      "------------------------\n",
      "\n",
      "    cci_version: \"1.0\"\n",
      "    name: \n",
      "    description: \n",
      "    private_network: default\n",
      "    num_nodes: 1\n",
      "    image: vcp/base:1.3\n",
      "    recovery_mode: none\n",
      "    params:\n",
      "        {'e': ['AUTHORIZED_KEYS=c3NoLXJzYSBBQUFBQjNOemFDMXljMkVBQUFBREFRQUJBQUFCQVFDdE5KYjBIWkU0SHR0ZjV3WWhhbkQyR2RBZm9Wc0o2eVZOR3JMOWFUQ040SWtXUGZ1a1ZOOFdUTldldHp4T3cwOXlrZlZqQlFZUG9JOWhzOHYzd2hjaHRqZlFneHEvWTBvTWFLNlQ1bmdybmtMZFd6VFcxSFhhZ3A0SFdBTGtvVGNtQkhUaG9lWitKdGdkbS9ham8ySHVNblhqbHY0Y215WDVQZ3JhdU5IVDZoTEJUc2k2NzBkNWFSTTZLY3B1VVc0RS8xMHF1WklQcXhaMzJvQnFxU2V6c1gzVlV2Nnk2Um1Ldzg3eC9FUU1XVUtlemR3bHJuTWpwY3p0TTRSQzVrc0s1QWp6bC9oY3FaOGVOMjhaanVxM3RPRHNWY05SVHdzajdGWTZjaXVsbFhURndzZHhjNjM5U290VmpwWWNZSUpqWGhZTW1mTkNpdFFRamxaNVNVdUgK'], 'v': []}\n",
      "\n",
      "        vm_size: Standard_D3_v2\n",
      "        disk_size_gb: 100\n",
      "        managed_disk_type: Standard_LRS\n",
      "        ext_managed_disk: []\n",
      "        cloud_image: default\n",
      "        ip_address_list: []\n",
      "    tags: \n",
      "        tags: {}\n",
      "========================\n"
     ]
    }
   ],
   "source": [
    "print(spec_azure)"
   ]
  },
  {
   "cell_type": "markdown",
   "metadata": {
    "lc_cell_meme": {
     "current": "0ffd2680-c2e0-11e8-9925-0242ac110002",
     "next": "0ffd2720-c2e0-11e8-9925-0242ac110002",
     "previous": "0ffd25ea-c2e0-11e8-9925-0242ac110002"
    }
   },
   "source": [
    "aws向けに最初に作成した `spec`オブジェクトと`spec_azure`との差分を確認してみます。\n",
    "\n",
    "> `spec`オブジェクトの内部では aws は `instance_type`、azure は`vm_size` などそれぞれのクラウドプロバイダに応じたパラメータが設定されていることが確認できます。"
   ]
  },
  {
   "cell_type": "code",
   "execution_count": 49,
   "metadata": {
    "deletable": false,
    "editable": false,
    "lc_cell_meme": {
     "current": "0ffd2720-c2e0-11e8-9925-0242ac110002",
     "next": "0ffd27b6-c2e0-11e8-9925-0242ac110002",
     "previous": "0ffd2680-c2e0-11e8-9925-0242ac110002"
    },
    "run_through_control": {
     "frozen": true
    },
    "scrolled": true
   },
   "outputs": [
    {
     "name": "stdout",
     "output_type": "stream",
     "text": [
      "--- aws\n",
      "+++ azure\n",
      "@@ -1,10 +1,10 @@\n",
      " \n",
      " ========================\n",
      "-aws\n",
      "+azure\n",
      " ------------------------\n",
      " \n",
      "     cci_version: \"1.0\"\n",
      "-    name: aws-server\n",
      "+    name: \n",
      "     description: \n",
      "     private_network: default\n",
      "     num_nodes: 1\n",
      "@@ -12,10 +12,13 @@\n",
      "     recovery_mode: none\n",
      "     params:\n",
      "         {'e': ['AUTHORIZED_KEYS=c3NoLXJzYSBBQUFBQjNOemFDMXljMkVBQUFBREFRQUJBQUFCQVFDdE5KYjBIWkU0SHR0ZjV3WWhhbkQyR2RBZm9Wc0o2eVZOR3JMOWFUQ040SWtXUGZ1a1ZOOFdUTldldHp4T3cwOXlrZlZqQlFZUG9JOWhzOHYzd2hjaHRqZlFneHEvWTBvTWFLNlQ1bmdybmtMZFd6VFcxSFhhZ3A0SFdBTGtvVGNtQkhUaG9lWitKdGdkbS9ham8ySHVNblhqbHY0Y215WDVQZ3JhdU5IVDZoTEJUc2k2NzBkNWFSTTZLY3B1VVc0RS8xMHF1WklQcXhaMzJvQnFxU2V6c1gzVlV2Nnk2Um1Ldzg3eC9FUU1XVUtlemR3bHJuTWpwY3p0TTRSQzVrc0s1QWp6bC9oY3FaOGVOMjhaanVxM3RPRHNWY05SVHdzajdGWTZjaXVsbFhURndzZHhjNjM5U290VmpwWWNZSUpqWGhZTW1mTkNpdFFRamxaNVNVdUgK'], 'v': []}\n",
      "-    instance_type: m4.large\n",
      "-    volume_size: 15\n",
      "-    volume_type: standard\n",
      "-    volume_id: []\n",
      "-    cloud_image: default\n",
      "-    tags: {}\n",
      "+\n",
      "+        vm_size: Standard_D3_v2\n",
      "+        disk_size_gb: 100\n",
      "+        managed_disk_type: Standard_LRS\n",
      "+        ext_managed_disk: []\n",
      "+        cloud_image: default\n",
      "+        ip_address_list: []\n",
      "+    tags: \n",
      "+        tags: {}\n",
      " ========================"
     ]
    }
   ],
   "source": [
    "from difflib import unified_diff\n",
    "import sys\n",
    "\n",
    "sys.stdout.writelines(unified_diff(\n",
    "    str(spec).splitlines(True),\n",
    "    str(spec_azure).splitlines(True),\n",
    "    fromfile='aws',\n",
    "    tofile='azure',\n",
    "))"
   ]
  },
  {
   "cell_type": "markdown",
   "metadata": {
    "lc_cell_meme": {
     "current": "0ffd27b6-c2e0-11e8-9925-0242ac110002",
     "next": "0ffd284c-c2e0-11e8-9925-0242ac110002",
     "previous": "0ffd2720-c2e0-11e8-9925-0242ac110002"
    }
   },
   "source": [
    "### Unitの作成とVCノードの起動"
   ]
  },
  {
   "cell_type": "markdown",
   "metadata": {
    "lc_cell_meme": {
     "current": "0ffd284c-c2e0-11e8-9925-0242ac110002",
     "next": "0ffd28f6-c2e0-11e8-9925-0242ac110002",
     "previous": "0ffd27b6-c2e0-11e8-9925-0242ac110002"
    }
   },
   "source": [
    "まず作成前のUnitGroup状態を確認しておきます。"
   ]
  },
  {
   "cell_type": "code",
   "execution_count": 50,
   "metadata": {
    "deletable": false,
    "editable": false,
    "lc_cell_meme": {
     "current": "0ffd28f6-c2e0-11e8-9925-0242ac110002",
     "next": "0ffd298c-c2e0-11e8-9925-0242ac110002",
     "previous": "0ffd284c-c2e0-11e8-9925-0242ac110002"
    },
    "run_through_control": {
     "frozen": true
    }
   },
   "outputs": [
    {
     "data": {
      "text/html": [
       "<div>\n",
       "<style>\n",
       "    .dataframe thead tr:only-child th {\n",
       "        text-align: right;\n",
       "    }\n",
       "\n",
       "    .dataframe thead th {\n",
       "        text-align: left;\n",
       "    }\n",
       "\n",
       "    .dataframe tbody tr th {\n",
       "        vertical-align: top;\n",
       "    }\n",
       "</style>\n",
       "<table border=\"1\" class=\"dataframe\">\n",
       "  <thead>\n",
       "    <tr style=\"text-align: right;\">\n",
       "      <th></th>\n",
       "      <th>vctype</th>\n",
       "      <th>vcno</th>\n",
       "      <th>vcname</th>\n",
       "      <th>vc_state</th>\n",
       "      <th>vcid</th>\n",
       "      <th>cdate</th>\n",
       "      <th>unit_name</th>\n",
       "      <th>unit_state</th>\n",
       "    </tr>\n",
       "  </thead>\n",
       "  <tbody>\n",
       "    <tr>\n",
       "      <th>0</th>\n",
       "      <td>compute</td>\n",
       "      <td>36</td>\n",
       "      <td>handson101</td>\n",
       "      <td>RUNNING</td>\n",
       "      <td>2402ae36...</td>\n",
       "      <td>2018/09/28 05:33:28 UTC</td>\n",
       "      <td>aws-server</td>\n",
       "      <td>RUNNING</td>\n",
       "    </tr>\n",
       "  </tbody>\n",
       "</table>\n",
       "</div>"
      ],
      "text/plain": [
       "    vctype  vcno      vcname vc_state         vcid                    cdate  \\\n",
       "0  compute    36  handson101  RUNNING  2402ae36...  2018/09/28 05:33:28 UTC   \n",
       "\n",
       "    unit_name unit_state  \n",
       "0  aws-server    RUNNING  "
      ]
     },
     "metadata": {},
     "output_type": "display_data"
    },
    {
     "data": {
      "text/html": [
       "<div>\n",
       "<style>\n",
       "    .dataframe thead tr:only-child th {\n",
       "        text-align: right;\n",
       "    }\n",
       "\n",
       "    .dataframe thead th {\n",
       "        text-align: left;\n",
       "    }\n",
       "\n",
       "    .dataframe tbody tr th {\n",
       "        vertical-align: top;\n",
       "    }\n",
       "</style>\n",
       "<table border=\"1\" class=\"dataframe\">\n",
       "  <thead>\n",
       "    <tr style=\"text-align: right;\">\n",
       "      <th></th>\n",
       "      <th>vcno</th>\n",
       "      <th>vcname</th>\n",
       "      <th>unit_name</th>\n",
       "      <th>unit_state</th>\n",
       "      <th>node_no</th>\n",
       "      <th>node_id</th>\n",
       "      <th>node_state</th>\n",
       "      <th>cloud_instance_address</th>\n",
       "      <th>cloud_instance_id</th>\n",
       "      <th>cloud_instance_name</th>\n",
       "      <th>volumes</th>\n",
       "    </tr>\n",
       "  </thead>\n",
       "  <tbody>\n",
       "    <tr>\n",
       "      <th>0</th>\n",
       "      <td>36</td>\n",
       "      <td>handson101</td>\n",
       "      <td>aws-server</td>\n",
       "      <td>RUNNING</td>\n",
       "      <td>1</td>\n",
       "      <td>d983afca...</td>\n",
       "      <td>RUNNING</td>\n",
       "      <td>172.30.2.26</td>\n",
       "      <td>i-002140ab6e2fa858a</td>\n",
       "      <td>VCP-020661f0-2402ae36</td>\n",
       "      <td>none</td>\n",
       "    </tr>\n",
       "  </tbody>\n",
       "</table>\n",
       "</div>"
      ],
      "text/plain": [
       "   vcno      vcname   unit_name unit_state  node_no      node_id node_state  \\\n",
       "0    36  handson101  aws-server    RUNNING        1  d983afca...    RUNNING   \n",
       "\n",
       "  cloud_instance_address    cloud_instance_id    cloud_instance_name volumes  \n",
       "0            172.30.2.26  i-002140ab6e2fa858a  VCP-020661f0-2402ae36    none  "
      ]
     },
     "metadata": {},
     "output_type": "display_data"
    }
   ],
   "source": [
    "from IPython.display import display\n",
    "\n",
    "# Unitの一覧を DataFrame で表示する\n",
    "display(unit_group.df_units())\n",
    "\n",
    "# VCノードの一覧を DataFrame で表示する\n",
    "display(unit_group.df_nodes())"
   ]
  },
  {
   "cell_type": "markdown",
   "metadata": {
    "lc_cell_meme": {
     "current": "0ffd298c-c2e0-11e8-9925-0242ac110002",
     "next": "0ffd2a2c-c2e0-11e8-9925-0242ac110002",
     "previous": "0ffd28f6-c2e0-11e8-9925-0242ac110002"
    }
   },
   "source": [
    "Unitを作成します。\n",
    "\n",
    "> 処理が完了するまでには 2～5分程度かかります。"
   ]
  },
  {
   "cell_type": "code",
   "execution_count": 51,
   "metadata": {
    "deletable": false,
    "editable": false,
    "lc_cell_meme": {
     "current": "0ffd2a2c-c2e0-11e8-9925-0242ac110002",
     "next": "0ffd2ac2-c2e0-11e8-9925-0242ac110002",
     "previous": "0ffd298c-c2e0-11e8-9925-0242ac110002"
    },
    "run_through_control": {
     "frozen": true
    },
    "scrolled": true
   },
   "outputs": [
    {
     "name": "stdout",
     "output_type": "stream",
     "text": [
      "2018-09-28 14:52:55,820 - INFO - BOOTING ... 0 sec\n",
      "2018-09-28 14:53:01,059 - INFO - BOOTING ... 5 sec\n",
      "2018-09-28 14:53:06,304 - INFO - BOOTING ... 10 sec\n",
      "2018-09-28 14:53:11,542 - INFO - BOOTING ... 15 sec\n",
      "2018-09-28 14:53:16,787 - INFO - BOOTING ... 20 sec\n",
      "2018-09-28 14:53:22,028 - INFO - BOOTING ... 25 sec\n",
      "2018-09-28 14:53:27,275 - INFO - BOOTING ... 30 sec\n",
      "2018-09-28 14:53:32,536 - INFO - BOOTING ... 35 sec\n",
      "2018-09-28 14:53:37,780 - INFO - BOOTING ... 40 sec\n",
      "2018-09-28 14:53:43,018 - INFO - BOOTING ... 45 sec\n",
      "2018-09-28 14:53:48,264 - INFO - BOOTING ... 50 sec\n",
      "2018-09-28 14:53:53,499 - INFO - BOOTING ... 55 sec\n",
      "2018-09-28 14:53:58,742 - INFO - BOOTING ... 60 sec\n",
      "2018-09-28 14:54:03,982 - INFO - BOOTING ... 65 sec\n",
      "2018-09-28 14:54:09,228 - INFO - BOOTING ... 70 sec\n",
      "2018-09-28 14:54:14,465 - INFO - BOOTING ... 75 sec\n",
      "2018-09-28 14:54:19,705 - INFO - BOOTING ... 80 sec\n",
      "2018-09-28 14:54:24,947 - INFO - BOOTING ... 85 sec\n",
      "2018-09-28 14:54:30,205 - INFO - BOOTING ... 90 sec\n",
      "2018-09-28 14:54:35,454 - INFO - BOOTING ... 95 sec\n",
      "2018-09-28 14:54:40,702 - INFO - BOOTING ... 100 sec\n",
      "2018-09-28 14:54:45,960 - INFO - BOOTING ... 105 sec\n",
      "2018-09-28 14:54:51,217 - INFO - BOOTING ... 110 sec\n",
      "2018-09-28 14:54:56,473 - INFO - BOOTING ... 115 sec\n",
      "2018-09-28 14:55:01,719 - INFO - BOOTING ... 120 sec\n",
      "2018-09-28 14:55:06,949 - INFO - BOOTING ... 125 sec\n",
      "2018-09-28 14:55:12,194 - INFO - BOOTING ... 130 sec\n",
      "2018-09-28 14:55:17,459 - INFO - BOOTING ... 135 sec\n",
      "2018-09-28 14:55:22,724 - INFO - BOOTING ... 140 sec\n",
      "2018-09-28 14:55:27,978 - INFO - unit azure-server is RUNNING\n"
     ]
    }
   ],
   "source": [
    "# Unitの作成（同時に VCノードが作成される）\n",
    "unit2 = unit_group.create_unit(\n",
    "            'azure-server',    # Unit 名\n",
    "            spec_azure         # spec オブジェクト\n",
    "        )"
   ]
  },
  {
   "cell_type": "markdown",
   "metadata": {
    "lc_cell_meme": {
     "current": "0ffd2ac2-c2e0-11e8-9925-0242ac110002",
     "next": "0ffd2b58-c2e0-11e8-9925-0242ac110002",
     "previous": "0ffd2a2c-c2e0-11e8-9925-0242ac110002"
    }
   },
   "source": [
    "Unit作成後の状態を確認します。Unit とVCノードがそれぞれ２つあることが確認できるはずです。VCノード一覧ではそれぞれのVCノードの unit_name が異なることが確認できるはずです。またawsとazureのVCノードには**異なるサブネット**のIPアドレスが割り当てられていることが確認できます。\n",
    "\n",
    "> 各プロバイダにどのようなサブネットを割り当てているのかについては[VCP Manager Web UI](https://vcpdev.ecloud.nii.ac.jp/vcp/v1/ui/occmgr/menu/occtrs) で確認ができます。"
   ]
  },
  {
   "cell_type": "code",
   "execution_count": 52,
   "metadata": {
    "deletable": false,
    "editable": false,
    "lc_cell_meme": {
     "current": "0ffd2b58-c2e0-11e8-9925-0242ac110002",
     "next": "0ffd2bee-c2e0-11e8-9925-0242ac110002",
     "previous": "0ffd2ac2-c2e0-11e8-9925-0242ac110002"
    },
    "run_through_control": {
     "frozen": true
    }
   },
   "outputs": [
    {
     "data": {
      "text/html": [
       "<div>\n",
       "<style>\n",
       "    .dataframe thead tr:only-child th {\n",
       "        text-align: right;\n",
       "    }\n",
       "\n",
       "    .dataframe thead th {\n",
       "        text-align: left;\n",
       "    }\n",
       "\n",
       "    .dataframe tbody tr th {\n",
       "        vertical-align: top;\n",
       "    }\n",
       "</style>\n",
       "<table border=\"1\" class=\"dataframe\">\n",
       "  <thead>\n",
       "    <tr style=\"text-align: right;\">\n",
       "      <th></th>\n",
       "      <th>vctype</th>\n",
       "      <th>vcno</th>\n",
       "      <th>vcname</th>\n",
       "      <th>vc_state</th>\n",
       "      <th>vcid</th>\n",
       "      <th>cdate</th>\n",
       "      <th>unit_name</th>\n",
       "      <th>unit_state</th>\n",
       "    </tr>\n",
       "  </thead>\n",
       "  <tbody>\n",
       "    <tr>\n",
       "      <th>0</th>\n",
       "      <td>compute</td>\n",
       "      <td>36</td>\n",
       "      <td>handson101</td>\n",
       "      <td>RUNNING</td>\n",
       "      <td>2402ae36...</td>\n",
       "      <td>2018/09/28 05:33:28 UTC</td>\n",
       "      <td>aws-server</td>\n",
       "      <td>RUNNING</td>\n",
       "    </tr>\n",
       "    <tr>\n",
       "      <th>1</th>\n",
       "      <td>compute</td>\n",
       "      <td>36</td>\n",
       "      <td>handson101</td>\n",
       "      <td>RUNNING</td>\n",
       "      <td>2402ae36...</td>\n",
       "      <td>2018/09/28 05:33:28 UTC</td>\n",
       "      <td>azure-server</td>\n",
       "      <td>RUNNING</td>\n",
       "    </tr>\n",
       "  </tbody>\n",
       "</table>\n",
       "</div>"
      ],
      "text/plain": [
       "    vctype  vcno      vcname vc_state         vcid                    cdate  \\\n",
       "0  compute    36  handson101  RUNNING  2402ae36...  2018/09/28 05:33:28 UTC   \n",
       "1  compute    36  handson101  RUNNING  2402ae36...  2018/09/28 05:33:28 UTC   \n",
       "\n",
       "      unit_name unit_state  \n",
       "0    aws-server    RUNNING  \n",
       "1  azure-server    RUNNING  "
      ]
     },
     "metadata": {},
     "output_type": "display_data"
    },
    {
     "data": {
      "text/html": [
       "<div>\n",
       "<style>\n",
       "    .dataframe thead tr:only-child th {\n",
       "        text-align: right;\n",
       "    }\n",
       "\n",
       "    .dataframe thead th {\n",
       "        text-align: left;\n",
       "    }\n",
       "\n",
       "    .dataframe tbody tr th {\n",
       "        vertical-align: top;\n",
       "    }\n",
       "</style>\n",
       "<table border=\"1\" class=\"dataframe\">\n",
       "  <thead>\n",
       "    <tr style=\"text-align: right;\">\n",
       "      <th></th>\n",
       "      <th>vcno</th>\n",
       "      <th>vcname</th>\n",
       "      <th>unit_name</th>\n",
       "      <th>unit_state</th>\n",
       "      <th>node_no</th>\n",
       "      <th>node_id</th>\n",
       "      <th>node_state</th>\n",
       "      <th>cloud_instance_address</th>\n",
       "      <th>cloud_instance_id</th>\n",
       "      <th>cloud_instance_name</th>\n",
       "      <th>volumes</th>\n",
       "    </tr>\n",
       "  </thead>\n",
       "  <tbody>\n",
       "    <tr>\n",
       "      <th>0</th>\n",
       "      <td>36</td>\n",
       "      <td>handson101</td>\n",
       "      <td>aws-server</td>\n",
       "      <td>RUNNING</td>\n",
       "      <td>1</td>\n",
       "      <td>d983afca...</td>\n",
       "      <td>RUNNING</td>\n",
       "      <td>172.30.2.26</td>\n",
       "      <td>i-002140ab6e2fa858a</td>\n",
       "      <td>VCP-020661f0-2402ae36</td>\n",
       "      <td>none</td>\n",
       "    </tr>\n",
       "    <tr>\n",
       "      <th>1</th>\n",
       "      <td>36</td>\n",
       "      <td>handson101</td>\n",
       "      <td>azure-server</td>\n",
       "      <td>RUNNING</td>\n",
       "      <td>1</td>\n",
       "      <td>f3065992...</td>\n",
       "      <td>RUNNING</td>\n",
       "      <td>172.21.1.4</td>\n",
       "      <td>xxxxxxxx...</td>\n",
       "      <td>VCP-020661f0-2402ae36</td>\n",
       "      <td>none</td>\n",
       "    </tr>\n",
       "  </tbody>\n",
       "</table>\n",
       "</div>"
      ],
      "text/plain": [
       "   vcno      vcname     unit_name unit_state  node_no      node_id node_state  \\\n",
       "0    36  handson101    aws-server    RUNNING        1  d983afca...    RUNNING   \n",
       "1    36  handson101  azure-server    RUNNING        1  f3065992...    RUNNING   \n",
       "\n",
       "  cloud_instance_address                                  cloud_instance_id  \\\n",
       "0            172.30.2.26                                i-002140ab6e2fa858a   \n",
       "1             172.21.1.4  xxxxxxxx...   \n",
       "\n",
       "     cloud_instance_name volumes  \n",
       "0  VCP-020661f0-2402ae36    none  \n",
       "1  VCP-020661f0-2402ae36    none  "
      ]
     },
     "metadata": {},
     "output_type": "display_data"
    }
   ],
   "source": [
    "# Unitの一覧を DataFrame で表示する\n",
    "display(unit_group.df_units())\n",
    "\n",
    "# VCノードの一覧を DataFrame で表示する\n",
    "display(unit_group.df_nodes())"
   ]
  },
  {
   "cell_type": "markdown",
   "metadata": {
    "lc_cell_meme": {
     "current": "0ffd2bee-c2e0-11e8-9925-0242ac110002",
     "next": "0ffd2c8e-c2e0-11e8-9925-0242ac110002",
     "previous": "0ffd2b58-c2e0-11e8-9925-0242ac110002"
    }
   },
   "source": [
    "VCノードに対して`ping` を実行してみます。"
   ]
  },
  {
   "cell_type": "code",
   "execution_count": 53,
   "metadata": {
    "deletable": false,
    "editable": false,
    "lc_cell_meme": {
     "current": "0ffd2c8e-c2e0-11e8-9925-0242ac110002",
     "next": "0ffd2d24-c2e0-11e8-9925-0242ac110002",
     "previous": "0ffd2bee-c2e0-11e8-9925-0242ac110002"
    },
    "run_through_control": {
     "frozen": true
    },
    "scrolled": false
   },
   "outputs": [
    {
     "name": "stdout",
     "output_type": "stream",
     "text": [
      "PING 172.30.2.26 (172.30.2.26): 56 data bytes\n",
      "64 bytes from 172.30.2.26: icmp_seq=0 ttl=63 time=0.331 ms\n",
      "64 bytes from 172.30.2.26: icmp_seq=1 ttl=63 time=0.372 ms\n",
      "64 bytes from 172.30.2.26: icmp_seq=2 ttl=63 time=0.330 ms\n",
      "64 bytes from 172.30.2.26: icmp_seq=3 ttl=63 time=0.290 ms\n",
      "64 bytes from 172.30.2.26: icmp_seq=4 ttl=63 time=0.296 ms\n",
      "--- 172.30.2.26 ping statistics ---\n",
      "5 packets transmitted, 5 packets received, 0% packet loss\n",
      "round-trip min/avg/max/stddev = 0.290/0.324/0.372/0.029 ms\n",
      "\n",
      "PING 172.21.1.4 (172.21.1.4): 56 data bytes\n",
      "64 bytes from 172.21.1.4: icmp_seq=0 ttl=60 time=9.924 ms\n",
      "64 bytes from 172.21.1.4: icmp_seq=1 ttl=60 time=9.903 ms\n",
      "64 bytes from 172.21.1.4: icmp_seq=2 ttl=60 time=9.826 ms\n",
      "64 bytes from 172.21.1.4: icmp_seq=3 ttl=60 time=13.539 ms\n",
      "64 bytes from 172.21.1.4: icmp_seq=4 ttl=60 time=10.129 ms\n",
      "--- 172.21.1.4 ping statistics ---\n",
      "5 packets transmitted, 5 packets received, 0% packet loss\n",
      "round-trip min/avg/max/stddev = 9.826/10.664/13.539/1.441 ms\n",
      "\n"
     ]
    }
   ],
   "source": [
    "# UnitGroup内にあるVCノードのIPアドレスリストを取得する\n",
    "ip_address = unit_group.find_ip_addresses()\n",
    "\n",
    "# それぞれのVCノードに対してpingを実行する\n",
    "for address in ip_address:\n",
    "    !ping -c 5 {address}\n",
    "    print()"
   ]
  },
  {
   "cell_type": "markdown",
   "metadata": {
    "lc_cell_meme": {
     "current": "0ffd2d24-c2e0-11e8-9925-0242ac110002",
     "next": "0ffd2dba-c2e0-11e8-9925-0242ac110002",
     "previous": "0ffd2c8e-c2e0-11e8-9925-0242ac110002"
    }
   },
   "source": [
    "VCPでは複数の異なるクラウドを仮想的に一つの計算基盤（仮想クラウド）のように扱える機能を提供しています。そのため異なるクラウド(aws, azure)で起動したVCノードであっても、追加の設定なしに互いに通信することができます。そのことを確認するために、作成した２つの VCノード の一方から他方に対して `ping` を行ってみます。"
   ]
  },
  {
   "cell_type": "code",
   "execution_count": 54,
   "metadata": {
    "deletable": false,
    "editable": false,
    "lc_cell_meme": {
     "current": "0ffd2dba-c2e0-11e8-9925-0242ac110002",
     "next": "0ffd2e5a-c2e0-11e8-9925-0242ac110002",
     "previous": "0ffd2d24-c2e0-11e8-9925-0242ac110002"
    },
    "run_through_control": {
     "frozen": true
    }
   },
   "outputs": [
    {
     "name": "stdout",
     "output_type": "stream",
     "text": [
      "172.30.2.26\n",
      "\n",
      "PING 172.21.1.4 (172.21.1.4): 56 data bytes\n",
      "64 bytes from 172.21.1.4: seq=0 ttl=61 time=9.711 ms\n",
      "64 bytes from 172.21.1.4: seq=1 ttl=61 time=10.014 ms\n",
      "64 bytes from 172.21.1.4: seq=2 ttl=61 time=10.051 ms\n",
      "64 bytes from 172.21.1.4: seq=3 ttl=61 time=10.183 ms\n",
      "64 bytes from 172.21.1.4: seq=4 ttl=61 time=9.785 ms\n",
      "64 bytes from 172.21.1.4: seq=5 ttl=61 time=9.601 ms\n",
      "64 bytes from 172.21.1.4: seq=6 ttl=61 time=9.917 ms\n",
      "64 bytes from 172.21.1.4: seq=7 ttl=61 time=10.094 ms\n",
      "64 bytes from 172.21.1.4: seq=8 ttl=61 time=10.081 ms\n",
      "64 bytes from 172.21.1.4: seq=9 ttl=61 time=9.960 ms\n",
      "\n",
      "--- 172.21.1.4 ping statistics ---\n",
      "10 packets transmitted, 10 packets received, 0% packet loss\n",
      "round-trip min/avg/max = 9.601/9.939/10.183 ms\n"
     ]
    }
   ],
   "source": [
    "# pingを実行するVCノードのIPアドレスを表示する\n",
    "print(ip_address[0])\n",
    "print()\n",
    "\n",
    "!ssh {ssh_opts} root@{ip_address[0]} \\\n",
    "    ping -c 10 {ip_address[1]}"
   ]
  },
  {
   "cell_type": "markdown",
   "metadata": {
    "lc_cell_meme": {
     "current": "0ffd2e5a-c2e0-11e8-9925-0242ac110002",
     "next": "0ffd2ef0-c2e0-11e8-9925-0242ac110002",
     "previous": "0ffd2dba-c2e0-11e8-9925-0242ac110002"
    }
   },
   "source": [
    "逆方向で同様のことを行ってみます。"
   ]
  },
  {
   "cell_type": "code",
   "execution_count": 55,
   "metadata": {
    "deletable": false,
    "editable": false,
    "lc_cell_meme": {
     "current": "0ffd2ef0-c2e0-11e8-9925-0242ac110002",
     "next": "0ffd2f86-c2e0-11e8-9925-0242ac110002",
     "previous": "0ffd2e5a-c2e0-11e8-9925-0242ac110002"
    },
    "run_through_control": {
     "frozen": true
    }
   },
   "outputs": [
    {
     "name": "stdout",
     "output_type": "stream",
     "text": [
      "172.21.1.4\n",
      "\n",
      "PING 172.30.2.26 (172.30.2.26): 56 data bytes\n",
      "64 bytes from 172.30.2.26: seq=0 ttl=60 time=10.165 ms\n",
      "64 bytes from 172.30.2.26: seq=1 ttl=60 time=10.042 ms\n",
      "64 bytes from 172.30.2.26: seq=2 ttl=60 time=9.632 ms\n",
      "64 bytes from 172.30.2.26: seq=3 ttl=60 time=9.945 ms\n",
      "64 bytes from 172.30.2.26: seq=4 ttl=60 time=9.906 ms\n",
      "64 bytes from 172.30.2.26: seq=5 ttl=60 time=9.774 ms\n",
      "64 bytes from 172.30.2.26: seq=6 ttl=60 time=9.692 ms\n",
      "64 bytes from 172.30.2.26: seq=7 ttl=60 time=9.914 ms\n",
      "64 bytes from 172.30.2.26: seq=8 ttl=60 time=9.688 ms\n",
      "64 bytes from 172.30.2.26: seq=9 ttl=60 time=9.762 ms\n",
      "\n",
      "--- 172.30.2.26 ping statistics ---\n",
      "10 packets transmitted, 10 packets received, 0% packet loss\n",
      "round-trip min/avg/max = 9.632/9.852/10.165 ms\n"
     ]
    }
   ],
   "source": [
    "# pingを実行するVCノードのIPアドレスを表示する\n",
    "print(ip_address[1])\n",
    "print()\n",
    "\n",
    "!ssh {ssh_opts} root@{ip_address[1]} \\\n",
    "    ping -c 10 {ip_address[0]}"
   ]
  },
  {
   "cell_type": "markdown",
   "metadata": {
    "lc_cell_meme": {
     "current": "0ffd2f86-c2e0-11e8-9925-0242ac110002",
     "next": "0ffd3030-c2e0-11e8-9925-0242ac110002",
     "previous": "0ffd2ef0-c2e0-11e8-9925-0242ac110002"
    }
   },
   "source": [
    "## VCノードに ssh でログインして操作する"
   ]
  },
  {
   "cell_type": "markdown",
   "metadata": {
    "lc_cell_meme": {
     "current": "0ffd3030-c2e0-11e8-9925-0242ac110002",
     "next": "0ffd30d0-c2e0-11e8-9925-0242ac110002",
     "previous": "0ffd2f86-c2e0-11e8-9925-0242ac110002"
    }
   },
   "source": [
    "Azureに追加で起動した VCノード は aws とは異なる構成(cpu, memory, disk)になってるはずです。そのことを確認するために、sshでログインして以下のコマンドを実行してみます。\n",
    "\n",
    "* カーネルバージョン\n",
    "  - uname -a\n",
    "* CPU\n",
    "  - cat /proc/cpuinfo\n",
    "* メモリ量\n",
    "  - free\n",
    "* ディスク容量\n",
    "  - df -h"
   ]
  },
  {
   "cell_type": "code",
   "execution_count": 56,
   "metadata": {
    "deletable": false,
    "editable": false,
    "lc_cell_meme": {
     "current": "0ffd30d0-c2e0-11e8-9925-0242ac110002",
     "next": "0ffd31a2-c2e0-11e8-9925-0242ac110002",
     "previous": "0ffd3030-c2e0-11e8-9925-0242ac110002"
    },
    "run_through_control": {
     "frozen": true
    }
   },
   "outputs": [
    {
     "name": "stdout",
     "output_type": "stream",
     "text": [
      "172.30.2.26:\n",
      "Linux ip-172-30-2-26 4.4.0-67-generic #88-Ubuntu SMP Wed Mar 8 16:34:45 UTC 2017 x86_64 Linux\n",
      "\n",
      "172.21.1.4:\n",
      "Linux f3065992 4.15.0-1021-azure #21~16.04.1-Ubuntu SMP Fri Aug 10 12:36:09 UTC 2018 x86_64 Linux\n",
      "\n"
     ]
    }
   ],
   "source": [
    "for address in ip_address:\n",
    "    print(address + ':')\n",
    "    !ssh {ssh_opts} root@{address} uname -a\n",
    "    print()"
   ]
  },
  {
   "cell_type": "code",
   "execution_count": 57,
   "metadata": {
    "deletable": false,
    "editable": false,
    "lc_cell_meme": {
     "current": "0ffd31a2-c2e0-11e8-9925-0242ac110002",
     "next": "0ffd3238-c2e0-11e8-9925-0242ac110002",
     "previous": "0ffd30d0-c2e0-11e8-9925-0242ac110002"
    },
    "run_through_control": {
     "frozen": true
    }
   },
   "outputs": [
    {
     "name": "stdout",
     "output_type": "stream",
     "text": [
      "172.30.2.26:\n",
      "model name\t: Intel(R) Xeon(R) CPU E5-2686 v4 @ 2.30GHz\n",
      "model name\t: Intel(R) Xeon(R) CPU E5-2686 v4 @ 2.30GHz\n",
      "\n",
      "172.21.1.4:\n",
      "model name\t: Intel(R) Xeon(R) CPU E5-2673 v4 @ 2.30GHz\n",
      "model name\t: Intel(R) Xeon(R) CPU E5-2673 v4 @ 2.30GHz\n",
      "model name\t: Intel(R) Xeon(R) CPU E5-2673 v4 @ 2.30GHz\n",
      "model name\t: Intel(R) Xeon(R) CPU E5-2673 v4 @ 2.30GHz\n",
      "\n"
     ]
    }
   ],
   "source": [
    "for address in ip_address:\n",
    "    print(address + ':')\n",
    "    !ssh {ssh_opts} root@{address} cat /proc/cpuinfo | grep 'model name'\n",
    "    print()"
   ]
  },
  {
   "cell_type": "code",
   "execution_count": 58,
   "metadata": {
    "deletable": false,
    "editable": false,
    "lc_cell_meme": {
     "current": "0ffd3238-c2e0-11e8-9925-0242ac110002",
     "next": "0ffd32ce-c2e0-11e8-9925-0242ac110002",
     "previous": "0ffd31a2-c2e0-11e8-9925-0242ac110002"
    },
    "run_through_control": {
     "frozen": true
    }
   },
   "outputs": [
    {
     "name": "stdout",
     "output_type": "stream",
     "text": [
      "172.30.2.26:\n",
      "             total       used       free     shared    buffers     cached\n",
      "Mem:       8173656     812552    7361104      12548      56548     510028\n",
      "-/+ buffers/cache:     245976    7927680\n",
      "Swap:            0          0          0\n",
      "\n",
      "172.21.1.4:\n",
      "             total       used       free     shared    buffers     cached\n",
      "Mem:      14362156    1496148   12866008       8932      26580     753080\n",
      "-/+ buffers/cache:     716488   13645668\n",
      "Swap:            0          0          0\n",
      "\n"
     ]
    }
   ],
   "source": [
    "for address in ip_address:\n",
    "    print(address + ':')\n",
    "    !ssh {ssh_opts} root@{address} free\n",
    "    print()"
   ]
  },
  {
   "cell_type": "code",
   "execution_count": 59,
   "metadata": {
    "deletable": false,
    "editable": false,
    "lc_cell_meme": {
     "current": "0ffd32ce-c2e0-11e8-9925-0242ac110002",
     "next": "0ffd336e-c2e0-11e8-9925-0242ac110002",
     "previous": "0ffd3238-c2e0-11e8-9925-0242ac110002"
    },
    "run_through_control": {
     "frozen": true
    }
   },
   "outputs": [
    {
     "name": "stdout",
     "output_type": "stream",
     "text": [
      "172.30.2.26:\n",
      "Filesystem                Size      Used Available Use% Mounted on\n",
      "none                     14.6G      1.8G     12.1G  13% /\n",
      "tmpfs                     3.9G         0      3.9G   0% /sys/fs/cgroup\n",
      "udev                      3.9G         0      3.9G   0% /dev\n",
      "tmpfs                    64.0M         0     64.0M   0% /dev/shm\n",
      "/dev/xvda1               14.6G      1.8G     12.1G  13% /etc/resolv.conf\n",
      "/dev/xvda1               14.6G      1.8G     12.1G  13% /etc/hostname\n",
      "/dev/xvda1               14.6G      1.8G     12.1G  13% /etc/hosts\n",
      "shm                      64.0M         0     64.0M   0% /dev/shm\n",
      "/dev/xvda1               14.6G      1.8G     12.1G  13% /var/lib/docker\n",
      "none                      3.9G         0      3.9G   0% /tmp\n",
      "/dev/xvda1               14.6G      1.8G     12.1G  13% /var/lib/docker/aufs\n",
      "\n",
      "172.21.1.4:\n",
      "Filesystem                Size      Used Available Use% Mounted on\n",
      "none                     96.9G      1.7G     95.2G   2% /\n",
      "tmpfs                     6.8G         0      6.8G   0% /sys/fs/cgroup\n",
      "udev                      6.8G         0      6.8G   0% /dev\n",
      "tmpfs                    64.0M         0     64.0M   0% /dev/shm\n",
      "/dev/sda1                96.9G      1.7G     95.2G   2% /etc/resolv.conf\n",
      "/dev/sda1                96.9G      1.7G     95.2G   2% /etc/hostname\n",
      "/dev/sda1                96.9G      1.7G     95.2G   2% /etc/hosts\n",
      "shm                      64.0M         0     64.0M   0% /dev/shm\n",
      "/dev/sda1                96.9G      1.7G     95.2G   2% /var/lib/docker\n",
      "none                      6.8G         0      6.8G   0% /tmp\n",
      "/dev/sda1                96.9G      1.7G     95.2G   2% /var/lib/docker/aufs\n",
      "\n"
     ]
    }
   ],
   "source": [
    "for address in ip_address:\n",
    "    print(address + ':')\n",
    "    !ssh {ssh_opts} root@{address} df -h\n",
    "    print()"
   ]
  },
  {
   "cell_type": "markdown",
   "metadata": {
    "lc_cell_meme": {
     "current": "0ffd336e-c2e0-11e8-9925-0242ac110002",
     "next": "0ffd3404-c2e0-11e8-9925-0242ac110002",
     "previous": "0ffd32ce-c2e0-11e8-9925-0242ac110002"
    }
   },
   "source": [
    "最後に先程と同様に、負荷をかけるためにそれぞれのVCノードで stress コマンドを実行します。これまで同様 stressコマンドはアプリケーションコンテナとして実行します。"
   ]
  },
  {
   "cell_type": "code",
   "execution_count": 60,
   "metadata": {
    "deletable": false,
    "editable": false,
    "lc_cell_meme": {
     "current": "0ffd3404-c2e0-11e8-9925-0242ac110002",
     "next": "0ffd34ae-c2e0-11e8-9925-0242ac110002",
     "previous": "0ffd336e-c2e0-11e8-9925-0242ac110002"
    },
    "run_through_control": {
     "frozen": true
    },
    "scrolled": true
   },
   "outputs": [
    {
     "name": "stdout",
     "output_type": "stream",
     "text": [
      "d95efab54d127f5ddbceabd3acac0262f0d23de7601e523a081bd4f86365e056\n",
      "Unable to find image 'polinux/stress:latest' locally\n",
      "latest: Pulling from polinux/stress\n",
      "627beaf3eaaf: Pulling fs layer\n",
      "4de9f469a6f4: Pulling fs layer\n",
      "627beaf3eaaf: Verifying Checksum\n",
      "627beaf3eaaf: Download complete\n",
      "4de9f469a6f4: Verifying Checksum\n",
      "4de9f469a6f4: Download complete\n",
      "627beaf3eaaf: Pull complete\n",
      "4de9f469a6f4: Pull complete\n",
      "Digest: sha256:6d1825288ddb6b3cec8d3ac8a488c8ec2449334512ecb938483fc2b25cbbdb9a\n",
      "Status: Downloaded newer image for polinux/stress:latest\n",
      "1352cf9a44c0f53a9b2f6a05454c3912630600e77aa93e7856808e907805c138\n"
     ]
    }
   ],
   "source": [
    "for idx, address in enumerate(ip_address):\n",
    "    # 60秒間だけ CPU x 2 とメモリ 128 MB を消費する\n",
    "    !ssh {ssh_opts} root@{address} \\\n",
    "        /usr/local/bin/docker run -td --rm --name stress-{idx} polinux/stress \\\n",
    "        stress --cpu 2 --io 1 --vm 2 --vm-bytes 128M --timeout 60s --verbose"
   ]
  },
  {
   "cell_type": "markdown",
   "metadata": {
    "lc_cell_meme": {
     "current": "0ffd34ae-c2e0-11e8-9925-0242ac110002",
     "next": "0ffd354e-c2e0-11e8-9925-0242ac110002",
     "previous": "0ffd3404-c2e0-11e8-9925-0242ac110002"
    }
   },
   "source": [
    "[Grafana](/grafana/d/handson/vcp-metrics?refresh=5s)で利用状況を確認してみます。"
   ]
  },
  {
   "cell_type": "markdown",
   "metadata": {
    "lc_cell_meme": {
     "current": "0ffd354e-c2e0-11e8-9925-0242ac110002",
     "next": "0ffd35e4-c2e0-11e8-9925-0242ac110002",
     "previous": "0ffd34ae-c2e0-11e8-9925-0242ac110002"
    }
   },
   "source": [
    "# 全てのVCノードを削除する"
   ]
  },
  {
   "cell_type": "markdown",
   "metadata": {
    "lc_cell_meme": {
     "current": "0ffd35e4-c2e0-11e8-9925-0242ac110002",
     "next": "0ffd367a-c2e0-11e8-9925-0242ac110002",
     "previous": "0ffd354e-c2e0-11e8-9925-0242ac110002"
    }
   },
   "source": [
    "ここまで作成した全てのリソース（UnitGroup, Unit、VCノード）を削除します。\n",
    "\n",
    "> 全てのリソースの削除には 4～5分程度かかります。"
   ]
  },
  {
   "cell_type": "code",
   "execution_count": 61,
   "metadata": {
    "deletable": false,
    "editable": false,
    "lc_cell_meme": {
     "current": "0ffd367a-c2e0-11e8-9925-0242ac110002",
     "next": "0ffd3710-c2e0-11e8-9925-0242ac110002",
     "previous": "0ffd35e4-c2e0-11e8-9925-0242ac110002"
    },
    "run_through_control": {
     "frozen": true
    },
    "scrolled": true
   },
   "outputs": [
    {
     "name": "stdout",
     "output_type": "stream",
     "text": [
      "2018-09-28 15:03:35,735 - INFO - aws-server is DELETING\n",
      "azure-server is DELETING ... 0 sec\n",
      "2018-09-28 15:03:41,030 - INFO - aws-server is DELETING\n",
      "azure-server is DELETING ... 5 sec\n",
      "2018-09-28 15:03:46,321 - INFO - aws-server is DELETING\n",
      "azure-server is DELETING ... 10 sec\n",
      "2018-09-28 15:03:51,635 - INFO - aws-server is DELETING\n",
      "azure-server is DELETING ... 15 sec\n",
      "2018-09-28 15:03:56,921 - INFO - aws-server is DELETING\n",
      "azure-server is DELETING ... 20 sec\n",
      "2018-09-28 15:04:02,213 - INFO - aws-server is DELETING\n",
      "azure-server is DELETING ... 25 sec\n",
      "2018-09-28 15:04:07,499 - INFO - aws-server is DELETING\n",
      "azure-server is DELETING ... 30 sec\n",
      "2018-09-28 15:04:12,784 - INFO - aws-server is DELETING\n",
      "azure-server is DELETING ... 35 sec\n",
      "2018-09-28 15:04:18,071 - INFO - aws-server is DELETING\n",
      "azure-server is DELETING ... 40 sec\n",
      "2018-09-28 15:04:23,358 - INFO - aws-server is DELETING\n",
      "azure-server is DELETING ... 45 sec\n",
      "2018-09-28 15:04:28,648 - INFO - aws-server is DELETING\n",
      "azure-server is DELETING ... 50 sec\n",
      "2018-09-28 15:04:33,928 - INFO - aws-server is DELETING\n",
      "azure-server is DELETING ... 55 sec\n",
      "2018-09-28 15:04:39,186 - INFO - azure-server is DELETING ... 60 sec\n",
      "2018-09-28 15:04:44,449 - INFO - azure-server is DELETING ... 65 sec\n",
      "2018-09-28 15:04:49,706 - INFO - azure-server is DELETING ... 70 sec\n",
      "2018-09-28 15:04:54,966 - INFO - azure-server is DELETING ... 75 sec\n",
      "2018-09-28 15:05:00,221 - INFO - azure-server is DELETING ... 80 sec\n",
      "2018-09-28 15:05:05,477 - INFO - azure-server is DELETING ... 85 sec\n",
      "2018-09-28 15:05:10,730 - INFO - azure-server is DELETING ... 90 sec\n",
      "2018-09-28 15:05:15,978 - INFO - azure-server is DELETING ... 95 sec\n",
      "2018-09-28 15:05:21,238 - INFO - azure-server is DELETING ... 100 sec\n",
      "2018-09-28 15:05:26,489 - INFO - azure-server is DELETING ... 105 sec\n",
      "2018-09-28 15:05:31,742 - INFO - azure-server is DELETING ... 110 sec\n",
      "2018-09-28 15:05:36,990 - INFO - azure-server is DELETING ... 115 sec\n",
      "2018-09-28 15:05:42,256 - INFO - azure-server is DELETING ... 120 sec\n",
      "2018-09-28 15:05:47,509 - INFO - azure-server is DELETING ... 125 sec\n",
      "2018-09-28 15:05:52,758 - INFO - azure-server is DELETING ... 130 sec\n",
      "2018-09-28 15:05:58,010 - INFO - azure-server is DELETING ... 135 sec\n",
      "2018-09-28 15:06:03,265 - INFO - azure-server is DELETING ... 140 sec\n",
      "2018-09-28 15:06:08,524 - INFO - azure-server is DELETING ... 145 sec\n",
      "2018-09-28 15:06:13,796 - INFO - azure-server is DELETING ... 150 sec\n",
      "2018-09-28 15:06:19,047 - INFO - azure-server is DELETING ... 155 sec\n",
      "2018-09-28 15:06:24,299 - INFO - azure-server is DELETING ... 160 sec\n",
      "2018-09-28 15:06:29,551 - INFO - azure-server is DELETING ... 165 sec\n",
      "2018-09-28 15:06:34,805 - INFO - azure-server is DELETING ... 170 sec\n",
      "2018-09-28 15:06:40,056 - INFO - azure-server is DELETING ... 175 sec\n",
      "2018-09-28 15:06:45,314 - INFO - azure-server is DELETING ... 180 sec\n",
      "2018-09-28 15:06:50,566 - INFO - azure-server is DELETING ... 185 sec\n",
      "2018-09-28 15:06:55,815 - INFO - azure-server is DELETING ... 190 sec\n",
      "2018-09-28 15:07:01,066 - INFO - azure-server is DELETING ... 195 sec\n",
      "2018-09-28 15:07:06,319 - INFO - azure-server is DELETING ... 200 sec\n",
      "2018-09-28 15:07:11,530 - INFO - cleanup completed. vc handson101 is cleanup(no unit)\n"
     ]
    }
   ],
   "source": [
    "unit_group.cleanup()"
   ]
  },
  {
   "cell_type": "markdown",
   "metadata": {
    "lc_cell_meme": {
     "current": "0ffd3710-c2e0-11e8-9925-0242ac110002",
     "next": "0ffd37b0-c2e0-11e8-9925-0242ac110002",
     "previous": "0ffd367a-c2e0-11e8-9925-0242ac110002"
    }
   },
   "source": [
    "削除後の状態を確認してみます。"
   ]
  },
  {
   "cell_type": "code",
   "execution_count": 62,
   "metadata": {
    "deletable": false,
    "editable": false,
    "lc_cell_meme": {
     "current": "0ffd37b0-c2e0-11e8-9925-0242ac110002",
     "next": null,
     "previous": "0ffd3710-c2e0-11e8-9925-0242ac110002"
    },
    "run_through_control": {
     "frozen": true
    },
    "scrolled": true
   },
   "outputs": [
    {
     "data": {
      "text/html": [
       "<div>\n",
       "<style>\n",
       "    .dataframe thead tr:only-child th {\n",
       "        text-align: right;\n",
       "    }\n",
       "\n",
       "    .dataframe thead th {\n",
       "        text-align: left;\n",
       "    }\n",
       "\n",
       "    .dataframe tbody tr th {\n",
       "        vertical-align: top;\n",
       "    }\n",
       "</style>\n",
       "<table border=\"1\" class=\"dataframe\">\n",
       "  <thead>\n",
       "    <tr style=\"text-align: right;\">\n",
       "      <th></th>\n",
       "      <th>vcno</th>\n",
       "      <th>vctype</th>\n",
       "      <th>vcname</th>\n",
       "      <th>state</th>\n",
       "      <th>vcid</th>\n",
       "      <th>cdate</th>\n",
       "    </tr>\n",
       "  </thead>\n",
       "  <tbody>\n",
       "  </tbody>\n",
       "</table>\n",
       "</div>"
      ],
      "text/plain": [
       "Empty DataFrame\n",
       "Columns: [vcno, vctype, vcname, state, vcid, cdate]\n",
       "Index: []"
      ]
     },
     "execution_count": 62,
     "metadata": {},
     "output_type": "execute_result"
    }
   ],
   "source": [
    "# UnitGroupの一覧を DataFrame で表示する\n",
    "vcp.df_ugroups()"
   ]
  }
 ],
 "metadata": {
  "kernelspec": {
   "display_name": "Python 3",
   "language": "python",
   "name": "python3"
  },
  "language_info": {
   "codemirror_mode": {
    "name": "ipython",
    "version": 3
   },
   "file_extension": ".py",
   "mimetype": "text/x-python",
   "name": "python",
   "nbconvert_exporter": "python",
   "pygments_lexer": "ipython3",
   "version": "3.5.2"
  },
  "lc_notebook_meme": {
   "current": "0ffccb86-c2e0-11e8-9925-0242ac110002",
   "lc_server_signature": {
    "current": {
     "notebook_dir": "/notebooks/notebook",
     "notebook_path": "/handson/vcp-tutorial",
     "server_url": "http://13.231.115.112:8888/red/",
     "signature_id": "9618e102-9304-11e8-ab91-0242ac110002"
    },
    "history": []
   }
  },
  "toc": {
   "nav_menu": {},
   "number_sections": true,
   "sideBar": true,
   "skip_h1_title": false,
   "toc_cell": false,
   "toc_position": {
    "height": "826px",
    "left": "0px",
    "right": "1202px",
    "top": "111px",
    "width": "213px"
   },
   "toc_section_display": "block",
   "toc_window_display": true
  }
 },
 "nbformat": 4,
 "nbformat_minor": 2
}
