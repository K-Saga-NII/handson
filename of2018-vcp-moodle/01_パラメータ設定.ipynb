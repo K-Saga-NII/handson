{
 "cells": [
  {
   "cell_type": "markdown",
   "metadata": {
    "lc_cell_meme": {
     "current": "72030b78-751b-11e8-bd8a-0242ac110002",
     "next": "72030c04-751b-11e8-bd8a-0242ac110002",
     "previous": null
    }
   },
   "source": [
    "# About: VCノードに関するパラメータの設定\n",
    "\n",
    "---\n",
    "\n",
    "VCノードに関するパラメータ設定を行います"
   ]
  },
  {
   "cell_type": "markdown",
   "metadata": {
    "lc_cell_meme": {
     "current": "72030c04-751b-11e8-bd8a-0242ac110002",
     "next": "72030c7c-751b-11e8-bd8a-0242ac110002",
     "previous": "72030b78-751b-11e8-bd8a-0242ac110002"
    }
   },
   "source": [
    "# 構成\n",
    "\n",
    "![moodleの構成](image/moodle-1-02.png)"
   ]
  },
  {
   "cell_type": "markdown",
   "metadata": {
    "lc_cell_meme": {
     "current": "72030c7c-751b-11e8-bd8a-0242ac110002",
     "next": "72030cea-751b-11e8-bd8a-0242ac110002",
     "previous": "72030c04-751b-11e8-bd8a-0242ac110002"
    }
   },
   "source": [
    "この一連のNotebookではDockerコンテナを用いて[Moodle](https://moodle.org/)環境の構築を行います。\n",
    "\n",
    "構築するMoodle環境は次の３つのコンテナで構成されています。\n",
    "\n",
    "* Moodle\n",
    "  - MoodleのPHPスクリプトを実行するコンテナ\n",
    "* [MySQL](https://hub.docker.com/_/mysql/)\n",
    "  - Moodleの設定を保存するデータベース\n",
    "* [Nginx](https://hub.docker.com/_/nginx/)\n",
    "  - Moodleサーバに対するリバースプロキシ\n",
    "\n",
    "ここでは小規模構成を想定して３つのコンテナを１つのVCノードに配置する構成とします。\n",
    "またMoodleとMySQLコンテナに対しては、データを保存するためのEBSをそれぞれのコンテナに割り当てます。"
   ]
  },
  {
   "cell_type": "markdown",
   "metadata": {
    "lc_cell_meme": {
     "current": "72030cea-751b-11e8-bd8a-0242ac110002",
     "next": "72030d58-751b-11e8-bd8a-0242ac110002",
     "previous": "72030c7c-751b-11e8-bd8a-0242ac110002"
    }
   },
   "source": [
    "# Ansibleの設定\n",
    "\n",
    "Notebook環境からVCノードの環境構築を行うために構成管理ツールの[Ansible](https://www.ansible.com/)を利用します。ここではAnsibleに関する設定を行います。\n",
    "![Ansibleの設定](image/moodle-1-03.png)"
   ]
  },
  {
   "cell_type": "markdown",
   "metadata": {
    "lc_cell_meme": {
     "current": "72030d58-751b-11e8-bd8a-0242ac110002",
     "next": "72030dc6-751b-11e8-bd8a-0242ac110002",
     "previous": "72030cea-751b-11e8-bd8a-0242ac110002"
    }
   },
   "source": [
    "## インベントリのパスを設定する"
   ]
  },
  {
   "cell_type": "markdown",
   "metadata": {
    "lc_cell_meme": {
     "current": "72030dc6-751b-11e8-bd8a-0242ac110002",
     "next": "72030e34-751b-11e8-bd8a-0242ac110002",
     "previous": "72030d58-751b-11e8-bd8a-0242ac110002"
    }
   },
   "source": [
    "Ansibleでは操作対象となるホストのリストをインベントリとして管理しています。ここではそのインベントリとして扱うファイルのパスを設定します。"
   ]
  },
  {
   "cell_type": "markdown",
   "metadata": {
    "lc_cell_meme": {
     "current": "72030e34-751b-11e8-bd8a-0242ac110002",
     "next": "72030ea2-751b-11e8-bd8a-0242ac110002",
     "previous": "72030dc6-751b-11e8-bd8a-0242ac110002"
    }
   },
   "source": [
    "インベントリのパスは[デフォルト設定](http://docs.ansible.com/ansible/latest/reference_appendices/config.html#default-host-list)では /etc/ansible/hosts になっています。これを`/notebooks/notebook/handson/moodle/hosts`に変更します。Ansible の設定値は`./ansible.cfg` にパラメータを書き込むことで変更できます。\n",
    "\n",
    "次のセルを実行することで `ansible.cfg` に必要なパラメータを設定できます。 "
   ]
  },
  {
   "cell_type": "code",
   "execution_count": 1,
   "metadata": {
    "deletable": false,
    "editable": false,
    "lc_cell_meme": {
     "current": "72030ea2-751b-11e8-bd8a-0242ac110002",
     "next": "72030f10-751b-11e8-bd8a-0242ac110002",
     "previous": "72030e34-751b-11e8-bd8a-0242ac110002"
    },
    "run_through_control": {
     "frozen": true
    }
   },
   "outputs": [
    {
     "name": "stdout",
     "output_type": "stream",
     "text": [
      "[defaults]\r\n",
      "inventory = /notebooks/notebook/handson/moodle/hosts\r\n"
     ]
    }
   ],
   "source": [
    "import os\n",
    "\n",
    "with open('./ansible.cfg', 'w') as f:\n",
    "    f.write('''[defaults]\n",
    "inventory = {}\n",
    "'''.format(os.path.join(os.getcwd(), 'hosts')))\n",
    "\n",
    "# 作成した ansible.cfg を表示\n",
    "!cat ansible.cfg"
   ]
  },
  {
   "cell_type": "markdown",
   "metadata": {
    "lc_cell_meme": {
     "current": "72030f10-751b-11e8-bd8a-0242ac110002",
     "next": "72030f7e-751b-11e8-bd8a-0242ac110002",
     "previous": "72030ea2-751b-11e8-bd8a-0242ac110002"
    }
   },
   "source": [
    "## グループ名を指定する\n",
    "\n",
    "Ansible の操作対象となるグループ名を指定します。"
   ]
  },
  {
   "cell_type": "markdown",
   "metadata": {
    "lc_cell_meme": {
     "current": "72030f7e-751b-11e8-bd8a-0242ac110002",
     "next": "72030fec-751b-11e8-bd8a-0242ac110002",
     "previous": "72030f10-751b-11e8-bd8a-0242ac110002"
    }
   },
   "source": [
    "Ansibleからリモートホストを操作するには対象となるホスト名（IPアドレス）を指定する必要があります。VCノードのIPアドレスは確保する毎に異なる値となる可能性があるので操作対象の指定に利用するのは適切ではありません。Ansible では複数のホストをまとめてグループとして扱うことができるので、操作対象の指定にはホスト名ではなくグループ名を利用することにします。"
   ]
  },
  {
   "cell_type": "code",
   "execution_count": 2,
   "metadata": {
    "deletable": false,
    "editable": false,
    "lc_cell_meme": {
     "current": "72030fec-751b-11e8-bd8a-0242ac110002",
     "next": "7203105a-751b-11e8-bd8a-0242ac110002",
     "previous": "72030f7e-751b-11e8-bd8a-0242ac110002"
    },
    "run_through_control": {
     "frozen": true
    }
   },
   "outputs": [],
   "source": [
    "target_group = 'Moodle'  # 操作対象のグループ名"
   ]
  },
  {
   "cell_type": "markdown",
   "metadata": {
    "heading_collapsed": true,
    "lc_cell_meme": {
     "current": "7203105a-751b-11e8-bd8a-0242ac110002",
     "next": "720310c8-751b-11e8-bd8a-0242ac110002",
     "previous": "72030fec-751b-11e8-bd8a-0242ac110002"
    }
   },
   "source": [
    "### チェックと保存"
   ]
  },
  {
   "cell_type": "markdown",
   "metadata": {
    "hidden": true,
    "lc_cell_meme": {
     "current": "720310c8-751b-11e8-bd8a-0242ac110002",
     "next": "72031136-751b-11e8-bd8a-0242ac110002",
     "previous": "7203105a-751b-11e8-bd8a-0242ac110002"
    }
   },
   "source": [
    "設定されたグループ名に対応する group_vars ファイルを作成してグループ名を記録します。\n",
    "既に同名の group_vars ファイルが存在している場合は、他の Notebook で利用中のグループ名であると判定してエラーとなります。"
   ]
  },
  {
   "cell_type": "code",
   "execution_count": 3,
   "metadata": {
    "deletable": false,
    "editable": false,
    "hidden": true,
    "lc_cell_meme": {
     "current": "72031136-751b-11e8-bd8a-0242ac110002",
     "next": "720311a4-751b-11e8-bd8a-0242ac110002",
     "previous": "720310c8-751b-11e8-bd8a-0242ac110002"
    },
    "run_through_control": {
     "frozen": true,
     "read_only": true
    }
   },
   "outputs": [
    {
     "name": "stdout",
     "output_type": "stream",
     "text": [
      "target_group: Moodle\r\n"
     ]
    }
   ],
   "source": [
    "import os\n",
    "group_vars_file = os.path.join(os.getcwd(), 'group_vars', target_group + '.yml')\n",
    "if os.path.exists(group_vars_file):\n",
    "    raise RuntimeError(\"ERROR: already exists: {}\".format(group_vars_file))\n",
    "\n",
    "# グループ名を保存する\n",
    "%run scripts/group.py\n",
    "update_group_vars(target_group, target_group=target_group)\n",
    "\n",
    "!cat group_vars/{target_group}.yml"
   ]
  },
  {
   "cell_type": "markdown",
   "metadata": {
    "lc_cell_meme": {
     "current": "720311a4-751b-11e8-bd8a-0242ac110002",
     "next": "72031212-751b-11e8-bd8a-0242ac110002",
     "previous": "72031136-751b-11e8-bd8a-0242ac110002"
    }
   },
   "source": [
    "## ログインユーザ名を指定する"
   ]
  },
  {
   "cell_type": "markdown",
   "metadata": {
    "lc_cell_meme": {
     "current": "72031212-751b-11e8-bd8a-0242ac110002",
     "next": "720312b2-751b-11e8-bd8a-0242ac110002",
     "previous": "720311a4-751b-11e8-bd8a-0242ac110002"
    }
   },
   "source": [
    "VCノードにログインする際のユーザ名を指定してください。\n",
    "\n",
    "> ここで指定したユーザがVCノードの起動時に自動的に作成されます。"
   ]
  },
  {
   "cell_type": "code",
   "execution_count": 4,
   "metadata": {
    "deletable": false,
    "editable": false,
    "lc_cell_meme": {
     "current": "720312b2-751b-11e8-bd8a-0242ac110002",
     "next": "72031320-751b-11e8-bd8a-0242ac110002",
     "previous": "72031212-751b-11e8-bd8a-0242ac110002"
    },
    "run_through_control": {
     "frozen": true
    }
   },
   "outputs": [],
   "source": [
    "ansible_user = 'ansible'"
   ]
  },
  {
   "cell_type": "markdown",
   "metadata": {
    "heading_collapsed": true,
    "lc_cell_meme": {
     "current": "72031320-751b-11e8-bd8a-0242ac110002",
     "next": "7203138e-751b-11e8-bd8a-0242ac110002",
     "previous": "720312b2-751b-11e8-bd8a-0242ac110002"
    }
   },
   "source": [
    "### チェックと保存"
   ]
  },
  {
   "cell_type": "code",
   "execution_count": 5,
   "metadata": {
    "deletable": false,
    "editable": false,
    "hidden": true,
    "lc_cell_meme": {
     "current": "7203138e-751b-11e8-bd8a-0242ac110002",
     "next": "720313fc-751b-11e8-bd8a-0242ac110002",
     "previous": "72031320-751b-11e8-bd8a-0242ac110002"
    },
    "run_through_control": {
     "frozen": true,
     "read_only": true
    }
   },
   "outputs": [],
   "source": [
    "import re\n",
    "%run scripts/group.py\n",
    "\n",
    "# 簡単なユーザ名のチェック\n",
    "username_pattern = re.compile(r'[a-zA-Z0-9_.][a-zA-Z0-9_.-]{0,30}[a-zA-Z0-9_.$-]?$')\n",
    "if not username_pattern.match(ansible_user):\n",
    "    raise RuntimeError(\"ERROR: invalid user name '{}'\".format(ansible_user))\n",
    "    \n",
    "# ユーザ名の保存\n",
    "update_group_vars(target_group, ansible_user=ansible_user)"
   ]
  },
  {
   "cell_type": "markdown",
   "metadata": {
    "lc_cell_meme": {
     "current": "720313fc-751b-11e8-bd8a-0242ac110002",
     "next": "72031460-751b-11e8-bd8a-0242ac110002",
     "previous": "7203138e-751b-11e8-bd8a-0242ac110002"
    }
   },
   "source": [
    "## ssh公開鍵を指定する\n",
    "\n",
    "VCノードにログインする際に利用するSSHの公開鍵ファイルの設定を行います。"
   ]
  },
  {
   "cell_type": "markdown",
   "metadata": {
    "lc_cell_meme": {
     "current": "72031460-751b-11e8-bd8a-0242ac110002",
     "next": "720314ce-751b-11e8-bd8a-0242ac110002",
     "previous": "720313fc-751b-11e8-bd8a-0242ac110002"
    }
   },
   "source": [
    "> ハンズオン環境では事前に公開鍵(~/.ssh/id_rsa_moodle)を作成してあります。"
   ]
  },
  {
   "cell_type": "code",
   "execution_count": 6,
   "metadata": {
    "deletable": false,
    "editable": false,
    "lc_cell_meme": {
     "current": "720314ce-751b-11e8-bd8a-0242ac110002",
     "next": "7203153c-751b-11e8-bd8a-0242ac110002",
     "previous": "72031460-751b-11e8-bd8a-0242ac110002"
    },
    "run_through_control": {
     "frozen": true,
     "read_only": true
    }
   },
   "outputs": [],
   "source": [
    "import os\n",
    "\n",
    "# 秘密鍵ファイルを設定する\n",
    "ansible_ssh_private_key_file = os.path.expanduser('~/.ssh/id_rsa_moodle')\n",
    "\n",
    "# 公開鍵ファイルを設定する。\n",
    "ansible_ssh_public_key_file = ansible_ssh_private_key_file + '.pub'"
   ]
  },
  {
   "cell_type": "markdown",
   "metadata": {
    "heading_collapsed": true,
    "lc_cell_meme": {
     "current": "7203153c-751b-11e8-bd8a-0242ac110002",
     "next": "720315aa-751b-11e8-bd8a-0242ac110002",
     "previous": "720314ce-751b-11e8-bd8a-0242ac110002"
    }
   },
   "source": [
    "### チェックと保存\n",
    "\n",
    "sshの鍵ファイルが存在していることを確認します。存在していたら group_vars ファイルに設定されたパスを保存します。"
   ]
  },
  {
   "cell_type": "code",
   "execution_count": 7,
   "metadata": {
    "deletable": false,
    "editable": false,
    "hidden": true,
    "lc_cell_meme": {
     "current": "720315aa-751b-11e8-bd8a-0242ac110002",
     "next": "7203160e-751b-11e8-bd8a-0242ac110002",
     "previous": "7203153c-751b-11e8-bd8a-0242ac110002"
    },
    "run_through_control": {
     "frozen": true,
     "read_only": true
    }
   },
   "outputs": [],
   "source": [
    "# ファイルの存在チェック\n",
    "for path in [ansible_ssh_private_key_file, ansible_ssh_public_key_file]:\n",
    "    if not os.path.exists(path):\n",
    "        raise RuntimeError(\"ERROR: not exists: {}\".format(path))\n",
    "\n",
    "# 保存\n",
    "update_group_vars(\n",
    "    target_group,\n",
    "    ansible_ssh_private_key_file=ansible_ssh_private_key_file,\n",
    "    ansible_ssh_public_key_file=ansible_ssh_public_key_file,\n",
    ")"
   ]
  },
  {
   "cell_type": "markdown",
   "metadata": {
    "lc_cell_meme": {
     "current": "7203160e-751b-11e8-bd8a-0242ac110002",
     "next": "7203167c-751b-11e8-bd8a-0242ac110002",
     "previous": "720315aa-751b-11e8-bd8a-0242ac110002"
    }
   },
   "source": [
    "## sshオプションを指定する"
   ]
  },
  {
   "cell_type": "markdown",
   "metadata": {
    "lc_cell_meme": {
     "current": "7203167c-751b-11e8-bd8a-0242ac110002",
     "next": "720316ea-751b-11e8-bd8a-0242ac110002",
     "previous": "7203160e-751b-11e8-bd8a-0242ac110002"
    }
   },
   "source": [
    "VCノードにSSHで接続する際のsshのオプションを設定します。\n",
    "\n",
    "ここでは新規ホストを追加した際の操作の煩雑さを避けるため、以下のオプションを設定します。\n",
    "* UserNownHostsFile=/dev/null (known_hostsに記録しないようにする)\n",
    "* StrictHostKeyChecking=no (ユーザに問い合わせることなく無条件にknown_hostsにホストキーを追加する)"
   ]
  },
  {
   "cell_type": "code",
   "execution_count": 8,
   "metadata": {
    "deletable": false,
    "editable": false,
    "lc_cell_meme": {
     "current": "720316ea-751b-11e8-bd8a-0242ac110002",
     "next": "72031758-751b-11e8-bd8a-0242ac110002",
     "previous": "7203167c-751b-11e8-bd8a-0242ac110002"
    },
    "run_through_control": {
     "frozen": true,
     "read_only": true
    }
   },
   "outputs": [],
   "source": [
    "ansible_ssh_extra_args = '-o StrictHostKeyChecking=no -o UserKnownHostsFile=/dev/null'"
   ]
  },
  {
   "cell_type": "markdown",
   "metadata": {
    "heading_collapsed": true,
    "lc_cell_meme": {
     "current": "72031758-751b-11e8-bd8a-0242ac110002",
     "next": "720317d0-751b-11e8-bd8a-0242ac110002",
     "previous": "720316ea-751b-11e8-bd8a-0242ac110002"
    }
   },
   "source": [
    "### 保存\n"
   ]
  },
  {
   "cell_type": "code",
   "execution_count": 9,
   "metadata": {
    "deletable": false,
    "editable": false,
    "hidden": true,
    "lc_cell_meme": {
     "current": "720317d0-751b-11e8-bd8a-0242ac110002",
     "next": "7203183e-751b-11e8-bd8a-0242ac110002",
     "previous": "72031758-751b-11e8-bd8a-0242ac110002"
    },
    "run_through_control": {
     "frozen": true,
     "read_only": true
    }
   },
   "outputs": [],
   "source": [
    "update_group_vars(\n",
    "    target_group,\n",
    "    ansible_ssh_extra_args=ansible_ssh_extra_args\n",
    ")"
   ]
  },
  {
   "cell_type": "markdown",
   "metadata": {
    "lc_cell_meme": {
     "current": "7203183e-751b-11e8-bd8a-0242ac110002",
     "next": "720318ac-751b-11e8-bd8a-0242ac110002",
     "previous": "720317d0-751b-11e8-bd8a-0242ac110002"
    }
   },
   "source": [
    "## 保存したパラメータの確認\n",
    "\n",
    "ここまで group_vars ファイルに保存したパラメータの内容を確認します。"
   ]
  },
  {
   "cell_type": "code",
   "execution_count": 10,
   "metadata": {
    "deletable": false,
    "editable": false,
    "lc_cell_meme": {
     "current": "720318ac-751b-11e8-bd8a-0242ac110002",
     "next": "72031910-751b-11e8-bd8a-0242ac110002",
     "previous": "7203183e-751b-11e8-bd8a-0242ac110002"
    },
    "run_through_control": {
     "frozen": true,
     "read_only": true
    }
   },
   "outputs": [
    {
     "name": "stdout",
     "output_type": "stream",
     "text": [
      "ansible_ssh_extra_args: -o StrictHostKeyChecking=no -o UserKnownHostsFile=/dev/null\r\n",
      "ansible_ssh_private_key_file: /home/bit_kun/.ssh/id_rsa_moodle\r\n",
      "ansible_ssh_public_key_file: /home/bit_kun/.ssh/id_rsa_moodle.pub\r\n",
      "ansible_user: ansible\r\n",
      "target_group: Moodle\r\n"
     ]
    }
   ],
   "source": [
    "!cat group_vars/{target_group}.yml"
   ]
  },
  {
   "cell_type": "markdown",
   "metadata": {
    "lc_cell_meme": {
     "current": "72031910-751b-11e8-bd8a-0242ac110002",
     "next": "7203197e-751b-11e8-bd8a-0242ac110002",
     "previous": "720318ac-751b-11e8-bd8a-0242ac110002"
    }
   },
   "source": [
    "# VCP Systemとの接続確認\n",
    "\n",
    "![VCP Systemとの接続確認](image/moodle-1-04.png)\n",
    "\n",
    "VCP Systemに接続できることを確認します。\n",
    "\n",
    "> ハンズオン環境ではVCP Systemに接続するためのアクセストークンは事前に設定ファイルに書き込まれています。"
   ]
  },
  {
   "cell_type": "markdown",
   "metadata": {
    "lc_cell_meme": {
     "current": "7203197e-751b-11e8-bd8a-0242ac110002",
     "next": "720319ec-751b-11e8-bd8a-0242ac110002",
     "previous": "72031910-751b-11e8-bd8a-0242ac110002"
    }
   },
   "source": [
    "## VCコントローラとの接続を確認する"
   ]
  },
  {
   "cell_type": "markdown",
   "metadata": {
    "lc_cell_meme": {
     "current": "720319ec-751b-11e8-bd8a-0242ac110002",
     "next": "72031a50-751b-11e8-bd8a-0242ac110002",
     "previous": "7203197e-751b-11e8-bd8a-0242ac110002"
    }
   },
   "source": [
    "VCP SystemのVC コントローラに接続できることを確認します。"
   ]
  },
  {
   "cell_type": "code",
   "execution_count": 11,
   "metadata": {
    "deletable": false,
    "editable": false,
    "lc_cell_meme": {
     "current": "72031a50-751b-11e8-bd8a-0242ac110002",
     "next": "72031abe-751b-11e8-bd8a-0242ac110002",
     "previous": "720319ec-751b-11e8-bd8a-0242ac110002"
    },
    "run_through_control": {
     "frozen": true
    }
   },
   "outputs": [
    {
     "name": "stdout",
     "output_type": "stream",
     "text": [
      "vc_name: vcksdk_check_20180621155618\n",
      "\n",
      "[Vc]\n",
      "+ name[vcksdk_check_20180621155618] vcno(22) state[RUNNING] vcid[1a2589f155264139b5f9359018e7f927]\n",
      "\n",
      "\n",
      "\n",
      "\n",
      "vcplib:\n",
      "  filename: /notebooks/notebook/vcplib/occtr.py\n",
      "  version: 18.04.1+201805010\n",
      "\n",
      "vcpsdk:\n",
      "  filename: /notebooks/notebook/vcpsdk/vcpsdk.py\n",
      "  version: 18.04.1+20180510\n",
      "\n",
      "  plugin:\n",
      "    aws: 1.0+20180331\n",
      "    azure: 1.0+20180331\n",
      "    sakura: 1.0+20180331\n",
      "    aic: 1.0+20180331\n",
      "    gcp: 1.0+20180331\n",
      "    onpremises: 1.0+20180331\n",
      "\n",
      "server:\n",
      "    host: 192.168.2.1\n",
      "    name: VCC511\n"
     ]
    }
   ],
   "source": [
    "from vcpsdk import vcpsdk\n",
    "from datetime import datetime\n",
    "%run scripts/group.py\n",
    "\n",
    "vcc_access_token = load_group_var(target_group, 'vcc_access_token')\n",
    "\n",
    "# 指定されたアクセストークンでVCコントローラに接続できるかチェックする\n",
    "sdk = vcpsdk.VcpSDK(\n",
    "    vcc_access_token, \n",
    "    'vcksdk_check_{:%Y%m%d%H%M%S}'.format(datetime.now()))\n",
    "print(sdk)\n",
    "\n",
    "# VCP SDK バージョン確認\n",
    "sdk.version()\n",
    "\n",
    "# チェックのためのVCP SDK を削除する\n",
    "sdk.cleanup(wait_for=True)"
   ]
  },
  {
   "cell_type": "markdown",
   "metadata": {
    "lc_cell_meme": {
     "current": "72031abe-751b-11e8-bd8a-0242ac110002",
     "next": "72031b2c-751b-11e8-bd8a-0242ac110002",
     "previous": "72031a50-751b-11e8-bd8a-0242ac110002"
    }
   },
   "source": [
    "## HashiCorp Vaultとの接続を確認する"
   ]
  },
  {
   "cell_type": "markdown",
   "metadata": {
    "lc_cell_meme": {
     "current": "72031b2c-751b-11e8-bd8a-0242ac110002",
     "next": "72031b9a-751b-11e8-bd8a-0242ac110002",
     "previous": "72031abe-751b-11e8-bd8a-0242ac110002"
    }
   },
   "source": [
    "VCPでは秘密情報を管理するために HashiCorp Vault サーバを用意しています（以降ではVaultサーバと記します）。このNotebookではMoodleの管理者パスワード、データベースのユーザパスワード、EBSの暗号化鍵ファイルなどの管理に利用しています。\n",
    "\n",
    "Vaultサーバに接続できることを確認します。"
   ]
  },
  {
   "cell_type": "code",
   "execution_count": 12,
   "metadata": {
    "deletable": false,
    "editable": false,
    "lc_cell_meme": {
     "current": "72031b9a-751b-11e8-bd8a-0242ac110002",
     "next": "72031c08-751b-11e8-bd8a-0242ac110002",
     "previous": "72031b2c-751b-11e8-bd8a-0242ac110002"
    },
    "run_through_control": {
     "frozen": true
    }
   },
   "outputs": [
    {
     "name": "stdout",
     "output_type": "stream",
     "text": [
      "http://192.168.2.1:8200\n",
      "{\"help\":\"## DESCRIPTION\\n\\nThe cubbyhole backend reads and writes arbitrary secrets to the backend.\\nThe secrets are encrypted/decrypted by Vault: they are never stored\\nunencrypted in the backend and the backend never has an opportunity to\\nsee the unencrypted value.\\n\\nThis backend differs from the 'generic' backend in that it is namespaced\\nper-token. Tokens can only read and write their own values, with no\\nsharing possible (per-token cubbyholes). This can be useful for implementing\\ncertain authentication workflows, as well as \\\"scratch\\\" areas for individual\\nclients. When the token is revoked, the entire set of stored values for that\\ntoken is also removed.\\n\\n## PATHS\\n\\nThe following paths are supported by this backend. To view help for\\nany of the paths below, use the help command with any route matching\\nthe path pattern. Note that depending on the policy of your auth token,\\nyou may or may not be able to access certain paths.\\n\\n    ^.*$\\n        Pass-through secret storage to a token-specific cubbyhole in the storage\\n        backend, allowing you to read/write arbitrary data into secret storage.\",\"see_also\":null}\r\n"
     ]
    }
   ],
   "source": [
    "%run scripts/group.py\n",
    "# Vaultサーバのアドレスを読み込む\n",
    "vault_address = load_group_var(target_group, 'vault_address')\n",
    "print(vault_address)\n",
    "\n",
    "# Vaultサーバのアクセストークンを読み込む\n",
    "vault_token = load_group_var(target_group, 'vcc_access_token')\n",
    "\n",
    "# Vaultサーバへのアクセス\n",
    "!curl --fail --header \"X-Vault-Token:{vault_token}\" \\\n",
    "    \"{vault_address}/v1/cubbyhole?help=1\""
   ]
  },
  {
   "cell_type": "markdown",
   "metadata": {
    "lc_cell_meme": {
     "current": "72031c08-751b-11e8-bd8a-0242ac110002",
     "next": "72031c80-751b-11e8-bd8a-0242ac110002",
     "previous": "72031b9a-751b-11e8-bd8a-0242ac110002"
    }
   },
   "source": [
    "Vaultサーバのアクセスに失敗した場合はエラーとなります。エラーとなった場合はcurlコマンドのエラー出力を確認して適切な対応を行ってください。\n",
    "\n",
    "よくあるエラー出力とその対応方法について以下に記します。\n",
    "\n",
    "* エラー出力: ```curl: (7) Failed to connect to 172.30.XXX.XXX port 8200: Connection refused```\n",
    "  - 原因\n",
    "    - 設定されているVaultサーバのアドレスが正しくありません\n",
    "  - 対応\n",
    "    - Vaultサーバのアドレスを設定しなおしてください\n",
    "\n",
    "* エラー出力: ```curl: (22) The requested URL returned error: 403 Forbidden```\n",
    "  - 原因\n",
    "    - Vaultサーバのアクセストークンが正しくありません\n",
    "  - 対応\n",
    "    - Vaultサーバのアクセストークンを設定しなおしてください\n",
    "    - Vaultサーバが正しく設定されているかVCP管理者に問い合わせてください\n",
    "    "
   ]
  },
  {
   "cell_type": "markdown",
   "metadata": {
    "lc_cell_meme": {
     "current": "72031c80-751b-11e8-bd8a-0242ac110002",
     "next": "72031cf8-751b-11e8-bd8a-0242ac110002",
     "previous": "72031c08-751b-11e8-bd8a-0242ac110002"
    }
   },
   "source": [
    "# VCノードに関する設定\n",
    "\n",
    "![VCノードに関する設定](image/moodle-1-05.png)"
   ]
  },
  {
   "cell_type": "markdown",
   "metadata": {
    "lc_cell_meme": {
     "current": "72031cf8-751b-11e8-bd8a-0242ac110002",
     "next": "72031d66-751b-11e8-bd8a-0242ac110002",
     "previous": "72031c80-751b-11e8-bd8a-0242ac110002"
    }
   },
   "source": [
    "## クラウドプロバイダを選択する\n",
    "\n",
    "VCノードを起動するプロバイダを指定します。"
   ]
  },
  {
   "cell_type": "markdown",
   "metadata": {
    "lc_cell_meme": {
     "current": "72031d66-751b-11e8-bd8a-0242ac110002",
     "next": "72031dca-751b-11e8-bd8a-0242ac110002",
     "previous": "72031cf8-751b-11e8-bd8a-0242ac110002"
    }
   },
   "source": [
    "VCPがシステムとして指定できるプロバイダの値を以下に示します。\n",
    "\n",
    "* aws\n",
    "* azure\n",
    "* gcp\n",
    "* sakura\n",
    "\n",
    "ただし、実際に上記の全てのプロバイダが利用できるわけではなく、実行環境毎に利用できるプロバイダは異なります。\n",
    "\n",
    "ハンズオン環境では `aws` のみが利用できます。"
   ]
  },
  {
   "cell_type": "code",
   "execution_count": 13,
   "metadata": {
    "deletable": false,
    "editable": false,
    "lc_cell_meme": {
     "current": "72031dca-751b-11e8-bd8a-0242ac110002",
     "next": "72031e38-751b-11e8-bd8a-0242ac110002",
     "previous": "72031d66-751b-11e8-bd8a-0242ac110002"
    },
    "run_through_control": {
     "frozen": true,
     "read_only": true
    }
   },
   "outputs": [],
   "source": [
    "# (例)\n",
    "# vcp_provider = 'aws'\n",
    "# vcp_provider = 'azure'\n",
    "\n",
    "vcp_provider = 'aws'"
   ]
  },
  {
   "cell_type": "markdown",
   "metadata": {
    "heading_collapsed": true,
    "lc_cell_meme": {
     "current": "72031e38-751b-11e8-bd8a-0242ac110002",
     "next": "72031ea6-751b-11e8-bd8a-0242ac110002",
     "previous": "72031dca-751b-11e8-bd8a-0242ac110002"
    }
   },
   "source": [
    "### チェックと保存"
   ]
  },
  {
   "cell_type": "markdown",
   "metadata": {
    "hidden": true,
    "lc_cell_meme": {
     "current": "72031ea6-751b-11e8-bd8a-0242ac110002",
     "next": "72031f14-751b-11e8-bd8a-0242ac110002",
     "previous": "72031e38-751b-11e8-bd8a-0242ac110002"
    }
   },
   "source": [
    "設定されたプロバイダ名が妥当かどうかチェックする。\n",
    "\n",
    "> ここでは形式的なチェックのみ行い、実際にこの環境から指定されたプロバイダが利用できるかどうかまでは確認しない。\n",
    "\n",
    "設定されたプロバイダ名が妥当である場合は、その値を group_vars ファイルに保存する。"
   ]
  },
  {
   "cell_type": "code",
   "execution_count": 14,
   "metadata": {
    "deletable": false,
    "editable": false,
    "hidden": true,
    "lc_cell_meme": {
     "current": "72031f14-751b-11e8-bd8a-0242ac110002",
     "next": "72031f82-751b-11e8-bd8a-0242ac110002",
     "previous": "72031ea6-751b-11e8-bd8a-0242ac110002"
    },
    "run_through_control": {
     "frozen": true,
     "read_only": true
    }
   },
   "outputs": [],
   "source": [
    "# プロバイダ名の妥当性チェック\n",
    "#if vcp_provider not in ['aws', 'azure', 'gcp', 'sakura']:\n",
    "if vcp_provider not in ['aws']:\n",
    "    raise RuntimeError(\"ERROR: invalid name: {}\".format(vcp_provider))\n",
    "\n",
    "# 保存\n",
    "update_group_vars(\n",
    "    target_group,\n",
    "    vcp_provider=vcp_provider,\n",
    ")"
   ]
  },
  {
   "cell_type": "markdown",
   "metadata": {
    "lc_cell_meme": {
     "current": "72031f82-751b-11e8-bd8a-0242ac110002",
     "next": "72031ff0-751b-11e8-bd8a-0242ac110002",
     "previous": "72031f14-751b-11e8-bd8a-0242ac110002"
    }
   },
   "source": [
    "## 割り当てるリソース量を指定する\n",
    "\n",
    "VCノードに割り当てるリソース量を指定します。"
   ]
  },
  {
   "cell_type": "markdown",
   "metadata": {
    "lc_cell_meme": {
     "current": "72031ff0-751b-11e8-bd8a-0242ac110002",
     "next": "7203205e-751b-11e8-bd8a-0242ac110002",
     "previous": "72031f82-751b-11e8-bd8a-0242ac110002"
    }
   },
   "source": [
    "リソース量の指定方法は各クラウドプロバイダ毎に異なります。VCP SDKではそれらを抽象化した `flavor` でリソースの割り当て量を指定することができます。ここではVCノードに割り当てるリソース量を `flavor` で指定します。"
   ]
  },
  {
   "cell_type": "code",
   "execution_count": 15,
   "metadata": {
    "deletable": false,
    "editable": false,
    "lc_cell_meme": {
     "current": "7203205e-751b-11e8-bd8a-0242ac110002",
     "next": "720320cc-751b-11e8-bd8a-0242ac110002",
     "previous": "72031ff0-751b-11e8-bd8a-0242ac110002"
    },
    "run_through_control": {
     "frozen": true
    }
   },
   "outputs": [],
   "source": [
    "# (例)\n",
    "# vcp_flavor = 'small'\n",
    "\n",
    "vcp_flavor = 'small'"
   ]
  },
  {
   "cell_type": "markdown",
   "metadata": {
    "heading_collapsed": true,
    "lc_cell_meme": {
     "current": "720320cc-751b-11e8-bd8a-0242ac110002",
     "next": "7203213a-751b-11e8-bd8a-0242ac110002",
     "previous": "7203205e-751b-11e8-bd8a-0242ac110002"
    }
   },
   "source": [
    "### チェックと保存\n",
    "\n",
    "設定された値の妥当性をチェックして問題なければ group_vars ファイルに保存する。"
   ]
  },
  {
   "cell_type": "code",
   "execution_count": 16,
   "metadata": {
    "deletable": false,
    "editable": false,
    "hidden": true,
    "lc_cell_meme": {
     "current": "7203213a-751b-11e8-bd8a-0242ac110002",
     "next": "720321a8-751b-11e8-bd8a-0242ac110002",
     "previous": "720320cc-751b-11e8-bd8a-0242ac110002"
    },
    "run_through_control": {
     "frozen": true,
     "read_only": true
    }
   },
   "outputs": [],
   "source": [
    "from vcpsdk.vcp_config_yaml import VcpConfigYaml\n",
    "%run scripts/group.py\n",
    "\n",
    "vcp_provider = load_group_var(target_group, 'vcp_provider')\n",
    "flavor_config = VcpConfigYaml().load('vcp_flavor')\n",
    "if vcp_flavor not in flavor_config[vcp_provider]:\n",
    "    raise RuntimeError(\"ERROR: invalid value: {}\".format(vcp_flavor))\n",
    "\n",
    "update_group_vars(\n",
    "    target_group,\n",
    "    vcp_flavor=vcp_flavor,\n",
    ")"
   ]
  },
  {
   "cell_type": "markdown",
   "metadata": {
    "lc_cell_meme": {
     "current": "720321a8-751b-11e8-bd8a-0242ac110002",
     "next": "72032216-751b-11e8-bd8a-0242ac110002",
     "previous": "7203213a-751b-11e8-bd8a-0242ac110002"
    }
   },
   "source": [
    "## IPアドレスを確認する"
   ]
  },
  {
   "cell_type": "markdown",
   "metadata": {
    "lc_cell_meme": {
     "current": "72032216-751b-11e8-bd8a-0242ac110002",
     "next": "7203227a-751b-11e8-bd8a-0242ac110002",
     "previous": "720321a8-751b-11e8-bd8a-0242ac110002"
    }
   },
   "source": [
    "VCP SDKではVCノードの起動時に適切なプライベートIPアドレスを自動的に割り当てます。また、自動的な割り当てを行わずに事前に設定したIPアドレスをVCノードに割り当てることもできます。MoodleなどのサーバをNATインスタンスを経由してインターネットに公開する場合は、NATインスタンスのDNAT設定とアドレスを合わせるために事前にIPアドレスを設定するほうが適しています。\n",
    "\n",
    "ハンズオン環境ではNATインスタンスの設定に合わせたIPアドレスの設定を事前に行っています。設定されているIPアドレスの値を確認します。"
   ]
  },
  {
   "cell_type": "code",
   "execution_count": 17,
   "metadata": {
    "deletable": false,
    "editable": false,
    "lc_cell_meme": {
     "current": "7203227a-751b-11e8-bd8a-0242ac110002",
     "next": "720322e8-751b-11e8-bd8a-0242ac110002",
     "previous": "72032216-751b-11e8-bd8a-0242ac110002"
    },
    "run_through_control": {
     "frozen": true,
     "read_only": true
    }
   },
   "outputs": [
    {
     "name": "stdout",
     "output_type": "stream",
     "text": [
      "172.30.2.100\n"
     ]
    }
   ],
   "source": [
    "%run scripts/group.py\n",
    "vc_node_address = load_group_var(target_group, 'vc_node_address')\n",
    "print(vc_node_address)"
   ]
  },
  {
   "cell_type": "markdown",
   "metadata": {
    "lc_cell_meme": {
     "current": "720322e8-751b-11e8-bd8a-0242ac110002",
     "next": "72032356-751b-11e8-bd8a-0242ac110002",
     "previous": "7203227a-751b-11e8-bd8a-0242ac110002"
    }
   },
   "source": [
    "## 保存したパラメータの確認\n",
    "\n",
    "ここまで group_vars ファイルに保存したパラメータの内容を確認します。"
   ]
  },
  {
   "cell_type": "code",
   "execution_count": 18,
   "metadata": {
    "deletable": false,
    "editable": false,
    "lc_cell_meme": {
     "current": "72032356-751b-11e8-bd8a-0242ac110002",
     "next": "720323ba-751b-11e8-bd8a-0242ac110002",
     "previous": "720322e8-751b-11e8-bd8a-0242ac110002"
    },
    "run_through_control": {
     "frozen": true,
     "read_only": true
    }
   },
   "outputs": [
    {
     "name": "stdout",
     "output_type": "stream",
     "text": [
      "ansible_ssh_extra_args: -o StrictHostKeyChecking=no -o UserKnownHostsFile=/dev/null\r\n",
      "ansible_ssh_private_key_file: /home/bit_kun/.ssh/id_rsa_moodle\r\n",
      "ansible_ssh_public_key_file: /home/bit_kun/.ssh/id_rsa_moodle.pub\r\n",
      "ansible_user: ansible\r\n",
      "target_group: Moodle\r\n",
      "vcp_flavor: small\r\n",
      "vcp_provider: aws\r\n"
     ]
    }
   ],
   "source": [
    "!cat group_vars/{target_group}.yml"
   ]
  },
  {
   "cell_type": "markdown",
   "metadata": {
    "lc_cell_meme": {
     "current": "720323ba-751b-11e8-bd8a-0242ac110002",
     "next": "72032428-751b-11e8-bd8a-0242ac110002",
     "previous": "72032356-751b-11e8-bd8a-0242ac110002"
    }
   },
   "source": [
    "# ボリューム(EBS)に関する設定\n",
    "\n",
    "![ボリュームに関する設定](image/moodle-1-06.png)\n",
    "\n"
   ]
  },
  {
   "cell_type": "markdown",
   "metadata": {
    "lc_cell_meme": {
     "current": "72032428-751b-11e8-bd8a-0242ac110002",
     "next": "72032496-751b-11e8-bd8a-0242ac110002",
     "previous": "720323ba-751b-11e8-bd8a-0242ac110002"
    }
   },
   "source": [
    "このNotebookが構築するMoodle環境では３つのEBSを使用しています。\n",
    "\n",
    "* ルートボリューム\n",
    "   - VCノードのルートボリューム\n",
    "   - OSなどがインストールされている\n",
    "* Moodle用ボリューム\n",
    "   - Moodle のデータとPHPファイルを格納する\n",
    "* MySQL用ボリューム\n",
    "   - MySQL のデータを格納する\n",
    "   \n",
    "それぞれのボリュームに対して以下のパラメータを設定します。\n",
    "\n",
    "* サイズ(GB)\n",
    "* ボリュームタイプ\n",
    "* マウントポイント\n",
    "* ファイルシステム\n",
    "\n",
    "> アプリケーションテンプレートのNotebookではMoodle/MySQL用のEBSをNotebookから作成しているため、上記4つのパラメータを指定する必要があります。今回のハンズオンでは事前にMoodle/MySQL用のEBSを作成しているため、マウントポイントとファイルシステムの指定のみが必要となります。サイズとボリュームタイプに関しては事前に設定した値の確認のみ行います。"
   ]
  },
  {
   "cell_type": "markdown",
   "metadata": {
    "lc_cell_meme": {
     "current": "72032496-751b-11e8-bd8a-0242ac110002",
     "next": "72032504-751b-11e8-bd8a-0242ac110002",
     "previous": "72032428-751b-11e8-bd8a-0242ac110002"
    }
   },
   "source": [
    "## ルートボリュームサイズを指定する"
   ]
  },
  {
   "cell_type": "markdown",
   "metadata": {
    "lc_cell_meme": {
     "current": "72032504-751b-11e8-bd8a-0242ac110002",
     "next": "72032572-751b-11e8-bd8a-0242ac110002",
     "previous": "72032496-751b-11e8-bd8a-0242ac110002"
    }
   },
   "source": [
    "ルートボリュームについてはサイズ(GB)のみを指定することができます。ただしルートボリュームサイズは、 通常「[5.2 割り当てるリソース量を指定する](#割り当てるリソース量を指定する)」で設定した `flavor` により適切な値が選択されます。`flavor`で設定される値と**異なるサイズを指定したい**場合のみ、ここで値を設定してください。"
   ]
  },
  {
   "cell_type": "code",
   "execution_count": 19,
   "metadata": {
    "deletable": false,
    "editable": false,
    "lc_cell_meme": {
     "current": "72032572-751b-11e8-bd8a-0242ac110002",
     "next": "720325e0-751b-11e8-bd8a-0242ac110002",
     "previous": "72032504-751b-11e8-bd8a-0242ac110002"
    },
    "run_through_control": {
     "frozen": true,
     "read_only": true
    }
   },
   "outputs": [],
   "source": [
    "# (例)\n",
    "# root_volume_size = 32"
   ]
  },
  {
   "cell_type": "markdown",
   "metadata": {
    "heading_collapsed": true,
    "lc_cell_meme": {
     "current": "720325e0-751b-11e8-bd8a-0242ac110002",
     "next": "72032644-751b-11e8-bd8a-0242ac110002",
     "previous": "72032572-751b-11e8-bd8a-0242ac110002"
    }
   },
   "source": [
    "### 保存"
   ]
  },
  {
   "cell_type": "code",
   "execution_count": 20,
   "metadata": {
    "deletable": false,
    "editable": false,
    "hidden": true,
    "lc_cell_meme": {
     "current": "72032644-751b-11e8-bd8a-0242ac110002",
     "next": "720326b2-751b-11e8-bd8a-0242ac110002",
     "previous": "720325e0-751b-11e8-bd8a-0242ac110002"
    },
    "run_through_control": {
     "frozen": true,
     "read_only": true
    },
    "scrolled": true
   },
   "outputs": [],
   "source": [
    "if 'root_volume_size' in vars():\n",
    "    %run scripts/group.py\n",
    "    update_group_vars(\n",
    "        target_group,\n",
    "        root_volume_size=root_volume_size,\n",
    "    )"
   ]
  },
  {
   "cell_type": "markdown",
   "metadata": {
    "lc_cell_meme": {
     "current": "720326b2-751b-11e8-bd8a-0242ac110002",
     "next": "72032720-751b-11e8-bd8a-0242ac110002",
     "previous": "72032644-751b-11e8-bd8a-0242ac110002"
    }
   },
   "source": [
    "## Moodle用ボリュームのパラメータ設定\n",
    "\n",
    "Moodle用ボリュームに関するパラメータを指定してください。"
   ]
  },
  {
   "cell_type": "markdown",
   "metadata": {
    "lc_cell_meme": {
     "current": "72032720-751b-11e8-bd8a-0242ac110002",
     "next": "7203278e-751b-11e8-bd8a-0242ac110002",
     "previous": "720326b2-751b-11e8-bd8a-0242ac110002"
    }
   },
   "source": [
    "### Moodle用ボリュームのサイズを確認する"
   ]
  },
  {
   "cell_type": "markdown",
   "metadata": {
    "lc_cell_meme": {
     "current": "7203278e-751b-11e8-bd8a-0242ac110002",
     "next": "720327fc-751b-11e8-bd8a-0242ac110002",
     "previous": "72032720-751b-11e8-bd8a-0242ac110002"
    }
   },
   "source": [
    "Moodle用ボリュームのサイズ(GB)を指定します。\n",
    "\n",
    "\n",
    "> ハンズオン環境では事前に設定しているので設定値の確認のみ行います。"
   ]
  },
  {
   "cell_type": "code",
   "execution_count": 21,
   "metadata": {
    "deletable": false,
    "editable": false,
    "lc_cell_meme": {
     "current": "720327fc-751b-11e8-bd8a-0242ac110002",
     "next": "72032860-751b-11e8-bd8a-0242ac110002",
     "previous": "7203278e-751b-11e8-bd8a-0242ac110002"
    },
    "run_through_control": {
     "frozen": true,
     "read_only": true
    }
   },
   "outputs": [
    {
     "name": "stdout",
     "output_type": "stream",
     "text": [
      "8\n"
     ]
    }
   ],
   "source": [
    "# (例)\n",
    "# volume_moodle_size = 320\n",
    "\n",
    "print(load_group_var(target_group, 'volume_moodle_size'))"
   ]
  },
  {
   "cell_type": "markdown",
   "metadata": {
    "lc_cell_meme": {
     "current": "72032860-751b-11e8-bd8a-0242ac110002",
     "next": "720328ce-751b-11e8-bd8a-0242ac110002",
     "previous": "720327fc-751b-11e8-bd8a-0242ac110002"
    }
   },
   "source": [
    "### Moodle用ボリュームのボリュームタイプを確認する"
   ]
  },
  {
   "cell_type": "markdown",
   "metadata": {
    "lc_cell_meme": {
     "current": "720328ce-751b-11e8-bd8a-0242ac110002",
     "next": "7203293c-751b-11e8-bd8a-0242ac110002",
     "previous": "72032860-751b-11e8-bd8a-0242ac110002"
    }
   },
   "source": [
    "ボリュームタイプを指定します。\n",
    "\n",
    "> ハンズオン環境では事前に設定しているので設定値の確認のみ行います。\n",
    "\n",
    "指定できるタイプはクラウドプロバイダ毎に異なります。どのような値が指定できるかについては以下のリンクを参考にしてください。\n",
    "\n",
    "* AWS\n",
    "  - [Amazon EBS ボリュームの種類](http://docs.aws.amazon.com/ja_jp/AWSEC2/latest/UserGuide/EBSVolumeTypes.html)\n",
    "* Azure\n",
    "  - [Managed Disks の価格](https://azure.microsoft.com/ja-jp/pricing/details/managed-disks/)"
   ]
  },
  {
   "cell_type": "code",
   "execution_count": 22,
   "metadata": {
    "deletable": false,
    "editable": false,
    "lc_cell_meme": {
     "current": "7203293c-751b-11e8-bd8a-0242ac110002",
     "next": "720329aa-751b-11e8-bd8a-0242ac110002",
     "previous": "720328ce-751b-11e8-bd8a-0242ac110002"
    },
    "run_through_control": {
     "frozen": true,
     "read_only": true
    }
   },
   "outputs": [
    {
     "name": "stdout",
     "output_type": "stream",
     "text": [
      "gp2\n"
     ]
    }
   ],
   "source": [
    "# (例)\n",
    "# AWSの場合\n",
    "# volume_moodle_type = 'gp2'\n",
    "# Azureの場合\n",
    "# volume_moodle_type = 'Standard_LRS'\n",
    "\n",
    "print(load_group_var(target_group, 'volume_moodle_type'))"
   ]
  },
  {
   "cell_type": "markdown",
   "metadata": {
    "lc_cell_meme": {
     "current": "720329aa-751b-11e8-bd8a-0242ac110002",
     "next": "72032a18-751b-11e8-bd8a-0242ac110002",
     "previous": "7203293c-751b-11e8-bd8a-0242ac110002"
    }
   },
   "source": [
    "### Moodle用ボリュームのマウントポイントを指定する\n",
    "\n",
    "Moodle用ボリュームをマウントするディレクトリを指定してください。"
   ]
  },
  {
   "cell_type": "code",
   "execution_count": 23,
   "metadata": {
    "deletable": false,
    "editable": false,
    "lc_cell_meme": {
     "current": "72032a18-751b-11e8-bd8a-0242ac110002",
     "next": "72032a90-751b-11e8-bd8a-0242ac110002",
     "previous": "720329aa-751b-11e8-bd8a-0242ac110002"
    },
    "run_through_control": {
     "frozen": true
    }
   },
   "outputs": [],
   "source": [
    "volume_moodle_mount = '/opt/moodle'"
   ]
  },
  {
   "cell_type": "markdown",
   "metadata": {
    "heading_collapsed": true,
    "lc_cell_meme": {
     "current": "72032a90-751b-11e8-bd8a-0242ac110002",
     "next": "72032afe-751b-11e8-bd8a-0242ac110002",
     "previous": "72032a18-751b-11e8-bd8a-0242ac110002"
    }
   },
   "source": [
    "#### 保存"
   ]
  },
  {
   "cell_type": "code",
   "execution_count": 24,
   "metadata": {
    "deletable": false,
    "editable": false,
    "hidden": true,
    "lc_cell_meme": {
     "current": "72032afe-751b-11e8-bd8a-0242ac110002",
     "next": "72032b62-751b-11e8-bd8a-0242ac110002",
     "previous": "72032a90-751b-11e8-bd8a-0242ac110002"
    },
    "run_through_control": {
     "frozen": true
    }
   },
   "outputs": [],
   "source": [
    "%run scripts/group.py\n",
    "update_group_vars(\n",
    "    target_group,\n",
    "    volume_moodle_mount=volume_moodle_mount,\n",
    ")"
   ]
  },
  {
   "cell_type": "markdown",
   "metadata": {
    "lc_cell_meme": {
     "current": "72032b62-751b-11e8-bd8a-0242ac110002",
     "next": "72032bd0-751b-11e8-bd8a-0242ac110002",
     "previous": "72032afe-751b-11e8-bd8a-0242ac110002"
    }
   },
   "source": [
    "### Moodle用ボリュームのファイルシステムを指定する\n"
   ]
  },
  {
   "cell_type": "markdown",
   "metadata": {
    "lc_cell_meme": {
     "current": "72032bd0-751b-11e8-bd8a-0242ac110002",
     "next": "72032c3e-751b-11e8-bd8a-0242ac110002",
     "previous": "72032b62-751b-11e8-bd8a-0242ac110002"
    }
   },
   "source": [
    "Moodle用ボリュームのファイルシステムを指定してください。\n",
    "\n",
    "今のところ指定できる値は **btrfs のみ**になっています。"
   ]
  },
  {
   "cell_type": "code",
   "execution_count": 25,
   "metadata": {
    "deletable": false,
    "editable": false,
    "lc_cell_meme": {
     "current": "72032c3e-751b-11e8-bd8a-0242ac110002",
     "next": "72032cac-751b-11e8-bd8a-0242ac110002",
     "previous": "72032bd0-751b-11e8-bd8a-0242ac110002"
    },
    "run_through_control": {
     "frozen": true,
     "read_only": true
    }
   },
   "outputs": [],
   "source": [
    "volume_moodle_fs = 'btrfs'"
   ]
  },
  {
   "cell_type": "markdown",
   "metadata": {
    "lc_cell_meme": {
     "current": "72032cac-751b-11e8-bd8a-0242ac110002",
     "next": "72032d10-751b-11e8-bd8a-0242ac110002",
     "previous": "72032c3e-751b-11e8-bd8a-0242ac110002"
    }
   },
   "source": [
    "ファイルシステムをマウントする際のオプションを指定してください。ここで値が指定されない場合はデフォルトの設定でマウントされます。"
   ]
  },
  {
   "cell_type": "code",
   "execution_count": 26,
   "metadata": {
    "deletable": false,
    "editable": false,
    "lc_cell_meme": {
     "current": "72032d10-751b-11e8-bd8a-0242ac110002",
     "next": "72032d7e-751b-11e8-bd8a-0242ac110002",
     "previous": "72032cac-751b-11e8-bd8a-0242ac110002"
    },
    "run_through_control": {
     "frozen": true
    }
   },
   "outputs": [],
   "source": [
    "# (例)\n",
    "# volume_moodle_mount_opt = 'noatime,autodefrag,compress-force=lzo,space_cache'"
   ]
  },
  {
   "cell_type": "markdown",
   "metadata": {
    "heading_collapsed": true,
    "lc_cell_meme": {
     "current": "72032d7e-751b-11e8-bd8a-0242ac110002",
     "next": "72032df6-751b-11e8-bd8a-0242ac110002",
     "previous": "72032d10-751b-11e8-bd8a-0242ac110002"
    }
   },
   "source": [
    "#### 保存"
   ]
  },
  {
   "cell_type": "code",
   "execution_count": 27,
   "metadata": {
    "deletable": false,
    "editable": false,
    "hidden": true,
    "lc_cell_meme": {
     "current": "72032df6-751b-11e8-bd8a-0242ac110002",
     "next": "72032e64-751b-11e8-bd8a-0242ac110002",
     "previous": "72032d7e-751b-11e8-bd8a-0242ac110002"
    },
    "run_through_control": {
     "frozen": true,
     "read_only": true
    }
   },
   "outputs": [],
   "source": [
    "# サポートしているファイルシステムが指定されているかをチェックする\n",
    "support_fs = ['btrfs']\n",
    "if volume_moodle_fs not in support_fs:\n",
    "    raise RuntimeError(\n",
    "        \"ERROR: Unsupported file system: {}\".format(volume_moodle_fs))\n",
    "\n",
    "update_group_vars(\n",
    "    target_group,\n",
    "    volume_moodle_fs=volume_moodle_fs,\n",
    ")\n",
    "\n",
    "update_group_vars(\n",
    "    target_group,\n",
    "    volume_moodle_mount_opt=(\n",
    "        volume_moodle_mount_opt\n",
    "        if 'volume_moodle_mount_opt' in vars()\n",
    "        else 'defaults'\n",
    "    ),\n",
    ")"
   ]
  },
  {
   "cell_type": "markdown",
   "metadata": {
    "lc_cell_meme": {
     "current": "72032e64-751b-11e8-bd8a-0242ac110002",
     "next": "72032ed2-751b-11e8-bd8a-0242ac110002",
     "previous": "72032df6-751b-11e8-bd8a-0242ac110002"
    }
   },
   "source": [
    "## MySQL用ボリューム\n",
    "\n",
    "MySQLのデータを格納するボリュームに関するパラメータを指定します。"
   ]
  },
  {
   "cell_type": "markdown",
   "metadata": {
    "lc_cell_meme": {
     "current": "72032ed2-751b-11e8-bd8a-0242ac110002",
     "next": "72032f40-751b-11e8-bd8a-0242ac110002",
     "previous": "72032e64-751b-11e8-bd8a-0242ac110002"
    }
   },
   "source": [
    "### MySQL用ボリュームのサイズを確認する"
   ]
  },
  {
   "cell_type": "markdown",
   "metadata": {
    "lc_cell_meme": {
     "current": "72032f40-751b-11e8-bd8a-0242ac110002",
     "next": "72032fae-751b-11e8-bd8a-0242ac110002",
     "previous": "72032ed2-751b-11e8-bd8a-0242ac110002"
    }
   },
   "source": [
    "MySQL用ボリュームのサイズ(GB)を指定します。\n",
    "\n",
    "\n",
    "> ハンズオン環境では事前に設定しているので設定値の確認のみ行います。"
   ]
  },
  {
   "cell_type": "code",
   "execution_count": 28,
   "metadata": {
    "deletable": false,
    "editable": false,
    "lc_cell_meme": {
     "current": "72032fae-751b-11e8-bd8a-0242ac110002",
     "next": "72033012-751b-11e8-bd8a-0242ac110002",
     "previous": "72032f40-751b-11e8-bd8a-0242ac110002"
    },
    "run_through_control": {
     "frozen": true,
     "read_only": true
    }
   },
   "outputs": [
    {
     "name": "stdout",
     "output_type": "stream",
     "text": [
      "8\n"
     ]
    }
   ],
   "source": [
    "# (例)\n",
    "# volume_database_size = 12\n",
    "\n",
    "print(load_group_var(target_group, 'volume_database_size'))"
   ]
  },
  {
   "cell_type": "markdown",
   "metadata": {
    "lc_cell_meme": {
     "current": "72033012-751b-11e8-bd8a-0242ac110002",
     "next": "72033080-751b-11e8-bd8a-0242ac110002",
     "previous": "72032fae-751b-11e8-bd8a-0242ac110002"
    }
   },
   "source": [
    "### MySQL用ボリュームのボリュームタイプを確認する"
   ]
  },
  {
   "cell_type": "markdown",
   "metadata": {
    "lc_cell_meme": {
     "current": "72033080-751b-11e8-bd8a-0242ac110002",
     "next": "720330ee-751b-11e8-bd8a-0242ac110002",
     "previous": "72033012-751b-11e8-bd8a-0242ac110002"
    }
   },
   "source": [
    "ボリュームタイプを指定します。\n",
    "\n",
    "> ハンズオン環境では事前に設定しているので設定値の確認のみ行います。\n",
    "\n",
    "指定できるタイプはクラウドプロバイダ毎に異なります。どのような値が指定できるかについては以下のリンクを参考にしてください。\n",
    "\n",
    "* AWS\n",
    "  - [Amazon EBS ボリュームの種類](http://docs.aws.amazon.com/ja_jp/AWSEC2/latest/UserGuide/EBSVolumeTypes.html)\n",
    "* Azure\n",
    "  - [Managed Disks の価格](https://azure.microsoft.com/ja-jp/pricing/details/managed-disks/)"
   ]
  },
  {
   "cell_type": "code",
   "execution_count": 29,
   "metadata": {
    "deletable": false,
    "editable": false,
    "lc_cell_meme": {
     "current": "720330ee-751b-11e8-bd8a-0242ac110002",
     "next": "7203315c-751b-11e8-bd8a-0242ac110002",
     "previous": "72033080-751b-11e8-bd8a-0242ac110002"
    },
    "run_through_control": {
     "frozen": true,
     "read_only": true
    },
    "scrolled": true
   },
   "outputs": [
    {
     "name": "stdout",
     "output_type": "stream",
     "text": [
      "gp2\n"
     ]
    }
   ],
   "source": [
    "# (例)\n",
    "# AWSの場合\n",
    "# volume_database_type = 'gp2'\n",
    "# Azureの場合\n",
    "# volume_database_type = 'Standard_LRS'\n",
    "\n",
    "print(load_group_var(target_group, 'volume_database_type'))"
   ]
  },
  {
   "cell_type": "markdown",
   "metadata": {
    "lc_cell_meme": {
     "current": "7203315c-751b-11e8-bd8a-0242ac110002",
     "next": "720331ca-751b-11e8-bd8a-0242ac110002",
     "previous": "720330ee-751b-11e8-bd8a-0242ac110002"
    }
   },
   "source": [
    "### MySQL用ボリュームのマウントポイントを指定する\n",
    "\n",
    "MySQL用ボリュームをマウントするディレクトリを指定してください。"
   ]
  },
  {
   "cell_type": "code",
   "execution_count": 30,
   "metadata": {
    "deletable": false,
    "editable": false,
    "lc_cell_meme": {
     "current": "720331ca-751b-11e8-bd8a-0242ac110002",
     "next": "72033238-751b-11e8-bd8a-0242ac110002",
     "previous": "7203315c-751b-11e8-bd8a-0242ac110002"
    },
    "run_through_control": {
     "frozen": true
    }
   },
   "outputs": [],
   "source": [
    "volume_database_mount = '/opt/mysql'"
   ]
  },
  {
   "cell_type": "markdown",
   "metadata": {
    "heading_collapsed": true,
    "lc_cell_meme": {
     "current": "72033238-751b-11e8-bd8a-0242ac110002",
     "next": "720332a6-751b-11e8-bd8a-0242ac110002",
     "previous": "720331ca-751b-11e8-bd8a-0242ac110002"
    }
   },
   "source": [
    "#### 保存"
   ]
  },
  {
   "cell_type": "code",
   "execution_count": 31,
   "metadata": {
    "deletable": false,
    "editable": false,
    "hidden": true,
    "lc_cell_meme": {
     "current": "720332a6-751b-11e8-bd8a-0242ac110002",
     "next": "7203330a-751b-11e8-bd8a-0242ac110002",
     "previous": "72033238-751b-11e8-bd8a-0242ac110002"
    },
    "run_through_control": {
     "frozen": true,
     "read_only": true
    }
   },
   "outputs": [],
   "source": [
    "%run scripts/group.py\n",
    "update_group_vars(\n",
    "    target_group,\n",
    "    volume_database_mount=volume_database_mount,\n",
    ")"
   ]
  },
  {
   "cell_type": "markdown",
   "metadata": {
    "lc_cell_meme": {
     "current": "7203330a-751b-11e8-bd8a-0242ac110002",
     "next": "72033378-751b-11e8-bd8a-0242ac110002",
     "previous": "720332a6-751b-11e8-bd8a-0242ac110002"
    }
   },
   "source": [
    "### MySQL用ボリュームのファイルシステムを指定する\n"
   ]
  },
  {
   "cell_type": "markdown",
   "metadata": {
    "lc_cell_meme": {
     "current": "72033378-751b-11e8-bd8a-0242ac110002",
     "next": "720333e6-751b-11e8-bd8a-0242ac110002",
     "previous": "7203330a-751b-11e8-bd8a-0242ac110002"
    }
   },
   "source": [
    "MySQL用ボリュームのファイルシステムを指定してください。\n",
    "\n",
    "今のところ指定できる値は **btrfs のみ**になっています。"
   ]
  },
  {
   "cell_type": "code",
   "execution_count": 32,
   "metadata": {
    "deletable": false,
    "editable": false,
    "lc_cell_meme": {
     "current": "720333e6-751b-11e8-bd8a-0242ac110002",
     "next": "7203344a-751b-11e8-bd8a-0242ac110002",
     "previous": "72033378-751b-11e8-bd8a-0242ac110002"
    },
    "run_through_control": {
     "frozen": true,
     "read_only": true
    }
   },
   "outputs": [],
   "source": [
    "volume_database_fs = 'btrfs'"
   ]
  },
  {
   "cell_type": "markdown",
   "metadata": {
    "lc_cell_meme": {
     "current": "7203344a-751b-11e8-bd8a-0242ac110002",
     "next": "720334b8-751b-11e8-bd8a-0242ac110002",
     "previous": "720333e6-751b-11e8-bd8a-0242ac110002"
    }
   },
   "source": [
    "ファイルシステムをマウントする際のオプションを指定してください。ここで値が指定されない場合はデフォルトの設定でマウントされます。"
   ]
  },
  {
   "cell_type": "code",
   "execution_count": 33,
   "metadata": {
    "deletable": false,
    "editable": false,
    "lc_cell_meme": {
     "current": "720334b8-751b-11e8-bd8a-0242ac110002",
     "next": "72033526-751b-11e8-bd8a-0242ac110002",
     "previous": "7203344a-751b-11e8-bd8a-0242ac110002"
    },
    "run_through_control": {
     "frozen": true
    },
    "scrolled": true
   },
   "outputs": [],
   "source": [
    "# (例)\n",
    "# volume_database_mount_opt = 'noatime,autodefrag,compress-force=lzo,space_cache'"
   ]
  },
  {
   "cell_type": "markdown",
   "metadata": {
    "lc_cell_meme": {
     "current": "72033526-751b-11e8-bd8a-0242ac110002",
     "next": "7203358a-751b-11e8-bd8a-0242ac110002",
     "previous": "720334b8-751b-11e8-bd8a-0242ac110002"
    }
   },
   "source": [
    "#### 保存"
   ]
  },
  {
   "cell_type": "code",
   "execution_count": 34,
   "metadata": {
    "deletable": false,
    "editable": false,
    "lc_cell_meme": {
     "current": "7203358a-751b-11e8-bd8a-0242ac110002",
     "next": "720335f8-751b-11e8-bd8a-0242ac110002",
     "previous": "72033526-751b-11e8-bd8a-0242ac110002"
    },
    "run_through_control": {
     "frozen": true,
     "read_only": true
    }
   },
   "outputs": [],
   "source": [
    "# サポートしているファイルシステムが指定されているかをチェックする\n",
    "support_fs = ['btrfs']\n",
    "if volume_database_fs not in support_fs:\n",
    "    raise RuntimeError(\n",
    "        \"ERROR: Unsupported file system: {}\".format(volume_database_fs))\n",
    "\n",
    "# 保存\n",
    "update_group_vars(\n",
    "    target_group,\n",
    "    volume_database_fs=volume_database_fs,\n",
    ")\n",
    "\n",
    "update_group_vars(\n",
    "    target_group,\n",
    "    volume_database_mount_opt=(\n",
    "        volume_database_mount_opt\n",
    "        if 'volume_database_mount_opt' in vars()\n",
    "        else 'defaults'\n",
    "    ),\n",
    ")"
   ]
  },
  {
   "cell_type": "markdown",
   "metadata": {
    "lc_cell_meme": {
     "current": "720335f8-751b-11e8-bd8a-0242ac110002",
     "next": "72033666-751b-11e8-bd8a-0242ac110002",
     "previous": "7203358a-751b-11e8-bd8a-0242ac110002"
    }
   },
   "source": [
    "## 保存したパラメータの確認\n",
    "\n",
    "ここまで group_vars ファイルに保存したパラメータの内容を確認します。"
   ]
  },
  {
   "cell_type": "code",
   "execution_count": 35,
   "metadata": {
    "deletable": false,
    "editable": false,
    "lc_cell_meme": {
     "current": "72033666-751b-11e8-bd8a-0242ac110002",
     "next": "720336ca-751b-11e8-bd8a-0242ac110002",
     "previous": "720335f8-751b-11e8-bd8a-0242ac110002"
    },
    "run_through_control": {
     "frozen": true,
     "read_only": true
    }
   },
   "outputs": [
    {
     "name": "stdout",
     "output_type": "stream",
     "text": [
      "ansible_ssh_extra_args: -o StrictHostKeyChecking=no -o UserKnownHostsFile=/dev/null\r\n",
      "ansible_ssh_private_key_file: /home/bit_kun/.ssh/id_rsa_moodle\r\n",
      "ansible_ssh_public_key_file: /home/bit_kun/.ssh/id_rsa_moodle.pub\r\n",
      "ansible_user: ansible\r\n",
      "target_group: Moodle\r\n",
      "vcp_flavor: small\r\n",
      "vcp_provider: aws\r\n",
      "volume_database_fs: btrfs\r\n",
      "volume_database_mount: /opt/mysql\r\n",
      "volume_database_mount_opt: defaults\r\n",
      "volume_moodle_fs: btrfs\r\n",
      "volume_moodle_mount: /opt/moodle\r\n",
      "volume_moodle_mount_opt: defaults\r\n"
     ]
    }
   ],
   "source": [
    "!cat group_vars/{target_group}.yml"
   ]
  },
  {
   "cell_type": "markdown",
   "metadata": {
    "lc_cell_meme": {
     "current": "720336ca-751b-11e8-bd8a-0242ac110002",
     "next": "7203376a-751b-11e8-bd8a-0242ac110002",
     "previous": "72033666-751b-11e8-bd8a-0242ac110002"
    }
   },
   "source": [
    "# Moodleデータの暗号化\n",
    "\n",
    "このNotebookで構築するMoodle環境では[LUKS](https://gitlab.com/cryptsetup/cryptsetup)を利用してMoodleデータの暗号化を行うことができます。ここでは暗号化に関するパラメータを設定します。\n",
    "\n",
    "![Moodleデータの暗号化](image/moodle-1-07.png)"
   ]
  },
  {
   "cell_type": "markdown",
   "metadata": {
    "lc_cell_meme": {
     "current": "7203376a-751b-11e8-bd8a-0242ac110002",
     "next": "720337d8-751b-11e8-bd8a-0242ac110002",
     "previous": "720336ca-751b-11e8-bd8a-0242ac110002"
    }
   },
   "source": [
    "## 暗号化利用の有無を指定する\n",
    "\n",
    "MySQL用ボリューム、Moodle用ボリュームの暗号化を有効にするかどうかを設定します。"
   ]
  },
  {
   "cell_type": "code",
   "execution_count": 36,
   "metadata": {
    "deletable": false,
    "editable": false,
    "lc_cell_meme": {
     "current": "720337d8-751b-11e8-bd8a-0242ac110002",
     "next": "7203383c-751b-11e8-bd8a-0242ac110002",
     "previous": "7203376a-751b-11e8-bd8a-0242ac110002"
    },
    "run_through_control": {
     "frozen": true
    }
   },
   "outputs": [],
   "source": [
    "# (例)\n",
    "# volume_encrypt = True    # 暗号化を利用する場合\n",
    "# volume_encrypt = False   # 暗号化を利用しない場合\n",
    "\n",
    "volume_encrypt = True"
   ]
  },
  {
   "cell_type": "markdown",
   "metadata": {
    "heading_collapsed": true,
    "lc_cell_meme": {
     "current": "7203383c-751b-11e8-bd8a-0242ac110002",
     "next": "720338aa-751b-11e8-bd8a-0242ac110002",
     "previous": "720337d8-751b-11e8-bd8a-0242ac110002"
    }
   },
   "source": [
    "### 保存\n"
   ]
  },
  {
   "cell_type": "code",
   "execution_count": 37,
   "metadata": {
    "deletable": false,
    "editable": false,
    "hidden": true,
    "lc_cell_meme": {
     "current": "720338aa-751b-11e8-bd8a-0242ac110002",
     "next": "72033918-751b-11e8-bd8a-0242ac110002",
     "previous": "7203383c-751b-11e8-bd8a-0242ac110002"
    },
    "run_through_control": {
     "frozen": true,
     "read_only": true
    }
   },
   "outputs": [],
   "source": [
    "%run scripts/group.py\n",
    "update_group_vars(\n",
    "    target_group,\n",
    "    volume_encrypt=volume_encrypt,\n",
    ")"
   ]
  },
  {
   "cell_type": "markdown",
   "metadata": {
    "lc_cell_meme": {
     "current": "72033918-751b-11e8-bd8a-0242ac110002",
     "next": "72033986-751b-11e8-bd8a-0242ac110002",
     "previous": "720338aa-751b-11e8-bd8a-0242ac110002"
    }
   },
   "source": [
    "## 鍵ファイルを生成する"
   ]
  },
  {
   "cell_type": "markdown",
   "metadata": {
    "lc_cell_meme": {
     "current": "72033986-751b-11e8-bd8a-0242ac110002",
     "next": "720339ea-751b-11e8-bd8a-0242ac110002",
     "previous": "72033918-751b-11e8-bd8a-0242ac110002"
    }
   },
   "source": [
    "暗号化に使用する鍵ファイルを作成します。\n",
    "\n",
    "> 暗号化を有効にする設定でない場合は、次のセルを実行しても何も処理されません。"
   ]
  },
  {
   "cell_type": "code",
   "execution_count": 38,
   "metadata": {
    "deletable": false,
    "editable": false,
    "lc_cell_meme": {
     "current": "720339ea-751b-11e8-bd8a-0242ac110002",
     "next": "72033a58-751b-11e8-bd8a-0242ac110002",
     "previous": "72033986-751b-11e8-bd8a-0242ac110002"
    },
    "run_through_control": {
     "frozen": true,
     "read_only": true
    }
   },
   "outputs": [
    {
     "name": "stdout",
     "output_type": "stream",
     "text": [
      "512+0 records in\n",
      "512+0 records out\n",
      "262144 bytes (262 kB) copied, 0.0224406 s, 11.7 MB/s\n",
      "-rw------- 1 bit_kun users 262144 Jun 21 16:00 /tmp/tmpx8ek61s0\n"
     ]
    }
   ],
   "source": [
    "if load_group_var(target_group, 'volume_encrypt'):\n",
    "    import tempfile\n",
    "\n",
    "    # 鍵ファイルの長さ(Vaultサーバの制限のため鍵ファイルサイズの上限は 256KBとなっている)\n",
    "    key_length = 256 * 1024\n",
    "\n",
    "    # /dev/urandom から鍵ファイルを作成\n",
    "    (dh, keyfile_name) = tempfile.mkstemp()\n",
    "    !dd if=/dev/urandom of={keyfile_name} count={key_length // 512}\n",
    "\n",
    "    !ls -l {keyfile_name}"
   ]
  },
  {
   "cell_type": "markdown",
   "metadata": {
    "lc_cell_meme": {
     "current": "72033a58-751b-11e8-bd8a-0242ac110002",
     "next": "72033ac6-751b-11e8-bd8a-0242ac110002",
     "previous": "720339ea-751b-11e8-bd8a-0242ac110002"
    }
   },
   "source": [
    "## 鍵ファイルの格納場所を指定する"
   ]
  },
  {
   "cell_type": "markdown",
   "metadata": {
    "lc_cell_meme": {
     "current": "72033ac6-751b-11e8-bd8a-0242ac110002",
     "next": "72033b2a-751b-11e8-bd8a-0242ac110002",
     "previous": "72033a58-751b-11e8-bd8a-0242ac110002"
    }
   },
   "source": [
    "生成した鍵ファイルを格納する Vault サーバ内のパスを指定してください。"
   ]
  },
  {
   "cell_type": "code",
   "execution_count": 39,
   "metadata": {
    "deletable": false,
    "editable": false,
    "lc_cell_meme": {
     "current": "72033b2a-751b-11e8-bd8a-0242ac110002",
     "next": "72033b98-751b-11e8-bd8a-0242ac110002",
     "previous": "72033ac6-751b-11e8-bd8a-0242ac110002"
    },
    "run_through_control": {
     "frozen": true,
     "read_only": true
    }
   },
   "outputs": [],
   "source": [
    "# (例)\n",
    "# vault_luks_key_path = 'cubbyhole/luks'\n",
    "\n",
    "vault_luks_key_path = 'cubbyhole/luks'"
   ]
  },
  {
   "cell_type": "markdown",
   "metadata": {
    "heading_collapsed": true,
    "lc_cell_meme": {
     "current": "72033b98-751b-11e8-bd8a-0242ac110002",
     "next": "72033bfc-751b-11e8-bd8a-0242ac110002",
     "previous": "72033b2a-751b-11e8-bd8a-0242ac110002"
    }
   },
   "source": [
    "### チェックと保存"
   ]
  },
  {
   "cell_type": "markdown",
   "metadata": {
    "hidden": true,
    "lc_cell_meme": {
     "current": "72033bfc-751b-11e8-bd8a-0242ac110002",
     "next": "72033c6a-751b-11e8-bd8a-0242ac110002",
     "previous": "72033b98-751b-11e8-bd8a-0242ac110002"
    }
   },
   "source": [
    "鍵ファイルをVaultサーバに格納します。また格納場所のパスを group_vars ファイルに保存します。"
   ]
  },
  {
   "cell_type": "code",
   "execution_count": 40,
   "metadata": {
    "deletable": false,
    "editable": false,
    "hidden": true,
    "lc_cell_meme": {
     "current": "72033c6a-751b-11e8-bd8a-0242ac110002",
     "next": "72033cd8-751b-11e8-bd8a-0242ac110002",
     "previous": "72033bfc-751b-11e8-bd8a-0242ac110002"
    },
    "run_through_control": {
     "frozen": true,
     "read_only": true
    }
   },
   "outputs": [],
   "source": [
    "# 暗号化が有効な場合のみ、チェックと保存を行う\n",
    "if load_group_var(target_group, 'volume_encrypt'):\n",
    "    import json\n",
    "    import base64\n",
    "    %run scripts/group.py\n",
    "    \n",
    "    vault_address = load_group_var(target_group, 'vault_address')\n",
    "    vault_token = load_group_var(target_group, 'vcc_access_token')\n",
    "    \n",
    "    # 鍵ファイルを読み込む\n",
    "    with open(keyfile_name, 'rb') as f:\n",
    "        luks_key = f.read()\n",
    "    \n",
    "    # Vault サーバに書き込むために BASE64 でエンコードする\n",
    "    luks_params = dict(\n",
    "        keyfile=base64.b64encode(luks_key).decode('UTF-8'),\n",
    "    )\n",
    "\n",
    "    # curl に入力値を渡すための一時ファイルを作成する\n",
    "    (th, tname) = tempfile.mkstemp()\n",
    "    with open(th, 'w') as f:\n",
    "        f.write(json.dumps(luks_params))\n",
    "        \n",
    "    try:\n",
    "        # Vaultサーバに秘密情報を格納する\n",
    "        !curl --fail --header \"X-Vault-Token:{vault_token}\" \\\n",
    "            --header \"Content-Type: application/json\" -X POST \\\n",
    "            --data \"@{tname}\" \\\n",
    "            \"{vault_address}/v1/{vault_luks_key_path}\"\n",
    "\n",
    "        # group_vars への保存\n",
    "        update_group_vars(\n",
    "            target_group,\n",
    "            vault_luks_key_path=vault_luks_key_path,\n",
    "        )\n",
    "        \n",
    "    finally:\n",
    "        # 不要になった一時ファイルを削除する\n",
    "        os.unlink(keyfile_name)\n",
    "        os.unlink(tname)"
   ]
  },
  {
   "cell_type": "markdown",
   "metadata": {
    "lc_cell_meme": {
     "current": "72033cd8-751b-11e8-bd8a-0242ac110002",
     "next": "72033d3c-751b-11e8-bd8a-0242ac110002",
     "previous": "72033c6a-751b-11e8-bd8a-0242ac110002"
    }
   },
   "source": [
    "## 保存したパラメータの確認\n",
    "\n",
    "ここまで group_vars ファイルに保存したパラメータの内容を確認します。"
   ]
  },
  {
   "cell_type": "code",
   "execution_count": 41,
   "metadata": {
    "deletable": false,
    "editable": false,
    "lc_cell_meme": {
     "current": "72033d3c-751b-11e8-bd8a-0242ac110002",
     "next": "72033daa-751b-11e8-bd8a-0242ac110002",
     "previous": "72033cd8-751b-11e8-bd8a-0242ac110002"
    },
    "run_through_control": {
     "frozen": true,
     "read_only": true
    }
   },
   "outputs": [
    {
     "name": "stdout",
     "output_type": "stream",
     "text": [
      "ansible_ssh_extra_args: -o StrictHostKeyChecking=no -o UserKnownHostsFile=/dev/null\r\n",
      "ansible_ssh_private_key_file: /home/bit_kun/.ssh/id_rsa_moodle\r\n",
      "ansible_ssh_public_key_file: /home/bit_kun/.ssh/id_rsa_moodle.pub\r\n",
      "ansible_user: ansible\r\n",
      "target_group: Moodle\r\n",
      "vault_luks_key_path: cubbyhole/luks\r\n",
      "vcp_flavor: small\r\n",
      "vcp_provider: aws\r\n",
      "volume_database_fs: btrfs\r\n",
      "volume_database_mount: /opt/mysql\r\n",
      "volume_database_mount_opt: defaults\r\n",
      "volume_encrypt: true\r\n",
      "volume_moodle_fs: btrfs\r\n",
      "volume_moodle_mount: /opt/moodle\r\n",
      "volume_moodle_mount_opt: defaults\r\n"
     ]
    }
   ],
   "source": [
    "!cat group_vars/{target_group}.yml"
   ]
  },
  {
   "cell_type": "markdown",
   "metadata": {
    "lc_cell_meme": {
     "current": "72033daa-751b-11e8-bd8a-0242ac110002",
     "next": "72033e18-751b-11e8-bd8a-0242ac110002",
     "previous": "72033d3c-751b-11e8-bd8a-0242ac110002"
    }
   },
   "source": [
    "# VCノードのディレクトリ構成\n",
    "\n",
    "![VCノードのディレクトリ構成](image/moodle-1-08.png)\n",
    "\n",
    "Moodle, MySQLなどのアプリケーションコンテナの実行環境となるVCノードのディレクトリ構成についての設定を行います。"
   ]
  },
  {
   "cell_type": "markdown",
   "metadata": {
    "lc_cell_meme": {
     "current": "72033e18-751b-11e8-bd8a-0242ac110002",
     "next": "72033e86-751b-11e8-bd8a-0242ac110002",
     "previous": "72033daa-751b-11e8-bd8a-0242ac110002"
    }
   },
   "source": [
    "## Moodleに関するディレクトリを指定する\n"
   ]
  },
  {
   "cell_type": "markdown",
   "metadata": {
    "lc_cell_meme": {
     "current": "72033e86-751b-11e8-bd8a-0242ac110002",
     "next": "72033ef4-751b-11e8-bd8a-0242ac110002",
     "previous": "72033e18-751b-11e8-bd8a-0242ac110002"
    }
   },
   "source": [
    "### Moodleのデータディレクトリを指定する\n",
    "\n",
    "Moodleのアップロードファイル、一時データ、セッションデータ等を保存するディレクトリを指定してください。\n",
    "\n",
    "> ここで指定するディレクトリは VC ノードにおけるディレクトリであり、Moodleのアプリケーションコンテナにおけるディレクトリではありません。そのためMoodleの `moodledata`として設定するディレクトリとは異なりますので注意してください。"
   ]
  },
  {
   "cell_type": "code",
   "execution_count": 42,
   "metadata": {
    "deletable": false,
    "editable": false,
    "lc_cell_meme": {
     "current": "72033ef4-751b-11e8-bd8a-0242ac110002",
     "next": "72033f62-751b-11e8-bd8a-0242ac110002",
     "previous": "72033e86-751b-11e8-bd8a-0242ac110002"
    },
    "run_through_control": {
     "frozen": true
    }
   },
   "outputs": [
    {
     "name": "stdout",
     "output_type": "stream",
     "text": [
      "/opt/moodle/data\n"
     ]
    }
   ],
   "source": [
    "import os\n",
    "moodle_dir_contents = os.path.join(volume_moodle_mount, 'data')\n",
    "\n",
    "print(moodle_dir_contents)"
   ]
  },
  {
   "cell_type": "markdown",
   "metadata": {
    "heading_collapsed": true,
    "lc_cell_meme": {
     "current": "72033f62-751b-11e8-bd8a-0242ac110002",
     "next": "72033fc6-751b-11e8-bd8a-0242ac110002",
     "previous": "72033ef4-751b-11e8-bd8a-0242ac110002"
    }
   },
   "source": [
    "#### 保存"
   ]
  },
  {
   "cell_type": "code",
   "execution_count": 43,
   "metadata": {
    "deletable": false,
    "editable": false,
    "hidden": true,
    "lc_cell_meme": {
     "current": "72033fc6-751b-11e8-bd8a-0242ac110002",
     "next": "72034034-751b-11e8-bd8a-0242ac110002",
     "previous": "72033f62-751b-11e8-bd8a-0242ac110002"
    },
    "run_through_control": {
     "frozen": true,
     "read_only": true
    }
   },
   "outputs": [],
   "source": [
    "import os\n",
    "%run scripts/group.py\n",
    "\n",
    "# 絶対パスが指定されていることをチェックする\n",
    "if not os.path.isabs(moodle_dir_contents):\n",
    "    raise RuntimeError(\n",
    "        \"ERROR: should be absolute path: {}\".format(moodle_dir_contents))\n",
    "\n",
    "# 保存\n",
    "update_group_vars(\n",
    "    target_group,\n",
    "    moodle_dir_contents=moodle_dir_contents,\n",
    ")"
   ]
  },
  {
   "cell_type": "markdown",
   "metadata": {
    "lc_cell_meme": {
     "current": "72034034-751b-11e8-bd8a-0242ac110002",
     "next": "720340a2-751b-11e8-bd8a-0242ac110002",
     "previous": "72033fc6-751b-11e8-bd8a-0242ac110002"
    }
   },
   "source": [
    "### PHPファイルを格納するディレクトリを指定する\n",
    "\n",
    "MoodleのPHPファイルを格納するディレクトリを指定してください。"
   ]
  },
  {
   "cell_type": "code",
   "execution_count": 44,
   "metadata": {
    "deletable": false,
    "editable": false,
    "lc_cell_meme": {
     "current": "720340a2-751b-11e8-bd8a-0242ac110002",
     "next": "72034106-751b-11e8-bd8a-0242ac110002",
     "previous": "72034034-751b-11e8-bd8a-0242ac110002"
    },
    "run_through_control": {
     "frozen": true
    }
   },
   "outputs": [
    {
     "name": "stdout",
     "output_type": "stream",
     "text": [
      "/opt/moodle/php\n"
     ]
    }
   ],
   "source": [
    "import os\n",
    "moodle_dir_scripts = os.path.join(volume_moodle_mount, 'php')\n",
    "\n",
    "print(moodle_dir_scripts)"
   ]
  },
  {
   "cell_type": "markdown",
   "metadata": {
    "heading_collapsed": true,
    "lc_cell_meme": {
     "current": "72034106-751b-11e8-bd8a-0242ac110002",
     "next": "72034174-751b-11e8-bd8a-0242ac110002",
     "previous": "720340a2-751b-11e8-bd8a-0242ac110002"
    }
   },
   "source": [
    "#### 保存"
   ]
  },
  {
   "cell_type": "code",
   "execution_count": 45,
   "metadata": {
    "deletable": false,
    "editable": false,
    "hidden": true,
    "lc_cell_meme": {
     "current": "72034174-751b-11e8-bd8a-0242ac110002",
     "next": "720341e2-751b-11e8-bd8a-0242ac110002",
     "previous": "72034106-751b-11e8-bd8a-0242ac110002"
    },
    "run_through_control": {
     "frozen": true,
     "read_only": true
    }
   },
   "outputs": [],
   "source": [
    "import os\n",
    "%run scripts/group.py\n",
    "\n",
    "# 絶対パスが指定されていることをチェックする\n",
    "if not os.path.isabs(moodle_dir_scripts):\n",
    "    raise RuntimeError(\n",
    "        \"ERROR: should be absolute path: {}\".format(moodle_dir_scripts))\n",
    "\n",
    "# 保存\n",
    "update_group_vars(\n",
    "    target_group,\n",
    "    moodle_dir_scripts=moodle_dir_scripts,\n",
    ")"
   ]
  },
  {
   "cell_type": "markdown",
   "metadata": {
    "lc_cell_meme": {
     "current": "720341e2-751b-11e8-bd8a-0242ac110002",
     "next": "72034250-751b-11e8-bd8a-0242ac110002",
     "previous": "72034174-751b-11e8-bd8a-0242ac110002"
    }
   },
   "source": [
    "### Moodleのログファイルを格納するディレクトリを指定する\n",
    "\n",
    "Moodleの httpd サーバのログファイルを格納するディレクトリを指定してください。"
   ]
  },
  {
   "cell_type": "code",
   "execution_count": 46,
   "metadata": {
    "deletable": false,
    "editable": false,
    "lc_cell_meme": {
     "current": "72034250-751b-11e8-bd8a-0242ac110002",
     "next": "720342be-751b-11e8-bd8a-0242ac110002",
     "previous": "720341e2-751b-11e8-bd8a-0242ac110002"
    },
    "run_through_control": {
     "frozen": true
    }
   },
   "outputs": [],
   "source": [
    "moodle_dir_logs = '/var/log/moodle'"
   ]
  },
  {
   "cell_type": "markdown",
   "metadata": {
    "heading_collapsed": true,
    "lc_cell_meme": {
     "current": "720342be-751b-11e8-bd8a-0242ac110002",
     "next": "72034322-751b-11e8-bd8a-0242ac110002",
     "previous": "72034250-751b-11e8-bd8a-0242ac110002"
    }
   },
   "source": [
    "#### 保存"
   ]
  },
  {
   "cell_type": "code",
   "execution_count": 47,
   "metadata": {
    "deletable": false,
    "editable": false,
    "hidden": true,
    "lc_cell_meme": {
     "current": "72034322-751b-11e8-bd8a-0242ac110002",
     "next": "72034390-751b-11e8-bd8a-0242ac110002",
     "previous": "720342be-751b-11e8-bd8a-0242ac110002"
    },
    "run_through_control": {
     "frozen": true,
     "read_only": true
    }
   },
   "outputs": [],
   "source": [
    "import os\n",
    "%run scripts/group.py\n",
    "\n",
    "# 絶対パスが指定されていることをチェックする\n",
    "if not os.path.isabs(moodle_dir_logs):\n",
    "    raise RuntimeError(\n",
    "        \"ERROR: should be absolute path: {}\".format(moodle_dir_logs))\n",
    "\n",
    "# 保存\n",
    "update_group_vars(\n",
    "    target_group,\n",
    "    moodle_dir_logs=moodle_dir_logs,\n",
    ")"
   ]
  },
  {
   "cell_type": "markdown",
   "metadata": {
    "lc_cell_meme": {
     "current": "72034390-751b-11e8-bd8a-0242ac110002",
     "next": "720343fe-751b-11e8-bd8a-0242ac110002",
     "previous": "72034322-751b-11e8-bd8a-0242ac110002"
    }
   },
   "source": [
    "## MySQLに関するディレクトリを指定する\n"
   ]
  },
  {
   "cell_type": "markdown",
   "metadata": {
    "lc_cell_meme": {
     "current": "720343fe-751b-11e8-bd8a-0242ac110002",
     "next": "7203446c-751b-11e8-bd8a-0242ac110002",
     "previous": "72034390-751b-11e8-bd8a-0242ac110002"
    }
   },
   "source": [
    "### データベースに関するファイルを格納するディレクトリを指定する\n",
    "\n",
    "MySQLのデータベースに関するファイルを格納するディレクトリを指定してください。"
   ]
  },
  {
   "cell_type": "code",
   "execution_count": 48,
   "metadata": {
    "deletable": false,
    "editable": false,
    "lc_cell_meme": {
     "current": "7203446c-751b-11e8-bd8a-0242ac110002",
     "next": "720344da-751b-11e8-bd8a-0242ac110002",
     "previous": "720343fe-751b-11e8-bd8a-0242ac110002"
    },
    "run_through_control": {
     "frozen": true
    }
   },
   "outputs": [],
   "source": [
    "mysql_dir_data = volume_database_mount"
   ]
  },
  {
   "cell_type": "markdown",
   "metadata": {
    "heading_collapsed": true,
    "lc_cell_meme": {
     "current": "720344da-751b-11e8-bd8a-0242ac110002",
     "next": "72034548-751b-11e8-bd8a-0242ac110002",
     "previous": "7203446c-751b-11e8-bd8a-0242ac110002"
    }
   },
   "source": [
    "#### 保存"
   ]
  },
  {
   "cell_type": "code",
   "execution_count": 49,
   "metadata": {
    "deletable": false,
    "editable": false,
    "hidden": true,
    "lc_cell_meme": {
     "current": "72034548-751b-11e8-bd8a-0242ac110002",
     "next": "720345ac-751b-11e8-bd8a-0242ac110002",
     "previous": "720344da-751b-11e8-bd8a-0242ac110002"
    },
    "run_through_control": {
     "frozen": true,
     "read_only": true
    }
   },
   "outputs": [],
   "source": [
    "import os\n",
    "%run scripts/group.py\n",
    "\n",
    "# 絶対パスが指定されていることをチェックする\n",
    "if not os.path.isabs(mysql_dir_data):\n",
    "    raise RuntimeError(\n",
    "        \"ERROR: should be absolute path: {}\".format(mysql_dir_data))\n",
    "\n",
    "# 保存\n",
    "update_group_vars(\n",
    "    target_group,\n",
    "    mysql_dir_data=mysql_dir_data,\n",
    ")"
   ]
  },
  {
   "cell_type": "markdown",
   "metadata": {
    "lc_cell_meme": {
     "current": "720345ac-751b-11e8-bd8a-0242ac110002",
     "next": "7203461a-751b-11e8-bd8a-0242ac110002",
     "previous": "72034548-751b-11e8-bd8a-0242ac110002"
    }
   },
   "source": [
    "### MySQLのログファイルを格納するディレクトリを指定する\n",
    "\n",
    "MySQLのログファイルを格納するディレクトリを指定してください。"
   ]
  },
  {
   "cell_type": "code",
   "execution_count": 50,
   "metadata": {
    "deletable": false,
    "editable": false,
    "lc_cell_meme": {
     "current": "7203461a-751b-11e8-bd8a-0242ac110002",
     "next": "72034688-751b-11e8-bd8a-0242ac110002",
     "previous": "720345ac-751b-11e8-bd8a-0242ac110002"
    },
    "run_through_control": {
     "frozen": true
    }
   },
   "outputs": [],
   "source": [
    "mysql_dir_logs = '/var/log/mysql'"
   ]
  },
  {
   "cell_type": "markdown",
   "metadata": {
    "heading_collapsed": true,
    "lc_cell_meme": {
     "current": "72034688-751b-11e8-bd8a-0242ac110002",
     "next": "720346ec-751b-11e8-bd8a-0242ac110002",
     "previous": "7203461a-751b-11e8-bd8a-0242ac110002"
    }
   },
   "source": [
    "#### 保存"
   ]
  },
  {
   "cell_type": "code",
   "execution_count": 51,
   "metadata": {
    "deletable": false,
    "editable": false,
    "hidden": true,
    "lc_cell_meme": {
     "current": "720346ec-751b-11e8-bd8a-0242ac110002",
     "next": "7203475a-751b-11e8-bd8a-0242ac110002",
     "previous": "72034688-751b-11e8-bd8a-0242ac110002"
    },
    "run_through_control": {
     "frozen": true,
     "read_only": true
    }
   },
   "outputs": [],
   "source": [
    "import os\n",
    "%run scripts/group.py\n",
    "\n",
    "# 絶対パスが指定されていることをチェックする\n",
    "if not os.path.isabs(mysql_dir_logs):\n",
    "    raise RuntimeError(\n",
    "        \"ERROR: should be absolute path: {}\".format(mysql_dir_logs))\n",
    "\n",
    "# 保存\n",
    "update_group_vars(\n",
    "    target_group,\n",
    "    mysql_dir_logs=mysql_dir_logs,\n",
    ")"
   ]
  },
  {
   "cell_type": "markdown",
   "metadata": {
    "lc_cell_meme": {
     "current": "7203475a-751b-11e8-bd8a-0242ac110002",
     "next": "720347c8-751b-11e8-bd8a-0242ac110002",
     "previous": "720346ec-751b-11e8-bd8a-0242ac110002"
    }
   },
   "source": [
    "## Nginxのログファイルを格納するディレクトリを指定する\n",
    "\n",
    "Nginxのログファイルを格納するディレクトリを指定してください。"
   ]
  },
  {
   "cell_type": "code",
   "execution_count": 52,
   "metadata": {
    "deletable": false,
    "editable": false,
    "lc_cell_meme": {
     "current": "720347c8-751b-11e8-bd8a-0242ac110002",
     "next": "72034836-751b-11e8-bd8a-0242ac110002",
     "previous": "7203475a-751b-11e8-bd8a-0242ac110002"
    },
    "run_through_control": {
     "frozen": true
    }
   },
   "outputs": [],
   "source": [
    "proxy_dir_logs = '/var/log/nginx'"
   ]
  },
  {
   "cell_type": "markdown",
   "metadata": {
    "heading_collapsed": true,
    "lc_cell_meme": {
     "current": "72034836-751b-11e8-bd8a-0242ac110002",
     "next": "7203489a-751b-11e8-bd8a-0242ac110002",
     "previous": "720347c8-751b-11e8-bd8a-0242ac110002"
    }
   },
   "source": [
    "### 保存"
   ]
  },
  {
   "cell_type": "code",
   "execution_count": 53,
   "metadata": {
    "deletable": false,
    "editable": false,
    "hidden": true,
    "lc_cell_meme": {
     "current": "7203489a-751b-11e8-bd8a-0242ac110002",
     "next": "72034912-751b-11e8-bd8a-0242ac110002",
     "previous": "72034836-751b-11e8-bd8a-0242ac110002"
    },
    "run_through_control": {
     "frozen": true,
     "read_only": true
    }
   },
   "outputs": [],
   "source": [
    "import os\n",
    "%run scripts/group.py\n",
    "\n",
    "# 絶対パスが指定されていることをチェックする\n",
    "if not os.path.isabs(proxy_dir_logs):\n",
    "    raise RuntimeError(\n",
    "        \"ERROR: should be absolute path: {}\".format(proxy_dir_logs))\n",
    "\n",
    "# 保存\n",
    "update_group_vars(\n",
    "    target_group,\n",
    "    proxy_dir_logs=proxy_dir_logs,\n",
    ")"
   ]
  },
  {
   "cell_type": "markdown",
   "metadata": {
    "lc_cell_meme": {
     "current": "72034912-751b-11e8-bd8a-0242ac110002",
     "next": "72034980-751b-11e8-bd8a-0242ac110002",
     "previous": "7203489a-751b-11e8-bd8a-0242ac110002"
    }
   },
   "source": [
    "## 構成ファイルなどを格納するディレクトリを指定する\n",
    "\n",
    "アプリケーションコンテナの構成や設定ファイルなどを格納するディレクトリを指定してください。"
   ]
  },
  {
   "cell_type": "code",
   "execution_count": 54,
   "metadata": {
    "deletable": false,
    "editable": false,
    "lc_cell_meme": {
     "current": "72034980-751b-11e8-bd8a-0242ac110002",
     "next": "720349ee-751b-11e8-bd8a-0242ac110002",
     "previous": "72034912-751b-11e8-bd8a-0242ac110002"
    },
    "run_through_control": {
     "frozen": true
    }
   },
   "outputs": [],
   "source": [
    "project_dir = '/home/{}/moodle'.format(ansible_user)"
   ]
  },
  {
   "cell_type": "markdown",
   "metadata": {
    "heading_collapsed": true,
    "lc_cell_meme": {
     "current": "720349ee-751b-11e8-bd8a-0242ac110002",
     "next": "72034a52-751b-11e8-bd8a-0242ac110002",
     "previous": "72034980-751b-11e8-bd8a-0242ac110002"
    }
   },
   "source": [
    "### 保存\n",
    "\n",
    "group_vars に保存する。"
   ]
  },
  {
   "cell_type": "code",
   "execution_count": 55,
   "metadata": {
    "deletable": false,
    "editable": false,
    "hidden": true,
    "lc_cell_meme": {
     "current": "72034a52-751b-11e8-bd8a-0242ac110002",
     "next": "72034ac0-751b-11e8-bd8a-0242ac110002",
     "previous": "720349ee-751b-11e8-bd8a-0242ac110002"
    },
    "run_through_control": {
     "frozen": true,
     "read_only": true
    }
   },
   "outputs": [],
   "source": [
    "update_group_vars(\n",
    "    target_group,\n",
    "    project_dir=project_dir,\n",
    ")"
   ]
  },
  {
   "cell_type": "markdown",
   "metadata": {
    "lc_cell_meme": {
     "current": "72034ac0-751b-11e8-bd8a-0242ac110002",
     "next": "72034b2e-751b-11e8-bd8a-0242ac110002",
     "previous": "72034a52-751b-11e8-bd8a-0242ac110002"
    }
   },
   "source": [
    "## 保存したパラメータの確認\n",
    "\n",
    "ここまで group_vars ファイルに保存したパラメータの内容を確認します。"
   ]
  },
  {
   "cell_type": "code",
   "execution_count": 56,
   "metadata": {
    "deletable": false,
    "editable": false,
    "lc_cell_meme": {
     "current": "72034b2e-751b-11e8-bd8a-0242ac110002",
     "next": "72034b9c-751b-11e8-bd8a-0242ac110002",
     "previous": "72034ac0-751b-11e8-bd8a-0242ac110002"
    },
    "run_through_control": {
     "frozen": true,
     "read_only": true
    }
   },
   "outputs": [
    {
     "name": "stdout",
     "output_type": "stream",
     "text": [
      "ansible_ssh_extra_args: -o StrictHostKeyChecking=no -o UserKnownHostsFile=/dev/null\r\n",
      "ansible_ssh_private_key_file: /home/bit_kun/.ssh/id_rsa_moodle\r\n",
      "ansible_ssh_public_key_file: /home/bit_kun/.ssh/id_rsa_moodle.pub\r\n",
      "ansible_user: ansible\r\n",
      "moodle_dir_contents: /opt/moodle/data\r\n",
      "moodle_dir_logs: /var/log/moodle\r\n",
      "moodle_dir_scripts: /opt/moodle/php\r\n",
      "mysql_dir_data: /opt/mysql\r\n",
      "mysql_dir_logs: /var/log/mysql\r\n",
      "project_dir: /home/ansible/moodle\r\n",
      "proxy_dir_logs: /var/log/nginx\r\n",
      "target_group: Moodle\r\n",
      "vault_luks_key_path: cubbyhole/luks\r\n",
      "vcp_flavor: small\r\n",
      "vcp_provider: aws\r\n",
      "volume_database_fs: btrfs\r\n",
      "volume_database_mount: /opt/mysql\r\n",
      "volume_database_mount_opt: defaults\r\n",
      "volume_encrypt: true\r\n",
      "volume_moodle_fs: btrfs\r\n",
      "volume_moodle_mount: /opt/moodle\r\n",
      "volume_moodle_mount_opt: defaults\r\n"
     ]
    }
   ],
   "source": [
    "!cat group_vars/{target_group}.yml"
   ]
  },
  {
   "cell_type": "markdown",
   "metadata": {
    "heading_collapsed": true,
    "lc_cell_meme": {
     "current": "72034b9c-751b-11e8-bd8a-0242ac110002",
     "next": "72034c0a-751b-11e8-bd8a-0242ac110002",
     "previous": "72034b2e-751b-11e8-bd8a-0242ac110002"
    }
   },
   "source": [
    "# チェックと保存\n",
    "\n",
    "設定項目漏れがないことを確認します。また固定値となるパラメータの設定も同時に行います。"
   ]
  },
  {
   "cell_type": "markdown",
   "metadata": {
    "hidden": true,
    "lc_cell_meme": {
     "current": "72034c0a-751b-11e8-bd8a-0242ac110002",
     "next": "72034c78-751b-11e8-bd8a-0242ac110002",
     "previous": "72034b9c-751b-11e8-bd8a-0242ac110002"
    }
   },
   "source": [
    "## 設定項目漏れがないことをチェックする\n",
    "\n",
    "必須項目が設定されているかをチェックします。"
   ]
  },
  {
   "cell_type": "code",
   "execution_count": 57,
   "metadata": {
    "deletable": false,
    "editable": false,
    "hidden": true,
    "lc_cell_meme": {
     "current": "72034c78-751b-11e8-bd8a-0242ac110002",
     "next": "72034cdc-751b-11e8-bd8a-0242ac110002",
     "previous": "72034c0a-751b-11e8-bd8a-0242ac110002"
    },
    "run_through_control": {
     "frozen": true,
     "read_only": true
    }
   },
   "outputs": [],
   "source": [
    "%run scripts/group.py\n",
    "gvars = load_group_vars(target_group)\n",
    "require_params = [\n",
    "    'ansible_user', 'ansible_ssh_extra_args', 'target_group',\n",
    "    'ansible_ssh_private_key_file', 'ansible_ssh_public_key_file',\n",
    "    'vault_address',\n",
    "    'vcp_provider', 'vcp_flavor', 'vcc_access_token', 'volume_encrypt',\n",
    "    'volume_database_type', 'volume_database_size', 'volume_database_fs',\n",
    "    'volume_database_mount', 'volume_database_mount_opt',\n",
    "    'volume_moodle_type', 'volume_moodle_size', 'volume_moodle_fs',\n",
    "    'volume_moodle_mount', 'volume_moodle_mount_opt',\n",
    "    'moodle_dir_contents', 'moodle_dir_scripts', 'moodle_dir_logs',\n",
    "    'mysql_dir_data', 'mysql_dir_logs', 'proxy_dir_logs', 'project_dir',\n",
    "    'vc_node_address',\n",
    "]\n",
    "if gvars['vcp_provider'] == 'aws':\n",
    "    require_params.append('aws_availability_zone')\n",
    "    require_params.append('aws_region')\n",
    "elif gvars['vcp_provider'] == 'azure':\n",
    "    require_params.append('azure_resource_group_name')\n",
    "    \n",
    "if gvars['volume_encrypt']:\n",
    "    require_params.append('vault_luks_key_path')\n",
    "\n",
    "for x in require_params:\n",
    "    if x not in gvars:\n",
    "        raise RuntimeError(\"ERROR: not set {}\".format(x))"
   ]
  },
  {
   "cell_type": "markdown",
   "metadata": {
    "hidden": true,
    "lc_cell_meme": {
     "current": "72034cdc-751b-11e8-bd8a-0242ac110002",
     "next": "72034d4a-751b-11e8-bd8a-0242ac110002",
     "previous": "72034c78-751b-11e8-bd8a-0242ac110002"
    }
   },
   "source": [
    "## デフォルト設定を保存する"
   ]
  },
  {
   "cell_type": "markdown",
   "metadata": {
    "hidden": true,
    "lc_cell_meme": {
     "current": "72034d4a-751b-11e8-bd8a-0242ac110002",
     "next": "72034db8-751b-11e8-bd8a-0242ac110002",
     "previous": "72034cdc-751b-11e8-bd8a-0242ac110002"
    }
   },
   "source": [
    "固定値となるパラメータについて group_vars ファイルに設定値を書き込みます。"
   ]
  },
  {
   "cell_type": "markdown",
   "metadata": {
    "hidden": true,
    "lc_cell_meme": {
     "current": "72034db8-751b-11e8-bd8a-0242ac110002",
     "next": "72034e1c-751b-11e8-bd8a-0242ac110002",
     "previous": "72034d4a-751b-11e8-bd8a-0242ac110002"
    }
   },
   "source": [
    "このNotebookではMoodleのアップデートを行う手順などを提供しています。その際、アップデート前後のアプリケーションコンテナを区別するためのパラメータとして「コンテナバージョン」を用いています。ここではコンテナバージョンの初期値を設定します。"
   ]
  },
  {
   "cell_type": "code",
   "execution_count": 58,
   "metadata": {
    "deletable": false,
    "editable": false,
    "hidden": true,
    "lc_cell_meme": {
     "current": "72034e1c-751b-11e8-bd8a-0242ac110002",
     "next": "72034e8a-751b-11e8-bd8a-0242ac110002",
     "previous": "72034db8-751b-11e8-bd8a-0242ac110002"
    },
    "run_through_control": {
     "frozen": true,
     "read_only": true
    },
    "scrolled": true
   },
   "outputs": [],
   "source": [
    "if 'container_version' not in gvars:\n",
    "    update_group_vars(\n",
    "        target_group,\n",
    "        container_version=1,\n",
    "    )  "
   ]
  },
  {
   "cell_type": "markdown",
   "metadata": {
    "hidden": true,
    "lc_cell_meme": {
     "current": "72034e8a-751b-11e8-bd8a-0242ac110002",
     "next": "72034ef8-751b-11e8-bd8a-0242ac110002",
     "previous": "72034e1c-751b-11e8-bd8a-0242ac110002"
    }
   },
   "source": [
    "役割毎のAnsibleのグループ名を設定します。１ノード構成の場合は全て target_group と同じになります。"
   ]
  },
  {
   "cell_type": "code",
   "execution_count": 59,
   "metadata": {
    "deletable": false,
    "editable": false,
    "hidden": true,
    "lc_cell_meme": {
     "current": "72034ef8-751b-11e8-bd8a-0242ac110002",
     "next": "72034f5c-751b-11e8-bd8a-0242ac110002",
     "previous": "72034e8a-751b-11e8-bd8a-0242ac110002"
    },
    "run_through_control": {
     "frozen": true,
     "read_only": true
    },
    "scrolled": true
   },
   "outputs": [],
   "source": [
    "update_group_vars(\n",
    "    target_group,\n",
    "    target_group_moodle=target_group,\n",
    "    target_group_database=target_group,\n",
    "    target_group_rproxy=target_group,\n",
    ")"
   ]
  },
  {
   "cell_type": "markdown",
   "metadata": {
    "hidden": true,
    "lc_cell_meme": {
     "current": "72034f5c-751b-11e8-bd8a-0242ac110002",
     "next": "72034fca-751b-11e8-bd8a-0242ac110002",
     "previous": "72034ef8-751b-11e8-bd8a-0242ac110002"
    }
   },
   "source": [
    "VCノードに設定するタグが指定されていない場合は空のタグ設定を行います。"
   ]
  },
  {
   "cell_type": "code",
   "execution_count": 60,
   "metadata": {
    "deletable": false,
    "editable": false,
    "hidden": true,
    "lc_cell_meme": {
     "current": "72034fca-751b-11e8-bd8a-0242ac110002",
     "next": "7203502e-751b-11e8-bd8a-0242ac110002",
     "previous": "72034f5c-751b-11e8-bd8a-0242ac110002"
    },
    "run_through_control": {
     "frozen": true,
     "read_only": true
    },
    "scrolled": false
   },
   "outputs": [],
   "source": [
    "gvars = load_group_vars(target_group)\n",
    "if 'vcp_tags' not in gvars:\n",
    "    update_group_vars(\n",
    "        target_group,\n",
    "        vcp_tags={},\n",
    "    )"
   ]
  },
  {
   "cell_type": "markdown",
   "metadata": {
    "hidden": true,
    "lc_cell_meme": {
     "current": "7203502e-751b-11e8-bd8a-0242ac110002",
     "next": "7203509c-751b-11e8-bd8a-0242ac110002",
     "previous": "72034fca-751b-11e8-bd8a-0242ac110002"
    }
   },
   "source": [
    "Moodle用ボリューム、MySQL用ボリュームに作成するファイルシステムにつけるラベルを設定します。"
   ]
  },
  {
   "cell_type": "code",
   "execution_count": 61,
   "metadata": {
    "deletable": false,
    "editable": false,
    "hidden": true,
    "lc_cell_meme": {
     "current": "7203509c-751b-11e8-bd8a-0242ac110002",
     "next": "7203510a-751b-11e8-bd8a-0242ac110002",
     "previous": "7203502e-751b-11e8-bd8a-0242ac110002"
    },
    "run_through_control": {
     "frozen": true,
     "read_only": true
    }
   },
   "outputs": [],
   "source": [
    "update_group_vars(\n",
    "    target_group,\n",
    "    volume_moodle_fs_label='moodle',\n",
    "    volume_database_fs_label='mysql',\n",
    ")"
   ]
  },
  {
   "cell_type": "markdown",
   "metadata": {
    "hidden": true,
    "lc_cell_meme": {
     "current": "7203510a-751b-11e8-bd8a-0242ac110002",
     "next": "7203516e-751b-11e8-bd8a-0242ac110002",
     "previous": "7203509c-751b-11e8-bd8a-0242ac110002"
    }
   },
   "source": [
    "その他、この構成で固定値となるパラメータを group_vars ファイルに書き込みます。"
   ]
  },
  {
   "cell_type": "code",
   "execution_count": 62,
   "metadata": {
    "deletable": false,
    "editable": false,
    "hidden": true,
    "lc_cell_meme": {
     "current": "7203516e-751b-11e8-bd8a-0242ac110002",
     "next": "720351dc-751b-11e8-bd8a-0242ac110002",
     "previous": "7203510a-751b-11e8-bd8a-0242ac110002"
    },
    "run_through_control": {
     "frozen": true,
     "read_only": true
    }
   },
   "outputs": [],
   "source": [
    "update_group_vars(\n",
    "    target_group,\n",
    "    moodle_shibboleth_enable=False,\n",
    "    proxy_tls_enable=True,\n",
    "    project_template_name='moodle-https',\n",
    "    proxy_config_name='nginx.conf',\n",
    "    proxy_config_update_name='nginx-update.conf',\n",
    "    proxy_config_dir='',\n",
    ")"
   ]
  },
  {
   "cell_type": "markdown",
   "metadata": {
    "hidden": true,
    "lc_cell_meme": {
     "current": "720351dc-751b-11e8-bd8a-0242ac110002",
     "next": "72035254-751b-11e8-bd8a-0242ac110002",
     "previous": "7203516e-751b-11e8-bd8a-0242ac110002"
    }
   },
   "source": [
    "## 自動的に割り当てられるパラメータを設定する\n",
    "\n",
    "設定されている他のパラメータや自動的に導き出されるパラメータ値を設定します。"
   ]
  },
  {
   "cell_type": "markdown",
   "metadata": {
    "hidden": true,
    "lc_cell_meme": {
     "current": "72035254-751b-11e8-bd8a-0242ac110002",
     "next": "720352b8-751b-11e8-bd8a-0242ac110002",
     "previous": "720351dc-751b-11e8-bd8a-0242ac110002"
    }
   },
   "source": [
    "アプリケーションコンテナの名前を設定します。この値は`container_version`から定まる値となります。"
   ]
  },
  {
   "cell_type": "code",
   "execution_count": 63,
   "metadata": {
    "deletable": false,
    "editable": false,
    "hidden": true,
    "lc_cell_meme": {
     "current": "720352b8-751b-11e8-bd8a-0242ac110002",
     "next": "72035326-751b-11e8-bd8a-0242ac110002",
     "previous": "72035254-751b-11e8-bd8a-0242ac110002"
    },
    "run_through_control": {
     "frozen": true,
     "read_only": true
    },
    "scrolled": true
   },
   "outputs": [],
   "source": [
    "gvars = load_group_vars(target_group)\n",
    "docker_container_name_mysql = 'mysql-{}'.format(\n",
    "    gvars['container_version'])\n",
    "docker_container_name_moodle = 'moodle-{}'.format(\n",
    "    gvars['container_version'])\n",
    "update_group_vars(\n",
    "    target_group,\n",
    "    docker_container_name_mysql=docker_container_name_mysql,\n",
    "    docker_container_name_moodle=docker_container_name_moodle,\n",
    ")"
   ]
  },
  {
   "cell_type": "markdown",
   "metadata": {
    "hidden": true,
    "lc_cell_meme": {
     "current": "72035326-751b-11e8-bd8a-0242ac110002",
     "next": "72035394-751b-11e8-bd8a-0242ac110002",
     "previous": "720352b8-751b-11e8-bd8a-0242ac110002"
    }
   },
   "source": [
    "各アプリケーションコンテナのコンテナバージョン毎のディレクトリを設定します。"
   ]
  },
  {
   "cell_type": "code",
   "execution_count": 64,
   "metadata": {
    "deletable": false,
    "editable": false,
    "hidden": true,
    "lc_cell_meme": {
     "current": "72035394-751b-11e8-bd8a-0242ac110002",
     "next": "720353f8-751b-11e8-bd8a-0242ac110002",
     "previous": "72035326-751b-11e8-bd8a-0242ac110002"
    },
    "run_through_control": {
     "frozen": true,
     "read_only": true
    }
   },
   "outputs": [],
   "source": [
    "gvars = load_group_vars(target_group)\n",
    "subvolume_name_mysql = '{}/db-{}'.format(\n",
    "    gvars['mysql_dir_data'], gvars['container_version'])\n",
    "subvolume_name_moodle_contents = '{}/contents-{}'.format(\n",
    "    gvars['moodle_dir_contents'], gvars['container_version'])\n",
    "subvolume_name_moodle_scripts = '{}/moodle-{}'.format(\n",
    "    gvars['moodle_dir_scripts'], gvars['container_version'])\n",
    "update_group_vars(\n",
    "    target_group,\n",
    "    subvolume_name_mysql=subvolume_name_mysql,\n",
    "    subvolume_name_moodle_contents=subvolume_name_moodle_contents,\n",
    "    subvolume_name_moodle_scripts=subvolume_name_moodle_scripts,\n",
    ")"
   ]
  },
  {
   "cell_type": "markdown",
   "metadata": {
    "hidden": true,
    "lc_cell_meme": {
     "current": "720353f8-751b-11e8-bd8a-0242ac110002",
     "next": "72035466-751b-11e8-bd8a-0242ac110002",
     "previous": "72035394-751b-11e8-bd8a-0242ac110002"
    }
   },
   "source": [
    "Moodle用ボリューム、MySQL用ボリュームに対応するデバイス名を設定します。デバイス名はクラウドプロバイダの設定値に応じて定まる値となります。"
   ]
  },
  {
   "cell_type": "code",
   "execution_count": 65,
   "metadata": {
    "deletable": false,
    "editable": false,
    "hidden": true,
    "lc_cell_meme": {
     "current": "72035466-751b-11e8-bd8a-0242ac110002",
     "next": null,
     "previous": "720353f8-751b-11e8-bd8a-0242ac110002"
    },
    "run_through_control": {
     "frozen": true,
     "read_only": true
    }
   },
   "outputs": [],
   "source": [
    "%run scripts/group.py\n",
    "vcp_provider = load_group_var(target_group, 'vcp_provider')\n",
    "if vcp_provider == 'aws':\n",
    "    volume_database_device = '/dev/xvdf'\n",
    "    volume_moodle_device = '/dev/xvdg'\n",
    "elif vcp_provider == 'azure':\n",
    "    volume_database_device = '/dev/sdc'\n",
    "    volume_moodle_device = '/dev/sdd'\n",
    "else:\n",
    "    # 他のプロバイダは未対応\n",
    "    # 必要に応じて適切な値を設定すること\n",
    "    pass\n",
    "\n",
    "volume_encrypt = load_group_var(target_group, 'volume_encrypt')\n",
    "if volume_encrypt:\n",
    "    # ボリュームを暗号化する場合は /dev/mapper/* に置き換える\n",
    "    volume_database_device0 = volume_database_device\n",
    "    volume_moodle_device0 = volume_moodle_device\n",
    "    volume_database_device = '/dev/mapper/mysql'\n",
    "    volume_moodle_device = '/dev/mapper/moodle'\n",
    "\n",
    "update_group_vars(\n",
    "    target_group,\n",
    "    volume_database_device=volume_database_device,\n",
    "    volume_moodle_device=volume_moodle_device,\n",
    ")\n",
    "\n",
    "if 'volume_database_device0' in vars():\n",
    "    update_group_vars(\n",
    "        target_group,\n",
    "        volume_database_device0=volume_database_device0,\n",
    "        volume_moodle_device0=volume_moodle_device0,\n",
    "    )    "
   ]
  }
 ],
 "metadata": {
  "kernelspec": {
   "display_name": "Python 3",
   "language": "python",
   "name": "python3"
  },
  "language_info": {
   "codemirror_mode": {
    "name": "ipython",
    "version": 3
   },
   "file_extension": ".py",
   "mimetype": "text/x-python",
   "name": "python",
   "nbconvert_exporter": "python",
   "pygments_lexer": "ipython3",
   "version": "3.5.2"
  },
  "lc_notebook_meme": {
   "current": "72030a2e-751b-11e8-bd8a-0242ac110002",
   "lc_server_signature": {
    "current": {
     "notebook_dir": "/notebooks/notebook",
     "notebook_path": "/handson/moodle",
     "signature_id": "b365c89a-59a9-11e8-8f0e-0242ac110002"
    },
    "history": []
   }
  },
  "toc": {
   "nav_menu": {},
   "number_sections": true,
   "sideBar": true,
   "skip_h1_title": false,
   "toc_cell": false,
   "toc_position": {
    "height": "538px",
    "left": "0px",
    "right": "983.533px",
    "top": "111px",
    "width": "382px"
   },
   "toc_section_display": "block",
   "toc_window_display": true
  }
 },
 "nbformat": 4,
 "nbformat_minor": 2
}
