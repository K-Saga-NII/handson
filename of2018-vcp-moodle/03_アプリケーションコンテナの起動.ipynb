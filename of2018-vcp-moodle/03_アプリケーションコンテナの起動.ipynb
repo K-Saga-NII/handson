{
 "cells": [
  {
   "cell_type": "markdown",
   "metadata": {
    "collapsed": true,
    "lc_cell_meme": {
     "current": "ae61201c-7522-11e8-bd8a-0242ac110002",
     "next": "ae6120a8-7522-11e8-bd8a-0242ac110002",
     "previous": null
    }
   },
   "source": [
    "# About: Moodleコンテナの起動\n",
    "\n",
    "---\n",
    "\n",
    "Moodleコンテナの起動と初期設定を行います"
   ]
  },
  {
   "cell_type": "markdown",
   "metadata": {
    "lc_cell_meme": {
     "current": "ae6120a8-7522-11e8-bd8a-0242ac110002",
     "next": "ae612116-7522-11e8-bd8a-0242ac110002",
     "previous": "ae61201c-7522-11e8-bd8a-0242ac110002"
    }
   },
   "source": [
    "## 構成"
   ]
  },
  {
   "cell_type": "markdown",
   "metadata": {
    "lc_cell_meme": {
     "current": "ae612116-7522-11e8-bd8a-0242ac110002",
     "next": "ae61218e-7522-11e8-bd8a-0242ac110002",
     "previous": "ae6120a8-7522-11e8-bd8a-0242ac110002"
    }
   },
   "source": [
    "![Moodleコンテナの起動](image/moodle-3-01.png)"
   ]
  },
  {
   "cell_type": "markdown",
   "metadata": {
    "lc_cell_meme": {
     "current": "ae61218e-7522-11e8-bd8a-0242ac110002",
     "next": "ae6121fc-7522-11e8-bd8a-0242ac110002",
     "previous": "ae612116-7522-11e8-bd8a-0242ac110002"
    }
   },
   "source": [
    "## グループ名の指定\n",
    "\n",
    "このNotebookの操作対象となるAnsibleのグループ名を設定します。\n",
    "\n",
    "> グループ名を指定することにより、他のNotebookで設定した値を引き継ぐことが出来ます。"
   ]
  },
  {
   "cell_type": "code",
   "execution_count": 1,
   "metadata": {
    "deletable": false,
    "editable": false,
    "lc_cell_meme": {
     "current": "ae6121fc-7522-11e8-bd8a-0242ac110002",
     "next": "ae61226a-7522-11e8-bd8a-0242ac110002",
     "previous": "ae61218e-7522-11e8-bd8a-0242ac110002"
    },
    "run_through_control": {
     "frozen": true
    }
   },
   "outputs": [],
   "source": [
    "target_group = 'Moodle'"
   ]
  },
  {
   "cell_type": "markdown",
   "metadata": {
    "heading_collapsed": true,
    "lc_cell_meme": {
     "current": "ae61226a-7522-11e8-bd8a-0242ac110002",
     "next": "ae6122d8-7522-11e8-bd8a-0242ac110002",
     "previous": "ae6121fc-7522-11e8-bd8a-0242ac110002"
    }
   },
   "source": [
    "# 前提条件の確認\n",
    "\n",
    "事前にNotebook「[02_VCノードの起動](02_VCノードの起動.ipynb)」が実行されていて、既にVCノードが起動していることなどを確認します。"
   ]
  },
  {
   "cell_type": "markdown",
   "metadata": {
    "hidden": true,
    "lc_cell_meme": {
     "current": "ae6122d8-7522-11e8-bd8a-0242ac110002",
     "next": "ae612346-7522-11e8-bd8a-0242ac110002",
     "previous": "ae61226a-7522-11e8-bd8a-0242ac110002"
    }
   },
   "source": [
    "パラメータを記録したファイルが存在することを確認します。"
   ]
  },
  {
   "cell_type": "code",
   "execution_count": 2,
   "metadata": {
    "deletable": false,
    "editable": false,
    "hidden": true,
    "lc_cell_meme": {
     "current": "ae612346-7522-11e8-bd8a-0242ac110002",
     "next": "ae6123b4-7522-11e8-bd8a-0242ac110002",
     "previous": "ae6122d8-7522-11e8-bd8a-0242ac110002"
    },
    "run_through_control": {
     "frozen": true,
     "read_only": true
    }
   },
   "outputs": [],
   "source": [
    "import os\n",
    "if not os.path.exists(os.path.join('group_vars', target_group + '.yml')):\n",
    "    raise RuntimeError(\"ERROR: not exists {}\".format(target_group + '.yml'))"
   ]
  },
  {
   "cell_type": "markdown",
   "metadata": {
    "hidden": true,
    "lc_cell_meme": {
     "current": "ae6123b4-7522-11e8-bd8a-0242ac110002",
     "next": "ae612422-7522-11e8-bd8a-0242ac110002",
     "previous": "ae612346-7522-11e8-bd8a-0242ac110002"
    }
   },
   "source": [
    "VCノードが起動されており、Notebook環境から Ansible で接続できることを確認します。"
   ]
  },
  {
   "cell_type": "code",
   "execution_count": 3,
   "metadata": {
    "deletable": false,
    "editable": false,
    "hidden": true,
    "lc_cell_meme": {
     "current": "ae612422-7522-11e8-bd8a-0242ac110002",
     "next": "ae612490-7522-11e8-bd8a-0242ac110002",
     "previous": "ae6123b4-7522-11e8-bd8a-0242ac110002"
    },
    "run_through_control": {
     "frozen": true,
     "read_only": true
    },
    "scrolled": true
   },
   "outputs": [
    {
     "name": "stdout",
     "output_type": "stream",
     "text": [
      "\u001b[0;32m172.30.2.100 | SUCCESS => {\u001b[0m\r\n",
      "\u001b[0;32m    \"changed\": false, \u001b[0m\r\n",
      "\u001b[0;32m    \"failed\": false, \u001b[0m\r\n",
      "\u001b[0;32m    \"ping\": \"pong\"\u001b[0m\r\n",
      "\u001b[0;32m}\u001b[0m\r\n"
     ]
    }
   ],
   "source": [
    "!ansible -m ping {target_group}"
   ]
  },
  {
   "cell_type": "markdown",
   "metadata": {
    "lc_cell_meme": {
     "current": "ae612490-7522-11e8-bd8a-0242ac110002",
     "next": "ae6124fe-7522-11e8-bd8a-0242ac110002",
     "previous": "ae612422-7522-11e8-bd8a-0242ac110002"
    }
   },
   "source": [
    "# パラメータの設定\n",
    "\n",
    "![パラメータの設定](image/moodle-3-03.png)"
   ]
  },
  {
   "cell_type": "markdown",
   "metadata": {
    "lc_cell_meme": {
     "current": "ae6124fe-7522-11e8-bd8a-0242ac110002",
     "next": "ae61256c-7522-11e8-bd8a-0242ac110002",
     "previous": "ae612490-7522-11e8-bd8a-0242ac110002"
    }
   },
   "source": [
    "## Moodle"
   ]
  },
  {
   "cell_type": "markdown",
   "metadata": {
    "lc_cell_meme": {
     "current": "ae61256c-7522-11e8-bd8a-0242ac110002",
     "next": "ae6125da-7522-11e8-bd8a-0242ac110002",
     "previous": "ae6124fe-7522-11e8-bd8a-0242ac110002"
    }
   },
   "source": [
    "### バージョン\n",
    "\n",
    "インストールするMoodleのバージョンを指定します。\n",
    "\n",
    "ここで指定する値はMoodleの[gitレポジトリ](https://github.com/moodle/moodle)の[タグ名](https://github.com/moodle/moodle/tags)と一致している必要があります。"
   ]
  },
  {
   "cell_type": "code",
   "execution_count": 4,
   "metadata": {
    "deletable": false,
    "editable": false,
    "lc_cell_meme": {
     "current": "ae6125da-7522-11e8-bd8a-0242ac110002",
     "next": "ae61263e-7522-11e8-bd8a-0242ac110002",
     "previous": "ae61256c-7522-11e8-bd8a-0242ac110002"
    },
    "run_through_control": {
     "frozen": true
    }
   },
   "outputs": [],
   "source": [
    "# (例)\n",
    "# moodle_version = 'v3.1.12'\n",
    "\n",
    "moodle_version = 'v3.1.12'"
   ]
  },
  {
   "cell_type": "markdown",
   "metadata": {
    "heading_collapsed": true,
    "lc_cell_meme": {
     "current": "ae61263e-7522-11e8-bd8a-0242ac110002",
     "next": "ae6126ac-7522-11e8-bd8a-0242ac110002",
     "previous": "ae6125da-7522-11e8-bd8a-0242ac110002"
    }
   },
   "source": [
    "#### チェックと保存"
   ]
  },
  {
   "cell_type": "code",
   "execution_count": 5,
   "metadata": {
    "deletable": false,
    "editable": false,
    "hidden": true,
    "lc_cell_meme": {
     "current": "ae6126ac-7522-11e8-bd8a-0242ac110002",
     "next": "ae61271a-7522-11e8-bd8a-0242ac110002",
     "previous": "ae61263e-7522-11e8-bd8a-0242ac110002"
    },
    "run_through_control": {
     "frozen": true,
     "read_only": true
    }
   },
   "outputs": [],
   "source": [
    "# タグ名の取得\n",
    "import six\n",
    "from six.moves.urllib.request import urlopen\n",
    "import json\n",
    "%run scripts/group.py\n",
    "\n",
    "response = urlopen(\n",
    "    'https://api.github.com/repos/moodle/moodle/git/refs/tags')\n",
    "moodle_heads = [\n",
    "    x['ref'].replace('refs/tags/', '')\n",
    "    for x in json.loads(response.read().decode('utf-8'))]\n",
    "response.close()\n",
    "\n",
    "# チェック\n",
    "if moodle_version not in moodle_heads:\n",
    "    raise RuntimeError(\"ERROR: not exists: {}\".format(moodle_version))\n",
    "\n",
    "# 保存\n",
    "update_group_vars(\n",
    "    target_group,\n",
    "    moodle_version=moodle_version,\n",
    ")"
   ]
  },
  {
   "cell_type": "markdown",
   "metadata": {
    "lc_cell_meme": {
     "current": "ae61271a-7522-11e8-bd8a-0242ac110002",
     "next": "ae612788-7522-11e8-bd8a-0242ac110002",
     "previous": "ae6126ac-7522-11e8-bd8a-0242ac110002"
    }
   },
   "source": [
    "### 管理者ユーザ\n",
    "\n",
    "Moodleの管理者ユーザ名を指定します。"
   ]
  },
  {
   "cell_type": "code",
   "execution_count": 6,
   "metadata": {
    "deletable": false,
    "editable": false,
    "lc_cell_meme": {
     "current": "ae612788-7522-11e8-bd8a-0242ac110002",
     "next": "ae6127ec-7522-11e8-bd8a-0242ac110002",
     "previous": "ae61271a-7522-11e8-bd8a-0242ac110002"
    },
    "run_through_control": {
     "frozen": true
    }
   },
   "outputs": [],
   "source": [
    "moodle_admin_name = 'admin'"
   ]
  },
  {
   "cell_type": "markdown",
   "metadata": {
    "heading_collapsed": true,
    "lc_cell_meme": {
     "current": "ae6127ec-7522-11e8-bd8a-0242ac110002",
     "next": "ae61285a-7522-11e8-bd8a-0242ac110002",
     "previous": "ae612788-7522-11e8-bd8a-0242ac110002"
    }
   },
   "source": [
    "#### 保存"
   ]
  },
  {
   "cell_type": "code",
   "execution_count": 7,
   "metadata": {
    "deletable": false,
    "editable": false,
    "hidden": true,
    "lc_cell_meme": {
     "current": "ae61285a-7522-11e8-bd8a-0242ac110002",
     "next": "ae6128c8-7522-11e8-bd8a-0242ac110002",
     "previous": "ae6127ec-7522-11e8-bd8a-0242ac110002"
    },
    "run_through_control": {
     "frozen": true,
     "read_only": true
    }
   },
   "outputs": [],
   "source": [
    "update_group_vars(\n",
    "    target_group,\n",
    "    moodle_admin_name=moodle_admin_name,\n",
    ")"
   ]
  },
  {
   "cell_type": "markdown",
   "metadata": {
    "lc_cell_meme": {
     "current": "ae6128c8-7522-11e8-bd8a-0242ac110002",
     "next": "ae612936-7522-11e8-bd8a-0242ac110002",
     "previous": "ae61285a-7522-11e8-bd8a-0242ac110002"
    }
   },
   "source": [
    "### URL"
   ]
  },
  {
   "cell_type": "markdown",
   "metadata": {
    "lc_cell_meme": {
     "current": "ae612936-7522-11e8-bd8a-0242ac110002",
     "next": "ae61299a-7522-11e8-bd8a-0242ac110002",
     "previous": "ae6128c8-7522-11e8-bd8a-0242ac110002"
    }
   },
   "source": [
    "`config.php`の`$CFG->wwwroot`に設定するURLを指定します。\n",
    "\n",
    "ハンズオン環境では事前に設定しているVCノードのホスト名を元にURLを設定します。次のセルを実行するとURLの値を確認することが出来ます。"
   ]
  },
  {
   "cell_type": "code",
   "execution_count": 8,
   "metadata": {
    "deletable": false,
    "editable": false,
    "lc_cell_meme": {
     "current": "ae61299a-7522-11e8-bd8a-0242ac110002",
     "next": "ae612a08-7522-11e8-bd8a-0242ac110002",
     "previous": "ae612936-7522-11e8-bd8a-0242ac110002"
    },
    "run_through_control": {
     "frozen": true,
     "read_only": true
    }
   },
   "outputs": [
    {
     "name": "stdout",
     "output_type": "stream",
     "text": [
      "https://moodle.example.org\n"
     ]
    }
   ],
   "source": [
    "%run scripts/group.py\n",
    "\n",
    "moodle_url = 'https://{}'.format(load_group_var(target_group, 'moodle_hostname'))\n",
    "\n",
    "print(moodle_url)"
   ]
  },
  {
   "cell_type": "markdown",
   "metadata": {
    "heading_collapsed": true,
    "lc_cell_meme": {
     "current": "ae612a08-7522-11e8-bd8a-0242ac110002",
     "next": "ae612a76-7522-11e8-bd8a-0242ac110002",
     "previous": "ae61299a-7522-11e8-bd8a-0242ac110002"
    }
   },
   "source": [
    "#### 保存"
   ]
  },
  {
   "cell_type": "code",
   "execution_count": 9,
   "metadata": {
    "deletable": false,
    "editable": false,
    "hidden": true,
    "lc_cell_meme": {
     "current": "ae612a76-7522-11e8-bd8a-0242ac110002",
     "next": "ae612ada-7522-11e8-bd8a-0242ac110002",
     "previous": "ae612a08-7522-11e8-bd8a-0242ac110002"
    },
    "run_through_control": {
     "frozen": true,
     "read_only": true
    }
   },
   "outputs": [],
   "source": [
    "if 'moodle_url' in vars():\n",
    "    update_group_vars(\n",
    "        target_group,\n",
    "        moodle_url=moodle_url,\n",
    "    )"
   ]
  },
  {
   "cell_type": "markdown",
   "metadata": {
    "lc_cell_meme": {
     "current": "ae612ada-7522-11e8-bd8a-0242ac110002",
     "next": "ae612b48-7522-11e8-bd8a-0242ac110002",
     "previous": "ae612a76-7522-11e8-bd8a-0242ac110002"
    }
   },
   "source": [
    "### コンテナイメージ"
   ]
  },
  {
   "cell_type": "markdown",
   "metadata": {
    "lc_cell_meme": {
     "current": "ae612b48-7522-11e8-bd8a-0242ac110002",
     "next": "ae612bb6-7522-11e8-bd8a-0242ac110002",
     "previous": "ae612ada-7522-11e8-bd8a-0242ac110002"
    }
   },
   "source": [
    "Moodleのバージョンによって必要となるPHP のバージョンは異なります。またPHPのモジュールを追加したい場合等を考慮して、\n",
    "アプリケーションテンプレートのNotebookではMoodleのコンテナイメージを事前に用意するのではなく設定されたパラメータに\n",
    "応じたコンテナイメージを構築手順のなかでビルドすることを想定しています。\n",
    "\n",
    "ハンズオン環境では設定されるパラメータなどが限定されていることと、コンテナイメージのビルドに必要となる時間を節約する\n",
    "ために、事前にコンテナイメージを用意しました。ここでは事前に設定しているコンテナイメージ名の確認のみを行います。"
   ]
  },
  {
   "cell_type": "code",
   "execution_count": 10,
   "metadata": {
    "deletable": false,
    "editable": false,
    "lc_cell_meme": {
     "current": "ae612bb6-7522-11e8-bd8a-0242ac110002",
     "next": "ae612c24-7522-11e8-bd8a-0242ac110002",
     "previous": "ae612b48-7522-11e8-bd8a-0242ac110002"
    },
    "run_through_control": {
     "frozen": true,
     "read_only": true
    }
   },
   "outputs": [
    {
     "name": "stdout",
     "output_type": "stream",
     "text": [
      "192.168.2.1:5001/centos7-moodle\n"
     ]
    }
   ],
   "source": [
    "%run scripts/group.py\n",
    "moodle_image_name = load_group_var(target_group, 'moodle_image_name')\n",
    "print(moodle_image_name)"
   ]
  },
  {
   "cell_type": "markdown",
   "metadata": {
    "lc_cell_meme": {
     "current": "ae612c24-7522-11e8-bd8a-0242ac110002",
     "next": "ae612c92-7522-11e8-bd8a-0242ac110002",
     "previous": "ae612bb6-7522-11e8-bd8a-0242ac110002"
    }
   },
   "source": [
    "## MySQL"
   ]
  },
  {
   "cell_type": "markdown",
   "metadata": {
    "lc_cell_meme": {
     "current": "ae612c92-7522-11e8-bd8a-0242ac110002",
     "next": "ae612cf6-7522-11e8-bd8a-0242ac110002",
     "previous": "ae612c24-7522-11e8-bd8a-0242ac110002"
    }
   },
   "source": [
    "### コンテナイメージ"
   ]
  },
  {
   "cell_type": "markdown",
   "metadata": {
    "lc_cell_meme": {
     "current": "ae612cf6-7522-11e8-bd8a-0242ac110002",
     "next": "ae612d64-7522-11e8-bd8a-0242ac110002",
     "previous": "ae612c92-7522-11e8-bd8a-0242ac110002"
    }
   },
   "source": [
    "データベースコンテナのイメージ名を指定してください。指定可能なイメージは[MySQL](https://hub.docker.com/r/library/mysql/) または [MariaDB ](https://hub.docker.com/_/mariadb/) です。"
   ]
  },
  {
   "cell_type": "code",
   "execution_count": 11,
   "metadata": {
    "deletable": false,
    "editable": false,
    "lc_cell_meme": {
     "current": "ae612d64-7522-11e8-bd8a-0242ac110002",
     "next": "ae612dd2-7522-11e8-bd8a-0242ac110002",
     "previous": "ae612cf6-7522-11e8-bd8a-0242ac110002"
    },
    "run_through_control": {
     "frozen": true,
     "read_only": true
    }
   },
   "outputs": [],
   "source": [
    "# (例)\n",
    "# database_image_name = 'mysql:8.0.11'\n",
    "# database_image_name = 'mysql:5.7'\n",
    "# database_image_name = 'mariadb:10.2'\n",
    "\n",
    "database_image_name = 'mysql:5'"
   ]
  },
  {
   "cell_type": "markdown",
   "metadata": {
    "heading_collapsed": true,
    "lc_cell_meme": {
     "current": "ae612dd2-7522-11e8-bd8a-0242ac110002",
     "next": "ae612e40-7522-11e8-bd8a-0242ac110002",
     "previous": "ae612d64-7522-11e8-bd8a-0242ac110002"
    }
   },
   "source": [
    "#### チェックと保存"
   ]
  },
  {
   "cell_type": "markdown",
   "metadata": {
    "hidden": true,
    "lc_cell_meme": {
     "current": "ae612e40-7522-11e8-bd8a-0242ac110002",
     "next": "ae612eae-7522-11e8-bd8a-0242ac110002",
     "previous": "ae612dd2-7522-11e8-bd8a-0242ac110002"
    }
   },
   "source": [
    "設定された値をチェックして問題がなければ group_vars ファイルに保存します。以下のチェックを行っています。\n",
    "\n",
    "* イメージ名が `mysql`, `mariadb` のいずれかであること\n",
    "* Moodle のバージョンが 3.1, 3.2 の場合、MySQL 8 相当のイメージが指定されていないこと\n",
    "\n",
    "> 現時点では Moodle 3.1, 3.2 で MySQL 8を使用するとインストールに失敗することを確認しているためその組み合わせが指定された場合はエラー\n",
    "としてます(2018/4/25確認)。"
   ]
  },
  {
   "cell_type": "code",
   "execution_count": 12,
   "metadata": {
    "deletable": false,
    "editable": false,
    "hidden": true,
    "lc_cell_meme": {
     "current": "ae612eae-7522-11e8-bd8a-0242ac110002",
     "next": "ae612f1c-7522-11e8-bd8a-0242ac110002",
     "previous": "ae612e40-7522-11e8-bd8a-0242ac110002"
    },
    "run_through_control": {
     "frozen": true,
     "read_only": true
    }
   },
   "outputs": [],
   "source": [
    "import re\n",
    "%run scripts/group.py\n",
    "moodle_version = load_group_var(target_group, 'moodle_version')\n",
    "\n",
    "# 設定値のチェック\n",
    "w = database_image_name.split(':')\n",
    "if w[0] not in {'mysql', 'mariadb'}:\n",
    "    raise RuntimeError(\"ERROR: image name not supported: {}\".format(w[0]))\n",
    "if re.match(r'v3\\.[12]', moodle_version) and (\n",
    "        len(w) == 1 or w[1] == 'latest' or w[1].startswith('8')):\n",
    "    raise RuntimeError(\n",
    "        \"ERROR: unsupported version: {}, {}\".format(\n",
    "            moodle_version, database_image_name))\n",
    "\n",
    "# group_vars への保存\n",
    "update_group_vars(\n",
    "    target_group,\n",
    "    database_image_name=database_image_name,\n",
    "    database_type='mysqli' if w[0] == 'mysql' else 'mariadb',\n",
    ")"
   ]
  },
  {
   "cell_type": "markdown",
   "metadata": {
    "lc_cell_meme": {
     "current": "ae612f1c-7522-11e8-bd8a-0242ac110002",
     "next": "ae612f8a-7522-11e8-bd8a-0242ac110002",
     "previous": "ae612eae-7522-11e8-bd8a-0242ac110002"
    }
   },
   "source": [
    "### データベース名\n",
    "\n",
    "Moodleが使用するデータベース名を指定してください。"
   ]
  },
  {
   "cell_type": "code",
   "execution_count": 13,
   "metadata": {
    "deletable": false,
    "editable": false,
    "lc_cell_meme": {
     "current": "ae612f8a-7522-11e8-bd8a-0242ac110002",
     "next": "ae612fee-7522-11e8-bd8a-0242ac110002",
     "previous": "ae612f1c-7522-11e8-bd8a-0242ac110002"
    },
    "run_through_control": {
     "frozen": true
    }
   },
   "outputs": [],
   "source": [
    "mysql_database = 'moodle'"
   ]
  },
  {
   "cell_type": "markdown",
   "metadata": {
    "heading_collapsed": true,
    "lc_cell_meme": {
     "current": "ae612fee-7522-11e8-bd8a-0242ac110002",
     "next": "ae61305c-7522-11e8-bd8a-0242ac110002",
     "previous": "ae612f8a-7522-11e8-bd8a-0242ac110002"
    }
   },
   "source": [
    "#### 保存"
   ]
  },
  {
   "cell_type": "code",
   "execution_count": 14,
   "metadata": {
    "deletable": false,
    "editable": false,
    "hidden": true,
    "lc_cell_meme": {
     "current": "ae61305c-7522-11e8-bd8a-0242ac110002",
     "next": "ae6130ca-7522-11e8-bd8a-0242ac110002",
     "previous": "ae612fee-7522-11e8-bd8a-0242ac110002"
    },
    "run_through_control": {
     "frozen": true,
     "read_only": true
    }
   },
   "outputs": [],
   "source": [
    "update_group_vars(\n",
    "    target_group,\n",
    "    mysql_database=mysql_database,\n",
    ")"
   ]
  },
  {
   "cell_type": "markdown",
   "metadata": {
    "lc_cell_meme": {
     "current": "ae6130ca-7522-11e8-bd8a-0242ac110002",
     "next": "ae61312e-7522-11e8-bd8a-0242ac110002",
     "previous": "ae61305c-7522-11e8-bd8a-0242ac110002"
    }
   },
   "source": [
    "### 接続ユーザ\n",
    "\n",
    "Moodleのデータベースに接続するためのデータベースのユーザ名を指定してください。"
   ]
  },
  {
   "cell_type": "code",
   "execution_count": 15,
   "metadata": {
    "deletable": false,
    "editable": false,
    "lc_cell_meme": {
     "current": "ae61312e-7522-11e8-bd8a-0242ac110002",
     "next": "ae61319c-7522-11e8-bd8a-0242ac110002",
     "previous": "ae6130ca-7522-11e8-bd8a-0242ac110002"
    },
    "run_through_control": {
     "frozen": true
    }
   },
   "outputs": [],
   "source": [
    "mysql_user_name = 'moodle'"
   ]
  },
  {
   "cell_type": "markdown",
   "metadata": {
    "heading_collapsed": true,
    "lc_cell_meme": {
     "current": "ae61319c-7522-11e8-bd8a-0242ac110002",
     "next": "ae61320a-7522-11e8-bd8a-0242ac110002",
     "previous": "ae61312e-7522-11e8-bd8a-0242ac110002"
    }
   },
   "source": [
    "#### 保存"
   ]
  },
  {
   "cell_type": "code",
   "execution_count": 16,
   "metadata": {
    "deletable": false,
    "editable": false,
    "hidden": true,
    "lc_cell_meme": {
     "current": "ae61320a-7522-11e8-bd8a-0242ac110002",
     "next": "ae61326e-7522-11e8-bd8a-0242ac110002",
     "previous": "ae61319c-7522-11e8-bd8a-0242ac110002"
    },
    "run_through_control": {
     "frozen": true,
     "read_only": true
    }
   },
   "outputs": [],
   "source": [
    "update_group_vars(\n",
    "    target_group,\n",
    "    mysql_user_name=mysql_user_name,\n",
    ")"
   ]
  },
  {
   "cell_type": "markdown",
   "metadata": {
    "lc_cell_meme": {
     "current": "ae61326e-7522-11e8-bd8a-0242ac110002",
     "next": "ae6132dc-7522-11e8-bd8a-0242ac110002",
     "previous": "ae61320a-7522-11e8-bd8a-0242ac110002"
    }
   },
   "source": [
    "## Nginx"
   ]
  },
  {
   "cell_type": "markdown",
   "metadata": {
    "lc_cell_meme": {
     "current": "ae6132dc-7522-11e8-bd8a-0242ac110002",
     "next": "ae61334a-7522-11e8-bd8a-0242ac110002",
     "previous": "ae61326e-7522-11e8-bd8a-0242ac110002"
    }
   },
   "source": [
    "### サーバ証明書\n",
    "\n",
    "Nginxで使用するサーバ証明書が格納されているパスの設定を行います。\n",
    "\n",
    "> ハンズオン環境では事前に設定をおこなっているのでここでは設定値を表示して確認のみ行います。"
   ]
  },
  {
   "cell_type": "code",
   "execution_count": 17,
   "metadata": {
    "deletable": false,
    "editable": false,
    "lc_cell_meme": {
     "current": "ae61334a-7522-11e8-bd8a-0242ac110002",
     "next": "ae6133b8-7522-11e8-bd8a-0242ac110002",
     "previous": "ae6132dc-7522-11e8-bd8a-0242ac110002"
    },
    "run_through_control": {
     "frozen": true,
     "read_only": true
    }
   },
   "outputs": [
    {
     "name": "stdout",
     "output_type": "stream",
     "text": [
      "/notebooks/notebook/handson/cert/server.crt\n",
      "/notebooks/notebook/handson/cert/server.key\n"
     ]
    }
   ],
   "source": [
    "%run scripts/group.py\n",
    "\n",
    "# 証明書のパス\n",
    "proxy_tls_cert_path = load_group_var(target_group, 'proxy_tls_cert_path')\n",
    "print(proxy_tls_cert_path)\n",
    "\n",
    "# 鍵ファイルのパス\n",
    "proxy_tls_key_path = load_group_var(target_group, 'proxy_tls_key_path')\n",
    "print(proxy_tls_key_path)"
   ]
  },
  {
   "cell_type": "markdown",
   "metadata": {
    "lc_cell_meme": {
     "current": "ae6133b8-7522-11e8-bd8a-0242ac110002",
     "next": "ae613426-7522-11e8-bd8a-0242ac110002",
     "previous": "ae61334a-7522-11e8-bd8a-0242ac110002"
    }
   },
   "source": [
    "証明書の内容を確認します。"
   ]
  },
  {
   "cell_type": "code",
   "execution_count": 18,
   "metadata": {
    "deletable": false,
    "editable": false,
    "lc_cell_meme": {
     "current": "ae613426-7522-11e8-bd8a-0242ac110002",
     "next": "ae613494-7522-11e8-bd8a-0242ac110002",
     "previous": "ae6133b8-7522-11e8-bd8a-0242ac110002"
    },
    "run_through_control": {
     "frozen": true,
     "read_only": true
    },
    "scrolled": true
   },
   "outputs": [
    {
     "name": "stdout",
     "output_type": "stream",
     "text": [
      "Certificate:\r\n",
      "    Data:\r\n",
      "        Version: 3 (0x2)\r\n",
      "        Serial Number:\r\n",
      "            03:5a:fd:ac:a5:5d:95:13:c4:35:ab:23:94:a6:55:44:64:71\r\n",
      "    Signature Algorithm: sha256WithRSAEncryption\r\n",
      "        Issuer: C=US, O=Let's Encrypt, CN=Let's Encrypt Authority X3\r\n",
      "        Validity\r\n",
      "            Not Before: May 21 06:55:30 2018 GMT\r\n",
      "            Not After : Aug 19 06:55:30 2018 GMT\r\n",
      "        Subject: CN=*.example.org\r\n",
      "        Subject Public Key Info:\r\n",
      "            Public Key Algorithm: rsaEncryption\r\n",
      "                Public-Key: (2048 bit)\r\n",
      "                Modulus:\r\n",
      "                    00:d4:5d:5c:2b:97:18:0f:b3:f8:ab:97:2d:ab:16:\r\n",
      "                    c9:35:8d:b2:83:d8:39:6c:cb:14:fd:e6:52:37:ca:\r\n",
      "                    31:81:4d:f5:dd:45:df:3b:ec:e1:9a:17:0b:dd:3a:\r\n",
      "                    af:49:d0:37:ee:59:e0:99:ae:53:2d:47:d2:b6:44:\r\n",
      "                    1b:53:13:5e:df:8c:2e:60:b0:75:64:b2:52:a2:eb:\r\n",
      "                    45:4b:f8:c7:ec:54:b3:bc:93:75:1a:22:42:83:4f:\r\n",
      "                    33:e6:c3:5f:dd:74:98:96:6b:22:10:92:ea:3c:18:\r\n",
      "                    5f:a8:8b:6c:48:2e:72:bf:fb:8b:49:02:c1:26:24:\r\n",
      "                    84:0e:c4:a3:36:41:5c:cd:3e:d5:dd:bf:95:28:7f:\r\n",
      "                    69:15:13:8f:3a:fd:ef:6e:ae:e5:a2:0f:ab:87:e0:\r\n",
      "                    45:92:cf:2c:87:e0:16:c7:1a:d9:18:85:ac:7e:5b:\r\n",
      "                    4e:30:d6:e1:c4:ae:c1:74:12:07:14:a3:91:7d:e5:\r\n",
      "                    67:8f:c2:f0:4e:94:51:be:e0:18:41:44:e1:9d:f8:\r\n",
      "                    56:91:af:47:9c:a8:dc:6e:94:32:13:87:bc:8b:a1:\r\n",
      "                    54:63:0d:a6:0b:d9:f5:cf:0b:43:1b:ad:65:dd:6e:\r\n",
      "                    4f:35:cd:74:46:f8:3b:4b:79:0a:a7:33:38:37:d6:\r\n",
      "                    51:9a:e6:06:b7:fb:23:b7:8a:c2:7f:1d:61:6b:25:\r\n",
      "                    1d:75\r\n",
      "                Exponent: 65537 (0x10001)\r\n",
      "        X509v3 extensions:\r\n",
      "            X509v3 Key Usage: critical\r\n",
      "                Digital Signature, Key Encipherment\r\n",
      "            X509v3 Extended Key Usage: \r\n",
      "                TLS Web Server Authentication, TLS Web Client Authentication\r\n",
      "            X509v3 Basic Constraints: critical\r\n",
      "                CA:FALSE\r\n",
      "            X509v3 Subject Key Identifier: \r\n",
      "                D4:74:0A:D9:FC:69:D2:D4:86:5B:F0:ED:45:98:B0:E9:C0:EC:69:A2\r\n",
      "            X509v3 Authority Key Identifier: \r\n",
      "                keyid:A8:4A:6A:63:04:7D:DD:BA:E6:D1:39:B7:A6:45:65:EF:F3:A8:EC:A1\r\n",
      "\r\n",
      "            Authority Information Access: \r\n",
      "                OCSP - URI:http://ocsp.int-x3.letsencrypt.org\r\n",
      "                CA Issuers - URI:http://cert.int-x3.letsencrypt.org/\r\n",
      "\r\n",
      "            X509v3 Subject Alternative Name: \r\n",
      "                DNS:*.example.org\r\n",
      "            X509v3 Certificate Policies: \r\n",
      "                Policy: 2.23.140.1.2.1\r\n",
      "                Policy: 1.3.6.1.4.1.44947.1.1.1\r\n",
      "                  CPS: http://cps.letsencrypt.org\r\n",
      "                  User Notice:\r\n",
      "                    Explicit Text: This Certificate may only be relied upon by Relying Parties and only in accordance with the Certificate Policy found at https://letsencrypt.org/repository/\r\n",
      "\r\n",
      "            CT Precertificate SCTs: \r\n",
      "                Signed Certificate Timestamp:\r\n",
      "                    Version   : v1(0)\r\n",
      "                    Log ID    : DB:74:AF:EE:CB:29:EC:B1:FE:CA:3E:71:6D:2C:E5:B9:\r\n",
      "                                AA:BB:36:F7:84:71:83:C7:5D:9D:4F:37:B6:1F:BF:64\r\n",
      "                    Timestamp : May 21 07:55:30.360 2018 GMT\r\n",
      "                    Extensions: none\r\n",
      "                    Signature : ecdsa-with-SHA256\r\n",
      "                                30:46:02:21:00:C9:C0:B9:BB:99:3F:6F:87:8B:CF:67:\r\n",
      "                                63:5B:45:88:64:91:A0:5C:82:D0:62:47:27:8F:57:82:\r\n",
      "                                C3:39:6C:E1:6E:02:21:00:F0:A3:CE:7F:BB:76:64:39:\r\n",
      "                                7D:36:CC:84:3F:FD:37:1D:78:7F:58:C9:5D:24:DF:54:\r\n",
      "                                10:BA:5B:5F:44:5E:2A:BE\r\n",
      "                Signed Certificate Timestamp:\r\n",
      "                    Version   : v1(0)\r\n",
      "                    Log ID    : 29:3C:51:96:54:C8:39:65:BA:AA:50:FC:58:07:D4:B7:\r\n",
      "                                6F:BF:58:7A:29:72:DC:A4:C3:0C:F4:E5:45:47:F4:78\r\n",
      "                    Timestamp : May 21 07:55:30.407 2018 GMT\r\n",
      "                    Extensions: none\r\n",
      "                    Signature : ecdsa-with-SHA256\r\n",
      "                                30:46:02:21:00:BC:5B:04:F2:CF:96:C6:75:56:C2:E6:\r\n",
      "                                88:0F:E9:B2:3C:CE:B4:20:14:EA:13:4E:00:B1:17:B9:\r\n",
      "                                D5:ED:0D:C2:32:02:21:00:9C:DB:7E:8F:3B:98:E5:85:\r\n",
      "                                D4:0D:74:A8:4A:7D:45:54:96:7A:82:B3:BE:34:2C:F8:\r\n",
      "                                F7:A4:9A:48:F6:D2:80:89\r\n",
      "    Signature Algorithm: sha256WithRSAEncryption\r\n",
      "         46:61:6e:9e:04:11:db:3c:2d:8a:6a:e2:70:10:f6:24:4c:a4:\r\n",
      "         5e:08:10:12:bc:ca:93:14:03:48:40:01:57:37:fa:c7:bd:e7:\r\n",
      "         b1:fd:31:93:97:1c:0f:87:68:39:bd:94:43:7b:a8:0d:87:01:\r\n",
      "         04:e0:da:f2:9e:5e:b5:30:15:2a:a9:3c:be:bb:3b:e9:d0:f5:\r\n",
      "         f0:37:b8:09:dc:dd:fe:7d:44:d4:ec:68:bf:3b:fb:6b:99:b0:\r\n",
      "         1f:d1:5d:8b:a2:48:6c:6f:a6:f3:0b:73:43:89:18:a6:bc:ce:\r\n",
      "         d8:f4:f4:1e:cf:1c:62:49:c2:9c:ac:bc:09:0e:28:80:7f:66:\r\n",
      "         2c:9c:23:85:03:67:6f:df:e2:14:00:f7:9b:97:57:01:94:e6:\r\n",
      "         6a:b2:12:15:ab:bc:4a:e3:a7:e0:bf:d4:fd:6d:b4:eb:f6:4a:\r\n",
      "         b8:70:75:88:e8:3d:5c:25:1a:21:a1:89:50:4e:c6:76:87:a0:\r\n",
      "         98:09:0b:a9:b6:61:45:bf:c9:be:a8:ee:dc:6b:2b:4b:db:09:\r\n",
      "         81:15:f7:fe:97:37:74:ce:7b:32:49:75:7b:2b:ff:5e:c5:7b:\r\n",
      "         90:a1:f9:af:c7:c3:04:e9:89:ae:57:b4:b8:1b:80:2b:d8:56:\r\n",
      "         28:0b:06:1a:66:77:21:d2:f3:38:aa:d2:6d:27:8b:c5:58:de:\r\n",
      "         67:d9:b5:75\r\n"
     ]
    }
   ],
   "source": [
    "!openssl x509 -noout -text -in {proxy_tls_cert_path}"
   ]
  },
  {
   "cell_type": "markdown",
   "metadata": {
    "lc_cell_meme": {
     "current": "ae613494-7522-11e8-bd8a-0242ac110002",
     "next": "ae613502-7522-11e8-bd8a-0242ac110002",
     "previous": "ae613426-7522-11e8-bd8a-0242ac110002"
    }
   },
   "source": [
    "## 秘密情報の設定"
   ]
  },
  {
   "cell_type": "markdown",
   "metadata": {
    "lc_cell_meme": {
     "current": "ae613502-7522-11e8-bd8a-0242ac110002",
     "next": "ae613570-7522-11e8-bd8a-0242ac110002",
     "previous": "ae613494-7522-11e8-bd8a-0242ac110002"
    }
   },
   "source": [
    "構築するMoodle環境に関する秘密情報を Vault サーバに格納します。\n",
    "\n",
    "対象となる秘密情報を以下に示します。\n",
    "\n",
    "* MySQL のMoodleデータベースのパスワード\n",
    "* Moodle の管理者パスワード"
   ]
  },
  {
   "cell_type": "markdown",
   "metadata": {
    "lc_cell_meme": {
     "current": "ae613570-7522-11e8-bd8a-0242ac110002",
     "next": "ae6135de-7522-11e8-bd8a-0242ac110002",
     "previous": "ae613502-7522-11e8-bd8a-0242ac110002"
    }
   },
   "source": [
    "### 秘密情報の格納先の設定"
   ]
  },
  {
   "cell_type": "markdown",
   "metadata": {
    "lc_cell_meme": {
     "current": "ae6135de-7522-11e8-bd8a-0242ac110002",
     "next": "ae613642-7522-11e8-bd8a-0242ac110002",
     "previous": "ae613570-7522-11e8-bd8a-0242ac110002"
    }
   },
   "source": [
    "秘密情報を格納する Vaultサーバ上のパスを設定します。\n",
    "\n",
    "VCPの Vault サーバでは、2種類の格納場所を提供しています。\n",
    "\n",
    "* secret/\n",
    "  - 同一のVCコントローラを利用するユーザ間で共有している格納領域\n",
    "* cubbyhole/\n",
    "  - 利用者毎に異なる格納領域\n",
    "  \n",
    "通常は `cubbyhole` を指定します。"
   ]
  },
  {
   "cell_type": "code",
   "execution_count": 19,
   "metadata": {
    "deletable": false,
    "editable": false,
    "lc_cell_meme": {
     "current": "ae613642-7522-11e8-bd8a-0242ac110002",
     "next": "ae6136b0-7522-11e8-bd8a-0242ac110002",
     "previous": "ae6135de-7522-11e8-bd8a-0242ac110002"
    },
    "run_through_control": {
     "frozen": true,
     "read_only": true
    }
   },
   "outputs": [],
   "source": [
    "# (例)\n",
    "# vault_moodle_path = 'cubbyhole/moodle'\n",
    "\n",
    "vault_moodle_path = 'cubbyhole/moodle'"
   ]
  },
  {
   "cell_type": "markdown",
   "metadata": {
    "heading_collapsed": true,
    "lc_cell_meme": {
     "current": "ae6136b0-7522-11e8-bd8a-0242ac110002",
     "next": "ae61371e-7522-11e8-bd8a-0242ac110002",
     "previous": "ae613642-7522-11e8-bd8a-0242ac110002"
    }
   },
   "source": [
    "#### チェックと保存\n",
    "\n",
    "既存のデータを上書きしないことを保証するために、指定された Vault サーバのパスにデータがないことを確認します。\n",
    "\n",
    "> エラーになった場合は、格納先をパス(vault_moodle_path)を設定し直してください。"
   ]
  },
  {
   "cell_type": "code",
   "execution_count": 20,
   "metadata": {
    "deletable": false,
    "editable": false,
    "hidden": true,
    "lc_cell_meme": {
     "current": "ae61371e-7522-11e8-bd8a-0242ac110002",
     "next": "ae61378c-7522-11e8-bd8a-0242ac110002",
     "previous": "ae6136b0-7522-11e8-bd8a-0242ac110002"
    },
    "run_through_control": {
     "frozen": true,
     "read_only": true
    }
   },
   "outputs": [],
   "source": [
    "%run scripts/group.py\n",
    "# ハンズオン環境では上書きチェックをスキップする\n",
    "# vault_address = load_group_var(target_group, 'vault_address')\n",
    "# vault_token = load_group_var(target_group, 'vcc_access_token')\n",
    "# try:\n",
    "#     !curl --silent --fail --header \"X-Vault-Token:{vault_token}\" \\\n",
    "#         \"{vault_address}/v1/{vault_moodle_path}\"\n",
    "#     raise Exception(\"ERROR: {}: already exists\".format(vault_moodle_path))\n",
    "# except RuntimeError as e:\n",
    "#     if not str(e).endswith(': 22'):\n",
    "#         # エラーメッセージが\"Unexpected exit code: 22\" 以外の場合は想定していないエラーなので例外を再送\n",
    "#        raise\n",
    "\n",
    "# group_vars への保存\n",
    "update_group_vars(\n",
    "    target_group,\n",
    "    vault_moodle_path=vault_moodle_path,\n",
    ")"
   ]
  },
  {
   "cell_type": "markdown",
   "metadata": {
    "lc_cell_meme": {
     "current": "ae61378c-7522-11e8-bd8a-0242ac110002",
     "next": "ae6137fa-7522-11e8-bd8a-0242ac110002",
     "previous": "ae61371e-7522-11e8-bd8a-0242ac110002"
    }
   },
   "source": [
    "### 秘密情報の入力"
   ]
  },
  {
   "cell_type": "markdown",
   "metadata": {
    "lc_cell_meme": {
     "current": "ae6137fa-7522-11e8-bd8a-0242ac110002",
     "next": "ae613868-7522-11e8-bd8a-0242ac110002",
     "previous": "ae61378c-7522-11e8-bd8a-0242ac110002"
    }
   },
   "source": [
    "MySQL のMoodleデータベースのパスワードを設定します。\n",
    "\n",
    "次のセルを実行すると入力枠が表示されるのでパスワードを入力してください。"
   ]
  },
  {
   "cell_type": "code",
   "execution_count": 21,
   "metadata": {
    "deletable": false,
    "editable": false,
    "lc_cell_meme": {
     "current": "ae613868-7522-11e8-bd8a-0242ac110002",
     "next": "ae6138e0-7522-11e8-bd8a-0242ac110002",
     "previous": "ae6137fa-7522-11e8-bd8a-0242ac110002"
    },
    "run_through_control": {
     "frozen": true,
     "read_only": true
    }
   },
   "outputs": [
    {
     "name": "stdout",
     "output_type": "stream",
     "text": [
      "········\n"
     ]
    }
   ],
   "source": [
    "import getpass\n",
    "mysql_user_password = getpass.getpass()"
   ]
  },
  {
   "cell_type": "markdown",
   "metadata": {
    "lc_cell_meme": {
     "current": "ae6138e0-7522-11e8-bd8a-0242ac110002",
     "next": "ae613944-7522-11e8-bd8a-0242ac110002",
     "previous": "ae613868-7522-11e8-bd8a-0242ac110002"
    }
   },
   "source": [
    "次にMoodle の管理者パスワードを設定します。"
   ]
  },
  {
   "cell_type": "code",
   "execution_count": 22,
   "metadata": {
    "deletable": false,
    "editable": false,
    "lc_cell_meme": {
     "current": "ae613944-7522-11e8-bd8a-0242ac110002",
     "next": "ae6139bc-7522-11e8-bd8a-0242ac110002",
     "previous": "ae6138e0-7522-11e8-bd8a-0242ac110002"
    },
    "run_through_control": {
     "frozen": true
    }
   },
   "outputs": [],
   "source": [
    "# moodle_admin_password = getpass.getpass()\n",
    "\n",
    "# 本来は MySQLのパスワード同様にパスワード入力用のUIで入力しますが、\n",
    "# 入力誤りを避けるためハンズオンでは文字列として設定します。\n",
    "moodle_admin_password = 'Moodle0621'"
   ]
  },
  {
   "cell_type": "markdown",
   "metadata": {
    "heading_collapsed": true,
    "lc_cell_meme": {
     "current": "ae6139bc-7522-11e8-bd8a-0242ac110002",
     "next": "ae613a2a-7522-11e8-bd8a-0242ac110002",
     "previous": "ae613944-7522-11e8-bd8a-0242ac110002"
    }
   },
   "source": [
    "### 保存"
   ]
  },
  {
   "cell_type": "markdown",
   "metadata": {
    "hidden": true,
    "lc_cell_meme": {
     "current": "ae613a2a-7522-11e8-bd8a-0242ac110002",
     "next": "ae613a8e-7522-11e8-bd8a-0242ac110002",
     "previous": "ae6139bc-7522-11e8-bd8a-0242ac110002"
    }
   },
   "source": [
    "入力された秘密情報を Vault サーバに格納します。"
   ]
  },
  {
   "cell_type": "code",
   "execution_count": 23,
   "metadata": {
    "deletable": false,
    "editable": false,
    "hidden": true,
    "lc_cell_meme": {
     "current": "ae613a8e-7522-11e8-bd8a-0242ac110002",
     "next": "ae613afc-7522-11e8-bd8a-0242ac110002",
     "previous": "ae613a2a-7522-11e8-bd8a-0242ac110002"
    },
    "run_through_control": {
     "frozen": true,
     "read_only": true
    }
   },
   "outputs": [],
   "source": [
    "import json\n",
    "%run scripts/group.py\n",
    "\n",
    "vault_address = load_group_var(target_group, 'vault_address')\n",
    "vault_token = load_group_var(target_group, 'vcc_access_token')\n",
    "vault_moodle_params = {\n",
    "    'moodle_admin_password': moodle_admin_password,\n",
    "    'mysql_user_password': mysql_user_password,\n",
    "}\n",
    "\n",
    "# Vaultサーバに秘密情報を格納する\n",
    "!curl --fail --header \"X-Vault-Token:{vault_token}\" \\\n",
    "    --header \"Content-Type: application/json\" -X POST \\\n",
    "    --data '{json.dumps(vault_moodle_params)}' \\\n",
    "    \"{vault_address}/v1/{vault_moodle_path}\""
   ]
  },
  {
   "cell_type": "markdown",
   "metadata": {
    "heading_collapsed": true,
    "lc_cell_meme": {
     "current": "ae613afc-7522-11e8-bd8a-0242ac110002",
     "next": "ae613b6a-7522-11e8-bd8a-0242ac110002",
     "previous": "ae613a8e-7522-11e8-bd8a-0242ac110002"
    }
   },
   "source": [
    "## チェック\n",
    "\n",
    "設定項目に漏れがないかを確認します。"
   ]
  },
  {
   "cell_type": "code",
   "execution_count": 24,
   "metadata": {
    "deletable": false,
    "editable": false,
    "hidden": true,
    "lc_cell_meme": {
     "current": "ae613b6a-7522-11e8-bd8a-0242ac110002",
     "next": "ae613bd8-7522-11e8-bd8a-0242ac110002",
     "previous": "ae613afc-7522-11e8-bd8a-0242ac110002"
    },
    "run_through_control": {
     "frozen": true,
     "read_only": true
    }
   },
   "outputs": [],
   "source": [
    "%run scripts/group.py\n",
    "gvars = load_group_vars(target_group)\n",
    "require_params = [\n",
    "    'moodle_version', 'moodle_admin_name', 'moodle_url', 'moodle_image_name',\n",
    "    'database_image_name', 'database_type', 'mysql_database', 'mysql_user_name',\n",
    "    'proxy_tls_cert_path', 'proxy_tls_key_path', 'vault_moodle_path',\n",
    "]\n",
    "\n",
    "for x in require_params:\n",
    "    if x not in gvars:\n",
    "        raise RuntimeError(\"ERROR: not set {}\".format(x))"
   ]
  },
  {
   "cell_type": "markdown",
   "metadata": {
    "lc_cell_meme": {
     "current": "ae613bd8-7522-11e8-bd8a-0242ac110002",
     "next": "ae613c46-7522-11e8-bd8a-0242ac110002",
     "previous": "ae613b6a-7522-11e8-bd8a-0242ac110002"
    }
   },
   "source": [
    "## 保存したパラメータの確認\n",
    "\n",
    "ここまで group_vars ファイルに保存したパラメータの内容を確認します。"
   ]
  },
  {
   "cell_type": "code",
   "execution_count": 25,
   "metadata": {
    "deletable": false,
    "editable": false,
    "lc_cell_meme": {
     "current": "ae613c46-7522-11e8-bd8a-0242ac110002",
     "next": "ae613cb4-7522-11e8-bd8a-0242ac110002",
     "previous": "ae613bd8-7522-11e8-bd8a-0242ac110002"
    },
    "run_through_control": {
     "frozen": true,
     "read_only": true
    }
   },
   "outputs": [
    {
     "name": "stdout",
     "output_type": "stream",
     "text": [
      "ansible_ssh_extra_args: -o StrictHostKeyChecking=no -o UserKnownHostsFile=/dev/null\r\n",
      "ansible_ssh_private_key_file: /home/bit_kun/.ssh/id_rsa_moodle\r\n",
      "ansible_ssh_public_key_file: /home/bit_kun/.ssh/id_rsa_moodle.pub\r\n",
      "ansible_user: ansible\r\n",
      "container_version: 1\r\n",
      "database_image_name: mysql:5\r\n",
      "database_type: mysqli\r\n",
      "docker_container_name_moodle: moodle-1\r\n",
      "docker_container_name_mysql: mysql-1\r\n",
      "moodle_admin_name: admin\r\n",
      "moodle_dir_contents: /opt/moodle/data\r\n",
      "moodle_dir_logs: /var/log/moodle\r\n",
      "moodle_dir_scripts: /opt/moodle/php\r\n",
      "moodle_shibboleth_enable: false\r\n",
      "moodle_url: https://moodle.example.org\r\n",
      "moodle_version: v3.1.12\r\n",
      "mysql_database: moodle\r\n",
      "mysql_dir_data: /opt/mysql\r\n",
      "mysql_dir_logs: /var/log/mysql\r\n",
      "mysql_user_name: moodle\r\n",
      "project_dir: /home/ansible/moodle\r\n",
      "project_template_name: moodle-https\r\n",
      "proxy_config_dir: ''\r\n",
      "proxy_config_name: nginx.conf\r\n",
      "proxy_config_update_name: nginx-update.conf\r\n",
      "proxy_dir_logs: /var/log/nginx\r\n",
      "proxy_tls_enable: true\r\n",
      "subvolume_name_moodle_contents: /opt/moodle/data/contents-1\r\n",
      "subvolume_name_moodle_scripts: /opt/moodle/php/moodle-1\r\n",
      "subvolume_name_mysql: /opt/mysql/db-1\r\n",
      "target_group: Moodle\r\n",
      "target_group_database: Moodle\r\n",
      "target_group_moodle: Moodle\r\n",
      "target_group_rproxy: Moodle\r\n",
      "vault_luks_key_path: cubbyhole/luks\r\n",
      "vault_moodle_path: cubbyhole/moodle\r\n",
      "vcp_flavor: small\r\n",
      "vcp_provider: aws\r\n",
      "vcp_tags: {}\r\n",
      "volume_database_device: /dev/mapper/mysql\r\n",
      "volume_database_device0: /dev/xvdf\r\n",
      "volume_database_fs: btrfs\r\n",
      "volume_database_fs_label: mysql\r\n",
      "volume_database_mount: /opt/mysql\r\n",
      "volume_database_mount_opt: defaults\r\n",
      "volume_encrypt: true\r\n",
      "volume_moodle_device: /dev/mapper/moodle\r\n",
      "volume_moodle_device0: /dev/xvdg\r\n",
      "volume_moodle_fs: btrfs\r\n",
      "volume_moodle_fs_label: moodle\r\n",
      "volume_moodle_mount: /opt/moodle\r\n",
      "volume_moodle_mount_opt: defaults\r\n"
     ]
    }
   ],
   "source": [
    "!cat group_vars/{target_group}.yml"
   ]
  },
  {
   "cell_type": "markdown",
   "metadata": {
    "lc_cell_meme": {
     "current": "ae613cb4-7522-11e8-bd8a-0242ac110002",
     "next": "ae613d18-7522-11e8-bd8a-0242ac110002",
     "previous": "ae613c46-7522-11e8-bd8a-0242ac110002"
    }
   },
   "source": [
    "# サーバの設定ファイル変更\n",
    "\n",
    "![サーバの設定ファイル変更](image/moodle-3-04.png)"
   ]
  },
  {
   "cell_type": "markdown",
   "metadata": {
    "lc_cell_meme": {
     "current": "ae613d18-7522-11e8-bd8a-0242ac110002",
     "next": "ae613d86-7522-11e8-bd8a-0242ac110002",
     "previous": "ae613cb4-7522-11e8-bd8a-0242ac110002"
    }
   },
   "source": [
    "httpdサーバや MySQLの設定ファイルをコンテナに組み込まれているものから変更したい場合があります。ここではコンテナの設定ファイルを変更する手順を示します。対象とする設定ファイルを以下に示します。\n",
    "\n",
    "* Moodleコンテナ\n",
    "  - httpd.conf\n",
    "  - php.ini\n",
    "* MySQLコンテナ\n",
    "  - my.cnf"
   ]
  },
  {
   "cell_type": "markdown",
   "metadata": {
    "lc_cell_meme": {
     "current": "ae613d86-7522-11e8-bd8a-0242ac110002",
     "next": "ae613df4-7522-11e8-bd8a-0242ac110002",
     "previous": "ae613d18-7522-11e8-bd8a-0242ac110002"
    }
   },
   "source": [
    "## コンテナの設定ファイルを取得する"
   ]
  },
  {
   "cell_type": "markdown",
   "metadata": {
    "lc_cell_meme": {
     "current": "ae613df4-7522-11e8-bd8a-0242ac110002",
     "next": "ae613e62-7522-11e8-bd8a-0242ac110002",
     "previous": "ae613d86-7522-11e8-bd8a-0242ac110002"
    }
   },
   "source": [
    "編集対象とする設定ファイルをコンテナから取得します。"
   ]
  },
  {
   "cell_type": "markdown",
   "metadata": {
    "lc_cell_meme": {
     "current": "ae613e62-7522-11e8-bd8a-0242ac110002",
     "next": "ae613ed0-7522-11e8-bd8a-0242ac110002",
     "previous": "ae613df4-7522-11e8-bd8a-0242ac110002"
    }
   },
   "source": [
    "はじめにコンテナから取得した設定ファイルを格納するディレクトリをNotebook環境に作成します。"
   ]
  },
  {
   "cell_type": "code",
   "execution_count": 26,
   "metadata": {
    "deletable": false,
    "editable": false,
    "lc_cell_meme": {
     "current": "ae613ed0-7522-11e8-bd8a-0242ac110002",
     "next": "ae613f3e-7522-11e8-bd8a-0242ac110002",
     "previous": "ae613e62-7522-11e8-bd8a-0242ac110002"
    },
    "run_through_control": {
     "frozen": true,
     "read_only": true
    }
   },
   "outputs": [
    {
     "name": "stdout",
     "output_type": "stream",
     "text": [
      "/notebooks/notebook/handson/moodle/work_appc_config/20180621_162236_adjvb4nw\n"
     ]
    }
   ],
   "source": [
    "from tempfile import mkdtemp \n",
    "import os\n",
    "from datetime import datetime\n",
    "\n",
    "parent = 'work_appc_config'\n",
    "os.makedirs(parent, exist_ok=True)\n",
    "work_dir = os.path.abspath(tempfile.mkdtemp(\n",
    "    prefix=datetime.now().strftime('%Y%m%d_%H%M%S_'),\n",
    "    dir=parent,\n",
    "))\n",
    "print(work_dir)"
   ]
  },
  {
   "cell_type": "markdown",
   "metadata": {
    "lc_cell_meme": {
     "current": "ae613f3e-7522-11e8-bd8a-0242ac110002",
     "next": "ae613fac-7522-11e8-bd8a-0242ac110002",
     "previous": "ae613ed0-7522-11e8-bd8a-0242ac110002"
    }
   },
   "source": [
    "後で参照するために、作成したディレクトリ名を保存します。"
   ]
  },
  {
   "cell_type": "code",
   "execution_count": 27,
   "metadata": {
    "deletable": false,
    "editable": false,
    "lc_cell_meme": {
     "current": "ae613fac-7522-11e8-bd8a-0242ac110002",
     "next": "ae614010-7522-11e8-bd8a-0242ac110002",
     "previous": "ae613f3e-7522-11e8-bd8a-0242ac110002"
    },
    "run_through_control": {
     "frozen": true,
     "read_only": true
    }
   },
   "outputs": [],
   "source": [
    "%run scripts/group.py\n",
    "update_group_vars(\n",
    "    target_group,\n",
    "    appc_config_dir=os.path.abspath(work_dir),\n",
    ")"
   ]
  },
  {
   "cell_type": "markdown",
   "metadata": {
    "lc_cell_meme": {
     "current": "ae614010-7522-11e8-bd8a-0242ac110002",
     "next": "ae61407e-7522-11e8-bd8a-0242ac110002",
     "previous": "ae613fac-7522-11e8-bd8a-0242ac110002"
    }
   },
   "source": [
    "VCノードの作業ディレクトリを作成します。"
   ]
  },
  {
   "cell_type": "code",
   "execution_count": 28,
   "metadata": {
    "deletable": false,
    "editable": false,
    "lc_cell_meme": {
     "current": "ae61407e-7522-11e8-bd8a-0242ac110002",
     "next": "ae6140ec-7522-11e8-bd8a-0242ac110002",
     "previous": "ae614010-7522-11e8-bd8a-0242ac110002"
    },
    "run_through_control": {
     "frozen": true,
     "read_only": true
    }
   },
   "outputs": [
    {
     "name": "stdout",
     "output_type": "stream",
     "text": [
      "/tmp/tmp.LgdEFF\n"
     ]
    }
   ],
   "source": [
    "out = !ansible -a 'mktemp -d' {target_group}\n",
    "\n",
    "bc_work_dir = out[1]\n",
    "print(bc_work_dir)"
   ]
  },
  {
   "cell_type": "markdown",
   "metadata": {
    "lc_cell_meme": {
     "current": "ae6140ec-7522-11e8-bd8a-0242ac110002",
     "next": "ae61415a-7522-11e8-bd8a-0242ac110002",
     "previous": "ae61407e-7522-11e8-bd8a-0242ac110002"
    }
   },
   "source": [
    "Moodleコンテナ、MySQLコンテナを起動して設定ファイルを取得します。取得したファイルは先ほど作成したVCノードの作業ディレクトリ(`bc_work_dir`)に格納します。"
   ]
  },
  {
   "cell_type": "code",
   "execution_count": 29,
   "metadata": {
    "deletable": false,
    "editable": false,
    "lc_cell_meme": {
     "current": "ae61415a-7522-11e8-bd8a-0242ac110002",
     "next": "ae6141be-7522-11e8-bd8a-0242ac110002",
     "previous": "ae6140ec-7522-11e8-bd8a-0242ac110002"
    },
    "run_through_control": {
     "frozen": true,
     "read_only": true
    }
   },
   "outputs": [
    {
     "name": "stdout",
     "output_type": "stream",
     "text": [
      "\u001b[0;32m172.30.2.100 | SUCCESS | rc=0 >>\u001b[0m\n",
      "\u001b[0;32maa6f2fc161af441c783f2702013f5f50cd4ebe9f0b4494025e04b478809d1a6aUnable to find image '192.168.2.1:5001/centos7-moodle:latest' locally\u001b[0m\n",
      "\u001b[0;32mlatest: Pulling from centos7-moodle\u001b[0m\n",
      "\u001b[0;32m697841bfe295: Pulling fs layer\u001b[0m\n",
      "\u001b[0;32m5e86dc3c2abd: Pulling fs layer\u001b[0m\n",
      "\u001b[0;32mfccb23a54c11: Pulling fs layer\u001b[0m\n",
      "\u001b[0;32mc6777bffa04d: Pulling fs layer\u001b[0m\n",
      "\u001b[0;32m56da11c7a800: Pulling fs layer\u001b[0m\n",
      "\u001b[0;32mcbe2cccd828e: Pulling fs layer\u001b[0m\n",
      "\u001b[0;32mb90f8782896c: Pulling fs layer\u001b[0m\n",
      "\u001b[0;32m5a04bafacd15: Pulling fs layer\u001b[0m\n",
      "\u001b[0;32m9636ff3e3b80: Pulling fs layer\u001b[0m\n",
      "\u001b[0;32m4191968a11ac: Pulling fs layer\u001b[0m\n",
      "\u001b[0;32ma6716d211456: Pulling fs layer\u001b[0m\n",
      "\u001b[0;32mc6777bffa04d: Waiting\u001b[0m\n",
      "\u001b[0;32m56da11c7a800: Waiting\u001b[0m\n",
      "\u001b[0;32mcbe2cccd828e: Waiting\u001b[0m\n",
      "\u001b[0;32mb90f8782896c: Waiting\u001b[0m\n",
      "\u001b[0;32m5a04bafacd15: Waiting\u001b[0m\n",
      "\u001b[0;32m9636ff3e3b80: Waiting\u001b[0m\n",
      "\u001b[0;32m4191968a11ac: Waiting\u001b[0m\n",
      "\u001b[0;32ma6716d211456: Waiting\u001b[0m\n",
      "\u001b[0;32m5e86dc3c2abd: Verifying Checksum\u001b[0m\n",
      "\u001b[0;32m5e86dc3c2abd: Download complete\u001b[0m\n",
      "\u001b[0;32mfccb23a54c11: Verifying Checksum\u001b[0m\n",
      "\u001b[0;32mfccb23a54c11: Download complete\u001b[0m\n",
      "\u001b[0;32m697841bfe295: Download complete\u001b[0m\n",
      "\u001b[0;32mcbe2cccd828e: Verifying Checksum\u001b[0m\n",
      "\u001b[0;32mcbe2cccd828e: Download complete\u001b[0m\n",
      "\u001b[0;32mb90f8782896c: Verifying Checksum\u001b[0m\n",
      "\u001b[0;32mb90f8782896c: Download complete\u001b[0m\n",
      "\u001b[0;32m5a04bafacd15: Verifying Checksum\u001b[0m\n",
      "\u001b[0;32m5a04bafacd15: Download complete\u001b[0m\n",
      "\u001b[0;32m9636ff3e3b80: Verifying Checksum\u001b[0m\n",
      "\u001b[0;32m9636ff3e3b80: Download complete\u001b[0m\n",
      "\u001b[0;32m4191968a11ac: Verifying Checksum\u001b[0m\n",
      "\u001b[0;32m4191968a11ac: Download complete\u001b[0m\n",
      "\u001b[0;32mc6777bffa04d: Verifying Checksum\u001b[0m\n",
      "\u001b[0;32mc6777bffa04d: Download complete\u001b[0m\n",
      "\u001b[0;32m56da11c7a800: Verifying Checksum\u001b[0m\n",
      "\u001b[0;32m56da11c7a800: Download complete\u001b[0m\n",
      "\u001b[0;32m697841bfe295: Pull complete\u001b[0m\n",
      "\u001b[0;32m5e86dc3c2abd: Pull complete\u001b[0m\n",
      "\u001b[0;32mfccb23a54c11: Pull complete\u001b[0m\n",
      "\u001b[0;32mc6777bffa04d: Pull complete\u001b[0m\n",
      "\u001b[0;32m56da11c7a800: Pull complete\u001b[0m\n",
      "\u001b[0;32mcbe2cccd828e: Pull complete\u001b[0m\n",
      "\u001b[0;32mb90f8782896c: Pull complete\u001b[0m\n",
      "\u001b[0;32m5a04bafacd15: Pull complete\u001b[0m\n",
      "\u001b[0;32m9636ff3e3b80: Pull complete\u001b[0m\n",
      "\u001b[0;32m4191968a11ac: Pull complete\u001b[0m\n",
      "\u001b[0;32ma6716d211456: Verifying Checksum\u001b[0m\n",
      "\u001b[0;32ma6716d211456: Download complete\u001b[0m\n",
      "\u001b[0;32ma6716d211456: Pull complete\u001b[0m\n",
      "\u001b[0;32mDigest: sha256:2289f7df159fa648231372f5b5e1f45a98476c3cca4d969e1a8509d8c2f225c8\u001b[0m\n",
      "\u001b[0;32mStatus: Downloaded newer image for 192.168.2.1:5001/centos7-moodle:latest\u001b[0m\n",
      "\u001b[0;32m\u001b[0m\n",
      "\u001b[0;32m172.30.2.100 | SUCCESS | rc=0 >>\u001b[0m\n",
      "\u001b[0;32m2c64d9e29a71da790129ba8778143927d757a006a0178f2e945736ebed0aba4aUnable to find image 'mysql:5' locally\u001b[0m\n",
      "\u001b[0;32m5: Pulling from library/mysql\u001b[0m\n",
      "\u001b[0;32mf2aa67a397c4: Pulling fs layer\u001b[0m\n",
      "\u001b[0;32m1accf44cb7e0: Pulling fs layer\u001b[0m\n",
      "\u001b[0;32m2d830ea9fa68: Pulling fs layer\u001b[0m\n",
      "\u001b[0;32m740584693b89: Pulling fs layer\u001b[0m\n",
      "\u001b[0;32m4d620357ec48: Pulling fs layer\u001b[0m\n",
      "\u001b[0;32mac3b7158d73d: Pulling fs layer\u001b[0m\n",
      "\u001b[0;32ma48d784ee503: Pulling fs layer\u001b[0m\n",
      "\u001b[0;32mbf1194add2f3: Pulling fs layer\u001b[0m\n",
      "\u001b[0;32m0e5c74178a02: Pulling fs layer\u001b[0m\n",
      "\u001b[0;32me9201d309436: Pulling fs layer\u001b[0m\n",
      "\u001b[0;32mbf1ac4524e8e: Pulling fs layer\u001b[0m\n",
      "\u001b[0;32mac3b7158d73d: Waiting\u001b[0m\n",
      "\u001b[0;32ma48d784ee503: Waiting\u001b[0m\n",
      "\u001b[0;32mbf1194add2f3: Waiting\u001b[0m\n",
      "\u001b[0;32m0e5c74178a02: Waiting\u001b[0m\n",
      "\u001b[0;32me9201d309436: Waiting\u001b[0m\n",
      "\u001b[0;32mbf1ac4524e8e: Waiting\u001b[0m\n",
      "\u001b[0;32m740584693b89: Waiting\u001b[0m\n",
      "\u001b[0;32m4d620357ec48: Waiting\u001b[0m\n",
      "\u001b[0;32m1accf44cb7e0: Verifying Checksum\u001b[0m\n",
      "\u001b[0;32m1accf44cb7e0: Download complete\u001b[0m\n",
      "\u001b[0;32m2d830ea9fa68: Verifying Checksum\u001b[0m\n",
      "\u001b[0;32m2d830ea9fa68: Download complete\u001b[0m\n",
      "\u001b[0;32mf2aa67a397c4: Verifying Checksum\u001b[0m\n",
      "\u001b[0;32mf2aa67a397c4: Download complete\u001b[0m\n",
      "\u001b[0;32m740584693b89: Verifying Checksum\u001b[0m\n",
      "\u001b[0;32m740584693b89: Download complete\u001b[0m\n",
      "\u001b[0;32m4d620357ec48: Verifying Checksum\u001b[0m\n",
      "\u001b[0;32m4d620357ec48: Download complete\u001b[0m\n",
      "\u001b[0;32ma48d784ee503: Verifying Checksum\u001b[0m\n",
      "\u001b[0;32ma48d784ee503: Download complete\u001b[0m\n",
      "\u001b[0;32mac3b7158d73d: Verifying Checksum\u001b[0m\n",
      "\u001b[0;32mac3b7158d73d: Download complete\u001b[0m\n",
      "\u001b[0;32mbf1194add2f3: Verifying Checksum\u001b[0m\n",
      "\u001b[0;32mbf1194add2f3: Download complete\u001b[0m\n",
      "\u001b[0;32me9201d309436: Verifying Checksum\u001b[0m\n",
      "\u001b[0;32me9201d309436: Download complete\u001b[0m\n",
      "\u001b[0;32mbf1ac4524e8e: Verifying Checksum\u001b[0m\n",
      "\u001b[0;32mbf1ac4524e8e: Download complete\u001b[0m\n",
      "\u001b[0;32mf2aa67a397c4: Pull complete\u001b[0m\n",
      "\u001b[0;32m0e5c74178a02: Verifying Checksum\u001b[0m\n",
      "\u001b[0;32m0e5c74178a02: Download complete\u001b[0m\n",
      "\u001b[0;32m1accf44cb7e0: Pull complete\u001b[0m\n",
      "\u001b[0;32m2d830ea9fa68: Pull complete\u001b[0m\n",
      "\u001b[0;32m740584693b89: Pull complete\u001b[0m\n",
      "\u001b[0;32m4d620357ec48: Pull complete\u001b[0m\n",
      "\u001b[0;32mac3b7158d73d: Pull complete\u001b[0m\n",
      "\u001b[0;32ma48d784ee503: Pull complete\u001b[0m\n",
      "\u001b[0;32mbf1194add2f3: Pull complete\u001b[0m\n",
      "\u001b[0;32m0e5c74178a02: Pull complete\u001b[0m\n",
      "\u001b[0;32me9201d309436: Pull complete\u001b[0m\n",
      "\u001b[0;32mbf1ac4524e8e: Pull complete\u001b[0m\n",
      "\u001b[0;32mDigest: sha256:f030e84582d939d313fe2ef469b5c65ffd0f7dff3b4b98e6ec9ae2dccd83dcdf\u001b[0m\n",
      "\u001b[0;32mStatus: Downloaded newer image for mysql:5\u001b[0m\n",
      "\u001b[0;32m\u001b[0m\n",
      "\u001b[0;32m172.30.2.100 | SUCCESS | rc=0 >>\u001b[0m\n",
      "\u001b[0;32m\u001b[0m\n",
      "\u001b[0;32m\u001b[0m\n",
      "\u001b[0;32m172.30.2.100 | SUCCESS | rc=0 >>\u001b[0m\n",
      "\u001b[0;32m\u001b[0m\n",
      "\u001b[0;32m\u001b[0m\n",
      "\u001b[0;32m172.30.2.100 | SUCCESS | rc=0 >>\u001b[0m\n",
      "\u001b[0;32m\u001b[0m\n",
      "\u001b[0;32m\u001b[0m\n",
      "\u001b[0;32m172.30.2.100 | SUCCESS | rc=0 >>\u001b[0m\n",
      "\u001b[0;32mmoodle\u001b[0m\n",
      "\u001b[0;32mmysql\u001b[0m\n",
      "\u001b[0;32m\u001b[0m\n",
      "\u001b[0;32m172.30.2.100 | SUCCESS | rc=0 >>\u001b[0m\n",
      "\u001b[0;32mtotal 84\u001b[0m\n",
      "\u001b[0;32m-rw-r--r--    1 ansible  ansible      11753 Apr 10 20:27 httpd.conf\u001b[0m\n",
      "\u001b[0;32m-rw-r--r--    1 ansible  ansible        796 Mar  4 13:55 my.cnf\u001b[0m\n",
      "\u001b[0;32m-rw-r--r--    1 ansible  ansible      67781 May 29 03:04 php.ini\u001b[0m\n",
      "\u001b[0;32m\u001b[0m\n"
     ]
    }
   ],
   "source": [
    "# アプリケーションコンテナの起動(Moodle, MySQL)\n",
    "!ansible -a 'docker run --rm -td --name moodle --entrypoint /bin/bash {{{{moodle_image_name}}}}' {target_group}\n",
    "!ansible -a 'docker run --rm -td --name mysql {{{{database_image_name}}}} /bin/bash' {target_group}\n",
    "\n",
    "# 設定ファイルのコピー\n",
    "!ansible -a 'docker cp -L moodle:/etc/php.ini {bc_work_dir}' {target_group}\n",
    "!ansible -a 'docker cp -L moodle:/etc/httpd/conf/httpd.conf {bc_work_dir}' {target_group}\n",
    "!ansible -a 'docker cp -L mysql:/etc/mysql/my.cnf {bc_work_dir}' {target_group}\n",
    "\n",
    "# アプリケーションコンテナの停止\n",
    "!ansible -a 'docker stop moodle mysql' {target_group}\n",
    "\n",
    "# 取得したファイルの確認\n",
    "!ansible -a 'ls -l {bc_work_dir}' {target_group}"
   ]
  },
  {
   "cell_type": "markdown",
   "metadata": {
    "lc_cell_meme": {
     "current": "ae6141be-7522-11e8-bd8a-0242ac110002",
     "next": "ae61422c-7522-11e8-bd8a-0242ac110002",
     "previous": "ae61415a-7522-11e8-bd8a-0242ac110002"
    }
   },
   "source": [
    "設定ファイルをNotebook環境にコピーします。"
   ]
  },
  {
   "cell_type": "code",
   "execution_count": 30,
   "metadata": {
    "deletable": false,
    "editable": false,
    "lc_cell_meme": {
     "current": "ae61422c-7522-11e8-bd8a-0242ac110002",
     "next": "ae61429a-7522-11e8-bd8a-0242ac110002",
     "previous": "ae6141be-7522-11e8-bd8a-0242ac110002"
    },
    "run_through_control": {
     "frozen": true,
     "read_only": true
    }
   },
   "outputs": [
    {
     "name": "stdout",
     "output_type": "stream",
     "text": [
      "\u001b[0;33m172.30.2.100 | SUCCESS => {\u001b[0m\n",
      "\u001b[0;33m    \"changed\": true, \u001b[0m\n",
      "\u001b[0;33m    \"checksum\": \"fdb1090d44c1980958ec96d3e2066b9a73bfda32\", \u001b[0m\n",
      "\u001b[0;33m    \"dest\": \"/notebooks/notebook/handson/moodle/work_appc_config/20180621_162236_adjvb4nw/httpd.conf\", \u001b[0m\n",
      "\u001b[0;33m    \"failed\": false, \u001b[0m\n",
      "\u001b[0;33m    \"md5sum\": \"f5e7449c0f17bc856e86011cb5d152ba\", \u001b[0m\n",
      "\u001b[0;33m    \"remote_checksum\": \"fdb1090d44c1980958ec96d3e2066b9a73bfda32\", \u001b[0m\n",
      "\u001b[0;33m    \"remote_md5sum\": null\u001b[0m\n",
      "\u001b[0;33m}\u001b[0m\n",
      "\u001b[0;33m172.30.2.100 | SUCCESS => {\u001b[0m\n",
      "\u001b[0;33m    \"changed\": true, \u001b[0m\n",
      "\u001b[0;33m    \"checksum\": \"0aaec0f69f01bd844a6df11ed4cb222c698605d3\", \u001b[0m\n",
      "\u001b[0;33m    \"dest\": \"/notebooks/notebook/handson/moodle/work_appc_config/20180621_162236_adjvb4nw/php.ini\", \u001b[0m\n",
      "\u001b[0;33m    \"failed\": false, \u001b[0m\n",
      "\u001b[0;33m    \"md5sum\": \"3f92f543f23b83665db1b462a5a14854\", \u001b[0m\n",
      "\u001b[0;33m    \"remote_checksum\": \"0aaec0f69f01bd844a6df11ed4cb222c698605d3\", \u001b[0m\n",
      "\u001b[0;33m    \"remote_md5sum\": null\u001b[0m\n",
      "\u001b[0;33m}\u001b[0m\n",
      "\u001b[0;33m172.30.2.100 | SUCCESS => {\u001b[0m\n",
      "\u001b[0;33m    \"changed\": true, \u001b[0m\n",
      "\u001b[0;33m    \"checksum\": \"28acdb29c88eb75cb98bfeea4b26a611f4fac295\", \u001b[0m\n",
      "\u001b[0;33m    \"dest\": \"/notebooks/notebook/handson/moodle/work_appc_config/20180621_162236_adjvb4nw/my.cnf\", \u001b[0m\n",
      "\u001b[0;33m    \"failed\": false, \u001b[0m\n",
      "\u001b[0;33m    \"md5sum\": \"0a93c11001e211e92178f4526ea12995\", \u001b[0m\n",
      "\u001b[0;33m    \"remote_checksum\": \"28acdb29c88eb75cb98bfeea4b26a611f4fac295\", \u001b[0m\n",
      "\u001b[0;33m    \"remote_md5sum\": null\u001b[0m\n",
      "\u001b[0;33m}\u001b[0m\n",
      "total 84\n",
      "-rw-r--r-- 1 bit_kun users 11753 Jun 21 16:24 httpd.conf\n",
      "-rw-r--r-- 1 bit_kun users   796 Jun 21 16:24 my.cnf\n",
      "-rw-r--r-- 1 bit_kun users 67781 Jun 21 16:24 php.ini\n"
     ]
    }
   ],
   "source": [
    "!ansible -m fetch -a 'src={bc_work_dir}/httpd.conf dest={work_dir}/ flat=yes' {target_group}\n",
    "!ansible -m fetch -a 'src={bc_work_dir}/php.ini dest={work_dir}/ flat=yes' {target_group}\n",
    "!ansible -m fetch -a 'src={bc_work_dir}/my.cnf dest={work_dir}/ flat=yes' {target_group}\n",
    "\n",
    "!ls -l {work_dir}"
   ]
  },
  {
   "cell_type": "markdown",
   "metadata": {
    "lc_cell_meme": {
     "current": "ae61429a-7522-11e8-bd8a-0242ac110002",
     "next": "ae614312-7522-11e8-bd8a-0242ac110002",
     "previous": "ae61422c-7522-11e8-bd8a-0242ac110002"
    }
   },
   "source": [
    "VCノードの作業ディレクトリを削除します。"
   ]
  },
  {
   "cell_type": "code",
   "execution_count": 31,
   "metadata": {
    "deletable": false,
    "editable": false,
    "lc_cell_meme": {
     "current": "ae614312-7522-11e8-bd8a-0242ac110002",
     "next": "ae614380-7522-11e8-bd8a-0242ac110002",
     "previous": "ae61429a-7522-11e8-bd8a-0242ac110002"
    },
    "run_through_control": {
     "frozen": true,
     "read_only": true
    }
   },
   "outputs": [
    {
     "name": "stdout",
     "output_type": "stream",
     "text": [
      "\u001b[1;35m [WARNING]: Consider using file module with state=absent rather than running rm\u001b[0m\r\n",
      "\u001b[1;35m\u001b[0m\r\n",
      "\u001b[0;32m172.30.2.100 | SUCCESS | rc=0 >>\u001b[0m\r\n",
      "\u001b[0;32m\u001b[0m\r\n",
      "\u001b[0;32m\u001b[0m\r\n"
     ]
    }
   ],
   "source": [
    "!ansible -a 'rm -rf {bc_work_dir}' {target_group}"
   ]
  },
  {
   "cell_type": "markdown",
   "metadata": {
    "lc_cell_meme": {
     "current": "ae614380-7522-11e8-bd8a-0242ac110002",
     "next": "ae6143ee-7522-11e8-bd8a-0242ac110002",
     "previous": "ae614312-7522-11e8-bd8a-0242ac110002"
    }
   },
   "source": [
    "## Moodleコンテナの設定ファイル"
   ]
  },
  {
   "cell_type": "markdown",
   "metadata": {
    "lc_cell_meme": {
     "current": "ae6143ee-7522-11e8-bd8a-0242ac110002",
     "next": "ae61445c-7522-11e8-bd8a-0242ac110002",
     "previous": "ae614380-7522-11e8-bd8a-0242ac110002"
    }
   },
   "source": [
    "### httpd.confの編集"
   ]
  },
  {
   "cell_type": "markdown",
   "metadata": {
    "lc_cell_meme": {
     "current": "ae61445c-7522-11e8-bd8a-0242ac110002",
     "next": "ae6144c0-7522-11e8-bd8a-0242ac110002",
     "previous": "ae6143ee-7522-11e8-bd8a-0242ac110002"
    }
   },
   "source": [
    "編集前にバックアップを作成します。"
   ]
  },
  {
   "cell_type": "code",
   "execution_count": 32,
   "metadata": {
    "deletable": false,
    "editable": false,
    "lc_cell_meme": {
     "current": "ae6144c0-7522-11e8-bd8a-0242ac110002",
     "next": "ae61452e-7522-11e8-bd8a-0242ac110002",
     "previous": "ae61445c-7522-11e8-bd8a-0242ac110002"
    },
    "run_through_control": {
     "frozen": true,
     "read_only": true
    },
    "scrolled": true
   },
   "outputs": [],
   "source": [
    "!cp {work_dir}/httpd.conf  {work_dir}/httpd.conf.orig"
   ]
  },
  {
   "cell_type": "markdown",
   "metadata": {
    "lc_cell_meme": {
     "current": "ae61452e-7522-11e8-bd8a-0242ac110002",
     "next": "ae61459c-7522-11e8-bd8a-0242ac110002",
     "previous": "ae6144c0-7522-11e8-bd8a-0242ac110002"
    }
   },
   "source": [
    "次のセルを実行すると httpd.conf へのリンクが表示されます。リンクをクリックすると httpd.conf を編集することができます。"
   ]
  },
  {
   "cell_type": "code",
   "execution_count": 33,
   "metadata": {
    "deletable": false,
    "editable": false,
    "lc_cell_meme": {
     "current": "ae61459c-7522-11e8-bd8a-0242ac110002",
     "next": "ae61460a-7522-11e8-bd8a-0242ac110002",
     "previous": "ae61452e-7522-11e8-bd8a-0242ac110002"
    },
    "run_through_control": {
     "frozen": true,
     "read_only": true
    }
   },
   "outputs": [
    {
     "data": {
      "text/html": [
       "<a href=\"/handson/edit/handson/moodle/work_appc_config/20180621_162236_adjvb4nw/httpd.conf\" target=\"_blank\">httpd.conf</a>"
      ],
      "text/plain": [
       "<IPython.core.display.HTML object>"
      ]
     },
     "execution_count": 33,
     "metadata": {},
     "output_type": "execute_result"
    }
   ],
   "source": [
    "%run scripts/nbutils.py\n",
    "nb_html_link(os.path.abspath(os.path.join(work_dir, 'httpd.conf')), 'httpd.conf')"
   ]
  },
  {
   "cell_type": "markdown",
   "metadata": {
    "lc_cell_meme": {
     "current": "ae61460a-7522-11e8-bd8a-0242ac110002",
     "next": "ae614678-7522-11e8-bd8a-0242ac110002",
     "previous": "ae61459c-7522-11e8-bd8a-0242ac110002"
    }
   },
   "source": [
    "次のセルを実行すると編集前との差分を表示します。"
   ]
  },
  {
   "cell_type": "code",
   "execution_count": 34,
   "metadata": {
    "deletable": false,
    "editable": false,
    "lc_cell_meme": {
     "current": "ae614678-7522-11e8-bd8a-0242ac110002",
     "next": "ae6146e6-7522-11e8-bd8a-0242ac110002",
     "previous": "ae61460a-7522-11e8-bd8a-0242ac110002"
    },
    "run_through_control": {
     "frozen": true,
     "read_only": true
    }
   },
   "outputs": [],
   "source": [
    "try:\n",
    "    !diff -u {os.path.join(work_dir, 'httpd.conf.orig')} \\\n",
    "        {os.path.join(work_dir, 'httpd.conf')}\n",
    "except RuntimeError:\n",
    "    pass"
   ]
  },
  {
   "cell_type": "markdown",
   "metadata": {
    "lc_cell_meme": {
     "current": "ae6146e6-7522-11e8-bd8a-0242ac110002",
     "next": "ae614754-7522-11e8-bd8a-0242ac110002",
     "previous": "ae614678-7522-11e8-bd8a-0242ac110002"
    }
   },
   "source": [
    "### php.iniの編集"
   ]
  },
  {
   "cell_type": "markdown",
   "metadata": {
    "lc_cell_meme": {
     "current": "ae614754-7522-11e8-bd8a-0242ac110002",
     "next": "ae6147c2-7522-11e8-bd8a-0242ac110002",
     "previous": "ae6146e6-7522-11e8-bd8a-0242ac110002"
    }
   },
   "source": [
    "編集前にバックアップを作成します。"
   ]
  },
  {
   "cell_type": "code",
   "execution_count": 35,
   "metadata": {
    "deletable": false,
    "editable": false,
    "lc_cell_meme": {
     "current": "ae6147c2-7522-11e8-bd8a-0242ac110002",
     "next": "ae614826-7522-11e8-bd8a-0242ac110002",
     "previous": "ae614754-7522-11e8-bd8a-0242ac110002"
    },
    "run_through_control": {
     "frozen": true,
     "read_only": true
    }
   },
   "outputs": [],
   "source": [
    "!cp {work_dir}/php.ini {work_dir}/php.ini.orig"
   ]
  },
  {
   "cell_type": "markdown",
   "metadata": {
    "lc_cell_meme": {
     "current": "ae614826-7522-11e8-bd8a-0242ac110002",
     "next": "ae614894-7522-11e8-bd8a-0242ac110002",
     "previous": "ae6147c2-7522-11e8-bd8a-0242ac110002"
    }
   },
   "source": [
    "次のセルを実行すると php.ini へのリンクが表示されます。リンクをクリックすると php.ini を編集することができます。"
   ]
  },
  {
   "cell_type": "code",
   "execution_count": 36,
   "metadata": {
    "deletable": false,
    "editable": false,
    "lc_cell_meme": {
     "current": "ae614894-7522-11e8-bd8a-0242ac110002",
     "next": "ae614902-7522-11e8-bd8a-0242ac110002",
     "previous": "ae614826-7522-11e8-bd8a-0242ac110002"
    },
    "run_through_control": {
     "frozen": true,
     "read_only": true
    }
   },
   "outputs": [
    {
     "data": {
      "text/html": [
       "<a href=\"/handson/edit/handson/moodle/work_appc_config/20180621_162236_adjvb4nw/php.ini\" target=\"_blank\">php.ini</a>"
      ],
      "text/plain": [
       "<IPython.core.display.HTML object>"
      ]
     },
     "execution_count": 36,
     "metadata": {},
     "output_type": "execute_result"
    }
   ],
   "source": [
    "%run scripts/nbutils.py\n",
    "nb_html_link(os.path.abspath(os.path.join(work_dir, 'php.ini')), 'php.ini')"
   ]
  },
  {
   "cell_type": "markdown",
   "metadata": {
    "lc_cell_meme": {
     "current": "ae614902-7522-11e8-bd8a-0242ac110002",
     "next": "ae614970-7522-11e8-bd8a-0242ac110002",
     "previous": "ae614894-7522-11e8-bd8a-0242ac110002"
    }
   },
   "source": [
    "次のセルを実行すると編集前との差分を表示します。"
   ]
  },
  {
   "cell_type": "code",
   "execution_count": 37,
   "metadata": {
    "deletable": false,
    "editable": false,
    "lc_cell_meme": {
     "current": "ae614970-7522-11e8-bd8a-0242ac110002",
     "next": "ae6149d4-7522-11e8-bd8a-0242ac110002",
     "previous": "ae614902-7522-11e8-bd8a-0242ac110002"
    },
    "run_through_control": {
     "frozen": true,
     "read_only": true
    }
   },
   "outputs": [],
   "source": [
    "try:\n",
    "    !diff -u {os.path.join(work_dir, 'php.ini.orig')} \\\n",
    "        {os.path.join(work_dir, 'php.ini')}\n",
    "except RuntimeError:\n",
    "    pass"
   ]
  },
  {
   "cell_type": "markdown",
   "metadata": {
    "lc_cell_meme": {
     "current": "ae6149d4-7522-11e8-bd8a-0242ac110002",
     "next": "ae614a42-7522-11e8-bd8a-0242ac110002",
     "previous": "ae614970-7522-11e8-bd8a-0242ac110002"
    }
   },
   "source": [
    "## MySQLコンテナの設定ファイル"
   ]
  },
  {
   "cell_type": "markdown",
   "metadata": {
    "lc_cell_meme": {
     "current": "ae614a42-7522-11e8-bd8a-0242ac110002",
     "next": "ae614ab0-7522-11e8-bd8a-0242ac110002",
     "previous": "ae6149d4-7522-11e8-bd8a-0242ac110002"
    }
   },
   "source": [
    "### my.cnfの編集"
   ]
  },
  {
   "cell_type": "markdown",
   "metadata": {
    "lc_cell_meme": {
     "current": "ae614ab0-7522-11e8-bd8a-0242ac110002",
     "next": "ae614b14-7522-11e8-bd8a-0242ac110002",
     "previous": "ae614a42-7522-11e8-bd8a-0242ac110002"
    }
   },
   "source": [
    "編集前にバックアップを作成します。"
   ]
  },
  {
   "cell_type": "code",
   "execution_count": 38,
   "metadata": {
    "deletable": false,
    "editable": false,
    "lc_cell_meme": {
     "current": "ae614b14-7522-11e8-bd8a-0242ac110002",
     "next": "ae614b82-7522-11e8-bd8a-0242ac110002",
     "previous": "ae614ab0-7522-11e8-bd8a-0242ac110002"
    },
    "run_through_control": {
     "frozen": true,
     "read_only": true
    }
   },
   "outputs": [],
   "source": [
    "!cp {work_dir}/my.cnf {work_dir}/my.cnf.orig"
   ]
  },
  {
   "cell_type": "markdown",
   "metadata": {
    "lc_cell_meme": {
     "current": "ae614b82-7522-11e8-bd8a-0242ac110002",
     "next": "ae614bf0-7522-11e8-bd8a-0242ac110002",
     "previous": "ae614b14-7522-11e8-bd8a-0242ac110002"
    }
   },
   "source": [
    "次のセルを実行すると my.cnf へのリンクが表示されます。リンクをクリックすると my.cnfを編集することができます。"
   ]
  },
  {
   "cell_type": "code",
   "execution_count": 39,
   "metadata": {
    "deletable": false,
    "editable": false,
    "lc_cell_meme": {
     "current": "ae614bf0-7522-11e8-bd8a-0242ac110002",
     "next": "ae614c54-7522-11e8-bd8a-0242ac110002",
     "previous": "ae614b82-7522-11e8-bd8a-0242ac110002"
    },
    "run_through_control": {
     "frozen": true,
     "read_only": true
    }
   },
   "outputs": [
    {
     "data": {
      "text/html": [
       "<a href=\"/handson/edit/handson/moodle/work_appc_config/20180621_162236_adjvb4nw/my.cnf\" target=\"_blank\">my.cnf</a>"
      ],
      "text/plain": [
       "<IPython.core.display.HTML object>"
      ]
     },
     "execution_count": 39,
     "metadata": {},
     "output_type": "execute_result"
    }
   ],
   "source": [
    "%run scripts/nbutils.py\n",
    "nb_html_link(os.path.abspath(os.path.join(work_dir, 'my.cnf')), 'my.cnf')"
   ]
  },
  {
   "cell_type": "markdown",
   "metadata": {
    "lc_cell_meme": {
     "current": "ae614c54-7522-11e8-bd8a-0242ac110002",
     "next": "ae614ccc-7522-11e8-bd8a-0242ac110002",
     "previous": "ae614bf0-7522-11e8-bd8a-0242ac110002"
    }
   },
   "source": [
    "次のセルを実行すると編集前との差分を表示します。"
   ]
  },
  {
   "cell_type": "code",
   "execution_count": 40,
   "metadata": {
    "deletable": false,
    "editable": false,
    "lc_cell_meme": {
     "current": "ae614ccc-7522-11e8-bd8a-0242ac110002",
     "next": "ae614d3a-7522-11e8-bd8a-0242ac110002",
     "previous": "ae614c54-7522-11e8-bd8a-0242ac110002"
    },
    "run_through_control": {
     "frozen": true,
     "read_only": true
    }
   },
   "outputs": [],
   "source": [
    "try:\n",
    "    !diff -u {os.path.join(work_dir, 'my.cnf.orig')} \\\n",
    "        {os.path.join(work_dir, 'my.cnf')}\n",
    "except RuntimeError:\n",
    "    pass"
   ]
  },
  {
   "cell_type": "markdown",
   "metadata": {
    "heading_collapsed": true,
    "lc_cell_meme": {
     "current": "ae614d3a-7522-11e8-bd8a-0242ac110002",
     "next": "ae614da8-7522-11e8-bd8a-0242ac110002",
     "previous": "ae614ccc-7522-11e8-bd8a-0242ac110002"
    }
   },
   "source": [
    "# データ領域の準備\n",
    "\n",
    "![データ領域の準備](image/moodle-3-05.png)"
   ]
  },
  {
   "cell_type": "markdown",
   "metadata": {
    "hidden": true,
    "lc_cell_meme": {
     "current": "ae614da8-7522-11e8-bd8a-0242ac110002",
     "next": "ae614e16-7522-11e8-bd8a-0242ac110002",
     "previous": "ae614d3a-7522-11e8-bd8a-0242ac110002"
    }
   },
   "source": [
    "## データベース用サブボリュームの作成\n",
    "\n",
    "MySQLコンテナのデータを保管するためのサブボリューム(btrfs)を作成します。"
   ]
  },
  {
   "cell_type": "markdown",
   "metadata": {
    "hidden": true,
    "lc_cell_meme": {
     "current": "ae614e16-7522-11e8-bd8a-0242ac110002",
     "next": "ae614e7a-7522-11e8-bd8a-0242ac110002",
     "previous": "ae614da8-7522-11e8-bd8a-0242ac110002"
    }
   },
   "source": [
    "既に同名のサブボリュームが存在していないことを確認します。次のセルを実行して `OK` と表示されたら同名のサブボリュームが存在していないことが確認できます。"
   ]
  },
  {
   "cell_type": "code",
   "execution_count": 56,
   "metadata": {
    "deletable": false,
    "editable": false,
    "hidden": true,
    "lc_cell_meme": {
     "current": "ae614e7a-7522-11e8-bd8a-0242ac110002",
     "next": "ae614ee8-7522-11e8-bd8a-0242ac110002",
     "previous": "ae614e16-7522-11e8-bd8a-0242ac110002"
    },
    "run_through_control": {
     "frozen": true
    }
   },
   "outputs": [
    {
     "name": "stdout",
     "output_type": "stream",
     "text": [
      "\u001b[0;32m172.30.2.100 | SUCCESS | rc=0 >>\u001b[0m\r\n",
      "\u001b[0;32mID 257 gen 8 top level 5 path db-1\u001b[0m\r\n",
      "\u001b[0;32m\u001b[0m\r\n"
     ]
    }
   ],
   "source": [
    "target_group_database = load_group_var(target_group, 'target_group_database')\n",
    "!ansible -m shell -b -a '\\\n",
    "    btrfs subvolume list {{{{subvolume_name_mysql}}}} 2> /dev/null \\\n",
    "    || echo OK' {target_group_database}"
   ]
  },
  {
   "cell_type": "markdown",
   "metadata": {
    "hidden": true,
    "lc_cell_meme": {
     "current": "ae614ee8-7522-11e8-bd8a-0242ac110002",
     "next": "ae614f56-7522-11e8-bd8a-0242ac110002",
     "previous": "ae614e7a-7522-11e8-bd8a-0242ac110002"
    }
   },
   "source": [
    "もし OK と表示されずサブボリュームが既に存在していた場合は、以下のコマンドを実行しサブボリュームを削除してください。"
   ]
  },
  {
   "cell_type": "code",
   "execution_count": 57,
   "metadata": {
    "deletable": false,
    "editable": false,
    "hidden": true,
    "lc_cell_meme": {
     "current": "ae614f56-7522-11e8-bd8a-0242ac110002",
     "next": "ae614fba-7522-11e8-bd8a-0242ac110002",
     "previous": "ae614ee8-7522-11e8-bd8a-0242ac110002"
    },
    "run_through_control": {
     "frozen": true
    }
   },
   "outputs": [
    {
     "name": "stdout",
     "output_type": "stream",
     "text": [
      "\u001b[0;32m172.30.2.100 | SUCCESS | rc=0 >>\u001b[0m\r\n",
      "\u001b[0;32mDelete subvolume (no-commit): '/opt/mysql/db-1'\u001b[0m\r\n",
      "\u001b[0;32m\u001b[0m\r\n"
     ]
    }
   ],
   "source": [
    "try:\n",
    "    !ansible -b -a 'btrfs subvolume delete {{{{subvolume_name_mysql}}}}' {target_group_database}\n",
    "except RuntimeError:\n",
    "    pass"
   ]
  },
  {
   "cell_type": "markdown",
   "metadata": {
    "hidden": true,
    "lc_cell_meme": {
     "current": "ae614fba-7522-11e8-bd8a-0242ac110002",
     "next": "ae615028-7522-11e8-bd8a-0242ac110002",
     "previous": "ae614f56-7522-11e8-bd8a-0242ac110002"
    }
   },
   "source": [
    "サブボリュームを作成するパスにファイル等が存在しているとサブボリュームの作成がエラーとなるので、ファイルの削除を行います。"
   ]
  },
  {
   "cell_type": "code",
   "execution_count": 58,
   "metadata": {
    "deletable": false,
    "editable": false,
    "hidden": true,
    "lc_cell_meme": {
     "current": "ae615028-7522-11e8-bd8a-0242ac110002",
     "next": "ae615096-7522-11e8-bd8a-0242ac110002",
     "previous": "ae614fba-7522-11e8-bd8a-0242ac110002"
    },
    "run_through_control": {
     "frozen": true
    }
   },
   "outputs": [
    {
     "name": "stdout",
     "output_type": "stream",
     "text": [
      "\u001b[1;35m [WARNING]: Consider using file module with state=absent rather than running rm\u001b[0m\r\n",
      "\u001b[1;35m\u001b[0m\r\n",
      "\u001b[0;32m172.30.2.100 | SUCCESS | rc=0 >>\u001b[0m\r\n",
      "\u001b[0;32m\u001b[0m\r\n",
      "\u001b[0;32m\u001b[0m\r\n"
     ]
    }
   ],
   "source": [
    "!ansible -b -a 'rm -rf {{{{subvolume_name_mysql}}}}' {target_group_database}"
   ]
  },
  {
   "cell_type": "markdown",
   "metadata": {
    "hidden": true,
    "lc_cell_meme": {
     "current": "ae615096-7522-11e8-bd8a-0242ac110002",
     "next": "ae615104-7522-11e8-bd8a-0242ac110002",
     "previous": "ae615028-7522-11e8-bd8a-0242ac110002"
    }
   },
   "source": [
    "サブボリュームを作成します。"
   ]
  },
  {
   "cell_type": "code",
   "execution_count": 59,
   "metadata": {
    "deletable": false,
    "editable": false,
    "hidden": true,
    "lc_cell_meme": {
     "current": "ae615104-7522-11e8-bd8a-0242ac110002",
     "next": "ae615172-7522-11e8-bd8a-0242ac110002",
     "previous": "ae615096-7522-11e8-bd8a-0242ac110002"
    },
    "run_through_control": {
     "frozen": true
    }
   },
   "outputs": [
    {
     "name": "stdout",
     "output_type": "stream",
     "text": [
      "\u001b[0;32m172.30.2.100 | SUCCESS | rc=0 >>\u001b[0m\r\n",
      "\u001b[0;32mCreate subvolume '/opt/mysql/db-1'\u001b[0m\r\n",
      "\u001b[0;32m\u001b[0m\r\n"
     ]
    }
   ],
   "source": [
    "!ansible -b -a 'btrfs subvolume create {{{{subvolume_name_mysql}}}}' {target_group_database}"
   ]
  },
  {
   "cell_type": "markdown",
   "metadata": {
    "hidden": true,
    "lc_cell_meme": {
     "current": "ae615172-7522-11e8-bd8a-0242ac110002",
     "next": "ae6151e0-7522-11e8-bd8a-0242ac110002",
     "previous": "ae615104-7522-11e8-bd8a-0242ac110002"
    }
   },
   "source": [
    "サブボリュームが作成できていることを確認します。"
   ]
  },
  {
   "cell_type": "code",
   "execution_count": 60,
   "metadata": {
    "deletable": false,
    "editable": false,
    "hidden": true,
    "lc_cell_meme": {
     "current": "ae6151e0-7522-11e8-bd8a-0242ac110002",
     "next": "ae615244-7522-11e8-bd8a-0242ac110002",
     "previous": "ae615172-7522-11e8-bd8a-0242ac110002"
    },
    "run_through_control": {
     "frozen": true
    },
    "scrolled": true
   },
   "outputs": [
    {
     "name": "stdout",
     "output_type": "stream",
     "text": [
      "\u001b[0;32m172.30.2.100 | SUCCESS | rc=0 >>\u001b[0m\r\n",
      "\u001b[0;32mID 258 gen 9 top level 5 path db-1\u001b[0m\r\n",
      "\u001b[0;32m\u001b[0m\r\n"
     ]
    }
   ],
   "source": [
    "!ansible -b -a 'btrfs subvolume list {{{{subvolume_name_mysql}}}}' {target_group_database}"
   ]
  },
  {
   "cell_type": "markdown",
   "metadata": {
    "hidden": true,
    "lc_cell_meme": {
     "current": "ae615244-7522-11e8-bd8a-0242ac110002",
     "next": "ae6152bc-7522-11e8-bd8a-0242ac110002",
     "previous": "ae6151e0-7522-11e8-bd8a-0242ac110002"
    }
   },
   "source": [
    "## moodledataデータ用サブボリュームの作成\n",
    "\n",
    "Moodleコンテナがアップロードファイル、一時データ、セッションデータ等を保存するディレクトリ（moodledataデータディレクトリ）に対応するサブボリュームを作成します。"
   ]
  },
  {
   "cell_type": "markdown",
   "metadata": {
    "hidden": true,
    "lc_cell_meme": {
     "current": "ae6152bc-7522-11e8-bd8a-0242ac110002",
     "next": "ae61532a-7522-11e8-bd8a-0242ac110002",
     "previous": "ae615244-7522-11e8-bd8a-0242ac110002"
    }
   },
   "source": [
    "既に同名のサブボリュームが存在していないことを確認します。次のセルを実行して `OK` と表示されたら同名のサブボリュームが存在していないことが確認できます。"
   ]
  },
  {
   "cell_type": "code",
   "execution_count": 61,
   "metadata": {
    "deletable": false,
    "editable": false,
    "hidden": true,
    "lc_cell_meme": {
     "current": "ae61532a-7522-11e8-bd8a-0242ac110002",
     "next": "ae615398-7522-11e8-bd8a-0242ac110002",
     "previous": "ae6152bc-7522-11e8-bd8a-0242ac110002"
    },
    "run_through_control": {
     "frozen": true
    }
   },
   "outputs": [
    {
     "name": "stdout",
     "output_type": "stream",
     "text": [
      "\u001b[0;32m172.30.2.100 | SUCCESS | rc=0 >>\u001b[0m\r\n",
      "\u001b[0;32mID 257 gen 10 top level 5 path data\u001b[0m\r\n",
      "\u001b[0;32mID 258 gen 11 top level 5 path php\u001b[0m\r\n",
      "\u001b[0;32mID 259 gen 10 top level 257 path data/contents-1\u001b[0m\r\n",
      "\u001b[0;32mID 260 gen 11 top level 258 path php/moodle-1\u001b[0m\r\n",
      "\u001b[0;32m\u001b[0m\r\n"
     ]
    }
   ],
   "source": [
    "target_group_database = load_group_var(target_group, 'target_group_database')\n",
    "try:\n",
    "    !ansible -m shell -b -a '\\\n",
    "        btrfs subvolume list {{{{subvolume_name_moodle_contents}}}} 2> /dev/null \\\n",
    "        || echo OK' {target_group_database}\n",
    "except RuntimeError:\n",
    "    pass"
   ]
  },
  {
   "cell_type": "markdown",
   "metadata": {
    "hidden": true,
    "lc_cell_meme": {
     "current": "ae615398-7522-11e8-bd8a-0242ac110002",
     "next": "ae6153fc-7522-11e8-bd8a-0242ac110002",
     "previous": "ae61532a-7522-11e8-bd8a-0242ac110002"
    }
   },
   "source": [
    "もし OK と表示されずサブボリュームが既に存在していた場合は、以下のコマンドを実行しサブボリュームを削除してください。"
   ]
  },
  {
   "cell_type": "code",
   "execution_count": 62,
   "metadata": {
    "deletable": false,
    "editable": false,
    "hidden": true,
    "lc_cell_meme": {
     "current": "ae6153fc-7522-11e8-bd8a-0242ac110002",
     "next": "ae61546a-7522-11e8-bd8a-0242ac110002",
     "previous": "ae615398-7522-11e8-bd8a-0242ac110002"
    },
    "run_through_control": {
     "frozen": true
    }
   },
   "outputs": [
    {
     "name": "stdout",
     "output_type": "stream",
     "text": [
      "\u001b[0;32m172.30.2.100 | SUCCESS | rc=0 >>\u001b[0m\r\n",
      "\u001b[0;32mDelete subvolume (no-commit): '/opt/moodle/data/contents-1'\u001b[0m\r\n",
      "\u001b[0;32m\u001b[0m\r\n"
     ]
    }
   ],
   "source": [
    "try:\n",
    "    !ansible -ba 'btrfs subvolume delete {{{{subvolume_name_moodle_contents}}}}' {target_group_database}\n",
    "except RuntimeError:\n",
    "    pass"
   ]
  },
  {
   "cell_type": "markdown",
   "metadata": {
    "hidden": true,
    "lc_cell_meme": {
     "current": "ae61546a-7522-11e8-bd8a-0242ac110002",
     "next": "ae6154d8-7522-11e8-bd8a-0242ac110002",
     "previous": "ae6153fc-7522-11e8-bd8a-0242ac110002"
    }
   },
   "source": [
    "サブボリュームを作成するパスにファイル等が存在しているとサブボリュームの作成がエラーとなるので、ファイルの削除を行います。"
   ]
  },
  {
   "cell_type": "code",
   "execution_count": 63,
   "metadata": {
    "deletable": false,
    "editable": false,
    "hidden": true,
    "lc_cell_meme": {
     "current": "ae6154d8-7522-11e8-bd8a-0242ac110002",
     "next": "ae615546-7522-11e8-bd8a-0242ac110002",
     "previous": "ae61546a-7522-11e8-bd8a-0242ac110002"
    },
    "run_through_control": {
     "frozen": true
    }
   },
   "outputs": [
    {
     "name": "stdout",
     "output_type": "stream",
     "text": [
      "\u001b[1;35m [WARNING]: Consider using file module with state=absent rather than running rm\u001b[0m\r\n",
      "\u001b[1;35m\u001b[0m\r\n",
      "\u001b[0;32m172.30.2.100 | SUCCESS | rc=0 >>\u001b[0m\r\n",
      "\u001b[0;32m\u001b[0m\r\n",
      "\u001b[0;32m\u001b[0m\r\n"
     ]
    }
   ],
   "source": [
    "!ansible -ba 'rm -rf {{{{subvolume_name_moodle_contents}}}}' {target_group_database}"
   ]
  },
  {
   "cell_type": "markdown",
   "metadata": {
    "hidden": true,
    "lc_cell_meme": {
     "current": "ae615546-7522-11e8-bd8a-0242ac110002",
     "next": "ae6155be-7522-11e8-bd8a-0242ac110002",
     "previous": "ae6154d8-7522-11e8-bd8a-0242ac110002"
    }
   },
   "source": [
    "サブボリュームを作成します。"
   ]
  },
  {
   "cell_type": "code",
   "execution_count": 64,
   "metadata": {
    "deletable": false,
    "editable": false,
    "hidden": true,
    "lc_cell_meme": {
     "current": "ae6155be-7522-11e8-bd8a-0242ac110002",
     "next": "ae61562c-7522-11e8-bd8a-0242ac110002",
     "previous": "ae615546-7522-11e8-bd8a-0242ac110002"
    },
    "run_through_control": {
     "frozen": true
    }
   },
   "outputs": [
    {
     "name": "stdout",
     "output_type": "stream",
     "text": [
      "\u001b[0;32m172.30.2.100 | SUCCESS | rc=0 >>\u001b[0m\r\n",
      "\u001b[0;32mCreate subvolume '/opt/moodle/data/contents-1'\u001b[0m\r\n",
      "\u001b[0;32m\u001b[0m\r\n"
     ]
    }
   ],
   "source": [
    "!ansible -b -a 'btrfs subvolume create {{{{subvolume_name_moodle_contents}}}}' {target_group_database}"
   ]
  },
  {
   "cell_type": "markdown",
   "metadata": {
    "hidden": true,
    "lc_cell_meme": {
     "current": "ae61562c-7522-11e8-bd8a-0242ac110002",
     "next": "ae61569a-7522-11e8-bd8a-0242ac110002",
     "previous": "ae6155be-7522-11e8-bd8a-0242ac110002"
    }
   },
   "source": [
    "サブボリュームが作成できていることを確認します。"
   ]
  },
  {
   "cell_type": "code",
   "execution_count": 65,
   "metadata": {
    "deletable": false,
    "editable": false,
    "hidden": true,
    "lc_cell_meme": {
     "current": "ae61569a-7522-11e8-bd8a-0242ac110002",
     "next": "ae6156fe-7522-11e8-bd8a-0242ac110002",
     "previous": "ae61562c-7522-11e8-bd8a-0242ac110002"
    },
    "run_through_control": {
     "frozen": true
    },
    "scrolled": false
   },
   "outputs": [
    {
     "name": "stdout",
     "output_type": "stream",
     "text": [
      "\u001b[0;32m172.30.2.100 | SUCCESS | rc=0 >>\u001b[0m\r\n",
      "\u001b[0;32mID 261 gen 12 top level 257 path data/contents-1\u001b[0m\r\n",
      "\u001b[0;32m\u001b[0m\r\n"
     ]
    }
   ],
   "source": [
    "!ansible -b -a 'btrfs subvolume list -o {{{{moodle_dir_contents}}}}' {target_group_database}"
   ]
  },
  {
   "cell_type": "markdown",
   "metadata": {
    "hidden": true,
    "lc_cell_meme": {
     "current": "ae6156fe-7522-11e8-bd8a-0242ac110002",
     "next": "ae61576c-7522-11e8-bd8a-0242ac110002",
     "previous": "ae61569a-7522-11e8-bd8a-0242ac110002"
    }
   },
   "source": [
    "## Moodle PHPファイル用サブボリュームの作成\n",
    "\n",
    "MoodleコンテナがPHPファイルやプラグインを保存するためのサブボリュームを作成します。"
   ]
  },
  {
   "cell_type": "markdown",
   "metadata": {
    "hidden": true,
    "lc_cell_meme": {
     "current": "ae61576c-7522-11e8-bd8a-0242ac110002",
     "next": "ae6157da-7522-11e8-bd8a-0242ac110002",
     "previous": "ae6156fe-7522-11e8-bd8a-0242ac110002"
    }
   },
   "source": [
    "既に同名のサブボリュームが存在していないことを確認します。次のセルを実行して `OK` と表示されたら同名のサブボリュームが存在していないことが確認できます。"
   ]
  },
  {
   "cell_type": "code",
   "execution_count": 66,
   "metadata": {
    "deletable": false,
    "editable": false,
    "hidden": true,
    "lc_cell_meme": {
     "current": "ae6157da-7522-11e8-bd8a-0242ac110002",
     "next": "ae615848-7522-11e8-bd8a-0242ac110002",
     "previous": "ae61576c-7522-11e8-bd8a-0242ac110002"
    },
    "run_through_control": {
     "frozen": true
    },
    "scrolled": true
   },
   "outputs": [
    {
     "name": "stdout",
     "output_type": "stream",
     "text": [
      "\u001b[0;32m172.30.2.100 | SUCCESS | rc=0 >>\u001b[0m\r\n",
      "\u001b[0;32mID 257 gen 12 top level 5 path data\u001b[0m\r\n",
      "\u001b[0;32mID 258 gen 11 top level 5 path php\u001b[0m\r\n",
      "\u001b[0;32mID 260 gen 11 top level 258 path php/moodle-1\u001b[0m\r\n",
      "\u001b[0;32mID 261 gen 12 top level 257 path data/contents-1\u001b[0m\r\n",
      "\u001b[0;32m\u001b[0m\r\n"
     ]
    }
   ],
   "source": [
    "target_group_database = load_group_var(target_group, 'target_group_database')\n",
    "try:\n",
    "    !ansible -m shell -b -a '\\\n",
    "        btrfs subvolume list {{{{subvolume_name_moodle_scripts}}}} 2> /dev/null \\\n",
    "        || echo OK' {target_group_database}\n",
    "except RuntimeError:\n",
    "    pass"
   ]
  },
  {
   "cell_type": "markdown",
   "metadata": {
    "hidden": true,
    "lc_cell_meme": {
     "current": "ae615848-7522-11e8-bd8a-0242ac110002",
     "next": "ae6158b6-7522-11e8-bd8a-0242ac110002",
     "previous": "ae6157da-7522-11e8-bd8a-0242ac110002"
    }
   },
   "source": [
    "もし OK と表示されずサブボリュームが既に存在していた場合は、以下のコマンドを実行しサブボリュームを削除してください。"
   ]
  },
  {
   "cell_type": "code",
   "execution_count": 67,
   "metadata": {
    "deletable": false,
    "editable": false,
    "hidden": true,
    "lc_cell_meme": {
     "current": "ae6158b6-7522-11e8-bd8a-0242ac110002",
     "next": "ae615924-7522-11e8-bd8a-0242ac110002",
     "previous": "ae615848-7522-11e8-bd8a-0242ac110002"
    },
    "run_through_control": {
     "frozen": true
    }
   },
   "outputs": [
    {
     "name": "stdout",
     "output_type": "stream",
     "text": [
      "\u001b[0;32m172.30.2.100 | SUCCESS | rc=0 >>\u001b[0m\r\n",
      "\u001b[0;32mDelete subvolume (no-commit): '/opt/moodle/php/moodle-1'\u001b[0m\r\n",
      "\u001b[0;32m\u001b[0m\r\n"
     ]
    }
   ],
   "source": [
    "try:\n",
    "    !ansible -b -a 'btrfs subvolume delete {{{{subvolume_name_moodle_scripts}}}}' {target_group_database}\n",
    "except RuntimeError:\n",
    "    pass"
   ]
  },
  {
   "cell_type": "markdown",
   "metadata": {
    "hidden": true,
    "lc_cell_meme": {
     "current": "ae615924-7522-11e8-bd8a-0242ac110002",
     "next": "ae615992-7522-11e8-bd8a-0242ac110002",
     "previous": "ae6158b6-7522-11e8-bd8a-0242ac110002"
    }
   },
   "source": [
    "サブボリュームを作成するパスにファイル等が存在しているとサブボリュームの作成がエラーとなるので、ファイルの削除を行います。"
   ]
  },
  {
   "cell_type": "code",
   "execution_count": 68,
   "metadata": {
    "deletable": false,
    "editable": false,
    "hidden": true,
    "lc_cell_meme": {
     "current": "ae615992-7522-11e8-bd8a-0242ac110002",
     "next": "ae615a00-7522-11e8-bd8a-0242ac110002",
     "previous": "ae615924-7522-11e8-bd8a-0242ac110002"
    },
    "run_through_control": {
     "frozen": true
    }
   },
   "outputs": [
    {
     "name": "stdout",
     "output_type": "stream",
     "text": [
      "\u001b[1;35m [WARNING]: Consider using file module with state=absent rather than running rm\u001b[0m\r\n",
      "\u001b[1;35m\u001b[0m\r\n",
      "\u001b[0;32m172.30.2.100 | SUCCESS | rc=0 >>\u001b[0m\r\n",
      "\u001b[0;32m\u001b[0m\r\n",
      "\u001b[0;32m\u001b[0m\r\n"
     ]
    }
   ],
   "source": [
    "!ansible -b -a 'rm -rf {{{{subvolume_name_moodle_scripts}}}}' {target_group_database}"
   ]
  },
  {
   "cell_type": "markdown",
   "metadata": {
    "hidden": true,
    "lc_cell_meme": {
     "current": "ae615a00-7522-11e8-bd8a-0242ac110002",
     "next": "ae615a64-7522-11e8-bd8a-0242ac110002",
     "previous": "ae615992-7522-11e8-bd8a-0242ac110002"
    }
   },
   "source": [
    "サブボリュームを作成します。"
   ]
  },
  {
   "cell_type": "code",
   "execution_count": 69,
   "metadata": {
    "deletable": false,
    "editable": false,
    "hidden": true,
    "lc_cell_meme": {
     "current": "ae615a64-7522-11e8-bd8a-0242ac110002",
     "next": "ae615ad2-7522-11e8-bd8a-0242ac110002",
     "previous": "ae615a00-7522-11e8-bd8a-0242ac110002"
    },
    "run_through_control": {
     "frozen": true
    }
   },
   "outputs": [
    {
     "name": "stdout",
     "output_type": "stream",
     "text": [
      "\u001b[0;32m172.30.2.100 | SUCCESS | rc=0 >>\u001b[0m\r\n",
      "\u001b[0;32mCreate subvolume '/opt/moodle/php/moodle-1'\u001b[0m\r\n",
      "\u001b[0;32m\u001b[0m\r\n"
     ]
    }
   ],
   "source": [
    "!ansible -b -a 'btrfs subvolume create {{{{subvolume_name_moodle_scripts}}}}' {target_group_database}"
   ]
  },
  {
   "cell_type": "markdown",
   "metadata": {
    "hidden": true,
    "lc_cell_meme": {
     "current": "ae615ad2-7522-11e8-bd8a-0242ac110002",
     "next": "ae615b40-7522-11e8-bd8a-0242ac110002",
     "previous": "ae615a64-7522-11e8-bd8a-0242ac110002"
    }
   },
   "source": [
    "サブボリュームが作成できていることを確認します。"
   ]
  },
  {
   "cell_type": "code",
   "execution_count": 70,
   "metadata": {
    "deletable": false,
    "editable": false,
    "hidden": true,
    "lc_cell_meme": {
     "current": "ae615b40-7522-11e8-bd8a-0242ac110002",
     "next": "ae615ba4-7522-11e8-bd8a-0242ac110002",
     "previous": "ae615ad2-7522-11e8-bd8a-0242ac110002"
    },
    "run_through_control": {
     "frozen": true
    },
    "scrolled": true
   },
   "outputs": [
    {
     "name": "stdout",
     "output_type": "stream",
     "text": [
      "\u001b[0;32m172.30.2.100 | SUCCESS | rc=0 >>\u001b[0m\r\n",
      "\u001b[0;32mID 262 gen 13 top level 258 path php/moodle-1\u001b[0m\r\n",
      "\u001b[0;32m\u001b[0m\r\n"
     ]
    }
   ],
   "source": [
    "!ansible -b -a 'btrfs subvolume list -o {{{{moodle_dir_scripts}}}}' {target_group_database}"
   ]
  },
  {
   "cell_type": "markdown",
   "metadata": {
    "lc_cell_meme": {
     "current": "ae615ba4-7522-11e8-bd8a-0242ac110002",
     "next": "ae615c1c-7522-11e8-bd8a-0242ac110002",
     "previous": "ae615b40-7522-11e8-bd8a-0242ac110002"
    }
   },
   "source": [
    "# アプリケーションコンテナの起動\n",
    "\n",
    "![コンテナの起動](image/moodle-3-06.png)"
   ]
  },
  {
   "cell_type": "markdown",
   "metadata": {
    "lc_cell_meme": {
     "current": "ae615c1c-7522-11e8-bd8a-0242ac110002",
     "next": "ae615c80-7522-11e8-bd8a-0242ac110002",
     "previous": "ae615ba4-7522-11e8-bd8a-0242ac110002"
    }
   },
   "source": [
    "## 設定ファイルの作成"
   ]
  },
  {
   "cell_type": "markdown",
   "metadata": {
    "lc_cell_meme": {
     "current": "ae615c80-7522-11e8-bd8a-0242ac110002",
     "next": "ae615cee-7522-11e8-bd8a-0242ac110002",
     "previous": "ae615c1c-7522-11e8-bd8a-0242ac110002"
    }
   },
   "source": [
    "アプリケーションコンテナを起動するのに必要となる設定ファイルを作成します。ここで作成する設定ファイルは以下の3つのファイルです。\n",
    "\n",
    "* docker-compose.yml\n",
    "* nginx.conf\n",
    "* .env"
   ]
  },
  {
   "cell_type": "markdown",
   "metadata": {
    "lc_cell_meme": {
     "current": "ae615cee-7522-11e8-bd8a-0242ac110002",
     "next": "ae615d5c-7522-11e8-bd8a-0242ac110002",
     "previous": "ae615c80-7522-11e8-bd8a-0242ac110002"
    }
   },
   "source": [
    "まず作業ディレクトリを作成します。"
   ]
  },
  {
   "cell_type": "code",
   "execution_count": 71,
   "metadata": {
    "deletable": false,
    "editable": false,
    "lc_cell_meme": {
     "current": "ae615d5c-7522-11e8-bd8a-0242ac110002",
     "next": "ae615dca-7522-11e8-bd8a-0242ac110002",
     "previous": "ae615cee-7522-11e8-bd8a-0242ac110002"
    },
    "run_through_control": {
     "frozen": true,
     "read_only": true
    }
   },
   "outputs": [
    {
     "data": {
      "text/plain": [
       "'/notebooks/notebook/handson/moodle/compose/20180621_162657_zey1v94p'"
      ]
     },
     "execution_count": 71,
     "metadata": {},
     "output_type": "execute_result"
    }
   ],
   "source": [
    "%run scripts/docker_compose.py\n",
    "comp_work_dir = make_compose_workdir()\n",
    "comp_work_dir"
   ]
  },
  {
   "cell_type": "markdown",
   "metadata": {
    "lc_cell_meme": {
     "current": "ae615dca-7522-11e8-bd8a-0242ac110002",
     "next": "ae615e38-7522-11e8-bd8a-0242ac110002",
     "previous": "ae615d5c-7522-11e8-bd8a-0242ac110002"
    }
   },
   "source": [
    "`docker-compose.yml` と `nginx.conf` についてはテンプレートのファイルを用意してありますので、それを作業ディレクトリにコピーします。"
   ]
  },
  {
   "cell_type": "code",
   "execution_count": 72,
   "metadata": {
    "deletable": false,
    "editable": false,
    "lc_cell_meme": {
     "current": "ae615e38-7522-11e8-bd8a-0242ac110002",
     "next": "ae615e9c-7522-11e8-bd8a-0242ac110002",
     "previous": "ae615dca-7522-11e8-bd8a-0242ac110002"
    },
    "run_through_control": {
     "frozen": true,
     "read_only": true
    }
   },
   "outputs": [
    {
     "name": "stdout",
     "output_type": "stream",
     "text": [
      "/notebooks/notebook/handson/moodle/compose/20180621_162657_zey1v94p:\r\n",
      "total 8\r\n",
      "-rw-r--r-- 1 bit_kun users 1931 Jun 20 15:34 docker-compose.yml\r\n",
      "-rw-r--r-- 1 bit_kun users 1942 Jun 20 15:34 nginx.conf\r\n"
     ]
    }
   ],
   "source": [
    "!cp -rp {os.path.join( \\\n",
    "    'template/docker/compose', \\\n",
    "    load_group_var(target_group, 'project_template_name'), '*')} \\\n",
    "    {comp_work_dir}\n",
    "!ls -Rl {comp_work_dir}"
   ]
  },
  {
   "cell_type": "markdown",
   "metadata": {
    "lc_cell_meme": {
     "current": "ae615e9c-7522-11e8-bd8a-0242ac110002",
     "next": "ae615f0a-7522-11e8-bd8a-0242ac110002",
     "previous": "ae615e38-7522-11e8-bd8a-0242ac110002"
    }
   },
   "source": [
    "docker-compose.yml はコンテナの構成や起動時のオプションが記述してある設定ファイルです。基本的にはテンプレートのファイルをそのまま利用できますが、個別に編集したい場合は次のセルを実行して表示されるリンクから編集を行ってください。"
   ]
  },
  {
   "cell_type": "code",
   "execution_count": 73,
   "metadata": {
    "deletable": false,
    "editable": false,
    "lc_cell_meme": {
     "current": "ae615f0a-7522-11e8-bd8a-0242ac110002",
     "next": "ae615f78-7522-11e8-bd8a-0242ac110002",
     "previous": "ae615e9c-7522-11e8-bd8a-0242ac110002"
    },
    "run_through_control": {
     "frozen": true,
     "read_only": true
    }
   },
   "outputs": [
    {
     "data": {
      "text/html": [
       "<a href=\"/handson/edit/handson/moodle/compose/20180621_162657_zey1v94p/docker-compose.yml\" target=\"_blank\">docker-compose.yml</a>"
      ],
      "text/plain": [
       "<IPython.core.display.HTML object>"
      ]
     },
     "execution_count": 73,
     "metadata": {},
     "output_type": "execute_result"
    }
   ],
   "source": [
    "%run scripts/nbutils.py\n",
    "nb_html_link(os.path.join(comp_work_dir, 'docker-compose.yml'), 'docker-compose.yml')"
   ]
  },
  {
   "cell_type": "markdown",
   "metadata": {
    "lc_cell_meme": {
     "current": "ae615f78-7522-11e8-bd8a-0242ac110002",
     "next": "ae615fe6-7522-11e8-bd8a-0242ac110002",
     "previous": "ae615f0a-7522-11e8-bd8a-0242ac110002"
    }
   },
   "source": [
    "以下のセルを実行すると `docker-compose.yml` の編集前との差分を確認できます。"
   ]
  },
  {
   "cell_type": "code",
   "execution_count": 74,
   "metadata": {
    "deletable": false,
    "editable": false,
    "lc_cell_meme": {
     "current": "ae615fe6-7522-11e8-bd8a-0242ac110002",
     "next": "ae61604a-7522-11e8-bd8a-0242ac110002",
     "previous": "ae615f78-7522-11e8-bd8a-0242ac110002"
    },
    "run_through_control": {
     "frozen": true,
     "read_only": true
    }
   },
   "outputs": [],
   "source": [
    "try:\n",
    "    !diff -u {os.path.join( \\\n",
    "        'template/docker/compose', \\\n",
    "        load_group_var(target_group, 'project_template_name'), \\\n",
    "        'docker-compose.yml')} \\\n",
    "    {os.path.join(comp_work_dir, 'docker-compose.yml')}\n",
    "except RuntimeError:\n",
    "    pass"
   ]
  },
  {
   "cell_type": "markdown",
   "metadata": {
    "lc_cell_meme": {
     "current": "ae61604a-7522-11e8-bd8a-0242ac110002",
     "next": "ae6160b8-7522-11e8-bd8a-0242ac110002",
     "previous": "ae615fe6-7522-11e8-bd8a-0242ac110002"
    }
   },
   "source": [
    "nginx.conf はリバースプロキシとして実行する Nginxコンテナの設定ファイルです。基本的にはテンプレートのファイルをそのまま利用できますが、個別に編集したい場合は次のセルを実行して表示されるリンクから編集を行ってください。"
   ]
  },
  {
   "cell_type": "code",
   "execution_count": 75,
   "metadata": {
    "deletable": false,
    "editable": false,
    "lc_cell_meme": {
     "current": "ae6160b8-7522-11e8-bd8a-0242ac110002",
     "next": "ae616126-7522-11e8-bd8a-0242ac110002",
     "previous": "ae61604a-7522-11e8-bd8a-0242ac110002"
    },
    "run_through_control": {
     "frozen": true,
     "read_only": true
    }
   },
   "outputs": [
    {
     "data": {
      "text/html": [
       "<a href=\"/handson/edit/handson/moodle/compose/20180621_162657_zey1v94p/nginx.conf\" target=\"_blank\">nginx.conf</a>"
      ],
      "text/plain": [
       "<IPython.core.display.HTML object>"
      ]
     },
     "execution_count": 75,
     "metadata": {},
     "output_type": "execute_result"
    }
   ],
   "source": [
    "%run scripts/nbutils.py\n",
    "nb_html_link(os.path.join(comp_work_dir, 'nginx.conf'), 'nginx.conf')"
   ]
  },
  {
   "cell_type": "markdown",
   "metadata": {
    "lc_cell_meme": {
     "current": "ae616126-7522-11e8-bd8a-0242ac110002",
     "next": "ae616194-7522-11e8-bd8a-0242ac110002",
     "previous": "ae6160b8-7522-11e8-bd8a-0242ac110002"
    }
   },
   "source": [
    "以下のセルを実行すると `nginx.conf` の編集前との差分を確認できます。"
   ]
  },
  {
   "cell_type": "code",
   "execution_count": 76,
   "metadata": {
    "deletable": false,
    "editable": false,
    "lc_cell_meme": {
     "current": "ae616194-7522-11e8-bd8a-0242ac110002",
     "next": "ae616202-7522-11e8-bd8a-0242ac110002",
     "previous": "ae616126-7522-11e8-bd8a-0242ac110002"
    },
    "run_through_control": {
     "frozen": true,
     "read_only": true
    }
   },
   "outputs": [],
   "source": [
    "try:\n",
    "    !diff -u {os.path.join( \\\n",
    "        'template/docker/compose', \\\n",
    "        load_group_var(target_group, 'project_template_name'), \\\n",
    "        'nginx.conf')} \\\n",
    "        {os.path.join(comp_work_dir, 'nginx.conf')} \n",
    "except RuntimeError:\n",
    "    pass"
   ]
  },
  {
   "cell_type": "markdown",
   "metadata": {
    "lc_cell_meme": {
     "current": "ae616202-7522-11e8-bd8a-0242ac110002",
     "next": "ae616270-7522-11e8-bd8a-0242ac110002",
     "previous": "ae616194-7522-11e8-bd8a-0242ac110002"
    }
   },
   "source": [
    "`.env` はMySQLに関する環境変数を設定しているファイルです。このファイルは MySQLコンテナ、Moodleコンテナの両方から参照するので `docker-compose.yml` とは別のファイルとして書き出しています。"
   ]
  },
  {
   "cell_type": "code",
   "execution_count": 77,
   "metadata": {
    "deletable": false,
    "editable": false,
    "lc_cell_meme": {
     "current": "ae616270-7522-11e8-bd8a-0242ac110002",
     "next": "ae6162de-7522-11e8-bd8a-0242ac110002",
     "previous": "ae616202-7522-11e8-bd8a-0242ac110002"
    },
    "run_through_control": {
     "frozen": true,
     "read_only": true
    }
   },
   "outputs": [],
   "source": [
    "with open(os.path.join(comp_work_dir, '.env'), 'w') as f:\n",
    "    f.write('''\n",
    "MYSQL_DATABASE={{mysql_database}}\n",
    "MYSQL_USER={{mysql_user_name}}\n",
    "MYSQL_PASSWORD={{mysql_user_password}}\n",
    "''')"
   ]
  },
  {
   "cell_type": "markdown",
   "metadata": {
    "lc_cell_meme": {
     "current": "ae6162de-7522-11e8-bd8a-0242ac110002",
     "next": "ae616360-7522-11e8-bd8a-0242ac110002",
     "previous": "ae616270-7522-11e8-bd8a-0242ac110002"
    }
   },
   "source": [
    "## 設定ファイルの配置\n",
    "\n",
    "作成した設定ファイルをVCノードに配置します。"
   ]
  },
  {
   "cell_type": "markdown",
   "metadata": {
    "lc_cell_meme": {
     "current": "ae616360-7522-11e8-bd8a-0242ac110002",
     "next": "ae6163ce-7522-11e8-bd8a-0242ac110002",
     "previous": "ae6162de-7522-11e8-bd8a-0242ac110002"
    }
   },
   "source": [
    "設定ファイルの記述で `{{ }}` で記されている箇所はVCノードに配置する際に group_vars に記録されているパラメータの値で置換されます。これは Ansible の template の機能を利用して実現しています。ただし秘密情報については group_vars に記録されておらず Vault サーバのみに格納されているので、ここで値の取得を行います。"
   ]
  },
  {
   "cell_type": "code",
   "execution_count": 78,
   "metadata": {
    "deletable": false,
    "editable": false,
    "lc_cell_meme": {
     "current": "ae6163ce-7522-11e8-bd8a-0242ac110002",
     "next": "ae61643c-7522-11e8-bd8a-0242ac110002",
     "previous": "ae616360-7522-11e8-bd8a-0242ac110002"
    },
    "run_through_control": {
     "frozen": true,
     "read_only": true
    }
   },
   "outputs": [],
   "source": [
    "import json\n",
    "import yaml\n",
    "import tempfile\n",
    "%run scripts/group.py\n",
    "\n",
    "# Vaultサーバにアクセスするために必要となる情報を読み込む\n",
    "vault_address = load_group_var(target_group, 'vault_address')\n",
    "vault_token = load_group_var(target_group, 'vcc_access_token')\n",
    "\n",
    "# Vaultサーバから秘密情報の取得\n",
    "vault_moodle_path = load_group_var(target_group, 'vault_moodle_path')\n",
    "out = !curl --silent --fail --header \"X-Vault-Token:{vault_token}\" \\\n",
    "    \"{vault_address}/v1/{vault_moodle_path}\"\n",
    "\n",
    "# 秘密情報を一時ファイルに暗号化して保存する\n",
    "moodle_params = dict([\n",
    "    (k, v)\n",
    "    for k, v in json.loads(''.join(out))['data'].items()\n",
    "])\n",
    "(th, secret_file) = tempfile.mkstemp('.yml', text=True)\n",
    "with open(th, 'w+') as f:\n",
    "    f.write(yaml.dump(moodle_params))"
   ]
  },
  {
   "cell_type": "markdown",
   "metadata": {
    "lc_cell_meme": {
     "current": "ae61643c-7522-11e8-bd8a-0242ac110002",
     "next": "ae6164a0-7522-11e8-bd8a-0242ac110002",
     "previous": "ae6163ce-7522-11e8-bd8a-0242ac110002"
    }
   },
   "source": [
    "設定ファイルをVCノードに配置します。"
   ]
  },
  {
   "cell_type": "code",
   "execution_count": 79,
   "metadata": {
    "deletable": false,
    "editable": false,
    "lc_cell_meme": {
     "current": "ae6164a0-7522-11e8-bd8a-0242ac110002",
     "next": "ae61650e-7522-11e8-bd8a-0242ac110002",
     "previous": "ae61643c-7522-11e8-bd8a-0242ac110002"
    },
    "run_through_control": {
     "frozen": true,
     "read_only": true
    }
   },
   "outputs": [
    {
     "name": "stdout",
     "output_type": "stream",
     "text": [
      "\u001b[0;33m172.30.2.100 | SUCCESS => {\u001b[0m\n",
      "\u001b[0;33m    \"changed\": true, \u001b[0m\n",
      "\u001b[0;33m    \"failed\": false, \u001b[0m\n",
      "\u001b[0;33m    \"gid\": 1000, \u001b[0m\n",
      "\u001b[0;33m    \"group\": \"ansible\", \u001b[0m\n",
      "\u001b[0;33m    \"mode\": \"0755\", \u001b[0m\n",
      "\u001b[0;33m    \"owner\": \"ansible\", \u001b[0m\n",
      "\u001b[0;33m    \"path\": \"/home/ansible/moodle\", \u001b[0m\n",
      "\u001b[0;33m    \"size\": 4096, \u001b[0m\n",
      "\u001b[0;33m    \"state\": \"directory\", \u001b[0m\n",
      "\u001b[0;33m    \"uid\": 1000\u001b[0m\n",
      "\u001b[0;33m}\u001b[0m\n",
      "\u001b[0;33m172.30.2.100 | SUCCESS => {\u001b[0m\n",
      "\u001b[0;33m    \"changed\": true, \u001b[0m\n",
      "\u001b[0;33m    \"failed\": false, \u001b[0m\n",
      "\u001b[0;33m    \"gid\": 1000, \u001b[0m\n",
      "\u001b[0;33m    \"group\": \"ansible\", \u001b[0m\n",
      "\u001b[0;33m    \"mode\": \"0755\", \u001b[0m\n",
      "\u001b[0;33m    \"owner\": \"ansible\", \u001b[0m\n",
      "\u001b[0;33m    \"path\": \"/home/ansible/moodle/ssl\", \u001b[0m\n",
      "\u001b[0;33m    \"size\": 4096, \u001b[0m\n",
      "\u001b[0;33m    \"state\": \"directory\", \u001b[0m\n",
      "\u001b[0;33m    \"uid\": 1000\u001b[0m\n",
      "\u001b[0;33m}\u001b[0m\n",
      "\u001b[0;33m172.30.2.100 | SUCCESS => {\u001b[0m\n",
      "\u001b[0;33m    \"changed\": true, \u001b[0m\n",
      "\u001b[0;33m    \"failed\": false, \u001b[0m\n",
      "\u001b[0;33m    \"gid\": 1000, \u001b[0m\n",
      "\u001b[0;33m    \"group\": \"ansible\", \u001b[0m\n",
      "\u001b[0;33m    \"mode\": \"0755\", \u001b[0m\n",
      "\u001b[0;33m    \"owner\": \"ansible\", \u001b[0m\n",
      "\u001b[0;33m    \"path\": \"/home/ansible/moodle/conf\", \u001b[0m\n",
      "\u001b[0;33m    \"size\": 4096, \u001b[0m\n",
      "\u001b[0;33m    \"state\": \"directory\", \u001b[0m\n",
      "\u001b[0;33m    \"uid\": 1000\u001b[0m\n",
      "\u001b[0;33m}\u001b[0m\n",
      "\u001b[0;33m172.30.2.100 | SUCCESS => {\u001b[0m\n",
      "\u001b[0;33m    \"changed\": true, \u001b[0m\n",
      "\u001b[0;33m    \"failed\": false, \u001b[0m\n",
      "\u001b[0;33m    \"gid\": 999, \u001b[0m\n",
      "\u001b[0;33m    \"group\": \"ping\", \u001b[0m\n",
      "\u001b[0;33m    \"mode\": \"0755\", \u001b[0m\n",
      "\u001b[0;33m    \"owner\": \"999\", \u001b[0m\n",
      "\u001b[0;33m    \"path\": \"/var/log/mysql/mysql-1\", \u001b[0m\n",
      "\u001b[0;33m    \"size\": 4096, \u001b[0m\n",
      "\u001b[0;33m    \"state\": \"directory\", \u001b[0m\n",
      "\u001b[0;33m    \"uid\": 999\u001b[0m\n",
      "\u001b[0;33m}\u001b[0m\n",
      "\u001b[0;33m172.30.2.100 | SUCCESS => {\u001b[0m\n",
      "\u001b[0;33m    \"changed\": true, \u001b[0m\n",
      "\u001b[0;33m    \"failed\": false, \u001b[0m\n",
      "\u001b[0;33m    \"gid\": 0, \u001b[0m\n",
      "\u001b[0;33m    \"group\": \"root\", \u001b[0m\n",
      "\u001b[0;33m    \"mode\": \"0755\", \u001b[0m\n",
      "\u001b[0;33m    \"owner\": \"root\", \u001b[0m\n",
      "\u001b[0;33m    \"path\": \"/var/log/moodle/moodle-1\", \u001b[0m\n",
      "\u001b[0;33m    \"size\": 4096, \u001b[0m\n",
      "\u001b[0;33m    \"state\": \"directory\", \u001b[0m\n",
      "\u001b[0;33m    \"uid\": 0\u001b[0m\n",
      "\u001b[0;33m}\u001b[0m\n",
      "\u001b[0;33m172.30.2.100 | SUCCESS => {\u001b[0m\n",
      "\u001b[0;33m    \"changed\": true, \u001b[0m\n",
      "\u001b[0;33m    \"failed\": false, \u001b[0m\n",
      "\u001b[0;33m    \"gid\": 0, \u001b[0m\n",
      "\u001b[0;33m    \"group\": \"root\", \u001b[0m\n",
      "\u001b[0;33m    \"mode\": \"0755\", \u001b[0m\n",
      "\u001b[0;33m    \"owner\": \"root\", \u001b[0m\n",
      "\u001b[0;33m    \"path\": \"/var/log/nginx\", \u001b[0m\n",
      "\u001b[0;33m    \"size\": 4096, \u001b[0m\n",
      "\u001b[0;33m    \"state\": \"directory\", \u001b[0m\n",
      "\u001b[0;33m    \"uid\": 0\u001b[0m\n",
      "\u001b[0;33m}\u001b[0m\n",
      "\u001b[0;33m172.30.2.100 | SUCCESS => {\u001b[0m\n",
      "\u001b[0;33m    \"changed\": true, \u001b[0m\n",
      "\u001b[0;33m    \"checksum\": \"4b81034fe85472a24ff70b5a2deeb50c779f6d78\", \u001b[0m\n",
      "\u001b[0;33m    \"dest\": \"/home/ansible/moodle/docker-compose.yml\", \u001b[0m\n",
      "\u001b[0;33m    \"failed\": false, \u001b[0m\n",
      "\u001b[0;33m    \"gid\": 1000, \u001b[0m\n",
      "\u001b[0;33m    \"group\": \"ansible\", \u001b[0m\n",
      "\u001b[0;33m    \"md5sum\": \"c09b648e45615dd3b3544dd70a38a53a\", \u001b[0m\n",
      "\u001b[0;33m    \"mode\": \"0644\", \u001b[0m\n",
      "\u001b[0;33m    \"owner\": \"ansible\", \u001b[0m\n",
      "\u001b[0;33m    \"size\": 1711, \u001b[0m\n",
      "\u001b[0;33m    \"src\": \"/home/ansible/.ansible/tmp/ansible-tmp-1529566028.95-173364999278885/source\", \u001b[0m\n",
      "\u001b[0;33m    \"state\": \"file\", \u001b[0m\n",
      "\u001b[0;33m    \"uid\": 1000\u001b[0m\n",
      "\u001b[0;33m}\u001b[0m\n",
      "\u001b[0;33m172.30.2.100 | SUCCESS => {\u001b[0m\n",
      "\u001b[0;33m    \"changed\": true, \u001b[0m\n",
      "\u001b[0;33m    \"checksum\": \"fa97023dbd0af77800d2c72790d911b522b1bcfa\", \u001b[0m\n",
      "\u001b[0;33m    \"dest\": \"/home/ansible/moodle/nginx.conf\", \u001b[0m\n",
      "\u001b[0;33m    \"failed\": false, \u001b[0m\n",
      "\u001b[0;33m    \"gid\": 1000, \u001b[0m\n",
      "\u001b[0;33m    \"group\": \"ansible\", \u001b[0m\n",
      "\u001b[0;33m    \"md5sum\": \"618db734c4f8b9c10632df67d3f19873\", \u001b[0m\n",
      "\u001b[0;33m    \"mode\": \"0644\", \u001b[0m\n",
      "\u001b[0;33m    \"owner\": \"ansible\", \u001b[0m\n",
      "\u001b[0;33m    \"size\": 1924, \u001b[0m\n",
      "\u001b[0;33m    \"src\": \"/home/ansible/.ansible/tmp/ansible-tmp-1529566030.67-46807327865076/source\", \u001b[0m\n",
      "\u001b[0;33m    \"state\": \"file\", \u001b[0m\n",
      "\u001b[0;33m    \"uid\": 1000\u001b[0m\n",
      "\u001b[0;33m}\u001b[0m\n",
      "\u001b[0;33m172.30.2.100 | SUCCESS => {\u001b[0m\n",
      "\u001b[0;33m    \"changed\": true, \u001b[0m\n",
      "\u001b[0;33m    \"checksum\": \"0bafa97c27cba4d73d16309f5815b86d903751ad\", \u001b[0m\n",
      "\u001b[0;33m    \"dest\": \"/home/ansible/moodle/.env\", \u001b[0m\n",
      "\u001b[0;33m    \"failed\": false, \u001b[0m\n",
      "\u001b[0;33m    \"gid\": 1000, \u001b[0m\n",
      "\u001b[0;33m    \"group\": \"ansible\", \u001b[0m\n",
      "\u001b[0;33m    \"md5sum\": \"f2760b7fb7b3ab1e7ac9976cff346188\", \u001b[0m\n",
      "\u001b[0;33m    \"mode\": \"0644\", \u001b[0m\n",
      "\u001b[0;33m    \"owner\": \"ansible\", \u001b[0m\n",
      "\u001b[0;33m    \"size\": 69, \u001b[0m\n",
      "\u001b[0;33m    \"src\": \"/home/ansible/.ansible/tmp/ansible-tmp-1529566032.39-15016764003709/source\", \u001b[0m\n",
      "\u001b[0;33m    \"state\": \"file\", \u001b[0m\n",
      "\u001b[0;33m    \"uid\": 1000\u001b[0m\n",
      "\u001b[0;33m}\u001b[0m\n",
      "\u001b[0;33m172.30.2.100 | SUCCESS => {\u001b[0m\n",
      "\u001b[0;33m    \"changed\": true, \u001b[0m\n",
      "\u001b[0;33m    \"checksum\": \"db537ff1b0d65ea0409ab7c41464c21dc3127866\", \u001b[0m\n",
      "\u001b[0;33m    \"dest\": \"/home/ansible/moodle/ssl/server.crt\", \u001b[0m\n",
      "\u001b[0;33m    \"failed\": false, \u001b[0m\n",
      "\u001b[0;33m    \"gid\": 1000, \u001b[0m\n",
      "\u001b[0;33m    \"group\": \"ansible\", \u001b[0m\n",
      "\u001b[0;33m    \"md5sum\": \"70e671ecf9209bc9594229510c8c53e8\", \u001b[0m\n",
      "\u001b[0;33m    \"mode\": \"0644\", \u001b[0m\n",
      "\u001b[0;33m    \"owner\": \"ansible\", \u001b[0m\n",
      "\u001b[0;33m    \"size\": 3810, \u001b[0m\n",
      "\u001b[0;33m    \"src\": \"/home/ansible/.ansible/tmp/ansible-tmp-1529566034.09-226672534476495/source\", \u001b[0m\n",
      "\u001b[0;33m    \"state\": \"file\", \u001b[0m\n",
      "\u001b[0;33m    \"uid\": 1000\u001b[0m\n",
      "\u001b[0;33m}\u001b[0m\n",
      "\u001b[0;33m172.30.2.100 | SUCCESS => {\u001b[0m\n",
      "\u001b[0;33m    \"changed\": true, \u001b[0m\n",
      "\u001b[0;33m    \"checksum\": \"547004fa20e366b2348aa35aa19caa533fd50e8f\", \u001b[0m\n",
      "\u001b[0;33m    \"dest\": \"/home/ansible/moodle/ssl/server.key\", \u001b[0m\n",
      "\u001b[0;33m    \"failed\": false, \u001b[0m\n",
      "\u001b[0;33m    \"gid\": 1000, \u001b[0m\n",
      "\u001b[0;33m    \"group\": \"ansible\", \u001b[0m\n",
      "\u001b[0;33m    \"md5sum\": \"2215b29d3c8f254ee603fa87f4ba7897\", \u001b[0m\n",
      "\u001b[0;33m    \"mode\": \"0644\", \u001b[0m\n",
      "\u001b[0;33m    \"owner\": \"ansible\", \u001b[0m\n",
      "\u001b[0;33m    \"size\": 1704, \u001b[0m\n",
      "\u001b[0;33m    \"src\": \"/home/ansible/.ansible/tmp/ansible-tmp-1529566035.79-131693253337552/source\", \u001b[0m\n",
      "\u001b[0;33m    \"state\": \"file\", \u001b[0m\n",
      "\u001b[0;33m    \"uid\": 1000\u001b[0m\n",
      "\u001b[0;33m}\u001b[0m\n",
      "\u001b[0;33m172.30.2.100 | SUCCESS => {\u001b[0m\n",
      "\u001b[0;33m    \"changed\": true, \u001b[0m\n",
      "\u001b[0;33m    \"checksum\": \"0aaec0f69f01bd844a6df11ed4cb222c698605d3\", \u001b[0m\n",
      "\u001b[0;33m    \"dest\": \"/home/ansible/moodle/conf/php.ini\", \u001b[0m\n",
      "\u001b[0;33m    \"failed\": false, \u001b[0m\n",
      "\u001b[0;33m    \"gid\": 1000, \u001b[0m\n",
      "\u001b[0;33m    \"group\": \"ansible\", \u001b[0m\n",
      "\u001b[0;33m    \"md5sum\": \"3f92f543f23b83665db1b462a5a14854\", \u001b[0m\n",
      "\u001b[0;33m    \"mode\": \"0644\", \u001b[0m\n",
      "\u001b[0;33m    \"owner\": \"ansible\", \u001b[0m\n",
      "\u001b[0;33m    \"size\": 67781, \u001b[0m\n",
      "\u001b[0;33m    \"src\": \"/home/ansible/.ansible/tmp/ansible-tmp-1529566037.5-275716864042577/source\", \u001b[0m\n",
      "\u001b[0;33m    \"state\": \"file\", \u001b[0m\n",
      "\u001b[0;33m    \"uid\": 1000\u001b[0m\n",
      "\u001b[0;33m}\u001b[0m\n",
      "\u001b[0;33m172.30.2.100 | SUCCESS => {\u001b[0m\n",
      "\u001b[0;33m    \"changed\": true, \u001b[0m\n",
      "\u001b[0;33m    \"checksum\": \"fdb1090d44c1980958ec96d3e2066b9a73bfda32\", \u001b[0m\n",
      "\u001b[0;33m    \"dest\": \"/home/ansible/moodle/conf/httpd.conf\", \u001b[0m\n",
      "\u001b[0;33m    \"failed\": false, \u001b[0m\n",
      "\u001b[0;33m    \"gid\": 1000, \u001b[0m\n",
      "\u001b[0;33m    \"group\": \"ansible\", \u001b[0m\n",
      "\u001b[0;33m    \"md5sum\": \"f5e7449c0f17bc856e86011cb5d152ba\", \u001b[0m\n",
      "\u001b[0;33m    \"mode\": \"0644\", \u001b[0m\n",
      "\u001b[0;33m    \"owner\": \"ansible\", \u001b[0m\n",
      "\u001b[0;33m    \"size\": 11753, \u001b[0m\n",
      "\u001b[0;33m    \"src\": \"/home/ansible/.ansible/tmp/ansible-tmp-1529566039.2-79010636787413/source\", \u001b[0m\n",
      "\u001b[0;33m    \"state\": \"file\", \u001b[0m\n",
      "\u001b[0;33m    \"uid\": 1000\u001b[0m\n",
      "\u001b[0;33m}\u001b[0m\n",
      "\u001b[0;33m172.30.2.100 | SUCCESS => {\u001b[0m\n",
      "\u001b[0;33m    \"changed\": true, \u001b[0m\n",
      "\u001b[0;33m    \"checksum\": \"28acdb29c88eb75cb98bfeea4b26a611f4fac295\", \u001b[0m\n",
      "\u001b[0;33m    \"dest\": \"/home/ansible/moodle/conf/my.cnf\", \u001b[0m\n",
      "\u001b[0;33m    \"failed\": false, \u001b[0m\n",
      "\u001b[0;33m    \"gid\": 1000, \u001b[0m\n",
      "\u001b[0;33m    \"group\": \"ansible\", \u001b[0m\n",
      "\u001b[0;33m    \"md5sum\": \"0a93c11001e211e92178f4526ea12995\", \u001b[0m\n",
      "\u001b[0;33m    \"mode\": \"0644\", \u001b[0m\n",
      "\u001b[0;33m    \"owner\": \"ansible\", \u001b[0m\n",
      "\u001b[0;33m    \"size\": 796, \u001b[0m\n",
      "\u001b[0;33m    \"src\": \"/home/ansible/.ansible/tmp/ansible-tmp-1529566040.89-5338497226322/source\", \u001b[0m\n",
      "\u001b[0;33m    \"state\": \"file\", \u001b[0m\n",
      "\u001b[0;33m    \"uid\": 1000\u001b[0m\n",
      "\u001b[0;33m}\u001b[0m\n"
     ]
    }
   ],
   "source": [
    "target_group_rproxy = load_group_var(target_group, 'target_group_rproxy')\n",
    "target_group_moodle = load_group_var(target_group, 'target_group_moodle')\n",
    "target_group_database = load_group_var(target_group, 'target_group_database')\n",
    "\n",
    "# 配置先のディレクトリを作成する \n",
    "!ansible -b -m file -a 'state=directory owner={{{{ansible_user}}}} \\\n",
    "    group={{{{ansible_user}}}} path={{{{project_dir}}}}' {target_group}\n",
    "!ansible -m file -a 'state=directory path={{{{project_dir}}}}/ssl' {target_group}\n",
    "!ansible -m file -a 'state=directory path={{{{project_dir}}}}/conf' {target_group}\n",
    "!ansible -b -m file -a '\\\n",
    "    state=directory owner=999 group=999 \\\n",
    "    path={{{{mysql_dir_logs}}}}/{{{{docker_container_name_mysql}}}}'\\\n",
    "    {target_group_database}\n",
    "!ansible -b -m file -a 'state=directory \\\n",
    "    path={{{{moodle_dir_logs}}}}/{{{{docker_container_name_moodle}}}}' \\\n",
    "    {target_group_moodle}\n",
    "!ansible -b -m file -a 'state=directory path={{{{proxy_dir_logs}}}}' {target_group_rproxy}\n",
    "\n",
    "# 設定ファイルの配置\n",
    "for fname in ['docker-compose.yml', 'nginx.conf', '.env']:\n",
    "    !ansible -m template -e \"@{secret_file}\" \\\n",
    "        -a 'src={os.path.join(comp_work_dir, fname)} \\\n",
    "        dest={{{{project_dir}}}}/{fname}' {target_group}\n",
    "        \n",
    "# 証明書ファイルの配置\n",
    "!ansible -m copy -a 'src={{{{proxy_tls_cert_path}}}} \\\n",
    "    dest={{{{project_dir}}}}/ssl/server.crt' {target_group_rproxy}\n",
    "!ansible -m copy -a 'src={{{{proxy_tls_key_path}}}} \\\n",
    "    dest={{{{project_dir}}}}/ssl/server.key' {target_group_rproxy}\n",
    "\n",
    "# カスタマイズした設定ファイルの配置\n",
    "for fname in ['php.ini', 'httpd.conf', 'my.cnf']:\n",
    "    !ansible -m copy -a 'src={{{{appc_config_dir}}}}/{fname} \\\n",
    "        dest={{{{project_dir}}}}/conf/ backup=yes' {target_group}"
   ]
  },
  {
   "cell_type": "markdown",
   "metadata": {
    "lc_cell_meme": {
     "current": "ae61650e-7522-11e8-bd8a-0242ac110002",
     "next": "ae61657c-7522-11e8-bd8a-0242ac110002",
     "previous": "ae6164a0-7522-11e8-bd8a-0242ac110002"
    }
   },
   "source": [
    "ローカル環境にある秘密情報を格納したファイルは不要になったので削除します。"
   ]
  },
  {
   "cell_type": "code",
   "execution_count": 80,
   "metadata": {
    "deletable": false,
    "editable": false,
    "lc_cell_meme": {
     "current": "ae61657c-7522-11e8-bd8a-0242ac110002",
     "next": "ae6165ea-7522-11e8-bd8a-0242ac110002",
     "previous": "ae61650e-7522-11e8-bd8a-0242ac110002"
    },
    "run_through_control": {
     "frozen": true,
     "read_only": true
    }
   },
   "outputs": [],
   "source": [
    "import os\n",
    "os.unlink(secret_file)"
   ]
  },
  {
   "cell_type": "markdown",
   "metadata": {
    "lc_cell_meme": {
     "current": "ae6165ea-7522-11e8-bd8a-0242ac110002",
     "next": "ae61664e-7522-11e8-bd8a-0242ac110002",
     "previous": "ae61657c-7522-11e8-bd8a-0242ac110002"
    }
   },
   "source": [
    "## コンテナの起動\n",
    "\n",
    "docker-composeコマンドを実行してコンテナの起動を行います。"
   ]
  },
  {
   "cell_type": "code",
   "execution_count": 81,
   "metadata": {
    "deletable": false,
    "editable": false,
    "lc_cell_meme": {
     "current": "ae61664e-7522-11e8-bd8a-0242ac110002",
     "next": "ae6166bc-7522-11e8-bd8a-0242ac110002",
     "previous": "ae6165ea-7522-11e8-bd8a-0242ac110002"
    },
    "run_through_control": {
     "frozen": true,
     "read_only": true
    },
    "scrolled": false
   },
   "outputs": [
    {
     "name": "stdout",
     "output_type": "stream",
     "text": [
      "\u001b[0;32m172.30.2.100 | SUCCESS | rc=0 >>\u001b[0m\r\n",
      "\u001b[0;32mlatest: Pulling from library/nginx\u001b[0m\r\n",
      "\u001b[0;32mDigest: sha256:3e2ffcf0edca2a4e9b24ca442d227baea7b7f0e33ad654ef1eb806fbd9bedcf0\u001b[0m\r\n",
      "\u001b[0;32mStatus: Downloaded newer image for nginx:latestCreating network \"moodle_default\" with the default driver\u001b[0m\r\n",
      "\u001b[0;32mPulling proxy (nginx:latest)...\u001b[0m\r\n",
      "\u001b[0;32mCreating mysql-1 ... \r",
      "\u001b[0m\r\n",
      "\u001b[0;32mCreating moodle-1 ... \r",
      "\u001b[0m\r\n",
      "\u001b[0;32mCreating proxy    ... \r",
      "\u001b[0m\r\n",
      "\u001b[0;32m\u001b[3A\u001b[2K\r",
      "Creating mysql-1  ... \u001b[32mdone\u001b[0m\r",
      "\u001b[3B\u001b[1A\u001b[2K\r",
      "Creating proxy    ... \u001b[32mdone\u001b[0m\r",
      "\u001b[1B\u001b[2A\u001b[2K\r",
      "Creating moodle-1 ... \u001b[32mdone\u001b[0m\r",
      "\u001b[2B\u001b[0m\r\n",
      "\u001b[0;32m\u001b[0m\r\n"
     ]
    }
   ],
   "source": [
    "gvars = load_group_vars(target_group)\n",
    "if 'moodle_nodes' in gvars:\n",
    "    !ansible -a 'docker stack deploy -c {{{{project_dir}}}}/docker-compose.yml {target_group}' \\\n",
    "        {target_group_rproxy}\n",
    "else:\n",
    "    !ansible -m shell -a 'cd {{{{project_dir}}}} && docker-compose up -d' {target_group_rproxy}"
   ]
  },
  {
   "cell_type": "markdown",
   "metadata": {
    "lc_cell_meme": {
     "current": "ae6166bc-7522-11e8-bd8a-0242ac110002",
     "next": "ae61672a-7522-11e8-bd8a-0242ac110002",
     "previous": "ae61664e-7522-11e8-bd8a-0242ac110002"
    }
   },
   "source": [
    "正常に起動されたことを確認します。まれに起動に失敗していることがあるので、その場合は何度か再試行しています。"
   ]
  },
  {
   "cell_type": "code",
   "execution_count": 82,
   "metadata": {
    "deletable": false,
    "editable": false,
    "lc_cell_meme": {
     "current": "ae61672a-7522-11e8-bd8a-0242ac110002",
     "next": "ae61678e-7522-11e8-bd8a-0242ac110002",
     "previous": "ae6166bc-7522-11e8-bd8a-0242ac110002"
    },
    "run_through_control": {
     "frozen": true,
     "read_only": true
    },
    "scrolled": true
   },
   "outputs": [],
   "source": [
    "if 'moodle_nodes' not in gvars:\n",
    "    %run scripts/utils.py\n",
    "    \n",
    "    def check_all_container_up():\n",
    "        lines = !ansible -m shell -a 'cd {{{{project_dir}}}} && docker-compose ps' {target_group_rproxy}\n",
    "        for cname in [gvars['docker_container_name_moodle'],\n",
    "                gvars['docker_container_name_mysql'], 'proxy']:\n",
    "            check_ansible_output_docker_compose(lines, cname, output=False)\n",
    "        \n",
    "    def do_docker_compose_up():\n",
    "        !ansible -m shell -a 'cd {{{{project_dir}}}} && docker-compose up -d' {target_group_rproxy} \n",
    "    \n",
    "    retry_exec(check_all_container_up, interval=3, retry_max=10, redo=do_docker_compose_up)"
   ]
  },
  {
   "cell_type": "markdown",
   "metadata": {
    "lc_cell_meme": {
     "current": "ae61678e-7522-11e8-bd8a-0242ac110002",
     "next": "ae6167fc-7522-11e8-bd8a-0242ac110002",
     "previous": "ae61672a-7522-11e8-bd8a-0242ac110002"
    }
   },
   "source": [
    "### Grafanaによる利用状況の確認"
   ]
  },
  {
   "cell_type": "markdown",
   "metadata": {
    "lc_cell_meme": {
     "current": "ae6167fc-7522-11e8-bd8a-0242ac110002",
     "next": "ae61686a-7522-11e8-bd8a-0242ac110002",
     "previous": "ae61678e-7522-11e8-bd8a-0242ac110002"
    }
   },
   "source": [
    "起動したアプリケーションコンテナのCPU, Memory 使用量などをGrafanaで確認してください。"
   ]
  },
  {
   "cell_type": "code",
   "execution_count": 83,
   "metadata": {
    "deletable": false,
    "editable": false,
    "lc_cell_meme": {
     "current": "ae61686a-7522-11e8-bd8a-0242ac110002",
     "next": "ae6168d8-7522-11e8-bd8a-0242ac110002",
     "previous": "ae6167fc-7522-11e8-bd8a-0242ac110002"
    },
    "run_through_control": {
     "frozen": true,
     "read_only": true
    }
   },
   "outputs": [
    {
     "data": {
      "text/html": [
       "<a href=\"/grafana/\" target=\"_blank\">Grafana</a>"
      ],
      "text/plain": [
       "<IPython.core.display.HTML object>"
      ]
     },
     "execution_count": 83,
     "metadata": {},
     "output_type": "execute_result"
    }
   ],
   "source": [
    "from IPython.core.display import HTML\n",
    "HTML(u'<a href=\"/grafana/\" target=\"_blank\">Grafana</a>')"
   ]
  },
  {
   "cell_type": "markdown",
   "metadata": {
    "lc_cell_meme": {
     "current": "ae6168d8-7522-11e8-bd8a-0242ac110002",
     "next": "ae61693c-7522-11e8-bd8a-0242ac110002",
     "previous": "ae61686a-7522-11e8-bd8a-0242ac110002"
    }
   },
   "source": [
    "### Moodleのインストール処理が完了するまで待つ"
   ]
  },
  {
   "cell_type": "markdown",
   "metadata": {
    "lc_cell_meme": {
     "current": "ae61693c-7522-11e8-bd8a-0242ac110002",
     "next": "ae6169aa-7522-11e8-bd8a-0242ac110002",
     "previous": "ae6168d8-7522-11e8-bd8a-0242ac110002"
    }
   },
   "source": [
    "Moodleのインストール処理が完了してMoodleのサービスが開始されるまで数分程度を要します。ここではMoodleのサービスが開始されるまでの待ち合わせを行います。\n",
    "\n",
    "> Moodleが起動するまでは `502 Bad Gateway` と表示されます。その間は、そのまま待ってください。"
   ]
  },
  {
   "cell_type": "code",
   "execution_count": 84,
   "metadata": {
    "deletable": false,
    "editable": false,
    "lc_cell_meme": {
     "current": "ae6169aa-7522-11e8-bd8a-0242ac110002",
     "next": "ae616a22-7522-11e8-bd8a-0242ac110002",
     "previous": "ae61693c-7522-11e8-bd8a-0242ac110002"
    },
    "run_through_control": {
     "frozen": true,
     "read_only": true
    }
   },
   "outputs": [
    {
     "name": "stdout",
     "output_type": "stream",
     "text": [
      "HTTP/1.1 502 Bad Gateway\n",
      "HTTP/1.1 502 Bad Gateway\n",
      "HTTP/1.1 502 Bad Gateway\n",
      "HTTP/1.1 502 Bad Gateway\n",
      "HTTP/1.1 502 Bad Gateway\n",
      "HTTP/1.1 502 Bad Gateway\n",
      "HTTP/1.1 502 Bad Gateway\n",
      "HTTP/1.1 502 Bad Gateway\n",
      "HTTP/1.1 502 Bad Gateway\n"
     ]
    }
   ],
   "source": [
    "import time\n",
    "\n",
    "# time.sleep(120)\n",
    "moodle_url = 'https://{}'.format(\n",
    "    load_group_var(target_group, 'vc_node_address'))\n",
    "\n",
    "def check_not_bad_gateway():\n",
    "    try:\n",
    "        !curl -k -s -I {moodle_url} | grep 502\n",
    "        raise Exception()\n",
    "    except RuntimeError:\n",
    "        pass\n",
    "\n",
    "retry_exec(check_not_bad_gateway, err=Exception)"
   ]
  },
  {
   "cell_type": "markdown",
   "metadata": {
    "lc_cell_meme": {
     "current": "ae616a22-7522-11e8-bd8a-0242ac110002",
     "next": "ae616a90-7522-11e8-bd8a-0242ac110002",
     "previous": "ae6169aa-7522-11e8-bd8a-0242ac110002"
    }
   },
   "source": [
    "# Moodle を利用できることを確認\n",
    "\n",
    "起動したMoodleのアドレスにアクセスし、Moodle が利用できることを確認します。"
   ]
  },
  {
   "cell_type": "markdown",
   "metadata": {
    "lc_cell_meme": {
     "current": "ae616a90-7522-11e8-bd8a-0242ac110002",
     "next": "ae616afe-7522-11e8-bd8a-0242ac110002",
     "previous": "ae616a22-7522-11e8-bd8a-0242ac110002"
    }
   },
   "source": [
    "## アドレスの確認"
   ]
  },
  {
   "cell_type": "code",
   "execution_count": 85,
   "metadata": {
    "deletable": false,
    "editable": false,
    "lc_cell_meme": {
     "current": "ae616afe-7522-11e8-bd8a-0242ac110002",
     "next": "ae616b62-7522-11e8-bd8a-0242ac110002",
     "previous": "ae616a90-7522-11e8-bd8a-0242ac110002"
    },
    "run_through_control": {
     "frozen": true,
     "read_only": true
    }
   },
   "outputs": [
    {
     "data": {
      "text/html": [
       "<a href=\"https://moodle.example.org\" target=\"_blank\">https://moodle.example.org</a>"
      ],
      "text/plain": [
       "<IPython.core.display.HTML object>"
      ]
     },
     "execution_count": 85,
     "metadata": {},
     "output_type": "execute_result"
    }
   ],
   "source": [
    "from IPython.core.display import HTML\n",
    "HTML(u'<a href=\"{0}\" target=\"_blank\">{0}</a>'.format(load_group_var(target_group, 'moodle_url')))"
   ]
  },
  {
   "cell_type": "markdown",
   "metadata": {
    "lc_cell_meme": {
     "current": "ae616b62-7522-11e8-bd8a-0242ac110002",
     "next": "ae616bd0-7522-11e8-bd8a-0242ac110002",
     "previous": "ae616afe-7522-11e8-bd8a-0242ac110002"
    }
   },
   "source": [
    "## ライブログの確認\n",
    "\n",
    "Moodle のライブログを確認します。次のセルを実行すると表示されるリンクをクリックしてください。"
   ]
  },
  {
   "cell_type": "code",
   "execution_count": 86,
   "metadata": {
    "deletable": false,
    "editable": false,
    "lc_cell_meme": {
     "current": "ae616bd0-7522-11e8-bd8a-0242ac110002",
     "next": "ae616c3e-7522-11e8-bd8a-0242ac110002",
     "previous": "ae616b62-7522-11e8-bd8a-0242ac110002"
    },
    "run_through_control": {
     "frozen": true,
     "read_only": true
    }
   },
   "outputs": [
    {
     "data": {
      "text/html": [
       "<a href=\"https://moodle.example.org/report/loglive/index.php\" target=\"_blank\">https://moodle.example.org</a>"
      ],
      "text/plain": [
       "<IPython.core.display.HTML object>"
      ]
     },
     "execution_count": 86,
     "metadata": {},
     "output_type": "execute_result"
    }
   ],
   "source": [
    "from IPython.core.display import HTML\n",
    "HTML(u'<a href=\"{0}/report/loglive/index.php\" target=\"_blank\">{0}</a>'.format(\n",
    "    load_group_var(target_group, 'moodle_url')))"
   ]
  },
  {
   "cell_type": "markdown",
   "metadata": {
    "heading_collapsed": true,
    "lc_cell_meme": {
     "current": "ae616c3e-7522-11e8-bd8a-0242ac110002",
     "next": "ae616cac-7522-11e8-bd8a-0242ac110002",
     "previous": "ae616bd0-7522-11e8-bd8a-0242ac110002"
    }
   },
   "source": [
    "# cronの設定\n",
    "\n",
    "cron.phpを5分毎に実行するようVCノードの crontab を設定します。"
   ]
  },
  {
   "cell_type": "code",
   "execution_count": 87,
   "metadata": {
    "deletable": false,
    "editable": false,
    "hidden": true,
    "lc_cell_meme": {
     "current": "ae616cac-7522-11e8-bd8a-0242ac110002",
     "next": "ae616d10-7522-11e8-bd8a-0242ac110002",
     "previous": "ae616c3e-7522-11e8-bd8a-0242ac110002"
    },
    "run_through_control": {
     "frozen": true,
     "read_only": true
    }
   },
   "outputs": [
    {
     "name": "stdout",
     "output_type": "stream",
     "text": [
      "\u001b[0;33m172.30.2.100 | SUCCESS => {\u001b[0m\r\n",
      "\u001b[0;33m    \"changed\": true, \u001b[0m\r\n",
      "\u001b[0;33m    \"envs\": [], \u001b[0m\r\n",
      "\u001b[0;33m    \"failed\": false, \u001b[0m\r\n",
      "\u001b[0;33m    \"jobs\": [\u001b[0m\r\n",
      "\u001b[0;33m        \"moodle-1 cron.php\"\u001b[0m\r\n",
      "\u001b[0;33m    ]\u001b[0m\r\n",
      "\u001b[0;33m}\u001b[0m\r\n"
     ]
    }
   ],
   "source": [
    "target_group_moodle = load_group_var(target_group, 'target_group_moodle')\n",
    "!ansible -m cron -a 'minute=\"*/5\" job=\"docker exec {{{{docker_container_name_moodle}}}} \\\n",
    "    /usr/bin/php /var/www/html/admin/cli/cron.php > /dev/null\" user=\"{{{{ansible_user}}}}\" \\\n",
    "    name=\"{{{{docker_container_name_moodle}}}} cron.php\"' {target_group_moodle}"
   ]
  },
  {
   "cell_type": "markdown",
   "metadata": {
    "hidden": true,
    "lc_cell_meme": {
     "current": "ae616d10-7522-11e8-bd8a-0242ac110002",
     "next": "ae616d7e-7522-11e8-bd8a-0242ac110002",
     "previous": "ae616cac-7522-11e8-bd8a-0242ac110002"
    }
   },
   "source": [
    "crontabに登録されたことを確認します。"
   ]
  },
  {
   "cell_type": "code",
   "execution_count": 88,
   "metadata": {
    "deletable": false,
    "editable": false,
    "hidden": true,
    "lc_cell_meme": {
     "current": "ae616d7e-7522-11e8-bd8a-0242ac110002",
     "next": null,
     "previous": "ae616d10-7522-11e8-bd8a-0242ac110002"
    },
    "run_through_control": {
     "frozen": true,
     "read_only": true
    },
    "scrolled": true
   },
   "outputs": [
    {
     "name": "stdout",
     "output_type": "stream",
     "text": [
      "\u001b[0;32m172.30.2.100 | SUCCESS | rc=0 >>\u001b[0m\r\n",
      "\u001b[0;32m#Ansible: moodle-1 cron.php\u001b[0m\r\n",
      "\u001b[0;32m*/5 * * * * docker exec moodle-1     /usr/bin/php /var/www/html/admin/cli/cron.php > /dev/null\u001b[0m\r\n",
      "\u001b[0;32m\u001b[0m\r\n"
     ]
    }
   ],
   "source": [
    "!ansible -a 'crontab -l' {target_group_moodle}"
   ]
  }
 ],
 "metadata": {
  "kernelspec": {
   "display_name": "Python 3",
   "language": "python",
   "name": "python3"
  },
  "language_info": {
   "codemirror_mode": {
    "name": "ipython",
    "version": 3
   },
   "file_extension": ".py",
   "mimetype": "text/x-python",
   "name": "python",
   "nbconvert_exporter": "python",
   "pygments_lexer": "ipython3",
   "version": "3.5.2"
  },
  "lc_notebook_meme": {
   "current": "ae611efa-7522-11e8-bd8a-0242ac110002",
   "lc_server_signature": {
    "current": {
     "notebook_dir": "/notebooks/notebook",
     "notebook_path": "/handson/moodle",
     "signature_id": "b365c89a-59a9-11e8-8f0e-0242ac110002"
    },
    "history": []
   }
  },
  "toc": {
   "nav_menu": {},
   "number_sections": true,
   "sideBar": true,
   "skip_h1_title": false,
   "toc_cell": false,
   "toc_position": {},
   "toc_section_display": "block",
   "toc_window_display": true
  }
 },
 "nbformat": 4,
 "nbformat_minor": 2
}
