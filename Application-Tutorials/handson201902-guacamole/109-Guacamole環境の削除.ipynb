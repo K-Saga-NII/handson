{
 "cells": [
  {
   "cell_type": "markdown",
   "metadata": {
    "lc_cell_meme": {
     "current": "d2a8fa10-4afd-11e9-9859-0242ac110002",
     "next": "d2a8fa7e-4afd-11e9-9859-0242ac110002",
     "previous": null
    }
   },
   "source": [
    "# Guacamole環境の削除\n",
    "\n",
    "---\n",
    "\n",
    "構築したGuacamole環境を削除します。"
   ]
  },
  {
   "cell_type": "markdown",
   "metadata": {
    "lc_cell_meme": {
     "current": "d2a8fa7e-4afd-11e9-9859-0242ac110002",
     "next": "d2a8fad8-4afd-11e9-9859-0242ac110002",
     "previous": "d2a8fa10-4afd-11e9-9859-0242ac110002"
    }
   },
   "source": [
    "# パラメータの設定"
   ]
  },
  {
   "cell_type": "markdown",
   "metadata": {
    "lc_cell_meme": {
     "current": "d2a8fad8-4afd-11e9-9859-0242ac110002",
     "next": "d2a8fb1e-4afd-11e9-9859-0242ac110002",
     "previous": "d2a8fa7e-4afd-11e9-9859-0242ac110002"
    }
   },
   "source": [
    "## UnitGroup名の指定\n",
    "\n",
    "削除対象となる UnitGroup の名前を指定してください。"
   ]
  },
  {
   "cell_type": "code",
   "execution_count": 1,
   "metadata": {
    "deletable": false,
    "editable": false,
    "lc_cell_meme": {
     "current": "d2a8fb1e-4afd-11e9-9859-0242ac110002",
     "next": "d2a8fb6e-4afd-11e9-9859-0242ac110002",
     "previous": "d2a8fad8-4afd-11e9-9859-0242ac110002"
    },
    "run_through_control": {
     "frozen": true
    }
   },
   "outputs": [],
   "source": [
    "unit_group = 'Guacamole-B'"
   ]
  },
  {
   "cell_type": "markdown",
   "metadata": {
    "lc_cell_meme": {
     "current": "d2a8fb6e-4afd-11e9-9859-0242ac110002",
     "next": "d2a8fbbe-4afd-11e9-9859-0242ac110002",
     "previous": "d2a8fb1e-4afd-11e9-9859-0242ac110002"
    }
   },
   "source": [
    "## VCCアクセストークンの入力\n",
    "\n",
    "VCC のアクセストークンを入力します。"
   ]
  },
  {
   "cell_type": "code",
   "execution_count": 2,
   "metadata": {
    "deletable": false,
    "editable": false,
    "lc_cell_meme": {
     "current": "d2a8fbbe-4afd-11e9-9859-0242ac110002",
     "next": "d2a8fc0e-4afd-11e9-9859-0242ac110002",
     "previous": "d2a8fb6e-4afd-11e9-9859-0242ac110002"
    },
    "run_through_control": {
     "frozen": true
    }
   },
   "outputs": [
    {
     "name": "stdout",
     "output_type": "stream",
     "text": [
      "········\n"
     ]
    }
   ],
   "source": [
    "from getpass import getpass\n",
    "vcc_access_token = getpass()"
   ]
  },
  {
   "cell_type": "markdown",
   "metadata": {
    "lc_cell_meme": {
     "current": "d2a8fc0e-4afd-11e9-9859-0242ac110002",
     "next": "d2a8fd58-4afd-11e9-9859-0242ac110002",
     "previous": "d2a8fbbe-4afd-11e9-9859-0242ac110002"
    }
   },
   "source": [
    "入力されたアクセストークンが正しいことを確認します。"
   ]
  },
  {
   "cell_type": "code",
   "execution_count": 3,
   "metadata": {
    "deletable": false,
    "editable": false,
    "lc_cell_meme": {
     "current": "d2a8fd58-4afd-11e9-9859-0242ac110002",
     "next": "d2a8fdbc-4afd-11e9-9859-0242ac110002",
     "previous": "d2a8fc0e-4afd-11e9-9859-0242ac110002"
    },
    "run_through_control": {
     "frozen": true
    }
   },
   "outputs": [],
   "source": [
    "from common import logsetting\n",
    "from vcpsdk.vcpsdk import VcpSDK\n",
    "\n",
    "vcp = VcpSDK(vcc_access_token)"
   ]
  },
  {
   "cell_type": "markdown",
   "metadata": {
    "lc_cell_meme": {
     "current": "d2a8fdbc-4afd-11e9-9859-0242ac110002",
     "next": "d2a8fe0c-4afd-11e9-9859-0242ac110002",
     "previous": "d2a8fd58-4afd-11e9-9859-0242ac110002"
    }
   },
   "source": [
    "上のセルの実行結果がエラーとなり以下のようなメッセージが表示されている場合は、入力されたアクセストークンに誤りがあります。\n",
    "\n",
    "```\n",
    "2018-09-XX XX:XX:XX,XXX - ERROR - config vc failed: http_status(403)\n",
    "2018-09-XX XX:XX:XX,XXX - ERROR - 2018/XX/XX XX:XX:XX UTC: VCPAuthException: xxxxxxx:token lookup is failed: permission denied\n",
    "```\n",
    "\n",
    "この場合はアクセストークンの入力からやり直してください。"
   ]
  },
  {
   "cell_type": "markdown",
   "metadata": {
    "lc_cell_meme": {
     "current": "d2a8fe0c-4afd-11e9-9859-0242ac110002",
     "next": "d2a8fe52-4afd-11e9-9859-0242ac110002",
     "previous": "d2a8fdbc-4afd-11e9-9859-0242ac110002"
    }
   },
   "source": [
    "# Guacamole環境の削除\n",
    "\n",
    "Guacamole環境のVCノードを削除します。"
   ]
  },
  {
   "cell_type": "markdown",
   "metadata": {
    "lc_cell_meme": {
     "current": "d2a8fe52-4afd-11e9-9859-0242ac110002",
     "next": "d2a8fe98-4afd-11e9-9859-0242ac110002",
     "previous": "d2a8fe0c-4afd-11e9-9859-0242ac110002"
    }
   },
   "source": [
    "まず削除対象となるUnitGroupの現在の状態を確認します。"
   ]
  },
  {
   "cell_type": "code",
   "execution_count": 4,
   "metadata": {
    "deletable": false,
    "editable": false,
    "lc_cell_meme": {
     "current": "d2a8fe98-4afd-11e9-9859-0242ac110002",
     "next": "d2a8fede-4afd-11e9-9859-0242ac110002",
     "previous": "d2a8fe52-4afd-11e9-9859-0242ac110002"
    },
    "run_through_control": {
     "frozen": true
    }
   },
   "outputs": [
    {
     "data": {
      "text/html": [
       "<style  type=\"text/css\" >\n",
       "    #T_b346dca0_4afd_11e9_b7b7_0242ac110002row0_col3 {\n",
       "            background-color:  #dfd;\n",
       "        }    #T_b346dca0_4afd_11e9_b7b7_0242ac110002row0_col6 {\n",
       "            background-color:  #dfd;\n",
       "        }    #T_b346dca0_4afd_11e9_b7b7_0242ac110002row1_col3 {\n",
       "            background-color:  #dfd;\n",
       "        }    #T_b346dca0_4afd_11e9_b7b7_0242ac110002row1_col6 {\n",
       "            background-color:  #dfd;\n",
       "        }</style>  \n",
       "<table id=\"T_b346dca0_4afd_11e9_b7b7_0242ac110002\" > \n",
       "<thead>    <tr> \n",
       "        <th class=\"blank level0\" ></th> \n",
       "        <th class=\"col_heading level0 col0\" >vcno</th> \n",
       "        <th class=\"col_heading level0 col1\" >vcname</th> \n",
       "        <th class=\"col_heading level0 col2\" >unit_name</th> \n",
       "        <th class=\"col_heading level0 col3\" >unit_state</th> \n",
       "        <th class=\"col_heading level0 col4\" >node_no</th> \n",
       "        <th class=\"col_heading level0 col5\" >node_id</th> \n",
       "        <th class=\"col_heading level0 col6\" >node_state</th> \n",
       "        <th class=\"col_heading level0 col7\" >cloud_instance_address</th> \n",
       "        <th class=\"col_heading level0 col8\" >cloud_instance_id</th> \n",
       "        <th class=\"col_heading level0 col9\" >cloud_instance_name</th> \n",
       "        <th class=\"col_heading level0 col10\" >volumes</th> \n",
       "    </tr></thead> \n",
       "<tbody>    <tr> \n",
       "        <th id=\"T_b346dca0_4afd_11e9_b7b7_0242ac110002level0_row0\" class=\"row_heading level0 row0\" >0</th> \n",
       "        <td id=\"T_b346dca0_4afd_11e9_b7b7_0242ac110002row0_col0\" class=\"data row0 col0\" >48</td> \n",
       "        <td id=\"T_b346dca0_4afd_11e9_b7b7_0242ac110002row0_col1\" class=\"data row0 col1\" >Guacamole-B</td> \n",
       "        <td id=\"T_b346dca0_4afd_11e9_b7b7_0242ac110002row0_col2\" class=\"data row0 col2\" >server</td> \n",
       "        <td id=\"T_b346dca0_4afd_11e9_b7b7_0242ac110002row0_col3\" class=\"data row0 col3\" >RUNNING</td> \n",
       "        <td id=\"T_b346dca0_4afd_11e9_b7b7_0242ac110002row0_col4\" class=\"data row0 col4\" >1</td> \n",
       "        <td id=\"T_b346dca0_4afd_11e9_b7b7_0242ac110002row0_col5\" class=\"data row0 col5\" >b5d47389...</td> \n",
       "        <td id=\"T_b346dca0_4afd_11e9_b7b7_0242ac110002row0_col6\" class=\"data row0 col6\" >RUNNING</td> \n",
       "        <td id=\"T_b346dca0_4afd_11e9_b7b7_0242ac110002row0_col7\" class=\"data row0 col7\" >172.30.2.100</td> \n",
       "        <td id=\"T_b346dca0_4afd_11e9_b7b7_0242ac110002row0_col8\" class=\"data row0 col8\" >i-0271ff2898b6e07b4</td> \n",
       "        <td id=\"T_b346dca0_4afd_11e9_b7b7_0242ac110002row0_col9\" class=\"data row0 col9\" >VCP-e84fbb63-0d650814</td> \n",
       "        <td id=\"T_b346dca0_4afd_11e9_b7b7_0242ac110002row0_col10\" class=\"data row0 col10\" >none</td> \n",
       "    </tr>    <tr> \n",
       "        <th id=\"T_b346dca0_4afd_11e9_b7b7_0242ac110002level0_row1\" class=\"row_heading level0 row1\" >1</th> \n",
       "        <td id=\"T_b346dca0_4afd_11e9_b7b7_0242ac110002row1_col0\" class=\"data row1 col0\" >48</td> \n",
       "        <td id=\"T_b346dca0_4afd_11e9_b7b7_0242ac110002row1_col1\" class=\"data row1 col1\" >Guacamole-B</td> \n",
       "        <td id=\"T_b346dca0_4afd_11e9_b7b7_0242ac110002row1_col2\" class=\"data row1 col2\" >client</td> \n",
       "        <td id=\"T_b346dca0_4afd_11e9_b7b7_0242ac110002row1_col3\" class=\"data row1 col3\" >RUNNING</td> \n",
       "        <td id=\"T_b346dca0_4afd_11e9_b7b7_0242ac110002row1_col4\" class=\"data row1 col4\" >1</td> \n",
       "        <td id=\"T_b346dca0_4afd_11e9_b7b7_0242ac110002row1_col5\" class=\"data row1 col5\" >45a90453...</td> \n",
       "        <td id=\"T_b346dca0_4afd_11e9_b7b7_0242ac110002row1_col6\" class=\"data row1 col6\" >RUNNING</td> \n",
       "        <td id=\"T_b346dca0_4afd_11e9_b7b7_0242ac110002row1_col7\" class=\"data row1 col7\" >172.30.2.157</td> \n",
       "        <td id=\"T_b346dca0_4afd_11e9_b7b7_0242ac110002row1_col8\" class=\"data row1 col8\" >i-0dfa76b8caf0054c6</td> \n",
       "        <td id=\"T_b346dca0_4afd_11e9_b7b7_0242ac110002row1_col9\" class=\"data row1 col9\" >VCP-e84fbb63-0d650814</td> \n",
       "        <td id=\"T_b346dca0_4afd_11e9_b7b7_0242ac110002row1_col10\" class=\"data row1 col10\" >none</td> \n",
       "    </tr></tbody> \n",
       "</table> "
      ],
      "text/plain": [
       "<pandas.io.formats.style.Styler at 0x7fd167715550>"
      ]
     },
     "execution_count": 4,
     "metadata": {},
     "output_type": "execute_result"
    }
   ],
   "source": [
    "ugroup = vcp.get_ugroup(unit_group)\n",
    "ugroup.df_nodes()"
   ]
  },
  {
   "cell_type": "markdown",
   "metadata": {
    "lc_cell_meme": {
     "current": "d2a8fede-4afd-11e9-9859-0242ac110002",
     "next": "d2a8ff2e-4afd-11e9-9859-0242ac110002",
     "previous": "d2a8fe98-4afd-11e9-9859-0242ac110002"
    }
   },
   "source": [
    "UnitGroupの一覧も確認しておきます。"
   ]
  },
  {
   "cell_type": "code",
   "execution_count": 5,
   "metadata": {
    "deletable": false,
    "editable": false,
    "lc_cell_meme": {
     "current": "d2a8ff2e-4afd-11e9-9859-0242ac110002",
     "next": "d2a8ff74-4afd-11e9-9859-0242ac110002",
     "previous": "d2a8fede-4afd-11e9-9859-0242ac110002"
    },
    "run_through_control": {
     "frozen": true
    }
   },
   "outputs": [
    {
     "data": {
      "text/html": [
       "<style  type=\"text/css\" >\n",
       "    #T_b3756930_4afd_11e9_b7b7_0242ac110002row0_col3 {\n",
       "            background-color:  #dfd;\n",
       "        }</style>  \n",
       "<table id=\"T_b3756930_4afd_11e9_b7b7_0242ac110002\" > \n",
       "<thead>    <tr> \n",
       "        <th class=\"blank level0\" ></th> \n",
       "        <th class=\"col_heading level0 col0\" >vcno</th> \n",
       "        <th class=\"col_heading level0 col1\" >vctype</th> \n",
       "        <th class=\"col_heading level0 col2\" >vcname</th> \n",
       "        <th class=\"col_heading level0 col3\" >state</th> \n",
       "        <th class=\"col_heading level0 col4\" >vcid</th> \n",
       "        <th class=\"col_heading level0 col5\" >cdate</th> \n",
       "    </tr></thead> \n",
       "<tbody>    <tr> \n",
       "        <th id=\"T_b3756930_4afd_11e9_b7b7_0242ac110002level0_row0\" class=\"row_heading level0 row0\" >0</th> \n",
       "        <td id=\"T_b3756930_4afd_11e9_b7b7_0242ac110002row0_col0\" class=\"data row0 col0\" >48</td> \n",
       "        <td id=\"T_b3756930_4afd_11e9_b7b7_0242ac110002row0_col1\" class=\"data row0 col1\" >compute</td> \n",
       "        <td id=\"T_b3756930_4afd_11e9_b7b7_0242ac110002row0_col2\" class=\"data row0 col2\" >Guacamole-B</td> \n",
       "        <td id=\"T_b3756930_4afd_11e9_b7b7_0242ac110002row0_col3\" class=\"data row0 col3\" >RUNNING</td> \n",
       "        <td id=\"T_b3756930_4afd_11e9_b7b7_0242ac110002row0_col4\" class=\"data row0 col4\" >0d650814...</td> \n",
       "        <td id=\"T_b3756930_4afd_11e9_b7b7_0242ac110002row0_col5\" class=\"data row0 col5\" >2019/03/20 10:32:11 UTC</td> \n",
       "    </tr></tbody> \n",
       "</table> "
      ],
      "text/plain": [
       "<pandas.io.formats.style.Styler at 0x7fd1658f7748>"
      ]
     },
     "execution_count": 5,
     "metadata": {},
     "output_type": "execute_result"
    }
   ],
   "source": [
    "vcp.df_ugroups()"
   ]
  },
  {
   "cell_type": "markdown",
   "metadata": {
    "lc_cell_meme": {
     "current": "d2a8ff74-4afd-11e9-9859-0242ac110002",
     "next": "d2a8ffba-4afd-11e9-9859-0242ac110002",
     "previous": "d2a8ff2e-4afd-11e9-9859-0242ac110002"
    }
   },
   "source": [
    "VCノードを削除します。構築したGuacamole環境が**全て削除**されます。"
   ]
  },
  {
   "cell_type": "code",
   "execution_count": 6,
   "metadata": {
    "deletable": false,
    "editable": false,
    "lc_cell_meme": {
     "current": "d2a8ffba-4afd-11e9-9859-0242ac110002",
     "next": "d2a9000a-4afd-11e9-9859-0242ac110002",
     "previous": "d2a8ff74-4afd-11e9-9859-0242ac110002"
    },
    "run_through_control": {
     "frozen": true
    },
    "scrolled": true
   },
   "outputs": [
    {
     "name": "stdout",
     "output_type": "stream",
     "text": [
      "2019-03-20 19:48:31,373 - INFO - server is DELETING\n",
      "client is DELETING ... 0 sec\n",
      "2019-03-20 19:48:36,628 - INFO - server is DELETING\n",
      "client is DELETING ... 5 sec\n",
      "2019-03-20 19:48:42,083 - INFO - server is DELETING\n",
      "client is DELETING ... 10 sec\n",
      "2019-03-20 19:48:47,323 - INFO - server is DELETING\n",
      "client is DELETING ... 15 sec\n",
      "2019-03-20 19:48:52,566 - INFO - server is DELETING\n",
      "client is DELETING ... 20 sec\n",
      "2019-03-20 19:48:57,807 - INFO - server is DELETING\n",
      "client is DELETING ... 25 sec\n",
      "2019-03-20 19:49:03,049 - INFO - server is DELETING\n",
      "client is DELETING ... 30 sec\n",
      "2019-03-20 19:49:08,277 - INFO - server is DELETING\n",
      "client is DELETING ... 35 sec\n",
      "2019-03-20 19:49:13,514 - INFO - server is DELETING\n",
      "client is DELETING ... 40 sec\n",
      "2019-03-20 19:49:18,754 - INFO - server is DELETING\n",
      "client is DELETING ... 45 sec\n",
      "2019-03-20 19:49:23,964 - INFO - client is DELETING ... 50 sec\n",
      "2019-03-20 19:49:29,162 - INFO - client is DELETING ... 55 sec\n",
      "2019-03-20 19:49:34,366 - INFO - client is DELETING ... 60 sec\n",
      "2019-03-20 19:49:39,570 - INFO - client is DELETING ... 65 sec\n",
      "2019-03-20 19:49:44,781 - INFO - client is DELETING ... 70 sec\n",
      "2019-03-20 19:49:49,989 - INFO - client is DELETING ... 75 sec\n",
      "2019-03-20 19:49:55,191 - INFO - client is DELETING ... 80 sec\n",
      "2019-03-20 19:50:00,398 - INFO - client is DELETING ... 85 sec\n",
      "2019-03-20 19:50:05,604 - INFO - client is DELETING ... 90 sec\n",
      "2019-03-20 19:50:10,809 - INFO - client is DELETING ... 95 sec\n",
      "2019-03-20 19:50:15,840 - INFO - cleanup completed. vc  is cleanup(no unit)\n"
     ]
    }
   ],
   "source": [
    "ugroup.cleanup()"
   ]
  },
  {
   "cell_type": "markdown",
   "metadata": {
    "lc_cell_meme": {
     "current": "d2a9000a-4afd-11e9-9859-0242ac110002",
     "next": "d2a90050-4afd-11e9-9859-0242ac110002",
     "previous": "d2a8ffba-4afd-11e9-9859-0242ac110002"
    }
   },
   "source": [
    "Guacamole環境削除後の UnitGroupの一覧を確認します。"
   ]
  },
  {
   "cell_type": "code",
   "execution_count": 7,
   "metadata": {
    "deletable": false,
    "editable": false,
    "lc_cell_meme": {
     "current": "d2a90050-4afd-11e9-9859-0242ac110002",
     "next": "d2a90096-4afd-11e9-9859-0242ac110002",
     "previous": "d2a9000a-4afd-11e9-9859-0242ac110002"
    },
    "run_through_control": {
     "frozen": true
    }
   },
   "outputs": [
    {
     "data": {
      "text/html": [
       "<style  type=\"text/css\" >\n",
       "</style>  \n",
       "<table id=\"T_f2195e44_4afd_11e9_b7b7_0242ac110002\" > \n",
       "<thead>    <tr> \n",
       "        <th class=\"blank level0\" ></th> \n",
       "        <th class=\"col_heading level0 col0\" >vcno</th> \n",
       "        <th class=\"col_heading level0 col1\" >vctype</th> \n",
       "        <th class=\"col_heading level0 col2\" >vcname</th> \n",
       "        <th class=\"col_heading level0 col3\" >state</th> \n",
       "        <th class=\"col_heading level0 col4\" >vcid</th> \n",
       "        <th class=\"col_heading level0 col5\" >cdate</th> \n",
       "    </tr></thead> \n",
       "<tbody></tbody> \n",
       "</table> "
      ],
      "text/plain": [
       "<pandas.io.formats.style.Styler at 0x7fd165666e10>"
      ]
     },
     "execution_count": 7,
     "metadata": {},
     "output_type": "execute_result"
    }
   ],
   "source": [
    "vcp.df_ugroups()"
   ]
  },
  {
   "cell_type": "markdown",
   "metadata": {
    "lc_cell_meme": {
     "current": "d2a90096-4afd-11e9-9859-0242ac110002",
     "next": "d2a900dc-4afd-11e9-9859-0242ac110002",
     "previous": "d2a90050-4afd-11e9-9859-0242ac110002"
    }
   },
   "source": [
    "# Ansible 設定ファイルの後始末"
   ]
  },
  {
   "cell_type": "markdown",
   "metadata": {
    "lc_cell_meme": {
     "current": "d2a900dc-4afd-11e9-9859-0242ac110002",
     "next": "d2a90122-4afd-11e9-9859-0242ac110002",
     "previous": "d2a90096-4afd-11e9-9859-0242ac110002"
    }
   },
   "source": [
    "操作対象のVCノードが削除されたので、Ansibleのインベントリファイルをリネームします。"
   ]
  },
  {
   "cell_type": "code",
   "execution_count": 8,
   "metadata": {
    "deletable": false,
    "editable": false,
    "lc_cell_meme": {
     "current": "d2a90122-4afd-11e9-9859-0242ac110002",
     "next": "d2a90168-4afd-11e9-9859-0242ac110002",
     "previous": "d2a900dc-4afd-11e9-9859-0242ac110002"
    },
    "run_through_control": {
     "frozen": true
    }
   },
   "outputs": [],
   "source": [
    "!mv ./hosts ./hosts.bak"
   ]
  },
  {
   "cell_type": "markdown",
   "metadata": {
    "lc_cell_meme": {
     "current": "d2a90168-4afd-11e9-9859-0242ac110002",
     "next": "d2a901ae-4afd-11e9-9859-0242ac110002",
     "previous": "d2a90122-4afd-11e9-9859-0242ac110002"
    }
   },
   "source": [
    "group_vars に記録されているパラメータを無効にするために group_vars ファイルをリネームします。"
   ]
  },
  {
   "cell_type": "code",
   "execution_count": 9,
   "metadata": {
    "deletable": false,
    "editable": false,
    "lc_cell_meme": {
     "current": "d2a901ae-4afd-11e9-9859-0242ac110002",
     "next": null,
     "previous": "d2a90168-4afd-11e9-9859-0242ac110002"
    },
    "run_through_control": {
     "frozen": true
    }
   },
   "outputs": [],
   "source": [
    "!mv group_vars/{unit_group}.yml  group_vars/{unit_group}.yml.bak"
   ]
  }
 ],
 "metadata": {
  "kernelspec": {
   "display_name": "Python 3",
   "language": "python",
   "name": "python3"
  },
  "language_info": {
   "codemirror_mode": {
    "name": "ipython",
    "version": 3
   },
   "file_extension": ".py",
   "mimetype": "text/x-python",
   "name": "python",
   "nbconvert_exporter": "python",
   "pygments_lexer": "ipython3",
   "version": "3.6.6"
  },
  "lc_notebook_meme": {
   "current": "d2a8f8a8-4afd-11e9-9859-0242ac110002",
   "lc_server_signature": {
    "current": {
     "notebook_dir": "/notebooks/notebook",
     "notebook_path": "/handson/guacamole",
     "server_url": "https://ocs1046.vcp-handson.org:8443/handson/",
     "signature_id": "d0c53b60-f9f3-11e8-ad2a-0242ac110002"
    },
    "history": []
   }
  },
  "toc": {
   "base_numbering": 1,
   "nav_menu": {},
   "number_sections": true,
   "sideBar": true,
   "skip_h1_title": false,
   "title_cell": "Table of Contents",
   "title_sidebar": "Contents",
   "toc_cell": false,
   "toc_position": {},
   "toc_section_display": true,
   "toc_window_display": true
  }
 },
 "nbformat": 4,
 "nbformat_minor": 2
}
