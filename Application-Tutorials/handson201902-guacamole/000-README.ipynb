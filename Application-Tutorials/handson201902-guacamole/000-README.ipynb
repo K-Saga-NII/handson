{
 "cells": [
  {
   "cell_type": "markdown",
   "metadata": {
    "lc_cell_meme": {
     "current": "9c51e144-4af7-11e9-9859-0242ac110002",
     "next": "9c51e1b2-4af7-11e9-9859-0242ac110002",
     "previous": null
    }
   },
   "source": [
    "# README"
   ]
  },
  {
   "cell_type": "markdown",
   "metadata": {
    "heading_collapsed": true,
    "lc_cell_meme": {
     "current": "9c51e1b2-4af7-11e9-9859-0242ac110002",
     "next": "9c51e202-4af7-11e9-9859-0242ac110002",
     "previous": "9c51e144-4af7-11e9-9859-0242ac110002"
    }
   },
   "source": [
    "# 実行環境の前提条件"
   ]
  },
  {
   "cell_type": "markdown",
   "metadata": {
    "hidden": true,
    "lc_cell_meme": {
     "current": "9c51e202-4af7-11e9-9859-0242ac110002",
     "next": "9c51e252-4af7-11e9-9859-0242ac110002",
     "previous": "9c51e1b2-4af7-11e9-9859-0242ac110002"
    }
   },
   "source": [
    "> ハンズオンでは、ここに記す条件は既に設定済となっています。"
   ]
  },
  {
   "cell_type": "markdown",
   "metadata": {
    "hidden": true,
    "lc_cell_meme": {
     "current": "9c51e252-4af7-11e9-9859-0242ac110002",
     "next": "9c51e298-4af7-11e9-9859-0242ac110002",
     "previous": "9c51e202-4af7-11e9-9859-0242ac110002"
    }
   },
   "source": [
    "* Notebook環境\n",
    "  - [Jupyter Notebook for Literate Computing for Reproducible Infrastructure](https://github.com/NII-cloud-operation/Jupyter-LC_docker)\n",
    "* VCP SDK\n",
    "  - バージョン: 18.10.1\n",
    "* Python\n",
    "  - 3.6\n",
    "* クラウドプロバイダ\n",
    "  - AWS\n",
    "\n",
    "* 依存関係にある外部サーバ\n",
    "  - 利用者の認証情報、ユーザ情報を格納してある LDAPサーバにアクセスできること\n",
    "  - 利用者のホームディレクトリをNFSマウントできるNFSサーバにアクセスできること\n",
    "* 構築環境のホストに関する情報\n",
    "  - 外部から構築環境にアクセスする際のホスト名がDNSに登録されていること\n",
    "  - ホスト名に対応したサーバ証明書と秘密鍵が用意されていること\n",
    "  - ホスト名を書き込んだ YAML ファイルが `./group_vars/all/customize.yml` に用意されていること\n",
    "    * YAMLファイルの記述内容は以下に示すような `server_name: `の後にホスト名を記した１行からなるファイルである\n",
    "```\n",
    "server_name: ocsXXXX.vcp-handson.org\n",
    "```"
   ]
  },
  {
   "cell_type": "markdown",
   "metadata": {
    "lc_cell_meme": {
     "current": "9c51e298-4af7-11e9-9859-0242ac110002",
     "next": "9c51e2e8-4af7-11e9-9859-0242ac110002",
     "previous": "9c51e252-4af7-11e9-9859-0242ac110002"
    }
   },
   "source": [
    "# 全体構成\n",
    "\n",
    "![構成](images/guacamole-201-01.png)"
   ]
  },
  {
   "cell_type": "markdown",
   "metadata": {
    "lc_cell_meme": {
     "current": "9c51e2e8-4af7-11e9-9859-0242ac110002",
     "next": "9c51e32e-4af7-11e9-9859-0242ac110002",
     "previous": "9c51e298-4af7-11e9-9859-0242ac110002"
    }
   },
   "source": [
    "# Notebook一覧"
   ]
  },
  {
   "cell_type": "markdown",
   "metadata": {
    "lc_cell_meme": {
     "current": "9c51e32e-4af7-11e9-9859-0242ac110002",
     "next": "9c51e374-4af7-11e9-9859-0242ac110002",
     "previous": "9c51e2e8-4af7-11e9-9859-0242ac110002"
    }
   },
   "source": [
    "次のセルを実行すると、このハンズオンで実行するNotebookの一覧が表示されます。"
   ]
  },
  {
   "cell_type": "code",
   "execution_count": 1,
   "metadata": {
    "deletable": false,
    "editable": false,
    "lc_cell_meme": {
     "current": "9c51e374-4af7-11e9-9859-0242ac110002",
     "next": "9c51e3ba-4af7-11e9-9859-0242ac110002",
     "previous": "9c51e32e-4af7-11e9-9859-0242ac110002"
    },
    "run_through_control": {
     "frozen": true
    },
    "scrolled": false
   },
   "outputs": [
    {
     "data": {
      "image/svg+xml": [
       "<svg viewBox=\"0 0 1156 1000\" xmlns=\"http://www.w3.org/2000/svg\" xmlns:inkspace=\"http://www.inkscape.org/namespaces/inkscape\" xmlns:xlink=\"http://www.w3.org/1999/xlink\">\n",
       "  <defs id=\"defs_block\">\n",
       "    <filter height=\"1.504\" id=\"filter_blur\" inkspace:collect=\"always\" width=\"1.1575\" x=\"-0.07875\" y=\"-0.252\">\n",
       "      <feGaussianBlur id=\"feGaussianBlur3780\" inkspace:collect=\"always\" stdDeviation=\"4.2\"/>\n",
       "    </filter>\n",
       "  </defs>\n",
       "  <title>blockdiag</title>\n",
       "  <desc>blockdiag {\n",
       "    node_width = 300;\n",
       "    node_height = 200;\n",
       "    orientation = portrait;\n",
       "\n",
       "    group {\n",
       "        label = &quot;シンプル構成&quot;;\n",
       "        shape = line;\n",
       "        style = dashed;\n",
       "        &quot;001&quot; -&gt; &quot;002&quot; -&gt; &quot;009&quot;;\n",
       "    }\n",
       "\n",
       "    group {\n",
       "        label = &quot;演習環境の変更&quot;;\n",
       "        shape = line;\n",
       "        style = dashed;\n",
       "        &quot;101&quot; -&gt; &quot;102&quot; -&gt; &quot;109&quot;;\n",
       "    }\n",
       "\n",
       "    group {\n",
       "        label = &quot;スケール変更&quot;;\n",
       "        shape = line;\n",
       "        style = dashed;\n",
       "        &quot;201&quot; -&gt; &quot;202&quot; -&gt; &quot;203 &quot; -&gt; &quot;209&quot;;\n",
       "    }\n",
       "}\n",
       "</desc>\n",
       "  <rect fill=\"rgb(0,0,0)\" height=\"200\" stroke=\"rgb(0,0,0)\" style=\"filter:url(#filter_blur);opacity:0.7;fill-opacity:1\" width=\"300\" x=\"67\" y=\"46\"/>\n",
       "  <rect fill=\"rgb(0,0,0)\" height=\"200\" stroke=\"rgb(0,0,0)\" style=\"filter:url(#filter_blur);opacity:0.7;fill-opacity:1\" width=\"300\" x=\"67\" y=\"286\"/>\n",
       "  <rect fill=\"rgb(0,0,0)\" height=\"200\" stroke=\"rgb(0,0,0)\" style=\"filter:url(#filter_blur);opacity:0.7;fill-opacity:1\" width=\"300\" x=\"67\" y=\"526\"/>\n",
       "  <rect fill=\"rgb(0,0,0)\" height=\"200\" stroke=\"rgb(0,0,0)\" style=\"filter:url(#filter_blur);opacity:0.7;fill-opacity:1\" width=\"300\" x=\"431\" y=\"46\"/>\n",
       "  <rect fill=\"rgb(0,0,0)\" height=\"200\" stroke=\"rgb(0,0,0)\" style=\"filter:url(#filter_blur);opacity:0.7;fill-opacity:1\" width=\"300\" x=\"431\" y=\"286\"/>\n",
       "  <rect fill=\"rgb(0,0,0)\" height=\"200\" stroke=\"rgb(0,0,0)\" style=\"filter:url(#filter_blur);opacity:0.7;fill-opacity:1\" width=\"300\" x=\"431\" y=\"526\"/>\n",
       "  <rect fill=\"rgb(0,0,0)\" height=\"200\" stroke=\"rgb(0,0,0)\" style=\"filter:url(#filter_blur);opacity:0.7;fill-opacity:1\" width=\"300\" x=\"795\" y=\"46\"/>\n",
       "  <rect fill=\"rgb(0,0,0)\" height=\"200\" stroke=\"rgb(0,0,0)\" style=\"filter:url(#filter_blur);opacity:0.7;fill-opacity:1\" width=\"300\" x=\"795\" y=\"286\"/>\n",
       "  <rect fill=\"rgb(0,0,0)\" height=\"200\" stroke=\"rgb(0,0,0)\" style=\"filter:url(#filter_blur);opacity:0.7;fill-opacity:1\" width=\"300\" x=\"795\" y=\"526\"/>\n",
       "  <rect fill=\"rgb(0,0,0)\" height=\"200\" stroke=\"rgb(0,0,0)\" style=\"filter:url(#filter_blur);opacity:0.7;fill-opacity:1\" width=\"300\" x=\"795\" y=\"766\"/>\n",
       "  <rect fill=\"rgb(255,255,255)\" height=\"200\" stroke=\"rgb(0,0,0)\" width=\"300\" x=\"64\" y=\"40\"/>\n",
       "  <text fill=\"rgb(0,0,0)\" font-anchor=\"middle\" font-family=\"sans-serif\" font-size=\"9\" font-style=\"normal\" font-weight=\"normal\" width=\"296\" x=\"66\" y=\"175\">チェック</text><text fill=\"rgb(0,0,0)\" font-anchor=\"middle\" font-family=\"sans-serif\" font-size=\"9\" font-style=\"normal\" font-weight=\"normal\" width=\"296\" x=\"66\" y=\"164\">リバースプロキシに関するパラメータ</text><text fill=\"rgb(0,0,0)\" font-anchor=\"middle\" font-family=\"sans-serif\" font-size=\"9\" font-style=\"normal\" font-weight=\"normal\" width=\"296\" x=\"66\" y=\"153\">NFSに関するパラメータ</text><text fill=\"rgb(0,0,0)\" font-anchor=\"middle\" font-family=\"sans-serif\" font-size=\"9\" font-style=\"normal\" font-weight=\"normal\" width=\"296\" x=\"66\" y=\"142\">演習環境コンテナに関するパラメータ</text><text fill=\"rgb(0,0,0)\" font-anchor=\"middle\" font-family=\"sans-serif\" font-size=\"9\" font-style=\"normal\" font-weight=\"normal\" width=\"296\" x=\"66\" y=\"131\">LDAPサーバに関するパラメータ</text><text fill=\"rgb(0,0,0)\" font-anchor=\"middle\" font-family=\"sans-serif\" font-size=\"9\" font-style=\"normal\" font-weight=\"normal\" width=\"296\" x=\"66\" y=\"120\">Guacamoleに関するパラメータ</text><text fill=\"rgb(0,0,0)\" font-anchor=\"middle\" font-family=\"sans-serif\" font-size=\"9\" font-style=\"normal\" font-weight=\"normal\" width=\"296\" x=\"66\" y=\"109\">VCノードに関するパラメータ</text><text fill=\"rgb(0,0,0)\" font-anchor=\"middle\" font-family=\"sans-serif\" font-size=\"9\" font-style=\"italic\" font-weight=\"normal\" width=\"296\" x=\"66\" y=\"85\">---</text><a xlink:href=\"./001-パラメータの設定.ipynb\"><text fill=\"rgb(0,0,0)\" font-anchor=\"middle\" font-family=\"sans-serif\" font-size=\"11\" font-style=\"normal\" font-weight=\"bold\" width=\"296\" x=\"66\" y=\"56\">001: パラメータの</text><text fill=\"rgb(0,0,0)\" font-anchor=\"middle\" font-family=\"sans-serif\" font-size=\"11\" font-style=\"normal\" font-weight=\"bold\" width=\"296\" x=\"66\" y=\"69\">設定</text></a><rect fill=\"rgb(255,255,255)\" height=\"200\" stroke=\"rgb(0,0,0)\" width=\"300\" x=\"64\" y=\"280\"/>\n",
       "  <text fill=\"rgb(0,0,0)\" font-anchor=\"middle\" font-family=\"sans-serif\" font-size=\"9\" font-style=\"normal\" font-weight=\"normal\" width=\"296\" x=\"66\" y=\"426\">Guacamoleにアクセスする</text><text fill=\"rgb(0,0,0)\" font-anchor=\"middle\" font-family=\"sans-serif\" font-size=\"9\" font-style=\"normal\" font-weight=\"normal\" width=\"296\" x=\"66\" y=\"415\">演習環境用コンテナイメージの配布</text><text fill=\"rgb(0,0,0)\" font-anchor=\"middle\" font-family=\"sans-serif\" font-size=\"9\" font-style=\"normal\" font-weight=\"normal\" width=\"296\" x=\"66\" y=\"404\">Guacamoleの設定</text><text fill=\"rgb(0,0,0)\" font-anchor=\"middle\" font-family=\"sans-serif\" font-size=\"9\" font-style=\"normal\" font-weight=\"normal\" width=\"296\" x=\"66\" y=\"393\">Guacamoleの起動</text><text fill=\"rgb(0,0,0)\" font-anchor=\"middle\" font-family=\"sans-serif\" font-size=\"9\" font-style=\"normal\" font-weight=\"normal\" width=\"296\" x=\"66\" y=\"382\">Guacamole環境の設定ファイルの配置</text><text fill=\"rgb(0,0,0)\" font-anchor=\"middle\" font-family=\"sans-serif\" font-size=\"9\" font-style=\"normal\" font-weight=\"normal\" width=\"296\" x=\"66\" y=\"371\">Ansibleの設定</text><text fill=\"rgb(0,0,0)\" font-anchor=\"middle\" font-family=\"sans-serif\" font-size=\"9\" font-style=\"normal\" font-weight=\"normal\" width=\"296\" x=\"66\" y=\"360\">VCノードの起動</text><text fill=\"rgb(0,0,0)\" font-anchor=\"middle\" font-family=\"sans-serif\" font-size=\"9\" font-style=\"normal\" font-weight=\"normal\" width=\"296\" x=\"66\" y=\"349\">準備</text><text fill=\"rgb(0,0,0)\" font-anchor=\"middle\" font-family=\"sans-serif\" font-size=\"9\" font-style=\"italic\" font-weight=\"normal\" width=\"296\" x=\"66\" y=\"325\">---</text><a xlink:href=\"./002-Guacamoleの起動.ipynb\"><text fill=\"rgb(0,0,0)\" font-anchor=\"middle\" font-family=\"sans-serif\" font-size=\"11\" font-style=\"normal\" font-weight=\"bold\" width=\"296\" x=\"66\" y=\"296\">002: Guacamoleの</text><text fill=\"rgb(0,0,0)\" font-anchor=\"middle\" font-family=\"sans-serif\" font-size=\"11\" font-style=\"normal\" font-weight=\"bold\" width=\"296\" x=\"66\" y=\"309\">起動</text></a><rect fill=\"rgb(255,255,255)\" height=\"200\" stroke=\"rgb(0,0,0)\" width=\"300\" x=\"64\" y=\"520\"/>\n",
       "  <text fill=\"rgb(0,0,0)\" font-anchor=\"middle\" font-family=\"sans-serif\" font-size=\"9\" font-style=\"normal\" font-weight=\"normal\" width=\"296\" x=\"66\" y=\"611\">Ansible 設定ファイルの後始末</text><text fill=\"rgb(0,0,0)\" font-anchor=\"middle\" font-family=\"sans-serif\" font-size=\"9\" font-style=\"normal\" font-weight=\"normal\" width=\"296\" x=\"66\" y=\"600\">Guacamole環境の削除</text><text fill=\"rgb(0,0,0)\" font-anchor=\"middle\" font-family=\"sans-serif\" font-size=\"9\" font-style=\"normal\" font-weight=\"normal\" width=\"296\" x=\"66\" y=\"589\">パラメータの設定</text><text fill=\"rgb(0,0,0)\" font-anchor=\"middle\" font-family=\"sans-serif\" font-size=\"9\" font-style=\"italic\" font-weight=\"normal\" width=\"296\" x=\"66\" y=\"565\">---</text><a xlink:href=\"./009-Guacamole環境の削除.ipynb\"><text fill=\"rgb(0,0,0)\" font-anchor=\"middle\" font-family=\"sans-serif\" font-size=\"11\" font-style=\"normal\" font-weight=\"bold\" width=\"296\" x=\"66\" y=\"536\">009: Guacamole環境の</text><text fill=\"rgb(0,0,0)\" font-anchor=\"middle\" font-family=\"sans-serif\" font-size=\"11\" font-style=\"normal\" font-weight=\"bold\" width=\"296\" x=\"66\" y=\"549\">削除</text></a><rect fill=\"rgb(255,255,255)\" height=\"200\" stroke=\"rgb(0,0,0)\" width=\"300\" x=\"428\" y=\"40\"/>\n",
       "  <text fill=\"rgb(0,0,0)\" font-anchor=\"middle\" font-family=\"sans-serif\" font-size=\"9\" font-style=\"normal\" font-weight=\"normal\" width=\"296\" x=\"430\" y=\"175\">チェック</text><text fill=\"rgb(0,0,0)\" font-anchor=\"middle\" font-family=\"sans-serif\" font-size=\"9\" font-style=\"normal\" font-weight=\"normal\" width=\"296\" x=\"430\" y=\"164\">リバースプロキシに関するパラメータ</text><text fill=\"rgb(0,0,0)\" font-anchor=\"middle\" font-family=\"sans-serif\" font-size=\"9\" font-style=\"normal\" font-weight=\"normal\" width=\"296\" x=\"430\" y=\"153\">NFSに関するパラメータ</text><text fill=\"rgb(0,0,0)\" font-anchor=\"middle\" font-family=\"sans-serif\" font-size=\"9\" font-style=\"normal\" font-weight=\"normal\" width=\"296\" x=\"430\" y=\"142\">演習環境コンテナに関するパラメータ</text><text fill=\"rgb(0,0,0)\" font-anchor=\"middle\" font-family=\"sans-serif\" font-size=\"9\" font-style=\"normal\" font-weight=\"normal\" width=\"296\" x=\"430\" y=\"131\">LDAPサーバに関するパラメータ</text><text fill=\"rgb(0,0,0)\" font-anchor=\"middle\" font-family=\"sans-serif\" font-size=\"9\" font-style=\"normal\" font-weight=\"normal\" width=\"296\" x=\"430\" y=\"120\">Guacamoleに関するパラメータ</text><text fill=\"rgb(0,0,0)\" font-anchor=\"middle\" font-family=\"sans-serif\" font-size=\"9\" font-style=\"normal\" font-weight=\"normal\" width=\"296\" x=\"430\" y=\"109\">VCノードに関するパラメータ</text><text fill=\"rgb(0,0,0)\" font-anchor=\"middle\" font-family=\"sans-serif\" font-size=\"9\" font-style=\"italic\" font-weight=\"normal\" width=\"296\" x=\"430\" y=\"85\">---</text><a xlink:href=\"./101-パラメータの設定.ipynb\"><text fill=\"rgb(0,0,0)\" font-anchor=\"middle\" font-family=\"sans-serif\" font-size=\"11\" font-style=\"normal\" font-weight=\"bold\" width=\"296\" x=\"430\" y=\"56\">101: パラメータの</text><text fill=\"rgb(0,0,0)\" font-anchor=\"middle\" font-family=\"sans-serif\" font-size=\"11\" font-style=\"normal\" font-weight=\"bold\" width=\"296\" x=\"430\" y=\"69\">設定</text></a><rect fill=\"rgb(255,255,255)\" height=\"200\" stroke=\"rgb(0,0,0)\" width=\"300\" x=\"428\" y=\"280\"/>\n",
       "  <text fill=\"rgb(0,0,0)\" font-anchor=\"middle\" font-family=\"sans-serif\" font-size=\"9\" font-style=\"normal\" font-weight=\"normal\" width=\"296\" x=\"430\" y=\"426\">Guacamoleにアクセスする</text><text fill=\"rgb(0,0,0)\" font-anchor=\"middle\" font-family=\"sans-serif\" font-size=\"9\" font-style=\"normal\" font-weight=\"normal\" width=\"296\" x=\"430\" y=\"415\">演習環境用コンテナイメージの作成と配布</text><text fill=\"rgb(0,0,0)\" font-anchor=\"middle\" font-family=\"sans-serif\" font-size=\"9\" font-style=\"normal\" font-weight=\"normal\" width=\"296\" x=\"430\" y=\"404\">Guacamoleの設定</text><text fill=\"rgb(0,0,0)\" font-anchor=\"middle\" font-family=\"sans-serif\" font-size=\"9\" font-style=\"normal\" font-weight=\"normal\" width=\"296\" x=\"430\" y=\"393\">Guacamoleの起動</text><text fill=\"rgb(0,0,0)\" font-anchor=\"middle\" font-family=\"sans-serif\" font-size=\"9\" font-style=\"normal\" font-weight=\"normal\" width=\"296\" x=\"430\" y=\"382\">Guacamole環境の設定ファイルの配置</text><text fill=\"rgb(0,0,0)\" font-anchor=\"middle\" font-family=\"sans-serif\" font-size=\"9\" font-style=\"normal\" font-weight=\"normal\" width=\"296\" x=\"430\" y=\"371\">Ansibleの設定</text><text fill=\"rgb(0,0,0)\" font-anchor=\"middle\" font-family=\"sans-serif\" font-size=\"9\" font-style=\"normal\" font-weight=\"normal\" width=\"296\" x=\"430\" y=\"360\">VCノードの起動</text><text fill=\"rgb(0,0,0)\" font-anchor=\"middle\" font-family=\"sans-serif\" font-size=\"9\" font-style=\"normal\" font-weight=\"normal\" width=\"296\" x=\"430\" y=\"349\">準備</text><text fill=\"rgb(0,0,0)\" font-anchor=\"middle\" font-family=\"sans-serif\" font-size=\"9\" font-style=\"italic\" font-weight=\"normal\" width=\"296\" x=\"430\" y=\"325\">---</text><a xlink:href=\"./102-Guacamoleの起動.ipynb\"><text fill=\"rgb(0,0,0)\" font-anchor=\"middle\" font-family=\"sans-serif\" font-size=\"11\" font-style=\"normal\" font-weight=\"bold\" width=\"296\" x=\"430\" y=\"296\">102: Guacamoleの</text><text fill=\"rgb(0,0,0)\" font-anchor=\"middle\" font-family=\"sans-serif\" font-size=\"11\" font-style=\"normal\" font-weight=\"bold\" width=\"296\" x=\"430\" y=\"309\">起動</text></a><rect fill=\"rgb(255,255,255)\" height=\"200\" stroke=\"rgb(0,0,0)\" width=\"300\" x=\"428\" y=\"520\"/>\n",
       "  <text fill=\"rgb(0,0,0)\" font-anchor=\"middle\" font-family=\"sans-serif\" font-size=\"9\" font-style=\"normal\" font-weight=\"normal\" width=\"296\" x=\"430\" y=\"611\">Ansible 設定ファイルの後始末</text><text fill=\"rgb(0,0,0)\" font-anchor=\"middle\" font-family=\"sans-serif\" font-size=\"9\" font-style=\"normal\" font-weight=\"normal\" width=\"296\" x=\"430\" y=\"600\">Guacamole環境の削除</text><text fill=\"rgb(0,0,0)\" font-anchor=\"middle\" font-family=\"sans-serif\" font-size=\"9\" font-style=\"normal\" font-weight=\"normal\" width=\"296\" x=\"430\" y=\"589\">パラメータの設定</text><text fill=\"rgb(0,0,0)\" font-anchor=\"middle\" font-family=\"sans-serif\" font-size=\"9\" font-style=\"italic\" font-weight=\"normal\" width=\"296\" x=\"430\" y=\"565\">---</text><a xlink:href=\"./109-Guacamole環境の削除.ipynb\"><text fill=\"rgb(0,0,0)\" font-anchor=\"middle\" font-family=\"sans-serif\" font-size=\"11\" font-style=\"normal\" font-weight=\"bold\" width=\"296\" x=\"430\" y=\"536\">109: Guacamole環境の</text><text fill=\"rgb(0,0,0)\" font-anchor=\"middle\" font-family=\"sans-serif\" font-size=\"11\" font-style=\"normal\" font-weight=\"bold\" width=\"296\" x=\"430\" y=\"549\">削除</text></a><rect fill=\"rgb(255,255,255)\" height=\"200\" stroke=\"rgb(0,0,0)\" width=\"300\" x=\"792\" y=\"40\"/>\n",
       "  <text fill=\"rgb(0,0,0)\" font-anchor=\"middle\" font-family=\"sans-serif\" font-size=\"9\" font-style=\"normal\" font-weight=\"normal\" width=\"296\" x=\"794\" y=\"175\">チェック</text><text fill=\"rgb(0,0,0)\" font-anchor=\"middle\" font-family=\"sans-serif\" font-size=\"9\" font-style=\"normal\" font-weight=\"normal\" width=\"296\" x=\"794\" y=\"164\">リバースプロキシに関するパラメータ</text><text fill=\"rgb(0,0,0)\" font-anchor=\"middle\" font-family=\"sans-serif\" font-size=\"9\" font-style=\"normal\" font-weight=\"normal\" width=\"296\" x=\"794\" y=\"153\">NFSに関するパラメータ</text><text fill=\"rgb(0,0,0)\" font-anchor=\"middle\" font-family=\"sans-serif\" font-size=\"9\" font-style=\"normal\" font-weight=\"normal\" width=\"296\" x=\"794\" y=\"142\">演習環境コンテナに関するパラメータ</text><text fill=\"rgb(0,0,0)\" font-anchor=\"middle\" font-family=\"sans-serif\" font-size=\"9\" font-style=\"normal\" font-weight=\"normal\" width=\"296\" x=\"794\" y=\"131\">LDAPサーバに関するパラメータ</text><text fill=\"rgb(0,0,0)\" font-anchor=\"middle\" font-family=\"sans-serif\" font-size=\"9\" font-style=\"normal\" font-weight=\"normal\" width=\"296\" x=\"794\" y=\"120\">Guacamoleに関するパラメータ</text><text fill=\"rgb(0,0,0)\" font-anchor=\"middle\" font-family=\"sans-serif\" font-size=\"9\" font-style=\"normal\" font-weight=\"normal\" width=\"296\" x=\"794\" y=\"109\">VCノードに関するパラメータ</text><text fill=\"rgb(0,0,0)\" font-anchor=\"middle\" font-family=\"sans-serif\" font-size=\"9\" font-style=\"italic\" font-weight=\"normal\" width=\"296\" x=\"794\" y=\"85\">---</text><a xlink:href=\"./201-パラメータの設定.ipynb\"><text fill=\"rgb(0,0,0)\" font-anchor=\"middle\" font-family=\"sans-serif\" font-size=\"11\" font-style=\"normal\" font-weight=\"bold\" width=\"296\" x=\"794\" y=\"56\">201: パラメータの</text><text fill=\"rgb(0,0,0)\" font-anchor=\"middle\" font-family=\"sans-serif\" font-size=\"11\" font-style=\"normal\" font-weight=\"bold\" width=\"296\" x=\"794\" y=\"69\">設定</text></a><rect fill=\"rgb(255,255,255)\" height=\"200\" stroke=\"rgb(0,0,0)\" width=\"300\" x=\"792\" y=\"280\"/>\n",
       "  <text fill=\"rgb(0,0,0)\" font-anchor=\"middle\" font-family=\"sans-serif\" font-size=\"9\" font-style=\"normal\" font-weight=\"normal\" width=\"296\" x=\"794\" y=\"426\">Guacamoleにアクセスする</text><text fill=\"rgb(0,0,0)\" font-anchor=\"middle\" font-family=\"sans-serif\" font-size=\"9\" font-style=\"normal\" font-weight=\"normal\" width=\"296\" x=\"794\" y=\"415\">演習環境用コンテナイメージの配布</text><text fill=\"rgb(0,0,0)\" font-anchor=\"middle\" font-family=\"sans-serif\" font-size=\"9\" font-style=\"normal\" font-weight=\"normal\" width=\"296\" x=\"794\" y=\"404\">Guacamoleの設定</text><text fill=\"rgb(0,0,0)\" font-anchor=\"middle\" font-family=\"sans-serif\" font-size=\"9\" font-style=\"normal\" font-weight=\"normal\" width=\"296\" x=\"794\" y=\"393\">Guacamoleの起動</text><text fill=\"rgb(0,0,0)\" font-anchor=\"middle\" font-family=\"sans-serif\" font-size=\"9\" font-style=\"normal\" font-weight=\"normal\" width=\"296\" x=\"794\" y=\"382\">Guacamole環境の設定ファイルの配置</text><text fill=\"rgb(0,0,0)\" font-anchor=\"middle\" font-family=\"sans-serif\" font-size=\"9\" font-style=\"normal\" font-weight=\"normal\" width=\"296\" x=\"794\" y=\"371\">Ansibleの設定</text><text fill=\"rgb(0,0,0)\" font-anchor=\"middle\" font-family=\"sans-serif\" font-size=\"9\" font-style=\"normal\" font-weight=\"normal\" width=\"296\" x=\"794\" y=\"360\">VCノードの起動</text><text fill=\"rgb(0,0,0)\" font-anchor=\"middle\" font-family=\"sans-serif\" font-size=\"9\" font-style=\"normal\" font-weight=\"normal\" width=\"296\" x=\"794\" y=\"349\">準備</text><text fill=\"rgb(0,0,0)\" font-anchor=\"middle\" font-family=\"sans-serif\" font-size=\"9\" font-style=\"italic\" font-weight=\"normal\" width=\"296\" x=\"794\" y=\"325\">---</text><a xlink:href=\"./202-Guacamoleの起動.ipynb\"><text fill=\"rgb(0,0,0)\" font-anchor=\"middle\" font-family=\"sans-serif\" font-size=\"11\" font-style=\"normal\" font-weight=\"bold\" width=\"296\" x=\"794\" y=\"296\">202: Guacamoleの</text><text fill=\"rgb(0,0,0)\" font-anchor=\"middle\" font-family=\"sans-serif\" font-size=\"11\" font-style=\"normal\" font-weight=\"bold\" width=\"296\" x=\"794\" y=\"309\">起動</text></a><rect fill=\"rgb(255,255,255)\" height=\"200\" stroke=\"rgb(0,0,0)\" width=\"300\" x=\"792\" y=\"520\"/>\n",
       "  <text fill=\"rgb(0,0,0)\" font-anchor=\"middle\" font-family=\"sans-serif\" font-size=\"9\" font-style=\"normal\" font-weight=\"normal\" width=\"296\" x=\"794\" y=\"611\">演習環境の利用</text><text fill=\"rgb(0,0,0)\" font-anchor=\"middle\" font-family=\"sans-serif\" font-size=\"9\" font-style=\"normal\" font-weight=\"normal\" width=\"296\" x=\"794\" y=\"600\">演習環境用VCノードのスケールアウト</text><text fill=\"rgb(0,0,0)\" font-anchor=\"middle\" font-family=\"sans-serif\" font-size=\"9\" font-style=\"normal\" font-weight=\"normal\" width=\"296\" x=\"794\" y=\"589\">パラメータの設定</text><text fill=\"rgb(0,0,0)\" font-anchor=\"middle\" font-family=\"sans-serif\" font-size=\"9\" font-style=\"italic\" font-weight=\"normal\" width=\"296\" x=\"794\" y=\"565\">---</text><a xlink:href=\"./203-演習環境用VCノードのスケール.ipynb\"><text fill=\"rgb(0,0,0)\" font-anchor=\"middle\" font-family=\"sans-serif\" font-size=\"11\" font-style=\"normal\" font-weight=\"bold\" width=\"296\" x=\"794\" y=\"536\">203: 演習環境用VCノードの</text><text fill=\"rgb(0,0,0)\" font-anchor=\"middle\" font-family=\"sans-serif\" font-size=\"11\" font-style=\"normal\" font-weight=\"bold\" width=\"296\" x=\"794\" y=\"549\">スケールアウト</text></a><rect fill=\"rgb(255,255,255)\" height=\"200\" stroke=\"rgb(0,0,0)\" width=\"300\" x=\"792\" y=\"760\"/>\n",
       "  <text fill=\"rgb(0,0,0)\" font-anchor=\"middle\" font-family=\"sans-serif\" font-size=\"9\" font-style=\"normal\" font-weight=\"normal\" width=\"296\" x=\"794\" y=\"851\">Ansible 設定ファイルの後始末</text><text fill=\"rgb(0,0,0)\" font-anchor=\"middle\" font-family=\"sans-serif\" font-size=\"9\" font-style=\"normal\" font-weight=\"normal\" width=\"296\" x=\"794\" y=\"840\">Guacamole環境の削除</text><text fill=\"rgb(0,0,0)\" font-anchor=\"middle\" font-family=\"sans-serif\" font-size=\"9\" font-style=\"normal\" font-weight=\"normal\" width=\"296\" x=\"794\" y=\"829\">パラメータの設定</text><text fill=\"rgb(0,0,0)\" font-anchor=\"middle\" font-family=\"sans-serif\" font-size=\"9\" font-style=\"italic\" font-weight=\"normal\" width=\"296\" x=\"794\" y=\"805\">---</text><a xlink:href=\"./209-Guacamole環境の削除.ipynb\"><text fill=\"rgb(0,0,0)\" font-anchor=\"middle\" font-family=\"sans-serif\" font-size=\"11\" font-style=\"normal\" font-weight=\"bold\" width=\"296\" x=\"794\" y=\"776\">209: Guacamole環境の</text><text fill=\"rgb(0,0,0)\" font-anchor=\"middle\" font-family=\"sans-serif\" font-size=\"11\" font-style=\"normal\" font-weight=\"bold\" width=\"296\" x=\"794\" y=\"789\">削除</text></a><path d=\"M 214 240 L 214 272\" fill=\"none\" stroke=\"rgb(0,0,0)\"/>\n",
       "  <polygon fill=\"rgb(0,0,0)\" points=\"214,279 210,272 218,272 214,279\" stroke=\"rgb(0,0,0)\"/>\n",
       "  <path d=\"M 214 480 L 214 512\" fill=\"none\" stroke=\"rgb(0,0,0)\"/>\n",
       "  <polygon fill=\"rgb(0,0,0)\" points=\"214,519 210,512 218,512 214,519\" stroke=\"rgb(0,0,0)\"/>\n",
       "  <path d=\"M 578 240 L 578 272\" fill=\"none\" stroke=\"rgb(0,0,0)\"/>\n",
       "  <polygon fill=\"rgb(0,0,0)\" points=\"578,279 574,272 582,272 578,279\" stroke=\"rgb(0,0,0)\"/>\n",
       "  <path d=\"M 578 480 L 578 512\" fill=\"none\" stroke=\"rgb(0,0,0)\"/>\n",
       "  <polygon fill=\"rgb(0,0,0)\" points=\"578,519 574,512 582,512 578,519\" stroke=\"rgb(0,0,0)\"/>\n",
       "  <path d=\"M 942 240 L 942 272\" fill=\"none\" stroke=\"rgb(0,0,0)\"/>\n",
       "  <polygon fill=\"rgb(0,0,0)\" points=\"942,279 938,272 946,272 942,279\" stroke=\"rgb(0,0,0)\"/>\n",
       "  <path d=\"M 942 480 L 942 512\" fill=\"none\" stroke=\"rgb(0,0,0)\"/>\n",
       "  <polygon fill=\"rgb(0,0,0)\" points=\"942,519 938,512 946,512 942,519\" stroke=\"rgb(0,0,0)\"/>\n",
       "  <path d=\"M 942 720 L 942 752\" fill=\"none\" stroke=\"rgb(0,0,0)\"/>\n",
       "  <polygon fill=\"rgb(0,0,0)\" points=\"942,759 938,752 946,752 942,759\" stroke=\"rgb(0,0,0)\"/>\n",
       "  <rect fill=\"none\" height=\"700\" stroke=\"rgb(243,152,0)\" stroke-dasharray=\"12\" stroke-width=\"3\" width=\"316\" x=\"56\" y=\"30\"/>\n",
       "  <rect fill=\"none\" height=\"700\" stroke=\"rgb(243,152,0)\" stroke-dasharray=\"12\" stroke-width=\"3\" width=\"316\" x=\"420\" y=\"30\"/>\n",
       "  <rect fill=\"none\" height=\"940\" stroke=\"rgb(243,152,0)\" stroke-dasharray=\"12\" stroke-width=\"3\" width=\"316\" x=\"784\" y=\"30\"/>\n",
       "  <text fill=\"rgb(0,0,0)\" font-family=\"sans-serif\" font-size=\"11\" font-style=\"normal\" font-weight=\"normal\" text-anchor=\"middle\" textLength=\"66\" x=\"214.0\" y=\"36\">シンプル構成</text>\n",
       "  <text fill=\"rgb(0,0,0)\" font-family=\"sans-serif\" font-size=\"11\" font-style=\"normal\" font-weight=\"normal\" text-anchor=\"middle\" textLength=\"77\" x=\"578.5\" y=\"36\">演習環境の変更</text>\n",
       "  <text fill=\"rgb(0,0,0)\" font-family=\"sans-serif\" font-size=\"11\" font-style=\"normal\" font-weight=\"normal\" text-anchor=\"middle\" textLength=\"66\" x=\"942.0\" y=\"36\">スケール変更</text>\n",
       "</svg>"
      ],
      "text/plain": [
       "<IPython.core.display.SVG object>"
      ]
     },
     "metadata": {},
     "output_type": "display_data"
    }
   ],
   "source": [
    "%%svg\n",
    "images/notebooks.svg"
   ]
  },
  {
   "cell_type": "markdown",
   "metadata": {
    "lc_cell_meme": {
     "current": "9c51e3ba-4af7-11e9-9859-0242ac110002",
     "next": "9c51e40a-4af7-11e9-9859-0242ac110002",
     "previous": "9c51e374-4af7-11e9-9859-0242ac110002"
    }
   },
   "source": [
    "上に示したNotebookは「A.シンプル構成」「B.演習環境の変更」「C.スケール変更」の３つグループに分かれます。各グループのNotebookは、ほぼ同じNotebookの記述内容になっています。これはテンプレートとなるNotebookが存在しており、それをコピーして各構成に合わせたパラメータを記したものになっているためです。\n",
    "\n",
    "![Notebookのグループ毎の関係](images/guacamole-000-02.png)\n",
    "\n",
    "このハンズオンで実際に実行するNotebookの元になったNotebookは `./template/Notebook/` のディレクトリに格納されています。"
   ]
  },
  {
   "cell_type": "markdown",
   "metadata": {
    "lc_cell_meme": {
     "current": "9c51e40a-4af7-11e9-9859-0242ac110002",
     "next": "9c51e450-4af7-11e9-9859-0242ac110002",
     "previous": "9c51e3ba-4af7-11e9-9859-0242ac110002"
    }
   },
   "source": [
    "# ハンズオン環境へのアクセス（参考）"
   ]
  },
  {
   "cell_type": "markdown",
   "metadata": {
    "lc_cell_meme": {
     "current": "9c51e450-4af7-11e9-9859-0242ac110002",
     "next": "9c51e496-4af7-11e9-9859-0242ac110002",
     "previous": "9c51e40a-4af7-11e9-9859-0242ac110002"
    }
   },
   "source": [
    "ハンズオンのNotebook環境にはAWSのパブリックサブネットに配置したNATインスタンスを経由してアクセスできるように設定されています。Notebook環境とVCP SDKによって起動されるVCノードはプライベートサブネットに配置されます。"
   ]
  },
  {
   "cell_type": "markdown",
   "metadata": {
    "lc_cell_meme": {
     "current": "9c51e496-4af7-11e9-9859-0242ac110002",
     "next": "9c51e4dc-4af7-11e9-9859-0242ac110002",
     "previous": "9c51e450-4af7-11e9-9859-0242ac110002"
    }
   },
   "source": [
    "![ハンズオン環境](images/guacamole-000-03.png)"
   ]
  },
  {
   "cell_type": "markdown",
   "metadata": {
    "lc_cell_meme": {
     "current": "9c51e4dc-4af7-11e9-9859-0242ac110002",
     "next": "9c51e522-4af7-11e9-9859-0242ac110002",
     "previous": "9c51e496-4af7-11e9-9859-0242ac110002"
    }
   },
   "source": [
    "# 準備\n",
    "\n",
    "この後に実行するNotebookで必要となるSSHの公開鍵認証のための鍵ファイルを作成します。\n",
    "作成したSSHの鍵ファイルはこのNotebook環境からVCノードにログインする際に利用します。"
   ]
  },
  {
   "cell_type": "markdown",
   "metadata": {
    "lc_cell_meme": {
     "current": "9c51e522-4af7-11e9-9859-0242ac110002",
     "next": "9c51e568-4af7-11e9-9859-0242ac110002",
     "previous": "9c51e4dc-4af7-11e9-9859-0242ac110002"
    }
   },
   "source": [
    "次のセルを実行してください。"
   ]
  },
  {
   "cell_type": "code",
   "execution_count": 2,
   "metadata": {
    "deletable": false,
    "editable": false,
    "lc_cell_meme": {
     "current": "9c51e568-4af7-11e9-9859-0242ac110002",
     "next": null,
     "previous": "9c51e522-4af7-11e9-9859-0242ac110002"
    },
    "run_through_control": {
     "frozen": true
    }
   },
   "outputs": [
    {
     "name": "stdout",
     "output_type": "stream",
     "text": [
      "total 48\r\n",
      "drwx------  2 bit_kun users 4096 Mar 20 18:53 .\r\n",
      "drwxr-xr-x 25 bit_kun users 4096 Mar 20 19:01 ..\r\n",
      "-rw-------  1 bit_kun users 1675 Mar 20 12:03 id_rsa\r\n",
      "-rw-r--r--  1 bit_kun users  402 Mar 20 12:03 id_rsa.pub\r\n",
      "-rw-------  1 bit_kun users 8733 Mar 20 19:04 known_hosts\r\n"
     ]
    }
   ],
   "source": [
    "!mkdir -p -m 700 ~/.ssh\n",
    "!touch ~/.ssh/known_hosts && chmod 600 ~/.ssh/known_hosts\n",
    "!test -f ~/.ssh/id_rsa || ssh-keygen -t rsa -f ~/.ssh/id_rsa -N \"\"\n",
    "!ls -la ~/.ssh"
   ]
  }
 ],
 "metadata": {
  "kernelspec": {
   "display_name": "Python 3",
   "language": "python",
   "name": "python3"
  },
  "language_info": {
   "codemirror_mode": {
    "name": "ipython",
    "version": 3
   },
   "file_extension": ".py",
   "mimetype": "text/x-python",
   "name": "python",
   "nbconvert_exporter": "python",
   "pygments_lexer": "ipython3",
   "version": "3.6.6"
  },
  "lc_notebook_meme": {
   "current": "9c51dfd2-4af7-11e9-9859-0242ac110002",
   "lc_server_signature": {
    "current": {
     "notebook_dir": "/notebooks/notebook",
     "notebook_path": "/handson/guacamole",
     "server_url": "https://ocs1046.vcp-handson.org:8443/handson/",
     "signature_id": "d0c53b60-f9f3-11e8-ad2a-0242ac110002"
    },
    "history": []
   }
  },
  "toc": {
   "base_numbering": 1,
   "nav_menu": {},
   "number_sections": true,
   "sideBar": true,
   "skip_h1_title": false,
   "title_cell": "Table of Contents",
   "title_sidebar": "Contents",
   "toc_cell": false,
   "toc_position": {},
   "toc_section_display": "block",
   "toc_window_display": false
  }
 },
 "nbformat": 4,
 "nbformat_minor": 2
}
