{
 "cells": [
  {
   "cell_type": "markdown",
   "metadata": {
    "lc_cell_meme": {
     "current": "b5ac5710-099e-11ec-afb5-02420a010016-2-261b-09e0",
     "history": [
      {
       "current": "b5ac5710-099e-11ec-afb5-02420a010016-1-261b",
       "next": "b5ac583c-099e-11ec-afb5-02420a010016",
       "previous": null
      },
      {
       "current": "b5ac5710-099e-11ec-afb5-02420a010016-1-261b",
       "next": "b5ac583c-099e-11ec-afb5-02420a010016-1-7928",
       "previous": null
      },
      {
       "current": "b5ac5710-099e-11ec-afb5-02420a010016-1-261b",
       "next": "b5ac5710-099e-11ec-afb5-02420a010016-2-261b-1e83",
       "previous": null
      },
      {
       "current": "b5ac5710-099e-11ec-afb5-02420a010016-2-261b-09e0",
       "next": "b5ac583c-099e-11ec-afb5-02420a010016-1-7928",
       "previous": null
      }
     ],
     "next": "b5ac583c-099e-11ec-afb5-02420a010016-2-7928-ea3f",
     "previous": null
    }
   },
   "source": [
    "# MNISTの学習とモデル・重みの保存\n",
    "\n",
    "---\n",
    "\n",
    "まず、[OpenHPC-v2テンプレート](https://github.com/nii-gakunin-cloud/ocs-templates/tree/master/OpenHPC-v2)のクローンを作成し、以下の手順で学習システムを構築してください。OpenHPC-v2のテンプレートは内部で複数のテンプレートに分かれています。実行順序はテンプレートの番号順ではありません。\n",
    "\n",
    "1. 010-パラメータ設定.ipynb\n",
    "1. 020-OpenHPCの起動.ipynb\n",
    "1. 032-設定ファイルの編集-GRESの登録.ipynb\n",
    "1. 071-DockerEngineのインストール.ipynb\n",
    "1. 051-ユーザの追加.ipynb\n",
    "1. 152-NGCのコンテナ実行-TensorFlow.ipynb\n",
    "\n",
    "これらテンプレートの実行により、GPU ノードを使用する TensorFlow の環境が構築されます。この環境は、本ハンズオン以外の機械学習にも利用できます。\n",
    "\n",
    "次に、本テンプレートを使用して手書き数字認識アプリである MNIST の学習を、構築した OpenHPC 環境で実行し、結果のモデル・重みを保存します。OpenHPCテンプレートの`152-NGCのコンテナ実行-TensorFlow.ipynb`にも MNIST の学習ステップがありますが、モデル・重みを保存していないため本テンプレートを用意しました。\n",
    "\n",
    "学習が終わったら、`2.Recognition_system`で手書き認識を試しください。\n",
    "\n",
    "OpenHPC環境を削除するには、OpenHPC テンプレートの`920-OpenHPC環境の削除.ipynb`を実行します。\n",
    "\n",
    "もし、OpenHPC環境を後日再度利用する可能性がある場合、次の２つの方法があります。\n",
    "\n",
    "* '920-OpenHPC環境の削除.ipynb'で環境を削除し、再び必要になった時に、上記ステップで再構築します。再構築には時間と手間を要しますが、削除から再構築までの間のコストはかかりません。\n",
    "* 再利用する可能性がある場合は、'920-OpenHPC環境の削除.ipynb'で環境を削除せずに、'911-ノードの停止.ipynb'で環境を停止し、再び必要になった時に '912-ノードの再開.ipynb' で再起動します。迅速に環境を再現できますが、停止中も若干のコストが発生します。"
   ]
  },
  {
   "cell_type": "markdown",
   "metadata": {
    "lc_cell_meme": {
     "current": "b5ac583c-099e-11ec-afb5-02420a010016-2-7928-ea3f",
     "history": [
      {
       "current": "b5ac583c-099e-11ec-afb5-02420a010016",
       "next": "b5ac58e6-099e-11ec-afb5-02420a010016",
       "previous": "b5ac5710-099e-11ec-afb5-02420a010016"
      },
      {
       "current": "b5ac583c-099e-11ec-afb5-02420a010016-1-7928",
       "next": "b5ac5a08-099e-11ec-afb5-02420a010016",
       "previous": "b5ac5710-099e-11ec-afb5-02420a010016"
      },
      {
       "current": "b5ac583c-099e-11ec-afb5-02420a010016-1-7928",
       "next": "b5ac5a08-099e-11ec-afb5-02420a010016-1-46f7",
       "previous": "b5ac5710-099e-11ec-afb5-02420a010016-1-261b"
      },
      {
       "current": "b5ac583c-099e-11ec-afb5-02420a010016-1-7928",
       "next": "b5ac5a08-099e-11ec-afb5-02420a010016-1-46f7",
       "previous": "b5ac5710-099e-11ec-afb5-02420a010016-2-261b-1e83"
      },
      {
       "current": "b5ac583c-099e-11ec-afb5-02420a010016-2-7928-ea3f",
       "next": "b5ac5a08-099e-11ec-afb5-02420a010016-1-46f7",
       "previous": "b5ac5710-099e-11ec-afb5-02420a010016-1-261b"
      }
     ],
     "next": "b5ac5a08-099e-11ec-afb5-02420a010016-2-46f7-83ae",
     "previous": "b5ac5710-099e-11ec-afb5-02420a010016-2-261b-09e0"
    }
   },
   "source": [
    "## 実行パラメタの修正\n",
    "\n",
    "必要に応じ、実行するためのパラメタを記入・修正してください。\n",
    "* ohpc_path は OpenHPC 構築時に使用した作業ディレクトリのパスを指定してください。（例：~/ocs-templates/OpenHPC-v2/work）\n",
    "* save_dir は、本ハンズオン教材を展開するディレクトリにより異なりますので、各自の環境に合わせて記入してください"
   ]
  },
  {
   "cell_type": "code",
   "execution_count": null,
   "metadata": {
    "lc_cell_meme": {
     "current": "b5ac5a08-099e-11ec-afb5-02420a010016-2-46f7-83ae",
     "history": [
      {
       "current": "b5ac5a08-099e-11ec-afb5-02420a010016",
       "next": "b5ac5a94-099e-11ec-afb5-02420a010016",
       "previous": "b5ac597c-099e-11ec-afb5-02420a010016"
      },
      {
       "current": "b5ac5a08-099e-11ec-afb5-02420a010016",
       "next": "b5ac5b98-099e-11ec-afb5-02420a010016",
       "previous": "b5ac597c-099e-11ec-afb5-02420a010016"
      },
      {
       "current": "b5ac5a08-099e-11ec-afb5-02420a010016",
       "next": "b5ac5ca6-099e-11ec-afb5-02420a010016",
       "previous": "b5ac597c-099e-11ec-afb5-02420a010016"
      },
      {
       "current": "b5ac5a08-099e-11ec-afb5-02420a010016-1-46f7",
       "next": "b5ac5ca6-099e-11ec-afb5-02420a010016",
       "previous": "b5ac583c-099e-11ec-afb5-02420a010016"
      },
      {
       "current": "b5ac5a08-099e-11ec-afb5-02420a010016-2-46f7-83ae",
       "next": "b5ac5ca6-099e-11ec-afb5-02420a010016-1-9f2a",
       "previous": "b5ac583c-099e-11ec-afb5-02420a010016-1-7928"
      }
     ],
     "next": "b5ac5ca6-099e-11ec-afb5-02420a010016-2-9f2a-7efb",
     "previous": "b5ac583c-099e-11ec-afb5-02420a010016-2-7928-ea3f"
    },
    "lc_wrapper": {
     "log_history": [
      "/home/user513xb92482/ocs-templates/OpenHPC-v2/work-mnist/.log/20210830/20210830-232803-0073.log",
      "/home/user513xb92482/ocs-templates/OpenHPC-v2/work-mnist/.log/20210831/20210831-110141-0165.log",
      "/home/user513xb92482/ocs-templates/OpenHPC-v2/work-mnist/.log/20210831/20210831-115202-0291.log",
      "/home/user513xb92482/ocs-templates/OpenHPC-v2/work-mnist/.log/20210901/20210901-135233-0402.log",
      "/home/user513xb92482/ocs-templates/OpenHPC-v2/work-mnist/.log/20210902/20210902-120804-0080.log",
      "/home/user513xb92482/ocs-templates/OpenHPC-v2/work-mnist/.log/20210902/20210902-163516-0980.log",
      "/home/user513xb92482/ocs-templates/OpenHPC-v2/work-mnist/.log/20210902/20210902-212231-0173.log",
      "/home/user513xb92482/ocs-templates/OpenHPC-v2/work-mnist/.log/20210903/20210903-100506-0340.log",
      "/home/user513xb92482/ocs-templates/OpenHPC-v2/work-mnist/.log/20210903/20210903-120647-0493.log",
      "/home/user513xb92482/ocs-templates/OpenHPC-v2/work-mnist/.log/20210903/20210903-155215-0884.log",
      "/notebooks/notebook/SAGA_home/210903.handson_cloudweek_2021/Deriver/2109.Recog_with_OpenHPC_template/1.OpenHPC-v2_system/.log/20210914/20210914-134740-0655.log",
      "/notebooks/notebook/SAGA_home/210903.handson_cloudweek_2021/Deriver/2109.Recog_with_OpenHPC_template/1.OpenHPC-v2_system/.log/20210914/20210914-143245-0665.log",
      "/notebooks/notebook/SAGA_home/210903.handson_cloudweek_2021/Deriver/2109.Recog_with_OpenHPC_template/1.OpenHPC-v2_system/.log/20210914/20210914-143434-0306.log"
     ]
    },
    "tags": [
     "vcp:skip",
     "vcp:parameters"
    ]
   },
   "outputs": [],
   "source": [
    "# slurmマスターノードのIPアドレス\n",
    "master_address = '172.30.2.120'\n",
    "\n",
    "# MNISTの学習を実行するユーザー名\n",
    "user = 'user00'\n",
    "\n",
    "# 上記ユーザーのSSH秘密鍵\n",
    "ssh_identity = '~/.ssh/id_rsa'\n",
    "\n",
    "# 学習済みモデル・重みファイルの保存先ディレクトリ\n",
    "save_dir = '../2.Recognition_system/data'"
   ]
  },
  {
   "cell_type": "markdown",
   "metadata": {
    "lc_cell_meme": {
     "current": "b5ac5ca6-099e-11ec-afb5-02420a010016-2-9f2a-7efb",
     "history": [
      {
       "current": "b5ac5ca6-099e-11ec-afb5-02420a010016",
       "next": "b5ac5d28-099e-11ec-afb5-02420a010016",
       "previous": "b5ac5c24-099e-11ec-afb5-02420a010016"
      },
      {
       "current": "b5ac5ca6-099e-11ec-afb5-02420a010016",
       "next": "b5ac5d28-099e-11ec-afb5-02420a010016",
       "previous": "b5ac5a08-099e-11ec-afb5-02420a010016"
      },
      {
       "current": "b5ac5ca6-099e-11ec-afb5-02420a010016-1-9f2a",
       "next": "d58914b4-0a03-11ec-afb5-02420a010016",
       "previous": "b5ac5a08-099e-11ec-afb5-02420a010016"
      },
      {
       "current": "b5ac5ca6-099e-11ec-afb5-02420a010016-2-9f2a-7efb",
       "next": "d58914b4-0a03-11ec-afb5-02420a010016-1-c486",
       "previous": "b5ac5a08-099e-11ec-afb5-02420a010016-1-46f7"
      }
     ],
     "next": "d58914b4-0a03-11ec-afb5-02420a010016-2-c486-5966",
     "previous": "b5ac5a08-099e-11ec-afb5-02420a010016-2-46f7-83ae"
    }
   },
   "source": [
    "## 実行環境の確認"
   ]
  },
  {
   "cell_type": "markdown",
   "metadata": {
    "lc_cell_meme": {
     "current": "d58914b4-0a03-11ec-afb5-02420a010016-2-c486-5966",
     "history": [
      {
       "current": "d58914b4-0a03-11ec-afb5-02420a010016-1-c486",
       "next": "b5ac5d28-099e-11ec-afb5-02420a010016-1-ba84",
       "previous": "b5ac5ca6-099e-11ec-afb5-02420a010016"
      },
      {
       "current": "d58914b4-0a03-11ec-afb5-02420a010016-2-c486-5966",
       "next": "b5ac5d28-099e-11ec-afb5-02420a010016-2-ba84-0246",
       "previous": "b5ac5ca6-099e-11ec-afb5-02420a010016-1-9f2a"
      }
     ],
     "next": "b5ac5d28-099e-11ec-afb5-02420a010016-3-ba84-0246-c11c",
     "previous": "b5ac5ca6-099e-11ec-afb5-02420a010016-2-9f2a-7efb"
    }
   },
   "source": [
    "実行時のパラメタを設定します。"
   ]
  },
  {
   "cell_type": "code",
   "execution_count": null,
   "metadata": {
    "lc_cell_meme": {
     "current": "b5ac5d28-099e-11ec-afb5-02420a010016-3-ba84-0246-c11c",
     "history": [
      {
       "current": "b5ac5d28-099e-11ec-afb5-02420a010016",
       "next": "b5ac5daa-099e-11ec-afb5-02420a010016",
       "previous": "b5ac5ca6-099e-11ec-afb5-02420a010016"
      },
      {
       "current": "b5ac5d28-099e-11ec-afb5-02420a010016-1-ba84",
       "next": "b5ac5f30-099e-11ec-afb5-02420a010016",
       "previous": "b5ac5ca6-099e-11ec-afb5-02420a010016"
      },
      {
       "current": "b5ac5d28-099e-11ec-afb5-02420a010016-2-ba84-0246",
       "next": "b5ac5fbc-099e-11ec-afb5-02420a010016",
       "previous": "d58914b4-0a03-11ec-afb5-02420a010016"
      },
      {
       "current": "b5ac5d28-099e-11ec-afb5-02420a010016-3-ba84-0246-c11c",
       "next": "b5ac5fbc-099e-11ec-afb5-02420a010016-1-e8bf",
       "previous": "d58914b4-0a03-11ec-afb5-02420a010016-1-c486"
      }
     ],
     "next": "b5ac5fbc-099e-11ec-afb5-02420a010016-2-e8bf-25cd",
     "previous": "d58914b4-0a03-11ec-afb5-02420a010016-2-c486-5966"
    },
    "lc_wrapper": {
     "log_history": [
      "/home/user513xb92482/ocs-templates/OpenHPC-v2/work-mnist/.log/20210830/20210830-232824-0891.log",
      "/home/user513xb92482/ocs-templates/OpenHPC-v2/work-mnist/.log/20210831/20210831-110158-0553.log",
      "/home/user513xb92482/ocs-templates/OpenHPC-v2/work-mnist/.log/20210831/20210831-110404-0862.log",
      "/home/user513xb92482/ocs-templates/OpenHPC-v2/work-mnist/.log/20210831/20210831-115206-0007.log",
      "/home/user513xb92482/ocs-templates/OpenHPC-v2/work-mnist/.log/20210901/20210901-135237-0523.log",
      "/home/user513xb92482/ocs-templates/OpenHPC-v2/work-mnist/.log/20210902/20210902-120806-0750.log",
      "/home/user513xb92482/ocs-templates/OpenHPC-v2/work-mnist/.log/20210902/20210902-163527-0445.log",
      "/home/user513xb92482/ocs-templates/OpenHPC-v2/work-mnist/.log/20210902/20210902-212236-0456.log",
      "/home/user513xb92482/ocs-templates/OpenHPC-v2/work-mnist/.log/20210903/20210903-100512-0121.log",
      "/home/user513xb92482/ocs-templates/OpenHPC-v2/work-mnist/.log/20210903/20210903-120651-0933.log",
      "/home/user513xb92482/ocs-templates/OpenHPC-v2/work-mnist/.log/20210903/20210903-155222-0455.log",
      "/notebooks/notebook/SAGA_home/210903.handson_cloudweek_2021/Deriver/2109.Recog_with_OpenHPC_template/1.OpenHPC-v2_system/.log/20210914/20210914-134745-0931.log",
      "/notebooks/notebook/SAGA_home/210903.handson_cloudweek_2021/Deriver/2109.Recog_with_OpenHPC_template/1.OpenHPC-v2_system/.log/20210914/20210914-143440-0762.log"
     ]
    },
    "scrolled": true,
    "tags": [
     "vcp:parameters"
    ]
   },
   "outputs": [],
   "source": [
    "# ユーザ名とホスト名\n",
    "target = f'{user}@{master_address}'\n",
    "# print(target)\n",
    "\n",
    "# SSHのコマンドライン引数\n",
    "ssh_opts = f'-i {ssh_identity}' if 'ssh_identity' in vars() else ''\n",
    "# print(ssh_opts)\n",
    "\n",
    "# 使用するノード数\n",
    "nodes = 1"
   ]
  },
  {
   "cell_type": "markdown",
   "metadata": {
    "lc_cell_meme": {
     "current": "b5ac5fbc-099e-11ec-afb5-02420a010016-2-e8bf-25cd",
     "history": [
      {
       "current": "b5ac5fbc-099e-11ec-afb5-02420a010016",
       "next": "b5ac603e-099e-11ec-afb5-02420a010016",
       "previous": "b5ac5f30-099e-11ec-afb5-02420a010016"
      },
      {
       "current": "b5ac5fbc-099e-11ec-afb5-02420a010016-1-e8bf",
       "next": "b5ac603e-099e-11ec-afb5-02420a010016",
       "previous": "b5ac5d28-099e-11ec-afb5-02420a010016-1-ba84"
      },
      {
       "current": "b5ac5fbc-099e-11ec-afb5-02420a010016-2-e8bf-25cd",
       "next": "b5ac603e-099e-11ec-afb5-02420a010016-1-40bf",
       "previous": "b5ac5d28-099e-11ec-afb5-02420a010016-2-ba84-0246"
      }
     ],
     "next": "b5ac603e-099e-11ec-afb5-02420a010016-2-40bf-2300",
     "previous": "b5ac5d28-099e-11ec-afb5-02420a010016-3-ba84-0246-c11c"
    }
   },
   "source": [
    "計算ノードで Docker を利用できることを確認します。エラーが出ないことを確認してください。"
   ]
  },
  {
   "cell_type": "code",
   "execution_count": null,
   "metadata": {
    "lc_cell_meme": {
     "current": "b5ac603e-099e-11ec-afb5-02420a010016-2-40bf-2300",
     "history": [
      {
       "current": "b5ac603e-099e-11ec-afb5-02420a010016-1-40bf",
       "next": "b5ac60c0-099e-11ec-afb5-02420a010016",
       "previous": "b5ac5fbc-099e-11ec-afb5-02420a010016"
      },
      {
       "current": "b5ac603e-099e-11ec-afb5-02420a010016-2-40bf-2300",
       "next": "b5ac60c0-099e-11ec-afb5-02420a010016-1-a839",
       "previous": "b5ac5fbc-099e-11ec-afb5-02420a010016-1-e8bf"
      }
     ],
     "next": "b5ac60c0-099e-11ec-afb5-02420a010016-2-a839-b2cf",
     "previous": "b5ac5fbc-099e-11ec-afb5-02420a010016-2-e8bf-25cd"
    },
    "lc_wrapper": {
     "log_history": [
      "/home/user513xb92482/ocs-templates/OpenHPC-v2/work-mnist/.log/20210830/20210830-232843-0916.log",
      "/home/user513xb92482/ocs-templates/OpenHPC-v2/work-mnist/.log/20210831/20210831-110300-0744.log",
      "/home/user513xb92482/ocs-templates/OpenHPC-v2/work-mnist/.log/20210831/20210831-110420-0641.log",
      "/home/user513xb92482/ocs-templates/OpenHPC-v2/work-mnist/.log/20210831/20210831-110654-0884.log",
      "/home/user513xb92482/ocs-templates/OpenHPC-v2/work-mnist/.log/20210831/20210831-115206-0026.log",
      "/home/user513xb92482/ocs-templates/OpenHPC-v2/work-mnist/.log/20210901/20210901-135237-0556.log",
      "/home/user513xb92482/ocs-templates/OpenHPC-v2/work-mnist/.log/20210902/20210902-120806-0772.log",
      "/home/user513xb92482/ocs-templates/OpenHPC-v2/work-mnist/.log/20210902/20210902-163535-0243.log",
      "/home/user513xb92482/ocs-templates/OpenHPC-v2/work-mnist/.log/20210902/20210902-212243-0032.log",
      "/home/user513xb92482/ocs-templates/OpenHPC-v2/work-mnist/.log/20210903/20210903-100517-0356.log",
      "/home/user513xb92482/ocs-templates/OpenHPC-v2/work-mnist/.log/20210903/20210903-120655-0489.log",
      "/home/user513xb92482/ocs-templates/OpenHPC-v2/work-mnist/.log/20210903/20210903-155230-0355.log",
      "/notebooks/notebook/SAGA_home/210903.handson_cloudweek_2021/Deriver/2109.Recog_with_OpenHPC_template/1.OpenHPC-v2_system/.log/20210914/20210914-134751-0806.log",
      "/notebooks/notebook/SAGA_home/210903.handson_cloudweek_2021/Deriver/2109.Recog_with_OpenHPC_template/1.OpenHPC-v2_system/.log/20210914/20210914-143445-0669.log"
     ]
    },
    "scrolled": true
   },
   "outputs": [],
   "source": [
    "!ssh {ssh_opts} {target} 'srun -N {nodes} docker info'"
   ]
  },
  {
   "cell_type": "markdown",
   "metadata": {
    "lc_cell_meme": {
     "current": "b5ac60c0-099e-11ec-afb5-02420a010016-2-a839-b2cf",
     "history": [
      {
       "current": "b5ac60c0-099e-11ec-afb5-02420a010016-1-a839",
       "next": "b5ac614c-099e-11ec-afb5-02420a010016",
       "previous": "b5ac603e-099e-11ec-afb5-02420a010016"
      },
      {
       "current": "b5ac60c0-099e-11ec-afb5-02420a010016-2-a839-b2cf",
       "next": "b5ac614c-099e-11ec-afb5-02420a010016-1-be3c",
       "previous": "b5ac603e-099e-11ec-afb5-02420a010016-1-40bf"
      }
     ],
     "next": "b5ac614c-099e-11ec-afb5-02420a010016-2-be3c-6555",
     "previous": "b5ac603e-099e-11ec-afb5-02420a010016-2-40bf-2300"
    }
   },
   "source": [
    "上のセルがエラーになった場合は Docker Engineがインストールされていないか docker を実行する権限が与えられていません。\n",
    "\n",
    "以下のようなエラーが表示された場合は Docker Engine がインストールされていません。OpenHPCテンプレート作業ディレクトリで「071-DockerEngineのインストール.ipynb」を実行してDocker Engineを利用できるようにしてください。\n",
    "```\n",
    "slurmstepd: error: execve(): docker: No such file or directory\n",
    "```\n",
    "\n",
    "また、以下のようなエラーが表示された場合は docker を実行する権限が与えられていません。OpenHPCテンプレート作業ディレクトリの「051-ユーザの追加.ipynb」の「グループの追加」などを参考に`docker`グループへの追加を行ってください。\n",
    "```\n",
    "ERROR: Got permission denied while trying to connect to the Docker daemon socket at unix:///var/run/docker.sock: \n",
    "```"
   ]
  },
  {
   "cell_type": "markdown",
   "metadata": {
    "lc_cell_meme": {
     "current": "b5ac614c-099e-11ec-afb5-02420a010016-2-be3c-6555",
     "history": [
      {
       "current": "b5ac614c-099e-11ec-afb5-02420a010016-1-be3c",
       "next": "b5ac61ce-099e-11ec-afb5-02420a010016",
       "previous": "b5ac60c0-099e-11ec-afb5-02420a010016"
      },
      {
       "current": "b5ac614c-099e-11ec-afb5-02420a010016-2-be3c-6555",
       "next": "b5ac61ce-099e-11ec-afb5-02420a010016-1-ad71",
       "previous": "b5ac60c0-099e-11ec-afb5-02420a010016-1-a839"
      }
     ],
     "next": "b5ac61ce-099e-11ec-afb5-02420a010016-2-ad71-eb50",
     "previous": "b5ac60c0-099e-11ec-afb5-02420a010016-2-a839-b2cf"
    }
   },
   "source": [
    "SlurmのGeneric Resource(GRES)としてGPUが登録されていることを確認します。gpuが1以上になっていることを確認してください。"
   ]
  },
  {
   "cell_type": "code",
   "execution_count": null,
   "metadata": {
    "lc_cell_meme": {
     "current": "b5ac61ce-099e-11ec-afb5-02420a010016-2-ad71-eb50",
     "history": [
      {
       "current": "b5ac61ce-099e-11ec-afb5-02420a010016-1-ad71",
       "next": "b5ac6250-099e-11ec-afb5-02420a010016",
       "previous": "b5ac614c-099e-11ec-afb5-02420a010016"
      },
      {
       "current": "b5ac61ce-099e-11ec-afb5-02420a010016-2-ad71-eb50",
       "next": "b5ac6250-099e-11ec-afb5-02420a010016-1-8ffe",
       "previous": "b5ac614c-099e-11ec-afb5-02420a010016-1-be3c"
      }
     ],
     "next": "b5ac6250-099e-11ec-afb5-02420a010016-2-8ffe-a159",
     "previous": "b5ac614c-099e-11ec-afb5-02420a010016-2-be3c-6555"
    },
    "lc_wrapper": {
     "log_history": [
      "/home/user513xb92482/ocs-templates/OpenHPC-v2/work-mnist/.log/20210830/20210830-232915-0108.log",
      "/home/user513xb92482/ocs-templates/OpenHPC-v2/work-mnist/.log/20210831/20210831-110715-0743.log",
      "/home/user513xb92482/ocs-templates/OpenHPC-v2/work-mnist/.log/20210831/20210831-115207-0847.log",
      "/home/user513xb92482/ocs-templates/OpenHPC-v2/work-mnist/.log/20210901/20210901-135239-0376.log",
      "/home/user513xb92482/ocs-templates/OpenHPC-v2/work-mnist/.log/20210902/20210902-163544-0670.log",
      "/home/user513xb92482/ocs-templates/OpenHPC-v2/work-mnist/.log/20210902/20210902-212252-0182.log",
      "/home/user513xb92482/ocs-templates/OpenHPC-v2/work-mnist/.log/20210903/20210903-100528-0132.log",
      "/home/user513xb92482/ocs-templates/OpenHPC-v2/work-mnist/.log/20210903/20210903-120703-0159.log",
      "/home/user513xb92482/ocs-templates/OpenHPC-v2/work-mnist/.log/20210903/20210903-155240-0375.log",
      "/notebooks/notebook/SAGA_home/210903.handson_cloudweek_2021/Deriver/2109.Recog_with_OpenHPC_template/1.OpenHPC-v2_system/.log/20210914/20210914-134803-0144.log",
      "/notebooks/notebook/SAGA_home/210903.handson_cloudweek_2021/Deriver/2109.Recog_with_OpenHPC_template/1.OpenHPC-v2_system/.log/20210914/20210914-143453-0639.log"
     ]
    }
   },
   "outputs": [],
   "source": [
    "!ssh {ssh_opts} {target} sinfo -N --Format=NodeHost,Gres | grep -w gpu"
   ]
  },
  {
   "cell_type": "markdown",
   "metadata": {
    "lc_cell_meme": {
     "current": "b5ac6250-099e-11ec-afb5-02420a010016-2-8ffe-a159",
     "history": [
      {
       "current": "b5ac6250-099e-11ec-afb5-02420a010016-1-8ffe",
       "next": "b5ac62d2-099e-11ec-afb5-02420a010016",
       "previous": "b5ac61ce-099e-11ec-afb5-02420a010016"
      },
      {
       "current": "b5ac6250-099e-11ec-afb5-02420a010016-2-8ffe-a159",
       "next": "b5ac62d2-099e-11ec-afb5-02420a010016-1-5dd0",
       "previous": "b5ac61ce-099e-11ec-afb5-02420a010016-1-ad71"
      }
     ],
     "next": "b5ac62d2-099e-11ec-afb5-02420a010016-2-5dd0-d87d",
     "previous": "b5ac61ce-099e-11ec-afb5-02420a010016-2-ad71-eb50"
    }
   },
   "source": [
    "上のセルがエラーになった場合はSlurmにGPUがGRESとして登録されていません。OpenHPCテンプレート作業ディレクトリで「032-設定ファイルの編集-GRESの登録.ipynb」を実行してGRESの設定をしてください。"
   ]
  },
  {
   "cell_type": "markdown",
   "metadata": {
    "lc_cell_meme": {
     "current": "b5ac62d2-099e-11ec-afb5-02420a010016-2-5dd0-d87d",
     "history": [
      {
       "current": "b5ac62d2-099e-11ec-afb5-02420a010016",
       "next": "b5ac6354-099e-11ec-afb5-02420a010016",
       "previous": "b5ac6250-099e-11ec-afb5-02420a010016"
      },
      {
       "current": "b5ac62d2-099e-11ec-afb5-02420a010016",
       "next": "b5ac63d6-099e-11ec-afb5-02420a010016",
       "previous": "b5ac6250-099e-11ec-afb5-02420a010016"
      },
      {
       "current": "b5ac62d2-099e-11ec-afb5-02420a010016",
       "next": "b5ac6700-099e-11ec-afb5-02420a010016",
       "previous": "b5ac6250-099e-11ec-afb5-02420a010016"
      },
      {
       "current": "b5ac62d2-099e-11ec-afb5-02420a010016-1-5dd0",
       "next": "3b3d869a-0a05-11ec-afb5-02420a010016",
       "previous": "b5ac6250-099e-11ec-afb5-02420a010016"
      },
      {
       "current": "b5ac62d2-099e-11ec-afb5-02420a010016-2-5dd0-d87d",
       "next": "3b3d869a-0a05-11ec-afb5-02420a010016-1-0312",
       "previous": "b5ac6250-099e-11ec-afb5-02420a010016-1-8ffe"
      }
     ],
     "next": "3b3d869a-0a05-11ec-afb5-02420a010016-2-0312-7058",
     "previous": "b5ac6250-099e-11ec-afb5-02420a010016-2-8ffe-a159"
    }
   },
   "source": [
    "## OpenHPC 環境で MNIST の学習"
   ]
  },
  {
   "cell_type": "markdown",
   "metadata": {
    "lc_cell_meme": {
     "current": "3b3d869a-0a05-11ec-afb5-02420a010016-2-0312-7058",
     "history": [
      {
       "current": "3b3d869a-0a05-11ec-afb5-02420a010016-1-0312",
       "next": "b5ac678c-099e-11ec-afb5-02420a010016",
       "previous": "b5ac62d2-099e-11ec-afb5-02420a010016"
      },
      {
       "current": "3b3d869a-0a05-11ec-afb5-02420a010016-2-0312-7058",
       "next": "b5ac678c-099e-11ec-afb5-02420a010016-1-a63e",
       "previous": "b5ac62d2-099e-11ec-afb5-02420a010016-1-5dd0"
      }
     ],
     "next": "b5ac678c-099e-11ec-afb5-02420a010016-2-a63e-31f6",
     "previous": "b5ac62d2-099e-11ec-afb5-02420a010016-2-5dd0-d87d"
    }
   },
   "source": [
    "### 実行準備\n",
    "TensorFlow/MNISTの実行環境を用意します。"
   ]
  },
  {
   "cell_type": "code",
   "execution_count": null,
   "metadata": {
    "lc_cell_meme": {
     "current": "b5ac678c-099e-11ec-afb5-02420a010016-2-a63e-31f6",
     "history": [
      {
       "current": "b5ac678c-099e-11ec-afb5-02420a010016",
       "next": "b5ac680e-099e-11ec-afb5-02420a010016",
       "previous": "b5ac6700-099e-11ec-afb5-02420a010016"
      },
      {
       "current": "b5ac678c-099e-11ec-afb5-02420a010016",
       "next": "b5ac6b38-099e-11ec-afb5-02420a010016",
       "previous": "b5ac6700-099e-11ec-afb5-02420a010016"
      },
      {
       "current": "b5ac678c-099e-11ec-afb5-02420a010016-1-a63e",
       "next": "b5ac6b38-099e-11ec-afb5-02420a010016",
       "previous": "3b3d869a-0a05-11ec-afb5-02420a010016"
      },
      {
       "current": "b5ac678c-099e-11ec-afb5-02420a010016-2-a63e-31f6",
       "next": "b5ac6b38-099e-11ec-afb5-02420a010016-1-8ebe",
       "previous": "3b3d869a-0a05-11ec-afb5-02420a010016-1-0312"
      }
     ],
     "next": "b5ac6b38-099e-11ec-afb5-02420a010016-2-8ebe-5b35",
     "previous": "3b3d869a-0a05-11ec-afb5-02420a010016-2-0312-7058"
    },
    "lc_wrapper": {
     "log_history": [
      "/home/user513xb92482/ocs-templates/OpenHPC-v2/work-mnist/.log/20210830/20210830-233615-0137.log",
      "/home/user513xb92482/ocs-templates/OpenHPC-v2/work-mnist/.log/20210831/20210831-110908-0240.log",
      "/home/user513xb92482/ocs-templates/OpenHPC-v2/work-mnist/.log/20210831/20210831-115214-0163.log",
      "/home/user513xb92482/ocs-templates/OpenHPC-v2/work-mnist/.log/20210901/20210901-135244-0152.log",
      "/home/user513xb92482/ocs-templates/OpenHPC-v2/work-mnist/.log/20210902/20210902-163556-0023.log",
      "/home/user513xb92482/ocs-templates/OpenHPC-v2/work-mnist/.log/20210902/20210902-212258-0782.log",
      "/home/user513xb92482/ocs-templates/OpenHPC-v2/work-mnist/.log/20210902/20210902-214154-0251.log",
      "/home/user513xb92482/ocs-templates/OpenHPC-v2/work-mnist/.log/20210903/20210903-100540-0738.log",
      "/home/user513xb92482/ocs-templates/OpenHPC-v2/work-mnist/.log/20210903/20210903-120727-0074.log",
      "/home/user513xb92482/ocs-templates/OpenHPC-v2/work-mnist/.log/20210903/20210903-155303-0311.log",
      "/notebooks/notebook/SAGA_home/210903.handson_cloudweek_2021/Deriver/2109.Recog_with_OpenHPC_template/1.OpenHPC-v2_system/.log/20210914/20210914-134817-0180.log",
      "/notebooks/notebook/SAGA_home/210903.handson_cloudweek_2021/Deriver/2109.Recog_with_OpenHPC_template/1.OpenHPC-v2_system/.log/20210914/20210914-135036-0539.log",
      "/notebooks/notebook/SAGA_home/210903.handson_cloudweek_2021/Deriver/2109.Recog_with_OpenHPC_template/1.OpenHPC-v2_system/.log/20210914/20210914-143459-0764.log"
     ]
    }
   },
   "outputs": [],
   "source": [
    "# OpenHPC環境に、データやスクリプトを配置するディレクトリを作成\n",
    "work_dir = 'tensorflow'\n",
    "!ssh {ssh_opts} {target} mkdir -p {work_dir}\n",
    "\n",
    "# スクリプトの転送\n",
    "!scp {ssh_opts} scripts/download_mnist.py {target}:{work_dir}\n",
    "!scp {ssh_opts} scripts/mnist_classify_handson.py {target}:{work_dir}\n",
    "!scp {ssh_opts} scripts/mnist_classify_cnn_handson.py {target}:{work_dir}\n",
    "!scp {ssh_opts} scripts/check_gpu.py {target}:{work_dir}\n",
    "    \n",
    "# コンテナを実行するため、ホームディレクトリのパーミッションを変更\n",
    "!ssh {ssh_opts} {target} chmod 755 ."
   ]
  },
  {
   "cell_type": "markdown",
   "metadata": {
    "lc_cell_meme": {
     "current": "b5ac6b38-099e-11ec-afb5-02420a010016-2-8ebe-5b35",
     "history": [
      {
       "current": "b5ac6b38-099e-11ec-afb5-02420a010016",
       "next": "b5ac6bba-099e-11ec-afb5-02420a010016",
       "previous": "b5ac6aac-099e-11ec-afb5-02420a010016"
      },
      {
       "current": "b5ac6b38-099e-11ec-afb5-02420a010016",
       "next": "b5ac6bba-099e-11ec-afb5-02420a010016",
       "previous": "b5ac678c-099e-11ec-afb5-02420a010016"
      },
      {
       "current": "b5ac6b38-099e-11ec-afb5-02420a010016",
       "next": "b5ac6cbe-099e-11ec-afb5-02420a010016",
       "previous": "b5ac678c-099e-11ec-afb5-02420a010016"
      },
      {
       "current": "b5ac6b38-099e-11ec-afb5-02420a010016",
       "next": "b5ac6dcc-099e-11ec-afb5-02420a010016",
       "previous": "b5ac678c-099e-11ec-afb5-02420a010016"
      },
      {
       "current": "b5ac6b38-099e-11ec-afb5-02420a010016-1-8ebe",
       "next": "b5ac6e4e-099e-11ec-afb5-02420a010016",
       "previous": "b5ac678c-099e-11ec-afb5-02420a010016"
      },
      {
       "current": "b5ac6b38-099e-11ec-afb5-02420a010016-2-8ebe-5b35",
       "next": "b5ac6e4e-099e-11ec-afb5-02420a010016-1-511e",
       "previous": "b5ac678c-099e-11ec-afb5-02420a010016-1-a63e"
      }
     ],
     "next": "b5ac6e4e-099e-11ec-afb5-02420a010016-2-511e-9918",
     "previous": "b5ac678c-099e-11ec-afb5-02420a010016-2-a63e-31f6"
    }
   },
   "source": [
    "Dockerコンテナ環境からGPUを利用できることを確認します（エラーにならないことを確認）。"
   ]
  },
  {
   "cell_type": "code",
   "execution_count": null,
   "metadata": {
    "lc_cell_meme": {
     "current": "b5ac6e4e-099e-11ec-afb5-02420a010016-2-511e-9918",
     "history": [
      {
       "current": "b5ac6e4e-099e-11ec-afb5-02420a010016",
       "next": "b5ac6ee4-099e-11ec-afb5-02420a010016",
       "previous": "b5ac6dcc-099e-11ec-afb5-02420a010016"
      },
      {
       "current": "b5ac6e4e-099e-11ec-afb5-02420a010016-1-511e",
       "next": "b5ac6ee4-099e-11ec-afb5-02420a010016",
       "previous": "b5ac6b38-099e-11ec-afb5-02420a010016"
      },
      {
       "current": "b5ac6e4e-099e-11ec-afb5-02420a010016-2-511e-9918",
       "next": "b5ac6ee4-099e-11ec-afb5-02420a010016-1-da97",
       "previous": "b5ac6b38-099e-11ec-afb5-02420a010016-1-8ebe"
      }
     ],
     "next": "b5ac6ee4-099e-11ec-afb5-02420a010016-2-da97-9b08",
     "previous": "b5ac6b38-099e-11ec-afb5-02420a010016-2-8ebe-5b35"
    },
    "lc_wrapper": {
     "log_history": [
      "/home/user513xb92482/ocs-templates/OpenHPC-v2/work-mnist/.log/20210830/20210830-233717-0483.log",
      "/home/user513xb92482/ocs-templates/OpenHPC-v2/work-mnist/.log/20210831/20210831-111025-0652.log",
      "/home/user513xb92482/ocs-templates/OpenHPC-v2/work-mnist/.log/20210831/20210831-115218-0598.log",
      "/home/user513xb92482/ocs-templates/OpenHPC-v2/work-mnist/.log/20210901/20210901-135249-0023.log",
      "/home/user513xb92482/ocs-templates/OpenHPC-v2/work-mnist/.log/20210902/20210902-163747-0255.log",
      "/home/user513xb92482/ocs-templates/OpenHPC-v2/work-mnist/.log/20210902/20210902-212426-0293.log",
      "/home/user513xb92482/ocs-templates/OpenHPC-v2/work-mnist/.log/20210903/20210903-100736-0491.log",
      "/home/user513xb92482/ocs-templates/OpenHPC-v2/work-mnist/.log/20210903/20210903-101816-0952.log",
      "/home/user513xb92482/ocs-templates/OpenHPC-v2/work-mnist/.log/20210903/20210903-120740-0321.log",
      "/home/user513xb92482/ocs-templates/OpenHPC-v2/work-mnist/.log/20210903/20210903-155316-0551.log",
      "/notebooks/notebook/SAGA_home/210903.handson_cloudweek_2021/Deriver/2109.Recog_with_OpenHPC_template/1.OpenHPC-v2_system/.log/20210914/20210914-135053-0638.log",
      "/notebooks/notebook/SAGA_home/210903.handson_cloudweek_2021/Deriver/2109.Recog_with_OpenHPC_template/1.OpenHPC-v2_system/.log/20210914/20210914-143513-0487.log"
     ]
    },
    "scrolled": true
   },
   "outputs": [],
   "source": [
    "!ssh {ssh_opts} {target} srun -N {nodes} --gpus-per-node=1 \\\n",
    "    docker run --gpus all --ipc=host -v /home/{user}:/home/{user} --rm tensorflow-{user} \\\n",
    "    python {work_dir}/check_gpu.py"
   ]
  },
  {
   "cell_type": "markdown",
   "metadata": {
    "lc_cell_meme": {
     "current": "b5ac6ee4-099e-11ec-afb5-02420a010016-2-da97-9b08",
     "history": [
      {
       "current": "b5ac6ee4-099e-11ec-afb5-02420a010016-1-da97",
       "next": "b5ac6f70-099e-11ec-afb5-02420a010016",
       "previous": "b5ac6e4e-099e-11ec-afb5-02420a010016"
      },
      {
       "current": "b5ac6ee4-099e-11ec-afb5-02420a010016-2-da97-9b08",
       "next": "b5ac6f70-099e-11ec-afb5-02420a010016-1-cdba",
       "previous": "b5ac6e4e-099e-11ec-afb5-02420a010016-1-511e"
      }
     ],
     "next": "b5ac6f70-099e-11ec-afb5-02420a010016-2-cdba-3269",
     "previous": "b5ac6e4e-099e-11ec-afb5-02420a010016-2-511e-9918"
    }
   },
   "source": [
    "### MNIST学習ジョブの実行\n",
    "\n",
    "MNISTの学習スクリプトをSlurmのジョブとして実行します。"
   ]
  },
  {
   "cell_type": "markdown",
   "metadata": {
    "lc_cell_meme": {
     "current": "b5ac6f70-099e-11ec-afb5-02420a010016-2-cdba-3269",
     "history": [
      {
       "current": "b5ac6f70-099e-11ec-afb5-02420a010016-1-cdba",
       "next": "b5ac6ffc-099e-11ec-afb5-02420a010016",
       "previous": "b5ac6ee4-099e-11ec-afb5-02420a010016"
      },
      {
       "current": "b5ac6f70-099e-11ec-afb5-02420a010016-2-cdba-3269",
       "next": "b5ac6ffc-099e-11ec-afb5-02420a010016-1-043e",
       "previous": "b5ac6ee4-099e-11ec-afb5-02420a010016-1-da97"
      }
     ],
     "next": "b5ac6ffc-099e-11ec-afb5-02420a010016-2-043e-77ae",
     "previous": "b5ac6ee4-099e-11ec-afb5-02420a010016-2-da97-9b08"
    }
   },
   "source": [
    "ジョブの実行スクリプトを作成します。"
   ]
  },
  {
   "cell_type": "code",
   "execution_count": null,
   "metadata": {
    "lc_cell_meme": {
     "current": "b5ac6ffc-099e-11ec-afb5-02420a010016-2-043e-77ae",
     "history": [
      {
       "current": "b5ac6ffc-099e-11ec-afb5-02420a010016",
       "next": "b5ac707e-099e-11ec-afb5-02420a010016",
       "previous": "b5ac6f70-099e-11ec-afb5-02420a010016"
      },
      {
       "current": "b5ac6ffc-099e-11ec-afb5-02420a010016-1-043e",
       "next": "b5ac7290-099e-11ec-afb5-02420a010016",
       "previous": "b5ac6f70-099e-11ec-afb5-02420a010016"
      },
      {
       "current": "b5ac6ffc-099e-11ec-afb5-02420a010016-2-043e-77ae",
       "next": "b5ac7290-099e-11ec-afb5-02420a010016-1-7337",
       "previous": "b5ac6f70-099e-11ec-afb5-02420a010016-1-cdba"
      }
     ],
     "next": "b5ac7290-099e-11ec-afb5-02420a010016-2-7337-fc49",
     "previous": "b5ac6f70-099e-11ec-afb5-02420a010016-2-cdba-3269"
    },
    "lc_wrapper": {
     "log_history": [
      "/home/user513xb92482/ocs-templates/OpenHPC-v2/work-mnist/.log/20210830/20210830-233815-0069.log",
      "/home/user513xb92482/ocs-templates/OpenHPC-v2/work-mnist/.log/20210831/20210831-111055-0396.log",
      "/home/user513xb92482/ocs-templates/OpenHPC-v2/work-mnist/.log/20210831/20210831-115328-0145.log",
      "/home/user513xb92482/ocs-templates/OpenHPC-v2/work-mnist/.log/20210901/20210901-135322-0838.log",
      "/home/user513xb92482/ocs-templates/OpenHPC-v2/work-mnist/.log/20210902/20210902-164018-0185.log",
      "/home/user513xb92482/ocs-templates/OpenHPC-v2/work-mnist/.log/20210902/20210902-212456-0016.log",
      "/home/user513xb92482/ocs-templates/OpenHPC-v2/work-mnist/.log/20210902/20210902-213816-0812.log",
      "/home/user513xb92482/ocs-templates/OpenHPC-v2/work-mnist/.log/20210902/20210902-214225-0636.log",
      "/home/user513xb92482/ocs-templates/OpenHPC-v2/work-mnist/.log/20210903/20210903-100822-0224.log",
      "/home/user513xb92482/ocs-templates/OpenHPC-v2/work-mnist/.log/20210903/20210903-101859-0611.log",
      "/home/user513xb92482/ocs-templates/OpenHPC-v2/work-mnist/.log/20210903/20210903-102230-0012.log",
      "/home/user513xb92482/ocs-templates/OpenHPC-v2/work-mnist/.log/20210903/20210903-120803-0022.log",
      "/home/user513xb92482/ocs-templates/OpenHPC-v2/work-mnist/.log/20210903/20210903-120827-0481.log",
      "/home/user513xb92482/ocs-templates/OpenHPC-v2/work-mnist/.log/20210903/20210903-155415-0446.log",
      "/home/user513xb92482/ocs-templates/OpenHPC-v2/work-mnist/.log/20210903/20210903-161356-0941.log",
      "/notebooks/notebook/SAGA_home/210903.handson_cloudweek_2021/Deriver/2109.Recog_with_OpenHPC_template/1.OpenHPC-v2_system/.log/20210914/20210914-135122-0197.log",
      "/notebooks/notebook/SAGA_home/210903.handson_cloudweek_2021/Deriver/2109.Recog_with_OpenHPC_template/1.OpenHPC-v2_system/.log/20210914/20210914-143538-0584.log"
     ]
    }
   },
   "outputs": [],
   "source": [
    "from tempfile import TemporaryDirectory\n",
    "from pathlib import Path\n",
    "\n",
    "with TemporaryDirectory() as workdir:\n",
    "    batch_file = Path(workdir) / 'tensorflow_mnist_docker.job'\n",
    "    with batch_file.open(mode='w') as f:\n",
    "        f.write(f'''#!/bin/bash\n",
    "        \n",
    "#SBATCH -J tensorflow-mnist-docker         # create a short name for your job\n",
    "#SBATCH -o tensorflow-mnist-docker.%j.out  # Name of stdout output file (%j expands to jobId)\n",
    "#SBATCH -N 1                               # Total number of nodes requested\n",
    "#SBATCH -n 1                               # Total number of across all nodes\n",
    "#SBATCH --gres=gpu:1                       # number of gpus per node\n",
    "#SBATCH -t 00:10:00                        # Run time (hh:mm:ss)\n",
    "\n",
    "docker run -td --gpus all -v /home/{user}:/home/{user} --rm --ipc=host --net=host --name tensorflow-{user} tensorflow-{user}\n",
    "docker exec -t -u {user} -w $HOME/{work_dir} tensorflow-{user} python3 download_mnist.py\n",
    "docker exec -t -u {user} -w $HOME/{work_dir} tensorflow-{user} python3 mnist_classify_handson.py\n",
    "docker stop tensorflow-{user}\n",
    "''')\n",
    "    !cat {batch_file}\n",
    "    !scp {ssh_opts} {str(batch_file)} {target}:{work_dir}"
   ]
  },
  {
   "cell_type": "markdown",
   "metadata": {
    "lc_cell_meme": {
     "current": "b5ac7290-099e-11ec-afb5-02420a010016-2-7337-fc49",
     "history": [
      {
       "current": "b5ac7290-099e-11ec-afb5-02420a010016",
       "next": "b5ac7312-099e-11ec-afb5-02420a010016",
       "previous": "b5ac720e-099e-11ec-afb5-02420a010016"
      },
      {
       "current": "b5ac7290-099e-11ec-afb5-02420a010016-1-7337",
       "next": "b5ac7312-099e-11ec-afb5-02420a010016",
       "previous": "b5ac6ffc-099e-11ec-afb5-02420a010016"
      },
      {
       "current": "b5ac7290-099e-11ec-afb5-02420a010016-2-7337-fc49",
       "next": "b5ac7312-099e-11ec-afb5-02420a010016-1-6fa2",
       "previous": "b5ac6ffc-099e-11ec-afb5-02420a010016-1-043e"
      }
     ],
     "next": "b5ac7312-099e-11ec-afb5-02420a010016-2-6fa2-5a0b",
     "previous": "b5ac6ffc-099e-11ec-afb5-02420a010016-2-043e-77ae"
    }
   },
   "source": [
    "ジョブを実行します。"
   ]
  },
  {
   "cell_type": "code",
   "execution_count": null,
   "metadata": {
    "lc_cell_meme": {
     "current": "b5ac7312-099e-11ec-afb5-02420a010016-2-6fa2-5a0b",
     "history": [
      {
       "current": "b5ac7312-099e-11ec-afb5-02420a010016-1-6fa2",
       "next": "b5ac739e-099e-11ec-afb5-02420a010016",
       "previous": "b5ac7290-099e-11ec-afb5-02420a010016"
      },
      {
       "current": "b5ac7312-099e-11ec-afb5-02420a010016-2-6fa2-5a0b",
       "next": "b5ac739e-099e-11ec-afb5-02420a010016-1-af51",
       "previous": "b5ac7290-099e-11ec-afb5-02420a010016-1-7337"
      }
     ],
     "next": "b5ac739e-099e-11ec-afb5-02420a010016-2-af51-d1e3",
     "previous": "b5ac7290-099e-11ec-afb5-02420a010016-2-7337-fc49"
    },
    "lc_wrapper": {
     "log_history": [
      "/home/user513xb92482/ocs-templates/OpenHPC-v2/work-mnist/.log/20210830/20210830-233832-0744.log",
      "/home/user513xb92482/ocs-templates/OpenHPC-v2/work-mnist/.log/20210831/20210831-111126-0819.log",
      "/home/user513xb92482/ocs-templates/OpenHPC-v2/work-mnist/.log/20210831/20210831-115339-0859.log",
      "/home/user513xb92482/ocs-templates/OpenHPC-v2/work-mnist/.log/20210831/20210831-115701-0312.log",
      "/home/user513xb92482/ocs-templates/OpenHPC-v2/work-mnist/.log/20210831/20210831-134431-0736.log",
      "/home/user513xb92482/ocs-templates/OpenHPC-v2/work-mnist/.log/20210831/20210831-134821-0953.log",
      "/home/user513xb92482/ocs-templates/OpenHPC-v2/work-mnist/.log/20210831/20210831-150603-0498.log",
      "/home/user513xb92482/ocs-templates/OpenHPC-v2/work-mnist/.log/20210831/20210831-150814-0057.log",
      "/home/user513xb92482/ocs-templates/OpenHPC-v2/work-mnist/.log/20210831/20210831-151105-0462.log",
      "/home/user513xb92482/ocs-templates/OpenHPC-v2/work-mnist/.log/20210831/20210831-151422-0800.log",
      "/home/user513xb92482/ocs-templates/OpenHPC-v2/work-mnist/.log/20210831/20210831-153000-0213.log",
      "/home/user513xb92482/ocs-templates/OpenHPC-v2/work-mnist/.log/20210831/20210831-153906-0872.log",
      "/home/user513xb92482/ocs-templates/OpenHPC-v2/work-mnist/.log/20210901/20210901-135331-0567.log",
      "/home/user513xb92482/ocs-templates/OpenHPC-v2/work-mnist/.log/20210901/20210901-142616-0230.log",
      "/home/user513xb92482/ocs-templates/OpenHPC-v2/work-mnist/.log/20210901/20210901-143220-0568.log",
      "/home/user513xb92482/ocs-templates/OpenHPC-v2/work-mnist/.log/20210901/20210901-143437-0952.log",
      "/home/user513xb92482/ocs-templates/OpenHPC-v2/work-mnist/.log/20210902/20210902-164450-0860.log",
      "/home/user513xb92482/ocs-templates/OpenHPC-v2/work-mnist/.log/20210902/20210902-212505-0263.log",
      "/home/user513xb92482/ocs-templates/OpenHPC-v2/work-mnist/.log/20210902/20210902-213822-0981.log",
      "/home/user513xb92482/ocs-templates/OpenHPC-v2/work-mnist/.log/20210902/20210902-214256-0534.log",
      "/home/user513xb92482/ocs-templates/OpenHPC-v2/work-mnist/.log/20210903/20210903-100838-0971.log",
      "/home/user513xb92482/ocs-templates/OpenHPC-v2/work-mnist/.log/20210903/20210903-101345-0877.log",
      "/home/user513xb92482/ocs-templates/OpenHPC-v2/work-mnist/.log/20210903/20210903-101935-0556.log",
      "/home/user513xb92482/ocs-templates/OpenHPC-v2/work-mnist/.log/20210903/20210903-102240-0995.log",
      "/home/user513xb92482/ocs-templates/OpenHPC-v2/work-mnist/.log/20210903/20210903-120832-0783.log",
      "/home/user513xb92482/ocs-templates/OpenHPC-v2/work-mnist/.log/20210903/20210903-155422-0924.log",
      "/home/user513xb92482/ocs-templates/OpenHPC-v2/work-mnist/.log/20210903/20210903-161407-0212.log",
      "/notebooks/notebook/SAGA_home/210903.handson_cloudweek_2021/Deriver/2109.Recog_with_OpenHPC_template/1.OpenHPC-v2_system/.log/20210914/20210914-135139-0135.log",
      "/notebooks/notebook/SAGA_home/210903.handson_cloudweek_2021/Deriver/2109.Recog_with_OpenHPC_template/1.OpenHPC-v2_system/.log/20210914/20210914-143545-0049.log"
     ]
    }
   },
   "outputs": [],
   "source": [
    "# 以前の実行結果の削除\n",
    "!ssh {ssh_opts} {target} bash -l -c \\\n",
    "    \"'cd {work_dir} && rm -rf  tensorflow-mnist*.out saved_model*'\"\n",
    "\n",
    "# ジョブの実行\n",
    "!ssh {ssh_opts} {target} bash -l -c \\\n",
    "    \"'cd {work_dir} && sbatch tensorflow_mnist_docker.job'\""
   ]
  },
  {
   "cell_type": "markdown",
   "metadata": {
    "lc_cell_meme": {
     "current": "b5ac739e-099e-11ec-afb5-02420a010016-2-af51-d1e3",
     "history": [
      {
       "current": "b5ac739e-099e-11ec-afb5-02420a010016-1-af51",
       "next": "b5ac7420-099e-11ec-afb5-02420a010016",
       "previous": "b5ac7312-099e-11ec-afb5-02420a010016"
      },
      {
       "current": "b5ac739e-099e-11ec-afb5-02420a010016-2-af51-d1e3",
       "next": "b5ac7420-099e-11ec-afb5-02420a010016-1-7a27",
       "previous": "b5ac7312-099e-11ec-afb5-02420a010016-1-6fa2"
      }
     ],
     "next": "b5ac7420-099e-11ec-afb5-02420a010016-2-7a27-d795",
     "previous": "b5ac7312-099e-11ec-afb5-02420a010016-2-6fa2-5a0b"
    }
   },
   "source": [
    "ジョブの実行状況を確認します。終了までに数分かかります。JOB ID 欄に上のセルで実行した JOB IDが表示されなくなれば終了です。時々本セルを`unfreeze`して再実行し、実行終了を確認してください。ジョブ実行中のCPU, メモリ, GPUなどの利用状況は VCC の Grafana で確認することもできます。"
   ]
  },
  {
   "cell_type": "code",
   "execution_count": null,
   "metadata": {
    "lc_cell_meme": {
     "current": "b5ac7420-099e-11ec-afb5-02420a010016-2-7a27-d795",
     "history": [
      {
       "current": "b5ac7420-099e-11ec-afb5-02420a010016",
       "next": "b5ac74a2-099e-11ec-afb5-02420a010016",
       "previous": "b5ac739e-099e-11ec-afb5-02420a010016"
      },
      {
       "current": "b5ac7420-099e-11ec-afb5-02420a010016",
       "next": "b5ac75b0-099e-11ec-afb5-02420a010016",
       "previous": "b5ac739e-099e-11ec-afb5-02420a010016"
      },
      {
       "current": "b5ac7420-099e-11ec-afb5-02420a010016-1-7a27",
       "next": "b5ac763c-099e-11ec-afb5-02420a010016",
       "previous": "b5ac739e-099e-11ec-afb5-02420a010016"
      },
      {
       "current": "b5ac7420-099e-11ec-afb5-02420a010016-2-7a27-d795",
       "next": "b5ac763c-099e-11ec-afb5-02420a010016-1-c6fc",
       "previous": "b5ac739e-099e-11ec-afb5-02420a010016-1-af51"
      }
     ],
     "next": "b5ac763c-099e-11ec-afb5-02420a010016-2-c6fc-aee1",
     "previous": "b5ac739e-099e-11ec-afb5-02420a010016-2-af51-d1e3"
    },
    "lc_wrapper": {
     "log_history": [
      "/home/user513xb92482/ocs-templates/OpenHPC-v2/work-mnist/.log/20210830/20210830-233837-0497.log",
      "/home/user513xb92482/ocs-templates/OpenHPC-v2/work-mnist/.log/20210831/20210831-111132-0745.log",
      "/home/user513xb92482/ocs-templates/OpenHPC-v2/work-mnist/.log/20210831/20210831-111205-0049.log",
      "/home/user513xb92482/ocs-templates/OpenHPC-v2/work-mnist/.log/20210831/20210831-115345-0801.log",
      "/home/user513xb92482/ocs-templates/OpenHPC-v2/work-mnist/.log/20210831/20210831-115358-0096.log",
      "/home/user513xb92482/ocs-templates/OpenHPC-v2/work-mnist/.log/20210831/20210831-115527-0845.log",
      "/home/user513xb92482/ocs-templates/OpenHPC-v2/work-mnist/.log/20210831/20210831-115717-0133.log",
      "/home/user513xb92482/ocs-templates/OpenHPC-v2/work-mnist/.log/20210831/20210831-115734-0421.log",
      "/home/user513xb92482/ocs-templates/OpenHPC-v2/work-mnist/.log/20210831/20210831-134440-0555.log",
      "/home/user513xb92482/ocs-templates/OpenHPC-v2/work-mnist/.log/20210831/20210831-134610-0147.log",
      "/home/user513xb92482/ocs-templates/OpenHPC-v2/work-mnist/.log/20210831/20210831-134828-0997.log",
      "/home/user513xb92482/ocs-templates/OpenHPC-v2/work-mnist/.log/20210831/20210831-150611-0271.log",
      "/home/user513xb92482/ocs-templates/OpenHPC-v2/work-mnist/.log/20210831/20210831-150646-0927.log",
      "/home/user513xb92482/ocs-templates/OpenHPC-v2/work-mnist/.log/20210831/20210831-150821-0793.log",
      "/home/user513xb92482/ocs-templates/OpenHPC-v2/work-mnist/.log/20210831/20210831-150835-0561.log",
      "/home/user513xb92482/ocs-templates/OpenHPC-v2/work-mnist/.log/20210831/20210831-150934-0018.log",
      "/home/user513xb92482/ocs-templates/OpenHPC-v2/work-mnist/.log/20210831/20210831-151113-0643.log",
      "/home/user513xb92482/ocs-templates/OpenHPC-v2/work-mnist/.log/20210831/20210831-151137-0929.log",
      "/home/user513xb92482/ocs-templates/OpenHPC-v2/work-mnist/.log/20210831/20210831-151430-0556.log",
      "/home/user513xb92482/ocs-templates/OpenHPC-v2/work-mnist/.log/20210831/20210831-151457-0577.log",
      "/home/user513xb92482/ocs-templates/OpenHPC-v2/work-mnist/.log/20210831/20210831-153651-0708.log",
      "/home/user513xb92482/ocs-templates/OpenHPC-v2/work-mnist/.log/20210831/20210831-153938-0546.log",
      "/home/user513xb92482/ocs-templates/OpenHPC-v2/work-mnist/.log/20210901/20210901-135340-0667.log",
      "/home/user513xb92482/ocs-templates/OpenHPC-v2/work-mnist/.log/20210901/20210901-135404-0864.log",
      "/home/user513xb92482/ocs-templates/OpenHPC-v2/work-mnist/.log/20210901/20210901-142622-0988.log",
      "/home/user513xb92482/ocs-templates/OpenHPC-v2/work-mnist/.log/20210901/20210901-142634-0094.log",
      "/home/user513xb92482/ocs-templates/OpenHPC-v2/work-mnist/.log/20210901/20210901-142649-0353.log",
      "/home/user513xb92482/ocs-templates/OpenHPC-v2/work-mnist/.log/20210901/20210901-142703-0660.log",
      "/home/user513xb92482/ocs-templates/OpenHPC-v2/work-mnist/.log/20210901/20210901-143247-0653.log",
      "/home/user513xb92482/ocs-templates/OpenHPC-v2/work-mnist/.log/20210901/20210901-143254-0862.log",
      "/home/user513xb92482/ocs-templates/OpenHPC-v2/work-mnist/.log/20210901/20210901-143309-0628.log",
      "/home/user513xb92482/ocs-templates/OpenHPC-v2/work-mnist/.log/20210901/20210901-143446-0417.log",
      "/home/user513xb92482/ocs-templates/OpenHPC-v2/work-mnist/.log/20210901/20210901-143458-0517.log",
      "/home/user513xb92482/ocs-templates/OpenHPC-v2/work-mnist/.log/20210901/20210901-143506-0120.log",
      "/home/user513xb92482/ocs-templates/OpenHPC-v2/work-mnist/.log/20210901/20210901-143520-0440.log",
      "/home/user513xb92482/ocs-templates/OpenHPC-v2/work-mnist/.log/20210901/20210901-143528-0423.log",
      "/home/user513xb92482/ocs-templates/OpenHPC-v2/work-mnist/.log/20210902/20210902-164459-0223.log",
      "/home/user513xb92482/ocs-templates/OpenHPC-v2/work-mnist/.log/20210902/20210902-212519-0644.log",
      "/home/user513xb92482/ocs-templates/OpenHPC-v2/work-mnist/.log/20210902/20210902-212545-0364.log",
      "/home/user513xb92482/ocs-templates/OpenHPC-v2/work-mnist/.log/20210902/20210902-213831-0319.log",
      "/home/user513xb92482/ocs-templates/OpenHPC-v2/work-mnist/.log/20210902/20210902-213854-0818.log",
      "/home/user513xb92482/ocs-templates/OpenHPC-v2/work-mnist/.log/20210902/20210902-214307-0350.log",
      "/home/user513xb92482/ocs-templates/OpenHPC-v2/work-mnist/.log/20210902/20210902-214317-0847.log",
      "/home/user513xb92482/ocs-templates/OpenHPC-v2/work-mnist/.log/20210902/20210902-214329-0474.log",
      "/home/user513xb92482/ocs-templates/OpenHPC-v2/work-mnist/.log/20210902/20210902-214341-0248.log",
      "/home/user513xb92482/ocs-templates/OpenHPC-v2/work-mnist/.log/20210902/20210902-214352-0841.log",
      "/home/user513xb92482/ocs-templates/OpenHPC-v2/work-mnist/.log/20210903/20210903-100909-0723.log",
      "/home/user513xb92482/ocs-templates/OpenHPC-v2/work-mnist/.log/20210903/20210903-100925-0535.log",
      "/home/user513xb92482/ocs-templates/OpenHPC-v2/work-mnist/.log/20210903/20210903-101354-0955.log",
      "/home/user513xb92482/ocs-templates/OpenHPC-v2/work-mnist/.log/20210903/20210903-101411-0879.log",
      "/home/user513xb92482/ocs-templates/OpenHPC-v2/work-mnist/.log/20210903/20210903-101428-0801.log",
      "/home/user513xb92482/ocs-templates/OpenHPC-v2/work-mnist/.log/20210903/20210903-101958-0796.log",
      "/home/user513xb92482/ocs-templates/OpenHPC-v2/work-mnist/.log/20210903/20210903-102020-0542.log",
      "/home/user513xb92482/ocs-templates/OpenHPC-v2/work-mnist/.log/20210903/20210903-103020-0345.log",
      "/home/user513xb92482/ocs-templates/OpenHPC-v2/work-mnist/.log/20210903/20210903-120839-0524.log",
      "/home/user513xb92482/ocs-templates/OpenHPC-v2/work-mnist/.log/20210903/20210903-120854-0400.log",
      "/home/user513xb92482/ocs-templates/OpenHPC-v2/work-mnist/.log/20210903/20210903-120905-0988.log",
      "/home/user513xb92482/ocs-templates/OpenHPC-v2/work-mnist/.log/20210903/20210903-155431-0091.log",
      "/home/user513xb92482/ocs-templates/OpenHPC-v2/work-mnist/.log/20210903/20210903-155446-0103.log",
      "/home/user513xb92482/ocs-templates/OpenHPC-v2/work-mnist/.log/20210903/20210903-155454-0667.log",
      "/home/user513xb92482/ocs-templates/OpenHPC-v2/work-mnist/.log/20210903/20210903-155503-0240.log",
      "/home/user513xb92482/ocs-templates/OpenHPC-v2/work-mnist/.log/20210903/20210903-161414-0881.log",
      "/home/user513xb92482/ocs-templates/OpenHPC-v2/work-mnist/.log/20210903/20210903-161432-0379.log",
      "/home/user513xb92482/ocs-templates/OpenHPC-v2/work-mnist/.log/20210903/20210903-161452-0663.log",
      "/home/user513xb92482/ocs-templates/OpenHPC-v2/work-mnist/.log/20210903/20210903-161502-0895.log",
      "/notebooks/notebook/SAGA_home/210903.handson_cloudweek_2021/Deriver/2109.Recog_with_OpenHPC_template/1.OpenHPC-v2_system/.log/20210914/20210914-135153-0408.log",
      "/notebooks/notebook/SAGA_home/210903.handson_cloudweek_2021/Deriver/2109.Recog_with_OpenHPC_template/1.OpenHPC-v2_system/.log/20210914/20210914-135206-0521.log",
      "/notebooks/notebook/SAGA_home/210903.handson_cloudweek_2021/Deriver/2109.Recog_with_OpenHPC_template/1.OpenHPC-v2_system/.log/20210914/20210914-135219-0062.log",
      "/notebooks/notebook/SAGA_home/210903.handson_cloudweek_2021/Deriver/2109.Recog_with_OpenHPC_template/1.OpenHPC-v2_system/.log/20210914/20210914-143549-0987.log",
      "/notebooks/notebook/SAGA_home/210903.handson_cloudweek_2021/Deriver/2109.Recog_with_OpenHPC_template/1.OpenHPC-v2_system/.log/20210914/20210914-143609-0392.log",
      "/notebooks/notebook/SAGA_home/210903.handson_cloudweek_2021/Deriver/2109.Recog_with_OpenHPC_template/1.OpenHPC-v2_system/.log/20210914/20210914-143618-0431.log"
     ]
    },
    "scrolled": true
   },
   "outputs": [],
   "source": [
    "!ssh {ssh_opts} {target} squeue"
   ]
  },
  {
   "cell_type": "markdown",
   "metadata": {
    "lc_cell_meme": {
     "current": "b5ac763c-099e-11ec-afb5-02420a010016-2-c6fc-aee1",
     "history": [
      {
       "current": "b5ac763c-099e-11ec-afb5-02420a010016",
       "next": "b5ac76c8-099e-11ec-afb5-02420a010016",
       "previous": "b5ac75b0-099e-11ec-afb5-02420a010016"
      },
      {
       "current": "b5ac763c-099e-11ec-afb5-02420a010016-1-c6fc",
       "next": "b5ac76c8-099e-11ec-afb5-02420a010016",
       "previous": "b5ac7420-099e-11ec-afb5-02420a010016"
      },
      {
       "current": "b5ac763c-099e-11ec-afb5-02420a010016-2-c6fc-aee1",
       "next": "b5ac76c8-099e-11ec-afb5-02420a010016-1-0f94",
       "previous": "b5ac7420-099e-11ec-afb5-02420a010016-1-7a27"
      }
     ],
     "next": "b5ac76c8-099e-11ec-afb5-02420a010016-2-0f94-ba20",
     "previous": "b5ac7420-099e-11ec-afb5-02420a010016-2-7a27-d795"
    }
   },
   "source": [
    "ジョブの完了後に次のセルを実行してください。ジョブの出力結果が確認できます。"
   ]
  },
  {
   "cell_type": "code",
   "execution_count": null,
   "metadata": {
    "lc_cell_meme": {
     "current": "b5ac76c8-099e-11ec-afb5-02420a010016-2-0f94-ba20",
     "history": [
      {
       "current": "b5ac76c8-099e-11ec-afb5-02420a010016-1-0f94",
       "next": "b5ac774a-099e-11ec-afb5-02420a010016",
       "previous": "b5ac763c-099e-11ec-afb5-02420a010016"
      },
      {
       "current": "b5ac76c8-099e-11ec-afb5-02420a010016-2-0f94-ba20",
       "next": "b5ac774a-099e-11ec-afb5-02420a010016-1-1dc5",
       "previous": "b5ac763c-099e-11ec-afb5-02420a010016-1-c6fc"
      }
     ],
     "next": "b5ac774a-099e-11ec-afb5-02420a010016-2-1dc5-8beb",
     "previous": "b5ac763c-099e-11ec-afb5-02420a010016-2-c6fc-aee1"
    },
    "lc_wrapper": {
     "log_history": [
      "/home/user513xb92482/ocs-templates/OpenHPC-v2/work-mnist/.log/20210830/20210830-233937-0060.log",
      "/home/user513xb92482/ocs-templates/OpenHPC-v2/work-mnist/.log/20210831/20210831-111213-0288.log",
      "/home/user513xb92482/ocs-templates/OpenHPC-v2/work-mnist/.log/20210831/20210831-115534-0339.log",
      "/home/user513xb92482/ocs-templates/OpenHPC-v2/work-mnist/.log/20210831/20210831-115744-0079.log",
      "/home/user513xb92482/ocs-templates/OpenHPC-v2/work-mnist/.log/20210831/20210831-134618-0843.log",
      "/home/user513xb92482/ocs-templates/OpenHPC-v2/work-mnist/.log/20210831/20210831-135041-0287.log",
      "/home/user513xb92482/ocs-templates/OpenHPC-v2/work-mnist/.log/20210831/20210831-135210-0772.log",
      "/home/user513xb92482/ocs-templates/OpenHPC-v2/work-mnist/.log/20210831/20210831-150652-0353.log",
      "/home/user513xb92482/ocs-templates/OpenHPC-v2/work-mnist/.log/20210831/20210831-150941-0905.log",
      "/home/user513xb92482/ocs-templates/OpenHPC-v2/work-mnist/.log/20210831/20210831-151144-0207.log",
      "/home/user513xb92482/ocs-templates/OpenHPC-v2/work-mnist/.log/20210831/20210831-151511-0886.log",
      "/home/user513xb92482/ocs-templates/OpenHPC-v2/work-mnist/.log/20210831/20210831-153659-0246.log",
      "/home/user513xb92482/ocs-templates/OpenHPC-v2/work-mnist/.log/20210831/20210831-153943-0598.log",
      "/home/user513xb92482/ocs-templates/OpenHPC-v2/work-mnist/.log/20210901/20210901-135410-0375.log",
      "/home/user513xb92482/ocs-templates/OpenHPC-v2/work-mnist/.log/20210901/20210901-142711-0104.log",
      "/home/user513xb92482/ocs-templates/OpenHPC-v2/work-mnist/.log/20210901/20210901-143314-0573.log",
      "/home/user513xb92482/ocs-templates/OpenHPC-v2/work-mnist/.log/20210901/20210901-143533-0590.log",
      "/home/user513xb92482/ocs-templates/OpenHPC-v2/work-mnist/.log/20210902/20210902-164735-0518.log",
      "/home/user513xb92482/ocs-templates/OpenHPC-v2/work-mnist/.log/20210902/20210902-212552-0135.log",
      "/home/user513xb92482/ocs-templates/OpenHPC-v2/work-mnist/.log/20210902/20210902-213901-0478.log",
      "/home/user513xb92482/ocs-templates/OpenHPC-v2/work-mnist/.log/20210902/20210902-214357-0752.log",
      "/home/user513xb92482/ocs-templates/OpenHPC-v2/work-mnist/.log/20210903/20210903-100933-0476.log",
      "/home/user513xb92482/ocs-templates/OpenHPC-v2/work-mnist/.log/20210903/20210903-101438-0077.log",
      "/home/user513xb92482/ocs-templates/OpenHPC-v2/work-mnist/.log/20210903/20210903-102025-0269.log",
      "/home/user513xb92482/ocs-templates/OpenHPC-v2/work-mnist/.log/20210903/20210903-103025-0414.log",
      "/home/user513xb92482/ocs-templates/OpenHPC-v2/work-mnist/.log/20210903/20210903-120911-0234.log",
      "/home/user513xb92482/ocs-templates/OpenHPC-v2/work-mnist/.log/20210903/20210903-155510-0389.log",
      "/home/user513xb92482/ocs-templates/OpenHPC-v2/work-mnist/.log/20210903/20210903-161511-0703.log",
      "/notebooks/notebook/SAGA_home/210903.handson_cloudweek_2021/Deriver/2109.Recog_with_OpenHPC_template/1.OpenHPC-v2_system/.log/20210914/20210914-135225-0545.log",
      "/notebooks/notebook/SAGA_home/210903.handson_cloudweek_2021/Deriver/2109.Recog_with_OpenHPC_template/1.OpenHPC-v2_system/.log/20210914/20210914-143623-0326.log"
     ]
    },
    "tags": [
     "vcp:wait:180"
    ]
   },
   "outputs": [],
   "source": [
    "!ssh {ssh_opts} {target} bash -l -c \\\n",
    "    \"'cd {work_dir} && tail tensorflow-mnist*.out'\""
   ]
  },
  {
   "cell_type": "markdown",
   "metadata": {
    "lc_cell_meme": {
     "current": "b5ac774a-099e-11ec-afb5-02420a010016-2-1dc5-8beb",
     "history": [
      {
       "current": "b5ac774a-099e-11ec-afb5-02420a010016",
       "next": "0a44dce0-0a01-11ec-afb5-02420a010016",
       "previous": "b5ac76c8-099e-11ec-afb5-02420a010016"
      },
      {
       "current": "b5ac774a-099e-11ec-afb5-02420a010016-1-1dc5",
       "next": "67bef4d6-0bc4-11ec-afb5-02420a010016",
       "previous": "b5ac76c8-099e-11ec-afb5-02420a010016"
      },
      {
       "current": "b5ac774a-099e-11ec-afb5-02420a010016-2-1dc5-8beb",
       "next": "67bef4d6-0bc4-11ec-afb5-02420a010016-1-5665",
       "previous": "b5ac76c8-099e-11ec-afb5-02420a010016-1-0f94"
      }
     ],
     "next": "67bef4d6-0bc4-11ec-afb5-02420a010016-2-5665-adf7",
     "previous": "b5ac76c8-099e-11ec-afb5-02420a010016-2-0f94-ba20"
    }
   },
   "source": [
    "ジョブの実行が完了していれば出力結果の末尾に以下のような内容が表示されます。\n",
    "\n",
    "```\n",
    "1875/1875 [==============================] - 2s 1ms/step - loss: 0.1098 - accuracy: 0.9664\n",
    "Epoch 4/5\n",
    "1875/1875 [==============================] - 2s 1ms/step - loss: 0.0891 - accuracy: 0.9724\n",
    "Epoch 5/5\n",
    "1875/1875 [==============================] - 2s 1ms/step - loss: 0.0748 - accuracy: 0.9755\n",
    "313/313 - 0s - loss: 0.0839 - accuracy: 0.9748\n",
    "\n",
    "Test accuracy: 0.9747999906539917\n",
    "```"
   ]
  },
  {
   "cell_type": "markdown",
   "metadata": {
    "lc_cell_meme": {
     "current": "67bef4d6-0bc4-11ec-afb5-02420a010016-2-5665-adf7",
     "history": [
      {
       "current": "67bef4d6-0bc4-11ec-afb5-02420a010016",
       "next": "7301af20-0bc2-11ec-afb5-02420a010016",
       "previous": "0a44dce0-0a01-11ec-afb5-02420a010016"
      },
      {
       "current": "67bef4d6-0bc4-11ec-afb5-02420a010016-1-5665",
       "next": "7301af20-0bc2-11ec-afb5-02420a010016",
       "previous": "b5ac774a-099e-11ec-afb5-02420a010016"
      },
      {
       "current": "67bef4d6-0bc4-11ec-afb5-02420a010016-2-5665-adf7",
       "next": "7301af20-0bc2-11ec-afb5-02420a010016-1-94c6",
       "previous": "b5ac774a-099e-11ec-afb5-02420a010016-1-1dc5"
      }
     ],
     "next": "7301af20-0bc2-11ec-afb5-02420a010016-2-94c6-bb1e",
     "previous": "b5ac774a-099e-11ec-afb5-02420a010016-2-1dc5-8beb"
    }
   },
   "source": [
    "学習済みモデル・重みファイルを、認識環境構築テンプレートの環境にダウンロードします。"
   ]
  },
  {
   "cell_type": "code",
   "execution_count": null,
   "metadata": {
    "lc_cell_meme": {
     "current": "7301af20-0bc2-11ec-afb5-02420a010016-2-94c6-bb1e",
     "history": [
      {
       "current": "7301af20-0bc2-11ec-afb5-02420a010016",
       "next": "91272cfe-0bc3-11ec-afb5-02420a010016",
       "previous": "0a44dec0-0a01-11ec-afb5-02420a010016"
      },
      {
       "current": "7301af20-0bc2-11ec-afb5-02420a010016",
       "next": "91272cfe-0bc3-11ec-afb5-02420a010016-2-5c1b-fb9c",
       "previous": "0a44dec0-0a01-11ec-afb5-02420a010016"
      },
      {
       "current": "7301af20-0bc2-11ec-afb5-02420a010016",
       "next": "91272cfe-0bc3-11ec-afb5-02420a010016-2-5c1b-fb9c",
       "previous": "0a44dce0-0a01-11ec-afb5-02420a010016"
      },
      {
       "current": "7301af20-0bc2-11ec-afb5-02420a010016",
       "next": null,
       "previous": "67bef4d6-0bc4-11ec-afb5-02420a010016"
      },
      {
       "current": "7301af20-0bc2-11ec-afb5-02420a010016",
       "next": "8fffbe40-0beb-11ec-afb5-02420a010016",
       "previous": "67bef4d6-0bc4-11ec-afb5-02420a010016"
      },
      {
       "current": "7301af20-0bc2-11ec-afb5-02420a010016-1-94c6",
       "next": "9eea9e02-0c54-11ec-afb5-02420a010016",
       "previous": "67bef4d6-0bc4-11ec-afb5-02420a010016"
      },
      {
       "current": "7301af20-0bc2-11ec-afb5-02420a010016-2-94c6-bb1e",
       "next": null,
       "previous": "67bef4d6-0bc4-11ec-afb5-02420a010016-1-5665"
      },
      {
       "current": "7301af20-0bc2-11ec-afb5-02420a010016-2-94c6-bb1e",
       "next": null,
       "previous": "67bef4d6-0bc4-11ec-afb5-02420a010016-2-5665-adf7"
      },
      {
       "current": "7301af20-0bc2-11ec-afb5-02420a010016-2-94c6-bb1e",
       "next": "cc79901e-1517-11ec-a3c9-0242ac110002",
       "previous": "67bef4d6-0bc4-11ec-afb5-02420a010016-2-5665-adf7"
      }
     ],
     "next": "5b81dfdc-1518-11ec-a3c9-0242ac110002",
     "previous": "67bef4d6-0bc4-11ec-afb5-02420a010016-2-5665-adf7"
    },
    "lc_wrapper": {
     "log_history": [
      "/home/user513xb92482/ocs-templates/OpenHPC-v2/work-mnist/.log/20210902/20210902-165708-0766.log",
      "/home/user513xb92482/ocs-templates/OpenHPC-v2/work-mnist/.log/20210902/20210902-170200-0919.log",
      "/home/user513xb92482/ocs-templates/OpenHPC-v2/work-mnist/.log/20210902/20210902-212624-0453.log",
      "/home/user513xb92482/ocs-templates/OpenHPC-v2/work-mnist/.log/20210902/20210902-214415-0514.log",
      "/home/user513xb92482/ocs-templates/OpenHPC-v2/work-mnist/.log/20210903/20210903-101008-0700.log",
      "/home/user513xb92482/ocs-templates/OpenHPC-v2/work-mnist/.log/20210903/20210903-101514-0225.log",
      "/home/user513xb92482/ocs-templates/OpenHPC-v2/work-mnist/.log/20210903/20210903-102041-0646.log",
      "/home/user513xb92482/ocs-templates/OpenHPC-v2/work-mnist/.log/20210903/20210903-103043-0142.log",
      "/home/user513xb92482/ocs-templates/OpenHPC-v2/work-mnist/.log/20210903/20210903-120932-0844.log",
      "/home/user513xb92482/ocs-templates/OpenHPC-v2/work-mnist/.log/20210903/20210903-155625-0057.log",
      "/home/user513xb92482/ocs-templates/OpenHPC-v2/work-mnist/.log/20210903/20210903-161543-0273.log",
      "/notebooks/notebook/SAGA_home/210903.handson_cloudweek_2021/Deriver/2109.Recog_with_OpenHPC_template/1.OpenHPC-v2_system/.log/20210914/20210914-135246-0392.log",
      "/notebooks/notebook/SAGA_home/210903.handson_cloudweek_2021/Deriver/2109.Recog_with_OpenHPC_template/1.OpenHPC-v2_system/.log/20210914/20210914-143640-0641.log"
     ]
    }
   },
   "outputs": [],
   "source": [
    "!scp {ssh_opts} -p {target}:{work_dir}/saved_model.tgz {save_dir}"
   ]
  },
  {
   "cell_type": "markdown",
   "metadata": {
    "lc_cell_meme": {
     "current": "5b81dfdc-1518-11ec-a3c9-0242ac110002",
     "next": "cc79901e-1517-11ec-a3c9-0242ac110002-1-bca9",
     "previous": "7301af20-0bc2-11ec-afb5-02420a010016-2-94c6-bb1e"
    }
   },
   "source": [
    "以上で、学習とデータの転送は終了しました。`2.Recognition_system`を実行してください。"
   ]
  },
  {
   "cell_type": "markdown",
   "metadata": {
    "heading_collapsed": true,
    "lc_cell_meme": {
     "current": "cc79901e-1517-11ec-a3c9-0242ac110002-1-bca9",
     "history": [
      {
       "current": "cc79901e-1517-11ec-a3c9-0242ac110002-1-bca9",
       "next": null,
       "previous": "7301af20-0bc2-11ec-afb5-02420a010016-2-94c6-bb1e"
      },
      {
       "current": "cc79901e-1517-11ec-a3c9-0242ac110002-1-bca9",
       "next": null,
       "previous": "5b81dfdc-1518-11ec-a3c9-0242ac110002"
      }
     ],
     "next": "a315b18e-1518-11ec-a3c9-0242ac110002",
     "previous": "5b81dfdc-1518-11ec-a3c9-0242ac110002"
    }
   },
   "source": [
    "## 「2.Recognition_system」実行の後で"
   ]
  },
  {
   "cell_type": "markdown",
   "metadata": {
    "hidden": true,
    "lc_cell_meme": {
     "current": "a315b18e-1518-11ec-a3c9-0242ac110002",
     "history": [
      {
       "current": "a315b18e-1518-11ec-a3c9-0242ac110002",
       "next": null,
       "previous": "cc79901e-1517-11ec-a3c9-0242ac110002-1-bca9"
      }
     ],
     "next": "b5ac6f70-099e-11ec-afb5-02420a010016-3-cdba-3269-482c",
     "previous": "cc79901e-1517-11ec-a3c9-0242ac110002-1-bca9"
    }
   },
   "source": [
    "上のMNISTの学習は、[TensorFlow公式ページのチュートリアル](https://www.tensorflow.org/tutorials)の「初心者のための TensorFlow 2.0 入門」のスクリプトを基にしています。これは、フラットなニューラルネットの学習で、CNNではありません。イメージ認識ではCNNの方が適していると考えられるため、CNNによる学習スクリプトも用意しました。興味があれば、以下をお試しください。"
   ]
  },
  {
   "cell_type": "markdown",
   "metadata": {
    "hidden": true,
    "lc_cell_meme": {
     "current": "b5ac6f70-099e-11ec-afb5-02420a010016-3-cdba-3269-482c",
     "history": [
      {
       "current": "b5ac6f70-099e-11ec-afb5-02420a010016-1-cdba",
       "next": "b5ac6ffc-099e-11ec-afb5-02420a010016",
       "previous": "b5ac6ee4-099e-11ec-afb5-02420a010016"
      },
      {
       "current": "b5ac6f70-099e-11ec-afb5-02420a010016-2-cdba-3269",
       "next": "b5ac6ffc-099e-11ec-afb5-02420a010016-1-043e",
       "previous": "b5ac6ee4-099e-11ec-afb5-02420a010016-1-da97"
      },
      {
       "current": "b5ac6f70-099e-11ec-afb5-02420a010016-3-cdba-3269-482c",
       "next": "b5ac6ffc-099e-11ec-afb5-02420a010016-2-043e-77ae",
       "previous": "b5ac6ee4-099e-11ec-afb5-02420a010016-2-da97-9b08"
      },
      {
       "current": "b5ac6f70-099e-11ec-afb5-02420a010016-3-cdba-3269-482c",
       "next": "b5ac7290-099e-11ec-afb5-02420a010016-3-7337-fc49-88d2",
       "previous": "a315b18e-1518-11ec-a3c9-0242ac110002"
      }
     ],
     "next": "b5ac6ffc-099e-11ec-afb5-02420a010016-3-043e-77ae-98a9",
     "previous": "a315b18e-1518-11ec-a3c9-0242ac110002"
    }
   },
   "source": [
    "ジョブの実行スクリプトを作成します。"
   ]
  },
  {
   "cell_type": "code",
   "execution_count": null,
   "metadata": {
    "hidden": true,
    "lc_cell_meme": {
     "current": "b5ac6ffc-099e-11ec-afb5-02420a010016-3-043e-77ae-98a9",
     "history": [
      {
       "current": "b5ac6ffc-099e-11ec-afb5-02420a010016",
       "next": "b5ac707e-099e-11ec-afb5-02420a010016",
       "previous": "b5ac6f70-099e-11ec-afb5-02420a010016"
      },
      {
       "current": "b5ac6ffc-099e-11ec-afb5-02420a010016-1-043e",
       "next": "b5ac7290-099e-11ec-afb5-02420a010016",
       "previous": "b5ac6f70-099e-11ec-afb5-02420a010016"
      },
      {
       "current": "b5ac6ffc-099e-11ec-afb5-02420a010016-2-043e-77ae",
       "next": "b5ac7290-099e-11ec-afb5-02420a010016-1-7337",
       "previous": "b5ac6f70-099e-11ec-afb5-02420a010016-1-cdba"
      },
      {
       "current": "b5ac6ffc-099e-11ec-afb5-02420a010016-3-043e-77ae-98a9",
       "next": "b5ac7290-099e-11ec-afb5-02420a010016-2-7337-fc49",
       "previous": "b5ac6f70-099e-11ec-afb5-02420a010016-2-cdba-3269"
      }
     ],
     "next": "b5ac7290-099e-11ec-afb5-02420a010016-3-7337-fc49-88d2",
     "previous": "b5ac6f70-099e-11ec-afb5-02420a010016-3-cdba-3269-482c"
    },
    "lc_wrapper": {
     "log_history": [
      "/home/user513xb92482/ocs-templates/OpenHPC-v2/work-mnist/.log/20210830/20210830-233815-0069.log",
      "/home/user513xb92482/ocs-templates/OpenHPC-v2/work-mnist/.log/20210831/20210831-111055-0396.log",
      "/home/user513xb92482/ocs-templates/OpenHPC-v2/work-mnist/.log/20210831/20210831-115328-0145.log",
      "/home/user513xb92482/ocs-templates/OpenHPC-v2/work-mnist/.log/20210901/20210901-135322-0838.log",
      "/home/user513xb92482/ocs-templates/OpenHPC-v2/work-mnist/.log/20210902/20210902-164018-0185.log",
      "/home/user513xb92482/ocs-templates/OpenHPC-v2/work-mnist/.log/20210902/20210902-212456-0016.log",
      "/home/user513xb92482/ocs-templates/OpenHPC-v2/work-mnist/.log/20210902/20210902-213816-0812.log",
      "/home/user513xb92482/ocs-templates/OpenHPC-v2/work-mnist/.log/20210902/20210902-214225-0636.log",
      "/home/user513xb92482/ocs-templates/OpenHPC-v2/work-mnist/.log/20210903/20210903-100822-0224.log",
      "/home/user513xb92482/ocs-templates/OpenHPC-v2/work-mnist/.log/20210903/20210903-101859-0611.log",
      "/home/user513xb92482/ocs-templates/OpenHPC-v2/work-mnist/.log/20210903/20210903-102230-0012.log",
      "/home/user513xb92482/ocs-templates/OpenHPC-v2/work-mnist/.log/20210903/20210903-120803-0022.log",
      "/home/user513xb92482/ocs-templates/OpenHPC-v2/work-mnist/.log/20210903/20210903-120827-0481.log",
      "/home/user513xb92482/ocs-templates/OpenHPC-v2/work-mnist/.log/20210903/20210903-155415-0446.log",
      "/home/user513xb92482/ocs-templates/OpenHPC-v2/work-mnist/.log/20210903/20210903-161356-0941.log",
      "/notebooks/notebook/SAGA_home/210903.handson_cloudweek_2021/Deriver/2109.Recog_with_OpenHPC_template/1.OpenHPC-v2_system/.log/20210914/20210914-135122-0197.log",
      "/notebooks/notebook/SAGA_home/210903.handson_cloudweek_2021/Deriver/2109.Recog_with_OpenHPC_template/1.OpenHPC-v2_system/.log/20210914/20210914-141319-0163.log",
      "/notebooks/notebook/SAGA_home/210903.handson_cloudweek_2021/Deriver/2109.Recog_with_OpenHPC_template/1.OpenHPC-v2_system/.log/20210914/20210914-143735-0952.log"
     ]
    }
   },
   "outputs": [],
   "source": [
    "from tempfile import TemporaryDirectory\n",
    "from pathlib import Path\n",
    "\n",
    "with TemporaryDirectory() as workdir:\n",
    "    batch_file = Path(workdir) / 'tensorflow_mnist_docker.job'\n",
    "    with batch_file.open(mode='w') as f:\n",
    "        f.write(f'''#!/bin/bash\n",
    "        \n",
    "#SBATCH -J tensorflow-mnist-docker         # create a short name for your job\n",
    "#SBATCH -o tensorflow-mnist-docker.%j.out  # Name of stdout output file (%j expands to jobId)\n",
    "#SBATCH -N 1                               # Total number of nodes requested\n",
    "#SBATCH -n 1                               # Total number of across all nodes\n",
    "#SBATCH --gres=gpu:1                       # number of gpus per node\n",
    "#SBATCH -t 00:10:00                        # Run time (hh:mm:ss)\n",
    "\n",
    "docker run -td --gpus all -v /home/{user}:/home/{user} --rm --ipc=host --net=host --name tensorflow-{user} tensorflow-{user}\n",
    "docker exec -t -u {user} -w $HOME/{work_dir} tensorflow-{user} python3 download_mnist.py\n",
    "docker exec -t -u {user} -w $HOME/{work_dir} tensorflow-{user} python3 mnist_classify_cnn_handson.py\n",
    "docker stop tensorflow-{user}\n",
    "''')\n",
    "    !cat {batch_file}\n",
    "    !scp {ssh_opts} {str(batch_file)} {target}:{work_dir}"
   ]
  },
  {
   "cell_type": "markdown",
   "metadata": {
    "hidden": true,
    "lc_cell_meme": {
     "current": "b5ac7290-099e-11ec-afb5-02420a010016-3-7337-fc49-88d2",
     "history": [
      {
       "current": "b5ac7290-099e-11ec-afb5-02420a010016",
       "next": "b5ac7312-099e-11ec-afb5-02420a010016",
       "previous": "b5ac720e-099e-11ec-afb5-02420a010016"
      },
      {
       "current": "b5ac7290-099e-11ec-afb5-02420a010016-1-7337",
       "next": "b5ac7312-099e-11ec-afb5-02420a010016",
       "previous": "b5ac6ffc-099e-11ec-afb5-02420a010016"
      },
      {
       "current": "b5ac7290-099e-11ec-afb5-02420a010016-2-7337-fc49",
       "next": "b5ac7312-099e-11ec-afb5-02420a010016-1-6fa2",
       "previous": "b5ac6ffc-099e-11ec-afb5-02420a010016-1-043e"
      },
      {
       "current": "b5ac7290-099e-11ec-afb5-02420a010016-3-7337-fc49-88d2",
       "next": "b5ac7312-099e-11ec-afb5-02420a010016-2-6fa2-5a0b",
       "previous": "b5ac6ffc-099e-11ec-afb5-02420a010016-2-043e-77ae"
      },
      {
       "current": "b5ac7290-099e-11ec-afb5-02420a010016-3-7337-fc49-88d2",
       "next": "b5ac7312-099e-11ec-afb5-02420a010016-3-6fa2-5a0b-8743",
       "previous": "b5ac6f70-099e-11ec-afb5-02420a010016-3-cdba-3269-482c"
      }
     ],
     "next": "b5ac7312-099e-11ec-afb5-02420a010016-3-6fa2-5a0b-04f5",
     "previous": "b5ac6ffc-099e-11ec-afb5-02420a010016-3-043e-77ae-98a9"
    }
   },
   "source": [
    "ジョブを実行します。"
   ]
  },
  {
   "cell_type": "code",
   "execution_count": null,
   "metadata": {
    "hidden": true,
    "lc_cell_meme": {
     "current": "b5ac7312-099e-11ec-afb5-02420a010016-3-6fa2-5a0b-04f5",
     "history": [
      {
       "current": "b5ac7312-099e-11ec-afb5-02420a010016-1-6fa2",
       "next": "b5ac739e-099e-11ec-afb5-02420a010016",
       "previous": "b5ac7290-099e-11ec-afb5-02420a010016"
      },
      {
       "current": "b5ac7312-099e-11ec-afb5-02420a010016-2-6fa2-5a0b",
       "next": "b5ac739e-099e-11ec-afb5-02420a010016-1-af51",
       "previous": "b5ac7290-099e-11ec-afb5-02420a010016-1-7337"
      },
      {
       "current": "b5ac7312-099e-11ec-afb5-02420a010016-3-6fa2-5a0b-04f5",
       "next": "b5ac739e-099e-11ec-afb5-02420a010016-2-af51-d1e3",
       "previous": "b5ac7290-099e-11ec-afb5-02420a010016-2-7337-fc49"
      }
     ],
     "next": "b5ac739e-099e-11ec-afb5-02420a010016-3-af51-d1e3-5472",
     "previous": "b5ac7290-099e-11ec-afb5-02420a010016-3-7337-fc49-88d2"
    },
    "lc_wrapper": {
     "log_history": [
      "/home/user513xb92482/ocs-templates/OpenHPC-v2/work-mnist/.log/20210830/20210830-233832-0744.log",
      "/home/user513xb92482/ocs-templates/OpenHPC-v2/work-mnist/.log/20210831/20210831-111126-0819.log",
      "/home/user513xb92482/ocs-templates/OpenHPC-v2/work-mnist/.log/20210831/20210831-115339-0859.log",
      "/home/user513xb92482/ocs-templates/OpenHPC-v2/work-mnist/.log/20210831/20210831-115701-0312.log",
      "/home/user513xb92482/ocs-templates/OpenHPC-v2/work-mnist/.log/20210831/20210831-134431-0736.log",
      "/home/user513xb92482/ocs-templates/OpenHPC-v2/work-mnist/.log/20210831/20210831-134821-0953.log",
      "/home/user513xb92482/ocs-templates/OpenHPC-v2/work-mnist/.log/20210831/20210831-150603-0498.log",
      "/home/user513xb92482/ocs-templates/OpenHPC-v2/work-mnist/.log/20210831/20210831-150814-0057.log",
      "/home/user513xb92482/ocs-templates/OpenHPC-v2/work-mnist/.log/20210831/20210831-151105-0462.log",
      "/home/user513xb92482/ocs-templates/OpenHPC-v2/work-mnist/.log/20210831/20210831-151422-0800.log",
      "/home/user513xb92482/ocs-templates/OpenHPC-v2/work-mnist/.log/20210831/20210831-153000-0213.log",
      "/home/user513xb92482/ocs-templates/OpenHPC-v2/work-mnist/.log/20210831/20210831-153906-0872.log",
      "/home/user513xb92482/ocs-templates/OpenHPC-v2/work-mnist/.log/20210901/20210901-135331-0567.log",
      "/home/user513xb92482/ocs-templates/OpenHPC-v2/work-mnist/.log/20210901/20210901-142616-0230.log",
      "/home/user513xb92482/ocs-templates/OpenHPC-v2/work-mnist/.log/20210901/20210901-143220-0568.log",
      "/home/user513xb92482/ocs-templates/OpenHPC-v2/work-mnist/.log/20210901/20210901-143437-0952.log",
      "/home/user513xb92482/ocs-templates/OpenHPC-v2/work-mnist/.log/20210902/20210902-164450-0860.log",
      "/home/user513xb92482/ocs-templates/OpenHPC-v2/work-mnist/.log/20210902/20210902-212505-0263.log",
      "/home/user513xb92482/ocs-templates/OpenHPC-v2/work-mnist/.log/20210902/20210902-213822-0981.log",
      "/home/user513xb92482/ocs-templates/OpenHPC-v2/work-mnist/.log/20210902/20210902-214256-0534.log",
      "/home/user513xb92482/ocs-templates/OpenHPC-v2/work-mnist/.log/20210903/20210903-100838-0971.log",
      "/home/user513xb92482/ocs-templates/OpenHPC-v2/work-mnist/.log/20210903/20210903-101345-0877.log",
      "/home/user513xb92482/ocs-templates/OpenHPC-v2/work-mnist/.log/20210903/20210903-101935-0556.log",
      "/home/user513xb92482/ocs-templates/OpenHPC-v2/work-mnist/.log/20210903/20210903-102240-0995.log",
      "/home/user513xb92482/ocs-templates/OpenHPC-v2/work-mnist/.log/20210903/20210903-120832-0783.log",
      "/home/user513xb92482/ocs-templates/OpenHPC-v2/work-mnist/.log/20210903/20210903-155422-0924.log",
      "/home/user513xb92482/ocs-templates/OpenHPC-v2/work-mnist/.log/20210903/20210903-161407-0212.log",
      "/notebooks/notebook/SAGA_home/210903.handson_cloudweek_2021/Deriver/2109.Recog_with_OpenHPC_template/1.OpenHPC-v2_system/.log/20210914/20210914-135139-0135.log",
      "/notebooks/notebook/SAGA_home/210903.handson_cloudweek_2021/Deriver/2109.Recog_with_OpenHPC_template/1.OpenHPC-v2_system/.log/20210914/20210914-141351-0494.log",
      "/notebooks/notebook/SAGA_home/210903.handson_cloudweek_2021/Deriver/2109.Recog_with_OpenHPC_template/1.OpenHPC-v2_system/.log/20210914/20210914-143741-0367.log"
     ]
    }
   },
   "outputs": [],
   "source": [
    "# 以前の実行結果の削除\n",
    "!ssh {ssh_opts} {target} bash -l -c \\\n",
    "    \"'cd {work_dir} && rm -rf  tensorflow-mnist*.out saved_model*'\"\n",
    "\n",
    "# ジョブの実行\n",
    "!ssh {ssh_opts} {target} bash -l -c \\\n",
    "    \"'cd {work_dir} && sbatch tensorflow_mnist_docker.job'\""
   ]
  },
  {
   "cell_type": "markdown",
   "metadata": {
    "hidden": true,
    "lc_cell_meme": {
     "current": "b5ac739e-099e-11ec-afb5-02420a010016-3-af51-d1e3-5472",
     "history": [
      {
       "current": "b5ac739e-099e-11ec-afb5-02420a010016-1-af51",
       "next": "b5ac7420-099e-11ec-afb5-02420a010016",
       "previous": "b5ac7312-099e-11ec-afb5-02420a010016"
      },
      {
       "current": "b5ac739e-099e-11ec-afb5-02420a010016-2-af51-d1e3",
       "next": "b5ac7420-099e-11ec-afb5-02420a010016-1-7a27",
       "previous": "b5ac7312-099e-11ec-afb5-02420a010016-1-6fa2"
      },
      {
       "current": "b5ac739e-099e-11ec-afb5-02420a010016-3-af51-d1e3-5472",
       "next": "b5ac7420-099e-11ec-afb5-02420a010016-2-7a27-d795",
       "previous": "b5ac7312-099e-11ec-afb5-02420a010016-2-6fa2-5a0b"
      },
      {
       "current": "b5ac739e-099e-11ec-afb5-02420a010016-3-af51-d1e3-5472",
       "next": "b5ac7420-099e-11ec-afb5-02420a010016-3-7a27-d795-0def",
       "previous": "b5ac7312-099e-11ec-afb5-02420a010016-3-6fa2-5a0b-8743"
      }
     ],
     "next": "b5ac7420-099e-11ec-afb5-02420a010016-3-7a27-d795-98dd",
     "previous": "b5ac7312-099e-11ec-afb5-02420a010016-3-6fa2-5a0b-04f5"
    }
   },
   "source": [
    "ジョブの実行状況を確認します。終了までに数分かかります。JOB ID 欄に上のセルで実行した JOB IDが表示されなくなれば終了です。時々本セルを`unfreeze`して再実行し、実行終了を確認してください。ジョブ実行中のCPU, メモリ, GPUなどの利用状況は VCC の Grafana で確認することもできます。"
   ]
  },
  {
   "cell_type": "code",
   "execution_count": null,
   "metadata": {
    "hidden": true,
    "lc_cell_meme": {
     "current": "b5ac7420-099e-11ec-afb5-02420a010016-3-7a27-d795-98dd",
     "history": [
      {
       "current": "b5ac7420-099e-11ec-afb5-02420a010016",
       "next": "b5ac74a2-099e-11ec-afb5-02420a010016",
       "previous": "b5ac739e-099e-11ec-afb5-02420a010016"
      },
      {
       "current": "b5ac7420-099e-11ec-afb5-02420a010016",
       "next": "b5ac75b0-099e-11ec-afb5-02420a010016",
       "previous": "b5ac739e-099e-11ec-afb5-02420a010016"
      },
      {
       "current": "b5ac7420-099e-11ec-afb5-02420a010016-1-7a27",
       "next": "b5ac763c-099e-11ec-afb5-02420a010016",
       "previous": "b5ac739e-099e-11ec-afb5-02420a010016"
      },
      {
       "current": "b5ac7420-099e-11ec-afb5-02420a010016-2-7a27-d795",
       "next": "b5ac763c-099e-11ec-afb5-02420a010016-1-c6fc",
       "previous": "b5ac739e-099e-11ec-afb5-02420a010016-1-af51"
      },
      {
       "current": "b5ac7420-099e-11ec-afb5-02420a010016-3-7a27-d795-98dd",
       "next": "b5ac763c-099e-11ec-afb5-02420a010016-2-c6fc-aee1",
       "previous": "b5ac739e-099e-11ec-afb5-02420a010016-2-af51-d1e3"
      }
     ],
     "next": "b5ac763c-099e-11ec-afb5-02420a010016-3-c6fc-aee1-9965",
     "previous": "b5ac739e-099e-11ec-afb5-02420a010016-3-af51-d1e3-5472"
    },
    "lc_wrapper": {
     "log_history": [
      "/home/user513xb92482/ocs-templates/OpenHPC-v2/work-mnist/.log/20210830/20210830-233837-0497.log",
      "/home/user513xb92482/ocs-templates/OpenHPC-v2/work-mnist/.log/20210831/20210831-111132-0745.log",
      "/home/user513xb92482/ocs-templates/OpenHPC-v2/work-mnist/.log/20210831/20210831-111205-0049.log",
      "/home/user513xb92482/ocs-templates/OpenHPC-v2/work-mnist/.log/20210831/20210831-115345-0801.log",
      "/home/user513xb92482/ocs-templates/OpenHPC-v2/work-mnist/.log/20210831/20210831-115358-0096.log",
      "/home/user513xb92482/ocs-templates/OpenHPC-v2/work-mnist/.log/20210831/20210831-115527-0845.log",
      "/home/user513xb92482/ocs-templates/OpenHPC-v2/work-mnist/.log/20210831/20210831-115717-0133.log",
      "/home/user513xb92482/ocs-templates/OpenHPC-v2/work-mnist/.log/20210831/20210831-115734-0421.log",
      "/home/user513xb92482/ocs-templates/OpenHPC-v2/work-mnist/.log/20210831/20210831-134440-0555.log",
      "/home/user513xb92482/ocs-templates/OpenHPC-v2/work-mnist/.log/20210831/20210831-134610-0147.log",
      "/home/user513xb92482/ocs-templates/OpenHPC-v2/work-mnist/.log/20210831/20210831-134828-0997.log",
      "/home/user513xb92482/ocs-templates/OpenHPC-v2/work-mnist/.log/20210831/20210831-150611-0271.log",
      "/home/user513xb92482/ocs-templates/OpenHPC-v2/work-mnist/.log/20210831/20210831-150646-0927.log",
      "/home/user513xb92482/ocs-templates/OpenHPC-v2/work-mnist/.log/20210831/20210831-150821-0793.log",
      "/home/user513xb92482/ocs-templates/OpenHPC-v2/work-mnist/.log/20210831/20210831-150835-0561.log",
      "/home/user513xb92482/ocs-templates/OpenHPC-v2/work-mnist/.log/20210831/20210831-150934-0018.log",
      "/home/user513xb92482/ocs-templates/OpenHPC-v2/work-mnist/.log/20210831/20210831-151113-0643.log",
      "/home/user513xb92482/ocs-templates/OpenHPC-v2/work-mnist/.log/20210831/20210831-151137-0929.log",
      "/home/user513xb92482/ocs-templates/OpenHPC-v2/work-mnist/.log/20210831/20210831-151430-0556.log",
      "/home/user513xb92482/ocs-templates/OpenHPC-v2/work-mnist/.log/20210831/20210831-151457-0577.log",
      "/home/user513xb92482/ocs-templates/OpenHPC-v2/work-mnist/.log/20210831/20210831-153651-0708.log",
      "/home/user513xb92482/ocs-templates/OpenHPC-v2/work-mnist/.log/20210831/20210831-153938-0546.log",
      "/home/user513xb92482/ocs-templates/OpenHPC-v2/work-mnist/.log/20210901/20210901-135340-0667.log",
      "/home/user513xb92482/ocs-templates/OpenHPC-v2/work-mnist/.log/20210901/20210901-135404-0864.log",
      "/home/user513xb92482/ocs-templates/OpenHPC-v2/work-mnist/.log/20210901/20210901-142622-0988.log",
      "/home/user513xb92482/ocs-templates/OpenHPC-v2/work-mnist/.log/20210901/20210901-142634-0094.log",
      "/home/user513xb92482/ocs-templates/OpenHPC-v2/work-mnist/.log/20210901/20210901-142649-0353.log",
      "/home/user513xb92482/ocs-templates/OpenHPC-v2/work-mnist/.log/20210901/20210901-142703-0660.log",
      "/home/user513xb92482/ocs-templates/OpenHPC-v2/work-mnist/.log/20210901/20210901-143247-0653.log",
      "/home/user513xb92482/ocs-templates/OpenHPC-v2/work-mnist/.log/20210901/20210901-143254-0862.log",
      "/home/user513xb92482/ocs-templates/OpenHPC-v2/work-mnist/.log/20210901/20210901-143309-0628.log",
      "/home/user513xb92482/ocs-templates/OpenHPC-v2/work-mnist/.log/20210901/20210901-143446-0417.log",
      "/home/user513xb92482/ocs-templates/OpenHPC-v2/work-mnist/.log/20210901/20210901-143458-0517.log",
      "/home/user513xb92482/ocs-templates/OpenHPC-v2/work-mnist/.log/20210901/20210901-143506-0120.log",
      "/home/user513xb92482/ocs-templates/OpenHPC-v2/work-mnist/.log/20210901/20210901-143520-0440.log",
      "/home/user513xb92482/ocs-templates/OpenHPC-v2/work-mnist/.log/20210901/20210901-143528-0423.log",
      "/home/user513xb92482/ocs-templates/OpenHPC-v2/work-mnist/.log/20210902/20210902-164459-0223.log",
      "/home/user513xb92482/ocs-templates/OpenHPC-v2/work-mnist/.log/20210902/20210902-212519-0644.log",
      "/home/user513xb92482/ocs-templates/OpenHPC-v2/work-mnist/.log/20210902/20210902-212545-0364.log",
      "/home/user513xb92482/ocs-templates/OpenHPC-v2/work-mnist/.log/20210902/20210902-213831-0319.log",
      "/home/user513xb92482/ocs-templates/OpenHPC-v2/work-mnist/.log/20210902/20210902-213854-0818.log",
      "/home/user513xb92482/ocs-templates/OpenHPC-v2/work-mnist/.log/20210902/20210902-214307-0350.log",
      "/home/user513xb92482/ocs-templates/OpenHPC-v2/work-mnist/.log/20210902/20210902-214317-0847.log",
      "/home/user513xb92482/ocs-templates/OpenHPC-v2/work-mnist/.log/20210902/20210902-214329-0474.log",
      "/home/user513xb92482/ocs-templates/OpenHPC-v2/work-mnist/.log/20210902/20210902-214341-0248.log",
      "/home/user513xb92482/ocs-templates/OpenHPC-v2/work-mnist/.log/20210902/20210902-214352-0841.log",
      "/home/user513xb92482/ocs-templates/OpenHPC-v2/work-mnist/.log/20210903/20210903-100909-0723.log",
      "/home/user513xb92482/ocs-templates/OpenHPC-v2/work-mnist/.log/20210903/20210903-100925-0535.log",
      "/home/user513xb92482/ocs-templates/OpenHPC-v2/work-mnist/.log/20210903/20210903-101354-0955.log",
      "/home/user513xb92482/ocs-templates/OpenHPC-v2/work-mnist/.log/20210903/20210903-101411-0879.log",
      "/home/user513xb92482/ocs-templates/OpenHPC-v2/work-mnist/.log/20210903/20210903-101428-0801.log",
      "/home/user513xb92482/ocs-templates/OpenHPC-v2/work-mnist/.log/20210903/20210903-101958-0796.log",
      "/home/user513xb92482/ocs-templates/OpenHPC-v2/work-mnist/.log/20210903/20210903-102020-0542.log",
      "/home/user513xb92482/ocs-templates/OpenHPC-v2/work-mnist/.log/20210903/20210903-103020-0345.log",
      "/home/user513xb92482/ocs-templates/OpenHPC-v2/work-mnist/.log/20210903/20210903-120839-0524.log",
      "/home/user513xb92482/ocs-templates/OpenHPC-v2/work-mnist/.log/20210903/20210903-120854-0400.log",
      "/home/user513xb92482/ocs-templates/OpenHPC-v2/work-mnist/.log/20210903/20210903-120905-0988.log",
      "/home/user513xb92482/ocs-templates/OpenHPC-v2/work-mnist/.log/20210903/20210903-155431-0091.log",
      "/home/user513xb92482/ocs-templates/OpenHPC-v2/work-mnist/.log/20210903/20210903-155446-0103.log",
      "/home/user513xb92482/ocs-templates/OpenHPC-v2/work-mnist/.log/20210903/20210903-155454-0667.log",
      "/home/user513xb92482/ocs-templates/OpenHPC-v2/work-mnist/.log/20210903/20210903-155503-0240.log",
      "/home/user513xb92482/ocs-templates/OpenHPC-v2/work-mnist/.log/20210903/20210903-161414-0881.log",
      "/home/user513xb92482/ocs-templates/OpenHPC-v2/work-mnist/.log/20210903/20210903-161432-0379.log",
      "/home/user513xb92482/ocs-templates/OpenHPC-v2/work-mnist/.log/20210903/20210903-161452-0663.log",
      "/home/user513xb92482/ocs-templates/OpenHPC-v2/work-mnist/.log/20210903/20210903-161502-0895.log",
      "/notebooks/notebook/SAGA_home/210903.handson_cloudweek_2021/Deriver/2109.Recog_with_OpenHPC_template/1.OpenHPC-v2_system/.log/20210914/20210914-135153-0408.log",
      "/notebooks/notebook/SAGA_home/210903.handson_cloudweek_2021/Deriver/2109.Recog_with_OpenHPC_template/1.OpenHPC-v2_system/.log/20210914/20210914-135206-0521.log",
      "/notebooks/notebook/SAGA_home/210903.handson_cloudweek_2021/Deriver/2109.Recog_with_OpenHPC_template/1.OpenHPC-v2_system/.log/20210914/20210914-135219-0062.log",
      "/notebooks/notebook/SAGA_home/210903.handson_cloudweek_2021/Deriver/2109.Recog_with_OpenHPC_template/1.OpenHPC-v2_system/.log/20210914/20210914-141401-0053.log",
      "/notebooks/notebook/SAGA_home/210903.handson_cloudweek_2021/Deriver/2109.Recog_with_OpenHPC_template/1.OpenHPC-v2_system/.log/20210914/20210914-141439-0851.log",
      "/notebooks/notebook/SAGA_home/210903.handson_cloudweek_2021/Deriver/2109.Recog_with_OpenHPC_template/1.OpenHPC-v2_system/.log/20210914/20210914-143745-0893.log",
      "/notebooks/notebook/SAGA_home/210903.handson_cloudweek_2021/Deriver/2109.Recog_with_OpenHPC_template/1.OpenHPC-v2_system/.log/20210914/20210914-143802-0611.log",
      "/notebooks/notebook/SAGA_home/210903.handson_cloudweek_2021/Deriver/2109.Recog_with_OpenHPC_template/1.OpenHPC-v2_system/.log/20210914/20210914-143813-0223.log",
      "/notebooks/notebook/SAGA_home/210903.handson_cloudweek_2021/Deriver/2109.Recog_with_OpenHPC_template/1.OpenHPC-v2_system/.log/20210914/20210914-143825-0448.log",
      "/notebooks/notebook/SAGA_home/210903.handson_cloudweek_2021/Deriver/2109.Recog_with_OpenHPC_template/1.OpenHPC-v2_system/.log/20210914/20210914-143836-0114.log"
     ]
    },
    "scrolled": true
   },
   "outputs": [],
   "source": [
    "!ssh {ssh_opts} {target} squeue"
   ]
  },
  {
   "cell_type": "markdown",
   "metadata": {
    "hidden": true,
    "lc_cell_meme": {
     "current": "b5ac763c-099e-11ec-afb5-02420a010016-3-c6fc-aee1-9965",
     "history": [
      {
       "current": "b5ac763c-099e-11ec-afb5-02420a010016",
       "next": "b5ac76c8-099e-11ec-afb5-02420a010016",
       "previous": "b5ac75b0-099e-11ec-afb5-02420a010016"
      },
      {
       "current": "b5ac763c-099e-11ec-afb5-02420a010016-1-c6fc",
       "next": "b5ac76c8-099e-11ec-afb5-02420a010016",
       "previous": "b5ac7420-099e-11ec-afb5-02420a010016"
      },
      {
       "current": "b5ac763c-099e-11ec-afb5-02420a010016-2-c6fc-aee1",
       "next": "b5ac76c8-099e-11ec-afb5-02420a010016-1-0f94",
       "previous": "b5ac7420-099e-11ec-afb5-02420a010016-1-7a27"
      },
      {
       "current": "b5ac763c-099e-11ec-afb5-02420a010016-3-c6fc-aee1-9965",
       "next": "b5ac76c8-099e-11ec-afb5-02420a010016-2-0f94-ba20",
       "previous": "b5ac7420-099e-11ec-afb5-02420a010016-2-7a27-d795"
      },
      {
       "current": "b5ac763c-099e-11ec-afb5-02420a010016-3-c6fc-aee1-9965",
       "next": "b5ac76c8-099e-11ec-afb5-02420a010016-3-0f94-ba20-276b",
       "previous": "b5ac7420-099e-11ec-afb5-02420a010016-3-7a27-d795-0def"
      },
      {
       "current": "b5ac763c-099e-11ec-afb5-02420a010016-3-c6fc-aee1-9965",
       "next": "b5ac76c8-099e-11ec-afb5-02420a010016-3-0f94-ba20-276b",
       "previous": "b5ac7420-099e-11ec-afb5-02420a010016-3-7a27-d795-98dd"
      }
     ],
     "next": "b5ac76c8-099e-11ec-afb5-02420a010016-3-0f94-ba20-0308",
     "previous": "b5ac7420-099e-11ec-afb5-02420a010016-3-7a27-d795-98dd"
    }
   },
   "source": [
    "ジョブの完了後に次のセルを実行してください。ジョブの出力結果が確認できます。"
   ]
  },
  {
   "cell_type": "code",
   "execution_count": null,
   "metadata": {
    "hidden": true,
    "lc_cell_meme": {
     "current": "b5ac76c8-099e-11ec-afb5-02420a010016-3-0f94-ba20-0308",
     "history": [
      {
       "current": "b5ac76c8-099e-11ec-afb5-02420a010016-1-0f94",
       "next": "b5ac774a-099e-11ec-afb5-02420a010016",
       "previous": "b5ac763c-099e-11ec-afb5-02420a010016"
      },
      {
       "current": "b5ac76c8-099e-11ec-afb5-02420a010016-2-0f94-ba20",
       "next": "b5ac774a-099e-11ec-afb5-02420a010016-1-1dc5",
       "previous": "b5ac763c-099e-11ec-afb5-02420a010016-1-c6fc"
      },
      {
       "current": "b5ac76c8-099e-11ec-afb5-02420a010016-3-0f94-ba20-0308",
       "next": "b5ac774a-099e-11ec-afb5-02420a010016-2-1dc5-8beb",
       "previous": "b5ac763c-099e-11ec-afb5-02420a010016-2-c6fc-aee1"
      }
     ],
     "next": "b5ac774a-099e-11ec-afb5-02420a010016-3-1dc5-8beb-072d",
     "previous": "b5ac763c-099e-11ec-afb5-02420a010016-3-c6fc-aee1-9965"
    },
    "lc_wrapper": {
     "log_history": [
      "/home/user513xb92482/ocs-templates/OpenHPC-v2/work-mnist/.log/20210830/20210830-233937-0060.log",
      "/home/user513xb92482/ocs-templates/OpenHPC-v2/work-mnist/.log/20210831/20210831-111213-0288.log",
      "/home/user513xb92482/ocs-templates/OpenHPC-v2/work-mnist/.log/20210831/20210831-115534-0339.log",
      "/home/user513xb92482/ocs-templates/OpenHPC-v2/work-mnist/.log/20210831/20210831-115744-0079.log",
      "/home/user513xb92482/ocs-templates/OpenHPC-v2/work-mnist/.log/20210831/20210831-134618-0843.log",
      "/home/user513xb92482/ocs-templates/OpenHPC-v2/work-mnist/.log/20210831/20210831-135041-0287.log",
      "/home/user513xb92482/ocs-templates/OpenHPC-v2/work-mnist/.log/20210831/20210831-135210-0772.log",
      "/home/user513xb92482/ocs-templates/OpenHPC-v2/work-mnist/.log/20210831/20210831-150652-0353.log",
      "/home/user513xb92482/ocs-templates/OpenHPC-v2/work-mnist/.log/20210831/20210831-150941-0905.log",
      "/home/user513xb92482/ocs-templates/OpenHPC-v2/work-mnist/.log/20210831/20210831-151144-0207.log",
      "/home/user513xb92482/ocs-templates/OpenHPC-v2/work-mnist/.log/20210831/20210831-151511-0886.log",
      "/home/user513xb92482/ocs-templates/OpenHPC-v2/work-mnist/.log/20210831/20210831-153659-0246.log",
      "/home/user513xb92482/ocs-templates/OpenHPC-v2/work-mnist/.log/20210831/20210831-153943-0598.log",
      "/home/user513xb92482/ocs-templates/OpenHPC-v2/work-mnist/.log/20210901/20210901-135410-0375.log",
      "/home/user513xb92482/ocs-templates/OpenHPC-v2/work-mnist/.log/20210901/20210901-142711-0104.log",
      "/home/user513xb92482/ocs-templates/OpenHPC-v2/work-mnist/.log/20210901/20210901-143314-0573.log",
      "/home/user513xb92482/ocs-templates/OpenHPC-v2/work-mnist/.log/20210901/20210901-143533-0590.log",
      "/home/user513xb92482/ocs-templates/OpenHPC-v2/work-mnist/.log/20210902/20210902-164735-0518.log",
      "/home/user513xb92482/ocs-templates/OpenHPC-v2/work-mnist/.log/20210902/20210902-212552-0135.log",
      "/home/user513xb92482/ocs-templates/OpenHPC-v2/work-mnist/.log/20210902/20210902-213901-0478.log",
      "/home/user513xb92482/ocs-templates/OpenHPC-v2/work-mnist/.log/20210902/20210902-214357-0752.log",
      "/home/user513xb92482/ocs-templates/OpenHPC-v2/work-mnist/.log/20210903/20210903-100933-0476.log",
      "/home/user513xb92482/ocs-templates/OpenHPC-v2/work-mnist/.log/20210903/20210903-101438-0077.log",
      "/home/user513xb92482/ocs-templates/OpenHPC-v2/work-mnist/.log/20210903/20210903-102025-0269.log",
      "/home/user513xb92482/ocs-templates/OpenHPC-v2/work-mnist/.log/20210903/20210903-103025-0414.log",
      "/home/user513xb92482/ocs-templates/OpenHPC-v2/work-mnist/.log/20210903/20210903-120911-0234.log",
      "/home/user513xb92482/ocs-templates/OpenHPC-v2/work-mnist/.log/20210903/20210903-155510-0389.log",
      "/home/user513xb92482/ocs-templates/OpenHPC-v2/work-mnist/.log/20210903/20210903-161511-0703.log",
      "/notebooks/notebook/SAGA_home/210903.handson_cloudweek_2021/Deriver/2109.Recog_with_OpenHPC_template/1.OpenHPC-v2_system/.log/20210914/20210914-135225-0545.log",
      "/notebooks/notebook/SAGA_home/210903.handson_cloudweek_2021/Deriver/2109.Recog_with_OpenHPC_template/1.OpenHPC-v2_system/.log/20210914/20210914-141455-0742.log",
      "/notebooks/notebook/SAGA_home/210903.handson_cloudweek_2021/Deriver/2109.Recog_with_OpenHPC_template/1.OpenHPC-v2_system/.log/20210914/20210914-143841-0678.log"
     ]
    },
    "tags": [
     "vcp:wait:180"
    ]
   },
   "outputs": [],
   "source": [
    "!ssh {ssh_opts} {target} bash -l -c \\\n",
    "    \"'cd {work_dir} && tail tensorflow-mnist*.out'\""
   ]
  },
  {
   "cell_type": "markdown",
   "metadata": {
    "hidden": true,
    "lc_cell_meme": {
     "current": "b5ac774a-099e-11ec-afb5-02420a010016-3-1dc5-8beb-072d",
     "history": [
      {
       "current": "b5ac774a-099e-11ec-afb5-02420a010016",
       "next": "0a44dce0-0a01-11ec-afb5-02420a010016",
       "previous": "b5ac76c8-099e-11ec-afb5-02420a010016"
      },
      {
       "current": "b5ac774a-099e-11ec-afb5-02420a010016-1-1dc5",
       "next": "67bef4d6-0bc4-11ec-afb5-02420a010016",
       "previous": "b5ac76c8-099e-11ec-afb5-02420a010016"
      },
      {
       "current": "b5ac774a-099e-11ec-afb5-02420a010016-2-1dc5-8beb",
       "next": "67bef4d6-0bc4-11ec-afb5-02420a010016-1-5665",
       "previous": "b5ac76c8-099e-11ec-afb5-02420a010016-1-0f94"
      },
      {
       "current": "b5ac774a-099e-11ec-afb5-02420a010016-3-1dc5-8beb-072d",
       "next": "67bef4d6-0bc4-11ec-afb5-02420a010016-2-5665-adf7",
       "previous": "b5ac76c8-099e-11ec-afb5-02420a010016-2-0f94-ba20"
      },
      {
       "current": "b5ac774a-099e-11ec-afb5-02420a010016-3-1dc5-8beb-072d",
       "next": "67bef4d6-0bc4-11ec-afb5-02420a010016-3-5665-adf7-5168",
       "previous": "b5ac76c8-099e-11ec-afb5-02420a010016-3-0f94-ba20-276b"
      }
     ],
     "next": "67bef4d6-0bc4-11ec-afb5-02420a010016-3-5665-adf7-5168",
     "previous": "b5ac76c8-099e-11ec-afb5-02420a010016-3-0f94-ba20-0308"
    }
   },
   "source": [
    "ジョブの実行が完了していれば出力結果の末尾に以下のような内容が表示されます。\n",
    "\n",
    "```\n",
    "1875/1875 [==============================] - 2s 1ms/step - loss: 0.1098 - accuracy: 0.9664\n",
    "Epoch 4/5\n",
    "1875/1875 [==============================] - 2s 1ms/step - loss: 0.0891 - accuracy: 0.9724\n",
    "Epoch 5/5\n",
    "1875/1875 [==============================] - 2s 1ms/step - loss: 0.0748 - accuracy: 0.9755\n",
    "313/313 - 0s - loss: 0.0839 - accuracy: 0.9748\n",
    "\n",
    "Test accuracy: 0.9747999906539917\n",
    "```"
   ]
  },
  {
   "cell_type": "markdown",
   "metadata": {
    "hidden": true,
    "lc_cell_meme": {
     "current": "67bef4d6-0bc4-11ec-afb5-02420a010016-3-5665-adf7-5168",
     "history": [
      {
       "current": "67bef4d6-0bc4-11ec-afb5-02420a010016",
       "next": "7301af20-0bc2-11ec-afb5-02420a010016",
       "previous": "0a44dce0-0a01-11ec-afb5-02420a010016"
      },
      {
       "current": "67bef4d6-0bc4-11ec-afb5-02420a010016-1-5665",
       "next": "7301af20-0bc2-11ec-afb5-02420a010016",
       "previous": "b5ac774a-099e-11ec-afb5-02420a010016"
      },
      {
       "current": "67bef4d6-0bc4-11ec-afb5-02420a010016-2-5665-adf7",
       "next": "7301af20-0bc2-11ec-afb5-02420a010016-1-94c6",
       "previous": "b5ac774a-099e-11ec-afb5-02420a010016-1-1dc5"
      },
      {
       "current": "67bef4d6-0bc4-11ec-afb5-02420a010016-3-5665-adf7-5168",
       "next": "7301af20-0bc2-11ec-afb5-02420a010016-2-94c6-bb1e",
       "previous": "b5ac774a-099e-11ec-afb5-02420a010016-2-1dc5-8beb"
      },
      {
       "current": "67bef4d6-0bc4-11ec-afb5-02420a010016-3-5665-adf7-5168",
       "next": "7301af20-0bc2-11ec-afb5-02420a010016-3-94c6-bb1e-0b42",
       "previous": "b5ac774a-099e-11ec-afb5-02420a010016-3-1dc5-8beb-072d"
      }
     ],
     "next": "7301af20-0bc2-11ec-afb5-02420a010016-3-94c6-bb1e-9445",
     "previous": "b5ac774a-099e-11ec-afb5-02420a010016-3-1dc5-8beb-072d"
    }
   },
   "source": [
    "学習済みモデル・重みファイルを、認識環境構築テンプレートの環境にダウンロードします。"
   ]
  },
  {
   "cell_type": "code",
   "execution_count": null,
   "metadata": {
    "hidden": true,
    "lc_cell_meme": {
     "current": "7301af20-0bc2-11ec-afb5-02420a010016-3-94c6-bb1e-9445",
     "history": [
      {
       "current": "7301af20-0bc2-11ec-afb5-02420a010016",
       "next": "91272cfe-0bc3-11ec-afb5-02420a010016",
       "previous": "0a44dec0-0a01-11ec-afb5-02420a010016"
      },
      {
       "current": "7301af20-0bc2-11ec-afb5-02420a010016",
       "next": "91272cfe-0bc3-11ec-afb5-02420a010016-2-5c1b-fb9c",
       "previous": "0a44dec0-0a01-11ec-afb5-02420a010016"
      },
      {
       "current": "7301af20-0bc2-11ec-afb5-02420a010016",
       "next": "91272cfe-0bc3-11ec-afb5-02420a010016-2-5c1b-fb9c",
       "previous": "0a44dce0-0a01-11ec-afb5-02420a010016"
      },
      {
       "current": "7301af20-0bc2-11ec-afb5-02420a010016",
       "next": null,
       "previous": "67bef4d6-0bc4-11ec-afb5-02420a010016"
      },
      {
       "current": "7301af20-0bc2-11ec-afb5-02420a010016",
       "next": "8fffbe40-0beb-11ec-afb5-02420a010016",
       "previous": "67bef4d6-0bc4-11ec-afb5-02420a010016"
      },
      {
       "current": "7301af20-0bc2-11ec-afb5-02420a010016-1-94c6",
       "next": "9eea9e02-0c54-11ec-afb5-02420a010016",
       "previous": "67bef4d6-0bc4-11ec-afb5-02420a010016"
      },
      {
       "current": "7301af20-0bc2-11ec-afb5-02420a010016-2-94c6-bb1e",
       "next": null,
       "previous": "67bef4d6-0bc4-11ec-afb5-02420a010016-1-5665"
      },
      {
       "current": "7301af20-0bc2-11ec-afb5-02420a010016-2-94c6-bb1e",
       "next": null,
       "previous": "67bef4d6-0bc4-11ec-afb5-02420a010016-2-5665-adf7"
      },
      {
       "current": "7301af20-0bc2-11ec-afb5-02420a010016-2-94c6-bb1e",
       "next": "cc79901e-1517-11ec-a3c9-0242ac110002",
       "previous": "67bef4d6-0bc4-11ec-afb5-02420a010016-2-5665-adf7"
      },
      {
       "current": "7301af20-0bc2-11ec-afb5-02420a010016-3-94c6-bb1e-9445",
       "next": "5b81dfdc-1518-11ec-a3c9-0242ac110002",
       "previous": "67bef4d6-0bc4-11ec-afb5-02420a010016-2-5665-adf7"
      },
      {
       "current": "7301af20-0bc2-11ec-afb5-02420a010016-3-94c6-bb1e-9445",
       "next": null,
       "previous": "67bef4d6-0bc4-11ec-afb5-02420a010016-3-5665-adf7-5168"
      }
     ],
     "next": "26ce090c-151b-11ec-a3c9-0242ac110002",
     "previous": "67bef4d6-0bc4-11ec-afb5-02420a010016-3-5665-adf7-5168"
    },
    "lc_wrapper": {
     "log_history": [
      "/home/user513xb92482/ocs-templates/OpenHPC-v2/work-mnist/.log/20210902/20210902-165708-0766.log",
      "/home/user513xb92482/ocs-templates/OpenHPC-v2/work-mnist/.log/20210902/20210902-170200-0919.log",
      "/home/user513xb92482/ocs-templates/OpenHPC-v2/work-mnist/.log/20210902/20210902-212624-0453.log",
      "/home/user513xb92482/ocs-templates/OpenHPC-v2/work-mnist/.log/20210902/20210902-214415-0514.log",
      "/home/user513xb92482/ocs-templates/OpenHPC-v2/work-mnist/.log/20210903/20210903-101008-0700.log",
      "/home/user513xb92482/ocs-templates/OpenHPC-v2/work-mnist/.log/20210903/20210903-101514-0225.log",
      "/home/user513xb92482/ocs-templates/OpenHPC-v2/work-mnist/.log/20210903/20210903-102041-0646.log",
      "/home/user513xb92482/ocs-templates/OpenHPC-v2/work-mnist/.log/20210903/20210903-103043-0142.log",
      "/home/user513xb92482/ocs-templates/OpenHPC-v2/work-mnist/.log/20210903/20210903-120932-0844.log",
      "/home/user513xb92482/ocs-templates/OpenHPC-v2/work-mnist/.log/20210903/20210903-155625-0057.log",
      "/home/user513xb92482/ocs-templates/OpenHPC-v2/work-mnist/.log/20210903/20210903-161543-0273.log",
      "/notebooks/notebook/SAGA_home/210903.handson_cloudweek_2021/Deriver/2109.Recog_with_OpenHPC_template/1.OpenHPC-v2_system/.log/20210914/20210914-135246-0392.log",
      "/notebooks/notebook/SAGA_home/210903.handson_cloudweek_2021/Deriver/2109.Recog_with_OpenHPC_template/1.OpenHPC-v2_system/.log/20210914/20210914-141541-0652.log",
      "/notebooks/notebook/SAGA_home/210903.handson_cloudweek_2021/Deriver/2109.Recog_with_OpenHPC_template/1.OpenHPC-v2_system/.log/20210914/20210914-143851-0799.log"
     ]
    }
   },
   "outputs": [],
   "source": [
    "!scp {ssh_opts} -p {target}:{work_dir}/saved_model2.tgz {save_dir}"
   ]
  },
  {
   "cell_type": "markdown",
   "metadata": {
    "lc_cell_meme": {
     "current": "26ce090c-151b-11ec-a3c9-0242ac110002",
     "history": [
      {
       "current": "26ce090c-151b-11ec-a3c9-0242ac110002",
       "next": null,
       "previous": "7301af20-0bc2-11ec-afb5-02420a010016-3-94c6-bb1e-9445"
      }
     ],
     "next": "6e5573aa-151b-11ec-a3c9-0242ac110002",
     "previous": "7301af20-0bc2-11ec-afb5-02420a010016-3-94c6-bb1e-9445"
    }
   },
   "source": [
    "## 環境の削除"
   ]
  },
  {
   "cell_type": "markdown",
   "metadata": {
    "lc_cell_meme": {
     "current": "6e5573aa-151b-11ec-a3c9-0242ac110002",
     "next": null,
     "previous": "26ce090c-151b-11ec-a3c9-0242ac110002"
    }
   },
   "source": [
    "本テンプレートは、OpenHPCテンプレートで構築した環境を利用しており、独自に構築した環境はありません。OpenHPC 環境の削除は、OpenHPC テンプレートの作業ディレクトリで`912-ノードの再開.ipynb`を実行してください。"
   ]
  }
 ],
 "metadata": {
  "kernelspec": {
   "display_name": "Python 3",
   "language": "python",
   "name": "python3"
  },
  "language_info": {
   "file_extension": ".py",
   "mimetype": "text/x-python",
   "name": "python",
   "nbconvert_exporter": "python",
   "pygments_lexer": "ipython3",
   "version": "3.8.6"
  },
  "lc_notebook_meme": {
   "current": "b5ac4446-099e-11ec-afb5-02420a010016",
   "lc_server_signature": {
    "current": {
     "notebook_dir": "/notebooks/notebook",
     "notebook_path": "/SAGA_home/210903.handson_cloudweek_2021/Deriver/2109.Recog_with_OpenHPC_template/1.OpenHPC-v2_system",
     "server_url": "https://vcc1043.vcp-handson.org/jupyter/",
     "signature_id": "579ee850-f52a-11eb-a0cc-0242ac110002"
    },
    "history": [
     {
      "notebook_dir": "/home/user513xb92482",
      "notebook_path": "/ocs-templates/OpenHPC-v2/work-mnist",
      "server_url": "https://cwh1042.vcp-handson.org/user/user513xb92482/",
      "signature_id": "8b8b9cce-d7e0-11eb-a7d3-02420a010018"
     },
     {
      "notebook_dir": "/notebooks/notebook",
      "notebook_path": "/SAGA_home/hands-on/hands-on.513/vcp-tutorial/OpenHPC-v2テンプレートによる手書き数字認識システムの構築/1.学習システムの構築",
      "server_url": "https://vcc1043.vcp-handson.org/jupyter/",
      "signature_id": "579ee850-f52a-11eb-a0cc-0242ac110002"
     }
    ]
   }
  },
  "toc": {
   "base_numbering": 1,
   "nav_menu": {},
   "number_sections": true,
   "sideBar": true,
   "skip_h1_title": true,
   "title_cell": "Table of Contents",
   "title_sidebar": "Contents",
   "toc_cell": false,
   "toc_position": {},
   "toc_section_display": true,
   "toc_window_display": true
  }
 },
 "nbformat": 4,
 "nbformat_minor": 2
}
