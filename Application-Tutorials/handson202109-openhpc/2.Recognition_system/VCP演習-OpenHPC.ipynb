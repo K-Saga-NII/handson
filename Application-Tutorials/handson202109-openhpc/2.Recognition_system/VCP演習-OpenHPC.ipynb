{
 "cells": [
  {
   "cell_type": "markdown",
   "metadata": {
    "lc_cell_meme": {
     "current": "0378dbe8-0b85-11ec-9aeb-02420a01001e-4-6c99-7bcb-5ded-a8aa",
     "history": [
      {
       "current": "7a45bc12-0542-11ec-a3c9-0242ac110002-1-ba8c",
       "next": "f873a024-f933-11eb-a3c9-0242ac110002",
       "previous": null
      },
      {
       "current": "7a45bc12-0542-11ec-a3c9-0242ac110002-1-ba8c",
       "next": "f873a024-f933-11eb-a3c9-0242ac110002-1-8b9a",
       "previous": null
      },
      {
       "current": "7a45bc12-0542-11ec-a3c9-0242ac110002-2-ba8c-730e",
       "next": "f873a024-f933-11eb-a3c9-0242ac110002-1-8b9a",
       "previous": null
      },
      {
       "current": "7a45bc12-0542-11ec-a3c9-0242ac110002-2-ba8c-730e",
       "next": "f873a024-f933-11eb-a3c9-0242ac110002-2-8b9a-f97e",
       "previous": null
      },
      {
       "current": "d03e89c2-0b3d-11ec-a5ab-02420a01001e",
       "next": "d03e8b0c-0b3d-11ec-a5ab-02420a01001e",
       "previous": null
      },
      {
       "current": "97f962f6-0b3f-11ec-8ea2-02420a01001e",
       "next": "97f96440-0b3f-11ec-8ea2-02420a01001e",
       "previous": null
      },
      {
       "current": "8c2418ec-0b7e-11ec-8636-02420a01001e",
       "next": "8c241a54-0b7e-11ec-8636-02420a01001e",
       "previous": null
      },
      {
       "current": "0378dbe8-0b85-11ec-9aeb-02420a01001e-1-6c99",
       "next": "0378dd32-0b85-11ec-9aeb-02420a01001e",
       "previous": null
      },
      {
       "current": "0378dbe8-0b85-11ec-9aeb-02420a01001e-2-6c99-7bcb",
       "next": "0378dd32-0b85-11ec-9aeb-02420a01001e-1-628d",
       "previous": null
      },
      {
       "current": "0378dbe8-0b85-11ec-9aeb-02420a01001e-3-6c99-7bcb-5ded",
       "next": "0378dd32-0b85-11ec-9aeb-02420a01001e-2-628d-0a8c",
       "previous": null
      },
      {
       "current": "0378dbe8-0b85-11ec-9aeb-02420a01001e-4-6c99-7bcb-5ded-a8aa",
       "next": "0378dd32-0b85-11ec-9aeb-02420a01001e-3-628d-0a8c-df7a",
       "previous": null
      }
     ],
     "next": "0378dd32-0b85-11ec-9aeb-02420a01001e-4-628d-0a8c-df7a-fedd",
     "previous": null
    }
   },
   "source": [
    "# TensorFlow/MNISTによる手書き数字認識システムの構築\n",
    "\n",
    "---\n",
    "\n",
    "公開中の \"OpenHPC-v2\" テンプレートを使うと、クラウド上に GPU ノードクラスタを構築することができます。機械学習フレームワークである TensorFlow と Pytorch もサポートしています。\n",
    "\n",
    "機械学習を使ったアプリケーション環境では、アプリケーションの実行環境では推論のみ行い、学習は別のシステムで行う構成を取ることがよくあります。これは、必要な計算能力やメモリ容量が「学習 >> 推論」であることや、秘密情報を含む学習データをユーザーがアクセスする環境に置きたくないなどの理由によるものです。\n",
    "\n",
    "本ハンズオンでは、OpenHPC-v2 テンプレートで構築した TensorFlow 環境を学習システムとし、本テンプレートで構築する環境を認識（推論）システムとする、手書き数字認識アプリケーション(MNIST)環境を構築します。なお、OpneHPC-v2テンプレートによる学習環境の構築には時間を要するため、やむを得ず、あらかじめ講師環境の OpenHPC(TensorFlow)環境で学習したニューラルネットのモデルと重みを使います。\n",
    "\n"
   ]
  },
  {
   "cell_type": "markdown",
   "metadata": {
    "lc_cell_meme": {
     "current": "0378dd32-0b85-11ec-9aeb-02420a01001e-4-628d-0a8c-df7a-fedd",
     "history": [
      {
       "current": "f873a024-f933-11eb-a3c9-0242ac110002",
       "next": "4a644288-a933-11e9-ba83-02420a010053-3-f645-6b0e-a165",
       "previous": "4a644120-a933-11e9-ba83-02420a010053-3-e717-1970-897e"
      },
      {
       "current": "f873a024-f933-11eb-a3c9-0242ac110002",
       "next": "4a6449a4-a933-11e9-ba83-02420a010053-3-8fae-ce5c-17f4",
       "previous": "4a644120-a933-11e9-ba83-02420a010053-3-e717-1970-897e"
      },
      {
       "current": "f873a024-f933-11eb-a3c9-0242ac110002",
       "next": "4a6449a4-a933-11e9-ba83-02420a010053-3-8fae-ce5c-17f4",
       "previous": "4a644120-a933-11e9-ba83-02420a010053-5-e717-1970-897e-b1df-acf8"
      },
      {
       "current": "f873a024-f933-11eb-a3c9-0242ac110002-1-8b9a",
       "next": "4a6449a4-a933-11e9-ba83-02420a010053-3-8fae-ce5c-17f4",
       "previous": "7a45bc12-0542-11ec-a3c9-0242ac110002"
      },
      {
       "current": "f873a024-f933-11eb-a3c9-0242ac110002-2-8b9a-f97e",
       "next": "4a6449a4-a933-11e9-ba83-02420a010053-4-8fae-ce5c-17f4-f28d",
       "previous": "7a45bc12-0542-11ec-a3c9-0242ac110002-1-ba8c"
      },
      {
       "current": "f873a024-f933-11eb-a3c9-0242ac110002-2-8b9a-f97e",
       "next": "4a6449a4-a933-11e9-ba83-02420a010053-5-8fae-ce5c-17f4-f28d-dad6",
       "previous": "7a45bc12-0542-11ec-a3c9-0242ac110002-2-ba8c-730e"
      },
      {
       "current": "d03e8b0c-0b3d-11ec-a5ab-02420a01001e",
       "next": "d03e8c24-0b3d-11ec-a5ab-02420a01001e",
       "previous": "d03e89c2-0b3d-11ec-a5ab-02420a01001e"
      },
      {
       "current": "97f96440-0b3f-11ec-8ea2-02420a01001e",
       "next": "97f9651c-0b3f-11ec-8ea2-02420a01001e",
       "previous": "97f962f6-0b3f-11ec-8ea2-02420a01001e"
      },
      {
       "current": "8c241a54-0b7e-11ec-8636-02420a01001e",
       "next": "8c241b44-0b7e-11ec-8636-02420a01001e",
       "previous": "8c2418ec-0b7e-11ec-8636-02420a01001e"
      },
      {
       "current": "0378dd32-0b85-11ec-9aeb-02420a01001e-1-628d",
       "next": "0378de22-0b85-11ec-9aeb-02420a01001e",
       "previous": "0378dbe8-0b85-11ec-9aeb-02420a01001e"
      },
      {
       "current": "0378dd32-0b85-11ec-9aeb-02420a01001e-2-628d-0a8c",
       "next": "0378de22-0b85-11ec-9aeb-02420a01001e-1-d9e9",
       "previous": "0378dbe8-0b85-11ec-9aeb-02420a01001e-1-6c99"
      },
      {
       "current": "0378dd32-0b85-11ec-9aeb-02420a01001e-3-628d-0a8c-df7a",
       "next": "0378de22-0b85-11ec-9aeb-02420a01001e-2-d9e9-381f",
       "previous": "0378dbe8-0b85-11ec-9aeb-02420a01001e-2-6c99-7bcb"
      },
      {
       "current": "0378dd32-0b85-11ec-9aeb-02420a01001e-4-628d-0a8c-df7a-fedd",
       "next": "0378de22-0b85-11ec-9aeb-02420a01001e-3-d9e9-381f-67a6",
       "previous": "0378dbe8-0b85-11ec-9aeb-02420a01001e-3-6c99-7bcb-5ded"
      }
     ],
     "next": "0378de22-0b85-11ec-9aeb-02420a01001e-4-d9e9-381f-67a6-3511",
     "previous": "0378dbe8-0b85-11ec-9aeb-02420a01001e-4-6c99-7bcb-5ded-a8aa"
    }
   },
   "source": [
    "本テンプレートの流れ\n",
    "1. 構築環境情報の入力\n",
    "1. VCPの初期化\n",
    "1. CPUのみのVCノードの作成\n",
    "1. TensorFlow環境の構築\n",
    "1. MNISTによる手書き数字認識\n",
    "1. 環境の削除"
   ]
  },
  {
   "cell_type": "markdown",
   "metadata": {
    "lc_cell_meme": {
     "current": "0378de22-0b85-11ec-9aeb-02420a01001e-4-d9e9-381f-67a6-3511",
     "history": [
      {
       "current": "4a6449a4-a933-11e9-ba83-02420a010053",
       "next": "4a644a76-a933-11e9-ba83-02420a010053",
       "previous": "4a6448c8-a933-11e9-ba83-02420a010053"
      },
      {
       "current": "4a6449a4-a933-11e9-ba83-02420a010053-1-8fae",
       "next": "4a644a76-a933-11e9-ba83-02420a010053",
       "previous": "4a644710-a933-11e9-ba83-02420a010053"
      },
      {
       "current": "4a6449a4-a933-11e9-ba83-02420a010053-2-8fae-ce5c",
       "next": "4a644a76-a933-11e9-ba83-02420a010053-1-3b13",
       "previous": "4a644710-a933-11e9-ba83-02420a010053-1-d840"
      },
      {
       "current": "4a6449a4-a933-11e9-ba83-02420a010053-3-8fae-ce5c-17f4",
       "next": "4a644a76-a933-11e9-ba83-02420a010053-2-3b13-5ffb",
       "previous": "4a644710-a933-11e9-ba83-02420a010053-2-d840-30fa"
      },
      {
       "current": "4a6449a4-a933-11e9-ba83-02420a010053-3-8fae-ce5c-17f4",
       "next": "4a644a76-a933-11e9-ba83-02420a010053-3-3b13-5ffb-094c",
       "previous": "4a644710-a933-11e9-ba83-02420a010053-3-d840-30fa-9c5f"
      },
      {
       "current": "4a6449a4-a933-11e9-ba83-02420a010053-3-8fae-ce5c-17f4",
       "next": "4a644b52-a933-11e9-ba83-02420a010053-3-f9fe-b5eb-73b3",
       "previous": "4a644288-a933-11e9-ba83-02420a010053-3-f645-6b0e-a165"
      },
      {
       "current": "4a6449a4-a933-11e9-ba83-02420a010053-3-8fae-ce5c-17f4",
       "next": "4a644b52-a933-11e9-ba83-02420a010053-3-f9fe-b5eb-73b3",
       "previous": "f873a024-f933-11eb-a3c9-0242ac110002"
      },
      {
       "current": "4a6449a4-a933-11e9-ba83-02420a010053-3-8fae-ce5c-17f4",
       "next": "9a4bdd82-f937-11eb-a3c9-0242ac110002",
       "previous": "f873a024-f933-11eb-a3c9-0242ac110002"
      },
      {
       "current": "4a6449a4-a933-11e9-ba83-02420a010053-3-8fae-ce5c-17f4",
       "next": "5000071c-fb30-11eb-a3c9-0242ac110002",
       "previous": "f873a024-f933-11eb-a3c9-0242ac110002"
      },
      {
       "current": "4a6449a4-a933-11e9-ba83-02420a010053-4-8fae-ce5c-17f4-f28d",
       "next": "9a4bdd82-f937-11eb-a3c9-0242ac110002",
       "previous": "f873a024-f933-11eb-a3c9-0242ac110002"
      },
      {
       "current": "4a6449a4-a933-11e9-ba83-02420a010053-5-8fae-ce5c-17f4-f28d-dad6",
       "next": "9a4bdd82-f937-11eb-a3c9-0242ac110002-1-4c1e",
       "previous": "f873a024-f933-11eb-a3c9-0242ac110002-1-8b9a"
      },
      {
       "current": "4a6449a4-a933-11e9-ba83-02420a010053-5-8fae-ce5c-17f4-f28d-dad6",
       "next": "9a4bdd82-f937-11eb-a3c9-0242ac110002-2-4c1e-a53c",
       "previous": "f873a024-f933-11eb-a3c9-0242ac110002-2-8b9a-f97e"
      },
      {
       "current": "d03e8c24-0b3d-11ec-a5ab-02420a01001e",
       "next": "d03e8d0a-0b3d-11ec-a5ab-02420a01001e",
       "previous": "d03e8b0c-0b3d-11ec-a5ab-02420a01001e"
      },
      {
       "current": "97f9651c-0b3f-11ec-8ea2-02420a01001e",
       "next": "97f965da-0b3f-11ec-8ea2-02420a01001e",
       "previous": "97f96440-0b3f-11ec-8ea2-02420a01001e"
      },
      {
       "current": "8c241b44-0b7e-11ec-8636-02420a01001e",
       "next": "8c241c48-0b7e-11ec-8636-02420a01001e",
       "previous": "8c241a54-0b7e-11ec-8636-02420a01001e"
      },
      {
       "current": "0378de22-0b85-11ec-9aeb-02420a01001e-1-d9e9",
       "next": "0378df12-0b85-11ec-9aeb-02420a01001e",
       "previous": "0378dd32-0b85-11ec-9aeb-02420a01001e"
      },
      {
       "current": "0378de22-0b85-11ec-9aeb-02420a01001e-2-d9e9-381f",
       "next": "0378df12-0b85-11ec-9aeb-02420a01001e-1-0ee1",
       "previous": "0378dd32-0b85-11ec-9aeb-02420a01001e-1-628d"
      },
      {
       "current": "0378de22-0b85-11ec-9aeb-02420a01001e-3-d9e9-381f-67a6",
       "next": "0378df12-0b85-11ec-9aeb-02420a01001e-2-0ee1-99e5",
       "previous": "0378dd32-0b85-11ec-9aeb-02420a01001e-2-628d-0a8c"
      },
      {
       "current": "0378de22-0b85-11ec-9aeb-02420a01001e-4-d9e9-381f-67a6-3511",
       "next": "0378df12-0b85-11ec-9aeb-02420a01001e-3-0ee1-99e5-0109",
       "previous": "0378dd32-0b85-11ec-9aeb-02420a01001e-3-628d-0a8c-df7a"
      }
     ],
     "next": "0378df12-0b85-11ec-9aeb-02420a01001e-4-0ee1-99e5-0109-075d",
     "previous": "0378dd32-0b85-11ec-9aeb-02420a01001e-4-628d-0a8c-df7a-fedd"
    }
   },
   "source": [
    "## 構築環境情報の入力\n",
    "認識環境の構築情報を入力します。必要に応じ、下記の情報を修正してください。"
   ]
  },
  {
   "cell_type": "code",
   "execution_count": null,
   "metadata": {
    "lc_cell_meme": {
     "current": "0378df12-0b85-11ec-9aeb-02420a01001e-4-0ee1-99e5-0109-075d",
     "history": [
      {
       "current": "9a4bdd82-f937-11eb-a3c9-0242ac110002",
       "next": "4a6449a4-a933-11e9-ba83-02420a010053-4-8fae-ce5c-17f4-80e1",
       "previous": "4a6449a4-a933-11e9-ba83-02420a010053-3-8fae-ce5c-17f4"
      },
      {
       "current": "9a4bdd82-f937-11eb-a3c9-0242ac110002",
       "next": "4a6449a4-a933-11e9-ba83-02420a010053-4-8fae-ce5c-17f4-80e1",
       "previous": "5000071c-fb30-11eb-a3c9-0242ac110002"
      },
      {
       "current": "9a4bdd82-f937-11eb-a3c9-0242ac110002",
       "next": "4a6449a4-a933-11e9-ba83-02420a010053-4-8fae-ce5c-17f4-80e1",
       "previous": "97d45020-fb30-11eb-a3c9-0242ac110002"
      },
      {
       "current": "9a4bdd82-f937-11eb-a3c9-0242ac110002",
       "next": "4a6449a4-a933-11e9-ba83-02420a010053-4-8fae-ce5c-17f4-80e1",
       "previous": "df686ca0-fb30-11eb-a3c9-0242ac110002"
      },
      {
       "current": "9a4bdd82-f937-11eb-a3c9-0242ac110002-1-4c1e",
       "next": "4a6449a4-a933-11e9-ba83-02420a010053-4-8fae-ce5c-17f4-80e1",
       "previous": "4a6449a4-a933-11e9-ba83-02420a010053-3-8fae-ce5c-17f4"
      },
      {
       "current": "9a4bdd82-f937-11eb-a3c9-0242ac110002-2-4c1e-a53c",
       "next": "4a6449a4-a933-11e9-ba83-02420a010053-5-8fae-ce5c-17f4-80e1-9149",
       "previous": "4a6449a4-a933-11e9-ba83-02420a010053-4-8fae-ce5c-17f4-f28d"
      },
      {
       "current": "9a4bdd82-f937-11eb-a3c9-0242ac110002-2-4c1e-a53c",
       "next": "4a6449a4-a933-11e9-ba83-02420a010053-6-8fae-ce5c-17f4-80e1-9149-fa08",
       "previous": "4a6449a4-a933-11e9-ba83-02420a010053-5-8fae-ce5c-17f4-f28d-dad6"
      },
      {
       "current": "d03e8d0a-0b3d-11ec-a5ab-02420a01001e",
       "next": "d03e8de6-0b3d-11ec-a5ab-02420a01001e",
       "previous": "d03e8c24-0b3d-11ec-a5ab-02420a01001e"
      },
      {
       "current": "97f965da-0b3f-11ec-8ea2-02420a01001e",
       "next": "97f966b6-0b3f-11ec-8ea2-02420a01001e",
       "previous": "97f9651c-0b3f-11ec-8ea2-02420a01001e"
      },
      {
       "current": "8c241c48-0b7e-11ec-8636-02420a01001e",
       "next": "8c241d1a-0b7e-11ec-8636-02420a01001e",
       "previous": "8c241b44-0b7e-11ec-8636-02420a01001e"
      },
      {
       "current": "0378df12-0b85-11ec-9aeb-02420a01001e-1-0ee1",
       "next": "0378dfee-0b85-11ec-9aeb-02420a01001e",
       "previous": "0378de22-0b85-11ec-9aeb-02420a01001e"
      },
      {
       "current": "0378df12-0b85-11ec-9aeb-02420a01001e-2-0ee1-99e5",
       "next": "0378dfee-0b85-11ec-9aeb-02420a01001e-1-6523",
       "previous": "0378de22-0b85-11ec-9aeb-02420a01001e-1-d9e9"
      },
      {
       "current": "0378df12-0b85-11ec-9aeb-02420a01001e-3-0ee1-99e5-0109",
       "next": "0378dfee-0b85-11ec-9aeb-02420a01001e-2-6523-95cc",
       "previous": "0378de22-0b85-11ec-9aeb-02420a01001e-2-d9e9-381f"
      },
      {
       "current": "0378df12-0b85-11ec-9aeb-02420a01001e-4-0ee1-99e5-0109-075d",
       "next": "0378dfee-0b85-11ec-9aeb-02420a01001e-3-6523-95cc-81bf",
       "previous": "0378de22-0b85-11ec-9aeb-02420a01001e-3-d9e9-381f-67a6"
      }
     ],
     "next": "0378dfee-0b85-11ec-9aeb-02420a01001e-4-6523-95cc-81bf-8822",
     "previous": "0378de22-0b85-11ec-9aeb-02420a01001e-4-d9e9-381f-67a6-3511"
    },
    "lc_wrapper": {
     "log_history": [
      "/notebooks/notebook/SAGA_home/hands-on/OpenHPC-v2-handson/.log/20210810/20210810-031825-0419.log",
      "/notebooks/notebook/SAGA_home/hands-on/OpenHPC-v2-handson/.log/20210810/20210810-031845-0091.log",
      "/notebooks/notebook/SAGA_home/hands-on/OpenHPC-v2-handson/.log/20210810/20210810-031858-0040.log",
      "/notebooks/notebook/SAGA_home/hands-on/OpenHPC-v2-handson/.log/20210810/20210810-220238-0200.log",
      "/notebooks/notebook/SAGA_home/hands-on/OpenHPC-v2-handson/.log/20210810/20210810-223409-0611.log",
      "/notebooks/notebook/SAGA_home/hands-on/OpenHPC-v2-handson/.log/20210810/20210810-231315-0621.log",
      "/notebooks/notebook/SAGA_home/hands-on/OpenHPC-v2-handson/.log/20210810/20210810-231416-0324.log",
      "/notebooks/notebook/SAGA_home/hands-on/OpenHPC-v2-handson/.log/20210810/20210810-233215-0327.log",
      "/notebooks/notebook/SAGA_home/hands-on/OpenHPC-v2-handson/.log/20210811/20210811-002215-0882.log",
      "/notebooks/notebook/SAGA_home/hands-on/OpenHPC-v2-handson/.log/20210811/20210811-002640-0850.log",
      "/notebooks/notebook/SAGA_home/hands-on/OpenHPC-v2-handson/.log/20210811/20210811-002913-0861.log",
      "/notebooks/notebook/SAGA_home/hands-on/OpenHPC-v2-handson/.log/20210811/20210811-120818-0216.log",
      "/notebooks/notebook/SAGA_home/hands-on/OpenHPC-v2-handson/.log/20210811/20210811-145606-0100.log",
      "/notebooks/notebook/SAGA_home/hands-on/OpenHPC-v2-handson/.log/20210811/20210811-151621-0797.log",
      "/notebooks/notebook/SAGA_home/hands-on/OpenHPC-v2-handson/.log/20210811/20210811-154430-0422.log",
      "/notebooks/notebook/SAGA_home/hands-on/OpenHPC-v2-handson/.log/20210811/20210811-155549-0149.log",
      "/notebooks/notebook/SAGA_home/hands-on/OpenHPC-v2-handson/.log/20210811/20210811-160509-0428.log",
      "/notebooks/notebook/SAGA_home/hands-on/OpenHPC-v2-handson/.log/20210811/20210811-161842-0421.log",
      "/notebooks/notebook/SAGA_home/hands-on/OpenHPC-v2-handson/.log/20210811/20210811-164207-0116.log",
      "/notebooks/notebook/SAGA_home/hands-on/OpenHPC-v2-handson/.log/20210811/20210811-235449-0928.log",
      "/notebooks/notebook/SAGA_home/hands-on/OpenHPC-v2-handson/.log/20210812/20210812-000603-0352.log",
      "/notebooks/notebook/SAGA_home/hands-on/OpenHPC-v2-handson/.log/20210812/20210812-094627-0424.log",
      "/notebooks/notebook/SAGA_home/hands-on/OpenHPC-v2-handson/.log/20210812/20210812-095238-0356.log",
      "/notebooks/notebook/SAGA_home/hands-on/OpenHPC-v2-handson/.log/20210812/20210812-095536-0084.log",
      "/notebooks/notebook/SAGA_home/hands-on/OpenHPC-v2-handson/.log/20210812/20210812-101009-0636.log",
      "/notebooks/notebook/SAGA_home/hands-on/OpenHPC-v2-handson/.log/20210812/20210812-105048-0868.log",
      "/notebooks/notebook/SAGA_home/hands-on/OpenHPC-v2-handson/.log/20210812/20210812-120100-0580.log",
      "/notebooks/notebook/SAGA_home/hands-on/OpenHPC-v2-handson/.log/20210812/20210812-155918-0708.log",
      "/notebooks/notebook/SAGA_home/hands-on/OpenHPC-v2-handson/.log/20210812/20210812-163344-0131.log",
      "/notebooks/notebook/SAGA_home/hands-on/OpenHPC-v2-handson/.log/20210812/20210812-164812-0141.log",
      "/notebooks/notebook/SAGA_home/hands-on/OpenHPC-v2-handson/.log/20210812/20210812-170612-0422.log",
      "/notebooks/notebook/SAGA_home/hands-on/OpenHPC-v2-handson/.log/20210812/20210812-171908-0744.log",
      "/notebooks/notebook/SAGA_home/hands-on/OpenHPC-v2-handson/.log/20210812/20210812-180436-0096.log",
      "/notebooks/notebook/SAGA_home/hands-on/OpenHPC-v2-handson/.log/20210812/20210812-182726-0176.log",
      "/notebooks/notebook/SAGA_home/hands-on/OpenHPC-v2-handson/.log/20210818/20210818-155615-0926.log",
      "/notebooks/notebook/SAGA_home/hands-on/OpenHPC-v2-handson/.log/20210819/20210819-161255-0378.log",
      "/notebooks/notebook/SAGA_home/hands-on/OpenHPC-v2-handson/.log/20210819/20210819-161428-0620.log",
      "/notebooks/notebook/SAGA_home/hands-on/OpenHPC-v2-handson/.log/20210819/20210819-231727-0444.log",
      "/notebooks/notebook/SAGA_home/hands-on/OpenHPC-v2-handson/.log/20210823/20210823-153236-0466.log",
      "/notebooks/notebook/SAGA_home/hands-on/OpenHPC-v2-handson/.log/20210823/20210823-161814-0376.log",
      "/notebooks/notebook/SAGA_home/hands-on/OpenHPC-v2-handson/.log/20210823/20210823-180050-0737.log",
      "/notebooks/notebook/SAGA_home/hands-on/OpenHPC-v2-handson/.log/20210824/20210824-111209-0509.log",
      "/notebooks/notebook/SAGA_home/hands-on/OpenHPC-v2-handson/.log/20210824/20210824-155956-0025.log",
      "/notebooks/notebook/SAGA_home/hands-on/OpenHPC-v2-handson/.log/20210825/20210825-110011-0642.log",
      "/notebooks/notebook/SAGA_home/hands-on/OpenHPC-v2-handson/.log/20210825/20210825-110136-0066.log",
      "/notebooks/notebook/SAGA_home/hands-on/OpenHPC-v2-handson/.log/20210825/20210825-110945-0465.log",
      "/notebooks/notebook/SAGA_home/hands-on/OpenHPC-v2-handson/.log/20210825/20210825-134240-0016.log",
      "/notebooks/notebook/SAGA_home/hands-on/OpenHPC-v2-handson/.log/20210825/20210825-134356-0455.log",
      "/notebooks/notebook/SAGA_home/hands-on/OpenHPC-v2-handson/.log/20210826/20210826-004534-0673.log",
      "/notebooks/notebook/SAGA_home/hands-on/OpenHPC-v2-handson/.log/20210827/20210827-145833-0213.log",
      "/notebooks/notebook/SAGA_home/hands-on/OpenHPC-v2-handson/.log/20210828/20210828-010307-0332.log",
      "/notebooks/notebook/SAGA_home/hands-on/OpenHPC-v2-handson/.log/20210829/20210829-013817-0488.log",
      "/notebooks/notebook/SAGA_home/hands-on/OpenHPC-v2-handson/.log/20210829/20210829-020311-0852.log",
      "/notebooks/notebook/SAGA_home/hands-on/OpenHPC-v2-handson/.log/20210829/20210829-105408-0609.log",
      "/notebooks/notebook/SAGA_home/hands-on/OpenHPC-v2-handson/.log/20210829/20210829-141637-0816.log",
      "/notebooks/notebook/SAGA_home/hands-on/MNIST_handson/.log/20210829/20210829-233154-0632.log",
      "/notebooks/notebook/SAGA_home/hands-on/MNIST_handson/.log/20210830/20210830-001901-0762.log",
      "/notebooks/notebook/SAGA_home/hands-on/MNIST_handson/.log/20210830/20210830-135502-0145.log",
      "/notebooks/notebook/SAGA_home/hands-on/MNIST_handson/.log/20210830/20210830-154110-0687.log",
      "/home/user513xb92482/hands-on/vcp-tutorial/.log/20210901/20210901-135809-0204.log",
      "/home/user513xb92482/hands-on/vcp-tutorial/.log/20210902/20210902-212817-0213.log",
      "/home/user513xb92482/hands-on/vcp-tutorial/.log/20210902/20210902-221205-0552.log",
      "/home/user513xb92482/hands-on/vcp-tutorial/.log/20210903/20210903-103135-0580.log",
      "/home/user513xb92482/hands-on/vcp-tutorial/.log/20210903/20210903-113449-0449.log",
      "/home/user513xb92482/hands-on/vcp-tutorial/.log/20210903/20210903-113720-0352.log",
      "/home/user513xb92482/hands-on/vcp-tutorial/.log/20210903/20210903-155747-0147.log",
      "/notebooks/notebook/SAGA_home/hands-on/hands-on.513/vcp-tutorial/.log/20210910/20210910-104635-0029.log",
      "/notebooks/notebook/SAGA_home/hands-on/hands-on.513/vcp-tutorial/OpenHPC-MNIST/.log/20210910/20210910-164820-0371.log",
      "/notebooks/notebook/SAGA_home/210903.handson_cloudweek_2021/Deriver/2109.Recog_with_OpenHPC_template/2.Recognition_system/.log/20210914/20210914-144154-0023.log"
     ]
    }
   },
   "outputs": [],
   "source": [
    "# TensorFlow環境のユーザー名\n",
    "user = 'user00'\n",
    "\n",
    "###################################################\n",
    "### ハンズオンでは以下のパラメタを変更しないでください。###\n",
    "###################################################\n",
    "\n",
    "# unitgroup名\n",
    "ugroup_name = 'TfCpu'\n",
    "\n",
    "# プロバイダ\n",
    "vc_provider = 'aws'\n",
    "\n",
    "# フレーバー\n",
    "vcnode_flavor = 'small'"
   ]
  },
  {
   "cell_type": "markdown",
   "metadata": {
    "lc_cell_meme": {
     "current": "0378dfee-0b85-11ec-9aeb-02420a01001e-4-6523-95cc-81bf-8822",
     "history": [
      {
       "current": "4a6449a4-a933-11e9-ba83-02420a010053",
       "next": "4a644a76-a933-11e9-ba83-02420a010053",
       "previous": "4a6448c8-a933-11e9-ba83-02420a010053"
      },
      {
       "current": "4a6449a4-a933-11e9-ba83-02420a010053-1-8fae",
       "next": "4a644a76-a933-11e9-ba83-02420a010053",
       "previous": "4a644710-a933-11e9-ba83-02420a010053"
      },
      {
       "current": "4a6449a4-a933-11e9-ba83-02420a010053-2-8fae-ce5c",
       "next": "4a644a76-a933-11e9-ba83-02420a010053-1-3b13",
       "previous": "4a644710-a933-11e9-ba83-02420a010053-1-d840"
      },
      {
       "current": "4a6449a4-a933-11e9-ba83-02420a010053-3-8fae-ce5c-17f4",
       "next": "4a644a76-a933-11e9-ba83-02420a010053-2-3b13-5ffb",
       "previous": "4a644710-a933-11e9-ba83-02420a010053-2-d840-30fa"
      },
      {
       "current": "4a6449a4-a933-11e9-ba83-02420a010053-3-8fae-ce5c-17f4",
       "next": "4a644a76-a933-11e9-ba83-02420a010053-3-3b13-5ffb-094c",
       "previous": "4a644710-a933-11e9-ba83-02420a010053-3-d840-30fa-9c5f"
      },
      {
       "current": "4a6449a4-a933-11e9-ba83-02420a010053-3-8fae-ce5c-17f4",
       "next": "4a644b52-a933-11e9-ba83-02420a010053-3-f9fe-b5eb-73b3",
       "previous": "4a644288-a933-11e9-ba83-02420a010053-3-f645-6b0e-a165"
      },
      {
       "current": "4a6449a4-a933-11e9-ba83-02420a010053-4-8fae-ce5c-17f4-80e1",
       "next": "4a644b52-a933-11e9-ba83-02420a010053-3-f9fe-b5eb-73b3",
       "previous": "f873a024-f933-11eb-a3c9-0242ac110002"
      },
      {
       "current": "4a6449a4-a933-11e9-ba83-02420a010053-4-8fae-ce5c-17f4-80e1",
       "next": "4a644b52-a933-11e9-ba83-02420a010053-3-f9fe-b5eb-73b3",
       "previous": "9a4bdd82-f937-11eb-a3c9-0242ac110002"
      },
      {
       "current": "4a6449a4-a933-11e9-ba83-02420a010053-5-8fae-ce5c-17f4-80e1-9149",
       "next": "ef39968c-f9e0-11eb-a3c9-0242ac110002",
       "previous": "9a4bdd82-f937-11eb-a3c9-0242ac110002"
      },
      {
       "current": "4a6449a4-a933-11e9-ba83-02420a010053-6-8fae-ce5c-17f4-80e1-9149-fa08",
       "next": "ef39968c-f9e0-11eb-a3c9-0242ac110002-1-9c2a",
       "previous": "9a4bdd82-f937-11eb-a3c9-0242ac110002-1-4c1e"
      },
      {
       "current": "4a6449a4-a933-11e9-ba83-02420a010053-6-8fae-ce5c-17f4-80e1-9149-fa08",
       "next": "ef39968c-f9e0-11eb-a3c9-0242ac110002-2-9c2a-aa6d",
       "previous": "9a4bdd82-f937-11eb-a3c9-0242ac110002-2-4c1e-a53c"
      },
      {
       "current": "d03e8de6-0b3d-11ec-a5ab-02420a01001e",
       "next": "d03e8ec2-0b3d-11ec-a5ab-02420a01001e",
       "previous": "d03e8d0a-0b3d-11ec-a5ab-02420a01001e"
      },
      {
       "current": "97f966b6-0b3f-11ec-8ea2-02420a01001e",
       "next": "97f9677e-0b3f-11ec-8ea2-02420a01001e",
       "previous": "97f965da-0b3f-11ec-8ea2-02420a01001e"
      },
      {
       "current": "8c241d1a-0b7e-11ec-8636-02420a01001e",
       "next": "8c241e00-0b7e-11ec-8636-02420a01001e",
       "previous": "8c241c48-0b7e-11ec-8636-02420a01001e"
      },
      {
       "current": "0378dfee-0b85-11ec-9aeb-02420a01001e-1-6523",
       "next": "0378e0ca-0b85-11ec-9aeb-02420a01001e",
       "previous": "0378df12-0b85-11ec-9aeb-02420a01001e"
      },
      {
       "current": "0378dfee-0b85-11ec-9aeb-02420a01001e-2-6523-95cc",
       "next": "0378e0ca-0b85-11ec-9aeb-02420a01001e-1-7f97",
       "previous": "0378df12-0b85-11ec-9aeb-02420a01001e-1-0ee1"
      },
      {
       "current": "0378dfee-0b85-11ec-9aeb-02420a01001e-3-6523-95cc-81bf",
       "next": "0378e0ca-0b85-11ec-9aeb-02420a01001e-2-7f97-ed23",
       "previous": "0378df12-0b85-11ec-9aeb-02420a01001e-2-0ee1-99e5"
      },
      {
       "current": "0378dfee-0b85-11ec-9aeb-02420a01001e-4-6523-95cc-81bf-8822",
       "next": "0378e0ca-0b85-11ec-9aeb-02420a01001e-3-7f97-ed23-7860",
       "previous": "0378df12-0b85-11ec-9aeb-02420a01001e-3-0ee1-99e5-0109"
      }
     ],
     "next": "0378e0ca-0b85-11ec-9aeb-02420a01001e-4-7f97-ed23-7860-883b",
     "previous": "0378df12-0b85-11ec-9aeb-02420a01001e-4-0ee1-99e5-0109-075d"
    }
   },
   "source": [
    "## VCP の初期化\n",
    "VCP を利用するために必要なアクセストークンを入力し、VCP SDK を初期化します。"
   ]
  },
  {
   "cell_type": "markdown",
   "metadata": {
    "lc_cell_meme": {
     "current": "0378e0ca-0b85-11ec-9aeb-02420a01001e-4-7f97-ed23-7860-883b",
     "history": [
      {
       "current": "ef39968c-f9e0-11eb-a3c9-0242ac110002-1-9c2a",
       "next": "4a644b52-a933-11e9-ba83-02420a010053-3-f9fe-b5eb-73b3",
       "previous": "4a6449a4-a933-11e9-ba83-02420a010053-4-8fae-ce5c-17f4-80e1"
      },
      {
       "current": "ef39968c-f9e0-11eb-a3c9-0242ac110002-2-9c2a-aa6d",
       "next": "4a644b52-a933-11e9-ba83-02420a010053-4-f9fe-b5eb-73b3-5114",
       "previous": "4a6449a4-a933-11e9-ba83-02420a010053-5-8fae-ce5c-17f4-80e1-9149"
      },
      {
       "current": "ef39968c-f9e0-11eb-a3c9-0242ac110002-2-9c2a-aa6d",
       "next": "4a644b52-a933-11e9-ba83-02420a010053-5-f9fe-b5eb-73b3-5114-58cb",
       "previous": "4a6449a4-a933-11e9-ba83-02420a010053-6-8fae-ce5c-17f4-80e1-9149-fa08"
      },
      {
       "current": "d03e8ec2-0b3d-11ec-a5ab-02420a01001e",
       "next": "d03e8fb2-0b3d-11ec-a5ab-02420a01001e",
       "previous": "d03e8de6-0b3d-11ec-a5ab-02420a01001e"
      },
      {
       "current": "97f9677e-0b3f-11ec-8ea2-02420a01001e",
       "next": "97f96850-0b3f-11ec-8ea2-02420a01001e",
       "previous": "97f966b6-0b3f-11ec-8ea2-02420a01001e"
      },
      {
       "current": "8c241e00-0b7e-11ec-8636-02420a01001e",
       "next": "8c241ee6-0b7e-11ec-8636-02420a01001e",
       "previous": "8c241d1a-0b7e-11ec-8636-02420a01001e"
      },
      {
       "current": "0378e0ca-0b85-11ec-9aeb-02420a01001e-1-7f97",
       "next": "0378e1a6-0b85-11ec-9aeb-02420a01001e",
       "previous": "0378dfee-0b85-11ec-9aeb-02420a01001e"
      },
      {
       "current": "0378e0ca-0b85-11ec-9aeb-02420a01001e-2-7f97-ed23",
       "next": "0378e1a6-0b85-11ec-9aeb-02420a01001e-1-7d0f",
       "previous": "0378dfee-0b85-11ec-9aeb-02420a01001e-1-6523"
      },
      {
       "current": "0378e0ca-0b85-11ec-9aeb-02420a01001e-3-7f97-ed23-7860",
       "next": "0378e1a6-0b85-11ec-9aeb-02420a01001e-2-7d0f-591f",
       "previous": "0378dfee-0b85-11ec-9aeb-02420a01001e-2-6523-95cc"
      },
      {
       "current": "0378e0ca-0b85-11ec-9aeb-02420a01001e-4-7f97-ed23-7860-883b",
       "next": "0378e1a6-0b85-11ec-9aeb-02420a01001e-3-7d0f-591f-754d",
       "previous": "0378dfee-0b85-11ec-9aeb-02420a01001e-3-6523-95cc-81bf"
      }
     ],
     "next": "0378e1a6-0b85-11ec-9aeb-02420a01001e-4-7d0f-591f-754d-6fbb",
     "previous": "0378dfee-0b85-11ec-9aeb-02420a01001e-4-6523-95cc-81bf-8822"
    }
   },
   "source": [
    "### アクセストークンの入力"
   ]
  },
  {
   "cell_type": "code",
   "execution_count": null,
   "metadata": {
    "lc_cell_meme": {
     "current": "0378e1a6-0b85-11ec-9aeb-02420a01001e-4-7d0f-591f-754d-6fbb",
     "history": [
      {
       "current": "4a644b52-a933-11e9-ba83-02420a010053",
       "next": "4a644c24-a933-11e9-ba83-02420a010053",
       "previous": "4a644a76-a933-11e9-ba83-02420a010053"
      },
      {
       "current": "4a644b52-a933-11e9-ba83-02420a010053-1-f9fe",
       "next": "4a6447ec-a933-11e9-ba83-02420a010053",
       "previous": "4a644a76-a933-11e9-ba83-02420a010053"
      },
      {
       "current": "4a644b52-a933-11e9-ba83-02420a010053-2-f9fe-b5eb",
       "next": "4a6447ec-a933-11e9-ba83-02420a010053-1-8ea0",
       "previous": "4a644a76-a933-11e9-ba83-02420a010053-1-3b13"
      },
      {
       "current": "4a644b52-a933-11e9-ba83-02420a010053-3-f9fe-b5eb-73b3",
       "next": "4a6447ec-a933-11e9-ba83-02420a010053-2-8ea0-b6e8",
       "previous": "4a644a76-a933-11e9-ba83-02420a010053-2-3b13-5ffb"
      },
      {
       "current": "4a644b52-a933-11e9-ba83-02420a010053-3-f9fe-b5eb-73b3",
       "next": "4a6447ec-a933-11e9-ba83-02420a010053-3-8ea0-b6e8-bc3b",
       "previous": "4a644a76-a933-11e9-ba83-02420a010053-3-3b13-5ffb-094c"
      },
      {
       "current": "4a644b52-a933-11e9-ba83-02420a010053-3-f9fe-b5eb-73b3",
       "next": "4a6447ec-a933-11e9-ba83-02420a010053-3-8ea0-b6e8-bc3b",
       "previous": "4a6449a4-a933-11e9-ba83-02420a010053-3-8fae-ce5c-17f4"
      },
      {
       "current": "4a644b52-a933-11e9-ba83-02420a010053-3-f9fe-b5eb-73b3",
       "next": "a59f9d56-f935-11eb-a3c9-0242ac110002",
       "previous": "4a6449a4-a933-11e9-ba83-02420a010053-3-8fae-ce5c-17f4"
      },
      {
       "current": "4a644b52-a933-11e9-ba83-02420a010053-3-f9fe-b5eb-73b3",
       "next": "a59f9d56-f935-11eb-a3c9-0242ac110002-1-e68f",
       "previous": "4a6449a4-a933-11e9-ba83-02420a010053-3-8fae-ce5c-17f4"
      },
      {
       "current": "4a644b52-a933-11e9-ba83-02420a010053-3-f9fe-b5eb-73b3",
       "next": "a59f9d56-f935-11eb-a3c9-0242ac110002-1-e68f",
       "previous": "4a6449a4-a933-11e9-ba83-02420a010053-4-8fae-ce5c-17f4-80e1"
      },
      {
       "current": "4a644b52-a933-11e9-ba83-02420a010053-4-f9fe-b5eb-73b3-5114",
       "next": "ef399876-f9e0-11eb-a3c9-0242ac110002",
       "previous": "ef39968c-f9e0-11eb-a3c9-0242ac110002"
      },
      {
       "current": "4a644b52-a933-11e9-ba83-02420a010053-5-f9fe-b5eb-73b3-5114-58cb",
       "next": "ef399876-f9e0-11eb-a3c9-0242ac110002-1-1443",
       "previous": "ef39968c-f9e0-11eb-a3c9-0242ac110002-1-9c2a"
      },
      {
       "current": "4a644b52-a933-11e9-ba83-02420a010053-5-f9fe-b5eb-73b3-5114-58cb",
       "next": "ef399876-f9e0-11eb-a3c9-0242ac110002-2-1443-ccc3",
       "previous": "ef39968c-f9e0-11eb-a3c9-0242ac110002-2-9c2a-aa6d"
      },
      {
       "current": "d03e8fb2-0b3d-11ec-a5ab-02420a01001e",
       "next": "d03e9084-0b3d-11ec-a5ab-02420a01001e",
       "previous": "d03e8ec2-0b3d-11ec-a5ab-02420a01001e"
      },
      {
       "current": "97f96850-0b3f-11ec-8ea2-02420a01001e",
       "next": "97f96904-0b3f-11ec-8ea2-02420a01001e",
       "previous": "97f9677e-0b3f-11ec-8ea2-02420a01001e"
      },
      {
       "current": "8c241ee6-0b7e-11ec-8636-02420a01001e",
       "next": "8c241fc2-0b7e-11ec-8636-02420a01001e",
       "previous": "8c241e00-0b7e-11ec-8636-02420a01001e"
      },
      {
       "current": "0378e1a6-0b85-11ec-9aeb-02420a01001e-1-7d0f",
       "next": "0378e282-0b85-11ec-9aeb-02420a01001e",
       "previous": "0378e0ca-0b85-11ec-9aeb-02420a01001e"
      },
      {
       "current": "0378e1a6-0b85-11ec-9aeb-02420a01001e-2-7d0f-591f",
       "next": "0378e282-0b85-11ec-9aeb-02420a01001e-1-2356",
       "previous": "0378e0ca-0b85-11ec-9aeb-02420a01001e-1-7f97"
      },
      {
       "current": "0378e1a6-0b85-11ec-9aeb-02420a01001e-3-7d0f-591f-754d",
       "next": "0378e282-0b85-11ec-9aeb-02420a01001e-2-2356-d5b5",
       "previous": "0378e0ca-0b85-11ec-9aeb-02420a01001e-2-7f97-ed23"
      },
      {
       "current": "0378e1a6-0b85-11ec-9aeb-02420a01001e-4-7d0f-591f-754d-6fbb",
       "next": "0378e282-0b85-11ec-9aeb-02420a01001e-3-2356-d5b5-f9ac",
       "previous": "0378e0ca-0b85-11ec-9aeb-02420a01001e-3-7f97-ed23-7860"
      }
     ],
     "next": "0378e282-0b85-11ec-9aeb-02420a01001e-4-2356-d5b5-f9ac-5fb5",
     "previous": "0378e0ca-0b85-11ec-9aeb-02420a01001e-4-7f97-ed23-7860-883b"
    },
    "lc_wrapper": {
     "log_history": [
      "/home/useraafa1b/hands-on/vcp-tutorial/.log/20190719/20190719-163654-0781.log",
      "/notebooks/notebook/hands-on/vcp-tutorial/.log/20191003/20191003-161240-0003.log",
      "/notebooks/notebook/hands-on/vcp-tutorial/.log/20191003/20191003-161400-0956.log",
      "/notebooks/notebook/SAGA_home/hands-on/OpenHPC-v2-handson/.log/20210810/20210810-030233-0589.log",
      "/notebooks/notebook/SAGA_home/hands-on/OpenHPC-v2-handson/.log/20210810/20210810-031916-0166.log",
      "/notebooks/notebook/SAGA_home/hands-on/OpenHPC-v2-handson/.log/20210810/20210810-220254-0916.log",
      "/notebooks/notebook/SAGA_home/hands-on/OpenHPC-v2-handson/.log/20210810/20210810-223413-0665.log",
      "/notebooks/notebook/SAGA_home/hands-on/OpenHPC-v2-handson/.log/20210810/20210810-223511-0678.log",
      "/notebooks/notebook/SAGA_home/hands-on/OpenHPC-v2-handson/.log/20210810/20210810-231328-0588.log",
      "/notebooks/notebook/SAGA_home/hands-on/OpenHPC-v2-handson/.log/20210810/20210810-231431-0424.log",
      "/notebooks/notebook/SAGA_home/hands-on/OpenHPC-v2-handson/.log/20210810/20210810-233220-0337.log",
      "/notebooks/notebook/SAGA_home/hands-on/OpenHPC-v2-handson/.log/20210811/20210811-002236-0434.log",
      "/notebooks/notebook/SAGA_home/hands-on/OpenHPC-v2-handson/.log/20210811/20210811-002653-0983.log",
      "/notebooks/notebook/SAGA_home/hands-on/OpenHPC-v2-handson/.log/20210811/20210811-002919-0066.log",
      "/notebooks/notebook/SAGA_home/hands-on/OpenHPC-v2-handson/.log/20210811/20210811-120831-0061.log",
      "/notebooks/notebook/SAGA_home/hands-on/OpenHPC-v2-handson/.log/20210811/20210811-145610-0333.log",
      "/notebooks/notebook/SAGA_home/hands-on/OpenHPC-v2-handson/.log/20210811/20210811-151637-0705.log",
      "/notebooks/notebook/SAGA_home/hands-on/OpenHPC-v2-handson/.log/20210811/20210811-154435-0607.log",
      "/notebooks/notebook/SAGA_home/hands-on/OpenHPC-v2-handson/.log/20210811/20210811-155553-0588.log",
      "/notebooks/notebook/SAGA_home/hands-on/OpenHPC-v2-handson/.log/20210811/20210811-160524-0952.log",
      "/notebooks/notebook/SAGA_home/hands-on/OpenHPC-v2-handson/.log/20210811/20210811-161855-0218.log",
      "/notebooks/notebook/SAGA_home/hands-on/OpenHPC-v2-handson/.log/20210811/20210811-164222-0433.log",
      "/notebooks/notebook/SAGA_home/hands-on/OpenHPC-v2-handson/.log/20210811/20210811-235454-0882.log",
      "/notebooks/notebook/SAGA_home/hands-on/OpenHPC-v2-handson/.log/20210812/20210812-000617-0153.log",
      "/notebooks/notebook/SAGA_home/hands-on/OpenHPC-v2-handson/.log/20210812/20210812-095026-0401.log",
      "/notebooks/notebook/SAGA_home/hands-on/OpenHPC-v2-handson/.log/20210812/20210812-095243-0071.log",
      "/notebooks/notebook/SAGA_home/hands-on/OpenHPC-v2-handson/.log/20210812/20210812-095540-0307.log",
      "/notebooks/notebook/SAGA_home/hands-on/OpenHPC-v2-handson/.log/20210812/20210812-101028-0761.log",
      "/notebooks/notebook/SAGA_home/hands-on/OpenHPC-v2-handson/.log/20210812/20210812-105103-0778.log",
      "/notebooks/notebook/SAGA_home/hands-on/OpenHPC-v2-handson/.log/20210812/20210812-120112-0308.log",
      "/notebooks/notebook/SAGA_home/hands-on/OpenHPC-v2-handson/.log/20210812/20210812-155933-0021.log",
      "/notebooks/notebook/SAGA_home/hands-on/OpenHPC-v2-handson/.log/20210812/20210812-163348-0536.log",
      "/notebooks/notebook/SAGA_home/hands-on/OpenHPC-v2-handson/.log/20210812/20210812-164819-0187.log",
      "/notebooks/notebook/SAGA_home/hands-on/OpenHPC-v2-handson/.log/20210812/20210812-170620-0805.log",
      "/notebooks/notebook/SAGA_home/hands-on/OpenHPC-v2-handson/.log/20210812/20210812-171915-0488.log",
      "/notebooks/notebook/SAGA_home/hands-on/OpenHPC-v2-handson/.log/20210812/20210812-180440-0398.log",
      "/notebooks/notebook/SAGA_home/hands-on/OpenHPC-v2-handson/.log/20210812/20210812-182740-0402.log",
      "/notebooks/notebook/SAGA_home/hands-on/OpenHPC-v2-handson/.log/20210818/20210818-155621-0130.log",
      "/notebooks/notebook/SAGA_home/hands-on/OpenHPC-v2-handson/.log/20210819/20210819-161433-0195.log",
      "/notebooks/notebook/SAGA_home/hands-on/OpenHPC-v2-handson/.log/20210819/20210819-231732-0030.log",
      "/notebooks/notebook/SAGA_home/hands-on/OpenHPC-v2-handson/.log/20210823/20210823-153241-0853.log",
      "/notebooks/notebook/SAGA_home/hands-on/OpenHPC-v2-handson/.log/20210823/20210823-161822-0130.log",
      "/notebooks/notebook/SAGA_home/hands-on/OpenHPC-v2-handson/.log/20210823/20210823-180055-0679.log",
      "/notebooks/notebook/SAGA_home/hands-on/OpenHPC-v2-handson/.log/20210824/20210824-111213-0116.log",
      "/notebooks/notebook/SAGA_home/hands-on/OpenHPC-v2-handson/.log/20210824/20210824-160000-0329.log",
      "/notebooks/notebook/SAGA_home/hands-on/OpenHPC-v2-handson/.log/20210825/20210825-110141-0142.log",
      "/notebooks/notebook/SAGA_home/hands-on/OpenHPC-v2-handson/.log/20210825/20210825-111008-0206.log",
      "/notebooks/notebook/SAGA_home/hands-on/OpenHPC-v2-handson/.log/20210825/20210825-134400-0554.log",
      "/notebooks/notebook/SAGA_home/hands-on/OpenHPC-v2-handson/.log/20210826/20210826-004539-0393.log",
      "/notebooks/notebook/SAGA_home/hands-on/OpenHPC-v2-handson/.log/20210827/20210827-145838-0637.log",
      "/notebooks/notebook/SAGA_home/hands-on/OpenHPC-v2-handson/.log/20210828/20210828-010313-0321.log",
      "/notebooks/notebook/SAGA_home/hands-on/OpenHPC-v2-handson/.log/20210829/20210829-013820-0894.log",
      "/notebooks/notebook/SAGA_home/hands-on/OpenHPC-v2-handson/.log/20210829/20210829-020316-0845.log",
      "/notebooks/notebook/SAGA_home/hands-on/OpenHPC-v2-handson/.log/20210829/20210829-105413-0210.log",
      "/notebooks/notebook/SAGA_home/hands-on/OpenHPC-v2-handson/.log/20210829/20210829-141642-0369.log",
      "/notebooks/notebook/SAGA_home/hands-on/MNIST_handson/.log/20210829/20210829-233201-0060.log",
      "/notebooks/notebook/SAGA_home/hands-on/MNIST_handson/.log/20210830/20210830-001905-0971.log",
      "/notebooks/notebook/SAGA_home/hands-on/MNIST_handson/.log/20210830/20210830-135506-0852.log",
      "/notebooks/notebook/SAGA_home/hands-on/MNIST_handson/.log/20210830/20210830-154125-0061.log",
      "/home/user513xb92482/hands-on/vcp-tutorial/.log/20210901/20210901-135824-0986.log",
      "/home/user513xb92482/hands-on/vcp-tutorial/.log/20210902/20210902-212827-0501.log",
      "/home/user513xb92482/hands-on/vcp-tutorial/.log/20210902/20210902-221328-0511.log",
      "/home/user513xb92482/hands-on/vcp-tutorial/.log/20210903/20210903-103148-0072.log",
      "/home/user513xb92482/hands-on/vcp-tutorial/.log/20210903/20210903-113452-0064.log",
      "/home/user513xb92482/hands-on/vcp-tutorial/.log/20210903/20210903-113733-0697.log",
      "/home/user513xb92482/hands-on/vcp-tutorial/.log/20210903/20210903-155834-0823.log",
      "/home/user513xb92482/hands-on/vcp-tutorial/.log/20210903/20210903-155905-0682.log",
      "/notebooks/notebook/SAGA_home/hands-on/hands-on.513/vcp-tutorial/.log/20210910/20210910-104639-0048.log",
      "/notebooks/notebook/SAGA_home/hands-on/hands-on.513/vcp-tutorial/OpenHPC-MNIST/.log/20210910/20210910-164823-0690.log",
      "/notebooks/notebook/SAGA_home/210903.handson_cloudweek_2021/Deriver/2109.Recog_with_OpenHPC_template/2.Recognition_system/.log/20210914/20210914-144207-0503.log"
     ]
    }
   },
   "outputs": [],
   "source": [
    "from getpass import getpass\n",
    "vcc_access_token = getpass()"
   ]
  },
  {
   "cell_type": "markdown",
   "metadata": {
    "lc_cell_meme": {
     "current": "0378e282-0b85-11ec-9aeb-02420a01001e-4-2356-d5b5-f9ac-5fb5",
     "history": [
      {
       "current": "ef399876-f9e0-11eb-a3c9-0242ac110002",
       "next": "a59f9d56-f935-11eb-a3c9-0242ac110002-1-e68f",
       "previous": "4a644b52-a933-11e9-ba83-02420a010053-3-f9fe-b5eb-73b3"
      },
      {
       "current": "ef399876-f9e0-11eb-a3c9-0242ac110002-1-1443",
       "next": "52b9a1f2-f937-11eb-a3c9-0242ac110002",
       "previous": "4a644b52-a933-11e9-ba83-02420a010053-3-f9fe-b5eb-73b3"
      },
      {
       "current": "ef399876-f9e0-11eb-a3c9-0242ac110002-2-1443-ccc3",
       "next": "52b9a1f2-f937-11eb-a3c9-0242ac110002-1-fbac",
       "previous": "4a644b52-a933-11e9-ba83-02420a010053-4-f9fe-b5eb-73b3-5114"
      },
      {
       "current": "ef399876-f9e0-11eb-a3c9-0242ac110002-2-1443-ccc3",
       "next": "52b9a1f2-f937-11eb-a3c9-0242ac110002-2-fbac-85ed",
       "previous": "4a644b52-a933-11e9-ba83-02420a010053-5-f9fe-b5eb-73b3-5114-58cb"
      },
      {
       "current": "d03e9084-0b3d-11ec-a5ab-02420a01001e",
       "next": "d03e914c-0b3d-11ec-a5ab-02420a01001e",
       "previous": "d03e8fb2-0b3d-11ec-a5ab-02420a01001e"
      },
      {
       "current": "97f96904-0b3f-11ec-8ea2-02420a01001e",
       "next": "97f969e0-0b3f-11ec-8ea2-02420a01001e",
       "previous": "97f96850-0b3f-11ec-8ea2-02420a01001e"
      },
      {
       "current": "8c241fc2-0b7e-11ec-8636-02420a01001e",
       "next": "8c2420b2-0b7e-11ec-8636-02420a01001e",
       "previous": "8c241ee6-0b7e-11ec-8636-02420a01001e"
      },
      {
       "current": "0378e282-0b85-11ec-9aeb-02420a01001e-1-2356",
       "next": "0378e354-0b85-11ec-9aeb-02420a01001e",
       "previous": "0378e1a6-0b85-11ec-9aeb-02420a01001e"
      },
      {
       "current": "0378e282-0b85-11ec-9aeb-02420a01001e-2-2356-d5b5",
       "next": "0378e354-0b85-11ec-9aeb-02420a01001e-1-5383",
       "previous": "0378e1a6-0b85-11ec-9aeb-02420a01001e-1-7d0f"
      },
      {
       "current": "0378e282-0b85-11ec-9aeb-02420a01001e-3-2356-d5b5-f9ac",
       "next": "0378e354-0b85-11ec-9aeb-02420a01001e-2-5383-2be4",
       "previous": "0378e1a6-0b85-11ec-9aeb-02420a01001e-2-7d0f-591f"
      },
      {
       "current": "0378e282-0b85-11ec-9aeb-02420a01001e-4-2356-d5b5-f9ac-5fb5",
       "next": "0378e354-0b85-11ec-9aeb-02420a01001e-3-5383-2be4-30ac",
       "previous": "0378e1a6-0b85-11ec-9aeb-02420a01001e-3-7d0f-591f-754d"
      }
     ],
     "next": "0378e354-0b85-11ec-9aeb-02420a01001e-4-5383-2be4-30ac-96a5",
     "previous": "0378e1a6-0b85-11ec-9aeb-02420a01001e-4-7d0f-591f-754d-6fbb"
    }
   },
   "source": [
    "### VCP の初期化\n",
    "VCP を初期化します。エラーになった場合、この章のセルを `unfreeze` してから、もう一度アクセストークンを入力してください。"
   ]
  },
  {
   "cell_type": "code",
   "execution_count": null,
   "metadata": {
    "lc_cell_meme": {
     "current": "0378e354-0b85-11ec-9aeb-02420a01001e-4-5383-2be4-30ac-96a5",
     "history": [
      {
       "current": "52b9a1f2-f937-11eb-a3c9-0242ac110002",
       "next": "0b3d5602-f937-11eb-a3c9-0242ac110002",
       "previous": "a59f9d56-f935-11eb-a3c9-0242ac110002-1-e68f"
      },
      {
       "current": "52b9a1f2-f937-11eb-a3c9-0242ac110002",
       "next": "12bdc7fe-f93c-11eb-a3c9-0242ac110002",
       "previous": "a59f9d56-f935-11eb-a3c9-0242ac110002-1-e68f"
      },
      {
       "current": "52b9a1f2-f937-11eb-a3c9-0242ac110002",
       "next": "0b3d5602-f937-11eb-a3c9-0242ac110002",
       "previous": "a59f9d56-f935-11eb-a3c9-0242ac110002-1-e68f"
      },
      {
       "current": "52b9a1f2-f937-11eb-a3c9-0242ac110002",
       "next": "4a6447ec-a933-11e9-ba83-02420a010053-3-8ea0-b6e8-bc3b",
       "previous": "ef399876-f9e0-11eb-a3c9-0242ac110002"
      },
      {
       "current": "52b9a1f2-f937-11eb-a3c9-0242ac110002",
       "next": "6844ab76-053e-11ec-a3c9-0242ac110002",
       "previous": "ef399876-f9e0-11eb-a3c9-0242ac110002"
      },
      {
       "current": "52b9a1f2-f937-11eb-a3c9-0242ac110002-1-fbac",
       "next": "4a6447ec-a933-11e9-ba83-02420a010053-3-8ea0-b6e8-bc3b",
       "previous": "ef399876-f9e0-11eb-a3c9-0242ac110002"
      },
      {
       "current": "52b9a1f2-f937-11eb-a3c9-0242ac110002-2-fbac-85ed",
       "next": "4a6447ec-a933-11e9-ba83-02420a010053-4-8ea0-b6e8-bc3b-f6b5",
       "previous": "ef399876-f9e0-11eb-a3c9-0242ac110002-1-1443"
      },
      {
       "current": "52b9a1f2-f937-11eb-a3c9-0242ac110002-2-fbac-85ed",
       "next": "4a6447ec-a933-11e9-ba83-02420a010053-5-8ea0-b6e8-bc3b-f6b5-f506",
       "previous": "ef399876-f9e0-11eb-a3c9-0242ac110002-2-1443-ccc3"
      },
      {
       "current": "d03e914c-0b3d-11ec-a5ab-02420a01001e",
       "next": "d03e9228-0b3d-11ec-a5ab-02420a01001e",
       "previous": "d03e9084-0b3d-11ec-a5ab-02420a01001e"
      },
      {
       "current": "97f969e0-0b3f-11ec-8ea2-02420a01001e",
       "next": "97f96a94-0b3f-11ec-8ea2-02420a01001e",
       "previous": "97f96904-0b3f-11ec-8ea2-02420a01001e"
      },
      {
       "current": "8c2420b2-0b7e-11ec-8636-02420a01001e",
       "next": "8c24217a-0b7e-11ec-8636-02420a01001e",
       "previous": "8c241fc2-0b7e-11ec-8636-02420a01001e"
      },
      {
       "current": "0378e354-0b85-11ec-9aeb-02420a01001e-1-5383",
       "next": "0378e430-0b85-11ec-9aeb-02420a01001e",
       "previous": "0378e282-0b85-11ec-9aeb-02420a01001e"
      },
      {
       "current": "0378e354-0b85-11ec-9aeb-02420a01001e-2-5383-2be4",
       "next": "0378e430-0b85-11ec-9aeb-02420a01001e-1-fc96",
       "previous": "0378e282-0b85-11ec-9aeb-02420a01001e-1-2356"
      },
      {
       "current": "0378e354-0b85-11ec-9aeb-02420a01001e-3-5383-2be4-30ac",
       "next": "0378e430-0b85-11ec-9aeb-02420a01001e-2-fc96-0092",
       "previous": "0378e282-0b85-11ec-9aeb-02420a01001e-2-2356-d5b5"
      },
      {
       "current": "0378e354-0b85-11ec-9aeb-02420a01001e-4-5383-2be4-30ac-96a5",
       "next": "0378e430-0b85-11ec-9aeb-02420a01001e-3-fc96-0092-f813",
       "previous": "0378e282-0b85-11ec-9aeb-02420a01001e-3-2356-d5b5-f9ac"
      }
     ],
     "next": "0378e430-0b85-11ec-9aeb-02420a01001e-4-fc96-0092-f813-651f",
     "previous": "0378e282-0b85-11ec-9aeb-02420a01001e-4-2356-d5b5-f9ac-5fb5"
    },
    "lc_wrapper": {
     "log_history": [
      "/notebooks/notebook/SAGA_home/hands-on/OpenHPC-v2-handson/.log/20210810/20210810-030238-0539.log",
      "/notebooks/notebook/SAGA_home/hands-on/OpenHPC-v2-handson/.log/20210810/20210810-030257-0005.log",
      "/notebooks/notebook/SAGA_home/hands-on/OpenHPC-v2-handson/.log/20210810/20210810-031922-0502.log",
      "/notebooks/notebook/SAGA_home/hands-on/OpenHPC-v2-handson/.log/20210810/20210810-220304-0611.log",
      "/notebooks/notebook/SAGA_home/hands-on/OpenHPC-v2-handson/.log/20210810/20210810-223419-0652.log",
      "/notebooks/notebook/SAGA_home/hands-on/OpenHPC-v2-handson/.log/20210810/20210810-223517-0843.log",
      "/notebooks/notebook/SAGA_home/hands-on/OpenHPC-v2-handson/.log/20210810/20210810-231334-0456.log",
      "/notebooks/notebook/SAGA_home/hands-on/OpenHPC-v2-handson/.log/20210810/20210810-231437-0591.log",
      "/notebooks/notebook/SAGA_home/hands-on/OpenHPC-v2-handson/.log/20210810/20210810-233241-0181.log",
      "/notebooks/notebook/SAGA_home/hands-on/OpenHPC-v2-handson/.log/20210811/20210811-002240-0840.log",
      "/notebooks/notebook/SAGA_home/hands-on/OpenHPC-v2-handson/.log/20210811/20210811-002659-0861.log",
      "/notebooks/notebook/SAGA_home/hands-on/OpenHPC-v2-handson/.log/20210811/20210811-002958-0713.log",
      "/notebooks/notebook/SAGA_home/hands-on/OpenHPC-v2-handson/.log/20210811/20210811-120837-0738.log",
      "/notebooks/notebook/SAGA_home/hands-on/OpenHPC-v2-handson/.log/20210811/20210811-145616-0100.log",
      "/notebooks/notebook/SAGA_home/hands-on/OpenHPC-v2-handson/.log/20210811/20210811-151644-0746.log",
      "/notebooks/notebook/SAGA_home/hands-on/OpenHPC-v2-handson/.log/20210811/20210811-154443-0817.log",
      "/notebooks/notebook/SAGA_home/hands-on/OpenHPC-v2-handson/.log/20210811/20210811-155609-0917.log",
      "/notebooks/notebook/SAGA_home/hands-on/OpenHPC-v2-handson/.log/20210811/20210811-160531-0344.log",
      "/notebooks/notebook/SAGA_home/hands-on/OpenHPC-v2-handson/.log/20210811/20210811-161901-0246.log",
      "/notebooks/notebook/SAGA_home/hands-on/OpenHPC-v2-handson/.log/20210811/20210811-164228-0842.log",
      "/notebooks/notebook/SAGA_home/hands-on/OpenHPC-v2-handson/.log/20210811/20210811-235512-0066.log",
      "/notebooks/notebook/SAGA_home/hands-on/OpenHPC-v2-handson/.log/20210812/20210812-000623-0865.log",
      "/notebooks/notebook/SAGA_home/hands-on/OpenHPC-v2-handson/.log/20210812/20210812-095030-0824.log",
      "/notebooks/notebook/SAGA_home/hands-on/OpenHPC-v2-handson/.log/20210812/20210812-095249-0128.log",
      "/notebooks/notebook/SAGA_home/hands-on/OpenHPC-v2-handson/.log/20210812/20210812-095545-0760.log",
      "/notebooks/notebook/SAGA_home/hands-on/OpenHPC-v2-handson/.log/20210812/20210812-101034-0952.log",
      "/notebooks/notebook/SAGA_home/hands-on/OpenHPC-v2-handson/.log/20210812/20210812-105109-0292.log",
      "/notebooks/notebook/SAGA_home/hands-on/OpenHPC-v2-handson/.log/20210812/20210812-120119-0374.log",
      "/notebooks/notebook/SAGA_home/hands-on/OpenHPC-v2-handson/.log/20210812/20210812-155939-0962.log",
      "/notebooks/notebook/SAGA_home/hands-on/OpenHPC-v2-handson/.log/20210812/20210812-163354-0666.log",
      "/notebooks/notebook/SAGA_home/hands-on/OpenHPC-v2-handson/.log/20210812/20210812-164827-0335.log",
      "/notebooks/notebook/SAGA_home/hands-on/OpenHPC-v2-handson/.log/20210812/20210812-170627-0240.log",
      "/notebooks/notebook/SAGA_home/hands-on/OpenHPC-v2-handson/.log/20210812/20210812-171925-0875.log",
      "/notebooks/notebook/SAGA_home/hands-on/OpenHPC-v2-handson/.log/20210812/20210812-180446-0737.log",
      "/notebooks/notebook/SAGA_home/hands-on/OpenHPC-v2-handson/.log/20210812/20210812-182746-0580.log",
      "/notebooks/notebook/SAGA_home/hands-on/OpenHPC-v2-handson/.log/20210818/20210818-155626-0573.log",
      "/notebooks/notebook/SAGA_home/hands-on/OpenHPC-v2-handson/.log/20210819/20210819-161440-0013.log",
      "/notebooks/notebook/SAGA_home/hands-on/OpenHPC-v2-handson/.log/20210819/20210819-231738-0287.log",
      "/notebooks/notebook/SAGA_home/hands-on/OpenHPC-v2-handson/.log/20210823/20210823-153245-0898.log",
      "/notebooks/notebook/SAGA_home/hands-on/OpenHPC-v2-handson/.log/20210823/20210823-161829-0554.log",
      "/notebooks/notebook/SAGA_home/hands-on/OpenHPC-v2-handson/.log/20210823/20210823-180101-0599.log",
      "/notebooks/notebook/SAGA_home/hands-on/OpenHPC-v2-handson/.log/20210824/20210824-111218-0594.log",
      "/notebooks/notebook/SAGA_home/hands-on/OpenHPC-v2-handson/.log/20210824/20210824-160006-0530.log",
      "/notebooks/notebook/SAGA_home/hands-on/OpenHPC-v2-handson/.log/20210825/20210825-110211-0261.log",
      "/notebooks/notebook/SAGA_home/hands-on/OpenHPC-v2-handson/.log/20210825/20210825-111023-0691.log",
      "/notebooks/notebook/SAGA_home/hands-on/OpenHPC-v2-handson/.log/20210825/20210825-134406-0837.log",
      "/notebooks/notebook/SAGA_home/hands-on/OpenHPC-v2-handson/.log/20210826/20210826-004544-0963.log",
      "/notebooks/notebook/SAGA_home/hands-on/OpenHPC-v2-handson/.log/20210827/20210827-145846-0325.log",
      "/notebooks/notebook/SAGA_home/hands-on/OpenHPC-v2-handson/.log/20210828/20210828-010322-0158.log",
      "/notebooks/notebook/SAGA_home/hands-on/OpenHPC-v2-handson/.log/20210829/20210829-013826-0788.log",
      "/notebooks/notebook/SAGA_home/hands-on/OpenHPC-v2-handson/.log/20210829/20210829-020324-0084.log",
      "/notebooks/notebook/SAGA_home/hands-on/OpenHPC-v2-handson/.log/20210829/20210829-105423-0989.log",
      "/notebooks/notebook/SAGA_home/hands-on/OpenHPC-v2-handson/.log/20210829/20210829-141648-0323.log",
      "/notebooks/notebook/SAGA_home/hands-on/MNIST_handson/.log/20210829/20210829-233209-0496.log",
      "/notebooks/notebook/SAGA_home/hands-on/MNIST_handson/.log/20210830/20210830-001910-0517.log",
      "/notebooks/notebook/SAGA_home/hands-on/MNIST_handson/.log/20210830/20210830-135516-0730.log",
      "/notebooks/notebook/SAGA_home/hands-on/MNIST_handson/.log/20210830/20210830-154133-0075.log",
      "/home/user513xb92482/hands-on/vcp-tutorial/.log/20210901/20210901-135831-0075.log",
      "/home/user513xb92482/hands-on/vcp-tutorial/.log/20210902/20210902-212834-0308.log",
      "/home/user513xb92482/hands-on/vcp-tutorial/.log/20210902/20210902-221334-0253.log",
      "/home/user513xb92482/hands-on/vcp-tutorial/.log/20210903/20210903-103158-0566.log",
      "/home/user513xb92482/hands-on/vcp-tutorial/.log/20210903/20210903-113456-0927.log",
      "/home/user513xb92482/hands-on/vcp-tutorial/.log/20210903/20210903-113756-0152.log",
      "/home/user513xb92482/hands-on/vcp-tutorial/.log/20210903/20210903-155842-0809.log",
      "/home/user513xb92482/hands-on/vcp-tutorial/.log/20210903/20210903-155913-0573.log",
      "/notebooks/notebook/SAGA_home/hands-on/hands-on.513/vcp-tutorial/.log/20210910/20210910-104643-0205.log",
      "/notebooks/notebook/SAGA_home/hands-on/hands-on.513/vcp-tutorial/OpenHPC-MNIST/.log/20210910/20210910-164830-0034.log",
      "/notebooks/notebook/SAGA_home/210903.handson_cloudweek_2021/Deriver/2109.Recog_with_OpenHPC_template/2.Recognition_system/.log/20210914/20210914-144214-0283.log"
     ]
    }
   },
   "outputs": [],
   "source": [
    "from common import logsetting\n",
    "from vcpsdk.vcpsdk import VcpSDK\n",
    "\n",
    "# VCP SDKの初期化from vcpsdk.vcpsdk import VcpSDK\n",
    "vcp = VcpSDK(vcc_access_token)"
   ]
  },
  {
   "cell_type": "markdown",
   "metadata": {
    "lc_cell_meme": {
     "current": "0378e430-0b85-11ec-9aeb-02420a01001e-4-fc96-0092-f813-651f",
     "history": [
      {
       "current": "4a6447ec-a933-11e9-ba83-02420a010053",
       "next": "4a6448c8-a933-11e9-ba83-02420a010053",
       "previous": "4a644710-a933-11e9-ba83-02420a010053"
      },
      {
       "current": "4a6447ec-a933-11e9-ba83-02420a010053-1-8ea0",
       "next": "4a6448c8-a933-11e9-ba83-02420a010053",
       "previous": "4a644b52-a933-11e9-ba83-02420a010053"
      },
      {
       "current": "4a6447ec-a933-11e9-ba83-02420a010053-2-8ea0-b6e8",
       "next": "4a6448c8-a933-11e9-ba83-02420a010053-1-bab9",
       "previous": "4a644b52-a933-11e9-ba83-02420a010053-1-f9fe"
      },
      {
       "current": "4a6447ec-a933-11e9-ba83-02420a010053-3-8ea0-b6e8-bc3b",
       "next": "4a6448c8-a933-11e9-ba83-02420a010053-2-bab9-3e8e",
       "previous": "4a644b52-a933-11e9-ba83-02420a010053-2-f9fe-b5eb"
      },
      {
       "current": "4a6447ec-a933-11e9-ba83-02420a010053-3-8ea0-b6e8-bc3b",
       "next": "4a6448c8-a933-11e9-ba83-02420a010053-3-bab9-3e8e-0e6b",
       "previous": "4a644b52-a933-11e9-ba83-02420a010053-3-f9fe-b5eb-73b3"
      },
      {
       "current": "4a6447ec-a933-11e9-ba83-02420a010053-3-8ea0-b6e8-bc3b",
       "next": "4a6448c8-a933-11e9-ba83-02420a010053-3-bab9-3e8e-0e6b",
       "previous": "a59f9d56-f935-11eb-a3c9-0242ac110002"
      },
      {
       "current": "4a6447ec-a933-11e9-ba83-02420a010053-3-8ea0-b6e8-bc3b",
       "next": "4a6448c8-a933-11e9-ba83-02420a010053-3-bab9-3e8e-0e6b",
       "previous": "a59f9d56-f935-11eb-a3c9-0242ac110002-1-e68f"
      },
      {
       "current": "4a6447ec-a933-11e9-ba83-02420a010053-3-8ea0-b6e8-bc3b",
       "next": "4a6448c8-a933-11e9-ba83-02420a010053-3-bab9-3e8e-0e6b",
       "previous": "c3b7012a-f936-11eb-a3c9-0242ac110002"
      },
      {
       "current": "4a6447ec-a933-11e9-ba83-02420a010053-3-8ea0-b6e8-bc3b",
       "next": "4a6448c8-a933-11e9-ba83-02420a010053-3-bab9-3e8e-0e6b",
       "previous": "0b3d5602-f937-11eb-a3c9-0242ac110002"
      },
      {
       "current": "4a6447ec-a933-11e9-ba83-02420a010053-3-8ea0-b6e8-bc3b",
       "next": "4a644c24-a933-11e9-ba83-02420a010053-3-946d-960f-39b5",
       "previous": "0b3d5602-f937-11eb-a3c9-0242ac110002"
      },
      {
       "current": "4a6447ec-a933-11e9-ba83-02420a010053-3-8ea0-b6e8-bc3b",
       "next": "4a6454ee-a933-11e9-ba83-02420a010053-3-79d6-9f86-df6f",
       "previous": "0b3d5602-f937-11eb-a3c9-0242ac110002"
      },
      {
       "current": "4a6447ec-a933-11e9-ba83-02420a010053-3-8ea0-b6e8-bc3b",
       "next": "4a646006-a933-11e9-ba83-02420a010053-3-a1e1-44ce-b9c5",
       "previous": "0b3d5602-f937-11eb-a3c9-0242ac110002"
      },
      {
       "current": "4a6447ec-a933-11e9-ba83-02420a010053-3-8ea0-b6e8-bc3b",
       "next": "4a646006-a933-11e9-ba83-02420a010053-3-a1e1-44ce-b9c5",
       "previous": "52b9a1f2-f937-11eb-a3c9-0242ac110002"
      },
      {
       "current": "4a6447ec-a933-11e9-ba83-02420a010053-3-8ea0-b6e8-bc3b",
       "next": "4a646006-a933-11e9-ba83-02420a010053-3-a1e1-44ce-b9c5",
       "previous": "6844ab76-053e-11ec-a3c9-0242ac110002"
      },
      {
       "current": "4a6447ec-a933-11e9-ba83-02420a010053-4-8ea0-b6e8-bc3b-f6b5",
       "next": "4a646006-a933-11e9-ba83-02420a010053-3-a1e1-44ce-b9c5",
       "previous": "52b9a1f2-f937-11eb-a3c9-0242ac110002"
      },
      {
       "current": "4a6447ec-a933-11e9-ba83-02420a010053-5-8ea0-b6e8-bc3b-f6b5-f506",
       "next": "4a646006-a933-11e9-ba83-02420a010053-4-a1e1-44ce-b9c5-00a2",
       "previous": "52b9a1f2-f937-11eb-a3c9-0242ac110002-1-fbac"
      },
      {
       "current": "4a6447ec-a933-11e9-ba83-02420a010053-5-8ea0-b6e8-bc3b-f6b5-f506",
       "next": "4a646006-a933-11e9-ba83-02420a010053-5-a1e1-44ce-b9c5-00a2-9a92",
       "previous": "52b9a1f2-f937-11eb-a3c9-0242ac110002-2-fbac-85ed"
      },
      {
       "current": "d03e9228-0b3d-11ec-a5ab-02420a01001e",
       "next": "d03e9318-0b3d-11ec-a5ab-02420a01001e",
       "previous": "d03e914c-0b3d-11ec-a5ab-02420a01001e"
      },
      {
       "current": "97f96a94-0b3f-11ec-8ea2-02420a01001e",
       "next": "97f96b66-0b3f-11ec-8ea2-02420a01001e",
       "previous": "97f969e0-0b3f-11ec-8ea2-02420a01001e"
      },
      {
       "current": "8c24217a-0b7e-11ec-8636-02420a01001e",
       "next": "8c24224c-0b7e-11ec-8636-02420a01001e",
       "previous": "8c2420b2-0b7e-11ec-8636-02420a01001e"
      },
      {
       "current": "0378e430-0b85-11ec-9aeb-02420a01001e-1-fc96",
       "next": "0378e50c-0b85-11ec-9aeb-02420a01001e",
       "previous": "0378e354-0b85-11ec-9aeb-02420a01001e"
      },
      {
       "current": "0378e430-0b85-11ec-9aeb-02420a01001e-2-fc96-0092",
       "next": "0378e50c-0b85-11ec-9aeb-02420a01001e-1-5542",
       "previous": "0378e354-0b85-11ec-9aeb-02420a01001e-1-5383"
      },
      {
       "current": "0378e430-0b85-11ec-9aeb-02420a01001e-3-fc96-0092-f813",
       "next": "0378e50c-0b85-11ec-9aeb-02420a01001e-2-5542-a706",
       "previous": "0378e354-0b85-11ec-9aeb-02420a01001e-2-5383-2be4"
      },
      {
       "current": "0378e430-0b85-11ec-9aeb-02420a01001e-4-fc96-0092-f813-651f",
       "next": "0378e50c-0b85-11ec-9aeb-02420a01001e-3-5542-a706-64a9",
       "previous": "0378e354-0b85-11ec-9aeb-02420a01001e-3-5383-2be4-30ac"
      }
     ],
     "next": "0378e50c-0b85-11ec-9aeb-02420a01001e-4-5542-a706-64a9-f562",
     "previous": "0378e354-0b85-11ec-9aeb-02420a01001e-4-5383-2be4-30ac-96a5"
    }
   },
   "source": [
    "## CPUのみのVCノードの作成\n",
    "クラウド上にCPUのみのインスタンスをVCノードとして作成します。\n",
    "* インスタンス： AWS m4.large  \n",
    "* base コンテナ： ubuntu 16.04"
   ]
  },
  {
   "cell_type": "markdown",
   "metadata": {
    "lc_cell_meme": {
     "current": "0378e50c-0b85-11ec-9aeb-02420a01001e-4-5542-a706-64a9-f562",
     "history": [
      {
       "current": "4a646006-a933-11e9-ba83-02420a010053-1-a1e1",
       "next": "4a6460d8-a933-11e9-ba83-02420a010053",
       "previous": "4a645f34-a933-11e9-ba83-02420a010053"
      },
      {
       "current": "4a646006-a933-11e9-ba83-02420a010053-2-a1e1-44ce",
       "next": "4a6460d8-a933-11e9-ba83-02420a010053-1-89e5",
       "previous": "4a645f34-a933-11e9-ba83-02420a010053-1-f707"
      },
      {
       "current": "4a646006-a933-11e9-ba83-02420a010053-3-a1e1-44ce-b9c5",
       "next": "4a6460d8-a933-11e9-ba83-02420a010053-2-89e5-17b8",
       "previous": "4a645f34-a933-11e9-ba83-02420a010053-2-f707-6665"
      },
      {
       "current": "4a646006-a933-11e9-ba83-02420a010053-3-a1e1-44ce-b9c5",
       "next": "4a6460d8-a933-11e9-ba83-02420a010053-3-89e5-17b8-d00b",
       "previous": "4a645f34-a933-11e9-ba83-02420a010053-3-f707-6665-2f45"
      },
      {
       "current": "4a646006-a933-11e9-ba83-02420a010053-3-a1e1-44ce-b9c5",
       "next": "4a646448-a933-11e9-ba83-02420a010053-3-78a7-e04f-2cc1",
       "previous": "4a6456a6-a933-11e9-ba83-02420a010053-3-2103-dce6-f0fa"
      },
      {
       "current": "4a646006-a933-11e9-ba83-02420a010053-3-a1e1-44ce-b9c5",
       "next": "ad222af8-f93a-11eb-a3c9-0242ac110002",
       "previous": "4a6447ec-a933-11e9-ba83-02420a010053-3-8ea0-b6e8-bc3b"
      },
      {
       "current": "4a646006-a933-11e9-ba83-02420a010053-3-a1e1-44ce-b9c5",
       "next": "5f7a4c10-fb09-11eb-a3c9-0242ac110002",
       "previous": "4a6447ec-a933-11e9-ba83-02420a010053-3-8ea0-b6e8-bc3b"
      },
      {
       "current": "4a646006-a933-11e9-ba83-02420a010053-4-a1e1-44ce-b9c5-00a2",
       "next": "ad222af8-f93a-11eb-a3c9-0242ac110002",
       "previous": "4a6447ec-a933-11e9-ba83-02420a010053-3-8ea0-b6e8-bc3b"
      },
      {
       "current": "4a646006-a933-11e9-ba83-02420a010053-5-a1e1-44ce-b9c5-00a2-9a92",
       "next": "ad222af8-f93a-11eb-a3c9-0242ac110002-1-a5a1",
       "previous": "4a6447ec-a933-11e9-ba83-02420a010053-4-8ea0-b6e8-bc3b-f6b5"
      },
      {
       "current": "4a646006-a933-11e9-ba83-02420a010053-5-a1e1-44ce-b9c5-00a2-9a92",
       "next": "ad222af8-f93a-11eb-a3c9-0242ac110002-2-a5a1-09ea",
       "previous": "4a6447ec-a933-11e9-ba83-02420a010053-5-8ea0-b6e8-bc3b-f6b5-f506"
      },
      {
       "current": "d03e9318-0b3d-11ec-a5ab-02420a01001e",
       "next": "d03e93ea-0b3d-11ec-a5ab-02420a01001e",
       "previous": "d03e9228-0b3d-11ec-a5ab-02420a01001e"
      },
      {
       "current": "97f96b66-0b3f-11ec-8ea2-02420a01001e",
       "next": "97f96c42-0b3f-11ec-8ea2-02420a01001e",
       "previous": "97f96a94-0b3f-11ec-8ea2-02420a01001e"
      },
      {
       "current": "8c24224c-0b7e-11ec-8636-02420a01001e",
       "next": "8c24233c-0b7e-11ec-8636-02420a01001e",
       "previous": "8c24217a-0b7e-11ec-8636-02420a01001e"
      },
      {
       "current": "0378e50c-0b85-11ec-9aeb-02420a01001e-1-5542",
       "next": "0378e5e8-0b85-11ec-9aeb-02420a01001e",
       "previous": "0378e430-0b85-11ec-9aeb-02420a01001e"
      },
      {
       "current": "0378e50c-0b85-11ec-9aeb-02420a01001e-2-5542-a706",
       "next": "0378e5e8-0b85-11ec-9aeb-02420a01001e-1-59aa",
       "previous": "0378e430-0b85-11ec-9aeb-02420a01001e-1-fc96"
      },
      {
       "current": "0378e50c-0b85-11ec-9aeb-02420a01001e-3-5542-a706-64a9",
       "next": "0378e5e8-0b85-11ec-9aeb-02420a01001e-2-59aa-fafb",
       "previous": "0378e430-0b85-11ec-9aeb-02420a01001e-2-fc96-0092"
      },
      {
       "current": "0378e50c-0b85-11ec-9aeb-02420a01001e-4-5542-a706-64a9-f562",
       "next": "0378e5e8-0b85-11ec-9aeb-02420a01001e-3-59aa-fafb-d273",
       "previous": "0378e430-0b85-11ec-9aeb-02420a01001e-3-fc96-0092-f813"
      }
     ],
     "next": "0378e5e8-0b85-11ec-9aeb-02420a01001e-4-59aa-fafb-d273-63ef",
     "previous": "0378e430-0b85-11ec-9aeb-02420a01001e-4-fc96-0092-f813-651f"
    }
   },
   "source": [
    "### VCノードのspecを指定する\n",
    "GPU環境で学習した重みを利用して、CPUのみで推論（本テンプレートの場合は手書き数字認識）するのに十分な性能・容量のノードspecを指定します。"
   ]
  },
  {
   "cell_type": "code",
   "execution_count": null,
   "metadata": {
    "lc_cell_meme": {
     "current": "0378e5e8-0b85-11ec-9aeb-02420a01001e-4-59aa-fafb-d273-63ef",
     "history": [
      {
       "current": "ad222af8-f93a-11eb-a3c9-0242ac110002",
       "next": "4a646948-a933-11e9-ba83-02420a010053-3-5702-1c0a-ad94",
       "previous": "4a646006-a933-11e9-ba83-02420a010053-3-a1e1-44ce-b9c5"
      },
      {
       "current": "ad222af8-f93a-11eb-a3c9-0242ac110002",
       "next": "4a646eb6-a933-11e9-ba83-02420a010053-3-3fd6-eaa2-b58f",
       "previous": "4a646006-a933-11e9-ba83-02420a010053-3-a1e1-44ce-b9c5"
      },
      {
       "current": "ad222af8-f93a-11eb-a3c9-0242ac110002",
       "next": "4a647ac8-a933-11e9-ba83-02420a010053-3-5644-75c1-d199",
       "previous": "4a646006-a933-11e9-ba83-02420a010053-3-a1e1-44ce-b9c5"
      },
      {
       "current": "ad222af8-f93a-11eb-a3c9-0242ac110002",
       "next": "4a647ba4-a933-11e9-ba83-02420a010053-3-594b-c0f0-a08a",
       "previous": "4a646006-a933-11e9-ba83-02420a010053-3-a1e1-44ce-b9c5"
      },
      {
       "current": "ad222af8-f93a-11eb-a3c9-0242ac110002",
       "next": "4a647ba4-a933-11e9-ba83-02420a010053-3-594b-c0f0-a08a",
       "previous": "5f7a4c10-fb09-11eb-a3c9-0242ac110002"
      },
      {
       "current": "ad222af8-f93a-11eb-a3c9-0242ac110002-1-a5a1",
       "next": "4a647ba4-a933-11e9-ba83-02420a010053-3-594b-c0f0-a08a",
       "previous": "4a646006-a933-11e9-ba83-02420a010053-3-a1e1-44ce-b9c5"
      },
      {
       "current": "ad222af8-f93a-11eb-a3c9-0242ac110002-2-a5a1-09ea",
       "next": "4a647ba4-a933-11e9-ba83-02420a010053-4-594b-c0f0-a08a-5254",
       "previous": "4a646006-a933-11e9-ba83-02420a010053-4-a1e1-44ce-b9c5-00a2"
      },
      {
       "current": "ad222af8-f93a-11eb-a3c9-0242ac110002-2-a5a1-09ea",
       "next": "4a647ba4-a933-11e9-ba83-02420a010053-5-594b-c0f0-a08a-5254-2525",
       "previous": "4a646006-a933-11e9-ba83-02420a010053-5-a1e1-44ce-b9c5-00a2-9a92"
      },
      {
       "current": "d03e93ea-0b3d-11ec-a5ab-02420a01001e",
       "next": "d03e94c6-0b3d-11ec-a5ab-02420a01001e",
       "previous": "d03e9318-0b3d-11ec-a5ab-02420a01001e"
      },
      {
       "current": "97f96c42-0b3f-11ec-8ea2-02420a01001e",
       "next": "97f96d00-0b3f-11ec-8ea2-02420a01001e",
       "previous": "97f96b66-0b3f-11ec-8ea2-02420a01001e"
      },
      {
       "current": "8c24233c-0b7e-11ec-8636-02420a01001e",
       "next": "8c242418-0b7e-11ec-8636-02420a01001e",
       "previous": "8c24224c-0b7e-11ec-8636-02420a01001e"
      },
      {
       "current": "0378e5e8-0b85-11ec-9aeb-02420a01001e-1-59aa",
       "next": "0378e6c4-0b85-11ec-9aeb-02420a01001e",
       "previous": "0378e50c-0b85-11ec-9aeb-02420a01001e"
      },
      {
       "current": "0378e5e8-0b85-11ec-9aeb-02420a01001e-2-59aa-fafb",
       "next": "0378e6c4-0b85-11ec-9aeb-02420a01001e-1-56a6",
       "previous": "0378e50c-0b85-11ec-9aeb-02420a01001e-1-5542"
      },
      {
       "current": "0378e5e8-0b85-11ec-9aeb-02420a01001e-3-59aa-fafb-d273",
       "next": "0378e6c4-0b85-11ec-9aeb-02420a01001e-2-56a6-c138",
       "previous": "0378e50c-0b85-11ec-9aeb-02420a01001e-2-5542-a706"
      },
      {
       "current": "0378e5e8-0b85-11ec-9aeb-02420a01001e-4-59aa-fafb-d273-63ef",
       "next": "0378e6c4-0b85-11ec-9aeb-02420a01001e-3-56a6-c138-6aaf",
       "previous": "0378e50c-0b85-11ec-9aeb-02420a01001e-3-5542-a706-64a9"
      }
     ],
     "next": "0378e6c4-0b85-11ec-9aeb-02420a01001e-4-56a6-c138-6aaf-cddc",
     "previous": "0378e50c-0b85-11ec-9aeb-02420a01001e-4-5542-a706-64a9-f562"
    },
    "lc_wrapper": {
     "log_history": [
      "/notebooks/notebook/SAGA_home/hands-on/OpenHPC-v2-handson/.log/20210810/20210810-031728-0908.log",
      "/notebooks/notebook/SAGA_home/hands-on/OpenHPC-v2-handson/.log/20210810/20210810-031933-0162.log",
      "/notebooks/notebook/SAGA_home/hands-on/OpenHPC-v2-handson/.log/20210810/20210810-220312-0169.log",
      "/notebooks/notebook/SAGA_home/hands-on/OpenHPC-v2-handson/.log/20210810/20210810-223523-0635.log",
      "/notebooks/notebook/SAGA_home/hands-on/OpenHPC-v2-handson/.log/20210810/20210810-225438-0988.log",
      "/notebooks/notebook/SAGA_home/hands-on/OpenHPC-v2-handson/.log/20210810/20210810-231340-0353.log",
      "/notebooks/notebook/SAGA_home/hands-on/OpenHPC-v2-handson/.log/20210810/20210810-231444-0831.log",
      "/notebooks/notebook/SAGA_home/hands-on/OpenHPC-v2-handson/.log/20210810/20210810-233247-0034.log",
      "/notebooks/notebook/SAGA_home/hands-on/OpenHPC-v2-handson/.log/20210811/20210811-002248-0886.log",
      "/notebooks/notebook/SAGA_home/hands-on/OpenHPC-v2-handson/.log/20210811/20210811-002705-0595.log",
      "/notebooks/notebook/SAGA_home/hands-on/OpenHPC-v2-handson/.log/20210811/20210811-002818-0969.log",
      "/notebooks/notebook/SAGA_home/hands-on/OpenHPC-v2-handson/.log/20210811/20210811-003002-0454.log",
      "/notebooks/notebook/SAGA_home/hands-on/OpenHPC-v2-handson/.log/20210811/20210811-120844-0075.log",
      "/notebooks/notebook/SAGA_home/hands-on/OpenHPC-v2-handson/.log/20210811/20210811-145622-0391.log",
      "/notebooks/notebook/SAGA_home/hands-on/OpenHPC-v2-handson/.log/20210811/20210811-151649-0462.log",
      "/notebooks/notebook/SAGA_home/hands-on/OpenHPC-v2-handson/.log/20210811/20210811-154450-0136.log",
      "/notebooks/notebook/SAGA_home/hands-on/OpenHPC-v2-handson/.log/20210811/20210811-155617-0960.log",
      "/notebooks/notebook/SAGA_home/hands-on/OpenHPC-v2-handson/.log/20210811/20210811-160541-0700.log",
      "/notebooks/notebook/SAGA_home/hands-on/OpenHPC-v2-handson/.log/20210811/20210811-161920-0468.log",
      "/notebooks/notebook/SAGA_home/hands-on/OpenHPC-v2-handson/.log/20210811/20210811-164235-0218.log",
      "/notebooks/notebook/SAGA_home/hands-on/OpenHPC-v2-handson/.log/20210811/20210811-235518-0325.log",
      "/notebooks/notebook/SAGA_home/hands-on/OpenHPC-v2-handson/.log/20210812/20210812-000630-0754.log",
      "/notebooks/notebook/SAGA_home/hands-on/OpenHPC-v2-handson/.log/20210812/20210812-094955-0872.log",
      "/notebooks/notebook/SAGA_home/hands-on/OpenHPC-v2-handson/.log/20210812/20210812-095038-0128.log",
      "/notebooks/notebook/SAGA_home/hands-on/OpenHPC-v2-handson/.log/20210812/20210812-095049-0901.log",
      "/notebooks/notebook/SAGA_home/hands-on/OpenHPC-v2-handson/.log/20210812/20210812-095254-0724.log",
      "/notebooks/notebook/SAGA_home/hands-on/OpenHPC-v2-handson/.log/20210812/20210812-095550-0377.log",
      "/notebooks/notebook/SAGA_home/hands-on/OpenHPC-v2-handson/.log/20210812/20210812-100502-0590.log",
      "/notebooks/notebook/SAGA_home/hands-on/OpenHPC-v2-handson/.log/20210812/20210812-101048-0793.log",
      "/notebooks/notebook/SAGA_home/hands-on/OpenHPC-v2-handson/.log/20210812/20210812-105115-0364.log",
      "/notebooks/notebook/SAGA_home/hands-on/OpenHPC-v2-handson/.log/20210812/20210812-120124-0873.log",
      "/notebooks/notebook/SAGA_home/hands-on/OpenHPC-v2-handson/.log/20210812/20210812-155944-0947.log",
      "/notebooks/notebook/SAGA_home/hands-on/OpenHPC-v2-handson/.log/20210812/20210812-163401-0824.log",
      "/notebooks/notebook/SAGA_home/hands-on/OpenHPC-v2-handson/.log/20210812/20210812-164836-0413.log",
      "/notebooks/notebook/SAGA_home/hands-on/OpenHPC-v2-handson/.log/20210812/20210812-170631-0251.log",
      "/notebooks/notebook/SAGA_home/hands-on/OpenHPC-v2-handson/.log/20210812/20210812-171933-0817.log",
      "/notebooks/notebook/SAGA_home/hands-on/OpenHPC-v2-handson/.log/20210812/20210812-180450-0179.log",
      "/notebooks/notebook/SAGA_home/hands-on/OpenHPC-v2-handson/.log/20210812/20210812-182756-0789.log",
      "/notebooks/notebook/SAGA_home/hands-on/OpenHPC-v2-handson/.log/20210818/20210818-155631-0594.log",
      "/notebooks/notebook/SAGA_home/hands-on/OpenHPC-v2-handson/.log/20210819/20210819-161448-0917.log",
      "/notebooks/notebook/SAGA_home/hands-on/OpenHPC-v2-handson/.log/20210819/20210819-231744-0440.log",
      "/notebooks/notebook/SAGA_home/hands-on/OpenHPC-v2-handson/.log/20210823/20210823-153249-0873.log",
      "/notebooks/notebook/SAGA_home/hands-on/OpenHPC-v2-handson/.log/20210823/20210823-161833-0250.log",
      "/notebooks/notebook/SAGA_home/hands-on/OpenHPC-v2-handson/.log/20210823/20210823-180109-0103.log",
      "/notebooks/notebook/SAGA_home/hands-on/OpenHPC-v2-handson/.log/20210824/20210824-111231-0208.log",
      "/notebooks/notebook/SAGA_home/hands-on/OpenHPC-v2-handson/.log/20210824/20210824-160010-0887.log",
      "/notebooks/notebook/SAGA_home/hands-on/OpenHPC-v2-handson/.log/20210825/20210825-110221-0859.log",
      "/notebooks/notebook/SAGA_home/hands-on/OpenHPC-v2-handson/.log/20210825/20210825-111030-0227.log",
      "/notebooks/notebook/SAGA_home/hands-on/OpenHPC-v2-handson/.log/20210825/20210825-134410-0689.log",
      "/notebooks/notebook/SAGA_home/hands-on/OpenHPC-v2-handson/.log/20210826/20210826-004548-0739.log",
      "/notebooks/notebook/SAGA_home/hands-on/OpenHPC-v2-handson/.log/20210827/20210827-145852-0476.log",
      "/notebooks/notebook/SAGA_home/hands-on/OpenHPC-v2-handson/.log/20210828/20210828-010329-0629.log",
      "/notebooks/notebook/SAGA_home/hands-on/OpenHPC-v2-handson/.log/20210829/20210829-013830-0429.log",
      "/notebooks/notebook/SAGA_home/hands-on/OpenHPC-v2-handson/.log/20210829/20210829-020329-0404.log",
      "/notebooks/notebook/SAGA_home/hands-on/OpenHPC-v2-handson/.log/20210829/20210829-105428-0309.log",
      "/notebooks/notebook/SAGA_home/hands-on/OpenHPC-v2-handson/.log/20210829/20210829-141651-0305.log",
      "/notebooks/notebook/SAGA_home/hands-on/MNIST_handson/.log/20210829/20210829-233213-0979.log",
      "/notebooks/notebook/SAGA_home/hands-on/MNIST_handson/.log/20210830/20210830-001913-0373.log",
      "/notebooks/notebook/SAGA_home/hands-on/MNIST_handson/.log/20210830/20210830-135522-0862.log",
      "/notebooks/notebook/SAGA_home/hands-on/MNIST_handson/.log/20210830/20210830-154145-0254.log",
      "/home/user513xb92482/hands-on/vcp-tutorial/.log/20210901/20210901-135838-0238.log",
      "/home/user513xb92482/hands-on/vcp-tutorial/.log/20210902/20210902-212840-0421.log",
      "/home/user513xb92482/hands-on/vcp-tutorial/.log/20210903/20210903-103204-0377.log",
      "/home/user513xb92482/hands-on/vcp-tutorial/.log/20210903/20210903-113808-0297.log",
      "/home/user513xb92482/hands-on/vcp-tutorial/.log/20210903/20210903-155937-0805.log",
      "/notebooks/notebook/SAGA_home/hands-on/hands-on.513/vcp-tutorial/.log/20210910/20210910-104647-0294.log",
      "/notebooks/notebook/SAGA_home/hands-on/hands-on.513/vcp-tutorial/OpenHPC-MNIST/.log/20210910/20210910-164838-0007.log",
      "/notebooks/notebook/SAGA_home/210903.handson_cloudweek_2021/Deriver/2109.Recog_with_OpenHPC_template/2.Recognition_system/.log/20210914/20210914-144219-0812.log"
     ]
    }
   },
   "outputs": [],
   "source": [
    "# UnitGroup の作成\n",
    "unit_group = vcp.create_ugroup(ugroup_name)\n",
    "\n",
    "# VCノード spec\n",
    "spec = vcp.get_spec(vc_provider, vcnode_flavor)\n",
    "\n",
    "# base コンテナ\n",
    "spec.image = \"vcp/base:1.6.2-ubuntu\"\n",
    "\n",
    "# ssh keyfiles\n",
    "import os\n",
    "ssh_public_key = os.path.expanduser('~/.ssh/id_rsa.pub')\n",
    "ssh_private_key = os.path.expanduser('~/.ssh/id_rsa')\n",
    "spec.set_ssh_pubkey(ssh_public_key)\n",
    "\n",
    "# ssh オプション\n",
    "ssh_opts = f\"-i {ssh_private_key} -l root\""
   ]
  },
  {
   "cell_type": "markdown",
   "metadata": {
    "lc_cell_meme": {
     "current": "0378e6c4-0b85-11ec-9aeb-02420a01001e-4-56a6-c138-6aaf-cddc",
     "history": [
      {
       "current": "4a647ba4-a933-11e9-ba83-02420a010053-1-594b",
       "next": "4a647c80-a933-11e9-ba83-02420a010053",
       "previous": "4a647ac8-a933-11e9-ba83-02420a010053"
      },
      {
       "current": "4a647ba4-a933-11e9-ba83-02420a010053-2-594b-c0f0",
       "next": "4a647c80-a933-11e9-ba83-02420a010053-1-6496",
       "previous": "4a647ac8-a933-11e9-ba83-02420a010053-1-5644"
      },
      {
       "current": "4a647ba4-a933-11e9-ba83-02420a010053-3-594b-c0f0-a08a",
       "next": "4a647c80-a933-11e9-ba83-02420a010053-2-6496-8355",
       "previous": "4a647ac8-a933-11e9-ba83-02420a010053-2-5644-75c1"
      },
      {
       "current": "4a647ba4-a933-11e9-ba83-02420a010053-3-594b-c0f0-a08a",
       "next": "4a647c80-a933-11e9-ba83-02420a010053-3-6496-8355-28c6",
       "previous": "4a647ac8-a933-11e9-ba83-02420a010053-3-5644-75c1-d199"
      },
      {
       "current": "4a647ba4-a933-11e9-ba83-02420a010053-3-594b-c0f0-a08a",
       "next": "4a647d52-a933-11e9-ba83-02420a010053-3-1999-680c-c83c",
       "previous": "4a647ac8-a933-11e9-ba83-02420a010053-3-5644-75c1-d199"
      },
      {
       "current": "4a647ba4-a933-11e9-ba83-02420a010053-4-594b-c0f0-a08a-5254",
       "next": "4a647d52-a933-11e9-ba83-02420a010053-3-1999-680c-c83c",
       "previous": "ad222af8-f93a-11eb-a3c9-0242ac110002"
      },
      {
       "current": "4a647ba4-a933-11e9-ba83-02420a010053-5-594b-c0f0-a08a-5254-2525",
       "next": "4a647d52-a933-11e9-ba83-02420a010053-4-1999-680c-c83c-2bf1",
       "previous": "ad222af8-f93a-11eb-a3c9-0242ac110002-1-a5a1"
      },
      {
       "current": "4a647ba4-a933-11e9-ba83-02420a010053-5-594b-c0f0-a08a-5254-2525",
       "next": "4a647d52-a933-11e9-ba83-02420a010053-5-1999-680c-c83c-2bf1-d025",
       "previous": "ad222af8-f93a-11eb-a3c9-0242ac110002-2-a5a1-09ea"
      },
      {
       "current": "d03e94c6-0b3d-11ec-a5ab-02420a01001e",
       "next": "d03e95b6-0b3d-11ec-a5ab-02420a01001e",
       "previous": "d03e93ea-0b3d-11ec-a5ab-02420a01001e"
      },
      {
       "current": "97f96d00-0b3f-11ec-8ea2-02420a01001e",
       "next": "97f96dc8-0b3f-11ec-8ea2-02420a01001e",
       "previous": "97f96c42-0b3f-11ec-8ea2-02420a01001e"
      },
      {
       "current": "8c242418-0b7e-11ec-8636-02420a01001e",
       "next": "8c242508-0b7e-11ec-8636-02420a01001e",
       "previous": "8c24233c-0b7e-11ec-8636-02420a01001e"
      },
      {
       "current": "0378e6c4-0b85-11ec-9aeb-02420a01001e-1-56a6",
       "next": "0378e7a0-0b85-11ec-9aeb-02420a01001e",
       "previous": "0378e5e8-0b85-11ec-9aeb-02420a01001e"
      },
      {
       "current": "0378e6c4-0b85-11ec-9aeb-02420a01001e-2-56a6-c138",
       "next": "0378e7a0-0b85-11ec-9aeb-02420a01001e-1-ce4b",
       "previous": "0378e5e8-0b85-11ec-9aeb-02420a01001e-1-59aa"
      },
      {
       "current": "0378e6c4-0b85-11ec-9aeb-02420a01001e-3-56a6-c138-6aaf",
       "next": "0378e7a0-0b85-11ec-9aeb-02420a01001e-2-ce4b-f684",
       "previous": "0378e5e8-0b85-11ec-9aeb-02420a01001e-2-59aa-fafb"
      },
      {
       "current": "0378e6c4-0b85-11ec-9aeb-02420a01001e-4-56a6-c138-6aaf-cddc",
       "next": "0378e7a0-0b85-11ec-9aeb-02420a01001e-3-ce4b-f684-c685",
       "previous": "0378e5e8-0b85-11ec-9aeb-02420a01001e-3-59aa-fafb-d273"
      }
     ],
     "next": "0378e7a0-0b85-11ec-9aeb-02420a01001e-4-ce4b-f684-c685-c4e9",
     "previous": "0378e5e8-0b85-11ec-9aeb-02420a01001e-4-59aa-fafb-d273-63ef"
    }
   },
   "source": [
    "### Unitの作成とVCノードの起動\n",
    "Unitを作成します。Unitを作成すると同時に VCノード（ここでは Amazon EC2インスタンス）が起動します。処理が完了するまで1分半～2分程度かかります。"
   ]
  },
  {
   "cell_type": "code",
   "execution_count": null,
   "metadata": {
    "lc_cell_meme": {
     "current": "0378e7a0-0b85-11ec-9aeb-02420a01001e-4-ce4b-f684-c685-c4e9",
     "history": [
      {
       "current": "4a647d52-a933-11e9-ba83-02420a010053-1-1999",
       "next": "4a647e2e-a933-11e9-ba83-02420a010053",
       "previous": "4a647c80-a933-11e9-ba83-02420a010053"
      },
      {
       "current": "4a647d52-a933-11e9-ba83-02420a010053-2-1999-680c",
       "next": "4a647e2e-a933-11e9-ba83-02420a010053-1-d0a9",
       "previous": "4a647c80-a933-11e9-ba83-02420a010053-1-6496"
      },
      {
       "current": "4a647d52-a933-11e9-ba83-02420a010053-3-1999-680c-c83c",
       "next": "4a647e2e-a933-11e9-ba83-02420a010053-2-d0a9-8b0d",
       "previous": "4a647c80-a933-11e9-ba83-02420a010053-2-6496-8355"
      },
      {
       "current": "4a647d52-a933-11e9-ba83-02420a010053-3-1999-680c-c83c",
       "next": "4a647e2e-a933-11e9-ba83-02420a010053-3-d0a9-8b0d-1603",
       "previous": "4a647c80-a933-11e9-ba83-02420a010053-3-6496-8355-28c6"
      },
      {
       "current": "4a647d52-a933-11e9-ba83-02420a010053-3-1999-680c-c83c",
       "next": "4a648360-a933-11e9-ba83-02420a010053-3-7797-8366-41ed",
       "previous": "4a647c80-a933-11e9-ba83-02420a010053-3-6496-8355-28c6"
      },
      {
       "current": "4a647d52-a933-11e9-ba83-02420a010053-4-1999-680c-c83c-2bf1",
       "next": "4a648360-a933-11e9-ba83-02420a010053-3-7797-8366-41ed",
       "previous": "4a647ba4-a933-11e9-ba83-02420a010053-3-594b-c0f0-a08a"
      },
      {
       "current": "4a647d52-a933-11e9-ba83-02420a010053-5-1999-680c-c83c-2bf1-d025",
       "next": "4a648360-a933-11e9-ba83-02420a010053-4-7797-8366-41ed-d32d",
       "previous": "4a647ba4-a933-11e9-ba83-02420a010053-4-594b-c0f0-a08a-5254"
      },
      {
       "current": "4a647d52-a933-11e9-ba83-02420a010053-5-1999-680c-c83c-2bf1-d025",
       "next": "4a648360-a933-11e9-ba83-02420a010053-5-7797-8366-41ed-d32d-2270",
       "previous": "4a647ba4-a933-11e9-ba83-02420a010053-5-594b-c0f0-a08a-5254-2525"
      },
      {
       "current": "d03e95b6-0b3d-11ec-a5ab-02420a01001e",
       "next": "d03e9692-0b3d-11ec-a5ab-02420a01001e",
       "previous": "d03e94c6-0b3d-11ec-a5ab-02420a01001e"
      },
      {
       "current": "97f96dc8-0b3f-11ec-8ea2-02420a01001e",
       "next": "97f96e7c-0b3f-11ec-8ea2-02420a01001e",
       "previous": "97f96d00-0b3f-11ec-8ea2-02420a01001e"
      },
      {
       "current": "8c242508-0b7e-11ec-8636-02420a01001e",
       "next": "8c2425e4-0b7e-11ec-8636-02420a01001e",
       "previous": "8c242418-0b7e-11ec-8636-02420a01001e"
      },
      {
       "current": "0378e7a0-0b85-11ec-9aeb-02420a01001e-1-ce4b",
       "next": "0378e872-0b85-11ec-9aeb-02420a01001e",
       "previous": "0378e6c4-0b85-11ec-9aeb-02420a01001e"
      },
      {
       "current": "0378e7a0-0b85-11ec-9aeb-02420a01001e-2-ce4b-f684",
       "next": "0378e872-0b85-11ec-9aeb-02420a01001e-1-7ffc",
       "previous": "0378e6c4-0b85-11ec-9aeb-02420a01001e-1-56a6"
      },
      {
       "current": "0378e7a0-0b85-11ec-9aeb-02420a01001e-3-ce4b-f684-c685",
       "next": "0378e872-0b85-11ec-9aeb-02420a01001e-2-7ffc-a951",
       "previous": "0378e6c4-0b85-11ec-9aeb-02420a01001e-2-56a6-c138"
      },
      {
       "current": "0378e7a0-0b85-11ec-9aeb-02420a01001e-4-ce4b-f684-c685-c4e9",
       "next": "0378e872-0b85-11ec-9aeb-02420a01001e-3-7ffc-a951-7a61",
       "previous": "0378e6c4-0b85-11ec-9aeb-02420a01001e-3-56a6-c138-6aaf"
      }
     ],
     "next": "0378e872-0b85-11ec-9aeb-02420a01001e-4-7ffc-a951-7a61-5c56",
     "previous": "0378e6c4-0b85-11ec-9aeb-02420a01001e-4-56a6-c138-6aaf-cddc"
    },
    "lc_wrapper": {
     "log_history": [
      "/home/useraafa1b/hands-on/vcp-tutorial/.log/20190719/20190719-164144-0920.log",
      "/notebooks/notebook/hands-on/vcp-tutorial/.log/20191003/20191003-161733-0223.log",
      "/notebooks/notebook/SAGA_home/hands-on/OpenHPC-v2-handson/.log/20210810/20210810-031939-0464.log",
      "/notebooks/notebook/SAGA_home/hands-on/OpenHPC-v2-handson/.log/20210810/20210810-220320-0289.log",
      "/notebooks/notebook/SAGA_home/hands-on/OpenHPC-v2-handson/.log/20210810/20210810-223528-0372.log",
      "/notebooks/notebook/SAGA_home/hands-on/OpenHPC-v2-handson/.log/20210810/20210810-231452-0717.log",
      "/notebooks/notebook/SAGA_home/hands-on/OpenHPC-v2-handson/.log/20210810/20210810-233306-0377.log",
      "/notebooks/notebook/SAGA_home/hands-on/OpenHPC-v2-handson/.log/20210811/20210811-003007-0229.log",
      "/notebooks/notebook/SAGA_home/hands-on/OpenHPC-v2-handson/.log/20210811/20210811-120849-0449.log",
      "/notebooks/notebook/SAGA_home/hands-on/OpenHPC-v2-handson/.log/20210811/20210811-145627-0963.log",
      "/notebooks/notebook/SAGA_home/hands-on/OpenHPC-v2-handson/.log/20210811/20210811-151657-0887.log",
      "/notebooks/notebook/SAGA_home/hands-on/OpenHPC-v2-handson/.log/20210811/20210811-154455-0544.log",
      "/notebooks/notebook/SAGA_home/hands-on/OpenHPC-v2-handson/.log/20210811/20210811-155622-0014.log",
      "/notebooks/notebook/SAGA_home/hands-on/OpenHPC-v2-handson/.log/20210811/20210811-160547-0124.log",
      "/notebooks/notebook/SAGA_home/hands-on/OpenHPC-v2-handson/.log/20210811/20210811-161926-0120.log",
      "/notebooks/notebook/SAGA_home/hands-on/OpenHPC-v2-handson/.log/20210811/20210811-164245-0368.log",
      "/notebooks/notebook/SAGA_home/hands-on/OpenHPC-v2-handson/.log/20210811/20210811-235523-0475.log",
      "/notebooks/notebook/SAGA_home/hands-on/OpenHPC-v2-handson/.log/20210812/20210812-000635-0218.log",
      "/notebooks/notebook/SAGA_home/hands-on/OpenHPC-v2-handson/.log/20210812/20210812-101103-0672.log",
      "/notebooks/notebook/SAGA_home/hands-on/OpenHPC-v2-handson/.log/20210812/20210812-105121-0449.log",
      "/notebooks/notebook/SAGA_home/hands-on/OpenHPC-v2-handson/.log/20210812/20210812-120125-0449.log",
      "/notebooks/notebook/SAGA_home/hands-on/OpenHPC-v2-handson/.log/20210812/20210812-155945-0539.log",
      "/notebooks/notebook/SAGA_home/hands-on/OpenHPC-v2-handson/.log/20210812/20210812-163409-0170.log",
      "/notebooks/notebook/SAGA_home/hands-on/OpenHPC-v2-handson/.log/20210812/20210812-164836-0980.log",
      "/notebooks/notebook/SAGA_home/hands-on/OpenHPC-v2-handson/.log/20210812/20210812-170631-0833.log",
      "/notebooks/notebook/SAGA_home/hands-on/OpenHPC-v2-handson/.log/20210812/20210812-171944-0223.log",
      "/notebooks/notebook/SAGA_home/hands-on/OpenHPC-v2-handson/.log/20210812/20210812-180450-0749.log",
      "/notebooks/notebook/SAGA_home/hands-on/OpenHPC-v2-handson/.log/20210812/20210812-182757-0348.log",
      "/notebooks/notebook/SAGA_home/hands-on/OpenHPC-v2-handson/.log/20210818/20210818-155632-0175.log",
      "/notebooks/notebook/SAGA_home/hands-on/OpenHPC-v2-handson/.log/20210819/20210819-161458-0115.log",
      "/notebooks/notebook/SAGA_home/hands-on/OpenHPC-v2-handson/.log/20210819/20210819-231745-0025.log",
      "/notebooks/notebook/SAGA_home/hands-on/OpenHPC-v2-handson/.log/20210823/20210823-153303-0022.log",
      "/notebooks/notebook/SAGA_home/hands-on/OpenHPC-v2-handson/.log/20210823/20210823-161833-0814.log",
      "/notebooks/notebook/SAGA_home/hands-on/OpenHPC-v2-handson/.log/20210823/20210823-180109-0704.log",
      "/notebooks/notebook/SAGA_home/hands-on/OpenHPC-v2-handson/.log/20210824/20210824-111231-0784.log",
      "/notebooks/notebook/SAGA_home/hands-on/OpenHPC-v2-handson/.log/20210824/20210824-160011-0479.log",
      "/notebooks/notebook/SAGA_home/hands-on/OpenHPC-v2-handson/.log/20210825/20210825-111030-0796.log",
      "/notebooks/notebook/SAGA_home/hands-on/OpenHPC-v2-handson/.log/20210825/20210825-134411-0268.log",
      "/notebooks/notebook/SAGA_home/hands-on/OpenHPC-v2-handson/.log/20210826/20210826-004549-0352.log",
      "/notebooks/notebook/SAGA_home/hands-on/OpenHPC-v2-handson/.log/20210827/20210827-145853-0049.log",
      "/notebooks/notebook/SAGA_home/hands-on/OpenHPC-v2-handson/.log/20210828/20210828-010341-0326.log",
      "/notebooks/notebook/SAGA_home/hands-on/OpenHPC-v2-handson/.log/20210829/20210829-013831-0001.log",
      "/notebooks/notebook/SAGA_home/hands-on/OpenHPC-v2-handson/.log/20210829/20210829-020329-0949.log",
      "/notebooks/notebook/SAGA_home/hands-on/OpenHPC-v2-handson/.log/20210829/20210829-105428-0876.log",
      "/notebooks/notebook/SAGA_home/hands-on/OpenHPC-v2-handson/.log/20210829/20210829-141651-0901.log",
      "/notebooks/notebook/SAGA_home/hands-on/MNIST_handson/.log/20210829/20210829-233214-0587.log",
      "/notebooks/notebook/SAGA_home/hands-on/MNIST_handson/.log/20210830/20210830-001913-0942.log",
      "/notebooks/notebook/SAGA_home/hands-on/MNIST_handson/.log/20210830/20210830-135523-0418.log",
      "/notebooks/notebook/SAGA_home/hands-on/MNIST_handson/.log/20210830/20210830-154145-0818.log",
      "/home/user513xb92482/hands-on/vcp-tutorial/.log/20210901/20210901-135844-0602.log",
      "/home/user513xb92482/hands-on/vcp-tutorial/.log/20210902/20210902-212841-0250.log",
      "/home/user513xb92482/hands-on/vcp-tutorial/.log/20210903/20210903-103205-0524.log",
      "/home/user513xb92482/hands-on/vcp-tutorial/.log/20210903/20210903-113815-0442.log",
      "/home/user513xb92482/hands-on/vcp-tutorial/.log/20210903/20210903-155938-0807.log",
      "/notebooks/notebook/SAGA_home/hands-on/hands-on.513/vcp-tutorial/.log/20210910/20210910-104651-0240.log",
      "/notebooks/notebook/SAGA_home/hands-on/hands-on.513/vcp-tutorial/OpenHPC-MNIST/.log/20210910/20210910-164838-0586.log",
      "/notebooks/notebook/SAGA_home/210903.handson_cloudweek_2021/Deriver/2109.Recog_with_OpenHPC_template/2.Recognition_system/.log/20210914/20210914-144220-0650.log"
     ]
    },
    "scrolled": true
   },
   "outputs": [],
   "source": [
    "# Unitの作成（同時に VCノードが作成される）\n",
    "unit = unit_group.create_unit('tf-node', spec)"
   ]
  },
  {
   "cell_type": "markdown",
   "metadata": {
    "lc_cell_meme": {
     "current": "0378e872-0b85-11ec-9aeb-02420a01001e-4-7ffc-a951-7a61-5c56",
     "history": [
      {
       "current": "4a648360-a933-11e9-ba83-02420a010053-1-7797",
       "next": "4a648432-a933-11e9-ba83-02420a010053",
       "previous": "4a648284-a933-11e9-ba83-02420a010053"
      },
      {
       "current": "4a648360-a933-11e9-ba83-02420a010053-2-7797-8366",
       "next": "4a648432-a933-11e9-ba83-02420a010053-1-8d2c",
       "previous": "4a648284-a933-11e9-ba83-02420a010053-1-3d21"
      },
      {
       "current": "4a648360-a933-11e9-ba83-02420a010053-3-7797-8366-41ed",
       "next": "4a648432-a933-11e9-ba83-02420a010053-2-8d2c-e0f0",
       "previous": "4a648284-a933-11e9-ba83-02420a010053-2-3d21-da9d"
      },
      {
       "current": "4a648360-a933-11e9-ba83-02420a010053-3-7797-8366-41ed",
       "next": "4a648432-a933-11e9-ba83-02420a010053-3-8d2c-e0f0-14b0",
       "previous": "4a648284-a933-11e9-ba83-02420a010053-3-3d21-da9d-09d6"
      },
      {
       "current": "4a648360-a933-11e9-ba83-02420a010053-3-7797-8366-41ed",
       "next": "4a648432-a933-11e9-ba83-02420a010053-3-8d2c-e0f0-14b0",
       "previous": "4a647d52-a933-11e9-ba83-02420a010053-3-1999-680c-c83c"
      },
      {
       "current": "4a648360-a933-11e9-ba83-02420a010053-4-7797-8366-41ed-d32d",
       "next": "4a64850e-a933-11e9-ba83-02420a010053-3-e84e-2040-de26",
       "previous": "4a647d52-a933-11e9-ba83-02420a010053-3-1999-680c-c83c"
      },
      {
       "current": "4a648360-a933-11e9-ba83-02420a010053-5-7797-8366-41ed-d32d-2270",
       "next": "4a64850e-a933-11e9-ba83-02420a010053-4-e84e-2040-de26-8fd5",
       "previous": "4a647d52-a933-11e9-ba83-02420a010053-4-1999-680c-c83c-2bf1"
      },
      {
       "current": "4a648360-a933-11e9-ba83-02420a010053-5-7797-8366-41ed-d32d-2270",
       "next": "4a64850e-a933-11e9-ba83-02420a010053-5-e84e-2040-de26-8fd5-64a4",
       "previous": "4a647d52-a933-11e9-ba83-02420a010053-5-1999-680c-c83c-2bf1-d025"
      },
      {
       "current": "d03e9692-0b3d-11ec-a5ab-02420a01001e",
       "next": "d03e9778-0b3d-11ec-a5ab-02420a01001e",
       "previous": "d03e95b6-0b3d-11ec-a5ab-02420a01001e"
      },
      {
       "current": "97f96e7c-0b3f-11ec-8ea2-02420a01001e",
       "next": "97f96f58-0b3f-11ec-8ea2-02420a01001e",
       "previous": "97f96dc8-0b3f-11ec-8ea2-02420a01001e"
      },
      {
       "current": "8c2425e4-0b7e-11ec-8636-02420a01001e",
       "next": "8c2426d4-0b7e-11ec-8636-02420a01001e",
       "previous": "8c242508-0b7e-11ec-8636-02420a01001e"
      },
      {
       "current": "0378e872-0b85-11ec-9aeb-02420a01001e-1-7ffc",
       "next": "0378e94e-0b85-11ec-9aeb-02420a01001e",
       "previous": "0378e7a0-0b85-11ec-9aeb-02420a01001e"
      },
      {
       "current": "0378e872-0b85-11ec-9aeb-02420a01001e-2-7ffc-a951",
       "next": "0378e94e-0b85-11ec-9aeb-02420a01001e-1-042e",
       "previous": "0378e7a0-0b85-11ec-9aeb-02420a01001e-1-ce4b"
      },
      {
       "current": "0378e872-0b85-11ec-9aeb-02420a01001e-3-7ffc-a951-7a61",
       "next": "0378e94e-0b85-11ec-9aeb-02420a01001e-2-042e-019d",
       "previous": "0378e7a0-0b85-11ec-9aeb-02420a01001e-2-ce4b-f684"
      },
      {
       "current": "0378e872-0b85-11ec-9aeb-02420a01001e-4-7ffc-a951-7a61-5c56",
       "next": "0378e94e-0b85-11ec-9aeb-02420a01001e-3-042e-019d-717e",
       "previous": "0378e7a0-0b85-11ec-9aeb-02420a01001e-3-ce4b-f684-c685"
      }
     ],
     "next": "0378e94e-0b85-11ec-9aeb-02420a01001e-4-042e-019d-717e-ae19",
     "previous": "0378e7a0-0b85-11ec-9aeb-02420a01001e-4-ce4b-f684-c685-c4e9"
    }
   },
   "source": [
    "### 疎通確認\n",
    "まず、sshのknown_hostsの設定を行います。その後、VCノードに対して`uname -a`を実行し、`ubuntu`が起動していることを確認します。\n",
    "ssh設定でエラーが発生した場合、このセルを再度実行してみてください。多くの場合正常終了します。また、`ubuntu`が起動していない場合は、`spec.image` に誤りがあります。本テンプレート下部にある「環境の削除」を実行、`spec.image`を修正、全てのセルを`unfreeze`してから、最初から再実行してください。"
   ]
  },
  {
   "cell_type": "code",
   "execution_count": null,
   "metadata": {
    "lc_cell_meme": {
     "current": "0378e94e-0b85-11ec-9aeb-02420a01001e-4-042e-019d-717e-ae19",
     "history": [
      {
       "current": "4a64850e-a933-11e9-ba83-02420a010053-1-e84e",
       "next": "4a6485e0-a933-11e9-ba83-02420a010053",
       "previous": "4a648432-a933-11e9-ba83-02420a010053"
      },
      {
       "current": "4a64850e-a933-11e9-ba83-02420a010053-2-e84e-2040",
       "next": "4a6485e0-a933-11e9-ba83-02420a010053-1-3155",
       "previous": "4a648432-a933-11e9-ba83-02420a010053-1-8d2c"
      },
      {
       "current": "4a64850e-a933-11e9-ba83-02420a010053-3-e84e-2040-de26",
       "next": "4a6485e0-a933-11e9-ba83-02420a010053-2-3155-e750",
       "previous": "4a648432-a933-11e9-ba83-02420a010053-2-8d2c-e0f0"
      },
      {
       "current": "4a64850e-a933-11e9-ba83-02420a010053-3-e84e-2040-de26",
       "next": "4a6485e0-a933-11e9-ba83-02420a010053-3-3155-e750-b3ca",
       "previous": "4a648432-a933-11e9-ba83-02420a010053-3-8d2c-e0f0-14b0"
      },
      {
       "current": "4a64850e-a933-11e9-ba83-02420a010053-3-e84e-2040-de26",
       "next": "4a6489dc-a933-11e9-ba83-02420a010053-3-3fb2-c7fd-5f3a",
       "previous": "4a648432-a933-11e9-ba83-02420a010053-3-8d2c-e0f0-14b0"
      },
      {
       "current": "4a64850e-a933-11e9-ba83-02420a010053-3-e84e-2040-de26",
       "next": "4a648d4c-a933-11e9-ba83-02420a010053-3-17c6-fbff-d8d6",
       "previous": "4a648432-a933-11e9-ba83-02420a010053-3-8d2c-e0f0-14b0"
      },
      {
       "current": "4a64850e-a933-11e9-ba83-02420a010053-3-e84e-2040-de26",
       "next": "4a64917a-a933-11e9-ba83-02420a010053-3-067e-11c1-99ef",
       "previous": "4a648432-a933-11e9-ba83-02420a010053-3-8d2c-e0f0-14b0"
      },
      {
       "current": "4a64850e-a933-11e9-ba83-02420a010053-3-e84e-2040-de26",
       "next": "4a64917a-a933-11e9-ba83-02420a010053-3-067e-11c1-99ef",
       "previous": "4a648360-a933-11e9-ba83-02420a010053-3-7797-8366-41ed"
      },
      {
       "current": "4a64850e-a933-11e9-ba83-02420a010053-3-e84e-2040-de26",
       "next": "4c751c2e-fab1-11eb-a3c9-0242ac110002",
       "previous": "4a648360-a933-11e9-ba83-02420a010053-3-7797-8366-41ed"
      },
      {
       "current": "4a64850e-a933-11e9-ba83-02420a010053-3-e84e-2040-de26",
       "next": "90e595e0-053e-11ec-a3c9-0242ac110002",
       "previous": "4a648360-a933-11e9-ba83-02420a010053-3-7797-8366-41ed"
      },
      {
       "current": "4a64850e-a933-11e9-ba83-02420a010053-4-e84e-2040-de26-8fd5",
       "next": "90e595e0-053e-11ec-a3c9-0242ac110002-1-bf7a",
       "previous": "4a648360-a933-11e9-ba83-02420a010053-3-7797-8366-41ed"
      },
      {
       "current": "4a64850e-a933-11e9-ba83-02420a010053-5-e84e-2040-de26-8fd5-64a4",
       "next": "90e595e0-053e-11ec-a3c9-0242ac110002-2-bf7a-8dbf",
       "previous": "4a648360-a933-11e9-ba83-02420a010053-4-7797-8366-41ed-d32d"
      },
      {
       "current": "4a64850e-a933-11e9-ba83-02420a010053-5-e84e-2040-de26-8fd5-64a4",
       "next": "90e595e0-053e-11ec-a3c9-0242ac110002-3-bf7a-8dbf-1a1c",
       "previous": "4a648360-a933-11e9-ba83-02420a010053-5-7797-8366-41ed-d32d-2270"
      },
      {
       "current": "d03e9778-0b3d-11ec-a5ab-02420a01001e",
       "next": "d03e984a-0b3d-11ec-a5ab-02420a01001e",
       "previous": "d03e9692-0b3d-11ec-a5ab-02420a01001e"
      },
      {
       "current": "97f96f58-0b3f-11ec-8ea2-02420a01001e",
       "next": "97f97020-0b3f-11ec-8ea2-02420a01001e",
       "previous": "97f96e7c-0b3f-11ec-8ea2-02420a01001e"
      },
      {
       "current": "8c2426d4-0b7e-11ec-8636-02420a01001e",
       "next": "8c2427ba-0b7e-11ec-8636-02420a01001e",
       "previous": "8c2425e4-0b7e-11ec-8636-02420a01001e"
      },
      {
       "current": "0378e94e-0b85-11ec-9aeb-02420a01001e-1-042e",
       "next": "0378ea2a-0b85-11ec-9aeb-02420a01001e",
       "previous": "0378e872-0b85-11ec-9aeb-02420a01001e"
      },
      {
       "current": "0378e94e-0b85-11ec-9aeb-02420a01001e-2-042e-019d",
       "next": "0378ea2a-0b85-11ec-9aeb-02420a01001e-1-0565",
       "previous": "0378e872-0b85-11ec-9aeb-02420a01001e-1-7ffc"
      },
      {
       "current": "0378e94e-0b85-11ec-9aeb-02420a01001e-3-042e-019d-717e",
       "next": "0378ea2a-0b85-11ec-9aeb-02420a01001e-2-0565-9dd0",
       "previous": "0378e872-0b85-11ec-9aeb-02420a01001e-2-7ffc-a951"
      },
      {
       "current": "0378e94e-0b85-11ec-9aeb-02420a01001e-4-042e-019d-717e-ae19",
       "next": "0378ea2a-0b85-11ec-9aeb-02420a01001e-3-0565-9dd0-5bf6",
       "previous": "0378e872-0b85-11ec-9aeb-02420a01001e-3-7ffc-a951-7a61"
      }
     ],
     "next": "0378ea2a-0b85-11ec-9aeb-02420a01001e-4-0565-9dd0-5bf6-8218",
     "previous": "0378e872-0b85-11ec-9aeb-02420a01001e-4-7ffc-a951-7a61-5c56"
    },
    "lc_wrapper": {
     "log_history": [
      "/home/useraafa1b/hands-on/vcp-tutorial/.log/20190719/20190719-164348-0385.log",
      "/notebooks/notebook/hands-on/vcp-tutorial/.log/20191003/20191003-162030-0580.log",
      "/notebooks/notebook/SAGA_home/hands-on/OpenHPC-v2-handson/.log/20210810/20210810-032252-0864.log",
      "/notebooks/notebook/SAGA_home/hands-on/OpenHPC-v2-handson/.log/20210810/20210810-221324-0626.log",
      "/notebooks/notebook/SAGA_home/hands-on/OpenHPC-v2-handson/.log/20210810/20210810-223818-0966.log",
      "/notebooks/notebook/SAGA_home/hands-on/OpenHPC-v2-handson/.log/20210810/20210810-224021-0777.log",
      "/notebooks/notebook/SAGA_home/hands-on/OpenHPC-v2-handson/.log/20210810/20210810-231723-0005.log",
      "/notebooks/notebook/SAGA_home/hands-on/OpenHPC-v2-handson/.log/20210810/20210810-233535-0816.log",
      "/notebooks/notebook/SAGA_home/hands-on/OpenHPC-v2-handson/.log/20210810/20210810-233831-0295.log",
      "/notebooks/notebook/SAGA_home/hands-on/OpenHPC-v2-handson/.log/20210811/20210811-003216-0835.log",
      "/notebooks/notebook/SAGA_home/hands-on/OpenHPC-v2-handson/.log/20210811/20210811-121108-0973.log",
      "/notebooks/notebook/SAGA_home/hands-on/OpenHPC-v2-handson/.log/20210811/20210811-150007-0234.log",
      "/notebooks/notebook/SAGA_home/hands-on/OpenHPC-v2-handson/.log/20210811/20210811-151908-0010.log",
      "/notebooks/notebook/SAGA_home/hands-on/OpenHPC-v2-handson/.log/20210811/20210811-155220-0694.log",
      "/notebooks/notebook/SAGA_home/hands-on/OpenHPC-v2-handson/.log/20210811/20210811-155912-0662.log",
      "/notebooks/notebook/SAGA_home/hands-on/OpenHPC-v2-handson/.log/20210811/20210811-160907-0734.log",
      "/notebooks/notebook/SAGA_home/hands-on/OpenHPC-v2-handson/.log/20210811/20210811-163522-0604.log",
      "/notebooks/notebook/SAGA_home/hands-on/OpenHPC-v2-handson/.log/20210811/20210811-164512-0298.log",
      "/notebooks/notebook/SAGA_home/hands-on/OpenHPC-v2-handson/.log/20210811/20210811-235723-0074.log",
      "/notebooks/notebook/SAGA_home/hands-on/OpenHPC-v2-handson/.log/20210811/20210811-235805-0234.log",
      "/notebooks/notebook/SAGA_home/hands-on/OpenHPC-v2-handson/.log/20210812/20210812-000938-0111.log",
      "/notebooks/notebook/SAGA_home/hands-on/OpenHPC-v2-handson/.log/20210812/20210812-000950-0596.log",
      "/notebooks/notebook/SAGA_home/hands-on/OpenHPC-v2-handson/.log/20210812/20210812-101505-0111.log",
      "/notebooks/notebook/SAGA_home/hands-on/OpenHPC-v2-handson/.log/20210812/20210812-105331-0687.log",
      "/notebooks/notebook/SAGA_home/hands-on/OpenHPC-v2-handson/.log/20210812/20210812-120330-0365.log",
      "/notebooks/notebook/SAGA_home/hands-on/OpenHPC-v2-handson/.log/20210812/20210812-160150-0611.log",
      "/notebooks/notebook/SAGA_home/hands-on/OpenHPC-v2-handson/.log/20210812/20210812-163612-0758.log",
      "/notebooks/notebook/SAGA_home/hands-on/OpenHPC-v2-handson/.log/20210812/20210812-165041-0718.log",
      "/notebooks/notebook/SAGA_home/hands-on/OpenHPC-v2-handson/.log/20210812/20210812-170836-0900.log",
      "/notebooks/notebook/SAGA_home/hands-on/OpenHPC-v2-handson/.log/20210812/20210812-172149-0283.log",
      "/notebooks/notebook/SAGA_home/hands-on/OpenHPC-v2-handson/.log/20210812/20210812-180655-0670.log",
      "/notebooks/notebook/SAGA_home/hands-on/OpenHPC-v2-handson/.log/20210812/20210812-182952-0144.log",
      "/notebooks/notebook/SAGA_home/hands-on/OpenHPC-v2-handson/.log/20210818/20210818-155827-0028.log",
      "/notebooks/notebook/SAGA_home/hands-on/OpenHPC-v2-handson/.log/20210819/20210819-161858-0021.log",
      "/notebooks/notebook/SAGA_home/hands-on/OpenHPC-v2-handson/.log/20210819/20210819-232000-0092.log",
      "/notebooks/notebook/SAGA_home/hands-on/OpenHPC-v2-handson/.log/20210823/20210823-153528-0255.log",
      "/notebooks/notebook/SAGA_home/hands-on/OpenHPC-v2-handson/.log/20210823/20210823-162028-0577.log",
      "/notebooks/notebook/SAGA_home/hands-on/OpenHPC-v2-handson/.log/20210823/20210823-180304-0700.log",
      "/notebooks/notebook/SAGA_home/hands-on/OpenHPC-v2-handson/.log/20210824/20210824-111447-0178.log",
      "/notebooks/notebook/SAGA_home/hands-on/OpenHPC-v2-handson/.log/20210824/20210824-160216-0659.log",
      "/notebooks/notebook/SAGA_home/hands-on/OpenHPC-v2-handson/.log/20210824/20210824-160238-0737.log",
      "/notebooks/notebook/SAGA_home/hands-on/OpenHPC-v2-handson/.log/20210825/20210825-111225-0578.log",
      "/notebooks/notebook/SAGA_home/hands-on/OpenHPC-v2-handson/.log/20210825/20210825-111302-0306.log",
      "/notebooks/notebook/SAGA_home/hands-on/OpenHPC-v2-handson/.log/20210825/20210825-134616-0359.log",
      "/notebooks/notebook/SAGA_home/hands-on/OpenHPC-v2-handson/.log/20210826/20210826-004754-0517.log",
      "/notebooks/notebook/SAGA_home/hands-on/OpenHPC-v2-handson/.log/20210827/20210827-150058-0020.log",
      "/notebooks/notebook/SAGA_home/hands-on/OpenHPC-v2-handson/.log/20210828/20210828-010625-0811.log",
      "/notebooks/notebook/SAGA_home/hands-on/OpenHPC-v2-handson/.log/20210829/20210829-014025-0687.log",
      "/notebooks/notebook/SAGA_home/hands-on/OpenHPC-v2-handson/.log/20210829/20210829-014108-0410.log",
      "/notebooks/notebook/SAGA_home/hands-on/OpenHPC-v2-handson/.log/20210829/20210829-020524-0607.log",
      "/notebooks/notebook/SAGA_home/hands-on/OpenHPC-v2-handson/.log/20210829/20210829-105633-0858.log",
      "/notebooks/notebook/SAGA_home/hands-on/OpenHPC-v2-handson/.log/20210829/20210829-105805-0878.log",
      "/notebooks/notebook/SAGA_home/hands-on/OpenHPC-v2-handson/.log/20210829/20210829-141857-0036.log",
      "/notebooks/notebook/SAGA_home/hands-on/MNIST_handson/.log/20210829/20210829-233409-0457.log",
      "/notebooks/notebook/SAGA_home/hands-on/MNIST_handson/.log/20210830/20210830-002108-0724.log",
      "/notebooks/notebook/SAGA_home/hands-on/MNIST_handson/.log/20210830/20210830-002318-0439.log",
      "/notebooks/notebook/SAGA_home/hands-on/MNIST_handson/.log/20210830/20210830-135718-0185.log",
      "/notebooks/notebook/SAGA_home/hands-on/MNIST_handson/.log/20210830/20210830-135822-0563.log",
      "/notebooks/notebook/SAGA_home/hands-on/MNIST_handson/.log/20210830/20210830-154340-0567.log",
      "/home/user513xb92482/hands-on/vcp-tutorial/.log/20210901/20210901-140427-0203.log",
      "/home/user513xb92482/hands-on/vcp-tutorial/.log/20210902/20210902-213046-0593.log",
      "/home/user513xb92482/hands-on/vcp-tutorial/.log/20210903/20210903-103451-0186.log",
      "/home/user513xb92482/hands-on/vcp-tutorial/.log/20210903/20210903-114033-0118.log",
      "/home/user513xb92482/hands-on/vcp-tutorial/.log/20210903/20210903-160146-0055.log",
      "/notebooks/notebook/SAGA_home/hands-on/hands-on.513/vcp-tutorial/.log/20210910/20210910-105556-0476.log",
      "/notebooks/notebook/SAGA_home/hands-on/hands-on.513/vcp-tutorial/OpenHPC-MNIST/.log/20210910/20210910-165033-0435.log",
      "/notebooks/notebook/SAGA_home/210903.handson_cloudweek_2021/Deriver/2109.Recog_with_OpenHPC_template/2.Recognition_system/.log/20210914/20210914-144415-0338.log"
     ]
    }
   },
   "outputs": [],
   "source": [
    "# unit_group.find_ip_addresses() は UnitGroup内の全VCノードのIPアドレスのリストを返します\n",
    "ip_address = unit_group.find_ip_addresses(node_state='RUNNING')[0] # 今は１つのVCノードのみ起動しているので [0] で最初の要素を取り出す\n",
    "print(ip_address)\n",
    "\n",
    "# ssh 設定\n",
    "!touch ~/.ssh/known_hosts\n",
    "!ssh-keygen -R {ip_address}    # ~/.ssh/known_hosts から古いホストキーを削除する\n",
    "!ssh-keyscan -H {ip_address} >> ~/.ssh/known_hosts    # ホストキーの登録\n",
    "\n",
    "# システムの確認\n",
    "!ssh {ssh_opts} {ip_address} uname -a"
   ]
  },
  {
   "cell_type": "markdown",
   "metadata": {
    "heading_collapsed": true,
    "lc_cell_meme": {
     "current": "0378ea2a-0b85-11ec-9aeb-02420a01001e-4-0565-9dd0-5bf6-8218",
     "history": [
      {
       "current": "90e595e0-053e-11ec-a3c9-0242ac110002-2-bf7a-8dbf",
       "next": "4c751c2e-fab1-11eb-a3c9-0242ac110002",
       "previous": "4a64850e-a933-11e9-ba83-02420a010053-3-e84e-2040-de26"
      },
      {
       "current": "90e595e0-053e-11ec-a3c9-0242ac110002-3-bf7a-8dbf-1a1c",
       "next": "4c751c2e-fab1-11eb-a3c9-0242ac110002-1-6cf6",
       "previous": "4a64850e-a933-11e9-ba83-02420a010053-4-e84e-2040-de26-8fd5"
      },
      {
       "current": "90e595e0-053e-11ec-a3c9-0242ac110002-3-bf7a-8dbf-1a1c",
       "next": "4c751c2e-fab1-11eb-a3c9-0242ac110002-2-6cf6-4557",
       "previous": "4a64850e-a933-11e9-ba83-02420a010053-5-e84e-2040-de26-8fd5-64a4"
      },
      {
       "current": "d03e984a-0b3d-11ec-a5ab-02420a01001e",
       "next": "d03e9930-0b3d-11ec-a5ab-02420a01001e",
       "previous": "d03e9778-0b3d-11ec-a5ab-02420a01001e"
      },
      {
       "current": "97f97020-0b3f-11ec-8ea2-02420a01001e",
       "next": "97f970e8-0b3f-11ec-8ea2-02420a01001e",
       "previous": "97f96f58-0b3f-11ec-8ea2-02420a01001e"
      },
      {
       "current": "8c2427ba-0b7e-11ec-8636-02420a01001e",
       "next": "8c2428a0-0b7e-11ec-8636-02420a01001e",
       "previous": "8c2426d4-0b7e-11ec-8636-02420a01001e"
      },
      {
       "current": "0378ea2a-0b85-11ec-9aeb-02420a01001e-1-0565",
       "next": "0378eafc-0b85-11ec-9aeb-02420a01001e",
       "previous": "0378e94e-0b85-11ec-9aeb-02420a01001e"
      },
      {
       "current": "0378ea2a-0b85-11ec-9aeb-02420a01001e-2-0565-9dd0",
       "next": "0378eafc-0b85-11ec-9aeb-02420a01001e-1-7eed",
       "previous": "0378e94e-0b85-11ec-9aeb-02420a01001e-1-042e"
      },
      {
       "current": "0378ea2a-0b85-11ec-9aeb-02420a01001e-3-0565-9dd0-5bf6",
       "next": "0378eafc-0b85-11ec-9aeb-02420a01001e-2-7eed-7b8d",
       "previous": "0378e94e-0b85-11ec-9aeb-02420a01001e-2-042e-019d"
      },
      {
       "current": "0378ea2a-0b85-11ec-9aeb-02420a01001e-4-0565-9dd0-5bf6-8218",
       "next": "0378eafc-0b85-11ec-9aeb-02420a01001e-3-7eed-7b8d-cca4",
       "previous": "0378e94e-0b85-11ec-9aeb-02420a01001e-3-042e-019d-717e"
      }
     ],
     "next": "0378eafc-0b85-11ec-9aeb-02420a01001e-4-7eed-7b8d-cca4-32d3",
     "previous": "0378e94e-0b85-11ec-9aeb-02420a01001e-4-042e-019d-717e-ae19"
    }
   },
   "source": [
    "## TensorFlow環境の構築\n",
    "VCノード上に、TensorFlowのインストールページ(https://www.tensorflow.org/install) で紹介されているコンテナイメージを使用して環境を構築します。"
   ]
  },
  {
   "cell_type": "markdown",
   "metadata": {
    "hidden": true,
    "lc_cell_meme": {
     "current": "0378eafc-0b85-11ec-9aeb-02420a01001e-4-7eed-7b8d-cca4-32d3",
     "history": [
      {
       "current": "4c751c2e-fab1-11eb-a3c9-0242ac110002",
       "next": "4a649328-a933-11e9-ba83-02420a010053-3-8047-b02c-fee7",
       "previous": "4a64917a-a933-11e9-ba83-02420a010053-3-067e-11c1-99ef"
      },
      {
       "current": "4c751c2e-fab1-11eb-a3c9-0242ac110002",
       "next": "db8ec77a-fab1-11eb-a3c9-0242ac110002",
       "previous": "4a64917a-a933-11e9-ba83-02420a010053-3-067e-11c1-99ef"
      },
      {
       "current": "4c751c2e-fab1-11eb-a3c9-0242ac110002",
       "next": "db8ec77a-fab1-11eb-a3c9-0242ac110002",
       "previous": "4a64850e-a933-11e9-ba83-02420a010053-3-e84e-2040-de26"
      },
      {
       "current": "4c751c2e-fab1-11eb-a3c9-0242ac110002",
       "next": "db8ec77a-fab1-11eb-a3c9-0242ac110002",
       "previous": "90e595e0-053e-11ec-a3c9-0242ac110002"
      },
      {
       "current": "4c751c2e-fab1-11eb-a3c9-0242ac110002-1-6cf6",
       "next": "db8ec77a-fab1-11eb-a3c9-0242ac110002",
       "previous": "90e595e0-053e-11ec-a3c9-0242ac110002-1-bf7a"
      },
      {
       "current": "4c751c2e-fab1-11eb-a3c9-0242ac110002-2-6cf6-4557",
       "next": "db8ec77a-fab1-11eb-a3c9-0242ac110002-1-99ef",
       "previous": "90e595e0-053e-11ec-a3c9-0242ac110002-2-bf7a-8dbf"
      },
      {
       "current": "4c751c2e-fab1-11eb-a3c9-0242ac110002-2-6cf6-4557",
       "next": "db8ec77a-fab1-11eb-a3c9-0242ac110002-2-99ef-73f5",
       "previous": "90e595e0-053e-11ec-a3c9-0242ac110002-3-bf7a-8dbf-1a1c"
      },
      {
       "current": "d03e9930-0b3d-11ec-a5ab-02420a01001e",
       "next": "d03e99f8-0b3d-11ec-a5ab-02420a01001e",
       "previous": "d03e984a-0b3d-11ec-a5ab-02420a01001e"
      },
      {
       "current": "97f970e8-0b3f-11ec-8ea2-02420a01001e",
       "next": "97f971b0-0b3f-11ec-8ea2-02420a01001e",
       "previous": "97f97020-0b3f-11ec-8ea2-02420a01001e"
      },
      {
       "current": "8c2428a0-0b7e-11ec-8636-02420a01001e",
       "next": "8c242968-0b7e-11ec-8636-02420a01001e",
       "previous": "8c2427ba-0b7e-11ec-8636-02420a01001e"
      },
      {
       "current": "0378eafc-0b85-11ec-9aeb-02420a01001e-1-7eed",
       "next": "0378ebd8-0b85-11ec-9aeb-02420a01001e",
       "previous": "0378ea2a-0b85-11ec-9aeb-02420a01001e"
      },
      {
       "current": "0378eafc-0b85-11ec-9aeb-02420a01001e-2-7eed-7b8d",
       "next": "0378ebd8-0b85-11ec-9aeb-02420a01001e-1-f47b",
       "previous": "0378ea2a-0b85-11ec-9aeb-02420a01001e-1-0565"
      },
      {
       "current": "0378eafc-0b85-11ec-9aeb-02420a01001e-3-7eed-7b8d-cca4",
       "next": "0378ebd8-0b85-11ec-9aeb-02420a01001e-2-f47b-8a3e",
       "previous": "0378ea2a-0b85-11ec-9aeb-02420a01001e-2-0565-9dd0"
      },
      {
       "current": "0378eafc-0b85-11ec-9aeb-02420a01001e-4-7eed-7b8d-cca4-32d3",
       "next": "0378ebd8-0b85-11ec-9aeb-02420a01001e-3-f47b-8a3e-4fae",
       "previous": "0378ea2a-0b85-11ec-9aeb-02420a01001e-3-0565-9dd0-5bf6"
      }
     ],
     "next": "0378ebd8-0b85-11ec-9aeb-02420a01001e-4-f47b-8a3e-4fae-0416",
     "previous": "0378ea2a-0b85-11ec-9aeb-02420a01001e-4-0565-9dd0-5bf6-8218"
    }
   },
   "source": [
    "### ユーザー登録\n",
    "作成した Unit に TensorFlow コンテナを実行するユーザーを登録します。便宜上このテンプレートでは、TensorFlow 環境のユーザーのsshの鍵として、この JupyterNotebook 環境の鍵を使用します。"
   ]
  },
  {
   "cell_type": "code",
   "execution_count": null,
   "metadata": {
    "hidden": true,
    "lc_cell_meme": {
     "current": "0378ebd8-0b85-11ec-9aeb-02420a01001e-4-f47b-8a3e-4fae-0416",
     "history": [
      {
       "current": "db8ec77a-fab1-11eb-a3c9-0242ac110002",
       "next": "4a649328-a933-11e9-ba83-02420a010053-3-8047-b02c-fee7",
       "previous": "4c751c2e-fab1-11eb-a3c9-0242ac110002"
      },
      {
       "current": "db8ec77a-fab1-11eb-a3c9-0242ac110002",
       "next": "ac61761e-fab6-11eb-a3c9-0242ac110002",
       "previous": "4c751c2e-fab1-11eb-a3c9-0242ac110002"
      },
      {
       "current": "db8ec77a-fab1-11eb-a3c9-0242ac110002-1-99ef",
       "next": "4a649328-a933-11e9-ba83-02420a010053-3-8047-b02c-fee7",
       "previous": "4c751c2e-fab1-11eb-a3c9-0242ac110002"
      },
      {
       "current": "db8ec77a-fab1-11eb-a3c9-0242ac110002-2-99ef-73f5",
       "next": "4a649328-a933-11e9-ba83-02420a010053-4-8047-b02c-fee7-0b9d",
       "previous": "4c751c2e-fab1-11eb-a3c9-0242ac110002-1-6cf6"
      },
      {
       "current": "db8ec77a-fab1-11eb-a3c9-0242ac110002-2-99ef-73f5",
       "next": "4a649328-a933-11e9-ba83-02420a010053-5-8047-b02c-fee7-0b9d-bb0c",
       "previous": "4c751c2e-fab1-11eb-a3c9-0242ac110002-2-6cf6-4557"
      },
      {
       "current": "d03e99f8-0b3d-11ec-a5ab-02420a01001e",
       "next": "d03e9ade-0b3d-11ec-a5ab-02420a01001e",
       "previous": "d03e9930-0b3d-11ec-a5ab-02420a01001e"
      },
      {
       "current": "97f971b0-0b3f-11ec-8ea2-02420a01001e",
       "next": "97f9726e-0b3f-11ec-8ea2-02420a01001e",
       "previous": "97f970e8-0b3f-11ec-8ea2-02420a01001e"
      },
      {
       "current": "8c242968-0b7e-11ec-8636-02420a01001e",
       "next": "8c242a44-0b7e-11ec-8636-02420a01001e",
       "previous": "8c2428a0-0b7e-11ec-8636-02420a01001e"
      },
      {
       "current": "0378ebd8-0b85-11ec-9aeb-02420a01001e-1-f47b",
       "next": "0378ecbe-0b85-11ec-9aeb-02420a01001e",
       "previous": "0378eafc-0b85-11ec-9aeb-02420a01001e"
      },
      {
       "current": "0378ebd8-0b85-11ec-9aeb-02420a01001e-2-f47b-8a3e",
       "next": "0378ecbe-0b85-11ec-9aeb-02420a01001e-1-d77b",
       "previous": "0378eafc-0b85-11ec-9aeb-02420a01001e-1-7eed"
      },
      {
       "current": "0378ebd8-0b85-11ec-9aeb-02420a01001e-3-f47b-8a3e-4fae",
       "next": "0378ecbe-0b85-11ec-9aeb-02420a01001e-2-d77b-7f16",
       "previous": "0378eafc-0b85-11ec-9aeb-02420a01001e-2-7eed-7b8d"
      },
      {
       "current": "0378ebd8-0b85-11ec-9aeb-02420a01001e-4-f47b-8a3e-4fae-0416",
       "next": "0378ecbe-0b85-11ec-9aeb-02420a01001e-3-d77b-7f16-d5e7",
       "previous": "0378eafc-0b85-11ec-9aeb-02420a01001e-3-7eed-7b8d-cca4"
      }
     ],
     "next": "0378ecbe-0b85-11ec-9aeb-02420a01001e-4-d77b-7f16-d5e7-8f77",
     "previous": "0378eafc-0b85-11ec-9aeb-02420a01001e-4-7eed-7b8d-cca4-32d3"
    },
    "lc_wrapper": {
     "log_history": [
      "/notebooks/notebook/SAGA_home/hands-on/OpenHPC-v2-handson/.log/20210811/20210811-235832-0818.log",
      "/notebooks/notebook/SAGA_home/hands-on/OpenHPC-v2-handson/.log/20210812/20210812-001008-0714.log",
      "/notebooks/notebook/SAGA_home/hands-on/OpenHPC-v2-handson/.log/20210812/20210812-001158-0986.log",
      "/notebooks/notebook/SAGA_home/hands-on/OpenHPC-v2-handson/.log/20210812/20210812-001420-0048.log",
      "/notebooks/notebook/SAGA_home/hands-on/OpenHPC-v2-handson/.log/20210812/20210812-001550-0399.log",
      "/notebooks/notebook/SAGA_home/hands-on/OpenHPC-v2-handson/.log/20210812/20210812-001811-0337.log",
      "/notebooks/notebook/SAGA_home/hands-on/OpenHPC-v2-handson/.log/20210812/20210812-001936-0579.log",
      "/notebooks/notebook/SAGA_home/hands-on/OpenHPC-v2-handson/.log/20210812/20210812-002234-0609.log",
      "/notebooks/notebook/SAGA_home/hands-on/OpenHPC-v2-handson/.log/20210812/20210812-002547-0639.log",
      "/notebooks/notebook/SAGA_home/hands-on/OpenHPC-v2-handson/.log/20210812/20210812-002726-0490.log",
      "/notebooks/notebook/SAGA_home/hands-on/OpenHPC-v2-handson/.log/20210812/20210812-002848-0756.log",
      "/notebooks/notebook/SAGA_home/hands-on/OpenHPC-v2-handson/.log/20210812/20210812-002950-0742.log",
      "/notebooks/notebook/SAGA_home/hands-on/OpenHPC-v2-handson/.log/20210812/20210812-003043-0251.log",
      "/notebooks/notebook/SAGA_home/hands-on/OpenHPC-v2-handson/.log/20210812/20210812-003135-0685.log",
      "/notebooks/notebook/SAGA_home/hands-on/OpenHPC-v2-handson/.log/20210812/20210812-003238-0581.log",
      "/notebooks/notebook/SAGA_home/hands-on/OpenHPC-v2-handson/.log/20210812/20210812-003835-0135.log",
      "/notebooks/notebook/SAGA_home/hands-on/OpenHPC-v2-handson/.log/20210812/20210812-004020-0723.log",
      "/notebooks/notebook/SAGA_home/hands-on/OpenHPC-v2-handson/.log/20210812/20210812-004618-0466.log",
      "/notebooks/notebook/SAGA_home/hands-on/OpenHPC-v2-handson/.log/20210812/20210812-004645-0027.log",
      "/notebooks/notebook/SAGA_home/hands-on/OpenHPC-v2-handson/.log/20210812/20210812-094708-0789.log",
      "/notebooks/notebook/SAGA_home/hands-on/OpenHPC-v2-handson/.log/20210812/20210812-094748-0429.log",
      "/notebooks/notebook/SAGA_home/hands-on/OpenHPC-v2-handson/.log/20210812/20210812-094814-0841.log",
      "/notebooks/notebook/SAGA_home/hands-on/OpenHPC-v2-handson/.log/20210812/20210812-094918-0070.log",
      "/notebooks/notebook/SAGA_home/hands-on/OpenHPC-v2-handson/.log/20210812/20210812-094925-0605.log",
      "/notebooks/notebook/SAGA_home/hands-on/OpenHPC-v2-handson/.log/20210812/20210812-100514-0333.log",
      "/notebooks/notebook/SAGA_home/hands-on/OpenHPC-v2-handson/.log/20210812/20210812-100831-0818.log",
      "/notebooks/notebook/SAGA_home/hands-on/OpenHPC-v2-handson/.log/20210812/20210812-101625-0657.log",
      "/notebooks/notebook/SAGA_home/hands-on/OpenHPC-v2-handson/.log/20210812/20210812-105400-0313.log",
      "/notebooks/notebook/SAGA_home/hands-on/OpenHPC-v2-handson/.log/20210812/20210812-120332-0481.log",
      "/notebooks/notebook/SAGA_home/hands-on/OpenHPC-v2-handson/.log/20210812/20210812-160152-0737.log",
      "/notebooks/notebook/SAGA_home/hands-on/OpenHPC-v2-handson/.log/20210812/20210812-163622-0446.log",
      "/notebooks/notebook/SAGA_home/hands-on/OpenHPC-v2-handson/.log/20210812/20210812-165043-0829.log",
      "/notebooks/notebook/SAGA_home/hands-on/OpenHPC-v2-handson/.log/20210812/20210812-170839-0037.log",
      "/notebooks/notebook/SAGA_home/hands-on/OpenHPC-v2-handson/.log/20210812/20210812-172151-0429.log",
      "/notebooks/notebook/SAGA_home/hands-on/OpenHPC-v2-handson/.log/20210812/20210812-180657-0793.log",
      "/notebooks/notebook/SAGA_home/hands-on/OpenHPC-v2-handson/.log/20210812/20210812-182954-0253.log",
      "/notebooks/notebook/SAGA_home/hands-on/OpenHPC-v2-handson/.log/20210818/20210818-155829-0149.log",
      "/notebooks/notebook/SAGA_home/hands-on/OpenHPC-v2-handson/.log/20210819/20210819-161920-0223.log",
      "/notebooks/notebook/SAGA_home/hands-on/OpenHPC-v2-handson/.log/20210819/20210819-232002-0243.log",
      "/notebooks/notebook/SAGA_home/hands-on/OpenHPC-v2-handson/.log/20210823/20210823-153530-0392.log",
      "/notebooks/notebook/SAGA_home/hands-on/OpenHPC-v2-handson/.log/20210823/20210823-162030-0726.log",
      "/notebooks/notebook/SAGA_home/hands-on/OpenHPC-v2-handson/.log/20210823/20210823-180306-0824.log",
      "/notebooks/notebook/SAGA_home/hands-on/OpenHPC-v2-handson/.log/20210824/20210824-111449-0350.log",
      "/notebooks/notebook/SAGA_home/hands-on/OpenHPC-v2-handson/.log/20210824/20210824-160245-0458.log",
      "/notebooks/notebook/SAGA_home/hands-on/OpenHPC-v2-handson/.log/20210825/20210825-111333-0325.log",
      "/notebooks/notebook/SAGA_home/hands-on/OpenHPC-v2-handson/.log/20210825/20210825-134628-0001.log",
      "/notebooks/notebook/SAGA_home/hands-on/OpenHPC-v2-handson/.log/20210826/20210826-004807-0841.log",
      "/notebooks/notebook/SAGA_home/hands-on/OpenHPC-v2-handson/.log/20210827/20210827-150134-0183.log",
      "/notebooks/notebook/SAGA_home/hands-on/OpenHPC-v2-handson/.log/20210828/20210828-010634-0709.log",
      "/notebooks/notebook/SAGA_home/hands-on/OpenHPC-v2-handson/.log/20210829/20210829-014115-0543.log",
      "/notebooks/notebook/SAGA_home/hands-on/OpenHPC-v2-handson/.log/20210829/20210829-020739-0801.log",
      "/notebooks/notebook/SAGA_home/hands-on/OpenHPC-v2-handson/.log/20210829/20210829-105908-0233.log",
      "/notebooks/notebook/SAGA_home/hands-on/OpenHPC-v2-handson/.log/20210829/20210829-141907-0476.log",
      "/notebooks/notebook/SAGA_home/hands-on/MNIST_handson/.log/20210829/20210829-233453-0543.log",
      "/notebooks/notebook/SAGA_home/hands-on/MNIST_handson/.log/20210830/20210830-002329-0121.log",
      "/notebooks/notebook/SAGA_home/hands-on/MNIST_handson/.log/20210830/20210830-135834-0289.log",
      "/notebooks/notebook/SAGA_home/hands-on/MNIST_handson/.log/20210830/20210830-154443-0851.log",
      "/home/user513xb92482/hands-on/vcp-tutorial/.log/20210901/20210901-140444-0969.log",
      "/home/user513xb92482/hands-on/vcp-tutorial/.log/20210902/20210902-213111-0097.log",
      "/home/user513xb92482/hands-on/vcp-tutorial/.log/20210903/20210903-103502-0047.log",
      "/home/user513xb92482/hands-on/vcp-tutorial/.log/20210903/20210903-114046-0416.log",
      "/home/user513xb92482/hands-on/vcp-tutorial/.log/20210903/20210903-160232-0109.log",
      "/notebooks/notebook/SAGA_home/hands-on/hands-on.513/vcp-tutorial/.log/20210910/20210910-105604-0881.log",
      "/notebooks/notebook/SAGA_home/hands-on/hands-on.513/vcp-tutorial/OpenHPC-MNIST/.log/20210910/20210910-165125-0982.log",
      "/notebooks/notebook/SAGA_home/210903.handson_cloudweek_2021/Deriver/2109.Recog_with_OpenHPC_template/2.Recognition_system/.log/20210914/20210914-144424-0456.log"
     ]
    },
    "scrolled": true
   },
   "outputs": [],
   "source": [
    "# ユーザー追加\n",
    "!ssh {ssh_opts} {ip_address} 'adduser --disabled-login --gecos \"\" {user}'\n",
    "!ssh {ssh_opts} {ip_address} usermod -aG 'docker' {user}\n",
    "\n",
    "# ssh 公開鍵設定\n",
    "!ssh {ssh_opts} {ip_address} mkdir -m 700 /home/{user}/.ssh\n",
    "!scp -i {ssh_private_key} {ssh_public_key} root@{ip_address}:/home/{user}/.ssh/authorized_keys\n",
    "!ssh {ssh_opts} {ip_address} chmod 600 /home/{user}/.ssh/authorized_keys\n",
    "!ssh {ssh_opts} {ip_address} chown -R {user}:{user} /home/{user}/.ssh/\n",
    "\n",
    "# ssh 疎通確認\n",
    "ssh_opts_user = f\"-i {ssh_private_key}\"\n",
    "target = f\"{user}@{ip_address}\"\n",
    "!ssh {ssh_opts_user} {target} id"
   ]
  },
  {
   "cell_type": "markdown",
   "metadata": {
    "hidden": true,
    "lc_cell_meme": {
     "current": "0378ecbe-0b85-11ec-9aeb-02420a01001e-4-d77b-7f16-d5e7-8f77",
     "history": [
      {
       "current": "4a649328-a933-11e9-ba83-02420a010053-1-8047",
       "next": "4a6493fa-a933-11e9-ba83-02420a010053",
       "previous": "4a64924c-a933-11e9-ba83-02420a010053"
      },
      {
       "current": "4a649328-a933-11e9-ba83-02420a010053-2-8047-b02c",
       "next": "4a6493fa-a933-11e9-ba83-02420a010053-1-9009",
       "previous": "4a64924c-a933-11e9-ba83-02420a010053-1-0a5c"
      },
      {
       "current": "4a649328-a933-11e9-ba83-02420a010053-3-8047-b02c-fee7",
       "next": "4a6493fa-a933-11e9-ba83-02420a010053-2-9009-94c3",
       "previous": "4a64924c-a933-11e9-ba83-02420a010053-2-0a5c-f56e"
      },
      {
       "current": "4a649328-a933-11e9-ba83-02420a010053-3-8047-b02c-fee7",
       "next": "4a6493fa-a933-11e9-ba83-02420a010053-3-9009-94c3-a7ef",
       "previous": "4a64924c-a933-11e9-ba83-02420a010053-3-0a5c-f56e-885e"
      },
      {
       "current": "4a649328-a933-11e9-ba83-02420a010053-3-8047-b02c-fee7",
       "next": "4a6493fa-a933-11e9-ba83-02420a010053-3-9009-94c3-a7ef",
       "previous": "4a64917a-a933-11e9-ba83-02420a010053-3-067e-11c1-99ef"
      },
      {
       "current": "4a649328-a933-11e9-ba83-02420a010053-3-8047-b02c-fee7",
       "next": "4a64eec2-a933-11e9-ba83-02420a010053-3-221d-c4fd-a8ce",
       "previous": "4a64917a-a933-11e9-ba83-02420a010053-3-067e-11c1-99ef"
      },
      {
       "current": "4a649328-a933-11e9-ba83-02420a010053-3-8047-b02c-fee7",
       "next": "911bdf48-f9e4-11eb-a3c9-0242ac110002",
       "previous": "4a64917a-a933-11e9-ba83-02420a010053-3-067e-11c1-99ef"
      },
      {
       "current": "4a649328-a933-11e9-ba83-02420a010053-3-8047-b02c-fee7",
       "next": "d89a3c70-f9e4-11eb-a3c9-0242ac110002",
       "previous": "4a64917a-a933-11e9-ba83-02420a010053-3-067e-11c1-99ef"
      },
      {
       "current": "4a649328-a933-11e9-ba83-02420a010053-3-8047-b02c-fee7",
       "next": "d89a3c70-f9e4-11eb-a3c9-0242ac110002",
       "previous": "4c751c2e-fab1-11eb-a3c9-0242ac110002"
      },
      {
       "current": "4a649328-a933-11e9-ba83-02420a010053-3-8047-b02c-fee7",
       "next": "d89a3c70-f9e4-11eb-a3c9-0242ac110002",
       "previous": "db8ec77a-fab1-11eb-a3c9-0242ac110002"
      },
      {
       "current": "4a649328-a933-11e9-ba83-02420a010053-3-8047-b02c-fee7",
       "next": "d89a3c70-f9e4-11eb-a3c9-0242ac110002",
       "previous": "ac61761e-fab6-11eb-a3c9-0242ac110002"
      },
      {
       "current": "4a649328-a933-11e9-ba83-02420a010053-3-8047-b02c-fee7",
       "next": "d89a3c70-f9e4-11eb-a3c9-0242ac110002",
       "previous": "4e465410-faba-11eb-a3c9-0242ac110002"
      },
      {
       "current": "4a649328-a933-11e9-ba83-02420a010053-3-8047-b02c-fee7",
       "next": "d89a3c70-f9e4-11eb-a3c9-0242ac110002",
       "previous": "ac61761e-fab6-11eb-a3c9-0242ac110002"
      },
      {
       "current": "4a649328-a933-11e9-ba83-02420a010053-3-8047-b02c-fee7",
       "next": "d89a3c70-f9e4-11eb-a3c9-0242ac110002",
       "previous": "dd4c7504-faba-11eb-a3c9-0242ac110002"
      },
      {
       "current": "4a649328-a933-11e9-ba83-02420a010053-3-8047-b02c-fee7",
       "next": "d89a3c70-f9e4-11eb-a3c9-0242ac110002",
       "previous": "db8ec77a-fab1-11eb-a3c9-0242ac110002"
      },
      {
       "current": "4a649328-a933-11e9-ba83-02420a010053-4-8047-b02c-fee7-0b9d",
       "next": "1f7a4600-fb05-11eb-a3c9-0242ac110002",
       "previous": "db8ec77a-fab1-11eb-a3c9-0242ac110002"
      },
      {
       "current": "4a649328-a933-11e9-ba83-02420a010053-5-8047-b02c-fee7-0b9d-bb0c",
       "next": "1f7a4600-fb05-11eb-a3c9-0242ac110002-1-6d3c",
       "previous": "db8ec77a-fab1-11eb-a3c9-0242ac110002-1-99ef"
      },
      {
       "current": "4a649328-a933-11e9-ba83-02420a010053-5-8047-b02c-fee7-0b9d-bb0c",
       "next": "1f7a4600-fb05-11eb-a3c9-0242ac110002-2-6d3c-0b34",
       "previous": "db8ec77a-fab1-11eb-a3c9-0242ac110002-2-99ef-73f5"
      },
      {
       "current": "d03e9ade-0b3d-11ec-a5ab-02420a01001e",
       "next": "d03e9bb0-0b3d-11ec-a5ab-02420a01001e",
       "previous": "d03e99f8-0b3d-11ec-a5ab-02420a01001e"
      },
      {
       "current": "97f9726e-0b3f-11ec-8ea2-02420a01001e",
       "next": "97f97336-0b3f-11ec-8ea2-02420a01001e",
       "previous": "97f971b0-0b3f-11ec-8ea2-02420a01001e"
      },
      {
       "current": "8c242a44-0b7e-11ec-8636-02420a01001e",
       "next": "8c242b2a-0b7e-11ec-8636-02420a01001e",
       "previous": "8c242968-0b7e-11ec-8636-02420a01001e"
      },
      {
       "current": "0378ecbe-0b85-11ec-9aeb-02420a01001e-1-d77b",
       "next": "0378ed9a-0b85-11ec-9aeb-02420a01001e",
       "previous": "0378ebd8-0b85-11ec-9aeb-02420a01001e"
      },
      {
       "current": "0378ecbe-0b85-11ec-9aeb-02420a01001e-2-d77b-7f16",
       "next": "0378ed9a-0b85-11ec-9aeb-02420a01001e-1-9c3c",
       "previous": "0378ebd8-0b85-11ec-9aeb-02420a01001e-1-f47b"
      },
      {
       "current": "0378ecbe-0b85-11ec-9aeb-02420a01001e-3-d77b-7f16-d5e7",
       "next": "0378ed9a-0b85-11ec-9aeb-02420a01001e-2-9c3c-c7a2",
       "previous": "0378ebd8-0b85-11ec-9aeb-02420a01001e-2-f47b-8a3e"
      },
      {
       "current": "0378ecbe-0b85-11ec-9aeb-02420a01001e-4-d77b-7f16-d5e7-8f77",
       "next": "0378ed9a-0b85-11ec-9aeb-02420a01001e-3-9c3c-c7a2-f5c1",
       "previous": "0378ebd8-0b85-11ec-9aeb-02420a01001e-3-f47b-8a3e-4fae"
      }
     ],
     "next": "0378ed9a-0b85-11ec-9aeb-02420a01001e-4-9c3c-c7a2-f5c1-a865",
     "previous": "0378ebd8-0b85-11ec-9aeb-02420a01001e-4-f47b-8a3e-4fae-0416"
    }
   },
   "source": [
    "### TensorFlow コンテナイメージの作成と実行\n",
    "ユーザーを追加した TensorFlow コンテナイメージを作成し実行します。"
   ]
  },
  {
   "cell_type": "code",
   "execution_count": null,
   "metadata": {
    "hidden": true,
    "lc_cell_meme": {
     "current": "0378ed9a-0b85-11ec-9aeb-02420a01001e-4-9c3c-c7a2-f5c1-a865",
     "history": [
      {
       "current": "1f7a4600-fb05-11eb-a3c9-0242ac110002",
       "next": "e08ed526-fa52-11eb-a3c9-0242ac110002",
       "previous": "09fd7698-fa52-11eb-a3c9-0242ac110002"
      },
      {
       "current": "1f7a4600-fb05-11eb-a3c9-0242ac110002",
       "next": "e08ed526-fa52-11eb-a3c9-0242ac110002",
       "previous": "09fd7698-fa52-11eb-a3c9-0242ac110002-1-c225"
      },
      {
       "current": "1f7a4600-fb05-11eb-a3c9-0242ac110002",
       "next": "91a37c7c-fb11-11eb-a3c9-0242ac110002",
       "previous": "d89a3c70-f9e4-11eb-a3c9-0242ac110002"
      },
      {
       "current": "1f7a4600-fb05-11eb-a3c9-0242ac110002",
       "next": "91a37c7c-fb11-11eb-a3c9-0242ac110002",
       "previous": "4a649328-a933-11e9-ba83-02420a010053-3-8047-b02c-fee7"
      },
      {
       "current": "1f7a4600-fb05-11eb-a3c9-0242ac110002-1-6d3c",
       "next": "46486ba0-fb18-11eb-a3c9-0242ac110002",
       "previous": "4a649328-a933-11e9-ba83-02420a010053-3-8047-b02c-fee7"
      },
      {
       "current": "1f7a4600-fb05-11eb-a3c9-0242ac110002-2-6d3c-0b34",
       "next": "46486ba0-fb18-11eb-a3c9-0242ac110002-1-37d1",
       "previous": "4a649328-a933-11e9-ba83-02420a010053-4-8047-b02c-fee7-0b9d"
      },
      {
       "current": "1f7a4600-fb05-11eb-a3c9-0242ac110002-2-6d3c-0b34",
       "next": "46486ba0-fb18-11eb-a3c9-0242ac110002-2-37d1-faf8",
       "previous": "4a649328-a933-11e9-ba83-02420a010053-5-8047-b02c-fee7-0b9d-bb0c"
      },
      {
       "current": "1f7a4600-fb05-11eb-a3c9-0242ac110002-2-6d3c-0b34",
       "next": "46486ba0-fb18-11eb-a3c9-0242ac110002-2-37d1-faf8",
       "previous": "4a649328-a933-11e9-ba83-02420a010053-5-8047-b02c-fee7-0b9d-bb0c"
      },
      {
       "current": "1f7a4600-fb05-11eb-a3c9-0242ac110002-2-6d3c-0b34",
       "next": "46486ba0-fb18-11eb-a3c9-0242ac110002-2-37d1-faf8",
       "previous": "4a649328-a933-11e9-ba83-02420a010053-5-8047-b02c-fee7-0b9d-bb0c"
      },
      {
       "current": "1f7a4600-fb05-11eb-a3c9-0242ac110002-2-6d3c-0b34",
       "next": "46486ba0-fb18-11eb-a3c9-0242ac110002-2-37d1-faf8",
       "previous": "4a649328-a933-11e9-ba83-02420a010053-5-8047-b02c-fee7-0b9d-bb0c"
      },
      {
       "current": "1f7a4600-fb05-11eb-a3c9-0242ac110002-2-6d3c-0b34",
       "next": "46486ba0-fb18-11eb-a3c9-0242ac110002-2-37d1-faf8",
       "previous": "4a649328-a933-11e9-ba83-02420a010053-5-8047-b02c-fee7-0b9d-bb0c"
      },
      {
       "current": "1f7a4600-fb05-11eb-a3c9-0242ac110002-2-6d3c-0b34",
       "next": "46486ba0-fb18-11eb-a3c9-0242ac110002-2-37d1-faf8",
       "previous": "4a649328-a933-11e9-ba83-02420a010053-5-8047-b02c-fee7-0b9d-bb0c"
      },
      {
       "current": "1f7a4600-fb05-11eb-a3c9-0242ac110002-2-6d3c-0b34",
       "next": "46486ba0-fb18-11eb-a3c9-0242ac110002-2-37d1-faf8",
       "previous": "4a649328-a933-11e9-ba83-02420a010053-5-8047-b02c-fee7-0b9d-bb0c"
      },
      {
       "current": "1f7a4600-fb05-11eb-a3c9-0242ac110002-2-6d3c-0b34",
       "next": "46486ba0-fb18-11eb-a3c9-0242ac110002-2-37d1-faf8",
       "previous": "4a649328-a933-11e9-ba83-02420a010053-5-8047-b02c-fee7-0b9d-bb0c"
      },
      {
       "current": "1f7a4600-fb05-11eb-a3c9-0242ac110002-2-6d3c-0b34",
       "next": "46486ba0-fb18-11eb-a3c9-0242ac110002-2-37d1-faf8",
       "previous": "4a649328-a933-11e9-ba83-02420a010053-5-8047-b02c-fee7-0b9d-bb0c"
      },
      {
       "current": "1f7a4600-fb05-11eb-a3c9-0242ac110002-2-6d3c-0b34",
       "next": "46486ba0-fb18-11eb-a3c9-0242ac110002-2-37d1-faf8",
       "previous": "4a649328-a933-11e9-ba83-02420a010053-5-8047-b02c-fee7-0b9d-bb0c"
      },
      {
       "current": "1f7a4600-fb05-11eb-a3c9-0242ac110002-2-6d3c-0b34",
       "next": "46486ba0-fb18-11eb-a3c9-0242ac110002-2-37d1-faf8",
       "previous": "4a649328-a933-11e9-ba83-02420a010053-5-8047-b02c-fee7-0b9d-bb0c"
      },
      {
       "current": "1f7a4600-fb05-11eb-a3c9-0242ac110002-2-6d3c-0b34",
       "next": "46486ba0-fb18-11eb-a3c9-0242ac110002-2-37d1-faf8",
       "previous": "4a649328-a933-11e9-ba83-02420a010053-5-8047-b02c-fee7-0b9d-bb0c"
      },
      {
       "current": "1f7a4600-fb05-11eb-a3c9-0242ac110002-2-6d3c-0b34",
       "next": "46486ba0-fb18-11eb-a3c9-0242ac110002-2-37d1-faf8",
       "previous": "4a649328-a933-11e9-ba83-02420a010053-5-8047-b02c-fee7-0b9d-bb0c"
      },
      {
       "current": "1f7a4600-fb05-11eb-a3c9-0242ac110002-2-6d3c-0b34",
       "next": "46486ba0-fb18-11eb-a3c9-0242ac110002-2-37d1-faf8",
       "previous": "4a649328-a933-11e9-ba83-02420a010053-5-8047-b02c-fee7-0b9d-bb0c"
      },
      {
       "current": "1f7a4600-fb05-11eb-a3c9-0242ac110002-2-6d3c-0b34",
       "next": "46486ba0-fb18-11eb-a3c9-0242ac110002-2-37d1-faf8",
       "previous": "4a649328-a933-11e9-ba83-02420a010053-5-8047-b02c-fee7-0b9d-bb0c"
      },
      {
       "current": "1f7a4600-fb05-11eb-a3c9-0242ac110002-2-6d3c-0b34",
       "next": "46486ba0-fb18-11eb-a3c9-0242ac110002-2-37d1-faf8",
       "previous": "4a649328-a933-11e9-ba83-02420a010053-5-8047-b02c-fee7-0b9d-bb0c"
      },
      {
       "current": "1f7a4600-fb05-11eb-a3c9-0242ac110002-2-6d3c-0b34",
       "next": "46486ba0-fb18-11eb-a3c9-0242ac110002-2-37d1-faf8",
       "previous": "4a649328-a933-11e9-ba83-02420a010053-5-8047-b02c-fee7-0b9d-bb0c"
      },
      {
       "current": "1f7a4600-fb05-11eb-a3c9-0242ac110002-2-6d3c-0b34",
       "next": "46486ba0-fb18-11eb-a3c9-0242ac110002-2-37d1-faf8",
       "previous": "4a649328-a933-11e9-ba83-02420a010053-5-8047-b02c-fee7-0b9d-bb0c"
      },
      {
       "current": "1f7a4600-fb05-11eb-a3c9-0242ac110002-2-6d3c-0b34",
       "next": "46486ba0-fb18-11eb-a3c9-0242ac110002-2-37d1-faf8",
       "previous": "4a649328-a933-11e9-ba83-02420a010053-5-8047-b02c-fee7-0b9d-bb0c"
      },
      {
       "current": "1f7a4600-fb05-11eb-a3c9-0242ac110002-2-6d3c-0b34",
       "next": "46486ba0-fb18-11eb-a3c9-0242ac110002-2-37d1-faf8",
       "previous": "4a649328-a933-11e9-ba83-02420a010053-5-8047-b02c-fee7-0b9d-bb0c"
      },
      {
       "current": "1f7a4600-fb05-11eb-a3c9-0242ac110002-2-6d3c-0b34",
       "next": "46486ba0-fb18-11eb-a3c9-0242ac110002-2-37d1-faf8",
       "previous": "4a649328-a933-11e9-ba83-02420a010053-5-8047-b02c-fee7-0b9d-bb0c"
      },
      {
       "current": "1f7a4600-fb05-11eb-a3c9-0242ac110002-2-6d3c-0b34",
       "next": "46486ba0-fb18-11eb-a3c9-0242ac110002-2-37d1-faf8",
       "previous": "4a649328-a933-11e9-ba83-02420a010053-5-8047-b02c-fee7-0b9d-bb0c"
      },
      {
       "current": "1f7a4600-fb05-11eb-a3c9-0242ac110002-2-6d3c-0b34",
       "next": "46486ba0-fb18-11eb-a3c9-0242ac110002-2-37d1-faf8",
       "previous": "4a649328-a933-11e9-ba83-02420a010053-5-8047-b02c-fee7-0b9d-bb0c"
      },
      {
       "current": "1f7a4600-fb05-11eb-a3c9-0242ac110002-2-6d3c-0b34",
       "next": "46486ba0-fb18-11eb-a3c9-0242ac110002-2-37d1-faf8",
       "previous": "4a649328-a933-11e9-ba83-02420a010053-5-8047-b02c-fee7-0b9d-bb0c"
      },
      {
       "current": "1f7a4600-fb05-11eb-a3c9-0242ac110002-2-6d3c-0b34",
       "next": "46486ba0-fb18-11eb-a3c9-0242ac110002-2-37d1-faf8",
       "previous": "4a649328-a933-11e9-ba83-02420a010053-5-8047-b02c-fee7-0b9d-bb0c"
      },
      {
       "current": "1f7a4600-fb05-11eb-a3c9-0242ac110002-2-6d3c-0b34",
       "next": "46486ba0-fb18-11eb-a3c9-0242ac110002-2-37d1-faf8",
       "previous": "4a649328-a933-11e9-ba83-02420a010053-5-8047-b02c-fee7-0b9d-bb0c"
      },
      {
       "current": "1f7a4600-fb05-11eb-a3c9-0242ac110002-2-6d3c-0b34",
       "next": "46486ba0-fb18-11eb-a3c9-0242ac110002-2-37d1-faf8",
       "previous": "4a649328-a933-11e9-ba83-02420a010053-5-8047-b02c-fee7-0b9d-bb0c"
      },
      {
       "current": "1f7a4600-fb05-11eb-a3c9-0242ac110002-2-6d3c-0b34",
       "next": "46486ba0-fb18-11eb-a3c9-0242ac110002-2-37d1-faf8",
       "previous": "4a649328-a933-11e9-ba83-02420a010053-5-8047-b02c-fee7-0b9d-bb0c"
      },
      {
       "current": "1f7a4600-fb05-11eb-a3c9-0242ac110002-2-6d3c-0b34",
       "next": "46486ba0-fb18-11eb-a3c9-0242ac110002-2-37d1-faf8",
       "previous": "4a649328-a933-11e9-ba83-02420a010053-5-8047-b02c-fee7-0b9d-bb0c"
      },
      {
       "current": "1f7a4600-fb05-11eb-a3c9-0242ac110002-2-6d3c-0b34",
       "next": "46486ba0-fb18-11eb-a3c9-0242ac110002-2-37d1-faf8",
       "previous": "4a649328-a933-11e9-ba83-02420a010053-5-8047-b02c-fee7-0b9d-bb0c"
      },
      {
       "current": "1f7a4600-fb05-11eb-a3c9-0242ac110002-2-6d3c-0b34",
       "next": "46486ba0-fb18-11eb-a3c9-0242ac110002-2-37d1-faf8",
       "previous": "4a649328-a933-11e9-ba83-02420a010053-5-8047-b02c-fee7-0b9d-bb0c"
      },
      {
       "current": "1f7a4600-fb05-11eb-a3c9-0242ac110002-2-6d3c-0b34",
       "next": "46486ba0-fb18-11eb-a3c9-0242ac110002-2-37d1-faf8",
       "previous": "4a649328-a933-11e9-ba83-02420a010053-5-8047-b02c-fee7-0b9d-bb0c"
      },
      {
       "current": "1f7a4600-fb05-11eb-a3c9-0242ac110002-2-6d3c-0b34",
       "next": "46486ba0-fb18-11eb-a3c9-0242ac110002-2-37d1-faf8",
       "previous": "4a649328-a933-11e9-ba83-02420a010053-5-8047-b02c-fee7-0b9d-bb0c"
      },
      {
       "current": "1f7a4600-fb05-11eb-a3c9-0242ac110002-2-6d3c-0b34",
       "next": "46486ba0-fb18-11eb-a3c9-0242ac110002-2-37d1-faf8",
       "previous": "4a649328-a933-11e9-ba83-02420a010053-5-8047-b02c-fee7-0b9d-bb0c"
      },
      {
       "current": "1f7a4600-fb05-11eb-a3c9-0242ac110002-2-6d3c-0b34",
       "next": "46486ba0-fb18-11eb-a3c9-0242ac110002-2-37d1-faf8",
       "previous": "4a649328-a933-11e9-ba83-02420a010053-5-8047-b02c-fee7-0b9d-bb0c"
      },
      {
       "current": "1f7a4600-fb05-11eb-a3c9-0242ac110002-2-6d3c-0b34",
       "next": "46486ba0-fb18-11eb-a3c9-0242ac110002-2-37d1-faf8",
       "previous": "4a649328-a933-11e9-ba83-02420a010053-5-8047-b02c-fee7-0b9d-bb0c"
      },
      {
       "current": "1f7a4600-fb05-11eb-a3c9-0242ac110002-2-6d3c-0b34",
       "next": "46486ba0-fb18-11eb-a3c9-0242ac110002-2-37d1-faf8",
       "previous": "4a649328-a933-11e9-ba83-02420a010053-5-8047-b02c-fee7-0b9d-bb0c"
      },
      {
       "current": "1f7a4600-fb05-11eb-a3c9-0242ac110002-2-6d3c-0b34",
       "next": "46486ba0-fb18-11eb-a3c9-0242ac110002-2-37d1-faf8",
       "previous": "4a649328-a933-11e9-ba83-02420a010053-5-8047-b02c-fee7-0b9d-bb0c"
      },
      {
       "current": "1f7a4600-fb05-11eb-a3c9-0242ac110002-2-6d3c-0b34",
       "next": "46486ba0-fb18-11eb-a3c9-0242ac110002-2-37d1-faf8",
       "previous": "4a649328-a933-11e9-ba83-02420a010053-5-8047-b02c-fee7-0b9d-bb0c"
      },
      {
       "current": "1f7a4600-fb05-11eb-a3c9-0242ac110002-2-6d3c-0b34",
       "next": "46486ba0-fb18-11eb-a3c9-0242ac110002-2-37d1-faf8",
       "previous": "4a649328-a933-11e9-ba83-02420a010053-5-8047-b02c-fee7-0b9d-bb0c"
      },
      {
       "current": "1f7a4600-fb05-11eb-a3c9-0242ac110002-2-6d3c-0b34",
       "next": "46486ba0-fb18-11eb-a3c9-0242ac110002-2-37d1-faf8",
       "previous": "4a649328-a933-11e9-ba83-02420a010053-5-8047-b02c-fee7-0b9d-bb0c"
      },
      {
       "current": "1f7a4600-fb05-11eb-a3c9-0242ac110002-2-6d3c-0b34",
       "next": "46486ba0-fb18-11eb-a3c9-0242ac110002-2-37d1-faf8",
       "previous": "4a649328-a933-11e9-ba83-02420a010053-5-8047-b02c-fee7-0b9d-bb0c"
      },
      {
       "current": "1f7a4600-fb05-11eb-a3c9-0242ac110002-2-6d3c-0b34",
       "next": "46486ba0-fb18-11eb-a3c9-0242ac110002-2-37d1-faf8",
       "previous": "4a649328-a933-11e9-ba83-02420a010053-5-8047-b02c-fee7-0b9d-bb0c"
      },
      {
       "current": "1f7a4600-fb05-11eb-a3c9-0242ac110002-2-6d3c-0b34",
       "next": "46486ba0-fb18-11eb-a3c9-0242ac110002-2-37d1-faf8",
       "previous": "4a649328-a933-11e9-ba83-02420a010053-5-8047-b02c-fee7-0b9d-bb0c"
      },
      {
       "current": "1f7a4600-fb05-11eb-a3c9-0242ac110002-2-6d3c-0b34",
       "next": "46486ba0-fb18-11eb-a3c9-0242ac110002-2-37d1-faf8",
       "previous": "4a649328-a933-11e9-ba83-02420a010053-5-8047-b02c-fee7-0b9d-bb0c"
      },
      {
       "current": "1f7a4600-fb05-11eb-a3c9-0242ac110002-2-6d3c-0b34",
       "next": "46486ba0-fb18-11eb-a3c9-0242ac110002-2-37d1-faf8",
       "previous": "4a649328-a933-11e9-ba83-02420a010053-5-8047-b02c-fee7-0b9d-bb0c"
      },
      {
       "current": "1f7a4600-fb05-11eb-a3c9-0242ac110002-2-6d3c-0b34",
       "next": "46486ba0-fb18-11eb-a3c9-0242ac110002-2-37d1-faf8",
       "previous": "4a649328-a933-11e9-ba83-02420a010053-5-8047-b02c-fee7-0b9d-bb0c"
      },
      {
       "current": "1f7a4600-fb05-11eb-a3c9-0242ac110002-2-6d3c-0b34",
       "next": "46486ba0-fb18-11eb-a3c9-0242ac110002-2-37d1-faf8",
       "previous": "4a649328-a933-11e9-ba83-02420a010053-5-8047-b02c-fee7-0b9d-bb0c"
      },
      {
       "current": "1f7a4600-fb05-11eb-a3c9-0242ac110002-2-6d3c-0b34",
       "next": "46486ba0-fb18-11eb-a3c9-0242ac110002-2-37d1-faf8",
       "previous": "4a649328-a933-11e9-ba83-02420a010053-5-8047-b02c-fee7-0b9d-bb0c"
      },
      {
       "current": "1f7a4600-fb05-11eb-a3c9-0242ac110002-2-6d3c-0b34",
       "next": "46486ba0-fb18-11eb-a3c9-0242ac110002-2-37d1-faf8",
       "previous": "4a649328-a933-11e9-ba83-02420a010053-5-8047-b02c-fee7-0b9d-bb0c"
      },
      {
       "current": "1f7a4600-fb05-11eb-a3c9-0242ac110002-2-6d3c-0b34",
       "next": "46486ba0-fb18-11eb-a3c9-0242ac110002-2-37d1-faf8",
       "previous": "4a649328-a933-11e9-ba83-02420a010053-5-8047-b02c-fee7-0b9d-bb0c"
      },
      {
       "current": "1f7a4600-fb05-11eb-a3c9-0242ac110002-2-6d3c-0b34",
       "next": "46486ba0-fb18-11eb-a3c9-0242ac110002-2-37d1-faf8",
       "previous": "4a649328-a933-11e9-ba83-02420a010053-5-8047-b02c-fee7-0b9d-bb0c"
      },
      {
       "current": "1f7a4600-fb05-11eb-a3c9-0242ac110002-2-6d3c-0b34",
       "next": "46486ba0-fb18-11eb-a3c9-0242ac110002-2-37d1-faf8",
       "previous": "4a649328-a933-11e9-ba83-02420a010053-5-8047-b02c-fee7-0b9d-bb0c"
      },
      {
       "current": "1f7a4600-fb05-11eb-a3c9-0242ac110002-2-6d3c-0b34",
       "next": "46486ba0-fb18-11eb-a3c9-0242ac110002-2-37d1-faf8",
       "previous": "4a649328-a933-11e9-ba83-02420a010053-5-8047-b02c-fee7-0b9d-bb0c"
      },
      {
       "current": "1f7a4600-fb05-11eb-a3c9-0242ac110002-2-6d3c-0b34",
       "next": "1d8f2fd8-0afd-11ec-afb5-02420a010016",
       "previous": "4a649328-a933-11e9-ba83-02420a010053-5-8047-b02c-fee7-0b9d-bb0c"
      },
      {
       "current": "d03e9bb0-0b3d-11ec-a5ab-02420a01001e",
       "next": "d03e9caa-0b3d-11ec-a5ab-02420a01001e",
       "previous": "d03e9ade-0b3d-11ec-a5ab-02420a01001e"
      },
      {
       "current": "97f97336-0b3f-11ec-8ea2-02420a01001e",
       "next": "97f97412-0b3f-11ec-8ea2-02420a01001e",
       "previous": "97f9726e-0b3f-11ec-8ea2-02420a01001e"
      },
      {
       "current": "8c242b2a-0b7e-11ec-8636-02420a01001e",
       "next": "8c242c2e-0b7e-11ec-8636-02420a01001e",
       "previous": "8c242a44-0b7e-11ec-8636-02420a01001e"
      },
      {
       "current": "0378ed9a-0b85-11ec-9aeb-02420a01001e-1-9c3c",
       "next": "0378ee80-0b85-11ec-9aeb-02420a01001e",
       "previous": "0378ecbe-0b85-11ec-9aeb-02420a01001e"
      },
      {
       "current": "0378ed9a-0b85-11ec-9aeb-02420a01001e-2-9c3c-c7a2",
       "next": "0378ee80-0b85-11ec-9aeb-02420a01001e-1-1dc3",
       "previous": "0378ecbe-0b85-11ec-9aeb-02420a01001e-1-d77b"
      },
      {
       "current": "0378ed9a-0b85-11ec-9aeb-02420a01001e-3-9c3c-c7a2-f5c1",
       "next": "0378ee80-0b85-11ec-9aeb-02420a01001e-2-1dc3-bb40",
       "previous": "0378ecbe-0b85-11ec-9aeb-02420a01001e-2-d77b-7f16"
      },
      {
       "current": "0378ed9a-0b85-11ec-9aeb-02420a01001e-4-9c3c-c7a2-f5c1-a865",
       "next": "0378ee80-0b85-11ec-9aeb-02420a01001e-3-1dc3-bb40-4c11",
       "previous": "0378ecbe-0b85-11ec-9aeb-02420a01001e-3-d77b-7f16-d5e7"
      }
     ],
     "next": "0378ee80-0b85-11ec-9aeb-02420a01001e-4-1dc3-bb40-4c11-7687",
     "previous": "0378ecbe-0b85-11ec-9aeb-02420a01001e-4-d77b-7f16-d5e7-8f77"
    },
    "lc_wrapper": {
     "log_history": [
      "/notebooks/notebook/SAGA_home/hands-on/OpenHPC-v2-handson/.log/20210812/20210812-102325-0559.log",
      "/notebooks/notebook/SAGA_home/hands-on/OpenHPC-v2-handson/.log/20210812/20210812-102655-0728.log",
      "/notebooks/notebook/SAGA_home/hands-on/OpenHPC-v2-handson/.log/20210812/20210812-105518-0869.log",
      "/notebooks/notebook/SAGA_home/hands-on/OpenHPC-v2-handson/.log/20210812/20210812-120336-0641.log",
      "/notebooks/notebook/SAGA_home/hands-on/OpenHPC-v2-handson/.log/20210812/20210812-160156-0865.log",
      "/notebooks/notebook/SAGA_home/hands-on/OpenHPC-v2-handson/.log/20210812/20210812-163634-0679.log",
      "/notebooks/notebook/SAGA_home/hands-on/OpenHPC-v2-handson/.log/20210812/20210812-165051-0489.log",
      "/notebooks/notebook/SAGA_home/hands-on/OpenHPC-v2-handson/.log/20210812/20210812-170845-0429.log",
      "/notebooks/notebook/SAGA_home/hands-on/OpenHPC-v2-handson/.log/20210812/20210812-172157-0528.log",
      "/notebooks/notebook/SAGA_home/hands-on/OpenHPC-v2-handson/.log/20210812/20210812-180703-0956.log",
      "/notebooks/notebook/SAGA_home/hands-on/OpenHPC-v2-handson/.log/20210812/20210812-182958-0354.log",
      "/notebooks/notebook/SAGA_home/hands-on/OpenHPC-v2-handson/.log/20210818/20210818-155833-0289.log",
      "/notebooks/notebook/SAGA_home/hands-on/OpenHPC-v2-handson/.log/20210819/20210819-161930-0130.log",
      "/notebooks/notebook/SAGA_home/hands-on/OpenHPC-v2-handson/.log/20210819/20210819-232006-0911.log",
      "/notebooks/notebook/SAGA_home/hands-on/OpenHPC-v2-handson/.log/20210823/20210823-153538-0643.log",
      "/notebooks/notebook/SAGA_home/hands-on/OpenHPC-v2-handson/.log/20210823/20210823-162034-0866.log",
      "/notebooks/notebook/SAGA_home/hands-on/OpenHPC-v2-handson/.log/20210823/20210823-180311-0997.log",
      "/notebooks/notebook/SAGA_home/hands-on/OpenHPC-v2-handson/.log/20210824/20210824-111456-0072.log",
      "/notebooks/notebook/SAGA_home/hands-on/OpenHPC-v2-handson/.log/20210824/20210824-160252-0486.log",
      "/notebooks/notebook/SAGA_home/hands-on/OpenHPC-v2-handson/.log/20210825/20210825-111341-0339.log",
      "/notebooks/notebook/SAGA_home/hands-on/OpenHPC-v2-handson/.log/20210825/20210825-134634-0263.log",
      "/notebooks/notebook/SAGA_home/hands-on/OpenHPC-v2-handson/.log/20210826/20210826-004811-0979.log",
      "/notebooks/notebook/SAGA_home/hands-on/OpenHPC-v2-handson/.log/20210827/20210827-150138-0295.log",
      "/notebooks/notebook/SAGA_home/hands-on/OpenHPC-v2-handson/.log/20210828/20210828-010703-0362.log",
      "/notebooks/notebook/SAGA_home/hands-on/OpenHPC-v2-handson/.log/20210829/20210829-014119-0632.log",
      "/notebooks/notebook/SAGA_home/hands-on/OpenHPC-v2-handson/.log/20210829/20210829-020743-0890.log",
      "/notebooks/notebook/SAGA_home/hands-on/OpenHPC-v2-handson/.log/20210829/20210829-105912-0353.log",
      "/notebooks/notebook/SAGA_home/hands-on/OpenHPC-v2-handson/.log/20210829/20210829-141911-0623.log",
      "/notebooks/notebook/SAGA_home/hands-on/MNIST_handson/.log/20210829/20210829-233457-0783.log",
      "/notebooks/notebook/SAGA_home/hands-on/MNIST_handson/.log/20210830/20210830-002333-0225.log",
      "/notebooks/notebook/SAGA_home/hands-on/MNIST_handson/.log/20210830/20210830-135838-0404.log",
      "/notebooks/notebook/SAGA_home/hands-on/MNIST_handson/.log/20210830/20210830-154447-0939.log",
      "/home/user513xb92482/hands-on/vcp-tutorial/.log/20210901/20210901-140454-0688.log",
      "/home/user513xb92482/hands-on/vcp-tutorial/.log/20210902/20210902-213116-0502.log",
      "/home/user513xb92482/hands-on/vcp-tutorial/.log/20210903/20210903-103507-0571.log",
      "/home/user513xb92482/hands-on/vcp-tutorial/.log/20210903/20210903-114104-0578.log",
      "/home/user513xb92482/hands-on/vcp-tutorial/.log/20210903/20210903-160237-0568.log",
      "/notebooks/notebook/SAGA_home/hands-on/hands-on.513/vcp-tutorial/.log/20210910/20210910-105612-0584.log",
      "/notebooks/notebook/SAGA_home/hands-on/hands-on.513/vcp-tutorial/OpenHPC-MNIST/.log/20210910/20210910-165130-0086.log",
      "/notebooks/notebook/SAGA_home/210903.handson_cloudweek_2021/Deriver/2109.Recog_with_OpenHPC_template/2.Recognition_system/.log/20210914/20210914-144429-0735.log"
     ]
    }
   },
   "outputs": [],
   "source": [
    "# 最新のTensorFlowコンテナイメージのダウンロード\n",
    "docker_image = f'tensorflow/tensorflow:latest'\n",
    "!ssh {ssh_opts_user} {target} docker pull {docker_image}\n",
    "# !ssh {ssh_opts} {ip_address} docker info\n",
    "\n",
    "# ユーザーを追加したコンテナイメージの作成\n",
    "from pathlib import Path\n",
    "from tempfile import TemporaryDirectory\n",
    "\n",
    "!ssh {ssh_opts_user} {target} mkdir -p tensorflow-img\n",
    "out = !ssh {ssh_opts_user} {target} id -u\n",
    "uid = out[0]\n",
    "with TemporaryDirectory() as workdir:\n",
    "    dockerfile = Path(workdir) / 'Dockerfile'\n",
    "    with dockerfile.open(mode='w') as f:\n",
    "        f.write(f'''\n",
    "FROM {docker_image}\n",
    "\n",
    "ARG USER={user}\n",
    "RUN useradd -m ${{USER}} -u {uid}\n",
    "WORKDIR /home/${{USER}}\n",
    "USER {user}\n",
    "''')\n",
    "    !cat {dockerfile}\n",
    "    !scp {ssh_opts_user} {dockerfile} {target}:tensorflow-img\n",
    "\n",
    "!ssh {ssh_opts_user} {target} docker build -t tensorflow-{user} tensorflow-img\n",
    "\n",
    "# コンテナの実行\n",
    "!ssh {ssh_opts_user} {target} chmod 755 .\n",
    "!ssh {ssh_opts_user} {target} docker run -td -v /home/{user}:/home/{user} --rm --ipc=host --net=host --name tensorflow-{user} tensorflow-{user}\n",
    "!ssh {ssh_opts_user} {target} docker ps"
   ]
  },
  {
   "cell_type": "markdown",
   "metadata": {
    "hidden": true,
    "lc_cell_meme": {
     "current": "0378ee80-0b85-11ec-9aeb-02420a01001e-4-1dc3-bb40-4c11-7687",
     "history": [
      {
       "current": "1d8f2fd8-0afd-11ec-afb5-02420a010016",
       "next": "46486ba0-fb18-11eb-a3c9-0242ac110002-2-37d1-faf8",
       "previous": "1f7a4600-fb05-11eb-a3c9-0242ac110002-2-6d3c-0b34"
      },
      {
       "current": "d03e9caa-0b3d-11ec-a5ab-02420a01001e",
       "next": "d03e9d90-0b3d-11ec-a5ab-02420a01001e",
       "previous": "d03e9bb0-0b3d-11ec-a5ab-02420a01001e"
      },
      {
       "current": "97f97412-0b3f-11ec-8ea2-02420a01001e",
       "next": "97f974e4-0b3f-11ec-8ea2-02420a01001e",
       "previous": "97f97336-0b3f-11ec-8ea2-02420a01001e"
      },
      {
       "current": "8c242c2e-0b7e-11ec-8636-02420a01001e",
       "next": "8c242d28-0b7e-11ec-8636-02420a01001e",
       "previous": "8c242b2a-0b7e-11ec-8636-02420a01001e"
      },
      {
       "current": "0378ee80-0b85-11ec-9aeb-02420a01001e-1-1dc3",
       "next": "0378ef70-0b85-11ec-9aeb-02420a01001e",
       "previous": "0378ed9a-0b85-11ec-9aeb-02420a01001e"
      },
      {
       "current": "0378ee80-0b85-11ec-9aeb-02420a01001e-2-1dc3-bb40",
       "next": "0378ef70-0b85-11ec-9aeb-02420a01001e-1-d099",
       "previous": "0378ed9a-0b85-11ec-9aeb-02420a01001e-1-9c3c"
      },
      {
       "current": "0378ee80-0b85-11ec-9aeb-02420a01001e-3-1dc3-bb40-4c11",
       "next": "0378ef70-0b85-11ec-9aeb-02420a01001e-2-d099-a0be",
       "previous": "0378ed9a-0b85-11ec-9aeb-02420a01001e-2-9c3c-c7a2"
      },
      {
       "current": "0378ee80-0b85-11ec-9aeb-02420a01001e-4-1dc3-bb40-4c11-7687",
       "next": "0378ef70-0b85-11ec-9aeb-02420a01001e-3-d099-a0be-b648",
       "previous": "0378ed9a-0b85-11ec-9aeb-02420a01001e-3-9c3c-c7a2-f5c1"
      }
     ],
     "next": "0378ef70-0b85-11ec-9aeb-02420a01001e-4-d099-a0be-b648-1175",
     "previous": "0378ed9a-0b85-11ec-9aeb-02420a01001e-4-9c3c-c7a2-f5c1-a865"
    }
   },
   "source": [
    "以上で TensorFlow 環境の構築は完了です。"
   ]
  },
  {
   "cell_type": "markdown",
   "metadata": {
    "lc_cell_meme": {
     "current": "0378ef70-0b85-11ec-9aeb-02420a01001e-4-d099-a0be-b648-1175",
     "history": [
      {
       "current": "46486ba0-fb18-11eb-a3c9-0242ac110002",
       "next": "91a37c7c-fb11-11eb-a3c9-0242ac110002",
       "previous": "1f7a4600-fb05-11eb-a3c9-0242ac110002"
      },
      {
       "current": "46486ba0-fb18-11eb-a3c9-0242ac110002",
       "next": "d420c732-fb32-11eb-a3c9-0242ac110002",
       "previous": "1f7a4600-fb05-11eb-a3c9-0242ac110002"
      },
      {
       "current": "46486ba0-fb18-11eb-a3c9-0242ac110002",
       "next": "29e5f386-fb42-11eb-a3c9-0242ac110002",
       "previous": "1f7a4600-fb05-11eb-a3c9-0242ac110002"
      },
      {
       "current": "46486ba0-fb18-11eb-a3c9-0242ac110002",
       "next": "386665fc-00cf-11ec-a3c9-0242ac110002",
       "previous": "1f7a4600-fb05-11eb-a3c9-0242ac110002"
      },
      {
       "current": "46486ba0-fb18-11eb-a3c9-0242ac110002",
       "next": "1ff23e5a-053f-11ec-a3c9-0242ac110002",
       "previous": "1f7a4600-fb05-11eb-a3c9-0242ac110002"
      },
      {
       "current": "46486ba0-fb18-11eb-a3c9-0242ac110002",
       "next": "ab316110-0546-11ec-a3c9-0242ac110002",
       "previous": "1f7a4600-fb05-11eb-a3c9-0242ac110002"
      },
      {
       "current": "46486ba0-fb18-11eb-a3c9-0242ac110002",
       "next": "305e8f3a-0889-11ec-a3c9-0242ac110002",
       "previous": "1f7a4600-fb05-11eb-a3c9-0242ac110002"
      },
      {
       "current": "46486ba0-fb18-11eb-a3c9-0242ac110002-1-37d1",
       "next": "77dd2010-0889-11ec-a3c9-0242ac110002",
       "previous": "1f7a4600-fb05-11eb-a3c9-0242ac110002"
      },
      {
       "current": "46486ba0-fb18-11eb-a3c9-0242ac110002-2-37d1-faf8",
       "next": "77dd2010-0889-11ec-a3c9-0242ac110002-1-50b4",
       "previous": "1f7a4600-fb05-11eb-a3c9-0242ac110002-1-6d3c"
      },
      {
       "current": "46486ba0-fb18-11eb-a3c9-0242ac110002-2-37d1-faf8",
       "next": "77dd2010-0889-11ec-a3c9-0242ac110002-2-50b4-2b9f",
       "previous": "1f7a4600-fb05-11eb-a3c9-0242ac110002-2-6d3c-0b34"
      },
      {
       "current": "46486ba0-fb18-11eb-a3c9-0242ac110002-2-37d1-faf8",
       "next": "77dd2010-0889-11ec-a3c9-0242ac110002-2-50b4-2b9f",
       "previous": "1f7a4600-fb05-11eb-a3c9-0242ac110002-2-6d3c-0b34"
      },
      {
       "current": "46486ba0-fb18-11eb-a3c9-0242ac110002-2-37d1-faf8",
       "next": "77dd2010-0889-11ec-a3c9-0242ac110002-2-50b4-2b9f",
       "previous": "1f7a4600-fb05-11eb-a3c9-0242ac110002-2-6d3c-0b34"
      },
      {
       "current": "46486ba0-fb18-11eb-a3c9-0242ac110002-2-37d1-faf8",
       "next": "77dd2010-0889-11ec-a3c9-0242ac110002-2-50b4-2b9f",
       "previous": "1f7a4600-fb05-11eb-a3c9-0242ac110002-2-6d3c-0b34"
      },
      {
       "current": "46486ba0-fb18-11eb-a3c9-0242ac110002-2-37d1-faf8",
       "next": "77dd2010-0889-11ec-a3c9-0242ac110002-2-50b4-2b9f",
       "previous": "1f7a4600-fb05-11eb-a3c9-0242ac110002-2-6d3c-0b34"
      },
      {
       "current": "46486ba0-fb18-11eb-a3c9-0242ac110002-2-37d1-faf8",
       "next": "77dd2010-0889-11ec-a3c9-0242ac110002-2-50b4-2b9f",
       "previous": "1f7a4600-fb05-11eb-a3c9-0242ac110002-2-6d3c-0b34"
      },
      {
       "current": "46486ba0-fb18-11eb-a3c9-0242ac110002-2-37d1-faf8",
       "next": "77dd2010-0889-11ec-a3c9-0242ac110002-2-50b4-2b9f",
       "previous": "1f7a4600-fb05-11eb-a3c9-0242ac110002-2-6d3c-0b34"
      },
      {
       "current": "46486ba0-fb18-11eb-a3c9-0242ac110002-2-37d1-faf8",
       "next": "77dd2010-0889-11ec-a3c9-0242ac110002-2-50b4-2b9f",
       "previous": "1f7a4600-fb05-11eb-a3c9-0242ac110002-2-6d3c-0b34"
      },
      {
       "current": "46486ba0-fb18-11eb-a3c9-0242ac110002-2-37d1-faf8",
       "next": "77dd2010-0889-11ec-a3c9-0242ac110002-2-50b4-2b9f",
       "previous": "1f7a4600-fb05-11eb-a3c9-0242ac110002-2-6d3c-0b34"
      },
      {
       "current": "46486ba0-fb18-11eb-a3c9-0242ac110002-2-37d1-faf8",
       "next": "77dd2010-0889-11ec-a3c9-0242ac110002-2-50b4-2b9f",
       "previous": "1f7a4600-fb05-11eb-a3c9-0242ac110002-2-6d3c-0b34"
      },
      {
       "current": "46486ba0-fb18-11eb-a3c9-0242ac110002-2-37d1-faf8",
       "next": "77dd2010-0889-11ec-a3c9-0242ac110002-2-50b4-2b9f",
       "previous": "1f7a4600-fb05-11eb-a3c9-0242ac110002-2-6d3c-0b34"
      },
      {
       "current": "46486ba0-fb18-11eb-a3c9-0242ac110002-2-37d1-faf8",
       "next": "77dd2010-0889-11ec-a3c9-0242ac110002-2-50b4-2b9f",
       "previous": "1f7a4600-fb05-11eb-a3c9-0242ac110002-2-6d3c-0b34"
      },
      {
       "current": "46486ba0-fb18-11eb-a3c9-0242ac110002-2-37d1-faf8",
       "next": "77dd2010-0889-11ec-a3c9-0242ac110002-2-50b4-2b9f",
       "previous": "1f7a4600-fb05-11eb-a3c9-0242ac110002-2-6d3c-0b34"
      },
      {
       "current": "46486ba0-fb18-11eb-a3c9-0242ac110002-2-37d1-faf8",
       "next": "77dd2010-0889-11ec-a3c9-0242ac110002-2-50b4-2b9f",
       "previous": "1f7a4600-fb05-11eb-a3c9-0242ac110002-2-6d3c-0b34"
      },
      {
       "current": "46486ba0-fb18-11eb-a3c9-0242ac110002-2-37d1-faf8",
       "next": "77dd2010-0889-11ec-a3c9-0242ac110002-2-50b4-2b9f",
       "previous": "1f7a4600-fb05-11eb-a3c9-0242ac110002-2-6d3c-0b34"
      },
      {
       "current": "46486ba0-fb18-11eb-a3c9-0242ac110002-2-37d1-faf8",
       "next": "77dd2010-0889-11ec-a3c9-0242ac110002-2-50b4-2b9f",
       "previous": "1f7a4600-fb05-11eb-a3c9-0242ac110002-2-6d3c-0b34"
      },
      {
       "current": "46486ba0-fb18-11eb-a3c9-0242ac110002-2-37d1-faf8",
       "next": "77dd2010-0889-11ec-a3c9-0242ac110002-2-50b4-2b9f",
       "previous": "1f7a4600-fb05-11eb-a3c9-0242ac110002-2-6d3c-0b34"
      },
      {
       "current": "46486ba0-fb18-11eb-a3c9-0242ac110002-2-37d1-faf8",
       "next": "77dd2010-0889-11ec-a3c9-0242ac110002-2-50b4-2b9f",
       "previous": "1f7a4600-fb05-11eb-a3c9-0242ac110002-2-6d3c-0b34"
      },
      {
       "current": "46486ba0-fb18-11eb-a3c9-0242ac110002-2-37d1-faf8",
       "next": "77dd2010-0889-11ec-a3c9-0242ac110002-2-50b4-2b9f",
       "previous": "1f7a4600-fb05-11eb-a3c9-0242ac110002-2-6d3c-0b34"
      },
      {
       "current": "46486ba0-fb18-11eb-a3c9-0242ac110002-2-37d1-faf8",
       "next": "77dd2010-0889-11ec-a3c9-0242ac110002-2-50b4-2b9f",
       "previous": "1f7a4600-fb05-11eb-a3c9-0242ac110002-2-6d3c-0b34"
      },
      {
       "current": "46486ba0-fb18-11eb-a3c9-0242ac110002-2-37d1-faf8",
       "next": "77dd2010-0889-11ec-a3c9-0242ac110002-2-50b4-2b9f",
       "previous": "1f7a4600-fb05-11eb-a3c9-0242ac110002-2-6d3c-0b34"
      },
      {
       "current": "46486ba0-fb18-11eb-a3c9-0242ac110002-2-37d1-faf8",
       "next": "77dd2010-0889-11ec-a3c9-0242ac110002-2-50b4-2b9f",
       "previous": "1f7a4600-fb05-11eb-a3c9-0242ac110002-2-6d3c-0b34"
      },
      {
       "current": "46486ba0-fb18-11eb-a3c9-0242ac110002-2-37d1-faf8",
       "next": "77dd2010-0889-11ec-a3c9-0242ac110002-2-50b4-2b9f",
       "previous": "1f7a4600-fb05-11eb-a3c9-0242ac110002-2-6d3c-0b34"
      },
      {
       "current": "46486ba0-fb18-11eb-a3c9-0242ac110002-2-37d1-faf8",
       "next": "77dd2010-0889-11ec-a3c9-0242ac110002-2-50b4-2b9f",
       "previous": "1f7a4600-fb05-11eb-a3c9-0242ac110002-2-6d3c-0b34"
      },
      {
       "current": "46486ba0-fb18-11eb-a3c9-0242ac110002-2-37d1-faf8",
       "next": "77dd2010-0889-11ec-a3c9-0242ac110002-2-50b4-2b9f",
       "previous": "1f7a4600-fb05-11eb-a3c9-0242ac110002-2-6d3c-0b34"
      },
      {
       "current": "46486ba0-fb18-11eb-a3c9-0242ac110002-2-37d1-faf8",
       "next": "77dd2010-0889-11ec-a3c9-0242ac110002-2-50b4-2b9f",
       "previous": "1f7a4600-fb05-11eb-a3c9-0242ac110002-2-6d3c-0b34"
      },
      {
       "current": "46486ba0-fb18-11eb-a3c9-0242ac110002-2-37d1-faf8",
       "next": "77dd2010-0889-11ec-a3c9-0242ac110002-2-50b4-2b9f",
       "previous": "1f7a4600-fb05-11eb-a3c9-0242ac110002-2-6d3c-0b34"
      },
      {
       "current": "46486ba0-fb18-11eb-a3c9-0242ac110002-2-37d1-faf8",
       "next": "77dd2010-0889-11ec-a3c9-0242ac110002-2-50b4-2b9f",
       "previous": "1f7a4600-fb05-11eb-a3c9-0242ac110002-2-6d3c-0b34"
      },
      {
       "current": "46486ba0-fb18-11eb-a3c9-0242ac110002-2-37d1-faf8",
       "next": "77dd2010-0889-11ec-a3c9-0242ac110002-2-50b4-2b9f",
       "previous": "1f7a4600-fb05-11eb-a3c9-0242ac110002-2-6d3c-0b34"
      },
      {
       "current": "46486ba0-fb18-11eb-a3c9-0242ac110002-2-37d1-faf8",
       "next": "77dd2010-0889-11ec-a3c9-0242ac110002-2-50b4-2b9f",
       "previous": "1f7a4600-fb05-11eb-a3c9-0242ac110002-2-6d3c-0b34"
      },
      {
       "current": "46486ba0-fb18-11eb-a3c9-0242ac110002-2-37d1-faf8",
       "next": "77dd2010-0889-11ec-a3c9-0242ac110002-2-50b4-2b9f",
       "previous": "1f7a4600-fb05-11eb-a3c9-0242ac110002-2-6d3c-0b34"
      },
      {
       "current": "46486ba0-fb18-11eb-a3c9-0242ac110002-2-37d1-faf8",
       "next": "77dd2010-0889-11ec-a3c9-0242ac110002-2-50b4-2b9f",
       "previous": "1f7a4600-fb05-11eb-a3c9-0242ac110002-2-6d3c-0b34"
      },
      {
       "current": "46486ba0-fb18-11eb-a3c9-0242ac110002-2-37d1-faf8",
       "next": "77dd2010-0889-11ec-a3c9-0242ac110002-2-50b4-2b9f",
       "previous": "1f7a4600-fb05-11eb-a3c9-0242ac110002-2-6d3c-0b34"
      },
      {
       "current": "46486ba0-fb18-11eb-a3c9-0242ac110002-2-37d1-faf8",
       "next": "77dd2010-0889-11ec-a3c9-0242ac110002-2-50b4-2b9f",
       "previous": "1f7a4600-fb05-11eb-a3c9-0242ac110002-2-6d3c-0b34"
      },
      {
       "current": "46486ba0-fb18-11eb-a3c9-0242ac110002-2-37d1-faf8",
       "next": "77dd2010-0889-11ec-a3c9-0242ac110002-2-50b4-2b9f",
       "previous": "1f7a4600-fb05-11eb-a3c9-0242ac110002-2-6d3c-0b34"
      },
      {
       "current": "46486ba0-fb18-11eb-a3c9-0242ac110002-2-37d1-faf8",
       "next": "77dd2010-0889-11ec-a3c9-0242ac110002-2-50b4-2b9f",
       "previous": "1f7a4600-fb05-11eb-a3c9-0242ac110002-2-6d3c-0b34"
      },
      {
       "current": "46486ba0-fb18-11eb-a3c9-0242ac110002-2-37d1-faf8",
       "next": "77dd2010-0889-11ec-a3c9-0242ac110002-2-50b4-2b9f",
       "previous": "1f7a4600-fb05-11eb-a3c9-0242ac110002-2-6d3c-0b34"
      },
      {
       "current": "46486ba0-fb18-11eb-a3c9-0242ac110002-2-37d1-faf8",
       "next": "77dd2010-0889-11ec-a3c9-0242ac110002-2-50b4-2b9f",
       "previous": "1f7a4600-fb05-11eb-a3c9-0242ac110002-2-6d3c-0b34"
      },
      {
       "current": "46486ba0-fb18-11eb-a3c9-0242ac110002-2-37d1-faf8",
       "next": "77dd2010-0889-11ec-a3c9-0242ac110002-2-50b4-2b9f",
       "previous": "1f7a4600-fb05-11eb-a3c9-0242ac110002-2-6d3c-0b34"
      },
      {
       "current": "46486ba0-fb18-11eb-a3c9-0242ac110002-2-37d1-faf8",
       "next": "77dd2010-0889-11ec-a3c9-0242ac110002-2-50b4-2b9f",
       "previous": "1f7a4600-fb05-11eb-a3c9-0242ac110002-2-6d3c-0b34"
      },
      {
       "current": "46486ba0-fb18-11eb-a3c9-0242ac110002-2-37d1-faf8",
       "next": "77dd2010-0889-11ec-a3c9-0242ac110002-2-50b4-2b9f",
       "previous": "1f7a4600-fb05-11eb-a3c9-0242ac110002-2-6d3c-0b34"
      },
      {
       "current": "46486ba0-fb18-11eb-a3c9-0242ac110002-2-37d1-faf8",
       "next": "77dd2010-0889-11ec-a3c9-0242ac110002-2-50b4-2b9f",
       "previous": "1f7a4600-fb05-11eb-a3c9-0242ac110002-2-6d3c-0b34"
      },
      {
       "current": "46486ba0-fb18-11eb-a3c9-0242ac110002-2-37d1-faf8",
       "next": "77dd2010-0889-11ec-a3c9-0242ac110002-2-50b4-2b9f",
       "previous": "1f7a4600-fb05-11eb-a3c9-0242ac110002-2-6d3c-0b34"
      },
      {
       "current": "46486ba0-fb18-11eb-a3c9-0242ac110002-2-37d1-faf8",
       "next": "77dd2010-0889-11ec-a3c9-0242ac110002-2-50b4-2b9f",
       "previous": "1f7a4600-fb05-11eb-a3c9-0242ac110002-2-6d3c-0b34"
      },
      {
       "current": "46486ba0-fb18-11eb-a3c9-0242ac110002-2-37d1-faf8",
       "next": "77dd2010-0889-11ec-a3c9-0242ac110002-2-50b4-2b9f",
       "previous": "1f7a4600-fb05-11eb-a3c9-0242ac110002-2-6d3c-0b34"
      },
      {
       "current": "46486ba0-fb18-11eb-a3c9-0242ac110002-2-37d1-faf8",
       "next": "77dd2010-0889-11ec-a3c9-0242ac110002-2-50b4-2b9f",
       "previous": "1f7a4600-fb05-11eb-a3c9-0242ac110002-2-6d3c-0b34"
      },
      {
       "current": "46486ba0-fb18-11eb-a3c9-0242ac110002-2-37d1-faf8",
       "next": "77dd2010-0889-11ec-a3c9-0242ac110002-2-50b4-2b9f",
       "previous": "1f7a4600-fb05-11eb-a3c9-0242ac110002-2-6d3c-0b34"
      },
      {
       "current": "46486ba0-fb18-11eb-a3c9-0242ac110002-2-37d1-faf8",
       "next": "77dd2010-0889-11ec-a3c9-0242ac110002-2-50b4-2b9f",
       "previous": "1f7a4600-fb05-11eb-a3c9-0242ac110002-2-6d3c-0b34"
      },
      {
       "current": "46486ba0-fb18-11eb-a3c9-0242ac110002-2-37d1-faf8",
       "next": "77dd2010-0889-11ec-a3c9-0242ac110002-2-50b4-2b9f",
       "previous": "1f7a4600-fb05-11eb-a3c9-0242ac110002-2-6d3c-0b34"
      },
      {
       "current": "46486ba0-fb18-11eb-a3c9-0242ac110002-2-37d1-faf8",
       "next": "77dd2010-0889-11ec-a3c9-0242ac110002-2-50b4-2b9f",
       "previous": "1f7a4600-fb05-11eb-a3c9-0242ac110002-2-6d3c-0b34"
      },
      {
       "current": "46486ba0-fb18-11eb-a3c9-0242ac110002-2-37d1-faf8",
       "next": "77dd2010-0889-11ec-a3c9-0242ac110002-2-50b4-2b9f",
       "previous": "1f7a4600-fb05-11eb-a3c9-0242ac110002-2-6d3c-0b34"
      },
      {
       "current": "46486ba0-fb18-11eb-a3c9-0242ac110002-2-37d1-faf8",
       "next": "77dd2010-0889-11ec-a3c9-0242ac110002-2-50b4-2b9f",
       "previous": "1f7a4600-fb05-11eb-a3c9-0242ac110002-2-6d3c-0b34"
      },
      {
       "current": "46486ba0-fb18-11eb-a3c9-0242ac110002-2-37d1-faf8",
       "next": "77dd2010-0889-11ec-a3c9-0242ac110002-2-50b4-2b9f",
       "previous": "1f7a4600-fb05-11eb-a3c9-0242ac110002-2-6d3c-0b34"
      },
      {
       "current": "46486ba0-fb18-11eb-a3c9-0242ac110002-2-37d1-faf8",
       "next": "77dd2010-0889-11ec-a3c9-0242ac110002-2-50b4-2b9f",
       "previous": "1f7a4600-fb05-11eb-a3c9-0242ac110002-2-6d3c-0b34"
      },
      {
       "current": "46486ba0-fb18-11eb-a3c9-0242ac110002-2-37d1-faf8",
       "next": "1d8f317c-0afd-11ec-afb5-02420a010016",
       "previous": "1d8f2fd8-0afd-11ec-afb5-02420a010016"
      },
      {
       "current": "d03e9d90-0b3d-11ec-a5ab-02420a01001e",
       "next": "d03e9e76-0b3d-11ec-a5ab-02420a01001e",
       "previous": "d03e9caa-0b3d-11ec-a5ab-02420a01001e"
      },
      {
       "current": "97f974e4-0b3f-11ec-8ea2-02420a01001e",
       "next": "97f975a2-0b3f-11ec-8ea2-02420a01001e",
       "previous": "97f97412-0b3f-11ec-8ea2-02420a01001e"
      },
      {
       "current": "8c242d28-0b7e-11ec-8636-02420a01001e",
       "next": "8c242e04-0b7e-11ec-8636-02420a01001e",
       "previous": "8c242c2e-0b7e-11ec-8636-02420a01001e"
      },
      {
       "current": "0378ef70-0b85-11ec-9aeb-02420a01001e-1-d099",
       "next": "0378f042-0b85-11ec-9aeb-02420a01001e",
       "previous": "0378ee80-0b85-11ec-9aeb-02420a01001e"
      },
      {
       "current": "0378ef70-0b85-11ec-9aeb-02420a01001e-2-d099-a0be",
       "next": "0378f042-0b85-11ec-9aeb-02420a01001e-1-fd14",
       "previous": "0378ee80-0b85-11ec-9aeb-02420a01001e-1-1dc3"
      },
      {
       "current": "0378ef70-0b85-11ec-9aeb-02420a01001e-3-d099-a0be-b648",
       "next": "0378f042-0b85-11ec-9aeb-02420a01001e-2-fd14-c40b",
       "previous": "0378ee80-0b85-11ec-9aeb-02420a01001e-2-1dc3-bb40"
      },
      {
       "current": "0378ef70-0b85-11ec-9aeb-02420a01001e-4-d099-a0be-b648-1175",
       "next": "0378f042-0b85-11ec-9aeb-02420a01001e-3-fd14-c40b-be72",
       "previous": "0378ee80-0b85-11ec-9aeb-02420a01001e-3-1dc3-bb40-4c11"
      }
     ],
     "next": "0378f042-0b85-11ec-9aeb-02420a01001e-4-fd14-c40b-be72-981b",
     "previous": "0378ee80-0b85-11ec-9aeb-02420a01001e-4-1dc3-bb40-4c11-7687"
    }
   },
   "source": [
    "## MNIST による手書き数字の認識\n",
    "機械学習アプリケーションとして、MNISTによる手書き数字認識を実行します。本章と次章を入れ替えれば、TensorFlowを使う別の機械学習アプリケーションの環境も構築できます。\n",
    "\n",
    "通常、データー入力と認識は同じシステムで実行することが多いですが、ハンズオン環境の都合上、手書き数字の入力はこの JupyterNotebook 環境で、認識(MNIST）は上で構築した TensorFlow 環境で実行します。入力データはファイルとして転送します。\n",
    "\n",
    "TensorFlow 環境での動作は、JupyterNotebook から事前に動作を定義したスクリプトを転送しておき、必要になった時点で JupyterNotebook から ssh で起動します。スクリプトは`402/scripts`に格納してあります。"
   ]
  },
  {
   "cell_type": "markdown",
   "metadata": {
    "lc_cell_meme": {
     "current": "0378f042-0b85-11ec-9aeb-02420a01001e-4-fd14-c40b-be72-981b",
     "history": [
      {
       "current": "1d8f317c-0afd-11ec-afb5-02420a010016",
       "next": "ab316110-0546-11ec-a3c9-0242ac110002-2-c9b4-1244",
       "previous": "46486ba0-fb18-11eb-a3c9-0242ac110002-2-37d1-faf8"
      },
      {
       "current": "d03e9e76-0b3d-11ec-a5ab-02420a01001e",
       "next": "d03e9f52-0b3d-11ec-a5ab-02420a01001e",
       "previous": "d03e9d90-0b3d-11ec-a5ab-02420a01001e"
      },
      {
       "current": "97f975a2-0b3f-11ec-8ea2-02420a01001e",
       "next": "97f97688-0b3f-11ec-8ea2-02420a01001e",
       "previous": "97f974e4-0b3f-11ec-8ea2-02420a01001e"
      },
      {
       "current": "8c242e04-0b7e-11ec-8636-02420a01001e",
       "next": "8c242ef4-0b7e-11ec-8636-02420a01001e",
       "previous": "8c242d28-0b7e-11ec-8636-02420a01001e"
      },
      {
       "current": "0378f042-0b85-11ec-9aeb-02420a01001e-1-fd14",
       "next": "0378f128-0b85-11ec-9aeb-02420a01001e",
       "previous": "0378ef70-0b85-11ec-9aeb-02420a01001e"
      },
      {
       "current": "0378f042-0b85-11ec-9aeb-02420a01001e-2-fd14-c40b",
       "next": "0378f128-0b85-11ec-9aeb-02420a01001e-1-289e",
       "previous": "0378ef70-0b85-11ec-9aeb-02420a01001e-1-d099"
      },
      {
       "current": "0378f042-0b85-11ec-9aeb-02420a01001e-3-fd14-c40b-be72",
       "next": "0378f128-0b85-11ec-9aeb-02420a01001e-2-289e-e9c9",
       "previous": "0378ef70-0b85-11ec-9aeb-02420a01001e-2-d099-a0be"
      },
      {
       "current": "0378f042-0b85-11ec-9aeb-02420a01001e-4-fd14-c40b-be72-981b",
       "next": "0378f128-0b85-11ec-9aeb-02420a01001e-3-289e-e9c9-5c44",
       "previous": "0378ef70-0b85-11ec-9aeb-02420a01001e-3-d099-a0be-b648"
      }
     ],
     "next": "0378f128-0b85-11ec-9aeb-02420a01001e-4-289e-e9c9-5c44-cb90",
     "previous": "0378ef70-0b85-11ec-9aeb-02420a01001e-4-d099-a0be-b648-1175"
    }
   },
   "source": [
    "### 実行環境の準備"
   ]
  },
  {
   "cell_type": "markdown",
   "metadata": {
    "lc_cell_meme": {
     "current": "0378f128-0b85-11ec-9aeb-02420a01001e-4-289e-e9c9-5c44-cb90",
     "history": [
      {
       "current": "ab316110-0546-11ec-a3c9-0242ac110002",
       "next": "4f2cc612-fb4f-11eb-a3c9-0242ac110002",
       "previous": "386665fc-00cf-11ec-a3c9-0242ac110002"
      },
      {
       "current": "ab316110-0546-11ec-a3c9-0242ac110002",
       "next": "af07bcd2-053f-11ec-a3c9-0242ac110002",
       "previous": "386665fc-00cf-11ec-a3c9-0242ac110002"
      },
      {
       "current": "ab316110-0546-11ec-a3c9-0242ac110002",
       "next": "4f2cc612-fb4f-11eb-a3c9-0242ac110002",
       "previous": "46486ba0-fb18-11eb-a3c9-0242ac110002"
      },
      {
       "current": "ab316110-0546-11ec-a3c9-0242ac110002-1-c9b4",
       "next": "4f2cc612-fb4f-11eb-a3c9-0242ac110002",
       "previous": "305e8f3a-0889-11ec-a3c9-0242ac110002"
      },
      {
       "current": "ab316110-0546-11ec-a3c9-0242ac110002-2-c9b4-1244",
       "next": "4f2cc612-fb4f-11eb-a3c9-0242ac110002-1-2ae6",
       "previous": "305e8f3a-0889-11ec-a3c9-0242ac110002-1-600b"
      },
      {
       "current": "ab316110-0546-11ec-a3c9-0242ac110002-2-c9b4-1244",
       "next": "4f2cc612-fb4f-11eb-a3c9-0242ac110002-2-2ae6-d935",
       "previous": "305e8f3a-0889-11ec-a3c9-0242ac110002-2-600b-9be4"
      },
      {
       "current": "ab316110-0546-11ec-a3c9-0242ac110002-2-c9b4-1244",
       "next": "4f2cc612-fb4f-11eb-a3c9-0242ac110002-2-2ae6-d935",
       "previous": "305e8f3a-0889-11ec-a3c9-0242ac110002-2-600b-9be4"
      },
      {
       "current": "ab316110-0546-11ec-a3c9-0242ac110002-2-c9b4-1244",
       "next": "4f2cc612-fb4f-11eb-a3c9-0242ac110002-2-2ae6-d935",
       "previous": "305e8f3a-0889-11ec-a3c9-0242ac110002-2-600b-9be4"
      },
      {
       "current": "ab316110-0546-11ec-a3c9-0242ac110002-2-c9b4-1244",
       "next": "4f2cc612-fb4f-11eb-a3c9-0242ac110002-2-2ae6-d935",
       "previous": "305e8f3a-0889-11ec-a3c9-0242ac110002-2-600b-9be4"
      },
      {
       "current": "ab316110-0546-11ec-a3c9-0242ac110002-2-c9b4-1244",
       "next": "4f2cc612-fb4f-11eb-a3c9-0242ac110002-2-2ae6-d935",
       "previous": "305e8f3a-0889-11ec-a3c9-0242ac110002-2-600b-9be4"
      },
      {
       "current": "ab316110-0546-11ec-a3c9-0242ac110002-2-c9b4-1244",
       "next": "4f2cc612-fb4f-11eb-a3c9-0242ac110002-2-2ae6-d935",
       "previous": "305e8f3a-0889-11ec-a3c9-0242ac110002-2-600b-9be4"
      },
      {
       "current": "ab316110-0546-11ec-a3c9-0242ac110002-2-c9b4-1244",
       "next": "4f2cc612-fb4f-11eb-a3c9-0242ac110002-2-2ae6-d935",
       "previous": "305e8f3a-0889-11ec-a3c9-0242ac110002-2-600b-9be4"
      },
      {
       "current": "ab316110-0546-11ec-a3c9-0242ac110002-2-c9b4-1244",
       "next": "4f2cc612-fb4f-11eb-a3c9-0242ac110002-2-2ae6-d935",
       "previous": "305e8f3a-0889-11ec-a3c9-0242ac110002-2-600b-9be4"
      },
      {
       "current": "ab316110-0546-11ec-a3c9-0242ac110002-2-c9b4-1244",
       "next": "4f2cc612-fb4f-11eb-a3c9-0242ac110002-2-2ae6-d935",
       "previous": "305e8f3a-0889-11ec-a3c9-0242ac110002-2-600b-9be4"
      },
      {
       "current": "ab316110-0546-11ec-a3c9-0242ac110002-2-c9b4-1244",
       "next": "4f2cc612-fb4f-11eb-a3c9-0242ac110002-2-2ae6-d935",
       "previous": "305e8f3a-0889-11ec-a3c9-0242ac110002-2-600b-9be4"
      },
      {
       "current": "ab316110-0546-11ec-a3c9-0242ac110002-2-c9b4-1244",
       "next": "4f2cc612-fb4f-11eb-a3c9-0242ac110002-2-2ae6-d935",
       "previous": "305e8f3a-0889-11ec-a3c9-0242ac110002-2-600b-9be4"
      },
      {
       "current": "ab316110-0546-11ec-a3c9-0242ac110002-2-c9b4-1244",
       "next": "4f2cc612-fb4f-11eb-a3c9-0242ac110002-2-2ae6-d935",
       "previous": "305e8f3a-0889-11ec-a3c9-0242ac110002-2-600b-9be4"
      },
      {
       "current": "ab316110-0546-11ec-a3c9-0242ac110002-2-c9b4-1244",
       "next": "4f2cc612-fb4f-11eb-a3c9-0242ac110002-2-2ae6-d935",
       "previous": "305e8f3a-0889-11ec-a3c9-0242ac110002-2-600b-9be4"
      },
      {
       "current": "ab316110-0546-11ec-a3c9-0242ac110002-2-c9b4-1244",
       "next": "4f2cc612-fb4f-11eb-a3c9-0242ac110002-2-2ae6-d935",
       "previous": "305e8f3a-0889-11ec-a3c9-0242ac110002-2-600b-9be4"
      },
      {
       "current": "ab316110-0546-11ec-a3c9-0242ac110002-2-c9b4-1244",
       "next": "4f2cc612-fb4f-11eb-a3c9-0242ac110002-2-2ae6-d935",
       "previous": "305e8f3a-0889-11ec-a3c9-0242ac110002-2-600b-9be4"
      },
      {
       "current": "ab316110-0546-11ec-a3c9-0242ac110002-2-c9b4-1244",
       "next": "4f2cc612-fb4f-11eb-a3c9-0242ac110002-2-2ae6-d935",
       "previous": "305e8f3a-0889-11ec-a3c9-0242ac110002-2-600b-9be4"
      },
      {
       "current": "ab316110-0546-11ec-a3c9-0242ac110002-2-c9b4-1244",
       "next": "4f2cc612-fb4f-11eb-a3c9-0242ac110002-2-2ae6-d935",
       "previous": "305e8f3a-0889-11ec-a3c9-0242ac110002-2-600b-9be4"
      },
      {
       "current": "ab316110-0546-11ec-a3c9-0242ac110002-2-c9b4-1244",
       "next": "4f2cc612-fb4f-11eb-a3c9-0242ac110002-2-2ae6-d935",
       "previous": "305e8f3a-0889-11ec-a3c9-0242ac110002-2-600b-9be4"
      },
      {
       "current": "ab316110-0546-11ec-a3c9-0242ac110002-2-c9b4-1244",
       "next": "4f2cc612-fb4f-11eb-a3c9-0242ac110002-2-2ae6-d935",
       "previous": "305e8f3a-0889-11ec-a3c9-0242ac110002-2-600b-9be4"
      },
      {
       "current": "ab316110-0546-11ec-a3c9-0242ac110002-2-c9b4-1244",
       "next": "4f2cc612-fb4f-11eb-a3c9-0242ac110002-2-2ae6-d935",
       "previous": "305e8f3a-0889-11ec-a3c9-0242ac110002-2-600b-9be4"
      },
      {
       "current": "ab316110-0546-11ec-a3c9-0242ac110002-2-c9b4-1244",
       "next": "4f2cc612-fb4f-11eb-a3c9-0242ac110002-2-2ae6-d935",
       "previous": "305e8f3a-0889-11ec-a3c9-0242ac110002-2-600b-9be4"
      },
      {
       "current": "ab316110-0546-11ec-a3c9-0242ac110002-2-c9b4-1244",
       "next": "4f2cc612-fb4f-11eb-a3c9-0242ac110002-2-2ae6-d935",
       "previous": "305e8f3a-0889-11ec-a3c9-0242ac110002-2-600b-9be4"
      },
      {
       "current": "ab316110-0546-11ec-a3c9-0242ac110002-2-c9b4-1244",
       "next": "4f2cc612-fb4f-11eb-a3c9-0242ac110002-2-2ae6-d935",
       "previous": "305e8f3a-0889-11ec-a3c9-0242ac110002-2-600b-9be4"
      },
      {
       "current": "ab316110-0546-11ec-a3c9-0242ac110002-2-c9b4-1244",
       "next": "4f2cc612-fb4f-11eb-a3c9-0242ac110002-2-2ae6-d935",
       "previous": "305e8f3a-0889-11ec-a3c9-0242ac110002-2-600b-9be4"
      },
      {
       "current": "ab316110-0546-11ec-a3c9-0242ac110002-2-c9b4-1244",
       "next": "4f2cc612-fb4f-11eb-a3c9-0242ac110002-2-2ae6-d935",
       "previous": "305e8f3a-0889-11ec-a3c9-0242ac110002-2-600b-9be4"
      },
      {
       "current": "ab316110-0546-11ec-a3c9-0242ac110002-2-c9b4-1244",
       "next": "4f2cc612-fb4f-11eb-a3c9-0242ac110002-2-2ae6-d935",
       "previous": "305e8f3a-0889-11ec-a3c9-0242ac110002-2-600b-9be4"
      },
      {
       "current": "ab316110-0546-11ec-a3c9-0242ac110002-2-c9b4-1244",
       "next": "4f2cc612-fb4f-11eb-a3c9-0242ac110002-2-2ae6-d935",
       "previous": "305e8f3a-0889-11ec-a3c9-0242ac110002-2-600b-9be4"
      },
      {
       "current": "ab316110-0546-11ec-a3c9-0242ac110002-2-c9b4-1244",
       "next": "4f2cc612-fb4f-11eb-a3c9-0242ac110002-2-2ae6-d935",
       "previous": "305e8f3a-0889-11ec-a3c9-0242ac110002-2-600b-9be4"
      },
      {
       "current": "ab316110-0546-11ec-a3c9-0242ac110002-2-c9b4-1244",
       "next": "4f2cc612-fb4f-11eb-a3c9-0242ac110002-2-2ae6-d935",
       "previous": "305e8f3a-0889-11ec-a3c9-0242ac110002-2-600b-9be4"
      },
      {
       "current": "ab316110-0546-11ec-a3c9-0242ac110002-2-c9b4-1244",
       "next": "4f2cc612-fb4f-11eb-a3c9-0242ac110002-2-2ae6-d935",
       "previous": "305e8f3a-0889-11ec-a3c9-0242ac110002-2-600b-9be4"
      },
      {
       "current": "ab316110-0546-11ec-a3c9-0242ac110002-2-c9b4-1244",
       "next": "4f2cc612-fb4f-11eb-a3c9-0242ac110002-2-2ae6-d935",
       "previous": "305e8f3a-0889-11ec-a3c9-0242ac110002-2-600b-9be4"
      },
      {
       "current": "ab316110-0546-11ec-a3c9-0242ac110002-2-c9b4-1244",
       "next": "4f2cc612-fb4f-11eb-a3c9-0242ac110002-2-2ae6-d935",
       "previous": "305e8f3a-0889-11ec-a3c9-0242ac110002-2-600b-9be4"
      },
      {
       "current": "ab316110-0546-11ec-a3c9-0242ac110002-2-c9b4-1244",
       "next": "4f2cc612-fb4f-11eb-a3c9-0242ac110002-2-2ae6-d935",
       "previous": "305e8f3a-0889-11ec-a3c9-0242ac110002-2-600b-9be4"
      },
      {
       "current": "ab316110-0546-11ec-a3c9-0242ac110002-2-c9b4-1244",
       "next": "4f2cc612-fb4f-11eb-a3c9-0242ac110002-2-2ae6-d935",
       "previous": "305e8f3a-0889-11ec-a3c9-0242ac110002-2-600b-9be4"
      },
      {
       "current": "ab316110-0546-11ec-a3c9-0242ac110002-2-c9b4-1244",
       "next": "4f2cc612-fb4f-11eb-a3c9-0242ac110002-2-2ae6-d935",
       "previous": "305e8f3a-0889-11ec-a3c9-0242ac110002-2-600b-9be4"
      },
      {
       "current": "ab316110-0546-11ec-a3c9-0242ac110002-2-c9b4-1244",
       "next": "4f2cc612-fb4f-11eb-a3c9-0242ac110002-2-2ae6-d935",
       "previous": "1d8f317c-0afd-11ec-afb5-02420a010016"
      },
      {
       "current": "d03e9f52-0b3d-11ec-a5ab-02420a01001e",
       "next": "d03ea038-0b3d-11ec-a5ab-02420a01001e",
       "previous": "d03e9e76-0b3d-11ec-a5ab-02420a01001e"
      },
      {
       "current": "97f97688-0b3f-11ec-8ea2-02420a01001e",
       "next": "97f97750-0b3f-11ec-8ea2-02420a01001e",
       "previous": "97f975a2-0b3f-11ec-8ea2-02420a01001e"
      },
      {
       "current": "8c242ef4-0b7e-11ec-8636-02420a01001e",
       "next": "8c242fc6-0b7e-11ec-8636-02420a01001e",
       "previous": "8c242e04-0b7e-11ec-8636-02420a01001e"
      },
      {
       "current": "0378f128-0b85-11ec-9aeb-02420a01001e-1-289e",
       "next": "0378f218-0b85-11ec-9aeb-02420a01001e",
       "previous": "0378f042-0b85-11ec-9aeb-02420a01001e"
      },
      {
       "current": "0378f128-0b85-11ec-9aeb-02420a01001e-2-289e-e9c9",
       "next": "0378f218-0b85-11ec-9aeb-02420a01001e-1-0b5f",
       "previous": "0378f042-0b85-11ec-9aeb-02420a01001e-1-fd14"
      },
      {
       "current": "0378f128-0b85-11ec-9aeb-02420a01001e-3-289e-e9c9-5c44",
       "next": "0378f218-0b85-11ec-9aeb-02420a01001e-2-0b5f-0708",
       "previous": "0378f042-0b85-11ec-9aeb-02420a01001e-2-fd14-c40b"
      },
      {
       "current": "0378f128-0b85-11ec-9aeb-02420a01001e-4-289e-e9c9-5c44-cb90",
       "next": "0378f218-0b85-11ec-9aeb-02420a01001e-3-0b5f-0708-7299",
       "previous": "0378f042-0b85-11ec-9aeb-02420a01001e-3-fd14-c40b-be72"
      }
     ],
     "next": "0378f218-0b85-11ec-9aeb-02420a01001e-4-0b5f-0708-7299-3e26",
     "previous": "0378f042-0b85-11ec-9aeb-02420a01001e-4-fd14-c40b-be72-981b"
    }
   },
   "source": [
    "#### フリーハンド入力の準備\n",
    "フリーハンド入力機能の定義（プログラム）です。フリーハンド入力は、このJupyterNotebook上で実行します。"
   ]
  },
  {
   "cell_type": "code",
   "execution_count": null,
   "metadata": {
    "lc_cell_meme": {
     "current": "0378f218-0b85-11ec-9aeb-02420a01001e-4-0b5f-0708-7299-3e26",
     "history": [
      {
       "current": "4f2cc612-fb4f-11eb-a3c9-0242ac110002",
       "next": "4a64eec2-a933-11e9-ba83-02420a010053-3-221d-c4fd-a8ce",
       "previous": "b9bbf1a4-fb3d-11eb-a3c9-0242ac110002"
      },
      {
       "current": "4f2cc612-fb4f-11eb-a3c9-0242ac110002",
       "next": "8b674b5a-fb51-11eb-a3c9-0242ac110002",
       "previous": "b9bbf1a4-fb3d-11eb-a3c9-0242ac110002"
      },
      {
       "current": "4f2cc612-fb4f-11eb-a3c9-0242ac110002",
       "next": "f10b2980-fb52-11eb-a3c9-0242ac110002",
       "previous": "b9bbf1a4-fb3d-11eb-a3c9-0242ac110002"
      },
      {
       "current": "4f2cc612-fb4f-11eb-a3c9-0242ac110002",
       "next": "8b674b5a-fb51-11eb-a3c9-0242ac110002",
       "previous": "b9bbf1a4-fb3d-11eb-a3c9-0242ac110002"
      },
      {
       "current": "4f2cc612-fb4f-11eb-a3c9-0242ac110002",
       "next": "4b63d244-fb56-11eb-a3c9-0242ac110002",
       "previous": "b9bbf1a4-fb3d-11eb-a3c9-0242ac110002"
      },
      {
       "current": "4f2cc612-fb4f-11eb-a3c9-0242ac110002",
       "next": "4b63d244-fb56-11eb-a3c9-0242ac110002",
       "previous": "bec543a0-fb7c-11eb-a3c9-0242ac110002"
      },
      {
       "current": "4f2cc612-fb4f-11eb-a3c9-0242ac110002",
       "next": "4b63d244-fb56-11eb-a3c9-0242ac110002",
       "previous": "b9bbf1a4-fb3d-11eb-a3c9-0242ac110002"
      },
      {
       "current": "4f2cc612-fb4f-11eb-a3c9-0242ac110002",
       "next": "8b674b5a-fb51-11eb-a3c9-0242ac110002",
       "previous": "b9bbf1a4-fb3d-11eb-a3c9-0242ac110002"
      },
      {
       "current": "4f2cc612-fb4f-11eb-a3c9-0242ac110002",
       "next": "f532731e-0085-11ec-a3c9-0242ac110002",
       "previous": "b9bbf1a4-fb3d-11eb-a3c9-0242ac110002"
      },
      {
       "current": "4f2cc612-fb4f-11eb-a3c9-0242ac110002",
       "next": "f532731e-0085-11ec-a3c9-0242ac110002",
       "previous": "29e5f386-fb42-11eb-a3c9-0242ac110002"
      },
      {
       "current": "4f2cc612-fb4f-11eb-a3c9-0242ac110002",
       "next": "af07bcd2-053f-11ec-a3c9-0242ac110002",
       "previous": "386665fc-00cf-11ec-a3c9-0242ac110002"
      },
      {
       "current": "4f2cc612-fb4f-11eb-a3c9-0242ac110002",
       "next": "af07bcd2-053f-11ec-a3c9-0242ac110002",
       "previous": "ab316110-0546-11ec-a3c9-0242ac110002"
      },
      {
       "current": "4f2cc612-fb4f-11eb-a3c9-0242ac110002",
       "next": "f532731e-0085-11ec-a3c9-0242ac110002",
       "previous": "3a42ccf4-0547-11ec-a3c9-0242ac110002"
      },
      {
       "current": "4f2cc612-fb4f-11eb-a3c9-0242ac110002-1-2ae6",
       "next": "1ff23e5a-053f-11ec-a3c9-0242ac110002",
       "previous": "ab316110-0546-11ec-a3c9-0242ac110002"
      },
      {
       "current": "4f2cc612-fb4f-11eb-a3c9-0242ac110002-2-2ae6-d935",
       "next": "1ff23e5a-053f-11ec-a3c9-0242ac110002-1-26b9",
       "previous": "ab316110-0546-11ec-a3c9-0242ac110002-1-c9b4"
      },
      {
       "current": "4f2cc612-fb4f-11eb-a3c9-0242ac110002-2-2ae6-d935",
       "next": "1ff23e5a-053f-11ec-a3c9-0242ac110002-2-26b9-837d",
       "previous": "ab316110-0546-11ec-a3c9-0242ac110002-2-c9b4-1244"
      },
      {
       "current": "4f2cc612-fb4f-11eb-a3c9-0242ac110002-2-2ae6-d935",
       "next": "1ff23e5a-053f-11ec-a3c9-0242ac110002-2-26b9-837d",
       "previous": "ab316110-0546-11ec-a3c9-0242ac110002-2-c9b4-1244"
      },
      {
       "current": "d03ea038-0b3d-11ec-a5ab-02420a01001e",
       "next": "d03ea128-0b3d-11ec-a5ab-02420a01001e",
       "previous": "d03e9f52-0b3d-11ec-a5ab-02420a01001e"
      },
      {
       "current": "97f97750-0b3f-11ec-8ea2-02420a01001e",
       "next": "97f97822-0b3f-11ec-8ea2-02420a01001e",
       "previous": "97f97688-0b3f-11ec-8ea2-02420a01001e"
      },
      {
       "current": "8c242fc6-0b7e-11ec-8636-02420a01001e",
       "next": "8c2430b6-0b7e-11ec-8636-02420a01001e",
       "previous": "8c242ef4-0b7e-11ec-8636-02420a01001e"
      },
      {
       "current": "0378f218-0b85-11ec-9aeb-02420a01001e-1-0b5f",
       "next": "0378f2fe-0b85-11ec-9aeb-02420a01001e",
       "previous": "0378f128-0b85-11ec-9aeb-02420a01001e"
      },
      {
       "current": "0378f218-0b85-11ec-9aeb-02420a01001e-2-0b5f-0708",
       "next": "0378f2fe-0b85-11ec-9aeb-02420a01001e-1-5e2d",
       "previous": "0378f128-0b85-11ec-9aeb-02420a01001e-1-289e"
      },
      {
       "current": "0378f218-0b85-11ec-9aeb-02420a01001e-3-0b5f-0708-7299",
       "next": "0378f2fe-0b85-11ec-9aeb-02420a01001e-2-5e2d-fe22",
       "previous": "0378f128-0b85-11ec-9aeb-02420a01001e-2-289e-e9c9"
      },
      {
       "current": "0378f218-0b85-11ec-9aeb-02420a01001e-4-0b5f-0708-7299-3e26",
       "next": "0378f2fe-0b85-11ec-9aeb-02420a01001e-3-5e2d-fe22-fadf",
       "previous": "0378f128-0b85-11ec-9aeb-02420a01001e-3-289e-e9c9-5c44"
      }
     ],
     "next": "0378f2fe-0b85-11ec-9aeb-02420a01001e-4-5e2d-fe22-fadf-f527",
     "previous": "0378f128-0b85-11ec-9aeb-02420a01001e-4-289e-e9c9-5c44-cb90"
    },
    "lc_wrapper": {
     "log_history": [
      "/notebooks/notebook/SAGA_home/hands-on/OpenHPC-v2-handson/.log/20210812/20210812-183121-0072.log",
      "/notebooks/notebook/SAGA_home/hands-on/OpenHPC-v2-handson/.log/20210812/20210812-191159-0732.log",
      "/notebooks/notebook/SAGA_home/hands-on/OpenHPC-v2-handson/.log/20210818/20210818-114122-0676.log",
      "/notebooks/notebook/SAGA_home/hands-on/OpenHPC-v2-handson/.log/20210818/20210818-223520-0398.log",
      "/notebooks/notebook/SAGA_home/hands-on/OpenHPC-v2-handson/.log/20210818/20210818-225002-0441.log",
      "/notebooks/notebook/SAGA_home/hands-on/OpenHPC-v2-handson/.log/20210818/20210818-225547-0318.log",
      "/notebooks/notebook/SAGA_home/hands-on/OpenHPC-v2-handson/.log/20210818/20210818-225815-0490.log",
      "/notebooks/notebook/SAGA_home/hands-on/OpenHPC-v2-handson/.log/20210819/20210819-093155-0695.log",
      "/notebooks/notebook/SAGA_home/hands-on/OpenHPC-v2-handson/.log/20210819/20210819-093234-0034.log",
      "/notebooks/notebook/SAGA_home/hands-on/OpenHPC-v2-handson/.log/20210819/20210819-093318-0791.log",
      "/notebooks/notebook/SAGA_home/hands-on/OpenHPC-v2-handson/.log/20210819/20210819-094127-0914.log",
      "/notebooks/notebook/SAGA_home/hands-on/OpenHPC-v2-handson/.log/20210819/20210819-135332-0998.log",
      "/notebooks/notebook/SAGA_home/hands-on/OpenHPC-v2-handson/.log/20210819/20210819-135433-0624.log",
      "/notebooks/notebook/SAGA_home/hands-on/OpenHPC-v2-handson/.log/20210819/20210819-160731-0451.log",
      "/notebooks/notebook/SAGA_home/hands-on/OpenHPC-v2-handson/.log/20210819/20210819-161121-0831.log",
      "/notebooks/notebook/SAGA_home/hands-on/OpenHPC-v2-handson/.log/20210819/20210819-162040-0417.log",
      "/notebooks/notebook/SAGA_home/hands-on/OpenHPC-v2-handson/.log/20210819/20210819-232153-0846.log",
      "/notebooks/notebook/SAGA_home/hands-on/OpenHPC-v2-handson/.log/20210823/20210823-153815-0730.log",
      "/notebooks/notebook/SAGA_home/hands-on/OpenHPC-v2-handson/.log/20210823/20210823-162201-0167.log",
      "/notebooks/notebook/SAGA_home/hands-on/OpenHPC-v2-handson/.log/20210823/20210823-181108-0713.log",
      "/notebooks/notebook/SAGA_home/hands-on/OpenHPC-v2-handson/.log/20210824/20210824-111728-0573.log",
      "/notebooks/notebook/SAGA_home/hands-on/OpenHPC-v2-handson/.log/20210824/20210824-113104-0062.log",
      "/notebooks/notebook/SAGA_home/hands-on/OpenHPC-v2-handson/.log/20210824/20210824-113540-0741.log",
      "/notebooks/notebook/SAGA_home/hands-on/OpenHPC-v2-handson/.log/20210824/20210824-160431-0503.log",
      "/notebooks/notebook/SAGA_home/hands-on/OpenHPC-v2-handson/.log/20210825/20210825-111618-0226.log",
      "/notebooks/notebook/SAGA_home/hands-on/OpenHPC-v2-handson/.log/20210825/20210825-134913-0082.log",
      "/notebooks/notebook/SAGA_home/hands-on/OpenHPC-v2-handson/.log/20210826/20210826-004918-0558.log",
      "/notebooks/notebook/SAGA_home/hands-on/OpenHPC-v2-handson/.log/20210826/20210826-011123-0013.log",
      "/notebooks/notebook/SAGA_home/hands-on/OpenHPC-v2-handson/.log/20210827/20210827-150241-0633.log",
      "/notebooks/notebook/SAGA_home/hands-on/OpenHPC-v2-handson/.log/20210828/20210828-010803-0705.log",
      "/notebooks/notebook/SAGA_home/hands-on/OpenHPC-v2-handson/.log/20210829/20210829-014413-0309.log",
      "/notebooks/notebook/SAGA_home/hands-on/OpenHPC-v2-handson/.log/20210829/20210829-015726-0536.log",
      "/notebooks/notebook/SAGA_home/hands-on/OpenHPC-v2-handson/.log/20210829/20210829-020845-0350.log",
      "/notebooks/notebook/SAGA_home/hands-on/OpenHPC-v2-handson/.log/20210829/20210829-110015-0769.log",
      "/notebooks/notebook/SAGA_home/hands-on/OpenHPC-v2-handson/.log/20210829/20210829-110653-0774.log",
      "/notebooks/notebook/SAGA_home/hands-on/OpenHPC-v2-handson/.log/20210829/20210829-142015-0569.log",
      "/notebooks/notebook/SAGA_home/hands-on/MNIST_handson/.log/20210829/20210829-233606-0373.log",
      "/notebooks/notebook/SAGA_home/hands-on/MNIST_handson/.log/20210830/20210830-002436-0685.log",
      "/notebooks/notebook/SAGA_home/hands-on/MNIST_handson/.log/20210830/20210830-140228-0860.log",
      "/notebooks/notebook/SAGA_home/hands-on/MNIST_handson/.log/20210830/20210830-154706-0152.log",
      "/home/user513xb92482/hands-on/vcp-tutorial/.log/20210901/20210901-140641-0222.log",
      "/home/user513xb92482/hands-on/vcp-tutorial/.log/20210902/20210902-213311-0603.log",
      "/home/user513xb92482/hands-on/vcp-tutorial/.log/20210903/20210903-103636-0085.log",
      "/home/user513xb92482/hands-on/vcp-tutorial/.log/20210903/20210903-114215-0275.log",
      "/home/user513xb92482/hands-on/vcp-tutorial/.log/20210903/20210903-160436-0908.log",
      "/notebooks/notebook/SAGA_home/hands-on/hands-on.513/vcp-tutorial/.log/20210910/20210910-105930-0261.log",
      "/notebooks/notebook/SAGA_home/hands-on/hands-on.513/vcp-tutorial/OpenHPC-MNIST/.log/20210910/20210910-165226-0401.log",
      "/notebooks/notebook/SAGA_home/210903.handson_cloudweek_2021/Deriver/2109.Recog_with_OpenHPC_template/2.Recognition_system/.log/20210914/20210914-144529-0298.log"
     ]
    }
   },
   "outputs": [],
   "source": [
    "import numpy as np\n",
    "from IPython.core.display import HTML\n",
    "import base64\n",
    "from io import BytesIO\n",
    "from PIL import Image\n",
    "from PIL import ImageOps\n",
    "import matplotlib.pyplot as plt\n",
    "\n",
    "# フリーハンド入力環境定義\n",
    "drawpad = \"\"\"\n",
    "<canvas id=\"canvas\" height=\"280px\" width=\"280px\" style=\"border: 1px solid black;\"></canvas>\n",
    "<p>\n",
    "    <button id=\"clear\">Clear</button>\n",
    "    <button id=\"save\">Save</button>\n",
    "</p>\n",
    "<p id=\"mesg\"></p>\n",
    "\n",
    "<script type=\"text/javascript\">\n",
    "    // ====== variables ====== //\n",
    "    var kernel = IPython.notebook.kernel;\n",
    "    var btn_clear = document.getElementById(\"clear\");\n",
    "    var btn_save = document.getElementById(\"save\");\n",
    "    var canvas = document.getElementById(\"canvas\");\n",
    "    var context = canvas.getContext(\"2d\");\n",
    "\n",
    "    var isDrawing = false;\n",
    "    var x = 0;\n",
    "    var y = 0;\n",
    "\n",
    "    // ====== drawing ====== //\n",
    "    // cf. https://developer.mozilla.org/en-US/docs/Web/API/Element/mousemove_event#examples\n",
    "    canvas.addEventListener(\"mousedown\", function(e){\n",
    "        x = e.offsetX;\n",
    "        y = e.offsetY;\n",
    "        isDrawing = true;\n",
    "    });\n",
    "    \n",
    "    canvas.addEventListener(\"mousemove\", function(e){\n",
    "        if (isDrawing === true) {\n",
    "            drawLine(context, x, y, e.offsetX, e.offsetY);\n",
    "            x = e.offsetX;\n",
    "            y = e.offsetY;\n",
    "        }\n",
    "    });\n",
    "    \n",
    "    canvas.addEventListener(\"mouseup\", function(e){\n",
    "        if (isDrawing === true) {\n",
    "            drawLine(context, x, y, e.offsetX, e.offsetY);\n",
    "            x = 0;\n",
    "            y = 0;\n",
    "            isDrawing = false;\n",
    "        }\n",
    "    });\n",
    "    \n",
    "    canvas.addEventListener(\"mouseout\", function(){\n",
    "        x = 0;\n",
    "        y = 0;\n",
    "        isDrawing = false;\n",
    "    });\n",
    "\n",
    "    function drawLine(context, x1, y1, x2, y2) {\n",
    "        context.beginPath();\n",
    "        context.strokeStyle = 'black';\n",
    "        context.lineWidth = 14;\n",
    "        context.moveTo(x1, y1);\n",
    "        context.lineTo(x2, y2);\n",
    "        context.lineCap = \"round\";\n",
    "        context.stroke();\n",
    "    };\n",
    "\n",
    "\n",
    "    // ====== button ====== //\n",
    "    btn_clear.addEventListener(\"click\", function(){\n",
    "        context.clearRect(0, 0, canvas.width, canvas.height);\n",
    "        mesg.textContent = \"\";\n",
    "    });\n",
    "    \n",
    "    btn_save.addEventListener(\"click\", function(){\n",
    "        var img = 'base64_img';\n",
    "        kernel.execute(img + \" = '\" + canvas.toDataURL() + \"'\");\n",
    "        mesg.textContent = \"image saved\";\n",
    "    });\n",
    "   \n",
    "</script>\n",
    "\"\"\""
   ]
  },
  {
   "cell_type": "markdown",
   "metadata": {
    "lc_cell_meme": {
     "current": "0378f2fe-0b85-11ec-9aeb-02420a01001e-4-5e2d-fe22-fadf-f527",
     "history": [
      {
       "current": "1ff23e5a-053f-11ec-a3c9-0242ac110002",
       "next": "1ff2404e-053f-11ec-a3c9-0242ac110002",
       "previous": "46486ba0-fb18-11eb-a3c9-0242ac110002"
      },
      {
       "current": "1ff23e5a-053f-11ec-a3c9-0242ac110002",
       "next": "386665fc-00cf-11ec-a3c9-0242ac110002",
       "previous": "46486ba0-fb18-11eb-a3c9-0242ac110002"
      },
      {
       "current": "1ff23e5a-053f-11ec-a3c9-0242ac110002-1-26b9",
       "next": "386665fc-00cf-11ec-a3c9-0242ac110002",
       "previous": "4f2cc612-fb4f-11eb-a3c9-0242ac110002"
      },
      {
       "current": "1ff23e5a-053f-11ec-a3c9-0242ac110002-2-26b9-837d",
       "next": "386665fc-00cf-11ec-a3c9-0242ac110002-1-4071",
       "previous": "4f2cc612-fb4f-11eb-a3c9-0242ac110002-1-2ae6"
      },
      {
       "current": "1ff23e5a-053f-11ec-a3c9-0242ac110002-2-26b9-837d",
       "next": "386665fc-00cf-11ec-a3c9-0242ac110002-2-4071-09de",
       "previous": "4f2cc612-fb4f-11eb-a3c9-0242ac110002-2-2ae6-d935"
      },
      {
       "current": "1ff23e5a-053f-11ec-a3c9-0242ac110002-2-26b9-837d",
       "next": "386665fc-00cf-11ec-a3c9-0242ac110002-2-4071-09de",
       "previous": "4f2cc612-fb4f-11eb-a3c9-0242ac110002-2-2ae6-d935"
      },
      {
       "current": "1ff23e5a-053f-11ec-a3c9-0242ac110002-2-26b9-837d",
       "next": "386665fc-00cf-11ec-a3c9-0242ac110002-2-4071-09de",
       "previous": "4f2cc612-fb4f-11eb-a3c9-0242ac110002-2-2ae6-d935"
      },
      {
       "current": "1ff23e5a-053f-11ec-a3c9-0242ac110002-2-26b9-837d",
       "next": "386665fc-00cf-11ec-a3c9-0242ac110002-2-4071-09de",
       "previous": "4f2cc612-fb4f-11eb-a3c9-0242ac110002-2-2ae6-d935"
      },
      {
       "current": "1ff23e5a-053f-11ec-a3c9-0242ac110002-2-26b9-837d",
       "next": "386665fc-00cf-11ec-a3c9-0242ac110002-2-4071-09de",
       "previous": "4f2cc612-fb4f-11eb-a3c9-0242ac110002-2-2ae6-d935"
      },
      {
       "current": "1ff23e5a-053f-11ec-a3c9-0242ac110002-2-26b9-837d",
       "next": "386665fc-00cf-11ec-a3c9-0242ac110002-2-4071-09de",
       "previous": "4f2cc612-fb4f-11eb-a3c9-0242ac110002-2-2ae6-d935"
      },
      {
       "current": "1ff23e5a-053f-11ec-a3c9-0242ac110002-2-26b9-837d",
       "next": "386665fc-00cf-11ec-a3c9-0242ac110002-2-4071-09de",
       "previous": "4f2cc612-fb4f-11eb-a3c9-0242ac110002-2-2ae6-d935"
      },
      {
       "current": "1ff23e5a-053f-11ec-a3c9-0242ac110002-2-26b9-837d",
       "next": "386665fc-00cf-11ec-a3c9-0242ac110002-2-4071-09de",
       "previous": "4f2cc612-fb4f-11eb-a3c9-0242ac110002-2-2ae6-d935"
      },
      {
       "current": "1ff23e5a-053f-11ec-a3c9-0242ac110002-2-26b9-837d",
       "next": "386665fc-00cf-11ec-a3c9-0242ac110002-2-4071-09de",
       "previous": "4f2cc612-fb4f-11eb-a3c9-0242ac110002-2-2ae6-d935"
      },
      {
       "current": "1ff23e5a-053f-11ec-a3c9-0242ac110002-2-26b9-837d",
       "next": "386665fc-00cf-11ec-a3c9-0242ac110002-2-4071-09de",
       "previous": "4f2cc612-fb4f-11eb-a3c9-0242ac110002-2-2ae6-d935"
      },
      {
       "current": "1ff23e5a-053f-11ec-a3c9-0242ac110002-2-26b9-837d",
       "next": "386665fc-00cf-11ec-a3c9-0242ac110002-2-4071-09de",
       "previous": "4f2cc612-fb4f-11eb-a3c9-0242ac110002-2-2ae6-d935"
      },
      {
       "current": "1ff23e5a-053f-11ec-a3c9-0242ac110002-2-26b9-837d",
       "next": "386665fc-00cf-11ec-a3c9-0242ac110002-2-4071-09de",
       "previous": "4f2cc612-fb4f-11eb-a3c9-0242ac110002-2-2ae6-d935"
      },
      {
       "current": "1ff23e5a-053f-11ec-a3c9-0242ac110002-2-26b9-837d",
       "next": "386665fc-00cf-11ec-a3c9-0242ac110002-2-4071-09de",
       "previous": "4f2cc612-fb4f-11eb-a3c9-0242ac110002-2-2ae6-d935"
      },
      {
       "current": "1ff23e5a-053f-11ec-a3c9-0242ac110002-2-26b9-837d",
       "next": "386665fc-00cf-11ec-a3c9-0242ac110002-2-4071-09de",
       "previous": "4f2cc612-fb4f-11eb-a3c9-0242ac110002-2-2ae6-d935"
      },
      {
       "current": "1ff23e5a-053f-11ec-a3c9-0242ac110002-2-26b9-837d",
       "next": "386665fc-00cf-11ec-a3c9-0242ac110002-2-4071-09de",
       "previous": "4f2cc612-fb4f-11eb-a3c9-0242ac110002-2-2ae6-d935"
      },
      {
       "current": "1ff23e5a-053f-11ec-a3c9-0242ac110002-2-26b9-837d",
       "next": "386665fc-00cf-11ec-a3c9-0242ac110002-2-4071-09de",
       "previous": "4f2cc612-fb4f-11eb-a3c9-0242ac110002-2-2ae6-d935"
      },
      {
       "current": "1ff23e5a-053f-11ec-a3c9-0242ac110002-2-26b9-837d",
       "next": "386665fc-00cf-11ec-a3c9-0242ac110002-2-4071-09de",
       "previous": "4f2cc612-fb4f-11eb-a3c9-0242ac110002-2-2ae6-d935"
      },
      {
       "current": "1ff23e5a-053f-11ec-a3c9-0242ac110002-2-26b9-837d",
       "next": "386665fc-00cf-11ec-a3c9-0242ac110002-2-4071-09de",
       "previous": "4f2cc612-fb4f-11eb-a3c9-0242ac110002-2-2ae6-d935"
      },
      {
       "current": "1ff23e5a-053f-11ec-a3c9-0242ac110002-2-26b9-837d",
       "next": "386665fc-00cf-11ec-a3c9-0242ac110002-2-4071-09de",
       "previous": "4f2cc612-fb4f-11eb-a3c9-0242ac110002-2-2ae6-d935"
      },
      {
       "current": "1ff23e5a-053f-11ec-a3c9-0242ac110002-2-26b9-837d",
       "next": "386665fc-00cf-11ec-a3c9-0242ac110002-2-4071-09de",
       "previous": "4f2cc612-fb4f-11eb-a3c9-0242ac110002-2-2ae6-d935"
      },
      {
       "current": "1ff23e5a-053f-11ec-a3c9-0242ac110002-2-26b9-837d",
       "next": "386665fc-00cf-11ec-a3c9-0242ac110002-2-4071-09de",
       "previous": "4f2cc612-fb4f-11eb-a3c9-0242ac110002-2-2ae6-d935"
      },
      {
       "current": "1ff23e5a-053f-11ec-a3c9-0242ac110002-2-26b9-837d",
       "next": "386665fc-00cf-11ec-a3c9-0242ac110002-2-4071-09de",
       "previous": "4f2cc612-fb4f-11eb-a3c9-0242ac110002-2-2ae6-d935"
      },
      {
       "current": "1ff23e5a-053f-11ec-a3c9-0242ac110002-2-26b9-837d",
       "next": "386665fc-00cf-11ec-a3c9-0242ac110002-2-4071-09de",
       "previous": "4f2cc612-fb4f-11eb-a3c9-0242ac110002-2-2ae6-d935"
      },
      {
       "current": "1ff23e5a-053f-11ec-a3c9-0242ac110002-2-26b9-837d",
       "next": "386665fc-00cf-11ec-a3c9-0242ac110002-2-4071-09de",
       "previous": "4f2cc612-fb4f-11eb-a3c9-0242ac110002-2-2ae6-d935"
      },
      {
       "current": "1ff23e5a-053f-11ec-a3c9-0242ac110002-2-26b9-837d",
       "next": "386665fc-00cf-11ec-a3c9-0242ac110002-2-4071-09de",
       "previous": "4f2cc612-fb4f-11eb-a3c9-0242ac110002-2-2ae6-d935"
      },
      {
       "current": "1ff23e5a-053f-11ec-a3c9-0242ac110002-2-26b9-837d",
       "next": "386665fc-00cf-11ec-a3c9-0242ac110002-2-4071-09de",
       "previous": "4f2cc612-fb4f-11eb-a3c9-0242ac110002-2-2ae6-d935"
      },
      {
       "current": "1ff23e5a-053f-11ec-a3c9-0242ac110002-2-26b9-837d",
       "next": "386665fc-00cf-11ec-a3c9-0242ac110002-2-4071-09de",
       "previous": "4f2cc612-fb4f-11eb-a3c9-0242ac110002-2-2ae6-d935"
      },
      {
       "current": "1ff23e5a-053f-11ec-a3c9-0242ac110002-2-26b9-837d",
       "next": "386665fc-00cf-11ec-a3c9-0242ac110002-2-4071-09de",
       "previous": "4f2cc612-fb4f-11eb-a3c9-0242ac110002-2-2ae6-d935"
      },
      {
       "current": "1ff23e5a-053f-11ec-a3c9-0242ac110002-2-26b9-837d",
       "next": "386665fc-00cf-11ec-a3c9-0242ac110002-2-4071-09de",
       "previous": "4f2cc612-fb4f-11eb-a3c9-0242ac110002-2-2ae6-d935"
      },
      {
       "current": "1ff23e5a-053f-11ec-a3c9-0242ac110002-2-26b9-837d",
       "next": "386665fc-00cf-11ec-a3c9-0242ac110002-2-4071-09de",
       "previous": "4f2cc612-fb4f-11eb-a3c9-0242ac110002-2-2ae6-d935"
      },
      {
       "current": "1ff23e5a-053f-11ec-a3c9-0242ac110002-2-26b9-837d",
       "next": "386665fc-00cf-11ec-a3c9-0242ac110002-2-4071-09de",
       "previous": "4f2cc612-fb4f-11eb-a3c9-0242ac110002-2-2ae6-d935"
      },
      {
       "current": "1ff23e5a-053f-11ec-a3c9-0242ac110002-2-26b9-837d",
       "next": "386665fc-00cf-11ec-a3c9-0242ac110002-2-4071-09de",
       "previous": "4f2cc612-fb4f-11eb-a3c9-0242ac110002-2-2ae6-d935"
      },
      {
       "current": "1ff23e5a-053f-11ec-a3c9-0242ac110002-2-26b9-837d",
       "next": "386665fc-00cf-11ec-a3c9-0242ac110002-2-4071-09de",
       "previous": "4f2cc612-fb4f-11eb-a3c9-0242ac110002-2-2ae6-d935"
      },
      {
       "current": "1ff23e5a-053f-11ec-a3c9-0242ac110002-2-26b9-837d",
       "next": "386665fc-00cf-11ec-a3c9-0242ac110002-2-4071-09de",
       "previous": "4f2cc612-fb4f-11eb-a3c9-0242ac110002-2-2ae6-d935"
      },
      {
       "current": "1ff23e5a-053f-11ec-a3c9-0242ac110002-2-26b9-837d",
       "next": "386665fc-00cf-11ec-a3c9-0242ac110002-2-4071-09de",
       "previous": "4f2cc612-fb4f-11eb-a3c9-0242ac110002-2-2ae6-d935"
      },
      {
       "current": "1ff23e5a-053f-11ec-a3c9-0242ac110002-2-26b9-837d",
       "next": "1ff23e5a-053f-11ec-a3c9-0242ac110002-3-26b9-837d-2540",
       "previous": "4f2cc612-fb4f-11eb-a3c9-0242ac110002-2-2ae6-d935"
      },
      {
       "current": "d03ea128-0b3d-11ec-a5ab-02420a01001e",
       "next": "d03ea20e-0b3d-11ec-a5ab-02420a01001e",
       "previous": "d03ea038-0b3d-11ec-a5ab-02420a01001e"
      },
      {
       "current": "97f97822-0b3f-11ec-8ea2-02420a01001e",
       "next": "97f978fe-0b3f-11ec-8ea2-02420a01001e",
       "previous": "97f97750-0b3f-11ec-8ea2-02420a01001e"
      },
      {
       "current": "8c2430b6-0b7e-11ec-8636-02420a01001e",
       "next": "8c2431a6-0b7e-11ec-8636-02420a01001e",
       "previous": "8c242fc6-0b7e-11ec-8636-02420a01001e"
      },
      {
       "current": "0378f2fe-0b85-11ec-9aeb-02420a01001e-1-5e2d",
       "next": "0378f3e4-0b85-11ec-9aeb-02420a01001e",
       "previous": "0378f218-0b85-11ec-9aeb-02420a01001e"
      },
      {
       "current": "0378f2fe-0b85-11ec-9aeb-02420a01001e-2-5e2d-fe22",
       "next": "0378f3e4-0b85-11ec-9aeb-02420a01001e-1-1f51",
       "previous": "0378f218-0b85-11ec-9aeb-02420a01001e-1-0b5f"
      },
      {
       "current": "0378f2fe-0b85-11ec-9aeb-02420a01001e-3-5e2d-fe22-fadf",
       "next": "0378f3e4-0b85-11ec-9aeb-02420a01001e-2-1f51-d6cc",
       "previous": "0378f218-0b85-11ec-9aeb-02420a01001e-2-0b5f-0708"
      },
      {
       "current": "0378f2fe-0b85-11ec-9aeb-02420a01001e-4-5e2d-fe22-fadf-f527",
       "next": "0378f3e4-0b85-11ec-9aeb-02420a01001e-3-1f51-d6cc-82ce",
       "previous": "0378f218-0b85-11ec-9aeb-02420a01001e-3-0b5f-0708-7299"
      }
     ],
     "next": "0378f3e4-0b85-11ec-9aeb-02420a01001e-4-1f51-d6cc-82ce-c89d",
     "previous": "0378f218-0b85-11ec-9aeb-02420a01001e-4-0b5f-0708-7299-3e26"
    }
   },
   "source": [
    "#### MNIST実行の準備\n",
    "クラウド上に構築した TensorFlow 環境で、MNIST による認識を実行するための準備です。JupyterNotebook から ssh で、TensorFlow 環境を操作します。"
   ]
  },
  {
   "cell_type": "markdown",
   "metadata": {
    "lc_cell_meme": {
     "current": "0378f3e4-0b85-11ec-9aeb-02420a01001e-4-1f51-d6cc-82ce-c89d",
     "history": [
      {
       "current": "1ff23e5a-053f-11ec-a3c9-0242ac110002",
       "next": "1ff2404e-053f-11ec-a3c9-0242ac110002",
       "previous": "46486ba0-fb18-11eb-a3c9-0242ac110002"
      },
      {
       "current": "1ff23e5a-053f-11ec-a3c9-0242ac110002",
       "next": "386665fc-00cf-11ec-a3c9-0242ac110002",
       "previous": "46486ba0-fb18-11eb-a3c9-0242ac110002"
      },
      {
       "current": "1ff23e5a-053f-11ec-a3c9-0242ac110002-1-26b9",
       "next": "386665fc-00cf-11ec-a3c9-0242ac110002",
       "previous": "4f2cc612-fb4f-11eb-a3c9-0242ac110002"
      },
      {
       "current": "1ff23e5a-053f-11ec-a3c9-0242ac110002-2-26b9-837d",
       "next": "386665fc-00cf-11ec-a3c9-0242ac110002-1-4071",
       "previous": "4f2cc612-fb4f-11eb-a3c9-0242ac110002-1-2ae6"
      },
      {
       "current": "1ff23e5a-053f-11ec-a3c9-0242ac110002-2-26b9-837d",
       "next": "386665fc-00cf-11ec-a3c9-0242ac110002-2-4071-09de",
       "previous": "4f2cc612-fb4f-11eb-a3c9-0242ac110002-2-2ae6-d935"
      },
      {
       "current": "1ff23e5a-053f-11ec-a3c9-0242ac110002-2-26b9-837d",
       "next": "386665fc-00cf-11ec-a3c9-0242ac110002-2-4071-09de",
       "previous": "4f2cc612-fb4f-11eb-a3c9-0242ac110002-2-2ae6-d935"
      },
      {
       "current": "1ff23e5a-053f-11ec-a3c9-0242ac110002-2-26b9-837d",
       "next": "386665fc-00cf-11ec-a3c9-0242ac110002-2-4071-09de",
       "previous": "4f2cc612-fb4f-11eb-a3c9-0242ac110002-2-2ae6-d935"
      },
      {
       "current": "1ff23e5a-053f-11ec-a3c9-0242ac110002-2-26b9-837d",
       "next": "386665fc-00cf-11ec-a3c9-0242ac110002-2-4071-09de",
       "previous": "4f2cc612-fb4f-11eb-a3c9-0242ac110002-2-2ae6-d935"
      },
      {
       "current": "1ff23e5a-053f-11ec-a3c9-0242ac110002-3-26b9-837d-2540",
       "next": "386665fc-00cf-11ec-a3c9-0242ac110002-2-4071-09de",
       "previous": "4f2cc612-fb4f-11eb-a3c9-0242ac110002-2-2ae6-d935"
      },
      {
       "current": "1ff23e5a-053f-11ec-a3c9-0242ac110002-3-26b9-837d-2540",
       "next": "386665fc-00cf-11ec-a3c9-0242ac110002-2-4071-09de",
       "previous": "4f2cc612-fb4f-11eb-a3c9-0242ac110002-2-2ae6-d935"
      },
      {
       "current": "1ff23e5a-053f-11ec-a3c9-0242ac110002-3-26b9-837d-2540",
       "next": "386665fc-00cf-11ec-a3c9-0242ac110002-2-4071-09de",
       "previous": "4f2cc612-fb4f-11eb-a3c9-0242ac110002-2-2ae6-d935"
      },
      {
       "current": "1ff23e5a-053f-11ec-a3c9-0242ac110002-3-26b9-837d-2540",
       "next": "386665fc-00cf-11ec-a3c9-0242ac110002-2-4071-09de",
       "previous": "4f2cc612-fb4f-11eb-a3c9-0242ac110002-2-2ae6-d935"
      },
      {
       "current": "1ff23e5a-053f-11ec-a3c9-0242ac110002-3-26b9-837d-2540",
       "next": "386665fc-00cf-11ec-a3c9-0242ac110002-2-4071-09de",
       "previous": "4f2cc612-fb4f-11eb-a3c9-0242ac110002-2-2ae6-d935"
      },
      {
       "current": "1ff23e5a-053f-11ec-a3c9-0242ac110002-3-26b9-837d-2540",
       "next": "386665fc-00cf-11ec-a3c9-0242ac110002-2-4071-09de",
       "previous": "4f2cc612-fb4f-11eb-a3c9-0242ac110002-2-2ae6-d935"
      },
      {
       "current": "1ff23e5a-053f-11ec-a3c9-0242ac110002-3-26b9-837d-2540",
       "next": "386665fc-00cf-11ec-a3c9-0242ac110002-2-4071-09de",
       "previous": "4f2cc612-fb4f-11eb-a3c9-0242ac110002-2-2ae6-d935"
      },
      {
       "current": "1ff23e5a-053f-11ec-a3c9-0242ac110002-3-26b9-837d-2540",
       "next": "386665fc-00cf-11ec-a3c9-0242ac110002-2-4071-09de",
       "previous": "4f2cc612-fb4f-11eb-a3c9-0242ac110002-2-2ae6-d935"
      },
      {
       "current": "1ff23e5a-053f-11ec-a3c9-0242ac110002-3-26b9-837d-2540",
       "next": "386665fc-00cf-11ec-a3c9-0242ac110002-2-4071-09de",
       "previous": "4f2cc612-fb4f-11eb-a3c9-0242ac110002-2-2ae6-d935"
      },
      {
       "current": "1ff23e5a-053f-11ec-a3c9-0242ac110002-3-26b9-837d-2540",
       "next": "386665fc-00cf-11ec-a3c9-0242ac110002-2-4071-09de",
       "previous": "4f2cc612-fb4f-11eb-a3c9-0242ac110002-2-2ae6-d935"
      },
      {
       "current": "1ff23e5a-053f-11ec-a3c9-0242ac110002-3-26b9-837d-2540",
       "next": "386665fc-00cf-11ec-a3c9-0242ac110002-2-4071-09de",
       "previous": "4f2cc612-fb4f-11eb-a3c9-0242ac110002-2-2ae6-d935"
      },
      {
       "current": "1ff23e5a-053f-11ec-a3c9-0242ac110002-3-26b9-837d-2540",
       "next": "386665fc-00cf-11ec-a3c9-0242ac110002-2-4071-09de",
       "previous": "4f2cc612-fb4f-11eb-a3c9-0242ac110002-2-2ae6-d935"
      },
      {
       "current": "1ff23e5a-053f-11ec-a3c9-0242ac110002-3-26b9-837d-2540",
       "next": "386665fc-00cf-11ec-a3c9-0242ac110002-2-4071-09de",
       "previous": "4f2cc612-fb4f-11eb-a3c9-0242ac110002-2-2ae6-d935"
      },
      {
       "current": "1ff23e5a-053f-11ec-a3c9-0242ac110002-3-26b9-837d-2540",
       "next": "386665fc-00cf-11ec-a3c9-0242ac110002-2-4071-09de",
       "previous": "4f2cc612-fb4f-11eb-a3c9-0242ac110002-2-2ae6-d935"
      },
      {
       "current": "1ff23e5a-053f-11ec-a3c9-0242ac110002-3-26b9-837d-2540",
       "next": "386665fc-00cf-11ec-a3c9-0242ac110002-2-4071-09de",
       "previous": "4f2cc612-fb4f-11eb-a3c9-0242ac110002-2-2ae6-d935"
      },
      {
       "current": "1ff23e5a-053f-11ec-a3c9-0242ac110002-3-26b9-837d-2540",
       "next": "386665fc-00cf-11ec-a3c9-0242ac110002-2-4071-09de",
       "previous": "4f2cc612-fb4f-11eb-a3c9-0242ac110002-2-2ae6-d935"
      },
      {
       "current": "1ff23e5a-053f-11ec-a3c9-0242ac110002-3-26b9-837d-2540",
       "next": "386665fc-00cf-11ec-a3c9-0242ac110002-2-4071-09de",
       "previous": "4f2cc612-fb4f-11eb-a3c9-0242ac110002-2-2ae6-d935"
      },
      {
       "current": "1ff23e5a-053f-11ec-a3c9-0242ac110002-3-26b9-837d-2540",
       "next": "386665fc-00cf-11ec-a3c9-0242ac110002-2-4071-09de",
       "previous": "4f2cc612-fb4f-11eb-a3c9-0242ac110002-2-2ae6-d935"
      },
      {
       "current": "1ff23e5a-053f-11ec-a3c9-0242ac110002-3-26b9-837d-2540",
       "next": "386665fc-00cf-11ec-a3c9-0242ac110002-2-4071-09de",
       "previous": "4f2cc612-fb4f-11eb-a3c9-0242ac110002-2-2ae6-d935"
      },
      {
       "current": "1ff23e5a-053f-11ec-a3c9-0242ac110002-3-26b9-837d-2540",
       "next": "386665fc-00cf-11ec-a3c9-0242ac110002-2-4071-09de",
       "previous": "4f2cc612-fb4f-11eb-a3c9-0242ac110002-2-2ae6-d935"
      },
      {
       "current": "1ff23e5a-053f-11ec-a3c9-0242ac110002-3-26b9-837d-2540",
       "next": "386665fc-00cf-11ec-a3c9-0242ac110002-2-4071-09de",
       "previous": "4f2cc612-fb4f-11eb-a3c9-0242ac110002-2-2ae6-d935"
      },
      {
       "current": "1ff23e5a-053f-11ec-a3c9-0242ac110002-3-26b9-837d-2540",
       "next": "386665fc-00cf-11ec-a3c9-0242ac110002-2-4071-09de",
       "previous": "4f2cc612-fb4f-11eb-a3c9-0242ac110002-2-2ae6-d935"
      },
      {
       "current": "1ff23e5a-053f-11ec-a3c9-0242ac110002-3-26b9-837d-2540",
       "next": "386665fc-00cf-11ec-a3c9-0242ac110002-2-4071-09de",
       "previous": "4f2cc612-fb4f-11eb-a3c9-0242ac110002-2-2ae6-d935"
      },
      {
       "current": "1ff23e5a-053f-11ec-a3c9-0242ac110002-3-26b9-837d-2540",
       "next": "386665fc-00cf-11ec-a3c9-0242ac110002-2-4071-09de",
       "previous": "4f2cc612-fb4f-11eb-a3c9-0242ac110002-2-2ae6-d935"
      },
      {
       "current": "1ff23e5a-053f-11ec-a3c9-0242ac110002-3-26b9-837d-2540",
       "next": "386665fc-00cf-11ec-a3c9-0242ac110002-2-4071-09de",
       "previous": "4f2cc612-fb4f-11eb-a3c9-0242ac110002-2-2ae6-d935"
      },
      {
       "current": "1ff23e5a-053f-11ec-a3c9-0242ac110002-3-26b9-837d-2540",
       "next": "386665fc-00cf-11ec-a3c9-0242ac110002-2-4071-09de",
       "previous": "4f2cc612-fb4f-11eb-a3c9-0242ac110002-2-2ae6-d935"
      },
      {
       "current": "1ff23e5a-053f-11ec-a3c9-0242ac110002-3-26b9-837d-2540",
       "next": "386665fc-00cf-11ec-a3c9-0242ac110002-2-4071-09de",
       "previous": "4f2cc612-fb4f-11eb-a3c9-0242ac110002-2-2ae6-d935"
      },
      {
       "current": "1ff23e5a-053f-11ec-a3c9-0242ac110002-3-26b9-837d-2540",
       "next": "386665fc-00cf-11ec-a3c9-0242ac110002-2-4071-09de",
       "previous": "4f2cc612-fb4f-11eb-a3c9-0242ac110002-2-2ae6-d935"
      },
      {
       "current": "1ff23e5a-053f-11ec-a3c9-0242ac110002-3-26b9-837d-2540",
       "next": "386665fc-00cf-11ec-a3c9-0242ac110002-2-4071-09de",
       "previous": "4f2cc612-fb4f-11eb-a3c9-0242ac110002-2-2ae6-d935"
      },
      {
       "current": "1ff23e5a-053f-11ec-a3c9-0242ac110002-3-26b9-837d-2540",
       "next": "386665fc-00cf-11ec-a3c9-0242ac110002-2-4071-09de",
       "previous": "4f2cc612-fb4f-11eb-a3c9-0242ac110002-2-2ae6-d935"
      },
      {
       "current": "1ff23e5a-053f-11ec-a3c9-0242ac110002-3-26b9-837d-2540",
       "next": "386665fc-00cf-11ec-a3c9-0242ac110002-2-4071-09de",
       "previous": "4f2cc612-fb4f-11eb-a3c9-0242ac110002-2-2ae6-d935"
      },
      {
       "current": "1ff23e5a-053f-11ec-a3c9-0242ac110002-3-26b9-837d-2540",
       "next": "386665fc-00cf-11ec-a3c9-0242ac110002-2-4071-09de",
       "previous": "1ff23e5a-053f-11ec-a3c9-0242ac110002-2-26b9-837d"
      },
      {
       "current": "d03ea20e-0b3d-11ec-a5ab-02420a01001e",
       "next": "d03ea308-0b3d-11ec-a5ab-02420a01001e",
       "previous": "d03ea128-0b3d-11ec-a5ab-02420a01001e"
      },
      {
       "current": "97f978fe-0b3f-11ec-8ea2-02420a01001e",
       "next": "97f979d0-0b3f-11ec-8ea2-02420a01001e",
       "previous": "97f97822-0b3f-11ec-8ea2-02420a01001e"
      },
      {
       "current": "8c2431a6-0b7e-11ec-8636-02420a01001e",
       "next": "8c243296-0b7e-11ec-8636-02420a01001e",
       "previous": "8c2430b6-0b7e-11ec-8636-02420a01001e"
      },
      {
       "current": "0378f3e4-0b85-11ec-9aeb-02420a01001e-1-1f51",
       "next": "0378f4ca-0b85-11ec-9aeb-02420a01001e",
       "previous": "0378f2fe-0b85-11ec-9aeb-02420a01001e"
      },
      {
       "current": "0378f3e4-0b85-11ec-9aeb-02420a01001e-2-1f51-d6cc",
       "next": "0378f4ca-0b85-11ec-9aeb-02420a01001e-1-a9b3",
       "previous": "0378f2fe-0b85-11ec-9aeb-02420a01001e-1-5e2d"
      },
      {
       "current": "0378f3e4-0b85-11ec-9aeb-02420a01001e-3-1f51-d6cc-82ce",
       "next": "0378f4ca-0b85-11ec-9aeb-02420a01001e-2-a9b3-e61e",
       "previous": "0378f2fe-0b85-11ec-9aeb-02420a01001e-2-5e2d-fe22"
      },
      {
       "current": "0378f3e4-0b85-11ec-9aeb-02420a01001e-4-1f51-d6cc-82ce-c89d",
       "next": "0378f4ca-0b85-11ec-9aeb-02420a01001e-3-a9b3-e61e-7c30",
       "previous": "0378f2fe-0b85-11ec-9aeb-02420a01001e-3-5e2d-fe22-fadf"
      }
     ],
     "next": "0378f4ca-0b85-11ec-9aeb-02420a01001e-4-a9b3-e61e-7c30-e0c8",
     "previous": "0378f2fe-0b85-11ec-9aeb-02420a01001e-4-5e2d-fe22-fadf-f527"
    }
   },
   "source": [
    "MNIST による認識実行で必要なモジュールの TensorFlow 環境へのインストール、ファイル名とパスの設定、VCノード上の作業ディレクトリの作成、VCノード上の作業実行スクリプトのVCノードへの転送を行います。"
   ]
  },
  {
   "cell_type": "code",
   "execution_count": null,
   "metadata": {
    "lc_cell_meme": {
     "current": "0378f4ca-0b85-11ec-9aeb-02420a01001e-4-a9b3-e61e-7c30-e0c8",
     "history": [
      {
       "current": "386665fc-00cf-11ec-a3c9-0242ac110002",
       "next": "29e5f386-fb42-11eb-a3c9-0242ac110002",
       "previous": "46486ba0-fb18-11eb-a3c9-0242ac110002"
      },
      {
       "current": "386665fc-00cf-11ec-a3c9-0242ac110002",
       "next": "2d15c684-00f7-11ec-a3c9-0242ac110002",
       "previous": "46486ba0-fb18-11eb-a3c9-0242ac110002"
      },
      {
       "current": "386665fc-00cf-11ec-a3c9-0242ac110002",
       "next": "2d15c684-00f7-11ec-a3c9-0242ac110002",
       "previous": "1ff2404e-053f-11ec-a3c9-0242ac110002"
      },
      {
       "current": "386665fc-00cf-11ec-a3c9-0242ac110002",
       "next": "2d15c684-00f7-11ec-a3c9-0242ac110002",
       "previous": "1ff23e5a-053f-11ec-a3c9-0242ac110002"
      },
      {
       "current": "386665fc-00cf-11ec-a3c9-0242ac110002",
       "next": "af07bcd2-053f-11ec-a3c9-0242ac110002",
       "previous": "1ff23e5a-053f-11ec-a3c9-0242ac110002"
      },
      {
       "current": "386665fc-00cf-11ec-a3c9-0242ac110002",
       "next": "4f2cc612-fb4f-11eb-a3c9-0242ac110002",
       "previous": "1ff23e5a-053f-11ec-a3c9-0242ac110002"
      },
      {
       "current": "386665fc-00cf-11ec-a3c9-0242ac110002",
       "next": "ab316110-0546-11ec-a3c9-0242ac110002",
       "previous": "1ff23e5a-053f-11ec-a3c9-0242ac110002"
      },
      {
       "current": "386665fc-00cf-11ec-a3c9-0242ac110002-1-4071",
       "next": "af07bcd2-053f-11ec-a3c9-0242ac110002",
       "previous": "1ff23e5a-053f-11ec-a3c9-0242ac110002"
      },
      {
       "current": "386665fc-00cf-11ec-a3c9-0242ac110002-2-4071-09de",
       "next": "af07bcd2-053f-11ec-a3c9-0242ac110002-1-31c3",
       "previous": "1ff23e5a-053f-11ec-a3c9-0242ac110002-1-26b9"
      },
      {
       "current": "386665fc-00cf-11ec-a3c9-0242ac110002-2-4071-09de",
       "next": "af07bcd2-053f-11ec-a3c9-0242ac110002-2-31c3-b695",
       "previous": "1ff23e5a-053f-11ec-a3c9-0242ac110002-2-26b9-837d"
      },
      {
       "current": "386665fc-00cf-11ec-a3c9-0242ac110002-2-4071-09de",
       "next": "af07bcd2-053f-11ec-a3c9-0242ac110002-2-31c3-b695",
       "previous": "1ff23e5a-053f-11ec-a3c9-0242ac110002-2-26b9-837d"
      },
      {
       "current": "386665fc-00cf-11ec-a3c9-0242ac110002-2-4071-09de",
       "next": "af07bcd2-053f-11ec-a3c9-0242ac110002-2-31c3-b695",
       "previous": "1ff23e5a-053f-11ec-a3c9-0242ac110002-2-26b9-837d"
      },
      {
       "current": "386665fc-00cf-11ec-a3c9-0242ac110002-2-4071-09de",
       "next": "af07bcd2-053f-11ec-a3c9-0242ac110002-2-31c3-b695",
       "previous": "1ff23e5a-053f-11ec-a3c9-0242ac110002-2-26b9-837d"
      },
      {
       "current": "386665fc-00cf-11ec-a3c9-0242ac110002-2-4071-09de",
       "next": "af07bcd2-053f-11ec-a3c9-0242ac110002-2-31c3-b695",
       "previous": "1ff23e5a-053f-11ec-a3c9-0242ac110002-2-26b9-837d"
      },
      {
       "current": "386665fc-00cf-11ec-a3c9-0242ac110002-2-4071-09de",
       "next": "af07bcd2-053f-11ec-a3c9-0242ac110002-2-31c3-b695",
       "previous": "1ff23e5a-053f-11ec-a3c9-0242ac110002-2-26b9-837d"
      },
      {
       "current": "386665fc-00cf-11ec-a3c9-0242ac110002-2-4071-09de",
       "next": "af07bcd2-053f-11ec-a3c9-0242ac110002-2-31c3-b695",
       "previous": "1ff23e5a-053f-11ec-a3c9-0242ac110002-2-26b9-837d"
      },
      {
       "current": "386665fc-00cf-11ec-a3c9-0242ac110002-2-4071-09de",
       "next": "af07bcd2-053f-11ec-a3c9-0242ac110002-2-31c3-b695",
       "previous": "1ff23e5a-053f-11ec-a3c9-0242ac110002-2-26b9-837d"
      },
      {
       "current": "386665fc-00cf-11ec-a3c9-0242ac110002-2-4071-09de",
       "next": "af07bcd2-053f-11ec-a3c9-0242ac110002-2-31c3-b695",
       "previous": "1ff23e5a-053f-11ec-a3c9-0242ac110002-2-26b9-837d"
      },
      {
       "current": "386665fc-00cf-11ec-a3c9-0242ac110002-2-4071-09de",
       "next": "af07bcd2-053f-11ec-a3c9-0242ac110002-2-31c3-b695",
       "previous": "1ff23e5a-053f-11ec-a3c9-0242ac110002-2-26b9-837d"
      },
      {
       "current": "386665fc-00cf-11ec-a3c9-0242ac110002-2-4071-09de",
       "next": "af07bcd2-053f-11ec-a3c9-0242ac110002-2-31c3-b695",
       "previous": "1ff23e5a-053f-11ec-a3c9-0242ac110002-2-26b9-837d"
      },
      {
       "current": "386665fc-00cf-11ec-a3c9-0242ac110002-2-4071-09de",
       "next": "af07bcd2-053f-11ec-a3c9-0242ac110002-2-31c3-b695",
       "previous": "1ff23e5a-053f-11ec-a3c9-0242ac110002-2-26b9-837d"
      },
      {
       "current": "386665fc-00cf-11ec-a3c9-0242ac110002-2-4071-09de",
       "next": "af07bcd2-053f-11ec-a3c9-0242ac110002-2-31c3-b695",
       "previous": "1ff23e5a-053f-11ec-a3c9-0242ac110002-2-26b9-837d"
      },
      {
       "current": "386665fc-00cf-11ec-a3c9-0242ac110002-2-4071-09de",
       "next": "af07bcd2-053f-11ec-a3c9-0242ac110002-2-31c3-b695",
       "previous": "1ff23e5a-053f-11ec-a3c9-0242ac110002-2-26b9-837d"
      },
      {
       "current": "386665fc-00cf-11ec-a3c9-0242ac110002-2-4071-09de",
       "next": "af07bcd2-053f-11ec-a3c9-0242ac110002-2-31c3-b695",
       "previous": "1ff23e5a-053f-11ec-a3c9-0242ac110002-2-26b9-837d"
      },
      {
       "current": "386665fc-00cf-11ec-a3c9-0242ac110002-2-4071-09de",
       "next": "af07bcd2-053f-11ec-a3c9-0242ac110002-2-31c3-b695",
       "previous": "1ff23e5a-053f-11ec-a3c9-0242ac110002-2-26b9-837d"
      },
      {
       "current": "386665fc-00cf-11ec-a3c9-0242ac110002-2-4071-09de",
       "next": "af07bcd2-053f-11ec-a3c9-0242ac110002-2-31c3-b695",
       "previous": "1ff23e5a-053f-11ec-a3c9-0242ac110002-2-26b9-837d"
      },
      {
       "current": "386665fc-00cf-11ec-a3c9-0242ac110002-2-4071-09de",
       "next": "af07bcd2-053f-11ec-a3c9-0242ac110002-2-31c3-b695",
       "previous": "1ff23e5a-053f-11ec-a3c9-0242ac110002-2-26b9-837d"
      },
      {
       "current": "386665fc-00cf-11ec-a3c9-0242ac110002-2-4071-09de",
       "next": "af07bcd2-053f-11ec-a3c9-0242ac110002-2-31c3-b695",
       "previous": "1ff23e5a-053f-11ec-a3c9-0242ac110002-2-26b9-837d"
      },
      {
       "current": "386665fc-00cf-11ec-a3c9-0242ac110002-2-4071-09de",
       "next": "af07bcd2-053f-11ec-a3c9-0242ac110002-2-31c3-b695",
       "previous": "1ff23e5a-053f-11ec-a3c9-0242ac110002-2-26b9-837d"
      },
      {
       "current": "386665fc-00cf-11ec-a3c9-0242ac110002-2-4071-09de",
       "next": "af07bcd2-053f-11ec-a3c9-0242ac110002-2-31c3-b695",
       "previous": "1ff23e5a-053f-11ec-a3c9-0242ac110002-2-26b9-837d"
      },
      {
       "current": "386665fc-00cf-11ec-a3c9-0242ac110002-2-4071-09de",
       "next": "af07bcd2-053f-11ec-a3c9-0242ac110002-2-31c3-b695",
       "previous": "1ff23e5a-053f-11ec-a3c9-0242ac110002-2-26b9-837d"
      },
      {
       "current": "386665fc-00cf-11ec-a3c9-0242ac110002-2-4071-09de",
       "next": "af07bcd2-053f-11ec-a3c9-0242ac110002-2-31c3-b695",
       "previous": "1ff23e5a-053f-11ec-a3c9-0242ac110002-2-26b9-837d"
      },
      {
       "current": "386665fc-00cf-11ec-a3c9-0242ac110002-2-4071-09de",
       "next": "af07bcd2-053f-11ec-a3c9-0242ac110002-2-31c3-b695",
       "previous": "1ff23e5a-053f-11ec-a3c9-0242ac110002-2-26b9-837d"
      },
      {
       "current": "386665fc-00cf-11ec-a3c9-0242ac110002-2-4071-09de",
       "next": "af07bcd2-053f-11ec-a3c9-0242ac110002-2-31c3-b695",
       "previous": "1ff23e5a-053f-11ec-a3c9-0242ac110002-2-26b9-837d"
      },
      {
       "current": "386665fc-00cf-11ec-a3c9-0242ac110002-2-4071-09de",
       "next": "af07bcd2-053f-11ec-a3c9-0242ac110002-2-31c3-b695",
       "previous": "1ff23e5a-053f-11ec-a3c9-0242ac110002-2-26b9-837d"
      },
      {
       "current": "386665fc-00cf-11ec-a3c9-0242ac110002-2-4071-09de",
       "next": "af07bcd2-053f-11ec-a3c9-0242ac110002-2-31c3-b695",
       "previous": "1ff23e5a-053f-11ec-a3c9-0242ac110002-2-26b9-837d"
      },
      {
       "current": "386665fc-00cf-11ec-a3c9-0242ac110002-2-4071-09de",
       "next": "af07bcd2-053f-11ec-a3c9-0242ac110002-2-31c3-b695",
       "previous": "1ff23e5a-053f-11ec-a3c9-0242ac110002-2-26b9-837d"
      },
      {
       "current": "386665fc-00cf-11ec-a3c9-0242ac110002-2-4071-09de",
       "next": "af07bcd2-053f-11ec-a3c9-0242ac110002-2-31c3-b695",
       "previous": "1ff23e5a-053f-11ec-a3c9-0242ac110002-2-26b9-837d"
      },
      {
       "current": "386665fc-00cf-11ec-a3c9-0242ac110002-2-4071-09de",
       "next": "af07bcd2-053f-11ec-a3c9-0242ac110002-2-31c3-b695",
       "previous": "1ff23e5a-053f-11ec-a3c9-0242ac110002-2-26b9-837d"
      },
      {
       "current": "386665fc-00cf-11ec-a3c9-0242ac110002-2-4071-09de",
       "next": "af07bcd2-053f-11ec-a3c9-0242ac110002-2-31c3-b695",
       "previous": "1ff23e5a-053f-11ec-a3c9-0242ac110002-2-26b9-837d"
      },
      {
       "current": "386665fc-00cf-11ec-a3c9-0242ac110002-2-4071-09de",
       "next": "af07bcd2-053f-11ec-a3c9-0242ac110002-2-31c3-b695",
       "previous": "1ff23e5a-053f-11ec-a3c9-0242ac110002-2-26b9-837d"
      },
      {
       "current": "386665fc-00cf-11ec-a3c9-0242ac110002-2-4071-09de",
       "next": "af07bcd2-053f-11ec-a3c9-0242ac110002-2-31c3-b695",
       "previous": "1ff23e5a-053f-11ec-a3c9-0242ac110002-2-26b9-837d"
      },
      {
       "current": "386665fc-00cf-11ec-a3c9-0242ac110002-2-4071-09de",
       "next": "af07bcd2-053f-11ec-a3c9-0242ac110002-2-31c3-b695",
       "previous": "1ff23e5a-053f-11ec-a3c9-0242ac110002-2-26b9-837d"
      },
      {
       "current": "386665fc-00cf-11ec-a3c9-0242ac110002-2-4071-09de",
       "next": "af07bcd2-053f-11ec-a3c9-0242ac110002-2-31c3-b695",
       "previous": "1ff23e5a-053f-11ec-a3c9-0242ac110002-3-26b9-837d-2540"
      },
      {
       "current": "d03ea308-0b3d-11ec-a5ab-02420a01001e",
       "next": "d03ea3f8-0b3d-11ec-a5ab-02420a01001e",
       "previous": "d03ea20e-0b3d-11ec-a5ab-02420a01001e"
      },
      {
       "current": "97f979d0-0b3f-11ec-8ea2-02420a01001e",
       "next": "97f97ab6-0b3f-11ec-8ea2-02420a01001e",
       "previous": "97f978fe-0b3f-11ec-8ea2-02420a01001e"
      },
      {
       "current": "8c243296-0b7e-11ec-8636-02420a01001e",
       "next": "8c24339a-0b7e-11ec-8636-02420a01001e",
       "previous": "8c2431a6-0b7e-11ec-8636-02420a01001e"
      },
      {
       "current": "0378f4ca-0b85-11ec-9aeb-02420a01001e-1-a9b3",
       "next": "0378f5ba-0b85-11ec-9aeb-02420a01001e",
       "previous": "0378f3e4-0b85-11ec-9aeb-02420a01001e"
      },
      {
       "current": "0378f4ca-0b85-11ec-9aeb-02420a01001e-2-a9b3-e61e",
       "next": "0378f5ba-0b85-11ec-9aeb-02420a01001e-1-ea8f",
       "previous": "0378f3e4-0b85-11ec-9aeb-02420a01001e-1-1f51"
      },
      {
       "current": "0378f4ca-0b85-11ec-9aeb-02420a01001e-3-a9b3-e61e-7c30",
       "next": "0378f5ba-0b85-11ec-9aeb-02420a01001e-2-ea8f-aad3",
       "previous": "0378f3e4-0b85-11ec-9aeb-02420a01001e-2-1f51-d6cc"
      },
      {
       "current": "0378f4ca-0b85-11ec-9aeb-02420a01001e-4-a9b3-e61e-7c30-e0c8",
       "next": "0378f5ba-0b85-11ec-9aeb-02420a01001e-3-ea8f-aad3-30cc",
       "previous": "0378f3e4-0b85-11ec-9aeb-02420a01001e-3-1f51-d6cc-82ce"
      }
     ],
     "next": "0378f5ba-0b85-11ec-9aeb-02420a01001e-4-ea8f-aad3-30cc-a3ca",
     "previous": "0378f3e4-0b85-11ec-9aeb-02420a01001e-4-1f51-d6cc-82ce-c89d"
    },
    "lc_wrapper": {
     "log_history": [
      "/notebooks/notebook/SAGA_home/hands-on/OpenHPC-v2-handson/.log/20210819/20210819-232114-0619.log",
      "/notebooks/notebook/SAGA_home/hands-on/OpenHPC-v2-handson/.log/20210819/20210819-232953-0206.log",
      "/notebooks/notebook/SAGA_home/hands-on/OpenHPC-v2-handson/.log/20210819/20210819-233136-0746.log",
      "/notebooks/notebook/SAGA_home/hands-on/OpenHPC-v2-handson/.log/20210823/20210823-153635-0222.log",
      "/notebooks/notebook/SAGA_home/hands-on/OpenHPC-v2-handson/.log/20210823/20210823-153755-0780.log",
      "/notebooks/notebook/SAGA_home/hands-on/OpenHPC-v2-handson/.log/20210823/20210823-162137-0895.log",
      "/notebooks/notebook/SAGA_home/hands-on/OpenHPC-v2-handson/.log/20210823/20210823-180749-0707.log",
      "/notebooks/notebook/SAGA_home/hands-on/OpenHPC-v2-handson/.log/20210824/20210824-111708-0677.log",
      "/notebooks/notebook/SAGA_home/hands-on/OpenHPC-v2-handson/.log/20210824/20210824-160355-0059.log",
      "/notebooks/notebook/SAGA_home/hands-on/OpenHPC-v2-handson/.log/20210825/20210825-111444-0295.log",
      "/notebooks/notebook/SAGA_home/hands-on/OpenHPC-v2-handson/.log/20210825/20210825-134922-0407.log",
      "/notebooks/notebook/SAGA_home/hands-on/OpenHPC-v2-handson/.log/20210826/20210826-004925-0084.log",
      "/notebooks/notebook/SAGA_home/hands-on/OpenHPC-v2-handson/.log/20210827/20210827-150349-0940.log",
      "/notebooks/notebook/SAGA_home/hands-on/OpenHPC-v2-handson/.log/20210828/20210828-010812-0841.log",
      "/notebooks/notebook/SAGA_home/hands-on/OpenHPC-v2-handson/.log/20210829/20210829-014427-0297.log",
      "/notebooks/notebook/SAGA_home/hands-on/OpenHPC-v2-handson/.log/20210829/20210829-020857-0201.log",
      "/notebooks/notebook/SAGA_home/hands-on/OpenHPC-v2-handson/.log/20210829/20210829-110022-0263.log",
      "/notebooks/notebook/SAGA_home/hands-on/OpenHPC-v2-handson/.log/20210829/20210829-142619-0909.log",
      "/notebooks/notebook/SAGA_home/hands-on/MNIST_handson/.log/20210829/20210829-233610-0688.log",
      "/notebooks/notebook/SAGA_home/hands-on/MNIST_handson/.log/20210830/20210830-002440-0994.log",
      "/notebooks/notebook/SAGA_home/hands-on/MNIST_handson/.log/20210830/20210830-140234-0595.log",
      "/notebooks/notebook/SAGA_home/hands-on/MNIST_handson/.log/20210830/20210830-154924-0316.log",
      "/home/user513xb92482/hands-on/vcp-tutorial/.log/20210901/20210901-140708-0633.log",
      "/home/user513xb92482/hands-on/vcp-tutorial/.log/20210902/20210902-213317-0329.log",
      "/home/user513xb92482/hands-on/vcp-tutorial/.log/20210903/20210903-103642-0700.log",
      "/home/user513xb92482/hands-on/vcp-tutorial/.log/20210903/20210903-115211-0799.log",
      "/home/user513xb92482/hands-on/vcp-tutorial/.log/20210903/20210903-160502-0906.log",
      "/notebooks/notebook/SAGA_home/hands-on/hands-on.513/vcp-tutorial/.log/20210910/20210910-105935-0148.log",
      "/notebooks/notebook/SAGA_home/hands-on/hands-on.513/vcp-tutorial/OpenHPC-MNIST/.log/20210910/20210910-165231-0049.log",
      "/notebooks/notebook/SAGA_home/210903.handson_cloudweek_2021/Deriver/2109.Recog_with_OpenHPC_template/2.Recognition_system/.log/20210914/20210914-144630-0889.log"
     ]
    }
   },
   "outputs": [],
   "source": [
    "# 必要なモジュールのインストール\n",
    "!ssh {ssh_opts_user} {target} docker exec -t -u {user} tensorflow-{user} pip install pillow\n",
    "!ssh {ssh_opts_user} {target} docker exec -t -u {user} tensorflow-{user} pip install matplotlib\n",
    "\n",
    "# ファイル名、パスの設定\n",
    "scripts = 'scripts'             # VCノードで実行するスクリプトを格納しているディレクトリ（Jupyter上）\n",
    "model_dir  = 'data'             # 学習済みモデル・重みファイルを格納しているディレクトリ（Jupyter上）\n",
    "model_file = 'saved_model.tgz'  # 学習済みモデル・重みファイル名（Jupyter、VCノード共通）\n",
    "work_dir = 'tensorflow'         # VCノード上の作業ディレクトリ名（VCノードのTensorFlowユーザホーム上）\n",
    "img_file = f'{model_dir}/base64_img.b64'  # フリーハンド入力した数字を格納するイメージファイル名（Jupyter上）\n",
    "\n",
    "# VCノード上の作業ディレクトリの作成\n",
    "!ssh {ssh_opts_user} {target} mkdir -p {work_dir}\n",
    "\n",
    "# VCノードで実行するスクリプトの転送\n",
    "!scp {ssh_opts_user} -qp {scripts}/*.py {target}:{work_dir}"
   ]
  },
  {
   "cell_type": "markdown",
   "metadata": {
    "lc_cell_meme": {
     "current": "0378f5ba-0b85-11ec-9aeb-02420a01001e-4-ea8f-aad3-30cc-a3ca",
     "history": [
      {
       "current": "af07bcd2-053f-11ec-a3c9-0242ac110002",
       "next": "2d15c684-00f7-11ec-a3c9-0242ac110002",
       "previous": "386665fc-00cf-11ec-a3c9-0242ac110002"
      },
      {
       "current": "af07bcd2-053f-11ec-a3c9-0242ac110002",
       "next": "2d15c684-00f7-11ec-a3c9-0242ac110002",
       "previous": "4f2cc612-fb4f-11eb-a3c9-0242ac110002"
      },
      {
       "current": "af07bcd2-053f-11ec-a3c9-0242ac110002",
       "next": "2d15c684-00f7-11ec-a3c9-0242ac110002",
       "previous": "ab316110-0546-11ec-a3c9-0242ac110002"
      },
      {
       "current": "af07bcd2-053f-11ec-a3c9-0242ac110002-1-31c3",
       "next": "2d15c684-00f7-11ec-a3c9-0242ac110002",
       "previous": "386665fc-00cf-11ec-a3c9-0242ac110002"
      },
      {
       "current": "af07bcd2-053f-11ec-a3c9-0242ac110002-2-31c3-b695",
       "next": "2d15c684-00f7-11ec-a3c9-0242ac110002-1-f582",
       "previous": "386665fc-00cf-11ec-a3c9-0242ac110002-1-4071"
      },
      {
       "current": "af07bcd2-053f-11ec-a3c9-0242ac110002-2-31c3-b695",
       "next": "2d15c684-00f7-11ec-a3c9-0242ac110002-2-f582-6223",
       "previous": "386665fc-00cf-11ec-a3c9-0242ac110002-2-4071-09de"
      },
      {
       "current": "af07bcd2-053f-11ec-a3c9-0242ac110002-2-31c3-b695",
       "next": "2d15c684-00f7-11ec-a3c9-0242ac110002-2-f582-6223",
       "previous": "386665fc-00cf-11ec-a3c9-0242ac110002-2-4071-09de"
      },
      {
       "current": "d03ea3f8-0b3d-11ec-a5ab-02420a01001e",
       "next": "d03ea4e8-0b3d-11ec-a5ab-02420a01001e",
       "previous": "d03ea308-0b3d-11ec-a5ab-02420a01001e"
      },
      {
       "current": "97f97ab6-0b3f-11ec-8ea2-02420a01001e",
       "next": "97f97b88-0b3f-11ec-8ea2-02420a01001e",
       "previous": "97f979d0-0b3f-11ec-8ea2-02420a01001e"
      },
      {
       "current": "8c24339a-0b7e-11ec-8636-02420a01001e",
       "next": "8c24348a-0b7e-11ec-8636-02420a01001e",
       "previous": "8c243296-0b7e-11ec-8636-02420a01001e"
      },
      {
       "current": "0378f5ba-0b85-11ec-9aeb-02420a01001e-1-ea8f",
       "next": "0378f6aa-0b85-11ec-9aeb-02420a01001e",
       "previous": "0378f4ca-0b85-11ec-9aeb-02420a01001e"
      },
      {
       "current": "0378f5ba-0b85-11ec-9aeb-02420a01001e-2-ea8f-aad3",
       "next": "0378f6aa-0b85-11ec-9aeb-02420a01001e-1-5bf9",
       "previous": "0378f4ca-0b85-11ec-9aeb-02420a01001e-1-a9b3"
      },
      {
       "current": "0378f5ba-0b85-11ec-9aeb-02420a01001e-3-ea8f-aad3-30cc",
       "next": "0378f6aa-0b85-11ec-9aeb-02420a01001e-2-5bf9-ce02",
       "previous": "0378f4ca-0b85-11ec-9aeb-02420a01001e-2-a9b3-e61e"
      },
      {
       "current": "0378f5ba-0b85-11ec-9aeb-02420a01001e-4-ea8f-aad3-30cc-a3ca",
       "next": "0378f6aa-0b85-11ec-9aeb-02420a01001e-3-5bf9-ce02-fd4d",
       "previous": "0378f4ca-0b85-11ec-9aeb-02420a01001e-3-a9b3-e61e-7c30"
      }
     ],
     "next": "0378f6aa-0b85-11ec-9aeb-02420a01001e-4-5bf9-ce02-fd4d-6f28",
     "previous": "0378f4ca-0b85-11ec-9aeb-02420a01001e-4-a9b3-e61e-7c30-e0c8"
    }
   },
   "source": [
    "#### MNISTのモデル・重みの準備\n",
    "GPUを持つ学習システムで学習したモデルと重みを、構築したTensorFlow環境にアップロードし展開します。"
   ]
  },
  {
   "cell_type": "code",
   "execution_count": null,
   "metadata": {
    "lc_cell_meme": {
     "current": "0378f6aa-0b85-11ec-9aeb-02420a01001e-4-5bf9-ce02-fd4d-6f28",
     "history": [
      {
       "current": "2d15c684-00f7-11ec-a3c9-0242ac110002",
       "next": "29e5f386-fb42-11eb-a3c9-0242ac110002",
       "previous": "386665fc-00cf-11ec-a3c9-0242ac110002"
      },
      {
       "current": "2d15c684-00f7-11ec-a3c9-0242ac110002",
       "next": "29e5f386-fb42-11eb-a3c9-0242ac110002",
       "previous": "af07bcd2-053f-11ec-a3c9-0242ac110002"
      },
      {
       "current": "2d15c684-00f7-11ec-a3c9-0242ac110002",
       "next": "3a42ccf4-0547-11ec-a3c9-0242ac110002",
       "previous": "af07bcd2-053f-11ec-a3c9-0242ac110002"
      },
      {
       "current": "2d15c684-00f7-11ec-a3c9-0242ac110002-1-f582",
       "next": "b811f098-054b-11ec-a3c9-0242ac110002",
       "previous": "af07bcd2-053f-11ec-a3c9-0242ac110002"
      },
      {
       "current": "2d15c684-00f7-11ec-a3c9-0242ac110002-2-f582-6223",
       "next": "b811f098-054b-11ec-a3c9-0242ac110002-1-5cc3",
       "previous": "af07bcd2-053f-11ec-a3c9-0242ac110002-1-31c3"
      },
      {
       "current": "2d15c684-00f7-11ec-a3c9-0242ac110002-2-f582-6223",
       "next": "b811f098-054b-11ec-a3c9-0242ac110002-2-5cc3-2652",
       "previous": "af07bcd2-053f-11ec-a3c9-0242ac110002-2-31c3-b695"
      },
      {
       "current": "d03ea4e8-0b3d-11ec-a5ab-02420a01001e",
       "next": "d03ea5c4-0b3d-11ec-a5ab-02420a01001e",
       "previous": "d03ea3f8-0b3d-11ec-a5ab-02420a01001e"
      },
      {
       "current": "97f97b88-0b3f-11ec-8ea2-02420a01001e",
       "next": "97f97c46-0b3f-11ec-8ea2-02420a01001e",
       "previous": "97f97ab6-0b3f-11ec-8ea2-02420a01001e"
      },
      {
       "current": "8c24348a-0b7e-11ec-8636-02420a01001e",
       "next": "8c243570-0b7e-11ec-8636-02420a01001e",
       "previous": "8c24339a-0b7e-11ec-8636-02420a01001e"
      },
      {
       "current": "0378f6aa-0b85-11ec-9aeb-02420a01001e-1-5bf9",
       "next": "0378f77c-0b85-11ec-9aeb-02420a01001e",
       "previous": "0378f5ba-0b85-11ec-9aeb-02420a01001e"
      },
      {
       "current": "0378f6aa-0b85-11ec-9aeb-02420a01001e-2-5bf9-ce02",
       "next": "0378f77c-0b85-11ec-9aeb-02420a01001e-1-c2d4",
       "previous": "0378f5ba-0b85-11ec-9aeb-02420a01001e-1-ea8f"
      },
      {
       "current": "0378f6aa-0b85-11ec-9aeb-02420a01001e-3-5bf9-ce02-fd4d",
       "next": "0378f77c-0b85-11ec-9aeb-02420a01001e-2-c2d4-63a0",
       "previous": "0378f5ba-0b85-11ec-9aeb-02420a01001e-2-ea8f-aad3"
      },
      {
       "current": "0378f6aa-0b85-11ec-9aeb-02420a01001e-4-5bf9-ce02-fd4d-6f28",
       "next": "0378f77c-0b85-11ec-9aeb-02420a01001e-3-c2d4-63a0-50c0",
       "previous": "0378f5ba-0b85-11ec-9aeb-02420a01001e-3-ea8f-aad3-30cc"
      }
     ],
     "next": "0378f77c-0b85-11ec-9aeb-02420a01001e-4-c2d4-63a0-50c0-76ca",
     "previous": "0378f5ba-0b85-11ec-9aeb-02420a01001e-4-ea8f-aad3-30cc-a3ca"
    },
    "lc_wrapper": {
     "log_history": [
      "/notebooks/notebook/SAGA_home/hands-on/OpenHPC-v2-handson/.log/20210824/20210824-170038-0849.log",
      "/notebooks/notebook/SAGA_home/hands-on/OpenHPC-v2-handson/.log/20210825/20210825-100324-0013.log",
      "/notebooks/notebook/SAGA_home/hands-on/OpenHPC-v2-handson/.log/20210825/20210825-111510-0301.log",
      "/notebooks/notebook/SAGA_home/hands-on/OpenHPC-v2-handson/.log/20210825/20210825-111722-0140.log",
      "/notebooks/notebook/SAGA_home/hands-on/OpenHPC-v2-handson/.log/20210825/20210825-112209-0848.log",
      "/notebooks/notebook/SAGA_home/hands-on/OpenHPC-v2-handson/.log/20210825/20210825-112311-0534.log",
      "/notebooks/notebook/SAGA_home/hands-on/OpenHPC-v2-handson/.log/20210825/20210825-112613-0683.log",
      "/notebooks/notebook/SAGA_home/hands-on/OpenHPC-v2-handson/.log/20210825/20210825-135007-0552.log",
      "/notebooks/notebook/SAGA_home/hands-on/OpenHPC-v2-handson/.log/20210826/20210826-004940-0317.log",
      "/notebooks/notebook/SAGA_home/hands-on/OpenHPC-v2-handson/.log/20210829/20210829-014446-0038.log",
      "/notebooks/notebook/SAGA_home/hands-on/OpenHPC-v2-handson/.log/20210829/20210829-014612-0216.log",
      "/notebooks/notebook/SAGA_home/hands-on/OpenHPC-v2-handson/.log/20210829/20210829-020919-0469.log",
      "/notebooks/notebook/SAGA_home/hands-on/OpenHPC-v2-handson/.log/20210829/20210829-110042-0881.log",
      "/notebooks/notebook/SAGA_home/hands-on/OpenHPC-v2-handson/.log/20210829/20210829-142653-0176.log",
      "/notebooks/notebook/SAGA_home/hands-on/MNIST_handson/.log/20210829/20210829-233628-0766.log",
      "/notebooks/notebook/SAGA_home/hands-on/MNIST_handson/.log/20210829/20210829-234011-0443.log",
      "/notebooks/notebook/SAGA_home/hands-on/MNIST_handson/.log/20210830/20210830-002453-0795.log",
      "/notebooks/notebook/SAGA_home/hands-on/MNIST_handson/.log/20210830/20210830-140245-0040.log",
      "/notebooks/notebook/SAGA_home/hands-on/MNIST_handson/.log/20210830/20210830-155002-0491.log",
      "/home/user513xb92482/hands-on/vcp-tutorial/.log/20210901/20210901-140830-0232.log",
      "/home/user513xb92482/hands-on/vcp-tutorial/.log/20210901/20210901-141111-0455.log",
      "/home/user513xb92482/hands-on/vcp-tutorial/.log/20210901/20210901-141140-0516.log",
      "/home/user513xb92482/hands-on/vcp-tutorial/.log/20210901/20210901-141201-0829.log",
      "/home/user513xb92482/hands-on/vcp-tutorial/.log/20210901/20210901-141243-0875.log",
      "/home/user513xb92482/hands-on/vcp-tutorial/.log/20210901/20210901-141307-0660.log",
      "/home/user513xb92482/hands-on/vcp-tutorial/.log/20210901/20210901-170005-0624.log",
      "/home/user513xb92482/hands-on/vcp-tutorial/.log/20210902/20210902-213331-0378.log",
      "/home/user513xb92482/hands-on/vcp-tutorial/.log/20210902/20210902-220921-0345.log",
      "/home/user513xb92482/hands-on/vcp-tutorial/.log/20210903/20210903-103836-0485.log",
      "/home/user513xb92482/hands-on/vcp-tutorial/.log/20210903/20210903-103904-0167.log",
      "/home/user513xb92482/hands-on/vcp-tutorial/.log/20210903/20210903-104328-0307.log",
      "/home/user513xb92482/hands-on/vcp-tutorial/.log/20210903/20210903-104731-0037.log",
      "/home/user513xb92482/hands-on/vcp-tutorial/.log/20210903/20210903-115312-0831.log",
      "/home/user513xb92482/hands-on/vcp-tutorial/.log/20210903/20210903-115628-0720.log",
      "/home/user513xb92482/hands-on/vcp-tutorial/.log/20210903/20210903-115830-0692.log",
      "/home/user513xb92482/hands-on/vcp-tutorial/.log/20210903/20210903-120134-0145.log",
      "/home/user513xb92482/hands-on/vcp-tutorial/.log/20210903/20210903-120225-0405.log",
      "/home/user513xb92482/hands-on/vcp-tutorial/.log/20210903/20210903-160650-0669.log",
      "/notebooks/notebook/SAGA_home/hands-on/hands-on.513/vcp-tutorial/.log/20210910/20210910-105946-0097.log",
      "/notebooks/notebook/SAGA_home/hands-on/hands-on.513/vcp-tutorial/.log/20210910/20210910-112229-0872.log",
      "/notebooks/notebook/SAGA_home/hands-on/hands-on.513/vcp-tutorial/OpenHPC-MNIST/.log/20210910/20210910-165242-0373.log",
      "/notebooks/notebook/SAGA_home/210903.handson_cloudweek_2021/Deriver/2109.Recog_with_OpenHPC_template/2.Recognition_system/.log/20210914/20210914-144653-0099.log"
     ]
    }
   },
   "outputs": [],
   "source": [
    "# GPU環境で学習したモデルと重みのアップロードと展開\n",
    "!ssh {ssh_opts_user} {target} rm -rf {work_dir}/saved_model\n",
    "!scp {ssh_opts_user} -qp {model_dir}/{model_file} {target}:{work_dir}\n",
    "!ssh {ssh_opts_user} {target} '(cd {work_dir}; tar zxpf {model_file})'"
   ]
  },
  {
   "cell_type": "code",
   "execution_count": null,
   "metadata": {
    "lc_cell_meme": {
     "current": "0378f77c-0b85-11ec-9aeb-02420a01001e-4-c2d4-63a0-50c0-76ca",
     "history": [
      {
       "current": "b811f098-054b-11ec-a3c9-0242ac110002-1-5cc3",
       "next": "3a42ccf4-0547-11ec-a3c9-0242ac110002",
       "previous": "2d15c684-00f7-11ec-a3c9-0242ac110002"
      },
      {
       "current": "b811f098-054b-11ec-a3c9-0242ac110002-2-5cc3-2652",
       "next": "3a42ccf4-0547-11ec-a3c9-0242ac110002-1-e953",
       "previous": "2d15c684-00f7-11ec-a3c9-0242ac110002-1-f582"
      },
      {
       "current": "b811f098-054b-11ec-a3c9-0242ac110002-2-5cc3-2652",
       "next": "3a42ccf4-0547-11ec-a3c9-0242ac110002-2-e953-028b",
       "previous": "2d15c684-00f7-11ec-a3c9-0242ac110002-2-f582-6223"
      },
      {
       "current": "d03ea5c4-0b3d-11ec-a5ab-02420a01001e",
       "next": "d03ea68c-0b3d-11ec-a5ab-02420a01001e",
       "previous": "d03ea4e8-0b3d-11ec-a5ab-02420a01001e"
      },
      {
       "current": "97f97c46-0b3f-11ec-8ea2-02420a01001e",
       "next": "97f97d0e-0b3f-11ec-8ea2-02420a01001e",
       "previous": "97f97b88-0b3f-11ec-8ea2-02420a01001e"
      },
      {
       "current": "8c243570-0b7e-11ec-8636-02420a01001e",
       "next": "8c243642-0b7e-11ec-8636-02420a01001e",
       "previous": "8c24348a-0b7e-11ec-8636-02420a01001e"
      },
      {
       "current": "0378f77c-0b85-11ec-9aeb-02420a01001e-1-c2d4",
       "next": "0378f86c-0b85-11ec-9aeb-02420a01001e",
       "previous": "0378f6aa-0b85-11ec-9aeb-02420a01001e"
      },
      {
       "current": "0378f77c-0b85-11ec-9aeb-02420a01001e-2-c2d4-63a0",
       "next": "0378f86c-0b85-11ec-9aeb-02420a01001e-1-9bb2",
       "previous": "0378f6aa-0b85-11ec-9aeb-02420a01001e-1-5bf9"
      },
      {
       "current": "0378f77c-0b85-11ec-9aeb-02420a01001e-3-c2d4-63a0-50c0",
       "next": "0378f86c-0b85-11ec-9aeb-02420a01001e-2-9bb2-cf77",
       "previous": "0378f6aa-0b85-11ec-9aeb-02420a01001e-2-5bf9-ce02"
      },
      {
       "current": "0378f77c-0b85-11ec-9aeb-02420a01001e-4-c2d4-63a0-50c0-76ca",
       "next": "0378f86c-0b85-11ec-9aeb-02420a01001e-3-9bb2-cf77-e945",
       "previous": "0378f6aa-0b85-11ec-9aeb-02420a01001e-3-5bf9-ce02-fd4d"
      }
     ],
     "next": "0378f86c-0b85-11ec-9aeb-02420a01001e-4-9bb2-cf77-e945-0ce7",
     "previous": "0378f6aa-0b85-11ec-9aeb-02420a01001e-4-5bf9-ce02-fd4d-6f28"
    },
    "lc_wrapper": {
     "log_history": [
      "/notebooks/notebook/SAGA_home/hands-on/OpenHPC-v2-handson/.log/20210827/20210827-150444-0419.log",
      "/notebooks/notebook/SAGA_home/hands-on/OpenHPC-v2-handson/.log/20210827/20210827-151625-0185.log",
      "/notebooks/notebook/SAGA_home/hands-on/OpenHPC-v2-handson/.log/20210827/20210827-152202-0851.log",
      "/notebooks/notebook/SAGA_home/hands-on/OpenHPC-v2-handson/.log/20210827/20210827-153021-0907.log",
      "/notebooks/notebook/SAGA_home/hands-on/OpenHPC-v2-handson/.log/20210827/20210827-153626-0935.log",
      "/notebooks/notebook/SAGA_home/hands-on/OpenHPC-v2-handson/.log/20210827/20210827-162844-0704.log",
      "/notebooks/notebook/SAGA_home/hands-on/OpenHPC-v2-handson/.log/20210827/20210827-163507-0164.log",
      "/notebooks/notebook/SAGA_home/hands-on/OpenHPC-v2-handson/.log/20210827/20210827-164228-0233.log",
      "/notebooks/notebook/SAGA_home/hands-on/OpenHPC-v2-handson/.log/20210827/20210827-164819-0957.log",
      "/notebooks/notebook/SAGA_home/hands-on/OpenHPC-v2-handson/.log/20210827/20210827-165013-0209.log",
      "/notebooks/notebook/SAGA_home/hands-on/OpenHPC-v2-handson/.log/20210827/20210827-165102-0414.log",
      "/notebooks/notebook/SAGA_home/hands-on/OpenHPC-v2-handson/.log/20210827/20210827-165820-0548.log",
      "/notebooks/notebook/SAGA_home/hands-on/OpenHPC-v2-handson/.log/20210827/20210827-165906-0894.log",
      "/notebooks/notebook/SAGA_home/hands-on/OpenHPC-v2-handson/.log/20210827/20210827-170007-0596.log",
      "/notebooks/notebook/SAGA_home/hands-on/MNIST_handson/.log/20210829/20210829-235745-0725.log",
      "/notebooks/notebook/SAGA_home/hands-on/MNIST_handson/.log/20210830/20210830-140250-0806.log",
      "/notebooks/notebook/SAGA_home/hands-on/MNIST_handson/.log/20210830/20210830-160019-0374.log",
      "/home/user513xb92482/hands-on/vcp-tutorial/.log/20210903/20210903-161843-0717.log",
      "/notebooks/notebook/SAGA_home/hands-on/hands-on.513/vcp-tutorial/.log/20210910/20210910-110049-0648.log",
      "/notebooks/notebook/SAGA_home/210903.handson_cloudweek_2021/Deriver/2109.Recog_with_OpenHPC_template/2.Recognition_system/.log/20210914/20210914-144923-0469.log"
     ]
    },
    "pinned_outputs": []
   },
   "outputs": [],
   "source": [
    "# 実はTensorFlowのチュートリアル(初心者のための TensorFlow 2.0 入門)で紹介されているMNISTは、GPUを使わなく\n",
    "# ても1分以内で学習できます。後ほどコメントを外して試してみてください。\n",
    "# !ssh {ssh_opts_user} {target} docker exec -t -u {user} -w /home/{user}/{work_dir} tensorflow-{user} python3 download_mnist.py\n",
    "# !ssh {ssh_opts_user} {target} docker exec -t -u {user} -w /home/{user}/{work_dir} tensorflow-{user} python3 mnist_train.py"
   ]
  },
  {
   "cell_type": "markdown",
   "metadata": {
    "lc_cell_meme": {
     "current": "0378f86c-0b85-11ec-9aeb-02420a01001e-4-9bb2-cf77-e945-0ce7",
     "history": [
      {
       "current": "3a42ccf4-0547-11ec-a3c9-0242ac110002",
       "next": "f532731e-0085-11ec-a3c9-0242ac110002",
       "previous": "2d15c684-00f7-11ec-a3c9-0242ac110002"
      },
      {
       "current": "3a42ccf4-0547-11ec-a3c9-0242ac110002",
       "next": "4f2cc612-fb4f-11eb-a3c9-0242ac110002",
       "previous": "2d15c684-00f7-11ec-a3c9-0242ac110002"
      },
      {
       "current": "3a42ccf4-0547-11ec-a3c9-0242ac110002",
       "next": "4f2cc612-fb4f-11eb-a3c9-0242ac110002",
       "previous": "b811f098-054b-11ec-a3c9-0242ac110002"
      },
      {
       "current": "3a42ccf4-0547-11ec-a3c9-0242ac110002-1-e953",
       "next": "f532731e-0085-11ec-a3c9-0242ac110002",
       "previous": "b811f098-054b-11ec-a3c9-0242ac110002"
      },
      {
       "current": "3a42ccf4-0547-11ec-a3c9-0242ac110002-2-e953-028b",
       "next": "f532731e-0085-11ec-a3c9-0242ac110002-1-5399",
       "previous": "b811f098-054b-11ec-a3c9-0242ac110002-1-5cc3"
      },
      {
       "current": "3a42ccf4-0547-11ec-a3c9-0242ac110002-2-e953-028b",
       "next": "f532731e-0085-11ec-a3c9-0242ac110002-2-5399-a497",
       "previous": "b811f098-054b-11ec-a3c9-0242ac110002-2-5cc3-2652"
      },
      {
       "current": "d03ea68c-0b3d-11ec-a5ab-02420a01001e",
       "next": "d03ea75e-0b3d-11ec-a5ab-02420a01001e",
       "previous": "d03ea5c4-0b3d-11ec-a5ab-02420a01001e"
      },
      {
       "current": "97f97d0e-0b3f-11ec-8ea2-02420a01001e",
       "next": "97f97dea-0b3f-11ec-8ea2-02420a01001e",
       "previous": "97f97c46-0b3f-11ec-8ea2-02420a01001e"
      },
      {
       "current": "8c243642-0b7e-11ec-8636-02420a01001e",
       "next": "8c24371e-0b7e-11ec-8636-02420a01001e",
       "previous": "8c243570-0b7e-11ec-8636-02420a01001e"
      },
      {
       "current": "0378f86c-0b85-11ec-9aeb-02420a01001e-1-9bb2",
       "next": "0378f934-0b85-11ec-9aeb-02420a01001e",
       "previous": "0378f77c-0b85-11ec-9aeb-02420a01001e"
      },
      {
       "current": "0378f86c-0b85-11ec-9aeb-02420a01001e-2-9bb2-cf77",
       "next": "0378f934-0b85-11ec-9aeb-02420a01001e-1-cc1e",
       "previous": "0378f77c-0b85-11ec-9aeb-02420a01001e-1-c2d4"
      },
      {
       "current": "0378f86c-0b85-11ec-9aeb-02420a01001e-3-9bb2-cf77-e945",
       "next": "0378f934-0b85-11ec-9aeb-02420a01001e-2-cc1e-671f",
       "previous": "0378f77c-0b85-11ec-9aeb-02420a01001e-2-c2d4-63a0"
      },
      {
       "current": "0378f86c-0b85-11ec-9aeb-02420a01001e-4-9bb2-cf77-e945-0ce7",
       "next": "0378f934-0b85-11ec-9aeb-02420a01001e-3-cc1e-671f-dc3d",
       "previous": "0378f77c-0b85-11ec-9aeb-02420a01001e-3-c2d4-63a0-50c0"
      }
     ],
     "next": "0378f934-0b85-11ec-9aeb-02420a01001e-4-cc1e-671f-dc3d-6cd2",
     "previous": "0378f77c-0b85-11ec-9aeb-02420a01001e-4-c2d4-63a0-50c0-76ca"
    }
   },
   "source": [
    "### アプリケーションの実行： フリーハンド数字入力と認識\n",
    "数字（一桁の'0-9'）をフリーハンドで入力します。マウスをクリックしながら描画してください。描画が終わったら、`Save`ボタンをクリックし、２つ目のセルを実行してください。入力したイメージをVCノードのTensorFlow環境に転送し認識します。\n",
    "\n",
    "再実行：\n",
    "この入力環境は２つ目のセルを実行した後も機能しています。`Clear`で描画エリアをクリア後、再度入力し`Save`をクリックしてください。認識は２つ目のセルを`unfreeze`してから再実行します。"
   ]
  },
  {
   "cell_type": "code",
   "execution_count": null,
   "metadata": {
    "lc_cell_meme": {
     "current": "0378f934-0b85-11ec-9aeb-02420a01001e-4-cc1e-671f-dc3d-6cd2",
     "history": [
      {
       "current": "f532731e-0085-11ec-a3c9-0242ac110002",
       "next": "8b674b5a-fb51-11eb-a3c9-0242ac110002",
       "previous": "4f2cc612-fb4f-11eb-a3c9-0242ac110002"
      },
      {
       "current": "f532731e-0085-11ec-a3c9-0242ac110002",
       "next": "2240687a-00a9-11ec-a3c9-0242ac110002",
       "previous": "4f2cc612-fb4f-11eb-a3c9-0242ac110002"
      },
      {
       "current": "f532731e-0085-11ec-a3c9-0242ac110002",
       "next": "2240687a-00a9-11ec-a3c9-0242ac110002",
       "previous": "29e5f386-fb42-11eb-a3c9-0242ac110002"
      },
      {
       "current": "f532731e-0085-11ec-a3c9-0242ac110002",
       "next": "2240687a-00a9-11ec-a3c9-0242ac110002",
       "previous": "3a42ccf4-0547-11ec-a3c9-0242ac110002"
      },
      {
       "current": "f532731e-0085-11ec-a3c9-0242ac110002",
       "next": "2240687a-00a9-11ec-a3c9-0242ac110002",
       "previous": "4f2cc612-fb4f-11eb-a3c9-0242ac110002"
      },
      {
       "current": "f532731e-0085-11ec-a3c9-0242ac110002-1-5399",
       "next": "2240687a-00a9-11ec-a3c9-0242ac110002",
       "previous": "3a42ccf4-0547-11ec-a3c9-0242ac110002"
      },
      {
       "current": "f532731e-0085-11ec-a3c9-0242ac110002-2-5399-a497",
       "next": "2240687a-00a9-11ec-a3c9-0242ac110002-1-b369",
       "previous": "3a42ccf4-0547-11ec-a3c9-0242ac110002-1-e953"
      },
      {
       "current": "f532731e-0085-11ec-a3c9-0242ac110002-2-5399-a497",
       "next": "2240687a-00a9-11ec-a3c9-0242ac110002-2-b369-b7da",
       "previous": "3a42ccf4-0547-11ec-a3c9-0242ac110002-2-e953-028b"
      },
      {
       "current": "d03ea75e-0b3d-11ec-a5ab-02420a01001e",
       "next": "d03ea830-0b3d-11ec-a5ab-02420a01001e",
       "previous": "d03ea68c-0b3d-11ec-a5ab-02420a01001e"
      },
      {
       "current": "97f97dea-0b3f-11ec-8ea2-02420a01001e",
       "next": "97f97eb2-0b3f-11ec-8ea2-02420a01001e",
       "previous": "97f97d0e-0b3f-11ec-8ea2-02420a01001e"
      },
      {
       "current": "8c24371e-0b7e-11ec-8636-02420a01001e",
       "next": "8c2437e6-0b7e-11ec-8636-02420a01001e",
       "previous": "8c243642-0b7e-11ec-8636-02420a01001e"
      },
      {
       "current": "0378f934-0b85-11ec-9aeb-02420a01001e-1-cc1e",
       "next": "0378fa10-0b85-11ec-9aeb-02420a01001e",
       "previous": "0378f86c-0b85-11ec-9aeb-02420a01001e"
      },
      {
       "current": "0378f934-0b85-11ec-9aeb-02420a01001e-2-cc1e-671f",
       "next": "0378fa10-0b85-11ec-9aeb-02420a01001e-1-a58d",
       "previous": "0378f86c-0b85-11ec-9aeb-02420a01001e-1-9bb2"
      },
      {
       "current": "0378f934-0b85-11ec-9aeb-02420a01001e-3-cc1e-671f-dc3d",
       "next": "0378fa10-0b85-11ec-9aeb-02420a01001e-2-a58d-785b",
       "previous": "0378f86c-0b85-11ec-9aeb-02420a01001e-2-9bb2-cf77"
      },
      {
       "current": "0378f934-0b85-11ec-9aeb-02420a01001e-4-cc1e-671f-dc3d-6cd2",
       "next": "0378fa10-0b85-11ec-9aeb-02420a01001e-3-a58d-785b-905d",
       "previous": "0378f86c-0b85-11ec-9aeb-02420a01001e-3-9bb2-cf77-e945"
      }
     ],
     "next": "0378fa10-0b85-11ec-9aeb-02420a01001e-4-a58d-785b-905d-7457",
     "previous": "0378f86c-0b85-11ec-9aeb-02420a01001e-4-9bb2-cf77-e945-0ce7"
    },
    "lc_wrapper": {
     "log_history": [
      "/notebooks/notebook/SAGA_home/hands-on/OpenHPC-v2-handson/.log/20210819/20210819-094134-0828.log",
      "/notebooks/notebook/SAGA_home/hands-on/OpenHPC-v2-handson/.log/20210819/20210819-135339-0321.log",
      "/notebooks/notebook/SAGA_home/hands-on/OpenHPC-v2-handson/.log/20210819/20210819-135436-0888.log",
      "/notebooks/notebook/SAGA_home/hands-on/OpenHPC-v2-handson/.log/20210819/20210819-160734-0738.log",
      "/notebooks/notebook/SAGA_home/hands-on/OpenHPC-v2-handson/.log/20210819/20210819-162045-0526.log",
      "/notebooks/notebook/SAGA_home/hands-on/OpenHPC-v2-handson/.log/20210819/20210819-232208-0060.log",
      "/notebooks/notebook/SAGA_home/hands-on/OpenHPC-v2-handson/.log/20210819/20210819-235418-0091.log",
      "/notebooks/notebook/SAGA_home/hands-on/OpenHPC-v2-handson/.log/20210823/20210823-153819-0848.log",
      "/notebooks/notebook/SAGA_home/hands-on/OpenHPC-v2-handson/.log/20210823/20210823-162205-0021.log",
      "/notebooks/notebook/SAGA_home/hands-on/OpenHPC-v2-handson/.log/20210823/20210823-181129-0372.log",
      "/notebooks/notebook/SAGA_home/hands-on/OpenHPC-v2-handson/.log/20210824/20210824-111740-0448.log",
      "/notebooks/notebook/SAGA_home/hands-on/OpenHPC-v2-handson/.log/20210824/20210824-113109-0351.log",
      "/notebooks/notebook/SAGA_home/hands-on/OpenHPC-v2-handson/.log/20210824/20210824-113544-0463.log",
      "/notebooks/notebook/SAGA_home/hands-on/OpenHPC-v2-handson/.log/20210824/20210824-113813-0055.log",
      "/notebooks/notebook/SAGA_home/hands-on/OpenHPC-v2-handson/.log/20210824/20210824-160436-0493.log",
      "/notebooks/notebook/SAGA_home/hands-on/OpenHPC-v2-handson/.log/20210824/20210824-165354-0347.log",
      "/notebooks/notebook/SAGA_home/hands-on/OpenHPC-v2-handson/.log/20210825/20210825-111623-0048.log",
      "/notebooks/notebook/SAGA_home/hands-on/OpenHPC-v2-handson/.log/20210825/20210825-135019-0239.log",
      "/notebooks/notebook/SAGA_home/hands-on/OpenHPC-v2-handson/.log/20210826/20210826-005003-0099.log",
      "/notebooks/notebook/SAGA_home/hands-on/OpenHPC-v2-handson/.log/20210826/20210826-011131-0061.log",
      "/notebooks/notebook/SAGA_home/hands-on/OpenHPC-v2-handson/.log/20210827/20210827-153104-0396.log",
      "/notebooks/notebook/SAGA_home/hands-on/OpenHPC-v2-handson/.log/20210829/20210829-014900-0582.log",
      "/notebooks/notebook/SAGA_home/hands-on/OpenHPC-v2-handson/.log/20210829/20210829-020929-0393.log",
      "/notebooks/notebook/SAGA_home/hands-on/OpenHPC-v2-handson/.log/20210829/20210829-110129-0775.log",
      "/notebooks/notebook/SAGA_home/hands-on/OpenHPC-v2-handson/.log/20210829/20210829-142703-0680.log",
      "/notebooks/notebook/SAGA_home/hands-on/MNIST_handson/.log/20210829/20210829-234100-0667.log",
      "/notebooks/notebook/SAGA_home/hands-on/MNIST_handson/.log/20210830/20210830-002500-0715.log",
      "/notebooks/notebook/SAGA_home/hands-on/MNIST_handson/.log/20210830/20210830-140256-0862.log",
      "/notebooks/notebook/SAGA_home/hands-on/MNIST_handson/.log/20210830/20210830-155015-0523.log",
      "/home/user513xb92482/hands-on/vcp-tutorial/.log/20210901/20210901-141318-0614.log",
      "/home/user513xb92482/hands-on/vcp-tutorial/.log/20210901/20210901-170012-0922.log",
      "/home/user513xb92482/hands-on/vcp-tutorial/.log/20210902/20210902-213340-0018.log",
      "/home/user513xb92482/hands-on/vcp-tutorial/.log/20210903/20210903-104211-0019.log",
      "/home/user513xb92482/hands-on/vcp-tutorial/.log/20210903/20210903-115352-0783.log",
      "/home/user513xb92482/hands-on/vcp-tutorial/.log/20210903/20210903-160736-0970.log",
      "/notebooks/notebook/SAGA_home/hands-on/hands-on.513/vcp-tutorial/.log/20210910/20210910-105952-0365.log",
      "/notebooks/notebook/SAGA_home/hands-on/hands-on.513/vcp-tutorial/OpenHPC-MNIST/.log/20210910/20210910-165249-0769.log",
      "/notebooks/notebook/SAGA_home/210903.handson_cloudweek_2021/Deriver/2109.Recog_with_OpenHPC_template/2.Recognition_system/.log/20210914/20210914-144701-0566.log"
     ]
    },
    "pinned_outputs": []
   },
   "outputs": [],
   "source": [
    "# フリーハンド数字入力、base64形式イメージ化\n",
    "HTML(drawpad)"
   ]
  },
  {
   "cell_type": "code",
   "execution_count": null,
   "metadata": {
    "lc_cell_meme": {
     "current": "0378fa10-0b85-11ec-9aeb-02420a01001e-4-a58d-785b-905d-7457",
     "history": [
      {
       "current": "2240687a-00a9-11ec-a3c9-0242ac110002",
       "next": "8b674b5a-fb51-11eb-a3c9-0242ac110002",
       "previous": "f532731e-0085-11ec-a3c9-0242ac110002"
      },
      {
       "current": "2240687a-00a9-11ec-a3c9-0242ac110002",
       "next": "4a64eec2-a933-11e9-ba83-02420a010053-3-221d-c4fd-a8ce",
       "previous": "f532731e-0085-11ec-a3c9-0242ac110002"
      },
      {
       "current": "2240687a-00a9-11ec-a3c9-0242ac110002",
       "next": "d3cabbc0-0484-11ec-a3c9-0242ac110002",
       "previous": "f532731e-0085-11ec-a3c9-0242ac110002"
      },
      {
       "current": "2240687a-00a9-11ec-a3c9-0242ac110002",
       "next": "4a64eec2-a933-11e9-ba83-02420a010053-3-221d-c4fd-a8ce",
       "previous": "f532731e-0085-11ec-a3c9-0242ac110002"
      },
      {
       "current": "2240687a-00a9-11ec-a3c9-0242ac110002-1-b369",
       "next": "b1f35a0c-0560-11ec-a3c9-0242ac110002",
       "previous": "f532731e-0085-11ec-a3c9-0242ac110002"
      },
      {
       "current": "2240687a-00a9-11ec-a3c9-0242ac110002-2-b369-b7da",
       "next": "b1f35a0c-0560-11ec-a3c9-0242ac110002-1-ff55",
       "previous": "f532731e-0085-11ec-a3c9-0242ac110002-1-5399"
      },
      {
       "current": "2240687a-00a9-11ec-a3c9-0242ac110002-2-b369-b7da",
       "next": "b1f35a0c-0560-11ec-a3c9-0242ac110002-2-ff55-99bd",
       "previous": "f532731e-0085-11ec-a3c9-0242ac110002-2-5399-a497"
      },
      {
       "current": "d03ea830-0b3d-11ec-a5ab-02420a01001e",
       "next": "d03ea916-0b3d-11ec-a5ab-02420a01001e",
       "previous": "d03ea75e-0b3d-11ec-a5ab-02420a01001e"
      },
      {
       "current": "97f97eb2-0b3f-11ec-8ea2-02420a01001e",
       "next": "97f97f7a-0b3f-11ec-8ea2-02420a01001e",
       "previous": "97f97dea-0b3f-11ec-8ea2-02420a01001e"
      },
      {
       "current": "8c2437e6-0b7e-11ec-8636-02420a01001e",
       "next": "8c2438e0-0b7e-11ec-8636-02420a01001e",
       "previous": "8c24371e-0b7e-11ec-8636-02420a01001e"
      },
      {
       "current": "0378fa10-0b85-11ec-9aeb-02420a01001e-1-a58d",
       "next": "0378faec-0b85-11ec-9aeb-02420a01001e",
       "previous": "0378f934-0b85-11ec-9aeb-02420a01001e"
      },
      {
       "current": "0378fa10-0b85-11ec-9aeb-02420a01001e-2-a58d-785b",
       "next": "0378faec-0b85-11ec-9aeb-02420a01001e-1-48fc",
       "previous": "0378f934-0b85-11ec-9aeb-02420a01001e-1-cc1e"
      },
      {
       "current": "0378fa10-0b85-11ec-9aeb-02420a01001e-3-a58d-785b-905d",
       "next": "0378faec-0b85-11ec-9aeb-02420a01001e-2-48fc-e69f",
       "previous": "0378f934-0b85-11ec-9aeb-02420a01001e-2-cc1e-671f"
      },
      {
       "current": "0378fa10-0b85-11ec-9aeb-02420a01001e-4-a58d-785b-905d-7457",
       "next": "0378faec-0b85-11ec-9aeb-02420a01001e-3-48fc-e69f-cce0",
       "previous": "0378f934-0b85-11ec-9aeb-02420a01001e-3-cc1e-671f-dc3d"
      }
     ],
     "next": "0378faec-0b85-11ec-9aeb-02420a01001e-4-48fc-e69f-cce0-e697",
     "previous": "0378f934-0b85-11ec-9aeb-02420a01001e-4-cc1e-671f-dc3d-6cd2"
    },
    "lc_wrapper": {
     "log_history": [
      "/notebooks/notebook/SAGA_home/hands-on/OpenHPC-v2-handson/.log/20210819/20210819-135447-0892.log",
      "/notebooks/notebook/SAGA_home/hands-on/OpenHPC-v2-handson/.log/20210819/20210819-160748-0432.log",
      "/notebooks/notebook/SAGA_home/hands-on/OpenHPC-v2-handson/.log/20210819/20210819-160808-0703.log",
      "/notebooks/notebook/SAGA_home/hands-on/OpenHPC-v2-handson/.log/20210819/20210819-161134-0289.log",
      "/notebooks/notebook/SAGA_home/hands-on/OpenHPC-v2-handson/.log/20210819/20210819-162100-0670.log",
      "/notebooks/notebook/SAGA_home/hands-on/OpenHPC-v2-handson/.log/20210819/20210819-162556-0154.log",
      "/notebooks/notebook/SAGA_home/hands-on/OpenHPC-v2-handson/.log/20210819/20210819-162625-0912.log",
      "/notebooks/notebook/SAGA_home/hands-on/OpenHPC-v2-handson/.log/20210819/20210819-162657-0807.log",
      "/notebooks/notebook/SAGA_home/hands-on/OpenHPC-v2-handson/.log/20210819/20210819-162741-0234.log",
      "/notebooks/notebook/SAGA_home/hands-on/OpenHPC-v2-handson/.log/20210819/20210819-231555-0925.log",
      "/notebooks/notebook/SAGA_home/hands-on/OpenHPC-v2-handson/.log/20210819/20210819-232224-0447.log",
      "/notebooks/notebook/SAGA_home/hands-on/OpenHPC-v2-handson/.log/20210819/20210819-232512-0428.log",
      "/notebooks/notebook/SAGA_home/hands-on/OpenHPC-v2-handson/.log/20210819/20210819-233003-0326.log",
      "/notebooks/notebook/SAGA_home/hands-on/OpenHPC-v2-handson/.log/20210819/20210819-233144-0641.log",
      "/notebooks/notebook/SAGA_home/hands-on/OpenHPC-v2-handson/.log/20210819/20210819-233539-0341.log",
      "/notebooks/notebook/SAGA_home/hands-on/OpenHPC-v2-handson/.log/20210819/20210819-233843-0943.log",
      "/notebooks/notebook/SAGA_home/hands-on/OpenHPC-v2-handson/.log/20210819/20210819-234141-0268.log",
      "/notebooks/notebook/SAGA_home/hands-on/OpenHPC-v2-handson/.log/20210819/20210819-234942-0591.log",
      "/notebooks/notebook/SAGA_home/hands-on/OpenHPC-v2-handson/.log/20210819/20210819-235330-0039.log",
      "/notebooks/notebook/SAGA_home/hands-on/OpenHPC-v2-handson/.log/20210819/20210819-235429-0348.log",
      "/notebooks/notebook/SAGA_home/hands-on/OpenHPC-v2-handson/.log/20210819/20210819-235842-0315.log",
      "/notebooks/notebook/SAGA_home/hands-on/OpenHPC-v2-handson/.log/20210820/20210820-000040-0240.log",
      "/notebooks/notebook/SAGA_home/hands-on/OpenHPC-v2-handson/.log/20210820/20210820-000117-0311.log",
      "/notebooks/notebook/SAGA_home/hands-on/OpenHPC-v2-handson/.log/20210820/20210820-000146-0267.log",
      "/notebooks/notebook/SAGA_home/hands-on/OpenHPC-v2-handson/.log/20210820/20210820-000217-0646.log",
      "/notebooks/notebook/SAGA_home/hands-on/OpenHPC-v2-handson/.log/20210820/20210820-000251-0001.log",
      "/notebooks/notebook/SAGA_home/hands-on/OpenHPC-v2-handson/.log/20210820/20210820-000314-0609.log",
      "/notebooks/notebook/SAGA_home/hands-on/OpenHPC-v2-handson/.log/20210820/20210820-000342-0192.log",
      "/notebooks/notebook/SAGA_home/hands-on/OpenHPC-v2-handson/.log/20210820/20210820-000408-0405.log",
      "/notebooks/notebook/SAGA_home/hands-on/OpenHPC-v2-handson/.log/20210820/20210820-000428-0209.log",
      "/notebooks/notebook/SAGA_home/hands-on/OpenHPC-v2-handson/.log/20210820/20210820-000452-0203.log",
      "/notebooks/notebook/SAGA_home/hands-on/OpenHPC-v2-handson/.log/20210823/20210823-153831-0676.log",
      "/notebooks/notebook/SAGA_home/hands-on/OpenHPC-v2-handson/.log/20210823/20210823-153907-0056.log",
      "/notebooks/notebook/SAGA_home/hands-on/OpenHPC-v2-handson/.log/20210823/20210823-153935-0728.log",
      "/notebooks/notebook/SAGA_home/hands-on/OpenHPC-v2-handson/.log/20210823/20210823-154005-0466.log",
      "/notebooks/notebook/SAGA_home/hands-on/OpenHPC-v2-handson/.log/20210823/20210823-162216-0390.log",
      "/notebooks/notebook/SAGA_home/hands-on/OpenHPC-v2-handson/.log/20210823/20210823-162300-0147.log",
      "/notebooks/notebook/SAGA_home/hands-on/OpenHPC-v2-handson/.log/20210823/20210823-162329-0878.log",
      "/notebooks/notebook/SAGA_home/hands-on/OpenHPC-v2-handson/.log/20210823/20210823-162347-0499.log",
      "/notebooks/notebook/SAGA_home/hands-on/OpenHPC-v2-handson/.log/20210823/20210823-162419-0040.log",
      "/notebooks/notebook/SAGA_home/hands-on/OpenHPC-v2-handson/.log/20210823/20210823-162440-0321.log",
      "/notebooks/notebook/SAGA_home/hands-on/OpenHPC-v2-handson/.log/20210823/20210823-162501-0536.log",
      "/notebooks/notebook/SAGA_home/hands-on/OpenHPC-v2-handson/.log/20210823/20210823-162522-0245.log",
      "/notebooks/notebook/SAGA_home/hands-on/OpenHPC-v2-handson/.log/20210823/20210823-162542-0764.log",
      "/notebooks/notebook/SAGA_home/hands-on/OpenHPC-v2-handson/.log/20210823/20210823-162604-0070.log",
      "/notebooks/notebook/SAGA_home/hands-on/OpenHPC-v2-handson/.log/20210823/20210823-162623-0405.log",
      "/notebooks/notebook/SAGA_home/hands-on/OpenHPC-v2-handson/.log/20210823/20210823-162725-0894.log",
      "/notebooks/notebook/SAGA_home/hands-on/OpenHPC-v2-handson/.log/20210823/20210823-162753-0726.log",
      "/notebooks/notebook/SAGA_home/hands-on/OpenHPC-v2-handson/.log/20210823/20210823-181147-0816.log",
      "/notebooks/notebook/SAGA_home/hands-on/OpenHPC-v2-handson/.log/20210823/20210823-181244-0826.log",
      "/notebooks/notebook/SAGA_home/hands-on/OpenHPC-v2-handson/.log/20210823/20210823-181338-0000.log",
      "/notebooks/notebook/SAGA_home/hands-on/OpenHPC-v2-handson/.log/20210823/20210823-184201-0359.log",
      "/notebooks/notebook/SAGA_home/hands-on/OpenHPC-v2-handson/.log/20210824/20210824-111809-0513.log",
      "/notebooks/notebook/SAGA_home/hands-on/OpenHPC-v2-handson/.log/20210824/20210824-112032-0301.log",
      "/notebooks/notebook/SAGA_home/hands-on/OpenHPC-v2-handson/.log/20210824/20210824-112104-0946.log",
      "/notebooks/notebook/SAGA_home/hands-on/OpenHPC-v2-handson/.log/20210824/20210824-112145-0234.log",
      "/notebooks/notebook/SAGA_home/hands-on/OpenHPC-v2-handson/.log/20210824/20210824-112637-0073.log",
      "/notebooks/notebook/SAGA_home/hands-on/OpenHPC-v2-handson/.log/20210824/20210824-112704-0258.log",
      "/notebooks/notebook/SAGA_home/hands-on/OpenHPC-v2-handson/.log/20210824/20210824-112726-0080.log",
      "/notebooks/notebook/SAGA_home/hands-on/OpenHPC-v2-handson/.log/20210824/20210824-112746-0139.log",
      "/notebooks/notebook/SAGA_home/hands-on/OpenHPC-v2-handson/.log/20210824/20210824-113123-0195.log",
      "/notebooks/notebook/SAGA_home/hands-on/OpenHPC-v2-handson/.log/20210824/20210824-113613-0046.log",
      "/notebooks/notebook/SAGA_home/hands-on/OpenHPC-v2-handson/.log/20210824/20210824-113646-0874.log",
      "/notebooks/notebook/SAGA_home/hands-on/OpenHPC-v2-handson/.log/20210824/20210824-113823-0922.log",
      "/notebooks/notebook/SAGA_home/hands-on/OpenHPC-v2-handson/.log/20210824/20210824-114839-0493.log",
      "/notebooks/notebook/SAGA_home/hands-on/OpenHPC-v2-handson/.log/20210824/20210824-114902-0709.log",
      "/notebooks/notebook/SAGA_home/hands-on/OpenHPC-v2-handson/.log/20210824/20210824-114946-0183.log",
      "/notebooks/notebook/SAGA_home/hands-on/OpenHPC-v2-handson/.log/20210824/20210824-115007-0827.log",
      "/notebooks/notebook/SAGA_home/hands-on/OpenHPC-v2-handson/.log/20210824/20210824-143146-0780.log",
      "/notebooks/notebook/SAGA_home/hands-on/OpenHPC-v2-handson/.log/20210824/20210824-143215-0034.log",
      "/notebooks/notebook/SAGA_home/hands-on/OpenHPC-v2-handson/.log/20210824/20210824-144753-0787.log",
      "/notebooks/notebook/SAGA_home/hands-on/OpenHPC-v2-handson/.log/20210824/20210824-160451-0127.log",
      "/notebooks/notebook/SAGA_home/hands-on/OpenHPC-v2-handson/.log/20210824/20210824-160532-0925.log",
      "/notebooks/notebook/SAGA_home/hands-on/OpenHPC-v2-handson/.log/20210824/20210824-160552-0870.log",
      "/notebooks/notebook/SAGA_home/hands-on/OpenHPC-v2-handson/.log/20210824/20210824-160610-0643.log",
      "/notebooks/notebook/SAGA_home/hands-on/OpenHPC-v2-handson/.log/20210824/20210824-160702-0873.log",
      "/notebooks/notebook/SAGA_home/hands-on/OpenHPC-v2-handson/.log/20210824/20210824-160746-0099.log",
      "/notebooks/notebook/SAGA_home/hands-on/OpenHPC-v2-handson/.log/20210824/20210824-160807-0365.log",
      "/notebooks/notebook/SAGA_home/hands-on/OpenHPC-v2-handson/.log/20210824/20210824-160830-0171.log",
      "/notebooks/notebook/SAGA_home/hands-on/OpenHPC-v2-handson/.log/20210824/20210824-165412-0639.log",
      "/notebooks/notebook/SAGA_home/hands-on/OpenHPC-v2-handson/.log/20210824/20210824-165448-0175.log",
      "/notebooks/notebook/SAGA_home/hands-on/OpenHPC-v2-handson/.log/20210824/20210824-165533-0247.log",
      "/notebooks/notebook/SAGA_home/hands-on/OpenHPC-v2-handson/.log/20210824/20210824-165723-0585.log",
      "/notebooks/notebook/SAGA_home/hands-on/OpenHPC-v2-handson/.log/20210824/20210824-170011-0456.log",
      "/notebooks/notebook/SAGA_home/hands-on/OpenHPC-v2-handson/.log/20210825/20210825-111635-0046.log",
      "/notebooks/notebook/SAGA_home/hands-on/OpenHPC-v2-handson/.log/20210825/20210825-112401-0133.log",
      "/notebooks/notebook/SAGA_home/hands-on/OpenHPC-v2-handson/.log/20210825/20210825-113344-0067.log",
      "/notebooks/notebook/SAGA_home/hands-on/OpenHPC-v2-handson/.log/20210825/20210825-113626-0376.log",
      "/notebooks/notebook/SAGA_home/hands-on/OpenHPC-v2-handson/.log/20210825/20210825-113719-0094.log",
      "/notebooks/notebook/SAGA_home/hands-on/OpenHPC-v2-handson/.log/20210825/20210825-113857-0897.log",
      "/notebooks/notebook/SAGA_home/hands-on/OpenHPC-v2-handson/.log/20210825/20210825-114056-0178.log",
      "/notebooks/notebook/SAGA_home/hands-on/OpenHPC-v2-handson/.log/20210825/20210825-114716-0961.log",
      "/notebooks/notebook/SAGA_home/hands-on/OpenHPC-v2-handson/.log/20210825/20210825-114922-0274.log",
      "/notebooks/notebook/SAGA_home/hands-on/OpenHPC-v2-handson/.log/20210825/20210825-115037-0551.log",
      "/notebooks/notebook/SAGA_home/hands-on/OpenHPC-v2-handson/.log/20210825/20210825-115107-0602.log",
      "/notebooks/notebook/SAGA_home/hands-on/OpenHPC-v2-handson/.log/20210825/20210825-115147-0864.log",
      "/notebooks/notebook/SAGA_home/hands-on/OpenHPC-v2-handson/.log/20210825/20210825-115225-0169.log",
      "/notebooks/notebook/SAGA_home/hands-on/OpenHPC-v2-handson/.log/20210825/20210825-115323-0109.log",
      "/notebooks/notebook/SAGA_home/hands-on/OpenHPC-v2-handson/.log/20210825/20210825-115418-0610.log",
      "/notebooks/notebook/SAGA_home/hands-on/OpenHPC-v2-handson/.log/20210825/20210825-135037-0878.log",
      "/notebooks/notebook/SAGA_home/hands-on/OpenHPC-v2-handson/.log/20210825/20210825-135126-0453.log",
      "/notebooks/notebook/SAGA_home/hands-on/OpenHPC-v2-handson/.log/20210825/20210825-135201-0460.log",
      "/notebooks/notebook/SAGA_home/hands-on/OpenHPC-v2-handson/.log/20210825/20210825-135221-0648.log",
      "/notebooks/notebook/SAGA_home/hands-on/OpenHPC-v2-handson/.log/20210825/20210825-135241-0449.log",
      "/notebooks/notebook/SAGA_home/hands-on/OpenHPC-v2-handson/.log/20210825/20210825-135258-0760.log",
      "/notebooks/notebook/SAGA_home/hands-on/OpenHPC-v2-handson/.log/20210825/20210825-135336-0192.log",
      "/notebooks/notebook/SAGA_home/hands-on/OpenHPC-v2-handson/.log/20210826/20210826-005018-0614.log",
      "/notebooks/notebook/SAGA_home/hands-on/OpenHPC-v2-handson/.log/20210826/20210826-005045-0976.log",
      "/notebooks/notebook/SAGA_home/hands-on/OpenHPC-v2-handson/.log/20210826/20210826-005129-0826.log",
      "/notebooks/notebook/SAGA_home/hands-on/OpenHPC-v2-handson/.log/20210826/20210826-010339-0869.log",
      "/notebooks/notebook/SAGA_home/hands-on/OpenHPC-v2-handson/.log/20210826/20210826-010358-0032.log",
      "/notebooks/notebook/SAGA_home/hands-on/OpenHPC-v2-handson/.log/20210826/20210826-010415-0488.log",
      "/notebooks/notebook/SAGA_home/hands-on/OpenHPC-v2-handson/.log/20210826/20210826-010432-0901.log",
      "/notebooks/notebook/SAGA_home/hands-on/OpenHPC-v2-handson/.log/20210826/20210826-010457-0090.log",
      "/notebooks/notebook/SAGA_home/hands-on/OpenHPC-v2-handson/.log/20210826/20210826-010513-0506.log",
      "/notebooks/notebook/SAGA_home/hands-on/OpenHPC-v2-handson/.log/20210826/20210826-010552-0857.log",
      "/notebooks/notebook/SAGA_home/hands-on/OpenHPC-v2-handson/.log/20210826/20210826-010614-0281.log",
      "/notebooks/notebook/SAGA_home/hands-on/OpenHPC-v2-handson/.log/20210827/20210827-153113-0646.log",
      "/notebooks/notebook/SAGA_home/hands-on/OpenHPC-v2-handson/.log/20210829/20210829-014911-0890.log",
      "/notebooks/notebook/SAGA_home/hands-on/OpenHPC-v2-handson/.log/20210829/20210829-014932-0509.log",
      "/notebooks/notebook/SAGA_home/hands-on/OpenHPC-v2-handson/.log/20210829/20210829-015009-0522.log",
      "/notebooks/notebook/SAGA_home/hands-on/OpenHPC-v2-handson/.log/20210829/20210829-015804-0581.log",
      "/notebooks/notebook/SAGA_home/hands-on/OpenHPC-v2-handson/.log/20210829/20210829-021002-0853.log",
      "/notebooks/notebook/SAGA_home/hands-on/OpenHPC-v2-handson/.log/20210829/20210829-021358-0778.log",
      "/notebooks/notebook/SAGA_home/hands-on/OpenHPC-v2-handson/.log/20210829/20210829-110146-0558.log",
      "/notebooks/notebook/SAGA_home/hands-on/OpenHPC-v2-handson/.log/20210829/20210829-110221-0526.log",
      "/notebooks/notebook/SAGA_home/hands-on/OpenHPC-v2-handson/.log/20210829/20210829-110247-0214.log",
      "/notebooks/notebook/SAGA_home/hands-on/OpenHPC-v2-handson/.log/20210829/20210829-110342-0695.log",
      "/notebooks/notebook/SAGA_home/hands-on/OpenHPC-v2-handson/.log/20210829/20210829-110420-0315.log",
      "/notebooks/notebook/SAGA_home/hands-on/OpenHPC-v2-handson/.log/20210829/20210829-110717-0474.log",
      "/notebooks/notebook/SAGA_home/hands-on/OpenHPC-v2-handson/.log/20210829/20210829-111145-0648.log",
      "/notebooks/notebook/SAGA_home/hands-on/OpenHPC-v2-handson/.log/20210829/20210829-111201-0568.log",
      "/notebooks/notebook/SAGA_home/hands-on/OpenHPC-v2-handson/.log/20210829/20210829-111254-0911.log",
      "/notebooks/notebook/SAGA_home/hands-on/OpenHPC-v2-handson/.log/20210829/20210829-111343-0537.log",
      "/notebooks/notebook/SAGA_home/hands-on/OpenHPC-v2-handson/.log/20210829/20210829-111443-0926.log",
      "/notebooks/notebook/SAGA_home/hands-on/OpenHPC-v2-handson/.log/20210829/20210829-111503-0278.log",
      "/notebooks/notebook/SAGA_home/hands-on/OpenHPC-v2-handson/.log/20210829/20210829-112111-0798.log",
      "/notebooks/notebook/SAGA_home/hands-on/OpenHPC-v2-handson/.log/20210829/20210829-112141-0957.log",
      "/notebooks/notebook/SAGA_home/hands-on/OpenHPC-v2-handson/.log/20210829/20210829-112938-0084.log",
      "/notebooks/notebook/SAGA_home/hands-on/OpenHPC-v2-handson/.log/20210829/20210829-113118-0244.log",
      "/notebooks/notebook/SAGA_home/hands-on/OpenHPC-v2-handson/.log/20210829/20210829-113145-0138.log",
      "/notebooks/notebook/SAGA_home/hands-on/OpenHPC-v2-handson/.log/20210829/20210829-113334-0953.log",
      "/notebooks/notebook/SAGA_home/hands-on/OpenHPC-v2-handson/.log/20210829/20210829-113721-0672.log",
      "/notebooks/notebook/SAGA_home/hands-on/OpenHPC-v2-handson/.log/20210829/20210829-113749-0733.log",
      "/notebooks/notebook/SAGA_home/hands-on/OpenHPC-v2-handson/.log/20210829/20210829-122735-0688.log",
      "/notebooks/notebook/SAGA_home/hands-on/OpenHPC-v2-handson/.log/20210829/20210829-122801-0113.log",
      "/notebooks/notebook/SAGA_home/hands-on/OpenHPC-v2-handson/.log/20210829/20210829-122947-0552.log",
      "/notebooks/notebook/SAGA_home/hands-on/OpenHPC-v2-handson/.log/20210829/20210829-124439-0181.log",
      "/notebooks/notebook/SAGA_home/hands-on/OpenHPC-v2-handson/.log/20210829/20210829-124836-0931.log",
      "/notebooks/notebook/SAGA_home/hands-on/OpenHPC-v2-handson/.log/20210829/20210829-125951-0101.log",
      "/notebooks/notebook/SAGA_home/hands-on/OpenHPC-v2-handson/.log/20210829/20210829-130426-0959.log",
      "/notebooks/notebook/SAGA_home/hands-on/OpenHPC-v2-handson/.log/20210829/20210829-142721-0663.log",
      "/notebooks/notebook/SAGA_home/hands-on/OpenHPC-v2-handson/.log/20210829/20210829-142742-0531.log",
      "/notebooks/notebook/SAGA_home/hands-on/OpenHPC-v2-handson/.log/20210829/20210829-142812-0299.log",
      "/notebooks/notebook/SAGA_home/hands-on/OpenHPC-v2-handson/.log/20210829/20210829-142834-0999.log",
      "/notebooks/notebook/SAGA_home/hands-on/OpenHPC-v2-handson/.log/20210829/20210829-142858-0498.log",
      "/notebooks/notebook/SAGA_home/hands-on/OpenHPC-v2-handson/.log/20210829/20210829-143301-0097.log",
      "/notebooks/notebook/SAGA_home/hands-on/OpenHPC-v2-handson/.log/20210829/20210829-145609-0675.log",
      "/notebooks/notebook/SAGA_home/hands-on/OpenHPC-v2-handson/.log/20210829/20210829-145632-0269.log",
      "/notebooks/notebook/SAGA_home/hands-on/OpenHPC-v2-handson/.log/20210829/20210829-145714-0551.log",
      "/notebooks/notebook/SAGA_home/hands-on/OpenHPC-v2-handson/.log/20210829/20210829-150943-0821.log",
      "/notebooks/notebook/SAGA_home/hands-on/OpenHPC-v2-handson/.log/20210829/20210829-151026-0491.log",
      "/notebooks/notebook/SAGA_home/hands-on/OpenHPC-v2-handson/.log/20210829/20210829-151255-0273.log",
      "/notebooks/notebook/SAGA_home/hands-on/OpenHPC-v2-handson/.log/20210829/20210829-151331-0888.log",
      "/notebooks/notebook/SAGA_home/hands-on/OpenHPC-v2-handson/.log/20210829/20210829-154423-0611.log",
      "/notebooks/notebook/SAGA_home/hands-on/OpenHPC-v2-handson/.log/20210829/20210829-155008-0553.log",
      "/notebooks/notebook/SAGA_home/hands-on/OpenHPC-v2-handson/.log/20210829/20210829-155028-0953.log",
      "/notebooks/notebook/SAGA_home/hands-on/OpenHPC-v2-handson/.log/20210829/20210829-155139-0781.log",
      "/notebooks/notebook/SAGA_home/hands-on/OpenHPC-v2-handson/.log/20210829/20210829-155241-0430.log",
      "/notebooks/notebook/SAGA_home/hands-on/OpenHPC-v2-handson/.log/20210829/20210829-155333-0561.log",
      "/notebooks/notebook/SAGA_home/hands-on/OpenHPC-v2-handson/.log/20210829/20210829-155414-0050.log",
      "/notebooks/notebook/SAGA_home/hands-on/OpenHPC-v2-handson/.log/20210829/20210829-155646-0917.log",
      "/notebooks/notebook/SAGA_home/hands-on/OpenHPC-v2-handson/.log/20210829/20210829-155704-0117.log",
      "/notebooks/notebook/SAGA_home/hands-on/OpenHPC-v2-handson/.log/20210829/20210829-155734-0831.log",
      "/notebooks/notebook/SAGA_home/hands-on/OpenHPC-v2-handson/.log/20210829/20210829-155758-0321.log",
      "/notebooks/notebook/SAGA_home/hands-on/OpenHPC-v2-handson/.log/20210829/20210829-155905-0280.log",
      "/notebooks/notebook/SAGA_home/hands-on/OpenHPC-v2-handson/.log/20210829/20210829-155936-0045.log",
      "/notebooks/notebook/SAGA_home/hands-on/OpenHPC-v2-handson/.log/20210829/20210829-160720-0532.log",
      "/notebooks/notebook/SAGA_home/hands-on/OpenHPC-v2-handson/.log/20210829/20210829-160943-0053.log",
      "/notebooks/notebook/SAGA_home/hands-on/OpenHPC-v2-handson/.log/20210829/20210829-161337-0877.log",
      "/notebooks/notebook/SAGA_home/hands-on/OpenHPC-v2-handson/.log/20210829/20210829-161441-0543.log",
      "/notebooks/notebook/SAGA_home/hands-on/OpenHPC-v2-handson/.log/20210829/20210829-161500-0825.log",
      "/notebooks/notebook/SAGA_home/hands-on/OpenHPC-v2-handson/.log/20210829/20210829-161533-0867.log",
      "/notebooks/notebook/SAGA_home/hands-on/MNIST_handson/.log/20210829/20210829-234110-0573.log",
      "/notebooks/notebook/SAGA_home/hands-on/MNIST_handson/.log/20210829/20210829-234904-0504.log",
      "/notebooks/notebook/SAGA_home/hands-on/MNIST_handson/.log/20210829/20210829-235214-0604.log",
      "/notebooks/notebook/SAGA_home/hands-on/MNIST_handson/.log/20210829/20210829-235250-0573.log",
      "/notebooks/notebook/SAGA_home/hands-on/MNIST_handson/.log/20210829/20210829-235331-0976.log",
      "/notebooks/notebook/SAGA_home/hands-on/MNIST_handson/.log/20210829/20210829-235817-0274.log",
      "/notebooks/notebook/SAGA_home/hands-on/MNIST_handson/.log/20210830/20210830-000740-0850.log",
      "/notebooks/notebook/SAGA_home/hands-on/MNIST_handson/.log/20210830/20210830-002515-0256.log",
      "/notebooks/notebook/SAGA_home/hands-on/MNIST_handson/.log/20210830/20210830-003846-0335.log",
      "/notebooks/notebook/SAGA_home/hands-on/MNIST_handson/.log/20210830/20210830-003934-0140.log",
      "/notebooks/notebook/SAGA_home/hands-on/MNIST_handson/.log/20210830/20210830-005538-0719.log",
      "/notebooks/notebook/SAGA_home/hands-on/MNIST_handson/.log/20210830/20210830-005735-0232.log",
      "/notebooks/notebook/SAGA_home/hands-on/MNIST_handson/.log/20210830/20210830-005758-0570.log",
      "/notebooks/notebook/SAGA_home/hands-on/MNIST_handson/.log/20210830/20210830-140311-0149.log",
      "/notebooks/notebook/SAGA_home/hands-on/MNIST_handson/.log/20210830/20210830-141405-0560.log",
      "/notebooks/notebook/SAGA_home/hands-on/MNIST_handson/.log/20210830/20210830-155150-0747.log",
      "/notebooks/notebook/SAGA_home/hands-on/MNIST_handson/.log/20210830/20210830-155244-0918.log",
      "/notebooks/notebook/SAGA_home/hands-on/MNIST_handson/.log/20210830/20210830-155310-0114.log",
      "/notebooks/notebook/SAGA_home/hands-on/MNIST_handson/.log/20210830/20210830-155355-0796.log",
      "/notebooks/notebook/SAGA_home/hands-on/MNIST_handson/.log/20210830/20210830-155416-0700.log",
      "/notebooks/notebook/SAGA_home/hands-on/MNIST_handson/.log/20210830/20210830-160134-0238.log",
      "/notebooks/notebook/SAGA_home/hands-on/MNIST_handson/.log/20210830/20210830-160212-0636.log",
      "/home/user513xb92482/hands-on/vcp-tutorial/.log/20210901/20210901-141326-0398.log",
      "/home/user513xb92482/hands-on/vcp-tutorial/.log/20210901/20210901-141352-0830.log",
      "/home/user513xb92482/hands-on/vcp-tutorial/.log/20210901/20210901-141414-0388.log",
      "/home/user513xb92482/hands-on/vcp-tutorial/.log/20210901/20210901-144101-0826.log",
      "/home/user513xb92482/hands-on/vcp-tutorial/.log/20210901/20210901-170028-0630.log",
      "/home/user513xb92482/hands-on/vcp-tutorial/.log/20210902/20210902-213351-0679.log",
      "/home/user513xb92482/hands-on/vcp-tutorial/.log/20210902/20210902-213413-0016.log",
      "/home/user513xb92482/hands-on/vcp-tutorial/.log/20210902/20210902-213434-0399.log",
      "/home/user513xb92482/hands-on/vcp-tutorial/.log/20210902/20210902-220837-0357.log",
      "/home/user513xb92482/hands-on/vcp-tutorial/.log/20210902/20210902-220942-0745.log",
      "/home/user513xb92482/hands-on/vcp-tutorial/.log/20210903/20210903-104219-0456.log",
      "/home/user513xb92482/hands-on/vcp-tutorial/.log/20210903/20210903-104249-0538.log",
      "/home/user513xb92482/hands-on/vcp-tutorial/.log/20210903/20210903-104348-0509.log",
      "/home/user513xb92482/hands-on/vcp-tutorial/.log/20210903/20210903-104720-0541.log",
      "/home/user513xb92482/hands-on/vcp-tutorial/.log/20210903/20210903-104745-0890.log",
      "/home/user513xb92482/hands-on/vcp-tutorial/.log/20210903/20210903-104914-0105.log",
      "/home/user513xb92482/hands-on/vcp-tutorial/.log/20210903/20210903-105002-0553.log",
      "/home/user513xb92482/hands-on/vcp-tutorial/.log/20210903/20210903-115400-0984.log",
      "/home/user513xb92482/hands-on/vcp-tutorial/.log/20210903/20210903-115429-0682.log",
      "/home/user513xb92482/hands-on/vcp-tutorial/.log/20210903/20210903-115509-0630.log",
      "/home/user513xb92482/hands-on/vcp-tutorial/.log/20210903/20210903-115530-0230.log",
      "/home/user513xb92482/hands-on/vcp-tutorial/.log/20210903/20210903-115608-0896.log",
      "/home/user513xb92482/hands-on/vcp-tutorial/.log/20210903/20210903-115849-0367.log",
      "/home/user513xb92482/hands-on/vcp-tutorial/.log/20210903/20210903-120004-0843.log",
      "/home/user513xb92482/hands-on/vcp-tutorial/.log/20210903/20210903-120144-0890.log",
      "/home/user513xb92482/hands-on/vcp-tutorial/.log/20210903/20210903-120210-0459.log",
      "/home/user513xb92482/hands-on/vcp-tutorial/.log/20210903/20210903-120237-0138.log",
      "/home/user513xb92482/hands-on/vcp-tutorial/.log/20210903/20210903-160805-0747.log",
      "/home/user513xb92482/hands-on/vcp-tutorial/.log/20210903/20210903-160929-0555.log",
      "/home/user513xb92482/hands-on/vcp-tutorial/.log/20210903/20210903-161713-0306.log",
      "/home/user513xb92482/hands-on/vcp-tutorial/.log/20210903/20210903-161757-0354.log",
      "/home/user513xb92482/hands-on/vcp-tutorial/.log/20210903/20210903-161933-0031.log",
      "/home/user513xb92482/hands-on/vcp-tutorial/.log/20210903/20210903-162009-0365.log",
      "/home/user513xb92482/hands-on/vcp-tutorial/.log/20210903/20210903-162036-0584.log",
      "/home/user513xb92482/hands-on/vcp-tutorial/.log/20210903/20210903-163001-0862.log",
      "/notebooks/notebook/SAGA_home/hands-on/hands-on.513/vcp-tutorial/.log/20210910/20210910-110002-0585.log",
      "/notebooks/notebook/SAGA_home/hands-on/hands-on.513/vcp-tutorial/.log/20210910/20210910-110026-0093.log",
      "/notebooks/notebook/SAGA_home/hands-on/hands-on.513/vcp-tutorial/.log/20210910/20210910-110145-0456.log",
      "/notebooks/notebook/SAGA_home/hands-on/hands-on.513/vcp-tutorial/.log/20210910/20210910-112203-0843.log",
      "/notebooks/notebook/SAGA_home/hands-on/hands-on.513/vcp-tutorial/.log/20210910/20210910-112241-0178.log",
      "/notebooks/notebook/SAGA_home/hands-on/hands-on.513/vcp-tutorial/OpenHPC-MNIST/.log/20210910/20210910-165300-0617.log",
      "/notebooks/notebook/SAGA_home/hands-on/hands-on.513/vcp-tutorial/OpenHPC-MNIST/.log/20210910/20210910-165331-0284.log",
      "/notebooks/notebook/SAGA_home/210903.handson_cloudweek_2021/Deriver/2109.Recog_with_OpenHPC_template/2.Recognition_system/.log/20210914/20210914-144715-0596.log",
      "/notebooks/notebook/SAGA_home/210903.handson_cloudweek_2021/Deriver/2109.Recog_with_OpenHPC_template/2.Recognition_system/.log/20210914/20210914-144854-0902.log",
      "/notebooks/notebook/SAGA_home/210903.handson_cloudweek_2021/Deriver/2109.Recog_with_OpenHPC_template/2.Recognition_system/.log/20210914/20210914-145021-0626.log",
      "/notebooks/notebook/SAGA_home/210903.handson_cloudweek_2021/Deriver/2109.Recog_with_OpenHPC_template/2.Recognition_system/.log/20210914/20210914-145811-0736.log"
     ]
    },
    "pinned_outputs": []
   },
   "outputs": [],
   "source": [
    "# イメージをファイルに保存\n",
    "with open(img_file, \"w\") as f1:\n",
    "    f1.write(base64_img)\n",
    "    \n",
    "# VCノードへ転送\n",
    "!scp {ssh_opts_user} -qp {img_file} {target}:{work_dir}\n",
    "\n",
    "# 確認のため MNIST の入力サイズ(28x28)に変換して、拡大表示\n",
    "img = Image.open(BytesIO(base64.b64decode(base64_img.split(\",\")[-1]))).resize((28,28))\n",
    "plt.imshow(np.asarray(img))\n",
    "plt.show()\n",
    "\n",
    "# MNIST による認識実行\n",
    "!ssh {ssh_opts_user} {target} docker exec -t -u {user} -w /home/{user}/{work_dir} tensorflow-{user} python3 mnist_predict.py"
   ]
  },
  {
   "cell_type": "markdown",
   "metadata": {
    "heading_collapsed": true,
    "lc_cell_meme": {
     "current": "0378faec-0b85-11ec-9aeb-02420a01001e-4-48fc-e69f-cce0-e697",
     "history": [
      {
       "current": "b1f35a0c-0560-11ec-a3c9-0242ac110002",
       "next": "4a64eec2-a933-11e9-ba83-02420a010053-3-221d-c4fd-a8ce",
       "previous": "2240687a-00a9-11ec-a3c9-0242ac110002"
      },
      {
       "current": "b1f35a0c-0560-11ec-a3c9-0242ac110002",
       "next": "f9878e60-0560-11ec-a3c9-0242ac110002",
       "previous": "2240687a-00a9-11ec-a3c9-0242ac110002"
      },
      {
       "current": "b1f35a0c-0560-11ec-a3c9-0242ac110002-1-ff55",
       "next": "3e9b78ae-0872-11ec-a3c9-0242ac110002",
       "previous": "2240687a-00a9-11ec-a3c9-0242ac110002"
      },
      {
       "current": "b1f35a0c-0560-11ec-a3c9-0242ac110002-2-ff55-99bd",
       "next": "3e9b78ae-0872-11ec-a3c9-0242ac110002-1-212d",
       "previous": "2240687a-00a9-11ec-a3c9-0242ac110002-1-b369"
      },
      {
       "current": "b1f35a0c-0560-11ec-a3c9-0242ac110002-2-ff55-99bd",
       "next": "3e9b78ae-0872-11ec-a3c9-0242ac110002-2-212d-3e27",
       "previous": "2240687a-00a9-11ec-a3c9-0242ac110002-2-b369-b7da"
      },
      {
       "current": "d03ea916-0b3d-11ec-a5ab-02420a01001e",
       "next": "d03ea9e8-0b3d-11ec-a5ab-02420a01001e",
       "previous": "d03ea830-0b3d-11ec-a5ab-02420a01001e"
      },
      {
       "current": "97f97f7a-0b3f-11ec-8ea2-02420a01001e",
       "next": "97f98042-0b3f-11ec-8ea2-02420a01001e",
       "previous": "97f97eb2-0b3f-11ec-8ea2-02420a01001e"
      },
      {
       "current": "8c2438e0-0b7e-11ec-8636-02420a01001e",
       "next": "8c2439a8-0b7e-11ec-8636-02420a01001e",
       "previous": "8c2437e6-0b7e-11ec-8636-02420a01001e"
      },
      {
       "current": "0378faec-0b85-11ec-9aeb-02420a01001e-1-48fc",
       "next": "0378fbc8-0b85-11ec-9aeb-02420a01001e",
       "previous": "0378fa10-0b85-11ec-9aeb-02420a01001e"
      },
      {
       "current": "0378faec-0b85-11ec-9aeb-02420a01001e-2-48fc-e69f",
       "next": "0378fbc8-0b85-11ec-9aeb-02420a01001e-1-2a25",
       "previous": "0378fa10-0b85-11ec-9aeb-02420a01001e-1-a58d"
      },
      {
       "current": "0378faec-0b85-11ec-9aeb-02420a01001e-3-48fc-e69f-cce0",
       "next": "0378fbc8-0b85-11ec-9aeb-02420a01001e-2-2a25-ab59",
       "previous": "0378fa10-0b85-11ec-9aeb-02420a01001e-2-a58d-785b"
      },
      {
       "current": "0378faec-0b85-11ec-9aeb-02420a01001e-4-48fc-e69f-cce0-e697",
       "next": "0378fbc8-0b85-11ec-9aeb-02420a01001e-3-2a25-ab59-2fc9",
       "previous": "0378fa10-0b85-11ec-9aeb-02420a01001e-3-a58d-785b-905d"
      }
     ],
     "next": "0378fbc8-0b85-11ec-9aeb-02420a01001e-4-2a25-ab59-2fc9-a30c",
     "previous": "0378fa10-0b85-11ec-9aeb-02420a01001e-4-a58d-785b-905d-7457"
    }
   },
   "source": [
    "## 誤答が多い？\n"
   ]
  },
  {
   "cell_type": "markdown",
   "metadata": {
    "hidden": true,
    "lc_cell_meme": {
     "current": "0378fbc8-0b85-11ec-9aeb-02420a01001e-4-2a25-ab59-2fc9-a30c",
     "history": [
      {
       "current": "3e9b78ae-0872-11ec-a3c9-0242ac110002-1-212d",
       "next": "f9878e60-0560-11ec-a3c9-0242ac110002",
       "previous": "b1f35a0c-0560-11ec-a3c9-0242ac110002"
      },
      {
       "current": "3e9b78ae-0872-11ec-a3c9-0242ac110002-2-212d-3e27",
       "next": "f9878e60-0560-11ec-a3c9-0242ac110002-1-bd12",
       "previous": "b1f35a0c-0560-11ec-a3c9-0242ac110002-1-ff55"
      },
      {
       "current": "3e9b78ae-0872-11ec-a3c9-0242ac110002-2-212d-3e27",
       "next": "f9878e60-0560-11ec-a3c9-0242ac110002-2-bd12-c189",
       "previous": "b1f35a0c-0560-11ec-a3c9-0242ac110002-2-ff55-99bd"
      },
      {
       "current": "d03ea9e8-0b3d-11ec-a5ab-02420a01001e",
       "next": "d03eaac4-0b3d-11ec-a5ab-02420a01001e",
       "previous": "d03ea916-0b3d-11ec-a5ab-02420a01001e"
      },
      {
       "current": "97f98042-0b3f-11ec-8ea2-02420a01001e",
       "next": "97f9810a-0b3f-11ec-8ea2-02420a01001e",
       "previous": "97f97f7a-0b3f-11ec-8ea2-02420a01001e"
      },
      {
       "current": "8c2439a8-0b7e-11ec-8636-02420a01001e",
       "next": "8c243a84-0b7e-11ec-8636-02420a01001e",
       "previous": "8c2438e0-0b7e-11ec-8636-02420a01001e"
      },
      {
       "current": "0378fbc8-0b85-11ec-9aeb-02420a01001e-1-2a25",
       "next": "0378fc86-0b85-11ec-9aeb-02420a01001e",
       "previous": "0378faec-0b85-11ec-9aeb-02420a01001e"
      },
      {
       "current": "0378fbc8-0b85-11ec-9aeb-02420a01001e-2-2a25-ab59",
       "next": "0378fc86-0b85-11ec-9aeb-02420a01001e-1-609c",
       "previous": "0378faec-0b85-11ec-9aeb-02420a01001e-1-48fc"
      },
      {
       "current": "0378fbc8-0b85-11ec-9aeb-02420a01001e-3-2a25-ab59-2fc9",
       "next": "0378fc86-0b85-11ec-9aeb-02420a01001e-2-609c-ac62",
       "previous": "0378faec-0b85-11ec-9aeb-02420a01001e-2-48fc-e69f"
      },
      {
       "current": "0378fbc8-0b85-11ec-9aeb-02420a01001e-4-2a25-ab59-2fc9-a30c",
       "next": "0378fc86-0b85-11ec-9aeb-02420a01001e-3-609c-ac62-1eba",
       "previous": "0378faec-0b85-11ec-9aeb-02420a01001e-3-48fc-e69f-cce0"
      }
     ],
     "next": "0378fc86-0b85-11ec-9aeb-02420a01001e-4-609c-ac62-1eba-70d2",
     "previous": "0378faec-0b85-11ec-9aeb-02420a01001e-4-48fc-e69f-cce0-e697"
    }
   },
   "source": [
    "学習時のテストでは97%以上の精度が出ているのに、フリーハンド入力の認識では誤りが多いと思います。"
   ]
  },
  {
   "cell_type": "markdown",
   "metadata": {
    "hidden": true,
    "lc_cell_meme": {
     "current": "0378fc86-0b85-11ec-9aeb-02420a01001e-4-609c-ac62-1eba-70d2",
     "history": [
      {
       "current": "f9878e60-0560-11ec-a3c9-0242ac110002",
       "next": "4a64eec2-a933-11e9-ba83-02420a010053-3-221d-c4fd-a8ce",
       "previous": "b1f35a0c-0560-11ec-a3c9-0242ac110002"
      },
      {
       "current": "f9878e60-0560-11ec-a3c9-0242ac110002",
       "next": "a6b1cdde-0562-11ec-a3c9-0242ac110002",
       "previous": "b1f35a0c-0560-11ec-a3c9-0242ac110002"
      },
      {
       "current": "f9878e60-0560-11ec-a3c9-0242ac110002-1-bd12",
       "next": "a6b1cdde-0562-11ec-a3c9-0242ac110002",
       "previous": "3e9b78ae-0872-11ec-a3c9-0242ac110002"
      },
      {
       "current": "f9878e60-0560-11ec-a3c9-0242ac110002-2-bd12-c189",
       "next": "a6b1cdde-0562-11ec-a3c9-0242ac110002-1-641b",
       "previous": "3e9b78ae-0872-11ec-a3c9-0242ac110002-1-212d"
      },
      {
       "current": "f9878e60-0560-11ec-a3c9-0242ac110002-2-bd12-c189",
       "next": "a6b1cdde-0562-11ec-a3c9-0242ac110002-2-641b-4ae4",
       "previous": "3e9b78ae-0872-11ec-a3c9-0242ac110002-2-212d-3e27"
      },
      {
       "current": "d03eaac4-0b3d-11ec-a5ab-02420a01001e",
       "next": "d03eab8c-0b3d-11ec-a5ab-02420a01001e",
       "previous": "d03ea9e8-0b3d-11ec-a5ab-02420a01001e"
      },
      {
       "current": "97f9810a-0b3f-11ec-8ea2-02420a01001e",
       "next": "97f981be-0b3f-11ec-8ea2-02420a01001e",
       "previous": "97f98042-0b3f-11ec-8ea2-02420a01001e"
      },
      {
       "current": "8c243a84-0b7e-11ec-8636-02420a01001e",
       "next": "8c243b60-0b7e-11ec-8636-02420a01001e",
       "previous": "8c2439a8-0b7e-11ec-8636-02420a01001e"
      },
      {
       "current": "0378fc86-0b85-11ec-9aeb-02420a01001e-1-609c",
       "next": "0378fd62-0b85-11ec-9aeb-02420a01001e",
       "previous": "0378fbc8-0b85-11ec-9aeb-02420a01001e"
      },
      {
       "current": "0378fc86-0b85-11ec-9aeb-02420a01001e-2-609c-ac62",
       "next": "0378fd62-0b85-11ec-9aeb-02420a01001e-1-a896",
       "previous": "0378fbc8-0b85-11ec-9aeb-02420a01001e-1-2a25"
      },
      {
       "current": "0378fc86-0b85-11ec-9aeb-02420a01001e-3-609c-ac62-1eba",
       "next": "0378fd62-0b85-11ec-9aeb-02420a01001e-2-a896-3d59",
       "previous": "0378fbc8-0b85-11ec-9aeb-02420a01001e-2-2a25-ab59"
      },
      {
       "current": "0378fc86-0b85-11ec-9aeb-02420a01001e-4-609c-ac62-1eba-70d2",
       "next": "0378fd62-0b85-11ec-9aeb-02420a01001e-3-a896-3d59-8352",
       "previous": "0378fbc8-0b85-11ec-9aeb-02420a01001e-3-2a25-ab59-2fc9"
      }
     ],
     "next": "0378fd62-0b85-11ec-9aeb-02420a01001e-4-a896-3d59-8352-a2d9",
     "previous": "0378fbc8-0b85-11ec-9aeb-02420a01001e-4-2a25-ab59-2fc9-a30c"
    }
   },
   "source": [
    "### 一般的な機械学習認識システムでの対応\n",
    "アプリ運用中に誤答が多くなると、誤答データ（イメージ）と正解ラベルを学習システムに戻して追加学習し、この重みで認識システムを更新します。\n",
    "\n",
    "学習システムはオンデマンドにあれば良いので、本サービスの様にオンデマンドに起動するシステムがあると便利です。"
   ]
  },
  {
   "cell_type": "markdown",
   "metadata": {
    "hidden": true,
    "lc_cell_meme": {
     "current": "0378fd62-0b85-11ec-9aeb-02420a01001e-4-a896-3d59-8352-a2d9",
     "history": [
      {
       "current": "a6b1cdde-0562-11ec-a3c9-0242ac110002",
       "next": "4a64eec2-a933-11e9-ba83-02420a010053-3-221d-c4fd-a8ce",
       "previous": "f9878e60-0560-11ec-a3c9-0242ac110002"
      },
      {
       "current": "a6b1cdde-0562-11ec-a3c9-0242ac110002",
       "next": "01089706-0566-11ec-a3c9-0242ac110002",
       "previous": "f9878e60-0560-11ec-a3c9-0242ac110002"
      },
      {
       "current": "a6b1cdde-0562-11ec-a3c9-0242ac110002",
       "next": "4a64eec2-a933-11e9-ba83-02420a010053-3-221d-c4fd-a8ce",
       "previous": "f9878e60-0560-11ec-a3c9-0242ac110002"
      },
      {
       "current": "a6b1cdde-0562-11ec-a3c9-0242ac110002-1-641b",
       "next": "fa699008-070e-11ec-a3c9-0242ac110002",
       "previous": "f9878e60-0560-11ec-a3c9-0242ac110002"
      },
      {
       "current": "a6b1cdde-0562-11ec-a3c9-0242ac110002-2-641b-4ae4",
       "next": "fa699008-070e-11ec-a3c9-0242ac110002-1-3421",
       "previous": "f9878e60-0560-11ec-a3c9-0242ac110002-1-bd12"
      },
      {
       "current": "a6b1cdde-0562-11ec-a3c9-0242ac110002-2-641b-4ae4",
       "next": "fa699008-070e-11ec-a3c9-0242ac110002-2-3421-00be",
       "previous": "f9878e60-0560-11ec-a3c9-0242ac110002-2-bd12-c189"
      },
      {
       "current": "d03eab8c-0b3d-11ec-a5ab-02420a01001e",
       "next": "d03eac54-0b3d-11ec-a5ab-02420a01001e",
       "previous": "d03eaac4-0b3d-11ec-a5ab-02420a01001e"
      },
      {
       "current": "97f981be-0b3f-11ec-8ea2-02420a01001e",
       "next": "97f98286-0b3f-11ec-8ea2-02420a01001e",
       "previous": "97f9810a-0b3f-11ec-8ea2-02420a01001e"
      },
      {
       "current": "8c243b60-0b7e-11ec-8636-02420a01001e",
       "next": "8c243c46-0b7e-11ec-8636-02420a01001e",
       "previous": "8c243a84-0b7e-11ec-8636-02420a01001e"
      },
      {
       "current": "0378fd62-0b85-11ec-9aeb-02420a01001e-1-a896",
       "next": "0378fe3e-0b85-11ec-9aeb-02420a01001e",
       "previous": "0378fc86-0b85-11ec-9aeb-02420a01001e"
      },
      {
       "current": "0378fd62-0b85-11ec-9aeb-02420a01001e-2-a896-3d59",
       "next": "0378fe3e-0b85-11ec-9aeb-02420a01001e-1-7cbb",
       "previous": "0378fc86-0b85-11ec-9aeb-02420a01001e-1-609c"
      },
      {
       "current": "0378fd62-0b85-11ec-9aeb-02420a01001e-3-a896-3d59-8352",
       "next": "0378fe3e-0b85-11ec-9aeb-02420a01001e-2-7cbb-8f37",
       "previous": "0378fc86-0b85-11ec-9aeb-02420a01001e-2-609c-ac62"
      },
      {
       "current": "0378fd62-0b85-11ec-9aeb-02420a01001e-4-a896-3d59-8352-a2d9",
       "next": "0378fe3e-0b85-11ec-9aeb-02420a01001e-3-7cbb-8f37-7057",
       "previous": "0378fc86-0b85-11ec-9aeb-02420a01001e-3-609c-ac62-1eba"
      }
     ],
     "next": "0378fe3e-0b85-11ec-9aeb-02420a01001e-4-7cbb-8f37-7057-abf2",
     "previous": "0378fc86-0b85-11ec-9aeb-02420a01001e-4-609c-ac62-1eba-70d2"
    }
   },
   "source": [
    "### なぜ、誤答が多い？\n",
    "このテンプレートのMNISTのモデルは、TensorFlowホームページの「初心者のための TensorFlow 2.0 入門」を基にしています。モデルは、フラットな４層ニューラルネットです（{scripts}/mnist_train.py 参照）。\n",
    "\n",
    "一般に、フラットなモデルでは、学習データにない筆者の手書き文字を認識するのは難しいと考えられます。学習時のテストで97%以上の高い精度を示したのは、テストデータの中に学習データと同じ筆者のデータが含まれているためと思われます。\n",
    "\n",
    "学習データにない筆者の手書き認識文字では、畳み込みニューラルネットワーク（CNN）がよく使われます。フラットなネットワークとの違いは、\n",
    "\n",
    "* CNN: 畳み込み層はイメージまたは前層の出力の小領域の部分特徴を認識します。次の畳み込み層では前層の部分特徴の組み合わせをさらに部分特徴として認識します（結果として、前層より入力層の大きな部分を見ることになります）。これを積み重ねることにより、最終的に全体を認識します\n",
    "* フラット: 各層でイメージまたは前層の出力全体を認識します\n",
    "\n",
    "全体しか見ない構造では、変形や位置ずれで誤認識しやすくなります。"
   ]
  },
  {
   "cell_type": "markdown",
   "metadata": {
    "hidden": true,
    "lc_cell_meme": {
     "current": "0378fe3e-0b85-11ec-9aeb-02420a01001e-4-7cbb-8f37-7057-abf2",
     "history": [
      {
       "current": "fa699008-070e-11ec-a3c9-0242ac110002-1-3421",
       "next": "fa69924c-070e-11ec-a3c9-0242ac110002",
       "previous": "a6b1cdde-0562-11ec-a3c9-0242ac110002"
      },
      {
       "current": "fa699008-070e-11ec-a3c9-0242ac110002-2-3421-00be",
       "next": "fa69924c-070e-11ec-a3c9-0242ac110002-1-ceb9",
       "previous": "a6b1cdde-0562-11ec-a3c9-0242ac110002-1-641b"
      },
      {
       "current": "fa699008-070e-11ec-a3c9-0242ac110002-2-3421-00be",
       "next": "fa69924c-070e-11ec-a3c9-0242ac110002-2-ceb9-0702",
       "previous": "a6b1cdde-0562-11ec-a3c9-0242ac110002-2-641b-4ae4"
      },
      {
       "current": "d03eac54-0b3d-11ec-a5ab-02420a01001e",
       "next": "d03ead30-0b3d-11ec-a5ab-02420a01001e",
       "previous": "d03eab8c-0b3d-11ec-a5ab-02420a01001e"
      },
      {
       "current": "97f98286-0b3f-11ec-8ea2-02420a01001e",
       "next": "97f9834e-0b3f-11ec-8ea2-02420a01001e",
       "previous": "97f981be-0b3f-11ec-8ea2-02420a01001e"
      },
      {
       "current": "8c243c46-0b7e-11ec-8636-02420a01001e",
       "next": "8c243d2c-0b7e-11ec-8636-02420a01001e",
       "previous": "8c243b60-0b7e-11ec-8636-02420a01001e"
      },
      {
       "current": "0378fe3e-0b85-11ec-9aeb-02420a01001e-1-7cbb",
       "next": "0378ff10-0b85-11ec-9aeb-02420a01001e",
       "previous": "0378fd62-0b85-11ec-9aeb-02420a01001e"
      },
      {
       "current": "0378fe3e-0b85-11ec-9aeb-02420a01001e-2-7cbb-8f37",
       "next": "0378ff10-0b85-11ec-9aeb-02420a01001e-1-4704",
       "previous": "0378fd62-0b85-11ec-9aeb-02420a01001e-1-a896"
      },
      {
       "current": "0378fe3e-0b85-11ec-9aeb-02420a01001e-3-7cbb-8f37-7057",
       "next": "0378ff10-0b85-11ec-9aeb-02420a01001e-2-4704-3657",
       "previous": "0378fd62-0b85-11ec-9aeb-02420a01001e-2-a896-3d59"
      },
      {
       "current": "0378fe3e-0b85-11ec-9aeb-02420a01001e-4-7cbb-8f37-7057-abf2",
       "next": "0378ff10-0b85-11ec-9aeb-02420a01001e-3-4704-3657-0d2e",
       "previous": "0378fd62-0b85-11ec-9aeb-02420a01001e-3-a896-3d59-8352"
      }
     ],
     "next": "0378ff10-0b85-11ec-9aeb-02420a01001e-4-4704-3657-0d2e-58d4",
     "previous": "0378fd62-0b85-11ec-9aeb-02420a01001e-4-a896-3d59-8352-a2d9"
    }
   },
   "source": [
    "### どうする？"
   ]
  },
  {
   "cell_type": "code",
   "execution_count": null,
   "metadata": {
    "hidden": true,
    "lc_cell_meme": {
     "current": "0378ff10-0b85-11ec-9aeb-02420a01001e-4-4704-3657-0d2e-58d4",
     "history": [
      {
       "current": "fa69924c-070e-11ec-a3c9-0242ac110002",
       "next": "4a64eec2-a933-11e9-ba83-02420a010053-3-221d-c4fd-a8ce",
       "previous": "fa699008-070e-11ec-a3c9-0242ac110002"
      },
      {
       "current": "fa69924c-070e-11ec-a3c9-0242ac110002-1-ceb9",
       "next": "60032dce-0710-11ec-a3c9-0242ac110002",
       "previous": "fa699008-070e-11ec-a3c9-0242ac110002"
      },
      {
       "current": "fa69924c-070e-11ec-a3c9-0242ac110002-2-ceb9-0702",
       "next": "60032dce-0710-11ec-a3c9-0242ac110002-1-a689",
       "previous": "fa699008-070e-11ec-a3c9-0242ac110002-1-3421"
      },
      {
       "current": "fa69924c-070e-11ec-a3c9-0242ac110002-2-ceb9-0702",
       "next": "60032dce-0710-11ec-a3c9-0242ac110002-2-a689-9534",
       "previous": "fa699008-070e-11ec-a3c9-0242ac110002-2-3421-00be"
      },
      {
       "current": "d03ead30-0b3d-11ec-a5ab-02420a01001e",
       "next": "d03eae0c-0b3d-11ec-a5ab-02420a01001e",
       "previous": "d03eac54-0b3d-11ec-a5ab-02420a01001e"
      },
      {
       "current": "97f9834e-0b3f-11ec-8ea2-02420a01001e",
       "next": "97f98402-0b3f-11ec-8ea2-02420a01001e",
       "previous": "97f98286-0b3f-11ec-8ea2-02420a01001e"
      },
      {
       "current": "8c243d2c-0b7e-11ec-8636-02420a01001e",
       "next": "8c243df4-0b7e-11ec-8636-02420a01001e",
       "previous": "8c243c46-0b7e-11ec-8636-02420a01001e"
      },
      {
       "current": "0378ff10-0b85-11ec-9aeb-02420a01001e-1-4704",
       "next": "0378ffd8-0b85-11ec-9aeb-02420a01001e",
       "previous": "0378fe3e-0b85-11ec-9aeb-02420a01001e"
      },
      {
       "current": "0378ff10-0b85-11ec-9aeb-02420a01001e-2-4704-3657",
       "next": "0378ffd8-0b85-11ec-9aeb-02420a01001e-1-9f86",
       "previous": "0378fe3e-0b85-11ec-9aeb-02420a01001e-1-7cbb"
      },
      {
       "current": "0378ff10-0b85-11ec-9aeb-02420a01001e-3-4704-3657-0d2e",
       "next": "0378ffd8-0b85-11ec-9aeb-02420a01001e-2-9f86-83d4",
       "previous": "0378fe3e-0b85-11ec-9aeb-02420a01001e-2-7cbb-8f37"
      },
      {
       "current": "0378ff10-0b85-11ec-9aeb-02420a01001e-4-4704-3657-0d2e-58d4",
       "next": "0378ffd8-0b85-11ec-9aeb-02420a01001e-3-9f86-83d4-cbda",
       "previous": "0378fe3e-0b85-11ec-9aeb-02420a01001e-3-7cbb-8f37-7057"
      }
     ],
     "next": "0378ffd8-0b85-11ec-9aeb-02420a01001e-4-9f86-83d4-cbda-bac3",
     "previous": "0378fe3e-0b85-11ec-9aeb-02420a01001e-4-7cbb-8f37-7057-abf2"
    },
    "lc_wrapper": {
     "log_history": [
      "/notebooks/notebook/SAGA_home/hands-on/OpenHPC-v2-handson/.log/20210829/20210829-162544-0743.log",
      "/notebooks/notebook/SAGA_home/hands-on/MNIST_handson/.log/20210830/20210830-003519-0433.log",
      "/notebooks/notebook/SAGA_home/hands-on/MNIST_handson/.log/20210830/20210830-003603-0467.log",
      "/notebooks/notebook/SAGA_home/hands-on/MNIST_handson/.log/20210830/20210830-003830-0386.log",
      "/notebooks/notebook/SAGA_home/hands-on/MNIST_handson/.log/20210830/20210830-005944-0584.log",
      "/notebooks/notebook/SAGA_home/hands-on/MNIST_handson/.log/20210830/20210830-141342-0658.log",
      "/notebooks/notebook/SAGA_home/hands-on/MNIST_handson/.log/20210830/20210830-160158-0528.log",
      "/home/user513xb92482/hands-on/vcp-tutorial/.log/20210901/20210901-144045-0989.log",
      "/home/user513xb92482/hands-on/vcp-tutorial/.log/20210903/20210903-104236-0689.log",
      "/home/user513xb92482/hands-on/vcp-tutorial/.log/20210903/20210903-104637-0528.log",
      "/home/user513xb92482/hands-on/vcp-tutorial/.log/20210903/20210903-115544-0897.log",
      "/home/user513xb92482/hands-on/vcp-tutorial/.log/20210903/20210903-120158-0609.log",
      "/home/user513xb92482/hands-on/vcp-tutorial/.log/20210903/20210903-161317-0220.log",
      "/home/user513xb92482/hands-on/vcp-tutorial/.log/20210903/20210903-161609-0173.log",
      "/home/user513xb92482/hands-on/vcp-tutorial/.log/20210903/20210903-161639-0753.log",
      "/home/user513xb92482/hands-on/vcp-tutorial/.log/20210903/20210903-162025-0797.log",
      "/notebooks/notebook/SAGA_home/hands-on/hands-on.513/vcp-tutorial/.log/20210910/20210910-104618-0716.log",
      "/notebooks/notebook/SAGA_home/hands-on/hands-on.513/vcp-tutorial/.log/20210910/20210910-110012-0586.log",
      "/notebooks/notebook/SAGA_home/hands-on/hands-on.513/vcp-tutorial/OpenHPC-MNIST/.log/20210910/20210910-165318-0014.log",
      "/notebooks/notebook/SAGA_home/210903.handson_cloudweek_2021/Deriver/2109.Recog_with_OpenHPC_template/2.Recognition_system/.log/20210914/20210914-144731-0044.log"
     ]
    }
   },
   "outputs": [],
   "source": [
    "# そこで、CNNで学習した重みも用意しています。興味のある方は試してみてください。\n",
    "# モデル構成は、{scripts}/mnist_train_cnn.py を参照してください。\n",
    "\n",
    "# CNNで学習済みモデル・重みファイル名\n",
    "model_file2 = 'saved_model2.tgz'\n",
    "\n",
    "# GPU環境で学習したモデルと重みのダウンロードと展開\n",
    "!ssh {ssh_opts_user} {target} rm -rf {work_dir}/saved_model\n",
    "!scp {ssh_opts_user} -qp {model_dir}/{model_file2} {target}:{work_dir}\n",
    "!ssh {ssh_opts_user} {target} '(cd {work_dir}; tar zxpf {model_file2})'\n",
    "# あとはフリーハンド入力のセルに戻って試してみてください。"
   ]
  },
  {
   "cell_type": "code",
   "execution_count": null,
   "metadata": {
    "hidden": true,
    "lc_cell_meme": {
     "current": "0378ffd8-0b85-11ec-9aeb-02420a01001e-4-9f86-83d4-cbda-bac3",
     "history": [
      {
       "current": "60032dce-0710-11ec-a3c9-0242ac110002",
       "next": "4a64eec2-a933-11e9-ba83-02420a010053-3-221d-c4fd-a8ce",
       "previous": "fa69924c-070e-11ec-a3c9-0242ac110002"
      },
      {
       "current": "60032dce-0710-11ec-a3c9-0242ac110002",
       "next": "a78b2b56-0710-11ec-a3c9-0242ac110002",
       "previous": "fa69924c-070e-11ec-a3c9-0242ac110002"
      },
      {
       "current": "60032dce-0710-11ec-a3c9-0242ac110002-1-a689",
       "next": "b7159900-0876-11ec-a3c9-0242ac110002",
       "previous": "fa69924c-070e-11ec-a3c9-0242ac110002"
      },
      {
       "current": "60032dce-0710-11ec-a3c9-0242ac110002-2-a689-9534",
       "next": "b7159900-0876-11ec-a3c9-0242ac110002-1-e7b5",
       "previous": "fa69924c-070e-11ec-a3c9-0242ac110002-1-ceb9"
      },
      {
       "current": "60032dce-0710-11ec-a3c9-0242ac110002-2-a689-9534",
       "next": "b7159900-0876-11ec-a3c9-0242ac110002-2-e7b5-434e",
       "previous": "fa69924c-070e-11ec-a3c9-0242ac110002-2-ceb9-0702"
      },
      {
       "current": "d03eae0c-0b3d-11ec-a5ab-02420a01001e",
       "next": "d03eaee8-0b3d-11ec-a5ab-02420a01001e",
       "previous": "d03ead30-0b3d-11ec-a5ab-02420a01001e"
      },
      {
       "current": "97f98402-0b3f-11ec-8ea2-02420a01001e",
       "next": "97f984f2-0b3f-11ec-8ea2-02420a01001e",
       "previous": "97f9834e-0b3f-11ec-8ea2-02420a01001e"
      },
      {
       "current": "8c243df4-0b7e-11ec-8636-02420a01001e",
       "next": "8c243ec6-0b7e-11ec-8636-02420a01001e",
       "previous": "8c243d2c-0b7e-11ec-8636-02420a01001e"
      },
      {
       "current": "0378ffd8-0b85-11ec-9aeb-02420a01001e-1-9f86",
       "next": "037900a0-0b85-11ec-9aeb-02420a01001e",
       "previous": "0378ff10-0b85-11ec-9aeb-02420a01001e"
      },
      {
       "current": "0378ffd8-0b85-11ec-9aeb-02420a01001e-2-9f86-83d4",
       "next": "037900a0-0b85-11ec-9aeb-02420a01001e-1-df9e",
       "previous": "0378ff10-0b85-11ec-9aeb-02420a01001e-1-4704"
      },
      {
       "current": "0378ffd8-0b85-11ec-9aeb-02420a01001e-3-9f86-83d4-cbda",
       "next": "037900a0-0b85-11ec-9aeb-02420a01001e-2-df9e-2664",
       "previous": "0378ff10-0b85-11ec-9aeb-02420a01001e-2-4704-3657"
      },
      {
       "current": "0378ffd8-0b85-11ec-9aeb-02420a01001e-4-9f86-83d4-cbda-bac3",
       "next": "037900a0-0b85-11ec-9aeb-02420a01001e-3-df9e-2664-298f",
       "previous": "0378ff10-0b85-11ec-9aeb-02420a01001e-3-4704-3657-0d2e"
      }
     ],
     "next": "037900a0-0b85-11ec-9aeb-02420a01001e-4-df9e-2664-298f-5d54",
     "previous": "0378ff10-0b85-11ec-9aeb-02420a01001e-4-4704-3657-0d2e-58d4"
    },
    "lc_wrapper": {
     "log_history": [
      "/notebooks/notebook/SAGA_home/hands-on/OpenHPC-v2-handson/.log/20210827/20210827-173548-0486.log",
      "/notebooks/notebook/SAGA_home/hands-on/OpenHPC-v2-handson/.log/20210828/20210828-010903-0509.log",
      "/notebooks/notebook/SAGA_home/hands-on/OpenHPC-v2-handson/.log/20210828/20210828-011645-0472.log",
      "/notebooks/notebook/SAGA_home/hands-on/MNIST_handson/.log/20210829/20210829-234252-0979.log",
      "/notebooks/notebook/SAGA_home/hands-on/MNIST_handson/.log/20210830/20210830-000014-0546.log",
      "/notebooks/notebook/SAGA_home/hands-on/MNIST_handson/.log/20210830/20210830-001637-0818.log",
      "/notebooks/notebook/SAGA_home/hands-on/MNIST_handson/.log/20210830/20210830-002545-0820.log",
      "/notebooks/notebook/SAGA_home/hands-on/MNIST_handson/.log/20210830/20210830-004624-0484.log",
      "/notebooks/notebook/SAGA_home/hands-on/MNIST_handson/.log/20210830/20210830-141837-0099.log",
      "/notebooks/notebook/SAGA_home/hands-on/MNIST_handson/.log/20210830/20210830-160241-0087.log",
      "/home/user513xb92482/hands-on/vcp-tutorial/.log/20210903/20210903-162227-0810.log",
      "/notebooks/notebook/SAGA_home/hands-on/hands-on.513/vcp-tutorial/.log/20210910/20210910-110202-0665.log",
      "/notebooks/notebook/SAGA_home/210903.handson_cloudweek_2021/Deriver/2109.Recog_with_OpenHPC_template/2.Recognition_system/.log/20210914/20210914-145042-0671.log"
     ]
    }
   },
   "outputs": [],
   "source": [
    "# 実は、CPUだけのVCノードでも学習可能です。8分程度必要です。興味があればコメントを外して試してみてください。\n",
    "!ssh {ssh_opts_user} {target} docker exec -t -u {user} -w /home/{user}/{work_dir} tensorflow-{user} python3 download_mnist.py\n",
    "!ssh {ssh_opts_user} {target} docker exec -t -u {user} -w /home/{user}/{work_dir} tensorflow-{user} python3 mnist_train_cnn.py"
   ]
  },
  {
   "cell_type": "markdown",
   "metadata": {
    "hidden": true,
    "lc_cell_meme": {
     "current": "037900a0-0b85-11ec-9aeb-02420a01001e-4-df9e-2664-298f-5d54",
     "history": [
      {
       "current": "b7159900-0876-11ec-a3c9-0242ac110002",
       "next": "a78b2b56-0710-11ec-a3c9-0242ac110002",
       "previous": "60032dce-0710-11ec-a3c9-0242ac110002"
      },
      {
       "current": "b7159900-0876-11ec-a3c9-0242ac110002-1-e7b5",
       "next": "a78b2b56-0710-11ec-a3c9-0242ac110002-1-0153",
       "previous": "60032dce-0710-11ec-a3c9-0242ac110002"
      },
      {
       "current": "b7159900-0876-11ec-a3c9-0242ac110002-2-e7b5-434e",
       "next": "a78b2b56-0710-11ec-a3c9-0242ac110002-2-0153-a1f4",
       "previous": "60032dce-0710-11ec-a3c9-0242ac110002-1-a689"
      },
      {
       "current": "b7159900-0876-11ec-a3c9-0242ac110002-2-e7b5-434e",
       "next": "a78b2b56-0710-11ec-a3c9-0242ac110002-3-0153-a1f4-a5a0",
       "previous": "60032dce-0710-11ec-a3c9-0242ac110002-2-a689-9534"
      },
      {
       "current": "d03eaee8-0b3d-11ec-a5ab-02420a01001e",
       "next": "d03eafba-0b3d-11ec-a5ab-02420a01001e",
       "previous": "d03eae0c-0b3d-11ec-a5ab-02420a01001e"
      },
      {
       "current": "97f984f2-0b3f-11ec-8ea2-02420a01001e",
       "next": "97f985ba-0b3f-11ec-8ea2-02420a01001e",
       "previous": "97f98402-0b3f-11ec-8ea2-02420a01001e"
      },
      {
       "current": "8c243ec6-0b7e-11ec-8636-02420a01001e",
       "next": "8c243fac-0b7e-11ec-8636-02420a01001e",
       "previous": "8c243df4-0b7e-11ec-8636-02420a01001e"
      },
      {
       "current": "037900a0-0b85-11ec-9aeb-02420a01001e-1-df9e",
       "next": "03790190-0b85-11ec-9aeb-02420a01001e",
       "previous": "0378ffd8-0b85-11ec-9aeb-02420a01001e"
      },
      {
       "current": "037900a0-0b85-11ec-9aeb-02420a01001e-2-df9e-2664",
       "next": "03790190-0b85-11ec-9aeb-02420a01001e-1-28ff",
       "previous": "0378ffd8-0b85-11ec-9aeb-02420a01001e-1-9f86"
      },
      {
       "current": "037900a0-0b85-11ec-9aeb-02420a01001e-3-df9e-2664-298f",
       "next": "03790190-0b85-11ec-9aeb-02420a01001e-2-28ff-8be7",
       "previous": "0378ffd8-0b85-11ec-9aeb-02420a01001e-2-9f86-83d4"
      },
      {
       "current": "037900a0-0b85-11ec-9aeb-02420a01001e-4-df9e-2664-298f-5d54",
       "next": "03790190-0b85-11ec-9aeb-02420a01001e-3-28ff-8be7-d0bc",
       "previous": "0378ffd8-0b85-11ec-9aeb-02420a01001e-3-9f86-83d4-cbda"
      }
     ],
     "next": "03790190-0b85-11ec-9aeb-02420a01001e-4-28ff-8be7-d0bc-db0e",
     "previous": "0378ffd8-0b85-11ec-9aeb-02420a01001e-4-9f86-83d4-cbda-bac3"
    }
   },
   "source": [
    "### CNNを試した方へ"
   ]
  },
  {
   "cell_type": "markdown",
   "metadata": {
    "hidden": true,
    "lc_cell_meme": {
     "current": "03790190-0b85-11ec-9aeb-02420a01001e-4-28ff-8be7-d0bc-db0e",
     "history": [
      {
       "current": "a78b2b56-0710-11ec-a3c9-0242ac110002",
       "next": "4a64eec2-a933-11e9-ba83-02420a010053-3-221d-c4fd-a8ce",
       "previous": "60032dce-0710-11ec-a3c9-0242ac110002"
      },
      {
       "current": "a78b2b56-0710-11ec-a3c9-0242ac110002",
       "next": "ef16140e-0710-11ec-a3c9-0242ac110002",
       "previous": "60032dce-0710-11ec-a3c9-0242ac110002"
      },
      {
       "current": "a78b2b56-0710-11ec-a3c9-0242ac110002-1-0153",
       "next": "ef16140e-0710-11ec-a3c9-0242ac110002",
       "previous": "b7159900-0876-11ec-a3c9-0242ac110002"
      },
      {
       "current": "a78b2b56-0710-11ec-a3c9-0242ac110002-2-0153-a1f4",
       "next": "4a64eec2-a933-11e9-ba83-02420a010053-3-221d-c4fd-a8ce",
       "previous": "b7159900-0876-11ec-a3c9-0242ac110002"
      },
      {
       "current": "a78b2b56-0710-11ec-a3c9-0242ac110002-3-0153-a1f4-a5a0",
       "next": "4a64eec2-a933-11e9-ba83-02420a010053-4-221d-c4fd-a8ce-1b65",
       "previous": "b7159900-0876-11ec-a3c9-0242ac110002-1-e7b5"
      },
      {
       "current": "a78b2b56-0710-11ec-a3c9-0242ac110002-3-0153-a1f4-a5a0",
       "next": "4a64eec2-a933-11e9-ba83-02420a010053-5-221d-c4fd-a8ce-1b65-392e",
       "previous": "b7159900-0876-11ec-a3c9-0242ac110002-2-e7b5-434e"
      },
      {
       "current": "d03eafba-0b3d-11ec-a5ab-02420a01001e",
       "next": "d03eb08c-0b3d-11ec-a5ab-02420a01001e",
       "previous": "d03eaee8-0b3d-11ec-a5ab-02420a01001e"
      },
      {
       "current": "97f985ba-0b3f-11ec-8ea2-02420a01001e",
       "next": "97f98678-0b3f-11ec-8ea2-02420a01001e",
       "previous": "97f984f2-0b3f-11ec-8ea2-02420a01001e"
      },
      {
       "current": "8c243fac-0b7e-11ec-8636-02420a01001e",
       "next": "8c24407e-0b7e-11ec-8636-02420a01001e",
       "previous": "8c243ec6-0b7e-11ec-8636-02420a01001e"
      },
      {
       "current": "03790190-0b85-11ec-9aeb-02420a01001e-1-28ff",
       "next": "0379024e-0b85-11ec-9aeb-02420a01001e",
       "previous": "037900a0-0b85-11ec-9aeb-02420a01001e"
      },
      {
       "current": "03790190-0b85-11ec-9aeb-02420a01001e-2-28ff-8be7",
       "next": "0379024e-0b85-11ec-9aeb-02420a01001e-1-2355",
       "previous": "037900a0-0b85-11ec-9aeb-02420a01001e-1-df9e"
      },
      {
       "current": "03790190-0b85-11ec-9aeb-02420a01001e-3-28ff-8be7-d0bc",
       "next": "0379024e-0b85-11ec-9aeb-02420a01001e-2-2355-5ebc",
       "previous": "037900a0-0b85-11ec-9aeb-02420a01001e-2-df9e-2664"
      },
      {
       "current": "03790190-0b85-11ec-9aeb-02420a01001e-4-28ff-8be7-d0bc-db0e",
       "next": "0379024e-0b85-11ec-9aeb-02420a01001e-3-2355-5ebc-0167",
       "previous": "037900a0-0b85-11ec-9aeb-02420a01001e-3-df9e-2664-298f"
      }
     ],
     "next": "0379024e-0b85-11ec-9aeb-02420a01001e-4-2355-5ebc-0167-5e09",
     "previous": "037900a0-0b85-11ec-9aeb-02420a01001e-4-df9e-2664-298f-5d54"
    },
    "lc_wrapper": {
     "log_history": [
      "/notebooks/notebook/SAGA_home/hands-on/OpenHPC-v2-handson/.log/20210827/20210827-173947-0419.log",
      "/notebooks/notebook/SAGA_home/hands-on/OpenHPC-v2-handson/.log/20210828/20210828-011151-0569.log"
     ]
    }
   },
   "source": [
    "CNNを使っても、あまり認識率が上がらないと思います。\n",
    "\n",
    "原因の一つとして、モデルの層が少ないことが考えられます。今回使用したCNNは４層です（CNNは最初の2層のみ）。ニューラルネットは層が多いほど複雑な動作ができます。例えば、AND や OR は中間層のない１層で学習できますが、XOR では少なくとも１つの中間層が必要です（２層モデル）。認識精度の高いニューラルネットでは１００層を超えます。\n",
    "\n",
    "このテンプレートではここまでとしますが、興味ある方は {scripts}/mnist_train_cnn.py を編集して試してみてください。（この環境では学習時間がかかり過ぎますが...）"
   ]
  },
  {
   "cell_type": "markdown",
   "metadata": {
    "heading_collapsed": true,
    "lc_cell_meme": {
     "current": "0379024e-0b85-11ec-9aeb-02420a01001e-4-2355-5ebc-0167-5e09",
     "history": [
      {
       "current": "4a64eec2-a933-11e9-ba83-02420a010053",
       "next": "4a64efb2-a933-11e9-ba83-02420a010053",
       "previous": "4a64edf0-a933-11e9-ba83-02420a010053"
      },
      {
       "current": "4a64eec2-a933-11e9-ba83-02420a010053",
       "next": "4a64efb2-a933-11e9-ba83-02420a010053",
       "previous": "4666fa18-a9fb-11e9-8556-02420a010057"
      },
      {
       "current": "4a64eec2-a933-11e9-ba83-02420a010053",
       "next": "4a64efb2-a933-11e9-ba83-02420a010053",
       "previous": "4a64edf0-a933-11e9-ba83-02420a010053"
      },
      {
       "current": "4a64eec2-a933-11e9-ba83-02420a010053-1-221d",
       "next": "4a64efb2-a933-11e9-ba83-02420a010053",
       "previous": "e71c024c-10de-11ea-9a65-02420a010273"
      },
      {
       "current": "4a64eec2-a933-11e9-ba83-02420a010053-1-221d",
       "next": "4a64efb2-a933-11e9-ba83-02420a010053-1-2798",
       "previous": "4a64edf0-a933-11e9-ba83-02420a010053-1-0040"
      },
      {
       "current": "4a64eec2-a933-11e9-ba83-02420a010053-2-221d-c4fd",
       "next": "4a64efb2-a933-11e9-ba83-02420a010053-1-2798",
       "previous": "f3a8f634-981c-11eb-b87f-02420a0100de"
      },
      {
       "current": "4a64eec2-a933-11e9-ba83-02420a010053-2-221d-c4fd",
       "next": "4a64efb2-a933-11e9-ba83-02420a010053-2-2798-6f7f",
       "previous": "f3a8f634-981c-11eb-b87f-02420a0100de-1-8433"
      },
      {
       "current": "4a64eec2-a933-11e9-ba83-02420a010053-3-221d-c4fd-a8ce",
       "next": "4a64efb2-a933-11e9-ba83-02420a010053-2-2798-6f7f",
       "previous": "4a64edf0-a933-11e9-ba83-02420a010053-2-0040-6ef6"
      },
      {
       "current": "4a64eec2-a933-11e9-ba83-02420a010053-3-221d-c4fd-a8ce",
       "next": "4a64efb2-a933-11e9-ba83-02420a010053-3-2798-6f7f-9228",
       "previous": "4a64edf0-a933-11e9-ba83-02420a010053-3-0040-6ef6-2c35"
      },
      {
       "current": "4a64eec2-a933-11e9-ba83-02420a010053-3-221d-c4fd-a8ce",
       "next": "4a64efb2-a933-11e9-ba83-02420a010053-3-2798-6f7f-9228",
       "previous": "4a649328-a933-11e9-ba83-02420a010053-3-8047-b02c-fee7"
      },
      {
       "current": "4a64eec2-a933-11e9-ba83-02420a010053-3-221d-c4fd-a8ce",
       "next": "4a64efb2-a933-11e9-ba83-02420a010053-3-2798-6f7f-9228",
       "previous": "911bdf48-f9e4-11eb-a3c9-0242ac110002"
      },
      {
       "current": "4a64eec2-a933-11e9-ba83-02420a010053-3-221d-c4fd-a8ce",
       "next": "4a64efb2-a933-11e9-ba83-02420a010053-3-2798-6f7f-9228",
       "previous": "d89a3c70-f9e4-11eb-a3c9-0242ac110002"
      },
      {
       "current": "4a64eec2-a933-11e9-ba83-02420a010053-3-221d-c4fd-a8ce",
       "next": "4a64efb2-a933-11e9-ba83-02420a010053-3-2798-6f7f-9228",
       "previous": "09fd7698-fa52-11eb-a3c9-0242ac110002"
      },
      {
       "current": "4a64eec2-a933-11e9-ba83-02420a010053-3-221d-c4fd-a8ce",
       "next": "4a64efb2-a933-11e9-ba83-02420a010053-3-2798-6f7f-9228",
       "previous": "e08ed526-fa52-11eb-a3c9-0242ac110002"
      },
      {
       "current": "4a64eec2-a933-11e9-ba83-02420a010053-3-221d-c4fd-a8ce",
       "next": "4a64efb2-a933-11e9-ba83-02420a010053-3-2798-6f7f-9228",
       "previous": "91a37c7c-fb11-11eb-a3c9-0242ac110002"
      },
      {
       "current": "4a64eec2-a933-11e9-ba83-02420a010053-3-221d-c4fd-a8ce",
       "next": "4a64efb2-a933-11e9-ba83-02420a010053-3-2798-6f7f-9228",
       "previous": "20b15cae-fb12-11eb-a3c9-0242ac110002"
      },
      {
       "current": "4a64eec2-a933-11e9-ba83-02420a010053-3-221d-c4fd-a8ce",
       "next": "d55f63ac-fb18-11eb-a3c9-0242ac110002",
       "previous": "20b15cae-fb12-11eb-a3c9-0242ac110002"
      },
      {
       "current": "4a64eec2-a933-11e9-ba83-02420a010053-3-221d-c4fd-a8ce",
       "next": "d55f63ac-fb18-11eb-a3c9-0242ac110002-1-6a85",
       "previous": "91a37c7c-fb11-11eb-a3c9-0242ac110002"
      },
      {
       "current": "4a64eec2-a933-11e9-ba83-02420a010053-3-221d-c4fd-a8ce",
       "next": "d55f63ac-fb18-11eb-a3c9-0242ac110002-1-6a85",
       "previous": "b9bbf1a4-fb3d-11eb-a3c9-0242ac110002"
      },
      {
       "current": "4a64eec2-a933-11e9-ba83-02420a010053-3-221d-c4fd-a8ce",
       "next": "d55f63ac-fb18-11eb-a3c9-0242ac110002-1-6a85",
       "previous": "c01abe34-fb4e-11eb-a3c9-0242ac110002"
      },
      {
       "current": "4a64eec2-a933-11e9-ba83-02420a010053-3-221d-c4fd-a8ce",
       "next": "d55f63ac-fb18-11eb-a3c9-0242ac110002-1-6a85",
       "previous": "b9bbf1a4-fb3d-11eb-a3c9-0242ac110002"
      },
      {
       "current": "4a64eec2-a933-11e9-ba83-02420a010053-3-221d-c4fd-a8ce",
       "next": "d55f63ac-fb18-11eb-a3c9-0242ac110002-1-6a85",
       "previous": "4f2cc612-fb4f-11eb-a3c9-0242ac110002"
      },
      {
       "current": "4a64eec2-a933-11e9-ba83-02420a010053-3-221d-c4fd-a8ce",
       "next": "d55f63ac-fb18-11eb-a3c9-0242ac110002-1-6a85",
       "previous": "8b674b5a-fb51-11eb-a3c9-0242ac110002"
      },
      {
       "current": "4a64eec2-a933-11e9-ba83-02420a010053-3-221d-c4fd-a8ce",
       "next": "d55f63ac-fb18-11eb-a3c9-0242ac110002-1-6a85",
       "previous": "2240687a-00a9-11ec-a3c9-0242ac110002"
      },
      {
       "current": "4a64eec2-a933-11e9-ba83-02420a010053-3-221d-c4fd-a8ce",
       "next": "d55f63ac-fb18-11eb-a3c9-0242ac110002-1-6a85",
       "previous": "d3cabddc-0484-11ec-a3c9-0242ac110002"
      },
      {
       "current": "4a64eec2-a933-11e9-ba83-02420a010053-3-221d-c4fd-a8ce",
       "next": "d55f63ac-fb18-11eb-a3c9-0242ac110002-1-6a85",
       "previous": "2240687a-00a9-11ec-a3c9-0242ac110002"
      },
      {
       "current": "4a64eec2-a933-11e9-ba83-02420a010053-3-221d-c4fd-a8ce",
       "next": "d55f63ac-fb18-11eb-a3c9-0242ac110002-1-6a85",
       "previous": "b1f35a0c-0560-11ec-a3c9-0242ac110002"
      },
      {
       "current": "4a64eec2-a933-11e9-ba83-02420a010053-3-221d-c4fd-a8ce",
       "next": "d55f63ac-fb18-11eb-a3c9-0242ac110002-1-6a85",
       "previous": "f9878e60-0560-11ec-a3c9-0242ac110002"
      },
      {
       "current": "4a64eec2-a933-11e9-ba83-02420a010053-3-221d-c4fd-a8ce",
       "next": "d55f63ac-fb18-11eb-a3c9-0242ac110002-1-6a85",
       "previous": "a6b1cdde-0562-11ec-a3c9-0242ac110002"
      },
      {
       "current": "4a64eec2-a933-11e9-ba83-02420a010053-3-221d-c4fd-a8ce",
       "next": "d55f63ac-fb18-11eb-a3c9-0242ac110002-1-6a85",
       "previous": "01089706-0566-11ec-a3c9-0242ac110002"
      },
      {
       "current": "4a64eec2-a933-11e9-ba83-02420a010053-3-221d-c4fd-a8ce",
       "next": "d55f63ac-fb18-11eb-a3c9-0242ac110002-1-6a85",
       "previous": "a6b1cdde-0562-11ec-a3c9-0242ac110002"
      },
      {
       "current": "4a64eec2-a933-11e9-ba83-02420a010053-3-221d-c4fd-a8ce",
       "next": "d55f63ac-fb18-11eb-a3c9-0242ac110002-1-6a85",
       "previous": "fa69924c-070e-11ec-a3c9-0242ac110002"
      },
      {
       "current": "4a64eec2-a933-11e9-ba83-02420a010053-3-221d-c4fd-a8ce",
       "next": "d55f63ac-fb18-11eb-a3c9-0242ac110002-1-6a85",
       "previous": "60032dce-0710-11ec-a3c9-0242ac110002"
      },
      {
       "current": "4a64eec2-a933-11e9-ba83-02420a010053-3-221d-c4fd-a8ce",
       "next": "d55f63ac-fb18-11eb-a3c9-0242ac110002-1-6a85",
       "previous": "a78b2b56-0710-11ec-a3c9-0242ac110002"
      },
      {
       "current": "4a64eec2-a933-11e9-ba83-02420a010053-3-221d-c4fd-a8ce",
       "next": "d55f63ac-fb18-11eb-a3c9-0242ac110002-1-6a85",
       "previous": "ef16140e-0710-11ec-a3c9-0242ac110002"
      },
      {
       "current": "4a64eec2-a933-11e9-ba83-02420a010053-4-221d-c4fd-a8ce-1b65",
       "next": "d55f63ac-fb18-11eb-a3c9-0242ac110002-1-6a85",
       "previous": "a78b2b56-0710-11ec-a3c9-0242ac110002-1-0153"
      },
      {
       "current": "4a64eec2-a933-11e9-ba83-02420a010053-5-221d-c4fd-a8ce-1b65-392e",
       "next": "d55f63ac-fb18-11eb-a3c9-0242ac110002-2-6a85-fc4a",
       "previous": "a78b2b56-0710-11ec-a3c9-0242ac110002-2-0153-a1f4"
      },
      {
       "current": "4a64eec2-a933-11e9-ba83-02420a010053-5-221d-c4fd-a8ce-1b65-392e",
       "next": "d55f63ac-fb18-11eb-a3c9-0242ac110002-3-6a85-fc4a-5bac",
       "previous": "a78b2b56-0710-11ec-a3c9-0242ac110002-3-0153-a1f4-a5a0"
      },
      {
       "current": "d03eb08c-0b3d-11ec-a5ab-02420a01001e",
       "next": "d03eb15e-0b3d-11ec-a5ab-02420a01001e",
       "previous": "d03eafba-0b3d-11ec-a5ab-02420a01001e"
      },
      {
       "current": "97f98678-0b3f-11ec-8ea2-02420a01001e",
       "next": "97f98736-0b3f-11ec-8ea2-02420a01001e",
       "previous": "97f985ba-0b3f-11ec-8ea2-02420a01001e"
      },
      {
       "current": "8c24407e-0b7e-11ec-8636-02420a01001e",
       "next": "8c24416e-0b7e-11ec-8636-02420a01001e",
       "previous": "8c243fac-0b7e-11ec-8636-02420a01001e"
      },
      {
       "current": "0379024e-0b85-11ec-9aeb-02420a01001e-1-2355",
       "next": "03790334-0b85-11ec-9aeb-02420a01001e",
       "previous": "03790190-0b85-11ec-9aeb-02420a01001e"
      },
      {
       "current": "0379024e-0b85-11ec-9aeb-02420a01001e-2-2355-5ebc",
       "next": "03790334-0b85-11ec-9aeb-02420a01001e-1-3354",
       "previous": "03790190-0b85-11ec-9aeb-02420a01001e-1-28ff"
      },
      {
       "current": "0379024e-0b85-11ec-9aeb-02420a01001e-3-2355-5ebc-0167",
       "next": "03790334-0b85-11ec-9aeb-02420a01001e-2-3354-8be2",
       "previous": "03790190-0b85-11ec-9aeb-02420a01001e-2-28ff-8be7"
      },
      {
       "current": "0379024e-0b85-11ec-9aeb-02420a01001e-4-2355-5ebc-0167-5e09",
       "next": "03790334-0b85-11ec-9aeb-02420a01001e-3-3354-8be2-df8f",
       "previous": "03790190-0b85-11ec-9aeb-02420a01001e-3-28ff-8be7-d0bc"
      }
     ],
     "next": "03790334-0b85-11ec-9aeb-02420a01001e-4-3354-8be2-df8f-fd6b",
     "previous": "03790190-0b85-11ec-9aeb-02420a01001e-4-28ff-8be7-d0bc-db0e"
    }
   },
   "source": [
    "## 環境の削除\n",
    "TensorFlowコンテナを停止し、全てのリソースを削除します。"
   ]
  },
  {
   "cell_type": "markdown",
   "metadata": {
    "hidden": true,
    "lc_cell_meme": {
     "current": "03790334-0b85-11ec-9aeb-02420a01001e-4-3354-8be2-df8f-fd6b",
     "history": [
      {
       "current": "d55f63ac-fb18-11eb-a3c9-0242ac110002-1-6a85",
       "next": "4a64efb2-a933-11e9-ba83-02420a010053-3-2798-6f7f-9228",
       "previous": "4a64eec2-a933-11e9-ba83-02420a010053-3-221d-c4fd-a8ce"
      },
      {
       "current": "d55f63ac-fb18-11eb-a3c9-0242ac110002-2-6a85-fc4a",
       "next": "1cdd624c-fb19-11eb-a3c9-0242ac110002",
       "previous": "4a64eec2-a933-11e9-ba83-02420a010053-3-221d-c4fd-a8ce"
      },
      {
       "current": "d55f63ac-fb18-11eb-a3c9-0242ac110002-3-6a85-fc4a-5bac",
       "next": "1cdd624c-fb19-11eb-a3c9-0242ac110002-1-31a5",
       "previous": "4a64eec2-a933-11e9-ba83-02420a010053-4-221d-c4fd-a8ce-1b65"
      },
      {
       "current": "d55f63ac-fb18-11eb-a3c9-0242ac110002-3-6a85-fc4a-5bac",
       "next": "1cdd624c-fb19-11eb-a3c9-0242ac110002-2-31a5-ae55",
       "previous": "4a64eec2-a933-11e9-ba83-02420a010053-5-221d-c4fd-a8ce-1b65-392e"
      },
      {
       "current": "d03eb15e-0b3d-11ec-a5ab-02420a01001e",
       "next": "d03eb24e-0b3d-11ec-a5ab-02420a01001e",
       "previous": "d03eb08c-0b3d-11ec-a5ab-02420a01001e"
      },
      {
       "current": "97f98736-0b3f-11ec-8ea2-02420a01001e",
       "next": "97f9881c-0b3f-11ec-8ea2-02420a01001e",
       "previous": "97f98678-0b3f-11ec-8ea2-02420a01001e"
      },
      {
       "current": "8c24416e-0b7e-11ec-8636-02420a01001e",
       "next": "8c24425e-0b7e-11ec-8636-02420a01001e",
       "previous": "8c24407e-0b7e-11ec-8636-02420a01001e"
      },
      {
       "current": "03790334-0b85-11ec-9aeb-02420a01001e-1-3354",
       "next": "03790424-0b85-11ec-9aeb-02420a01001e",
       "previous": "0379024e-0b85-11ec-9aeb-02420a01001e"
      },
      {
       "current": "03790334-0b85-11ec-9aeb-02420a01001e-2-3354-8be2",
       "next": "03790424-0b85-11ec-9aeb-02420a01001e-1-25c2",
       "previous": "0379024e-0b85-11ec-9aeb-02420a01001e-1-2355"
      },
      {
       "current": "03790334-0b85-11ec-9aeb-02420a01001e-3-3354-8be2-df8f",
       "next": "03790424-0b85-11ec-9aeb-02420a01001e-2-25c2-c217",
       "previous": "0379024e-0b85-11ec-9aeb-02420a01001e-2-2355-5ebc"
      },
      {
       "current": "03790334-0b85-11ec-9aeb-02420a01001e-4-3354-8be2-df8f-fd6b",
       "next": "03790424-0b85-11ec-9aeb-02420a01001e-3-25c2-c217-947a",
       "previous": "0379024e-0b85-11ec-9aeb-02420a01001e-3-2355-5ebc-0167"
      }
     ],
     "next": "03790424-0b85-11ec-9aeb-02420a01001e-4-25c2-c217-947a-5c85",
     "previous": "0379024e-0b85-11ec-9aeb-02420a01001e-4-2355-5ebc-0167-5e09"
    }
   },
   "source": [
    "### TensorFlowコンテナの停止"
   ]
  },
  {
   "cell_type": "code",
   "execution_count": null,
   "metadata": {
    "hidden": true,
    "lc_cell_meme": {
     "current": "03790424-0b85-11ec-9aeb-02420a01001e-4-25c2-c217-947a-5c85",
     "history": [
      {
       "current": "1cdd624c-fb19-11eb-a3c9-0242ac110002-1-31a5",
       "next": "1cdd6436-fb19-11eb-a3c9-0242ac110002",
       "previous": "d55f63ac-fb18-11eb-a3c9-0242ac110002-1-6a85"
      },
      {
       "current": "1cdd624c-fb19-11eb-a3c9-0242ac110002-2-31a5-ae55",
       "next": "1cdd6436-fb19-11eb-a3c9-0242ac110002-1-8744",
       "previous": "d55f63ac-fb18-11eb-a3c9-0242ac110002-2-6a85-fc4a"
      },
      {
       "current": "1cdd624c-fb19-11eb-a3c9-0242ac110002-2-31a5-ae55",
       "next": "1cdd6436-fb19-11eb-a3c9-0242ac110002-2-8744-5254",
       "previous": "d55f63ac-fb18-11eb-a3c9-0242ac110002-3-6a85-fc4a-5bac"
      },
      {
       "current": "d03eb24e-0b3d-11ec-a5ab-02420a01001e",
       "next": "d03eb30c-0b3d-11ec-a5ab-02420a01001e",
       "previous": "d03eb15e-0b3d-11ec-a5ab-02420a01001e"
      },
      {
       "current": "97f9881c-0b3f-11ec-8ea2-02420a01001e",
       "next": "97f988c6-0b3f-11ec-8ea2-02420a01001e",
       "previous": "97f98736-0b3f-11ec-8ea2-02420a01001e"
      },
      {
       "current": "8c24425e-0b7e-11ec-8636-02420a01001e",
       "next": "8c244330-0b7e-11ec-8636-02420a01001e",
       "previous": "8c24416e-0b7e-11ec-8636-02420a01001e"
      },
      {
       "current": "03790424-0b85-11ec-9aeb-02420a01001e-1-25c2",
       "next": "037904f6-0b85-11ec-9aeb-02420a01001e",
       "previous": "03790334-0b85-11ec-9aeb-02420a01001e"
      },
      {
       "current": "03790424-0b85-11ec-9aeb-02420a01001e-2-25c2-c217",
       "next": "037904f6-0b85-11ec-9aeb-02420a01001e-1-7f8c",
       "previous": "03790334-0b85-11ec-9aeb-02420a01001e-1-3354"
      },
      {
       "current": "03790424-0b85-11ec-9aeb-02420a01001e-3-25c2-c217-947a",
       "next": "037904f6-0b85-11ec-9aeb-02420a01001e-2-7f8c-c112",
       "previous": "03790334-0b85-11ec-9aeb-02420a01001e-2-3354-8be2"
      },
      {
       "current": "03790424-0b85-11ec-9aeb-02420a01001e-4-25c2-c217-947a-5c85",
       "next": "037904f6-0b85-11ec-9aeb-02420a01001e-3-7f8c-c112-397e",
       "previous": "03790334-0b85-11ec-9aeb-02420a01001e-3-3354-8be2-df8f"
      }
     ],
     "next": "037904f6-0b85-11ec-9aeb-02420a01001e-4-7f8c-c112-397e-78da",
     "previous": "03790334-0b85-11ec-9aeb-02420a01001e-4-3354-8be2-df8f-fd6b"
    },
    "lc_wrapper": {
     "log_history": [
      "/notebooks/notebook/SAGA_home/hands-on/OpenHPC-v2-handson/.log/20210812/20210812-120531-0086.log",
      "/notebooks/notebook/SAGA_home/hands-on/OpenHPC-v2-handson/.log/20210812/20210812-164529-0872.log",
      "/notebooks/notebook/SAGA_home/hands-on/OpenHPC-v2-handson/.log/20210812/20210812-170037-0467.log",
      "/notebooks/notebook/SAGA_home/hands-on/OpenHPC-v2-handson/.log/20210812/20210812-171509-0217.log",
      "/notebooks/notebook/SAGA_home/hands-on/OpenHPC-v2-handson/.log/20210812/20210812-172626-0656.log",
      "/notebooks/notebook/SAGA_home/hands-on/OpenHPC-v2-handson/.log/20210812/20210812-181215-0166.log",
      "/notebooks/notebook/SAGA_home/hands-on/OpenHPC-v2-handson/.log/20210812/20210812-220804-0396.log",
      "/notebooks/notebook/SAGA_home/hands-on/OpenHPC-v2-handson/.log/20210818/20210818-223849-0250.log",
      "/notebooks/notebook/SAGA_home/hands-on/OpenHPC-v2-handson/.log/20210819/20210819-163218-0617.log",
      "/notebooks/notebook/SAGA_home/hands-on/OpenHPC-v2-handson/.log/20210820/20210820-000541-0808.log",
      "/notebooks/notebook/SAGA_home/hands-on/OpenHPC-v2-handson/.log/20210823/20210823-160147-0604.log",
      "/notebooks/notebook/SAGA_home/hands-on/OpenHPC-v2-handson/.log/20210823/20210823-162906-0622.log",
      "/notebooks/notebook/SAGA_home/hands-on/OpenHPC-v2-handson/.log/20210823/20210823-184611-0275.log",
      "/notebooks/notebook/SAGA_home/hands-on/OpenHPC-v2-handson/.log/20210824/20210824-144333-0982.log",
      "/notebooks/notebook/SAGA_home/hands-on/OpenHPC-v2-handson/.log/20210825/20210825-121530-0488.log",
      "/notebooks/notebook/SAGA_home/hands-on/OpenHPC-v2-handson/.log/20210825/20210825-121619-0635.log",
      "/notebooks/notebook/SAGA_home/hands-on/OpenHPC-v2-handson/.log/20210825/20210825-145028-0849.log",
      "/notebooks/notebook/SAGA_home/hands-on/OpenHPC-v2-handson/.log/20210826/20210826-010636-0458.log",
      "/notebooks/notebook/SAGA_home/hands-on/OpenHPC-v2-handson/.log/20210827/20210827-181611-0417.log",
      "/notebooks/notebook/SAGA_home/hands-on/OpenHPC-v2-handson/.log/20210828/20210828-013030-0078.log",
      "/notebooks/notebook/SAGA_home/hands-on/OpenHPC-v2-handson/.log/20210829/20210829-015842-0952.log",
      "/notebooks/notebook/SAGA_home/hands-on/OpenHPC-v2-handson/.log/20210829/20210829-022746-0147.log",
      "/notebooks/notebook/SAGA_home/hands-on/OpenHPC-v2-handson/.log/20210829/20210829-130514-0049.log",
      "/notebooks/notebook/SAGA_home/hands-on/OpenHPC-v2-handson/.log/20210829/20210829-161652-0364.log",
      "/notebooks/notebook/SAGA_home/hands-on/MNIST_handson/.log/20210830/20210830-000856-0715.log",
      "/notebooks/notebook/SAGA_home/hands-on/MNIST_handson/.log/20210830/20210830-005953-0996.log",
      "/notebooks/notebook/SAGA_home/hands-on/MNIST_handson/.log/20210830/20210830-145329-0260.log",
      "/notebooks/notebook/SAGA_home/hands-on/MNIST_handson/.log/20210830/20210830-165407-0317.log",
      "/home/user513xb92482/hands-on/vcp-tutorial/.log/20210901/20210901-170201-0212.log",
      "/home/user513xb92482/hands-on/vcp-tutorial/.log/20210902/20210902-221403-0979.log",
      "/home/user513xb92482/hands-on/vcp-tutorial/.log/20210903/20210903-113406-0111.log",
      "/home/user513xb92482/hands-on/vcp-tutorial/.log/20210903/20210903-120256-0944.log",
      "/home/user513xb92482/hands-on/vcp-tutorial/.log/20210903/20210903-193519-0831.log",
      "/notebooks/notebook/SAGA_home/hands-on/hands-on.513/vcp-tutorial/.log/20210910/20210910-112301-0743.log",
      "/notebooks/notebook/SAGA_home/hands-on/hands-on.513/vcp-tutorial/OpenHPC-MNIST/.log/20210910/20210910-165344-0205.log",
      "/notebooks/notebook/SAGA_home/210903.handson_cloudweek_2021/Deriver/2109.Recog_with_OpenHPC_template/2.Recognition_system/.log/20210914/20210914-145823-0880.log"
     ]
    }
   },
   "outputs": [],
   "source": [
    "# TensorFlowコンテナの停止\n",
    "!ssh {ssh_opts_user} {target} docker stop tensorflow-{user}"
   ]
  },
  {
   "cell_type": "markdown",
   "metadata": {
    "hidden": true,
    "lc_cell_meme": {
     "current": "037904f6-0b85-11ec-9aeb-02420a01001e-4-7f8c-c112-397e-78da",
     "history": [
      {
       "current": "1cdd6436-fb19-11eb-a3c9-0242ac110002",
       "next": "1cdd6512-fb19-11eb-a3c9-0242ac110002",
       "previous": "1cdd624c-fb19-11eb-a3c9-0242ac110002"
      },
      {
       "current": "1cdd6436-fb19-11eb-a3c9-0242ac110002-1-8744",
       "next": "4a64f08e-a933-11e9-ba83-02420a010053-3-a152-c1aa-df3d",
       "previous": "1cdd624c-fb19-11eb-a3c9-0242ac110002"
      },
      {
       "current": "1cdd6436-fb19-11eb-a3c9-0242ac110002-2-8744-5254",
       "next": "4a64f08e-a933-11e9-ba83-02420a010053-4-a152-c1aa-df3d-8391",
       "previous": "1cdd624c-fb19-11eb-a3c9-0242ac110002-1-31a5"
      },
      {
       "current": "1cdd6436-fb19-11eb-a3c9-0242ac110002-2-8744-5254",
       "next": "4a64f08e-a933-11e9-ba83-02420a010053-5-a152-c1aa-df3d-8391-c181",
       "previous": "1cdd624c-fb19-11eb-a3c9-0242ac110002-2-31a5-ae55"
      },
      {
       "current": "d03eb30c-0b3d-11ec-a5ab-02420a01001e",
       "next": "d03eb3de-0b3d-11ec-a5ab-02420a01001e",
       "previous": "d03eb24e-0b3d-11ec-a5ab-02420a01001e"
      },
      {
       "current": "97f988c6-0b3f-11ec-8ea2-02420a01001e",
       "next": "97f98998-0b3f-11ec-8ea2-02420a01001e",
       "previous": "97f9881c-0b3f-11ec-8ea2-02420a01001e"
      },
      {
       "current": "8c244330-0b7e-11ec-8636-02420a01001e",
       "next": "8c244416-0b7e-11ec-8636-02420a01001e",
       "previous": "8c24425e-0b7e-11ec-8636-02420a01001e"
      },
      {
       "current": "037904f6-0b85-11ec-9aeb-02420a01001e-1-7f8c",
       "next": "037905c8-0b85-11ec-9aeb-02420a01001e",
       "previous": "03790424-0b85-11ec-9aeb-02420a01001e"
      },
      {
       "current": "037904f6-0b85-11ec-9aeb-02420a01001e-2-7f8c-c112",
       "next": "037905c8-0b85-11ec-9aeb-02420a01001e-1-0cb4",
       "previous": "03790424-0b85-11ec-9aeb-02420a01001e-1-25c2"
      },
      {
       "current": "037904f6-0b85-11ec-9aeb-02420a01001e-3-7f8c-c112-397e",
       "next": "037905c8-0b85-11ec-9aeb-02420a01001e-2-0cb4-420d",
       "previous": "03790424-0b85-11ec-9aeb-02420a01001e-2-25c2-c217"
      },
      {
       "current": "037904f6-0b85-11ec-9aeb-02420a01001e-4-7f8c-c112-397e-78da",
       "next": "037905c8-0b85-11ec-9aeb-02420a01001e-3-0cb4-420d-6ade",
       "previous": "03790424-0b85-11ec-9aeb-02420a01001e-3-25c2-c217-947a"
      }
     ],
     "next": "037905c8-0b85-11ec-9aeb-02420a01001e-4-0cb4-420d-6ade-a8cf",
     "previous": "03790424-0b85-11ec-9aeb-02420a01001e-4-25c2-c217-947a-5c85"
    }
   },
   "source": [
    "### リソースの削除\n",
    "ここまで作成した全てのリソース（UnitGroup, Unit、VCノード）を削除します。この操作を行うことで AWS EC2インスタンスやAzure VMなどのクラウドに作成したリソースが削除されます。\n",
    "\n",
    "> 全てのリソースの削除には 4～5分程度かかります。"
   ]
  },
  {
   "cell_type": "code",
   "execution_count": null,
   "metadata": {
    "hidden": true,
    "lc_cell_meme": {
     "current": "037905c8-0b85-11ec-9aeb-02420a01001e-4-0cb4-420d-6ade-a8cf",
     "history": [
      {
       "current": "4a64f08e-a933-11e9-ba83-02420a010053-1-a152",
       "next": "4a64f156-a933-11e9-ba83-02420a010053",
       "previous": "4a64efb2-a933-11e9-ba83-02420a010053"
      },
      {
       "current": "4a64f08e-a933-11e9-ba83-02420a010053-2-a152-c1aa",
       "next": "4a64f156-a933-11e9-ba83-02420a010053-1-3156",
       "previous": "4a64efb2-a933-11e9-ba83-02420a010053-1-2798"
      },
      {
       "current": "4a64f08e-a933-11e9-ba83-02420a010053-3-a152-c1aa-df3d",
       "next": "4a64f156-a933-11e9-ba83-02420a010053-2-3156-91a1",
       "previous": "4a64efb2-a933-11e9-ba83-02420a010053-2-2798-6f7f"
      },
      {
       "current": "4a64f08e-a933-11e9-ba83-02420a010053-3-a152-c1aa-df3d",
       "next": "4a64f156-a933-11e9-ba83-02420a010053-3-3156-91a1-a910",
       "previous": "4a64efb2-a933-11e9-ba83-02420a010053-3-2798-6f7f-9228"
      },
      {
       "current": "4a64f08e-a933-11e9-ba83-02420a010053-4-a152-c1aa-df3d-8391",
       "next": "4a64f156-a933-11e9-ba83-02420a010053-3-3156-91a1-a910",
       "previous": "1cdd6436-fb19-11eb-a3c9-0242ac110002"
      },
      {
       "current": "4a64f08e-a933-11e9-ba83-02420a010053-5-a152-c1aa-df3d-8391-c181",
       "next": "4a64f156-a933-11e9-ba83-02420a010053-4-3156-91a1-a910-9740",
       "previous": "1cdd6436-fb19-11eb-a3c9-0242ac110002-1-8744"
      },
      {
       "current": "4a64f08e-a933-11e9-ba83-02420a010053-5-a152-c1aa-df3d-8391-c181",
       "next": "4a64f156-a933-11e9-ba83-02420a010053-5-3156-91a1-a910-9740-7d3d",
       "previous": "1cdd6436-fb19-11eb-a3c9-0242ac110002-2-8744-5254"
      },
      {
       "current": "d03eb3de-0b3d-11ec-a5ab-02420a01001e",
       "next": "d03eb4c4-0b3d-11ec-a5ab-02420a01001e",
       "previous": "d03eb30c-0b3d-11ec-a5ab-02420a01001e"
      },
      {
       "current": "97f98998-0b3f-11ec-8ea2-02420a01001e",
       "next": "97f98a42-0b3f-11ec-8ea2-02420a01001e",
       "previous": "97f988c6-0b3f-11ec-8ea2-02420a01001e"
      },
      {
       "current": "8c244416-0b7e-11ec-8636-02420a01001e",
       "next": "8c2444de-0b7e-11ec-8636-02420a01001e",
       "previous": "8c244330-0b7e-11ec-8636-02420a01001e"
      },
      {
       "current": "037905c8-0b85-11ec-9aeb-02420a01001e-1-0cb4",
       "next": "037906ae-0b85-11ec-9aeb-02420a01001e",
       "previous": "037904f6-0b85-11ec-9aeb-02420a01001e"
      },
      {
       "current": "037905c8-0b85-11ec-9aeb-02420a01001e-2-0cb4-420d",
       "next": "037906ae-0b85-11ec-9aeb-02420a01001e-1-90c7",
       "previous": "037904f6-0b85-11ec-9aeb-02420a01001e-1-7f8c"
      },
      {
       "current": "037905c8-0b85-11ec-9aeb-02420a01001e-3-0cb4-420d-6ade",
       "next": "037906ae-0b85-11ec-9aeb-02420a01001e-2-90c7-69c6",
       "previous": "037904f6-0b85-11ec-9aeb-02420a01001e-2-7f8c-c112"
      },
      {
       "current": "037905c8-0b85-11ec-9aeb-02420a01001e-4-0cb4-420d-6ade-a8cf",
       "next": "037906ae-0b85-11ec-9aeb-02420a01001e-3-90c7-69c6-ac4d",
       "previous": "037904f6-0b85-11ec-9aeb-02420a01001e-3-7f8c-c112-397e"
      }
     ],
     "next": "037906ae-0b85-11ec-9aeb-02420a01001e-4-90c7-69c6-ac4d-37cf",
     "previous": "037904f6-0b85-11ec-9aeb-02420a01001e-4-7f8c-c112-397e-78da"
    },
    "lc_wrapper": {
     "log_history": [
      "/notebooks/notebook/hands-on/vcp-tutorial/.log/20191003/20191003-164243-0751.log",
      "/notebooks/notebook/SAGA_home/hands-on/OpenHPC-v2-handson/.log/20210810/20210810-032404-0228.log",
      "/notebooks/notebook/SAGA_home/hands-on/OpenHPC-v2-handson/.log/20210810/20210810-221719-0930.log",
      "/notebooks/notebook/SAGA_home/hands-on/OpenHPC-v2-handson/.log/20210810/20210810-224050-0911.log",
      "/notebooks/notebook/SAGA_home/hands-on/OpenHPC-v2-handson/.log/20210810/20210810-231358-0649.log",
      "/notebooks/notebook/SAGA_home/hands-on/OpenHPC-v2-handson/.log/20210810/20210810-232731-0739.log",
      "/notebooks/notebook/SAGA_home/hands-on/OpenHPC-v2-handson/.log/20210810/20210810-234259-0131.log",
      "/notebooks/notebook/SAGA_home/hands-on/OpenHPC-v2-handson/.log/20210811/20210811-002320-0073.log",
      "/notebooks/notebook/SAGA_home/hands-on/OpenHPC-v2-handson/.log/20210811/20210811-002830-0779.log",
      "/notebooks/notebook/SAGA_home/hands-on/OpenHPC-v2-handson/.log/20210811/20210811-004112-0095.log",
      "/notebooks/notebook/SAGA_home/hands-on/OpenHPC-v2-handson/.log/20210811/20210811-122101-0047.log",
      "/notebooks/notebook/SAGA_home/hands-on/OpenHPC-v2-handson/.log/20210811/20210811-150300-0959.log",
      "/notebooks/notebook/SAGA_home/hands-on/OpenHPC-v2-handson/.log/20210811/20210811-154057-0082.log",
      "/notebooks/notebook/SAGA_home/hands-on/OpenHPC-v2-handson/.log/20210811/20210811-155323-0698.log",
      "/notebooks/notebook/SAGA_home/hands-on/OpenHPC-v2-handson/.log/20210811/20210811-160141-0653.log",
      "/notebooks/notebook/SAGA_home/hands-on/OpenHPC-v2-handson/.log/20210811/20210811-161454-0781.log",
      "/notebooks/notebook/SAGA_home/hands-on/OpenHPC-v2-handson/.log/20210811/20210811-163955-0212.log",
      "/notebooks/notebook/SAGA_home/hands-on/OpenHPC-v2-handson/.log/20210811/20210811-165649-0326.log",
      "/notebooks/notebook/SAGA_home/hands-on/OpenHPC-v2-handson/.log/20210812/20210812-095328-0232.log",
      "/notebooks/notebook/SAGA_home/hands-on/OpenHPC-v2-handson/.log/20210812/20210812-095907-0608.log",
      "/notebooks/notebook/SAGA_home/hands-on/OpenHPC-v2-handson/.log/20210812/20210812-100901-0130.log",
      "/notebooks/notebook/SAGA_home/hands-on/OpenHPC-v2-handson/.log/20210812/20210812-103102-0256.log",
      "/notebooks/notebook/SAGA_home/hands-on/OpenHPC-v2-handson/.log/20210812/20210812-113108-0507.log",
      "/notebooks/notebook/SAGA_home/hands-on/OpenHPC-v2-handson/.log/20210812/20210812-120531-0843.log",
      "/notebooks/notebook/SAGA_home/hands-on/OpenHPC-v2-handson/.log/20210812/20210812-164534-0182.log",
      "/notebooks/notebook/SAGA_home/hands-on/OpenHPC-v2-handson/.log/20210812/20210812-170038-0231.log",
      "/notebooks/notebook/SAGA_home/hands-on/OpenHPC-v2-handson/.log/20210812/20210812-171509-0978.log",
      "/notebooks/notebook/SAGA_home/hands-on/OpenHPC-v2-handson/.log/20210812/20210812-172627-0402.log",
      "/notebooks/notebook/SAGA_home/hands-on/OpenHPC-v2-handson/.log/20210812/20210812-181215-0924.log",
      "/notebooks/notebook/SAGA_home/hands-on/OpenHPC-v2-handson/.log/20210812/20210812-220805-0132.log",
      "/notebooks/notebook/SAGA_home/hands-on/OpenHPC-v2-handson/.log/20210818/20210818-223850-0017.log",
      "/notebooks/notebook/SAGA_home/hands-on/OpenHPC-v2-handson/.log/20210819/20210819-163219-0368.log",
      "/notebooks/notebook/SAGA_home/hands-on/OpenHPC-v2-handson/.log/20210820/20210820-000542-0564.log",
      "/notebooks/notebook/SAGA_home/hands-on/OpenHPC-v2-handson/.log/20210823/20210823-160148-0376.log",
      "/notebooks/notebook/SAGA_home/hands-on/OpenHPC-v2-handson/.log/20210823/20210823-162907-0379.log",
      "/notebooks/notebook/SAGA_home/hands-on/OpenHPC-v2-handson/.log/20210823/20210823-184612-0022.log",
      "/notebooks/notebook/SAGA_home/hands-on/OpenHPC-v2-handson/.log/20210824/20210824-144334-0748.log",
      "/notebooks/notebook/SAGA_home/hands-on/OpenHPC-v2-handson/.log/20210825/20210825-121620-0403.log",
      "/notebooks/notebook/SAGA_home/hands-on/OpenHPC-v2-handson/.log/20210825/20210825-145029-0609.log",
      "/notebooks/notebook/SAGA_home/hands-on/OpenHPC-v2-handson/.log/20210826/20210826-010637-0200.log",
      "/notebooks/notebook/SAGA_home/hands-on/OpenHPC-v2-handson/.log/20210827/20210827-181612-0164.log",
      "/notebooks/notebook/SAGA_home/hands-on/OpenHPC-v2-handson/.log/20210828/20210828-013030-0821.log",
      "/notebooks/notebook/SAGA_home/hands-on/OpenHPC-v2-handson/.log/20210829/20210829-015843-0690.log",
      "/notebooks/notebook/SAGA_home/hands-on/OpenHPC-v2-handson/.log/20210829/20210829-022746-0905.log",
      "/notebooks/notebook/SAGA_home/hands-on/OpenHPC-v2-handson/.log/20210829/20210829-130514-0818.log",
      "/notebooks/notebook/SAGA_home/hands-on/OpenHPC-v2-handson/.log/20210829/20210829-161653-0129.log",
      "/notebooks/notebook/SAGA_home/hands-on/MNIST_handson/.log/20210830/20210830-000857-0474.log",
      "/notebooks/notebook/SAGA_home/hands-on/MNIST_handson/.log/20210830/20210830-005954-0753.log",
      "/notebooks/notebook/SAGA_home/hands-on/MNIST_handson/.log/20210830/20210830-145330-0016.log",
      "/notebooks/notebook/SAGA_home/hands-on/MNIST_handson/.log/20210830/20210830-165408-0067.log",
      "/home/user513xb92482/hands-on/vcp-tutorial/.log/20210901/20210901-170202-0235.log",
      "/home/user513xb92482/hands-on/vcp-tutorial/.log/20210902/20210902-221428-0961.log",
      "/home/user513xb92482/hands-on/vcp-tutorial/.log/20210903/20210903-113515-0439.log",
      "/home/user513xb92482/hands-on/vcp-tutorial/.log/20210903/20210903-120257-0877.log",
      "/home/user513xb92482/hands-on/vcp-tutorial/.log/20210903/20210903-193520-0759.log",
      "/notebooks/notebook/SAGA_home/hands-on/hands-on.513/vcp-tutorial/.log/20210910/20210910-112302-0496.log",
      "/notebooks/notebook/SAGA_home/hands-on/hands-on.513/vcp-tutorial/OpenHPC-MNIST/.log/20210910/20210910-165344-0978.log",
      "/notebooks/notebook/SAGA_home/210903.handson_cloudweek_2021/Deriver/2109.Recog_with_OpenHPC_template/2.Recognition_system/.log/20210914/20210914-145824-0647.log"
     ]
    },
    "scrolled": false
   },
   "outputs": [],
   "source": [
    "unit_group.cleanup()"
   ]
  },
  {
   "cell_type": "markdown",
   "metadata": {
    "hidden": true,
    "lc_cell_meme": {
     "current": "037906ae-0b85-11ec-9aeb-02420a01001e-4-90c7-69c6-ac4d-37cf",
     "history": [
      {
       "current": "4a64f156-a933-11e9-ba83-02420a010053-1-3156",
       "next": "4a64f214-a933-11e9-ba83-02420a010053",
       "previous": "4a64f08e-a933-11e9-ba83-02420a010053"
      },
      {
       "current": "4a64f156-a933-11e9-ba83-02420a010053-2-3156-91a1",
       "next": "4a64f214-a933-11e9-ba83-02420a010053-1-3be8",
       "previous": "4a64f08e-a933-11e9-ba83-02420a010053-1-a152"
      },
      {
       "current": "4a64f156-a933-11e9-ba83-02420a010053-3-3156-91a1-a910",
       "next": "4a64f214-a933-11e9-ba83-02420a010053-2-3be8-8648",
       "previous": "4a64f08e-a933-11e9-ba83-02420a010053-2-a152-c1aa"
      },
      {
       "current": "4a64f156-a933-11e9-ba83-02420a010053-4-3156-91a1-a910-9740",
       "next": "4a64f214-a933-11e9-ba83-02420a010053-3-3be8-8648-62e1",
       "previous": "4a64f08e-a933-11e9-ba83-02420a010053-3-a152-c1aa-df3d"
      },
      {
       "current": "4a64f156-a933-11e9-ba83-02420a010053-5-3156-91a1-a910-9740-7d3d",
       "next": "4a64f214-a933-11e9-ba83-02420a010053-4-3be8-8648-62e1-6806",
       "previous": "4a64f08e-a933-11e9-ba83-02420a010053-4-a152-c1aa-df3d-8391"
      },
      {
       "current": "4a64f156-a933-11e9-ba83-02420a010053-5-3156-91a1-a910-9740-7d3d",
       "next": "4a64f214-a933-11e9-ba83-02420a010053-5-3be8-8648-62e1-6806-e640",
       "previous": "4a64f08e-a933-11e9-ba83-02420a010053-5-a152-c1aa-df3d-8391-c181"
      },
      {
       "current": "d03eb4c4-0b3d-11ec-a5ab-02420a01001e",
       "next": "d03eb58c-0b3d-11ec-a5ab-02420a01001e",
       "previous": "d03eb3de-0b3d-11ec-a5ab-02420a01001e"
      },
      {
       "current": "97f98a42-0b3f-11ec-8ea2-02420a01001e",
       "next": "97f98b00-0b3f-11ec-8ea2-02420a01001e",
       "previous": "97f98998-0b3f-11ec-8ea2-02420a01001e"
      },
      {
       "current": "8c2444de-0b7e-11ec-8636-02420a01001e",
       "next": "8c2445b0-0b7e-11ec-8636-02420a01001e",
       "previous": "8c244416-0b7e-11ec-8636-02420a01001e"
      },
      {
       "current": "037906ae-0b85-11ec-9aeb-02420a01001e-1-90c7",
       "next": "03790776-0b85-11ec-9aeb-02420a01001e",
       "previous": "037905c8-0b85-11ec-9aeb-02420a01001e"
      },
      {
       "current": "037906ae-0b85-11ec-9aeb-02420a01001e-2-90c7-69c6",
       "next": "03790776-0b85-11ec-9aeb-02420a01001e-1-7f73",
       "previous": "037905c8-0b85-11ec-9aeb-02420a01001e-1-0cb4"
      },
      {
       "current": "037906ae-0b85-11ec-9aeb-02420a01001e-3-90c7-69c6-ac4d",
       "next": "03790776-0b85-11ec-9aeb-02420a01001e-2-7f73-b2dc",
       "previous": "037905c8-0b85-11ec-9aeb-02420a01001e-2-0cb4-420d"
      },
      {
       "current": "037906ae-0b85-11ec-9aeb-02420a01001e-4-90c7-69c6-ac4d-37cf",
       "next": "03790776-0b85-11ec-9aeb-02420a01001e-3-7f73-b2dc-72dd",
       "previous": "037905c8-0b85-11ec-9aeb-02420a01001e-3-0cb4-420d-6ade"
      }
     ],
     "next": "03790776-0b85-11ec-9aeb-02420a01001e-4-7f73-b2dc-72dd-ff72",
     "previous": "037905c8-0b85-11ec-9aeb-02420a01001e-4-0cb4-420d-6ade-a8cf"
    }
   },
   "source": [
    "削除後の状態の確認。"
   ]
  },
  {
   "cell_type": "code",
   "execution_count": null,
   "metadata": {
    "hidden": true,
    "lc_cell_meme": {
     "current": "03790776-0b85-11ec-9aeb-02420a01001e-4-7f73-b2dc-72dd-ff72",
     "history": [
      {
       "current": "4a64f214-a933-11e9-ba83-02420a010053",
       "next": null,
       "previous": "4a64f156-a933-11e9-ba83-02420a010053"
      },
      {
       "current": "4a64f214-a933-11e9-ba83-02420a010053-1-3be8",
       "next": null,
       "previous": "4a64f156-a933-11e9-ba83-02420a010053"
      },
      {
       "current": "4a64f214-a933-11e9-ba83-02420a010053-2-3be8-8648",
       "next": null,
       "previous": "4a64f156-a933-11e9-ba83-02420a010053-1-3156"
      },
      {
       "current": "4a64f214-a933-11e9-ba83-02420a010053-3-3be8-8648-62e1",
       "next": null,
       "previous": "4a64f156-a933-11e9-ba83-02420a010053-2-3156-91a1"
      },
      {
       "current": "4a64f214-a933-11e9-ba83-02420a010053-3-3be8-8648-62e1",
       "next": null,
       "previous": "4a64f156-a933-11e9-ba83-02420a010053-3-3156-91a1-a910"
      },
      {
       "current": "4a64f214-a933-11e9-ba83-02420a010053-3-3be8-8648-62e1",
       "next": null,
       "previous": "4a64f156-a933-11e9-ba83-02420a010053-3-3156-91a1-a910"
      },
      {
       "current": "4a64f214-a933-11e9-ba83-02420a010053-3-3be8-8648-62e1",
       "next": null,
       "previous": "4a64f156-a933-11e9-ba83-02420a010053-3-3156-91a1-a910"
      },
      {
       "current": "4a64f214-a933-11e9-ba83-02420a010053-4-3be8-8648-62e1-6806",
       "next": "a65938b4-0548-11ec-a3c9-0242ac110002",
       "previous": "4a64f156-a933-11e9-ba83-02420a010053-3-3156-91a1-a910"
      },
      {
       "current": "4a64f214-a933-11e9-ba83-02420a010053-5-3be8-8648-62e1-6806-e640",
       "next": "a65938b4-0548-11ec-a3c9-0242ac110002-1-89fb",
       "previous": "4a64f156-a933-11e9-ba83-02420a010053-4-3156-91a1-a910-9740"
      },
      {
       "current": "4a64f214-a933-11e9-ba83-02420a010053-5-3be8-8648-62e1-6806-e640",
       "next": "a65938b4-0548-11ec-a3c9-0242ac110002-2-89fb-88e7",
       "previous": "4a64f156-a933-11e9-ba83-02420a010053-5-3156-91a1-a910-9740-7d3d"
      },
      {
       "current": "d03eb58c-0b3d-11ec-a5ab-02420a01001e",
       "next": "d03eb654-0b3d-11ec-a5ab-02420a01001e",
       "previous": "d03eb4c4-0b3d-11ec-a5ab-02420a01001e"
      },
      {
       "current": "97f98b00-0b3f-11ec-8ea2-02420a01001e",
       "next": "97f98bb4-0b3f-11ec-8ea2-02420a01001e",
       "previous": "97f98a42-0b3f-11ec-8ea2-02420a01001e"
      },
      {
       "current": "8c2445b0-0b7e-11ec-8636-02420a01001e",
       "next": "8c244678-0b7e-11ec-8636-02420a01001e",
       "previous": "8c2444de-0b7e-11ec-8636-02420a01001e"
      },
      {
       "current": "03790776-0b85-11ec-9aeb-02420a01001e-1-7f73",
       "next": "03790848-0b85-11ec-9aeb-02420a01001e",
       "previous": "037906ae-0b85-11ec-9aeb-02420a01001e"
      },
      {
       "current": "03790776-0b85-11ec-9aeb-02420a01001e-2-7f73-b2dc",
       "next": "03790848-0b85-11ec-9aeb-02420a01001e-1-730e",
       "previous": "037906ae-0b85-11ec-9aeb-02420a01001e-1-90c7"
      },
      {
       "current": "03790776-0b85-11ec-9aeb-02420a01001e-3-7f73-b2dc-72dd",
       "next": "03790848-0b85-11ec-9aeb-02420a01001e-2-730e-c796",
       "previous": "037906ae-0b85-11ec-9aeb-02420a01001e-2-90c7-69c6"
      },
      {
       "current": "03790776-0b85-11ec-9aeb-02420a01001e-4-7f73-b2dc-72dd-ff72",
       "next": "03790848-0b85-11ec-9aeb-02420a01001e-3-730e-c796-c606",
       "previous": "037906ae-0b85-11ec-9aeb-02420a01001e-3-90c7-69c6-ac4d"
      }
     ],
     "next": "03790848-0b85-11ec-9aeb-02420a01001e-4-730e-c796-c606-5361",
     "previous": "037906ae-0b85-11ec-9aeb-02420a01001e-4-90c7-69c6-ac4d-37cf"
    },
    "lc_wrapper": {
     "log_history": [
      "/notebooks/notebook/hands-on/vcp-tutorial/.log/20191003/20191003-164547-0238.log",
      "/notebooks/notebook/SAGA_home/hands-on/OpenHPC-v2-handson/.log/20210810/20210810-032500-0658.log",
      "/notebooks/notebook/SAGA_home/hands-on/OpenHPC-v2-handson/.log/20210810/20210810-225258-0490.log",
      "/notebooks/notebook/SAGA_home/hands-on/OpenHPC-v2-handson/.log/20210810/20210810-231405-0406.log",
      "/notebooks/notebook/SAGA_home/hands-on/OpenHPC-v2-handson/.log/20210810/20210810-234536-0178.log",
      "/notebooks/notebook/SAGA_home/hands-on/OpenHPC-v2-handson/.log/20210811/20210811-002323-0978.log",
      "/notebooks/notebook/SAGA_home/hands-on/OpenHPC-v2-handson/.log/20210811/20210811-004233-0060.log",
      "/notebooks/notebook/SAGA_home/hands-on/OpenHPC-v2-handson/.log/20210811/20210811-133145-0008.log",
      "/notebooks/notebook/SAGA_home/hands-on/OpenHPC-v2-handson/.log/20210811/20210811-151540-0075.log",
      "/notebooks/notebook/SAGA_home/hands-on/OpenHPC-v2-handson/.log/20210811/20210811-154347-0708.log",
      "/notebooks/notebook/SAGA_home/hands-on/OpenHPC-v2-handson/.log/20210811/20210811-155532-0116.log",
      "/notebooks/notebook/SAGA_home/hands-on/OpenHPC-v2-handson/.log/20210811/20210811-160345-0851.log",
      "/notebooks/notebook/SAGA_home/hands-on/OpenHPC-v2-handson/.log/20210811/20210811-161721-0685.log",
      "/notebooks/notebook/SAGA_home/hands-on/OpenHPC-v2-handson/.log/20210811/20210811-164100-0393.log",
      "/notebooks/notebook/SAGA_home/hands-on/OpenHPC-v2-handson/.log/20210811/20210811-165758-0843.log",
      "/notebooks/notebook/SAGA_home/hands-on/OpenHPC-v2-handson/.log/20210812/20210812-103218-0747.log",
      "/notebooks/notebook/SAGA_home/hands-on/OpenHPC-v2-handson/.log/20210812/20210812-113222-0176.log",
      "/notebooks/notebook/SAGA_home/hands-on/OpenHPC-v2-handson/.log/20210812/20210812-120623-0180.log",
      "/notebooks/notebook/SAGA_home/hands-on/OpenHPC-v2-handson/.log/20210812/20210812-164639-0149.log",
      "/notebooks/notebook/SAGA_home/hands-on/OpenHPC-v2-handson/.log/20210812/20210812-170129-0605.log",
      "/notebooks/notebook/SAGA_home/hands-on/OpenHPC-v2-handson/.log/20210812/20210812-171601-0399.log",
      "/notebooks/notebook/SAGA_home/hands-on/OpenHPC-v2-handson/.log/20210812/20210812-172723-0908.log",
      "/notebooks/notebook/SAGA_home/hands-on/OpenHPC-v2-handson/.log/20210812/20210812-181047-0034.log",
      "/notebooks/notebook/SAGA_home/hands-on/OpenHPC-v2-handson/.log/20210812/20210812-181327-0757.log",
      "/notebooks/notebook/SAGA_home/hands-on/OpenHPC-v2-handson/.log/20210812/20210812-220901-0588.log",
      "/notebooks/notebook/SAGA_home/hands-on/OpenHPC-v2-handson/.log/20210818/20210818-223941-0386.log",
      "/notebooks/notebook/SAGA_home/hands-on/OpenHPC-v2-handson/.log/20210819/20210819-163310-0712.log",
      "/notebooks/notebook/SAGA_home/hands-on/OpenHPC-v2-handson/.log/20210820/20210820-000638-0989.log",
      "/notebooks/notebook/SAGA_home/hands-on/OpenHPC-v2-handson/.log/20210820/20210820-000835-0164.log",
      "/notebooks/notebook/SAGA_home/hands-on/OpenHPC-v2-handson/.log/20210823/20210823-160244-0901.log",
      "/notebooks/notebook/SAGA_home/hands-on/OpenHPC-v2-handson/.log/20210823/20210823-163003-0833.log",
      "/notebooks/notebook/SAGA_home/hands-on/OpenHPC-v2-handson/.log/20210823/20210823-175714-0444.log",
      "/notebooks/notebook/SAGA_home/hands-on/OpenHPC-v2-handson/.log/20210823/20210823-184703-0351.log",
      "/notebooks/notebook/SAGA_home/hands-on/OpenHPC-v2-handson/.log/20210824/20210824-144431-0270.log",
      "/notebooks/notebook/SAGA_home/hands-on/OpenHPC-v2-handson/.log/20210825/20210825-110249-0034.log",
      "/notebooks/notebook/SAGA_home/hands-on/OpenHPC-v2-handson/.log/20210825/20210825-110835-0182.log",
      "/notebooks/notebook/SAGA_home/hands-on/OpenHPC-v2-handson/.log/20210825/20210825-121711-0731.log",
      "/notebooks/notebook/SAGA_home/hands-on/OpenHPC-v2-handson/.log/20210825/20210825-145120-0934.log",
      "/notebooks/notebook/SAGA_home/hands-on/OpenHPC-v2-handson/.log/20210826/20210826-010728-0531.log",
      "/notebooks/notebook/SAGA_home/hands-on/OpenHPC-v2-handson/.log/20210827/20210827-181703-0471.log",
      "/notebooks/notebook/SAGA_home/hands-on/OpenHPC-v2-handson/.log/20210828/20210828-013122-0082.log",
      "/notebooks/notebook/SAGA_home/hands-on/OpenHPC-v2-handson/.log/20210829/20210829-015934-0966.log",
      "/notebooks/notebook/SAGA_home/hands-on/OpenHPC-v2-handson/.log/20210829/20210829-022838-0227.log",
      "/notebooks/notebook/SAGA_home/hands-on/OpenHPC-v2-handson/.log/20210829/20210829-130606-0183.log",
      "/notebooks/notebook/SAGA_home/hands-on/OpenHPC-v2-handson/.log/20210829/20210829-161744-0472.log",
      "/notebooks/notebook/SAGA_home/hands-on/MNIST_handson/.log/20210830/20210830-000948-0830.log",
      "/notebooks/notebook/SAGA_home/hands-on/MNIST_handson/.log/20210830/20210830-010046-0091.log",
      "/notebooks/notebook/SAGA_home/hands-on/MNIST_handson/.log/20210830/20210830-145421-0393.log",
      "/notebooks/notebook/SAGA_home/hands-on/MNIST_handson/.log/20210830/20210830-165459-0417.log",
      "/home/user513xb92482/hands-on/vcp-tutorial/.log/20210901/20210901-170254-0056.log",
      "/home/user513xb92482/hands-on/vcp-tutorial/.log/20210901/20210901-171608-0534.log",
      "/home/user513xb92482/hands-on/vcp-tutorial/.log/20210903/20210903-120350-0651.log",
      "/home/user513xb92482/hands-on/vcp-tutorial/.log/20210903/20210903-193620-0646.log",
      "/notebooks/notebook/SAGA_home/hands-on/hands-on.513/vcp-tutorial/.log/20210910/20210910-112353-0849.log",
      "/notebooks/notebook/SAGA_home/hands-on/hands-on.513/vcp-tutorial/OpenHPC-MNIST/.log/20210910/20210910-165436-0385.log",
      "/notebooks/notebook/SAGA_home/210903.handson_cloudweek_2021/Deriver/2109.Recog_with_OpenHPC_template/2.Recognition_system/.log/20210914/20210914-145916-0031.log"
     ]
    },
    "scrolled": true
   },
   "outputs": [],
   "source": [
    "# UnitGroupの一覧を DataFrame で表示する\n",
    "vcp.df_ugroups()"
   ]
  },
  {
   "cell_type": "code",
   "execution_count": null,
   "metadata": {
    "hidden": true,
    "lc_cell_meme": {
     "current": "03790848-0b85-11ec-9aeb-02420a01001e-4-730e-c796-c606-5361",
     "history": [
      {
       "current": "a65938b4-0548-11ec-a3c9-0242ac110002",
       "next": null,
       "previous": "4a64f214-a933-11e9-ba83-02420a010053-3-3be8-8648-62e1"
      },
      {
       "current": "a65938b4-0548-11ec-a3c9-0242ac110002-1-89fb",
       "next": null,
       "previous": "4a64f214-a933-11e9-ba83-02420a010053-3-3be8-8648-62e1"
      },
      {
       "current": "a65938b4-0548-11ec-a3c9-0242ac110002-2-89fb-88e7",
       "next": null,
       "previous": "4a64f214-a933-11e9-ba83-02420a010053-4-3be8-8648-62e1-6806"
      },
      {
       "current": "a65938b4-0548-11ec-a3c9-0242ac110002-2-89fb-88e7",
       "next": null,
       "previous": "4a64f214-a933-11e9-ba83-02420a010053-5-3be8-8648-62e1-6806-e640"
      },
      {
       "current": "d03eb654-0b3d-11ec-a5ab-02420a01001e",
       "next": null,
       "previous": "d03eb58c-0b3d-11ec-a5ab-02420a01001e"
      },
      {
       "current": "97f98bb4-0b3f-11ec-8ea2-02420a01001e",
       "next": null,
       "previous": "97f98b00-0b3f-11ec-8ea2-02420a01001e"
      },
      {
       "current": "8c244678-0b7e-11ec-8636-02420a01001e",
       "next": null,
       "previous": "8c2445b0-0b7e-11ec-8636-02420a01001e"
      },
      {
       "current": "03790848-0b85-11ec-9aeb-02420a01001e",
       "next": null,
       "previous": "03790776-0b85-11ec-9aeb-02420a01001e"
      },
      {
       "current": "03790848-0b85-11ec-9aeb-02420a01001e-1-730e",
       "next": "e5f7c6d6-0bef-11ec-afb5-02420a010016",
       "previous": "03790776-0b85-11ec-9aeb-02420a01001e"
      },
      {
       "current": "03790848-0b85-11ec-9aeb-02420a01001e-2-730e-c796",
       "next": null,
       "previous": "03790776-0b85-11ec-9aeb-02420a01001e-1-7f73"
      },
      {
       "current": "03790848-0b85-11ec-9aeb-02420a01001e-3-730e-c796-c606",
       "next": null,
       "previous": "03790776-0b85-11ec-9aeb-02420a01001e-2-7f73-b2dc"
      },
      {
       "current": "03790848-0b85-11ec-9aeb-02420a01001e-4-730e-c796-c606-5361",
       "next": null,
       "previous": "03790776-0b85-11ec-9aeb-02420a01001e-3-7f73-b2dc-72dd"
      }
     ],
     "next": null,
     "previous": "03790776-0b85-11ec-9aeb-02420a01001e-4-7f73-b2dc-72dd-ff72"
    },
    "lc_wrapper": {
     "log_history": [
      "/notebooks/notebook/SAGA_home/hands-on/OpenHPC-v2-handson/.log/20210825/20210825-110702-0293.log",
      "/notebooks/notebook/SAGA_home/hands-on/OpenHPC-v2-handson/.log/20210825/20210825-121712-0402.log",
      "/notebooks/notebook/SAGA_home/hands-on/OpenHPC-v2-handson/.log/20210825/20210825-145121-0611.log",
      "/notebooks/notebook/SAGA_home/hands-on/OpenHPC-v2-handson/.log/20210826/20210826-010729-0199.log",
      "/notebooks/notebook/SAGA_home/hands-on/OpenHPC-v2-handson/.log/20210827/20210827-181704-0120.log",
      "/notebooks/notebook/SAGA_home/hands-on/OpenHPC-v2-handson/.log/20210828/20210828-013122-0690.log",
      "/notebooks/notebook/SAGA_home/hands-on/OpenHPC-v2-handson/.log/20210829/20210829-015935-0604.log",
      "/notebooks/notebook/SAGA_home/hands-on/OpenHPC-v2-handson/.log/20210829/20210829-022838-0885.log",
      "/notebooks/notebook/SAGA_home/hands-on/OpenHPC-v2-handson/.log/20210829/20210829-130606-0667.log",
      "/notebooks/notebook/SAGA_home/hands-on/OpenHPC-v2-handson/.log/20210829/20210829-161744-0868.log",
      "/notebooks/notebook/SAGA_home/hands-on/MNIST_handson/.log/20210830/20210830-000949-0227.log",
      "/notebooks/notebook/SAGA_home/hands-on/MNIST_handson/.log/20210830/20210830-010046-0486.log",
      "/notebooks/notebook/SAGA_home/hands-on/MNIST_handson/.log/20210830/20210830-145421-0852.log",
      "/notebooks/notebook/SAGA_home/hands-on/MNIST_handson/.log/20210830/20210830-165459-0812.log",
      "/home/user513xb92482/hands-on/vcp-tutorial/.log/20210901/20210901-170254-0393.log",
      "/home/user513xb92482/hands-on/vcp-tutorial/.log/20210902/20210902-221503-0213.log",
      "/home/user513xb92482/hands-on/vcp-tutorial/.log/20210903/20210903-113522-0637.log",
      "/home/user513xb92482/hands-on/vcp-tutorial/.log/20210903/20210903-120351-0097.log",
      "/home/user513xb92482/hands-on/vcp-tutorial/.log/20210903/20210903-120409-0617.log",
      "/home/user513xb92482/hands-on/vcp-tutorial/.log/20210903/20210903-192719-0999.log",
      "/notebooks/notebook/SAGA_home/hands-on/hands-on.513/vcp-tutorial/.log/20210910/20210910-112354-0239.log",
      "/notebooks/notebook/SAGA_home/hands-on/hands-on.513/vcp-tutorial/OpenHPC-MNIST/.log/20210910/20210910-165436-0779.log",
      "/notebooks/notebook/SAGA_home/210903.handson_cloudweek_2021/Deriver/2109.Recog_with_OpenHPC_template/2.Recognition_system/.log/20210914/20210914-145916-0549.log"
     ]
    }
   },
   "outputs": [],
   "source": [
    "# UnitGroup強制削除\n",
    "# UnitGroup作成後、エラーが発生するなど強制的に削除する必要が生じた場合のみ、コメントを外して利用します。\n",
    "# ugroup = vcp.get_ugroup('TfCpu')\n",
    "# ugroup.cleanup()"
   ]
  }
 ],
 "metadata": {
  "kernelspec": {
   "display_name": "Python 3",
   "language": "python",
   "name": "python3"
  },
  "language_info": {
   "file_extension": ".py",
   "mimetype": "text/x-python",
   "name": "python",
   "nbconvert_exporter": "python",
   "pygments_lexer": "ipython3",
   "version": "3.8.6"
  },
  "lc_notebook_meme": {
   "current": "0378d79c-0b85-11ec-9aeb-02420a01001e",
   "history": [
    "4a643b94-a933-11e9-ba83-02420a010053",
    "d03e85e4-0b3d-11ec-a5ab-02420a01001e",
    "97f95ef0-0b3f-11ec-8ea2-02420a01001e",
    "8c2414aa-0b7e-11ec-8636-02420a01001e"
   ],
   "lc_server_signature": {
    "current": {
     "notebook_dir": "/notebooks/notebook",
     "notebook_path": "/SAGA_home/210903.handson_cloudweek_2021/Deriver/2109.Recog_with_OpenHPC_template/2.Recognition_system",
     "server_url": "https://vcc1043.vcp-handson.org/jupyter/",
     "signature_id": "579ee850-f52a-11eb-a0cc-0242ac110002"
    },
    "history": [
     {
      "notebook_dir": "/home/masuyama1279a0",
      "notebook_path": "/hands-on/vcp-tutorial",
      "server_url": "https://nb11.ecloud.nii.ac.jp/user/masuyama1279a0/",
      "signature_id": "e9e681e2-a2d3-11e9-b0f8-02420a01003d"
     },
     {
      "notebook_dir": "/home/useraafa1b",
      "notebook_path": "/hands-on/vcp-tutorial",
      "server_url": "https://nb11.ecloud.nii.ac.jp/user/useraafa1b/",
      "signature_id": "5af33bf4-a479-11e9-8074-02420a01004d"
     },
     {
      "notebook_dir": "/home/usere5b052",
      "notebook_path": "/hands-on/vcp-tutorial",
      "server_url": "https://nb11.ecloud.nii.ac.jp/user/usere5b052/",
      "signature_id": "74df9520-a880-11e9-8eac-02420a010059"
     },
     {
      "notebook_dir": "/notebooks/notebook",
      "notebook_path": "/handson_19.07_mergework/handson/vcp-tutorial",
      "server_url": "http://13.114.71.115/jupyter/",
      "signature_id": "215bf5ce-5f4c-11e9-88da-0242ac110002"
     },
     {
      "notebook_dir": "/notebooks/notebook",
      "notebook_path": "/tmp/handson/vcp-tutorial",
      "server_url": "http://vcc3013.vcp-handson.org:8888/jupyter/",
      "signature_id": "ba379e26-e582-11e9-a1d3-0242ac110003"
     },
     {
      "notebook_dir": "/notebooks/notebook",
      "notebook_path": "/hands-on/vcp-tutorial",
      "server_url": "https://54.95.193.16/jupyter/",
      "signature_id": "90f2baa8-e5ac-11e9-8abf-0242ac110002"
     },
     {
      "notebook_dir": "/home/user511xe5b052",
      "notebook_path": "/work/handson/vcp-tutorial",
      "server_url": "https://nb11.ecloud.nii.ac.jp/user/user511xe5b052/",
      "signature_id": "0b65d158-0b4b-11ea-95ea-02420a010235"
     },
     {
      "notebook_dir": "/home/user511xe5b052",
      "notebook_path": "/work_nasuno/master/handson/vcp-tutorial",
      "server_url": "https://cwh1041.vcp-handson.org/user/user511xe5b052/",
      "signature_id": "aa804e84-6429-11eb-b983-02420a01000e"
     },
     {
      "notebook_dir": "/notebooks/notebook",
      "notebook_path": "/hands-on/vcp-tutorial",
      "server_url": "http://vcc3013.vcp-handson.org:8888/portwine/",
      "signature_id": "1204ffb8-9b7b-11eb-9ff9-06a7a156c77b"
     },
     {
      "notebook_dir": "/notebooks/notebook",
      "notebook_path": "/SAGA_home/hands-on/OpenHPC-v2-handson",
      "server_url": "https://vcc1043.vcp-handson.org/jupyter/",
      "signature_id": "579ee850-f52a-11eb-a0cc-0242ac110002"
     },
     {
      "notebook_dir": "/notebooks/notebook",
      "notebook_path": "/SAGA_home/hands-on/MNIST_handson",
      "server_url": "https://vcc1043.vcp-handson.org/jupyter/",
      "signature_id": "579ee850-f52a-11eb-a0cc-0242ac110002"
     },
     {
      "notebook_dir": "/home/user513xb92482",
      "notebook_path": "/hands-on/vcp-tutorial",
      "server_url": "https://cwh1042.vcp-handson.org/user/user513xb92482/",
      "signature_id": "8b8b9cce-d7e0-11eb-a7d3-02420a010018"
     },
     {
      "notebook_dir": "/notebooks/notebook",
      "notebook_path": "/SAGA_home/hands-on/hands-on.513/vcp-tutorial",
      "server_url": "https://vcc1043.vcp-handson.org/jupyter/",
      "signature_id": "579ee850-f52a-11eb-a0cc-0242ac110002"
     },
     {
      "notebook_dir": "/notebooks/notebook",
      "notebook_path": "/SAGA_home/hands-on/hands-on.513/vcp-tutorial/OpenHPC-MNIST",
      "server_url": "https://vcc1043.vcp-handson.org/jupyter/",
      "signature_id": "579ee850-f52a-11eb-a0cc-0242ac110002"
     },
     {
      "notebook_dir": "/notebooks/notebook",
      "notebook_path": "/SAGA_home/210903.handson_cloudweek_2021/Deriver/2109.Recog_with_OpenHPC_template/2.認識システムの構築",
      "server_url": "https://vcc1043.vcp-handson.org/jupyter/",
      "signature_id": "579ee850-f52a-11eb-a0cc-0242ac110002"
     }
    ]
   },
   "root_cells": [
    "0378dbe8-0b85-11ec-9aeb-02420a01001e",
    "0378dd32-0b85-11ec-9aeb-02420a01001e",
    "0378de22-0b85-11ec-9aeb-02420a01001e",
    "0378df12-0b85-11ec-9aeb-02420a01001e",
    "0378dfee-0b85-11ec-9aeb-02420a01001e",
    "0378e0ca-0b85-11ec-9aeb-02420a01001e",
    "0378e1a6-0b85-11ec-9aeb-02420a01001e",
    "0378e282-0b85-11ec-9aeb-02420a01001e",
    "0378e354-0b85-11ec-9aeb-02420a01001e",
    "0378e430-0b85-11ec-9aeb-02420a01001e",
    "0378e50c-0b85-11ec-9aeb-02420a01001e",
    "0378e5e8-0b85-11ec-9aeb-02420a01001e",
    "0378e6c4-0b85-11ec-9aeb-02420a01001e",
    "0378e7a0-0b85-11ec-9aeb-02420a01001e",
    "0378e872-0b85-11ec-9aeb-02420a01001e",
    "0378e94e-0b85-11ec-9aeb-02420a01001e",
    "0378ea2a-0b85-11ec-9aeb-02420a01001e",
    "0378eafc-0b85-11ec-9aeb-02420a01001e",
    "0378ebd8-0b85-11ec-9aeb-02420a01001e",
    "0378ecbe-0b85-11ec-9aeb-02420a01001e",
    "0378ed9a-0b85-11ec-9aeb-02420a01001e",
    "0378ee80-0b85-11ec-9aeb-02420a01001e",
    "0378ef70-0b85-11ec-9aeb-02420a01001e",
    "0378f042-0b85-11ec-9aeb-02420a01001e",
    "0378f128-0b85-11ec-9aeb-02420a01001e",
    "0378f218-0b85-11ec-9aeb-02420a01001e",
    "0378f2fe-0b85-11ec-9aeb-02420a01001e",
    "0378f3e4-0b85-11ec-9aeb-02420a01001e",
    "0378f4ca-0b85-11ec-9aeb-02420a01001e",
    "0378f5ba-0b85-11ec-9aeb-02420a01001e",
    "0378f6aa-0b85-11ec-9aeb-02420a01001e",
    "0378f77c-0b85-11ec-9aeb-02420a01001e",
    "0378f86c-0b85-11ec-9aeb-02420a01001e",
    "0378f934-0b85-11ec-9aeb-02420a01001e",
    "0378fa10-0b85-11ec-9aeb-02420a01001e",
    "0378faec-0b85-11ec-9aeb-02420a01001e",
    "0378fbc8-0b85-11ec-9aeb-02420a01001e",
    "0378fc86-0b85-11ec-9aeb-02420a01001e",
    "0378fd62-0b85-11ec-9aeb-02420a01001e",
    "0378fe3e-0b85-11ec-9aeb-02420a01001e",
    "0378ff10-0b85-11ec-9aeb-02420a01001e",
    "0378ffd8-0b85-11ec-9aeb-02420a01001e",
    "037900a0-0b85-11ec-9aeb-02420a01001e",
    "03790190-0b85-11ec-9aeb-02420a01001e",
    "0379024e-0b85-11ec-9aeb-02420a01001e",
    "03790334-0b85-11ec-9aeb-02420a01001e",
    "03790424-0b85-11ec-9aeb-02420a01001e",
    "037904f6-0b85-11ec-9aeb-02420a01001e",
    "037905c8-0b85-11ec-9aeb-02420a01001e",
    "037906ae-0b85-11ec-9aeb-02420a01001e",
    "03790776-0b85-11ec-9aeb-02420a01001e",
    "03790848-0b85-11ec-9aeb-02420a01001e"
   ],
   "root_cells_history": [
    [
     [
      "7a45bc12-0542-11ec-a3c9-0242ac110002-2-ba8c-730e",
      "d03e89c2-0b3d-11ec-a5ab-02420a01001e"
     ],
     [
      "f873a024-f933-11eb-a3c9-0242ac110002-2-8b9a-f97e",
      "d03e8b0c-0b3d-11ec-a5ab-02420a01001e"
     ],
     [
      "4a6449a4-a933-11e9-ba83-02420a010053-5-8fae-ce5c-17f4-f28d-dad6",
      "d03e8c24-0b3d-11ec-a5ab-02420a01001e"
     ],
     [
      "9a4bdd82-f937-11eb-a3c9-0242ac110002-2-4c1e-a53c",
      "d03e8d0a-0b3d-11ec-a5ab-02420a01001e"
     ],
     [
      "4a6449a4-a933-11e9-ba83-02420a010053-6-8fae-ce5c-17f4-80e1-9149-fa08",
      "d03e8de6-0b3d-11ec-a5ab-02420a01001e"
     ],
     [
      "ef39968c-f9e0-11eb-a3c9-0242ac110002-2-9c2a-aa6d",
      "d03e8ec2-0b3d-11ec-a5ab-02420a01001e"
     ],
     [
      "4a644b52-a933-11e9-ba83-02420a010053-5-f9fe-b5eb-73b3-5114-58cb",
      "d03e8fb2-0b3d-11ec-a5ab-02420a01001e"
     ],
     [
      "ef399876-f9e0-11eb-a3c9-0242ac110002-2-1443-ccc3",
      "d03e9084-0b3d-11ec-a5ab-02420a01001e"
     ],
     [
      "52b9a1f2-f937-11eb-a3c9-0242ac110002-2-fbac-85ed",
      "d03e914c-0b3d-11ec-a5ab-02420a01001e"
     ],
     [
      "4a6447ec-a933-11e9-ba83-02420a010053-5-8ea0-b6e8-bc3b-f6b5-f506",
      "d03e9228-0b3d-11ec-a5ab-02420a01001e"
     ],
     [
      "4a646006-a933-11e9-ba83-02420a010053-5-a1e1-44ce-b9c5-00a2-9a92",
      "d03e9318-0b3d-11ec-a5ab-02420a01001e"
     ],
     [
      "ad222af8-f93a-11eb-a3c9-0242ac110002-2-a5a1-09ea",
      "d03e93ea-0b3d-11ec-a5ab-02420a01001e"
     ],
     [
      "4a647ba4-a933-11e9-ba83-02420a010053-5-594b-c0f0-a08a-5254-2525",
      "d03e94c6-0b3d-11ec-a5ab-02420a01001e"
     ],
     [
      "4a647d52-a933-11e9-ba83-02420a010053-5-1999-680c-c83c-2bf1-d025",
      "d03e95b6-0b3d-11ec-a5ab-02420a01001e"
     ],
     [
      "4a648360-a933-11e9-ba83-02420a010053-5-7797-8366-41ed-d32d-2270",
      "d03e9692-0b3d-11ec-a5ab-02420a01001e"
     ],
     [
      "4a64850e-a933-11e9-ba83-02420a010053-5-e84e-2040-de26-8fd5-64a4",
      "d03e9778-0b3d-11ec-a5ab-02420a01001e"
     ],
     [
      "90e595e0-053e-11ec-a3c9-0242ac110002-3-bf7a-8dbf-1a1c",
      "d03e984a-0b3d-11ec-a5ab-02420a01001e"
     ],
     [
      "4c751c2e-fab1-11eb-a3c9-0242ac110002-2-6cf6-4557",
      "d03e9930-0b3d-11ec-a5ab-02420a01001e"
     ],
     [
      "db8ec77a-fab1-11eb-a3c9-0242ac110002-2-99ef-73f5",
      "d03e99f8-0b3d-11ec-a5ab-02420a01001e"
     ],
     [
      "4a649328-a933-11e9-ba83-02420a010053-5-8047-b02c-fee7-0b9d-bb0c",
      "d03e9ade-0b3d-11ec-a5ab-02420a01001e"
     ],
     [
      "1f7a4600-fb05-11eb-a3c9-0242ac110002-2-6d3c-0b34",
      "d03e9bb0-0b3d-11ec-a5ab-02420a01001e"
     ],
     [
      "1d8f2fd8-0afd-11ec-afb5-02420a010016",
      "d03e9caa-0b3d-11ec-a5ab-02420a01001e"
     ],
     [
      "46486ba0-fb18-11eb-a3c9-0242ac110002-2-37d1-faf8",
      "d03e9d90-0b3d-11ec-a5ab-02420a01001e"
     ],
     [
      "1d8f317c-0afd-11ec-afb5-02420a010016",
      "d03e9e76-0b3d-11ec-a5ab-02420a01001e"
     ],
     [
      "ab316110-0546-11ec-a3c9-0242ac110002-2-c9b4-1244",
      "d03e9f52-0b3d-11ec-a5ab-02420a01001e"
     ],
     [
      "4f2cc612-fb4f-11eb-a3c9-0242ac110002-2-2ae6-d935",
      "d03ea038-0b3d-11ec-a5ab-02420a01001e"
     ],
     [
      "1ff23e5a-053f-11ec-a3c9-0242ac110002-2-26b9-837d",
      "d03ea128-0b3d-11ec-a5ab-02420a01001e"
     ],
     [
      "1ff23e5a-053f-11ec-a3c9-0242ac110002-3-26b9-837d-2540",
      "d03ea20e-0b3d-11ec-a5ab-02420a01001e"
     ],
     [
      "386665fc-00cf-11ec-a3c9-0242ac110002-2-4071-09de",
      "d03ea308-0b3d-11ec-a5ab-02420a01001e"
     ],
     [
      "af07bcd2-053f-11ec-a3c9-0242ac110002-2-31c3-b695",
      "d03ea3f8-0b3d-11ec-a5ab-02420a01001e"
     ],
     [
      "2d15c684-00f7-11ec-a3c9-0242ac110002-2-f582-6223",
      "d03ea4e8-0b3d-11ec-a5ab-02420a01001e"
     ],
     [
      "b811f098-054b-11ec-a3c9-0242ac110002-2-5cc3-2652",
      "d03ea5c4-0b3d-11ec-a5ab-02420a01001e"
     ],
     [
      "3a42ccf4-0547-11ec-a3c9-0242ac110002-2-e953-028b",
      "d03ea68c-0b3d-11ec-a5ab-02420a01001e"
     ],
     [
      "f532731e-0085-11ec-a3c9-0242ac110002-2-5399-a497",
      "d03ea75e-0b3d-11ec-a5ab-02420a01001e"
     ],
     [
      "2240687a-00a9-11ec-a3c9-0242ac110002-2-b369-b7da",
      "d03ea830-0b3d-11ec-a5ab-02420a01001e"
     ],
     [
      "b1f35a0c-0560-11ec-a3c9-0242ac110002-2-ff55-99bd",
      "d03ea916-0b3d-11ec-a5ab-02420a01001e"
     ],
     [
      "3e9b78ae-0872-11ec-a3c9-0242ac110002-2-212d-3e27",
      "d03ea9e8-0b3d-11ec-a5ab-02420a01001e"
     ],
     [
      "f9878e60-0560-11ec-a3c9-0242ac110002-2-bd12-c189",
      "d03eaac4-0b3d-11ec-a5ab-02420a01001e"
     ],
     [
      "a6b1cdde-0562-11ec-a3c9-0242ac110002-2-641b-4ae4",
      "d03eab8c-0b3d-11ec-a5ab-02420a01001e"
     ],
     [
      "fa699008-070e-11ec-a3c9-0242ac110002-2-3421-00be",
      "d03eac54-0b3d-11ec-a5ab-02420a01001e"
     ],
     [
      "fa69924c-070e-11ec-a3c9-0242ac110002-2-ceb9-0702",
      "d03ead30-0b3d-11ec-a5ab-02420a01001e"
     ],
     [
      "60032dce-0710-11ec-a3c9-0242ac110002-2-a689-9534",
      "d03eae0c-0b3d-11ec-a5ab-02420a01001e"
     ],
     [
      "b7159900-0876-11ec-a3c9-0242ac110002-2-e7b5-434e",
      "d03eaee8-0b3d-11ec-a5ab-02420a01001e"
     ],
     [
      "a78b2b56-0710-11ec-a3c9-0242ac110002-3-0153-a1f4-a5a0",
      "d03eafba-0b3d-11ec-a5ab-02420a01001e"
     ],
     [
      "4a64eec2-a933-11e9-ba83-02420a010053-5-221d-c4fd-a8ce-1b65-392e",
      "d03eb08c-0b3d-11ec-a5ab-02420a01001e"
     ],
     [
      "d55f63ac-fb18-11eb-a3c9-0242ac110002-3-6a85-fc4a-5bac",
      "d03eb15e-0b3d-11ec-a5ab-02420a01001e"
     ],
     [
      "1cdd624c-fb19-11eb-a3c9-0242ac110002-2-31a5-ae55",
      "d03eb24e-0b3d-11ec-a5ab-02420a01001e"
     ],
     [
      "1cdd6436-fb19-11eb-a3c9-0242ac110002-2-8744-5254",
      "d03eb30c-0b3d-11ec-a5ab-02420a01001e"
     ],
     [
      "4a64f08e-a933-11e9-ba83-02420a010053-5-a152-c1aa-df3d-8391-c181",
      "d03eb3de-0b3d-11ec-a5ab-02420a01001e"
     ],
     [
      "4a64f156-a933-11e9-ba83-02420a010053-5-3156-91a1-a910-9740-7d3d",
      "d03eb4c4-0b3d-11ec-a5ab-02420a01001e"
     ],
     [
      "4a64f214-a933-11e9-ba83-02420a010053-5-3be8-8648-62e1-6806-e640",
      "d03eb58c-0b3d-11ec-a5ab-02420a01001e"
     ],
     [
      "a65938b4-0548-11ec-a3c9-0242ac110002-2-89fb-88e7",
      "d03eb654-0b3d-11ec-a5ab-02420a01001e"
     ]
    ],
    [
     [
      "d03e89c2-0b3d-11ec-a5ab-02420a01001e",
      "97f962f6-0b3f-11ec-8ea2-02420a01001e"
     ],
     [
      "d03e8b0c-0b3d-11ec-a5ab-02420a01001e",
      "97f96440-0b3f-11ec-8ea2-02420a01001e"
     ],
     [
      "d03e8c24-0b3d-11ec-a5ab-02420a01001e",
      "97f9651c-0b3f-11ec-8ea2-02420a01001e"
     ],
     [
      "d03e8d0a-0b3d-11ec-a5ab-02420a01001e",
      "97f965da-0b3f-11ec-8ea2-02420a01001e"
     ],
     [
      "d03e8de6-0b3d-11ec-a5ab-02420a01001e",
      "97f966b6-0b3f-11ec-8ea2-02420a01001e"
     ],
     [
      "d03e8ec2-0b3d-11ec-a5ab-02420a01001e",
      "97f9677e-0b3f-11ec-8ea2-02420a01001e"
     ],
     [
      "d03e8fb2-0b3d-11ec-a5ab-02420a01001e",
      "97f96850-0b3f-11ec-8ea2-02420a01001e"
     ],
     [
      "d03e9084-0b3d-11ec-a5ab-02420a01001e",
      "97f96904-0b3f-11ec-8ea2-02420a01001e"
     ],
     [
      "d03e914c-0b3d-11ec-a5ab-02420a01001e",
      "97f969e0-0b3f-11ec-8ea2-02420a01001e"
     ],
     [
      "d03e9228-0b3d-11ec-a5ab-02420a01001e",
      "97f96a94-0b3f-11ec-8ea2-02420a01001e"
     ],
     [
      "d03e9318-0b3d-11ec-a5ab-02420a01001e",
      "97f96b66-0b3f-11ec-8ea2-02420a01001e"
     ],
     [
      "d03e93ea-0b3d-11ec-a5ab-02420a01001e",
      "97f96c42-0b3f-11ec-8ea2-02420a01001e"
     ],
     [
      "d03e94c6-0b3d-11ec-a5ab-02420a01001e",
      "97f96d00-0b3f-11ec-8ea2-02420a01001e"
     ],
     [
      "d03e95b6-0b3d-11ec-a5ab-02420a01001e",
      "97f96dc8-0b3f-11ec-8ea2-02420a01001e"
     ],
     [
      "d03e9692-0b3d-11ec-a5ab-02420a01001e",
      "97f96e7c-0b3f-11ec-8ea2-02420a01001e"
     ],
     [
      "d03e9778-0b3d-11ec-a5ab-02420a01001e",
      "97f96f58-0b3f-11ec-8ea2-02420a01001e"
     ],
     [
      "d03e984a-0b3d-11ec-a5ab-02420a01001e",
      "97f97020-0b3f-11ec-8ea2-02420a01001e"
     ],
     [
      "d03e9930-0b3d-11ec-a5ab-02420a01001e",
      "97f970e8-0b3f-11ec-8ea2-02420a01001e"
     ],
     [
      "d03e99f8-0b3d-11ec-a5ab-02420a01001e",
      "97f971b0-0b3f-11ec-8ea2-02420a01001e"
     ],
     [
      "d03e9ade-0b3d-11ec-a5ab-02420a01001e",
      "97f9726e-0b3f-11ec-8ea2-02420a01001e"
     ],
     [
      "d03e9bb0-0b3d-11ec-a5ab-02420a01001e",
      "97f97336-0b3f-11ec-8ea2-02420a01001e"
     ],
     [
      "d03e9caa-0b3d-11ec-a5ab-02420a01001e",
      "97f97412-0b3f-11ec-8ea2-02420a01001e"
     ],
     [
      "d03e9d90-0b3d-11ec-a5ab-02420a01001e",
      "97f974e4-0b3f-11ec-8ea2-02420a01001e"
     ],
     [
      "d03e9e76-0b3d-11ec-a5ab-02420a01001e",
      "97f975a2-0b3f-11ec-8ea2-02420a01001e"
     ],
     [
      "d03e9f52-0b3d-11ec-a5ab-02420a01001e",
      "97f97688-0b3f-11ec-8ea2-02420a01001e"
     ],
     [
      "d03ea038-0b3d-11ec-a5ab-02420a01001e",
      "97f97750-0b3f-11ec-8ea2-02420a01001e"
     ],
     [
      "d03ea128-0b3d-11ec-a5ab-02420a01001e",
      "97f97822-0b3f-11ec-8ea2-02420a01001e"
     ],
     [
      "d03ea20e-0b3d-11ec-a5ab-02420a01001e",
      "97f978fe-0b3f-11ec-8ea2-02420a01001e"
     ],
     [
      "d03ea308-0b3d-11ec-a5ab-02420a01001e",
      "97f979d0-0b3f-11ec-8ea2-02420a01001e"
     ],
     [
      "d03ea3f8-0b3d-11ec-a5ab-02420a01001e",
      "97f97ab6-0b3f-11ec-8ea2-02420a01001e"
     ],
     [
      "d03ea4e8-0b3d-11ec-a5ab-02420a01001e",
      "97f97b88-0b3f-11ec-8ea2-02420a01001e"
     ],
     [
      "d03ea5c4-0b3d-11ec-a5ab-02420a01001e",
      "97f97c46-0b3f-11ec-8ea2-02420a01001e"
     ],
     [
      "d03ea68c-0b3d-11ec-a5ab-02420a01001e",
      "97f97d0e-0b3f-11ec-8ea2-02420a01001e"
     ],
     [
      "d03ea75e-0b3d-11ec-a5ab-02420a01001e",
      "97f97dea-0b3f-11ec-8ea2-02420a01001e"
     ],
     [
      "d03ea830-0b3d-11ec-a5ab-02420a01001e",
      "97f97eb2-0b3f-11ec-8ea2-02420a01001e"
     ],
     [
      "d03ea916-0b3d-11ec-a5ab-02420a01001e",
      "97f97f7a-0b3f-11ec-8ea2-02420a01001e"
     ],
     [
      "d03ea9e8-0b3d-11ec-a5ab-02420a01001e",
      "97f98042-0b3f-11ec-8ea2-02420a01001e"
     ],
     [
      "d03eaac4-0b3d-11ec-a5ab-02420a01001e",
      "97f9810a-0b3f-11ec-8ea2-02420a01001e"
     ],
     [
      "d03eab8c-0b3d-11ec-a5ab-02420a01001e",
      "97f981be-0b3f-11ec-8ea2-02420a01001e"
     ],
     [
      "d03eac54-0b3d-11ec-a5ab-02420a01001e",
      "97f98286-0b3f-11ec-8ea2-02420a01001e"
     ],
     [
      "d03ead30-0b3d-11ec-a5ab-02420a01001e",
      "97f9834e-0b3f-11ec-8ea2-02420a01001e"
     ],
     [
      "d03eae0c-0b3d-11ec-a5ab-02420a01001e",
      "97f98402-0b3f-11ec-8ea2-02420a01001e"
     ],
     [
      "d03eaee8-0b3d-11ec-a5ab-02420a01001e",
      "97f984f2-0b3f-11ec-8ea2-02420a01001e"
     ],
     [
      "d03eafba-0b3d-11ec-a5ab-02420a01001e",
      "97f985ba-0b3f-11ec-8ea2-02420a01001e"
     ],
     [
      "d03eb08c-0b3d-11ec-a5ab-02420a01001e",
      "97f98678-0b3f-11ec-8ea2-02420a01001e"
     ],
     [
      "d03eb15e-0b3d-11ec-a5ab-02420a01001e",
      "97f98736-0b3f-11ec-8ea2-02420a01001e"
     ],
     [
      "d03eb24e-0b3d-11ec-a5ab-02420a01001e",
      "97f9881c-0b3f-11ec-8ea2-02420a01001e"
     ],
     [
      "d03eb30c-0b3d-11ec-a5ab-02420a01001e",
      "97f988c6-0b3f-11ec-8ea2-02420a01001e"
     ],
     [
      "d03eb3de-0b3d-11ec-a5ab-02420a01001e",
      "97f98998-0b3f-11ec-8ea2-02420a01001e"
     ],
     [
      "d03eb4c4-0b3d-11ec-a5ab-02420a01001e",
      "97f98a42-0b3f-11ec-8ea2-02420a01001e"
     ],
     [
      "d03eb58c-0b3d-11ec-a5ab-02420a01001e",
      "97f98b00-0b3f-11ec-8ea2-02420a01001e"
     ],
     [
      "d03eb654-0b3d-11ec-a5ab-02420a01001e",
      "97f98bb4-0b3f-11ec-8ea2-02420a01001e"
     ]
    ],
    [
     [
      "97f962f6-0b3f-11ec-8ea2-02420a01001e",
      "8c2418ec-0b7e-11ec-8636-02420a01001e"
     ],
     [
      "97f96440-0b3f-11ec-8ea2-02420a01001e",
      "8c241a54-0b7e-11ec-8636-02420a01001e"
     ],
     [
      "97f9651c-0b3f-11ec-8ea2-02420a01001e",
      "8c241b44-0b7e-11ec-8636-02420a01001e"
     ],
     [
      "97f965da-0b3f-11ec-8ea2-02420a01001e",
      "8c241c48-0b7e-11ec-8636-02420a01001e"
     ],
     [
      "97f966b6-0b3f-11ec-8ea2-02420a01001e",
      "8c241d1a-0b7e-11ec-8636-02420a01001e"
     ],
     [
      "97f9677e-0b3f-11ec-8ea2-02420a01001e",
      "8c241e00-0b7e-11ec-8636-02420a01001e"
     ],
     [
      "97f96850-0b3f-11ec-8ea2-02420a01001e",
      "8c241ee6-0b7e-11ec-8636-02420a01001e"
     ],
     [
      "97f96904-0b3f-11ec-8ea2-02420a01001e",
      "8c241fc2-0b7e-11ec-8636-02420a01001e"
     ],
     [
      "97f969e0-0b3f-11ec-8ea2-02420a01001e",
      "8c2420b2-0b7e-11ec-8636-02420a01001e"
     ],
     [
      "97f96a94-0b3f-11ec-8ea2-02420a01001e",
      "8c24217a-0b7e-11ec-8636-02420a01001e"
     ],
     [
      "97f96b66-0b3f-11ec-8ea2-02420a01001e",
      "8c24224c-0b7e-11ec-8636-02420a01001e"
     ],
     [
      "97f96c42-0b3f-11ec-8ea2-02420a01001e",
      "8c24233c-0b7e-11ec-8636-02420a01001e"
     ],
     [
      "97f96d00-0b3f-11ec-8ea2-02420a01001e",
      "8c242418-0b7e-11ec-8636-02420a01001e"
     ],
     [
      "97f96dc8-0b3f-11ec-8ea2-02420a01001e",
      "8c242508-0b7e-11ec-8636-02420a01001e"
     ],
     [
      "97f96e7c-0b3f-11ec-8ea2-02420a01001e",
      "8c2425e4-0b7e-11ec-8636-02420a01001e"
     ],
     [
      "97f96f58-0b3f-11ec-8ea2-02420a01001e",
      "8c2426d4-0b7e-11ec-8636-02420a01001e"
     ],
     [
      "97f97020-0b3f-11ec-8ea2-02420a01001e",
      "8c2427ba-0b7e-11ec-8636-02420a01001e"
     ],
     [
      "97f970e8-0b3f-11ec-8ea2-02420a01001e",
      "8c2428a0-0b7e-11ec-8636-02420a01001e"
     ],
     [
      "97f971b0-0b3f-11ec-8ea2-02420a01001e",
      "8c242968-0b7e-11ec-8636-02420a01001e"
     ],
     [
      "97f9726e-0b3f-11ec-8ea2-02420a01001e",
      "8c242a44-0b7e-11ec-8636-02420a01001e"
     ],
     [
      "97f97336-0b3f-11ec-8ea2-02420a01001e",
      "8c242b2a-0b7e-11ec-8636-02420a01001e"
     ],
     [
      "97f97412-0b3f-11ec-8ea2-02420a01001e",
      "8c242c2e-0b7e-11ec-8636-02420a01001e"
     ],
     [
      "97f974e4-0b3f-11ec-8ea2-02420a01001e",
      "8c242d28-0b7e-11ec-8636-02420a01001e"
     ],
     [
      "97f975a2-0b3f-11ec-8ea2-02420a01001e",
      "8c242e04-0b7e-11ec-8636-02420a01001e"
     ],
     [
      "97f97688-0b3f-11ec-8ea2-02420a01001e",
      "8c242ef4-0b7e-11ec-8636-02420a01001e"
     ],
     [
      "97f97750-0b3f-11ec-8ea2-02420a01001e",
      "8c242fc6-0b7e-11ec-8636-02420a01001e"
     ],
     [
      "97f97822-0b3f-11ec-8ea2-02420a01001e",
      "8c2430b6-0b7e-11ec-8636-02420a01001e"
     ],
     [
      "97f978fe-0b3f-11ec-8ea2-02420a01001e",
      "8c2431a6-0b7e-11ec-8636-02420a01001e"
     ],
     [
      "97f979d0-0b3f-11ec-8ea2-02420a01001e",
      "8c243296-0b7e-11ec-8636-02420a01001e"
     ],
     [
      "97f97ab6-0b3f-11ec-8ea2-02420a01001e",
      "8c24339a-0b7e-11ec-8636-02420a01001e"
     ],
     [
      "97f97b88-0b3f-11ec-8ea2-02420a01001e",
      "8c24348a-0b7e-11ec-8636-02420a01001e"
     ],
     [
      "97f97c46-0b3f-11ec-8ea2-02420a01001e",
      "8c243570-0b7e-11ec-8636-02420a01001e"
     ],
     [
      "97f97d0e-0b3f-11ec-8ea2-02420a01001e",
      "8c243642-0b7e-11ec-8636-02420a01001e"
     ],
     [
      "97f97dea-0b3f-11ec-8ea2-02420a01001e",
      "8c24371e-0b7e-11ec-8636-02420a01001e"
     ],
     [
      "97f97eb2-0b3f-11ec-8ea2-02420a01001e",
      "8c2437e6-0b7e-11ec-8636-02420a01001e"
     ],
     [
      "97f97f7a-0b3f-11ec-8ea2-02420a01001e",
      "8c2438e0-0b7e-11ec-8636-02420a01001e"
     ],
     [
      "97f98042-0b3f-11ec-8ea2-02420a01001e",
      "8c2439a8-0b7e-11ec-8636-02420a01001e"
     ],
     [
      "97f9810a-0b3f-11ec-8ea2-02420a01001e",
      "8c243a84-0b7e-11ec-8636-02420a01001e"
     ],
     [
      "97f981be-0b3f-11ec-8ea2-02420a01001e",
      "8c243b60-0b7e-11ec-8636-02420a01001e"
     ],
     [
      "97f98286-0b3f-11ec-8ea2-02420a01001e",
      "8c243c46-0b7e-11ec-8636-02420a01001e"
     ],
     [
      "97f9834e-0b3f-11ec-8ea2-02420a01001e",
      "8c243d2c-0b7e-11ec-8636-02420a01001e"
     ],
     [
      "97f98402-0b3f-11ec-8ea2-02420a01001e",
      "8c243df4-0b7e-11ec-8636-02420a01001e"
     ],
     [
      "97f984f2-0b3f-11ec-8ea2-02420a01001e",
      "8c243ec6-0b7e-11ec-8636-02420a01001e"
     ],
     [
      "97f985ba-0b3f-11ec-8ea2-02420a01001e",
      "8c243fac-0b7e-11ec-8636-02420a01001e"
     ],
     [
      "97f98678-0b3f-11ec-8ea2-02420a01001e",
      "8c24407e-0b7e-11ec-8636-02420a01001e"
     ],
     [
      "97f98736-0b3f-11ec-8ea2-02420a01001e",
      "8c24416e-0b7e-11ec-8636-02420a01001e"
     ],
     [
      "97f9881c-0b3f-11ec-8ea2-02420a01001e",
      "8c24425e-0b7e-11ec-8636-02420a01001e"
     ],
     [
      "97f988c6-0b3f-11ec-8ea2-02420a01001e",
      "8c244330-0b7e-11ec-8636-02420a01001e"
     ],
     [
      "97f98998-0b3f-11ec-8ea2-02420a01001e",
      "8c244416-0b7e-11ec-8636-02420a01001e"
     ],
     [
      "97f98a42-0b3f-11ec-8ea2-02420a01001e",
      "8c2444de-0b7e-11ec-8636-02420a01001e"
     ],
     [
      "97f98b00-0b3f-11ec-8ea2-02420a01001e",
      "8c2445b0-0b7e-11ec-8636-02420a01001e"
     ],
     [
      "97f98bb4-0b3f-11ec-8ea2-02420a01001e",
      "8c244678-0b7e-11ec-8636-02420a01001e"
     ]
    ],
    [
     [
      "8c2418ec-0b7e-11ec-8636-02420a01001e",
      "0378dbe8-0b85-11ec-9aeb-02420a01001e"
     ],
     [
      "8c241a54-0b7e-11ec-8636-02420a01001e",
      "0378dd32-0b85-11ec-9aeb-02420a01001e"
     ],
     [
      "8c241b44-0b7e-11ec-8636-02420a01001e",
      "0378de22-0b85-11ec-9aeb-02420a01001e"
     ],
     [
      "8c241c48-0b7e-11ec-8636-02420a01001e",
      "0378df12-0b85-11ec-9aeb-02420a01001e"
     ],
     [
      "8c241d1a-0b7e-11ec-8636-02420a01001e",
      "0378dfee-0b85-11ec-9aeb-02420a01001e"
     ],
     [
      "8c241e00-0b7e-11ec-8636-02420a01001e",
      "0378e0ca-0b85-11ec-9aeb-02420a01001e"
     ],
     [
      "8c241ee6-0b7e-11ec-8636-02420a01001e",
      "0378e1a6-0b85-11ec-9aeb-02420a01001e"
     ],
     [
      "8c241fc2-0b7e-11ec-8636-02420a01001e",
      "0378e282-0b85-11ec-9aeb-02420a01001e"
     ],
     [
      "8c2420b2-0b7e-11ec-8636-02420a01001e",
      "0378e354-0b85-11ec-9aeb-02420a01001e"
     ],
     [
      "8c24217a-0b7e-11ec-8636-02420a01001e",
      "0378e430-0b85-11ec-9aeb-02420a01001e"
     ],
     [
      "8c24224c-0b7e-11ec-8636-02420a01001e",
      "0378e50c-0b85-11ec-9aeb-02420a01001e"
     ],
     [
      "8c24233c-0b7e-11ec-8636-02420a01001e",
      "0378e5e8-0b85-11ec-9aeb-02420a01001e"
     ],
     [
      "8c242418-0b7e-11ec-8636-02420a01001e",
      "0378e6c4-0b85-11ec-9aeb-02420a01001e"
     ],
     [
      "8c242508-0b7e-11ec-8636-02420a01001e",
      "0378e7a0-0b85-11ec-9aeb-02420a01001e"
     ],
     [
      "8c2425e4-0b7e-11ec-8636-02420a01001e",
      "0378e872-0b85-11ec-9aeb-02420a01001e"
     ],
     [
      "8c2426d4-0b7e-11ec-8636-02420a01001e",
      "0378e94e-0b85-11ec-9aeb-02420a01001e"
     ],
     [
      "8c2427ba-0b7e-11ec-8636-02420a01001e",
      "0378ea2a-0b85-11ec-9aeb-02420a01001e"
     ],
     [
      "8c2428a0-0b7e-11ec-8636-02420a01001e",
      "0378eafc-0b85-11ec-9aeb-02420a01001e"
     ],
     [
      "8c242968-0b7e-11ec-8636-02420a01001e",
      "0378ebd8-0b85-11ec-9aeb-02420a01001e"
     ],
     [
      "8c242a44-0b7e-11ec-8636-02420a01001e",
      "0378ecbe-0b85-11ec-9aeb-02420a01001e"
     ],
     [
      "8c242b2a-0b7e-11ec-8636-02420a01001e",
      "0378ed9a-0b85-11ec-9aeb-02420a01001e"
     ],
     [
      "8c242c2e-0b7e-11ec-8636-02420a01001e",
      "0378ee80-0b85-11ec-9aeb-02420a01001e"
     ],
     [
      "8c242d28-0b7e-11ec-8636-02420a01001e",
      "0378ef70-0b85-11ec-9aeb-02420a01001e"
     ],
     [
      "8c242e04-0b7e-11ec-8636-02420a01001e",
      "0378f042-0b85-11ec-9aeb-02420a01001e"
     ],
     [
      "8c242ef4-0b7e-11ec-8636-02420a01001e",
      "0378f128-0b85-11ec-9aeb-02420a01001e"
     ],
     [
      "8c242fc6-0b7e-11ec-8636-02420a01001e",
      "0378f218-0b85-11ec-9aeb-02420a01001e"
     ],
     [
      "8c2430b6-0b7e-11ec-8636-02420a01001e",
      "0378f2fe-0b85-11ec-9aeb-02420a01001e"
     ],
     [
      "8c2431a6-0b7e-11ec-8636-02420a01001e",
      "0378f3e4-0b85-11ec-9aeb-02420a01001e"
     ],
     [
      "8c243296-0b7e-11ec-8636-02420a01001e",
      "0378f4ca-0b85-11ec-9aeb-02420a01001e"
     ],
     [
      "8c24339a-0b7e-11ec-8636-02420a01001e",
      "0378f5ba-0b85-11ec-9aeb-02420a01001e"
     ],
     [
      "8c24348a-0b7e-11ec-8636-02420a01001e",
      "0378f6aa-0b85-11ec-9aeb-02420a01001e"
     ],
     [
      "8c243570-0b7e-11ec-8636-02420a01001e",
      "0378f77c-0b85-11ec-9aeb-02420a01001e"
     ],
     [
      "8c243642-0b7e-11ec-8636-02420a01001e",
      "0378f86c-0b85-11ec-9aeb-02420a01001e"
     ],
     [
      "8c24371e-0b7e-11ec-8636-02420a01001e",
      "0378f934-0b85-11ec-9aeb-02420a01001e"
     ],
     [
      "8c2437e6-0b7e-11ec-8636-02420a01001e",
      "0378fa10-0b85-11ec-9aeb-02420a01001e"
     ],
     [
      "8c2438e0-0b7e-11ec-8636-02420a01001e",
      "0378faec-0b85-11ec-9aeb-02420a01001e"
     ],
     [
      "8c2439a8-0b7e-11ec-8636-02420a01001e",
      "0378fbc8-0b85-11ec-9aeb-02420a01001e"
     ],
     [
      "8c243a84-0b7e-11ec-8636-02420a01001e",
      "0378fc86-0b85-11ec-9aeb-02420a01001e"
     ],
     [
      "8c243b60-0b7e-11ec-8636-02420a01001e",
      "0378fd62-0b85-11ec-9aeb-02420a01001e"
     ],
     [
      "8c243c46-0b7e-11ec-8636-02420a01001e",
      "0378fe3e-0b85-11ec-9aeb-02420a01001e"
     ],
     [
      "8c243d2c-0b7e-11ec-8636-02420a01001e",
      "0378ff10-0b85-11ec-9aeb-02420a01001e"
     ],
     [
      "8c243df4-0b7e-11ec-8636-02420a01001e",
      "0378ffd8-0b85-11ec-9aeb-02420a01001e"
     ],
     [
      "8c243ec6-0b7e-11ec-8636-02420a01001e",
      "037900a0-0b85-11ec-9aeb-02420a01001e"
     ],
     [
      "8c243fac-0b7e-11ec-8636-02420a01001e",
      "03790190-0b85-11ec-9aeb-02420a01001e"
     ],
     [
      "8c24407e-0b7e-11ec-8636-02420a01001e",
      "0379024e-0b85-11ec-9aeb-02420a01001e"
     ],
     [
      "8c24416e-0b7e-11ec-8636-02420a01001e",
      "03790334-0b85-11ec-9aeb-02420a01001e"
     ],
     [
      "8c24425e-0b7e-11ec-8636-02420a01001e",
      "03790424-0b85-11ec-9aeb-02420a01001e"
     ],
     [
      "8c244330-0b7e-11ec-8636-02420a01001e",
      "037904f6-0b85-11ec-9aeb-02420a01001e"
     ],
     [
      "8c244416-0b7e-11ec-8636-02420a01001e",
      "037905c8-0b85-11ec-9aeb-02420a01001e"
     ],
     [
      "8c2444de-0b7e-11ec-8636-02420a01001e",
      "037906ae-0b85-11ec-9aeb-02420a01001e"
     ],
     [
      "8c2445b0-0b7e-11ec-8636-02420a01001e",
      "03790776-0b85-11ec-9aeb-02420a01001e"
     ],
     [
      "8c244678-0b7e-11ec-8636-02420a01001e",
      "03790848-0b85-11ec-9aeb-02420a01001e"
     ]
    ]
   ]
  },
  "toc": {
   "base_numbering": 1,
   "nav_menu": {},
   "number_sections": true,
   "sideBar": true,
   "skip_h1_title": true,
   "title_cell": "Table of Contents",
   "title_sidebar": "Contents",
   "toc_cell": false,
   "toc_position": {
    "height": "826px",
    "left": "0px",
    "right": "1202px",
    "top": "111px",
    "width": "310px"
   },
   "toc_section_display": "block",
   "toc_window_display": true
  }
 },
 "nbformat": 4,
 "nbformat_minor": 2
}
