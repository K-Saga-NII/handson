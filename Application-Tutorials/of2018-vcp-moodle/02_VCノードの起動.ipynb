{
 "cells": [
  {
   "cell_type": "markdown",
   "metadata": {
    "lc_cell_meme": {
     "current": "3c3b8fc2-751d-11e8-bd8a-0242ac110002",
     "next": "3c3b9058-751d-11e8-bd8a-0242ac110002",
     "previous": null
    }
   },
   "source": [
    "# About: VCノードの起動\n",
    "\n",
    "---\n",
    "\n",
    "VCノードを起動します。"
   ]
  },
  {
   "cell_type": "markdown",
   "metadata": {
    "lc_cell_meme": {
     "current": "3c3b9058-751d-11e8-bd8a-0242ac110002",
     "next": "3c3b90d0-751d-11e8-bd8a-0242ac110002",
     "previous": "3c3b8fc2-751d-11e8-bd8a-0242ac110002"
    }
   },
   "source": [
    "## グループ名の指定\n",
    "\n",
    "このNotebookの操作対象となるAnsibleのグループ名を設定します。\n",
    "\n",
    "> グループ名を指定することにより「01_パラメータ設定.ipynb」で設定した値を引き継ぐことが出来ます。"
   ]
  },
  {
   "cell_type": "code",
   "execution_count": 1,
   "metadata": {
    "deletable": false,
    "editable": false,
    "lc_cell_meme": {
     "current": "3c3b90d0-751d-11e8-bd8a-0242ac110002",
     "next": "3c3b913e-751d-11e8-bd8a-0242ac110002",
     "previous": "3c3b9058-751d-11e8-bd8a-0242ac110002"
    },
    "run_through_control": {
     "frozen": true
    }
   },
   "outputs": [],
   "source": [
    "target_group = 'Moodle'"
   ]
  },
  {
   "cell_type": "markdown",
   "metadata": {
    "heading_collapsed": true,
    "lc_cell_meme": {
     "current": "3c3b913e-751d-11e8-bd8a-0242ac110002",
     "next": "3c3b91ac-751d-11e8-bd8a-0242ac110002",
     "previous": "3c3b90d0-751d-11e8-bd8a-0242ac110002"
    }
   },
   "source": [
    "# 前提条件の確認\n",
    "\n",
    "事前にNotebook「[01_パラメータ設定](01_パラメータ設定.ipynb)」が実行されていて、パラメータを記録したファイルが存在することを確認します。"
   ]
  },
  {
   "cell_type": "code",
   "execution_count": 2,
   "metadata": {
    "deletable": false,
    "editable": false,
    "hidden": true,
    "lc_cell_meme": {
     "current": "3c3b91ac-751d-11e8-bd8a-0242ac110002",
     "next": "3c3b9210-751d-11e8-bd8a-0242ac110002",
     "previous": "3c3b913e-751d-11e8-bd8a-0242ac110002"
    },
    "run_through_control": {
     "frozen": true,
     "read_only": true
    }
   },
   "outputs": [],
   "source": [
    "import os\n",
    "if not os.path.exists(os.path.join('group_vars', target_group + '.yml')):\n",
    "    raise RuntimeError(\"ERROR: not exists {}\".format(target_group + '.yml'))"
   ]
  },
  {
   "cell_type": "markdown",
   "metadata": {
    "heading_collapsed": true,
    "lc_cell_meme": {
     "current": "3c3b9210-751d-11e8-bd8a-0242ac110002",
     "next": "3c3b927e-751d-11e8-bd8a-0242ac110002",
     "previous": "3c3b91ac-751d-11e8-bd8a-0242ac110002"
    }
   },
   "source": [
    "# VCノードの起動\n",
    "\n",
    "VCP SDK を利用してVCノードを起動します。\n",
    "\n",
    "![VCノードの起動](image/moodle-2-03.png)"
   ]
  },
  {
   "cell_type": "markdown",
   "metadata": {
    "hidden": true,
    "lc_cell_meme": {
     "current": "3c3b927e-751d-11e8-bd8a-0242ac110002",
     "next": "3c3b92ec-751d-11e8-bd8a-0242ac110002",
     "previous": "3c3b9210-751d-11e8-bd8a-0242ac110002"
    }
   },
   "source": [
    "## VCP SDKの初期化とパラメータの指定\n",
    "\n",
    "VCP SDKを初期化した後、VCノードのパラメータ設定を行いVCノードを起動します。設定する主なパラメータを以下に示します。\n",
    "\n",
    "* ユーザ名(必須項目):\n",
    "    - spec.params_e[ANSIBLE_USER] \n",
    "* SSH公開鍵(必須項目):\n",
    "    - spec.params_e[SSH_PUBLIC_KEY] \n",
    "* VCノードにアタッチするEBSの情報(オプション):\n",
    "    - spec.volume_id\n",
    "* VCノードのIPアドレス(オプション):\n",
    "    - spec.ip_address_list \n",
    "* VCノードのインスタンスタイプ(オプション):\n",
    "    - spec.instance_type\n",
    "* VCノードのルートボリュームサイズ(オプション):\n",
    "    - spec.volume_size"
   ]
  },
  {
   "cell_type": "markdown",
   "metadata": {
    "hidden": true,
    "lc_cell_meme": {
     "current": "3c3b92ec-751d-11e8-bd8a-0242ac110002",
     "next": "3c3b935a-751d-11e8-bd8a-0242ac110002",
     "previous": "3c3b927e-751d-11e8-bd8a-0242ac110002"
    }
   },
   "source": [
    "以下のセルで実際の操作を行っていきます。\n",
    "\n",
    "まずVCP SDK の初期化を行います。"
   ]
  },
  {
   "cell_type": "code",
   "execution_count": 3,
   "metadata": {
    "deletable": false,
    "editable": false,
    "hidden": true,
    "lc_cell_meme": {
     "current": "3c3b935a-751d-11e8-bd8a-0242ac110002",
     "next": "3c3b93be-751d-11e8-bd8a-0242ac110002",
     "previous": "3c3b92ec-751d-11e8-bd8a-0242ac110002"
    },
    "run_through_control": {
     "frozen": true,
     "read_only": true
    }
   },
   "outputs": [],
   "source": [
    "from common import logsetting\n",
    "from vcpsdk import vcpsdk\n",
    "%run scripts/group.py\n",
    "\n",
    "gvars = load_group_vars(target_group)\n",
    "sdk = vcpsdk.VcpSDK(\n",
    "    gvars['vcc_access_token'],\n",
    "    target_group)"
   ]
  },
  {
   "cell_type": "markdown",
   "metadata": {
    "hidden": true,
    "lc_cell_meme": {
     "current": "3c3b93be-751d-11e8-bd8a-0242ac110002",
     "next": "3c3b942c-751d-11e8-bd8a-0242ac110002",
     "previous": "3c3b935a-751d-11e8-bd8a-0242ac110002"
    }
   },
   "source": [
    "VCノードにSSHでログインするためのユーザ名と公開鍵の指定を行います。"
   ]
  },
  {
   "cell_type": "code",
   "execution_count": 4,
   "metadata": {
    "deletable": false,
    "editable": false,
    "hidden": true,
    "lc_cell_meme": {
     "current": "3c3b942c-751d-11e8-bd8a-0242ac110002",
     "next": "3c3b949a-751d-11e8-bd8a-0242ac110002",
     "previous": "3c3b93be-751d-11e8-bd8a-0242ac110002"
    },
    "run_through_control": {
     "frozen": true,
     "read_only": true
    }
   },
   "outputs": [],
   "source": [
    "import base64\n",
    "\n",
    "spec = sdk.spec.find_spec(\n",
    "    gvars['vcp_provider'], gvars['vcp_flavor'])\n",
    "\n",
    "with open(gvars['ansible_ssh_public_key_file'], 'rb') as f:\n",
    "    b64_ssh_publickey = base64.b64encode(f.read()).decode('UTF-8')\n",
    "\n",
    "spec.params_e = [\n",
    "    \"ANSIBLE_USER={}\".format(gvars['ansible_user']),  # ユーザ名の指定\n",
    "    \"SSH_PUBLIC_KEY={}\".format(b64_ssh_publickey),    # 公開鍵の指定\n",
    "]"
   ]
  },
  {
   "cell_type": "markdown",
   "metadata": {
    "hidden": true,
    "lc_cell_meme": {
     "current": "3c3b949a-751d-11e8-bd8a-0242ac110002",
     "next": "3c3b9508-751d-11e8-bd8a-0242ac110002",
     "previous": "3c3b942c-751d-11e8-bd8a-0242ac110002"
    }
   },
   "source": [
    "VCノードにアタッチするMySQL, Moodle用のボリューム(EBS)に関する指定を行います。"
   ]
  },
  {
   "cell_type": "code",
   "execution_count": 5,
   "metadata": {
    "deletable": false,
    "editable": false,
    "hidden": true,
    "lc_cell_meme": {
     "current": "3c3b9508-751d-11e8-bd8a-0242ac110002",
     "next": "3c3b9576-751d-11e8-bd8a-0242ac110002",
     "previous": "3c3b949a-751d-11e8-bd8a-0242ac110002"
    },
    "run_through_control": {
     "frozen": true,
     "read_only": true
    }
   },
   "outputs": [],
   "source": [
    "# ボリューム(MySQL, Moodle)をVCノードにアタッチ\n",
    "vcp_provider = gvars['vcp_provider']\n",
    "if  vcp_provider == 'aws':\n",
    "    spec.volume_id = [\n",
    "        gvars['volume_database_id'],\n",
    "        gvars['volume_moodle_id'],\n",
    "    ]\n",
    "elif vcp_provider == 'azure':\n",
    "    spec.volume_id = [{\n",
    "        'id': gvars['volume_database_id'],\n",
    "        'size_gb': int(gvars['volume_database_size']),\n",
    "    },{\n",
    "        'id': gvars['volume_moodle_id'],\n",
    "        'size_gb': int(gvars['volume_moodle_size']),\n",
    "    }]\n",
    "\n",
    "# ボリューム暗号化の有効、無効の指定\n",
    "if gvars['volume_encrypt']:       # 暗号化する場合\n",
    "    spec.image = 'vcp-moodle:luks'\n",
    "    spec.params_e.extend([\n",
    "        # Vaultサーバのアドレス\n",
    "        \"VAULT_ADDR={}\".format(gvars['vault_address']),\n",
    "        # Vaultサーバのアクセストークン\n",
    "        \"VAULT_TOKEN={}\".format(gvars['vcc_access_token']),\n",
    "        # 暗号化の鍵ファイルの格納場所\n",
    "        \"LUKS_KEYFILE_PATH={}\".format(gvars['vault_luks_key_path']),\n",
    "        # 暗号化対象となるボリュームのデバイス名のマッピング情報\n",
    "        \"LUKS_ENTRIES={}={}:{}={}\".format(\n",
    "            'mysql', gvars['volume_database_device0'],\n",
    "            'moodle', gvars['volume_moodle_device0'],\n",
    "        ),\n",
    "        # ハンズオンではEBSを使いまわしているので強制的にフォーマットする\n",
    "        \"LUKS_FORCE_FORMAT=YES\",\n",
    "    ])\n",
    "else:                              # 暗号化しない場合\n",
    "    spec.image = 'vcp-moodle:base'"
   ]
  },
  {
   "cell_type": "markdown",
   "metadata": {
    "hidden": true,
    "lc_cell_meme": {
     "current": "3c3b9576-751d-11e8-bd8a-0242ac110002",
     "next": "3c3b95da-751d-11e8-bd8a-0242ac110002",
     "previous": "3c3b9508-751d-11e8-bd8a-0242ac110002"
    }
   },
   "source": [
    "VCノードに割り当てるIPアドレスを指定します。"
   ]
  },
  {
   "cell_type": "code",
   "execution_count": 6,
   "metadata": {
    "deletable": false,
    "editable": false,
    "hidden": true,
    "lc_cell_meme": {
     "current": "3c3b95da-751d-11e8-bd8a-0242ac110002",
     "next": "3c3b9648-751d-11e8-bd8a-0242ac110002",
     "previous": "3c3b9576-751d-11e8-bd8a-0242ac110002"
    },
    "run_through_control": {
     "frozen": true,
     "read_only": true
    }
   },
   "outputs": [],
   "source": [
    "if 'vc_node_address' in gvars:\n",
    "    spec.ip_address_list = [gvars['vc_node_address']]"
   ]
  },
  {
   "cell_type": "markdown",
   "metadata": {
    "hidden": true,
    "lc_cell_meme": {
     "current": "3c3b9648-751d-11e8-bd8a-0242ac110002",
     "next": "3c3b96b6-751d-11e8-bd8a-0242ac110002",
     "previous": "3c3b95da-751d-11e8-bd8a-0242ac110002"
    }
   },
   "source": [
    "その他のパラメータを指定します。"
   ]
  },
  {
   "cell_type": "code",
   "execution_count": 7,
   "metadata": {
    "deletable": false,
    "editable": false,
    "hidden": true,
    "lc_cell_meme": {
     "current": "3c3b96b6-751d-11e8-bd8a-0242ac110002",
     "next": "3c3b9724-751d-11e8-bd8a-0242ac110002",
     "previous": "3c3b9648-751d-11e8-bd8a-0242ac110002"
    },
    "run_through_control": {
     "frozen": true,
     "read_only": true
    }
   },
   "outputs": [],
   "source": [
    "if 'vcp_instance_type' in gvars:\n",
    "    # インスタンスタイプの指定\n",
    "    spec.instance_type = gvars['vcp_instance_type']\n",
    "    \n",
    "if 'root_volume_size' in gvars:\n",
    "    # ルートボリュームサイズの指定\n",
    "    spec.volume_size = gvars['root_volume_size']\n",
    "    \n",
    "# Docker volume の指定\n",
    "spec.params_v = ['{0}:{0}'.format(gvars['project_dir'])]"
   ]
  },
  {
   "cell_type": "markdown",
   "metadata": {
    "heading_collapsed": true,
    "hidden": true,
    "lc_cell_meme": {
     "current": "3c3b9724-751d-11e8-bd8a-0242ac110002",
     "next": "3c3b9788-751d-11e8-bd8a-0242ac110002",
     "previous": "3c3b96b6-751d-11e8-bd8a-0242ac110002"
    }
   },
   "source": [
    "## VCノードの起動"
   ]
  },
  {
   "cell_type": "markdown",
   "metadata": {
    "hidden": true,
    "lc_cell_meme": {
     "current": "3c3b9788-751d-11e8-bd8a-0242ac110002",
     "next": "3c3b97f6-751d-11e8-bd8a-0242ac110002",
     "previous": "3c3b9724-751d-11e8-bd8a-0242ac110002"
    }
   },
   "source": [
    "VCノードを起動します。\n",
    "\n",
    "> 起動には1分半程度の時間がかかります。"
   ]
  },
  {
   "cell_type": "code",
   "execution_count": 8,
   "metadata": {
    "deletable": false,
    "editable": false,
    "hidden": true,
    "lc_cell_meme": {
     "current": "3c3b97f6-751d-11e8-bd8a-0242ac110002",
     "next": "3c3b985a-751d-11e8-bd8a-0242ac110002",
     "previous": "3c3b9788-751d-11e8-bd8a-0242ac110002"
    },
    "run_through_control": {
     "frozen": true,
     "read_only": true
    }
   },
   "outputs": [
    {
     "name": "stdout",
     "output_type": "stream",
     "text": [
      "2018-06-21 16:05:15,141 - INFO - BOOTING ... 0 sec\n",
      "2018-06-21 16:05:20,418 - INFO - BOOTING ... 5 sec\n",
      "2018-06-21 16:05:25,730 - INFO - BOOTING ... 10 sec\n",
      "2018-06-21 16:05:31,007 - INFO - BOOTING ... 15 sec\n",
      "2018-06-21 16:05:36,303 - INFO - BOOTING ... 20 sec\n",
      "2018-06-21 16:05:41,587 - INFO - BOOTING ... 25 sec\n",
      "2018-06-21 16:05:46,878 - INFO - BOOTING ... 30 sec\n",
      "2018-06-21 16:05:52,168 - INFO - BOOTING ... 35 sec\n",
      "2018-06-21 16:05:57,475 - INFO - BOOTING ... 40 sec\n",
      "2018-06-21 16:06:02,778 - INFO - BOOTING ... 45 sec\n",
      "2018-06-21 16:06:08,149 - INFO - BOOTING ... 50 sec\n",
      "2018-06-21 16:06:13,497 - INFO - BOOTING ... 55 sec\n",
      "2018-06-21 16:06:18,829 - INFO - BOOTING ... 60 sec\n",
      "2018-06-21 16:06:24,143 - INFO - BOOTING ... 65 sec\n",
      "2018-06-21 16:06:29,465 - INFO - BOOTING ... 70 sec\n",
      "2018-06-21 16:06:34,787 - INFO - BOOTING ... 75 sec\n",
      "2018-06-21 16:06:40,137 - INFO - BOOTING ... 80 sec\n",
      "2018-06-21 16:06:45,430 - INFO - unit Moodle-server is RUNNING\n"
     ]
    }
   ],
   "source": [
    "nodes = sdk.unit.create(\n",
    "    '{}-server'.format(target_group), spec, wait_for=True, verbose=0)"
   ]
  },
  {
   "cell_type": "markdown",
   "metadata": {
    "hidden": true,
    "lc_cell_meme": {
     "current": "3c3b985a-751d-11e8-bd8a-0242ac110002",
     "next": "3c3b98c8-751d-11e8-bd8a-0242ac110002",
     "previous": "3c3b97f6-751d-11e8-bd8a-0242ac110002"
    }
   },
   "source": [
    "作成されたVCの状態を確認します。"
   ]
  },
  {
   "cell_type": "code",
   "execution_count": 9,
   "metadata": {
    "deletable": false,
    "editable": false,
    "hidden": true,
    "lc_cell_meme": {
     "current": "3c3b98c8-751d-11e8-bd8a-0242ac110002",
     "next": "3c3b992c-751d-11e8-bd8a-0242ac110002",
     "previous": "3c3b985a-751d-11e8-bd8a-0242ac110002"
    },
    "run_through_control": {
     "frozen": true,
     "read_only": true
    }
   },
   "outputs": [
    {
     "data": {
      "text/html": [
       "<div>\n",
       "<style>\n",
       "    .dataframe thead tr:only-child th {\n",
       "        text-align: right;\n",
       "    }\n",
       "\n",
       "    .dataframe thead th {\n",
       "        text-align: left;\n",
       "    }\n",
       "\n",
       "    .dataframe tbody tr th {\n",
       "        vertical-align: top;\n",
       "    }\n",
       "</style>\n",
       "<table border=\"1\" class=\"dataframe\">\n",
       "  <thead>\n",
       "    <tr style=\"text-align: right;\">\n",
       "      <th></th>\n",
       "      <th>vcno</th>\n",
       "      <th>vc_name</th>\n",
       "      <th>unit_name</th>\n",
       "      <th>unit_state</th>\n",
       "      <th>node_no</th>\n",
       "      <th>node_id</th>\n",
       "      <th>node_state</th>\n",
       "      <th>cloud_instance_address</th>\n",
       "      <th>cloud_instance_id</th>\n",
       "      <th>cloud_instance_name</th>\n",
       "      <th>volumes</th>\n",
       "    </tr>\n",
       "  </thead>\n",
       "  <tbody>\n",
       "    <tr>\n",
       "      <th>0</th>\n",
       "      <td>23</td>\n",
       "      <td>Moodle</td>\n",
       "      <td>Moodle-server</td>\n",
       "      <td>RUNNING</td>\n",
       "      <td>1</td>\n",
       "      <td>68f4d05a...</td>\n",
       "      <td>RUNNING</td>\n",
       "      <td>172.30.2.100</td>\n",
       "      <td>i-0e1136c5bfb414df8</td>\n",
       "      <td>VCP-2045b119-09bf021c</td>\n",
       "      <td>exists</td>\n",
       "    </tr>\n",
       "  </tbody>\n",
       "</table>\n",
       "</div>"
      ],
      "text/plain": [
       "   vcno vc_name      unit_name unit_state  node_no      node_id node_state  \\\n",
       "0    23  Moodle  Moodle-server    RUNNING        1  68f4d05a...    RUNNING   \n",
       "\n",
       "  cloud_instance_address    cloud_instance_id    cloud_instance_name volumes  \n",
       "0           172.30.2.100  i-0e1136c5bfb414df8  VCP-2045b119-09bf021c  exists  "
      ]
     },
     "execution_count": 9,
     "metadata": {},
     "output_type": "execute_result"
    }
   ],
   "source": [
    "sdk.unit.df_node()"
   ]
  },
  {
   "cell_type": "markdown",
   "metadata": {
    "hidden": true,
    "lc_cell_meme": {
     "current": "3c3b992c-751d-11e8-bd8a-0242ac110002",
     "next": "3c3b999a-751d-11e8-bd8a-0242ac110002",
     "previous": "3c3b98c8-751d-11e8-bd8a-0242ac110002"
    }
   },
   "source": [
    "VCノードの状態が `RUNNING` になっていることを確認します。\n",
    "\n",
    "> VCノードの起動に失敗して`RUNNING`以外の状態になっている場合は次のセルを実行するとエラーになります。"
   ]
  },
  {
   "cell_type": "code",
   "execution_count": 10,
   "metadata": {
    "deletable": false,
    "editable": false,
    "hidden": true,
    "lc_cell_meme": {
     "current": "3c3b999a-751d-11e8-bd8a-0242ac110002",
     "next": "3c3b99fe-751d-11e8-bd8a-0242ac110002",
     "previous": "3c3b992c-751d-11e8-bd8a-0242ac110002"
    },
    "run_through_control": {
     "frozen": true,
     "read_only": true
    },
    "scrolled": true
   },
   "outputs": [],
   "source": [
    "if nodes[0].unit.nodes[0].state != 'RUNNING':\n",
    "    raise RuntimeError('ERROR: not running')"
   ]
  },
  {
   "cell_type": "markdown",
   "metadata": {
    "hidden": true,
    "lc_cell_meme": {
     "current": "3c3b99fe-751d-11e8-bd8a-0242ac110002",
     "next": "3c3b9a6c-751d-11e8-bd8a-0242ac110002",
     "previous": "3c3b999a-751d-11e8-bd8a-0242ac110002"
    }
   },
   "source": [
    "VCノードのIPアドレスを確認します。"
   ]
  },
  {
   "cell_type": "code",
   "execution_count": 11,
   "metadata": {
    "deletable": false,
    "editable": false,
    "hidden": true,
    "lc_cell_meme": {
     "current": "3c3b9a6c-751d-11e8-bd8a-0242ac110002",
     "next": "3c3b9ad0-751d-11e8-bd8a-0242ac110002",
     "previous": "3c3b99fe-751d-11e8-bd8a-0242ac110002"
    },
    "run_through_control": {
     "frozen": true,
     "read_only": true
    }
   },
   "outputs": [
    {
     "name": "stdout",
     "output_type": "stream",
     "text": [
      "172.30.2.100\n"
     ]
    }
   ],
   "source": [
    "bc_ip_address = [\n",
    "    n.cloud_instance_address\n",
    "    if isinstance(n.cloud_instance_address, str)\n",
    "    else n.cloud_instance_address.encode('utf-8')\n",
    "    for n in nodes][0]\n",
    "\n",
    "if 'vc_node_address' in gvars:\n",
    "    # 指定したIPアドレスと一致していることを確認する\n",
    "    if bc_ip_address != gvars['vc_node_address']:\n",
    "        raise RuntimeError(\n",
    "            \"ERROR: {} != {}\".format(bc_ip_address, gvars['vc_node_address']))\n",
    "\n",
    "print(bc_ip_address)"
   ]
  },
  {
   "cell_type": "markdown",
   "metadata": {
    "heading_collapsed": true,
    "lc_cell_meme": {
     "current": "3c3b9ad0-751d-11e8-bd8a-0242ac110002",
     "next": "3c3b9b3e-751d-11e8-bd8a-0242ac110002",
     "previous": "3c3b9a6c-751d-11e8-bd8a-0242ac110002"
    }
   },
   "source": [
    "# Ansibleの設定\n",
    "\n",
    "起動したVCノードをAnsibleのインベントリに登録します。またAnsibleでVCノードに接続できることを確認します。\n",
    "\n",
    "![Ansibleの設定](image/moodle-2-04.png)"
   ]
  },
  {
   "cell_type": "markdown",
   "metadata": {
    "hidden": true,
    "lc_cell_meme": {
     "current": "3c3b9b3e-751d-11e8-bd8a-0242ac110002",
     "next": "3c3b9ba2-751d-11e8-bd8a-0242ac110002",
     "previous": "3c3b9ad0-751d-11e8-bd8a-0242ac110002"
    }
   },
   "source": [
    "## インベントリの更新"
   ]
  },
  {
   "cell_type": "markdown",
   "metadata": {
    "hidden": true,
    "lc_cell_meme": {
     "current": "3c3b9ba2-751d-11e8-bd8a-0242ac110002",
     "next": "3c3b9c10-751d-11e8-bd8a-0242ac110002",
     "previous": "3c3b9b3e-751d-11e8-bd8a-0242ac110002"
    }
   },
   "source": [
    "インベントリを更新するための作業ディレクトリを作成します。"
   ]
  },
  {
   "cell_type": "code",
   "execution_count": 12,
   "metadata": {
    "deletable": false,
    "editable": false,
    "hidden": true,
    "lc_cell_meme": {
     "current": "3c3b9c10-751d-11e8-bd8a-0242ac110002",
     "next": "3c3b9c74-751d-11e8-bd8a-0242ac110002",
     "previous": "3c3b9ba2-751d-11e8-bd8a-0242ac110002"
    },
    "run_through_control": {
     "frozen": true,
     "read_only": true
    }
   },
   "outputs": [],
   "source": [
    "import tempfile\n",
    "work_dir = tempfile.mkdtemp()"
   ]
  },
  {
   "cell_type": "markdown",
   "metadata": {
    "hidden": true,
    "lc_cell_meme": {
     "current": "3c3b9c74-751d-11e8-bd8a-0242ac110002",
     "next": "3c3b9ce2-751d-11e8-bd8a-0242ac110002",
     "previous": "3c3b9c10-751d-11e8-bd8a-0242ac110002"
    }
   },
   "source": [
    "編集前のインベントリを作業ディレクトリにコピーします。"
   ]
  },
  {
   "cell_type": "code",
   "execution_count": 13,
   "metadata": {
    "deletable": false,
    "editable": false,
    "hidden": true,
    "lc_cell_meme": {
     "current": "3c3b9ce2-751d-11e8-bd8a-0242ac110002",
     "next": "3c3b9d50-751d-11e8-bd8a-0242ac110002",
     "previous": "3c3b9c74-751d-11e8-bd8a-0242ac110002"
    },
    "run_through_control": {
     "frozen": true,
     "read_only": true
    }
   },
   "outputs": [],
   "source": [
    "import os\n",
    "!touch hosts\n",
    "!cp hosts {os.path.join(work_dir, 'hosts.orig')}"
   ]
  },
  {
   "cell_type": "markdown",
   "metadata": {
    "hidden": true,
    "lc_cell_meme": {
     "current": "3c3b9d50-751d-11e8-bd8a-0242ac110002",
     "next": "3c3b9dbe-751d-11e8-bd8a-0242ac110002",
     "previous": "3c3b9ce2-751d-11e8-bd8a-0242ac110002"
    }
   },
   "source": [
    "VCノードのIPアドレスをインベントリに追加します。"
   ]
  },
  {
   "cell_type": "code",
   "execution_count": 14,
   "metadata": {
    "deletable": false,
    "editable": false,
    "hidden": true,
    "lc_cell_meme": {
     "current": "3c3b9dbe-751d-11e8-bd8a-0242ac110002",
     "next": "3c3b9e22-751d-11e8-bd8a-0242ac110002",
     "previous": "3c3b9d50-751d-11e8-bd8a-0242ac110002"
    },
    "run_through_control": {
     "frozen": true,
     "read_only": true
    }
   },
   "outputs": [
    {
     "name": "stdout",
     "output_type": "stream",
     "text": [
      "\u001b[1;35m [WARNING]: Could not match supplied host pattern, ignoring: all\u001b[0m\n",
      "\u001b[1;35m\u001b[0m\n",
      "\u001b[1;35m [WARNING]: provided hosts list is empty, only localhost is available\u001b[0m\n",
      "\u001b[1;35m\u001b[0m\n",
      "\u001b[0;33mlocalhost | SUCCESS => {\u001b[0m\n",
      "\u001b[0;33m    \"changed\": true, \u001b[0m\n",
      "\u001b[0;33m    \"failed\": false, \u001b[0m\n",
      "\u001b[0;33m    \"msg\": \"Block inserted\"\u001b[0m\n",
      "\u001b[0;33m}\u001b[0m\n",
      "# BEGIN ANSIBLE MANAGED BLOCK Moodle\n",
      "[Moodle]\n",
      "172.30.2.100\n",
      "# END ANSIBLE MANAGED BLOCK Moodle"
     ]
    }
   ],
   "source": [
    "arg = '''\n",
    "path=hosts marker=\"# {mark} ANSIBLE MANAGED BLOCK {{target_group}}\"\n",
    "block=\"[{{target_group}}]\n",
    "{{vc_node_address}}\n",
    "\"\n",
    "'''\n",
    "\n",
    "!ansible --extra-vars=\"@group_vars/{target_group}.yml\" \\\n",
    "    -c local -m blockinfile -a '{arg}' localhost\n",
    "\n",
    "# 更新後のインベントリを表示する \n",
    "!cat hosts"
   ]
  },
  {
   "cell_type": "markdown",
   "metadata": {
    "hidden": true,
    "lc_cell_meme": {
     "current": "3c3b9e22-751d-11e8-bd8a-0242ac110002",
     "next": "3c3b9e90-751d-11e8-bd8a-0242ac110002",
     "previous": "3c3b9dbe-751d-11e8-bd8a-0242ac110002"
    }
   },
   "source": [
    "インベントリを更に編集したい場合は、次のセルを実行して表示されるリンクから編集画面を開いて編集してください。"
   ]
  },
  {
   "cell_type": "code",
   "execution_count": 15,
   "metadata": {
    "deletable": false,
    "editable": false,
    "hidden": true,
    "lc_cell_meme": {
     "current": "3c3b9e90-751d-11e8-bd8a-0242ac110002",
     "next": "3c3b9ef4-751d-11e8-bd8a-0242ac110002",
     "previous": "3c3b9e22-751d-11e8-bd8a-0242ac110002"
    },
    "run_through_control": {
     "frozen": true,
     "read_only": true
    }
   },
   "outputs": [
    {
     "data": {
      "text/html": [
       "<a href=\"/handson/edit/handson/moodle/hosts\" target=\"_blank\">Inventory</a>"
      ],
      "text/plain": [
       "<IPython.core.display.HTML object>"
      ]
     },
     "execution_count": 15,
     "metadata": {},
     "output_type": "execute_result"
    }
   ],
   "source": [
    "%run scripts/nbutils.py\n",
    "nb_html_link(os.path.join(os.getcwd(), 'hosts'), 'Inventory')"
   ]
  },
  {
   "cell_type": "markdown",
   "metadata": {
    "hidden": true,
    "lc_cell_meme": {
     "current": "3c3b9ef4-751d-11e8-bd8a-0242ac110002",
     "next": "3c3b9f58-751d-11e8-bd8a-0242ac110002",
     "previous": "3c3b9e90-751d-11e8-bd8a-0242ac110002"
    }
   },
   "source": [
    "更新前のインベントリとの差分を確認します。\n",
    "\n",
    "> 更新前のファイルとの差分がない場合はVCノードが登録されていないとみなして、次のセルがエラーになります。"
   ]
  },
  {
   "cell_type": "code",
   "execution_count": 16,
   "metadata": {
    "deletable": false,
    "editable": false,
    "hidden": true,
    "lc_cell_meme": {
     "current": "3c3b9f58-751d-11e8-bd8a-0242ac110002",
     "next": "3c3b9fc6-751d-11e8-bd8a-0242ac110002",
     "previous": "3c3b9ef4-751d-11e8-bd8a-0242ac110002"
    },
    "run_through_control": {
     "frozen": true,
     "read_only": true
    },
    "scrolled": true
   },
   "outputs": [
    {
     "name": "stdout",
     "output_type": "stream",
     "text": [
      "--- /tmp/tmp215pvcei/hosts.orig\t2018-06-21 16:07:05.213230023 +0900\r\n",
      "+++ hosts\t2018-06-21 16:07:06.569232000 +0900\r\n",
      "@@ -0,0 +1,4 @@\r\n",
      "+# BEGIN ANSIBLE MANAGED BLOCK Moodle\r\n",
      "+[Moodle]\r\n",
      "+172.30.2.100\r\n",
      "+# END ANSIBLE MANAGED BLOCK Moodle\r\n",
      "\\ No newline at end of file\r\n"
     ]
    }
   ],
   "source": [
    "try:\n",
    "    !diff -u {os.path.join(work_dir, 'hosts.orig')} hosts\n",
    "    raise Exception(\"WARNING: no change!\")\n",
    "except RuntimeError:\n",
    "    pass"
   ]
  },
  {
   "cell_type": "markdown",
   "metadata": {
    "hidden": true,
    "lc_cell_meme": {
     "current": "3c3b9fc6-751d-11e8-bd8a-0242ac110002",
     "next": "3c3ba02a-751d-11e8-bd8a-0242ac110002",
     "previous": "3c3b9f58-751d-11e8-bd8a-0242ac110002"
    }
   },
   "source": [
    "Ansibleの対象グループに登録されているホストの一覧を表示して、追加したVCノードのIPアドレスが表示されることを確認します。\n",
    "\n",
    "> ハンズオン環境では `172.30.2.100` が表示されることを確認してください。"
   ]
  },
  {
   "cell_type": "code",
   "execution_count": 17,
   "metadata": {
    "deletable": false,
    "editable": false,
    "hidden": true,
    "lc_cell_meme": {
     "current": "3c3ba02a-751d-11e8-bd8a-0242ac110002",
     "next": "3c3ba098-751d-11e8-bd8a-0242ac110002",
     "previous": "3c3b9fc6-751d-11e8-bd8a-0242ac110002"
    },
    "run_through_control": {
     "frozen": true,
     "read_only": true
    }
   },
   "outputs": [
    {
     "name": "stdout",
     "output_type": "stream",
     "text": [
      "  hosts (1):\r\n",
      "    172.30.2.100\r\n"
     ]
    }
   ],
   "source": [
    "!ansible --list-hosts {target_group}"
   ]
  },
  {
   "cell_type": "markdown",
   "metadata": {
    "hidden": true,
    "lc_cell_meme": {
     "current": "3c3ba098-751d-11e8-bd8a-0242ac110002",
     "next": "3c3ba0fc-751d-11e8-bd8a-0242ac110002",
     "previous": "3c3ba02a-751d-11e8-bd8a-0242ac110002"
    }
   },
   "source": [
    "## VCノードとの接続確認\n",
    "\n",
    "VCノードに対して Ansible で接続できることを確認します。"
   ]
  },
  {
   "cell_type": "code",
   "execution_count": 18,
   "metadata": {
    "deletable": false,
    "editable": false,
    "hidden": true,
    "lc_cell_meme": {
     "current": "3c3ba0fc-751d-11e8-bd8a-0242ac110002",
     "next": "3c3ba16a-751d-11e8-bd8a-0242ac110002",
     "previous": "3c3ba098-751d-11e8-bd8a-0242ac110002"
    },
    "run_through_control": {
     "frozen": true,
     "read_only": true
    }
   },
   "outputs": [
    {
     "name": "stdout",
     "output_type": "stream",
     "text": [
      "\u001b[0;32m172.30.2.100 | SUCCESS => {\u001b[0m\r\n",
      "\u001b[0;32m    \"changed\": false, \u001b[0m\r\n",
      "\u001b[0;32m    \"failed\": false, \u001b[0m\r\n",
      "\u001b[0;32m    \"ping\": \"pong\"\u001b[0m\r\n",
      "\u001b[0;32m}\u001b[0m\r\n"
     ]
    }
   ],
   "source": [
    "def reachable_check():\n",
    "    !ansible -m ping {target_group}\n",
    "\n",
    "\n",
    "%run scripts/utils.py\n",
    "retry_exec(reachable_check)"
   ]
  },
  {
   "cell_type": "markdown",
   "metadata": {
    "hidden": true,
    "lc_cell_meme": {
     "current": "3c3ba16a-751d-11e8-bd8a-0242ac110002",
     "next": "3c3ba1d8-751d-11e8-bd8a-0242ac110002",
     "previous": "3c3ba0fc-751d-11e8-bd8a-0242ac110002"
    }
   },
   "source": [
    "正常に接続できると以下のように表示されます。\n",
    "\n",
    "```\n",
    "XXX.XXX.XXX.XXX | SUCCESS => {\n",
    "    \"changed\": false, \n",
    "    \"ping\": \"pong\"\n",
    "}\n",
    "```\n",
    "\n",
    "タイミングによってはまだVCノードのsshdサービスが開始されておらず `UNREACHABLE` となってしまう場合もあります。そのため何度かリトライして確認しています。"
   ]
  },
  {
   "cell_type": "markdown",
   "metadata": {
    "hidden": true,
    "lc_cell_meme": {
     "current": "3c3ba1d8-751d-11e8-bd8a-0242ac110002",
     "next": "3c3ba246-751d-11e8-bd8a-0242ac110002",
     "previous": "3c3ba16a-751d-11e8-bd8a-0242ac110002"
    }
   },
   "source": [
    "SSHの設定によっては以下のように表示されることがあります。\n",
    "```\n",
    "The authenticity of host '[XXX.XXX.XXX.XXX]:xxxxx' can't be established.\n",
    "RSA key fingerprint is xx:xx:xx:xx:xx:xx:xx:xx:xx:xx:xx:xx:xx:xx:xx:xx.\n",
    "Are you sure you want to continue connecting (yes/no)? \n",
    "```\n",
    "この場合はNotebookのメニューから[Kernel]-[Interrupt]を選択してセルの実行を一旦中断させてください。sshがユーザの入力を要求しているので Terminal で接続確認を行ってください。"
   ]
  },
  {
   "cell_type": "markdown",
   "metadata": {
    "hidden": true,
    "lc_cell_meme": {
     "current": "3c3ba246-751d-11e8-bd8a-0242ac110002",
     "next": "3c3ba2aa-751d-11e8-bd8a-0242ac110002",
     "previous": "3c3ba1d8-751d-11e8-bd8a-0242ac110002"
    }
   },
   "source": [
    "VCノードに対して設定ファイルの変更やパッケージの追加を行う場合にVCノードの管理者権限が必要になる場合があります。Ansibleで管理者権限によるコマンド実行が可能かどうかを確認します。"
   ]
  },
  {
   "cell_type": "code",
   "execution_count": 19,
   "metadata": {
    "deletable": false,
    "editable": false,
    "hidden": true,
    "lc_cell_meme": {
     "current": "3c3ba2aa-751d-11e8-bd8a-0242ac110002",
     "next": "3c3ba318-751d-11e8-bd8a-0242ac110002",
     "previous": "3c3ba246-751d-11e8-bd8a-0242ac110002"
    },
    "run_through_control": {
     "frozen": true,
     "read_only": true
    }
   },
   "outputs": [
    {
     "name": "stdout",
     "output_type": "stream",
     "text": [
      "\u001b[0;32m172.30.2.100 | SUCCESS | rc=0 >>\u001b[0m\r\n",
      "\u001b[0;32mroot\u001b[0m\r\n",
      "\u001b[0;32m\u001b[0m\r\n"
     ]
    }
   ],
   "source": [
    "# 管理者権限(-b)でのコマンド実行\n",
    "!ansible -b -a 'whoami' {target_group}"
   ]
  },
  {
   "cell_type": "markdown",
   "metadata": {
    "hidden": true,
    "lc_cell_meme": {
     "current": "3c3ba318-751d-11e8-bd8a-0242ac110002",
     "next": "3c3ba386-751d-11e8-bd8a-0242ac110002",
     "previous": "3c3ba2aa-751d-11e8-bd8a-0242ac110002"
    }
   },
   "source": [
    "インベントリの更新作業が完了したので作業用ディレクトリを削除します。"
   ]
  },
  {
   "cell_type": "code",
   "execution_count": 20,
   "metadata": {
    "deletable": false,
    "editable": false,
    "hidden": true,
    "lc_cell_meme": {
     "current": "3c3ba386-751d-11e8-bd8a-0242ac110002",
     "next": "3c3ba3f4-751d-11e8-bd8a-0242ac110002",
     "previous": "3c3ba318-751d-11e8-bd8a-0242ac110002"
    },
    "run_through_control": {
     "frozen": true,
     "read_only": true
    }
   },
   "outputs": [],
   "source": [
    "!rm -fr {work_dir}"
   ]
  },
  {
   "cell_type": "markdown",
   "metadata": {
    "lc_cell_meme": {
     "current": "3c3ba3f4-751d-11e8-bd8a-0242ac110002",
     "next": "3c3ba458-751d-11e8-bd8a-0242ac110002",
     "previous": "3c3ba386-751d-11e8-bd8a-0242ac110002"
    }
   },
   "source": [
    "# データ格納領域の準備\n",
    "\n",
    "![データ格納領域の準備](image/moodle-2-05.png)\n",
    "\n",
    "Moodle用, MySQL用のボリュームをデータを格納する領域として利用できるように準備します。\n",
    "\n"
   ]
  },
  {
   "cell_type": "markdown",
   "metadata": {
    "lc_cell_meme": {
     "current": "3c3ba458-751d-11e8-bd8a-0242ac110002",
     "next": "3c3ba4c6-751d-11e8-bd8a-0242ac110002",
     "previous": "3c3ba3f4-751d-11e8-bd8a-0242ac110002"
    }
   },
   "source": [
    "主な操作を以下に記します。\n",
    "\n",
    "* ファイルシステムの作成：\n",
    "```\n",
    "# mkfs.btfs -L {label名} /dev/{デバイス名} \n",
    "```\n",
    "* ファイルシステムのマウント：\n",
    "```\n",
    "# （ansibleのmountコマンドを利用）\n",
    "```\n",
    "* ディレクトリ（サブボリューム）の作成：\n",
    "```\n",
    "# btrfs subvolume create {対象ディレクトリ}\n",
    "```"
   ]
  },
  {
   "cell_type": "markdown",
   "metadata": {
    "lc_cell_meme": {
     "current": "3c3ba4c6-751d-11e8-bd8a-0242ac110002",
     "next": "3c3ba52a-751d-11e8-bd8a-0242ac110002",
     "previous": "3c3ba458-751d-11e8-bd8a-0242ac110002"
    }
   },
   "source": [
    "## デバイスにアクセスできることの確認"
   ]
  },
  {
   "cell_type": "markdown",
   "metadata": {
    "lc_cell_meme": {
     "current": "3c3ba52a-751d-11e8-bd8a-0242ac110002",
     "next": "3c3ba598-751d-11e8-bd8a-0242ac110002",
     "previous": "3c3ba4c6-751d-11e8-bd8a-0242ac110002"
    }
   },
   "source": [
    "Moodle用, MySQL用のデバイスにアクセスできるようになるまで待ち合わせを行います。\n",
    "\n",
    "> ボリュームの暗号化を有効にしている場合は、VCノードを起動してから暗号化の初期処理が完了するまで数分程度を要します。"
   ]
  },
  {
   "cell_type": "code",
   "execution_count": 21,
   "metadata": {
    "deletable": false,
    "editable": false,
    "lc_cell_meme": {
     "current": "3c3ba598-751d-11e8-bd8a-0242ac110002",
     "next": "3c3ba5fc-751d-11e8-bd8a-0242ac110002",
     "previous": "3c3ba52a-751d-11e8-bd8a-0242ac110002"
    },
    "run_through_control": {
     "frozen": true,
     "read_only": true
    },
    "scrolled": true
   },
   "outputs": [
    {
     "name": "stdout",
     "output_type": "stream",
     "text": [
      "\u001b[0;32m172.30.2.100 | SUCCESS | rc=0 >>\u001b[0m\n",
      "\u001b[0;32m/dev/mapper/moodle\u001b[0m\n",
      "\u001b[0;32m\u001b[0m\n",
      "\u001b[0;32m172.30.2.100 | SUCCESS | rc=0 >>\u001b[0m\n",
      "\u001b[0;32m/dev/mapper/mysql\u001b[0m\n",
      "\u001b[0;32m\u001b[0m\n"
     ]
    }
   ],
   "source": [
    "%run scripts/utils.py\n",
    "\n",
    "def check_device_access():\n",
    "    !ansible -a 'ls {{{{volume_moodle_device}}}}' {target_group}\n",
    "    !ansible -a 'ls {{{{volume_database_device}}}}' {target_group}\n",
    "    \n",
    "retry_exec(check_device_access)"
   ]
  },
  {
   "cell_type": "markdown",
   "metadata": {
    "lc_cell_meme": {
     "current": "3c3ba5fc-751d-11e8-bd8a-0242ac110002",
     "next": "3c3ba66a-751d-11e8-bd8a-0242ac110002",
     "previous": "3c3ba598-751d-11e8-bd8a-0242ac110002"
    }
   },
   "source": [
    "VCノードのブロックデバイスを確認します。ボリュームの暗号化を有効にしている場合は TYPE が `crypt` となっているエントリが表示されます。"
   ]
  },
  {
   "cell_type": "code",
   "execution_count": 22,
   "metadata": {
    "deletable": false,
    "editable": false,
    "lc_cell_meme": {
     "current": "3c3ba66a-751d-11e8-bd8a-0242ac110002",
     "next": "3c3ba6d8-751d-11e8-bd8a-0242ac110002",
     "previous": "3c3ba5fc-751d-11e8-bd8a-0242ac110002"
    },
    "run_through_control": {
     "frozen": true,
     "read_only": true
    }
   },
   "outputs": [
    {
     "name": "stdout",
     "output_type": "stream",
     "text": [
      "\u001b[0;32m172.30.2.100 | SUCCESS | rc=0 >>\u001b[0m\r\n",
      "\u001b[0;32mNAME     MAJ:MIN RM SIZE RO TYPE  MOUNTPOINT\u001b[0m\r\n",
      "\u001b[0;32mxvda     202:0    0  20G  0 disk  \u001b[0m\r\n",
      "\u001b[0;32m└─xvda1  202:1    0  20G  0 part  /var/lib/docker/aufs\u001b[0m\r\n",
      "\u001b[0;32mxvdf     202:80   0   8G  0 disk  \u001b[0m\r\n",
      "\u001b[0;32m└─mysql  252:1    0   8G  0 crypt \u001b[0m\r\n",
      "\u001b[0;32mxvdg     202:96   0   8G  0 disk  \u001b[0m\r\n",
      "\u001b[0;32m└─moodle 252:0    0   8G  0 crypt \u001b[0m\r\n",
      "\u001b[0;32m\u001b[0m\r\n"
     ]
    }
   ],
   "source": [
    "!ansible -a 'lsblk' {target_group}"
   ]
  },
  {
   "cell_type": "markdown",
   "metadata": {
    "heading_collapsed": true,
    "lc_cell_meme": {
     "current": "3c3ba6d8-751d-11e8-bd8a-0242ac110002",
     "next": "3c3ba73c-751d-11e8-bd8a-0242ac110002",
     "previous": "3c3ba66a-751d-11e8-bd8a-0242ac110002"
    }
   },
   "source": [
    "## ファイルシステムの作成"
   ]
  },
  {
   "cell_type": "markdown",
   "metadata": {
    "hidden": true,
    "lc_cell_meme": {
     "current": "3c3ba73c-751d-11e8-bd8a-0242ac110002",
     "next": "3c3ba7aa-751d-11e8-bd8a-0242ac110002",
     "previous": "3c3ba6d8-751d-11e8-bd8a-0242ac110002"
    }
   },
   "source": [
    "### Moodle用ボリュームのファイルシステム作成"
   ]
  },
  {
   "cell_type": "markdown",
   "metadata": {
    "hidden": true,
    "lc_cell_meme": {
     "current": "3c3ba7aa-751d-11e8-bd8a-0242ac110002",
     "next": "3c3ba818-751d-11e8-bd8a-0242ac110002",
     "previous": "3c3ba73c-751d-11e8-bd8a-0242ac110002"
    }
   },
   "source": [
    "mkfs コマンドを実行してファイルシステムを作成します。\n",
    "\n",
    "> オプションを指定する場合は次のセルの `mkfs_opts` に値を設定してください。"
   ]
  },
  {
   "cell_type": "code",
   "execution_count": 23,
   "metadata": {
    "deletable": false,
    "editable": false,
    "hidden": true,
    "lc_cell_meme": {
     "current": "3c3ba818-751d-11e8-bd8a-0242ac110002",
     "next": "3c3ba886-751d-11e8-bd8a-0242ac110002",
     "previous": "3c3ba7aa-751d-11e8-bd8a-0242ac110002"
    },
    "run_through_control": {
     "frozen": true
    }
   },
   "outputs": [
    {
     "name": "stdout",
     "output_type": "stream",
     "text": [
      "\u001b[0;32m172.30.2.100 | SUCCESS | rc=0 >>\u001b[0m\r\n",
      "\u001b[0;32mbtrfs-progs v4.8.5\u001b[0m\r\n",
      "\u001b[0;32mSee http://btrfs.wiki.kernel.org for more information.\u001b[0m\r\n",
      "\u001b[0;32m\u001b[0m\r\n",
      "\u001b[0;32mDetected a SSD, turning off metadata duplication.  Mkfs with -m dup if you want to force metadata duplication.\u001b[0m\r\n",
      "\u001b[0;32mLabel:              moodle\u001b[0m\r\n",
      "\u001b[0;32mUUID:               3f387f3e-8559-4224-9418-fde78b8a311b\u001b[0m\r\n",
      "\u001b[0;32mNode size:          16384\u001b[0m\r\n",
      "\u001b[0;32mSector size:        4096\u001b[0m\r\n",
      "\u001b[0;32mFilesystem size:    8.00GiB\u001b[0m\r\n",
      "\u001b[0;32mBlock group profiles:\u001b[0m\r\n",
      "\u001b[0;32m  Data:             single            8.00MiB\u001b[0m\r\n",
      "\u001b[0;32m  Metadata:         single            8.00MiB\u001b[0m\r\n",
      "\u001b[0;32m  System:           single            4.00MiB\u001b[0m\r\n",
      "\u001b[0;32mSSD detected:       yes\u001b[0m\r\n",
      "\u001b[0;32mIncompat features:  extref, skinny-metadata\u001b[0m\r\n",
      "\u001b[0;32mNumber of devices:  1\u001b[0m\r\n",
      "\u001b[0;32mDevices:\u001b[0m\r\n",
      "\u001b[0;32m   ID        SIZE  PATH\u001b[0m\r\n",
      "\u001b[0;32m    1     8.00GiB  /dev/mapper/moodle\u001b[0m\r\n",
      "\u001b[0;32m\u001b[0m\r\n"
     ]
    }
   ],
   "source": [
    "# mkfs のオプションを指定する\n",
    "mkfs_opts = '-f'   # force オプションの指定\n",
    "\n",
    "!ansible -b -a 'mkfs.{{{{volume_moodle_fs}}}} \\\n",
    "    -L {{{{volume_moodle_fs_label}}}} {mkfs_opts} \\\n",
    "    {{{{volume_moodle_device}}}}' {target_group}"
   ]
  },
  {
   "cell_type": "markdown",
   "metadata": {
    "hidden": true,
    "lc_cell_meme": {
     "current": "3c3ba886-751d-11e8-bd8a-0242ac110002",
     "next": "3c3ba8ea-751d-11e8-bd8a-0242ac110002",
     "previous": "3c3ba818-751d-11e8-bd8a-0242ac110002"
    }
   },
   "source": [
    "作成されたファイルシステムの状態を確認します。\n",
    "\n",
    "> 今のところ作成するファイルシステムは btrfs のみを前提としているので btrfs コマンドで確認を行います。"
   ]
  },
  {
   "cell_type": "code",
   "execution_count": 24,
   "metadata": {
    "deletable": false,
    "editable": false,
    "hidden": true,
    "lc_cell_meme": {
     "current": "3c3ba8ea-751d-11e8-bd8a-0242ac110002",
     "next": "3c3ba958-751d-11e8-bd8a-0242ac110002",
     "previous": "3c3ba886-751d-11e8-bd8a-0242ac110002"
    },
    "run_through_control": {
     "frozen": true,
     "read_only": true
    }
   },
   "outputs": [
    {
     "name": "stdout",
     "output_type": "stream",
     "text": [
      "\u001b[0;32m172.30.2.100 | SUCCESS | rc=0 >>\u001b[0m\r\n",
      "\u001b[0;32mLabel: 'moodle'  uuid: 3f387f3e-8559-4224-9418-fde78b8a311b\u001b[0m\r\n",
      "\u001b[0;32m\tTotal devices 1 FS bytes used 112.00KiB\u001b[0m\r\n",
      "\u001b[0;32m\tdevid    1 size 8.00GiB used 20.00MiB path /dev/mapper/moodle\u001b[0m\r\n",
      "\u001b[0;32m\u001b[0m\r\n"
     ]
    }
   ],
   "source": [
    "if 'btrfs' == load_group_var(target_group, 'volume_moodle_fs'):\n",
    "    !ansible -b -a 'btrfs filesystem show {{{{volume_moodle_device}}}}' {target_group}"
   ]
  },
  {
   "cell_type": "markdown",
   "metadata": {
    "hidden": true,
    "lc_cell_meme": {
     "current": "3c3ba958-751d-11e8-bd8a-0242ac110002",
     "next": "3c3ba9c6-751d-11e8-bd8a-0242ac110002",
     "previous": "3c3ba8ea-751d-11e8-bd8a-0242ac110002"
    }
   },
   "source": [
    "### MySQL用ボリュームのファイルシステム作成"
   ]
  },
  {
   "cell_type": "markdown",
   "metadata": {
    "hidden": true,
    "lc_cell_meme": {
     "current": "3c3ba9c6-751d-11e8-bd8a-0242ac110002",
     "next": "3c3baa34-751d-11e8-bd8a-0242ac110002",
     "previous": "3c3ba958-751d-11e8-bd8a-0242ac110002"
    }
   },
   "source": [
    "mkfs コマンドを実行してファイルシステムを作成します。\n",
    "\n",
    "> オプションを指定する場合は次のセルの `mkfs_opts` に値を設定してください。"
   ]
  },
  {
   "cell_type": "code",
   "execution_count": 25,
   "metadata": {
    "deletable": false,
    "editable": false,
    "hidden": true,
    "lc_cell_meme": {
     "current": "3c3baa34-751d-11e8-bd8a-0242ac110002",
     "next": "3c3bab92-751d-11e8-bd8a-0242ac110002",
     "previous": "3c3ba9c6-751d-11e8-bd8a-0242ac110002"
    },
    "run_through_control": {
     "frozen": true
    }
   },
   "outputs": [
    {
     "name": "stdout",
     "output_type": "stream",
     "text": [
      "\u001b[0;32m172.30.2.100 | SUCCESS | rc=0 >>\u001b[0m\r\n",
      "\u001b[0;32mbtrfs-progs v4.8.5\u001b[0m\r\n",
      "\u001b[0;32mSee http://btrfs.wiki.kernel.org for more information.\u001b[0m\r\n",
      "\u001b[0;32m\u001b[0m\r\n",
      "\u001b[0;32mDetected a SSD, turning off metadata duplication.  Mkfs with -m dup if you want to force metadata duplication.\u001b[0m\r\n",
      "\u001b[0;32mLabel:              mysql\u001b[0m\r\n",
      "\u001b[0;32mUUID:               2db99a78-14a1-4655-92c5-3af138f398c8\u001b[0m\r\n",
      "\u001b[0;32mNode size:          16384\u001b[0m\r\n",
      "\u001b[0;32mSector size:        4096\u001b[0m\r\n",
      "\u001b[0;32mFilesystem size:    8.00GiB\u001b[0m\r\n",
      "\u001b[0;32mBlock group profiles:\u001b[0m\r\n",
      "\u001b[0;32m  Data:             single            8.00MiB\u001b[0m\r\n",
      "\u001b[0;32m  Metadata:         single            8.00MiB\u001b[0m\r\n",
      "\u001b[0;32m  System:           single            4.00MiB\u001b[0m\r\n",
      "\u001b[0;32mSSD detected:       yes\u001b[0m\r\n",
      "\u001b[0;32mIncompat features:  extref, skinny-metadata\u001b[0m\r\n",
      "\u001b[0;32mNumber of devices:  1\u001b[0m\r\n",
      "\u001b[0;32mDevices:\u001b[0m\r\n",
      "\u001b[0;32m   ID        SIZE  PATH\u001b[0m\r\n",
      "\u001b[0;32m    1     8.00GiB  /dev/mapper/mysql\u001b[0m\r\n",
      "\u001b[0;32m\u001b[0m\r\n"
     ]
    }
   ],
   "source": [
    "# mkfs のオプションを指定する\n",
    "mkfs_opts = '-f'   # force オプションの指定\n",
    "\n",
    "!ansible -b -a 'mkfs.{{{{volume_database_fs}}}} \\\n",
    "    -L {{{{volume_database_fs_label}}}} {mkfs_opts} \\\n",
    "    {{{{volume_database_device}}}}' {target_group}"
   ]
  },
  {
   "cell_type": "markdown",
   "metadata": {
    "hidden": true,
    "lc_cell_meme": {
     "current": "3c3bab92-751d-11e8-bd8a-0242ac110002",
     "next": "3c3bac1e-751d-11e8-bd8a-0242ac110002",
     "previous": "3c3baa34-751d-11e8-bd8a-0242ac110002"
    }
   },
   "source": [
    "作成されたファイルシステムの状態を確認します。\n",
    "\n",
    "> 今のところ作成するファイルシステムは btrfs のみを前提としているので btrfs コマンドで確認を行います。"
   ]
  },
  {
   "cell_type": "code",
   "execution_count": 26,
   "metadata": {
    "deletable": false,
    "editable": false,
    "hidden": true,
    "lc_cell_meme": {
     "current": "3c3bac1e-751d-11e8-bd8a-0242ac110002",
     "next": "3c3bac8c-751d-11e8-bd8a-0242ac110002",
     "previous": "3c3bab92-751d-11e8-bd8a-0242ac110002"
    },
    "run_through_control": {
     "frozen": true
    }
   },
   "outputs": [
    {
     "name": "stdout",
     "output_type": "stream",
     "text": [
      "\u001b[0;32m172.30.2.100 | SUCCESS | rc=0 >>\u001b[0m\r\n",
      "\u001b[0;32mLabel: 'mysql'  uuid: 2db99a78-14a1-4655-92c5-3af138f398c8\u001b[0m\r\n",
      "\u001b[0;32m\tTotal devices 1 FS bytes used 112.00KiB\u001b[0m\r\n",
      "\u001b[0;32m\tdevid    1 size 8.00GiB used 20.00MiB path /dev/mapper/mysql\u001b[0m\r\n",
      "\u001b[0;32m\u001b[0m\r\n"
     ]
    }
   ],
   "source": [
    "if 'btrfs' == load_group_var(target_group, 'volume_database_fs'):\n",
    "    !ansible -b -a 'btrfs filesystem show {{{{volume_database_device}}}}' {target_group}"
   ]
  },
  {
   "cell_type": "markdown",
   "metadata": {
    "heading_collapsed": true,
    "lc_cell_meme": {
     "current": "3c3bac8c-751d-11e8-bd8a-0242ac110002",
     "next": "3c3bacfa-751d-11e8-bd8a-0242ac110002",
     "previous": "3c3bac1e-751d-11e8-bd8a-0242ac110002"
    }
   },
   "source": [
    "## ファイルシステムのマウント\n",
    "\n",
    "作成したファイルシステムをマウントします。同時に /etc/fstab に対応するエントリを追加します。"
   ]
  },
  {
   "cell_type": "markdown",
   "metadata": {
    "hidden": true,
    "lc_cell_meme": {
     "current": "3c3bacfa-751d-11e8-bd8a-0242ac110002",
     "next": "3c3bad5e-751d-11e8-bd8a-0242ac110002",
     "previous": "3c3bac8c-751d-11e8-bd8a-0242ac110002"
    }
   },
   "source": [
    "### Moodle用ボリュームのマウント"
   ]
  },
  {
   "cell_type": "markdown",
   "metadata": {
    "hidden": true,
    "lc_cell_meme": {
     "current": "3c3bad5e-751d-11e8-bd8a-0242ac110002",
     "next": "3c3badc2-751d-11e8-bd8a-0242ac110002",
     "previous": "3c3bacfa-751d-11e8-bd8a-0242ac110002"
    }
   },
   "source": [
    "Ansible で/etc/fstab とマウント状態の更新を行います。"
   ]
  },
  {
   "cell_type": "code",
   "execution_count": 27,
   "metadata": {
    "deletable": false,
    "editable": false,
    "hidden": true,
    "lc_cell_meme": {
     "current": "3c3badc2-751d-11e8-bd8a-0242ac110002",
     "next": "3c3bae30-751d-11e8-bd8a-0242ac110002",
     "previous": "3c3bad5e-751d-11e8-bd8a-0242ac110002"
    },
    "run_through_control": {
     "frozen": true,
     "read_only": true
    }
   },
   "outputs": [
    {
     "name": "stdout",
     "output_type": "stream",
     "text": [
      "\u001b[0;33m172.30.2.100 | SUCCESS => {\u001b[0m\r\n",
      "\u001b[0;33m    \"changed\": true, \u001b[0m\r\n",
      "\u001b[0;33m    \"dump\": \"0\", \u001b[0m\r\n",
      "\u001b[0;33m    \"failed\": false, \u001b[0m\r\n",
      "\u001b[0;33m    \"fstab\": \"/etc/fstab\", \u001b[0m\r\n",
      "\u001b[0;33m    \"fstype\": \"btrfs\", \u001b[0m\r\n",
      "\u001b[0;33m    \"name\": \"/opt/moodle\", \u001b[0m\r\n",
      "\u001b[0;33m    \"opts\": \"defaults\", \u001b[0m\r\n",
      "\u001b[0;33m    \"passno\": \"0\", \u001b[0m\r\n",
      "\u001b[0;33m    \"src\": \"LABEL=moodle\"\u001b[0m\r\n",
      "\u001b[0;33m}\u001b[0m\r\n"
     ]
    }
   ],
   "source": [
    "!ansible -b -m mount -a 'name=\"{{{{volume_moodle_mount}}}}\" \\\n",
    "    src=\"LABEL={{{{volume_moodle_fs_label}}}}\" \\\n",
    "    opts={{{{volume_moodle_mount_opt}}}} \\\n",
    "    fstype={{{{volume_moodle_fs}}}} state=mounted' {target_group}"
   ]
  },
  {
   "cell_type": "markdown",
   "metadata": {
    "hidden": true,
    "lc_cell_meme": {
     "current": "3c3bae30-751d-11e8-bd8a-0242ac110002",
     "next": "3c3bae9e-751d-11e8-bd8a-0242ac110002",
     "previous": "3c3badc2-751d-11e8-bd8a-0242ac110002"
    }
   },
   "source": [
    "/etc/fstabが更新されたことを確認します。"
   ]
  },
  {
   "cell_type": "code",
   "execution_count": 28,
   "metadata": {
    "deletable": false,
    "editable": false,
    "hidden": true,
    "lc_cell_meme": {
     "current": "3c3bae9e-751d-11e8-bd8a-0242ac110002",
     "next": "3c3baf02-751d-11e8-bd8a-0242ac110002",
     "previous": "3c3bae30-751d-11e8-bd8a-0242ac110002"
    },
    "run_through_control": {
     "frozen": true,
     "read_only": true
    }
   },
   "outputs": [
    {
     "name": "stdout",
     "output_type": "stream",
     "text": [
      "\u001b[0;32m172.30.2.100 | SUCCESS | rc=0 >>\u001b[0m\r\n",
      "\u001b[0;32mLABEL=moodle /opt/moodle btrfs defaults 0 0\u001b[0m\r\n",
      "\u001b[0;32m\u001b[0m\r\n"
     ]
    }
   ],
   "source": [
    "!ansible -a 'grep LABEL={{{{volume_moodle_fs_label}}}} /etc/fstab' {target_group}"
   ]
  },
  {
   "cell_type": "markdown",
   "metadata": {
    "hidden": true,
    "lc_cell_meme": {
     "current": "3c3baf02-751d-11e8-bd8a-0242ac110002",
     "next": "3c3baf70-751d-11e8-bd8a-0242ac110002",
     "previous": "3c3bae9e-751d-11e8-bd8a-0242ac110002"
    }
   },
   "source": [
    "実際にマウントされていることを確認します。"
   ]
  },
  {
   "cell_type": "code",
   "execution_count": 29,
   "metadata": {
    "deletable": false,
    "editable": false,
    "hidden": true,
    "lc_cell_meme": {
     "current": "3c3baf70-751d-11e8-bd8a-0242ac110002",
     "next": "3c3bafde-751d-11e8-bd8a-0242ac110002",
     "previous": "3c3baf02-751d-11e8-bd8a-0242ac110002"
    },
    "run_through_control": {
     "frozen": true,
     "read_only": true
    }
   },
   "outputs": [
    {
     "name": "stdout",
     "output_type": "stream",
     "text": [
      "\u001b[1;35m [WARNING]: Consider using mount module rather than running mount\u001b[0m\r\n",
      "\u001b[1;35m\u001b[0m\r\n",
      "\u001b[0;32m172.30.2.100 | SUCCESS | rc=0 >>\u001b[0m\r\n",
      "\u001b[0;32m/dev/mapper/moodle on /opt/moodle type btrfs (rw,relatime,ssd,space_cache,subvolid=5,subvol=/)\u001b[0m\r\n",
      "\u001b[0;32m\u001b[0m\r\n"
     ]
    }
   ],
   "source": [
    "!ansible -m shell -a 'mount | grep -e {{{{volume_moodle_mount}}}}' {target_group}"
   ]
  },
  {
   "cell_type": "markdown",
   "metadata": {
    "hidden": true,
    "lc_cell_meme": {
     "current": "3c3bafde-751d-11e8-bd8a-0242ac110002",
     "next": "3c3bb042-751d-11e8-bd8a-0242ac110002",
     "previous": "3c3baf70-751d-11e8-bd8a-0242ac110002"
    }
   },
   "source": [
    "### MySQL用ボリュームのマウント"
   ]
  },
  {
   "cell_type": "markdown",
   "metadata": {
    "hidden": true,
    "lc_cell_meme": {
     "current": "3c3bb042-751d-11e8-bd8a-0242ac110002",
     "next": "3c3bb0b0-751d-11e8-bd8a-0242ac110002",
     "previous": "3c3bafde-751d-11e8-bd8a-0242ac110002"
    }
   },
   "source": [
    "Ansible で/etc/fstab とマウント状態の更新を行います。"
   ]
  },
  {
   "cell_type": "code",
   "execution_count": 30,
   "metadata": {
    "deletable": false,
    "editable": false,
    "hidden": true,
    "lc_cell_meme": {
     "current": "3c3bb0b0-751d-11e8-bd8a-0242ac110002",
     "next": "3c3bb114-751d-11e8-bd8a-0242ac110002",
     "previous": "3c3bb042-751d-11e8-bd8a-0242ac110002"
    },
    "run_through_control": {
     "frozen": true,
     "read_only": true
    },
    "scrolled": true
   },
   "outputs": [
    {
     "name": "stdout",
     "output_type": "stream",
     "text": [
      "\u001b[0;33m172.30.2.100 | SUCCESS => {\u001b[0m\r\n",
      "\u001b[0;33m    \"changed\": true, \u001b[0m\r\n",
      "\u001b[0;33m    \"dump\": \"0\", \u001b[0m\r\n",
      "\u001b[0;33m    \"failed\": false, \u001b[0m\r\n",
      "\u001b[0;33m    \"fstab\": \"/etc/fstab\", \u001b[0m\r\n",
      "\u001b[0;33m    \"fstype\": \"btrfs\", \u001b[0m\r\n",
      "\u001b[0;33m    \"name\": \"/opt/mysql\", \u001b[0m\r\n",
      "\u001b[0;33m    \"opts\": \"defaults\", \u001b[0m\r\n",
      "\u001b[0;33m    \"passno\": \"0\", \u001b[0m\r\n",
      "\u001b[0;33m    \"src\": \"LABEL=mysql\"\u001b[0m\r\n",
      "\u001b[0;33m}\u001b[0m\r\n"
     ]
    }
   ],
   "source": [
    "!ansible -b -m mount -a 'name=\"{{{{volume_database_mount}}}}\" \\\n",
    "    src=\"LABEL={{{{volume_database_fs_label}}}}\" \\\n",
    "    opts={{{{volume_database_mount_opt}}}} \\\n",
    "    fstype={{{{volume_database_fs}}}} state=mounted' {target_group}"
   ]
  },
  {
   "cell_type": "markdown",
   "metadata": {
    "hidden": true,
    "lc_cell_meme": {
     "current": "3c3bb114-751d-11e8-bd8a-0242ac110002",
     "next": "3c3bb182-751d-11e8-bd8a-0242ac110002",
     "previous": "3c3bb0b0-751d-11e8-bd8a-0242ac110002"
    }
   },
   "source": [
    "/etc/fstabが更新されたことを確認します。"
   ]
  },
  {
   "cell_type": "code",
   "execution_count": 31,
   "metadata": {
    "deletable": false,
    "editable": false,
    "hidden": true,
    "lc_cell_meme": {
     "current": "3c3bb182-751d-11e8-bd8a-0242ac110002",
     "next": "3c3bb1f0-751d-11e8-bd8a-0242ac110002",
     "previous": "3c3bb114-751d-11e8-bd8a-0242ac110002"
    },
    "run_through_control": {
     "frozen": true,
     "read_only": true
    }
   },
   "outputs": [
    {
     "name": "stdout",
     "output_type": "stream",
     "text": [
      "\u001b[0;32m172.30.2.100 | SUCCESS | rc=0 >>\u001b[0m\r\n",
      "\u001b[0;32mLABEL=mysql /opt/mysql btrfs defaults 0 0\u001b[0m\r\n",
      "\u001b[0;32m\u001b[0m\r\n"
     ]
    }
   ],
   "source": [
    "!ansible -a 'grep LABEL={{{{volume_database_fs_label}}}} /etc/fstab' {target_group}"
   ]
  },
  {
   "cell_type": "markdown",
   "metadata": {
    "hidden": true,
    "lc_cell_meme": {
     "current": "3c3bb1f0-751d-11e8-bd8a-0242ac110002",
     "next": "3c3bb25e-751d-11e8-bd8a-0242ac110002",
     "previous": "3c3bb182-751d-11e8-bd8a-0242ac110002"
    }
   },
   "source": [
    "実際にマウントされていることを確認します。"
   ]
  },
  {
   "cell_type": "code",
   "execution_count": 32,
   "metadata": {
    "deletable": false,
    "editable": false,
    "hidden": true,
    "lc_cell_meme": {
     "current": "3c3bb25e-751d-11e8-bd8a-0242ac110002",
     "next": "3c3bb358-751d-11e8-bd8a-0242ac110002",
     "previous": "3c3bb1f0-751d-11e8-bd8a-0242ac110002"
    },
    "run_through_control": {
     "frozen": true,
     "read_only": true
    }
   },
   "outputs": [
    {
     "name": "stdout",
     "output_type": "stream",
     "text": [
      "\u001b[1;35m [WARNING]: Consider using mount module rather than running mount\u001b[0m\r\n",
      "\u001b[1;35m\u001b[0m\r\n",
      "\u001b[0;32m172.30.2.100 | SUCCESS | rc=0 >>\u001b[0m\r\n",
      "\u001b[0;32m/dev/mapper/mysql on /opt/mysql type btrfs (rw,relatime,ssd,space_cache,subvolid=5,subvol=/)\u001b[0m\r\n",
      "\u001b[0;32m\u001b[0m\r\n"
     ]
    }
   ],
   "source": [
    "!ansible -m shell -a 'mount | grep -e {{{{volume_database_mount}}}}' {target_group}"
   ]
  },
  {
   "cell_type": "markdown",
   "metadata": {
    "lc_cell_meme": {
     "current": "3c3bb358-751d-11e8-bd8a-0242ac110002",
     "next": "3c3bb3f8-751d-11e8-bd8a-0242ac110002",
     "previous": "3c3bb25e-751d-11e8-bd8a-0242ac110002"
    }
   },
   "source": [
    "## サブボリュームの作成"
   ]
  },
  {
   "cell_type": "markdown",
   "metadata": {
    "lc_cell_meme": {
     "current": "3c3bb3f8-751d-11e8-bd8a-0242ac110002",
     "next": "3c3bb4a2-751d-11e8-bd8a-0242ac110002",
     "previous": "3c3bb358-751d-11e8-bd8a-0242ac110002"
    }
   },
   "source": [
    "Moodle用ボリュームはコンテンツを格納するための領域とMoodleのPHPファイルを格納するための領域の両方の用途で利用します。それぞれの用途に応じたサブボリュームを作成します。"
   ]
  },
  {
   "cell_type": "code",
   "execution_count": 33,
   "metadata": {
    "deletable": false,
    "editable": false,
    "lc_cell_meme": {
     "current": "3c3bb4a2-751d-11e8-bd8a-0242ac110002",
     "next": "3c3bb54c-751d-11e8-bd8a-0242ac110002",
     "previous": "3c3bb3f8-751d-11e8-bd8a-0242ac110002"
    },
    "run_through_control": {
     "frozen": true,
     "read_only": true
    }
   },
   "outputs": [
    {
     "name": "stdout",
     "output_type": "stream",
     "text": [
      "\u001b[0;32m172.30.2.100 | SUCCESS | rc=0 >>\u001b[0m\n",
      "\u001b[0;32mCreate subvolume '/opt/moodle/data'\u001b[0m\n",
      "\u001b[0;32m\u001b[0m\n",
      "\u001b[0;32m172.30.2.100 | SUCCESS | rc=0 >>\u001b[0m\n",
      "\u001b[0;32mCreate subvolume '/opt/moodle/php'\u001b[0m\n",
      "\u001b[0;32m\u001b[0m\n"
     ]
    }
   ],
   "source": [
    "if 'btrfs' == load_group_var(target_group, 'volume_moodle_fs'):\n",
    "    # コンテンツを格納する領域のサブボリュームを作成する\n",
    "    !ansible -b -a 'btrfs subvolume create {{{{moodle_dir_contents}}}}' {target_group}\n",
    "    # PHPファイルを格納する領域のサブボリュームを作成する\n",
    "    !ansible -b -a 'btrfs subvolume create {{{{moodle_dir_scripts}}}}' {target_group}"
   ]
  },
  {
   "cell_type": "markdown",
   "metadata": {
    "lc_cell_meme": {
     "current": "3c3bb54c-751d-11e8-bd8a-0242ac110002",
     "next": "3c3bb5ce-751d-11e8-bd8a-0242ac110002",
     "previous": "3c3bb4a2-751d-11e8-bd8a-0242ac110002"
    }
   },
   "source": [
    "作成されたことを確認します。"
   ]
  },
  {
   "cell_type": "code",
   "execution_count": 34,
   "metadata": {
    "deletable": false,
    "editable": false,
    "lc_cell_meme": {
     "current": "3c3bb5ce-751d-11e8-bd8a-0242ac110002",
     "next": null,
     "previous": "3c3bb54c-751d-11e8-bd8a-0242ac110002"
    },
    "run_through_control": {
     "frozen": true,
     "read_only": true
    }
   },
   "outputs": [
    {
     "name": "stdout",
     "output_type": "stream",
     "text": [
      "\u001b[0;32m172.30.2.100 | SUCCESS | rc=0 >>\u001b[0m\r\n",
      "\u001b[0;32mID\tgen\ttop level\tpath\t\u001b[0m\r\n",
      "\u001b[0;32m--\t---\t---------\t----\t\u001b[0m\r\n",
      "\u001b[0;32m257\t8\t5\t\tdata\u001b[0m\r\n",
      "\u001b[0;32m258\t9\t5\t\tphp\u001b[0m\r\n",
      "\u001b[0;32m\u001b[0m\r\n"
     ]
    }
   ],
   "source": [
    "if 'btrfs' == load_group_var(target_group, 'volume_moodle_fs'):\n",
    "    !ansible -b -a 'btrfs subvolume list -ta {{{{volume_moodle_mount}}}}' {target_group}"
   ]
  }
 ],
 "metadata": {
  "kernelspec": {
   "display_name": "Python 3",
   "language": "python",
   "name": "python3"
  },
  "language_info": {
   "codemirror_mode": {
    "name": "ipython",
    "version": 3
   },
   "file_extension": ".py",
   "mimetype": "text/x-python",
   "name": "python",
   "nbconvert_exporter": "python",
   "pygments_lexer": "ipython3",
   "version": "3.5.2"
  },
  "lc_notebook_meme": {
   "current": "3c3b8e14-751d-11e8-bd8a-0242ac110002",
   "lc_server_signature": {
    "current": {
     "notebook_dir": "/notebooks/notebook",
     "notebook_path": "/handson/moodle",
     "signature_id": "b365c89a-59a9-11e8-8f0e-0242ac110002"
    },
    "history": []
   }
  },
  "toc": {
   "nav_menu": {},
   "number_sections": true,
   "sideBar": true,
   "skip_h1_title": false,
   "toc_cell": false,
   "toc_position": {},
   "toc_section_display": "block",
   "toc_window_display": true
  }
 },
 "nbformat": 4,
 "nbformat_minor": 2
}
