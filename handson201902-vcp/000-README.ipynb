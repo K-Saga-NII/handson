{
 "cells": [
  {
   "cell_type": "markdown",
   "metadata": {
    "lc_cell_meme": {
     "current": "5bf7c98a-4acd-11e9-93c6-0242ac110002",
     "next": "5bf7c9da-4acd-11e9-93c6-0242ac110002",
     "previous": null
    }
   },
   "source": [
    "# README"
   ]
  },
  {
   "cell_type": "markdown",
   "metadata": {
    "lc_cell_meme": {
     "current": "5bf7c9da-4acd-11e9-93c6-0242ac110002",
     "next": "5bf7ca16-4acd-11e9-93c6-0242ac110002",
     "previous": "5bf7c98a-4acd-11e9-93c6-0242ac110002"
    }
   },
   "source": [
    "# 実行環境の前提条件"
   ]
  },
  {
   "cell_type": "markdown",
   "metadata": {
    "lc_cell_meme": {
     "current": "5bf7ca16-4acd-11e9-93c6-0242ac110002",
     "next": "5bf7ca48-4acd-11e9-93c6-0242ac110002",
     "previous": "5bf7c9da-4acd-11e9-93c6-0242ac110002"
    }
   },
   "source": [
    "* Notebook環境\n",
    "  - [Jupyter Notebook for Literate Computing for Reproducible Infrastructure](https://github.com/NII-cloud-operation/Jupyter-LC_docker)\n",
    "* VCP SDK\n",
    "  - バージョン: 18.10.1\n",
    "* Python\n",
    "  - 3.6\n",
    "* クラウドプロバイダ\n",
    "  - AWS\n",
    "  - Microsoft Azure"
   ]
  },
  {
   "cell_type": "markdown",
   "metadata": {
    "lc_cell_meme": {
     "current": "5bf7ca48-4acd-11e9-93c6-0242ac110002",
     "next": "5bf7ca84-4acd-11e9-93c6-0242ac110002",
     "previous": "5bf7ca16-4acd-11e9-93c6-0242ac110002"
    }
   },
   "source": [
    "# VCP SDK"
   ]
  },
  {
   "cell_type": "markdown",
   "metadata": {
    "lc_cell_meme": {
     "current": "5bf7ca84-4acd-11e9-93c6-0242ac110002",
     "next": "5bf7cab6-4acd-11e9-93c6-0242ac110002",
     "previous": "5bf7ca48-4acd-11e9-93c6-0242ac110002"
    }
   },
   "source": [
    "## VCP SDKとは？"
   ]
  },
  {
   "cell_type": "markdown",
   "metadata": {
    "lc_cell_meme": {
     "current": "5bf7cab6-4acd-11e9-93c6-0242ac110002",
     "next": "5bf7caf2-4acd-11e9-93c6-0242ac110002",
     "previous": "5bf7ca84-4acd-11e9-93c6-0242ac110002"
    }
   },
   "source": [
    "![VCP SDK](images/000-003.png)\n",
    "\n",
    "* VCPを操作するための Python3 ライブラリ\n",
    "* VCコントローラの REST API に対するラッパーライブラリ(vcplib)を呼び出している\n",
    "* クラウドごとの制御APIの差異を吸収\n",
    "* 仮想マシン(Amazon EC2インスタンス, Microsoft Azure VM, ...)などの計算資源と、Amazon EBS, Microsoft Azure Managed Disksなどの記録媒体を作成、削除することができる"
   ]
  },
  {
   "cell_type": "markdown",
   "metadata": {
    "lc_cell_meme": {
     "current": "5bf7caf2-4acd-11e9-93c6-0242ac110002",
     "next": "5bf7cb24-4acd-11e9-93c6-0242ac110002",
     "previous": "5bf7cab6-4acd-11e9-93c6-0242ac110002"
    },
    "vcp_tutorial": {
     "url": "view/DOC/index.html"
    }
   },
   "source": [
    "<!---\n",
    "VCP SDK の詳細については「[VCPSDK APIドキュメント](/handson/view/DOC/index.html)」から確認できます。\n",
    "--->"
   ]
  },
  {
   "cell_type": "markdown",
   "metadata": {
    "heading_collapsed": true,
    "lc_cell_meme": {
     "current": "5bf7cb24-4acd-11e9-93c6-0242ac110002",
     "next": "5bf7cb60-4acd-11e9-93c6-0242ac110002",
     "previous": "5bf7caf2-4acd-11e9-93c6-0242ac110002"
    }
   },
   "source": [
    "## 基本的な構成要素\n",
    "\n",
    "VCP SDKが扱う構成要素を以下に記します。\n",
    "\n",
    "* VC(Virtual Cloud)\n",
    "  - 複数のクラウドにまたがって構築されたひとつの仮想システム環境\n",
    "* UnitGroup\n",
    "  - 複数のUnitをまとめて扱うためのものです\n",
    "  - サーバ、クライアントなどの相互に関係をもつ異質なNode群をグループとしてまとめます\n",
    "  - `compute` と `storage` の2つのタイプがあります\n",
    "    + `compute` は仮想マシンなどの計算資源で構成されています\n",
    "    + `storage` はブロックデバイスなどの記録媒体で構成されています\n",
    "* Unit\n",
    "  - 同質（同じ計算資源(cpu, memory, ...)、同じクラウド、同じ用途、...）であるNodeをまとめて扱うためのものです\n",
    "  - Unitに属するNodeをスケールアウト、スケールインすることができます\n",
    "* Node\n",
    "  - UnitGroupを構成する個々のノード\n",
    "  - UnitGroupのタイプが `compute`の場合\n",
    "    - [Amazon EC2インスタンス](https://aws.amazon.com/jp/ec2/), [Microsoft Azure VM](https://azure.microsoft.com/ja-jp/services/virtual-machines/) など\n",
    "    - VCP SDKではこのNodeをVCノードと呼びます\n",
    "  - UnitGroupのタイプが `storage`の場合\n",
    "    - [Amazon EBS](https://aws.amazon.com/jp/ebs/), [Microsoft Azure Managed Disks](https://azure.microsoft.com/ja-jp/services/storage/disks/) など\n",
    "    - VCP SDKではこのNodeをVCディスクと呼びます\n",
    "\n",
    "VC, UnitGroup, Unit の例を以下の図に示します。\n",
    "\n",
    "![VCP](images/000-001.png)"
   ]
  },
  {
   "cell_type": "markdown",
   "metadata": {
    "hidden": true,
    "lc_cell_meme": {
     "current": "5bf7cb60-4acd-11e9-93c6-0242ac110002",
     "next": "5bf7cb92-4acd-11e9-93c6-0242ac110002",
     "previous": "5bf7cb24-4acd-11e9-93c6-0242ac110002"
    }
   },
   "source": [
    "* UnitGroup1: ３つの Unit から構成されている `compute` タイプのUnitGroup\n",
    "  - Unit1A\n",
    "    * Amazon EC2 m5.large インスタンスで構成されている Unit\n",
    "  - Unit1B\n",
    "    * Amazon EC2 c5.large インスタンスで構成されている Unit\n",
    "  - Unit1C\n",
    "    * Microsoft Azure VM NV6 で構成されている Unit\n",
    "* UnitGroup2: ３つの Unit から構成されている compute タイプのUnitGroup\n",
    "  - Unit2A\n",
    "    * Amazon EC2 m5.large で構成されている Unit\n",
    "  - Unit2B\n",
    "    * Amazon EC2 m5.large で構成されている Unit\n",
    "  - Unit2C\n",
    "    * Microsoft Azure VM D2 v3 で構成されている Unit\n",
    "* UnitGroup3: １つの Unit から構成されている storage タイプのUnitGroup\n",
    "  - Unit3\n",
    "    * Amazon EBS から構成されている Unit"
   ]
  },
  {
   "cell_type": "markdown",
   "metadata": {
    "lc_cell_meme": {
     "current": "5bf7cb92-4acd-11e9-93c6-0242ac110002",
     "next": "5bf7cbc4-4acd-11e9-93c6-0242ac110002",
     "previous": "5bf7cb60-4acd-11e9-93c6-0242ac110002"
    }
   },
   "source": [
    "## VCノードについて"
   ]
  },
  {
   "cell_type": "markdown",
   "metadata": {
    "lc_cell_meme": {
     "current": "5bf7cbc4-4acd-11e9-93c6-0242ac110002",
     "next": "5bf7cc00-4acd-11e9-93c6-0242ac110002",
     "previous": "5bf7cb92-4acd-11e9-93c6-0242ac110002"
    }
   },
   "source": [
    "VCPの計算資源として利用できる環境はパブリッククラウドの仮想マシン(Amazon EC2, Microsoft Azure VM, ...)やベアメタル(BM)など多岐にわたっています。VCPではそのいずれに対しても同一の環境を提供できるようにするために[Docker コンテナ](https://www.docker.com/)を利用しています。クラウド上のVM/BMをVCノードとして組み入れる際にVCPが各VM/BMに共通環境となるコンテナを起動します。VCPではこのコンテナのことをBaseコンテナと呼んでいます。またBaseコンテナはVCノードのモニタリングなどのVCPの共通機能を提供するための役割も担っています。"
   ]
  },
  {
   "cell_type": "markdown",
   "metadata": {
    "lc_cell_meme": {
     "current": "5bf7cc00-4acd-11e9-93c6-0242ac110002",
     "next": "5bf7cc32-4acd-11e9-93c6-0242ac110002",
     "previous": "5bf7cbc4-4acd-11e9-93c6-0242ac110002"
    }
   },
   "source": [
    "![BC](images/000-002.png)"
   ]
  },
  {
   "cell_type": "markdown",
   "metadata": {
    "lc_cell_meme": {
     "current": "5bf7cc32-4acd-11e9-93c6-0242ac110002",
     "next": "5bf7cc64-4acd-11e9-93c6-0242ac110002",
     "previous": "5bf7cc00-4acd-11e9-93c6-0242ac110002"
    }
   },
   "source": [
    "標準のBaseコンテナは以下のような特徴を有しています。\n",
    "\n",
    "* [Alpine Linux コンテナ](https://hub.docker.com/_/alpine/)\n",
    "* sshでログイン可能\n",
    "* docker 実行環境(Docker in Docker)\n",
    "\n",
    "標準のBaseコンテナは Alpine Linuxベースですが、他に Ubuntuベース、CentOSベースのものも用意しています。\n",
    "また汎用的なBaseコンテナ以外にNFSサーバやGPU利用などの特定目的をもったBaseコンテナを用意しています。"
   ]
  },
  {
   "cell_type": "markdown",
   "metadata": {
    "lc_cell_meme": {
     "current": "5bf7cc64-4acd-11e9-93c6-0242ac110002",
     "next": "5bf7cc96-4acd-11e9-93c6-0242ac110002",
     "previous": "5bf7cc32-4acd-11e9-93c6-0242ac110002"
    }
   },
   "source": [
    "# ハンズオン環境へのアクセス（参考）"
   ]
  },
  {
   "cell_type": "markdown",
   "metadata": {
    "lc_cell_meme": {
     "current": "5bf7cc96-4acd-11e9-93c6-0242ac110002",
     "next": "5bf7ccc8-4acd-11e9-93c6-0242ac110002",
     "previous": "5bf7cc64-4acd-11e9-93c6-0242ac110002"
    }
   },
   "source": [
    "ハンズオンのNotebook環境にはAWSのパブリックサブネットに配置したNATインスタンスで実行しているリバースプロキシ(Nginx)を経由してアクセスできるように設定されています。Notebook環境とVCP SDKによって起動されるVCノードはプライベートサブネットに配置されます。"
   ]
  },
  {
   "cell_type": "markdown",
   "metadata": {
    "lc_cell_meme": {
     "current": "5bf7ccc8-4acd-11e9-93c6-0242ac110002",
     "next": "5bf7cd04-4acd-11e9-93c6-0242ac110002",
     "previous": "5bf7cc96-4acd-11e9-93c6-0242ac110002"
    }
   },
   "source": [
    "![ハンズオン環境](images/000-004.png)"
   ]
  },
  {
   "cell_type": "markdown",
   "metadata": {
    "heading_collapsed": true,
    "lc_cell_meme": {
     "current": "5bf7cd04-4acd-11e9-93c6-0242ac110002",
     "next": "5bf7cd36-4acd-11e9-93c6-0242ac110002",
     "previous": "5bf7ccc8-4acd-11e9-93c6-0242ac110002"
    }
   },
   "source": [
    "# 準備\n",
    "\n",
    "この後に実行するNotebookで必要となるSSHの公開鍵認証のための鍵ファイルを作成します。\n",
    "作成したSSHの鍵ファイルはこのNotebook環境からVCノードにログインする際に利用します。"
   ]
  },
  {
   "cell_type": "markdown",
   "metadata": {
    "hidden": true,
    "lc_cell_meme": {
     "current": "5bf7cd36-4acd-11e9-93c6-0242ac110002",
     "next": "5bf7cd72-4acd-11e9-93c6-0242ac110002",
     "previous": "5bf7cd04-4acd-11e9-93c6-0242ac110002"
    }
   },
   "source": [
    "次のセルを実行してください。"
   ]
  },
  {
   "cell_type": "code",
   "execution_count": 1,
   "metadata": {
    "deletable": false,
    "editable": false,
    "hidden": true,
    "lc_cell_meme": {
     "current": "5bf7cd72-4acd-11e9-93c6-0242ac110002",
     "next": "5bf7cda4-4acd-11e9-93c6-0242ac110002",
     "previous": "5bf7cd36-4acd-11e9-93c6-0242ac110002"
    },
    "run_through_control": {
     "frozen": true
    }
   },
   "outputs": [
    {
     "name": "stdout",
     "output_type": "stream",
     "text": [
      "total 64\r\n",
      "drwx------  2 bit_kun users  4096 Feb  5 16:31 .\r\n",
      "drwxr-xr-x 26 bit_kun users  4096 Jan 28 20:25 ..\r\n",
      "-rw-r--r--  1 bit_kun users   608 Nov  2 16:53 config\r\n",
      "-rw-------  1 bit_kun users  1675 Nov  8 16:58 id_rsa\r\n",
      "-rw-r--r--  1 bit_kun users   402 Nov  8 16:58 id_rsa.pub\r\n",
      "-rw-------  1 bit_kun users 12014 Mar 20 14:02 known_hosts\r\n",
     ]
    }
   ],
   "source": [
    "!mkdir -p -m 700 ~/.ssh\n",
    "!touch ~/.ssh/known_hosts && chmod 600 ~/.ssh/known_hosts\n",
    "!test -f ~/.ssh/id_rsa || ssh-keygen -t rsa -f ~/.ssh/id_rsa -N \"\"\n",
    "!ls -la ~/.ssh"
   ]
  },
  {
   "cell_type": "markdown",
   "metadata": {
    "lc_cell_meme": {
     "current": "5bf7cda4-4acd-11e9-93c6-0242ac110002",
     "next": "5bf7cdd6-4acd-11e9-93c6-0242ac110002",
     "previous": "5bf7cd72-4acd-11e9-93c6-0242ac110002"
    }
   },
   "source": [
    "# Notebook一覧"
   ]
  },
  {
   "cell_type": "markdown",
   "metadata": {
    "lc_cell_meme": {
     "current": "5bf7cdd6-4acd-11e9-93c6-0242ac110002",
     "next": "5bf7ce08-4acd-11e9-93c6-0242ac110002",
     "previous": "5bf7cda4-4acd-11e9-93c6-0242ac110002"
    }
   },
   "source": [
    "次のセルを実行するとNotebookの一覧が表示されます。\n",
    "\n",
    "<!---\n",
    "生成するには\n",
    "```\n",
    "from IPython.display import SVG\n",
    "%run scripts/generate-diagram.py\n",
    "SVG(filename=generate_svg_diag(diag='images/notebooks.diag', nb_dir='.', verbose=False))\n",
    "```\n",
    "--->"
   ]
  },
  {
   "cell_type": "code",
   "execution_count": 2,
   "metadata": {
    "deletable": false,
    "editable": false,
    "lc_cell_meme": {
     "current": "5bf7ce08-4acd-11e9-93c6-0242ac110002",
     "next": null,
     "previous": "5bf7cdd6-4acd-11e9-93c6-0242ac110002"
    },
    "run_through_control": {
     "frozen": true
    }
   },
   "outputs": [
    {
     "data": {
      "image/svg+xml": [
       "<svg viewBox=\"0 0 1156 760\" xmlns=\"http://www.w3.org/2000/svg\" xmlns:inkspace=\"http://www.inkscape.org/namespaces/inkscape\" xmlns:xlink=\"http://www.w3.org/1999/xlink\">\n",
       "  <defs id=\"defs_block\">\n",
       "    <filter height=\"1.504\" id=\"filter_blur\" inkspace:collect=\"always\" width=\"1.1575\" x=\"-0.07875\" y=\"-0.252\">\n",
       "      <feGaussianBlur id=\"feGaussianBlur3780\" inkspace:collect=\"always\" stdDeviation=\"4.2\"/>\n",
       "    </filter>\n",
       "  </defs>\n",
       "  <title>blockdiag</title>\n",
       "  <desc>blockdiag {\n",
       "    node_width = 300;\n",
       "    node_height = 200;\n",
       "\n",
       "    group {\n",
       "        label = &quot;基本操作&quot;;\n",
       "        shape = line;\n",
       "        style = dashed;\n",
       "        &quot;101&quot; -&gt; &quot;102&quot;;\n",
       "        &quot;101&quot; -&gt; &quot;103&quot; -&gt; &quot;104&quot;;\n",
       "    }\n",
       "\n",
       "    group {\n",
       "        label = &quot;アプリケーションコンテナの実行&quot;;\n",
       "        shape = line;\n",
       "        style = dashed;\n",
       "        orientation = portrait;\n",
       "        &quot;201&quot;;\n",
       "    }\n",
       "}\n",
       "</desc>\n",
       "  <rect fill=\"rgb(0,0,0)\" height=\"200\" stroke=\"rgb(0,0,0)\" style=\"filter:url(#filter_blur);opacity:0.7;fill-opacity:1\" width=\"300\" x=\"67\" y=\"46\"/>\n",
       "  <rect fill=\"rgb(0,0,0)\" height=\"200\" stroke=\"rgb(0,0,0)\" style=\"filter:url(#filter_blur);opacity:0.7;fill-opacity:1\" width=\"300\" x=\"431\" y=\"46\"/>\n",
       "  <rect fill=\"rgb(0,0,0)\" height=\"200\" stroke=\"rgb(0,0,0)\" style=\"filter:url(#filter_blur);opacity:0.7;fill-opacity:1\" width=\"300\" x=\"431\" y=\"286\"/>\n",
       "  <rect fill=\"rgb(0,0,0)\" height=\"200\" stroke=\"rgb(0,0,0)\" style=\"filter:url(#filter_blur);opacity:0.7;fill-opacity:1\" width=\"300\" x=\"795\" y=\"286\"/>\n",
       "  <rect fill=\"rgb(0,0,0)\" height=\"200\" stroke=\"rgb(0,0,0)\" style=\"filter:url(#filter_blur);opacity:0.7;fill-opacity:1\" width=\"300\" x=\"67\" y=\"526\"/>\n",
       "  <rect fill=\"rgb(255,255,255)\" height=\"200\" stroke=\"rgb(0,0,0)\" width=\"300\" x=\"64\" y=\"40\"/>\n",
       "  <text fill=\"rgb(0,0,0)\" font-anchor=\"middle\" font-family=\"sans-serif\" font-size=\"9\" font-style=\"normal\" font-weight=\"normal\" width=\"296\" x=\"66\" y=\"164\">全てのVCノードを削除する</text><text fill=\"rgb(0,0,0)\" font-anchor=\"middle\" font-family=\"sans-serif\" font-size=\"9\" font-style=\"normal\" font-weight=\"normal\" width=\"296\" x=\"66\" y=\"153\">別のクラウド(Microsoft Azure)でVCノードを起動する</text><text fill=\"rgb(0,0,0)\" font-anchor=\"middle\" font-family=\"sans-serif\" font-size=\"9\" font-style=\"normal\" font-weight=\"normal\" width=\"296\" x=\"66\" y=\"142\">VCノードのスケールアウト、スケールイン</text><text fill=\"rgb(0,0,0)\" font-anchor=\"middle\" font-family=\"sans-serif\" font-size=\"9\" font-style=\"normal\" font-weight=\"normal\" width=\"296\" x=\"66\" y=\"131\">GrafanaでVCノードの利用状況を確認する</text><text fill=\"rgb(0,0,0)\" font-anchor=\"middle\" font-family=\"sans-serif\" font-size=\"9\" font-style=\"normal\" font-weight=\"normal\" width=\"296\" x=\"66\" y=\"120\">VCノードに ssh でログインして操作する</text><text fill=\"rgb(0,0,0)\" font-anchor=\"middle\" font-family=\"sans-serif\" font-size=\"9\" font-style=\"normal\" font-weight=\"normal\" width=\"296\" x=\"66\" y=\"109\">VCノード(Amazon EC2インスタンス)の起動</text><text fill=\"rgb(0,0,0)\" font-anchor=\"middle\" font-family=\"sans-serif\" font-size=\"9\" font-style=\"italic\" font-weight=\"normal\" width=\"296\" x=\"66\" y=\"85\"/><a xlink:href=\"./101-VCノードの起動、削除.ipynb\"><text fill=\"rgb(0,0,0)\" font-anchor=\"middle\" font-family=\"sans-serif\" font-size=\"11\" font-style=\"normal\" font-weight=\"bold\" width=\"296\" x=\"66\" y=\"56\">101: VCノードの</text><text fill=\"rgb(0,0,0)\" font-anchor=\"middle\" font-family=\"sans-serif\" font-size=\"11\" font-style=\"normal\" font-weight=\"bold\" width=\"296\" x=\"66\" y=\"69\">起動、削除</text></a><rect fill=\"rgb(255,255,255)\" height=\"200\" stroke=\"rgb(0,0,0)\" width=\"300\" x=\"428\" y=\"40\"/>\n",
       "  <text fill=\"rgb(0,0,0)\" font-anchor=\"middle\" font-family=\"sans-serif\" font-size=\"9\" font-style=\"normal\" font-weight=\"normal\" width=\"296\" x=\"430\" y=\"131\">AWSの認証情報を Vaultサーバから読み込むようにVCP SDKの設定を変更する</text><text fill=\"rgb(0,0,0)\" font-anchor=\"middle\" font-family=\"sans-serif\" font-size=\"9\" font-style=\"normal\" font-weight=\"normal\" width=\"296\" x=\"430\" y=\"120\">Vaultサーバにアクセスする</text><text fill=\"rgb(0,0,0)\" font-anchor=\"middle\" font-family=\"sans-serif\" font-size=\"9\" font-style=\"normal\" font-weight=\"normal\" width=\"296\" x=\"430\" y=\"109\">Vaultサーバにアクセスするための準備</text><text fill=\"rgb(0,0,0)\" font-anchor=\"middle\" font-family=\"sans-serif\" font-size=\"9\" font-style=\"italic\" font-weight=\"normal\" width=\"296\" x=\"430\" y=\"85\"/><a xlink:href=\"./102-秘密情報管理サーバの利用.ipynb\"><text fill=\"rgb(0,0,0)\" font-anchor=\"middle\" font-family=\"sans-serif\" font-size=\"11\" font-style=\"normal\" font-weight=\"bold\" width=\"296\" x=\"430\" y=\"56\">102: 秘密情報管理サーバの</text><text fill=\"rgb(0,0,0)\" font-anchor=\"middle\" font-family=\"sans-serif\" font-size=\"11\" font-style=\"normal\" font-weight=\"bold\" width=\"296\" x=\"430\" y=\"69\">利用</text></a><rect fill=\"rgb(255,255,255)\" height=\"200\" stroke=\"rgb(0,0,0)\" width=\"300\" x=\"428\" y=\"280\"/>\n",
       "  <text fill=\"rgb(0,0,0)\" font-anchor=\"middle\" font-family=\"sans-serif\" font-size=\"9\" font-style=\"normal\" font-weight=\"normal\" width=\"296\" x=\"430\" y=\"393\">後始末</text><text fill=\"rgb(0,0,0)\" font-anchor=\"middle\" font-family=\"sans-serif\" font-size=\"9\" font-style=\"normal\" font-weight=\"normal\" width=\"296\" x=\"430\" y=\"382\">Ansibleを利用した VCノードの操作（続き）</text><text fill=\"rgb(0,0,0)\" font-anchor=\"middle\" font-family=\"sans-serif\" font-size=\"9\" font-style=\"normal\" font-weight=\"normal\" width=\"296\" x=\"430\" y=\"371\">Ansibleを利用した VCノードの操作</text><text fill=\"rgb(0,0,0)\" font-anchor=\"middle\" font-family=\"sans-serif\" font-size=\"9\" font-style=\"normal\" font-weight=\"normal\" width=\"296\" x=\"430\" y=\"360\">sshで VCノードを操作する</text><text fill=\"rgb(0,0,0)\" font-anchor=\"middle\" font-family=\"sans-serif\" font-size=\"9\" font-style=\"normal\" font-weight=\"normal\" width=\"296\" x=\"430\" y=\"349\">VCノードを起動する</text><text fill=\"rgb(0,0,0)\" font-anchor=\"middle\" font-family=\"sans-serif\" font-size=\"9\" font-style=\"italic\" font-weight=\"normal\" width=\"296\" x=\"430\" y=\"325\"/><a xlink:href=\"./103-Ansibleを利用したVCノードの操作.ipynb\"><text fill=\"rgb(0,0,0)\" font-anchor=\"middle\" font-family=\"sans-serif\" font-size=\"11\" font-style=\"normal\" font-weight=\"bold\" width=\"296\" x=\"430\" y=\"296\">103: Ansibleを利用したVCノードの</text><text fill=\"rgb(0,0,0)\" font-anchor=\"middle\" font-family=\"sans-serif\" font-size=\"11\" font-style=\"normal\" font-weight=\"bold\" width=\"296\" x=\"430\" y=\"309\">操作</text></a><rect fill=\"rgb(255,255,255)\" height=\"200\" stroke=\"rgb(0,0,0)\" width=\"300\" x=\"792\" y=\"280\"/>\n",
       "  <text fill=\"rgb(0,0,0)\" font-anchor=\"middle\" font-family=\"sans-serif\" font-size=\"9\" font-style=\"normal\" font-weight=\"normal\" width=\"296\" x=\"794\" y=\"426\">後始末</text><text fill=\"rgb(0,0,0)\" font-anchor=\"middle\" font-family=\"sans-serif\" font-size=\"9\" font-style=\"normal\" font-weight=\"normal\" width=\"296\" x=\"794\" y=\"415\">新たなVCノードにVCディスクを再びアタッチする</text><text fill=\"rgb(0,0,0)\" font-anchor=\"middle\" font-family=\"sans-serif\" font-size=\"9\" font-style=\"normal\" font-weight=\"normal\" width=\"296\" x=\"794\" y=\"404\">VCノードの削除</text><text fill=\"rgb(0,0,0)\" font-anchor=\"middle\" font-family=\"sans-serif\" font-size=\"9\" font-style=\"normal\" font-weight=\"normal\" width=\"296\" x=\"794\" y=\"393\">NFSクライアントの設定</text><text fill=\"rgb(0,0,0)\" font-anchor=\"middle\" font-family=\"sans-serif\" font-size=\"9\" font-style=\"normal\" font-weight=\"normal\" width=\"296\" x=\"794\" y=\"382\">NFSサーバの設定</text><text fill=\"rgb(0,0,0)\" font-anchor=\"middle\" font-family=\"sans-serif\" font-size=\"9\" font-style=\"normal\" font-weight=\"normal\" width=\"296\" x=\"794\" y=\"371\">NFSクライアント用VCノードの起動</text><text fill=\"rgb(0,0,0)\" font-anchor=\"middle\" font-family=\"sans-serif\" font-size=\"9\" font-style=\"normal\" font-weight=\"normal\" width=\"296\" x=\"794\" y=\"360\">NFSサーバ用VCノードの起動</text><text fill=\"rgb(0,0,0)\" font-anchor=\"middle\" font-family=\"sans-serif\" font-size=\"9\" font-style=\"normal\" font-weight=\"normal\" width=\"296\" x=\"794\" y=\"349\">ディスクの作成</text><text fill=\"rgb(0,0,0)\" font-anchor=\"middle\" font-family=\"sans-serif\" font-size=\"9\" font-style=\"italic\" font-weight=\"normal\" width=\"296\" x=\"794\" y=\"325\"/><a xlink:href=\"./104-VCディスク（Amazon EBS）を利用したVCノードの起動、削除、再起動.ipynb\"><text fill=\"rgb(0,0,0)\" font-anchor=\"middle\" font-family=\"sans-serif\" font-size=\"11\" font-style=\"normal\" font-weight=\"bold\" width=\"296\" x=\"794\" y=\"296\">104: VCディスク(Amazon EBS)を利用したVCノードの</text><text fill=\"rgb(0,0,0)\" font-anchor=\"middle\" font-family=\"sans-serif\" font-size=\"11\" font-style=\"normal\" font-weight=\"bold\" width=\"296\" x=\"794\" y=\"309\">起動、削除、再起動</text></a><rect fill=\"rgb(255,255,255)\" height=\"200\" stroke=\"rgb(0,0,0)\" width=\"300\" x=\"64\" y=\"520\"/>\n",
       "  <text fill=\"rgb(0,0,0)\" font-anchor=\"middle\" font-family=\"sans-serif\" font-size=\"9\" font-style=\"normal\" font-weight=\"normal\" width=\"296\" x=\"66\" y=\"622\">後始末</text><text fill=\"rgb(0,0,0)\" font-anchor=\"middle\" font-family=\"sans-serif\" font-size=\"9\" font-style=\"normal\" font-weight=\"normal\" width=\"296\" x=\"66\" y=\"611\">GPU環境の利用</text><text fill=\"rgb(0,0,0)\" font-anchor=\"middle\" font-family=\"sans-serif\" font-size=\"9\" font-style=\"normal\" font-weight=\"normal\" width=\"296\" x=\"66\" y=\"600\">GPU環境の確認</text><text fill=\"rgb(0,0,0)\" font-anchor=\"middle\" font-family=\"sans-serif\" font-size=\"9\" font-style=\"normal\" font-weight=\"normal\" width=\"296\" x=\"66\" y=\"589\">GPU用VCノードを起動する</text><text fill=\"rgb(0,0,0)\" font-anchor=\"middle\" font-family=\"sans-serif\" font-size=\"9\" font-style=\"italic\" font-weight=\"normal\" width=\"296\" x=\"66\" y=\"565\"/><a xlink:href=\"./201-GPUインスタンスの利用.ipynb\"><text fill=\"rgb(0,0,0)\" font-anchor=\"middle\" font-family=\"sans-serif\" font-size=\"11\" font-style=\"normal\" font-weight=\"bold\" width=\"296\" x=\"66\" y=\"536\">201: GPUの</text><text fill=\"rgb(0,0,0)\" font-anchor=\"middle\" font-family=\"sans-serif\" font-size=\"11\" font-style=\"normal\" font-weight=\"bold\" width=\"296\" x=\"66\" y=\"549\">利用</text></a><path d=\"M 364 140 L 420 140\" fill=\"none\" stroke=\"rgb(0,0,0)\"/>\n",
       "  <polygon fill=\"rgb(0,0,0)\" points=\"427,140 420,136 420,144 427,140\" stroke=\"rgb(0,0,0)\"/>\n",
       "  <path d=\"M 364 140 L 396 140\" fill=\"none\" stroke=\"rgb(0,0,0)\"/>\n",
       "  <path d=\"M 396 140 L 396 380\" fill=\"none\" stroke=\"rgb(0,0,0)\"/>\n",
       "  <path d=\"M 396 380 L 420 380\" fill=\"none\" stroke=\"rgb(0,0,0)\"/>\n",
       "  <polygon fill=\"rgb(0,0,0)\" points=\"427,380 420,376 420,384 427,380\" stroke=\"rgb(0,0,0)\"/>\n",
       "  <path d=\"M 728 380 L 784 380\" fill=\"none\" stroke=\"rgb(0,0,0)\"/>\n",
       "  <polygon fill=\"rgb(0,0,0)\" points=\"791,380 784,376 784,384 791,380\" stroke=\"rgb(0,0,0)\"/>\n",
       "  <rect fill=\"none\" height=\"460\" stroke=\"rgb(243,152,0)\" stroke-dasharray=\"12\" stroke-width=\"3\" width=\"1044\" x=\"56\" y=\"30\"/>\n",
       "  <rect fill=\"none\" height=\"220\" stroke=\"rgb(243,152,0)\" stroke-dasharray=\"12\" stroke-width=\"3\" width=\"316\" x=\"56\" y=\"510\"/>\n",
       "  <text fill=\"rgb(0,0,0)\" font-family=\"sans-serif\" font-size=\"11\" font-style=\"normal\" font-weight=\"normal\" text-anchor=\"middle\" textLength=\"44\" x=\"578.0\" y=\"36\">基本操作</text>\n",
       "  <text fill=\"rgb(0,0,0)\" font-family=\"sans-serif\" font-size=\"11\" font-style=\"normal\" font-weight=\"normal\" text-anchor=\"middle\" textLength=\"165\" x=\"214.5\" y=\"516\">アプリケーションコンテナの実行</text>\n",
       "</svg>"
      ],
      "text/plain": [
       "<IPython.core.display.SVG object>"
      ]
     },
     "metadata": {},
     "output_type": "display_data"
    }
   ],
   "source": [
    "%%svg\n",
    "images/notebooks.svg"
   ]
  }
 ],
 "metadata": {
  "kernelspec": {
   "display_name": "Python 3",
   "language": "python",
   "name": "python3"
  },
  "language_info": {
   "codemirror_mode": {
    "name": "ipython",
    "version": 3
   },
   "file_extension": ".py",
   "mimetype": "text/x-python",
   "name": "python",
   "nbconvert_exporter": "python",
   "pygments_lexer": "ipython3",
   "version": "3.6.6"
  },
  "lc_notebook_meme": {
   "current": "5bf7c886-4acd-11e9-93c6-0242ac110002",
   "lc_server_signature": {
    "current": {
     "notebook_dir": "/notebooks/notebook",
     "notebook_path": "/handson/vcp-tutorial",
     "server_url": "http://18.182.118.19:8888/red/",
     "signature_id": "bf0a8190-dc17-11e8-93c6-0242ac110002"
    },
    "history": []
   }
  },
  "toc": {
   "base_numbering": 1,
   "nav_menu": {},
   "number_sections": true,
   "sideBar": true,
   "skip_h1_title": false,
   "title_cell": "Table of Contents",
   "title_sidebar": "Contents",
   "toc_cell": false,
   "toc_position": {},
   "toc_section_display": "block",
   "toc_window_display": false
  }
 },
 "nbformat": 4,
 "nbformat_minor": 2
}
