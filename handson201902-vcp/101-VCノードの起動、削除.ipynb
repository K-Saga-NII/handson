{
 "cells": [
  {
   "cell_type": "markdown",
   "metadata": {
    "lc_cell_meme": {
     "current": "aa8f9410-4acd-11e9-93c6-0242ac110002",
     "next": "aa8f9460-4acd-11e9-93c6-0242ac110002",
     "previous": null
    }
   },
   "source": [
    "# VCノードの起動、削除\n",
    "\n",
    "このNotebookではVCP SDKを利用してVCノードを起動、削除する手順を記しています。"
   ]
  },
  {
   "cell_type": "markdown",
   "metadata": {
    "lc_cell_meme": {
     "current": "aa8f9460-4acd-11e9-93c6-0242ac110002",
     "next": "aa8f949c-4acd-11e9-93c6-0242ac110002",
     "previous": "aa8f9410-4acd-11e9-93c6-0242ac110002"
    }
   },
   "source": [
    "## 概要"
   ]
  },
  {
   "cell_type": "markdown",
   "metadata": {
    "lc_cell_meme": {
     "current": "aa8f949c-4acd-11e9-93c6-0242ac110002",
     "next": "aa8f94ce-4acd-11e9-93c6-0242ac110002",
     "previous": "aa8f9460-4acd-11e9-93c6-0242ac110002"
    }
   },
   "source": [
    "![構成](images/101-001.png)"
   ]
  },
  {
   "cell_type": "markdown",
   "metadata": {
    "heading_collapsed": true,
    "lc_cell_meme": {
     "current": "aa8f94ce-4acd-11e9-93c6-0242ac110002",
     "next": "aa8f9500-4acd-11e9-93c6-0242ac110002",
     "previous": "aa8f949c-4acd-11e9-93c6-0242ac110002"
    }
   },
   "source": [
    "### 用語説明"
   ]
  },
  {
   "cell_type": "markdown",
   "metadata": {
    "hidden": true,
    "lc_cell_meme": {
     "current": "aa8f9500-4acd-11e9-93c6-0242ac110002",
     "next": "aa8f953c-4acd-11e9-93c6-0242ac110002",
     "previous": "aa8f94ce-4acd-11e9-93c6-0242ac110002"
    }
   },
   "source": [
    "上の図、またはこれ以降に示す図に記されている構成要素についての簡単な説明を以下に記します。\n",
    "\n",
    "* [VPC](https://aws.amazon.com/jp/vpc/)\n",
    "  - Amazon が提供している AWS 内の仮想プライベートネットワーク環境\n",
    "* [Amazon EC2](https://aws.amazon.com/jp/ec2/)\n",
    "  - Amazon が提供している仮想コンピューティング環境\n",
    "* [Azure Virtual Network](https://azure.microsoft.com/ja-jp/services/virtual-network/)\n",
    "  - Microsoft が提供しているクラウド内の仮想プライベートネットワーク環境\n",
    "* [Azure Virtual Machine](https://azure.microsoft.com/ja-jp/services/virtual-machines/)\n",
    "  - Microsoft が提供している仮想コンピューティング環境\n",
    "* VC Controller\n",
    "  - VCPがユーザに対して提供しているサービス群\n",
    "* VC Controller Core\n",
    "  - ユーザからのAPI呼び出しを受けとりUnitGroupの作成、削除などを行う\n",
    "* Grafana\n",
    "  - 可視化ツール、ダッシュボードツール\n",
    "  - VCP では VCノード のモニタリング状況を表示するのに利用している\n",
    "* VCP SDK\n",
    "  - VCPの機能を呼び出して VM/BM の作成、削除などを行うPython3のライブラリ\n",
    "* VCノード\n",
    "  - Amazon EC2, Azure Virtual Machine などの計算資源を抽象化したVCPのノード\n",
    "* Unit\n",
    "  - 同質（同じ計算資源(cpu, memory, ...)、同じクラウド、同じ用途、...）であるVCノードをまとめて扱うためのもの\n",
    "* UnitGroup\n",
    "  - 複数のUnitをまとめて扱うためのものです"
   ]
  },
  {
   "cell_type": "markdown",
   "metadata": {
    "lc_cell_meme": {
     "current": "aa8f953c-4acd-11e9-93c6-0242ac110002",
     "next": "aa8f956e-4acd-11e9-93c6-0242ac110002",
     "previous": "aa8f9500-4acd-11e9-93c6-0242ac110002"
    }
   },
   "source": [
    "## 操作手順"
   ]
  },
  {
   "cell_type": "markdown",
   "metadata": {
    "lc_cell_meme": {
     "current": "aa8f956e-4acd-11e9-93c6-0242ac110002",
     "next": "aa8f95a0-4acd-11e9-93c6-0242ac110002",
     "previous": "aa8f953c-4acd-11e9-93c6-0242ac110002"
    }
   },
   "source": [
    "大まかな操作手順は以下のようになります。\n",
    "\n",
    "1. VCP SDKを用いてVCノード(Amazon EC2 インスタンス)を起動する\n",
    "1. 起動したVCノードに ssh でログインして操作する\n",
    "1. GrafanaでVCノードの利用状況を確認する\n",
    "1. Unit内のVCノードをスケールアウト、スケールインする\n",
    "1. 別のパブリッククラウド(Microsoft Azure)のVCノードを起動する\n",
    "1. 起動したVCノードをすべて削除する"
   ]
  },
  {
   "cell_type": "markdown",
   "metadata": {
    "lc_cell_meme": {
     "current": "aa8f95a0-4acd-11e9-93c6-0242ac110002",
     "next": "aa8f95d2-4acd-11e9-93c6-0242ac110002",
     "previous": "aa8f956e-4acd-11e9-93c6-0242ac110002"
    }
   },
   "source": [
    "# VCノード(Amazon EC2インスタンス)の起動\n",
    "\n",
    "VCP SDKを用いてVCノード(Amazon EC2インスタンス)を起動します。また、起動したVCノードに対してsshでログインして操作を行います。"
   ]
  },
  {
   "cell_type": "markdown",
   "metadata": {
    "lc_cell_meme": {
     "current": "aa8f95d2-4acd-11e9-93c6-0242ac110002",
     "next": "aa8f9604-4acd-11e9-93c6-0242ac110002",
     "previous": "aa8f95a0-4acd-11e9-93c6-0242ac110002"
    }
   },
   "source": [
    "![EC2の起動](images/101-003.png)"
   ]
  },
  {
   "cell_type": "markdown",
   "metadata": {
    "lc_cell_meme": {
     "current": "aa8f9604-4acd-11e9-93c6-0242ac110002",
     "next": "aa8f9640-4acd-11e9-93c6-0242ac110002",
     "previous": "aa8f95d2-4acd-11e9-93c6-0242ac110002"
    }
   },
   "source": [
    "## アクセストークンの入力"
   ]
  },
  {
   "cell_type": "markdown",
   "metadata": {
    "lc_cell_meme": {
     "current": "aa8f9640-4acd-11e9-93c6-0242ac110002",
     "next": "aa8f9672-4acd-11e9-93c6-0242ac110002",
     "previous": "aa8f9604-4acd-11e9-93c6-0242ac110002"
    }
   },
   "source": [
    "VCP SDKを利用するにはVC Controllerのアクセストークンが必要となります。次のセルを実行すると入力枠が表示されるのでアクセストークンの値を入力してください。\n",
    "\n",
    "> アクセストークン入力後に Enter キーを押すことで入力が完了します。"
   ]
  },
  {
   "cell_type": "code",
   "execution_count": 1,
   "metadata": {
    "deletable": false,
    "editable": false,
    "lc_cell_meme": {
     "current": "aa8f9672-4acd-11e9-93c6-0242ac110002",
     "next": "aa8f96a4-4acd-11e9-93c6-0242ac110002",
     "previous": "aa8f9640-4acd-11e9-93c6-0242ac110002"
    },
    "run_through_control": {
     "frozen": true,
     "read_only": false
    }
   },
   "outputs": [
    {
     "name": "stdout",
     "output_type": "stream",
     "text": [
      "········\n"
     ]
    }
   ],
   "source": [
    "from getpass import getpass\n",
    "vcc_access_token = getpass()"
   ]
  },
  {
   "cell_type": "markdown",
   "metadata": {
    "lc_cell_meme": {
     "current": "aa8f96a4-4acd-11e9-93c6-0242ac110002",
     "next": "aa8f96d6-4acd-11e9-93c6-0242ac110002",
     "previous": "aa8f9672-4acd-11e9-93c6-0242ac110002"
    }
   },
   "source": [
    "## VCP SDKの初期化\n",
    "\n",
    "VCP SDKの初期化を行います。"
   ]
  },
  {
   "cell_type": "code",
   "execution_count": 2,
   "metadata": {
    "deletable": false,
    "editable": false,
    "lc_cell_meme": {
     "current": "aa8f96d6-4acd-11e9-93c6-0242ac110002",
     "next": "aa8f9708-4acd-11e9-93c6-0242ac110002",
     "previous": "aa8f96a4-4acd-11e9-93c6-0242ac110002"
    },
    "run_through_control": {
     "frozen": true,
     "read_only": false
    },
    "scrolled": true
   },
   "outputs": [],
   "source": [
    "from common import logsetting\n",
    "from vcpsdk.vcpsdk import VcpSDK\n",
    "\n",
    "# VCP SDKの初期化\n",
    "vcp = VcpSDK(\n",
    "    vcc_access_token,  # VCCのアクセストークン\n",
    ")"
   ]
  },
  {
   "cell_type": "markdown",
   "metadata": {
    "lc_cell_meme": {
     "current": "aa8f9708-4acd-11e9-93c6-0242ac110002",
     "next": "aa8f973a-4acd-11e9-93c6-0242ac110002",
     "previous": "aa8f96d6-4acd-11e9-93c6-0242ac110002"
    }
   },
   "source": [
    "上のセルの実行結果がエラーとなり以下のようなメッセージが表示されている場合は、入力されたアクセストークンに誤りがあります。\n",
    "\n",
    "```\n",
    "2018-09-XX XX:XX:XX,XXX - ERROR - config vc failed: http_status(403)\n",
    "2018-09-XX XX:XX:XX,XXX - ERROR - 2018/XX/XX XX:XX:XX UTC: VCPAuthException: xxxxxxx:token lookup is failed: permission denied\n",
    "```\n",
    "\n",
    "この場合はアクセストークンの入力からやり直してください。"
   ]
  },
  {
   "cell_type": "markdown",
   "metadata": {
    "lc_cell_meme": {
     "current": "aa8f973a-4acd-11e9-93c6-0242ac110002",
     "next": "aa8f976c-4acd-11e9-93c6-0242ac110002",
     "previous": "aa8f9708-4acd-11e9-93c6-0242ac110002"
    }
   },
   "source": [
    "`vcp`からは UnitGroup の管理（作成、情報取得）や VCP SDK自体に関する情報取得を行うことができます。例えば、次のセルを実行するとUnitGroupの一覧が表示されます。\n",
    "\n",
    "> まだUnitGroupを作成していないので、ヘッダー以外はなにも表示されないはずです。"
   ]
  },
  {
   "cell_type": "code",
   "execution_count": 3,
   "metadata": {
    "deletable": false,
    "editable": false,
    "lc_cell_meme": {
     "current": "aa8f976c-4acd-11e9-93c6-0242ac110002",
     "next": "aa8f979e-4acd-11e9-93c6-0242ac110002",
     "previous": "aa8f973a-4acd-11e9-93c6-0242ac110002"
    },
    "run_through_control": {
     "frozen": true,
     "read_only": false
    },
    "scrolled": true
   },
   "outputs": [
    {
     "data": {
      "text/html": [
       "<style  type=\"text/css\" >\n",
       "    #T_78cee9e4_4acd_11e9_878d_0242ac110002row0_col3 {\n",
       "            background-color:  #dfd;\n",
       "        }    #T_78cee9e4_4acd_11e9_878d_0242ac110002row1_col3 {\n",
       "            background-color:  #dfd;\n",
       "        }    #T_78cee9e4_4acd_11e9_878d_0242ac110002row2_col3 {\n",
       "            background-color:  #dfd;\n",
       "        }</style>  \n",
       "<table id=\"T_78cee9e4_4acd_11e9_878d_0242ac110002\" > \n",
       "<thead>    <tr> \n",
       "        <th class=\"blank level0\" ></th> \n",
       "        <th class=\"col_heading level0 col0\" >vcno</th> \n",
       "        <th class=\"col_heading level0 col1\" >vctype</th> \n",
       "        <th class=\"col_heading level0 col2\" >vcname</th> \n",
       "        <th class=\"col_heading level0 col3\" >state</th> \n",
       "        <th class=\"col_heading level0 col4\" >vcid</th> \n",
       "        <th class=\"col_heading level0 col5\" >cdate</th> \n",
       "    </tr></thead> \n",
       "</table> "
      ],
      "text/plain": [
       "<pandas.io.formats.style.Styler at 0x7fbc246a4b00>"
      ]
     },
     "execution_count": 3,
     "metadata": {},
     "output_type": "execute_result"
    }
   ],
   "source": [
    "# UnitGroupの一覧を DataFrame で表示する\n",
    "vcp.df_ugroups()"
   ]
  },
  {
   "cell_type": "markdown",
   "metadata": {
    "lc_cell_meme": {
     "current": "aa8f979e-4acd-11e9-93c6-0242ac110002",
     "next": "aa8f97da-4acd-11e9-93c6-0242ac110002",
     "previous": "aa8f976c-4acd-11e9-93c6-0242ac110002"
    }
   },
   "source": [
    "次のセルを実行すると VCP SDK と VC Controller のバージョンが表示されます。"
   ]
  },
  {
   "cell_type": "code",
   "execution_count": 4,
   "metadata": {
    "deletable": false,
    "editable": false,
    "lc_cell_meme": {
     "current": "aa8f97da-4acd-11e9-93c6-0242ac110002",
     "next": "aa8f980c-4acd-11e9-93c6-0242ac110002",
     "previous": "aa8f979e-4acd-11e9-93c6-0242ac110002"
    },
    "run_through_control": {
     "frozen": true,
     "read_only": false
    },
    "scrolled": true
   },
   "outputs": [
    {
     "name": "stdout",
     "output_type": "stream",
     "text": [
      "\n",
      "vcplib:\n",
      "  filename: /notebooks/notebook/vcplib/occtr.py\n",
      "  version: 18.10.3+20181221\n",
      "\n",
      "vcpsdk:\n",
      "  filename: /notebooks/notebook/vcpsdk/vcpsdk.py\n",
      "  version: 18.10.3+20181221\n",
      "\n",
      "  plugin:\n",
      "    aws: 1.1+20181031\n",
      "    aws_disk: 1.0+20181031\n",
      "    azure: 1.1+20181031\n",
      "    azure_disk: 1.0+20181031\n",
      "    sakura: 1.0+20180731\n",
      "    aic: 1.1+20181031\n",
      "    abc: 1.1+20181031\n",
      "    gcp: 1.0+20181031\n",
      "    onpremises: 1.0+20181031\n",
      "\n",
      "vc_controller:\n",
      "  host: 10.0.0.1\n",
      "  name: vcc1012\n",
      "  version: 18.10.3+20181221\n",
      "\n",
      "  plugin:\n",
      "    azure: 1.1+20181221\n",
      "    abc: 1.1+20181221\n",
      "    sakura: 1.0+20181221\n",
      "    aic: 1.1+20181221\n",
      "    aws: 1.1+20181221\n",
      "    gcp: 1.0+20181221"
     ]
    }
   ],
   "source": [
    "vcp.version()"
   ]
  },
  {
   "cell_type": "markdown",
   "metadata": {
    "lc_cell_meme": {
     "current": "aa8f980c-4acd-11e9-93c6-0242ac110002",
     "next": "aa8f983e-4acd-11e9-93c6-0242ac110002",
     "previous": "aa8f97da-4acd-11e9-93c6-0242ac110002"
    },
    "vcp_tutorial": {
     "url": "files/DOC/index.html#vcpsdk.vcpsdk.VcpSDK"
    }
   },
   "source": [
    "<!---\n",
    "VcpSDK()のAPIに関する詳細については「[VCPSDK APIドキュメント](/handson/files/DOC/index.html#vcpsdk.vcpsdk.VcpSDK)」を参照してください。\n",
    "--->"
   ]
  },
  {
   "cell_type": "markdown",
   "metadata": {
    "lc_cell_meme": {
     "current": "aa8f983e-4acd-11e9-93c6-0242ac110002",
     "next": "aa8f9870-4acd-11e9-93c6-0242ac110002",
     "previous": "aa8f980c-4acd-11e9-93c6-0242ac110002"
    }
   },
   "source": [
    "## UnitGroupの作成"
   ]
  },
  {
   "cell_type": "markdown",
   "metadata": {
    "lc_cell_meme": {
     "current": "aa8f9870-4acd-11e9-93c6-0242ac110002",
     "next": "aa8f98ac-4acd-11e9-93c6-0242ac110002",
     "previous": "aa8f983e-4acd-11e9-93c6-0242ac110002"
    }
   },
   "source": [
    "`handson101`という名前の UnitGroup を作成します。"
   ]
  },
  {
   "cell_type": "code",
   "execution_count": 5,
   "metadata": {
    "deletable": false,
    "editable": false,
    "lc_cell_meme": {
     "current": "aa8f98ac-4acd-11e9-93c6-0242ac110002",
     "next": "aa8f98d4-4acd-11e9-93c6-0242ac110002",
     "previous": "aa8f9870-4acd-11e9-93c6-0242ac110002"
    },
    "run_through_control": {
     "frozen": true,
     "read_only": false
    }
   },
   "outputs": [],
   "source": [
    "# UnitGroupの作成\n",
    "unit_group = vcp.create_ugroup(\n",
    "    'handson101'                   # UnitGroupの名前\n",
    ")"
   ]
  },
  {
   "cell_type": "markdown",
   "metadata": {
    "lc_cell_meme": {
     "current": "aa8f98d4-4acd-11e9-93c6-0242ac110002",
     "next": "aa8f9906-4acd-11e9-93c6-0242ac110002",
     "previous": "aa8f98ac-4acd-11e9-93c6-0242ac110002"
    }
   },
   "source": [
    "作成したUnitGroupの状態を表示してみます。\n",
    "\n",
    "> UnitGroup の名前が `handson101` であることと、その状態が `RUNNING` であることなどが確認できるはずです。"
   ]
  },
  {
   "cell_type": "code",
   "execution_count": 6,
   "metadata": {
    "deletable": false,
    "editable": false,
    "lc_cell_meme": {
     "current": "aa8f9906-4acd-11e9-93c6-0242ac110002",
     "next": "aa8f9942-4acd-11e9-93c6-0242ac110002",
     "previous": "aa8f98d4-4acd-11e9-93c6-0242ac110002"
    },
    "run_through_control": {
     "frozen": true,
     "read_only": false
    },
    "scrolled": true
   },
   "outputs": [
    {
     "name": "stdout",
     "output_type": "stream",
     "text": [
      "[Vc]\n",
      "+ type[compute] name[handson101] vcno(139) state[RUNNING] vcid[57c1a01203e3479f8bca6ffd6d33ef77]\n",
      "\n"
     ]
    }
   ],
   "source": [
    "print(unit_group)"
   ]
  },
  {
   "cell_type": "markdown",
   "metadata": {
    "lc_cell_meme": {
     "current": "aa8f9942-4acd-11e9-93c6-0242ac110002",
     "next": "aa8f9974-4acd-11e9-93c6-0242ac110002",
     "previous": "aa8f9906-4acd-11e9-93c6-0242ac110002"
    },
    "vcp_tutorial": {
     "url": "files/DOC/index.html#id1"
    }
   },
   "source": [
    "<!---\n",
    "> UnitGroupがとり得る他の状態に関しては「[VCPSDK APIドキュメント#VC の状態定義](/handson/files/DOC/index.html#id1)」を参照してください。\n",
    "--->"
   ]
  },
  {
   "cell_type": "markdown",
   "metadata": {
    "lc_cell_meme": {
     "current": "aa8f9974-4acd-11e9-93c6-0242ac110002",
     "next": "aa8f99a6-4acd-11e9-93c6-0242ac110002",
     "previous": "aa8f9942-4acd-11e9-93c6-0242ac110002"
    }
   },
   "source": [
    "UnitGroupの一覧を表示してみます。"
   ]
  },
  {
   "cell_type": "code",
   "execution_count": 7,
   "metadata": {
    "deletable": false,
    "editable": false,
    "lc_cell_meme": {
     "current": "aa8f99a6-4acd-11e9-93c6-0242ac110002",
     "next": "aa8f99d8-4acd-11e9-93c6-0242ac110002",
     "previous": "aa8f9974-4acd-11e9-93c6-0242ac110002"
    },
    "pinned_outputs": [],
    "run_through_control": {
     "frozen": true,
     "read_only": false
    }
   },
   "outputs": [
    {
     "data": {
      "text/html": [
       "<style  type=\"text/css\" >\n",
       "    #T_79c6b390_4acd_11e9_878d_0242ac110002row0_col3 {\n",
       "            background-color:  #dfd;\n",
       "        }    #T_79c6b390_4acd_11e9_878d_0242ac110002row1_col3 {\n",
       "            background-color:  #dfd;\n",
       "        }    #T_79c6b390_4acd_11e9_878d_0242ac110002row2_col3 {\n",
       "            background-color:  #dfd;\n",
       "        }    #T_79c6b390_4acd_11e9_878d_0242ac110002row3_col3 {\n",
       "            background-color:  #dfd;\n",
       "        }</style>  \n",
       "<table id=\"T_79c6b390_4acd_11e9_878d_0242ac110002\" > \n",
       "<thead>    <tr> \n",
       "        <th class=\"blank level0\" ></th> \n",
       "        <th class=\"col_heading level0 col0\" >vcno</th> \n",
       "        <th class=\"col_heading level0 col1\" >vctype</th> \n",
       "        <th class=\"col_heading level0 col2\" >vcname</th> \n",
       "        <th class=\"col_heading level0 col3\" >state</th> \n",
       "        <th class=\"col_heading level0 col4\" >vcid</th> \n",
       "        <th class=\"col_heading level0 col5\" >cdate</th> \n",
       "    </tr></thead> \n",
       "<tbody>    <tr> \n",
       "        <th id=\"T_79c6b390_4acd_11e9_878d_0242ac110002level0_row3\" class=\"row_heading level0 row3\" >0</th> \n",
       "        <td id=\"T_79c6b390_4acd_11e9_878d_0242ac110002row3_col0\" class=\"data row3 col0\" >139</td> \n",
       "        <td id=\"T_79c6b390_4acd_11e9_878d_0242ac110002row3_col1\" class=\"data row3 col1\" >compute</td> \n",
       "        <td id=\"T_79c6b390_4acd_11e9_878d_0242ac110002row3_col2\" class=\"data row3 col2\" >handson101</td> \n",
       "        <td id=\"T_79c6b390_4acd_11e9_878d_0242ac110002row3_col3\" class=\"data row3 col3\" >RUNNING</td> \n",
       "        <td id=\"T_79c6b390_4acd_11e9_878d_0242ac110002row3_col4\" class=\"data row3 col4\" >57c1a012...</td> \n",
       "        <td id=\"T_79c6b390_4acd_11e9_878d_0242ac110002row3_col5\" class=\"data row3 col5\" >2019/03/20 05:01:40 UTC</td> \n",
       "    </tr></tbody> \n",
       "</table> "
      ],
      "text/plain": [
       "<pandas.io.formats.style.Styler at 0x7fbc1e080240>"
      ]
     },
     "execution_count": 7,
     "metadata": {},
     "output_type": "execute_result"
    }
   ],
   "source": [
    "# UnitGroupの一覧を DataFrame で表示する\n",
    "vcp.df_ugroups()"
   ]
  },
  {
   "cell_type": "markdown",
   "metadata": {
    "lc_cell_meme": {
     "current": "aa8f99d8-4acd-11e9-93c6-0242ac110002",
     "next": "aa8f9a0a-4acd-11e9-93c6-0242ac110002",
     "previous": "aa8f99a6-4acd-11e9-93c6-0242ac110002"
    }
   },
   "source": [
    "## UnitGroupの状態を確認する"
   ]
  },
  {
   "cell_type": "markdown",
   "metadata": {
    "lc_cell_meme": {
     "current": "aa8f9a0a-4acd-11e9-93c6-0242ac110002",
     "next": "aa8f9a3c-4acd-11e9-93c6-0242ac110002",
     "previous": "aa8f99d8-4acd-11e9-93c6-0242ac110002"
    }
   },
   "source": [
    "UnitGroupに属している Unit の一覧を表示します。\n",
    "\n",
    "> まだ、このUnitGroupでは Unit を作成していないのでヘッダー以外は何も表示されません。"
   ]
  },
  {
   "cell_type": "code",
   "execution_count": 8,
   "metadata": {
    "deletable": false,
    "editable": false,
    "lc_cell_meme": {
     "current": "aa8f9a3c-4acd-11e9-93c6-0242ac110002",
     "next": "aa8f9a64-4acd-11e9-93c6-0242ac110002",
     "previous": "aa8f9a0a-4acd-11e9-93c6-0242ac110002"
    },
    "run_through_control": {
     "frozen": true,
     "read_only": false
    }
   },
   "outputs": [
    {
     "data": {
      "text/html": [
       "<div>\n",
       "<style scoped>\n",
       "    .dataframe tbody tr th:only-of-type {\n",
       "        vertical-align: middle;\n",
       "    }\n",
       "\n",
       "    .dataframe tbody tr th {\n",
       "        vertical-align: top;\n",
       "    }\n",
       "\n",
       "    .dataframe thead th {\n",
       "        text-align: right;\n",
       "    }\n",
       "</style>\n",
       "<table border=\"1\" class=\"dataframe\">\n",
       "  <thead>\n",
       "    <tr style=\"text-align: right;\">\n",
       "      <th></th>\n",
       "      <th>vctype</th>\n",
       "      <th>vcno</th>\n",
       "      <th>vcname</th>\n",
       "      <th>vc_state</th>\n",
       "      <th>vcid</th>\n",
       "      <th>cdate</th>\n",
       "      <th>unit_name</th>\n",
       "      <th>unit_state</th>\n",
       "    </tr>\n",
       "  </thead>\n",
       "  <tbody>\n",
       "  </tbody>\n",
       "</table>\n",
       "</div>"
      ],
      "text/plain": [
       "Empty DataFrame\n",
       "Columns: [vctype, vcno, vcname, vc_state, vcid, cdate, unit_name, unit_state]\n",
       "Index: []"
      ]
     },
     "execution_count": 8,
     "metadata": {},
     "output_type": "execute_result"
    }
   ],
   "source": [
    "# Unitの一覧を DataFrame で表示する\n",
    "unit_group.df_units()"
   ]
  },
  {
   "cell_type": "markdown",
   "metadata": {
    "lc_cell_meme": {
     "current": "aa8f9a64-4acd-11e9-93c6-0242ac110002",
     "next": "aa8f9a96-4acd-11e9-93c6-0242ac110002",
     "previous": "aa8f9a3c-4acd-11e9-93c6-0242ac110002"
    }
   },
   "source": [
    "UnitGroupに属しているVCノードの一覧を表示します。\n",
    "\n",
    "> まだVCノードが存在していないので何も表示されません。"
   ]
  },
  {
   "cell_type": "code",
   "execution_count": 9,
   "metadata": {
    "deletable": false,
    "editable": false,
    "lc_cell_meme": {
     "current": "aa8f9a96-4acd-11e9-93c6-0242ac110002",
     "next": "aa8f9ac8-4acd-11e9-93c6-0242ac110002",
     "previous": "aa8f9a64-4acd-11e9-93c6-0242ac110002"
    },
    "run_through_control": {
     "frozen": true,
     "read_only": false
    }
   },
   "outputs": [
    {
     "data": {
      "text/plain": [
       "[]"
      ]
     },
     "execution_count": 9,
     "metadata": {},
     "output_type": "execute_result"
    }
   ],
   "source": [
    "unit_group.df_nodes()"
   ]
  },
  {
   "cell_type": "markdown",
   "metadata": {
    "lc_cell_meme": {
     "current": "aa8f9ac8-4acd-11e9-93c6-0242ac110002",
     "next": "aa8f9afa-4acd-11e9-93c6-0242ac110002",
     "previous": "aa8f9a96-4acd-11e9-93c6-0242ac110002"
    },
    "vcp_tutorial": {
     "url": "files/DOC/index.html#vcpsdk.vcpsdk.VcpUnitClass"
    }
   },
   "source": [
    "<!---\n",
    "> `unit_group`に用意されている他のメソッドについては「[VCPSDK APIドキュメント](/handson/files/DOC/index.html#vcpsdk.vcpsdk.VcpUnitClass)」を参照してください。\n",
    "--->"
   ]
  },
  {
   "cell_type": "markdown",
   "metadata": {
    "lc_cell_meme": {
     "current": "aa8f9afa-4acd-11e9-93c6-0242ac110002",
     "next": "aa8f9b2c-4acd-11e9-93c6-0242ac110002",
     "previous": "aa8f9ac8-4acd-11e9-93c6-0242ac110002"
    }
   },
   "source": [
    "## VCノードのspecを指定する"
   ]
  },
  {
   "cell_type": "markdown",
   "metadata": {
    "lc_cell_meme": {
     "current": "aa8f9b2c-4acd-11e9-93c6-0242ac110002",
     "next": "aa8f9b5e-4acd-11e9-93c6-0242ac110002",
     "previous": "aa8f9afa-4acd-11e9-93c6-0242ac110002"
    }
   },
   "source": [
    "Unitを構成するVCノードがどのような設定であるかを指定するためのオブジェクトとしてVCP SDKでは`spec`オブジェクトを用意しています。VCP SDKの利用者は`spec`オブジェクトのプロパティを設定することで Unitに起動するVCノードの設定内容を定義することができます。\n",
    "\n",
    "`spec`オブジェクトの設定項目の例を以下に示します。\n",
    "\n",
    "* 仮想マシンのインスタンスタイプ\n",
    "  - m5.large, c5.large, ...\n",
    "* 仮想マシンのルートボリュームサイズ(GiB)\n",
    "* 仮想マシンに割り当てるプライベートIPアドレス\n",
    "* Unit内に作成するVCノードの数\n",
    "\n",
    "設定できる項目はクラウドプロバイダ(aws, azure, ...)毎に異なります。"
   ]
  },
  {
   "cell_type": "markdown",
   "metadata": {
    "lc_cell_meme": {
     "current": "aa8f9b5e-4acd-11e9-93c6-0242ac110002",
     "next": "aa8f9b90-4acd-11e9-93c6-0242ac110002",
     "previous": "aa8f9b2c-4acd-11e9-93c6-0242ac110002"
    }
   },
   "source": [
    "### flavor"
   ]
  },
  {
   "cell_type": "markdown",
   "metadata": {
    "lc_cell_meme": {
     "current": "aa8f9b90-4acd-11e9-93c6-0242ac110002",
     "next": "aa8f9bc2-4acd-11e9-93c6-0242ac110002",
     "previous": "aa8f9b5e-4acd-11e9-93c6-0242ac110002"
    }
   },
   "source": [
    "`spec`オブジェクトの全てのパラメータを毎回設定するのは煩雑になるので典型的な構成のパラメータセットを事前に定義しています。事前に定義した`spec`パラメータセットのことを VCP SDKでは `flavor`と呼んでいます。`spec`に設定できるパラメータはクラウドプロバイダ毎に異なるので `flavor`の定義もクラウドプロバイダ毎に行っています。\n",
    "\n",
    "次のセルを実行すると aws用に定義している `flavor` の一覧が表示されます。"
   ]
  },
  {
   "cell_type": "code",
   "execution_count": 10,
   "metadata": {
    "deletable": false,
    "editable": false,
    "lc_cell_meme": {
     "current": "aa8f9bc2-4acd-11e9-93c6-0242ac110002",
     "next": "aa8f9bf4-4acd-11e9-93c6-0242ac110002",
     "previous": "aa8f9b90-4acd-11e9-93c6-0242ac110002"
    },
    "run_through_control": {
     "frozen": true,
     "read_only": false
    }
   },
   "outputs": [
    {
     "data": {
      "text/html": [
       "<div>\n",
       "<style scoped>\n",
       "    .dataframe tbody tr th:only-of-type {\n",
       "        vertical-align: middle;\n",
       "    }\n",
       "\n",
       "    .dataframe tbody tr th {\n",
       "        vertical-align: top;\n",
       "    }\n",
       "\n",
       "    .dataframe thead th {\n",
       "        text-align: right;\n",
       "    }\n",
       "</style>\n",
       "<table border=\"1\" class=\"dataframe\">\n",
       "  <thead>\n",
       "    <tr style=\"text-align: right;\">\n",
       "      <th></th>\n",
       "      <th>flavor</th>\n",
       "      <th>instance_type</th>\n",
       "      <th>volume_size</th>\n",
       "      <th>volume_type</th>\n",
       "    </tr>\n",
       "  </thead>\n",
       "  <tbody>\n",
       "    <tr>\n",
       "      <th>0</th>\n",
       "      <td>small</td>\n",
       "      <td>m4.large</td>\n",
       "      <td>8</td>\n",
       "      <td>standard</td>\n",
       "    </tr>\n",
       "    <tr>\n",
       "      <th>1</th>\n",
       "      <td>medium</td>\n",
       "      <td>m4.xlarge</td>\n",
       "      <td>40</td>\n",
       "      <td>standard</td>\n",
       "    </tr>\n",
       "    <tr>\n",
       "      <th>2</th>\n",
       "      <td>large</td>\n",
       "      <td>m4.2xlarge</td>\n",
       "      <td>100</td>\n",
       "      <td>standard</td>\n",
       "    </tr>\n",
       "  </tbody>\n",
       "</table>\n",
       "</div>"
      ],
      "text/plain": [
       "   flavor instance_type  volume_size volume_type\n",
       "0   small      m4.large            8    standard\n",
       "1  medium     m4.xlarge           40    standard\n",
       "2   large    m4.2xlarge          100    standard"
      ]
     },
     "execution_count": 10,
     "metadata": {},
     "output_type": "execute_result"
    }
   ],
   "source": [
    "vcp.df_flavors('aws')"
   ]
  },
  {
   "cell_type": "markdown",
   "metadata": {
    "lc_cell_meme": {
     "current": "aa8f9bf4-4acd-11e9-93c6-0242ac110002",
     "next": "aa8f9c26-4acd-11e9-93c6-0242ac110002",
     "previous": "aa8f9bc2-4acd-11e9-93c6-0242ac110002"
    }
   },
   "source": [
    "### spec オブジェクトを作成する"
   ]
  },
  {
   "cell_type": "markdown",
   "metadata": {
    "lc_cell_meme": {
     "current": "aa8f9c26-4acd-11e9-93c6-0242ac110002",
     "next": "aa8f9c58-4acd-11e9-93c6-0242ac110002",
     "previous": "aa8f9bf4-4acd-11e9-93c6-0242ac110002"
    }
   },
   "source": [
    "specオブジェクトを作成します。specオブジェクトを作成するにはプロバイダと`flavor`を指定します。ここでは以下の値を指定します。\n",
    "\n",
    "* プロバイダ: `aws`\n",
    "* flavor: `small`"
   ]
  },
  {
   "cell_type": "code",
   "execution_count": 11,
   "metadata": {
    "deletable": false,
    "editable": false,
    "lc_cell_meme": {
     "current": "aa8f9c58-4acd-11e9-93c6-0242ac110002",
     "next": "aa8f9c8a-4acd-11e9-93c6-0242ac110002",
     "previous": "aa8f9c26-4acd-11e9-93c6-0242ac110002"
    },
    "run_through_control": {
     "frozen": true,
     "read_only": false
    }
   },
   "outputs": [],
   "source": [
    "spec = vcp.get_spec('aws', 'small')"
   ]
  },
  {
   "cell_type": "markdown",
   "metadata": {
    "lc_cell_meme": {
     "current": "aa8f9c8a-4acd-11e9-93c6-0242ac110002",
     "next": "aa8f9cbc-4acd-11e9-93c6-0242ac110002",
     "previous": "aa8f9c58-4acd-11e9-93c6-0242ac110002"
    }
   },
   "source": [
    "作成した`spec`の設定内容を確認してみます。\n",
    "\n",
    "> `instance_type`パラメータに `flavor` の指定と対応するEC2インスタンスタイプ`m4.large`が設定されていることが確認できるはずです。\n",
    "> `volume_size`, `volume_type`についてもそれぞれ`flavor`と対応する値が設定されます。"
   ]
  },
  {
   "cell_type": "code",
   "execution_count": 12,
   "metadata": {
    "deletable": false,
    "editable": false,
    "lc_cell_meme": {
     "current": "aa8f9cbc-4acd-11e9-93c6-0242ac110002",
     "next": "aa8f9cee-4acd-11e9-93c6-0242ac110002",
     "previous": "aa8f9c8a-4acd-11e9-93c6-0242ac110002"
    },
    "run_through_control": {
     "frozen": true,
     "read_only": false
    }
   },
   "outputs": [
    {
     "name": "stdout",
     "output_type": "stream",
     "text": [
      "\n",
      "========================\n",
      "aws\n",
      "------------------------\n",
      "\n",
      "    cci_version: \"1.0\"\n",
      "    name: \n",
      "    description: \n",
      "    private_network: default\n",
      "    num_nodes: 1\n",
      "    image: vcp/base:1.4\n",
      "    recovery_mode: none\n",
      "    params:\n",
      "        {'v': [], 'e': []}\n",
      "    instance_type: m4.large\n",
      "    volume_size: 8\n",
      "    volume_type: standard\n",
      "    volume_id: []\n",
      "    cloud_image: default\n",
      "    tags: {}\n",
      "========================\n"
     ]
    }
   ],
   "source": [
    "print(spec)"
   ]
  },
  {
   "cell_type": "markdown",
   "metadata": {
    "lc_cell_meme": {
     "current": "aa8f9cee-4acd-11e9-93c6-0242ac110002",
     "next": "aa8f9d20-4acd-11e9-93c6-0242ac110002",
     "previous": "aa8f9cbc-4acd-11e9-93c6-0242ac110002"
    }
   },
   "source": [
    "`spec`に対しては `flavor`で指定するだけではなく個々のパラメータを直接指定することもできます。例えば、以下のようなものが指定できます。\n",
    "\n",
    "* num_nodes\n",
    "  - Unit内に作成するVCノードの数: デフォルト=1\n",
    "* ip_addresses\n",
    "  - VCノードに割り当てるプライベートIPアドレスのリスト\n",
    "  - このパラメータを指定しない場合は利用可能なアドレスが自動的に割り当てられる\n",
    "* instance_type\n",
    "  - Amazon EC2のインスタンスタイプ\n",
    "  - flavorで設定されているもの以外を利用したい場合に指定する\n",
    "* volume_size\n",
    "  - Amazon EC2インスタンスのルートボリュームに割り当てるサイズ(GiB)\n",
    "  - flavorで設定されているもの以外を利用したい場合に指定する\n",
    "* volume_type\n",
    "  - Amazon EC2インスタンスのルートボリュームのEBSタイプ\n",
    "  - flavorで設定されているもの以外を利用したい場合に指定する"
   ]
  },
  {
   "cell_type": "markdown",
   "metadata": {
    "lc_cell_meme": {
     "current": "aa8f9d20-4acd-11e9-93c6-0242ac110002",
     "next": "aa8f9d5c-4acd-11e9-93c6-0242ac110002",
     "previous": "aa8f9cee-4acd-11e9-93c6-0242ac110002"
    }
   },
   "source": [
    "試しに `volume_size`を指定してみます。"
   ]
  },
  {
   "cell_type": "code",
   "execution_count": 13,
   "metadata": {
    "deletable": false,
    "editable": false,
    "lc_cell_meme": {
     "current": "aa8f9d5c-4acd-11e9-93c6-0242ac110002",
     "next": "aa8f9d8e-4acd-11e9-93c6-0242ac110002",
     "previous": "aa8f9d20-4acd-11e9-93c6-0242ac110002"
    },
    "run_through_control": {
     "frozen": true,
     "read_only": false
    }
   },
   "outputs": [],
   "source": [
    "spec.volume_size = 15"
   ]
  },
  {
   "cell_type": "markdown",
   "metadata": {
    "lc_cell_meme": {
     "current": "aa8f9d8e-4acd-11e9-93c6-0242ac110002",
     "next": "aa8f9dc0-4acd-11e9-93c6-0242ac110002",
     "previous": "aa8f9d5c-4acd-11e9-93c6-0242ac110002"
    }
   },
   "source": [
    "指定した値が`spec`の設定に反映されていることを確認してみます。"
   ]
  },
  {
   "cell_type": "code",
   "execution_count": 14,
   "metadata": {
    "deletable": false,
    "editable": false,
    "lc_cell_meme": {
     "current": "aa8f9dc0-4acd-11e9-93c6-0242ac110002",
     "next": "aa8f9df2-4acd-11e9-93c6-0242ac110002",
     "previous": "aa8f9d8e-4acd-11e9-93c6-0242ac110002"
    },
    "run_through_control": {
     "frozen": true,
     "read_only": false
    }
   },
   "outputs": [
    {
     "name": "stdout",
     "output_type": "stream",
     "text": [
      "\n",
      "========================\n",
      "aws\n",
      "------------------------\n",
      "\n",
      "    cci_version: \"1.0\"\n",
      "    name: \n",
      "    description: \n",
      "    private_network: default\n",
      "    num_nodes: 1\n",
      "    image: vcp/base:1.4\n",
      "    recovery_mode: none\n",
      "    params:\n",
      "        {'v': [], 'e': []}\n",
      "    instance_type: m4.large\n",
      "    volume_size: 15\n",
      "    volume_type: standard\n",
      "    volume_id: []\n",
      "    cloud_image: default\n",
      "    tags: {}\n",
      "========================\n"
     ]
    }
   ],
   "source": [
    "print(spec)"
   ]
  },
  {
   "cell_type": "markdown",
   "metadata": {
    "lc_cell_meme": {
     "current": "aa8f9df2-4acd-11e9-93c6-0242ac110002",
     "next": "aa8f9e24-4acd-11e9-93c6-0242ac110002",
     "previous": "aa8f9dc0-4acd-11e9-93c6-0242ac110002"
    }
   },
   "source": [
    "`volume_size`の値が指定した値に変更されています。"
   ]
  },
  {
   "cell_type": "markdown",
   "metadata": {
    "lc_cell_meme": {
     "current": "aa8f9e24-4acd-11e9-93c6-0242ac110002",
     "next": "aa8f9e56-4acd-11e9-93c6-0242ac110002",
     "previous": "aa8f9df2-4acd-11e9-93c6-0242ac110002"
    }
   },
   "source": [
    "### sshの鍵ファイルを設定する\n",
    "\n",
    "VCノードにsshでログインするためには事前に公開鍵認証の鍵を登録する必要があります。そのための設定をここで行います。"
   ]
  },
  {
   "cell_type": "markdown",
   "metadata": {
    "lc_cell_meme": {
     "current": "aa8f9e56-4acd-11e9-93c6-0242ac110002",
     "next": "aa8f9e88-4acd-11e9-93c6-0242ac110002",
     "previous": "aa8f9e24-4acd-11e9-93c6-0242ac110002"
    }
   },
   "source": [
    "VCノードに登録する公開鍵認証の**公開鍵**のパスを次のセルで指定してください。"
   ]
  },
  {
   "cell_type": "code",
   "execution_count": 15,
   "metadata": {
    "deletable": false,
    "editable": false,
    "lc_cell_meme": {
     "current": "aa8f9e88-4acd-11e9-93c6-0242ac110002",
     "next": "aa8f9eba-4acd-11e9-93c6-0242ac110002",
     "previous": "aa8f9e56-4acd-11e9-93c6-0242ac110002"
    },
    "run_through_control": {
     "frozen": true,
     "read_only": false
    }
   },
   "outputs": [],
   "source": [
    "import os\n",
    "ssh_public_key = os.path.expanduser('~/.ssh/id_rsa.pub')"
   ]
  },
  {
   "cell_type": "markdown",
   "metadata": {
    "lc_cell_meme": {
     "current": "aa8f9eba-4acd-11e9-93c6-0242ac110002",
     "next": "aa8f9eec-4acd-11e9-93c6-0242ac110002",
     "previous": "aa8f9e88-4acd-11e9-93c6-0242ac110002"
    }
   },
   "source": [
    "指定した公開鍵を `spec` に設定します。"
   ]
  },
  {
   "cell_type": "code",
   "execution_count": 16,
   "metadata": {
    "deletable": false,
    "editable": false,
    "lc_cell_meme": {
     "current": "aa8f9eec-4acd-11e9-93c6-0242ac110002",
     "next": "aa8f9f1e-4acd-11e9-93c6-0242ac110002",
     "previous": "aa8f9eba-4acd-11e9-93c6-0242ac110002"
    },
    "run_through_control": {
     "frozen": true,
     "read_only": false
    }
   },
   "outputs": [],
   "source": [
    "spec.set_ssh_pubkey(ssh_public_key)"
   ]
  },
  {
   "cell_type": "markdown",
   "metadata": {
    "lc_cell_meme": {
     "current": "aa8f9f1e-4acd-11e9-93c6-0242ac110002",
     "next": "aa8f9f50-4acd-11e9-93c6-0242ac110002",
     "previous": "aa8f9eec-4acd-11e9-93c6-0242ac110002"
    }
   },
   "source": [
    "sshの公開鍵に関する設定が`spec`に反映されたことを確認してみます。次のセルを実行すると`params`の`e`の`AUTHORIZED_KEYS`に値が設定されていることが確認できます。"
   ]
  },
  {
   "cell_type": "code",
   "execution_count": 17,
   "metadata": {
    "deletable": false,
    "editable": false,
    "lc_cell_meme": {
     "current": "aa8f9f50-4acd-11e9-93c6-0242ac110002",
     "next": "aa8f9f82-4acd-11e9-93c6-0242ac110002",
     "previous": "aa8f9f1e-4acd-11e9-93c6-0242ac110002"
    },
    "run_through_control": {
     "frozen": true,
     "read_only": false
    }
   },
   "outputs": [
    {
     "name": "stdout",
     "output_type": "stream",
     "text": [
      "\n",
      "========================\n",
      "aws\n",
      "------------------------\n",
      "\n",
      "    cci_version: \"1.0\"\n",
      "    name: \n",
      "    description: \n",
      "    private_network: default\n",
      "    num_nodes: 1\n",
      "    image: vcp/base:1.4\n",
      "    recovery_mode: none\n",
      "    params:\n",
      "        {'v': [], 'e': ['AUTHORIZED_KEYS=c3NoLXJzYSBBQUFBQjNOemFDMXljMkVBQUFBREFRQUJBQUFCQVFEYTh3TlJ0cW5Eck5RbXdod3dWZ21LendwUlYwRnZORzkzU0JjTXJ5WEo2VXpHYTcxTXgxSE5qdnRORlczM3d4bUlLQ0EreUxWSzQyZUdaQWY4QzgzZWRXMkJEdkVhZExDaTR3T0Z6ZzhNbHlNblBFVHBhRmlKMzRSV08xU2xTYTMvZlVxUjJ0SXV1bzRTdmk4SVF5V3V3Z0dTcXlJblpITkNkdDBma3RBMG5FVVRkYVVpdm1iQUxWSWNuNlVCNmpQL0pESDJENmNFNUo0ZjVNckQ1eU1CZzVLZVhreFpwWnRiQlpCK1UyTXlCdVlIeTdGT1AyMWViQ2ovWVZianpJdTFLVVpGZDFkdDBJVjJIT1pqOVJYTzRFUCtpOHJBTlFwcVA4RjBuUE1LNXcwUXNBUEk1RjlSVUFUM051aEZ6SkVCTE9sV1VyRG02WHg4S3puaWpHZnIgYml0X2t1bkBiMTJkNjJhODQ3MWEK']}\n",
      "    instance_type: m4.large\n",
      "    volume_size: 15\n",
      "    volume_type: standard\n",
      "    volume_id: []\n",
      "    cloud_image: default\n",
      "    tags: {}\n",
      "========================\n"
     ]
    }
   ],
   "source": [
    "print(spec)"
   ]
  },
  {
   "cell_type": "markdown",
   "metadata": {
    "lc_cell_meme": {
     "current": "aa8f9f82-4acd-11e9-93c6-0242ac110002",
     "next": "aa8f9fbe-4acd-11e9-93c6-0242ac110002",
     "previous": "aa8f9f50-4acd-11e9-93c6-0242ac110002"
    }
   },
   "source": [
    "後でVCノードにログインする際にsshの秘密鍵も必要になるので、ここで設定しておきます。次のセルで**秘密鍵**のパスを指定してください。"
   ]
  },
  {
   "cell_type": "code",
   "execution_count": 18,
   "metadata": {
    "deletable": false,
    "editable": false,
    "lc_cell_meme": {
     "current": "aa8f9fbe-4acd-11e9-93c6-0242ac110002",
     "next": "aa8f9ff0-4acd-11e9-93c6-0242ac110002",
     "previous": "aa8f9f82-4acd-11e9-93c6-0242ac110002"
    },
    "run_through_control": {
     "frozen": true,
     "read_only": false
    }
   },
   "outputs": [],
   "source": [
    "ssh_private_key = os.path.expanduser('~/.ssh/id_rsa')"
   ]
  },
  {
   "cell_type": "markdown",
   "metadata": {
    "lc_cell_meme": {
     "current": "aa8f9ff0-4acd-11e9-93c6-0242ac110002",
     "next": "aa8fa022-4acd-11e9-93c6-0242ac110002",
     "previous": "aa8f9fbe-4acd-11e9-93c6-0242ac110002"
    }
   },
   "source": [
    "公開鍵と秘密鍵が正しいペアであることをチェックします。次のセルを実行してエラーにならないことを確認してください。"
   ]
  },
  {
   "cell_type": "code",
   "execution_count": 19,
   "metadata": {
    "deletable": false,
    "editable": false,
    "lc_cell_meme": {
     "current": "aa8fa022-4acd-11e9-93c6-0242ac110002",
     "next": "aa8fa054-4acd-11e9-93c6-0242ac110002",
     "previous": "aa8f9ff0-4acd-11e9-93c6-0242ac110002"
    },
    "run_through_control": {
     "frozen": true,
     "read_only": false
    }
   },
   "outputs": [],
   "source": [
    "!grep -q \"$(ssh-keygen -y -f {ssh_private_key})\" {ssh_public_key}"
   ]
  },
  {
   "cell_type": "markdown",
   "metadata": {
    "lc_cell_meme": {
     "current": "aa8fa054-4acd-11e9-93c6-0242ac110002",
     "next": "aa8fa086-4acd-11e9-93c6-0242ac110002",
     "previous": "aa8fa022-4acd-11e9-93c6-0242ac110002"
    },
    "vcp_tutorial": {
     "url": "files/DOC/index.html#module-vcpsdk.plugins.spec"
    }
   },
   "source": [
    "<!---\n",
    "他にどのようなパラメータが設定できるのかについては\n",
    "「[VCPSDK APIドキュメント](/handson/files/DOC/index.html#module-vcpsdk.plugins.spec)」を参照してください。\n",
    "--->"
   ]
  },
  {
   "cell_type": "markdown",
   "metadata": {
    "lc_cell_meme": {
     "current": "aa8fa086-4acd-11e9-93c6-0242ac110002",
     "next": "aa8fa0b8-4acd-11e9-93c6-0242ac110002",
     "previous": "aa8fa054-4acd-11e9-93c6-0242ac110002"
    }
   },
   "source": [
    "## Unitの作成とVCノードの起動"
   ]
  },
  {
   "cell_type": "markdown",
   "metadata": {
    "lc_cell_meme": {
     "current": "aa8fa0b8-4acd-11e9-93c6-0242ac110002",
     "next": "aa8fa0ea-4acd-11e9-93c6-0242ac110002",
     "previous": "aa8fa086-4acd-11e9-93c6-0242ac110002"
    }
   },
   "source": [
    "Unitを作成します。Unitを作成すると同時に VCノード（ここでは Amazon EC2インスタンス）が起動します。\n",
    "\n",
    "> 処理が完了するまで1分半～2分程度かかります。"
   ]
  },
  {
   "cell_type": "code",
   "execution_count": 20,
   "metadata": {
    "deletable": false,
    "editable": false,
    "lc_cell_meme": {
     "current": "aa8fa0ea-4acd-11e9-93c6-0242ac110002",
     "next": "aa8fa11c-4acd-11e9-93c6-0242ac110002",
     "previous": "aa8fa0b8-4acd-11e9-93c6-0242ac110002"
    },
    "run_through_control": {
     "frozen": true,
     "read_only": false
    },
    "scrolled": true
   },
   "outputs": [
    {
     "name": "stdout",
     "output_type": "stream",
     "text": [
      "2019-03-20 14:03:20,451 - INFO - BOOTING ... 0 sec\n",
      "2019-03-20 14:03:25,644 - INFO - BOOTING ... 5 sec\n",
      "2019-03-20 14:03:30,826 - INFO - BOOTING ... 10 sec\n",
      "2019-03-20 14:03:36,019 - INFO - BOOTING ... 15 sec\n",
      "2019-03-20 14:03:41,209 - INFO - BOOTING ... 20 sec\n",
      "2019-03-20 14:03:46,430 - INFO - BOOTING ... 25 sec\n",
      "2019-03-20 14:03:51,626 - INFO - BOOTING ... 30 sec\n",
      "2019-03-20 14:03:56,817 - INFO - BOOTING ... 35 sec\n",
      "2019-03-20 14:04:02,022 - INFO - BOOTING ... 40 sec\n",
      "2019-03-20 14:04:07,227 - INFO - BOOTING ... 45 sec\n",
      "2019-03-20 14:04:12,428 - INFO - BOOTING ... 50 sec\n",
      "2019-03-20 14:04:17,661 - INFO - BOOTING ... 55 sec\n",
      "2019-03-20 14:04:22,855 - INFO - BOOTING ... 60 sec\n",
      "2019-03-20 14:04:28,093 - INFO - BOOTING ... 65 sec\n",
      "2019-03-20 14:04:33,291 - INFO - BOOTING ... 70 sec\n",
      "2019-03-20 14:04:38,500 - INFO - BOOTING ... 75 sec\n",
      "2019-03-20 14:04:43,708 - INFO - unit aws-server is RUNNING\n"
     ]
    }
   ],
   "source": [
    "# Unitの作成（同時に VCノードが作成される）\n",
    "unit = unit_group.create_unit(\n",
    "    'aws-server',               # Unit名の指定\n",
    "    spec\n",
    ")"
   ]
  },
  {
   "cell_type": "markdown",
   "metadata": {
    "lc_cell_meme": {
     "current": "aa8fa11c-4acd-11e9-93c6-0242ac110002",
     "next": "aa8fa14e-4acd-11e9-93c6-0242ac110002",
     "previous": "aa8fa0ea-4acd-11e9-93c6-0242ac110002"
    }
   },
   "source": [
    "UnitGroupに属しているUnitの一覧表示を行い、Unitが作成されていることを確認します。"
   ]
  },
  {
   "cell_type": "code",
   "execution_count": 21,
   "metadata": {
    "deletable": false,
    "editable": false,
    "lc_cell_meme": {
     "current": "aa8fa14e-4acd-11e9-93c6-0242ac110002",
     "next": "aa8fa180-4acd-11e9-93c6-0242ac110002",
     "previous": "aa8fa11c-4acd-11e9-93c6-0242ac110002"
    },
    "pinned_outputs": [],
    "run_through_control": {
     "frozen": true,
     "read_only": false
    }
   },
   "outputs": [
    {
     "data": {
      "text/html": [
       "<div>\n",
       "<style scoped>\n",
       "    .dataframe tbody tr th:only-of-type {\n",
       "        vertical-align: middle;\n",
       "    }\n",
       "\n",
       "    .dataframe tbody tr th {\n",
       "        vertical-align: top;\n",
       "    }\n",
       "\n",
       "    .dataframe thead th {\n",
       "        text-align: right;\n",
       "    }\n",
       "</style>\n",
       "<table border=\"1\" class=\"dataframe\">\n",
       "  <thead>\n",
       "    <tr style=\"text-align: right;\">\n",
       "      <th></th>\n",
       "      <th>vctype</th>\n",
       "      <th>vcno</th>\n",
       "      <th>vcname</th>\n",
       "      <th>vc_state</th>\n",
       "      <th>vcid</th>\n",
       "      <th>cdate</th>\n",
       "      <th>unit_name</th>\n",
       "      <th>unit_state</th>\n",
       "    </tr>\n",
       "  </thead>\n",
       "  <tbody>\n",
       "    <tr>\n",
       "      <th>0</th>\n",
       "      <td>compute</td>\n",
       "      <td>139</td>\n",
       "      <td>handson101</td>\n",
       "      <td>RUNNING</td>\n",
       "      <td>57c1a012...</td>\n",
       "      <td>2019/03/20 05:01:40 UTC</td>\n",
       "      <td>aws-server</td>\n",
       "      <td>RUNNING</td>\n",
       "    </tr>\n",
       "  </tbody>\n",
       "</table>\n",
       "</div>"
      ],
      "text/plain": [
       "    vctype  vcno      vcname vc_state         vcid                    cdate  \\\n",
       "0  compute   139  handson101  RUNNING  57c1a012...  2019/03/20 05:01:40 UTC   \n",
       "\n",
       "    unit_name unit_state  \n",
       "0  aws-server    RUNNING  "
      ]
     },
     "execution_count": 21,
     "metadata": {},
     "output_type": "execute_result"
    }
   ],
   "source": [
    "# Unitの一覧を DataFrame で表示する\n",
    "unit_group.df_units()"
   ]
  },
  {
   "cell_type": "markdown",
   "metadata": {
    "lc_cell_meme": {
     "current": "aa8fa180-4acd-11e9-93c6-0242ac110002",
     "next": "aa8fa1b2-4acd-11e9-93c6-0242ac110002",
     "previous": "aa8fa14e-4acd-11e9-93c6-0242ac110002"
    }
   },
   "source": [
    "UnitGroupに属しているVCノードの一覧表示を行い、VCノードが起動していることを確認します。VCノードが正常に起動していることは `node_state` の表示が `RUNNING`になっていることで確認できます。"
   ]
  },
  {
   "cell_type": "code",
   "execution_count": 22,
   "metadata": {
    "deletable": false,
    "editable": false,
    "lc_cell_meme": {
     "current": "aa8fa1b2-4acd-11e9-93c6-0242ac110002",
     "next": "aa8fa1e4-4acd-11e9-93c6-0242ac110002",
     "previous": "aa8fa180-4acd-11e9-93c6-0242ac110002"
    },
    "run_through_control": {
     "frozen": true,
     "read_only": false
    },
    "scrolled": true
   },
   "outputs": [
    {
     "data": {
      "text/html": [
       "<style  type=\"text/css\" >\n",
       "    #T_ad0a1ef4_4acd_11e9_878d_0242ac110002row0_col3 {\n",
       "            background-color:  #dfd;\n",
       "        }    #T_ad0a1ef4_4acd_11e9_878d_0242ac110002row0_col6 {\n",
       "            background-color:  #dfd;\n",
       "        }</style>  \n",
       "<table id=\"T_ad0a1ef4_4acd_11e9_878d_0242ac110002\" > \n",
       "<thead>    <tr> \n",
       "        <th class=\"blank level0\" ></th> \n",
       "        <th class=\"col_heading level0 col0\" >vcno</th> \n",
       "        <th class=\"col_heading level0 col1\" >vcname</th> \n",
       "        <th class=\"col_heading level0 col2\" >unit_name</th> \n",
       "        <th class=\"col_heading level0 col3\" >unit_state</th> \n",
       "        <th class=\"col_heading level0 col4\" >node_no</th> \n",
       "        <th class=\"col_heading level0 col5\" >node_id</th> \n",
       "        <th class=\"col_heading level0 col6\" >node_state</th> \n",
       "        <th class=\"col_heading level0 col7\" >cloud_instance_address</th> \n",
       "        <th class=\"col_heading level0 col8\" >cloud_instance_id</th> \n",
       "        <th class=\"col_heading level0 col9\" >cloud_instance_name</th> \n",
       "        <th class=\"col_heading level0 col10\" >volumes</th> \n",
       "    </tr></thead> \n",
       "<tbody>    <tr> \n",
       "        <th id=\"T_ad0a1ef4_4acd_11e9_878d_0242ac110002level0_row0\" class=\"row_heading level0 row0\" >0</th> \n",
       "        <td id=\"T_ad0a1ef4_4acd_11e9_878d_0242ac110002row0_col0\" class=\"data row0 col0\" >139</td> \n",
       "        <td id=\"T_ad0a1ef4_4acd_11e9_878d_0242ac110002row0_col1\" class=\"data row0 col1\" >handson101</td> \n",
       "        <td id=\"T_ad0a1ef4_4acd_11e9_878d_0242ac110002row0_col2\" class=\"data row0 col2\" >aws-server</td> \n",
       "        <td id=\"T_ad0a1ef4_4acd_11e9_878d_0242ac110002row0_col3\" class=\"data row0 col3\" >RUNNING</td> \n",
       "        <td id=\"T_ad0a1ef4_4acd_11e9_878d_0242ac110002row0_col4\" class=\"data row0 col4\" >1</td> \n",
       "        <td id=\"T_ad0a1ef4_4acd_11e9_878d_0242ac110002row0_col5\" class=\"data row0 col5\" >f8c1d249...</td> \n",
       "        <td id=\"T_ad0a1ef4_4acd_11e9_878d_0242ac110002row0_col6\" class=\"data row0 col6\" >RUNNING</td> \n",
       "        <td id=\"T_ad0a1ef4_4acd_11e9_878d_0242ac110002row0_col7\" class=\"data row0 col7\" >172.30.2.64</td> \n",
       "        <td id=\"T_ad0a1ef4_4acd_11e9_878d_0242ac110002row0_col8\" class=\"data row0 col8\" >i-033d73dff33071aa3</td> \n",
       "        <td id=\"T_ad0a1ef4_4acd_11e9_878d_0242ac110002row0_col9\" class=\"data row0 col9\" >VCP-1bfc8971-57c1a012</td> \n",
       "        <td id=\"T_ad0a1ef4_4acd_11e9_878d_0242ac110002row0_col10\" class=\"data row0 col10\" >none</td> \n",
       "    </tr></tbody> \n",
       "</table> "
      ],
      "text/plain": [
       "<pandas.io.formats.style.Styler at 0x7fbc503b0278>"
      ]
     },
     "execution_count": 22,
     "metadata": {},
     "output_type": "execute_result"
    }
   ],
   "source": [
    "# VCノードの一覧を DataFrame で表示する\n",
    "unit_group.df_nodes()"
   ]
  },
  {
   "cell_type": "markdown",
   "metadata": {
    "lc_cell_meme": {
     "current": "aa8fa1e4-4acd-11e9-93c6-0242ac110002",
     "next": "aa8fa234-4acd-11e9-93c6-0242ac110002",
     "previous": "aa8fa1b2-4acd-11e9-93c6-0242ac110002"
    },
    "vcp_tutorial": {
     "url": "files/DOC/index.html#vcnode"
    }
   },
   "source": [
    "<!---\n",
    "> VCノードがとり得る他の状態に関しては「[VCPSDK APIドキュメント#VCノード の状態定義](/handson/files/DOC/index.html#vcnode)」を参照してください。\n",
    "--->"
   ]
  },
  {
   "cell_type": "markdown",
   "metadata": {
    "lc_cell_meme": {
     "current": "aa8fa234-4acd-11e9-93c6-0242ac110002",
     "next": "aa8fa266-4acd-11e9-93c6-0242ac110002",
     "previous": "aa8fa1e4-4acd-11e9-93c6-0242ac110002"
    }
   },
   "source": [
    "ここでは VCノードの起動が完了するまで待ち合わせるモードでUnitの作成を行いましたが、非同期処理でUnit, VCノードの作成を行うこともできます。`create_unit()`の`wait_for`パラメータに`False`を指定すると非同期モードでのUnit, VCノードの作成が行えます。\n",
    "\n",
    "```\n",
    "unit = unit_group.create_unit('aws-server', spec, wait_for=False)\n",
    "```\n",
    "\n",
    "非同期モードでUnitを作成した場合にUnitやVCノードが起動したことを確認するには、以下に示す方法で状態取得を行ってください。\n",
    "\n",
    "1. `unit_group.df_units()`\n",
    "  * Unitの一覧表示の`unit_state`の項目で Unitの状態を確認できます\n",
    "  * 起動中は `BOOTING`、起動が完了して実行中になると `RUNNING` と表示されます\n",
    " \n",
    "1. `unit.df_nodes()`, `unit_group.df_nodes()`\n",
    "  * VCノードの一覧表示の`node_state`の項目で VCノードの状態を確認できます\n",
    "  * 起動中は `BOOTING`、起動が完了して実行中になると `RUNNING` と表示されます\n",
    "\n",
    "非同期モードでUnit作成を行った場合でも、以下のメソッドを利用することで後からVCノード起動の待ち合わせを行うことができます。\n",
    "* `unit_group.wait_unit_applied(unit_name)`\n",
    "  - unit_nameで指定されたUnitの状態が `RUNNING` または `ERROR`になるのを待ちます"
   ]
  },
  {
   "cell_type": "markdown",
   "metadata": {
    "lc_cell_meme": {
     "current": "aa8fa266-4acd-11e9-93c6-0242ac110002",
     "next": "aa8fa2a2-4acd-11e9-93c6-0242ac110002",
     "previous": "aa8fa234-4acd-11e9-93c6-0242ac110002"
    }
   },
   "source": [
    "## 疎通確認\n",
    "\n",
    "起動した VCノードに対して`ping`を行ってみます。"
   ]
  },
  {
   "cell_type": "markdown",
   "metadata": {
    "lc_cell_meme": {
     "current": "aa8fa2a2-4acd-11e9-93c6-0242ac110002",
     "next": "aa8fa2d4-4acd-11e9-93c6-0242ac110002",
     "previous": "aa8fa266-4acd-11e9-93c6-0242ac110002"
    }
   },
   "source": [
    "まずUnitGroup内で起動しているVCノードに割り当てられているプライベートIPアドレスの値を取得して変数 `ip_address`に格納します。"
   ]
  },
  {
   "cell_type": "code",
   "execution_count": 23,
   "metadata": {
    "deletable": false,
    "editable": false,
    "lc_cell_meme": {
     "current": "aa8fa2d4-4acd-11e9-93c6-0242ac110002",
     "next": "aa8fa306-4acd-11e9-93c6-0242ac110002",
     "previous": "aa8fa2a2-4acd-11e9-93c6-0242ac110002"
    },
    "run_through_control": {
     "frozen": true,
     "read_only": false
    }
   },
   "outputs": [
    {
     "name": "stdout",
     "output_type": "stream",
     "text": [
      "172.30.2.64\n"
     ]
    }
   ],
   "source": [
    "# unit_group.find_ip_addresses() は UnitGroup内の全VCノードのIPアドレスのリストを返します\n",
    "ip_address = unit_group.find_ip_addresses()[0] # 今は１つのVCノードのみ起動しているので [0] で最初の要素を取り出す\n",
    "\n",
    "print(ip_address)"
   ]
  },
  {
   "cell_type": "markdown",
   "metadata": {
    "lc_cell_meme": {
     "current": "aa8fa306-4acd-11e9-93c6-0242ac110002",
     "next": "aa8fa338-4acd-11e9-93c6-0242ac110002",
     "previous": "aa8fa2d4-4acd-11e9-93c6-0242ac110002"
    }
   },
   "source": [
    "実際に `ping` を行ってみます。\n",
    "\n",
    "> Codeセルで先頭に `!` をつけるとシェルコマンドが実行できます。また `{}`で囲むことで Python の変数参照やコードの実行に置き換えることができます。詳しくは「[IPython Documentation](https://ipython.readthedocs.io/en/stable/interactive/tutorial.html#system-shell-commands)」などを参照してください。"
   ]
  },
  {
   "cell_type": "code",
   "execution_count": 24,
   "metadata": {
    "deletable": false,
    "editable": false,
    "lc_cell_meme": {
     "current": "aa8fa338-4acd-11e9-93c6-0242ac110002",
     "next": "aa8fa36a-4acd-11e9-93c6-0242ac110002",
     "previous": "aa8fa306-4acd-11e9-93c6-0242ac110002"
    },
    "run_through_control": {
     "frozen": true,
     "read_only": false
    }
   },
   "outputs": [
    {
     "name": "stdout",
     "output_type": "stream",
     "text": [
      "PING 172.30.2.64 (172.30.2.64) 56(84) bytes of data.\n",
      "64 bytes from 172.30.2.64: icmp_seq=1 ttl=63 time=0.225 ms\n",
      "64 bytes from 172.30.2.64: icmp_seq=2 ttl=63 time=0.156 ms\n",
      "64 bytes from 172.30.2.64: icmp_seq=3 ttl=63 time=0.153 ms\n",
      "64 bytes from 172.30.2.64: icmp_seq=4 ttl=63 time=0.164 ms\n",
      "64 bytes from 172.30.2.64: icmp_seq=5 ttl=63 time=0.148 ms\n",
      "\n",
      "--- 172.30.2.64 ping statistics ---\n",
      "5 packets transmitted, 5 received, 0% packet loss, time 3997ms\n",
      "rtt min/avg/max/mdev = 0.148/0.169/0.225/0.029 ms\n"
     ]
    }
   ],
   "source": [
    "!ping -c 5 {ip_address}"
   ]
  },
  {
   "cell_type": "markdown",
   "metadata": {
    "lc_cell_meme": {
     "current": "aa8fa36a-4acd-11e9-93c6-0242ac110002",
     "next": "aa8fa39c-4acd-11e9-93c6-0242ac110002",
     "previous": "aa8fa338-4acd-11e9-93c6-0242ac110002"
    }
   },
   "source": [
    "# VCノードに ssh でログインして操作する"
   ]
  },
  {
   "cell_type": "markdown",
   "metadata": {
    "lc_cell_meme": {
     "current": "aa8fa39c-4acd-11e9-93c6-0242ac110002",
     "next": "aa8fa3ce-4acd-11e9-93c6-0242ac110002",
     "previous": "aa8fa36a-4acd-11e9-93c6-0242ac110002"
    }
   },
   "source": [
    "起動したVCノードに ssh でログインして操作を行います。"
   ]
  },
  {
   "cell_type": "markdown",
   "metadata": {
    "lc_cell_meme": {
     "current": "aa8fa3ce-4acd-11e9-93c6-0242ac110002",
     "next": "aa8fa400-4acd-11e9-93c6-0242ac110002",
     "previous": "aa8fa39c-4acd-11e9-93c6-0242ac110002"
    }
   },
   "source": [
    "まず、ログインする前に ~/.ssh/known_hosts のホストキーを更新します。"
   ]
  },
  {
   "cell_type": "code",
   "execution_count": 25,
   "metadata": {
    "deletable": false,
    "editable": false,
    "lc_cell_meme": {
     "current": "aa8fa400-4acd-11e9-93c6-0242ac110002",
     "next": "aa8fa432-4acd-11e9-93c6-0242ac110002",
     "previous": "aa8fa3ce-4acd-11e9-93c6-0242ac110002"
    },
    "run_through_control": {
     "frozen": true,
     "read_only": false
    }
   },
   "outputs": [
    {
     "name": "stdout",
     "output_type": "stream",
     "text": [
      "/home/bit_kun/.ssh/known_hosts updated.\n",
      "Original contents retained as /home/bit_kun/.ssh/known_hosts.old\n",
      "# 172.30.2.64 SSH-2.0-OpenSSH_7.4\n",
      "# 172.30.2.64 SSH-2.0-OpenSSH_7.4\n",
      "# 172.30.2.64 SSH-2.0-OpenSSH_7.4\n"
     ]
    }
   ],
   "source": [
    "!touch ~/.ssh/known_hosts\n",
    "# ~/.ssh/known_hosts から古いホストキーを削除する\n",
    "!ssh-keygen -R {ip_address}\n",
    "\n",
    "# ホストキーの登録\n",
    "!ssh-keyscan -H {ip_address} >> ~/.ssh/known_hosts"
   ]
  },
  {
   "cell_type": "markdown",
   "metadata": {
    "lc_cell_meme": {
     "current": "aa8fa432-4acd-11e9-93c6-0242ac110002",
     "next": "aa8fa464-4acd-11e9-93c6-0242ac110002",
     "previous": "aa8fa400-4acd-11e9-93c6-0242ac110002"
    }
   },
   "source": [
    "`ls -la` を実行してみます。"
   ]
  },
  {
   "cell_type": "code",
   "execution_count": 26,
   "metadata": {
    "deletable": false,
    "editable": false,
    "lc_cell_meme": {
     "current": "aa8fa464-4acd-11e9-93c6-0242ac110002",
     "next": "aa8fa4a0-4acd-11e9-93c6-0242ac110002",
     "previous": "aa8fa432-4acd-11e9-93c6-0242ac110002"
    },
    "run_through_control": {
     "frozen": true,
     "read_only": false
    },
    "scrolled": true
   },
   "outputs": [
    {
     "name": "stdout",
     "output_type": "stream",
     "text": [
      "total 20\r\n",
      "drwx------    6 root     root          4096 Mar 20 05:04 .\r\n",
      "drwxr-xr-x   60 root     root          4096 Mar 20 05:04 ..\r\n",
      "drwx------    3 root     root          4096 Jul  6  2017 .cache\r\n",
      "drwxr-xr-x    3 root     root          4096 Jul  6  2017 .gem\r\n",
      "drwx------    2 root     root          4096 Mar 20 05:04 .ssh\r\n"
     ]
    }
   ],
   "source": [
    "!ssh -i {ssh_private_key} -l root {ip_address} /bin/ls -la"
   ]
  },
  {
   "cell_type": "markdown",
   "metadata": {
    "lc_cell_meme": {
     "current": "aa8fa4a0-4acd-11e9-93c6-0242ac110002",
     "next": "aa8fa4d2-4acd-11e9-93c6-0242ac110002",
     "previous": "aa8fa464-4acd-11e9-93c6-0242ac110002"
    }
   },
   "source": [
    "VCノードにsshでログインするにはsshの引数に以下の指定が必要となります。\n",
    "\n",
    "* sshの identity ファイル(-i)\n",
    "  - `spec`オブジェクトに設定した公開鍵に対応する秘密鍵\n",
    "* ユーザ名(-l)\n",
    "  - `root`\n",
    "* ログイン先のIPアドレス"
   ]
  },
  {
   "cell_type": "markdown",
   "metadata": {
    "lc_cell_meme": {
     "current": "aa8fa4d2-4acd-11e9-93c6-0242ac110002",
     "next": "aa8fa504-4acd-11e9-93c6-0242ac110002",
     "previous": "aa8fa4a0-4acd-11e9-93c6-0242ac110002"
    }
   },
   "source": [
    "sshのオプションを毎回指定するのも煩雑なので変数に設定しておきます。"
   ]
  },
  {
   "cell_type": "code",
   "execution_count": 27,
   "metadata": {
    "deletable": false,
    "editable": false,
    "lc_cell_meme": {
     "current": "aa8fa504-4acd-11e9-93c6-0242ac110002",
     "next": "aa8fa536-4acd-11e9-93c6-0242ac110002",
     "previous": "aa8fa4d2-4acd-11e9-93c6-0242ac110002"
    },
    "run_through_control": {
     "frozen": true,
     "read_only": false
    }
   },
   "outputs": [],
   "source": [
    "ssh_opts = f\"-i {ssh_private_key} -l root\""
   ]
  },
  {
   "cell_type": "markdown",
   "metadata": {
    "lc_cell_meme": {
     "current": "aa8fa536-4acd-11e9-93c6-0242ac110002",
     "next": "aa8fa55e-4acd-11e9-93c6-0242ac110002",
     "previous": "aa8fa504-4acd-11e9-93c6-0242ac110002"
    }
   },
   "source": [
    "VCノードに対して`uname -a`, `df -h` などを実行してみます。"
   ]
  },
  {
   "cell_type": "code",
   "execution_count": 28,
   "metadata": {
    "deletable": false,
    "editable": false,
    "lc_cell_meme": {
     "current": "aa8fa55e-4acd-11e9-93c6-0242ac110002",
     "next": "aa8fa59a-4acd-11e9-93c6-0242ac110002",
     "previous": "aa8fa536-4acd-11e9-93c6-0242ac110002"
    },
    "run_through_control": {
     "frozen": true,
     "read_only": false
    }
   },
   "outputs": [
    {
     "name": "stdout",
     "output_type": "stream",
     "text": [
      "Linux ip-172-30-2-64 4.4.0-67-generic #88-Ubuntu SMP Wed Mar 8 16:34:45 UTC 2017 x86_64 Linux\r\n"
     ]
    }
   ],
   "source": [
    "!ssh {ssh_opts} {ip_address} uname -a"
   ]
  },
  {
   "cell_type": "code",
   "execution_count": 29,
   "metadata": {
    "deletable": false,
    "editable": false,
    "lc_cell_meme": {
     "current": "aa8fa59a-4acd-11e9-93c6-0242ac110002",
     "next": "aa8fa5d6-4acd-11e9-93c6-0242ac110002",
     "previous": "aa8fa55e-4acd-11e9-93c6-0242ac110002"
    },
    "run_through_control": {
     "frozen": true,
     "read_only": false
    }
   },
   "outputs": [
    {
     "name": "stdout",
     "output_type": "stream",
     "text": [
      "Filesystem                Size      Used Available Use% Mounted on\r\n",
      "none                     14.6G      1.8G     12.1G  13% /\r\n",
      "tmpfs                     3.9G         0      3.9G   0% /sys/fs/cgroup\r\n",
      "udev                      3.9G         0      3.9G   0% /dev\r\n",
      "tmpfs                    64.0M         0     64.0M   0% /dev/shm\r\n",
      "/dev/xvda1               14.6G      1.8G     12.1G  13% /etc/resolv.conf\r\n",
      "/dev/xvda1               14.6G      1.8G     12.1G  13% /etc/hostname\r\n",
      "/dev/xvda1               14.6G      1.8G     12.1G  13% /etc/hosts\r\n",
      "shm                      64.0M         0     64.0M   0% /dev/shm\r\n",
      "/dev/xvda1               14.6G      1.8G     12.1G  13% /var/lib/docker\r\n",
      "none                      3.9G         0      3.9G   0% /tmp\r\n",
      "/dev/xvda1               14.6G      1.8G     12.1G  13% /var/lib/docker/aufs\r\n"
     ]
    }
   ],
   "source": [
    "!ssh {ssh_opts} {ip_address} df -h"
   ]
  },
  {
   "cell_type": "markdown",
   "metadata": {
    "lc_cell_meme": {
     "current": "aa8fa5d6-4acd-11e9-93c6-0242ac110002",
     "next": "aa8fa608-4acd-11e9-93c6-0242ac110002",
     "previous": "aa8fa59a-4acd-11e9-93c6-0242ac110002"
    }
   },
   "source": [
    "# GrafanaでVCノードの利用状況を確認する"
   ]
  },
  {
   "cell_type": "markdown",
   "metadata": {
    "lc_cell_meme": {
     "current": "aa8fa608-4acd-11e9-93c6-0242ac110002",
     "next": "aa8fa63a-4acd-11e9-93c6-0242ac110002",
     "previous": "aa8fa5d6-4acd-11e9-93c6-0242ac110002"
    }
   },
   "source": [
    "VCPではVCノードの利用状況(CPU負荷、メモリ使用量、ネットワーク）を確認するためGrafanaのダッシュボードを提供しています。"
   ]
  },
  {
   "cell_type": "markdown",
   "metadata": {
    "lc_cell_meme": {
     "current": "aa8fa63a-4acd-11e9-93c6-0242ac110002",
     "next": "aa8fa66c-4acd-11e9-93c6-0242ac110002",
     "previous": "aa8fa608-4acd-11e9-93c6-0242ac110002"
    }
   },
   "source": [
    "## Grafanaへのログイン"
   ]
  },
  {
   "cell_type": "markdown",
   "metadata": {
    "lc_cell_meme": {
     "current": "aa8fa66c-4acd-11e9-93c6-0242ac110002",
     "next": "aa8fa69e-4acd-11e9-93c6-0242ac110002",
     "previous": "aa8fa63a-4acd-11e9-93c6-0242ac110002"
    }
   },
   "source": [
    "[Grafana](/grafana/d/handson/vcp-metrics?refresh=5s) からダッシュボードを開いてください。\n",
    "\n",
    "最初にログイン画面が表示されるので ユーザ名、パスワードにそれぞれ `admin`, `admin`を入力してください。 \n",
    "\n",
    "![Grafanaのログイン画面](../101/media/grafana-login.png)"
   ]
  },
  {
   "cell_type": "markdown",
   "metadata": {
    "lc_cell_meme": {
     "current": "aa8fa69e-4acd-11e9-93c6-0242ac110002",
     "next": "aa8fa6d0-4acd-11e9-93c6-0242ac110002",
     "previous": "aa8fa66c-4acd-11e9-93c6-0242ac110002"
    }
   },
   "source": [
    "## 負荷状況のグラフ表示\n",
    "\n",
    "以下のように表示されます。左半分のグラフがBaseコンテナの負荷状況で、右半分がアプリケーションコンテナの負荷状況のグラフです。\n",
    "\n",
    "![負荷状況](../101/media/grafana-metrics.png)"
   ]
  },
  {
   "cell_type": "markdown",
   "metadata": {
    "lc_cell_meme": {
     "current": "aa8fa6d0-4acd-11e9-93c6-0242ac110002",
     "next": "aa8fa702-4acd-11e9-93c6-0242ac110002",
     "previous": "aa8fa69e-4acd-11e9-93c6-0242ac110002"
    }
   },
   "source": [
    "VCノードに負荷をかけるために、アプリケーションコンテナで stress コマンドを実行します。"
   ]
  },
  {
   "cell_type": "code",
   "execution_count": 30,
   "metadata": {
    "deletable": false,
    "editable": false,
    "lc_cell_meme": {
     "current": "aa8fa702-4acd-11e9-93c6-0242ac110002",
     "next": "aa8fa734-4acd-11e9-93c6-0242ac110002",
     "previous": "aa8fa6d0-4acd-11e9-93c6-0242ac110002"
    },
    "run_through_control": {
     "frozen": true,
     "read_only": false
    },
    "scrolled": true
   },
   "outputs": [
    {
     "name": "stdout",
     "output_type": "stream",
     "text": [
      "Unable to find image 'polinux/stress:latest' locally\n",
      "latest: Pulling from polinux/stress\n",
      "627beaf3eaaf: Pulling fs layer\n",
      "4de9f469a6f4: Pulling fs layer\n",
      "4de9f469a6f4: Verifying Checksum\n",
      "4de9f469a6f4: Download complete\n",
      "627beaf3eaaf: Verifying Checksum\n",
      "627beaf3eaaf: Download complete\n",
      "627beaf3eaaf: Pull complete\n",
      "4de9f469a6f4: Pull complete\n",
      "Digest: sha256:6d1825288ddb6b3cec8d3ac8a488c8ec2449334512ecb938483fc2b25cbbdb9a\n",
      "Status: Downloaded newer image for polinux/stress:latest\n",
      "545283aacba97b26750738b782f6f5664128e8aa4f0f543487eda570ece7a365\n"
     ]
    }
   ],
   "source": [
    "# 60秒間だけ CPU x 2 とメモリ 128 MB を消費する\n",
    "!ssh {ssh_opts} {ip_address} \\\n",
    "    /usr/local/bin/docker run -td --rm --name stress-0 polinux/stress \\\n",
    "    stress --cpu 2 --io 1 --vm 2 --vm-bytes 128M --timeout 60s --verbose"
   ]
  },
  {
   "cell_type": "markdown",
   "metadata": {
    "lc_cell_meme": {
     "current": "aa8fa734-4acd-11e9-93c6-0242ac110002",
     "next": "aa8fa766-4acd-11e9-93c6-0242ac110002",
     "previous": "aa8fa702-4acd-11e9-93c6-0242ac110002"
    }
   },
   "source": [
    "# VCノードのスケールアウト、スケールイン"
   ]
  },
  {
   "cell_type": "markdown",
   "metadata": {
    "lc_cell_meme": {
     "current": "aa8fa766-4acd-11e9-93c6-0242ac110002",
     "next": "aa8fa798-4acd-11e9-93c6-0242ac110002",
     "previous": "aa8fa734-4acd-11e9-93c6-0242ac110002"
    }
   },
   "source": [
    "![スケールアウト、スケールイン](images/101-004.png)"
   ]
  },
  {
   "cell_type": "markdown",
   "metadata": {
    "lc_cell_meme": {
     "current": "aa8fa798-4acd-11e9-93c6-0242ac110002",
     "next": "aa8fa7ca-4acd-11e9-93c6-0242ac110002",
     "previous": "aa8fa766-4acd-11e9-93c6-0242ac110002"
    }
   },
   "source": [
    "## VCノードのスケールアウト"
   ]
  },
  {
   "cell_type": "markdown",
   "metadata": {
    "lc_cell_meme": {
     "current": "aa8fa7ca-4acd-11e9-93c6-0242ac110002",
     "next": "aa8fa7fc-4acd-11e9-93c6-0242ac110002",
     "previous": "aa8fa798-4acd-11e9-93c6-0242ac110002"
    }
   },
   "source": [
    "Unitには `spec`オブジェクトに指定されている設定と同一の VCノードを作成する機能があります。その機能を利用して Unit にVCノードを追加してみます。"
   ]
  },
  {
   "cell_type": "markdown",
   "metadata": {
    "lc_cell_meme": {
     "current": "aa8fa7fc-4acd-11e9-93c6-0242ac110002",
     "next": "aa8fa82e-4acd-11e9-93c6-0242ac110002",
     "previous": "aa8fa7ca-4acd-11e9-93c6-0242ac110002"
    }
   },
   "source": [
    "まず、現在のVCノードの状況を確認しておきます。"
   ]
  },
  {
   "cell_type": "code",
   "execution_count": 31,
   "metadata": {
    "deletable": false,
    "editable": false,
    "lc_cell_meme": {
     "current": "aa8fa82e-4acd-11e9-93c6-0242ac110002",
     "next": "aa8fa860-4acd-11e9-93c6-0242ac110002",
     "previous": "aa8fa7fc-4acd-11e9-93c6-0242ac110002"
    },
    "run_through_control": {
     "frozen": true,
     "read_only": false
    }
   },
   "outputs": [
    {
     "data": {
      "text/html": [
       "<style  type=\"text/css\" >\n",
       "    #T_b4b81304_4acd_11e9_878d_0242ac110002row0_col3 {\n",
       "            background-color:  #dfd;\n",
       "        }    #T_b4b81304_4acd_11e9_878d_0242ac110002row0_col6 {\n",
       "            background-color:  #dfd;\n",
       "        }</style>  \n",
       "<table id=\"T_b4b81304_4acd_11e9_878d_0242ac110002\" > \n",
       "<thead>    <tr> \n",
       "        <th class=\"blank level0\" ></th> \n",
       "        <th class=\"col_heading level0 col0\" >vcno</th> \n",
       "        <th class=\"col_heading level0 col1\" >vcname</th> \n",
       "        <th class=\"col_heading level0 col2\" >unit_name</th> \n",
       "        <th class=\"col_heading level0 col3\" >unit_state</th> \n",
       "        <th class=\"col_heading level0 col4\" >node_no</th> \n",
       "        <th class=\"col_heading level0 col5\" >node_id</th> \n",
       "        <th class=\"col_heading level0 col6\" >node_state</th> \n",
       "        <th class=\"col_heading level0 col7\" >cloud_instance_address</th> \n",
       "        <th class=\"col_heading level0 col8\" >cloud_instance_id</th> \n",
       "        <th class=\"col_heading level0 col9\" >cloud_instance_name</th> \n",
       "        <th class=\"col_heading level0 col10\" >volumes</th> \n",
       "    </tr></thead> \n",
       "<tbody>    <tr> \n",
       "        <th id=\"T_b4b81304_4acd_11e9_878d_0242ac110002level0_row0\" class=\"row_heading level0 row0\" >0</th> \n",
       "        <td id=\"T_b4b81304_4acd_11e9_878d_0242ac110002row0_col0\" class=\"data row0 col0\" >139</td> \n",
       "        <td id=\"T_b4b81304_4acd_11e9_878d_0242ac110002row0_col1\" class=\"data row0 col1\" >handson101</td> \n",
       "        <td id=\"T_b4b81304_4acd_11e9_878d_0242ac110002row0_col2\" class=\"data row0 col2\" >aws-server</td> \n",
       "        <td id=\"T_b4b81304_4acd_11e9_878d_0242ac110002row0_col3\" class=\"data row0 col3\" >RUNNING</td> \n",
       "        <td id=\"T_b4b81304_4acd_11e9_878d_0242ac110002row0_col4\" class=\"data row0 col4\" >1</td> \n",
       "        <td id=\"T_b4b81304_4acd_11e9_878d_0242ac110002row0_col5\" class=\"data row0 col5\" >f8c1d249...</td> \n",
       "        <td id=\"T_b4b81304_4acd_11e9_878d_0242ac110002row0_col6\" class=\"data row0 col6\" >RUNNING</td> \n",
       "        <td id=\"T_b4b81304_4acd_11e9_878d_0242ac110002row0_col7\" class=\"data row0 col7\" >172.30.2.64</td> \n",
       "        <td id=\"T_b4b81304_4acd_11e9_878d_0242ac110002row0_col8\" class=\"data row0 col8\" >i-033d73dff33071aa3</td> \n",
       "        <td id=\"T_b4b81304_4acd_11e9_878d_0242ac110002row0_col9\" class=\"data row0 col9\" >VCP-1bfc8971-57c1a012</td> \n",
       "        <td id=\"T_b4b81304_4acd_11e9_878d_0242ac110002row0_col10\" class=\"data row0 col10\" >none</td> \n",
       "    </tr></tbody> \n",
       "</table> "
      ],
      "text/plain": [
       "<pandas.io.formats.style.Styler at 0x7fbc1dff9eb8>"
      ]
     },
     "execution_count": 31,
     "metadata": {},
     "output_type": "execute_result"
    }
   ],
   "source": [
    "# VCノードの一覧を DataFrame で表示する\n",
    "unit.df_nodes()"
   ]
  },
  {
   "cell_type": "markdown",
   "metadata": {
    "lc_cell_meme": {
     "current": "aa8fa860-4acd-11e9-93c6-0242ac110002",
     "next": "aa8fa892-4acd-11e9-93c6-0242ac110002",
     "previous": "aa8fa82e-4acd-11e9-93c6-0242ac110002"
    }
   },
   "source": [
    "Unit に VCノードを追加するには`unit`オブジェクトに対して `add_nodes()` を呼び出します。次のセルを実行するとUnitに VCノード が追加されます。\n",
    "\n",
    "> VCノード の起動には 1分半～2分程度かかります。"
   ]
  },
  {
   "cell_type": "code",
   "execution_count": 32,
   "metadata": {
    "deletable": false,
    "editable": false,
    "lc_cell_meme": {
     "current": "aa8fa892-4acd-11e9-93c6-0242ac110002",
     "next": "aa8fa8c4-4acd-11e9-93c6-0242ac110002",
     "previous": "aa8fa860-4acd-11e9-93c6-0242ac110002"
    },
    "run_through_control": {
     "frozen": true,
     "read_only": false
    },
    "scrolled": true
   },
   "outputs": [
    {
     "name": "stdout",
     "output_type": "stream",
     "text": [
      "2019-03-20 14:04:58,188 - INFO - INDEFINITE ... 0 sec\n",
      "2019-03-20 14:05:03,402 - INFO - INDEFINITE ... 5 sec\n",
      "2019-03-20 14:05:08,612 - INFO - INDEFINITE ... 10 sec\n",
      "2019-03-20 14:05:13,816 - INFO - INDEFINITE ... 15 sec\n",
      "2019-03-20 14:05:19,018 - INFO - INDEFINITE ... 20 sec\n",
      "2019-03-20 14:05:24,222 - INFO - INDEFINITE ... 25 sec\n",
      "2019-03-20 14:05:29,432 - INFO - INDEFINITE ... 30 sec\n",
      "2019-03-20 14:05:34,629 - INFO - INDEFINITE ... 35 sec\n",
      "2019-03-20 14:05:39,837 - INFO - INDEFINITE ... 40 sec\n",
      "2019-03-20 14:05:45,030 - INFO - INDEFINITE ... 45 sec\n",
      "2019-03-20 14:05:50,239 - INFO - INDEFINITE ... 50 sec\n",
      "2019-03-20 14:05:55,448 - INFO - INDEFINITE ... 55 sec\n",
      "2019-03-20 14:06:00,656 - INFO - INDEFINITE ... 60 sec\n",
      "2019-03-20 14:06:05,876 - INFO - INDEFINITE ... 65 sec\n",
      "2019-03-20 14:06:11,081 - INFO - INDEFINITE ... 70 sec\n",
      "2019-03-20 14:06:16,287 - INFO - unit aws-server is RUNNING\n",
      "2019-03-20 14:06:16,288 - INFO - add_node completed.\n"
     ]
    },
    {
     "data": {
      "text/plain": [
       "[<vcplib.occtr.VcNode at 0x7fbc5b82a400>,\n",
       " <vcplib.occtr.VcNode at 0x7fbc5422b550>]"
      ]
     },
     "execution_count": 32,
     "metadata": {},
     "output_type": "execute_result"
    }
   ],
   "source": [
    "unit.add_nodes()"
   ]
  },
  {
   "cell_type": "markdown",
   "metadata": {
    "lc_cell_meme": {
     "current": "aa8fa8c4-4acd-11e9-93c6-0242ac110002",
     "next": "aa8fa8f6-4acd-11e9-93c6-0242ac110002",
     "previous": "aa8fa892-4acd-11e9-93c6-0242ac110002"
    }
   },
   "source": [
    "`add_node()`を呼び出すことで追加されるVCノードの数はデフォルトでは１ですが、パラメータ`num_add_nodes`を設定することで追加するVCノード数を変更することが出来ます。例えば３ノードを追加するには以下のような指定を行います。\n",
    "\n",
    "```\n",
    "unit.add_nodes(num_add_nodes=3)\n",
    "```\n",
    "また、追加するVCノードのIPアドレスを指定する場合は、以下のような指定を行います。\n",
    "```\n",
    "unit.add_nodes(ip_address='172.30.2.30')\n",
    "```\n",
    "他にどんなパラメータを指定することが出来るかについては次のセルのように Codeセルの先頭で `?` を指定することで確認できます。"
   ]
  },
  {
   "cell_type": "code",
   "execution_count": 33,
   "metadata": {
    "deletable": false,
    "editable": false,
    "lc_cell_meme": {
     "current": "aa8fa8f6-4acd-11e9-93c6-0242ac110002",
     "next": "aa8fa928-4acd-11e9-93c6-0242ac110002",
     "previous": "aa8fa8c4-4acd-11e9-93c6-0242ac110002"
    },
    "run_through_control": {
     "frozen": true,
     "read_only": false
    }
   },
   "outputs": [],
   "source": [
    "?unit.add_nodes"
   ]
  },
  {
   "cell_type": "markdown",
   "metadata": {
    "lc_cell_meme": {
     "current": "aa8fa928-4acd-11e9-93c6-0242ac110002",
     "next": "aa8fa96e-4acd-11e9-93c6-0242ac110002",
     "previous": "aa8fa8f6-4acd-11e9-93c6-0242ac110002"
    }
   },
   "source": [
    "追加したVCノードの状態を確認するために、VCノードの一覧表示をおこなってみます。"
   ]
  },
  {
   "cell_type": "code",
   "execution_count": 34,
   "metadata": {
    "deletable": false,
    "editable": false,
    "lc_cell_meme": {
     "current": "aa8fa96e-4acd-11e9-93c6-0242ac110002",
     "next": "aa8fa9a0-4acd-11e9-93c6-0242ac110002",
     "previous": "aa8fa928-4acd-11e9-93c6-0242ac110002"
    },
    "run_through_control": {
     "frozen": true,
     "read_only": false
    },
    "scrolled": true
   },
   "outputs": [
    {
     "data": {
      "text/html": [
       "<style  type=\"text/css\" >\n",
       "    #T_e41fa35a_4acd_11e9_878d_0242ac110002row0_col3 {\n",
       "            background-color:  #dfd;\n",
       "        }    #T_e41fa35a_4acd_11e9_878d_0242ac110002row0_col6 {\n",
       "            background-color:  #dfd;\n",
       "        }    #T_e41fa35a_4acd_11e9_878d_0242ac110002row1_col3 {\n",
       "            background-color:  #dfd;\n",
       "        }    #T_e41fa35a_4acd_11e9_878d_0242ac110002row1_col6 {\n",
       "            background-color:  #dfd;\n",
       "        }</style>  \n",
       "<table id=\"T_e41fa35a_4acd_11e9_878d_0242ac110002\" > \n",
       "<thead>    <tr> \n",
       "        <th class=\"blank level0\" ></th> \n",
       "        <th class=\"col_heading level0 col0\" >vcno</th> \n",
       "        <th class=\"col_heading level0 col1\" >vcname</th> \n",
       "        <th class=\"col_heading level0 col2\" >unit_name</th> \n",
       "        <th class=\"col_heading level0 col3\" >unit_state</th> \n",
       "        <th class=\"col_heading level0 col4\" >node_no</th> \n",
       "        <th class=\"col_heading level0 col5\" >node_id</th> \n",
       "        <th class=\"col_heading level0 col6\" >node_state</th> \n",
       "        <th class=\"col_heading level0 col7\" >cloud_instance_address</th> \n",
       "        <th class=\"col_heading level0 col8\" >cloud_instance_id</th> \n",
       "        <th class=\"col_heading level0 col9\" >cloud_instance_name</th> \n",
       "        <th class=\"col_heading level0 col10\" >volumes</th> \n",
       "    </tr></thead> \n",
       "<tbody>    <tr> \n",
       "        <th id=\"T_e41fa35a_4acd_11e9_878d_0242ac110002level0_row0\" class=\"row_heading level0 row0\" >0</th> \n",
       "        <td id=\"T_e41fa35a_4acd_11e9_878d_0242ac110002row0_col0\" class=\"data row0 col0\" >139</td> \n",
       "        <td id=\"T_e41fa35a_4acd_11e9_878d_0242ac110002row0_col1\" class=\"data row0 col1\" >handson101</td> \n",
       "        <td id=\"T_e41fa35a_4acd_11e9_878d_0242ac110002row0_col2\" class=\"data row0 col2\" >aws-server</td> \n",
       "        <td id=\"T_e41fa35a_4acd_11e9_878d_0242ac110002row0_col3\" class=\"data row0 col3\" >RUNNING</td> \n",
       "        <td id=\"T_e41fa35a_4acd_11e9_878d_0242ac110002row0_col4\" class=\"data row0 col4\" >1</td> \n",
       "        <td id=\"T_e41fa35a_4acd_11e9_878d_0242ac110002row0_col5\" class=\"data row0 col5\" >f8c1d249...</td> \n",
       "        <td id=\"T_e41fa35a_4acd_11e9_878d_0242ac110002row0_col6\" class=\"data row0 col6\" >RUNNING</td> \n",
       "        <td id=\"T_e41fa35a_4acd_11e9_878d_0242ac110002row0_col7\" class=\"data row0 col7\" >172.30.2.64</td> \n",
       "        <td id=\"T_e41fa35a_4acd_11e9_878d_0242ac110002row0_col8\" class=\"data row0 col8\" >i-033d73dff33071aa3</td> \n",
       "        <td id=\"T_e41fa35a_4acd_11e9_878d_0242ac110002row0_col9\" class=\"data row0 col9\" >VCP-1bfc8971-57c1a012</td> \n",
       "        <td id=\"T_e41fa35a_4acd_11e9_878d_0242ac110002row0_col10\" class=\"data row0 col10\" >none</td> \n",
       "    </tr>    <tr> \n",
       "        <th id=\"T_e41fa35a_4acd_11e9_878d_0242ac110002level0_row1\" class=\"row_heading level0 row1\" >1</th> \n",
       "        <td id=\"T_e41fa35a_4acd_11e9_878d_0242ac110002row1_col0\" class=\"data row1 col0\" >139</td> \n",
       "        <td id=\"T_e41fa35a_4acd_11e9_878d_0242ac110002row1_col1\" class=\"data row1 col1\" >handson101</td> \n",
       "        <td id=\"T_e41fa35a_4acd_11e9_878d_0242ac110002row1_col2\" class=\"data row1 col2\" >aws-server</td> \n",
       "        <td id=\"T_e41fa35a_4acd_11e9_878d_0242ac110002row1_col3\" class=\"data row1 col3\" >RUNNING</td> \n",
       "        <td id=\"T_e41fa35a_4acd_11e9_878d_0242ac110002row1_col4\" class=\"data row1 col4\" >2</td> \n",
       "        <td id=\"T_e41fa35a_4acd_11e9_878d_0242ac110002row1_col5\" class=\"data row1 col5\" >80e9ed2a...</td> \n",
       "        <td id=\"T_e41fa35a_4acd_11e9_878d_0242ac110002row1_col6\" class=\"data row1 col6\" >RUNNING</td> \n",
       "        <td id=\"T_e41fa35a_4acd_11e9_878d_0242ac110002row1_col7\" class=\"data row1 col7\" >172.30.2.103</td> \n",
       "        <td id=\"T_e41fa35a_4acd_11e9_878d_0242ac110002row1_col8\" class=\"data row1 col8\" >i-0b0823d9f2cecc65e</td> \n",
       "        <td id=\"T_e41fa35a_4acd_11e9_878d_0242ac110002row1_col9\" class=\"data row1 col9\" >VCP-1bfc8971-57c1a012</td> \n",
       "        <td id=\"T_e41fa35a_4acd_11e9_878d_0242ac110002row1_col10\" class=\"data row1 col10\" >none</td> \n",
       "    </tr></tbody> \n",
       "</table> "
      ],
      "text/plain": [
       "<pandas.io.formats.style.Styler at 0x7fbc1dff6dd8>"
      ]
     },
     "execution_count": 34,
     "metadata": {},
     "output_type": "execute_result"
    }
   ],
   "source": [
    "unit.df_nodes()"
   ]
  },
  {
   "cell_type": "markdown",
   "metadata": {
    "lc_cell_meme": {
     "current": "aa8fa9a0-4acd-11e9-93c6-0242ac110002",
     "next": "aa8fa9d2-4acd-11e9-93c6-0242ac110002",
     "previous": "aa8fa96e-4acd-11e9-93c6-0242ac110002"
    }
   },
   "source": [
    "起動している全てのVCノードに対して `ping` を行ってみます。"
   ]
  },
  {
   "cell_type": "code",
   "execution_count": 35,
   "metadata": {
    "deletable": false,
    "editable": false,
    "lc_cell_meme": {
     "current": "aa8fa9d2-4acd-11e9-93c6-0242ac110002",
     "next": "aa8faa04-4acd-11e9-93c6-0242ac110002",
     "previous": "aa8fa9a0-4acd-11e9-93c6-0242ac110002"
    },
    "run_through_control": {
     "frozen": true,
     "read_only": false
    },
    "scrolled": true
   },
   "outputs": [
    {
     "name": "stdout",
     "output_type": "stream",
     "text": [
      "['172.30.2.64', '172.30.2.103']\n",
      "PING 172.30.2.64 (172.30.2.64) 56(84) bytes of data.\n",
      "64 bytes from 172.30.2.64: icmp_seq=1 ttl=63 time=0.173 ms\n",
      "64 bytes from 172.30.2.64: icmp_seq=2 ttl=63 time=0.168 ms\n",
      "64 bytes from 172.30.2.64: icmp_seq=3 ttl=63 time=0.162 ms\n",
      "64 bytes from 172.30.2.64: icmp_seq=4 ttl=63 time=0.170 ms\n",
      "64 bytes from 172.30.2.64: icmp_seq=5 ttl=63 time=0.164 ms\n",
      "\n",
      "--- 172.30.2.64 ping statistics ---\n",
      "5 packets transmitted, 5 received, 0% packet loss, time 3996ms\n",
      "rtt min/avg/max/mdev = 0.162/0.167/0.173/0.012 ms\n",
      "\n",
      "PING 172.30.2.103 (172.30.2.103) 56(84) bytes of data.\n",
      "64 bytes from 172.30.2.103: icmp_seq=1 ttl=63 time=0.282 ms\n",
      "64 bytes from 172.30.2.103: icmp_seq=2 ttl=63 time=0.193 ms\n",
      "64 bytes from 172.30.2.103: icmp_seq=3 ttl=63 time=0.212 ms\n",
      "64 bytes from 172.30.2.103: icmp_seq=4 ttl=63 time=0.214 ms\n",
      "64 bytes from 172.30.2.103: icmp_seq=5 ttl=63 time=0.209 ms\n",
      "\n",
      "--- 172.30.2.103 ping statistics ---\n",
      "5 packets transmitted, 5 received, 0% packet loss, time 3999ms\n",
      "rtt min/avg/max/mdev = 0.193/0.222/0.282/0.030 ms\n",
      "\n"
     ]
    }
   ],
   "source": [
    "# Unit内のVCノードのIPアドレスのリストを取得する\n",
    "ip_address = unit.find_ip_addresses()\n",
    "print(ip_address)\n",
    "\n",
    "# それぞれのIPアドレスに対して pingコマンドを実行する\n",
    "for address in ip_address:\n",
    "    !ping -c 5 {address}\n",
    "    print()"
   ]
  },
  {
   "cell_type": "markdown",
   "metadata": {
    "lc_cell_meme": {
     "current": "aa8faa04-4acd-11e9-93c6-0242ac110002",
     "next": "aa8faa36-4acd-11e9-93c6-0242ac110002",
     "previous": "aa8fa9d2-4acd-11e9-93c6-0242ac110002"
    }
   },
   "source": [
    "VCノードを追加したので ~/.ssh/known_hosts を更新します。"
   ]
  },
  {
   "cell_type": "code",
   "execution_count": 36,
   "metadata": {
    "deletable": false,
    "editable": false,
    "lc_cell_meme": {
     "current": "aa8faa36-4acd-11e9-93c6-0242ac110002",
     "next": "aa8faa68-4acd-11e9-93c6-0242ac110002",
     "previous": "aa8faa04-4acd-11e9-93c6-0242ac110002"
    },
    "run_through_control": {
     "frozen": true,
     "read_only": false
    }
   },
   "outputs": [
    {
     "name": "stdout",
     "output_type": "stream",
     "text": [
      "# Host 172.30.2.64 found: line 48 type ED25519\n",
      "# Host 172.30.2.64 found: line 49 type RSA\n",
      "# Host 172.30.2.64 found: line 50 type ECDSA\n",
      "/home/bit_kun/.ssh/known_hosts updated.\n",
      "Original contents retained as /home/bit_kun/.ssh/known_hosts.old\n",
      "# 172.30.2.64 SSH-2.0-OpenSSH_7.4\n",
      "# 172.30.2.64 SSH-2.0-OpenSSH_7.4\n",
      "# 172.30.2.64 SSH-2.0-OpenSSH_7.4\n",
      "/home/bit_kun/.ssh/known_hosts updated.\n",
      "Original contents retained as /home/bit_kun/.ssh/known_hosts.old\n",
      "# 172.30.2.103 SSH-2.0-OpenSSH_7.4\n",
      "# 172.30.2.103 SSH-2.0-OpenSSH_7.4\n",
      "# 172.30.2.103 SSH-2.0-OpenSSH_7.4\n"
     ]
    }
   ],
   "source": [
    "for address in ip_address:\n",
    "    # ~/.ssh/known_hosts から古いホストキーを削除する\n",
    "    !ssh-keygen -R {address}\n",
    "    # ホストキーの登録\n",
    "    !ssh-keyscan -H {address} >> ~/.ssh/known_hosts"
   ]
  },
  {
   "cell_type": "markdown",
   "metadata": {
    "lc_cell_meme": {
     "current": "aa8faa68-4acd-11e9-93c6-0242ac110002",
     "next": "aa8faa9a-4acd-11e9-93c6-0242ac110002",
     "previous": "aa8faa36-4acd-11e9-93c6-0242ac110002"
    }
   },
   "source": [
    "追加で起動した VCノード は同じ Unit に属しているため同じ構成(cpu, memory, disk)になっています。そのことを確認するために、sshでログインして以下のコマンドを実行してみます。\n",
    "\n",
    "* カーネルバージョン\n",
    "  - uname -a\n",
    "* CPU\n",
    "  - cat /proc/cpuinfo\n",
    "* メモリ量\n",
    "  - free\n",
    "* ディスク容量\n",
    "  - df -h\n",
    "  \n",
    "> ただし aws では同じインスタンスタイプに複数種類の CPU が混在していることがあり CPU が微妙に異なることがあります。"
   ]
  },
  {
   "cell_type": "code",
   "execution_count": 37,
   "metadata": {
    "deletable": false,
    "editable": false,
    "lc_cell_meme": {
     "current": "aa8faa9a-4acd-11e9-93c6-0242ac110002",
     "next": "aa8faacc-4acd-11e9-93c6-0242ac110002",
     "previous": "aa8faa68-4acd-11e9-93c6-0242ac110002"
    },
    "run_through_control": {
     "frozen": true,
     "read_only": false
    },
    "scrolled": true
   },
   "outputs": [
    {
     "name": "stdout",
     "output_type": "stream",
     "text": [
      "172.30.2.64:\n",
      "Linux ip-172-30-2-64 4.4.0-67-generic #88-Ubuntu SMP Wed Mar 8 16:34:45 UTC 2017 x86_64 Linux\n",
      "\n",
      "172.30.2.103:\n",
      "Linux ip-172-30-2-103 4.4.0-67-generic #88-Ubuntu SMP Wed Mar 8 16:34:45 UTC 2017 x86_64 Linux\n",
      "\n"
     ]
    }
   ],
   "source": [
    "for address in ip_address:\n",
    "    print(address + ':')\n",
    "    !ssh {ssh_opts} {address} uname -a\n",
    "    print()"
   ]
  },
  {
   "cell_type": "code",
   "execution_count": 38,
   "metadata": {
    "deletable": false,
    "editable": false,
    "lc_cell_meme": {
     "current": "aa8faacc-4acd-11e9-93c6-0242ac110002",
     "next": "aa8faafe-4acd-11e9-93c6-0242ac110002",
     "previous": "aa8faa9a-4acd-11e9-93c6-0242ac110002"
    },
    "run_through_control": {
     "frozen": true,
     "read_only": false
    }
   },
   "outputs": [
    {
     "name": "stdout",
     "output_type": "stream",
     "text": [
      "172.30.2.64:\n",
      "model name\t: Intel(R) Xeon(R) CPU E5-2686 v4 @ 2.30GHz\n",
      "model name\t: Intel(R) Xeon(R) CPU E5-2686 v4 @ 2.30GHz\n",
      "\n",
      "172.30.2.103:\n",
      "model name\t: Intel(R) Xeon(R) CPU E5-2686 v4 @ 2.30GHz\n",
      "model name\t: Intel(R) Xeon(R) CPU E5-2686 v4 @ 2.30GHz\n",
      "\n"
     ]
    }
   ],
   "source": [
    "for address in ip_address:\n",
    "    print(address + ':')\n",
    "    !ssh {ssh_opts} {address} cat /proc/cpuinfo | grep 'model name'\n",
    "    print()"
   ]
  },
  {
   "cell_type": "code",
   "execution_count": 39,
   "metadata": {
    "deletable": false,
    "editable": false,
    "lc_cell_meme": {
     "current": "aa8faafe-4acd-11e9-93c6-0242ac110002",
     "next": "aa8fab30-4acd-11e9-93c6-0242ac110002",
     "previous": "aa8faacc-4acd-11e9-93c6-0242ac110002"
    },
    "run_through_control": {
     "frozen": true,
     "read_only": false
    }
   },
   "outputs": [
    {
     "name": "stdout",
     "output_type": "stream",
     "text": [
      "172.30.2.64:\n",
      "             total       used       free     shared    buffers     cached\n",
      "Mem:       8173656     810368    7363288      12540      42596     509680\n",
      "-/+ buffers/cache:     258092    7915564\n",
      "Swap:            0          0          0\n",
      "\n",
      "172.30.2.103:\n",
      "             total       used       free     shared    buffers     cached\n",
      "Mem:       8173656     742000    7431656      12540      24760     497480\n",
      "-/+ buffers/cache:     219760    7953896\n",
      "Swap:            0          0          0\n",
      "\n"
     ]
    }
   ],
   "source": [
    "for address in ip_address:\n",
    "    print(address + ':')\n",
    "    !ssh {ssh_opts} {address} free\n",
    "    print()"
   ]
  },
  {
   "cell_type": "code",
   "execution_count": 40,
   "metadata": {
    "deletable": false,
    "editable": false,
    "lc_cell_meme": {
     "current": "aa8fab30-4acd-11e9-93c6-0242ac110002",
     "next": "aa8fab62-4acd-11e9-93c6-0242ac110002",
     "previous": "aa8faafe-4acd-11e9-93c6-0242ac110002"
    },
    "run_through_control": {
     "frozen": true,
     "read_only": false
    }
   },
   "outputs": [
    {
     "name": "stdout",
     "output_type": "stream",
     "text": [
      "172.30.2.64:\n",
      "Filesystem                Size      Used Available Use% Mounted on\n",
      "none                     14.6G      1.8G     12.1G  13% /\n",
      "tmpfs                     3.9G         0      3.9G   0% /sys/fs/cgroup\n",
      "udev                      3.9G         0      3.9G   0% /dev\n",
      "tmpfs                    64.0M         0     64.0M   0% /dev/shm\n",
      "/dev/xvda1               14.6G      1.8G     12.1G  13% /etc/resolv.conf\n",
      "/dev/xvda1               14.6G      1.8G     12.1G  13% /etc/hostname\n",
      "/dev/xvda1               14.6G      1.8G     12.1G  13% /etc/hosts\n",
      "shm                      64.0M         0     64.0M   0% /dev/shm\n",
      "/dev/xvda1               14.6G      1.8G     12.1G  13% /var/lib/docker\n",
      "none                      3.9G         0      3.9G   0% /tmp\n",
      "/dev/xvda1               14.6G      1.8G     12.1G  13% /var/lib/docker/aufs\n",
      "\n",
      "172.30.2.103:\n",
      "Filesystem                Size      Used Available Use% Mounted on\n",
      "none                     14.6G      1.8G     12.1G  13% /\n",
      "tmpfs                     3.9G         0      3.9G   0% /sys/fs/cgroup\n",
      "udev                      3.9G         0      3.9G   0% /dev\n",
      "tmpfs                    64.0M         0     64.0M   0% /dev/shm\n",
      "/dev/xvda1               14.6G      1.8G     12.1G  13% /etc/resolv.conf\n",
      "/dev/xvda1               14.6G      1.8G     12.1G  13% /etc/hostname\n",
      "/dev/xvda1               14.6G      1.8G     12.1G  13% /etc/hosts\n",
      "shm                      64.0M         0     64.0M   0% /dev/shm\n",
      "/dev/xvda1               14.6G      1.8G     12.1G  13% /var/lib/docker\n",
      "none                      3.9G         0      3.9G   0% /tmp\n",
      "/dev/xvda1               14.6G      1.8G     12.1G  13% /var/lib/docker/aufs\n",
      "\n"
     ]
    }
   ],
   "source": [
    "for address in ip_address:\n",
    "    print(address + ':')\n",
    "    !ssh {ssh_opts} {address} df -h\n",
    "    print()"
   ]
  },
  {
   "cell_type": "markdown",
   "metadata": {
    "lc_cell_meme": {
     "current": "aa8fab62-4acd-11e9-93c6-0242ac110002",
     "next": "aa8fab94-4acd-11e9-93c6-0242ac110002",
     "previous": "aa8fab30-4acd-11e9-93c6-0242ac110002"
    }
   },
   "source": [
    "先程と同様に、負荷をかけるためにそれぞれのVCノードでアプリケーションコンテナによる stress コマンドの実行を行います。"
   ]
  },
  {
   "cell_type": "code",
   "execution_count": 41,
   "metadata": {
    "deletable": false,
    "editable": false,
    "lc_cell_meme": {
     "current": "aa8fab94-4acd-11e9-93c6-0242ac110002",
     "next": "aa8fabc6-4acd-11e9-93c6-0242ac110002",
     "previous": "aa8fab62-4acd-11e9-93c6-0242ac110002"
    },
    "run_through_control": {
     "frozen": true,
     "read_only": false
    }
   },
   "outputs": [
    {
     "name": "stdout",
     "output_type": "stream",
     "text": [
      "6a9ccb6554735030a03ec6be04a59b6662926e00bc73b7327523ea3204ca4272\n",
      "Unable to find image 'polinux/stress:latest' locally\n",
      "latest: Pulling from polinux/stress\n",
      "627beaf3eaaf: Pulling fs layer\n",
      "4de9f469a6f4: Pulling fs layer\n",
      "627beaf3eaaf: Download complete\n",
      "4de9f469a6f4: Verifying Checksum\n",
      "4de9f469a6f4: Download complete\n",
      "627beaf3eaaf: Pull complete\n",
      "4de9f469a6f4: Pull complete\n",
      "Digest: sha256:6d1825288ddb6b3cec8d3ac8a488c8ec2449334512ecb938483fc2b25cbbdb9a\n",
      "Status: Downloaded newer image for polinux/stress:latest\n",
      "9e0f8ea25bd17b5fad87dea9ea1ca82a65cf66c1d5005126d6c68192c5ca7031\n"
     ]
    }
   ],
   "source": [
    "for idx, address in enumerate(ip_address):\n",
    "    # 60秒間だけ CPU x 2 とメモリ 128 MB を消費する\n",
    "    !ssh {ssh_opts} {address} \\\n",
    "        /usr/local/bin/docker run -td --rm --name stress-{idx} polinux/stress \\\n",
    "        stress --cpu 2 --io 1 --vm 2 --vm-bytes 128M --timeout 60s --verbose"
   ]
  },
  {
   "cell_type": "markdown",
   "metadata": {
    "lc_cell_meme": {
     "current": "aa8fabc6-4acd-11e9-93c6-0242ac110002",
     "next": "aa8fabf8-4acd-11e9-93c6-0242ac110002",
     "previous": "aa8fab94-4acd-11e9-93c6-0242ac110002"
    }
   },
   "source": [
    "[Grafana](/grafana/d/handson/vcp-metrics?refresh=5s)で利用状況を確認してみます。"
   ]
  },
  {
   "cell_type": "markdown",
   "metadata": {
    "lc_cell_meme": {
     "current": "aa8fabf8-4acd-11e9-93c6-0242ac110002",
     "next": "aa8fac2a-4acd-11e9-93c6-0242ac110002",
     "previous": "aa8fabc6-4acd-11e9-93c6-0242ac110002"
    }
   },
   "source": [
    "## VCノードのスケールイン\n",
    "\n",
    "現在Unitには２つのVCノードがありますが、そのうちの一つを削除してみます。"
   ]
  },
  {
   "cell_type": "markdown",
   "metadata": {
    "lc_cell_meme": {
     "current": "aa8fac2a-4acd-11e9-93c6-0242ac110002",
     "next": "aa8fac5c-4acd-11e9-93c6-0242ac110002",
     "previous": "aa8fabf8-4acd-11e9-93c6-0242ac110002"
    }
   },
   "source": [
    "まず、現在のVCノードの状況を確認しておきます。"
   ]
  },
  {
   "cell_type": "code",
   "execution_count": 42,
   "metadata": {
    "deletable": false,
    "editable": false,
    "lc_cell_meme": {
     "current": "aa8fac5c-4acd-11e9-93c6-0242ac110002",
     "next": "aa8fac8e-4acd-11e9-93c6-0242ac110002",
     "previous": "aa8fac2a-4acd-11e9-93c6-0242ac110002"
    },
    "run_through_control": {
     "frozen": true,
     "read_only": false
    },
    "scrolled": true
   },
   "outputs": [
    {
     "data": {
      "text/html": [
       "<style  type=\"text/css\" >\n",
       "    #T_ee89845a_4acd_11e9_878d_0242ac110002row0_col3 {\n",
       "            background-color:  #dfd;\n",
       "        }    #T_ee89845a_4acd_11e9_878d_0242ac110002row0_col6 {\n",
       "            background-color:  #dfd;\n",
       "        }    #T_ee89845a_4acd_11e9_878d_0242ac110002row1_col3 {\n",
       "            background-color:  #dfd;\n",
       "        }    #T_ee89845a_4acd_11e9_878d_0242ac110002row1_col6 {\n",
       "            background-color:  #dfd;\n",
       "        }</style>  \n",
       "<table id=\"T_ee89845a_4acd_11e9_878d_0242ac110002\" > \n",
       "<thead>    <tr> \n",
       "        <th class=\"blank level0\" ></th> \n",
       "        <th class=\"col_heading level0 col0\" >vcno</th> \n",
       "        <th class=\"col_heading level0 col1\" >vcname</th> \n",
       "        <th class=\"col_heading level0 col2\" >unit_name</th> \n",
       "        <th class=\"col_heading level0 col3\" >unit_state</th> \n",
       "        <th class=\"col_heading level0 col4\" >node_no</th> \n",
       "        <th class=\"col_heading level0 col5\" >node_id</th> \n",
       "        <th class=\"col_heading level0 col6\" >node_state</th> \n",
       "        <th class=\"col_heading level0 col7\" >cloud_instance_address</th> \n",
       "        <th class=\"col_heading level0 col8\" >cloud_instance_id</th> \n",
       "        <th class=\"col_heading level0 col9\" >cloud_instance_name</th> \n",
       "        <th class=\"col_heading level0 col10\" >volumes</th> \n",
       "    </tr></thead> \n",
       "<tbody>    <tr> \n",
       "        <th id=\"T_ee89845a_4acd_11e9_878d_0242ac110002level0_row0\" class=\"row_heading level0 row0\" >0</th> \n",
       "        <td id=\"T_ee89845a_4acd_11e9_878d_0242ac110002row0_col0\" class=\"data row0 col0\" >139</td> \n",
       "        <td id=\"T_ee89845a_4acd_11e9_878d_0242ac110002row0_col1\" class=\"data row0 col1\" >handson101</td> \n",
       "        <td id=\"T_ee89845a_4acd_11e9_878d_0242ac110002row0_col2\" class=\"data row0 col2\" >aws-server</td> \n",
       "        <td id=\"T_ee89845a_4acd_11e9_878d_0242ac110002row0_col3\" class=\"data row0 col3\" >RUNNING</td> \n",
       "        <td id=\"T_ee89845a_4acd_11e9_878d_0242ac110002row0_col4\" class=\"data row0 col4\" >1</td> \n",
       "        <td id=\"T_ee89845a_4acd_11e9_878d_0242ac110002row0_col5\" class=\"data row0 col5\" >f8c1d249...</td> \n",
       "        <td id=\"T_ee89845a_4acd_11e9_878d_0242ac110002row0_col6\" class=\"data row0 col6\" >RUNNING</td> \n",
       "        <td id=\"T_ee89845a_4acd_11e9_878d_0242ac110002row0_col7\" class=\"data row0 col7\" >172.30.2.64</td> \n",
       "        <td id=\"T_ee89845a_4acd_11e9_878d_0242ac110002row0_col8\" class=\"data row0 col8\" >i-033d73dff33071aa3</td> \n",
       "        <td id=\"T_ee89845a_4acd_11e9_878d_0242ac110002row0_col9\" class=\"data row0 col9\" >VCP-1bfc8971-57c1a012</td> \n",
       "        <td id=\"T_ee89845a_4acd_11e9_878d_0242ac110002row0_col10\" class=\"data row0 col10\" >none</td> \n",
       "    </tr>    <tr> \n",
       "        <th id=\"T_ee89845a_4acd_11e9_878d_0242ac110002level0_row1\" class=\"row_heading level0 row1\" >1</th> \n",
       "        <td id=\"T_ee89845a_4acd_11e9_878d_0242ac110002row1_col0\" class=\"data row1 col0\" >139</td> \n",
       "        <td id=\"T_ee89845a_4acd_11e9_878d_0242ac110002row1_col1\" class=\"data row1 col1\" >handson101</td> \n",
       "        <td id=\"T_ee89845a_4acd_11e9_878d_0242ac110002row1_col2\" class=\"data row1 col2\" >aws-server</td> \n",
       "        <td id=\"T_ee89845a_4acd_11e9_878d_0242ac110002row1_col3\" class=\"data row1 col3\" >RUNNING</td> \n",
       "        <td id=\"T_ee89845a_4acd_11e9_878d_0242ac110002row1_col4\" class=\"data row1 col4\" >2</td> \n",
       "        <td id=\"T_ee89845a_4acd_11e9_878d_0242ac110002row1_col5\" class=\"data row1 col5\" >80e9ed2a...</td> \n",
       "        <td id=\"T_ee89845a_4acd_11e9_878d_0242ac110002row1_col6\" class=\"data row1 col6\" >RUNNING</td> \n",
       "        <td id=\"T_ee89845a_4acd_11e9_878d_0242ac110002row1_col7\" class=\"data row1 col7\" >172.30.2.103</td> \n",
       "        <td id=\"T_ee89845a_4acd_11e9_878d_0242ac110002row1_col8\" class=\"data row1 col8\" >i-0b0823d9f2cecc65e</td> \n",
       "        <td id=\"T_ee89845a_4acd_11e9_878d_0242ac110002row1_col9\" class=\"data row1 col9\" >VCP-1bfc8971-57c1a012</td> \n",
       "        <td id=\"T_ee89845a_4acd_11e9_878d_0242ac110002row1_col10\" class=\"data row1 col10\" >none</td> \n",
       "    </tr></tbody> \n",
       "</table> "
      ],
      "text/plain": [
       "<pandas.io.formats.style.Styler at 0x7fbc1dff64e0>"
      ]
     },
     "execution_count": 42,
     "metadata": {},
     "output_type": "execute_result"
    }
   ],
   "source": [
    "# VCノードの一覧を DataFrame で表示する\n",
    "unit.df_nodes()"
   ]
  },
  {
   "cell_type": "markdown",
   "metadata": {
    "lc_cell_meme": {
     "current": "aa8fac8e-4acd-11e9-93c6-0242ac110002",
     "next": "aa8facc0-4acd-11e9-93c6-0242ac110002",
     "previous": "aa8fac5c-4acd-11e9-93c6-0242ac110002"
    }
   },
   "source": [
    "Unit から VCノードを削除するにはオブジェクト`unit`に対して `delete_nodes()` を呼び出します。\n",
    "\n",
    "複数の VCノード のうちどのVCノード を削除するかを引数で指定することができます。ここでは`ip_address`パラメータを指定してVCノードに割り当てられている IPアドレスで VCノードを特定します。\n",
    "\n",
    "> VCノードを特定するパラメータが指定されなかった場合は削除対象となる VCノードは VCP SDK によって自動的に選択されます。\n",
    "\n",
    "VCノードを特定するための他のパラメータに指定方法については次のセルを実行すると表示される情報で確認してください。"
   ]
  },
  {
   "cell_type": "code",
   "execution_count": 43,
   "metadata": {
    "deletable": false,
    "editable": false,
    "lc_cell_meme": {
     "current": "aa8facc0-4acd-11e9-93c6-0242ac110002",
     "next": "aa8facf2-4acd-11e9-93c6-0242ac110002",
     "previous": "aa8fac8e-4acd-11e9-93c6-0242ac110002"
    },
    "run_through_control": {
     "frozen": true,
     "read_only": false
    }
   },
   "outputs": [],
   "source": [
    "?unit.delete_nodes"
   ]
  },
  {
   "cell_type": "markdown",
   "metadata": {
    "lc_cell_meme": {
     "current": "aa8facf2-4acd-11e9-93c6-0242ac110002",
     "next": "aa8fad24-4acd-11e9-93c6-0242ac110002",
     "previous": "aa8facc0-4acd-11e9-93c6-0242ac110002"
    }
   },
   "source": [
    "では実際にVCノードを削除します。まず削除対象とするVCノードのIPアドレスを確認します。スケールアウトの節で追加したVCノードのIPアドレスを指定することにします。"
   ]
  },
  {
   "cell_type": "code",
   "execution_count": 44,
   "metadata": {
    "deletable": false,
    "editable": false,
    "lc_cell_meme": {
     "current": "aa8fad24-4acd-11e9-93c6-0242ac110002",
     "next": "aa8fad56-4acd-11e9-93c6-0242ac110002",
     "previous": "aa8facf2-4acd-11e9-93c6-0242ac110002"
    },
    "run_through_control": {
     "frozen": true,
     "read_only": false
    }
   },
   "outputs": [
    {
     "name": "stdout",
     "output_type": "stream",
     "text": [
      "172.30.2.103\n"
     ]
    }
   ],
   "source": [
    "# 削除対象とするVCノードの IPアドレスを表示 \n",
    "print(ip_address[-1])                         # 後から追加した VCノード を削除対象とする"
   ]
  },
  {
   "cell_type": "markdown",
   "metadata": {
    "lc_cell_meme": {
     "current": "aa8fad56-4acd-11e9-93c6-0242ac110002",
     "next": "aa8fad88-4acd-11e9-93c6-0242ac110002",
     "previous": "aa8fad24-4acd-11e9-93c6-0242ac110002"
    }
   },
   "source": [
    "次のセルを実行するとUnit からVCノードが削除され、対応するAWS EC2インスタンスも削除されます。\n",
    "\n",
    "> VCノード の削除には 1分～2分程度かかります。"
   ]
  },
  {
   "cell_type": "code",
   "execution_count": 45,
   "metadata": {
    "deletable": false,
    "editable": false,
    "lc_cell_meme": {
     "current": "aa8fad88-4acd-11e9-93c6-0242ac110002",
     "next": "aa8fadba-4acd-11e9-93c6-0242ac110002",
     "previous": "aa8fad56-4acd-11e9-93c6-0242ac110002"
    },
    "run_through_control": {
     "frozen": true,
     "read_only": false
    },
    "scrolled": true
   },
   "outputs": [
    {
     "name": "stdout",
     "output_type": "stream",
     "text": [
      "2019-03-20 14:06:34,930 - INFO - INDEFINITE ... 0 sec\n",
      "2019-03-20 14:06:40,131 - INFO - INDEFINITE ... 5 sec\n",
      "2019-03-20 14:06:45,329 - INFO - INDEFINITE ... 10 sec\n",
      "2019-03-20 14:06:50,536 - INFO - INDEFINITE ... 15 sec\n",
      "2019-03-20 14:06:55,747 - INFO - INDEFINITE ... 20 sec\n",
      "2019-03-20 14:07:00,956 - INFO - INDEFINITE ... 25 sec\n",
      "2019-03-20 14:07:06,172 - INFO - INDEFINITE ... 30 sec\n",
      "2019-03-20 14:07:11,389 - INFO - INDEFINITE ... 35 sec\n",
      "2019-03-20 14:07:16,601 - INFO - INDEFINITE ... 40 sec\n",
      "2019-03-20 14:07:21,809 - INFO - INDEFINITE ... 45 sec\n",
      "2019-03-20 14:07:27,009 - INFO - INDEFINITE ... 50 sec\n",
      "2019-03-20 14:07:32,224 - INFO - unit aws-server is RUNNING\n",
      "2019-03-20 14:07:32,225 - INFO - a node deleted.\n",
      "2019-03-20 14:07:32,226 - INFO - deleted node(s) completed.\n"
     ]
    },
    {
     "data": {
      "text/plain": [
       "[<vcplib.occtr.VcNode at 0x7fbc1dff6d68>]"
      ]
     },
     "execution_count": 45,
     "metadata": {},
     "output_type": "execute_result"
    }
   ],
   "source": [
    "# VCノードの削除\n",
    "unit.delete_nodes(\n",
    "    ip_address=ip_address[-1]     # IPアドレスで削除対象を指定する\n",
    ")"
   ]
  },
  {
   "cell_type": "markdown",
   "metadata": {
    "lc_cell_meme": {
     "current": "aa8fadba-4acd-11e9-93c6-0242ac110002",
     "next": "aa8fadec-4acd-11e9-93c6-0242ac110002",
     "previous": "aa8fad88-4acd-11e9-93c6-0242ac110002"
    }
   },
   "source": [
    "Unit内のVCノードの一覧を確認してみます。VCノードが減っていることが確認できるはずです。"
   ]
  },
  {
   "cell_type": "code",
   "execution_count": 46,
   "metadata": {
    "deletable": false,
    "editable": false,
    "lc_cell_meme": {
     "current": "aa8fadec-4acd-11e9-93c6-0242ac110002",
     "next": "aa8fae28-4acd-11e9-93c6-0242ac110002",
     "previous": "aa8fadba-4acd-11e9-93c6-0242ac110002"
    },
    "run_through_control": {
     "frozen": true,
     "read_only": false
    },
    "scrolled": false
   },
   "outputs": [
    {
     "data": {
      "text/html": [
       "<style  type=\"text/css\" >\n",
       "    #T_115c972e_4ace_11e9_878d_0242ac110002row0_col3 {\n",
       "            background-color:  #dfd;\n",
       "        }    #T_115c972e_4ace_11e9_878d_0242ac110002row0_col6 {\n",
       "            background-color:  #dfd;\n",
       "        }</style>  \n",
       "<table id=\"T_115c972e_4ace_11e9_878d_0242ac110002\" > \n",
       "<thead>    <tr> \n",
       "        <th class=\"blank level0\" ></th> \n",
       "        <th class=\"col_heading level0 col0\" >vcno</th> \n",
       "        <th class=\"col_heading level0 col1\" >vcname</th> \n",
       "        <th class=\"col_heading level0 col2\" >unit_name</th> \n",
       "        <th class=\"col_heading level0 col3\" >unit_state</th> \n",
       "        <th class=\"col_heading level0 col4\" >node_no</th> \n",
       "        <th class=\"col_heading level0 col5\" >node_id</th> \n",
       "        <th class=\"col_heading level0 col6\" >node_state</th> \n",
       "        <th class=\"col_heading level0 col7\" >cloud_instance_address</th> \n",
       "        <th class=\"col_heading level0 col8\" >cloud_instance_id</th> \n",
       "        <th class=\"col_heading level0 col9\" >cloud_instance_name</th> \n",
       "        <th class=\"col_heading level0 col10\" >volumes</th> \n",
       "    </tr></thead> \n",
       "<tbody>    <tr> \n",
       "        <th id=\"T_115c972e_4ace_11e9_878d_0242ac110002level0_row0\" class=\"row_heading level0 row0\" >0</th> \n",
       "        <td id=\"T_115c972e_4ace_11e9_878d_0242ac110002row0_col0\" class=\"data row0 col0\" >139</td> \n",
       "        <td id=\"T_115c972e_4ace_11e9_878d_0242ac110002row0_col1\" class=\"data row0 col1\" >handson101</td> \n",
       "        <td id=\"T_115c972e_4ace_11e9_878d_0242ac110002row0_col2\" class=\"data row0 col2\" >aws-server</td> \n",
       "        <td id=\"T_115c972e_4ace_11e9_878d_0242ac110002row0_col3\" class=\"data row0 col3\" >RUNNING</td> \n",
       "        <td id=\"T_115c972e_4ace_11e9_878d_0242ac110002row0_col4\" class=\"data row0 col4\" >1</td> \n",
       "        <td id=\"T_115c972e_4ace_11e9_878d_0242ac110002row0_col5\" class=\"data row0 col5\" >f8c1d249...</td> \n",
       "        <td id=\"T_115c972e_4ace_11e9_878d_0242ac110002row0_col6\" class=\"data row0 col6\" >RUNNING</td> \n",
       "        <td id=\"T_115c972e_4ace_11e9_878d_0242ac110002row0_col7\" class=\"data row0 col7\" >172.30.2.64</td> \n",
       "        <td id=\"T_115c972e_4ace_11e9_878d_0242ac110002row0_col8\" class=\"data row0 col8\" >i-033d73dff33071aa3</td> \n",
       "        <td id=\"T_115c972e_4ace_11e9_878d_0242ac110002row0_col9\" class=\"data row0 col9\" >VCP-1bfc8971-57c1a012</td> \n",
       "        <td id=\"T_115c972e_4ace_11e9_878d_0242ac110002row0_col10\" class=\"data row0 col10\" >none</td> \n",
       "    </tr></tbody> \n",
       "</table> "
      ],
      "text/plain": [
       "<pandas.io.formats.style.Styler at 0x7fbc1e041588>"
      ]
     },
     "execution_count": 46,
     "metadata": {},
     "output_type": "execute_result"
    }
   ],
   "source": [
    "unit.df_nodes()"
   ]
  },
  {
   "cell_type": "markdown",
   "metadata": {
    "lc_cell_meme": {
     "current": "aa8fae28-4acd-11e9-93c6-0242ac110002",
     "next": "aa8fae5a-4acd-11e9-93c6-0242ac110002",
     "previous": "aa8fadec-4acd-11e9-93c6-0242ac110002"
    }
   },
   "source": [
    "先ほど取得した２つのVCノードのIPアドレスに対して `ping` を行ってみます。\n",
    "削除されている VCノード に対する `ping` が失敗するので、次のセルは必ずエラーになるはずです。"
   ]
  },
  {
   "cell_type": "code",
   "execution_count": 48,
   "metadata": {
    "lc_cell_meme": {
     "current": "aa8fae5a-4acd-11e9-93c6-0242ac110002",
     "next": "aa8fae8c-4acd-11e9-93c6-0242ac110002",
     "previous": "aa8fae28-4acd-11e9-93c6-0242ac110002"
    }
   },
   "outputs": [
    {
     "name": "stdout",
     "output_type": "stream",
     "text": [
      "PING 172.30.2.64 (172.30.2.64) 56(84) bytes of data.\n",
      "64 bytes from 172.30.2.64: icmp_seq=1 ttl=63 time=0.177 ms\n",
      "64 bytes from 172.30.2.64: icmp_seq=2 ttl=63 time=0.138 ms\n",
      "64 bytes from 172.30.2.64: icmp_seq=3 ttl=63 time=0.165 ms\n",
      "64 bytes from 172.30.2.64: icmp_seq=4 ttl=63 time=0.161 ms\n",
      "64 bytes from 172.30.2.64: icmp_seq=5 ttl=63 time=0.168 ms\n",
      "\n",
      "--- 172.30.2.64 ping statistics ---\n",
      "5 packets transmitted, 5 received, 0% packet loss, time 3998ms\n",
      "rtt min/avg/max/mdev = 0.138/0.161/0.177/0.020 ms\n",
      "PING 172.30.2.103 (172.30.2.103) 56(84) bytes of data.\n",
      "From 172.30.2.200 icmp_seq=1 Destination Host Unreachable\n",
      "From 172.30.2.200 icmp_seq=2 Destination Host Unreachable\n",
      "From 172.30.2.200 icmp_seq=3 Destination Host Unreachable\n",
      "From 172.30.2.200 icmp_seq=4 Destination Host Unreachable\n",
      "From 172.30.2.200 icmp_seq=5 Destination Host Unreachable\n",
      "\n",
      "--- 172.30.2.103 ping statistics ---\n",
      "5 packets transmitted, 0 received, +5 errors, 100% packet loss, time 4024ms\n",
      "pipe 3\n"
     ]
    },
    {
     "ename": "RuntimeError",
     "evalue": "Unexpected exit code: 1",
     "output_type": "error",
     "traceback": [
      "\u001b[0;31m---------------------------------------------------------------------------\u001b[0m",
      "\u001b[0;31mRuntimeError\u001b[0m                              Traceback (most recent call last)",
      "\u001b[0;32m<ipython-input-48-872b43d69686>\u001b[0m in \u001b[0;36m<module>\u001b[0;34m()\u001b[0m\n\u001b[1;32m      1\u001b[0m \u001b[0;32mfor\u001b[0m \u001b[0maddress\u001b[0m \u001b[0;32min\u001b[0m \u001b[0mip_address\u001b[0m\u001b[0;34m:\u001b[0m\u001b[0;34m\u001b[0m\u001b[0m\n\u001b[0;32m----> 2\u001b[0;31m     \u001b[0mget_ipython\u001b[0m\u001b[0;34m(\u001b[0m\u001b[0;34m)\u001b[0m\u001b[0;34m.\u001b[0m\u001b[0msystem\u001b[0m\u001b[0;34m(\u001b[0m\u001b[0;34m'ping -c 5 {address}'\u001b[0m\u001b[0;34m)\u001b[0m\u001b[0;34m\u001b[0m\u001b[0m\n\u001b[0m",
      "\u001b[0;32m~/.ipython/profile_default/startup/10-custom-get_ipython_system.py\u001b[0m in \u001b[0;36m<lambda>\u001b[0;34m(x)\u001b[0m\n\u001b[1;32m      5\u001b[0m \u001b[0;34m\u001b[0m\u001b[0m\n\u001b[1;32m      6\u001b[0m \u001b[0msave_get_ipython_system\u001b[0m \u001b[0;34m=\u001b[0m \u001b[0mget_ipython\u001b[0m\u001b[0;34m(\u001b[0m\u001b[0;34m)\u001b[0m\u001b[0;34m.\u001b[0m\u001b[0msystem\u001b[0m\u001b[0;34m\u001b[0m\u001b[0m\n\u001b[0;32m----> 7\u001b[0;31m \u001b[0mget_ipython\u001b[0m\u001b[0;34m(\u001b[0m\u001b[0;34m)\u001b[0m\u001b[0;34m.\u001b[0m\u001b[0msystem\u001b[0m \u001b[0;34m=\u001b[0m \u001b[0;32mlambda\u001b[0m \u001b[0mx\u001b[0m\u001b[0;34m:\u001b[0m \u001b[0mget_ipython_system\u001b[0m\u001b[0;34m(\u001b[0m\u001b[0mx\u001b[0m\u001b[0;34m)\u001b[0m\u001b[0;34m\u001b[0m\u001b[0m\n\u001b[0m\u001b[1;32m      8\u001b[0m \u001b[0;34m\u001b[0m\u001b[0m\n\u001b[1;32m      9\u001b[0m \u001b[0;31m# interactiveshell.py's system_piped() function comment saids:\u001b[0m\u001b[0;34m\u001b[0m\u001b[0;34m\u001b[0m\u001b[0m\n",
      "\u001b[0;32m~/.ipython/profile_default/startup/10-custom-get_ipython_system.py\u001b[0m in \u001b[0;36mget_ipython_system\u001b[0;34m(_cmd)\u001b[0m\n\u001b[1;32m     13\u001b[0m     \u001b[0msave_get_ipython_system\u001b[0m\u001b[0;34m(\u001b[0m\u001b[0m_cmd\u001b[0m\u001b[0;34m)\u001b[0m\u001b[0;34m\u001b[0m\u001b[0m\n\u001b[1;32m     14\u001b[0m     \u001b[0;32mif\u001b[0m \u001b[0mget_ipython\u001b[0m\u001b[0;34m(\u001b[0m\u001b[0;34m)\u001b[0m\u001b[0;34m.\u001b[0m\u001b[0muser_ns\u001b[0m\u001b[0;34m[\u001b[0m\u001b[0;34m'_exit_code'\u001b[0m\u001b[0;34m]\u001b[0m \u001b[0;34m!=\u001b[0m \u001b[0;36m0\u001b[0m\u001b[0;34m:\u001b[0m\u001b[0;34m\u001b[0m\u001b[0m\n\u001b[0;32m---> 15\u001b[0;31m         \u001b[0;32mraise\u001b[0m \u001b[0mRuntimeError\u001b[0m\u001b[0;34m(\u001b[0m\u001b[0;34m'Unexpected exit code: %d'\u001b[0m \u001b[0;34m%\u001b[0m \u001b[0mget_ipython\u001b[0m\u001b[0;34m(\u001b[0m\u001b[0;34m)\u001b[0m\u001b[0;34m.\u001b[0m\u001b[0muser_ns\u001b[0m\u001b[0;34m[\u001b[0m\u001b[0;34m'_exit_code'\u001b[0m\u001b[0;34m]\u001b[0m\u001b[0;34m)\u001b[0m\u001b[0;34m\u001b[0m\u001b[0m\n\u001b[0m",
      "\u001b[0;31mRuntimeError\u001b[0m: Unexpected exit code: 1"
     ]
    }
   ],
   "source": [
    "for address in ip_address:\n",
    "    !ping -c 5 {address}"
   ]
  },
  {
   "cell_type": "markdown",
   "metadata": {
    "lc_cell_meme": {
     "current": "aa8fae8c-4acd-11e9-93c6-0242ac110002",
     "next": "aa8faebe-4acd-11e9-93c6-0242ac110002",
     "previous": "aa8fae5a-4acd-11e9-93c6-0242ac110002"
    }
   },
   "source": [
    "# 別のクラウド(Microsoft Azure)でVCノードを起動する"
   ]
  },
  {
   "cell_type": "markdown",
   "metadata": {
    "lc_cell_meme": {
     "current": "aa8faebe-4acd-11e9-93c6-0242ac110002",
     "next": "aa8faee6-4acd-11e9-93c6-0242ac110002",
     "previous": "aa8fae8c-4acd-11e9-93c6-0242ac110002"
    }
   },
   "source": [
    "![azure](images/101-005.png)"
   ]
  },
  {
   "cell_type": "markdown",
   "metadata": {
    "lc_cell_meme": {
     "current": "aa8faee6-4acd-11e9-93c6-0242ac110002",
     "next": "aa8faf18-4acd-11e9-93c6-0242ac110002",
     "previous": "aa8faebe-4acd-11e9-93c6-0242ac110002"
    }
   },
   "source": [
    "## Unit の追加"
   ]
  },
  {
   "cell_type": "markdown",
   "metadata": {
    "lc_cell_meme": {
     "current": "aa8faf18-4acd-11e9-93c6-0242ac110002",
     "next": "aa8faf4a-4acd-11e9-93c6-0242ac110002",
     "previous": "aa8faee6-4acd-11e9-93c6-0242ac110002"
    }
   },
   "source": [
    "先程とは異なる構成のVCノードを追加するので、新たな Unit を作成します。"
   ]
  },
  {
   "cell_type": "markdown",
   "metadata": {
    "lc_cell_meme": {
     "current": "aa8faf4a-4acd-11e9-93c6-0242ac110002",
     "next": "aa8faf7c-4acd-11e9-93c6-0242ac110002",
     "previous": "aa8faf18-4acd-11e9-93c6-0242ac110002"
    }
   },
   "source": [
    "### VCノードのspecを指定する"
   ]
  },
  {
   "cell_type": "markdown",
   "metadata": {
    "lc_cell_meme": {
     "current": "aa8faf7c-4acd-11e9-93c6-0242ac110002",
     "next": "aa8fafae-4acd-11e9-93c6-0242ac110002",
     "previous": "aa8faf4a-4acd-11e9-93c6-0242ac110002"
    }
   },
   "source": [
    "awsの場合と同様 `spec` オブジェクトを作成します。"
   ]
  },
  {
   "cell_type": "markdown",
   "metadata": {
    "lc_cell_meme": {
     "current": "aa8fafae-4acd-11e9-93c6-0242ac110002",
     "next": "aa8fafea-4acd-11e9-93c6-0242ac110002",
     "previous": "aa8faf7c-4acd-11e9-93c6-0242ac110002"
    }
   },
   "source": [
    "まずはMicrosoft Azure向け `flavor` の定義内容を確認してみます。"
   ]
  },
  {
   "cell_type": "code",
   "execution_count": 49,
   "metadata": {
    "deletable": false,
    "editable": false,
    "lc_cell_meme": {
     "current": "aa8fafea-4acd-11e9-93c6-0242ac110002",
     "next": "aa8fb01c-4acd-11e9-93c6-0242ac110002",
     "previous": "aa8fafae-4acd-11e9-93c6-0242ac110002"
    },
    "run_through_control": {
     "frozen": true,
     "read_only": false
    }
   },
   "outputs": [
    {
     "data": {
      "text/html": [
       "<div>\n",
       "<style scoped>\n",
       "    .dataframe tbody tr th:only-of-type {\n",
       "        vertical-align: middle;\n",
       "    }\n",
       "\n",
       "    .dataframe tbody tr th {\n",
       "        vertical-align: top;\n",
       "    }\n",
       "\n",
       "    .dataframe thead th {\n",
       "        text-align: right;\n",
       "    }\n",
       "</style>\n",
       "<table border=\"1\" class=\"dataframe\">\n",
       "  <thead>\n",
       "    <tr style=\"text-align: right;\">\n",
       "      <th></th>\n",
       "      <th>flavor</th>\n",
       "      <th>disk_size_gb</th>\n",
       "      <th>managed_disk_type</th>\n",
       "      <th>vm_size</th>\n",
       "    </tr>\n",
       "  </thead>\n",
       "  <tbody>\n",
       "    <tr>\n",
       "      <th>0</th>\n",
       "      <td>small</td>\n",
       "      <td>40</td>\n",
       "      <td>Standard_LRS</td>\n",
       "      <td>Standard_B1s</td>\n",
       "    </tr>\n",
       "    <tr>\n",
       "      <th>1</th>\n",
       "      <td>medium</td>\n",
       "      <td>100</td>\n",
       "      <td>Standard_LRS</td>\n",
       "      <td>Standard_D3_v2</td>\n",
       "    </tr>\n",
       "    <tr>\n",
       "      <th>2</th>\n",
       "      <td>large</td>\n",
       "      <td>100</td>\n",
       "      <td>Premium_LRS</td>\n",
       "      <td>Standard_D4_v2</td>\n",
       "    </tr>\n",
       "  </tbody>\n",
       "</table>\n",
       "</div>"
      ],
      "text/plain": [
       "   flavor  disk_size_gb managed_disk_type         vm_size\n",
       "0   small            40      Standard_LRS    Standard_B1s\n",
       "1  medium           100      Standard_LRS  Standard_D3_v2\n",
       "2   large           100       Premium_LRS  Standard_D4_v2"
      ]
     },
     "execution_count": 49,
     "metadata": {},
     "output_type": "execute_result"
    }
   ],
   "source": [
    "vcp.df_flavors('azure')"
   ]
  },
  {
   "cell_type": "markdown",
   "metadata": {
    "lc_cell_meme": {
     "current": "aa8fb01c-4acd-11e9-93c6-0242ac110002",
     "next": "aa8fb044-4acd-11e9-93c6-0242ac110002",
     "previous": "aa8fafea-4acd-11e9-93c6-0242ac110002"
    }
   },
   "source": [
    "では、以下のパラメータを指定して `spec`オブジェクトを作成します。\n",
    "* プロバイダ: azure\n",
    "* flavor: medium"
   ]
  },
  {
   "cell_type": "code",
   "execution_count": 50,
   "metadata": {
    "deletable": false,
    "editable": false,
    "lc_cell_meme": {
     "current": "aa8fb044-4acd-11e9-93c6-0242ac110002",
     "next": "aa8fb076-4acd-11e9-93c6-0242ac110002",
     "previous": "aa8fb01c-4acd-11e9-93c6-0242ac110002"
    },
    "run_through_control": {
     "frozen": true,
     "read_only": false
    }
   },
   "outputs": [],
   "source": [
    "spec_azure = vcp.get_spec('azure', 'medium')"
   ]
  },
  {
   "cell_type": "markdown",
   "metadata": {
    "lc_cell_meme": {
     "current": "aa8fb076-4acd-11e9-93c6-0242ac110002",
     "next": "aa8fb0a8-4acd-11e9-93c6-0242ac110002",
     "previous": "aa8fb044-4acd-11e9-93c6-0242ac110002"
    }
   },
   "source": [
    "作成した`spec_azure`の設定内容を確認してみます。"
   ]
  },
  {
   "cell_type": "code",
   "execution_count": 51,
   "metadata": {
    "deletable": false,
    "editable": false,
    "lc_cell_meme": {
     "current": "aa8fb0a8-4acd-11e9-93c6-0242ac110002",
     "next": "aa8fb0da-4acd-11e9-93c6-0242ac110002",
     "previous": "aa8fb076-4acd-11e9-93c6-0242ac110002"
    },
    "run_through_control": {
     "frozen": true,
     "read_only": false
    },
    "scrolled": false
   },
   "outputs": [
    {
     "name": "stdout",
     "output_type": "stream",
     "text": [
      "\n",
      "========================\n",
      "azure\n",
      "------------------------\n",
      "\n",
      "    cci_version: \"1.0\"\n",
      "    name: \n",
      "    description: \n",
      "    private_network: default\n",
      "    num_nodes: 1\n",
      "    image: vcp/base:1.4\n",
      "    recovery_mode: none\n",
      "    params:\n",
      "        {'v': [], 'e': []}\n",
      "\n",
      "        vm_size: Standard_D3_v2\n",
      "        disk_size_gb: 100\n",
      "        managed_disk_type: Standard_LRS\n",
      "        ext_managed_disk: []\n",
      "        cloud_image: default\n",
      "        ip_address_list: []\n",
      "    tags: \n",
      "        tags: {}\n",
      "========================\n"
     ]
    }
   ],
   "source": [
    "print(spec_azure)"
   ]
  },
  {
   "cell_type": "markdown",
   "metadata": {
    "lc_cell_meme": {
     "current": "aa8fb0da-4acd-11e9-93c6-0242ac110002",
     "next": "aa8fb10c-4acd-11e9-93c6-0242ac110002",
     "previous": "aa8fb0a8-4acd-11e9-93c6-0242ac110002"
    }
   },
   "source": [
    "指定した `flavor`に対応する `vm_size`, `disk_size_gb` などが設定されていることが確認できます。"
   ]
  },
  {
   "cell_type": "markdown",
   "metadata": {
    "lc_cell_meme": {
     "current": "aa8fb10c-4acd-11e9-93c6-0242ac110002",
     "next": "aa8fb13e-4acd-11e9-93c6-0242ac110002",
     "previous": "aa8fb0da-4acd-11e9-93c6-0242ac110002"
    }
   },
   "source": [
    "### sshの公開鍵設定"
   ]
  },
  {
   "cell_type": "markdown",
   "metadata": {
    "lc_cell_meme": {
     "current": "aa8fb13e-4acd-11e9-93c6-0242ac110002",
     "next": "aa8fb17a-4acd-11e9-93c6-0242ac110002",
     "previous": "aa8fb10c-4acd-11e9-93c6-0242ac110002"
    }
   },
   "source": [
    "VCノードに登録するsshの公開鍵を `spec_azure`に設定します。先ほど aws 向けの`spec`に設定したのと同じ値を指定しています。"
   ]
  },
  {
   "cell_type": "code",
   "execution_count": 52,
   "metadata": {
    "deletable": false,
    "editable": false,
    "lc_cell_meme": {
     "current": "aa8fb17a-4acd-11e9-93c6-0242ac110002",
     "next": "aa8fb1b6-4acd-11e9-93c6-0242ac110002",
     "previous": "aa8fb13e-4acd-11e9-93c6-0242ac110002"
    },
    "run_through_control": {
     "frozen": true,
     "read_only": false
    }
   },
   "outputs": [],
   "source": [
    "spec_azure.set_ssh_pubkey(ssh_public_key)"
   ]
  },
  {
   "cell_type": "markdown",
   "metadata": {
    "lc_cell_meme": {
     "current": "aa8fb1b6-4acd-11e9-93c6-0242ac110002",
     "next": "aa8fb1e8-4acd-11e9-93c6-0242ac110002",
     "previous": "aa8fb17a-4acd-11e9-93c6-0242ac110002"
    }
   },
   "source": [
    "### specの設定内容を確認する\n",
    "\n",
    "`spec_azure`の設定内容を確認してみます。"
   ]
  },
  {
   "cell_type": "code",
   "execution_count": 53,
   "metadata": {
    "deletable": false,
    "editable": false,
    "lc_cell_meme": {
     "current": "aa8fb1e8-4acd-11e9-93c6-0242ac110002",
     "next": "aa8fb21a-4acd-11e9-93c6-0242ac110002",
     "previous": "aa8fb1b6-4acd-11e9-93c6-0242ac110002"
    },
    "run_through_control": {
     "frozen": true,
     "read_only": false
    },
    "scrolled": false
   },
   "outputs": [
    {
     "name": "stdout",
     "output_type": "stream",
     "text": [
      "\n",
      "========================\n",
      "azure\n",
      "------------------------\n",
      "\n",
      "    cci_version: \"1.0\"\n",
      "    name: \n",
      "    description: \n",
      "    private_network: default\n",
      "    num_nodes: 1\n",
      "    image: vcp/base:1.4\n",
      "    recovery_mode: none\n",
      "    params:\n",
      "        {'v': [], 'e': ['AUTHORIZED_KEYS=c3NoLXJzYSBBQUFBQjNOemFDMXljMkVBQUFBREFRQUJBQUFCQVFEYTh3TlJ0cW5Eck5RbXdod3dWZ21LendwUlYwRnZORzkzU0JjTXJ5WEo2VXpHYTcxTXgxSE5qdnRORlczM3d4bUlLQ0EreUxWSzQyZUdaQWY4QzgzZWRXMkJEdkVhZExDaTR3T0Z6ZzhNbHlNblBFVHBhRmlKMzRSV08xU2xTYTMvZlVxUjJ0SXV1bzRTdmk4SVF5V3V3Z0dTcXlJblpITkNkdDBma3RBMG5FVVRkYVVpdm1iQUxWSWNuNlVCNmpQL0pESDJENmNFNUo0ZjVNckQ1eU1CZzVLZVhreFpwWnRiQlpCK1UyTXlCdVlIeTdGT1AyMWViQ2ovWVZianpJdTFLVVpGZDFkdDBJVjJIT1pqOVJYTzRFUCtpOHJBTlFwcVA4RjBuUE1LNXcwUXNBUEk1RjlSVUFUM051aEZ6SkVCTE9sV1VyRG02WHg4S3puaWpHZnIgYml0X2t1bkBiMTJkNjJhODQ3MWEK']}\n",
      "\n",
      "        vm_size: Standard_D3_v2\n",
      "        disk_size_gb: 100\n",
      "        managed_disk_type: Standard_LRS\n",
      "        ext_managed_disk: []\n",
      "        cloud_image: default\n",
      "        ip_address_list: []\n",
      "    tags: \n",
      "        tags: {}\n",
      "========================\n"
     ]
    }
   ],
   "source": [
    "print(spec_azure)"
   ]
  },
  {
   "cell_type": "markdown",
   "metadata": {
    "lc_cell_meme": {
     "current": "aa8fb21a-4acd-11e9-93c6-0242ac110002",
     "next": "aa8fb24c-4acd-11e9-93c6-0242ac110002",
     "previous": "aa8fb1e8-4acd-11e9-93c6-0242ac110002"
    }
   },
   "source": [
    "aws向けに最初に作成した `spec`オブジェクトと`spec_azure`との差分を確認してみます。\n",
    "\n",
    "> `spec`オブジェクトの内部では aws は `instance_type`、azure は`vm_size` などそれぞれのクラウドプロバイダに応じたパラメータが設定されていることが確認できます。"
   ]
  },
  {
   "cell_type": "code",
   "execution_count": 54,
   "metadata": {
    "deletable": false,
    "editable": false,
    "lc_cell_meme": {
     "current": "aa8fb24c-4acd-11e9-93c6-0242ac110002",
     "next": "aa8fb27e-4acd-11e9-93c6-0242ac110002",
     "previous": "aa8fb21a-4acd-11e9-93c6-0242ac110002"
    },
    "run_through_control": {
     "frozen": true,
     "read_only": false
    },
    "scrolled": true
   },
   "outputs": [
    {
     "name": "stdout",
     "output_type": "stream",
     "text": [
      "--- aws\n",
      "+++ azure\n",
      "@@ -1,10 +1,10 @@\n",
      " \n",
      " ========================\n",
      "-aws\n",
      "+azure\n",
      " ------------------------\n",
      " \n",
      "     cci_version: \"1.0\"\n",
      "-    name: aws-server\n",
      "+    name: \n",
      "     description: \n",
      "     private_network: default\n",
      "     num_nodes: 1\n",
      "@@ -12,10 +12,13 @@\n",
      "     recovery_mode: none\n",
      "     params:\n",
      "         {'v': [], 'e': ['AUTHORIZED_KEYS=c3NoLXJzYSBBQUFBQjNOemFDMXljMkVBQUFBREFRQUJBQUFCQVFEYTh3TlJ0cW5Eck5RbXdod3dWZ21LendwUlYwRnZORzkzU0JjTXJ5WEo2VXpHYTcxTXgxSE5qdnRORlczM3d4bUlLQ0EreUxWSzQyZUdaQWY4QzgzZWRXMkJEdkVhZExDaTR3T0Z6ZzhNbHlNblBFVHBhRmlKMzRSV08xU2xTYTMvZlVxUjJ0SXV1bzRTdmk4SVF5V3V3Z0dTcXlJblpITkNkdDBma3RBMG5FVVRkYVVpdm1iQUxWSWNuNlVCNmpQL0pESDJENmNFNUo0ZjVNckQ1eU1CZzVLZVhreFpwWnRiQlpCK1UyTXlCdVlIeTdGT1AyMWViQ2ovWVZianpJdTFLVVpGZDFkdDBJVjJIT1pqOVJYTzRFUCtpOHJBTlFwcVA4RjBuUE1LNXcwUXNBUEk1RjlSVUFUM051aEZ6SkVCTE9sV1VyRG02WHg4S3puaWpHZnIgYml0X2t1bkBiMTJkNjJhODQ3MWEK']}\n",
      "-    instance_type: m4.large\n",
      "-    volume_size: 15\n",
      "-    volume_type: standard\n",
      "-    volume_id: []\n",
      "-    cloud_image: default\n",
      "-    tags: {}\n",
      "+\n",
      "+        vm_size: Standard_D3_v2\n",
      "+        disk_size_gb: 100\n",
      "+        managed_disk_type: Standard_LRS\n",
      "+        ext_managed_disk: []\n",
      "+        cloud_image: default\n",
      "+        ip_address_list: []\n",
      "+    tags: \n",
      "+        tags: {}\n",
      " ========================"
     ]
    }
   ],
   "source": [
    "from difflib import unified_diff\n",
    "import sys\n",
    "\n",
    "sys.stdout.writelines(unified_diff(\n",
    "    str(spec).splitlines(True),\n",
    "    str(spec_azure).splitlines(True),\n",
    "    fromfile='aws',\n",
    "    tofile='azure',\n",
    "))"
   ]
  },
  {
   "cell_type": "markdown",
   "metadata": {
    "lc_cell_meme": {
     "current": "aa8fb27e-4acd-11e9-93c6-0242ac110002",
     "next": "aa8fb2b0-4acd-11e9-93c6-0242ac110002",
     "previous": "aa8fb24c-4acd-11e9-93c6-0242ac110002"
    }
   },
   "source": [
    "### Unitの作成とVCノードの起動"
   ]
  },
  {
   "cell_type": "markdown",
   "metadata": {
    "lc_cell_meme": {
     "current": "aa8fb2b0-4acd-11e9-93c6-0242ac110002",
     "next": "aa8fb2e2-4acd-11e9-93c6-0242ac110002",
     "previous": "aa8fb27e-4acd-11e9-93c6-0242ac110002"
    }
   },
   "source": [
    "まず作成前のUnitGroup状態を確認しておきます。"
   ]
  },
  {
   "cell_type": "code",
   "execution_count": 55,
   "metadata": {
    "deletable": false,
    "editable": false,
    "lc_cell_meme": {
     "current": "aa8fb2e2-4acd-11e9-93c6-0242ac110002",
     "next": "aa8fb314-4acd-11e9-93c6-0242ac110002",
     "previous": "aa8fb2b0-4acd-11e9-93c6-0242ac110002"
    },
    "run_through_control": {
     "frozen": true,
     "read_only": false
    }
   },
   "outputs": [
    {
     "data": {
      "text/html": [
       "<div>\n",
       "<style scoped>\n",
       "    .dataframe tbody tr th:only-of-type {\n",
       "        vertical-align: middle;\n",
       "    }\n",
       "\n",
       "    .dataframe tbody tr th {\n",
       "        vertical-align: top;\n",
       "    }\n",
       "\n",
       "    .dataframe thead th {\n",
       "        text-align: right;\n",
       "    }\n",
       "</style>\n",
       "<table border=\"1\" class=\"dataframe\">\n",
       "  <thead>\n",
       "    <tr style=\"text-align: right;\">\n",
       "      <th></th>\n",
       "      <th>vctype</th>\n",
       "      <th>vcno</th>\n",
       "      <th>vcname</th>\n",
       "      <th>vc_state</th>\n",
       "      <th>vcid</th>\n",
       "      <th>cdate</th>\n",
       "      <th>unit_name</th>\n",
       "      <th>unit_state</th>\n",
       "    </tr>\n",
       "  </thead>\n",
       "  <tbody>\n",
       "    <tr>\n",
       "      <th>0</th>\n",
       "      <td>compute</td>\n",
       "      <td>139</td>\n",
       "      <td>handson101</td>\n",
       "      <td>RUNNING</td>\n",
       "      <td>57c1a012...</td>\n",
       "      <td>2019/03/20 05:01:40 UTC</td>\n",
       "      <td>aws-server</td>\n",
       "      <td>RUNNING</td>\n",
       "    </tr>\n",
       "  </tbody>\n",
       "</table>\n",
       "</div>"
      ],
      "text/plain": [
       "    vctype  vcno      vcname vc_state         vcid                    cdate  \\\n",
       "0  compute   139  handson101  RUNNING  57c1a012...  2019/03/20 05:01:40 UTC   \n",
       "\n",
       "    unit_name unit_state  \n",
       "0  aws-server    RUNNING  "
      ]
     },
     "metadata": {},
     "output_type": "display_data"
    },
    {
     "data": {
      "text/html": [
       "<style  type=\"text/css\" >\n",
       "    #T_0d2339f0_4acf_11e9_878d_0242ac110002row0_col3 {\n",
       "            background-color:  #dfd;\n",
       "        }    #T_0d2339f0_4acf_11e9_878d_0242ac110002row0_col6 {\n",
       "            background-color:  #dfd;\n",
       "        }</style>  \n",
       "<table id=\"T_0d2339f0_4acf_11e9_878d_0242ac110002\" > \n",
       "<thead>    <tr> \n",
       "        <th class=\"blank level0\" ></th> \n",
       "        <th class=\"col_heading level0 col0\" >vcno</th> \n",
       "        <th class=\"col_heading level0 col1\" >vcname</th> \n",
       "        <th class=\"col_heading level0 col2\" >unit_name</th> \n",
       "        <th class=\"col_heading level0 col3\" >unit_state</th> \n",
       "        <th class=\"col_heading level0 col4\" >node_no</th> \n",
       "        <th class=\"col_heading level0 col5\" >node_id</th> \n",
       "        <th class=\"col_heading level0 col6\" >node_state</th> \n",
       "        <th class=\"col_heading level0 col7\" >cloud_instance_address</th> \n",
       "        <th class=\"col_heading level0 col8\" >cloud_instance_id</th> \n",
       "        <th class=\"col_heading level0 col9\" >cloud_instance_name</th> \n",
       "        <th class=\"col_heading level0 col10\" >volumes</th> \n",
       "    </tr></thead> \n",
       "<tbody>    <tr> \n",
       "        <th id=\"T_0d2339f0_4acf_11e9_878d_0242ac110002level0_row0\" class=\"row_heading level0 row0\" >0</th> \n",
       "        <td id=\"T_0d2339f0_4acf_11e9_878d_0242ac110002row0_col0\" class=\"data row0 col0\" >139</td> \n",
       "        <td id=\"T_0d2339f0_4acf_11e9_878d_0242ac110002row0_col1\" class=\"data row0 col1\" >handson101</td> \n",
       "        <td id=\"T_0d2339f0_4acf_11e9_878d_0242ac110002row0_col2\" class=\"data row0 col2\" >aws-server</td> \n",
       "        <td id=\"T_0d2339f0_4acf_11e9_878d_0242ac110002row0_col3\" class=\"data row0 col3\" >RUNNING</td> \n",
       "        <td id=\"T_0d2339f0_4acf_11e9_878d_0242ac110002row0_col4\" class=\"data row0 col4\" >1</td> \n",
       "        <td id=\"T_0d2339f0_4acf_11e9_878d_0242ac110002row0_col5\" class=\"data row0 col5\" >f8c1d249...</td> \n",
       "        <td id=\"T_0d2339f0_4acf_11e9_878d_0242ac110002row0_col6\" class=\"data row0 col6\" >RUNNING</td> \n",
       "        <td id=\"T_0d2339f0_4acf_11e9_878d_0242ac110002row0_col7\" class=\"data row0 col7\" >172.30.2.64</td> \n",
       "        <td id=\"T_0d2339f0_4acf_11e9_878d_0242ac110002row0_col8\" class=\"data row0 col8\" >i-033d73dff33071aa3</td> \n",
       "        <td id=\"T_0d2339f0_4acf_11e9_878d_0242ac110002row0_col9\" class=\"data row0 col9\" >VCP-1bfc8971-57c1a012</td> \n",
       "        <td id=\"T_0d2339f0_4acf_11e9_878d_0242ac110002row0_col10\" class=\"data row0 col10\" >none</td> \n",
       "    </tr></tbody> \n",
       "</table> "
      ],
      "text/plain": [
       "<pandas.io.formats.style.Styler at 0x7fbc1dff0e10>"
      ]
     },
     "metadata": {},
     "output_type": "display_data"
    }
   ],
   "source": [
    "from IPython.display import display\n",
    "\n",
    "# Unitの一覧を DataFrame で表示する\n",
    "display(unit_group.df_units())\n",
    "\n",
    "# VCノードの一覧を DataFrame で表示する\n",
    "display(unit_group.df_nodes())"
   ]
  },
  {
   "cell_type": "markdown",
   "metadata": {
    "lc_cell_meme": {
     "current": "aa8fb314-4acd-11e9-93c6-0242ac110002",
     "next": "aa8fb346-4acd-11e9-93c6-0242ac110002",
     "previous": "aa8fb2e2-4acd-11e9-93c6-0242ac110002"
    }
   },
   "source": [
    "Unitを作成します。\n",
    "\n",
    "> 処理が完了するまでには 2～5分程度かかります。"
   ]
  },
  {
   "cell_type": "code",
   "execution_count": 56,
   "metadata": {
    "deletable": false,
    "editable": false,
    "lc_cell_meme": {
     "current": "aa8fb346-4acd-11e9-93c6-0242ac110002",
     "next": "aa8fb378-4acd-11e9-93c6-0242ac110002",
     "previous": "aa8fb314-4acd-11e9-93c6-0242ac110002"
    },
    "run_through_control": {
     "frozen": true,
     "read_only": false
    },
    "scrolled": true
   },
   "outputs": [
    {
     "name": "stdout",
     "output_type": "stream",
     "text": [
      "2019-03-20 14:14:39,552 - INFO - BOOTING ... 0 sec\n",
      "2019-03-20 14:14:44,792 - INFO - BOOTING ... 5 sec\n",
      "2019-03-20 14:14:50,028 - INFO - BOOTING ... 10 sec\n",
      "2019-03-20 14:14:55,258 - INFO - BOOTING ... 15 sec\n",
      "2019-03-20 14:15:00,492 - INFO - BOOTING ... 20 sec\n",
      "2019-03-20 14:15:05,723 - INFO - BOOTING ... 25 sec\n",
      "2019-03-20 14:15:10,975 - INFO - BOOTING ... 30 sec\n",
      "2019-03-20 14:15:16,210 - INFO - BOOTING ... 35 sec\n",
      "2019-03-20 14:15:21,440 - INFO - BOOTING ... 40 sec\n",
      "2019-03-20 14:15:26,669 - INFO - BOOTING ... 45 sec\n",
      "2019-03-20 14:15:31,909 - INFO - BOOTING ... 50 sec\n",
      "2019-03-20 14:15:37,163 - INFO - BOOTING ... 55 sec\n",
      "2019-03-20 14:15:42,401 - INFO - BOOTING ... 60 sec\n",
      "2019-03-20 14:15:47,629 - INFO - BOOTING ... 65 sec\n",
      "2019-03-20 14:15:52,858 - INFO - BOOTING ... 70 sec\n",
      "2019-03-20 14:15:58,088 - INFO - BOOTING ... 75 sec\n",
      "2019-03-20 14:16:03,321 - INFO - BOOTING ... 80 sec\n",
      "2019-03-20 14:16:08,557 - INFO - BOOTING ... 85 sec\n",
      "2019-03-20 14:16:13,804 - INFO - BOOTING ... 90 sec\n",
      "2019-03-20 14:16:19,029 - INFO - BOOTING ... 95 sec\n",
      "2019-03-20 14:16:24,256 - INFO - BOOTING ... 100 sec\n",
      "2019-03-20 14:16:29,499 - INFO - BOOTING ... 105 sec\n",
      "2019-03-20 14:16:34,730 - INFO - BOOTING ... 110 sec\n",
      "2019-03-20 14:16:39,963 - INFO - BOOTING ... 115 sec\n",
      "2019-03-20 14:16:45,197 - INFO - BOOTING ... 120 sec\n",
      "2019-03-20 14:16:50,429 - INFO - BOOTING ... 125 sec\n",
      "2019-03-20 14:16:55,664 - INFO - BOOTING ... 130 sec\n",
      "2019-03-20 14:17:00,896 - INFO - BOOTING ... 135 sec\n",
      "2019-03-20 14:17:06,126 - INFO - BOOTING ... 140 sec\n",
      "2019-03-20 14:17:11,366 - INFO - BOOTING ... 145 sec\n",
      "2019-03-20 14:17:16,610 - INFO - BOOTING ... 150 sec\n",
      "2019-03-20 14:17:21,853 - INFO - BOOTING ... 155 sec\n",
      "2019-03-20 14:17:27,078 - INFO - BOOTING ... 160 sec\n",
      "2019-03-20 14:17:32,310 - INFO - BOOTING ... 165 sec\n",
      "2019-03-20 14:17:37,539 - INFO - BOOTING ... 170 sec\n",
      "2019-03-20 14:17:42,776 - INFO - BOOTING ... 175 sec\n",
      "2019-03-20 14:17:48,012 - INFO - BOOTING ... 180 sec\n",
      "2019-03-20 14:17:53,243 - INFO - BOOTING ... 185 sec\n",
      "2019-03-20 14:17:58,484 - INFO - BOOTING ... 190 sec\n",
      "2019-03-20 14:18:03,717 - INFO - BOOTING ... 195 sec\n",
      "2019-03-20 14:18:08,945 - INFO - BOOTING ... 200 sec\n",
      "2019-03-20 14:18:14,197 - INFO - BOOTING ... 205 sec\n",
      "2019-03-20 14:18:19,430 - INFO - BOOTING ... 210 sec\n",
      "2019-03-20 14:18:24,664 - INFO - BOOTING ... 215 sec\n",
      "2019-03-20 14:18:29,904 - INFO - BOOTING ... 220 sec\n",
      "2019-03-20 14:18:35,149 - INFO - BOOTING ... 225 sec\n",
      "2019-03-20 14:18:40,409 - INFO - BOOTING ... 230 sec\n",
      "2019-03-20 14:18:45,657 - INFO - unit azure-server is RUNNING\n"
     ]
    }
   ],
   "source": [
    "# Unitの作成（同時に VCノードが作成される）\n",
    "unit2 = unit_group.create_unit(\n",
    "            'azure-server',    # Unit 名\n",
    "            spec_azure         # spec オブジェクト\n",
    "        )"
   ]
  },
  {
   "cell_type": "markdown",
   "metadata": {
    "lc_cell_meme": {
     "current": "aa8fb378-4acd-11e9-93c6-0242ac110002",
     "next": "aa8fb3aa-4acd-11e9-93c6-0242ac110002",
     "previous": "aa8fb346-4acd-11e9-93c6-0242ac110002"
    }
   },
   "source": [
    "Unit作成後の状態を確認します。Unit とVCノードがそれぞれ２つあることが確認できるはずです。VCノード一覧ではそれぞれのVCノードの unit_name が異なることが確認できるはずです。またawsとazureのVCノードには**異なるサブネット**のIPアドレスが割り当てられていることが確認できます。\n",
    "\n",
    "> 各プロバイダにどのようなサブネットを割り当てているのかについては[VCP Manager Web UI](https://vcpdev.ecloud.nii.ac.jp/vcp/v1/ui/occmgr/menu/occtrs) で確認ができます。"
   ]
  },
  {
   "cell_type": "code",
   "execution_count": 57,
   "metadata": {
    "deletable": false,
    "editable": false,
    "lc_cell_meme": {
     "current": "aa8fb3aa-4acd-11e9-93c6-0242ac110002",
     "next": "aa8fb3dc-4acd-11e9-93c6-0242ac110002",
     "previous": "aa8fb378-4acd-11e9-93c6-0242ac110002"
    },
    "run_through_control": {
     "frozen": true,
     "read_only": false
    }
   },
   "outputs": [
    {
     "data": {
      "text/html": [
       "<div>\n",
       "<style scoped>\n",
       "    .dataframe tbody tr th:only-of-type {\n",
       "        vertical-align: middle;\n",
       "    }\n",
       "\n",
       "    .dataframe tbody tr th {\n",
       "        vertical-align: top;\n",
       "    }\n",
       "\n",
       "    .dataframe thead th {\n",
       "        text-align: right;\n",
       "    }\n",
       "</style>\n",
       "<table border=\"1\" class=\"dataframe\">\n",
       "  <thead>\n",
       "    <tr style=\"text-align: right;\">\n",
       "      <th></th>\n",
       "      <th>vctype</th>\n",
       "      <th>vcno</th>\n",
       "      <th>vcname</th>\n",
       "      <th>vc_state</th>\n",
       "      <th>vcid</th>\n",
       "      <th>cdate</th>\n",
       "      <th>unit_name</th>\n",
       "      <th>unit_state</th>\n",
       "    </tr>\n",
       "  </thead>\n",
       "  <tbody>\n",
       "    <tr>\n",
       "      <th>0</th>\n",
       "      <td>compute</td>\n",
       "      <td>139</td>\n",
       "      <td>handson101</td>\n",
       "      <td>RUNNING</td>\n",
       "      <td>57c1a012...</td>\n",
       "      <td>2019/03/20 05:01:40 UTC</td>\n",
       "      <td>aws-server</td>\n",
       "      <td>RUNNING</td>\n",
       "    </tr>\n",
       "    <tr>\n",
       "      <th>1</th>\n",
       "      <td>compute</td>\n",
       "      <td>139</td>\n",
       "      <td>handson101</td>\n",
       "      <td>RUNNING</td>\n",
       "      <td>57c1a012...</td>\n",
       "      <td>2019/03/20 05:01:40 UTC</td>\n",
       "      <td>azure-server</td>\n",
       "      <td>RUNNING</td>\n",
       "    </tr>\n",
       "  </tbody>\n",
       "</table>\n",
       "</div>"
      ],
      "text/plain": [
       "    vctype  vcno      vcname vc_state         vcid                    cdate  \\\n",
       "0  compute   139  handson101  RUNNING  57c1a012...  2019/03/20 05:01:40 UTC   \n",
       "1  compute   139  handson101  RUNNING  57c1a012...  2019/03/20 05:01:40 UTC   \n",
       "\n",
       "      unit_name unit_state  \n",
       "0    aws-server    RUNNING  \n",
       "1  azure-server    RUNNING  "
      ]
     },
     "metadata": {},
     "output_type": "display_data"
    },
    {
     "data": {
      "text/html": [
       "<style  type=\"text/css\" >\n",
       "    #T_a2f5fbe8_4acf_11e9_878d_0242ac110002row0_col3 {\n",
       "            background-color:  #dfd;\n",
       "        }    #T_a2f5fbe8_4acf_11e9_878d_0242ac110002row0_col6 {\n",
       "            background-color:  #dfd;\n",
       "        }    #T_a2f5fbe8_4acf_11e9_878d_0242ac110002row1_col3 {\n",
       "            background-color:  #dfd;\n",
       "        }    #T_a2f5fbe8_4acf_11e9_878d_0242ac110002row1_col6 {\n",
       "            background-color:  #dfd;\n",
       "        }</style>  \n",
       "<table id=\"T_a2f5fbe8_4acf_11e9_878d_0242ac110002\" > \n",
       "<thead>    <tr> \n",
       "        <th class=\"blank level0\" ></th> \n",
       "        <th class=\"col_heading level0 col0\" >vcno</th> \n",
       "        <th class=\"col_heading level0 col1\" >vcname</th> \n",
       "        <th class=\"col_heading level0 col2\" >unit_name</th> \n",
       "        <th class=\"col_heading level0 col3\" >unit_state</th> \n",
       "        <th class=\"col_heading level0 col4\" >node_no</th> \n",
       "        <th class=\"col_heading level0 col5\" >node_id</th> \n",
       "        <th class=\"col_heading level0 col6\" >node_state</th> \n",
       "        <th class=\"col_heading level0 col7\" >cloud_instance_address</th> \n",
       "        <th class=\"col_heading level0 col8\" >cloud_instance_id</th> \n",
       "        <th class=\"col_heading level0 col9\" >cloud_instance_name</th> \n",
       "        <th class=\"col_heading level0 col10\" >volumes</th> \n",
       "    </tr></thead> \n",
       "<tbody>    <tr> \n",
       "        <th id=\"T_a2f5fbe8_4acf_11e9_878d_0242ac110002level0_row0\" class=\"row_heading level0 row0\" >0</th> \n",
       "        <td id=\"T_a2f5fbe8_4acf_11e9_878d_0242ac110002row0_col0\" class=\"data row0 col0\" >139</td> \n",
       "        <td id=\"T_a2f5fbe8_4acf_11e9_878d_0242ac110002row0_col1\" class=\"data row0 col1\" >handson101</td> \n",
       "        <td id=\"T_a2f5fbe8_4acf_11e9_878d_0242ac110002row0_col2\" class=\"data row0 col2\" >aws-server</td> \n",
       "        <td id=\"T_a2f5fbe8_4acf_11e9_878d_0242ac110002row0_col3\" class=\"data row0 col3\" >RUNNING</td> \n",
       "        <td id=\"T_a2f5fbe8_4acf_11e9_878d_0242ac110002row0_col4\" class=\"data row0 col4\" >1</td> \n",
       "        <td id=\"T_a2f5fbe8_4acf_11e9_878d_0242ac110002row0_col5\" class=\"data row0 col5\" >f8c1d249...</td> \n",
       "        <td id=\"T_a2f5fbe8_4acf_11e9_878d_0242ac110002row0_col6\" class=\"data row0 col6\" >RUNNING</td> \n",
       "        <td id=\"T_a2f5fbe8_4acf_11e9_878d_0242ac110002row0_col7\" class=\"data row0 col7\" >172.30.2.64</td> \n",
       "        <td id=\"T_a2f5fbe8_4acf_11e9_878d_0242ac110002row0_col8\" class=\"data row0 col8\" >i-033d73dff33071aa3</td> \n",
       "        <td id=\"T_a2f5fbe8_4acf_11e9_878d_0242ac110002row0_col9\" class=\"data row0 col9\" >VCP-1bfc8971-57c1a012</td> \n",
       "        <td id=\"T_a2f5fbe8_4acf_11e9_878d_0242ac110002row0_col10\" class=\"data row0 col10\" >none</td> \n",
       "    </tr>    <tr> \n",
       "        <th id=\"T_a2f5fbe8_4acf_11e9_878d_0242ac110002level0_row1\" class=\"row_heading level0 row1\" >1</th> \n",
       "        <td id=\"T_a2f5fbe8_4acf_11e9_878d_0242ac110002row1_col0\" class=\"data row1 col0\" >139</td> \n",
       "        <td id=\"T_a2f5fbe8_4acf_11e9_878d_0242ac110002row1_col1\" class=\"data row1 col1\" >handson101</td> \n",
       "        <td id=\"T_a2f5fbe8_4acf_11e9_878d_0242ac110002row1_col2\" class=\"data row1 col2\" >azure-server</td> \n",
       "        <td id=\"T_a2f5fbe8_4acf_11e9_878d_0242ac110002row1_col3\" class=\"data row1 col3\" >RUNNING</td> \n",
       "        <td id=\"T_a2f5fbe8_4acf_11e9_878d_0242ac110002row1_col4\" class=\"data row1 col4\" >1</td> \n",
       "        <td id=\"T_a2f5fbe8_4acf_11e9_878d_0242ac110002row1_col5\" class=\"data row1 col5\" >0652e10b...</td> \n",
       "        <td id=\"T_a2f5fbe8_4acf_11e9_878d_0242ac110002row1_col6\" class=\"data row1 col6\" >RUNNING</td> \n",
       "        <td id=\"T_a2f5fbe8_4acf_11e9_878d_0242ac110002row1_col7\" class=\"data row1 col7\" >172.20.2.5</td> \n",
       "        <td id=\"T_a2f5fbe8_4acf_11e9_878d_0242ac110002row1_col8\" class=\"data row1 col8\" >/subscriptions/d47388de-3ed7-4aa6-9e7c-5c09ecf55fd8/resourceGroups/niivcp/providers/Microsoft.Compute/virtualMachines/0652e10bvm</td> \n",
       "        <td id=\"T_a2f5fbe8_4acf_11e9_878d_0242ac110002row1_col9\" class=\"data row1 col9\" >VCP-1bfc8971-57c1a012</td> \n",
       "        <td id=\"T_a2f5fbe8_4acf_11e9_878d_0242ac110002row1_col10\" class=\"data row1 col10\" >none</td> \n",
       "    </tr></tbody> \n",
       "</table> "
      ],
      "text/plain": [
       "<pandas.io.formats.style.Styler at 0x7fbc1d6b0550>"
      ]
     },
     "metadata": {},
     "output_type": "display_data"
    }
   ],
   "source": [
    "# Unitの一覧を DataFrame で表示する\n",
    "display(unit_group.df_units())\n",
    "\n",
    "# VCノードの一覧を DataFrame で表示する\n",
    "display(unit_group.df_nodes())"
   ]
  },
  {
   "cell_type": "markdown",
   "metadata": {
    "lc_cell_meme": {
     "current": "aa8fb3dc-4acd-11e9-93c6-0242ac110002",
     "next": "aa8fb40e-4acd-11e9-93c6-0242ac110002",
     "previous": "aa8fb3aa-4acd-11e9-93c6-0242ac110002"
    }
   },
   "source": [
    "VCノードを追加したので ~/.ssh/known_hosts を更新します。"
   ]
  },
  {
   "cell_type": "code",
   "execution_count": 58,
   "metadata": {
    "deletable": false,
    "editable": false,
    "lc_cell_meme": {
     "current": "aa8fb40e-4acd-11e9-93c6-0242ac110002",
     "next": "aa8fb440-4acd-11e9-93c6-0242ac110002",
     "previous": "aa8fb3dc-4acd-11e9-93c6-0242ac110002"
    },
    "run_through_control": {
     "frozen": true,
     "read_only": false
    }
   },
   "outputs": [
    {
     "name": "stdout",
     "output_type": "stream",
     "text": [
      "# Host 172.30.2.64 found: line 48 type RSA\n",
      "# Host 172.30.2.64 found: line 49 type ECDSA\n",
      "# Host 172.30.2.64 found: line 50 type ED25519\n",
      "/home/bit_kun/.ssh/known_hosts updated.\n",
      "Original contents retained as /home/bit_kun/.ssh/known_hosts.old\n",
      "# 172.30.2.64 SSH-2.0-OpenSSH_7.4\n",
      "# 172.30.2.64 SSH-2.0-OpenSSH_7.4\n",
      "# 172.30.2.64 SSH-2.0-OpenSSH_7.4\n",
      "# Host 172.20.2.5 found: line 1 type ECDSA\n",
      "/home/bit_kun/.ssh/known_hosts updated.\n",
      "Original contents retained as /home/bit_kun/.ssh/known_hosts.old\n",
      "# 172.20.2.5 SSH-2.0-OpenSSH_7.4\n",
      "# 172.20.2.5 SSH-2.0-OpenSSH_7.4\n",
      "# 172.20.2.5 SSH-2.0-OpenSSH_7.4\n"
     ]
    }
   ],
   "source": [
    "for address in unit_group.find_ip_addresses():\n",
    "    # ~/.ssh/known_hosts から古いホストキーを削除する\n",
    "    !ssh-keygen -R {address}\n",
    "    # ホストキーの登録\n",
    "    !ssh-keyscan -H {address} >> ~/.ssh/known_hosts"
   ]
  },
  {
   "cell_type": "markdown",
   "metadata": {
    "lc_cell_meme": {
     "current": "aa8fb440-4acd-11e9-93c6-0242ac110002",
     "next": "aa8fb472-4acd-11e9-93c6-0242ac110002",
     "previous": "aa8fb40e-4acd-11e9-93c6-0242ac110002"
    }
   },
   "source": [
    "VCノードに対して`ping` を実行してみます。"
   ]
  },
  {
   "cell_type": "code",
   "execution_count": 59,
   "metadata": {
    "deletable": false,
    "editable": false,
    "lc_cell_meme": {
     "current": "aa8fb472-4acd-11e9-93c6-0242ac110002",
     "next": "aa8fb4a4-4acd-11e9-93c6-0242ac110002",
     "previous": "aa8fb440-4acd-11e9-93c6-0242ac110002"
    },
    "run_through_control": {
     "frozen": true,
     "read_only": false
    },
    "scrolled": false
   },
   "outputs": [
    {
     "name": "stdout",
     "output_type": "stream",
     "text": [
      "PING 172.30.2.64 (172.30.2.64) 56(84) bytes of data.\n",
      "64 bytes from 172.30.2.64: icmp_seq=1 ttl=63 time=0.150 ms\n",
      "64 bytes from 172.30.2.64: icmp_seq=2 ttl=63 time=0.157 ms\n",
      "64 bytes from 172.30.2.64: icmp_seq=3 ttl=63 time=0.153 ms\n",
      "64 bytes from 172.30.2.64: icmp_seq=4 ttl=63 time=0.160 ms\n",
      "64 bytes from 172.30.2.64: icmp_seq=5 ttl=63 time=0.148 ms\n",
      "\n",
      "--- 172.30.2.64 ping statistics ---\n",
      "5 packets transmitted, 5 received, 0% packet loss, time 3996ms\n",
      "rtt min/avg/max/mdev = 0.148/0.153/0.160/0.014 ms\n",
      "\n",
      "PING 172.20.2.5 (172.20.2.5) 56(84) bytes of data.\n",
      "64 bytes from 172.20.2.5: icmp_seq=1 ttl=60 time=7.79 ms\n",
      "64 bytes from 172.20.2.5: icmp_seq=2 ttl=60 time=8.02 ms\n",
      "64 bytes from 172.20.2.5: icmp_seq=3 ttl=60 time=7.87 ms\n",
      "64 bytes from 172.20.2.5: icmp_seq=4 ttl=60 time=8.06 ms\n",
      "64 bytes from 172.20.2.5: icmp_seq=5 ttl=60 time=8.05 ms\n",
      "\n",
      "--- 172.20.2.5 ping statistics ---\n",
      "5 packets transmitted, 5 received, 0% packet loss, time 4005ms\n",
      "rtt min/avg/max/mdev = 7.790/7.961/8.064/0.135 ms\n",
      "\n"
     ]
    }
   ],
   "source": [
    "# UnitGroup内にあるVCノードのIPアドレスリストを取得する\n",
    "ip_address = unit_group.find_ip_addresses()\n",
    "\n",
    "# それぞれのVCノードに対してpingを実行する\n",
    "for address in ip_address:\n",
    "    !ping -c 5 {address}\n",
    "    print()"
   ]
  },
  {
   "cell_type": "markdown",
   "metadata": {
    "lc_cell_meme": {
     "current": "aa8fb4a4-4acd-11e9-93c6-0242ac110002",
     "next": "aa8fb4d6-4acd-11e9-93c6-0242ac110002",
     "previous": "aa8fb472-4acd-11e9-93c6-0242ac110002"
    }
   },
   "source": [
    "VCPでは複数の異なるクラウドを仮想的に一つの計算基盤（仮想クラウド）のように扱える機能を提供しています。そのため異なるクラウド(aws, azure)で起動したVCノードであっても、追加の設定なしに互いに通信することができます。そのことを確認するために、作成した２つの VCノード の一方から他方に対して `ping` を行ってみます。"
   ]
  },
  {
   "cell_type": "code",
   "execution_count": 60,
   "metadata": {
    "deletable": false,
    "editable": false,
    "lc_cell_meme": {
     "current": "aa8fb4d6-4acd-11e9-93c6-0242ac110002",
     "next": "aa8fb508-4acd-11e9-93c6-0242ac110002",
     "previous": "aa8fb4a4-4acd-11e9-93c6-0242ac110002"
    },
    "run_through_control": {
     "frozen": true,
     "read_only": false
    }
   },
   "outputs": [
    {
     "name": "stdout",
     "output_type": "stream",
     "text": [
      "172.30.2.64\n",
      "\n",
      "PING 172.20.2.5 (172.20.2.5): 56 data bytes\n",
      "64 bytes from 172.20.2.5: seq=0 ttl=61 time=7.946 ms\n",
      "64 bytes from 172.20.2.5: seq=1 ttl=61 time=8.082 ms\n",
      "64 bytes from 172.20.2.5: seq=2 ttl=61 time=8.614 ms\n",
      "64 bytes from 172.20.2.5: seq=3 ttl=61 time=8.751 ms\n",
      "64 bytes from 172.20.2.5: seq=4 ttl=61 time=8.020 ms\n",
      "64 bytes from 172.20.2.5: seq=5 ttl=61 time=8.808 ms\n",
      "64 bytes from 172.20.2.5: seq=6 ttl=61 time=9.365 ms\n",
      "64 bytes from 172.20.2.5: seq=7 ttl=61 time=8.082 ms\n",
      "64 bytes from 172.20.2.5: seq=8 ttl=61 time=7.560 ms\n",
      "64 bytes from 172.20.2.5: seq=9 ttl=61 time=8.113 ms\n",
      "\n",
      "--- 172.20.2.5 ping statistics ---\n",
      "10 packets transmitted, 10 packets received, 0% packet loss\n",
      "round-trip min/avg/max = 7.560/8.334/9.365 ms\n"
     ]
    }
   ],
   "source": [
    "# pingを実行するVCノードのIPアドレスを表示する\n",
    "print(ip_address[0])\n",
    "print()\n",
    "\n",
    "!ssh {ssh_opts} {ip_address[0]} \\\n",
    "    ping -c 10 {ip_address[1]}"
   ]
  },
  {
   "cell_type": "markdown",
   "metadata": {
    "lc_cell_meme": {
     "current": "aa8fb508-4acd-11e9-93c6-0242ac110002",
     "next": "aa8fb53a-4acd-11e9-93c6-0242ac110002",
     "previous": "aa8fb4d6-4acd-11e9-93c6-0242ac110002"
    }
   },
   "source": [
    "逆方向で同様のことを行ってみます。"
   ]
  },
  {
   "cell_type": "code",
   "execution_count": 61,
   "metadata": {
    "deletable": false,
    "editable": false,
    "lc_cell_meme": {
     "current": "aa8fb53a-4acd-11e9-93c6-0242ac110002",
     "next": "aa8fb56c-4acd-11e9-93c6-0242ac110002",
     "previous": "aa8fb508-4acd-11e9-93c6-0242ac110002"
    },
    "run_through_control": {
     "frozen": true,
     "read_only": false
    }
   },
   "outputs": [
    {
     "name": "stdout",
     "output_type": "stream",
     "text": [
      "172.20.2.5\n",
      "\n",
      "PING 172.30.2.64 (172.30.2.64): 56 data bytes\n",
      "64 bytes from 172.30.2.64: seq=0 ttl=61 time=7.815 ms\n",
      "64 bytes from 172.30.2.64: seq=1 ttl=61 time=8.759 ms\n",
      "64 bytes from 172.30.2.64: seq=2 ttl=61 time=7.800 ms\n",
      "64 bytes from 172.30.2.64: seq=3 ttl=61 time=8.000 ms\n",
      "64 bytes from 172.30.2.64: seq=4 ttl=61 time=8.067 ms\n",
      "64 bytes from 172.30.2.64: seq=5 ttl=61 time=8.288 ms\n",
      "64 bytes from 172.30.2.64: seq=6 ttl=61 time=8.009 ms\n",
      "64 bytes from 172.30.2.64: seq=7 ttl=61 time=8.098 ms\n",
      "64 bytes from 172.30.2.64: seq=8 ttl=61 time=8.117 ms\n",
      "64 bytes from 172.30.2.64: seq=9 ttl=61 time=8.347 ms\n",
      "\n",
      "--- 172.30.2.64 ping statistics ---\n",
      "10 packets transmitted, 10 packets received, 0% packet loss\n",
      "round-trip min/avg/max = 7.800/8.130/8.759 ms\n"
     ]
    }
   ],
   "source": [
    "# pingを実行するVCノードのIPアドレスを表示する\n",
    "print(ip_address[1])\n",
    "print()\n",
    "\n",
    "!ssh {ssh_opts} {ip_address[1]} \\\n",
    "    ping -c 10 {ip_address[0]}"
   ]
  },
  {
   "cell_type": "markdown",
   "metadata": {
    "lc_cell_meme": {
     "current": "aa8fb56c-4acd-11e9-93c6-0242ac110002",
     "next": "aa8fb59e-4acd-11e9-93c6-0242ac110002",
     "previous": "aa8fb53a-4acd-11e9-93c6-0242ac110002"
    }
   },
   "source": [
    "## VCノードに ssh でログインして操作する"
   ]
  },
  {
   "cell_type": "markdown",
   "metadata": {
    "lc_cell_meme": {
     "current": "aa8fb59e-4acd-11e9-93c6-0242ac110002",
     "next": "aa8fb5d0-4acd-11e9-93c6-0242ac110002",
     "previous": "aa8fb56c-4acd-11e9-93c6-0242ac110002"
    }
   },
   "source": [
    "Azureに追加で起動した VCノード は aws とは異なる構成(cpu, memory, disk)になってるはずです。そのことを確認するために、sshでログインして以下のコマンドを実行してみます。\n",
    "\n",
    "* カーネルバージョン\n",
    "  - uname -a\n",
    "* CPU\n",
    "  - cat /proc/cpuinfo\n",
    "* メモリ量\n",
    "  - free\n",
    "* ディスク容量\n",
    "  - df -h"
   ]
  },
  {
   "cell_type": "code",
   "execution_count": 62,
   "metadata": {
    "deletable": false,
    "editable": false,
    "lc_cell_meme": {
     "current": "aa8fb5d0-4acd-11e9-93c6-0242ac110002",
     "next": "aa8fb602-4acd-11e9-93c6-0242ac110002",
     "previous": "aa8fb59e-4acd-11e9-93c6-0242ac110002"
    },
    "run_through_control": {
     "frozen": true,
     "read_only": false
    }
   },
   "outputs": [
    {
     "name": "stdout",
     "output_type": "stream",
     "text": [
      "172.30.2.64:\n",
      "Linux ip-172-30-2-64 4.4.0-67-generic #88-Ubuntu SMP Wed Mar 8 16:34:45 UTC 2017 x86_64 Linux\n",
      "\n",
      "172.20.2.5:\n",
      "Linux 0652e10b 4.15.0-1040-azure #44-Ubuntu SMP Thu Feb 21 14:24:01 UTC 2019 x86_64 Linux\n",
      "\n"
     ]
    }
   ],
   "source": [
    "for address in ip_address:\n",
    "    print(address + ':')\n",
    "    !ssh {ssh_opts} {address} uname -a\n",
    "    print()"
   ]
  },
  {
   "cell_type": "code",
   "execution_count": 63,
   "metadata": {
    "deletable": false,
    "editable": false,
    "lc_cell_meme": {
     "current": "aa8fb602-4acd-11e9-93c6-0242ac110002",
     "next": "aa8fb634-4acd-11e9-93c6-0242ac110002",
     "previous": "aa8fb5d0-4acd-11e9-93c6-0242ac110002"
    },
    "run_through_control": {
     "frozen": true,
     "read_only": false
    }
   },
   "outputs": [
    {
     "name": "stdout",
     "output_type": "stream",
     "text": [
      "172.30.2.64:\n",
      "model name\t: Intel(R) Xeon(R) CPU E5-2686 v4 @ 2.30GHz\n",
      "model name\t: Intel(R) Xeon(R) CPU E5-2686 v4 @ 2.30GHz\n",
      "\n",
      "172.20.2.5:\n",
      "model name\t: Intel(R) Xeon(R) CPU E5-2673 v3 @ 2.40GHz\n",
      "model name\t: Intel(R) Xeon(R) CPU E5-2673 v3 @ 2.40GHz\n",
      "model name\t: Intel(R) Xeon(R) CPU E5-2673 v3 @ 2.40GHz\n",
      "model name\t: Intel(R) Xeon(R) CPU E5-2673 v3 @ 2.40GHz\n",
      "\n"
     ]
    }
   ],
   "source": [
    "for address in ip_address:\n",
    "    print(address + ':')\n",
    "    !ssh {ssh_opts} {address} cat /proc/cpuinfo | grep 'model name'\n",
    "    print()"
   ]
  },
  {
   "cell_type": "code",
   "execution_count": 64,
   "metadata": {
    "deletable": false,
    "editable": false,
    "lc_cell_meme": {
     "current": "aa8fb634-4acd-11e9-93c6-0242ac110002",
     "next": "aa8fb666-4acd-11e9-93c6-0242ac110002",
     "previous": "aa8fb602-4acd-11e9-93c6-0242ac110002"
    },
    "run_through_control": {
     "frozen": true,
     "read_only": false
    }
   },
   "outputs": [
    {
     "name": "stdout",
     "output_type": "stream",
     "text": [
      "172.30.2.64:\n",
      "             total       used       free     shared    buffers     cached\n",
      "Mem:       8173656     801488    7372168      12540      58668     509684\n",
      "-/+ buffers/cache:     233136    7940520\n",
      "Swap:            0          0          0\n",
      "\n",
      "172.20.2.5:\n",
      "             total       used       free     shared    buffers     cached\n",
      "Mem:      14362096    1337272   13024824       8940      25888     760628\n",
      "-/+ buffers/cache:     550756   13811340\n",
      "Swap:            0          0          0\n",
      "\n"
     ]
    }
   ],
   "source": [
    "for address in ip_address:\n",
    "    print(address + ':')\n",
    "    !ssh {ssh_opts} {address} free\n",
    "    print()"
   ]
  },
  {
   "cell_type": "code",
   "execution_count": 65,
   "metadata": {
    "deletable": false,
    "editable": false,
    "lc_cell_meme": {
     "current": "aa8fb666-4acd-11e9-93c6-0242ac110002",
     "next": "aa8fb6a2-4acd-11e9-93c6-0242ac110002",
     "previous": "aa8fb634-4acd-11e9-93c6-0242ac110002"
    },
    "run_through_control": {
     "frozen": true,
     "read_only": false
    }
   },
   "outputs": [
    {
     "name": "stdout",
     "output_type": "stream",
     "text": [
      "172.30.2.64:\n",
      "Filesystem                Size      Used Available Use% Mounted on\n",
      "none                     14.6G      1.8G     12.1G  13% /\n",
      "tmpfs                     3.9G         0      3.9G   0% /sys/fs/cgroup\n",
      "udev                      3.9G         0      3.9G   0% /dev\n",
      "tmpfs                    64.0M         0     64.0M   0% /dev/shm\n",
      "/dev/xvda1               14.6G      1.8G     12.1G  13% /etc/resolv.conf\n",
      "/dev/xvda1               14.6G      1.8G     12.1G  13% /etc/hostname\n",
      "/dev/xvda1               14.6G      1.8G     12.1G  13% /etc/hosts\n",
      "shm                      64.0M         0     64.0M   0% /dev/shm\n",
      "/dev/xvda1               14.6G      1.8G     12.1G  13% /var/lib/docker\n",
      "none                      3.9G         0      3.9G   0% /tmp\n",
      "/dev/xvda1               14.6G      1.8G     12.1G  13% /var/lib/docker/aufs\n",
      "\n",
      "172.20.2.5:\n",
      "Filesystem                Size      Used Available Use% Mounted on\n",
      "none                     96.9G      1.5G     95.3G   2% /\n",
      "tmpfs                     6.8G         0      6.8G   0% /sys/fs/cgroup\n",
      "udev                      6.8G         0      6.8G   0% /dev\n",
      "tmpfs                    64.0M         0     64.0M   0% /dev/shm\n",
      "/dev/sda1                96.9G      1.5G     95.3G   2% /etc/resolv.conf\n",
      "/dev/sda1                96.9G      1.5G     95.3G   2% /etc/hostname\n",
      "/dev/sda1                96.9G      1.5G     95.3G   2% /etc/hosts\n",
      "shm                      64.0M         0     64.0M   0% /dev/shm\n",
      "/dev/sda1                96.9G      1.5G     95.3G   2% /var/lib/docker\n",
      "none                      6.8G         0      6.8G   0% /tmp\n",
      "/dev/sda1                96.9G      1.5G     95.3G   2% /var/lib/docker/aufs\n",
      "\n"
     ]
    }
   ],
   "source": [
    "for address in ip_address:\n",
    "    print(address + ':')\n",
    "    !ssh {ssh_opts} {address} df -h\n",
    "    print()"
   ]
  },
  {
   "cell_type": "markdown",
   "metadata": {
    "lc_cell_meme": {
     "current": "aa8fb6a2-4acd-11e9-93c6-0242ac110002",
     "next": "aa8fb6d4-4acd-11e9-93c6-0242ac110002",
     "previous": "aa8fb666-4acd-11e9-93c6-0242ac110002"
    }
   },
   "source": [
    "最後に先程と同様に、負荷をかけるためにそれぞれのVCノードで stress コマンドを実行します。これまで同様 stressコマンドはアプリケーションコンテナとして実行します。"
   ]
  },
  {
   "cell_type": "code",
   "execution_count": 66,
   "metadata": {
    "deletable": false,
    "editable": false,
    "lc_cell_meme": {
     "current": "aa8fb6d4-4acd-11e9-93c6-0242ac110002",
     "next": "aa8fb706-4acd-11e9-93c6-0242ac110002",
     "previous": "aa8fb6a2-4acd-11e9-93c6-0242ac110002"
    },
    "run_through_control": {
     "frozen": true,
     "read_only": false
    },
    "scrolled": true
   },
   "outputs": [
    {
     "name": "stdout",
     "output_type": "stream",
     "text": [
      "1a511e2e9b051515f398a0e7998af7584cf2615c61fb9f49b33fa67eed3cdf2f\n",
      "Unable to find image 'polinux/stress:latest' locally\n",
      "latest: Pulling from polinux/stress\n",
      "627beaf3eaaf: Pulling fs layer\n",
      "4de9f469a6f4: Pulling fs layer\n",
      "4de9f469a6f4: Download complete\n",
      "627beaf3eaaf: Download complete\n",
      "627beaf3eaaf: Pull complete\n",
      "4de9f469a6f4: Pull complete\n",
      "Digest: sha256:6d1825288ddb6b3cec8d3ac8a488c8ec2449334512ecb938483fc2b25cbbdb9a\n",
      "Status: Downloaded newer image for polinux/stress:latest\n",
      "80b4143b7e27b542fd6a76226f74dd2daf1d5c1d32e5dd08e4aa972368aab04e\n"
     ]
    }
   ],
   "source": [
    "for idx, address in enumerate(ip_address):\n",
    "    # 60秒間だけ CPU x 2 とメモリ 128 MB を消費する\n",
    "    !ssh {ssh_opts} {address} \\\n",
    "        /usr/local/bin/docker run -td --rm --name stress-{idx} polinux/stress \\\n",
    "        stress --cpu 2 --io 1 --vm 2 --vm-bytes 128M --timeout 60s --verbose"
   ]
  },
  {
   "cell_type": "markdown",
   "metadata": {
    "lc_cell_meme": {
     "current": "aa8fb706-4acd-11e9-93c6-0242ac110002",
     "next": "aa8fb738-4acd-11e9-93c6-0242ac110002",
     "previous": "aa8fb6d4-4acd-11e9-93c6-0242ac110002"
    }
   },
   "source": [
    "[Grafana](/grafana/d/handson/vcp-metrics?refresh=5s)で利用状況を確認してみます。"
   ]
  },
  {
   "cell_type": "markdown",
   "metadata": {
    "lc_cell_meme": {
     "current": "aa8fb738-4acd-11e9-93c6-0242ac110002",
     "next": "aa8fb76a-4acd-11e9-93c6-0242ac110002",
     "previous": "aa8fb706-4acd-11e9-93c6-0242ac110002"
    }
   },
   "source": [
    "# 全てのVCノードを削除する"
   ]
  },
  {
   "cell_type": "markdown",
   "metadata": {
    "lc_cell_meme": {
     "current": "aa8fb76a-4acd-11e9-93c6-0242ac110002",
     "next": "aa8fb79c-4acd-11e9-93c6-0242ac110002",
     "previous": "aa8fb738-4acd-11e9-93c6-0242ac110002"
    }
   },
   "source": [
    "ここまで作成した全てのリソース（UnitGroup, Unit、VCノード）を削除します。この操作を行うことで AWS EC2インスタンスやAzure VMなどのクラウドに作成したリソースが削除されます。\n",
    "\n",
    "> 全てのリソースの削除には 4～5分程度かかります。"
   ]
  },
  {
   "cell_type": "code",
   "execution_count": 67,
   "metadata": {
    "deletable": false,
    "editable": false,
    "lc_cell_meme": {
     "current": "aa8fb79c-4acd-11e9-93c6-0242ac110002",
     "next": "aa8fb7ce-4acd-11e9-93c6-0242ac110002",
     "previous": "aa8fb76a-4acd-11e9-93c6-0242ac110002"
    },
    "run_through_control": {
     "frozen": true,
     "read_only": false
    },
    "scrolled": true
   },
   "outputs": [
    {
     "name": "stdout",
     "output_type": "stream",
     "text": [
      "2019-03-20 14:20:04,522 - INFO - aws-server is DELETING\n",
      "azure-server is DELETING ... 0 sec\n",
      "2019-03-20 14:20:09,759 - INFO - aws-server is DELETING\n",
      "azure-server is DELETING ... 5 sec\n",
      "2019-03-20 14:20:15,010 - INFO - aws-server is DELETING\n",
      "azure-server is DELETING ... 10 sec\n",
      "2019-03-20 14:20:20,247 - INFO - aws-server is DELETING\n",
      "azure-server is DELETING ... 15 sec\n",
      "2019-03-20 14:20:25,486 - INFO - aws-server is DELETING\n",
      "azure-server is DELETING ... 20 sec\n",
      "2019-03-20 14:20:30,722 - INFO - aws-server is DELETING\n",
      "azure-server is DELETING ... 25 sec\n",
      "2019-03-20 14:20:35,960 - INFO - aws-server is DELETING\n",
      "azure-server is DELETING ... 30 sec\n",
      "2019-03-20 14:20:41,196 - INFO - aws-server is DELETING\n",
      "azure-server is DELETING ... 35 sec\n",
      "2019-03-20 14:20:46,439 - INFO - aws-server is DELETING\n",
      "azure-server is DELETING ... 40 sec\n",
      "2019-03-20 14:20:51,674 - INFO - aws-server is DELETING\n",
      "azure-server is DELETING ... 45 sec\n",
      "2019-03-20 14:20:56,873 - INFO - azure-server is DELETING ... 50 sec\n",
      "2019-03-20 14:21:02,074 - INFO - azure-server is DELETING ... 55 sec\n",
      "2019-03-20 14:21:07,278 - INFO - azure-server is DELETING ... 60 sec\n",
      "2019-03-20 14:21:12,476 - INFO - azure-server is DELETING ... 65 sec\n",
      "2019-03-20 14:21:17,688 - INFO - azure-server is DELETING ... 70 sec\n",
      "2019-03-20 14:21:22,891 - INFO - azure-server is DELETING ... 75 sec\n",
      "2019-03-20 14:21:28,093 - INFO - azure-server is DELETING ... 80 sec\n",
      "2019-03-20 14:21:33,290 - INFO - azure-server is DELETING ... 85 sec\n",
      "2019-03-20 14:21:38,502 - INFO - azure-server is DELETING ... 90 sec\n",
      "2019-03-20 14:21:43,703 - INFO - azure-server is DELETING ... 95 sec\n",
      "2019-03-20 14:21:48,907 - INFO - azure-server is DELETING ... 100 sec\n",
      "2019-03-20 14:21:54,106 - INFO - azure-server is DELETING ... 105 sec\n",
      "2019-03-20 14:21:59,315 - INFO - azure-server is DELETING ... 110 sec\n",
      "2019-03-20 14:22:04,518 - INFO - azure-server is DELETING ... 115 sec\n",
      "2019-03-20 14:22:09,721 - INFO - azure-server is DELETING ... 120 sec\n",
      "2019-03-20 14:22:14,927 - INFO - azure-server is DELETING ... 125 sec\n",
      "2019-03-20 14:22:20,138 - INFO - azure-server is DELETING ... 130 sec\n",
      "2019-03-20 14:22:25,341 - INFO - azure-server is DELETING ... 135 sec\n",
      "2019-03-20 14:22:30,539 - INFO - azure-server is DELETING ... 140 sec\n",
      "2019-03-20 14:22:35,735 - INFO - azure-server is DELETING ... 145 sec\n",
      "2019-03-20 14:22:40,946 - INFO - azure-server is DELETING ... 150 sec\n",
      "2019-03-20 14:22:46,150 - INFO - azure-server is DELETING ... 155 sec\n",
      "2019-03-20 14:22:51,349 - INFO - azure-server is DELETING ... 160 sec\n",
      "2019-03-20 14:22:56,545 - INFO - azure-server is DELETING ... 165 sec\n",
      "2019-03-20 14:23:01,746 - INFO - azure-server is DELETING ... 170 sec\n",
      "2019-03-20 14:23:06,944 - INFO - azure-server is DELETING ... 175 sec\n",
      "2019-03-20 14:23:12,140 - INFO - azure-server is DELETING ... 180 sec\n",
      "2019-03-20 14:23:17,342 - INFO - azure-server is DELETING ... 185 sec\n",
      "2019-03-20 14:23:22,370 - INFO - cleanup completed. vc  is cleanup(no unit)\n"
     ]
    }
   ],
   "source": [
    "unit_group.cleanup()"
   ]
  },
  {
   "cell_type": "markdown",
   "metadata": {
    "lc_cell_meme": {
     "current": "aa8fb7ce-4acd-11e9-93c6-0242ac110002",
     "next": "aa8fb80a-4acd-11e9-93c6-0242ac110002",
     "previous": "aa8fb79c-4acd-11e9-93c6-0242ac110002"
    }
   },
   "source": [
    "削除後の状態を確認してみます。"
   ]
  },
  {
   "cell_type": "code",
   "execution_count": 68,
   "metadata": {
    "deletable": false,
    "editable": false,
    "lc_cell_meme": {
     "current": "aa8fb80a-4acd-11e9-93c6-0242ac110002",
     "next": null,
     "previous": "aa8fb7ce-4acd-11e9-93c6-0242ac110002"
    },
    "run_through_control": {
     "frozen": true,
     "read_only": false
    },
    "scrolled": true
   },
   "outputs": [
    {
     "data": {
      "text/html": [
       "<style  type=\"text/css\" >\n",
       "    #T_47ab3914_4ad0_11e9_878d_0242ac110002row0_col3 {\n",
       "            background-color:  #dfd;\n",
       "        }    #T_47ab3914_4ad0_11e9_878d_0242ac110002row1_col3 {\n",
       "            background-color:  #dfd;\n",
       "        }    #T_47ab3914_4ad0_11e9_878d_0242ac110002row2_col3 {\n",
       "            background-color:  #dfd;\n",
       "        }</style>  \n",
       "<table id=\"T_47ab3914_4ad0_11e9_878d_0242ac110002\" > \n",
       "<thead>    <tr> \n",
       "        <th class=\"blank level0\" ></th> \n",
       "        <th class=\"col_heading level0 col0\" >vcno</th> \n",
       "        <th class=\"col_heading level0 col1\" >vctype</th> \n",
       "        <th class=\"col_heading level0 col2\" >vcname</th> \n",
       "        <th class=\"col_heading level0 col3\" >state</th> \n",
       "        <th class=\"col_heading level0 col4\" >vcid</th> \n",
       "        <th class=\"col_heading level0 col5\" >cdate</th> \n",
       "    </tr></thead> \n",
       "</table> "
      ],
      "text/plain": [
       "<pandas.io.formats.style.Styler at 0x7fbc1d6c9c50>"
      ]
     },
     "execution_count": 68,
     "metadata": {},
     "output_type": "execute_result"
    }
   ],
   "source": [
    "# UnitGroupの一覧を DataFrame で表示する\n",
    "vcp.df_ugroups()"
   ]
  }
 ],
 "metadata": {
  "kernelspec": {
   "display_name": "Python 3",
   "language": "python",
   "name": "python3"
  },
  "language_info": {
   "codemirror_mode": {
    "name": "ipython",
    "version": 3
   },
   "file_extension": ".py",
   "mimetype": "text/x-python",
   "name": "python",
   "nbconvert_exporter": "python",
   "pygments_lexer": "ipython3",
   "version": "3.6.6"
  },
  "lc_notebook_meme": {
   "current": "aa8f9316-4acd-11e9-93c6-0242ac110002",
   "lc_server_signature": {
    "current": {
     "notebook_dir": "/notebooks/notebook",
     "notebook_path": "/handson/vcp-tutorial",
     "server_url": "http://18.182.118.19:8888/red/",
     "signature_id": "bf0a8190-dc17-11e8-93c6-0242ac110002"
    },
    "history": []
   }
  },
  "toc": {
   "base_numbering": 1,
   "nav_menu": {},
   "number_sections": true,
   "sideBar": true,
   "skip_h1_title": false,
   "title_cell": "Table of Contents",
   "title_sidebar": "Contents",
   "toc_cell": false,
   "toc_position": {
    "height": "826px",
    "left": "0px",
    "right": "1202px",
    "top": "111px",
    "width": "213px"
   },
   "toc_section_display": "block",
   "toc_window_display": true
  }
 },
 "nbformat": 4,
 "nbformat_minor": 2
}
