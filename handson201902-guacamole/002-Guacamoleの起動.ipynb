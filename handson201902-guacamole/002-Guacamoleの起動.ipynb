{
 "cells": [
  {
   "cell_type": "markdown",
   "metadata": {
    "lc_cell_meme": {
     "current": "05337128-4af8-11e9-9859-0242ac110002",
     "next": "05337196-4af8-11e9-9859-0242ac110002",
     "previous": null
    }
   },
   "source": [
    "# Guacamoleの起動\n",
    "\n",
    "---\n",
    "\n",
    "Guacamole環境を起動します。"
   ]
  },
  {
   "cell_type": "markdown",
   "metadata": {
    "lc_cell_meme": {
     "current": "05337196-4af8-11e9-9859-0242ac110002",
     "next": "053371e6-4af8-11e9-9859-0242ac110002",
     "previous": "05337128-4af8-11e9-9859-0242ac110002"
    }
   },
   "source": [
    "## 全体構成"
   ]
  },
  {
   "cell_type": "markdown",
   "metadata": {
    "lc_cell_meme": {
     "current": "053371e6-4af8-11e9-9859-0242ac110002",
     "next": "05337236-4af8-11e9-9859-0242ac110002",
     "previous": "05337196-4af8-11e9-9859-0242ac110002"
    }
   },
   "source": [
    "![構成](images/guacamole-001-01.png)"
   ]
  },
  {
   "cell_type": "markdown",
   "metadata": {
    "lc_cell_meme": {
     "current": "05337236-4af8-11e9-9859-0242ac110002",
     "next": "05337286-4af8-11e9-9859-0242ac110002",
     "previous": "053371e6-4af8-11e9-9859-0242ac110002"
    }
   },
   "source": [
    "# 準備"
   ]
  },
  {
   "cell_type": "markdown",
   "metadata": {
    "lc_cell_meme": {
     "current": "05337286-4af8-11e9-9859-0242ac110002",
     "next": "053372d6-4af8-11e9-9859-0242ac110002",
     "previous": "05337236-4af8-11e9-9859-0242ac110002"
    }
   },
   "source": [
    "![準備](images/guacamole-002-02.png)"
   ]
  },
  {
   "cell_type": "markdown",
   "metadata": {
    "heading_collapsed": true,
    "lc_cell_meme": {
     "current": "053372d6-4af8-11e9-9859-0242ac110002",
     "next": "05337326-4af8-11e9-9859-0242ac110002",
     "previous": "05337286-4af8-11e9-9859-0242ac110002"
    }
   },
   "source": [
    "## UnitGroup名の指定\n",
    "\n",
    "構築する UnitGroup の名前を指定してください。"
   ]
  },
  {
   "cell_type": "code",
   "execution_count": 1,
   "metadata": {
    "deletable": false,
    "editable": false,
    "hidden": true,
    "lc_cell_meme": {
     "current": "05337326-4af8-11e9-9859-0242ac110002",
     "next": "0533736c-4af8-11e9-9859-0242ac110002",
     "previous": "053372d6-4af8-11e9-9859-0242ac110002"
    },
    "run_through_control": {
     "frozen": true
    }
   },
   "outputs": [],
   "source": [
    "unit_group = 'Guacamole-A'"
   ]
  },
  {
   "cell_type": "markdown",
   "metadata": {
    "hidden": true,
    "lc_cell_meme": {
     "current": "0533736c-4af8-11e9-9859-0242ac110002",
     "next": "053373bc-4af8-11e9-9859-0242ac110002",
     "previous": "05337326-4af8-11e9-9859-0242ac110002"
    }
   },
   "source": [
    "次のセルを実行すると「01-パラメータの設定.ipynb」で指定したパラメータを読み込みます。読み込むパラメータの値は、上のセルで指定した UnitGroup名に対応するものになります。UnitGroup名の指定が誤っていると意図したパラメータが読み込めないので注意してください。"
   ]
  },
  {
   "cell_type": "code",
   "execution_count": 2,
   "metadata": {
    "deletable": false,
    "editable": false,
    "hidden": true,
    "lc_cell_meme": {
     "current": "053373bc-4af8-11e9-9859-0242ac110002",
     "next": "0533740c-4af8-11e9-9859-0242ac110002",
     "previous": "0533736c-4af8-11e9-9859-0242ac110002"
    },
    "run_through_control": {
     "frozen": true
    }
   },
   "outputs": [],
   "source": [
    "%run scripts/group.py\n",
    "gvars = load_group_vars(unit_group)"
   ]
  },
  {
   "cell_type": "markdown",
   "metadata": {
    "hidden": true,
    "lc_cell_meme": {
     "current": "0533740c-4af8-11e9-9859-0242ac110002",
     "next": "05337452-4af8-11e9-9859-0242ac110002",
     "previous": "053373bc-4af8-11e9-9859-0242ac110002"
    }
   },
   "source": [
    ">「01-パラメータの設定.ipynb」で group_vars ファイルに保存した値を読み込むために、事前に作成した Python のスクリプト `scripts/group.py` を利用しています。このスクリプトでは、指定された UnitGroup名に対応する YAMLファイルを `group_vars/` ディレクトリから読み込み、その値を Python の辞書型変数に格納しています。"
   ]
  },
  {
   "cell_type": "markdown",
   "metadata": {
    "lc_cell_meme": {
     "current": "05337452-4af8-11e9-9859-0242ac110002",
     "next": "05337498-4af8-11e9-9859-0242ac110002",
     "previous": "0533740c-4af8-11e9-9859-0242ac110002"
    }
   },
   "source": [
    "## VCCアクセストークンの入力\n",
    "\n",
    "VCCにアクセスするためのトークンを入力します。"
   ]
  },
  {
   "cell_type": "markdown",
   "metadata": {
    "lc_cell_meme": {
     "current": "05337498-4af8-11e9-9859-0242ac110002",
     "next": "053374e8-4af8-11e9-9859-0242ac110002",
     "previous": "05337452-4af8-11e9-9859-0242ac110002"
    }
   },
   "source": [
    "> VCCのアクセストークンは秘密情報となるためNotebook環境には保存してありません。他の秘密情報については VCC の Vaultサーバに保存してあります。しかしVCCのVaultサーバにアクセスするためにはVCCのアクセストークンが必要となります。そのため、Notebookを新たに実行する度にVCCのアクセストークンを入力する必要があります。"
   ]
  },
  {
   "cell_type": "markdown",
   "metadata": {
    "lc_cell_meme": {
     "current": "053374e8-4af8-11e9-9859-0242ac110002",
     "next": "0533752e-4af8-11e9-9859-0242ac110002",
     "previous": "05337498-4af8-11e9-9859-0242ac110002"
    }
   },
   "source": [
    "次のセルを実行すると入力枠が表示されるのでアクセストークンの値を入力してください。\n",
    "\n",
    "> アクセストークン入力後に Enter キーを押すことで入力が完了します。"
   ]
  },
  {
   "cell_type": "code",
   "execution_count": 3,
   "metadata": {
    "deletable": false,
    "editable": false,
    "lc_cell_meme": {
     "current": "0533752e-4af8-11e9-9859-0242ac110002",
     "next": "0533757e-4af8-11e9-9859-0242ac110002",
     "previous": "053374e8-4af8-11e9-9859-0242ac110002"
    },
    "run_through_control": {
     "frozen": true
    }
   },
   "outputs": [
    {
     "name": "stdout",
     "output_type": "stream",
     "text": [
      "········\n"
     ]
    }
   ],
   "source": [
    "from getpass import getpass\n",
    "vcc_access_token = getpass()"
   ]
  },
  {
   "cell_type": "markdown",
   "metadata": {
    "lc_cell_meme": {
     "current": "0533757e-4af8-11e9-9859-0242ac110002",
     "next": "053375c4-4af8-11e9-9859-0242ac110002",
     "previous": "0533752e-4af8-11e9-9859-0242ac110002"
    }
   },
   "source": [
    "入力されたアクセストークンが正しいことを、実際にVCCにアクセスして確認します。"
   ]
  },
  {
   "cell_type": "code",
   "execution_count": 4,
   "metadata": {
    "deletable": false,
    "editable": false,
    "lc_cell_meme": {
     "current": "053375c4-4af8-11e9-9859-0242ac110002",
     "next": "05337614-4af8-11e9-9859-0242ac110002",
     "previous": "0533757e-4af8-11e9-9859-0242ac110002"
    },
    "run_through_control": {
     "frozen": true
    }
   },
   "outputs": [],
   "source": [
    "from common import logsetting\n",
    "from vcpsdk.vcpsdk import VcpSDK\n",
    "\n",
    "vcp = VcpSDK(vcc_access_token)"
   ]
  },
  {
   "cell_type": "markdown",
   "metadata": {
    "lc_cell_meme": {
     "current": "05337614-4af8-11e9-9859-0242ac110002",
     "next": "0533765a-4af8-11e9-9859-0242ac110002",
     "previous": "053375c4-4af8-11e9-9859-0242ac110002"
    }
   },
   "source": [
    "上のセルの実行結果がエラーとなり以下のようなメッセージが表示されている場合は、入力されたアクセストークンに誤りがあります。\n",
    "\n",
    "```\n",
    "2018-09-XX XX:XX:XX,XXX - ERROR - config vc failed: http_status(403)\n",
    "2018-09-XX XX:XX:XX,XXX - ERROR - 2018/XX/XX XX:XX:XX UTC: VCPAuthException: xxxxxxx:token lookup is failed: permission denied\n",
    "```\n",
    "\n",
    "エラーになった場合はこの節のセルを全て `unfreeze` してから、もう一度アクセストークンの入力を行ってください。"
   ]
  },
  {
   "cell_type": "markdown",
   "metadata": {
    "lc_cell_meme": {
     "current": "0533765a-4af8-11e9-9859-0242ac110002",
     "next": "053376aa-4af8-11e9-9859-0242ac110002",
     "previous": "05337614-4af8-11e9-9859-0242ac110002"
    }
   },
   "source": [
    "## AnsibleからVaultサーバにアクセスするための準備"
   ]
  },
  {
   "cell_type": "markdown",
   "metadata": {
    "lc_cell_meme": {
     "current": "053376aa-4af8-11e9-9859-0242ac110002",
     "next": "053376f0-4af8-11e9-9859-0242ac110002",
     "previous": "0533765a-4af8-11e9-9859-0242ac110002"
    }
   },
   "source": [
    "このNotebookでは、VCノードに環境を構築するために Ansible を用います。「01-パラメータの設定.ipynb」で group_varsファイルに記録したパラメータはAnsibleから直接参照することができます。しかしVCCのVaultサーバに記録したパラメータは、そのままではAnsibleから参照することができません。そこで Ansible から Vaultサーバの値を参照するために必要となるライブラリをインストールします。また VCC の Vaultサーバにアクセスするために必要となるトークンと Vault サーバのアドレスを環境変数に設定します。"
   ]
  },
  {
   "cell_type": "markdown",
   "metadata": {
    "lc_cell_meme": {
     "current": "053376f0-4af8-11e9-9859-0242ac110002",
     "next": "05337736-4af8-11e9-9859-0242ac110002",
     "previous": "053376aa-4af8-11e9-9859-0242ac110002"
    }
   },
   "source": [
    "まず Vaultサーバにアクセスするために必要となるライブラリのインストールを行います。"
   ]
  },
  {
   "cell_type": "code",
   "execution_count": 5,
   "metadata": {
    "deletable": false,
    "editable": false,
    "lc_cell_meme": {
     "current": "05337736-4af8-11e9-9859-0242ac110002",
     "next": "05337786-4af8-11e9-9859-0242ac110002",
     "previous": "053376f0-4af8-11e9-9859-0242ac110002"
    },
    "run_through_control": {
     "frozen": true
    }
   },
   "outputs": [
    {
     "name": "stdout",
     "output_type": "stream",
     "text": [
      "Requirement already satisfied: hvac in /home/bit_kun/.local/lib/python2.7/site-packages (0.7.2)\n",
      "Requirement already satisfied: requests>=2.21.0 in /home/bit_kun/.local/lib/python2.7/site-packages (from hvac) (2.21.0)\n",
      "Requirement already satisfied: urllib3<1.25,>=1.21.1 in /usr/local/lib/python2.7/dist-packages (from requests>=2.21.0->hvac) (1.23)\n",
      "Requirement already satisfied: certifi>=2017.4.17 in /usr/local/lib/python2.7/dist-packages (from requests>=2.21.0->hvac) (2018.8.24)\n",
      "Requirement already satisfied: chardet<3.1.0,>=3.0.2 in /usr/local/lib/python2.7/dist-packages (from requests>=2.21.0->hvac) (3.0.4)\n",
      "Requirement already satisfied: idna<2.9,>=2.5 in /usr/local/lib/python2.7/dist-packages (from requests>=2.21.0->hvac) (2.7)\n",
      "\u001b[33mYou are using pip version 18.0, however version 19.0.3 is available.\n",
      "You should consider upgrading via the 'pip install --upgrade pip' command.\u001b[0m\n"
     ]
    }
   ],
   "source": [
    "!pip2 install hvac --user"
   ]
  },
  {
   "cell_type": "markdown",
   "metadata": {
    "lc_cell_meme": {
     "current": "05337786-4af8-11e9-9859-0242ac110002",
     "next": "053377cc-4af8-11e9-9859-0242ac110002",
     "previous": "05337736-4af8-11e9-9859-0242ac110002"
    }
   },
   "source": [
    "VCCのVault サーバにアクセスする際に必要となるパラメータを環境変数に設定します。"
   ]
  },
  {
   "cell_type": "code",
   "execution_count": 6,
   "metadata": {
    "deletable": false,
    "editable": false,
    "lc_cell_meme": {
     "current": "053377cc-4af8-11e9-9859-0242ac110002",
     "next": "0533781c-4af8-11e9-9859-0242ac110002",
     "previous": "05337786-4af8-11e9-9859-0242ac110002"
    },
    "run_through_control": {
     "frozen": true
    }
   },
   "outputs": [],
   "source": [
    "import os\n",
    "os.environ['VAULT_ADDR'] = vcp.vcc_info()['vault_url']\n",
    "os.environ['VAULT_TOKEN'] = vcc_access_token"
   ]
  },
  {
   "cell_type": "markdown",
   "metadata": {
    "lc_cell_meme": {
     "current": "0533781c-4af8-11e9-9859-0242ac110002",
     "next": "05337862-4af8-11e9-9859-0242ac110002",
     "previous": "053377cc-4af8-11e9-9859-0242ac110002"
    }
   },
   "source": [
    "# VCノードの起動\n",
    "\n",
    "VCP SDK を利用してVCノードの起動を行います。"
   ]
  },
  {
   "cell_type": "markdown",
   "metadata": {
    "lc_cell_meme": {
     "current": "05337862-4af8-11e9-9859-0242ac110002",
     "next": "053378b2-4af8-11e9-9859-0242ac110002",
     "previous": "0533781c-4af8-11e9-9859-0242ac110002"
    }
   },
   "source": [
    "![VCノードの起動](images/guacamole-002-03.png)"
   ]
  },
  {
   "cell_type": "markdown",
   "metadata": {
    "lc_cell_meme": {
     "current": "053378b2-4af8-11e9-9859-0242ac110002",
     "next": "053378f8-4af8-11e9-9859-0242ac110002",
     "previous": "05337862-4af8-11e9-9859-0242ac110002"
    }
   },
   "source": [
    "## Guacamole用VCノードの spec を指定する\n",
    "\n",
    "「01-パラメータの設定.ipynb」で指定したパラメータをGuacamole用VCノードの `spec` に設定します。"
   ]
  },
  {
   "cell_type": "markdown",
   "metadata": {
    "lc_cell_meme": {
     "current": "053378f8-4af8-11e9-9859-0242ac110002",
     "next": "05337948-4af8-11e9-9859-0242ac110002",
     "previous": "053378b2-4af8-11e9-9859-0242ac110002"
    }
   },
   "source": [
    "`spec`に設定するパラメータを以下に示します。\n",
    "\n",
    "* `image`: Baseコンテナイメージ\n",
    "  - Guacamole用 Baseコンテナイメージを設定します\n",
    "* `params_v`: ボリューム設定\n",
    "  - Baseコンテナのボリュームを設定します\n",
    "  - Guacamole用Baseコンテナではホスト側の `/sys/fs/cgroup` をコンテナから見えるように設定する必要があります\n",
    "* `ip_addresses`: IPアドレス\n",
    "  - VCノードに割り当てるプライベートIPアドレスを設定します\n",
    "* `volume_size`: ルートボリュームサイズ\n",
    "  - VCノードに割り当てるルートボリュームサイズ(GB)\n",
    "* `set_ssh_publickey()`: SSHの公開鍵\n",
    "  - VCノードに登録するSSHの公開鍵\n",
    "* `params_e`: Baseコンテナの環境変数設定\n",
    "  - `USER_CONTAINER_IMAGE`\n",
    "     - Baseコンテナ起動時に、自動的に取得を行うアプリケーションコンテナイメージのリスト"
   ]
  },
  {
   "cell_type": "code",
   "execution_count": 7,
   "metadata": {
    "deletable": false,
    "editable": false,
    "lc_cell_meme": {
     "current": "05337948-4af8-11e9-9859-0242ac110002",
     "next": "05337998-4af8-11e9-9859-0242ac110002",
     "previous": "053378f8-4af8-11e9-9859-0242ac110002"
    },
    "run_through_control": {
     "frozen": true
    }
   },
   "outputs": [],
   "source": [
    "spec_srv = vcp.get_spec(gvars['vc_provider'], gvars['vc_flavor'])\n",
    "\n",
    "# Guacamole用の Baseコンテナイメージを指定する\n",
    "spec_srv.image = 'vcp/guacamole:1.4.2-server'\n",
    "spec_srv.params_v = ['/sys/fs/cgroup:/sys/fs/cgroup:ro']\n",
    "\n",
    "# Guacamole用VCノードに割り当てるIPアドレスを指定する\n",
    "spec_srv.ip_addresses = [gvars['vc_guacamole_ipaddress']]\n",
    "\n",
    "# ルートボリュームサイズを指定する\n",
    "spec_srv.volume_size = gvars['vc_disk_size']\n",
    "\n",
    "# VCノードにsshでログインするための公開鍵を指定する\n",
    "spec_srv.set_ssh_pubkey(gvars['ssh_public_key_path'])\n",
    "\n",
    "# 起動時に取得するイメージ名を選択する（時間短縮用）\n",
    "container_images = [\n",
    "    'guacamole/guacamole:0.9.14',\n",
    "    'guacamole/guacd:0.9.14',\n",
    "    'mariadb:10.3',\n",
    "    'nginx:1.14',\n",
    "    'prom/prometheus',\n",
    "]\n",
    "spec_srv.params_e.append('USER_CONTAINER_IMAGE=' + ','.join(container_images))"
   ]
  },
  {
   "cell_type": "markdown",
   "metadata": {
    "lc_cell_meme": {
     "current": "05337998-4af8-11e9-9859-0242ac110002",
     "next": "053379de-4af8-11e9-9859-0242ac110002",
     "previous": "05337948-4af8-11e9-9859-0242ac110002"
    }
   },
   "source": [
    "`spec` の設定値を確認します。"
   ]
  },
  {
   "cell_type": "code",
   "execution_count": 8,
   "metadata": {
    "deletable": false,
    "editable": false,
    "lc_cell_meme": {
     "current": "053379de-4af8-11e9-9859-0242ac110002",
     "next": "05337a24-4af8-11e9-9859-0242ac110002",
     "previous": "05337998-4af8-11e9-9859-0242ac110002"
    },
    "run_through_control": {
     "frozen": true
    },
    "scrolled": true
   },
   "outputs": [
    {
     "name": "stdout",
     "output_type": "stream",
     "text": [
      "\n",
      "- unit:\n",
      "    cci_version: \"1.0\"\n",
      "    name: \n",
      "    description: \"\"\n",
      "    private_network: default\n",
      "    num_nodes: 1\n",
      "    image: vcp/guacamole:1.4.2-server\n",
      "    recovery_mode: none\n",
      "    params:\n",
      "        v:\n",
      "        - /sys/fs/cgroup:/sys/fs/cgroup:ro\n",
      "        e:\n",
      "        - AUTHORIZED_KEYS=c3NoLXJzYSBBQUFBQjNOemFDMXljMkVBQUFBREFRQUJBQUFCQVFDcW5XY3Y2TlB6SVRld3pKdEMzbTdPb040MGhHUkJQSDdRR2pjUk5FQXY5T0tMcFl6TEJha01rN2VLL3krRzZZRTQ3VUJCdWFGT21hREtOdVJsdHRjLytZZWRTbEI3eGdtMXpyUXl4SExpa2FxSys3azBxclRkSHNPcm5pNEJOWDNEWS9IK2pINldGZ3RZSUtxUk1qWmRXM05PRWJabHMwZkNBVFovR3R6RkhnblMrKzhXN3BSUXYzc1R4NDBHR2h0L2dWU2hOcGEyRmtKREFYeFFscDZXK1AvdkNBaDJxV3E5M1ZRQ1FzQWxpNjVCTGNMZ0hPVy9UbGFlZ2pTTXk4dkszNzUrL0NuSTZja1BTeU1pWHlvMi91clRneXg5QlNZQWYvVUovNXpnb3hjSUsxUlFqR1FPcUs2MVZUTVo2QnhzWXc0bkRDaWdwaFI5L1BXMnNIUDMgYml0X2t1bkA5M2EzNGM3NmQwNDIK\n",
      "        - USER_CONTAINER_IMAGE=guacamole/guacamole:0.9.14,guacamole/guacd:0.9.14,mariadb:10.3,nginx:1.14,prom/prometheus\n",
      "    cloud_provider: aws\n",
      "    cloud_params:\n",
      "        cci_version: \"1.1\"\n",
      "        instance_type: m4.large\n",
      "        volume_size: 16\n",
      "        volume_type: gp2\n",
      "        cloud_image: default\n",
      "        ip_address_list: ['172.30.2.100']\n",
      "        access_key: vault://cubbyhole/aws/access_key\n",
      "        volume_id: []\n",
      "        secret_key: vault://cubbyhole/aws/secret_key\n",
      "        tags: {}\n"
     ]
    }
   ],
   "source": [
    "print(spec_srv.cci(''))"
   ]
  },
  {
   "cell_type": "markdown",
   "metadata": {
    "lc_cell_meme": {
     "current": "05337a24-4af8-11e9-9859-0242ac110002",
     "next": "05337a74-4af8-11e9-9859-0242ac110002",
     "previous": "053379de-4af8-11e9-9859-0242ac110002"
    }
   },
   "source": [
    "## 演習環境用VCノードのspec を指定する\n",
    "\n",
    "「01-パラメータの設定.ipynb」で指定したパラメータを演習環境用VCノードの `spec` に設定します。"
   ]
  },
  {
   "cell_type": "markdown",
   "metadata": {
    "lc_cell_meme": {
     "current": "05337a74-4af8-11e9-9859-0242ac110002",
     "next": "05337aba-4af8-11e9-9859-0242ac110002",
     "previous": "05337a24-4af8-11e9-9859-0242ac110002"
    }
   },
   "source": [
    "`spec`に設定するパラメータを以下に示します。\n",
    "\n",
    "* `image`: Baseコンテナイメージ\n",
    "  - 演習環境用 Baseコンテナイメージを設定します\n",
    "* `params_v`: ボリューム設定\n",
    "  - Baseコンテナのボリュームを設定します\n",
    "  - 演習環境用Baseコンテナではホスト側の `/sys/fs/cgroup` をコンテナから見えるように設定する必要があります\n",
    "* `volume_size`: ルートボリュームサイズ\n",
    "  - VCノードに割り当てるルートボリュームサイズ(GB)\n",
    "* `set_ssh_publickey()`: SSHの公開鍵\n",
    "  - VCノードに登録するSSHの公開鍵\n",
    "* `params_e`: Baseコンテナの環境変数設定\n",
    "  - `MASTER_ADDRESS`\n",
    "     - Guacamole用VCノードに割り当てるIPアドレス\n",
    "  - `NFS_DOMAIN`\n",
    "     - NFSのドメイン名\n",
    "  - `ETC_FSTAB`\n",
    "     - Baseコンテナに設定する `/etc/fstab` を base64エンコードした値\n",
    "  - `MKDIR_LIST`\n",
    "     - 起動時に作成するディレクトリ\n",
    "  - `USER_CONTAINER_IMAGE`\n",
    "     - Baseコンテナ起動時に、自動的に取得を行うアプリケーションコンテナイメージのリスト"
   ]
  },
  {
   "cell_type": "code",
   "execution_count": 9,
   "metadata": {
    "deletable": false,
    "editable": false,
    "lc_cell_meme": {
     "current": "05337aba-4af8-11e9-9859-0242ac110002",
     "next": "05337b00-4af8-11e9-9859-0242ac110002",
     "previous": "05337a74-4af8-11e9-9859-0242ac110002"
    },
    "run_through_control": {
     "frozen": true
    }
   },
   "outputs": [],
   "source": [
    "from base64 import b64encode\n",
    "\n",
    "spec_cli = vcp.get_spec(gvars['vc_provider'], gvars['vc_flavor'])\n",
    "\n",
    "# 演習環境用の Baseコンテナイメージを指定する\n",
    "spec_cli.image = 'vcp/guacamole:1.4.2-client'\n",
    "spec_cli.params_v = ['/sys/fs/cgroup:/sys/fs/cgroup:ro']\n",
    "\n",
    "# ルートボリュームサイズを指定する\n",
    "spec_cli.volume_size = gvars['vc_disk_size']\n",
    "\n",
    "# NFSサーバのホームディレクトリをマウントする /etc/fstab のエントリ\n",
    "etc_fstab = f'{gvars[\"nfs_address\"]}:{gvars[\"nfs_directory\"]}  /alt/home nfs {gvars[\"nfs_mount_options\"]} 0 0'\n",
    "    \n",
    "# 起動時に取得するイメージ名を選択する\n",
    "if 'user_container_image_base' in gvars:\n",
    "    # 演習環境コンテナをカスタマイズする場合は、まだイメージが存在していないので元になるイメージを取得する\n",
    "    container_image = gvars['user_container_image_base']\n",
    "else:\n",
    "    # 演習環境コンテナをカスタマイズしない場合は、演習環境コンテナイメージを取得する\n",
    "    container_image = gvars['user_container_image']\n",
    "\n",
    "spec_cli.params_e = [\n",
    "    # Guacamoleを実行するVCノードのIPアドレスを設定する\n",
    "    f\"MASTER_ADDRESS={gvars['vc_guacamole_ipaddress']}\",\n",
    "    # NFSのドメイン名を設定する\n",
    "    f\"NFS_DOMAIN={gvars['nfs_domain']}\",\n",
    "    # /etc/fstab に追加するエントリを設定する\n",
    "    f\"ETC_FSTAB={b64encode(etc_fstab.encode('UTF-8')).decode('UTF-8')}\",\n",
    "    # NFSでマウントするマウントポイントのディレクトリを設定する\n",
    "    \"MKDIR_LIST=/alt/home\",\n",
    "    # 起動時に取得するコンテナイメージ名を設定する\n",
    "    f\"USER_CONTAINER_IMAGE=centos:7,{container_image}\",\n",
    "]\n",
    "\n",
    "# VCノードにsshでログインするための公開鍵を設定する\n",
    "spec_cli.set_ssh_pubkey(gvars['ssh_public_key_path'])"
   ]
  },
  {
   "cell_type": "markdown",
   "metadata": {
    "lc_cell_meme": {
     "current": "05337b00-4af8-11e9-9859-0242ac110002",
     "next": "05337b50-4af8-11e9-9859-0242ac110002",
     "previous": "05337aba-4af8-11e9-9859-0242ac110002"
    }
   },
   "source": [
    "`spec` の設定値を確認します。"
   ]
  },
  {
   "cell_type": "code",
   "execution_count": 10,
   "metadata": {
    "deletable": false,
    "editable": false,
    "lc_cell_meme": {
     "current": "05337b50-4af8-11e9-9859-0242ac110002",
     "next": "05337ba0-4af8-11e9-9859-0242ac110002",
     "previous": "05337b00-4af8-11e9-9859-0242ac110002"
    },
    "run_through_control": {
     "frozen": true
    },
    "scrolled": true
   },
   "outputs": [
    {
     "name": "stdout",
     "output_type": "stream",
     "text": [
      "\n",
      "- unit:\n",
      "    cci_version: \"1.0\"\n",
      "    name: \n",
      "    description: \"\"\n",
      "    private_network: default\n",
      "    num_nodes: 1\n",
      "    image: vcp/guacamole:1.4.2-client\n",
      "    recovery_mode: none\n",
      "    params:\n",
      "        v:\n",
      "        - /sys/fs/cgroup:/sys/fs/cgroup:ro\n",
      "        e:\n",
      "        - MASTER_ADDRESS=172.30.2.100\n",
      "        - NFS_DOMAIN=vcp-handson.org\n",
      "        - ETC_FSTAB=MTcyLjMwLjIuNTA6LyAgL2FsdC9ob21lIG5mcyBuZnN2ZXJzPTQuMiAwIDA=\n",
      "        - MKDIR_LIST=/alt/home\n",
      "        - USER_CONTAINER_IMAGE=centos:7,192.168.2.1:5000/vcp/xrdp:devel\n",
      "        - AUTHORIZED_KEYS=c3NoLXJzYSBBQUFBQjNOemFDMXljMkVBQUFBREFRQUJBQUFCQVFDcW5XY3Y2TlB6SVRld3pKdEMzbTdPb040MGhHUkJQSDdRR2pjUk5FQXY5T0tMcFl6TEJha01rN2VLL3krRzZZRTQ3VUJCdWFGT21hREtOdVJsdHRjLytZZWRTbEI3eGdtMXpyUXl4SExpa2FxSys3azBxclRkSHNPcm5pNEJOWDNEWS9IK2pINldGZ3RZSUtxUk1qWmRXM05PRWJabHMwZkNBVFovR3R6RkhnblMrKzhXN3BSUXYzc1R4NDBHR2h0L2dWU2hOcGEyRmtKREFYeFFscDZXK1AvdkNBaDJxV3E5M1ZRQ1FzQWxpNjVCTGNMZ0hPVy9UbGFlZ2pTTXk4dkszNzUrL0NuSTZja1BTeU1pWHlvMi91clRneXg5QlNZQWYvVUovNXpnb3hjSUsxUlFqR1FPcUs2MVZUTVo2QnhzWXc0bkRDaWdwaFI5L1BXMnNIUDMgYml0X2t1bkA5M2EzNGM3NmQwNDIK\n",
      "    cloud_provider: aws\n",
      "    cloud_params:\n",
      "        cci_version: \"1.1\"\n",
      "        instance_type: m4.large\n",
      "        volume_size: 16\n",
      "        volume_type: gp2\n",
      "        cloud_image: default\n",
      "        ip_address_list: []\n",
      "        access_key: vault://cubbyhole/aws/access_key\n",
      "        volume_id: []\n",
      "        secret_key: vault://cubbyhole/aws/secret_key\n",
      "        tags: {}\n"
     ]
    }
   ],
   "source": [
    "print(spec_cli.cci(''))"
   ]
  },
  {
   "cell_type": "markdown",
   "metadata": {
    "lc_cell_meme": {
     "current": "05337ba0-4af8-11e9-9859-0242ac110002",
     "next": "05337be6-4af8-11e9-9859-0242ac110002",
     "previous": "05337b50-4af8-11e9-9859-0242ac110002"
    }
   },
   "source": [
    "## VCノードの起動"
   ]
  },
  {
   "cell_type": "markdown",
   "metadata": {
    "lc_cell_meme": {
     "current": "05337be6-4af8-11e9-9859-0242ac110002",
     "next": "05337c36-4af8-11e9-9859-0242ac110002",
     "previous": "05337ba0-4af8-11e9-9859-0242ac110002"
    }
   },
   "source": [
    "UnitGroupを作成します。"
   ]
  },
  {
   "cell_type": "code",
   "execution_count": 11,
   "metadata": {
    "deletable": false,
    "editable": false,
    "lc_cell_meme": {
     "current": "05337c36-4af8-11e9-9859-0242ac110002",
     "next": "05337c7c-4af8-11e9-9859-0242ac110002",
     "previous": "05337be6-4af8-11e9-9859-0242ac110002"
    },
    "run_through_control": {
     "frozen": true
    }
   },
   "outputs": [],
   "source": [
    "ugroup = vcp.create_ugroup(unit_group)"
   ]
  },
  {
   "cell_type": "markdown",
   "metadata": {
    "lc_cell_meme": {
     "current": "05337c7c-4af8-11e9-9859-0242ac110002",
     "next": "05337cc2-4af8-11e9-9859-0242ac110002",
     "previous": "05337c36-4af8-11e9-9859-0242ac110002"
    }
   },
   "source": [
    "VCノードを起動します。\n",
    "\n",
    "> VCノードの起動には４分程度かかります。"
   ]
  },
  {
   "cell_type": "code",
   "execution_count": 12,
   "metadata": {
    "deletable": false,
    "editable": false,
    "lc_cell_meme": {
     "current": "05337cc2-4af8-11e9-9859-0242ac110002",
     "next": "05337d12-4af8-11e9-9859-0242ac110002",
     "previous": "05337c7c-4af8-11e9-9859-0242ac110002"
    },
    "run_through_control": {
     "frozen": true
    },
    "scrolled": true
   },
   "outputs": [
    {
     "name": "stdout",
     "output_type": "stream",
     "text": [
      "2019-03-20 19:16:58,391 - INFO - BOOTING ... 0 sec\n",
      "2019-03-20 19:17:03,587 - INFO - BOOTING ... 5 sec\n",
      "2019-03-20 19:17:08,790 - INFO - BOOTING ... 10 sec\n",
      "2019-03-20 19:17:14,003 - INFO - BOOTING ... 15 sec\n",
      "2019-03-20 19:17:19,210 - INFO - BOOTING ... 20 sec\n",
      "2019-03-20 19:17:24,418 - INFO - BOOTING ... 25 sec\n",
      "2019-03-20 19:17:29,617 - INFO - BOOTING ... 30 sec\n",
      "2019-03-20 19:17:34,825 - INFO - BOOTING ... 35 sec\n",
      "2019-03-20 19:17:40,035 - INFO - BOOTING ... 40 sec\n",
      "2019-03-20 19:17:45,327 - INFO - BOOTING ... 45 sec\n",
      "2019-03-20 19:17:50,563 - INFO - BOOTING ... 50 sec\n",
      "2019-03-20 19:17:55,782 - INFO - BOOTING ... 55 sec\n",
      "2019-03-20 19:18:01,013 - INFO - BOOTING ... 60 sec\n",
      "2019-03-20 19:18:06,215 - INFO - BOOTING ... 65 sec\n",
      "2019-03-20 19:18:11,427 - INFO - BOOTING ... 70 sec\n",
      "2019-03-20 19:18:16,640 - INFO - BOOTING ... 75 sec\n",
      "2019-03-20 19:18:21,847 - INFO - BOOTING ... 80 sec\n",
      "2019-03-20 19:18:27,056 - INFO - BOOTING ... 85 sec\n",
      "2019-03-20 19:18:32,260 - INFO - BOOTING ... 90 sec\n",
      "2019-03-20 19:18:37,458 - INFO - BOOTING ... 95 sec\n",
      "2019-03-20 19:18:42,685 - INFO - BOOTING ... 100 sec\n",
      "2019-03-20 19:18:53,878 - INFO - unit server is RUNNING\n",
      "2019-03-20 19:18:55,481 - INFO - BOOTING ... 0 sec\n",
      "2019-03-20 19:19:00,704 - INFO - BOOTING ... 5 sec\n",
      "2019-03-20 19:19:05,956 - INFO - BOOTING ... 10 sec\n",
      "2019-03-20 19:19:11,194 - INFO - BOOTING ... 15 sec\n",
      "2019-03-20 19:19:16,431 - INFO - BOOTING ... 20 sec\n",
      "2019-03-20 19:19:21,664 - INFO - BOOTING ... 25 sec\n",
      "2019-03-20 19:19:26,930 - INFO - BOOTING ... 30 sec\n",
      "2019-03-20 19:19:32,162 - INFO - BOOTING ... 35 sec\n",
      "2019-03-20 19:19:37,405 - INFO - BOOTING ... 40 sec\n",
      "2019-03-20 19:19:42,724 - INFO - BOOTING ... 45 sec\n",
      "2019-03-20 19:19:48,069 - INFO - BOOTING ... 50 sec\n",
      "2019-03-20 19:19:53,355 - INFO - BOOTING ... 55 sec\n",
      "2019-03-20 19:19:58,619 - INFO - BOOTING ... 60 sec\n",
      "2019-03-20 19:20:03,861 - INFO - BOOTING ... 65 sec\n",
      "2019-03-20 19:20:09,095 - INFO - BOOTING ... 70 sec\n",
      "2019-03-20 19:20:14,337 - INFO - BOOTING ... 75 sec\n",
      "2019-03-20 19:20:19,571 - INFO - BOOTING ... 80 sec\n",
      "2019-03-20 19:20:24,807 - INFO - BOOTING ... 85 sec\n",
      "2019-03-20 19:20:30,044 - INFO - BOOTING ... 90 sec\n",
      "2019-03-20 19:20:35,279 - INFO - BOOTING ... 95 sec\n",
      "2019-03-20 19:20:40,524 - INFO - BOOTING ... 100 sec\n",
      "2019-03-20 19:20:45,782 - INFO - BOOTING ... 105 sec\n",
      "2019-03-20 19:20:57,046 - INFO - unit client is RUNNING\n"
     ]
    }
   ],
   "source": [
    "unit_srv = ugroup.create_unit('server', spec_srv)\n",
    "unit_cli = ugroup.create_unit('client', spec_cli)"
   ]
  },
  {
   "cell_type": "markdown",
   "metadata": {
    "lc_cell_meme": {
     "current": "05337d12-4af8-11e9-9859-0242ac110002",
     "next": "05337d58-4af8-11e9-9859-0242ac110002",
     "previous": "05337cc2-4af8-11e9-9859-0242ac110002"
    }
   },
   "source": [
    "起動したVCノードの一覧を表示します。\n",
    "\n",
    "> VCノードの状態が `ERROR` と表示されている場合は VCノードの起動に失敗しています。`ugroup.cleanup()` を実行してエラーとなった VCノードを削除してください。"
   ]
  },
  {
   "cell_type": "code",
   "execution_count": 13,
   "metadata": {
    "deletable": false,
    "editable": false,
    "lc_cell_meme": {
     "current": "05337d58-4af8-11e9-9859-0242ac110002",
     "next": "05337dbc-4af8-11e9-9859-0242ac110002",
     "previous": "05337d12-4af8-11e9-9859-0242ac110002"
    },
    "run_through_control": {
     "frozen": true
    }
   },
   "outputs": [
    {
     "data": {
      "text/html": [
       "<style  type=\"text/css\" >\n",
       "    #T_da315cae_4af9_11e9_a57f_0242ac110002row0_col3 {\n",
       "            background-color:  #dfd;\n",
       "        }    #T_da315cae_4af9_11e9_a57f_0242ac110002row0_col6 {\n",
       "            background-color:  #dfd;\n",
       "        }    #T_da315cae_4af9_11e9_a57f_0242ac110002row1_col3 {\n",
       "            background-color:  #dfd;\n",
       "        }    #T_da315cae_4af9_11e9_a57f_0242ac110002row1_col6 {\n",
       "            background-color:  #dfd;\n",
       "        }</style>  \n",
       "<table id=\"T_da315cae_4af9_11e9_a57f_0242ac110002\" > \n",
       "<thead>    <tr> \n",
       "        <th class=\"blank level0\" ></th> \n",
       "        <th class=\"col_heading level0 col0\" >vcno</th> \n",
       "        <th class=\"col_heading level0 col1\" >vcname</th> \n",
       "        <th class=\"col_heading level0 col2\" >unit_name</th> \n",
       "        <th class=\"col_heading level0 col3\" >unit_state</th> \n",
       "        <th class=\"col_heading level0 col4\" >node_no</th> \n",
       "        <th class=\"col_heading level0 col5\" >node_id</th> \n",
       "        <th class=\"col_heading level0 col6\" >node_state</th> \n",
       "        <th class=\"col_heading level0 col7\" >cloud_instance_address</th> \n",
       "        <th class=\"col_heading level0 col8\" >cloud_instance_id</th> \n",
       "        <th class=\"col_heading level0 col9\" >cloud_instance_name</th> \n",
       "        <th class=\"col_heading level0 col10\" >volumes</th> \n",
       "    </tr></thead> \n",
       "<tbody>    <tr> \n",
       "        <th id=\"T_da315cae_4af9_11e9_a57f_0242ac110002level0_row0\" class=\"row_heading level0 row0\" >0</th> \n",
       "        <td id=\"T_da315cae_4af9_11e9_a57f_0242ac110002row0_col0\" class=\"data row0 col0\" >47</td> \n",
       "        <td id=\"T_da315cae_4af9_11e9_a57f_0242ac110002row0_col1\" class=\"data row0 col1\" >Guacamole-A</td> \n",
       "        <td id=\"T_da315cae_4af9_11e9_a57f_0242ac110002row0_col2\" class=\"data row0 col2\" >server</td> \n",
       "        <td id=\"T_da315cae_4af9_11e9_a57f_0242ac110002row0_col3\" class=\"data row0 col3\" >RUNNING</td> \n",
       "        <td id=\"T_da315cae_4af9_11e9_a57f_0242ac110002row0_col4\" class=\"data row0 col4\" >1</td> \n",
       "        <td id=\"T_da315cae_4af9_11e9_a57f_0242ac110002row0_col5\" class=\"data row0 col5\" >a0cf6db8...</td> \n",
       "        <td id=\"T_da315cae_4af9_11e9_a57f_0242ac110002row0_col6\" class=\"data row0 col6\" >RUNNING</td> \n",
       "        <td id=\"T_da315cae_4af9_11e9_a57f_0242ac110002row0_col7\" class=\"data row0 col7\" >172.30.2.100</td> \n",
       "        <td id=\"T_da315cae_4af9_11e9_a57f_0242ac110002row0_col8\" class=\"data row0 col8\" >i-0377d7f5b16a776e9</td> \n",
       "        <td id=\"T_da315cae_4af9_11e9_a57f_0242ac110002row0_col9\" class=\"data row0 col9\" >VCP-e84fbb63-1f5a475a</td> \n",
       "        <td id=\"T_da315cae_4af9_11e9_a57f_0242ac110002row0_col10\" class=\"data row0 col10\" >none</td> \n",
       "    </tr>    <tr> \n",
       "        <th id=\"T_da315cae_4af9_11e9_a57f_0242ac110002level0_row1\" class=\"row_heading level0 row1\" >1</th> \n",
       "        <td id=\"T_da315cae_4af9_11e9_a57f_0242ac110002row1_col0\" class=\"data row1 col0\" >47</td> \n",
       "        <td id=\"T_da315cae_4af9_11e9_a57f_0242ac110002row1_col1\" class=\"data row1 col1\" >Guacamole-A</td> \n",
       "        <td id=\"T_da315cae_4af9_11e9_a57f_0242ac110002row1_col2\" class=\"data row1 col2\" >client</td> \n",
       "        <td id=\"T_da315cae_4af9_11e9_a57f_0242ac110002row1_col3\" class=\"data row1 col3\" >RUNNING</td> \n",
       "        <td id=\"T_da315cae_4af9_11e9_a57f_0242ac110002row1_col4\" class=\"data row1 col4\" >1</td> \n",
       "        <td id=\"T_da315cae_4af9_11e9_a57f_0242ac110002row1_col5\" class=\"data row1 col5\" >c12b762f...</td> \n",
       "        <td id=\"T_da315cae_4af9_11e9_a57f_0242ac110002row1_col6\" class=\"data row1 col6\" >RUNNING</td> \n",
       "        <td id=\"T_da315cae_4af9_11e9_a57f_0242ac110002row1_col7\" class=\"data row1 col7\" >172.30.2.180</td> \n",
       "        <td id=\"T_da315cae_4af9_11e9_a57f_0242ac110002row1_col8\" class=\"data row1 col8\" >i-0fcd6e8100fc45a41</td> \n",
       "        <td id=\"T_da315cae_4af9_11e9_a57f_0242ac110002row1_col9\" class=\"data row1 col9\" >VCP-e84fbb63-1f5a475a</td> \n",
       "        <td id=\"T_da315cae_4af9_11e9_a57f_0242ac110002row1_col10\" class=\"data row1 col10\" >none</td> \n",
       "    </tr></tbody> \n",
       "</table> "
      ],
      "text/plain": [
       "<pandas.io.formats.style.Styler at 0x7f205ee40f98>"
      ]
     },
     "execution_count": 13,
     "metadata": {},
     "output_type": "execute_result"
    }
   ],
   "source": [
    "ugroup.df_nodes()"
   ]
  },
  {
   "cell_type": "markdown",
   "metadata": {
    "lc_cell_meme": {
     "current": "05337dbc-4af8-11e9-9859-0242ac110002",
     "next": "05337e02-4af8-11e9-9859-0242ac110002",
     "previous": "05337d58-4af8-11e9-9859-0242ac110002"
    }
   },
   "source": [
    "# Ansibleの設定\n",
    "\n",
    "VCノードをAnsibleで操作するための設定を行います。"
   ]
  },
  {
   "cell_type": "markdown",
   "metadata": {
    "lc_cell_meme": {
     "current": "05337e02-4af8-11e9-9859-0242ac110002",
     "next": "05337e52-4af8-11e9-9859-0242ac110002",
     "previous": "05337dbc-4af8-11e9-9859-0242ac110002"
    }
   },
   "source": [
    "![Ansibleの設定](images/guacamole-002-04.png)"
   ]
  },
  {
   "cell_type": "markdown",
   "metadata": {
    "lc_cell_meme": {
     "current": "05337e52-4af8-11e9-9859-0242ac110002",
     "next": "05337e98-4af8-11e9-9859-0242ac110002",
     "previous": "05337e02-4af8-11e9-9859-0242ac110002"
    }
   },
   "source": [
    "まず、VCノードにSSHでログインできるようにするために `~/.ssh/known_hosts` の更新を行います。\n",
    "\n",
    "> 何度かVCノードの起動を行うと、異なるホストが同じIPアドレスで起動するためにSSHのホストキーのチェックでエラーになる事があります。このような状況に対応するために、起動したVCノードのIPアドレスに対応するエントリを`known_hosts`ファイルから削除します。その後、`ssh-keyscan`コマンドを利用して起動したVCノードのホストキーを取得して `known_hosts`ファイルの内容を更新します。"
   ]
  },
  {
   "cell_type": "code",
   "execution_count": 14,
   "metadata": {
    "deletable": false,
    "editable": false,
    "lc_cell_meme": {
     "current": "05337e98-4af8-11e9-9859-0242ac110002",
     "next": "05337ef2-4af8-11e9-9859-0242ac110002",
     "previous": "05337e52-4af8-11e9-9859-0242ac110002"
    },
    "run_through_control": {
     "frozen": true
    }
   },
   "outputs": [
    {
     "name": "stdout",
     "output_type": "stream",
     "text": [
      "# Host 172.30.2.100 found: line 31 type ED25519\n",
      "# Host 172.30.2.100 found: line 32 type RSA\n",
      "# Host 172.30.2.100 found: line 33 type ECDSA\n",
      "/home/bit_kun/.ssh/known_hosts updated.\n",
      "Original contents retained as /home/bit_kun/.ssh/known_hosts.old\n",
      "# 172.30.2.100 SSH-2.0-OpenSSH_7.4\n",
      "# 172.30.2.100 SSH-2.0-OpenSSH_7.4\n",
      "# 172.30.2.100 SSH-2.0-OpenSSH_7.4\n",
      "/home/bit_kun/.ssh/known_hosts updated.\n",
      "Original contents retained as /home/bit_kun/.ssh/known_hosts.old\n",
      "# 172.30.2.180 SSH-2.0-OpenSSH_7.4\n",
      "# 172.30.2.180 SSH-2.0-OpenSSH_7.4\n",
      "# 172.30.2.180 SSH-2.0-OpenSSH_7.4\n"
     ]
    }
   ],
   "source": [
    "from time import sleep\n",
    "\n",
    "def check_update_known_hosts(ipaddr):\n",
    "    # VCノード起動直後だと sshd サービスが開始されておらずに known_hosts が更新されない場合がある\n",
    "    # ssh-keyscan が値を取得できるまで何度かリトライする\n",
    "    for x in range(10):\n",
    "        out = ! echo $(ssh-keyscan {ipaddr} 2> /dev/null | wc -l)\n",
    "        update_lines = int(out[0])\n",
    "        if update_lines > 0:\n",
    "            break\n",
    "        sleep(1)\n",
    "    else:\n",
    "        raise RuntimeError(\"ERROR: timeout!\")    \n",
    "\n",
    "for addr in ugroup.find_ip_addresses():\n",
    "    !ssh-keygen -R {addr}\n",
    "    check_update_known_hosts(addr)\n",
    "    !ssh-keyscan -H {addr} >> ~/.ssh/known_hosts"
   ]
  },
  {
   "cell_type": "markdown",
   "metadata": {
    "lc_cell_meme": {
     "current": "05337ef2-4af8-11e9-9859-0242ac110002",
     "next": "05337f38-4af8-11e9-9859-0242ac110002",
     "previous": "05337e98-4af8-11e9-9859-0242ac110002"
    }
   },
   "source": [
    "起動したVCノードに対応するエントリを Ansible のインベントリに登録します。\n",
    "\n",
    "> Ansibleで操作を行うためには、操作対象のホスト(IPアドレス)をインベントリに登録する必要があります。"
   ]
  },
  {
   "cell_type": "code",
   "execution_count": 15,
   "metadata": {
    "deletable": false,
    "editable": false,
    "lc_cell_meme": {
     "current": "05337f38-4af8-11e9-9859-0242ac110002",
     "next": "05337f88-4af8-11e9-9859-0242ac110002",
     "previous": "05337ef2-4af8-11e9-9859-0242ac110002"
    },
    "run_through_control": {
     "frozen": true
    }
   },
   "outputs": [
    {
     "name": "stdout",
     "output_type": "stream",
     "text": [
      "\r\n",
      "[Guacamole-A:children]\r\n",
      "Guacamole-A-server\r\n",
      "Guacamole-A-client\r\n",
      "    \r\n",
      "[Guacamole-A-server]\r\n",
      "172.30.2.100\r\n",
      "\r\n",
      "[Guacamole-A-client]\r\n",
      "172.30.2.180\r\n",
      "\r\n",
      "[Guacamole-A:vars]\r\n",
      "ansible_ssh_private_key_file=/home/bit_kun/.ssh/id_rsa\r\n"
     ]
    }
   ],
   "source": [
    "import os\n",
    "\n",
    "with open('hosts', 'w') as f:\n",
    "    f.write(f'''\n",
    "[{unit_group}:children]\n",
    "{unit_group}-server\n",
    "{unit_group}-client\n",
    "    \n",
    "[{unit_group}-server]\n",
    "{os.linesep.join(unit_srv.find_ip_addresses())}\n",
    "\n",
    "[{unit_group}-client]\n",
    "{os.linesep.join(unit_cli.find_ip_addresses())}\n",
    "\n",
    "[{unit_group}:vars]\n",
    "ansible_ssh_private_key_file={gvars[\"ssh_private_key_path\"]}\n",
    "''')\n",
    "    \n",
    "!cat ./hosts"
   ]
  },
  {
   "cell_type": "markdown",
   "metadata": {
    "lc_cell_meme": {
     "current": "05337f88-4af8-11e9-9859-0242ac110002",
     "next": "05337fce-4af8-11e9-9859-0242ac110002",
     "previous": "05337f38-4af8-11e9-9859-0242ac110002"
    }
   },
   "source": [
    "複数のVCノードをまとめて操作しやすくするためにインベントリには Ansibleのグループを定義しておきます。UnitGroupに属する全てのVCノードが所属するAnsible のグループとして UnitGroup名と同じAnsibleのグループを定義します。ここでは `Guacamole-A`というAnsibleのグループを定義して、そこに全てのVCノードのIPアドレスを登録してあります。また、Guacamole用Unitと演習環境用Unitに対応するAnsibleのグループも定義しておきます。"
   ]
  },
  {
   "cell_type": "markdown",
   "metadata": {
    "lc_cell_meme": {
     "current": "05337fce-4af8-11e9-9859-0242ac110002",
     "next": "0533801e-4af8-11e9-9859-0242ac110002",
     "previous": "05337f88-4af8-11e9-9859-0242ac110002"
    }
   },
   "source": [
    "先程VCノードを登録したファイルをインベントリとして指定するためのAnsibleのコンフィギュレーションファイルを作成します。\n",
    "\n",
    "> カレントディレクトリにコンフィギュレーションファイル(`ansible.cfg`)を作成すると、Ansibleを実行する際にその設定が適用されます。"
   ]
  },
  {
   "cell_type": "code",
   "execution_count": 16,
   "metadata": {
    "deletable": false,
    "editable": false,
    "lc_cell_meme": {
     "current": "0533801e-4af8-11e9-9859-0242ac110002",
     "next": "05338064-4af8-11e9-9859-0242ac110002",
     "previous": "05337fce-4af8-11e9-9859-0242ac110002"
    },
    "run_through_control": {
     "frozen": true
    }
   },
   "outputs": [
    {
     "name": "stdout",
     "output_type": "stream",
     "text": [
      "\r\n",
      "[defaults]\r\n",
      "inventory = /notebooks/notebook/handson/guacamole/hosts\r\n"
     ]
    }
   ],
   "source": [
    "from pathlib import Path\n",
    "\n",
    "inventory = Path('./hosts')\n",
    "with open('ansible.cfg', 'w') as f:\n",
    "    f.write(f'''\n",
    "[defaults]\n",
    "inventory = {inventory.absolute()}\n",
    "''')\n",
    "    \n",
    "!cat ./ansible.cfg"
   ]
  },
  {
   "cell_type": "markdown",
   "metadata": {
    "lc_cell_meme": {
     "current": "05338064-4af8-11e9-9859-0242ac110002",
     "next": "053380b4-4af8-11e9-9859-0242ac110002",
     "previous": "0533801e-4af8-11e9-9859-0242ac110002"
    }
   },
   "source": [
    "UnitGroupに属する全てのVCノードに対して Ansible で接続できることを確認します。\n",
    "\n",
    "> ここでは、複数のVCノードをまとめて扱うためにAnsibleのグループを指定しています。グループ名は UnitGroup名と同じ値にしてあります。"
   ]
  },
  {
   "cell_type": "code",
   "execution_count": 17,
   "metadata": {
    "deletable": false,
    "editable": false,
    "lc_cell_meme": {
     "current": "053380b4-4af8-11e9-9859-0242ac110002",
     "next": "05338104-4af8-11e9-9859-0242ac110002",
     "previous": "05338064-4af8-11e9-9859-0242ac110002"
    },
    "run_through_control": {
     "frozen": true
    },
    "scrolled": true
   },
   "outputs": [
    {
     "name": "stdout",
     "output_type": "stream",
     "text": [
      "\u001b[0;32m172.30.2.100 | SUCCESS => {\u001b[0m\n",
      "\u001b[0;32m    \"changed\": false, \u001b[0m\n",
      "\u001b[0;32m    \"ping\": \"pong\"\u001b[0m\n",
      "\u001b[0;32m}\u001b[0m\n",
      "\u001b[0;32m172.30.2.180 | SUCCESS => {\u001b[0m\n",
      "\u001b[0;32m    \"changed\": false, \u001b[0m\n",
      "\u001b[0;32m    \"ping\": \"pong\"\u001b[0m\n",
      "\u001b[0;32m}\u001b[0m\n"
     ]
    }
   ],
   "source": [
    "!ansible {unit_group} -m ping"
   ]
  },
  {
   "cell_type": "markdown",
   "metadata": {
    "lc_cell_meme": {
     "current": "05338104-4af8-11e9-9859-0242ac110002",
     "next": "0533814a-4af8-11e9-9859-0242ac110002",
     "previous": "053380b4-4af8-11e9-9859-0242ac110002"
    }
   },
   "source": [
    "# Guacamole環境の設定ファイルの配置"
   ]
  },
  {
   "cell_type": "markdown",
   "metadata": {
    "lc_cell_meme": {
     "current": "0533814a-4af8-11e9-9859-0242ac110002",
     "next": "0533819a-4af8-11e9-9859-0242ac110002",
     "previous": "05338104-4af8-11e9-9859-0242ac110002"
    }
   },
   "source": [
    "![Guacamole環境の設定ファイルの配置](images/guacamole-002-05.png)"
   ]
  },
  {
   "cell_type": "markdown",
   "metadata": {
    "lc_cell_meme": {
     "current": "0533819a-4af8-11e9-9859-0242ac110002",
     "next": "053381e0-4af8-11e9-9859-0242ac110002",
     "previous": "0533814a-4af8-11e9-9859-0242ac110002"
    }
   },
   "source": [
    "## コンテナ構成の設定ファイルを配置する\n",
    "\n",
    "Guacamole環境を構成するコンテナ群を定義するための設定ファイル（`docker-compose.yml`）などをGuacamole用VCノードに配置します。"
   ]
  },
  {
   "cell_type": "markdown",
   "metadata": {
    "lc_cell_meme": {
     "current": "053381e0-4af8-11e9-9859-0242ac110002",
     "next": "05338230-4af8-11e9-9859-0242ac110002",
     "previous": "0533819a-4af8-11e9-9859-0242ac110002"
    }
   },
   "source": [
    "> `docker-compose`コマンドを利用すると`docker-compose.yml`ファイルに記述された内容に従い複数のコンテナの起動、停止などの操作を行うことができます。"
   ]
  },
  {
   "cell_type": "code",
   "execution_count": 18,
   "metadata": {
    "deletable": false,
    "editable": false,
    "lc_cell_meme": {
     "current": "05338230-4af8-11e9-9859-0242ac110002",
     "history": [
      {
       "current": "05338230-4af8-11e9-9859-0242ac110002",
       "next": "05338280-4af8-11e9-9859-0242ac110002",
       "previous": "053381e0-4af8-11e9-9859-0242ac110002"
      },
      {
       "current": "05338230-4af8-11e9-9859-0242ac110002",
       "next": "dbc9ee42-4af8-11e9-9859-0242ac110002",
       "previous": "053381e0-4af8-11e9-9859-0242ac110002"
      }
     ],
     "next": "05338280-4af8-11e9-9859-0242ac110002",
     "previous": "053381e0-4af8-11e9-9859-0242ac110002"
    },
    "run_through_control": {
     "frozen": true
    },
    "scrolled": true
   },
   "outputs": [
    {
     "name": "stdout",
     "output_type": "stream",
     "text": [
      "\u001b[0;33m172.30.2.100 | SUCCESS => {\u001b[0m\n",
      "\u001b[0;33m    \"changed\": true, \u001b[0m\n",
      "\u001b[0;33m    \"gid\": 1000, \u001b[0m\n",
      "\u001b[0;33m    \"group\": \"vcp\", \u001b[0m\n",
      "\u001b[0;33m    \"mode\": \"0755\", \u001b[0m\n",
      "\u001b[0;33m    \"owner\": \"vcp\", \u001b[0m\n",
      "\u001b[0;33m    \"path\": \"/opt/guacamole\", \u001b[0m\n",
      "\u001b[0;33m    \"size\": 4096, \u001b[0m\n",
      "\u001b[0;33m    \"state\": \"directory\", \u001b[0m\n",
      "\u001b[0;33m    \"uid\": 1000\u001b[0m\n",
      "\u001b[0;33m}\u001b[0m\n",
      "\u001b[0;33m172.30.2.100 | SUCCESS => {\u001b[0m\n",
      "\u001b[0;33m    \"changed\": true, \u001b[0m\n",
      "\u001b[0;33m    \"gid\": 1000, \u001b[0m\n",
      "\u001b[0;33m    \"group\": \"vcp\", \u001b[0m\n",
      "\u001b[0;33m    \"mode\": \"0755\", \u001b[0m\n",
      "\u001b[0;33m    \"owner\": \"vcp\", \u001b[0m\n",
      "\u001b[0;33m    \"path\": \"/opt/guacamole/sql\", \u001b[0m\n",
      "\u001b[0;33m    \"size\": 4096, \u001b[0m\n",
      "\u001b[0;33m    \"state\": \"directory\", \u001b[0m\n",
      "\u001b[0;33m    \"uid\": 1000\u001b[0m\n",
      "\u001b[0;33m}\u001b[0m\n",
      "\u001b[0;33m172.30.2.100 | SUCCESS => {\u001b[0m\n",
      "\u001b[0;33m    \"changed\": true, \u001b[0m\n",
      "\u001b[0;33m    \"gid\": 1000, \u001b[0m\n",
      "\u001b[0;33m    \"group\": \"vcp\", \u001b[0m\n",
      "\u001b[0;33m    \"mode\": \"0755\", \u001b[0m\n",
      "\u001b[0;33m    \"owner\": \"vcp\", \u001b[0m\n",
      "\u001b[0;33m    \"path\": \"/opt/guacamole/ldap\", \u001b[0m\n",
      "\u001b[0;33m    \"size\": 4096, \u001b[0m\n",
      "\u001b[0;33m    \"state\": \"directory\", \u001b[0m\n",
      "\u001b[0;33m    \"uid\": 1000\u001b[0m\n",
      "\u001b[0;33m}\u001b[0m\n",
      "\u001b[0;33m172.30.2.100 | SUCCESS => {\u001b[0m\n",
      "\u001b[0;33m    \"changed\": true, \u001b[0m\n",
      "\u001b[0;33m    \"cmd\": \"/usr/bin/rsync --delay-updates -F --compress --archive --rsh=/usr/bin/ssh -S none -i /home/bit_kun/.ssh/id_rsa -o StrictHostKeyChecking=no -o UserKnownHostsFile=/dev/null --out-format=<<CHANGED>>%i %n%L /notebooks/notebook/handson/guacamole/template/docker/compose/ vcp@172.30.2.100:/opt/guacamole\", \u001b[0m\n",
      "\u001b[0;33m    \"msg\": \".d..t...... ./\\n<f+++++++++ docker-compose-init.yml\\n<f+++++++++ docker-compose.yml\\n<f+++++++++ guacamole-init.sh\\n<f+++++++++ prometheus.yml\\n\", \u001b[0m\n",
      "\u001b[0;33m    \"rc\": 0, \u001b[0m\n",
      "\u001b[0;33m    \"stdout_lines\": [\u001b[0m\n",
      "\u001b[0;33m        \".d..t...... ./\", \u001b[0m\n",
      "\u001b[0;33m        \"<f+++++++++ docker-compose-init.yml\", \u001b[0m\n",
      "\u001b[0;33m        \"<f+++++++++ docker-compose.yml\", \u001b[0m\n",
      "\u001b[0;33m        \"<f+++++++++ guacamole-init.sh\", \u001b[0m\n",
      "\u001b[0;33m        \"<f+++++++++ prometheus.yml\"\u001b[0m\n",
      "\u001b[0;33m    ]\u001b[0m\n",
      "\u001b[0;33m}\u001b[0m\n",
      "\u001b[0;33m172.30.2.100 | SUCCESS => {\u001b[0m\n",
      "\u001b[0;33m    \"changed\": true, \u001b[0m\n",
      "\u001b[0;33m    \"checksum\": \"10e1ea4010f175482be472616b4c42b118db0ac8\", \u001b[0m\n",
      "\u001b[0;33m    \"dest\": \"/opt/guacamole/docker-compose.yml\", \u001b[0m\n",
      "\u001b[0;33m    \"gid\": 1000, \u001b[0m\n",
      "\u001b[0;33m    \"group\": \"vcp\", \u001b[0m\n",
      "\u001b[0;33m    \"md5sum\": \"f1d4b2ed2a417f9d02eee6059ab8bbb7\", \u001b[0m\n",
      "\u001b[0;33m    \"mode\": \"0644\", \u001b[0m\n",
      "\u001b[0;33m    \"owner\": \"vcp\", \u001b[0m\n",
      "\u001b[0;33m    \"size\": 1682, \u001b[0m\n",
      "\u001b[0;33m    \"src\": \"/home/vcp/.ansible/tmp/ansible-tmp-1553077278.81-194238159419953/source\", \u001b[0m\n",
      "\u001b[0;33m    \"state\": \"file\", \u001b[0m\n",
      "\u001b[0;33m    \"uid\": 1000\u001b[0m\n",
      "\u001b[0;33m}\u001b[0m\n",
      "\u001b[0;33m172.30.2.100 | SUCCESS => {\u001b[0m\n",
      "\u001b[0;33m    \"changed\": true, \u001b[0m\n",
      "\u001b[0;33m    \"checksum\": \"d424ef6f36f2551d29a4a1c17ab2abc13cade486\", \u001b[0m\n",
      "\u001b[0;33m    \"dest\": \"/opt/guacamole/prometheus.yml\", \u001b[0m\n",
      "\u001b[0;33m    \"gid\": 1000, \u001b[0m\n",
      "\u001b[0;33m    \"group\": \"vcp\", \u001b[0m\n",
      "\u001b[0;33m    \"md5sum\": \"2f8ca8860cb3d0b7d536ff3bf43f779f\", \u001b[0m\n",
      "\u001b[0;33m    \"mode\": \"0644\", \u001b[0m\n",
      "\u001b[0;33m    \"owner\": \"vcp\", \u001b[0m\n",
      "\u001b[0;33m    \"size\": 355, \u001b[0m\n",
      "\u001b[0;33m    \"src\": \"/home/vcp/.ansible/tmp/ansible-tmp-1553077281.22-84665806572870/source\", \u001b[0m\n",
      "\u001b[0;33m    \"state\": \"file\", \u001b[0m\n",
      "\u001b[0;33m    \"uid\": 1000\u001b[0m\n",
      "\u001b[0;33m}\u001b[0m\n"
     ]
    }
   ],
   "source": [
    "# 配置先のディレクトリの作成\n",
    "!ansible {unit_group}-server -b -m file -a 'path=/opt/guacamole \\\n",
    "    state=directory owner=vcp group=vcp'\n",
    "!ansible {unit_group}-server -b -m file -a 'path=/opt/guacamole/sql \\\n",
    "    state=directory owner=vcp group=vcp'\n",
    "!ansible {unit_group}-server -b -m file -a 'path=/opt/guacamole/ldap \\\n",
    "    state=directory owner=vcp group=vcp'\n",
    "# 設定ファイルの配置\n",
    "!ansible {unit_group}-server -m synchronize \\\n",
    "    -a 'src=template/docker/compose/ dest=/opt/guacamole'\n",
    "!ansible {unit_group}-server -m template \\\n",
    "    -a 'src=template/docker/compose/docker-compose.yml dest=/opt/guacamole/'\n",
    "!ansible {unit_group}-server -m template \\\n",
    "    -a 'src=template/docker/compose/prometheus.yml dest=/opt/guacamole/'"
   ]
  },
  {
   "cell_type": "markdown",
   "metadata": {
    "lc_cell_meme": {
     "current": "05338280-4af8-11e9-9859-0242ac110002",
     "history": [
      {
       "current": "05338280-4af8-11e9-9859-0242ac110002",
       "next": "053382d0-4af8-11e9-9859-0242ac110002",
       "previous": "05338230-4af8-11e9-9859-0242ac110002"
      },
      {
       "current": "05338280-4af8-11e9-9859-0242ac110002",
       "next": "053382d0-4af8-11e9-9859-0242ac110002",
       "previous": "dbc9ef96-4af8-11e9-9859-0242ac110002"
      }
     ],
     "next": "053382d0-4af8-11e9-9859-0242ac110002",
     "previous": "05338230-4af8-11e9-9859-0242ac110002"
    }
   },
   "source": [
    "## Guacamoleの初期設定SQLファイルの作成\n",
    "\n",
    "Guacamole用のテーブル作成などを行う初期実行SQLファイルを作成します。"
   ]
  },
  {
   "cell_type": "markdown",
   "metadata": {
    "lc_cell_meme": {
     "current": "053382d0-4af8-11e9-9859-0242ac110002",
     "next": "05338316-4af8-11e9-9859-0242ac110002",
     "previous": "05338280-4af8-11e9-9859-0242ac110002"
    }
   },
   "source": [
    "Guacamoleのコンテナイメージに含まれている`initdb.sh` スクリプトを実行するとGuacamoleが利用するデータベースを作成するためのSQLを生成することができます。ここではMariaDB(MySQL)用のデータベース作成SQLの生成を行います。"
   ]
  },
  {
   "cell_type": "code",
   "execution_count": 19,
   "metadata": {
    "deletable": false,
    "editable": false,
    "lc_cell_meme": {
     "current": "05338316-4af8-11e9-9859-0242ac110002",
     "next": "05338366-4af8-11e9-9859-0242ac110002",
     "previous": "053382d0-4af8-11e9-9859-0242ac110002"
    },
    "run_through_control": {
     "frozen": true
    }
   },
   "outputs": [
    {
     "name": "stdout",
     "output_type": "stream",
     "text": [
      "\u001b[0;33m172.30.2.100 | SUCCESS => {\u001b[0m\n",
      "\u001b[0;33m    \"changed\": true, \u001b[0m\n",
      "\u001b[0;33m    \"dest\": \"/opt/guacamole/sql/initdb.sql\", \u001b[0m\n",
      "\u001b[0;33m    \"gid\": 1000, \u001b[0m\n",
      "\u001b[0;33m    \"group\": \"vcp\", \u001b[0m\n",
      "\u001b[0;33m    \"mode\": \"0664\", \u001b[0m\n",
      "\u001b[0;33m    \"owner\": \"vcp\", \u001b[0m\n",
      "\u001b[0;33m    \"size\": 0, \u001b[0m\n",
      "\u001b[0;33m    \"state\": \"file\", \u001b[0m\n",
      "\u001b[0;33m    \"uid\": 1000\u001b[0m\n",
      "\u001b[0;33m}\u001b[0m\n",
      "\u001b[0;32m172.30.2.100 | SUCCESS | rc=0 >>\u001b[0m\n",
      "\u001b[0;32mCreating network \"guacamole_default\" with the default driver\u001b[0m\n",
      "\u001b[0m32mCreating guacamole_guacamole-initdb_1 ... \n",
      "\u001b[1B\u001b[0m guacamole_guacamole-initdb_1 ... \u001b[32mdone\u001b[0m\n",
      "\u001b[0;32m\u001b[0m\n",
      "\u001b[0;32m172.30.2.100 | SUCCESS | rc=0 >>\u001b[0m\n",
      "\u001b[0m32mRemoving guacamole_guacamole-initdb_1 ... \n",
      "\u001b[1BRemoving network guacamole_default\u001b[0m\u001b[32mdone\u001b[0m\n",
      "\u001b[0;32m\u001b[0m\n"
     ]
    }
   ],
   "source": [
    "!ansible {unit_group}-server -m file -a 'path=/opt/guacamole/sql/initdb.sql state=touch'\n",
    "!ansible {unit_group}-server -a 'chdir=/opt/guacamole docker-compose -f docker-compose-init.yml up -d'\n",
    "!ansible {unit_group}-server -a 'chdir=/opt/guacamole docker-compose -f docker-compose-init.yml down'"
   ]
  },
  {
   "cell_type": "markdown",
   "metadata": {
    "lc_cell_meme": {
     "current": "05338366-4af8-11e9-9859-0242ac110002",
     "next": "053383ac-4af8-11e9-9859-0242ac110002",
     "previous": "05338316-4af8-11e9-9859-0242ac110002"
    }
   },
   "source": [
    "SQLファイルが作成されたことを確認します。"
   ]
  },
  {
   "cell_type": "code",
   "execution_count": 20,
   "metadata": {
    "deletable": false,
    "editable": false,
    "lc_cell_meme": {
     "current": "053383ac-4af8-11e9-9859-0242ac110002",
     "next": "053383fc-4af8-11e9-9859-0242ac110002",
     "previous": "05338366-4af8-11e9-9859-0242ac110002"
    },
    "run_through_control": {
     "frozen": true
    },
    "scrolled": true
   },
   "outputs": [
    {
     "name": "stdout",
     "output_type": "stream",
     "text": [
      "\u001b[0;32m172.30.2.100 | SUCCESS | rc=0 >>\u001b[0m\r\n",
      "\u001b[0;32m--\u001b[0m\r\n",
      "\u001b[0;32m-- Licensed to the Apache Software Foundation (ASF) under one\u001b[0m\r\n",
      "\u001b[0;32m-- or more contributor license agreements.  See the NOTICE file\u001b[0m\r\n",
      "\u001b[0;32m-- distributed with this work for additional information\u001b[0m\r\n",
      "\u001b[0;32m-- regarding copyright ownership.  The ASF licenses this file\u001b[0m\r\n",
      "\u001b[0;32m-- to you under the Apache License, Version 2.0 (the\u001b[0m\r\n",
      "\u001b[0;32m-- \"License\"); you may not use this file except in compliance\u001b[0m\r\n",
      "\u001b[0;32m-- with the License.  You may obtain a copy of the License at\u001b[0m\r\n",
      "\u001b[0;32m--\u001b[0m\r\n",
      "\u001b[0;32m--   http://www.apache.org/licenses/LICENSE-2.0\u001b[0m\r\n",
      "\u001b[0;32m--\u001b[0m\r\n",
      "\u001b[0;32m-- Unless required by applicable law or agreed to in writing,\u001b[0m\r\n",
      "\u001b[0;32m-- software distributed under the License is distributed on an\u001b[0m\r\n",
      "\u001b[0;32m-- \"AS IS\" BASIS, WITHOUT WARRANTIES OR CONDITIONS OF ANY\u001b[0m\r\n",
      "\u001b[0;32m-- KIND, either express or implied.  See the License for the\u001b[0m\r\n",
      "\u001b[0;32m-- specific language governing permissions and limitations\u001b[0m\r\n",
      "\u001b[0;32m-- under the License.\u001b[0m\r\n",
      "\u001b[0;32m--\u001b[0m\r\n",
      "\u001b[0;32m\u001b[0m\r\n",
      "\u001b[0;32m--\u001b[0m\r\n",
      "\u001b[0;32m-- Table of connection groups. Each connection group has a name.\u001b[0m\r\n",
      "\u001b[0;32m--\u001b[0m\r\n",
      "\u001b[0;32m\u001b[0m\r\n",
      "\u001b[0;32mCREATE TABLE `guacamole_connection_group` (\u001b[0m\r\n",
      "\u001b[0;32m\u001b[0m\r\n",
      "\u001b[0;32m  `connection_group_id`   int(11)      NOT NULL AUTO_INCREMENT,\u001b[0m\r\n",
      "\u001b[0;32m  `parent_id`             int(11),\u001b[0m\r\n",
      "\u001b[0;32m  `connection_group_name` varchar(128) NOT NULL,\u001b[0m\r\n",
      "\u001b[0;32m  `type`                  enum('ORGANIZATIONAL',\u001b[0m\r\n",
      "\u001b[0;32m                               'BALANCING') NOT NULL DEFAULT 'ORGANIZATIONAL',\u001b[0m\r\n",
      "\u001b[0;32m\u001b[0m\r\n"
     ]
    }
   ],
   "source": [
    "!ansible {unit_group}-server -a 'head -30 /opt/guacamole/sql/initdb.sql'"
   ]
  },
  {
   "cell_type": "markdown",
   "metadata": {
    "lc_cell_meme": {
     "current": "053383fc-4af8-11e9-9859-0242ac110002",
     "next": "05338442-4af8-11e9-9859-0242ac110002",
     "previous": "053383ac-4af8-11e9-9859-0242ac110002"
    }
   },
   "source": [
    "## LDAPサーバのCA証明書の配置"
   ]
  },
  {
   "cell_type": "markdown",
   "metadata": {
    "lc_cell_meme": {
     "current": "05338442-4af8-11e9-9859-0242ac110002",
     "next": "053384a6-4af8-11e9-9859-0242ac110002",
     "previous": "053383fc-4af8-11e9-9859-0242ac110002"
    }
   },
   "source": [
    "LDAPサーバにSSL/TSLで接続する際に必要となるCA証明書をVCノードに配置します。"
   ]
  },
  {
   "cell_type": "code",
   "execution_count": 21,
   "metadata": {
    "deletable": false,
    "editable": false,
    "lc_cell_meme": {
     "current": "053384a6-4af8-11e9-9859-0242ac110002",
     "next": "05338532-4af8-11e9-9859-0242ac110002",
     "previous": "05338442-4af8-11e9-9859-0242ac110002"
    },
    "run_through_control": {
     "frozen": true
    },
    "scrolled": true
   },
   "outputs": [
    {
     "name": "stdout",
     "output_type": "stream",
     "text": [
      "\u001b[0;33m172.30.2.100 | SUCCESS => {\u001b[0m\r\n",
      "\u001b[0;33m    \"changed\": true, \u001b[0m\r\n",
      "\u001b[0;33m    \"checksum\": \"d5b33cff2ebb27106ef7dafd467af3165ae43927\", \u001b[0m\r\n",
      "\u001b[0;33m    \"dest\": \"/opt/guacamole/ldap/ldap-ca.crt\", \u001b[0m\r\n",
      "\u001b[0;33m    \"gid\": 1000, \u001b[0m\r\n",
      "\u001b[0;33m    \"group\": \"vcp\", \u001b[0m\r\n",
      "\u001b[0;33m    \"md5sum\": \"21ff606330640a3d2b75aa6d5b83a65a\", \u001b[0m\r\n",
      "\u001b[0;33m    \"mode\": \"0664\", \u001b[0m\r\n",
      "\u001b[0;33m    \"owner\": \"vcp\", \u001b[0m\r\n",
      "\u001b[0;33m    \"size\": 1042, \u001b[0m\r\n",
      "\u001b[0;33m    \"src\": \"/home/vcp/.ansible/tmp/ansible-tmp-1553077292.27-167666150570787/source\", \u001b[0m\r\n",
      "\u001b[0;33m    \"state\": \"file\", \u001b[0m\r\n",
      "\u001b[0;33m    \"uid\": 1000\u001b[0m\r\n",
      "\u001b[0;33m}\u001b[0m\r\n"
     ]
    }
   ],
   "source": [
    "if 'ldap_ca_path' in gvars:\n",
    "    !ansible {unit_group}-server -m copy \\\n",
    "        -a 'dest=/opt/guacamole/ldap/ldap-ca.crt src={{{{ldap_ca_path}}}}'"
   ]
  },
  {
   "cell_type": "markdown",
   "metadata": {
    "lc_cell_meme": {
     "current": "05338532-4af8-11e9-9859-0242ac110002",
     "next": "05338582-4af8-11e9-9859-0242ac110002",
     "previous": "053384a6-4af8-11e9-9859-0242ac110002"
    }
   },
   "source": [
    "証明書ファイルが配置されたことを確認します。"
   ]
  },
  {
   "cell_type": "code",
   "execution_count": 22,
   "metadata": {
    "deletable": false,
    "editable": false,
    "lc_cell_meme": {
     "current": "05338582-4af8-11e9-9859-0242ac110002",
     "next": "053385d2-4af8-11e9-9859-0242ac110002",
     "previous": "05338532-4af8-11e9-9859-0242ac110002"
    },
    "run_through_control": {
     "frozen": true
    },
    "scrolled": true
   },
   "outputs": [
    {
     "name": "stdout",
     "output_type": "stream",
     "text": [
      "\u001b[0;32m172.30.2.100 | SUCCESS | rc=0 >>\u001b[0m\r\n",
      "\u001b[0;32m-----BEGIN CERTIFICATE-----\u001b[0m\r\n",
      "\u001b[0;32mMIIC0zCCAlmgAwIBAgIUCfQ+m0pgZ/BjYAJvxrn/bdGNZokwCgYIKoZIzj0EAwMw\u001b[0m\r\n",
      "\u001b[0;32mgZYxCzAJBgNVBAYTAlVTMRUwEwYDVQQKEwxBMUEgQ2FyIFdhc2gxJDAiBgNVBAsT\u001b[0m\r\n",
      "\u001b[0;32mG0luZm9ybWF0aW9uIFRlY2hub2xvZ3kgRGVwLjEUMBIGA1UEBxMLQWxidXF1ZXJx\u001b[0m\r\n",
      "\u001b[0;32mdWUxEzARBgNVBAgTCk5ldyBNZXhpY28xHzAdBgNVBAMTFmRvY2tlci1saWdodC1i\u001b[0m\r\n",
      "\u001b[0;32mYXNlaW1hZ2UwHhcNMTUxMjIzMTM1MzAwWhcNMjAxMjIxMTM1MzAwWjCBljELMAkG\u001b[0m\r\n",
      "\u001b[0;32mA1UEBhMCVVMxFTATBgNVBAoTDEExQSBDYXIgV2FzaDEkMCIGA1UECxMbSW5mb3Jt\u001b[0m\r\n",
      "\u001b[0;32mYXRpb24gVGVjaG5vbG9neSBEZXAuMRQwEgYDVQQHEwtBbGJ1cXVlcnF1ZTETMBEG\u001b[0m\r\n",
      "\u001b[0;32mA1UECBMKTmV3IE1leGljbzEfMB0GA1UEAxMWZG9ja2VyLWxpZ2h0LWJhc2VpbWFn\u001b[0m\r\n",
      "\u001b[0;32mZTB2MBAGByqGSM49AgEGBSuBBAAiA2IABMZf/12pupAgl8Sm+j8GmjNeNbSFAZWW\u001b[0m\r\n",
      "\u001b[0;32moTmIvf2Mu4LWPHy4bTldkQgHUbBpT3xWz8f0lB/ru7596CHsGoL2A28hxuclq5hb\u001b[0m\r\n",
      "\u001b[0;32mUx1yrIt3bJIY3TuiX25HGTe6kGCJPB1aLaNmMGQwDgYDVR0PAQH/BAQDAgEGMBIG\u001b[0m\r\n",
      "\u001b[0;32mA1UdEwEB/wQIMAYBAf8CAQIwHQYDVR0OBBYEFE+l6XolXDAYnGLTl4W6ULKHrm74\u001b[0m\r\n",
      "\u001b[0;32mMB8GA1UdIwQYMBaAFE+l6XolXDAYnGLTl4W6ULKHrm74MAoGCCqGSM49BAMDA2gA\u001b[0m\r\n",
      "\u001b[0;32mMGUCMQCXLZj8okyxW6UTL7hribUUbu63PbjuwIXnwi420DdNsvA9A7fcQEXScWFL\u001b[0m\r\n",
      "\u001b[0;32mXAGC8rkCMGcqwXZPSRfwuI9r+R11gTrP92hnaVxs9sjRikctpkQpOyNlIXFPopFK\u001b[0m\r\n",
      "\u001b[0;32m8FdfWPypvA==\u001b[0m\r\n",
      "\u001b[0;32m-----END CERTIFICATE-----\u001b[0m\r\n",
      "\u001b[0;32m\u001b[0m\r\n"
     ]
    }
   ],
   "source": [
    "if 'ldap_ca_path' in gvars:\n",
    "    !ansible {unit_group}-server -a 'cat /opt/guacamole/ldap/ldap-ca.crt'"
   ]
  },
  {
   "cell_type": "markdown",
   "metadata": {
    "lc_cell_meme": {
     "current": "053385d2-4af8-11e9-9859-0242ac110002",
     "next": "05338618-4af8-11e9-9859-0242ac110002",
     "previous": "05338582-4af8-11e9-9859-0242ac110002"
    }
   },
   "source": [
    "## 演習環境コンテナのパラメータファイル"
   ]
  },
  {
   "cell_type": "markdown",
   "metadata": {
    "lc_cell_meme": {
     "current": "05338618-4af8-11e9-9859-0242ac110002",
     "next": "05338668-4af8-11e9-9859-0242ac110002",
     "previous": "053385d2-4af8-11e9-9859-0242ac110002"
    }
   },
   "source": [
    "演習環境コンテナを起動する際に必要となるパラメータを Guacamole用 VCノードの `/etc/sysconfig/guacamole-proxy` に記述しておきます。"
   ]
  },
  {
   "cell_type": "code",
   "execution_count": 23,
   "metadata": {
    "deletable": false,
    "editable": false,
    "lc_cell_meme": {
     "current": "05338668-4af8-11e9-9859-0242ac110002",
     "next": "053386ae-4af8-11e9-9859-0242ac110002",
     "previous": "05338618-4af8-11e9-9859-0242ac110002"
    },
    "run_through_control": {
     "frozen": true
    },
    "scrolled": true
   },
   "outputs": [
    {
     "name": "stdout",
     "output_type": "stream",
     "text": [
      "\u001b[0;33m172.30.2.100 | SUCCESS => {\u001b[0m\r\n",
      "\u001b[0;33m    \"changed\": true, \u001b[0m\r\n",
      "\u001b[0;33m    \"checksum\": \"bf17021c44218a7cc7e4d066060ef24e420afda7\", \u001b[0m\r\n",
      "\u001b[0;33m    \"dest\": \"/etc/sysconfig/guacamole-proxy\", \u001b[0m\r\n",
      "\u001b[0;33m    \"gid\": 0, \u001b[0m\r\n",
      "\u001b[0;33m    \"group\": \"root\", \u001b[0m\r\n",
      "\u001b[0;33m    \"md5sum\": \"3e53858fc67ce4d21f8dc151ac7aa0a9\", \u001b[0m\r\n",
      "\u001b[0;33m    \"mode\": \"0600\", \u001b[0m\r\n",
      "\u001b[0;33m    \"owner\": \"root\", \u001b[0m\r\n",
      "\u001b[0;33m    \"size\": 592, \u001b[0m\r\n",
      "\u001b[0;33m    \"src\": \"/home/vcp/.ansible/tmp/ansible-tmp-1553077296.31-135659132762556/source\", \u001b[0m\r\n",
      "\u001b[0;33m    \"state\": \"file\", \u001b[0m\r\n",
      "\u001b[0;33m    \"uid\": 0\u001b[0m\r\n",
      "\u001b[0;33m}\u001b[0m\r\n"
     ]
    }
   ],
   "source": [
    "!ansible {unit_group}-server -m template \\\n",
    "    -b -a 'dest=/etc/sysconfig/guacamole-proxy \\\n",
    "        src=template/sysconfig/guacamole-proxy mode=0600'"
   ]
  },
  {
   "cell_type": "markdown",
   "metadata": {
    "lc_cell_meme": {
     "current": "053386ae-4af8-11e9-9859-0242ac110002",
     "next": "05338712-4af8-11e9-9859-0242ac110002",
     "previous": "05338668-4af8-11e9-9859-0242ac110002"
    }
   },
   "source": [
    "設定ファイルが配置されたことを確認します。"
   ]
  },
  {
   "cell_type": "code",
   "execution_count": 24,
   "metadata": {
    "deletable": false,
    "editable": false,
    "lc_cell_meme": {
     "current": "05338712-4af8-11e9-9859-0242ac110002",
     "next": "05338762-4af8-11e9-9859-0242ac110002",
     "previous": "053386ae-4af8-11e9-9859-0242ac110002"
    },
    "run_through_control": {
     "frozen": true
    }
   },
   "outputs": [
    {
     "name": "stdout",
     "output_type": "stream",
     "text": [
      "\u001b[0;32m172.30.2.100 | SUCCESS | rc=0 >>\u001b[0m\r\n",
      "\u001b[0;32m-rw------- 1 root root 592 Mar 20 10:21 /etc/sysconfig/guacamole-proxy\u001b[0m\r\n",
      "\u001b[0;32m\u001b[0m\r\n"
     ]
    }
   ],
   "source": [
    "!ansible {unit_group}-server -a 'ls -la /etc/sysconfig/guacamole-proxy'"
   ]
  },
  {
   "cell_type": "markdown",
   "metadata": {
    "lc_cell_meme": {
     "current": "05338762-4af8-11e9-9859-0242ac110002",
     "next": "053387a8-4af8-11e9-9859-0242ac110002",
     "previous": "05338712-4af8-11e9-9859-0242ac110002"
    }
   },
   "source": [
    "## リバースプロキシの設定ファイルの配置"
   ]
  },
  {
   "cell_type": "markdown",
   "metadata": {
    "lc_cell_meme": {
     "current": "053387a8-4af8-11e9-9859-0242ac110002",
     "next": "053387ee-4af8-11e9-9859-0242ac110002",
     "previous": "05338762-4af8-11e9-9859-0242ac110002"
    }
   },
   "source": [
    "外部からのアクセスを SSL/TLS にするためにひつようとなる、サーバ証明書と秘密鍵ファイルをVCノードに配置します。配置した証明書ファイルなどはリバースプロキシとなる nginx コンテナに読み込まれます。"
   ]
  },
  {
   "cell_type": "code",
   "execution_count": 25,
   "metadata": {
    "deletable": false,
    "editable": false,
    "lc_cell_meme": {
     "current": "053387ee-4af8-11e9-9859-0242ac110002",
     "next": "05338834-4af8-11e9-9859-0242ac110002",
     "previous": "053387a8-4af8-11e9-9859-0242ac110002"
    },
    "run_through_control": {
     "frozen": true
    },
    "scrolled": true
   },
   "outputs": [
    {
     "name": "stdout",
     "output_type": "stream",
     "text": [
      "\u001b[0;33m172.30.2.100 | SUCCESS => {\u001b[0m\n",
      "\u001b[0;33m    \"changed\": true, \u001b[0m\n",
      "\u001b[0;33m    \"gid\": 1000, \u001b[0m\n",
      "\u001b[0;33m    \"group\": \"vcp\", \u001b[0m\n",
      "\u001b[0;33m    \"mode\": \"0755\", \u001b[0m\n",
      "\u001b[0;33m    \"owner\": \"vcp\", \u001b[0m\n",
      "\u001b[0;33m    \"path\": \"/opt/guacamole/nginx\", \u001b[0m\n",
      "\u001b[0;33m    \"size\": 4096, \u001b[0m\n",
      "\u001b[0;33m    \"state\": \"directory\", \u001b[0m\n",
      "\u001b[0;33m    \"uid\": 1000\u001b[0m\n",
      "\u001b[0;33m}\u001b[0m\n",
      "\u001b[0;33m172.30.2.100 | SUCCESS => {\u001b[0m\n",
      "\u001b[0;33m    \"changed\": true, \u001b[0m\n",
      "\u001b[0;33m    \"gid\": 1000, \u001b[0m\n",
      "\u001b[0;33m    \"group\": \"vcp\", \u001b[0m\n",
      "\u001b[0;33m    \"mode\": \"0755\", \u001b[0m\n",
      "\u001b[0;33m    \"owner\": \"vcp\", \u001b[0m\n",
      "\u001b[0;33m    \"path\": \"/opt/guacamole/nginx/certs\", \u001b[0m\n",
      "\u001b[0;33m    \"size\": 4096, \u001b[0m\n",
      "\u001b[0;33m    \"state\": \"directory\", \u001b[0m\n",
      "\u001b[0;33m    \"uid\": 1000\u001b[0m\n",
      "\u001b[0;33m}\u001b[0m\n",
      "\u001b[0;33m172.30.2.100 | SUCCESS => {\u001b[0m\n",
      "\u001b[0;33m    \"changed\": true, \u001b[0m\n",
      "\u001b[0;33m    \"checksum\": \"3abefbf610a4799b969d1f5e738d666a5894fc56\", \u001b[0m\n",
      "\u001b[0;33m    \"dest\": \"/opt/guacamole/nginx/default.conf\", \u001b[0m\n",
      "\u001b[0;33m    \"gid\": 1000, \u001b[0m\n",
      "\u001b[0;33m    \"group\": \"vcp\", \u001b[0m\n",
      "\u001b[0;33m    \"md5sum\": \"4a99280299e4df73f5f9163ff3f9a52a\", \u001b[0m\n",
      "\u001b[0;33m    \"mode\": \"0664\", \u001b[0m\n",
      "\u001b[0;33m    \"owner\": \"vcp\", \u001b[0m\n",
      "\u001b[0;33m    \"size\": 622, \u001b[0m\n",
      "\u001b[0;33m    \"src\": \"/home/vcp/.ansible/tmp/ansible-tmp-1553077304.35-183434554663733/source\", \u001b[0m\n",
      "\u001b[0;33m    \"state\": \"file\", \u001b[0m\n",
      "\u001b[0;33m    \"uid\": 1000\u001b[0m\n",
      "\u001b[0;33m}\u001b[0m\n",
      "\u001b[0;33m172.30.2.100 | SUCCESS => {\u001b[0m\n",
      "\u001b[0;33m    \"changed\": true, \u001b[0m\n",
      "\u001b[0;33m    \"checksum\": \"2acdd580ad79346e27c7b7981749d4fff7c1c107\", \u001b[0m\n",
      "\u001b[0;33m    \"dest\": \"/opt/guacamole/nginx/certs/server.crt\", \u001b[0m\n",
      "\u001b[0;33m    \"gid\": 1000, \u001b[0m\n",
      "\u001b[0;33m    \"group\": \"vcp\", \u001b[0m\n",
      "\u001b[0;33m    \"md5sum\": \"30c47b0236e0506a6472e58d401e19db\", \u001b[0m\n",
      "\u001b[0;33m    \"mode\": \"0664\", \u001b[0m\n",
      "\u001b[0;33m    \"owner\": \"vcp\", \u001b[0m\n",
      "\u001b[0;33m    \"size\": 3562, \u001b[0m\n",
      "\u001b[0;33m    \"src\": \"/home/vcp/.ansible/tmp/ansible-tmp-1553077306.52-33161111030008/source\", \u001b[0m\n",
      "\u001b[0;33m    \"state\": \"file\", \u001b[0m\n",
      "\u001b[0;33m    \"uid\": 1000\u001b[0m\n",
      "\u001b[0;33m}\u001b[0m\n",
      "\u001b[0;33m172.30.2.100 | SUCCESS => {\u001b[0m\n",
      "\u001b[0;33m    \"changed\": true, \u001b[0m\n",
      "\u001b[0;33m    \"checksum\": \"4cce87b18e29f0ca113ee5b7e464b2c07270b2de\", \u001b[0m\n",
      "\u001b[0;33m    \"dest\": \"/opt/guacamole/nginx/certs/server.key\", \u001b[0m\n",
      "\u001b[0;33m    \"gid\": 1000, \u001b[0m\n",
      "\u001b[0;33m    \"group\": \"vcp\", \u001b[0m\n",
      "\u001b[0;33m    \"md5sum\": \"b48c9c92c576a800fae6749650b4c44e\", \u001b[0m\n",
      "\u001b[0;33m    \"mode\": \"0664\", \u001b[0m\n",
      "\u001b[0;33m    \"owner\": \"vcp\", \u001b[0m\n",
      "\u001b[0;33m    \"size\": 1704, \u001b[0m\n",
      "\u001b[0;33m    \"src\": \"/home/vcp/.ansible/tmp/ansible-tmp-1553077308.65-27390012834372/source\", \u001b[0m\n",
      "\u001b[0;33m    \"state\": \"file\", \u001b[0m\n",
      "\u001b[0;33m    \"uid\": 1000\u001b[0m\n",
      "\u001b[0;33m}\u001b[0m\n"
     ]
    }
   ],
   "source": [
    "# 配置先のディレクトリの作成\n",
    "!ansible {unit_group}-server -b -m file -a 'path=/opt/guacamole/nginx \\\n",
    "    state=directory owner=vcp group=vcp'\n",
    "!ansible {unit_group}-server -b -m file -a 'path=/opt/guacamole/nginx/certs \\\n",
    "    state=directory owner=vcp group=vcp'\n",
    "# 設定ファイルの配置\n",
    "!ansible {unit_group}-server -m template \\\n",
    "    -a 'src={{{{nginx_conf}}}} dest=/opt/guacamole/nginx/default.conf'\n",
    "!ansible {unit_group}-server -m copy \\\n",
    "    -a 'src={{{{nginx_tls_cert}}}} dest=/opt/guacamole/nginx/certs/server.crt'\n",
    "!ansible {unit_group}-server -m copy \\\n",
    "    -a 'src={{{{nginx_tls_key}}}} dest=/opt/guacamole/nginx/certs/server.key'"
   ]
  },
  {
   "cell_type": "markdown",
   "metadata": {
    "lc_cell_meme": {
     "current": "05338834-4af8-11e9-9859-0242ac110002",
     "next": "05338884-4af8-11e9-9859-0242ac110002",
     "previous": "053387ee-4af8-11e9-9859-0242ac110002"
    }
   },
   "source": [
    "# Guacamoleの起動\n",
    "\n",
    "Guacamole環境を構成するコンテナ群を起動します。"
   ]
  },
  {
   "cell_type": "markdown",
   "metadata": {
    "lc_cell_meme": {
     "current": "05338884-4af8-11e9-9859-0242ac110002",
     "next": "053388ca-4af8-11e9-9859-0242ac110002",
     "previous": "05338834-4af8-11e9-9859-0242ac110002"
    }
   },
   "source": [
    "![Guacamoleの起動](images/guacamole-002-06.png)\n",
    "\n",
    "コンテナ構成は`docker-compose.yml`ファイルに記述してあります。そのため、コンテナ群の起動などの操作は`docker-compose`コマンドを用いて行います。"
   ]
  },
  {
   "cell_type": "markdown",
   "metadata": {
    "lc_cell_meme": {
     "current": "053388ca-4af8-11e9-9859-0242ac110002",
     "next": "0533891a-4af8-11e9-9859-0242ac110002",
     "previous": "05338884-4af8-11e9-9859-0242ac110002"
    }
   },
   "source": [
    "まず、Guacamole環境を構成するコンテナ群のイメージを取得します。"
   ]
  },
  {
   "cell_type": "code",
   "execution_count": 26,
   "metadata": {
    "deletable": false,
    "editable": false,
    "lc_cell_meme": {
     "current": "0533891a-4af8-11e9-9859-0242ac110002",
     "next": "0533896a-4af8-11e9-9859-0242ac110002",
     "previous": "053388ca-4af8-11e9-9859-0242ac110002"
    },
    "run_through_control": {
     "frozen": true
    }
   },
   "outputs": [
    {
     "name": "stdout",
     "output_type": "stream",
     "text": [
      "\u001b[0;32m172.30.2.100 | SUCCESS | rc=0 >>\u001b[0m\r\n",
      "\u001b[0;32mPulling guacd      ... \r",
      "\u001b[0m\r\n",
      "\u001b[0;32mPulling prometheus ... \r",
      "\u001b[0m\r\n",
      "\u001b[0;32mPulling guacamole  ... \r",
      "\u001b[0m\r\n",
      "\u001b[0;32mPulling nginx      ... \r",
      "\u001b[0m\r\n",
      "\u001b[0;32mPulling database   ... \r",
      "\u001b[0m\r\n",
      "\u001b[0;32m\u001b[2A\u001b[2K\r",
      "Pulling nginx      ... pulling from library/nginx\r",
      "\u001b[2B\u001b[5A\u001b[2K\r",
      "Pulling guacd      ... pulling from guacamole/guacd\r",
      "\u001b[5B\u001b[5A\u001b[2K\r",
      "Pulling guacd      ... digest: sha256:3cb2ad5cfecda2bc3b...\r",
      "\u001b[5B\u001b[5A\u001b[2K\r",
      "Pulling guacd      ... status: image is up to date for g...\r",
      "\u001b[5B\u001b[5A\u001b[2K\r",
      "Pulling guacd      ... \u001b[32mdone\u001b[0m\r",
      "\u001b[5B\u001b[3A\u001b[2K\r",
      "Pulling guacamole  ... pulling from guacamole/guacamole\r",
      "\u001b[3B\u001b[3A\u001b[2K\r",
      "Pulling guacamole  ... digest: sha256:fa1cc98182c79be24a...\r",
      "\u001b[3B\u001b[3A\u001b[2K\r",
      "Pulling guacamole  ... status: image is up to date for g...\r",
      "\u001b[3B\u001b[3A\u001b[2K\r",
      "Pulling guacamole  ... \u001b[32mdone\u001b[0m\r",
      "\u001b[3B\u001b[4A\u001b[2K\r",
      "Pulling prometheus ... pulling from prom/prometheus\r",
      "\u001b[4B\u001b[4A\u001b[2K\r",
      "Pulling prometheus ... digest: sha256:1224ee30a3be668e0b...\r",
      "\u001b[4B\u001b[4A\u001b[2K\r",
      "Pulling prometheus ... status: image is up to date for p...\r",
      "\u001b[4B\u001b[4A\u001b[2K\r",
      "Pulling prometheus ... \u001b[32mdone\u001b[0m\r",
      "\u001b[4B\u001b[1A\u001b[2K\r",
      "Pulling database   ... pulling from library/mariadb\r",
      "\u001b[1B\u001b[2A\u001b[2K\r",
      "Pulling nginx      ... digest: sha256:1102570fde8b2cd200...\r",
      "\u001b[2B\u001b[2A\u001b[2K\r",
      "Pulling nginx      ... status: image is up to date for n...\r",
      "\u001b[2B\u001b[2A\u001b[2K\r",
      "Pulling nginx      ... \u001b[32mdone\u001b[0m\r",
      "\u001b[2B\u001b[1A\u001b[2K\r",
      "Pulling database   ... digest: sha256:06dd6d6234977e9231...\r",
      "\u001b[1B\u001b[1A\u001b[2K\r",
      "Pulling database   ... status: image is up to date for m...\r",
      "\u001b[1B\u001b[1A\u001b[2K\r",
      "Pulling database   ... \u001b[32mdone\u001b[0m\r",
      "\u001b[1B\u001b[0m\r\n",
      "\u001b[0;32m\u001b[0m\r\n"
     ]
    }
   ],
   "source": [
    "!ansible {unit_group}-server -a 'chdir=/opt/guacamole docker-compose pull'"
   ]
  },
  {
   "cell_type": "markdown",
   "metadata": {
    "lc_cell_meme": {
     "current": "0533896a-4af8-11e9-9859-0242ac110002",
     "next": "053389b0-4af8-11e9-9859-0242ac110002",
     "previous": "0533891a-4af8-11e9-9859-0242ac110002"
    }
   },
   "source": [
    "コンテナを起動します。"
   ]
  },
  {
   "cell_type": "code",
   "execution_count": 27,
   "metadata": {
    "deletable": false,
    "editable": false,
    "lc_cell_meme": {
     "current": "053389b0-4af8-11e9-9859-0242ac110002",
     "next": "053389f6-4af8-11e9-9859-0242ac110002",
     "previous": "0533896a-4af8-11e9-9859-0242ac110002"
    },
    "run_through_control": {
     "frozen": true
    }
   },
   "outputs": [
    {
     "name": "stdout",
     "output_type": "stream",
     "text": [
      "\u001b[0;32m172.30.2.100 | SUCCESS | rc=0 >>\u001b[0m\r\n",
      "\u001b[0;32mCreating network \"guacamole_default\" with the default driver\u001b[0m\r\n",
      "\u001b[0;32mCreating guacamole_guacd_1 ... \r",
      "\u001b[0m\r\n",
      "\u001b[0;32mCreating guacamole_nginx_1 ... \r",
      "\u001b[0m\r\n",
      "\u001b[0;32mCreating guacamole_database_1 ... \r",
      "\u001b[0m\r\n",
      "\u001b[0;32mCreating guacamole_prometheus_1 ... \r",
      "\u001b[0m\r\n",
      "\u001b[0;32mCreating guacamole_guacamole_1  ... \r",
      "\u001b[0m\r\n",
      "\u001b[0;32m\u001b[5A\u001b[2K\r",
      "Creating guacamole_guacd_1      ... \u001b[32mdone\u001b[0m\r",
      "\u001b[5B\u001b[1A\u001b[2K\r",
      "Creating guacamole_guacamole_1  ... \u001b[32mdone\u001b[0m\r",
      "\u001b[1B\u001b[4A\u001b[2K\r",
      "Creating guacamole_nginx_1      ... \u001b[32mdone\u001b[0m\r",
      "\u001b[4B\u001b[3A\u001b[2K\r",
      "Creating guacamole_database_1   ... \u001b[32mdone\u001b[0m\r",
      "\u001b[3B\u001b[2A\u001b[2K\r",
      "Creating guacamole_prometheus_1 ... \u001b[32mdone\u001b[0m\r",
      "\u001b[2B\u001b[0m\r\n",
      "\u001b[0;32m\u001b[0m\r\n"
     ]
    }
   ],
   "source": [
    "!ansible {unit_group}-server -a 'chdir=/opt/guacamole docker-compose up -d'"
   ]
  },
  {
   "cell_type": "markdown",
   "metadata": {
    "lc_cell_meme": {
     "current": "053389f6-4af8-11e9-9859-0242ac110002",
     "next": "05338a46-4af8-11e9-9859-0242ac110002",
     "previous": "053389b0-4af8-11e9-9859-0242ac110002"
    }
   },
   "source": [
    "起動したコンテナの状態を確認します。コンテナが正常に起動していれば`State`が`Up`と表示されます。全てのコンテナの状態が `Up`となっていることを確認してください。\n",
    "\n",
    "起動に成功した場合の出力結果の例を以下に示します。\n",
    "```\n",
    "172.30.2.100 | SUCCESS | rc=0 >>\n",
    "         Name                       Command               State              Ports            \n",
    "----------------------------------------------------------------------------------------------\n",
    "guacamole_database_1     docker-entrypoint.sh mysqld      Up      0.0.0.0:3306->3306/tcp      \n",
    "guacamole_guacamole_1    /tmp/init.sh                     Up      8080/tcp                    \n",
    "guacamole_guacd_1        /usr/local/sbin/guacd -b 0 ...   Up      4822/tcp                    \n",
    "guacamole_nginx_1        nginx -g daemon off;             Up      0.0.0.0:443->443/tcp, 80/tcp\n",
    "guacamole_prometheus_1   /bin/prometheus --config.f ...   Up      0.0.0.0:9090->9090/tcp \n",
    "```"
   ]
  },
  {
   "cell_type": "code",
   "execution_count": 28,
   "metadata": {
    "deletable": false,
    "editable": false,
    "lc_cell_meme": {
     "current": "05338a46-4af8-11e9-9859-0242ac110002",
     "next": "05338a8c-4af8-11e9-9859-0242ac110002",
     "previous": "053389f6-4af8-11e9-9859-0242ac110002"
    },
    "run_through_control": {
     "frozen": true
    }
   },
   "outputs": [
    {
     "name": "stdout",
     "output_type": "stream",
     "text": [
      "\u001b[0;32m172.30.2.100 | SUCCESS | rc=0 >>\u001b[0m\r\n",
      "\u001b[0;32m         Name                       Command               State              Ports            \u001b[0m\r\n",
      "\u001b[0;32m----------------------------------------------------------------------------------------------\u001b[0m\r\n",
      "\u001b[0;32mguacamole_database_1     docker-entrypoint.sh mysqld      Up      0.0.0.0:3306->3306/tcp      \u001b[0m\r\n",
      "\u001b[0;32mguacamole_guacamole_1    /tmp/init.sh                     Up      8080/tcp                    \u001b[0m\r\n",
      "\u001b[0;32mguacamole_guacd_1        /usr/local/sbin/guacd -b 0 ...   Up      4822/tcp                    \u001b[0m\r\n",
      "\u001b[0;32mguacamole_nginx_1        nginx -g daemon off;             Up      0.0.0.0:443->443/tcp, 80/tcp\u001b[0m\r\n",
      "\u001b[0;32mguacamole_prometheus_1   /bin/prometheus --config.f ...   Up      0.0.0.0:9090->9090/tcp      \u001b[0m\r\n",
      "\u001b[0;32m\u001b[0m\r\n"
     ]
    }
   ],
   "source": [
    "!ansible {unit_group}-server -a 'chdir=/opt/guacamole docker-compose ps'"
   ]
  },
  {
   "cell_type": "markdown",
   "metadata": {
    "lc_cell_meme": {
     "current": "05338a8c-4af8-11e9-9859-0242ac110002",
     "next": "05338adc-4af8-11e9-9859-0242ac110002",
     "previous": "05338a46-4af8-11e9-9859-0242ac110002"
    }
   },
   "source": [
    "5.2 節で作成したデータベースの初期化SQLの処理が完了して、Guacamole用のデータベースが作成するまでの待ち合わせを行います。次のセルを実行してください。\n",
    "\n",
    "初期化処理が完了するまでは `ERROR` と表示されますが、最終的に処理が完了すると `SUCCESS` と表示されテーブルの一覧が表示されます。\n",
    "\n",
    "表示例)\n",
    "```\n",
    "172.30.2.100 | FAILED | rc=1 >>\n",
    "ERROR 1045 (28000): Access denied for user 'guacamole'@'localhost' (using password: YES)non-zero return code\n",
    "\n",
    "172.30.2.100 | SUCCESS | rc=0 >>\n",
    "Tables_in_guacamole\n",
    "guacamole_connection\n",
    "guacamole_connection_group\n",
    "guacamole_connection_group_permission\n",
    "guacamole_connection_history\n",
    "guacamole_connection_parameter\n",
    "guacamole_connection_permission\n",
    "guacamole_sharing_profile\n",
    "guacamole_sharing_profile_parameter\n",
    "guacamole_sharing_profile_permission\n",
    "guacamole_system_permission\n",
    "guacamole_user\n",
    "guacamole_user_history\n",
    "guacamole_user_password_history\n",
    "guacamole_user_permission\n",
    "```"
   ]
  },
  {
   "cell_type": "code",
   "execution_count": 29,
   "metadata": {
    "deletable": false,
    "editable": false,
    "lc_cell_meme": {
     "current": "05338adc-4af8-11e9-9859-0242ac110002",
     "next": "05338b22-4af8-11e9-9859-0242ac110002",
     "previous": "05338a8c-4af8-11e9-9859-0242ac110002"
    },
    "run_through_control": {
     "frozen": true
    }
   },
   "outputs": [
    {
     "name": "stdout",
     "output_type": "stream",
     "text": [
      "\u001b[0;31m172.30.2.100 | FAILED | rc=1 >>\u001b[0m\n",
      "\u001b[0;31mERROR 2002 (HY000): Can't connect to local MySQL server through socket '/var/run/mysqld/mysqld.sock' (2)non-zero return code\u001b[0m\n",
      "\u001b[0;31m\u001b[0m\n",
      "\u001b[0;32m172.30.2.100 | SUCCESS | rc=0 >>\u001b[0m\n",
      "\u001b[0;32mTables_in_guacamole\u001b[0m\n",
      "\u001b[0;32mguacamole_connection\u001b[0m\n",
      "\u001b[0;32mguacamole_connection_group\u001b[0m\n",
      "\u001b[0;32mguacamole_connection_group_permission\u001b[0m\n",
      "\u001b[0;32mguacamole_connection_history\u001b[0m\n",
      "\u001b[0;32mguacamole_connection_parameter\u001b[0m\n",
      "\u001b[0;32mguacamole_connection_permission\u001b[0m\n",
      "\u001b[0;32mguacamole_sharing_profile\u001b[0m\n",
      "\u001b[0;32mguacamole_sharing_profile_parameter\u001b[0m\n",
      "\u001b[0;32mguacamole_sharing_profile_permission\u001b[0m\n",
      "\u001b[0;32mguacamole_system_permission\u001b[0m\n",
      "\u001b[0;32mguacamole_user\u001b[0m\n",
      "\u001b[0;32mguacamole_user_history\u001b[0m\n",
      "\u001b[0;32mguacamole_user_password_history\u001b[0m\n",
      "\u001b[0;32mguacamole_user_permission\u001b[0m\n",
      "\u001b[0;32m\u001b[0m\n"
     ]
    }
   ],
   "source": [
    "def show_guacamole_tables():\n",
    "    !ansible {unit_group}-server -a \\\n",
    "        'chdir=/opt/guacamole docker-compose exec -T \\\n",
    "            -e MYSQL_PWD={{{{lookup(\"hashi_vault\", \"secret=\" + guacamole_vault_path + \":db_password\")}}}} \\\n",
    "            database mysql -u {{{{guacamole_db_user}}}} {{{{guacamole_db_name}}}} \\\n",
    "            -e \"SHOW TABLES;\"'\n",
    "\n",
    "%run scripts/utils.py\n",
    "retry_exec(show_guacamole_tables, interval=15, retry_max=20)"
   ]
  },
  {
   "cell_type": "markdown",
   "metadata": {
    "lc_cell_meme": {
     "current": "05338b22-4af8-11e9-9859-0242ac110002",
     "next": "05338b72-4af8-11e9-9859-0242ac110002",
     "previous": "05338adc-4af8-11e9-9859-0242ac110002"
    }
   },
   "source": [
    "# Guacamoleの設定\n",
    "\n",
    "起動した Guacamoleに対してユーザ登録と、管理者パスワードの変更を行います。"
   ]
  },
  {
   "cell_type": "markdown",
   "metadata": {
    "lc_cell_meme": {
     "current": "05338b72-4af8-11e9-9859-0242ac110002",
     "next": "05338bc2-4af8-11e9-9859-0242ac110002",
     "previous": "05338b22-4af8-11e9-9859-0242ac110002"
    }
   },
   "source": [
    "![Guacamoleの設定](images/guacamole-002-07.png)"
   ]
  },
  {
   "cell_type": "markdown",
   "metadata": {
    "lc_cell_meme": {
     "current": "05338bc2-4af8-11e9-9859-0242ac110002",
     "next": "05338c1c-4af8-11e9-9859-0242ac110002",
     "previous": "05338b72-4af8-11e9-9859-0242ac110002"
    }
   },
   "source": [
    "## ユーザの登録\n",
    "\n",
    "Guacamoleのユーザ登録を行います。"
   ]
  },
  {
   "cell_type": "markdown",
   "metadata": {
    "lc_cell_meme": {
     "current": "05338c1c-4af8-11e9-9859-0242ac110002",
     "next": "05338c6c-4af8-11e9-9859-0242ac110002",
     "previous": "05338bc2-4af8-11e9-9859-0242ac110002"
    }
   },
   "source": [
    "ここでは各ユーザ毎に１つの演習環境コンテナ割り当てる想定でユーザ登録を行います。\n",
    "\n",
    "ユーザ登録では主に以下のような処理を行っています。\n",
    "* データベースのGuacamoleユーザテーブルにユーザエントリを追加する\n",
    "* データベースのGuacamoleコネクション設定テーブルに、ユーザ毎に作成する演習環境コンテナのコネクション(SSH, RDP)を追加する\n",
    "* ユーザ毎の演習環境コンテナを定義する設定ファイルを作成する\n",
    "\n",
    "ユーザ登録処理は、事前にスクリプトファイル`guacamole-update-users`に記述してあります。ここでは登録ユーザごとにスクリプトによる登録処理を実行します。"
   ]
  },
  {
   "cell_type": "code",
   "execution_count": 30,
   "metadata": {
    "deletable": false,
    "editable": false,
    "lc_cell_meme": {
     "current": "05338c6c-4af8-11e9-9859-0242ac110002",
     "next": "05338cbc-4af8-11e9-9859-0242ac110002",
     "previous": "05338c1c-4af8-11e9-9859-0242ac110002"
    },
    "run_through_control": {
     "frozen": true
    },
    "scrolled": true
   },
   "outputs": [
    {
     "name": "stdout",
     "output_type": "stream",
     "text": [
      "\u001b[0;32m172.30.2.100 | SUCCESS | rc=0 >>\u001b[0m\n",
      "\u001b[0;32m\u001b[0m\n",
      "\u001b[0;32m\u001b[0m\n",
      "\u001b[0;32m172.30.2.100 | SUCCESS | rc=0 >>\u001b[0m\n",
      "\u001b[0;32m\u001b[0m\n",
      "\u001b[0;32m\u001b[0m\n",
      "\u001b[0;32m172.30.2.100 | SUCCESS | rc=0 >>\u001b[0m\n",
      "\u001b[0;32m\u001b[0m\n",
      "\u001b[0;32m\u001b[0m\n",
      "\u001b[0;32m172.30.2.100 | SUCCESS | rc=0 >>\u001b[0m\n",
      "\u001b[0;32m\u001b[0m\n",
      "\u001b[0;32m\u001b[0m\n",
      "\u001b[0;32m172.30.2.100 | SUCCESS | rc=0 >>\u001b[0m\n",
      "\u001b[0;32m\u001b[0m\n",
      "\u001b[0;32m\u001b[0m\n",
      "\u001b[0;32m172.30.2.100 | SUCCESS | rc=0 >>\u001b[0m\n",
      "\u001b[0;32m\u001b[0m\n",
      "\u001b[0;32m\u001b[0m\n",
      "\u001b[0;32m172.30.2.100 | SUCCESS | rc=0 >>\u001b[0m\n",
      "\u001b[0;32m\u001b[0m\n",
      "\u001b[0;32m\u001b[0m\n",
      "\u001b[0;32m172.30.2.100 | SUCCESS | rc=0 >>\u001b[0m\n",
      "\u001b[0;32m\u001b[0m\n",
      "\u001b[0;32m\u001b[0m\n",
      "\u001b[0;32m172.30.2.100 | SUCCESS | rc=0 >>\u001b[0m\n",
      "\u001b[0;32m\u001b[0m\n",
      "\u001b[0;32m\u001b[0m\n",
      "\u001b[0;32m172.30.2.100 | SUCCESS | rc=0 >>\u001b[0m\n",
      "\u001b[0;32m\u001b[0m\n",
      "\u001b[0;32m\u001b[0m\n"
     ]
    }
   ],
   "source": [
    "for user in gvars['guacamole_users']:\n",
    "    !ansible {unit_group}-server -b -m shell \\\n",
    "        -a 'set -a; source /etc/sysconfig/guacamole-proxy; set +a; \\\n",
    "        /usr/local/bin/guacamole-update-users add {user}'"
   ]
  },
  {
   "cell_type": "markdown",
   "metadata": {
    "lc_cell_meme": {
     "current": "05338cbc-4af8-11e9-9859-0242ac110002",
     "next": "05338d02-4af8-11e9-9859-0242ac110002",
     "previous": "05338c6c-4af8-11e9-9859-0242ac110002"
    }
   },
   "source": [
    "## 管理者パスワードの変更\n",
    "\n",
    "Guacamoleの管理者パスワードはデフォルト値のままになっています。「01-パラメータの設定.ipynb」で指定した値に変更を行います。"
   ]
  },
  {
   "cell_type": "markdown",
   "metadata": {
    "lc_cell_meme": {
     "current": "05338d02-4af8-11e9-9859-0242ac110002",
     "next": "05338d52-4af8-11e9-9859-0242ac110002",
     "previous": "05338cbc-4af8-11e9-9859-0242ac110002"
    }
   },
   "source": [
    "管理者パスワードを更新するためのSQLファイルをVCノードに配置します。"
   ]
  },
  {
   "cell_type": "code",
   "execution_count": 31,
   "metadata": {
    "deletable": false,
    "editable": false,
    "lc_cell_meme": {
     "current": "05338d52-4af8-11e9-9859-0242ac110002",
     "next": "05338d98-4af8-11e9-9859-0242ac110002",
     "previous": "05338d02-4af8-11e9-9859-0242ac110002"
    },
    "run_through_control": {
     "frozen": true
    }
   },
   "outputs": [
    {
     "name": "stdout",
     "output_type": "stream",
     "text": [
      "\u001b[0;33m172.30.2.100 | SUCCESS => {\u001b[0m\r\n",
      "\u001b[0;33m    \"changed\": true, \u001b[0m\r\n",
      "\u001b[0;33m    \"checksum\": \"3961dc30168236bbd65ecf5d2e97484aef717aee\", \u001b[0m\r\n",
      "\u001b[0;33m    \"dest\": \"/opt/guacamole/sql/update-adminpw.sql\", \u001b[0m\r\n",
      "\u001b[0;33m    \"gid\": 1000, \u001b[0m\r\n",
      "\u001b[0;33m    \"group\": \"vcp\", \u001b[0m\r\n",
      "\u001b[0;33m    \"md5sum\": \"2917efe83244fce98f47fa5a20e66400\", \u001b[0m\r\n",
      "\u001b[0;33m    \"mode\": \"0664\", \u001b[0m\r\n",
      "\u001b[0;33m    \"owner\": \"vcp\", \u001b[0m\r\n",
      "\u001b[0;33m    \"size\": 252, \u001b[0m\r\n",
      "\u001b[0;33m    \"src\": \"/home/vcp/.ansible/tmp/ansible-tmp-1553077364.89-266508214380507/source\", \u001b[0m\r\n",
      "\u001b[0;33m    \"state\": \"file\", \u001b[0m\r\n",
      "\u001b[0;33m    \"uid\": 1000\u001b[0m\r\n",
      "\u001b[0;33m}\u001b[0m\r\n"
     ]
    }
   ],
   "source": [
    "!ansible {unit_group}-server -m template \\\n",
    "    -a 'src=template/sql/update-adminpw.sql dest=/opt/guacamole/sql/'"
   ]
  },
  {
   "cell_type": "markdown",
   "metadata": {
    "lc_cell_meme": {
     "current": "05338d98-4af8-11e9-9859-0242ac110002",
     "next": "05338de8-4af8-11e9-9859-0242ac110002",
     "previous": "05338d52-4af8-11e9-9859-0242ac110002"
    }
   },
   "source": [
    "管理者パスワードを更新するSQLファイルを実行します。"
   ]
  },
  {
   "cell_type": "code",
   "execution_count": 32,
   "metadata": {
    "deletable": false,
    "editable": false,
    "lc_cell_meme": {
     "current": "05338de8-4af8-11e9-9859-0242ac110002",
     "next": "05338e2e-4af8-11e9-9859-0242ac110002",
     "previous": "05338d98-4af8-11e9-9859-0242ac110002"
    },
    "run_through_control": {
     "frozen": true
    }
   },
   "outputs": [
    {
     "name": "stdout",
     "output_type": "stream",
     "text": [
      "\u001b[0;32m172.30.2.100 | SUCCESS | rc=0 >>\u001b[0m\r\n",
      "\u001b[0;32m\u001b[0m\r\n",
      "\u001b[0;32m\u001b[0m\r\n"
     ]
    }
   ],
   "source": [
    "!ansible {unit_group}-server -a \\\n",
    "    'chdir=/opt/guacamole docker-compose exec -T \\\n",
    "    -e MYSQL_PWD={{{{lookup(\"hashi_vault\", \"secret=\" + guacamole_vault_path + \":db_password\")}}}} \\\n",
    "    database mysql -u {{{{guacamole_db_user}}}} {{{{guacamole_db_name}}}} \\\n",
    "    -e \"source /mnt/update-adminpw.sql\"'"
   ]
  },
  {
   "cell_type": "markdown",
   "metadata": {
    "lc_cell_meme": {
     "current": "05338e2e-4af8-11e9-9859-0242ac110002",
     "next": "05338e7e-4af8-11e9-9859-0242ac110002",
     "previous": "05338de8-4af8-11e9-9859-0242ac110002"
    }
   },
   "source": [
    "# 演習環境用コンテナイメージの配布\n",
    "\n",
    "演習環境用のVCノードに演習環境コンテナイメージを配布します。"
   ]
  },
  {
   "cell_type": "markdown",
   "metadata": {
    "lc_cell_meme": {
     "current": "05338e7e-4af8-11e9-9859-0242ac110002",
     "next": "05338ed8-4af8-11e9-9859-0242ac110002",
     "previous": "05338e2e-4af8-11e9-9859-0242ac110002"
    }
   },
   "source": [
    "![演習環境用コンテナイメージの配布](images/guacamole-002-08.png)"
   ]
  },
  {
   "cell_type": "markdown",
   "metadata": {
    "lc_cell_meme": {
     "current": "05338ed8-4af8-11e9-9859-0242ac110002",
     "next": "05338f28-4af8-11e9-9859-0242ac110002",
     "previous": "05338e7e-4af8-11e9-9859-0242ac110002"
    }
   },
   "source": [
    "## コンテナイメージの配布\n",
    "\n",
    "演習環境用VCノードにコンテナイメージを配布します。　"
   ]
  },
  {
   "cell_type": "code",
   "execution_count": 33,
   "metadata": {
    "deletable": false,
    "editable": false,
    "lc_cell_meme": {
     "current": "05338f28-4af8-11e9-9859-0242ac110002",
     "next": "05338f6e-4af8-11e9-9859-0242ac110002",
     "previous": "05338ed8-4af8-11e9-9859-0242ac110002"
    },
    "run_through_control": {
     "frozen": true
    },
    "scrolled": true
   },
   "outputs": [
    {
     "name": "stdout",
     "output_type": "stream",
     "text": [
      "\u001b[0;32m172.30.2.180 | SUCCESS | rc=0 >>\u001b[0m\r\n",
      "\u001b[0;32mdevel: Pulling from vcp/xrdp\u001b[0m\r\n",
      "\u001b[0;32m8916107b7fae: Already exists\u001b[0m\r\n",
      "\u001b[0;32m075c41a2fd52: Already exists\u001b[0m\r\n",
      "\u001b[0;32m9b7d88f3cc9d: Already exists\u001b[0m\r\n",
      "\u001b[0;32m73c929b3ef12: Already exists\u001b[0m\r\n",
      "\u001b[0;32me1552e979e5b: Already exists\u001b[0m\r\n",
      "\u001b[0;32mbc0498fddec7: Already exists\u001b[0m\r\n",
      "\u001b[0;32mf09ce7125552: Already exists\u001b[0m\r\n",
      "\u001b[0;32m85863b01efc4: Already exists\u001b[0m\r\n",
      "\u001b[0;32m8b232f190404: Pulling fs layer\u001b[0m\r\n",
      "\u001b[0;32m76daa065dcb1: Pulling fs layer\u001b[0m\r\n",
      "\u001b[0;32mb6f5602ceb3f: Pulling fs layer\u001b[0m\r\n",
      "\u001b[0;32mb6f5602ceb3f: Download complete\u001b[0m\r\n",
      "\u001b[0;32m76daa065dcb1: Download complete\u001b[0m\r\n",
      "\u001b[0;32m8b232f190404: Pull complete\u001b[0m\r\n",
      "\u001b[0;32m76daa065dcb1: Pull complete\u001b[0m\r\n",
      "\u001b[0;32mb6f5602ceb3f: Pull complete\u001b[0m\r\n",
      "\u001b[0;32mDigest: sha256:812806d2903519209f22cd525fb5e4b07d4384431599a8a2ea7695f343c41ec8\u001b[0m\r\n",
      "\u001b[0;32mStatus: Downloaded newer image for 192.168.2.1:5000/vcp/xrdp:devel\u001b[0m\r\n",
      "\u001b[0;32m\u001b[0m\r\n"
     ]
    }
   ],
   "source": [
    "!ansible {unit_group}-client -a 'docker pull {{{{user_container_image}}}}'"
   ]
  },
  {
   "cell_type": "markdown",
   "metadata": {
    "lc_cell_meme": {
     "current": "05338f6e-4af8-11e9-9859-0242ac110002",
     "next": "05338fbe-4af8-11e9-9859-0242ac110002",
     "previous": "05338f28-4af8-11e9-9859-0242ac110002"
    }
   },
   "source": [
    "# Guacamoleにアクセスする"
   ]
  },
  {
   "cell_type": "markdown",
   "metadata": {
    "lc_cell_meme": {
     "current": "05338fbe-4af8-11e9-9859-0242ac110002",
     "next": "05339004-4af8-11e9-9859-0242ac110002",
     "previous": "05338f6e-4af8-11e9-9859-0242ac110002"
    }
   },
   "source": [
    "![Guacamoleにアクセスする](images/guacamole-002-09.png)"
   ]
  },
  {
   "cell_type": "markdown",
   "metadata": {
    "lc_cell_meme": {
     "current": "05339004-4af8-11e9-9859-0242ac110002",
     "next": "05339054-4af8-11e9-9859-0242ac110002",
     "previous": "05338fbe-4af8-11e9-9859-0242ac110002"
    }
   },
   "source": [
    "## ログインするのに必要となる情報"
   ]
  },
  {
   "cell_type": "markdown",
   "metadata": {
    "lc_cell_meme": {
     "current": "05339054-4af8-11e9-9859-0242ac110002",
     "next": "0533909a-4af8-11e9-9859-0242ac110002",
     "previous": "05339004-4af8-11e9-9859-0242ac110002"
    }
   },
   "source": [
    "Guacamoleに登録されているユーザを確認します。"
   ]
  },
  {
   "cell_type": "code",
   "execution_count": 34,
   "metadata": {
    "deletable": false,
    "editable": false,
    "lc_cell_meme": {
     "current": "0533909a-4af8-11e9-9859-0242ac110002",
     "next": "053390ea-4af8-11e9-9859-0242ac110002",
     "previous": "05339054-4af8-11e9-9859-0242ac110002"
    },
    "run_through_control": {
     "frozen": true
    }
   },
   "outputs": [
    {
     "name": "stdout",
     "output_type": "stream",
     "text": [
      "user01\n",
      "user02\n",
      "user03\n",
      "user04\n",
      "user05\n",
      "user06\n",
      "user07\n",
      "user08\n",
      "user09\n",
      "user10\n"
     ]
    }
   ],
   "source": [
    "for user in gvars['guacamole_users']:\n",
    "    print(user)"
   ]
  },
  {
   "cell_type": "markdown",
   "metadata": {
    "lc_cell_meme": {
     "current": "053390ea-4af8-11e9-9859-0242ac110002",
     "next": "0533914e-4af8-11e9-9859-0242ac110002",
     "previous": "0533909a-4af8-11e9-9859-0242ac110002"
    }
   },
   "source": [
    "ハンズオン環境ではLDAPサーバに、ユーザ名と同じ値のパスワードが登録されています。Guacamoleでログインする場合は指定したユーザ名と同じ値をパスワードとして入力してください。"
   ]
  },
  {
   "cell_type": "markdown",
   "metadata": {
    "lc_cell_meme": {
     "current": "0533914e-4af8-11e9-9859-0242ac110002",
     "next": "0533919e-4af8-11e9-9859-0242ac110002",
     "previous": "053390ea-4af8-11e9-9859-0242ac110002"
    }
   },
   "source": [
    "構築したGuacamoleにアクセスします。次のセルを実行すると表示されるURLにアクセスしてください。"
   ]
  },
  {
   "cell_type": "code",
   "execution_count": 35,
   "metadata": {
    "deletable": false,
    "editable": false,
    "lc_cell_meme": {
     "current": "0533919e-4af8-11e9-9859-0242ac110002",
     "next": "053391e4-4af8-11e9-9859-0242ac110002",
     "previous": "0533914e-4af8-11e9-9859-0242ac110002"
    },
    "run_through_control": {
     "frozen": true
    }
   },
   "outputs": [
    {
     "name": "stdout",
     "output_type": "stream",
     "text": [
      "https://ocs1046.vcp-handson.org\n"
     ]
    }
   ],
   "source": [
    "print(f\"https://{gvars['server_name']}\")"
   ]
  },
  {
   "cell_type": "markdown",
   "metadata": {
    "lc_cell_meme": {
     "current": "053391e4-4af8-11e9-9859-0242ac110002",
     "next": "05339234-4af8-11e9-9859-0242ac110002",
     "previous": "0533919e-4af8-11e9-9859-0242ac110002"
    }
   },
   "source": [
    "## ログイン手順"
   ]
  },
  {
   "cell_type": "markdown",
   "metadata": {
    "lc_cell_meme": {
     "current": "05339234-4af8-11e9-9859-0242ac110002",
     "next": "0533927a-4af8-11e9-9859-0242ac110002",
     "previous": "053391e4-4af8-11e9-9859-0242ac110002"
    }
   },
   "source": [
    "先程確認したGuacamoleのURLにアクセスするとGuacamoleのログイン画面が表示されます。\n",
    "ユーザ名、パスワードを入力するとそれぞれ入力するとGuacamoleにログインできます。\n",
    "\n",
    "> ハンズオン環境ではユーザ/パスワードに `user01` / `user01` を入力するとログインできます。\n",
    "\n",
    "![Guacamoleログイン画面](images/guacamole-xrdp-00.png)"
   ]
  },
  {
   "cell_type": "markdown",
   "metadata": {
    "lc_cell_meme": {
     "current": "0533927a-4af8-11e9-9859-0242ac110002",
     "next": "053392c0-4af8-11e9-9859-0242ac110002",
     "previous": "05339234-4af8-11e9-9859-0242ac110002"
    }
   },
   "source": [
    "Guacamoleにログインするとユーザが利用できるコネクションの一覧が表示されます。\n",
    "\n",
    "![Gucamoleコネクション一覧](images/guacamole-xrdp-01.png)"
   ]
  },
  {
   "cell_type": "markdown",
   "metadata": {
    "lc_cell_meme": {
     "current": "053392c0-4af8-11e9-9859-0242ac110002",
     "next": "05339306-4af8-11e9-9859-0242ac110002",
     "previous": "0533927a-4af8-11e9-9859-0242ac110002"
    }
   },
   "source": [
    "### X11環境の利用"
   ]
  },
  {
   "cell_type": "markdown",
   "metadata": {
    "lc_cell_meme": {
     "current": "05339306-4af8-11e9-9859-0242ac110002",
     "next": "05339356-4af8-11e9-9859-0242ac110002",
     "previous": "053392c0-4af8-11e9-9859-0242ac110002"
    }
   },
   "source": [
    "画面の下半分に表示されている「ALL CONNECTIONS」に表示されている `rdp-user01` をクリックすると演習環境のログイン画面が表示されます。\n",
    "![RDPログイン画面](images/guacamole-xrdp-02.png)\n",
    "\n",
    "演習環境コンテナはユーザのログイン操作を契機に起動しています。タイミングによっては演習環境への接続が失敗する場合があります。接続が失敗した場合は以下のような画面が表示されます。\n",
    "![コネクションエラー](images/guacamole-xrdp-05.png)\n",
    "\n",
    "この場合、少し待ってから「Reconnect」を選択することで演習環境のログイン画面が表示されるようになります。"
   ]
  },
  {
   "cell_type": "markdown",
   "metadata": {
    "lc_cell_meme": {
     "current": "05339356-4af8-11e9-9859-0242ac110002",
     "next": "0533939c-4af8-11e9-9859-0242ac110002",
     "previous": "05339306-4af8-11e9-9859-0242ac110002"
    }
   },
   "source": [
    "演習環境のログイン画面でパスワードを入力すると演習環境にログインできます。ここで入力するパスワードはGuacamoleのログイン画面と同様で LDAP に登録されているパスワードです。\n",
    "\n",
    "> ハンズオン環境ではユーザ名と同じ値です。\n",
    "\n",
    "ログインに成功すると以下のような画面が表示されます。\n",
    "\n",
    "![演習環境](images/guacamole-xrdp-03.png)\n",
    "\n",
    "パスワードの入力ミスなどでログインに失敗すると、以下のような画面が表示されます。「OK」を選択すると再度ログイン画面が表示されますので、パスワードを入力し直してください。\n",
    "\n",
    "![演習環境ログイン失敗](images/guacamole-xrdp-06.png)"
   ]
  },
  {
   "cell_type": "markdown",
   "metadata": {
    "lc_cell_meme": {
     "current": "0533939c-4af8-11e9-9859-0242ac110002",
     "next": "053393ec-4af8-11e9-9859-0242ac110002",
     "previous": "05339356-4af8-11e9-9859-0242ac110002"
    }
   },
   "source": [
    "次に実行するNotebookでは演習環境のコンテナイメージをカスタマイズして [RStudio](https://www.rstudio.com/) をコンテナに追加します。現在の演習環境では、まだ RStudio がインストールされていないことを確認しておきます。上部のメニューから「アプリケーション」-「プログラミング」を選択すると「OpenJDK 8 Monitoring & Management Console」のみが表示されていることを確認してください。RStudio をインストールすると、ここにRStudioのメニューが追加されます。"
   ]
  },
  {
   "cell_type": "markdown",
   "metadata": {
    "lc_cell_meme": {
     "current": "053393ec-4af8-11e9-9859-0242ac110002",
     "next": "05339432-4af8-11e9-9859-0242ac110002",
     "previous": "0533939c-4af8-11e9-9859-0242ac110002"
    }
   },
   "source": [
    "![XX](images/guacamole-xrdp-09.png)"
   ]
  },
  {
   "cell_type": "markdown",
   "metadata": {
    "lc_cell_meme": {
     "current": "05339432-4af8-11e9-9859-0242ac110002",
     "next": "05339482-4af8-11e9-9859-0242ac110002",
     "previous": "053393ec-4af8-11e9-9859-0242ac110002"
    }
   },
   "source": [
    "演習環境からログアウトする場合は、上部のメニューの「システム」から「ログアウト」を選択してください。\n",
    "\n",
    "![演習環境からのログアウト](images/guacamole-xrdp-04.png)\n",
    "\n",
    "ログアウトを選択すると、以下のようなダイアログが表示されます。\n",
    "\n",
    "![ログアウトダイアログ](images/guacamole-xrdp-07.png)\n",
    "\n",
    "「ログアウト」を選択するか、既定の時間が経過すると演習環境からログアウトします。\n",
    "演習環境からログアウトすると、以下のようなGuacamoleのダイアログが表示されます。\n",
    "\n",
    "![Guacamoleログアウトダイアログ](images/guacamole-xrdp-08.png)\n",
    "\n",
    "「Home」を選択するとGuacamoleのコネクション一覧画面に戻ります。「Reconnect」を選択すると演習環境に再度ログインを試みます。\n",
    "「Logout」を選択するとGuacamoleからログアウトします。"
   ]
  },
  {
   "cell_type": "markdown",
   "metadata": {
    "lc_cell_meme": {
     "current": "05339482-4af8-11e9-9859-0242ac110002",
     "next": "053394c8-4af8-11e9-9859-0242ac110002",
     "previous": "05339432-4af8-11e9-9859-0242ac110002"
    }
   },
   "source": [
    "### ターミナル環境の利用"
   ]
  },
  {
   "cell_type": "markdown",
   "metadata": {
    "lc_cell_meme": {
     "current": "053394c8-4af8-11e9-9859-0242ac110002",
     "next": "05339518-4af8-11e9-9859-0242ac110002",
     "previous": "05339482-4af8-11e9-9859-0242ac110002"
    }
   },
   "source": [
    "Guacamoleのコネクション一覧表示画面で先ほどは`rdp-user01`を選択しましたが、`ssh-user01`を選択するとターミナル環境を利用することができます。\n",
    "![Gucamoleコネクション一覧](images/guacamole-xrdp-01.png)"
   ]
  },
  {
   "cell_type": "markdown",
   "metadata": {
    "lc_cell_meme": {
     "current": "05339518-4af8-11e9-9859-0242ac110002",
     "next": null,
     "previous": "053394c8-4af8-11e9-9859-0242ac110002"
    }
   },
   "source": [
    "`ssh-user01` をクリックするとターミナル環境のログイン画面が表示されます。先程と同じパスワードを入力してください。\n",
    "\n",
    "![SSHログイン画面](images/guacamole-ssh-01.png)\n",
    "\n",
    "ログインに成功すると以下のような画面が表示されます。\n",
    "\n",
    "![SSHログイン成功画面](images/guacamole-ssh-02.png)\n",
    "\n",
    "コマンドラインで `exit` と入力するとターミナル環境からログアウトすることができます。\n",
    "\n",
    "![SSHログアウト画面](images/guacamole-ssh-03.png)"
   ]
  }
 ],
 "metadata": {
  "kernelspec": {
   "display_name": "Python 3",
   "language": "python",
   "name": "python3"
  },
  "language_info": {
   "codemirror_mode": {
    "name": "ipython",
    "version": 3
   },
   "file_extension": ".py",
   "mimetype": "text/x-python",
   "name": "python",
   "nbconvert_exporter": "python",
   "pygments_lexer": "ipython3",
   "version": "3.6.6"
  },
  "lc_notebook_meme": {
   "current": "05336f98-4af8-11e9-9859-0242ac110002",
   "lc_server_signature": {
    "current": {
     "notebook_dir": "/notebooks/notebook",
     "notebook_path": "/handson/guacamole",
     "server_url": "https://ocs1046.vcp-handson.org:8443/handson/",
     "signature_id": "d0c53b60-f9f3-11e8-ad2a-0242ac110002"
    },
    "history": []
   }
  },
  "toc": {
   "base_numbering": 1,
   "nav_menu": {},
   "number_sections": true,
   "sideBar": true,
   "skip_h1_title": false,
   "title_cell": "Table of Contents",
   "title_sidebar": "Contents",
   "toc_cell": false,
   "toc_position": {
    "height": "calc(100% - 180px)",
    "left": "10px",
    "top": "150px",
    "width": "275.8px"
   },
   "toc_section_display": true,
   "toc_window_display": true
  }
 },
 "nbformat": 4,
 "nbformat_minor": 2
}
