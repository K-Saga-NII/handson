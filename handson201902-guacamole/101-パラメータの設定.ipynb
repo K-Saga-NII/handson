{
 "cells": [
  {
   "cell_type": "markdown",
   "metadata": {
    "lc_cell_meme": {
     "current": "67f4a9be-4afb-11e9-9859-0242ac110002",
     "next": "67f4aa2c-4afb-11e9-9859-0242ac110002",
     "previous": null
    }
   },
   "source": [
    "# パラメータの設定\n",
    "\n",
    "---\n",
    "\n",
    "Guacamole環境を構築するのに必要となるパラメータを入力します。"
   ]
  },
  {
   "cell_type": "markdown",
   "metadata": {
    "lc_cell_meme": {
     "current": "67f4aa2c-4afb-11e9-9859-0242ac110002",
     "next": "67f4aa7c-4afb-11e9-9859-0242ac110002",
     "previous": "67f4a9be-4afb-11e9-9859-0242ac110002"
    }
   },
   "source": [
    "## 全体構成"
   ]
  },
  {
   "cell_type": "markdown",
   "metadata": {
    "lc_cell_meme": {
     "current": "67f4aa7c-4afb-11e9-9859-0242ac110002",
     "next": "67f4aac2-4afb-11e9-9859-0242ac110002",
     "previous": "67f4aa2c-4afb-11e9-9859-0242ac110002"
    }
   },
   "source": [
    "![構成](images/guacamole-001-01.png)"
   ]
  },
  {
   "cell_type": "markdown",
   "metadata": {
    "lc_cell_meme": {
     "current": "67f4aac2-4afb-11e9-9859-0242ac110002",
     "next": "67f4ab12-4afb-11e9-9859-0242ac110002",
     "previous": "67f4aa7c-4afb-11e9-9859-0242ac110002"
    }
   },
   "source": [
    "# VCノードに関するパラメータ\n",
    "\n",
    "Guacamole環境を構築するホストとなるVCノードに関するパラメータを指定します。"
   ]
  },
  {
   "cell_type": "markdown",
   "metadata": {
    "lc_cell_meme": {
     "current": "67f4ab12-4afb-11e9-9859-0242ac110002",
     "next": "67f4ab58-4afb-11e9-9859-0242ac110002",
     "previous": "67f4aac2-4afb-11e9-9859-0242ac110002"
    }
   },
   "source": [
    "この章では、まずVCPの操作を行うために必要となるアクセストークンの値を入力します。次に構築環境のホストとなるVCノードに関するパラメータの指定を行います。最後に入力したパラメータを他のNotebookから参照できるようにNotebook環境のファイルに保存します。"
   ]
  },
  {
   "cell_type": "markdown",
   "metadata": {
    "lc_cell_meme": {
     "current": "67f4ab58-4afb-11e9-9859-0242ac110002",
     "next": "67f4ab9e-4afb-11e9-9859-0242ac110002",
     "previous": "67f4ab12-4afb-11e9-9859-0242ac110002"
    }
   },
   "source": [
    "![VCノード設定](images/guacamole-001-02.png)"
   ]
  },
  {
   "cell_type": "markdown",
   "metadata": {
    "lc_cell_meme": {
     "current": "67f4ab9e-4afb-11e9-9859-0242ac110002",
     "next": "67f4abee-4afb-11e9-9859-0242ac110002",
     "previous": "67f4ab58-4afb-11e9-9859-0242ac110002"
    }
   },
   "source": [
    "## VCCアクセストークンの入力"
   ]
  },
  {
   "cell_type": "markdown",
   "metadata": {
    "lc_cell_meme": {
     "current": "67f4abee-4afb-11e9-9859-0242ac110002",
     "next": "67f4ac34-4afb-11e9-9859-0242ac110002",
     "previous": "67f4ab9e-4afb-11e9-9859-0242ac110002"
    }
   },
   "source": [
    "VCノードを起動するにはVC Controller(VCC)にアクセスして、操作を行う必要があります。VCCにアクセスするために必要となるアクセストークンをここで入力します。"
   ]
  },
  {
   "cell_type": "markdown",
   "metadata": {
    "lc_cell_meme": {
     "current": "67f4ac34-4afb-11e9-9859-0242ac110002",
     "next": "67f4ac7a-4afb-11e9-9859-0242ac110002",
     "previous": "67f4abee-4afb-11e9-9859-0242ac110002"
    }
   },
   "source": [
    "次のセルを実行すると入力枠が表示されるのでアクセストークンの値を入力してください。\n",
    "\n",
    "> アクセストークン入力後に Enter キーを押すことで入力が完了します。"
   ]
  },
  {
   "cell_type": "code",
   "execution_count": 1,
   "metadata": {
    "deletable": false,
    "editable": false,
    "lc_cell_meme": {
     "current": "67f4ac7a-4afb-11e9-9859-0242ac110002",
     "next": "67f4acca-4afb-11e9-9859-0242ac110002",
     "previous": "67f4ac34-4afb-11e9-9859-0242ac110002"
    },
    "run_through_control": {
     "frozen": true
    }
   },
   "outputs": [
    {
     "name": "stdout",
     "output_type": "stream",
     "text": [
      "········\n"
     ]
    }
   ],
   "source": [
    "from getpass import getpass\n",
    "vcc_access_token = getpass()"
   ]
  },
  {
   "cell_type": "markdown",
   "metadata": {
    "lc_cell_meme": {
     "current": "67f4acca-4afb-11e9-9859-0242ac110002",
     "next": "67f4ad10-4afb-11e9-9859-0242ac110002",
     "previous": "67f4ac7a-4afb-11e9-9859-0242ac110002"
    }
   },
   "source": [
    "入力されたアクセストークンが正しいことを、実際にVCCにアクセスして確認します。"
   ]
  },
  {
   "cell_type": "code",
   "execution_count": 2,
   "metadata": {
    "deletable": false,
    "editable": false,
    "lc_cell_meme": {
     "current": "67f4ad10-4afb-11e9-9859-0242ac110002",
     "next": "67f4ad56-4afb-11e9-9859-0242ac110002",
     "previous": "67f4acca-4afb-11e9-9859-0242ac110002"
    },
    "run_through_control": {
     "frozen": true
    }
   },
   "outputs": [],
   "source": [
    "from vcpsdk.vcpsdk import VcpSDK\n",
    "vcp = VcpSDK(vcc_access_token)"
   ]
  },
  {
   "cell_type": "markdown",
   "metadata": {
    "lc_cell_meme": {
     "current": "67f4ad56-4afb-11e9-9859-0242ac110002",
     "next": "67f4ada6-4afb-11e9-9859-0242ac110002",
     "previous": "67f4ad10-4afb-11e9-9859-0242ac110002"
    }
   },
   "source": [
    "上のセルの実行結果がエラーとなり以下のようなメッセージが表示されている場合は、入力されたアクセストークンに誤りがあります。\n",
    "\n",
    "```\n",
    "2018-09-XX XX:XX:XX,XXX - ERROR - config vc failed: http_status(403)\n",
    "2018-09-XX XX:XX:XX,XXX - ERROR - 2018/XX/XX XX:XX:XX UTC: VCPAuthException: xxxxxxx:token lookup is failed: permission denied\n",
    "```\n",
    "\n",
    "エラーになった場合はこの節のセルを全て `unfreeze` してから、もう一度アクセストークンの入力を行ってください。"
   ]
  },
  {
   "cell_type": "markdown",
   "metadata": {
    "lc_cell_meme": {
     "current": "67f4ada6-4afb-11e9-9859-0242ac110002",
     "next": "67f4adec-4afb-11e9-9859-0242ac110002",
     "previous": "67f4ad56-4afb-11e9-9859-0242ac110002"
    }
   },
   "source": [
    "## クラウドプロバイダの指定\n",
    "\n",
    "VCノードを起動するプロバイダを選択します。"
   ]
  },
  {
   "cell_type": "markdown",
   "metadata": {
    "lc_cell_meme": {
     "current": "67f4adec-4afb-11e9-9859-0242ac110002",
     "next": "67f4ae32-4afb-11e9-9859-0242ac110002",
     "previous": "67f4ada6-4afb-11e9-9859-0242ac110002"
    }
   },
   "source": [
    "> ここで指定できる値は `aws` または `azure` です。"
   ]
  },
  {
   "cell_type": "code",
   "execution_count": 3,
   "metadata": {
    "deletable": false,
    "editable": false,
    "lc_cell_meme": {
     "current": "67f4ae32-4afb-11e9-9859-0242ac110002",
     "next": "67f4ae82-4afb-11e9-9859-0242ac110002",
     "previous": "67f4adec-4afb-11e9-9859-0242ac110002"
    },
    "run_through_control": {
     "frozen": true
    }
   },
   "outputs": [],
   "source": [
    "# (例)\n",
    "# vc_provider = 'aws'\n",
    "# vc_provider = 'azure'\n",
    "\n",
    "vc_provider = 'aws'"
   ]
  },
  {
   "cell_type": "markdown",
   "metadata": {
    "lc_cell_meme": {
     "current": "67f4ae82-4afb-11e9-9859-0242ac110002",
     "next": "67f4aec8-4afb-11e9-9859-0242ac110002",
     "previous": "67f4ae32-4afb-11e9-9859-0242ac110002"
    }
   },
   "source": [
    "## VCノードに割り当てるリソース量の指定\n",
    "\n",
    "\n",
    "VCノードに割り当てるリソース量を`spec`オブジェクトに指定します。"
   ]
  },
  {
   "cell_type": "markdown",
   "metadata": {
    "lc_cell_meme": {
     "current": "67f4aec8-4afb-11e9-9859-0242ac110002",
     "next": "67f4af18-4afb-11e9-9859-0242ac110002",
     "previous": "67f4ae82-4afb-11e9-9859-0242ac110002"
    }
   },
   "source": [
    "`spec`オブジェクトの全てのパラメータを毎回設定するのは煩雑になるので、VCP SDKでは典型的な構成のパラメータセットを事前に定義しています。事前に定義した`spec`パラメータセットのことを`flavor`と呼んでいます。`spec`に設定できるパラメータはクラウドプロバイダ毎に異なるので `flavor`もプロバイダ毎にの定義されています。\n",
    "\n",
    "次のセルを実行すると `vc_provider` に設定したプロバイダに対応する `flavor` の一覧が表示されます。"
   ]
  },
  {
   "cell_type": "code",
   "execution_count": 4,
   "metadata": {
    "deletable": false,
    "editable": false,
    "lc_cell_meme": {
     "current": "67f4af18-4afb-11e9-9859-0242ac110002",
     "next": "67f4af5e-4afb-11e9-9859-0242ac110002",
     "previous": "67f4aec8-4afb-11e9-9859-0242ac110002"
    },
    "run_through_control": {
     "frozen": true
    }
   },
   "outputs": [
    {
     "data": {
      "text/html": [
       "<div>\n",
       "<style scoped>\n",
       "    .dataframe tbody tr th:only-of-type {\n",
       "        vertical-align: middle;\n",
       "    }\n",
       "\n",
       "    .dataframe tbody tr th {\n",
       "        vertical-align: top;\n",
       "    }\n",
       "\n",
       "    .dataframe thead th {\n",
       "        text-align: right;\n",
       "    }\n",
       "</style>\n",
       "<table border=\"1\" class=\"dataframe\">\n",
       "  <thead>\n",
       "    <tr style=\"text-align: right;\">\n",
       "      <th></th>\n",
       "      <th>flavor</th>\n",
       "      <th>instance_type</th>\n",
       "      <th>volume_size</th>\n",
       "      <th>volume_type</th>\n",
       "    </tr>\n",
       "  </thead>\n",
       "  <tbody>\n",
       "    <tr>\n",
       "      <th>0</th>\n",
       "      <td>small</td>\n",
       "      <td>m4.large</td>\n",
       "      <td>8</td>\n",
       "      <td>gp2</td>\n",
       "    </tr>\n",
       "    <tr>\n",
       "      <th>1</th>\n",
       "      <td>medium</td>\n",
       "      <td>m4.xlarge</td>\n",
       "      <td>40</td>\n",
       "      <td>gp2</td>\n",
       "    </tr>\n",
       "    <tr>\n",
       "      <th>2</th>\n",
       "      <td>large</td>\n",
       "      <td>m4.2xlarge</td>\n",
       "      <td>100</td>\n",
       "      <td>gp2</td>\n",
       "    </tr>\n",
       "    <tr>\n",
       "      <th>3</th>\n",
       "      <td>gpu</td>\n",
       "      <td>p2.xlarge</td>\n",
       "      <td>40</td>\n",
       "      <td>gp2</td>\n",
       "    </tr>\n",
       "  </tbody>\n",
       "</table>\n",
       "</div>"
      ],
      "text/plain": [
       "   flavor instance_type  volume_size volume_type\n",
       "0   small      m4.large            8         gp2\n",
       "1  medium     m4.xlarge           40         gp2\n",
       "2   large    m4.2xlarge          100         gp2\n",
       "3     gpu     p2.xlarge           40         gp2"
      ]
     },
     "execution_count": 4,
     "metadata": {},
     "output_type": "execute_result"
    }
   ],
   "source": [
    "vcp.df_flavors(vc_provider)"
   ]
  },
  {
   "cell_type": "markdown",
   "metadata": {
    "lc_cell_meme": {
     "current": "67f4af5e-4afb-11e9-9859-0242ac110002",
     "next": "67f4afae-4afb-11e9-9859-0242ac110002",
     "previous": "67f4af18-4afb-11e9-9859-0242ac110002"
    }
   },
   "source": [
    "表示された `flavor` の値から一つを選択して、次のセルに指定してください。"
   ]
  },
  {
   "cell_type": "code",
   "execution_count": 5,
   "metadata": {
    "deletable": false,
    "editable": false,
    "lc_cell_meme": {
     "current": "67f4afae-4afb-11e9-9859-0242ac110002",
     "next": "67f4aff4-4afb-11e9-9859-0242ac110002",
     "previous": "67f4af5e-4afb-11e9-9859-0242ac110002"
    },
    "run_through_control": {
     "frozen": true
    }
   },
   "outputs": [],
   "source": [
    "vc_flavor = 'small'"
   ]
  },
  {
   "cell_type": "markdown",
   "metadata": {
    "lc_cell_meme": {
     "current": "67f4aff4-4afb-11e9-9859-0242ac110002",
     "next": "67f4b03a-4afb-11e9-9859-0242ac110002",
     "previous": "67f4afae-4afb-11e9-9859-0242ac110002"
    }
   },
   "source": [
    "このハンズオンでは演習環境のコンテナイメージとして、サイズが３～５GBのものを利用することを想定しています。\n",
    "`small`の `flavor`に対応するルートボリュームのサイズ８GBでは、演習環境コンテナを起動するのにディスク容量が不足してしまいます。そこでルートボリュームサイズを`flavor`に定義されている値から変更します。\n",
    "\n",
    "次のセルでルートボリュームサイズ(GB)を指定してください。"
   ]
  },
  {
   "cell_type": "code",
   "execution_count": 6,
   "metadata": {
    "deletable": false,
    "editable": false,
    "lc_cell_meme": {
     "current": "67f4b03a-4afb-11e9-9859-0242ac110002",
     "next": "67f4b0b2-4afb-11e9-9859-0242ac110002",
     "previous": "67f4aff4-4afb-11e9-9859-0242ac110002"
    },
    "run_through_control": {
     "frozen": true
    }
   },
   "outputs": [],
   "source": [
    "vc_disk_size = 16"
   ]
  },
  {
   "cell_type": "markdown",
   "metadata": {
    "lc_cell_meme": {
     "current": "67f4b0b2-4afb-11e9-9859-0242ac110002",
     "next": "67f4b10c-4afb-11e9-9859-0242ac110002",
     "previous": "67f4b03a-4afb-11e9-9859-0242ac110002"
    }
   },
   "source": [
    "## プライベートIPアドレスの指定\n",
    "\n",
    "Guacamoleを実行するVCノードはサーバの役割を担うので、事前に定めたIPアドレスを割り当てたほうが構築しやすくなります。ここでは、そのIPアドレスの指定を行います。"
   ]
  },
  {
   "cell_type": "markdown",
   "metadata": {
    "lc_cell_meme": {
     "current": "67f4b10c-4afb-11e9-9859-0242ac110002",
     "next": "67f4b15c-4afb-11e9-9859-0242ac110002",
     "previous": "67f4b0b2-4afb-11e9-9859-0242ac110002"
    }
   },
   "source": [
    "次のセルでVCノードに割り当てる IPアドレス（プライベート）を指定してください。\n",
    "\n",
    "> VC管理者は、設定可能なIPアドレスの範囲を「VCP Manager Web UI」から確認することができます。"
   ]
  },
  {
   "cell_type": "code",
   "execution_count": 7,
   "metadata": {
    "deletable": false,
    "editable": false,
    "lc_cell_meme": {
     "current": "67f4b15c-4afb-11e9-9859-0242ac110002",
     "next": "67f4b1ac-4afb-11e9-9859-0242ac110002",
     "previous": "67f4b10c-4afb-11e9-9859-0242ac110002"
    },
    "run_through_control": {
     "frozen": true
    }
   },
   "outputs": [],
   "source": [
    "vc_guacamole_ipaddress = '172.30.2.100'"
   ]
  },
  {
   "cell_type": "markdown",
   "metadata": {
    "lc_cell_meme": {
     "current": "67f4b1ac-4afb-11e9-9859-0242ac110002",
     "next": "67f4b1f2-4afb-11e9-9859-0242ac110002",
     "previous": "67f4b15c-4afb-11e9-9859-0242ac110002"
    }
   },
   "source": [
    "演習環境コンテナを実行するVCノードは固定のIPアドレスを割り当てる必要性がありません。そのため、演習環境用VCノードに対してはIPアドレスの指定を行いません。IPアドレスの指定を行わずにVCノードを起動した場合はVCCが利用可能なIPアドレスから適切な値を割り当てます。"
   ]
  },
  {
   "cell_type": "markdown",
   "metadata": {
    "lc_cell_meme": {
     "current": "67f4b1f2-4afb-11e9-9859-0242ac110002",
     "next": "67f4b238-4afb-11e9-9859-0242ac110002",
     "previous": "67f4b1ac-4afb-11e9-9859-0242ac110002"
    }
   },
   "source": [
    "## SSH公開鍵認証の鍵ファイルの指定\n",
    "\n",
    "起動したVCノードにsshでログインして操作を行うためには事前にSSH公開鍵認証の公開鍵を登録する必要があります。"
   ]
  },
  {
   "cell_type": "markdown",
   "metadata": {
    "lc_cell_meme": {
     "current": "67f4b238-4afb-11e9-9859-0242ac110002",
     "next": "67f4b27e-4afb-11e9-9859-0242ac110002",
     "previous": "67f4b1f2-4afb-11e9-9859-0242ac110002"
    }
   },
   "source": [
    "VCノードに登録するSSHの公開鍵ファイルのパスを次のセルで指定してください。"
   ]
  },
  {
   "cell_type": "code",
   "execution_count": 8,
   "metadata": {
    "deletable": false,
    "editable": false,
    "lc_cell_meme": {
     "current": "67f4b27e-4afb-11e9-9859-0242ac110002",
     "next": "67f4b2c4-4afb-11e9-9859-0242ac110002",
     "previous": "67f4b238-4afb-11e9-9859-0242ac110002"
    },
    "run_through_control": {
     "frozen": true
    }
   },
   "outputs": [],
   "source": [
    "import os\n",
    "\n",
    "# os.path.expanduser() を用いて '~/' を展開します\n",
    "ssh_public_key_path = os.path.expanduser('~/.ssh/id_rsa.pub')"
   ]
  },
  {
   "cell_type": "markdown",
   "metadata": {
    "lc_cell_meme": {
     "current": "67f4b2c4-4afb-11e9-9859-0242ac110002",
     "next": "67f4b30a-4afb-11e9-9859-0242ac110002",
     "previous": "67f4b27e-4afb-11e9-9859-0242ac110002"
    }
   },
   "source": [
    "公開鍵に対応する秘密鍵のパスを次のセルで指定してください。"
   ]
  },
  {
   "cell_type": "code",
   "execution_count": 9,
   "metadata": {
    "deletable": false,
    "editable": false,
    "lc_cell_meme": {
     "current": "67f4b30a-4afb-11e9-9859-0242ac110002",
     "next": "67f4b350-4afb-11e9-9859-0242ac110002",
     "previous": "67f4b2c4-4afb-11e9-9859-0242ac110002"
    },
    "run_through_control": {
     "frozen": true
    }
   },
   "outputs": [],
   "source": [
    "ssh_private_key_path = os.path.expanduser('~/.ssh/id_rsa')"
   ]
  },
  {
   "cell_type": "markdown",
   "metadata": {
    "lc_cell_meme": {
     "current": "67f4b350-4afb-11e9-9859-0242ac110002",
     "next": "67f4b3a0-4afb-11e9-9859-0242ac110002",
     "previous": "67f4b30a-4afb-11e9-9859-0242ac110002"
    }
   },
   "source": [
    "## UnitGroup名の指定"
   ]
  },
  {
   "cell_type": "markdown",
   "metadata": {
    "lc_cell_meme": {
     "current": "67f4b3a0-4afb-11e9-9859-0242ac110002",
     "next": "67f4b3e6-4afb-11e9-9859-0242ac110002",
     "previous": "67f4b350-4afb-11e9-9859-0242ac110002"
    }
   },
   "source": [
    "VCPの構成要素は以下のようになっています。\n",
    "\n",
    "* VCノード\n",
    "  - クラウドにおける計算資源(VM/BM)\n",
    "  - 例えば Amazon EC2インスタンス, Microsoft Azure VM など\n",
    "* Unit\n",
    "  - 同質のVCノードにより構成されている要素\n",
    "  - 同じUnitに属するVCノードはCPU,メモリ等の計算資源が全て同じ設定になっている\n",
    "* UnitGroup\n",
    "  - 複数のUnitにより構成されている要素\n",
    "  - 使用目的、ライフサイクルなどに合わせて、複数のUnitをまとめて扱うための要素"
   ]
  },
  {
   "cell_type": "markdown",
   "metadata": {
    "lc_cell_meme": {
     "current": "67f4b3e6-4afb-11e9-9859-0242ac110002",
     "next": "67f4b436-4afb-11e9-9859-0242ac110002",
     "previous": "67f4b3a0-4afb-11e9-9859-0242ac110002"
    }
   },
   "source": [
    "![UnitGroup](images/guacamole-001-02-B.png)\n",
    "\n",
    "このNotebookで構築するGuacamole環境では２つのUnitを作成することを想定しています。\n",
    "* Guacamole用ユニット\n",
    "  - GuacamoleやGuacamoleの設定値を保存するためのデータベースのコンテナを実行するVCノードが属するユニット\n",
    "  - ユニットのVCノードは１ノードのみとなる\n",
    "* 演習環境用ユニット\n",
    "  - 演習環境コンテナを実行するVCノードが属するユニット\n",
    "  - ユニットのVCノードは必要に応じてスケールする\n",
    "\n",
    "２つのUnitをまとめて扱うための UnitGroup の名前を、次のセルで指定してください。"
   ]
  },
  {
   "cell_type": "code",
   "execution_count": 10,
   "metadata": {
    "deletable": false,
    "editable": false,
    "lc_cell_meme": {
     "current": "67f4b436-4afb-11e9-9859-0242ac110002",
     "next": "67f4b47c-4afb-11e9-9859-0242ac110002",
     "previous": "67f4b3e6-4afb-11e9-9859-0242ac110002"
    },
    "run_through_control": {
     "frozen": true
    }
   },
   "outputs": [],
   "source": [
    "unit_group = 'Guacamole-B'"
   ]
  },
  {
   "cell_type": "markdown",
   "metadata": {
    "lc_cell_meme": {
     "current": "67f4b47c-4afb-11e9-9859-0242ac110002",
     "next": "67f4b4c2-4afb-11e9-9859-0242ac110002",
     "previous": "67f4b436-4afb-11e9-9859-0242ac110002"
    }
   },
   "source": [
    "## パラメータの保存\n",
    "\n",
    "この章で指定したパラメータの値をファイルに保存します。"
   ]
  },
  {
   "cell_type": "markdown",
   "metadata": {
    "lc_cell_meme": {
     "current": "67f4b4c2-4afb-11e9-9859-0242ac110002",
     "next": "67f4b508-4afb-11e9-9859-0242ac110002",
     "previous": "67f4b47c-4afb-11e9-9859-0242ac110002"
    }
   },
   "source": [
    "後の手順でVCノードに対する操作を、構成管理ツールの[Ansible](https://www.ansible.com/)で行います。そこで、パラメータの保存形式は `Ansible` のフォーマットに従うことにします。Ansible では `group_vars/`というディレクトリに YAML フォーマットのファイルを配置すると、そのファイルに記録されている値を変数として利用することができます。このNotebookでは `group_vars/` にあるファイルを `group_vars ファイル`と呼ぶことにします。"
   ]
  },
  {
   "cell_type": "markdown",
   "metadata": {
    "lc_cell_meme": {
     "current": "67f4b508-4afb-11e9-9859-0242ac110002",
     "next": "67f4b54e-4afb-11e9-9859-0242ac110002",
     "previous": "67f4b4c2-4afb-11e9-9859-0242ac110002"
    }
   },
   "source": [
    "次のセルを実行すると、この章で指定したパラメータが group_vars ファイルに保存されます。\n",
    "\n",
    "> YAMLフォーマットでファイルに値を保存するために、事前に作成した Python のスクリプト `scripts/group.py` を利用しています。"
   ]
  },
  {
   "cell_type": "code",
   "execution_count": 11,
   "metadata": {
    "deletable": false,
    "editable": false,
    "lc_cell_meme": {
     "current": "67f4b54e-4afb-11e9-9859-0242ac110002",
     "next": "67f4b594-4afb-11e9-9859-0242ac110002",
     "previous": "67f4b508-4afb-11e9-9859-0242ac110002"
    },
    "run_through_control": {
     "frozen": true
    }
   },
   "outputs": [],
   "source": [
    "%run scripts/group.py\n",
    "\n",
    "update_group_vars(\n",
    "    unit_group,\n",
    "    unit_group=unit_group,\n",
    "    vc_provider=vc_provider,\n",
    "    vc_flavor=vc_flavor,\n",
    "    vc_disk_size=vc_disk_size,\n",
    "    vc_guacamole_ipaddress=vc_guacamole_ipaddress,\n",
    "    ssh_public_key_path=ssh_public_key_path,\n",
    "    ssh_private_key_path=ssh_private_key_path,\n",
    ")"
   ]
  },
  {
   "cell_type": "markdown",
   "metadata": {
    "lc_cell_meme": {
     "current": "67f4b594-4afb-11e9-9859-0242ac110002",
     "next": "67f4b5da-4afb-11e9-9859-0242ac110002",
     "previous": "67f4b54e-4afb-11e9-9859-0242ac110002"
    }
   },
   "source": [
    "上のセルがエラーになる場合は、この章で設定する必要があるパラメータが、まだ設定されていない可能性があります。この章のセルで実行していないことを確認してください。実行していないものがあった場合はそのセルを実行した後、エラーになったこの節のセルを再度実行して下さい。"
   ]
  },
  {
   "cell_type": "markdown",
   "metadata": {
    "lc_cell_meme": {
     "current": "67f4b5da-4afb-11e9-9859-0242ac110002",
     "next": "67f4b62a-4afb-11e9-9859-0242ac110002",
     "previous": "67f4b594-4afb-11e9-9859-0242ac110002"
    }
   },
   "source": [
    "group_vars ファイルの内容を表示して保存されたパラメータを確認します。"
   ]
  },
  {
   "cell_type": "code",
   "execution_count": 12,
   "metadata": {
    "deletable": false,
    "editable": false,
    "lc_cell_meme": {
     "current": "67f4b62a-4afb-11e9-9859-0242ac110002",
     "next": "67f4b670-4afb-11e9-9859-0242ac110002",
     "previous": "67f4b5da-4afb-11e9-9859-0242ac110002"
    },
    "run_through_control": {
     "frozen": true
    }
   },
   "outputs": [
    {
     "name": "stdout",
     "output_type": "stream",
     "text": [
      "ssh_private_key_path: /home/bit_kun/.ssh/id_rsa\r\n",
      "ssh_public_key_path: /home/bit_kun/.ssh/id_rsa.pub\r\n",
      "unit_group: Guacamole-B\r\n",
      "vc_disk_size: 16\r\n",
      "vc_flavor: small\r\n",
      "vc_guacamole_ipaddress: 172.30.2.100\r\n",
      "vc_provider: aws\r\n"
     ]
    }
   ],
   "source": [
    "!cat group_vars/{unit_group}.yml"
   ]
  },
  {
   "cell_type": "markdown",
   "metadata": {
    "lc_cell_meme": {
     "current": "67f4b670-4afb-11e9-9859-0242ac110002",
     "next": "67f4b6b6-4afb-11e9-9859-0242ac110002",
     "previous": "67f4b62a-4afb-11e9-9859-0242ac110002"
    }
   },
   "source": [
    "# Guacamoleに関するパラメータ"
   ]
  },
  {
   "cell_type": "markdown",
   "metadata": {
    "lc_cell_meme": {
     "current": "67f4b6b6-4afb-11e9-9859-0242ac110002",
     "next": "67f4b6fc-4afb-11e9-9859-0242ac110002",
     "previous": "67f4b670-4afb-11e9-9859-0242ac110002"
    }
   },
   "source": [
    "この章ではGuacamoleに関するパラメータの指定を行います。まずGuacamoleを利用する一般ユーザのリストを指定します。次に Guacamole の管理者ユーザ(`guacadmin`)のパスワードを指定します。そして Guacamole の各種設定値の保存先となるデータベースに関するパラメータの指定を行います。最後に入力したパラメータの保存を行います。\n",
    "\n",
    "Guacamoleの管理者パスワードと、データベースに接続するためのパスワードについては秘密情報となるので、Notebook環境には保存せず、VCCが提供している HashiCorp Vault に保存します。HashiCorp Vault は秘密情報を保存するための Key Valueストアです。保持する情報は暗号化されて記録されています。\n",
    "\n",
    "秘密情報ではない、その他のパラメータについては前の章と同様に group_vars ファイルに記録します。"
   ]
  },
  {
   "cell_type": "markdown",
   "metadata": {
    "lc_cell_meme": {
     "current": "67f4b6fc-4afb-11e9-9859-0242ac110002",
     "next": "67f4b74c-4afb-11e9-9859-0242ac110002",
     "previous": "67f4b6b6-4afb-11e9-9859-0242ac110002"
    }
   },
   "source": [
    "![Guacamole設定](images/guacamole-001-03.png)"
   ]
  },
  {
   "cell_type": "markdown",
   "metadata": {
    "lc_cell_meme": {
     "current": "67f4b74c-4afb-11e9-9859-0242ac110002",
     "next": "67f4b792-4afb-11e9-9859-0242ac110002",
     "previous": "67f4b6fc-4afb-11e9-9859-0242ac110002"
    }
   },
   "source": [
    "## Guacamoleユーザの指定\n",
    "\n",
    "Guacamoleに登録する一般ユーザのユーザ名のリストを指定してください。"
   ]
  },
  {
   "cell_type": "markdown",
   "metadata": {
    "lc_cell_meme": {
     "current": "67f4b792-4afb-11e9-9859-0242ac110002",
     "next": "67f4b7e2-4afb-11e9-9859-0242ac110002",
     "previous": "67f4b74c-4afb-11e9-9859-0242ac110002"
    }
   },
   "source": [
    "> ここで構築するGuacamole環境ではユーザの認証情報に LDAP サーバに格納されている値を利用することを想定しています。そのためユーザ名は、事前にLDAPサーバに登録されているユーザ名と一致している必要があります。"
   ]
  },
  {
   "cell_type": "code",
   "execution_count": 13,
   "metadata": {
    "deletable": false,
    "editable": false,
    "lc_cell_meme": {
     "current": "67f4b7e2-4afb-11e9-9859-0242ac110002",
     "next": "67f4b81e-4afb-11e9-9859-0242ac110002",
     "previous": "67f4b792-4afb-11e9-9859-0242ac110002"
    },
    "run_through_control": {
     "frozen": true
    }
   },
   "outputs": [],
   "source": [
    "guacamole_users = [\n",
    "    'user01',\n",
    "    'user02',\n",
    "    'user03',\n",
    "    'user04',\n",
    "    'user05',\n",
    "    'user06',\n",
    "    'user07',\n",
    "    'user08',\n",
    "    'user09',\n",
    "    'user10',\n",
    "]"
   ]
  },
  {
   "cell_type": "markdown",
   "metadata": {
    "lc_cell_meme": {
     "current": "67f4b81e-4afb-11e9-9859-0242ac110002",
     "next": "67f4b864-4afb-11e9-9859-0242ac110002",
     "previous": "67f4b7e2-4afb-11e9-9859-0242ac110002"
    }
   },
   "source": [
    "## 管理者パスワード"
   ]
  },
  {
   "cell_type": "markdown",
   "metadata": {
    "lc_cell_meme": {
     "current": "67f4b864-4afb-11e9-9859-0242ac110002",
     "next": "67f4b8b4-4afb-11e9-9859-0242ac110002",
     "previous": "67f4b81e-4afb-11e9-9859-0242ac110002"
    }
   },
   "source": [
    "Guacamoleの管理者ユーザ`guacadmin`のパスワードを次のセルで指定してください。\n",
    "\n",
    "> 通常は秘密情報をNotebook環境に不用意に残さないようにするため、パスワードの指定はパスワード入力欄を用いることが望ましいです。このハンズオンではタイプミスによるトラブルを避けるために、あえて文字列で直接設定を行っています。実際の運用ではこのような指定方法を用いないでください。"
   ]
  },
  {
   "cell_type": "code",
   "execution_count": 14,
   "metadata": {
    "deletable": false,
    "editable": false,
    "lc_cell_meme": {
     "current": "67f4b8b4-4afb-11e9-9859-0242ac110002",
     "next": "67f4b8fa-4afb-11e9-9859-0242ac110002",
     "previous": "67f4b864-4afb-11e9-9859-0242ac110002"
    },
    "run_through_control": {
     "frozen": true
    }
   },
   "outputs": [],
   "source": [
    "# (例)\n",
    "# guacamole_admin_password = getpass()\n",
    "\n",
    "guacamole_admin_password = 'guacamole'"
   ]
  },
  {
   "cell_type": "markdown",
   "metadata": {
    "lc_cell_meme": {
     "current": "67f4b8fa-4afb-11e9-9859-0242ac110002",
     "next": "67f4b940-4afb-11e9-9859-0242ac110002",
     "previous": "67f4b8b4-4afb-11e9-9859-0242ac110002"
    }
   },
   "source": [
    "Guacamoleの管理者ユーザにはデフォルトのパスワードが設定されています。Guacamole環境を起動した後に、ここで設定したパスワードに変更します。"
   ]
  },
  {
   "cell_type": "markdown",
   "metadata": {
    "lc_cell_meme": {
     "current": "67f4b940-4afb-11e9-9859-0242ac110002",
     "next": "67f4b986-4afb-11e9-9859-0242ac110002",
     "previous": "67f4b8fa-4afb-11e9-9859-0242ac110002"
    }
   },
   "source": [
    "## データベースに関するパラメータ\n",
    "\n",
    "Guacamole では設定値をデータベースに保存します。データベースに関するパラメータをここで指定します。"
   ]
  },
  {
   "cell_type": "markdown",
   "metadata": {
    "lc_cell_meme": {
     "current": "67f4b986-4afb-11e9-9859-0242ac110002",
     "next": "67f4b9cc-4afb-11e9-9859-0242ac110002",
     "previous": "67f4b940-4afb-11e9-9859-0242ac110002"
    }
   },
   "source": [
    "Guacamoleの設定値を保存するデータベースの名前を指定します。"
   ]
  },
  {
   "cell_type": "code",
   "execution_count": 15,
   "metadata": {
    "deletable": false,
    "editable": false,
    "lc_cell_meme": {
     "current": "67f4b9cc-4afb-11e9-9859-0242ac110002",
     "next": "67f4ba12-4afb-11e9-9859-0242ac110002",
     "previous": "67f4b986-4afb-11e9-9859-0242ac110002"
    },
    "run_through_control": {
     "frozen": true
    }
   },
   "outputs": [],
   "source": [
    "guacamole_db_name = 'guacamole'"
   ]
  },
  {
   "cell_type": "markdown",
   "metadata": {
    "lc_cell_meme": {
     "current": "67f4ba12-4afb-11e9-9859-0242ac110002",
     "next": "67f4ba58-4afb-11e9-9859-0242ac110002",
     "previous": "67f4b9cc-4afb-11e9-9859-0242ac110002"
    }
   },
   "source": [
    "Guacamoleの設定値を保存するデータベースのユーザ名を指定します。"
   ]
  },
  {
   "cell_type": "code",
   "execution_count": 16,
   "metadata": {
    "deletable": false,
    "editable": false,
    "lc_cell_meme": {
     "current": "67f4ba58-4afb-11e9-9859-0242ac110002",
     "next": "67f4baa8-4afb-11e9-9859-0242ac110002",
     "previous": "67f4ba12-4afb-11e9-9859-0242ac110002"
    },
    "run_through_control": {
     "frozen": true
    }
   },
   "outputs": [],
   "source": [
    "guacamole_db_user = 'guacamole'"
   ]
  },
  {
   "cell_type": "markdown",
   "metadata": {
    "lc_cell_meme": {
     "current": "67f4baa8-4afb-11e9-9859-0242ac110002",
     "next": "67f4baf8-4afb-11e9-9859-0242ac110002",
     "previous": "67f4ba58-4afb-11e9-9859-0242ac110002"
    }
   },
   "source": [
    "データベースユーザのパスワードを指定します。\n",
    "\n",
    "> 通常は秘密情報をNotebook環境に不用意に残さないようにするため、パスワードの指定はパスワード入力欄を用いることが望ましいです。このハンズオンではタイプミスによるトラブルを避けるために、あえて文字列で直接設定を行っています。実際の運用ではこのような指定方法を用いないでください。"
   ]
  },
  {
   "cell_type": "code",
   "execution_count": 17,
   "metadata": {
    "deletable": false,
    "editable": false,
    "lc_cell_meme": {
     "current": "67f4baf8-4afb-11e9-9859-0242ac110002",
     "next": "67f4bb3e-4afb-11e9-9859-0242ac110002",
     "previous": "67f4baa8-4afb-11e9-9859-0242ac110002"
    },
    "run_through_control": {
     "frozen": true
    }
   },
   "outputs": [],
   "source": [
    "# (例)\n",
    "# guacamole_db_password = getpass()\n",
    "\n",
    "guacamole_db_password = 'guacamole'"
   ]
  },
  {
   "cell_type": "markdown",
   "metadata": {
    "lc_cell_meme": {
     "current": "67f4bb3e-4afb-11e9-9859-0242ac110002",
     "next": "67f4bb84-4afb-11e9-9859-0242ac110002",
     "previous": "67f4baf8-4afb-11e9-9859-0242ac110002"
    }
   },
   "source": [
    "## パラメータの保存"
   ]
  },
  {
   "cell_type": "markdown",
   "metadata": {
    "lc_cell_meme": {
     "current": "67f4bb84-4afb-11e9-9859-0242ac110002",
     "next": "67f4bbde-4afb-11e9-9859-0242ac110002",
     "previous": "67f4bb3e-4afb-11e9-9859-0242ac110002"
    }
   },
   "source": [
    "内容によって異なる場所に保存します。パスワード以外の秘密情報ではないパラメータについては前の章と同様にJupyter Notebook環境内の group_vars ファイルに保存します。パスワード等の秘密情報については、より安全度の高いVCCのVaultサーバに保存します。"
   ]
  },
  {
   "cell_type": "markdown",
   "metadata": {
    "lc_cell_meme": {
     "current": "67f4bbde-4afb-11e9-9859-0242ac110002",
     "next": "67f4bc2e-4afb-11e9-9859-0242ac110002",
     "previous": "67f4bb84-4afb-11e9-9859-0242ac110002"
    }
   },
   "source": [
    "### Vaultサーバへの保存"
   ]
  },
  {
   "cell_type": "markdown",
   "metadata": {
    "lc_cell_meme": {
     "current": "67f4bc2e-4afb-11e9-9859-0242ac110002",
     "next": "67f4bc74-4afb-11e9-9859-0242ac110002",
     "previous": "67f4bbde-4afb-11e9-9859-0242ac110002"
    }
   },
   "source": [
    "以下に示す秘密情報をVCCのVaultサーバに保存します。\n",
    "* Guacamoleの管理者パスワード\n",
    "* データベースの接続パスワード"
   ]
  },
  {
   "cell_type": "markdown",
   "metadata": {
    "lc_cell_meme": {
     "current": "67f4bc74-4afb-11e9-9859-0242ac110002",
     "next": "67f4bcba-4afb-11e9-9859-0242ac110002",
     "previous": "67f4bc2e-4afb-11e9-9859-0242ac110002"
    }
   },
   "source": [
    "Vaultサーバ内の保存場所のパスを指定します。\n",
    "\n",
    "> 他の秘密情報の保存場所と重複しないようにするために UnitGroup 名の値をパスに含めています。"
   ]
  },
  {
   "cell_type": "code",
   "execution_count": 18,
   "metadata": {
    "deletable": false,
    "editable": false,
    "lc_cell_meme": {
     "current": "67f4bcba-4afb-11e9-9859-0242ac110002",
     "next": "67f4bd0a-4afb-11e9-9859-0242ac110002",
     "previous": "67f4bc74-4afb-11e9-9859-0242ac110002"
    },
    "run_through_control": {
     "frozen": true
    }
   },
   "outputs": [
    {
     "name": "stdout",
     "output_type": "stream",
     "text": [
      "cubbyhole/Guacamole-B/guacamole\n"
     ]
    }
   ],
   "source": [
    "guacamole_vault_path = f'cubbyhole/{unit_group}/guacamole'\n",
    "print(guacamole_vault_path)"
   ]
  },
  {
   "cell_type": "markdown",
   "metadata": {
    "lc_cell_meme": {
     "current": "67f4bd0a-4afb-11e9-9859-0242ac110002",
     "next": "67f4bd50-4afb-11e9-9859-0242ac110002",
     "previous": "67f4bcba-4afb-11e9-9859-0242ac110002"
    }
   },
   "source": [
    "Vaultサーバに秘密情報のパラメータを保存します。\n",
    "\n",
    "> 次のセルでは Vault の REST API を呼び出すために Python の requests ライブラリを利用しています。Vaultサーバの REST APIや requests ライブラリの簡単な利用法については vcp tutorialの[「102-秘密情報管理サーバの利用.ipynb」](../vcp-tutorial/102-秘密情報管理サーバの利用.ipynb) を参照してください。"
   ]
  },
  {
   "cell_type": "code",
   "execution_count": 19,
   "metadata": {
    "deletable": false,
    "editable": false,
    "lc_cell_meme": {
     "current": "67f4bd50-4afb-11e9-9859-0242ac110002",
     "next": "67f4bd96-4afb-11e9-9859-0242ac110002",
     "previous": "67f4bd0a-4afb-11e9-9859-0242ac110002"
    },
    "run_through_control": {
     "frozen": true
    }
   },
   "outputs": [
    {
     "name": "stdout",
     "output_type": "stream",
     "text": [
      "http://192.168.2.1:8200/v1/cubbyhole/Guacamole-B/guacamole\n"
     ]
    },
    {
     "data": {
      "text/plain": [
       "<Response [204]>"
      ]
     },
     "execution_count": 19,
     "metadata": {},
     "output_type": "execute_result"
    }
   ],
   "source": [
    "import requests\n",
    "\n",
    "# 保存するパラメータを１つの dict にまとめる\n",
    "payload = {\n",
    "    'admin_password': guacamole_admin_password,\n",
    "    'db_password': guacamole_db_password,\n",
    "}\n",
    "\n",
    "# Vault サーバのURLを組み立てる\n",
    "url = f'{vcp.vcc_info()[\"vault_url\"]}/v1/{guacamole_vault_path}'\n",
    "print(url)\n",
    "\n",
    "# VaultサーバのアクセストークンをHTTPヘッダに設定する\n",
    "custom_headers = {\n",
    "    'X-Vault-Token': vcc_access_token,\n",
    "}\n",
    "\n",
    "r = requests.post(url, headers=custom_headers, json=payload)\n",
    "r"
   ]
  },
  {
   "cell_type": "markdown",
   "metadata": {
    "lc_cell_meme": {
     "current": "67f4bd96-4afb-11e9-9859-0242ac110002",
     "next": "67f4bddc-4afb-11e9-9859-0242ac110002",
     "previous": "67f4bd50-4afb-11e9-9859-0242ac110002"
    }
   },
   "source": [
    "Vaultサーバへの値の保存が成功すると　`<Response [204]>` と表示されます。"
   ]
  },
  {
   "cell_type": "markdown",
   "metadata": {
    "lc_cell_meme": {
     "current": "67f4bddc-4afb-11e9-9859-0242ac110002",
     "next": "67f4be2c-4afb-11e9-9859-0242ac110002",
     "previous": "67f4bd96-4afb-11e9-9859-0242ac110002"
    }
   },
   "source": [
    "### group_vars ファイルへの保存"
   ]
  },
  {
   "cell_type": "markdown",
   "metadata": {
    "lc_cell_meme": {
     "current": "67f4be2c-4afb-11e9-9859-0242ac110002",
     "next": "67f4be72-4afb-11e9-9859-0242ac110002",
     "previous": "67f4bddc-4afb-11e9-9859-0242ac110002"
    }
   },
   "source": [
    "次のセルを実行すると、この章で指定したパラメータが group_vars ファイルに保存されます。\n",
    "\n",
    "> YAMLフォーマットでファイルに値を保存するために、事前に作成した Python のスクリプト `scripts/group.py` を利用しています。"
   ]
  },
  {
   "cell_type": "code",
   "execution_count": 20,
   "metadata": {
    "deletable": false,
    "editable": false,
    "lc_cell_meme": {
     "current": "67f4be72-4afb-11e9-9859-0242ac110002",
     "next": "67f4bec2-4afb-11e9-9859-0242ac110002",
     "previous": "67f4be2c-4afb-11e9-9859-0242ac110002"
    },
    "run_through_control": {
     "frozen": true
    }
   },
   "outputs": [],
   "source": [
    "%run scripts/group.py\n",
    "\n",
    "update_group_vars(\n",
    "    unit_group,\n",
    "    guacamole_users=guacamole_users,\n",
    "    guacamole_db_name=guacamole_db_name,\n",
    "    guacamole_db_user=guacamole_db_user,\n",
    "    guacamole_vault_path=guacamole_vault_path,\n",
    ")"
   ]
  },
  {
   "cell_type": "markdown",
   "metadata": {
    "lc_cell_meme": {
     "current": "67f4bec2-4afb-11e9-9859-0242ac110002",
     "next": "67f4bf08-4afb-11e9-9859-0242ac110002",
     "previous": "67f4be72-4afb-11e9-9859-0242ac110002"
    }
   },
   "source": [
    "上のセルがエラーになる場合は、この章で設定する必要があるパラメータが、まだ設定されていない可能性があります。この章のセルで実行していないことを確認してください。実行していないものがあった場合はそのセルを実行した後、エラーになったこの節のセルを再度実行して下さい。"
   ]
  },
  {
   "cell_type": "markdown",
   "metadata": {
    "lc_cell_meme": {
     "current": "67f4bf08-4afb-11e9-9859-0242ac110002",
     "next": "67f4bf58-4afb-11e9-9859-0242ac110002",
     "previous": "67f4bec2-4afb-11e9-9859-0242ac110002"
    }
   },
   "source": [
    "group_vars ファイルの内容を表示して保存されたパラメータを確認します。\n",
    "\n",
    "> ２章で設定したパラメータも合わせて表示されます。"
   ]
  },
  {
   "cell_type": "code",
   "execution_count": 21,
   "metadata": {
    "deletable": false,
    "editable": false,
    "lc_cell_meme": {
     "current": "67f4bf58-4afb-11e9-9859-0242ac110002",
     "next": "67f4bf9e-4afb-11e9-9859-0242ac110002",
     "previous": "67f4bf08-4afb-11e9-9859-0242ac110002"
    },
    "run_through_control": {
     "frozen": true
    },
    "scrolled": true
   },
   "outputs": [
    {
     "name": "stdout",
     "output_type": "stream",
     "text": [
      "guacamole_db_name: guacamole\r\n",
      "guacamole_db_user: guacamole\r\n",
      "guacamole_users:\r\n",
      "- user01\r\n",
      "- user02\r\n",
      "- user03\r\n",
      "- user04\r\n",
      "- user05\r\n",
      "- user06\r\n",
      "- user07\r\n",
      "- user08\r\n",
      "- user09\r\n",
      "- user10\r\n",
      "guacamole_vault_path: cubbyhole/Guacamole-B/guacamole\r\n",
      "ssh_private_key_path: /home/bit_kun/.ssh/id_rsa\r\n",
      "ssh_public_key_path: /home/bit_kun/.ssh/id_rsa.pub\r\n",
      "unit_group: Guacamole-B\r\n",
      "vc_disk_size: 16\r\n",
      "vc_flavor: small\r\n",
      "vc_guacamole_ipaddress: 172.30.2.100\r\n",
      "vc_provider: aws\r\n"
     ]
    }
   ],
   "source": [
    "!cat group_vars/{unit_group}.yml"
   ]
  },
  {
   "cell_type": "markdown",
   "metadata": {
    "lc_cell_meme": {
     "current": "67f4bf9e-4afb-11e9-9859-0242ac110002",
     "next": "67f4bfe4-4afb-11e9-9859-0242ac110002",
     "previous": "67f4bf58-4afb-11e9-9859-0242ac110002"
    }
   },
   "source": [
    "# LDAPサーバに関するパラメータ\n",
    "\n",
    "このNotebookで構築するGuacamole環境では、認証情報について外部のLDAPサーバに記録されている情報を利用しています。認証情報などのユーザに関する情報を保持しているLDAPサーバにアクセスするために必要となるパラメータをこの章で指定します。"
   ]
  },
  {
   "cell_type": "markdown",
   "metadata": {
    "lc_cell_meme": {
     "current": "67f4bfe4-4afb-11e9-9859-0242ac110002",
     "next": "67f4c02a-4afb-11e9-9859-0242ac110002",
     "previous": "67f4bf9e-4afb-11e9-9859-0242ac110002"
    }
   },
   "source": [
    "![LDAP設定](images/guacamole-001-04.png)"
   ]
  },
  {
   "cell_type": "markdown",
   "metadata": {
    "lc_cell_meme": {
     "current": "67f4c02a-4afb-11e9-9859-0242ac110002",
     "next": "67f4c070-4afb-11e9-9859-0242ac110002",
     "previous": "67f4bfe4-4afb-11e9-9859-0242ac110002"
    }
   },
   "source": [
    "## LDAPサーバのアドレス"
   ]
  },
  {
   "cell_type": "markdown",
   "metadata": {
    "lc_cell_meme": {
     "current": "67f4c070-4afb-11e9-9859-0242ac110002",
     "next": "67f4c0b6-4afb-11e9-9859-0242ac110002",
     "previous": "67f4c02a-4afb-11e9-9859-0242ac110002"
    }
   },
   "source": [
    "LDAPサーバのホスト名を指定してください。"
   ]
  },
  {
   "cell_type": "code",
   "execution_count": 22,
   "metadata": {
    "deletable": false,
    "editable": false,
    "lc_cell_meme": {
     "current": "67f4c0b6-4afb-11e9-9859-0242ac110002",
     "next": "67f4c106-4afb-11e9-9859-0242ac110002",
     "previous": "67f4c070-4afb-11e9-9859-0242ac110002"
    },
    "run_through_control": {
     "frozen": true
    }
   },
   "outputs": [],
   "source": [
    "ldap_hostname = 'ldap.vcp-handson.org'"
   ]
  },
  {
   "cell_type": "markdown",
   "metadata": {
    "lc_cell_meme": {
     "current": "67f4c106-4afb-11e9-9859-0242ac110002",
     "next": "67f4c14c-4afb-11e9-9859-0242ac110002",
     "previous": "67f4c0b6-4afb-11e9-9859-0242ac110002"
    }
   },
   "source": [
    "LDAPサーバのIPアドレスを指定してください。\n",
    "\n",
    "> ハンズオン環境ではLDAPサーバがDNSに登録されていないため、回避策としてホスト名とIPアドレスの両方を指定しています。後で環境構築する際に、ここで指定したホスト名、IPアドレスの値を構築環境の `/etc/hosts` に登録します。"
   ]
  },
  {
   "cell_type": "code",
   "execution_count": 23,
   "metadata": {
    "deletable": false,
    "editable": false,
    "lc_cell_meme": {
     "current": "67f4c14c-4afb-11e9-9859-0242ac110002",
     "next": "67f4c192-4afb-11e9-9859-0242ac110002",
     "previous": "67f4c106-4afb-11e9-9859-0242ac110002"
    },
    "run_through_control": {
     "frozen": true
    }
   },
   "outputs": [],
   "source": [
    "ldap_ipaddress = '172.30.2.50'"
   ]
  },
  {
   "cell_type": "markdown",
   "metadata": {
    "lc_cell_meme": {
     "current": "67f4c192-4afb-11e9-9859-0242ac110002",
     "next": "67f4c1d8-4afb-11e9-9859-0242ac110002",
     "previous": "67f4c14c-4afb-11e9-9859-0242ac110002"
    }
   },
   "source": [
    "## 接続方法の指定\n",
    "\n",
    "LDAPサーバへの接続方法を指定します。"
   ]
  },
  {
   "cell_type": "markdown",
   "metadata": {
    "lc_cell_meme": {
     "current": "67f4c1d8-4afb-11e9-9859-0242ac110002",
     "next": "67f4c21e-4afb-11e9-9859-0242ac110002",
     "previous": "67f4c192-4afb-11e9-9859-0242ac110002"
    }
   },
   "source": [
    "ここで指定できる値は以下の通りです。\n",
    "\n",
    "* `ssl`\n",
    " - TLS利用あり(ldaps)\n",
    "* `starttls`\n",
    " - TLS利用あり(STARTTLS)\n",
    "* `none`\n",
    " - TLS利用なし"
   ]
  },
  {
   "cell_type": "code",
   "execution_count": 24,
   "metadata": {
    "deletable": false,
    "editable": false,
    "lc_cell_meme": {
     "current": "67f4c21e-4afb-11e9-9859-0242ac110002",
     "next": "67f4c264-4afb-11e9-9859-0242ac110002",
     "previous": "67f4c1d8-4afb-11e9-9859-0242ac110002"
    },
    "run_through_control": {
     "frozen": true
    }
   },
   "outputs": [],
   "source": [
    "ldap_encryption_method = 'ssl'"
   ]
  },
  {
   "cell_type": "markdown",
   "metadata": {
    "lc_cell_meme": {
     "current": "67f4c264-4afb-11e9-9859-0242ac110002",
     "next": "67f4c2aa-4afb-11e9-9859-0242ac110002",
     "previous": "67f4c21e-4afb-11e9-9859-0242ac110002"
    }
   },
   "source": [
    "## CA証明書"
   ]
  },
  {
   "cell_type": "markdown",
   "metadata": {
    "lc_cell_meme": {
     "current": "67f4c2aa-4afb-11e9-9859-0242ac110002",
     "next": "67f4c2fa-4afb-11e9-9859-0242ac110002",
     "previous": "67f4c264-4afb-11e9-9859-0242ac110002"
    }
   },
   "source": [
    "LDAPとのSSL/TLS接続にCA証明書の設定が必要となる場合は、次のセルでCA証明書を格納しているファイルのパスを指定してください。\n",
    "\n",
    "> CA証明書は事前に Notebook環境内に配置しておき、そのパスを指定してください。"
   ]
  },
  {
   "cell_type": "code",
   "execution_count": 25,
   "metadata": {
    "deletable": false,
    "editable": false,
    "lc_cell_meme": {
     "current": "67f4c2fa-4afb-11e9-9859-0242ac110002",
     "next": "67f4c34a-4afb-11e9-9859-0242ac110002",
     "previous": "67f4c2aa-4afb-11e9-9859-0242ac110002"
    },
    "run_through_control": {
     "frozen": true
    }
   },
   "outputs": [],
   "source": [
    "ldap_ca_path = 'template/ldap/ldap-ca.crt'"
   ]
  },
  {
   "cell_type": "markdown",
   "metadata": {
    "lc_cell_meme": {
     "current": "67f4c34a-4afb-11e9-9859-0242ac110002",
     "next": "67f4c390-4afb-11e9-9859-0242ac110002",
     "previous": "67f4c2fa-4afb-11e9-9859-0242ac110002"
    }
   },
   "source": [
    "## 検索用DNの指定\n",
    "\n",
    "LDAPサーバから情報を取得する際に用いる検索用DN とそのパスワードを指定してください。"
   ]
  },
  {
   "cell_type": "markdown",
   "metadata": {
    "lc_cell_meme": {
     "current": "67f4c390-4afb-11e9-9859-0242ac110002",
     "next": "67f4c3d6-4afb-11e9-9859-0242ac110002",
     "previous": "67f4c34a-4afb-11e9-9859-0242ac110002"
    }
   },
   "source": [
    "検索用DNを指定してください。"
   ]
  },
  {
   "cell_type": "code",
   "execution_count": 26,
   "metadata": {
    "deletable": false,
    "editable": false,
    "lc_cell_meme": {
     "current": "67f4c3d6-4afb-11e9-9859-0242ac110002",
     "next": "67f4c426-4afb-11e9-9859-0242ac110002",
     "previous": "67f4c390-4afb-11e9-9859-0242ac110002"
    },
    "run_through_control": {
     "frozen": true
    }
   },
   "outputs": [],
   "source": [
    "ldap_search_bind_dn = 'cn=ldap,dc=vcp-handson,dc=org'"
   ]
  },
  {
   "cell_type": "markdown",
   "metadata": {
    "lc_cell_meme": {
     "current": "67f4c426-4afb-11e9-9859-0242ac110002",
     "next": "67f4c46c-4afb-11e9-9859-0242ac110002",
     "previous": "67f4c3d6-4afb-11e9-9859-0242ac110002"
    }
   },
   "source": [
    "パスワードを指定してください。\n",
    "\n",
    "> 通常は秘密情報をNotebook環境に不用意に残さないようにするため、パスワードの指定はパスワード入力欄を用いることが望ましいです。このハンズオンではタイプミスによるトラブルを避けるために、あえて文字列で直接設定を行っています。実際の運用ではこのような指定方法を用いないでください。"
   ]
  },
  {
   "cell_type": "code",
   "execution_count": 27,
   "metadata": {
    "deletable": false,
    "editable": false,
    "lc_cell_meme": {
     "current": "67f4c46c-4afb-11e9-9859-0242ac110002",
     "next": "67f4c4b2-4afb-11e9-9859-0242ac110002",
     "previous": "67f4c426-4afb-11e9-9859-0242ac110002"
    },
    "run_through_control": {
     "frozen": true
    }
   },
   "outputs": [],
   "source": [
    "ldap_search_bind_password = 'ldap'"
   ]
  },
  {
   "cell_type": "markdown",
   "metadata": {
    "lc_cell_meme": {
     "current": "67f4c4b2-4afb-11e9-9859-0242ac110002",
     "next": "67f4c4f8-4afb-11e9-9859-0242ac110002",
     "previous": "67f4c46c-4afb-11e9-9859-0242ac110002"
    }
   },
   "source": [
    "## ベースDNの指定"
   ]
  },
  {
   "cell_type": "markdown",
   "metadata": {
    "lc_cell_meme": {
     "current": "67f4c4f8-4afb-11e9-9859-0242ac110002",
     "next": "67f4c53e-4afb-11e9-9859-0242ac110002",
     "previous": "67f4c4b2-4afb-11e9-9859-0242ac110002"
    }
   },
   "source": [
    "ベースDNを指定してください。"
   ]
  },
  {
   "cell_type": "code",
   "execution_count": 28,
   "metadata": {
    "deletable": false,
    "editable": false,
    "lc_cell_meme": {
     "current": "67f4c53e-4afb-11e9-9859-0242ac110002",
     "next": "67f4c58e-4afb-11e9-9859-0242ac110002",
     "previous": "67f4c4f8-4afb-11e9-9859-0242ac110002"
    },
    "run_through_control": {
     "frozen": true
    }
   },
   "outputs": [],
   "source": [
    "ldap_base_dn = 'dc=vcp-handson,dc=org'"
   ]
  },
  {
   "cell_type": "markdown",
   "metadata": {
    "lc_cell_meme": {
     "current": "67f4c58e-4afb-11e9-9859-0242ac110002",
     "next": "67f4c5d4-4afb-11e9-9859-0242ac110002",
     "previous": "67f4c53e-4afb-11e9-9859-0242ac110002"
    }
   },
   "source": [
    "ユーザ情報を取得する際のベースDNを指定してください。"
   ]
  },
  {
   "cell_type": "code",
   "execution_count": 29,
   "metadata": {
    "deletable": false,
    "editable": false,
    "lc_cell_meme": {
     "current": "67f4c5d4-4afb-11e9-9859-0242ac110002",
     "next": "67f4c61a-4afb-11e9-9859-0242ac110002",
     "previous": "67f4c58e-4afb-11e9-9859-0242ac110002"
    },
    "run_through_control": {
     "frozen": true
    }
   },
   "outputs": [],
   "source": [
    "ldap_user_base_dn = 'ou=People,dc=vcp-handson,dc=org'"
   ]
  },
  {
   "cell_type": "markdown",
   "metadata": {
    "lc_cell_meme": {
     "current": "67f4c61a-4afb-11e9-9859-0242ac110002",
     "next": "67f4c660-4afb-11e9-9859-0242ac110002",
     "previous": "67f4c5d4-4afb-11e9-9859-0242ac110002"
    }
   },
   "source": [
    "グループ情報を取得する際のベースDNを指定してください。"
   ]
  },
  {
   "cell_type": "code",
   "execution_count": 30,
   "metadata": {
    "deletable": false,
    "editable": false,
    "lc_cell_meme": {
     "current": "67f4c660-4afb-11e9-9859-0242ac110002",
     "next": "67f4c6a6-4afb-11e9-9859-0242ac110002",
     "previous": "67f4c61a-4afb-11e9-9859-0242ac110002"
    },
    "run_through_control": {
     "frozen": true
    }
   },
   "outputs": [],
   "source": [
    "ldap_group_base_dn = 'ou=Group,dc=vcp-handson,dc=org'"
   ]
  },
  {
   "cell_type": "markdown",
   "metadata": {
    "lc_cell_meme": {
     "current": "67f4c6a6-4afb-11e9-9859-0242ac110002",
     "next": "67f4c6ec-4afb-11e9-9859-0242ac110002",
     "previous": "67f4c660-4afb-11e9-9859-0242ac110002"
    }
   },
   "source": [
    "## パラメータの保存"
   ]
  },
  {
   "cell_type": "markdown",
   "metadata": {
    "lc_cell_meme": {
     "current": "67f4c6ec-4afb-11e9-9859-0242ac110002",
     "next": "67f4c732-4afb-11e9-9859-0242ac110002",
     "previous": "67f4c6a6-4afb-11e9-9859-0242ac110002"
    }
   },
   "source": [
    "内容によって異なる場所に保存します。パスワード以外の秘密情報ではないパラメータについては前の章と同様にJupyter Notebook環境内の group_vars ファイルに保存します。パスワード等の秘密情報については、より安全度の高いVCCのVaultサーバに保存します。"
   ]
  },
  {
   "cell_type": "markdown",
   "metadata": {
    "lc_cell_meme": {
     "current": "67f4c732-4afb-11e9-9859-0242ac110002",
     "next": "67f4c778-4afb-11e9-9859-0242ac110002",
     "previous": "67f4c6ec-4afb-11e9-9859-0242ac110002"
    }
   },
   "source": [
    "### Vaultサーバへの保存"
   ]
  },
  {
   "cell_type": "markdown",
   "metadata": {
    "lc_cell_meme": {
     "current": "67f4c778-4afb-11e9-9859-0242ac110002",
     "next": "67f4c7be-4afb-11e9-9859-0242ac110002",
     "previous": "67f4c732-4afb-11e9-9859-0242ac110002"
    }
   },
   "source": [
    "以下に示す秘密情報をVCCのVaultサーバに保存します。\n",
    "* 情報検索用のパスワード"
   ]
  },
  {
   "cell_type": "markdown",
   "metadata": {
    "lc_cell_meme": {
     "current": "67f4c7be-4afb-11e9-9859-0242ac110002",
     "next": "67f4c80e-4afb-11e9-9859-0242ac110002",
     "previous": "67f4c778-4afb-11e9-9859-0242ac110002"
    }
   },
   "source": [
    "Vaultサーバ内の保存場所のパスを指定します。\n",
    "\n",
    "> 他の秘密情報の保存場所と重複しないようにするために UnitGroup 名の値をパスに含めています。"
   ]
  },
  {
   "cell_type": "code",
   "execution_count": 31,
   "metadata": {
    "deletable": false,
    "editable": false,
    "lc_cell_meme": {
     "current": "67f4c80e-4afb-11e9-9859-0242ac110002",
     "next": "67f4c872-4afb-11e9-9859-0242ac110002",
     "previous": "67f4c7be-4afb-11e9-9859-0242ac110002"
    },
    "run_through_control": {
     "frozen": true
    }
   },
   "outputs": [],
   "source": [
    "ldap_vault_path = f'cubbyhole/{unit_group}/ldap'"
   ]
  },
  {
   "cell_type": "markdown",
   "metadata": {
    "lc_cell_meme": {
     "current": "67f4c872-4afb-11e9-9859-0242ac110002",
     "next": "67f4c8c2-4afb-11e9-9859-0242ac110002",
     "previous": "67f4c80e-4afb-11e9-9859-0242ac110002"
    }
   },
   "source": [
    "Vaultサーバに秘密情報のパラメータを保存します。\n",
    "\n",
    "> 次のセルでは Vault の REST API を呼び出すために Python の requests ライブラリを利用しています。Vaultサーバの REST APIや requests ライブラリの簡単な利用法については vcp tutorialの[「102-秘密情報管理サーバの利用.ipynb」](../vcp-tutorial/102-秘密情報管理サーバの利用.ipynb) を参照してください。"
   ]
  },
  {
   "cell_type": "code",
   "execution_count": 32,
   "metadata": {
    "deletable": false,
    "editable": false,
    "lc_cell_meme": {
     "current": "67f4c8c2-4afb-11e9-9859-0242ac110002",
     "next": "67f4c912-4afb-11e9-9859-0242ac110002",
     "previous": "67f4c872-4afb-11e9-9859-0242ac110002"
    },
    "run_through_control": {
     "frozen": true
    },
    "scrolled": true
   },
   "outputs": [
    {
     "name": "stdout",
     "output_type": "stream",
     "text": [
      "http://192.168.2.1:8200/v1/cubbyhole/Guacamole-B/ldap\n"
     ]
    },
    {
     "data": {
      "text/plain": [
       "<Response [204]>"
      ]
     },
     "execution_count": 32,
     "metadata": {},
     "output_type": "execute_result"
    }
   ],
   "source": [
    "import requests\n",
    "\n",
    "# 保存するパラメータを１つの dict にまとめる\n",
    "payload = {\n",
    "    'search_bind_password': ldap_search_bind_password,\n",
    "}\n",
    "\n",
    "# Vault サーバのURLを組み立てる\n",
    "url = f'{vcp.vcc_info()[\"vault_url\"]}/v1/{ldap_vault_path}'\n",
    "print(url)\n",
    "\n",
    "# VaultサーバのアクセストークンをHTTPヘッダに設定する\n",
    "custom_headers = {\n",
    "    'X-Vault-Token': vcc_access_token,\n",
    "}\n",
    "\n",
    "r = requests.post(url, headers=custom_headers, json=payload)\n",
    "r"
   ]
  },
  {
   "cell_type": "markdown",
   "metadata": {
    "lc_cell_meme": {
     "current": "67f4c912-4afb-11e9-9859-0242ac110002",
     "next": "67f4c958-4afb-11e9-9859-0242ac110002",
     "previous": "67f4c8c2-4afb-11e9-9859-0242ac110002"
    }
   },
   "source": [
    "Vaultサーバへの値の保存が成功すると　`<Response [204]>` と表示されます。"
   ]
  },
  {
   "cell_type": "markdown",
   "metadata": {
    "lc_cell_meme": {
     "current": "67f4c958-4afb-11e9-9859-0242ac110002",
     "next": "67f4c99e-4afb-11e9-9859-0242ac110002",
     "previous": "67f4c912-4afb-11e9-9859-0242ac110002"
    }
   },
   "source": [
    "### group_vars ファイルへの保存"
   ]
  },
  {
   "cell_type": "markdown",
   "metadata": {
    "lc_cell_meme": {
     "current": "67f4c99e-4afb-11e9-9859-0242ac110002",
     "next": "67f4c9e4-4afb-11e9-9859-0242ac110002",
     "previous": "67f4c958-4afb-11e9-9859-0242ac110002"
    }
   },
   "source": [
    "次のセルを実行すると、この章で指定したパラメータが group_vars ファイルに保存されます。\n",
    "\n",
    "> YAMLフォーマットでファイルに値を保存するために、事前に作成した Python のスクリプト `scripts/group.py` を利用しています。"
   ]
  },
  {
   "cell_type": "code",
   "execution_count": 33,
   "metadata": {
    "deletable": false,
    "editable": false,
    "lc_cell_meme": {
     "current": "67f4c9e4-4afb-11e9-9859-0242ac110002",
     "next": "67f4ca2a-4afb-11e9-9859-0242ac110002",
     "previous": "67f4c99e-4afb-11e9-9859-0242ac110002"
    },
    "run_through_control": {
     "frozen": true
    }
   },
   "outputs": [],
   "source": [
    "%run scripts/group.py\n",
    "\n",
    "update_group_vars(\n",
    "    unit_group,\n",
    "    ldap_hostname=ldap_hostname,\n",
    "    ldap_ipaddress=ldap_ipaddress,\n",
    "    ldap_encryption_method=ldap_encryption_method,\n",
    "    ldap_search_bind_dn=ldap_search_bind_dn,\n",
    "    ldap_base_dn=ldap_base_dn,\n",
    "    ldap_user_base_dn=ldap_user_base_dn,\n",
    "    ldap_group_base_dn=ldap_group_base_dn,\n",
    "    ldap_vault_path=ldap_vault_path,\n",
    ")\n",
    "\n",
    "if (\n",
    "    'ldap_ca_path' in vars()\n",
    "    or True                   # ldap_ca_path の設定が不要な場合はこの行をコメントアウトする\n",
    "   ):\n",
    "    update_group_vars(\n",
    "        unit_group,\n",
    "        ldap_ca_path=ldap_ca_path,\n",
    "    )"
   ]
  },
  {
   "cell_type": "markdown",
   "metadata": {
    "lc_cell_meme": {
     "current": "67f4ca2a-4afb-11e9-9859-0242ac110002",
     "next": "67f4ca7a-4afb-11e9-9859-0242ac110002",
     "previous": "67f4c9e4-4afb-11e9-9859-0242ac110002"
    }
   },
   "source": [
    "上のセルがエラーになる場合は、この章で設定する必要があるパラメータが、まだ設定されていない可能性があります。この章のセルで実行していないことを確認してください。実行していないものがあった場合はそのセルを実行した後、エラーになったこの節のセルを再度実行して下さい。"
   ]
  },
  {
   "cell_type": "markdown",
   "metadata": {
    "lc_cell_meme": {
     "current": "67f4ca7a-4afb-11e9-9859-0242ac110002",
     "next": "67f4cac0-4afb-11e9-9859-0242ac110002",
     "previous": "67f4ca2a-4afb-11e9-9859-0242ac110002"
    }
   },
   "source": [
    "group_vars ファイルの内容を表示して保存されたパラメータを確認します。\n",
    "\n",
    "> ２章、３章で設定したパラメータも合わせて表示されます。"
   ]
  },
  {
   "cell_type": "code",
   "execution_count": 34,
   "metadata": {
    "deletable": false,
    "editable": false,
    "lc_cell_meme": {
     "current": "67f4cac0-4afb-11e9-9859-0242ac110002",
     "next": "67f4cb06-4afb-11e9-9859-0242ac110002",
     "previous": "67f4ca7a-4afb-11e9-9859-0242ac110002"
    },
    "run_through_control": {
     "frozen": true
    },
    "scrolled": true
   },
   "outputs": [
    {
     "name": "stdout",
     "output_type": "stream",
     "text": [
      "guacamole_db_name: guacamole\r\n",
      "guacamole_db_user: guacamole\r\n",
      "guacamole_users:\r\n",
      "- user01\r\n",
      "- user02\r\n",
      "- user03\r\n",
      "- user04\r\n",
      "- user05\r\n",
      "- user06\r\n",
      "- user07\r\n",
      "- user08\r\n",
      "- user09\r\n",
      "- user10\r\n",
      "guacamole_vault_path: cubbyhole/Guacamole-B/guacamole\r\n",
      "ldap_base_dn: dc=vcp-handson,dc=org\r\n",
      "ldap_ca_path: template/ldap/ldap-ca.crt\r\n",
      "ldap_encryption_method: ssl\r\n",
      "ldap_group_base_dn: ou=Group,dc=vcp-handson,dc=org\r\n",
      "ldap_hostname: ldap.vcp-handson.org\r\n",
      "ldap_ipaddress: 172.30.2.50\r\n",
      "ldap_search_bind_dn: cn=ldap,dc=vcp-handson,dc=org\r\n",
      "ldap_user_base_dn: ou=People,dc=vcp-handson,dc=org\r\n",
      "ldap_vault_path: cubbyhole/Guacamole-B/ldap\r\n",
      "ssh_private_key_path: /home/bit_kun/.ssh/id_rsa\r\n",
      "ssh_public_key_path: /home/bit_kun/.ssh/id_rsa.pub\r\n",
      "unit_group: Guacamole-B\r\n",
      "vc_disk_size: 16\r\n",
      "vc_flavor: small\r\n",
      "vc_guacamole_ipaddress: 172.30.2.100\r\n",
      "vc_provider: aws\r\n"
     ]
    }
   ],
   "source": [
    "!cat group_vars/{unit_group}.yml"
   ]
  },
  {
   "cell_type": "markdown",
   "metadata": {
    "lc_cell_meme": {
     "current": "67f4cb06-4afb-11e9-9859-0242ac110002",
     "next": "67f4cb56-4afb-11e9-9859-0242ac110002",
     "previous": "67f4cac0-4afb-11e9-9859-0242ac110002"
    }
   },
   "source": [
    "# 演習環境コンテナに関するパラメータ"
   ]
  },
  {
   "cell_type": "markdown",
   "metadata": {
    "lc_cell_meme": {
     "current": "67f4cb56-4afb-11e9-9859-0242ac110002",
     "next": "67f4cb9c-4afb-11e9-9859-0242ac110002",
     "previous": "67f4cb06-4afb-11e9-9859-0242ac110002"
    }
   },
   "source": [
    "この章では演習環境コンテナに関するパラメータの指定を行います。まず演習環境のコンテナイメージを指定します。次に各演習環境コンテナに割り当てるリソースの上限値を指定します。そして演習環境コンテナを実行時間を指定します。\n",
    "\n",
    "指定されたパラメータはこれまでの章と同様に group_vars ファイルに記録します。"
   ]
  },
  {
   "cell_type": "markdown",
   "metadata": {
    "lc_cell_meme": {
     "current": "67f4cb9c-4afb-11e9-9859-0242ac110002",
     "next": "67f4cbe2-4afb-11e9-9859-0242ac110002",
     "previous": "67f4cb56-4afb-11e9-9859-0242ac110002"
    }
   },
   "source": [
    "![演習環境設定](images/guacamole-001-05.png)"
   ]
  },
  {
   "cell_type": "markdown",
   "metadata": {
    "lc_cell_meme": {
     "current": "67f4cbe2-4afb-11e9-9859-0242ac110002",
     "next": "67f4cc32-4afb-11e9-9859-0242ac110002",
     "previous": "67f4cb9c-4afb-11e9-9859-0242ac110002"
    }
   },
   "source": [
    "## コンテナイメージ名の指定\n",
    "\n",
    "演習環境として使用するコンテナイメージを指定してください。"
   ]
  },
  {
   "cell_type": "code",
   "execution_count": 35,
   "metadata": {
    "deletable": false,
    "editable": false,
    "lc_cell_meme": {
     "current": "67f4cc32-4afb-11e9-9859-0242ac110002",
     "next": "67f4cc78-4afb-11e9-9859-0242ac110002",
     "previous": "67f4cbe2-4afb-11e9-9859-0242ac110002"
    },
    "run_through_control": {
     "frozen": true
    }
   },
   "outputs": [
    {
     "name": "stdout",
     "output_type": "stream",
     "text": [
      "192.168.2.1:5001/vcp/xrdp:rstudio\n"
     ]
    }
   ],
   "source": [
    "# VCCのプライベートレジストリのアドレスを取得する\n",
    "registry = vcp.vcc_info()['docker_registry']['application']\n",
    "\n",
    "user_container_image = f'{registry}/vcp/xrdp:rstudio'\n",
    "print(user_container_image)"
   ]
  },
  {
   "cell_type": "markdown",
   "metadata": {
    "lc_cell_meme": {
     "current": "67f4cc78-4afb-11e9-9859-0242ac110002",
     "next": "67f4ccbe-4afb-11e9-9859-0242ac110002",
     "previous": "67f4cc32-4afb-11e9-9859-0242ac110002"
    }
   },
   "source": [
    "## コンテナイメージのカスタマイズ"
   ]
  },
  {
   "cell_type": "markdown",
   "metadata": {
    "lc_cell_meme": {
     "current": "67f4ccbe-4afb-11e9-9859-0242ac110002",
     "next": "67f4cd04-4afb-11e9-9859-0242ac110002",
     "previous": "67f4cc78-4afb-11e9-9859-0242ac110002"
    }
   },
   "source": [
    "演習環境として利用するコンテナイメージにパッケージを追加するなどの変更を加えることが出来ます。\n",
    "\n",
    "> ここでは RPM パッケージを追加するだけの単純な変更のみを想定しています。コンテナイメージを大幅に変更する必要がある場合は目的に応じたコンテナイメージを別途用意してください。"
   ]
  },
  {
   "cell_type": "markdown",
   "metadata": {
    "lc_cell_meme": {
     "current": "67f4cd04-4afb-11e9-9859-0242ac110002",
     "next": "67f4cd4a-4afb-11e9-9859-0242ac110002",
     "previous": "67f4ccbe-4afb-11e9-9859-0242ac110002"
    }
   },
   "source": [
    "ここでは、演習環境コンテナにパッケージを追加する例として R と [RStudio](https://www.rstudio.com/) を追加してみます。"
   ]
  },
  {
   "cell_type": "markdown",
   "metadata": {
    "lc_cell_meme": {
     "current": "67f4cd4a-4afb-11e9-9859-0242ac110002",
     "next": "67f4cd90-4afb-11e9-9859-0242ac110002",
     "previous": "67f4cd04-4afb-11e9-9859-0242ac110002"
    }
   },
   "source": [
    "変更元となるコンテナイメージ名を指定してください。\n",
    "\n",
    "> 元となるコンテナイメージではSSH または RDP で外部から接続出来ることを想定しています。"
   ]
  },
  {
   "cell_type": "code",
   "execution_count": 36,
   "metadata": {
    "deletable": false,
    "editable": false,
    "lc_cell_meme": {
     "current": "67f4cd90-4afb-11e9-9859-0242ac110002",
     "next": "67f4cde0-4afb-11e9-9859-0242ac110002",
     "previous": "67f4cd4a-4afb-11e9-9859-0242ac110002"
    },
    "run_through_control": {
     "frozen": true
    }
   },
   "outputs": [
    {
     "name": "stdout",
     "output_type": "stream",
     "text": [
      "192.168.2.1:5000/vcp/xrdp:devel\n"
     ]
    }
   ],
   "source": [
    "user_container_image_base = vcp.vcc_info()['docker_registry']['base'] + '/vcp/xrdp:devel'\n",
    "print(user_container_image_base)"
   ]
  },
  {
   "cell_type": "markdown",
   "metadata": {
    "lc_cell_meme": {
     "current": "67f4cde0-4afb-11e9-9859-0242ac110002",
     "next": "67f4ce26-4afb-11e9-9859-0242ac110002",
     "previous": "67f4cd90-4afb-11e9-9859-0242ac110002"
    }
   },
   "source": [
    "追加するパッケージのリストを指定してください。"
   ]
  },
  {
   "cell_type": "code",
   "execution_count": 37,
   "metadata": {
    "deletable": false,
    "editable": false,
    "lc_cell_meme": {
     "current": "67f4ce26-4afb-11e9-9859-0242ac110002",
     "next": "67f4ce76-4afb-11e9-9859-0242ac110002",
     "previous": "67f4cde0-4afb-11e9-9859-0242ac110002"
    },
    "run_through_control": {
     "frozen": true
    }
   },
   "outputs": [],
   "source": [
    "user_container_additional_packages = [\n",
    "    'R',\n",
    "    'git',\n",
    "    'https://download1.rstudio.org/rstudio-1.1.463-x86_64.rpm',\n",
    "]"
   ]
  },
  {
   "cell_type": "markdown",
   "metadata": {
    "lc_cell_meme": {
     "current": "67f4ce76-4afb-11e9-9859-0242ac110002",
     "next": "67f4cebc-4afb-11e9-9859-0242ac110002",
     "previous": "67f4ce26-4afb-11e9-9859-0242ac110002"
    }
   },
   "source": [
    "## コンテナに割り当てるリソース量\n",
    "\n",
    "演習環境コンテナに割り当てるリソースを指定します。"
   ]
  },
  {
   "cell_type": "markdown",
   "metadata": {
    "lc_cell_meme": {
     "current": "67f4cebc-4afb-11e9-9859-0242ac110002",
     "next": "67f4cf02-4afb-11e9-9859-0242ac110002",
     "previous": "67f4ce76-4afb-11e9-9859-0242ac110002"
    }
   },
   "source": [
    "演習環境用として利用するVCノードでは複数の演習環境コンテナを起動します。その際に１つのコンテナに割り当てるリソース量をここで指定します。\n",
    "\n",
    "構築環境用VCノードでは実行中のコンテナに割り当てているリソースの総量が、そのVCノードのリソース量を超えないようコンテナの起動を行います。そのため、ここで指定したコンテナのリソース量と１ノードあたりのVCノードのリソース量の関係から、VCノードで起動できるコンテナ数が定まります。起動中のVCノードに割り当て可能なリソースがない場合は、割り当て可能なリソースができるまで新たなコンテナの起動ができなくなります。\n",
    "\n",
    "AWS EC2の m4.large インスタンスでは１ノードあたりのリソース量は以下のようになっています。\n",
    "\n",
    "* CPU(MHz): 4600\n",
    "* メモリ(MB): 8000"
   ]
  },
  {
   "cell_type": "markdown",
   "metadata": {
    "lc_cell_meme": {
     "current": "67f4cf02-4afb-11e9-9859-0242ac110002",
     "next": "67f4cf48-4afb-11e9-9859-0242ac110002",
     "previous": "67f4cebc-4afb-11e9-9859-0242ac110002"
    }
   },
   "source": [
    "コンテナに割り当てるCPUのリソース量(MHz)を指定してください。"
   ]
  },
  {
   "cell_type": "code",
   "execution_count": 38,
   "metadata": {
    "deletable": false,
    "editable": false,
    "lc_cell_meme": {
     "current": "67f4cf48-4afb-11e9-9859-0242ac110002",
     "next": "67f4cf8e-4afb-11e9-9859-0242ac110002",
     "previous": "67f4cf02-4afb-11e9-9859-0242ac110002"
    },
    "run_through_control": {
     "frozen": true
    }
   },
   "outputs": [],
   "source": [
    "user_container_resource_cpu = 850"
   ]
  },
  {
   "cell_type": "markdown",
   "metadata": {
    "lc_cell_meme": {
     "current": "67f4cf8e-4afb-11e9-9859-0242ac110002",
     "next": "67f4cfd4-4afb-11e9-9859-0242ac110002",
     "previous": "67f4cf48-4afb-11e9-9859-0242ac110002"
    }
   },
   "source": [
    "コンテナに割り当てるメモリ量(MB)を指定してください。"
   ]
  },
  {
   "cell_type": "code",
   "execution_count": 39,
   "metadata": {
    "deletable": false,
    "editable": false,
    "lc_cell_meme": {
     "current": "67f4cfd4-4afb-11e9-9859-0242ac110002",
     "next": "67f4d01a-4afb-11e9-9859-0242ac110002",
     "previous": "67f4cf8e-4afb-11e9-9859-0242ac110002"
    },
    "run_through_control": {
     "frozen": true
    }
   },
   "outputs": [],
   "source": [
    "user_container_resource_memory = 1500"
   ]
  },
  {
   "cell_type": "markdown",
   "metadata": {
    "lc_cell_meme": {
     "current": "67f4d01a-4afb-11e9-9859-0242ac110002",
     "next": "67f4d06a-4afb-11e9-9859-0242ac110002",
     "previous": "67f4cfd4-4afb-11e9-9859-0242ac110002"
    }
   },
   "source": [
    "## コンテナの実行時間の指定"
   ]
  },
  {
   "cell_type": "markdown",
   "metadata": {
    "lc_cell_meme": {
     "current": "67f4d06a-4afb-11e9-9859-0242ac110002",
     "next": "67f4d0b0-4afb-11e9-9859-0242ac110002",
     "previous": "67f4d01a-4afb-11e9-9859-0242ac110002"
    }
   },
   "source": [
    "新たなコンテナにリソースを割り当てることができるようにするために、演習環境コンテナは起動後一定時間が経過した後に自動的に停止ようになっています。コンテナを停止させるまでの時間を指定してください。指定する時間の単位は分になっています。"
   ]
  },
  {
   "cell_type": "code",
   "execution_count": 40,
   "metadata": {
    "deletable": false,
    "editable": false,
    "lc_cell_meme": {
     "current": "67f4d0b0-4afb-11e9-9859-0242ac110002",
     "next": "67f4d0f6-4afb-11e9-9859-0242ac110002",
     "previous": "67f4d06a-4afb-11e9-9859-0242ac110002"
    },
    "run_through_control": {
     "frozen": true
    }
   },
   "outputs": [],
   "source": [
    "user_container_timeout = 60"
   ]
  },
  {
   "cell_type": "markdown",
   "metadata": {
    "lc_cell_meme": {
     "current": "67f4d0f6-4afb-11e9-9859-0242ac110002",
     "next": "67f4d13c-4afb-11e9-9859-0242ac110002",
     "previous": "67f4d0b0-4afb-11e9-9859-0242ac110002"
    }
   },
   "source": [
    "## パラメータの保存\n",
    "\n",
    "ここまで指定を行ったパラメータの値をファイルに保存します。"
   ]
  },
  {
   "cell_type": "markdown",
   "metadata": {
    "lc_cell_meme": {
     "current": "67f4d13c-4afb-11e9-9859-0242ac110002",
     "next": "67f4d18c-4afb-11e9-9859-0242ac110002",
     "previous": "67f4d0f6-4afb-11e9-9859-0242ac110002"
    }
   },
   "source": [
    "次のセルを実行すると、この章で指定したパラメータが group_vars ファイルに保存されます。\n",
    "\n",
    "> YAMLフォーマットでファイルに値を保存するために、事前に作成した Python のスクリプト `scripts/group.py` を利用しています。"
   ]
  },
  {
   "cell_type": "code",
   "execution_count": 41,
   "metadata": {
    "deletable": false,
    "editable": false,
    "lc_cell_meme": {
     "current": "67f4d18c-4afb-11e9-9859-0242ac110002",
     "next": "67f4d1d2-4afb-11e9-9859-0242ac110002",
     "previous": "67f4d13c-4afb-11e9-9859-0242ac110002"
    },
    "run_through_control": {
     "frozen": true
    }
   },
   "outputs": [],
   "source": [
    "%run scripts/group.py\n",
    "\n",
    "update_group_vars(\n",
    "    unit_group,\n",
    "    user_container_image=user_container_image,\n",
    "    user_container_resource_cpu=user_container_resource_cpu,\n",
    "    user_container_resource_memory=user_container_resource_memory,\n",
    "    user_container_timeout=user_container_timeout,\n",
    ")\n",
    "\n",
    "if 'user_container_additional_packages' in vars():\n",
    "    update_group_vars(\n",
    "        unit_group,\n",
    "        user_container_image_base=user_container_image_base,\n",
    "        user_container_additional_packages=user_container_additional_packages,\n",
    "    )"
   ]
  },
  {
   "cell_type": "markdown",
   "metadata": {
    "lc_cell_meme": {
     "current": "67f4d1d2-4afb-11e9-9859-0242ac110002",
     "next": "67f4d218-4afb-11e9-9859-0242ac110002",
     "previous": "67f4d18c-4afb-11e9-9859-0242ac110002"
    }
   },
   "source": [
    "上のセルがエラーになる場合は、この章で設定する必要があるパラメータが、まだ設定されていない可能性があります。この章のセルで実行していないことを確認してください。実行していないものがあった場合はそのセルを実行した後、エラーになったこの節のセルを再度実行して下さい。"
   ]
  },
  {
   "cell_type": "markdown",
   "metadata": {
    "lc_cell_meme": {
     "current": "67f4d218-4afb-11e9-9859-0242ac110002",
     "next": "67f4d25e-4afb-11e9-9859-0242ac110002",
     "previous": "67f4d1d2-4afb-11e9-9859-0242ac110002"
    }
   },
   "source": [
    "group_vars ファイルの内容を表示して保存されたパラメータを確認します。\n",
    "\n",
    "> ４章までに設定したパラメータも合わせて表示されます。"
   ]
  },
  {
   "cell_type": "code",
   "execution_count": 42,
   "metadata": {
    "deletable": false,
    "editable": false,
    "lc_cell_meme": {
     "current": "67f4d25e-4afb-11e9-9859-0242ac110002",
     "next": "67f4d2ae-4afb-11e9-9859-0242ac110002",
     "previous": "67f4d218-4afb-11e9-9859-0242ac110002"
    },
    "run_through_control": {
     "frozen": true
    },
    "scrolled": true
   },
   "outputs": [
    {
     "name": "stdout",
     "output_type": "stream",
     "text": [
      "guacamole_db_name: guacamole\r\n",
      "guacamole_db_user: guacamole\r\n",
      "guacamole_users:\r\n",
      "- user01\r\n",
      "- user02\r\n",
      "- user03\r\n",
      "- user04\r\n",
      "- user05\r\n",
      "- user06\r\n",
      "- user07\r\n",
      "- user08\r\n",
      "- user09\r\n",
      "- user10\r\n",
      "guacamole_vault_path: cubbyhole/Guacamole-B/guacamole\r\n",
      "ldap_base_dn: dc=vcp-handson,dc=org\r\n",
      "ldap_ca_path: template/ldap/ldap-ca.crt\r\n",
      "ldap_encryption_method: ssl\r\n",
      "ldap_group_base_dn: ou=Group,dc=vcp-handson,dc=org\r\n",
      "ldap_hostname: ldap.vcp-handson.org\r\n",
      "ldap_ipaddress: 172.30.2.50\r\n",
      "ldap_search_bind_dn: cn=ldap,dc=vcp-handson,dc=org\r\n",
      "ldap_user_base_dn: ou=People,dc=vcp-handson,dc=org\r\n",
      "ldap_vault_path: cubbyhole/Guacamole-B/ldap\r\n",
      "ssh_private_key_path: /home/bit_kun/.ssh/id_rsa\r\n",
      "ssh_public_key_path: /home/bit_kun/.ssh/id_rsa.pub\r\n",
      "unit_group: Guacamole-B\r\n",
      "user_container_additional_packages:\r\n",
      "- R\r\n",
      "- git\r\n",
      "- https://download1.rstudio.org/rstudio-1.1.463-x86_64.rpm\r\n",
      "user_container_image: 192.168.2.1:5001/vcp/xrdp:rstudio\r\n",
      "user_container_image_base: 192.168.2.1:5000/vcp/xrdp:devel\r\n",
      "user_container_resource_cpu: 850\r\n",
      "user_container_resource_memory: 1500\r\n",
      "user_container_timeout: 60\r\n",
      "vc_disk_size: 16\r\n",
      "vc_flavor: small\r\n",
      "vc_guacamole_ipaddress: 172.30.2.100\r\n",
      "vc_provider: aws\r\n"
     ]
    }
   ],
   "source": [
    "!cat group_vars/{unit_group}.yml"
   ]
  },
  {
   "cell_type": "markdown",
   "metadata": {
    "lc_cell_meme": {
     "current": "67f4d2ae-4afb-11e9-9859-0242ac110002",
     "next": "67f4d2f4-4afb-11e9-9859-0242ac110002",
     "previous": "67f4d25e-4afb-11e9-9859-0242ac110002"
    }
   },
   "source": [
    "# NFSに関するパラメータ\n",
    "\n",
    "ここで構築する環境では、演習環境のホームディレクトリとしてNFSサーバを利用することを想定しています。この章ではNFSサーバに関するパラメータを指定します。"
   ]
  },
  {
   "cell_type": "markdown",
   "metadata": {
    "lc_cell_meme": {
     "current": "67f4d2f4-4afb-11e9-9859-0242ac110002",
     "next": "67f4d33a-4afb-11e9-9859-0242ac110002",
     "previous": "67f4d2ae-4afb-11e9-9859-0242ac110002"
    }
   },
   "source": [
    "![NFS設定](images/guacamole-001-06.png)"
   ]
  },
  {
   "cell_type": "markdown",
   "metadata": {
    "lc_cell_meme": {
     "current": "67f4d33a-4afb-11e9-9859-0242ac110002",
     "next": "67f4d380-4afb-11e9-9859-0242ac110002",
     "previous": "67f4d2f4-4afb-11e9-9859-0242ac110002"
    }
   },
   "source": [
    "## ドメイン名\n",
    "\n",
    "NFSのドメイン名を指定してください。"
   ]
  },
  {
   "cell_type": "code",
   "execution_count": 43,
   "metadata": {
    "deletable": false,
    "editable": false,
    "lc_cell_meme": {
     "current": "67f4d380-4afb-11e9-9859-0242ac110002",
     "next": "67f4d3c6-4afb-11e9-9859-0242ac110002",
     "previous": "67f4d33a-4afb-11e9-9859-0242ac110002"
    },
    "run_through_control": {
     "frozen": true
    }
   },
   "outputs": [],
   "source": [
    "nfs_domain = 'vcp-handson.org'"
   ]
  },
  {
   "cell_type": "markdown",
   "metadata": {
    "lc_cell_meme": {
     "current": "67f4d3c6-4afb-11e9-9859-0242ac110002",
     "next": "67f4d40c-4afb-11e9-9859-0242ac110002",
     "previous": "67f4d380-4afb-11e9-9859-0242ac110002"
    }
   },
   "source": [
    "## サーバアドレス\n",
    "\n",
    "NFSサーバのアドレスを指定してください。"
   ]
  },
  {
   "cell_type": "code",
   "execution_count": 44,
   "metadata": {
    "deletable": false,
    "editable": false,
    "lc_cell_meme": {
     "current": "67f4d40c-4afb-11e9-9859-0242ac110002",
     "next": "67f4d452-4afb-11e9-9859-0242ac110002",
     "previous": "67f4d3c6-4afb-11e9-9859-0242ac110002"
    },
    "run_through_control": {
     "frozen": true
    }
   },
   "outputs": [],
   "source": [
    "nfs_address = '172.30.2.50'"
   ]
  },
  {
   "cell_type": "markdown",
   "metadata": {
    "lc_cell_meme": {
     "current": "67f4d452-4afb-11e9-9859-0242ac110002",
     "next": "67f4d498-4afb-11e9-9859-0242ac110002",
     "previous": "67f4d40c-4afb-11e9-9859-0242ac110002"
    }
   },
   "source": [
    "## サーバ側ディレクトリ\n",
    "\n",
    "ホームディレクトリとしてマウントするサーバ側のディレクトリを指定してください。"
   ]
  },
  {
   "cell_type": "code",
   "execution_count": 45,
   "metadata": {
    "deletable": false,
    "editable": false,
    "lc_cell_meme": {
     "current": "67f4d498-4afb-11e9-9859-0242ac110002",
     "next": "67f4d4e8-4afb-11e9-9859-0242ac110002",
     "previous": "67f4d452-4afb-11e9-9859-0242ac110002"
    },
    "run_through_control": {
     "frozen": true
    }
   },
   "outputs": [],
   "source": [
    "nfs_directory = '/'"
   ]
  },
  {
   "cell_type": "markdown",
   "metadata": {
    "lc_cell_meme": {
     "current": "67f4d4e8-4afb-11e9-9859-0242ac110002",
     "next": "67f4d52e-4afb-11e9-9859-0242ac110002",
     "previous": "67f4d498-4afb-11e9-9859-0242ac110002"
    }
   },
   "source": [
    "## マウントオプション\n",
    "\n",
    "NFSをマウントする際のオプションを指定してください。"
   ]
  },
  {
   "cell_type": "code",
   "execution_count": 46,
   "metadata": {
    "deletable": false,
    "editable": false,
    "lc_cell_meme": {
     "current": "67f4d52e-4afb-11e9-9859-0242ac110002",
     "next": "67f4d574-4afb-11e9-9859-0242ac110002",
     "previous": "67f4d4e8-4afb-11e9-9859-0242ac110002"
    },
    "run_through_control": {
     "frozen": true
    }
   },
   "outputs": [],
   "source": [
    "nfs_mount_options = 'nfsvers=4.2'"
   ]
  },
  {
   "cell_type": "markdown",
   "metadata": {
    "lc_cell_meme": {
     "current": "67f4d574-4afb-11e9-9859-0242ac110002",
     "next": "67f4d5ba-4afb-11e9-9859-0242ac110002",
     "previous": "67f4d52e-4afb-11e9-9859-0242ac110002"
    }
   },
   "source": [
    "## パラメータの保存\n",
    "\n",
    "ここまで指定を行ったパラメータの値をファイルに保存します。"
   ]
  },
  {
   "cell_type": "markdown",
   "metadata": {
    "lc_cell_meme": {
     "current": "67f4d5ba-4afb-11e9-9859-0242ac110002",
     "next": "67f4d600-4afb-11e9-9859-0242ac110002",
     "previous": "67f4d574-4afb-11e9-9859-0242ac110002"
    }
   },
   "source": [
    "次のセルを実行すると、この章で指定したパラメータが group_vars ファイルに保存されます。\n",
    "\n",
    "> YAMLフォーマットでファイルに値を保存するために、事前に作成した Python のスクリプト `scripts/group.py` を利用しています。"
   ]
  },
  {
   "cell_type": "code",
   "execution_count": 47,
   "metadata": {
    "deletable": false,
    "editable": false,
    "lc_cell_meme": {
     "current": "67f4d600-4afb-11e9-9859-0242ac110002",
     "next": "67f4d646-4afb-11e9-9859-0242ac110002",
     "previous": "67f4d5ba-4afb-11e9-9859-0242ac110002"
    },
    "run_through_control": {
     "frozen": true
    }
   },
   "outputs": [],
   "source": [
    "%run scripts/group.py\n",
    "\n",
    "update_group_vars(\n",
    "    unit_group,\n",
    "    nfs_domain=nfs_domain,\n",
    "    nfs_address=nfs_address,\n",
    "    nfs_directory=nfs_directory,\n",
    "    nfs_mount_options=nfs_mount_options,\n",
    ")"
   ]
  },
  {
   "cell_type": "markdown",
   "metadata": {
    "lc_cell_meme": {
     "current": "67f4d646-4afb-11e9-9859-0242ac110002",
     "next": "67f4d68c-4afb-11e9-9859-0242ac110002",
     "previous": "67f4d600-4afb-11e9-9859-0242ac110002"
    }
   },
   "source": [
    "上のセルがエラーになる場合は、この章で設定する必要があるパラメータが、まだ設定されていない可能性があります。この章のセルで実行していないことを確認してください。実行していないものがあった場合はそのセルを実行した後、エラーになったこの節のセルを再度実行して下さい。"
   ]
  },
  {
   "cell_type": "markdown",
   "metadata": {
    "lc_cell_meme": {
     "current": "67f4d68c-4afb-11e9-9859-0242ac110002",
     "next": "67f4d6d2-4afb-11e9-9859-0242ac110002",
     "previous": "67f4d646-4afb-11e9-9859-0242ac110002"
    }
   },
   "source": [
    "group_vars ファイルの内容を表示して保存されたパラメータを確認します。\n",
    "\n",
    "> ５章までに設定したパラメータも合わせて表示されます。"
   ]
  },
  {
   "cell_type": "code",
   "execution_count": 48,
   "metadata": {
    "deletable": false,
    "editable": false,
    "lc_cell_meme": {
     "current": "67f4d6d2-4afb-11e9-9859-0242ac110002",
     "next": "67f4d718-4afb-11e9-9859-0242ac110002",
     "previous": "67f4d68c-4afb-11e9-9859-0242ac110002"
    },
    "run_through_control": {
     "frozen": true
    },
    "scrolled": true
   },
   "outputs": [
    {
     "name": "stdout",
     "output_type": "stream",
     "text": [
      "guacamole_db_name: guacamole\r\n",
      "guacamole_db_user: guacamole\r\n",
      "guacamole_users:\r\n",
      "- user01\r\n",
      "- user02\r\n",
      "- user03\r\n",
      "- user04\r\n",
      "- user05\r\n",
      "- user06\r\n",
      "- user07\r\n",
      "- user08\r\n",
      "- user09\r\n",
      "- user10\r\n",
      "guacamole_vault_path: cubbyhole/Guacamole-B/guacamole\r\n",
      "ldap_base_dn: dc=vcp-handson,dc=org\r\n",
      "ldap_ca_path: template/ldap/ldap-ca.crt\r\n",
      "ldap_encryption_method: ssl\r\n",
      "ldap_group_base_dn: ou=Group,dc=vcp-handson,dc=org\r\n",
      "ldap_hostname: ldap.vcp-handson.org\r\n",
      "ldap_ipaddress: 172.30.2.50\r\n",
      "ldap_search_bind_dn: cn=ldap,dc=vcp-handson,dc=org\r\n",
      "ldap_user_base_dn: ou=People,dc=vcp-handson,dc=org\r\n",
      "ldap_vault_path: cubbyhole/Guacamole-B/ldap\r\n",
      "nfs_address: 172.30.2.50\r\n",
      "nfs_directory: /\r\n",
      "nfs_domain: vcp-handson.org\r\n",
      "nfs_mount_options: nfsvers=4.2\r\n",
      "ssh_private_key_path: /home/bit_kun/.ssh/id_rsa\r\n",
      "ssh_public_key_path: /home/bit_kun/.ssh/id_rsa.pub\r\n",
      "unit_group: Guacamole-B\r\n",
      "user_container_additional_packages:\r\n",
      "- R\r\n",
      "- git\r\n",
      "- https://download1.rstudio.org/rstudio-1.1.463-x86_64.rpm\r\n",
      "user_container_image: 192.168.2.1:5001/vcp/xrdp:rstudio\r\n",
      "user_container_image_base: 192.168.2.1:5000/vcp/xrdp:devel\r\n",
      "user_container_resource_cpu: 850\r\n",
      "user_container_resource_memory: 1500\r\n",
      "user_container_timeout: 60\r\n",
      "vc_disk_size: 16\r\n",
      "vc_flavor: small\r\n",
      "vc_guacamole_ipaddress: 172.30.2.100\r\n",
      "vc_provider: aws\r\n"
     ]
    }
   ],
   "source": [
    "!cat group_vars/{unit_group}.yml"
   ]
  },
  {
   "cell_type": "markdown",
   "metadata": {
    "lc_cell_meme": {
     "current": "67f4d718-4afb-11e9-9859-0242ac110002",
     "next": "67f4d768-4afb-11e9-9859-0242ac110002",
     "previous": "67f4d6d2-4afb-11e9-9859-0242ac110002"
    }
   },
   "source": [
    "# リバースプロキシに関するパラメータ\n",
    "\n",
    "構築するGuacamole環境ではGuacamoleへのアクセスにSSL/TLSを利用するように設定します。SSL/TLSの設定は Guacamoleを実行しているTomcatで直接行うのではなく、その前段に配置したリバースプロキシで行うことにします。リバースプロキシには [nginx](https://nginx.org/) を用います。\n",
    "\n",
    "nginx に関するパラメータの指定をこの章で行います。"
   ]
  },
  {
   "cell_type": "markdown",
   "metadata": {
    "lc_cell_meme": {
     "current": "67f4d768-4afb-11e9-9859-0242ac110002",
     "next": "67f4d7ae-4afb-11e9-9859-0242ac110002",
     "previous": "67f4d718-4afb-11e9-9859-0242ac110002"
    }
   },
   "source": [
    "![リバースプロキシ設定](images/guacamole-001-07.png)"
   ]
  },
  {
   "cell_type": "markdown",
   "metadata": {
    "lc_cell_meme": {
     "current": "67f4d7ae-4afb-11e9-9859-0242ac110002",
     "next": "67f4d7f4-4afb-11e9-9859-0242ac110002",
     "previous": "67f4d768-4afb-11e9-9859-0242ac110002"
    }
   },
   "source": [
    "## 証明書の指定"
   ]
  },
  {
   "cell_type": "markdown",
   "metadata": {
    "lc_cell_meme": {
     "current": "67f4d7f4-4afb-11e9-9859-0242ac110002",
     "next": "67f4d83a-4afb-11e9-9859-0242ac110002",
     "previous": "67f4d7ae-4afb-11e9-9859-0242ac110002"
    }
   },
   "source": [
    "SSL/TLS のために設定するサーバ証明書と鍵ファイルを指定してください。"
   ]
  },
  {
   "cell_type": "code",
   "execution_count": 49,
   "metadata": {
    "deletable": false,
    "editable": false,
    "lc_cell_meme": {
     "current": "67f4d83a-4afb-11e9-9859-0242ac110002",
     "next": "67f4d880-4afb-11e9-9859-0242ac110002",
     "previous": "67f4d7f4-4afb-11e9-9859-0242ac110002"
    },
    "run_through_control": {
     "frozen": true
    }
   },
   "outputs": [],
   "source": [
    "# サーバ証明書\n",
    "nginx_tls_cert = 'template/nginx/certs/server.crt'\n",
    "\n",
    "# 鍵ファイル\n",
    "nginx_tls_key = 'template/nginx/certs/server.key'"
   ]
  },
  {
   "cell_type": "markdown",
   "metadata": {
    "lc_cell_meme": {
     "current": "67f4d880-4afb-11e9-9859-0242ac110002",
     "next": "67f4d8d0-4afb-11e9-9859-0242ac110002",
     "previous": "67f4d83a-4afb-11e9-9859-0242ac110002"
    }
   },
   "source": [
    "## nginxの設定ファイル"
   ]
  },
  {
   "cell_type": "markdown",
   "metadata": {
    "lc_cell_meme": {
     "current": "67f4d8d0-4afb-11e9-9859-0242ac110002",
     "next": "67f4d916-4afb-11e9-9859-0242ac110002",
     "previous": "67f4d880-4afb-11e9-9859-0242ac110002"
    }
   },
   "source": [
    "nginxの設定ファイルを指定してください。\n",
    "\n",
    "> ハンズオン環境では SSL/TLS を利用するための簡素な設定ファイルを事前に用意しています。"
   ]
  },
  {
   "cell_type": "code",
   "execution_count": 50,
   "metadata": {
    "deletable": false,
    "editable": false,
    "lc_cell_meme": {
     "current": "67f4d916-4afb-11e9-9859-0242ac110002",
     "next": "67f4d95c-4afb-11e9-9859-0242ac110002",
     "previous": "67f4d8d0-4afb-11e9-9859-0242ac110002"
    },
    "run_through_control": {
     "frozen": true
    }
   },
   "outputs": [],
   "source": [
    "nginx_conf = 'template/nginx/default.conf'"
   ]
  },
  {
   "cell_type": "markdown",
   "metadata": {
    "lc_cell_meme": {
     "current": "67f4d95c-4afb-11e9-9859-0242ac110002",
     "next": "67f4d9a2-4afb-11e9-9859-0242ac110002",
     "previous": "67f4d916-4afb-11e9-9859-0242ac110002"
    }
   },
   "source": [
    "指定された設定ファイルの内容を確認します。"
   ]
  },
  {
   "cell_type": "code",
   "execution_count": 51,
   "metadata": {
    "deletable": false,
    "editable": false,
    "lc_cell_meme": {
     "current": "67f4d9a2-4afb-11e9-9859-0242ac110002",
     "next": "67f4d9e8-4afb-11e9-9859-0242ac110002",
     "previous": "67f4d95c-4afb-11e9-9859-0242ac110002"
    },
    "run_through_control": {
     "frozen": true
    },
    "scrolled": false
   },
   "outputs": [
    {
     "name": "stdout",
     "output_type": "stream",
     "text": [
      "server {\r\n",
      "    listen 443;\r\n",
      "    server_name {{server_name}};\r\n",
      "\r\n",
      "    ssl on;\r\n",
      "    ssl_certificate     /etc/nginx/certs/server.crt;\r\n",
      "    ssl_certificate_key /etc/nginx/certs/server.key;\r\n",
      "    ssl_protocols TLSv1.2;\r\n",
      "    ssl_prefer_server_ciphers on;\r\n",
      "\r\n",
      "    location / {\r\n",
      "        proxy_pass http://guacamole:8080/guacamole/;\r\n",
      "        proxy_buffering off;\r\n",
      "        proxy_http_version 1.1;\r\n",
      "        proxy_set_header X-Forwarded-For $proxy_add_x_forwarded_for;\r\n",
      "        proxy_set_header Upgrade $http_upgrade;\r\n",
      "        proxy_set_header Connection $http_connection;\r\n",
      "        proxy_cookie_path /guacamole/ /;\r\n",
      "        access_log off;\r\n",
      "    }\r\n",
      "}\r\n"
     ]
    }
   ],
   "source": [
    "!cat {nginx_conf}"
   ]
  },
  {
   "cell_type": "markdown",
   "metadata": {
    "lc_cell_meme": {
     "current": "67f4d9e8-4afb-11e9-9859-0242ac110002",
     "next": "67f4da2e-4afb-11e9-9859-0242ac110002",
     "previous": "67f4d9a2-4afb-11e9-9859-0242ac110002"
    }
   },
   "source": [
    "> 上のセルが表示する設定ファイルの内容の３行目に `server_name` と記されている箇所があります。この行の内容は設定ファイルをVCノードに配置する際に、実際のホスト名に自動的に書き換えられます。"
   ]
  },
  {
   "cell_type": "markdown",
   "metadata": {
    "lc_cell_meme": {
     "current": "67f4da2e-4afb-11e9-9859-0242ac110002",
     "next": "67f4da88-4afb-11e9-9859-0242ac110002",
     "previous": "67f4d9e8-4afb-11e9-9859-0242ac110002"
    }
   },
   "source": [
    "## パラメータの保存\n",
    "\n",
    "ここまで指定を行ったパラメータの値をファイルに保存します。"
   ]
  },
  {
   "cell_type": "markdown",
   "metadata": {
    "lc_cell_meme": {
     "current": "67f4da88-4afb-11e9-9859-0242ac110002",
     "next": "67f4dace-4afb-11e9-9859-0242ac110002",
     "previous": "67f4da2e-4afb-11e9-9859-0242ac110002"
    }
   },
   "source": [
    "次のセルを実行すると、この章で指定したパラメータが group_vars ファイルに保存されます。\n",
    "\n",
    "> YAMLフォーマットでファイルに値を保存するために、事前に作成した Python のスクリプト `scripts/group.py` を利用しています。"
   ]
  },
  {
   "cell_type": "code",
   "execution_count": 52,
   "metadata": {
    "deletable": false,
    "editable": false,
    "lc_cell_meme": {
     "current": "67f4dace-4afb-11e9-9859-0242ac110002",
     "next": "67f4db1e-4afb-11e9-9859-0242ac110002",
     "previous": "67f4da88-4afb-11e9-9859-0242ac110002"
    },
    "run_through_control": {
     "frozen": true
    }
   },
   "outputs": [],
   "source": [
    "%run scripts/group.py\n",
    "\n",
    "update_group_vars(\n",
    "    unit_group,\n",
    "    nginx_tls_cert=nginx_tls_cert,\n",
    "    nginx_tls_key=nginx_tls_key,\n",
    "    nginx_conf=nginx_conf,\n",
    ")"
   ]
  },
  {
   "cell_type": "markdown",
   "metadata": {
    "lc_cell_meme": {
     "current": "67f4db1e-4afb-11e9-9859-0242ac110002",
     "next": "67f4db64-4afb-11e9-9859-0242ac110002",
     "previous": "67f4dace-4afb-11e9-9859-0242ac110002"
    }
   },
   "source": [
    "上のセルがエラーになる場合は、この章で設定する必要があるパラメータが、まだ設定されていない可能性があります。この章のセルで実行していないことを確認してください。実行していないものがあった場合はそのセルを実行した後、エラーになったこの節のセルを再度実行して下さい。"
   ]
  },
  {
   "cell_type": "markdown",
   "metadata": {
    "lc_cell_meme": {
     "current": "67f4db64-4afb-11e9-9859-0242ac110002",
     "next": "67f4dbaa-4afb-11e9-9859-0242ac110002",
     "previous": "67f4db1e-4afb-11e9-9859-0242ac110002"
    }
   },
   "source": [
    "group_vars ファイルの内容を表示して保存されたパラメータを確認します。\n",
    "\n",
    "> ６章までに設定したパラメータも合わせて表示されます。"
   ]
  },
  {
   "cell_type": "code",
   "execution_count": 53,
   "metadata": {
    "deletable": false,
    "editable": false,
    "lc_cell_meme": {
     "current": "67f4dbaa-4afb-11e9-9859-0242ac110002",
     "next": "67f4dbf0-4afb-11e9-9859-0242ac110002",
     "previous": "67f4db64-4afb-11e9-9859-0242ac110002"
    },
    "run_through_control": {
     "frozen": true
    },
    "scrolled": true
   },
   "outputs": [
    {
     "name": "stdout",
     "output_type": "stream",
     "text": [
      "guacamole_db_name: guacamole\r\n",
      "guacamole_db_user: guacamole\r\n",
      "guacamole_users:\r\n",
      "- user01\r\n",
      "- user02\r\n",
      "- user03\r\n",
      "- user04\r\n",
      "- user05\r\n",
      "- user06\r\n",
      "- user07\r\n",
      "- user08\r\n",
      "- user09\r\n",
      "- user10\r\n",
      "guacamole_vault_path: cubbyhole/Guacamole-B/guacamole\r\n",
      "ldap_base_dn: dc=vcp-handson,dc=org\r\n",
      "ldap_ca_path: template/ldap/ldap-ca.crt\r\n",
      "ldap_encryption_method: ssl\r\n",
      "ldap_group_base_dn: ou=Group,dc=vcp-handson,dc=org\r\n",
      "ldap_hostname: ldap.vcp-handson.org\r\n",
      "ldap_ipaddress: 172.30.2.50\r\n",
      "ldap_search_bind_dn: cn=ldap,dc=vcp-handson,dc=org\r\n",
      "ldap_user_base_dn: ou=People,dc=vcp-handson,dc=org\r\n",
      "ldap_vault_path: cubbyhole/Guacamole-B/ldap\r\n",
      "nfs_address: 172.30.2.50\r\n",
      "nfs_directory: /\r\n",
      "nfs_domain: vcp-handson.org\r\n",
      "nfs_mount_options: nfsvers=4.2\r\n",
      "nginx_conf: template/nginx/default.conf\r\n",
      "nginx_tls_cert: template/nginx/certs/server.crt\r\n",
      "nginx_tls_key: template/nginx/certs/server.key\r\n",
      "ssh_private_key_path: /home/bit_kun/.ssh/id_rsa\r\n",
      "ssh_public_key_path: /home/bit_kun/.ssh/id_rsa.pub\r\n",
      "unit_group: Guacamole-B\r\n",
      "user_container_additional_packages:\r\n",
      "- R\r\n",
      "- git\r\n",
      "- https://download1.rstudio.org/rstudio-1.1.463-x86_64.rpm\r\n",
      "user_container_image: 192.168.2.1:5001/vcp/xrdp:rstudio\r\n",
      "user_container_image_base: 192.168.2.1:5000/vcp/xrdp:devel\r\n",
      "user_container_resource_cpu: 850\r\n",
      "user_container_resource_memory: 1500\r\n",
      "user_container_timeout: 60\r\n",
      "vc_disk_size: 16\r\n",
      "vc_flavor: small\r\n",
      "vc_guacamole_ipaddress: 172.30.2.100\r\n",
      "vc_provider: aws\r\n"
     ]
    }
   ],
   "source": [
    "!cat group_vars/{unit_group}.yml"
   ]
  },
  {
   "cell_type": "markdown",
   "metadata": {
    "lc_cell_meme": {
     "current": "67f4dbf0-4afb-11e9-9859-0242ac110002",
     "next": "67f4dc36-4afb-11e9-9859-0242ac110002",
     "previous": "67f4dbaa-4afb-11e9-9859-0242ac110002"
    }
   },
   "source": [
    "# チェック\n",
    "\n",
    "このNotebookで設定する必要のあるパラメータが全て指定されていることを確認します。"
   ]
  },
  {
   "cell_type": "code",
   "execution_count": 54,
   "metadata": {
    "deletable": false,
    "editable": false,
    "lc_cell_meme": {
     "current": "67f4dc36-4afb-11e9-9859-0242ac110002",
     "next": "67f4dc86-4afb-11e9-9859-0242ac110002",
     "previous": "67f4dbf0-4afb-11e9-9859-0242ac110002"
    },
    "run_through_control": {
     "frozen": true
    }
   },
   "outputs": [],
   "source": [
    "%run scripts/group.py\n",
    "gvars = load_group_vars(unit_group)\n",
    "\n",
    "\n",
    "headings = {\n",
    "    'vc_node': 'VCノードに関するパラメータ',\n",
    "    'guacamole': 'Guacamoleに関するパラメータ',\n",
    "    'ldap': 'LDAPサーバに関するパラメータ',\n",
    "    'user': '演習環境コンテナに関するパラメータ',\n",
    "    'nfs': 'NFSに関するパラメータ',\n",
    "    'nginx': 'リバースプロキシに関するパラメータ',\n",
    "}\n",
    "\n",
    "required_params = {\n",
    "    'vc_node': [\n",
    "        'unit_group', 'vc_provider', 'vc_flavor', 'vc_guacamole_ipaddress',\n",
    "        'ssh_public_key_path', 'ssh_private_key_path', 'vc_disk_size',\n",
    "    ],\n",
    "    'guacamole': [\n",
    "        'guacamole_users', 'guacamole_db_name', 'guacamole_db_user',\n",
    "        'guacamole_vault_path',\n",
    "    ],\n",
    "    'ldap': [\n",
    "        'ldap_hostname', 'ldap_ipaddress', 'ldap_encryption_method',\n",
    "        'ldap_search_bind_dn', 'ldap_base_dn', 'ldap_user_base_dn',\n",
    "        'ldap_group_base_dn', 'ldap_vault_path',\n",
    "    ],\n",
    "    'user': [\n",
    "        'user_container_image', 'user_container_timeout',\n",
    "        'user_container_resource_cpu', 'user_container_resource_memory',\n",
    "    ],\n",
    "    'nfs': [\n",
    "        'nfs_domain', 'nfs_address', 'nfs_directory',\n",
    "        'nfs_mount_options',\n",
    "    ],\n",
    "    'nginx': [\n",
    "        'nginx_tls_cert', 'nginx_tls_key', 'nginx_conf',\n",
    "    ],\n",
    "}\n",
    "\n",
    "import sys\n",
    "\n",
    "for k, v in required_params.items():\n",
    "    rem = set(v) - gvars.keys()\n",
    "    if rem:\n",
    "        print(f\"ERROR: 「{headings[k]}」に設定されていないパラメータがあります: {rem}\", file=sys.stderr)\n",
    "        raise RuntimeError()"
   ]
  },
  {
   "cell_type": "markdown",
   "metadata": {
    "lc_cell_meme": {
     "current": "67f4dc86-4afb-11e9-9859-0242ac110002",
     "next": null,
     "previous": "67f4dc36-4afb-11e9-9859-0242ac110002"
    }
   },
   "source": [
    "上のセルがエラーになる場合は、設定する必要があるパラメータが group_vars ファイルに記録されていません。\n",
    "設定項目が不足している章の名前が表示されますので、対応する章に実行していないセルがないことを確認してください。実行していないセルを全て実行した後に、エラーになったこの上のセルを再度実行して確認を行ってください。"
   ]
  }
 ],
 "metadata": {
  "kernelspec": {
   "display_name": "Python 3",
   "language": "python",
   "name": "python3"
  },
  "language_info": {
   "codemirror_mode": {
    "name": "ipython",
    "version": 3
   },
   "file_extension": ".py",
   "mimetype": "text/x-python",
   "name": "python",
   "nbconvert_exporter": "python",
   "pygments_lexer": "ipython3",
   "version": "3.6.6"
  },
  "lc_notebook_meme": {
   "current": "67f4a84c-4afb-11e9-9859-0242ac110002",
   "lc_server_signature": {
    "current": {
     "notebook_dir": "/notebooks/notebook",
     "notebook_path": "/handson/guacamole",
     "server_url": "https://ocs1046.vcp-handson.org:8443/handson/",
     "signature_id": "d0c53b60-f9f3-11e8-ad2a-0242ac110002"
    },
    "history": []
   }
  },
  "toc": {
   "base_numbering": 1,
   "nav_menu": {},
   "number_sections": true,
   "sideBar": true,
   "skip_h1_title": false,
   "title_cell": "Table of Contents",
   "title_sidebar": "Contents",
   "toc_cell": false,
   "toc_position": {
    "height": "calc(100% - 180px)",
    "left": "10px",
    "top": "150px",
    "width": "275.8px"
   },
   "toc_section_display": true,
   "toc_window_display": true
  }
 },
 "nbformat": 4,
 "nbformat_minor": 2
}
