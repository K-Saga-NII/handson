{
 "cells": [
  {
   "cell_type": "markdown",
   "metadata": {
    "lc_cell_meme": {
     "current": "6484cf3a-4aff-11e9-9859-0242ac110002",
     "next": "6484cfb2-4aff-11e9-9859-0242ac110002",
     "previous": null
    }
   },
   "source": [
    "# 演習環境用VCノードのスケールアウト\n",
    "\n",
    "---\n",
    "\n",
    "演習環境用のVCノードをスケールアウトさせます。"
   ]
  },
  {
   "cell_type": "markdown",
   "metadata": {
    "lc_cell_meme": {
     "current": "6484cfb2-4aff-11e9-9859-0242ac110002",
     "next": "6484d002-4aff-11e9-9859-0242ac110002",
     "previous": "6484cf3a-4aff-11e9-9859-0242ac110002"
    }
   },
   "source": [
    "## 全体構成"
   ]
  },
  {
   "cell_type": "markdown",
   "metadata": {
    "lc_cell_meme": {
     "current": "6484d002-4aff-11e9-9859-0242ac110002",
     "next": "6484d048-4aff-11e9-9859-0242ac110002",
     "previous": "6484cfb2-4aff-11e9-9859-0242ac110002"
    }
   },
   "source": [
    "![構成](images/guacamole-201-01.png)"
   ]
  },
  {
   "cell_type": "markdown",
   "metadata": {
    "lc_cell_meme": {
     "current": "6484d048-4aff-11e9-9859-0242ac110002",
     "next": "6484d08e-4aff-11e9-9859-0242ac110002",
     "previous": "6484d002-4aff-11e9-9859-0242ac110002"
    }
   },
   "source": [
    "# パラメータの設定"
   ]
  },
  {
   "cell_type": "markdown",
   "metadata": {
    "lc_cell_meme": {
     "current": "6484d08e-4aff-11e9-9859-0242ac110002",
     "next": "6484d0de-4aff-11e9-9859-0242ac110002",
     "previous": "6484d048-4aff-11e9-9859-0242ac110002"
    }
   },
   "source": [
    "## UnitGroup名の指定\n",
    "\n",
    "操作対象となる UnitGroup の名前を指定してください。"
   ]
  },
  {
   "cell_type": "code",
   "execution_count": 1,
   "metadata": {
    "deletable": false,
    "editable": false,
    "lc_cell_meme": {
     "current": "6484d0de-4aff-11e9-9859-0242ac110002",
     "next": "6484d124-4aff-11e9-9859-0242ac110002",
     "previous": "6484d08e-4aff-11e9-9859-0242ac110002"
    },
    "run_through_control": {
     "frozen": true
    }
   },
   "outputs": [],
   "source": [
    "unit_group = 'Guacamole-C'"
   ]
  },
  {
   "cell_type": "markdown",
   "metadata": {
    "lc_cell_meme": {
     "current": "6484d124-4aff-11e9-9859-0242ac110002",
     "next": "6484d16a-4aff-11e9-9859-0242ac110002",
     "previous": "6484d0de-4aff-11e9-9859-0242ac110002"
    }
   },
   "source": [
    "次のセルを実行すると「01-パラメータの設定.ipynb」で指定したパラメータを読み込みます。読み込むパラメータの値は、上のセルで指定した UnitGroup名に対応するものになります。UnitGroup名の指定が誤っていると意図したパラメータが読み込めないので注意してください。"
   ]
  },
  {
   "cell_type": "code",
   "execution_count": 2,
   "metadata": {
    "deletable": false,
    "editable": false,
    "lc_cell_meme": {
     "current": "6484d16a-4aff-11e9-9859-0242ac110002",
     "next": "6484d1ba-4aff-11e9-9859-0242ac110002",
     "previous": "6484d124-4aff-11e9-9859-0242ac110002"
    },
    "run_through_control": {
     "frozen": true
    }
   },
   "outputs": [],
   "source": [
    "%run scripts/group.py\n",
    "gvars = load_group_vars(unit_group)"
   ]
  },
  {
   "cell_type": "markdown",
   "metadata": {
    "lc_cell_meme": {
     "current": "6484d1ba-4aff-11e9-9859-0242ac110002",
     "next": "6484d200-4aff-11e9-9859-0242ac110002",
     "previous": "6484d16a-4aff-11e9-9859-0242ac110002"
    }
   },
   "source": [
    ">「01-パラメータの設定.ipynb」で group_vars ファイルに保存した値を読み込むために、事前に作成した Python のスクリプト `scripts/group.py` を利用しています。このスクリプトでは、指定された UnitGroup名に対応する YAMLファイルを `group_vars/` ディレクトリから読み込み、その値を Python の辞書型変数に格納しています。\n"
   ]
  },
  {
   "cell_type": "markdown",
   "metadata": {
    "lc_cell_meme": {
     "current": "6484d200-4aff-11e9-9859-0242ac110002",
     "next": "6484d246-4aff-11e9-9859-0242ac110002",
     "previous": "6484d1ba-4aff-11e9-9859-0242ac110002"
    }
   },
   "source": [
    "## VCCアクセストークンの入力"
   ]
  },
  {
   "cell_type": "markdown",
   "metadata": {
    "lc_cell_meme": {
     "current": "6484d246-4aff-11e9-9859-0242ac110002",
     "next": "6484d28c-4aff-11e9-9859-0242ac110002",
     "previous": "6484d200-4aff-11e9-9859-0242ac110002"
    }
   },
   "source": [
    "VCノードを起動するにはVC Controller(VCC)にアクセスして、操作を行う必要があります。VCCにアクセスするために必要となるアクセストークンをここで入力します。"
   ]
  },
  {
   "cell_type": "markdown",
   "metadata": {
    "lc_cell_meme": {
     "current": "6484d28c-4aff-11e9-9859-0242ac110002",
     "next": "6484d2d2-4aff-11e9-9859-0242ac110002",
     "previous": "6484d246-4aff-11e9-9859-0242ac110002"
    }
   },
   "source": [
    "次のセルを実行すると入力枠が表示されるのでアクセストークンの値を入力してください。\n",
    "\n",
    "> アクセストークン入力後に Enter キーを押すことで入力が完了します。"
   ]
  },
  {
   "cell_type": "code",
   "execution_count": 3,
   "metadata": {
    "deletable": false,
    "editable": false,
    "lc_cell_meme": {
     "current": "6484d2d2-4aff-11e9-9859-0242ac110002",
     "next": "6484d318-4aff-11e9-9859-0242ac110002",
     "previous": "6484d28c-4aff-11e9-9859-0242ac110002"
    },
    "run_through_control": {
     "frozen": true
    }
   },
   "outputs": [
    {
     "name": "stdout",
     "output_type": "stream",
     "text": [
      "········\n"
     ]
    }
   ],
   "source": [
    "from getpass import getpass\n",
    "vcc_access_token = getpass()"
   ]
  },
  {
   "cell_type": "markdown",
   "metadata": {
    "lc_cell_meme": {
     "current": "6484d318-4aff-11e9-9859-0242ac110002",
     "next": "6484d35e-4aff-11e9-9859-0242ac110002",
     "previous": "6484d2d2-4aff-11e9-9859-0242ac110002"
    }
   },
   "source": [
    "入力されたアクセストークンが正しいことを、実際にVCCにアクセスして確認します。"
   ]
  },
  {
   "cell_type": "code",
   "execution_count": 4,
   "metadata": {
    "deletable": false,
    "editable": false,
    "lc_cell_meme": {
     "current": "6484d35e-4aff-11e9-9859-0242ac110002",
     "next": "6484d3ae-4aff-11e9-9859-0242ac110002",
     "previous": "6484d318-4aff-11e9-9859-0242ac110002"
    },
    "run_through_control": {
     "frozen": true
    }
   },
   "outputs": [],
   "source": [
    "from common import logsetting\n",
    "from vcpsdk.vcpsdk import VcpSDK\n",
    "\n",
    "vcp = VcpSDK(vcc_access_token)"
   ]
  },
  {
   "cell_type": "markdown",
   "metadata": {
    "lc_cell_meme": {
     "current": "6484d3ae-4aff-11e9-9859-0242ac110002",
     "next": "6484d3f4-4aff-11e9-9859-0242ac110002",
     "previous": "6484d35e-4aff-11e9-9859-0242ac110002"
    }
   },
   "source": [
    "上のセルの実行結果がエラーとなり以下のようなメッセージが表示されている場合は、入力されたアクセストークンに誤りがあります。\n",
    "\n",
    "```\n",
    "2018-09-XX XX:XX:XX,XXX - ERROR - config vc failed: http_status(403)\n",
    "2018-09-XX XX:XX:XX,XXX - ERROR - 2018/XX/XX XX:XX:XX UTC: VCPAuthException: xxxxxxx:token lookup is failed: permission denied\n",
    "```\n",
    "\n",
    "エラーになった場合はこの節のセルを全て `unfreeze` してから、もう一度アクセストークンの入力を行ってください。"
   ]
  },
  {
   "cell_type": "markdown",
   "metadata": {
    "lc_cell_meme": {
     "current": "6484d3f4-4aff-11e9-9859-0242ac110002",
     "next": "6484d43a-4aff-11e9-9859-0242ac110002",
     "previous": "6484d3ae-4aff-11e9-9859-0242ac110002"
    }
   },
   "source": [
    "# 演習環境用VCノードのスケールアウト\n"
   ]
  },
  {
   "cell_type": "markdown",
   "metadata": {
    "lc_cell_meme": {
     "current": "6484d43a-4aff-11e9-9859-0242ac110002",
     "next": "6484d48a-4aff-11e9-9859-0242ac110002",
     "previous": "6484d3f4-4aff-11e9-9859-0242ac110002"
    }
   },
   "source": [
    "## 現在の状態の確認"
   ]
  },
  {
   "cell_type": "markdown",
   "metadata": {
    "lc_cell_meme": {
     "current": "6484d48a-4aff-11e9-9859-0242ac110002",
     "next": "6484d4d0-4aff-11e9-9859-0242ac110002",
     "previous": "6484d43a-4aff-11e9-9859-0242ac110002"
    }
   },
   "source": [
    "演習環境用に起動している VC ノードを一覧表示します。"
   ]
  },
  {
   "cell_type": "code",
   "execution_count": 5,
   "metadata": {
    "deletable": false,
    "editable": false,
    "lc_cell_meme": {
     "current": "6484d4d0-4aff-11e9-9859-0242ac110002",
     "next": "6484d516-4aff-11e9-9859-0242ac110002",
     "previous": "6484d48a-4aff-11e9-9859-0242ac110002"
    },
    "run_through_control": {
     "frozen": true
    }
   },
   "outputs": [
    {
     "data": {
      "text/html": [
       "<style  type=\"text/css\" >\n",
       "    #T_2b2dd10a_4aff_11e9_8f0b_0242ac110002row0_col3 {\n",
       "            background-color:  #dfd;\n",
       "        }    #T_2b2dd10a_4aff_11e9_8f0b_0242ac110002row0_col6 {\n",
       "            background-color:  #dfd;\n",
       "        }</style>  \n",
       "<table id=\"T_2b2dd10a_4aff_11e9_8f0b_0242ac110002\" > \n",
       "<thead>    <tr> \n",
       "        <th class=\"blank level0\" ></th> \n",
       "        <th class=\"col_heading level0 col0\" >vcno</th> \n",
       "        <th class=\"col_heading level0 col1\" >vcname</th> \n",
       "        <th class=\"col_heading level0 col2\" >unit_name</th> \n",
       "        <th class=\"col_heading level0 col3\" >unit_state</th> \n",
       "        <th class=\"col_heading level0 col4\" >node_no</th> \n",
       "        <th class=\"col_heading level0 col5\" >node_id</th> \n",
       "        <th class=\"col_heading level0 col6\" >node_state</th> \n",
       "        <th class=\"col_heading level0 col7\" >cloud_instance_address</th> \n",
       "        <th class=\"col_heading level0 col8\" >cloud_instance_id</th> \n",
       "        <th class=\"col_heading level0 col9\" >cloud_instance_name</th> \n",
       "        <th class=\"col_heading level0 col10\" >volumes</th> \n",
       "    </tr></thead> \n",
       "<tbody>    <tr> \n",
       "        <th id=\"T_2b2dd10a_4aff_11e9_8f0b_0242ac110002level0_row0\" class=\"row_heading level0 row0\" >0</th> \n",
       "        <td id=\"T_2b2dd10a_4aff_11e9_8f0b_0242ac110002row0_col0\" class=\"data row0 col0\" >49</td> \n",
       "        <td id=\"T_2b2dd10a_4aff_11e9_8f0b_0242ac110002row0_col1\" class=\"data row0 col1\" >Guacamole-C</td> \n",
       "        <td id=\"T_2b2dd10a_4aff_11e9_8f0b_0242ac110002row0_col2\" class=\"data row0 col2\" >client</td> \n",
       "        <td id=\"T_2b2dd10a_4aff_11e9_8f0b_0242ac110002row0_col3\" class=\"data row0 col3\" >RUNNING</td> \n",
       "        <td id=\"T_2b2dd10a_4aff_11e9_8f0b_0242ac110002row0_col4\" class=\"data row0 col4\" >1</td> \n",
       "        <td id=\"T_2b2dd10a_4aff_11e9_8f0b_0242ac110002row0_col5\" class=\"data row0 col5\" >bb3fa509...</td> \n",
       "        <td id=\"T_2b2dd10a_4aff_11e9_8f0b_0242ac110002row0_col6\" class=\"data row0 col6\" >RUNNING</td> \n",
       "        <td id=\"T_2b2dd10a_4aff_11e9_8f0b_0242ac110002row0_col7\" class=\"data row0 col7\" >172.30.2.167</td> \n",
       "        <td id=\"T_2b2dd10a_4aff_11e9_8f0b_0242ac110002row0_col8\" class=\"data row0 col8\" >i-0a0c61fa15a65c6e6</td> \n",
       "        <td id=\"T_2b2dd10a_4aff_11e9_8f0b_0242ac110002row0_col9\" class=\"data row0 col9\" >VCP-e84fbb63-88b49866</td> \n",
       "        <td id=\"T_2b2dd10a_4aff_11e9_8f0b_0242ac110002row0_col10\" class=\"data row0 col10\" >none</td> \n",
       "    </tr></tbody> \n",
       "</table> "
      ],
      "text/plain": [
       "<pandas.io.formats.style.Styler at 0x7fc40245a550>"
      ]
     },
     "execution_count": 5,
     "metadata": {},
     "output_type": "execute_result"
    }
   ],
   "source": [
    "ugroup = vcp.get_ugroup(unit_group)\n",
    "unit = ugroup.get_unit('client')\n",
    "unit.df_nodes()"
   ]
  },
  {
   "cell_type": "markdown",
   "metadata": {
    "lc_cell_meme": {
     "current": "6484d516-4aff-11e9-9859-0242ac110002",
     "next": "6484d55c-4aff-11e9-9859-0242ac110002",
     "previous": "6484d4d0-4aff-11e9-9859-0242ac110002"
    }
   },
   "source": [
    "Grafanaの表示を確認します。次のセルを実行すると表示されるURLをアクセスしてください。\n",
    "\n",
    "> ログイン画面が表示された場合は、ユーザ名/パスワードに admin/adminを入力してください。"
   ]
  },
  {
   "cell_type": "code",
   "execution_count": 6,
   "metadata": {
    "deletable": false,
    "editable": false,
    "lc_cell_meme": {
     "current": "6484d55c-4aff-11e9-9859-0242ac110002",
     "next": "6484d5a2-4aff-11e9-9859-0242ac110002",
     "previous": "6484d516-4aff-11e9-9859-0242ac110002"
    },
    "run_through_control": {
     "frozen": true
    }
   },
   "outputs": [
    {
     "name": "stdout",
     "output_type": "stream",
     "text": [
      "https://ocs1046.vcp-handson.org:8443/grafana/d/handson/vcp-metrics?refresh=5s\n"
     ]
    }
   ],
   "source": [
    "print(f'https://{gvars[\"server_name\"]}:{gvars[\"grafana_port\"]}/grafana/d/handson/vcp-metrics?refresh=5s')"
   ]
  },
  {
   "cell_type": "markdown",
   "metadata": {
    "lc_cell_meme": {
     "current": "6484d5a2-4aff-11e9-9859-0242ac110002",
     "next": "6484d5f2-4aff-11e9-9859-0242ac110002",
     "previous": "6484d55c-4aff-11e9-9859-0242ac110002"
    }
   },
   "source": [
    "Grafanaに２つのVCノードに対応するグラフが表示されているはずです。もしGrafanaにVCノードに対応するグラフが表示されていない場合は次のセルを実行してからもう一度 Grafana の表示を確認してください。"
   ]
  },
  {
   "cell_type": "code",
   "execution_count": 7,
   "metadata": {
    "deletable": false,
    "editable": false,
    "lc_cell_meme": {
     "current": "6484d5f2-4aff-11e9-9859-0242ac110002",
     "next": "6484d638-4aff-11e9-9859-0242ac110002",
     "previous": "6484d5a2-4aff-11e9-9859-0242ac110002"
    },
    "run_through_control": {
     "frozen": true
    },
    "scrolled": true
   },
   "outputs": [
    {
     "name": "stdout",
     "output_type": "stream",
     "text": [
      "\u001b[0;32m172.30.2.167 | SUCCESS | rc=0 >>\u001b[0m\r\n",
      "\u001b[0;32m\u001b[0m\r\n",
      "\u001b[0;32m\u001b[0m\r\n",
      "\u001b[0;32m172.30.2.100 | SUCCESS | rc=0 >>\u001b[0m\r\n",
      "\u001b[0;32m\u001b[0m\r\n",
      "\u001b[0;32m\u001b[0m\r\n"
     ]
    }
   ],
   "source": [
    "!ansible {unit_group} -b -a 'systemctl restart cadvisor'"
   ]
  },
  {
   "cell_type": "markdown",
   "metadata": {
    "lc_cell_meme": {
     "current": "6484d638-4aff-11e9-9859-0242ac110002",
     "next": "6484d688-4aff-11e9-9859-0242ac110002",
     "previous": "6484d5f2-4aff-11e9-9859-0242ac110002"
    }
   },
   "source": [
    "## VCノードのスケールアウト"
   ]
  },
  {
   "cell_type": "markdown",
   "metadata": {
    "lc_cell_meme": {
     "current": "6484d688-4aff-11e9-9859-0242ac110002",
     "next": "6484d6d8-4aff-11e9-9859-0242ac110002",
     "previous": "6484d638-4aff-11e9-9859-0242ac110002"
    }
   },
   "source": [
    "演習環境用VCノードを１ノード追加してみます。\n",
    "\n",
    "> ２分程度掛かります。"
   ]
  },
  {
   "cell_type": "code",
   "execution_count": 8,
   "metadata": {
    "deletable": false,
    "editable": false,
    "lc_cell_meme": {
     "current": "6484d6d8-4aff-11e9-9859-0242ac110002",
     "next": "6484d71e-4aff-11e9-9859-0242ac110002",
     "previous": "6484d688-4aff-11e9-9859-0242ac110002"
    },
    "run_through_control": {
     "frozen": true
    },
    "scrolled": true
   },
   "outputs": [
    {
     "name": "stdout",
     "output_type": "stream",
     "text": [
      "2019-03-20 19:59:05,495 - INFO - INDEFINITE ... 0 sec\n",
      "2019-03-20 19:59:10,703 - INFO - INDEFINITE ... 5 sec\n",
      "2019-03-20 19:59:15,906 - INFO - INDEFINITE ... 10 sec\n",
      "2019-03-20 19:59:21,107 - INFO - INDEFINITE ... 15 sec\n",
      "2019-03-20 19:59:26,313 - INFO - INDEFINITE ... 20 sec\n",
      "2019-03-20 19:59:31,519 - INFO - INDEFINITE ... 25 sec\n",
      "2019-03-20 19:59:36,726 - INFO - INDEFINITE ... 30 sec\n",
      "2019-03-20 19:59:41,933 - INFO - INDEFINITE ... 35 sec\n",
      "2019-03-20 19:59:47,134 - INFO - INDEFINITE ... 40 sec\n",
      "2019-03-20 19:59:52,342 - INFO - INDEFINITE ... 45 sec\n",
      "2019-03-20 19:59:57,553 - INFO - INDEFINITE ... 50 sec\n",
      "2019-03-20 20:00:02,849 - INFO - INDEFINITE ... 55 sec\n",
      "2019-03-20 20:00:08,247 - INFO - INDEFINITE ... 60 sec\n",
      "2019-03-20 20:00:13,499 - INFO - INDEFINITE ... 65 sec\n",
      "2019-03-20 20:00:18,733 - INFO - INDEFINITE ... 70 sec\n",
      "2019-03-20 20:00:23,949 - INFO - INDEFINITE ... 75 sec\n",
      "2019-03-20 20:00:29,153 - INFO - INDEFINITE ... 80 sec\n",
      "2019-03-20 20:00:34,363 - INFO - INDEFINITE ... 85 sec\n",
      "2019-03-20 20:00:39,563 - INFO - INDEFINITE ... 90 sec\n",
      "2019-03-20 20:00:44,770 - INFO - INDEFINITE ... 95 sec\n",
      "2019-03-20 20:00:49,978 - INFO - INDEFINITE ... 100 sec\n",
      "2019-03-20 20:00:55,189 - INFO - INDEFINITE ... 105 sec\n",
      "2019-03-20 20:01:00,409 - INFO - INDEFINITE ... 110 sec\n",
      "2019-03-20 20:01:05,828 - INFO - unit client is RUNNING\n",
      "2019-03-20 20:01:05,829 - INFO - add_node completed.\n"
     ]
    },
    {
     "data": {
      "text/plain": [
       "[<vcplib.occtr.VcNode at 0x7fc4296cf2e8>,\n",
       " <vcplib.occtr.VcNode at 0x7fc4296cf5c0>]"
      ]
     },
     "execution_count": 8,
     "metadata": {},
     "output_type": "execute_result"
    }
   ],
   "source": [
    "unit.add_nodes()"
   ]
  },
  {
   "cell_type": "markdown",
   "metadata": {
    "lc_cell_meme": {
     "current": "6484d71e-4aff-11e9-9859-0242ac110002",
     "next": "6484d764-4aff-11e9-9859-0242ac110002",
     "previous": "6484d6d8-4aff-11e9-9859-0242ac110002"
    }
   },
   "source": [
    "複数のノードを追加する場合は、`add_nodes()` の引数`num_add_nodes`に追加するノード数を指定してください。例えば３ノードを追加する場合は、以下のようになります。\n",
    "\n",
    "```\n",
    "unit.add_nodes(num_add_nodes=3)\n",
    "```"
   ]
  },
  {
   "cell_type": "markdown",
   "metadata": {
    "lc_cell_meme": {
     "current": "6484d764-4aff-11e9-9859-0242ac110002",
     "next": "6484d7e6-4aff-11e9-9859-0242ac110002",
     "previous": "6484d71e-4aff-11e9-9859-0242ac110002"
    }
   },
   "source": [
    "VC ノードを一覧表示してみます。"
   ]
  },
  {
   "cell_type": "code",
   "execution_count": 9,
   "metadata": {
    "deletable": false,
    "editable": false,
    "lc_cell_meme": {
     "current": "6484d7e6-4aff-11e9-9859-0242ac110002",
     "next": "6484d836-4aff-11e9-9859-0242ac110002",
     "previous": "6484d764-4aff-11e9-9859-0242ac110002"
    },
    "run_through_control": {
     "frozen": true
    },
    "scrolled": true
   },
   "outputs": [
    {
     "data": {
      "text/html": [
       "<style  type=\"text/css\" >\n",
       "    #T_76028a68_4aff_11e9_8f0b_0242ac110002row0_col3 {\n",
       "            background-color:  #dfd;\n",
       "        }    #T_76028a68_4aff_11e9_8f0b_0242ac110002row0_col6 {\n",
       "            background-color:  #dfd;\n",
       "        }    #T_76028a68_4aff_11e9_8f0b_0242ac110002row1_col3 {\n",
       "            background-color:  #dfd;\n",
       "        }    #T_76028a68_4aff_11e9_8f0b_0242ac110002row1_col6 {\n",
       "            background-color:  #dfd;\n",
       "        }</style>  \n",
       "<table id=\"T_76028a68_4aff_11e9_8f0b_0242ac110002\" > \n",
       "<thead>    <tr> \n",
       "        <th class=\"blank level0\" ></th> \n",
       "        <th class=\"col_heading level0 col0\" >vcno</th> \n",
       "        <th class=\"col_heading level0 col1\" >vcname</th> \n",
       "        <th class=\"col_heading level0 col2\" >unit_name</th> \n",
       "        <th class=\"col_heading level0 col3\" >unit_state</th> \n",
       "        <th class=\"col_heading level0 col4\" >node_no</th> \n",
       "        <th class=\"col_heading level0 col5\" >node_id</th> \n",
       "        <th class=\"col_heading level0 col6\" >node_state</th> \n",
       "        <th class=\"col_heading level0 col7\" >cloud_instance_address</th> \n",
       "        <th class=\"col_heading level0 col8\" >cloud_instance_id</th> \n",
       "        <th class=\"col_heading level0 col9\" >cloud_instance_name</th> \n",
       "        <th class=\"col_heading level0 col10\" >volumes</th> \n",
       "    </tr></thead> \n",
       "<tbody>    <tr> \n",
       "        <th id=\"T_76028a68_4aff_11e9_8f0b_0242ac110002level0_row0\" class=\"row_heading level0 row0\" >0</th> \n",
       "        <td id=\"T_76028a68_4aff_11e9_8f0b_0242ac110002row0_col0\" class=\"data row0 col0\" >49</td> \n",
       "        <td id=\"T_76028a68_4aff_11e9_8f0b_0242ac110002row0_col1\" class=\"data row0 col1\" >Guacamole-C</td> \n",
       "        <td id=\"T_76028a68_4aff_11e9_8f0b_0242ac110002row0_col2\" class=\"data row0 col2\" >client</td> \n",
       "        <td id=\"T_76028a68_4aff_11e9_8f0b_0242ac110002row0_col3\" class=\"data row0 col3\" >RUNNING</td> \n",
       "        <td id=\"T_76028a68_4aff_11e9_8f0b_0242ac110002row0_col4\" class=\"data row0 col4\" >1</td> \n",
       "        <td id=\"T_76028a68_4aff_11e9_8f0b_0242ac110002row0_col5\" class=\"data row0 col5\" >bb3fa509...</td> \n",
       "        <td id=\"T_76028a68_4aff_11e9_8f0b_0242ac110002row0_col6\" class=\"data row0 col6\" >RUNNING</td> \n",
       "        <td id=\"T_76028a68_4aff_11e9_8f0b_0242ac110002row0_col7\" class=\"data row0 col7\" >172.30.2.167</td> \n",
       "        <td id=\"T_76028a68_4aff_11e9_8f0b_0242ac110002row0_col8\" class=\"data row0 col8\" >i-0a0c61fa15a65c6e6</td> \n",
       "        <td id=\"T_76028a68_4aff_11e9_8f0b_0242ac110002row0_col9\" class=\"data row0 col9\" >VCP-e84fbb63-88b49866</td> \n",
       "        <td id=\"T_76028a68_4aff_11e9_8f0b_0242ac110002row0_col10\" class=\"data row0 col10\" >none</td> \n",
       "    </tr>    <tr> \n",
       "        <th id=\"T_76028a68_4aff_11e9_8f0b_0242ac110002level0_row1\" class=\"row_heading level0 row1\" >1</th> \n",
       "        <td id=\"T_76028a68_4aff_11e9_8f0b_0242ac110002row1_col0\" class=\"data row1 col0\" >49</td> \n",
       "        <td id=\"T_76028a68_4aff_11e9_8f0b_0242ac110002row1_col1\" class=\"data row1 col1\" >Guacamole-C</td> \n",
       "        <td id=\"T_76028a68_4aff_11e9_8f0b_0242ac110002row1_col2\" class=\"data row1 col2\" >client</td> \n",
       "        <td id=\"T_76028a68_4aff_11e9_8f0b_0242ac110002row1_col3\" class=\"data row1 col3\" >RUNNING</td> \n",
       "        <td id=\"T_76028a68_4aff_11e9_8f0b_0242ac110002row1_col4\" class=\"data row1 col4\" >2</td> \n",
       "        <td id=\"T_76028a68_4aff_11e9_8f0b_0242ac110002row1_col5\" class=\"data row1 col5\" >85decf6b...</td> \n",
       "        <td id=\"T_76028a68_4aff_11e9_8f0b_0242ac110002row1_col6\" class=\"data row1 col6\" >RUNNING</td> \n",
       "        <td id=\"T_76028a68_4aff_11e9_8f0b_0242ac110002row1_col7\" class=\"data row1 col7\" >172.30.2.232</td> \n",
       "        <td id=\"T_76028a68_4aff_11e9_8f0b_0242ac110002row1_col8\" class=\"data row1 col8\" >i-0e78db5a658826681</td> \n",
       "        <td id=\"T_76028a68_4aff_11e9_8f0b_0242ac110002row1_col9\" class=\"data row1 col9\" >VCP-e84fbb63-88b49866</td> \n",
       "        <td id=\"T_76028a68_4aff_11e9_8f0b_0242ac110002row1_col10\" class=\"data row1 col10\" >none</td> \n",
       "    </tr></tbody> \n",
       "</table> "
      ],
      "text/plain": [
       "<pandas.io.formats.style.Styler at 0x7fc3fd5da2e8>"
      ]
     },
     "execution_count": 9,
     "metadata": {},
     "output_type": "execute_result"
    }
   ],
   "source": [
    "unit.df_nodes()"
   ]
  },
  {
   "cell_type": "markdown",
   "metadata": {
    "lc_cell_meme": {
     "current": "6484d836-4aff-11e9-9859-0242ac110002",
     "next": "6484d87c-4aff-11e9-9859-0242ac110002",
     "previous": "6484d7e6-4aff-11e9-9859-0242ac110002"
    }
   },
   "source": [
    "## Ansibleの設定\n",
    "\n",
    "Ansible のインベントリの記述を追加したVCノードについて更新を行います。"
   ]
  },
  {
   "cell_type": "markdown",
   "metadata": {
    "lc_cell_meme": {
     "current": "6484d87c-4aff-11e9-9859-0242ac110002",
     "next": "6484d8c2-4aff-11e9-9859-0242ac110002",
     "previous": "6484d836-4aff-11e9-9859-0242ac110002"
    }
   },
   "source": [
    "まず、VCノードにSSHでログインできるようにするために `~/.ssh/known_hosts` の更新を行います。\n",
    "\n",
    "> 何度かVCノードの起動を行うと、異なるホストが同じIPアドレスで起動するためにSSHのホストキーのチェックでエラーになる事があります。このような状況に対応するために、起動したVCノードのIPアドレスに対応するエントリを`known_hosts`ファイルから削除します。その後、`ssh-keyscan`コマンドを利用して起動したVCノードのホストキーを取得して `known_hosts`ファイルの内容を更新します。"
   ]
  },
  {
   "cell_type": "code",
   "execution_count": 10,
   "metadata": {
    "deletable": false,
    "editable": false,
    "lc_cell_meme": {
     "current": "6484d8c2-4aff-11e9-9859-0242ac110002",
     "next": "6484d908-4aff-11e9-9859-0242ac110002",
     "previous": "6484d87c-4aff-11e9-9859-0242ac110002"
    },
    "run_through_control": {
     "frozen": true
    },
    "scrolled": true
   },
   "outputs": [
    {
     "name": "stdout",
     "output_type": "stream",
     "text": [
      "# Host 172.30.2.100 found: line 40 type ECDSA\n",
      "# Host 172.30.2.100 found: line 41 type RSA\n",
      "# Host 172.30.2.100 found: line 42 type ED25519\n",
      "/home/bit_kun/.ssh/known_hosts updated.\n",
      "Original contents retained as /home/bit_kun/.ssh/known_hosts.old\n",
      "# 172.30.2.100 SSH-2.0-OpenSSH_7.4\n",
      "# 172.30.2.100 SSH-2.0-OpenSSH_7.4\n",
      "# 172.30.2.100 SSH-2.0-OpenSSH_7.4\n",
      "# Host 172.30.2.167 found: line 40 type ECDSA\n",
      "# Host 172.30.2.167 found: line 41 type RSA\n",
      "# Host 172.30.2.167 found: line 42 type ED25519\n",
      "/home/bit_kun/.ssh/known_hosts updated.\n",
      "Original contents retained as /home/bit_kun/.ssh/known_hosts.old\n",
      "# 172.30.2.167 SSH-2.0-OpenSSH_7.4\n",
      "# 172.30.2.167 SSH-2.0-OpenSSH_7.4\n",
      "# 172.30.2.167 SSH-2.0-OpenSSH_7.4\n",
      "/home/bit_kun/.ssh/known_hosts updated.\n",
      "Original contents retained as /home/bit_kun/.ssh/known_hosts.old\n",
      "# 172.30.2.232 SSH-2.0-OpenSSH_7.4\n",
      "# 172.30.2.232 SSH-2.0-OpenSSH_7.4\n",
      "# 172.30.2.232 SSH-2.0-OpenSSH_7.4\n"
     ]
    }
   ],
   "source": [
    "from time import sleep\n",
    "\n",
    "def check_update_known_hosts(ipaddr):\n",
    "    # VCノード起動直後だと sshd サービスが開始されておらずに known_hosts が更新されない場合がある\n",
    "    # ssh-keyscan が値を取得できるまで何度かリトライする\n",
    "    for x in range(10):\n",
    "        out = ! echo $(ssh-keyscan {ipaddr} 2> /dev/null | wc -l)\n",
    "        update_lines = int(out[0])\n",
    "        if update_lines > 0:\n",
    "            break\n",
    "        sleep(1)\n",
    "    else:\n",
    "        raise RuntimeError(\"ERROR: timeout!\")    \n",
    "\n",
    "for addr in ugroup.find_ip_addresses():\n",
    "    !ssh-keygen -R {addr}\n",
    "    check_update_known_hosts(addr)\n",
    "    !ssh-keyscan -H {addr} >> ~/.ssh/known_hosts"
   ]
  },
  {
   "cell_type": "markdown",
   "metadata": {
    "lc_cell_meme": {
     "current": "6484d908-4aff-11e9-9859-0242ac110002",
     "next": "6484d94e-4aff-11e9-9859-0242ac110002",
     "previous": "6484d8c2-4aff-11e9-9859-0242ac110002"
    }
   },
   "source": [
    "起動したVCノードに対応するエントリを Ansible のインベントリに登録します。\n",
    "\n",
    "> Ansibleで操作を行うためには、操作対象のホスト(IPアドレス)をインベントリに登録する必要があります。"
   ]
  },
  {
   "cell_type": "code",
   "execution_count": 11,
   "metadata": {
    "deletable": false,
    "editable": false,
    "lc_cell_meme": {
     "current": "6484d94e-4aff-11e9-9859-0242ac110002",
     "next": "6484d99e-4aff-11e9-9859-0242ac110002",
     "previous": "6484d908-4aff-11e9-9859-0242ac110002"
    },
    "run_through_control": {
     "frozen": true
    }
   },
   "outputs": [
    {
     "name": "stdout",
     "output_type": "stream",
     "text": [
      "\r\n",
      "[Guacamole-C:children]\r\n",
      "Guacamole-C-server\r\n",
      "Guacamole-C-client\r\n",
      "    \r\n",
      "[Guacamole-C-server]\r\n",
      "172.30.2.100\r\n",
      "\r\n",
      "[Guacamole-C-client]\r\n",
      "172.30.2.167\r\n",
      "172.30.2.232\r\n",
      "\r\n",
      "[Guacamole-C:vars]\r\n",
      "ansible_ssh_private_key_file=/home/bit_kun/.ssh/id_rsa\r\n"
     ]
    }
   ],
   "source": [
    "import os\n",
    "\n",
    "with open('hosts', 'w') as f:\n",
    "    f.write(f'''\n",
    "[{unit_group}:children]\n",
    "{unit_group}-server\n",
    "{unit_group}-client\n",
    "    \n",
    "[{unit_group}-server]\n",
    "{os.linesep.join(ugroup.find_ip_addresses(unit_name='server'))}\n",
    "\n",
    "[{unit_group}-client]\n",
    "{os.linesep.join(ugroup.find_ip_addresses(unit_name='client'))}\n",
    "\n",
    "[{unit_group}:vars]\n",
    "ansible_ssh_private_key_file={gvars[\"ssh_private_key_path\"]}\n",
    "''')\n",
    "    \n",
    "!cat ./hosts"
   ]
  },
  {
   "cell_type": "markdown",
   "metadata": {
    "lc_cell_meme": {
     "current": "6484d99e-4aff-11e9-9859-0242ac110002",
     "next": "6484d9e4-4aff-11e9-9859-0242ac110002",
     "previous": "6484d94e-4aff-11e9-9859-0242ac110002"
    }
   },
   "source": [
    "UnitGroupに属する全てのVCノードに対して Ansible で接続できることを確認します。\n",
    "\n",
    "> ここでは、複数のVCノードをまとめて扱うためにAnsibleのグループを指定しています。グループ名は UnitGroup名と同じ値にしてあります。"
   ]
  },
  {
   "cell_type": "code",
   "execution_count": 12,
   "metadata": {
    "deletable": false,
    "editable": false,
    "lc_cell_meme": {
     "current": "6484d9e4-4aff-11e9-9859-0242ac110002",
     "next": "6484da34-4aff-11e9-9859-0242ac110002",
     "previous": "6484d99e-4aff-11e9-9859-0242ac110002"
    },
    "run_through_control": {
     "frozen": true
    }
   },
   "outputs": [
    {
     "name": "stdout",
     "output_type": "stream",
     "text": [
      "\u001b[0;32m172.30.2.100 | SUCCESS => {\u001b[0m\n",
      "\u001b[0;32m    \"changed\": false, \u001b[0m\n",
      "\u001b[0;32m    \"ping\": \"pong\"\u001b[0m\n",
      "\u001b[0;32m}\u001b[0m\n",
      "\u001b[0;32m172.30.2.167 | SUCCESS => {\u001b[0m\n",
      "\u001b[0;32m    \"changed\": false, \u001b[0m\n",
      "\u001b[0;32m    \"ping\": \"pong\"\u001b[0m\n",
      "\u001b[0;32m}\u001b[0m\n",
      "\u001b[0;32m172.30.2.232 | SUCCESS => {\u001b[0m\n",
      "\u001b[0;32m    \"changed\": false, \u001b[0m\n",
      "\u001b[0;32m    \"ping\": \"pong\"\u001b[0m\n",
      "\u001b[0;32m}\u001b[0m\n"
     ]
    }
   ],
   "source": [
    "!ansible {unit_group} -m ping"
   ]
  },
  {
   "cell_type": "markdown",
   "metadata": {
    "lc_cell_meme": {
     "current": "6484da34-4aff-11e9-9859-0242ac110002",
     "next": "6484da7a-4aff-11e9-9859-0242ac110002",
     "previous": "6484d9e4-4aff-11e9-9859-0242ac110002"
    }
   },
   "source": [
    "## 追加したVCノードをGrafanaで確認する"
   ]
  },
  {
   "cell_type": "markdown",
   "metadata": {
    "lc_cell_meme": {
     "current": "6484da7a-4aff-11e9-9859-0242ac110002",
     "next": "6484daca-4aff-11e9-9859-0242ac110002",
     "previous": "6484da34-4aff-11e9-9859-0242ac110002"
    }
   },
   "source": [
    "Grafanaの表示を確認します。次のセルを実行すると表示されるURLをアクセスしてください。"
   ]
  },
  {
   "cell_type": "code",
   "execution_count": 13,
   "metadata": {
    "deletable": false,
    "editable": false,
    "lc_cell_meme": {
     "current": "6484daca-4aff-11e9-9859-0242ac110002",
     "next": "6484db10-4aff-11e9-9859-0242ac110002",
     "previous": "6484da7a-4aff-11e9-9859-0242ac110002"
    },
    "run_through_control": {
     "frozen": true
    }
   },
   "outputs": [
    {
     "name": "stdout",
     "output_type": "stream",
     "text": [
      "https://ocs1046.vcp-handson.org:8443/grafana/d/handson/vcp-metrics?refresh=5s\n"
     ]
    }
   ],
   "source": [
    "print(f'https://{gvars[\"server_name\"]}:{gvars[\"grafana_port\"]}/grafana/d/handson/vcp-metrics?refresh=5s')"
   ]
  },
  {
   "cell_type": "markdown",
   "metadata": {
    "lc_cell_meme": {
     "current": "6484db10-4aff-11e9-9859-0242ac110002",
     "next": "6484db56-4aff-11e9-9859-0242ac110002",
     "previous": "6484daca-4aff-11e9-9859-0242ac110002"
    }
   },
   "source": [
    "Grafanaに３つのVCノードに対応するグラフが表示されているはずです。もしGrafanaにVCノードに対応するグラフが表示されていない場合は次のセルを実行してからもう一度 Grafana の表示を確認してください。"
   ]
  },
  {
   "cell_type": "code",
   "execution_count": 14,
   "metadata": {
    "deletable": false,
    "editable": false,
    "lc_cell_meme": {
     "current": "6484db56-4aff-11e9-9859-0242ac110002",
     "next": "6484db9c-4aff-11e9-9859-0242ac110002",
     "previous": "6484db10-4aff-11e9-9859-0242ac110002"
    },
    "run_through_control": {
     "frozen": true
    },
    "scrolled": false
   },
   "outputs": [
    {
     "name": "stdout",
     "output_type": "stream",
     "text": [
      "\u001b[0;32m172.30.2.100 | SUCCESS | rc=0 >>\u001b[0m\n",
      "\u001b[0;32m\u001b[0m\n",
      "\u001b[0;32m\u001b[0m\n",
      "\u001b[0;32m172.30.2.167 | SUCCESS | rc=0 >>\u001b[0m\n",
      "\u001b[0;32m\u001b[0m\n",
      "\u001b[0;32m\u001b[0m\n",
      "\u001b[0;32m172.30.2.232 | SUCCESS | rc=0 >>\u001b[0m\n",
      "\u001b[0;32m\u001b[0m\n",
      "\u001b[0;32m\u001b[0m\n"
     ]
    }
   ],
   "source": [
    "!ansible {unit_group} -b -a 'systemctl restart cadvisor'"
   ]
  },
  {
   "cell_type": "markdown",
   "metadata": {
    "lc_cell_meme": {
     "current": "6484db9c-4aff-11e9-9859-0242ac110002",
     "next": "6484dbe2-4aff-11e9-9859-0242ac110002",
     "previous": "6484db56-4aff-11e9-9859-0242ac110002"
    }
   },
   "source": [
    "#  演習環境の利用"
   ]
  },
  {
   "cell_type": "markdown",
   "metadata": {
    "lc_cell_meme": {
     "current": "6484dbe2-4aff-11e9-9859-0242ac110002",
     "next": "6484dc28-4aff-11e9-9859-0242ac110002",
     "previous": "6484db9c-4aff-11e9-9859-0242ac110002"
    }
   },
   "source": [
    "今回構築した環境では、演習環境コンテナに割り当てるリソース量を、１つのVCノードに１つのコンテナのみ実行できるような量を設定しています。そのため異なるユーザ名で演習環境にログインすると、それぞれ異なるVCノードで実行しているコンテナ環境を利用することになります。\n",
    "\n",
    "このことをGrafana で確認しやすくするために、演習環境に対してCPU負荷をかけてみます。"
   ]
  },
  {
   "cell_type": "markdown",
   "metadata": {
    "lc_cell_meme": {
     "current": "6484dc28-4aff-11e9-9859-0242ac110002",
     "next": "6484dc6e-4aff-11e9-9859-0242ac110002",
     "previous": "6484dbe2-4aff-11e9-9859-0242ac110002"
    }
   },
   "source": [
    "まずは、ユーザ/パスワードに `user01`/`user01`を指定してGuacamoleにログインして、その後で演習環境にログインしてください。演習環境への接続は `SSH`/`RDP` のどちらで構いません。"
   ]
  },
  {
   "cell_type": "markdown",
   "metadata": {
    "lc_cell_meme": {
     "current": "6484dc6e-4aff-11e9-9859-0242ac110002",
     "next": "6484dcc8-4aff-11e9-9859-0242ac110002",
     "previous": "6484dc28-4aff-11e9-9859-0242ac110002"
    }
   },
   "source": [
    "演習環境にログインしたらターミナルで以下のコマンドを実行してください。\n",
    "\n",
    "```\n",
    "yes > /dev/null\n",
    "```\n",
    "\n",
    "![user01負荷](images/guacamole-203-02.png)"
   ]
  },
  {
   "cell_type": "markdown",
   "metadata": {
    "lc_cell_meme": {
     "current": "6484dcc8-4aff-11e9-9859-0242ac110002",
     "next": "6484dd0e-4aff-11e9-9859-0242ac110002",
     "previous": "6484dc6e-4aff-11e9-9859-0242ac110002"
    }
   },
   "source": [
    "CPU負荷をかけた状態で Grafanaを確認してください。"
   ]
  },
  {
   "cell_type": "code",
   "execution_count": 15,
   "metadata": {
    "deletable": false,
    "editable": false,
    "lc_cell_meme": {
     "current": "6484dd0e-4aff-11e9-9859-0242ac110002",
     "next": "6484dd54-4aff-11e9-9859-0242ac110002",
     "previous": "6484dcc8-4aff-11e9-9859-0242ac110002"
    },
    "run_through_control": {
     "frozen": true
    }
   },
   "outputs": [
    {
     "name": "stdout",
     "output_type": "stream",
     "text": [
      "https://ocs1046.vcp-handson.org:8443/grafana/d/handson/vcp-metrics?refresh=5s\n"
     ]
    }
   ],
   "source": [
    "print(f'https://{gvars[\"server_name\"]}:{gvars[\"grafana_port\"]}/grafana/d/handson/vcp-metrics?refresh=5s')"
   ]
  },
  {
   "cell_type": "markdown",
   "metadata": {
    "lc_cell_meme": {
     "current": "6484dd54-4aff-11e9-9859-0242ac110002",
     "next": "6484dda4-4aff-11e9-9859-0242ac110002",
     "previous": "6484dd0e-4aff-11e9-9859-0242ac110002"
    }
   },
   "source": [
    "以下のキャプチャ画面に示すように[CPU Uage per Node]のグラフと[CPU Usage per Container]のグラフのうちのひとつで負荷が高くなっていることが確認できます。\n",
    "\n",
    "![user01負荷grafana](images/guacamole-203-03.png)"
   ]
  },
  {
   "cell_type": "markdown",
   "metadata": {
    "lc_cell_meme": {
     "current": "6484dda4-4aff-11e9-9859-0242ac110002",
     "next": "6484ddea-4aff-11e9-9859-0242ac110002",
     "previous": "6484dd54-4aff-11e9-9859-0242ac110002"
    }
   },
   "source": [
    "次に`user01`をログアウトしてから、`user02`で演習環境にログインしてください。その後、先ほどと同じようにターミナルで\n",
    "\n",
    "```\n",
    "yes > /dev/null\n",
    "```\n",
    "\n",
    "を実行してCPU負荷をかけてください。\n",
    "\n",
    "![user02負荷](images/guacamole-203-04.png)"
   ]
  },
  {
   "cell_type": "markdown",
   "metadata": {
    "lc_cell_meme": {
     "current": "6484ddea-4aff-11e9-9859-0242ac110002",
     "next": null,
     "previous": "6484dda4-4aff-11e9-9859-0242ac110002"
    }
   },
   "source": [
    "この状態で Grafanaを確認してください。以下のキャプチャ画面に示すように[CPU Uage per Node]のグラフと[CPU Usage per Container]のグラフで先ほどとは異なるVCノードとコンテナの負荷が高くなっていることが確認できます。\n",
    "\n",
    "![user02負荷grafana](images/guacamole-203-05.png)"
   ]
  }
 ],
 "metadata": {
  "kernelspec": {
   "display_name": "Python 3",
   "language": "python",
   "name": "python3"
  },
  "language_info": {
   "codemirror_mode": {
    "name": "ipython",
    "version": 3
   },
   "file_extension": ".py",
   "mimetype": "text/x-python",
   "name": "python",
   "nbconvert_exporter": "python",
   "pygments_lexer": "ipython3",
   "version": "3.6.6"
  },
  "lc_notebook_meme": {
   "current": "6484cdc8-4aff-11e9-9859-0242ac110002",
   "lc_server_signature": {
    "current": {
     "notebook_dir": "/notebooks/notebook",
     "notebook_path": "/handson/guacamole",
     "server_url": "https://ocs1046.vcp-handson.org:8443/handson/",
     "signature_id": "d0c53b60-f9f3-11e8-ad2a-0242ac110002"
    },
    "history": []
   }
  },
  "toc": {
   "base_numbering": 1,
   "nav_menu": {},
   "number_sections": true,
   "sideBar": true,
   "skip_h1_title": false,
   "title_cell": "Table of Contents",
   "title_sidebar": "Contents",
   "toc_cell": false,
   "toc_position": {
    "height": "calc(100% - 180px)",
    "left": "10px",
    "top": "150px",
    "width": "275.8px"
   },
   "toc_section_display": true,
   "toc_window_display": true
  }
 },
 "nbformat": 4,
 "nbformat_minor": 2
}
