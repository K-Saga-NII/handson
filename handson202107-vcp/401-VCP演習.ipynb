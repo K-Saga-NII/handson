{
 "cells": [
  {
   "cell_type": "markdown",
   "metadata": {
    "lc_cell_meme": {
     "current": "f77cbe3a-dd4a-11eb-875b-02420a01000d",
     "next": "f77cbf7a-dd4a-11eb-875b-02420a01000d",
     "previous": null
    }
   },
   "source": [
    "# VCP演習\n",
    "\n",
    "以下の演習課題から選択してください。\n",
    "\n",
    "1. VCノードを利用してLaTeX文書をPDFファイルに変換してみよう\n",
    "2. VCノードを利用してWordPress（またはownCloud）環境を構築してみよう"
   ]
  },
  {
   "cell_type": "markdown",
   "metadata": {
    "heading_collapsed": true,
    "lc_cell_meme": {
     "current": "f77cbf7a-dd4a-11eb-875b-02420a01000d",
     "next": "f77cc074-dd4a-11eb-875b-02420a01000d",
     "previous": "f77cbe3a-dd4a-11eb-875b-02420a01000d"
    }
   },
   "source": [
    "## VCノードを利用してLaTeX文書をPDFファイルに変換してみよう\n",
    "\n",
    "ここでは、[301-AWSスポットインスタンスの利用](./301-AWSスポットインスタンスの利用.ipynb) などと同様にVCノードを作成し、  \n",
    "LaTeXで書かれた文書をPDFに変換するための処理をアプリケーションコンテナ上で実行します。"
   ]
  },
  {
   "cell_type": "markdown",
   "metadata": {
    "heading_collapsed": true,
    "hidden": true,
    "lc_cell_meme": {
     "current": "f77cc074-dd4a-11eb-875b-02420a01000d",
     "next": "f77cc15a-dd4a-11eb-875b-02420a01000d",
     "previous": "f77cbf7a-dd4a-11eb-875b-02420a01000d"
    }
   },
   "source": [
    "### AWSにVCノードを作成\n",
    "\n",
    "- 任意のインスタンスタイプを利用（通常は `'small'` で十分）\n",
    "- SSH公開鍵を設定する（起動後にSSHログインが必要なため）"
   ]
  },
  {
   "cell_type": "code",
   "execution_count": null,
   "metadata": {
    "hidden": true,
    "lc_cell_meme": {
     "current": "f77cc15a-dd4a-11eb-875b-02420a01000d",
     "next": "f77cc222-dd4a-11eb-875b-02420a01000d",
     "previous": "f77cc074-dd4a-11eb-875b-02420a01000d"
    },
    "lc_wrapper": {}
   },
   "outputs": [],
   "source": [
    "# アクセストークン入力\n",
    "from getpass import getpass\n",
    "vcc_access_token = getpass()"
   ]
  },
  {
   "cell_type": "code",
   "execution_count": null,
   "metadata": {
    "hidden": true,
    "lc_cell_meme": {
     "current": "f77cc222-dd4a-11eb-875b-02420a01000d",
     "next": "f77cc2ea-dd4a-11eb-875b-02420a01000d",
     "previous": "f77cc15a-dd4a-11eb-875b-02420a01000d"
    },
    "lc_wrapper": {}
   },
   "outputs": [],
   "source": [
    "# VCP SDK 初期化\n",
    "from common import logsetting\n",
    "from vcpsdk.vcpsdk import VcpSDK\n",
    "vcp = VcpSDK(vcc_access_token)"
   ]
  },
  {
   "cell_type": "code",
   "execution_count": null,
   "metadata": {
    "hidden": true,
    "lc_cell_meme": {
     "current": "f77cc2ea-dd4a-11eb-875b-02420a01000d",
     "next": "f77cc3c6-dd4a-11eb-875b-02420a01000d",
     "previous": "f77cc222-dd4a-11eb-875b-02420a01000d"
    },
    "lc_wrapper": {}
   },
   "outputs": [],
   "source": [
    "# UnitGroup 作成\n",
    "unit_group = vcp.create_ugroup('handson401')"
   ]
  },
  {
   "cell_type": "code",
   "execution_count": null,
   "metadata": {
    "hidden": true,
    "lc_cell_meme": {
     "current": "f77cc3c6-dd4a-11eb-875b-02420a01000d",
     "next": "f77cc48e-dd4a-11eb-875b-02420a01000d",
     "previous": "f77cc2ea-dd4a-11eb-875b-02420a01000d"
    },
    "lc_wrapper": {}
   },
   "outputs": [],
   "source": [
    "# spec 設定 (スポットインスタンスの場合は aws_spot を指定)\n",
    "spec = vcp.get_spec('aws', 'small')"
   ]
  },
  {
   "cell_type": "code",
   "execution_count": null,
   "metadata": {
    "hidden": true,
    "lc_cell_meme": {
     "current": "f77cc48e-dd4a-11eb-875b-02420a01000d",
     "next": "f77cc560-dd4a-11eb-875b-02420a01000d",
     "previous": "f77cc3c6-dd4a-11eb-875b-02420a01000d"
    },
    "lc_wrapper": {}
   },
   "outputs": [],
   "source": [
    "# ssh公開鍵設定\n",
    "import os\n",
    "ssh_public_key = os.path.expanduser('~/.ssh/id_rsa.pub')\n",
    "spec.set_ssh_pubkey(ssh_public_key)"
   ]
  },
  {
   "cell_type": "code",
   "execution_count": null,
   "metadata": {
    "hidden": true,
    "lc_cell_meme": {
     "current": "f77cc560-dd4a-11eb-875b-02420a01000d",
     "next": "f77cc63c-dd4a-11eb-875b-02420a01000d",
     "previous": "f77cc48e-dd4a-11eb-875b-02420a01000d"
    },
    "lc_wrapper": {}
   },
   "outputs": [],
   "source": [
    "# spec内容確認\n",
    "print(spec)"
   ]
  },
  {
   "cell_type": "code",
   "execution_count": null,
   "metadata": {
    "hidden": true,
    "lc_cell_meme": {
     "current": "f77cc63c-dd4a-11eb-875b-02420a01000d",
     "next": "f77cc70e-dd4a-11eb-875b-02420a01000d",
     "previous": "f77cc560-dd4a-11eb-875b-02420a01000d"
    },
    "lc_wrapper": {}
   },
   "outputs": [],
   "source": [
    "# Unit 作成（VCノード起動）\n",
    "unit = unit_group.create_unit('aws-server', spec)"
   ]
  },
  {
   "cell_type": "code",
   "execution_count": null,
   "metadata": {
    "hidden": true,
    "lc_cell_meme": {
     "current": "f77cc70e-dd4a-11eb-875b-02420a01000d",
     "next": "f77cc812-dd4a-11eb-875b-02420a01000d",
     "previous": "f77cc63c-dd4a-11eb-875b-02420a01000d"
    },
    "lc_wrapper": {}
   },
   "outputs": [],
   "source": [
    "# VCノード情報確認\n",
    "unit_group.df_nodes()"
   ]
  },
  {
   "cell_type": "code",
   "execution_count": null,
   "metadata": {
    "hidden": true,
    "lc_cell_meme": {
     "current": "f77cc812-dd4a-11eb-875b-02420a01000d",
     "next": "f77cc8f8-dd4a-11eb-875b-02420a01000d",
     "previous": "f77cc70e-dd4a-11eb-875b-02420a01000d"
    },
    "lc_wrapper": {}
   },
   "outputs": [],
   "source": [
    "# VCノードのIPアドレスを変数に格納\n",
    "# unit_group.find_ip_addresses() は UnitGroup内の全VCノードのIPアドレスのリストを返す。\n",
    "# 起動しているVCノードが1つの場合、先頭要素 [0] を取得する。\n",
    "ip_address = unit_group.find_ip_addresses(node_state='RUNNING')[0]\n",
    "print(ip_address)"
   ]
  },
  {
   "cell_type": "markdown",
   "metadata": {
    "hidden": true,
    "lc_cell_meme": {
     "current": "f77cc8f8-dd4a-11eb-875b-02420a01000d",
     "next": "f77cc9f2-dd4a-11eb-875b-02420a01000d",
     "previous": "f77cc812-dd4a-11eb-875b-02420a01000d"
    }
   },
   "source": [
    "### VCノードにSSHログイン\n",
    "\n",
    "NotebookのTerminalを開いてsshコマンドを実行してログインします。\n",
    "```\n",
    "ssh root@{VCノードIPアドレス}\n",
    "```\n",
    "\n",
    "あるいは、[301-AWSスポットインスタンスの利用](./301-AWSスポットインスタンスの利用.ipynb) と同様にNotebookのセルにsshコマンドを記述して実行する方法もあります。"
   ]
  },
  {
   "cell_type": "markdown",
   "metadata": {
    "hidden": true,
    "lc_cell_meme": {
     "current": "f77cc9f2-dd4a-11eb-875b-02420a01000d",
     "next": "f77ccad8-dd4a-11eb-875b-02420a01000d",
     "previous": "f77cc8f8-dd4a-11eb-875b-02420a01000d"
    }
   },
   "source": [
    "### LaTeXサンプルファイルを入手\n",
    "\n",
    "電子情報通信学会 LaTeXスタイルファイル http://www.ieice.org/ftp/ をサンプルとして利用します。\n",
    "\n",
    "VCノード上で wget コマンドを使ってサンプルファイルをダウンロードします。\n",
    "```\n",
    "wget http://www.ieice.org/ftp/tex/ieicej/LaTeX2e/ieicej3.2.zip\n",
    "```"
   ]
  },
  {
   "cell_type": "code",
   "execution_count": null,
   "metadata": {
    "hidden": true,
    "lc_cell_meme": {
     "current": "f77ccad8-dd4a-11eb-875b-02420a01000d",
     "next": "f77ccbaa-dd4a-11eb-875b-02420a01000d",
     "previous": "f77cc9f2-dd4a-11eb-875b-02420a01000d"
    },
    "lc_wrapper": {}
   },
   "outputs": [],
   "source": [
    "# VCノードのホストキー取得 (Notebook上での対話処理を避けるための準備)\n",
    "!touch ~/.ssh/known_hosts\n",
    "!ssh-keygen -R {ip_address}\n",
    "!ssh-keyscan -H {ip_address} >> ~/.ssh/known_hosts"
   ]
  },
  {
   "cell_type": "code",
   "execution_count": null,
   "metadata": {
    "hidden": true,
    "lc_cell_meme": {
     "current": "f77ccbaa-dd4a-11eb-875b-02420a01000d",
     "next": "f77ccc90-dd4a-11eb-875b-02420a01000d",
     "previous": "f77ccad8-dd4a-11eb-875b-02420a01000d"
    },
    "lc_wrapper": {}
   },
   "outputs": [],
   "source": [
    "# VCノード上で wget コマンド実行\n",
    "!ssh root@{ip_address} wget http://www.ieice.org/ftp/tex/ieicej/LaTeX2e/ieicej3.2.zip"
   ]
  },
  {
   "cell_type": "markdown",
   "metadata": {
    "hidden": true,
    "lc_cell_meme": {
     "current": "f77ccc90-dd4a-11eb-875b-02420a01000d",
     "next": "f77ccd76-dd4a-11eb-875b-02420a01000d",
     "previous": "f77ccbaa-dd4a-11eb-875b-02420a01000d"
    }
   },
   "source": [
    "### LaTeX環境インストール済みコンテナを実行\n",
    "\n",
    "VCノード上で以下のコマンドを実行します。\n",
    "\n",
    "```bash\n",
    "# 入手したアーカイブを展開し、texファイルがあるフォルダに移動\n",
    "unzip ieicej3.2.zip\n",
    "cd ieicej3.2/UTF\n",
    "\n",
    "# uplatex にて tex → dvi 変換\n",
    "docker run --rm -v ${PWD}:/workdir paperist/alpine-texlive-ja uplatex readme.tex\n",
    "\n",
    "# dvipdfmx にて dvi → pdf 変換\n",
    "docker run --rm -v ${PWD}:/workdir paperist/alpine-texlive-ja dvipdfmx readme.dvi\n",
    "```"
   ]
  },
  {
   "cell_type": "code",
   "execution_count": null,
   "metadata": {
    "hidden": true,
    "lc_cell_meme": {
     "current": "f77ccd76-dd4a-11eb-875b-02420a01000d",
     "next": "f77cce3e-dd4a-11eb-875b-02420a01000d",
     "previous": "f77ccc90-dd4a-11eb-875b-02420a01000d"
    },
    "lc_wrapper": {}
   },
   "outputs": [],
   "source": [
    "# VCノード上で unzip コマンド実行\n",
    "!ssh root@{ip_address} unzip ieicej3.2.zip"
   ]
  },
  {
   "cell_type": "code",
   "execution_count": null,
   "metadata": {
    "hidden": true,
    "lc_cell_meme": {
     "current": "f77cce3e-dd4a-11eb-875b-02420a01000d",
     "next": "f77ccf06-dd4a-11eb-875b-02420a01000d",
     "previous": "f77ccd76-dd4a-11eb-875b-02420a01000d"
    },
    "lc_wrapper": {}
   },
   "outputs": [],
   "source": [
    "# VCノード上で uplatex コマンドをコンテナ実行 (tex → dvi 変換)\n",
    "!ssh root@{ip_address} \\\n",
    "  'cd ieicej3.2/UTF && /usr/local/bin/docker run --rm -v $(pwd):/workdir paperist/alpine-texlive-ja uplatex readme.tex'"
   ]
  },
  {
   "cell_type": "code",
   "execution_count": null,
   "metadata": {
    "hidden": true,
    "lc_cell_meme": {
     "current": "f77ccf06-dd4a-11eb-875b-02420a01000d",
     "next": "f77ccfec-dd4a-11eb-875b-02420a01000d",
     "previous": "f77cce3e-dd4a-11eb-875b-02420a01000d"
    },
    "lc_wrapper": {}
   },
   "outputs": [],
   "source": [
    "# VCノード上で dvipdfmx コマンドをコンテナ実行 (dvi → pdf 変換)\n",
    "!ssh root@{ip_address} \\\n",
    "  'cd ieicej3.2/UTF && /usr/local/bin/docker run --rm -v $(pwd):/workdir paperist/alpine-texlive-ja dvipdfmx readme.dvi'"
   ]
  },
  {
   "cell_type": "markdown",
   "metadata": {
    "hidden": true,
    "lc_cell_meme": {
     "current": "f77ccfec-dd4a-11eb-875b-02420a01000d",
     "next": "f77cd0b4-dd4a-11eb-875b-02420a01000d",
     "previous": "f77ccf06-dd4a-11eb-875b-02420a01000d"
    }
   },
   "source": [
    "### 生成されたPDFファイルをNotebook環境にコピー (scp)\n",
    "\n",
    "- VCノードからログアウトし、NotebookのTeminalからscpコマンドを使ってVCノードからPDFファイルを取得します。\n",
    "- 取得できたら、Notebook環境の[ダッシュボード（ファイル一覧画面）](./) でPDFファイルを開いて内容を確認します。\n",
    "\n",
    "```\n",
    "scp {VCノードIPアドレス}:ieicej3.2/UTF/readme.pdf .\n",
    "```"
   ]
  },
  {
   "cell_type": "code",
   "execution_count": null,
   "metadata": {
    "hidden": true,
    "lc_cell_meme": {
     "current": "f77cd0b4-dd4a-11eb-875b-02420a01000d",
     "next": "f77cd17c-dd4a-11eb-875b-02420a01000d",
     "previous": "f77ccfec-dd4a-11eb-875b-02420a01000d"
    },
    "lc_wrapper": {}
   },
   "outputs": [],
   "source": [
    "# VCノードから PDF ファイルをNotebook環境にコピー\n",
    "!scp root@{ip_address}:ieicej3.2/UTF/readme.pdf ."
   ]
  },
  {
   "cell_type": "markdown",
   "metadata": {
    "hidden": true,
    "lc_cell_meme": {
     "current": "f77cd17c-dd4a-11eb-875b-02420a01000d",
     "next": "f77cd24e-dd4a-11eb-875b-02420a01000d",
     "previous": "f77cd0b4-dd4a-11eb-875b-02420a01000d"
    }
   },
   "source": [
    "### 他のtexファイルを使ってみる\n",
    "\n",
    "- [学会の論文投稿スタイルファイル](https://texwiki.texjp.org/?学会スタイル等#ab53bdf2)"
   ]
  },
  {
   "cell_type": "markdown",
   "metadata": {
    "heading_collapsed": true,
    "hidden": true,
    "lc_cell_meme": {
     "current": "f77cd24e-dd4a-11eb-875b-02420a01000d",
     "next": "f77cd334-dd4a-11eb-875b-02420a01000d",
     "previous": "f77cd17c-dd4a-11eb-875b-02420a01000d"
    },
    "lc_wrapper": {}
   },
   "source": [
    "### 使用したVCノードを削除する"
   ]
  },
  {
   "cell_type": "code",
   "execution_count": null,
   "metadata": {
    "hidden": true,
    "lc_cell_meme": {
     "current": "f77cd334-dd4a-11eb-875b-02420a01000d",
     "next": "f77cd3fc-dd4a-11eb-875b-02420a01000d",
     "previous": "f77cd24e-dd4a-11eb-875b-02420a01000d"
    },
    "lc_wrapper": {}
   },
   "outputs": [],
   "source": [
    "# unit_group = vcp.get_ugroup('handson401')\n",
    "unit_group.cleanup()\n",
    "vcp.df_ugroups()"
   ]
  },
  {
   "cell_type": "markdown",
   "metadata": {
    "heading_collapsed": true,
    "lc_cell_meme": {
     "current": "f77cd3fc-dd4a-11eb-875b-02420a01000d",
     "next": "f77cd4ce-dd4a-11eb-875b-02420a01000d",
     "previous": "f77cd334-dd4a-11eb-875b-02420a01000d"
    }
   },
   "source": [
    "## VCノードを利用してWordPressやownCloud環境を構築してみよう\n",
    "\n",
    "WordPress (CMS:コンテンツ管理システム) や、ownCloud (オンラインストレージ) のようなWebアプリケーション環境をVCノード上に構築します。\n",
    "\n",
    "- WordPress\n",
    "  * Docker公式ドキュメントページにある Docker Compose のサンプルを使って WordPress 環境を構築します。\n",
    "  * [Quickstart: Compose and WordPress](https://docs.docker.com/compose/wordpress/)\n",
    "\n",
    "- ownCloud\n",
    "  * GitHubリポジトリに公開されている Docker Compose のサンプルを使って ownCloud 環境を構築します。\n",
    "  * [ownCloud: Server](https://github.com/owncloud-docker/server)"
   ]
  },
  {
   "cell_type": "markdown",
   "metadata": {
    "heading_collapsed": true,
    "hidden": true,
    "lc_cell_meme": {
     "current": "f77cd4ce-dd4a-11eb-875b-02420a01000d",
     "next": "f77cd5aa-dd4a-11eb-875b-02420a01000d",
     "previous": "f77cd3fc-dd4a-11eb-875b-02420a01000d"
    }
   },
   "source": [
    "### AWSにVCノードを作成\n",
    "\n",
    "- WordPress, ownCloud どちらを構築する場合もVCノード作成手順は同じ\n",
    "- 任意のインスタンスタイプを利用可（通常は `'small'` で十分）\n",
    "- SSH公開鍵を設定する（起動後にSSHログインが必要なため）\n",
    "- 固定IPアドレス `172.30.2.201` を割り当てる  \n",
    "  (ハンズオン用NAT Proxyサーバに設定済みのIPアドレスを使う必要があるため)"
   ]
  },
  {
   "cell_type": "code",
   "execution_count": null,
   "metadata": {
    "hidden": true,
    "lc_cell_meme": {
     "current": "f77cd5aa-dd4a-11eb-875b-02420a01000d",
     "next": "f77cd67c-dd4a-11eb-875b-02420a01000d",
     "previous": "f77cd4ce-dd4a-11eb-875b-02420a01000d"
    },
    "lc_wrapper": {}
   },
   "outputs": [],
   "source": [
    "# アクセストークン入力\n",
    "from getpass import getpass\n",
    "vcc_access_token = getpass()"
   ]
  },
  {
   "cell_type": "code",
   "execution_count": null,
   "metadata": {
    "hidden": true,
    "lc_cell_meme": {
     "current": "f77cd67c-dd4a-11eb-875b-02420a01000d",
     "next": "f77cd744-dd4a-11eb-875b-02420a01000d",
     "previous": "f77cd5aa-dd4a-11eb-875b-02420a01000d"
    },
    "lc_wrapper": {}
   },
   "outputs": [],
   "source": [
    "# VCP SDK 初期化\n",
    "from common import logsetting\n",
    "from vcpsdk.vcpsdk import VcpSDK\n",
    "vcp = VcpSDK(vcc_access_token)"
   ]
  },
  {
   "cell_type": "code",
   "execution_count": null,
   "metadata": {
    "hidden": true,
    "lc_cell_meme": {
     "current": "f77cd744-dd4a-11eb-875b-02420a01000d",
     "next": "f77cd80c-dd4a-11eb-875b-02420a01000d",
     "previous": "f77cd67c-dd4a-11eb-875b-02420a01000d"
    },
    "lc_wrapper": {}
   },
   "outputs": [],
   "source": [
    "# UnitGroup 作成\n",
    "unit_group = vcp.create_ugroup('handson401')"
   ]
  },
  {
   "cell_type": "code",
   "execution_count": null,
   "metadata": {
    "hidden": true,
    "lc_cell_meme": {
     "current": "f77cd80c-dd4a-11eb-875b-02420a01000d",
     "next": "f77cd8e8-dd4a-11eb-875b-02420a01000d",
     "previous": "f77cd744-dd4a-11eb-875b-02420a01000d"
    },
    "lc_wrapper": {}
   },
   "outputs": [],
   "source": [
    "# spec 設定 (スポットインスタンスの場合は aws_spot を指定)\n",
    "spec = vcp.get_spec('aws', 'small')"
   ]
  },
  {
   "cell_type": "code",
   "execution_count": null,
   "metadata": {
    "hidden": true,
    "lc_cell_meme": {
     "current": "f77cd8e8-dd4a-11eb-875b-02420a01000d",
     "next": "f77cd9ce-dd4a-11eb-875b-02420a01000d",
     "previous": "f77cd80c-dd4a-11eb-875b-02420a01000d"
    },
    "lc_wrapper": {}
   },
   "outputs": [],
   "source": [
    "# ssh公開鍵設定\n",
    "import os\n",
    "ssh_public_key = os.path.expanduser('~/.ssh/id_rsa.pub')\n",
    "spec.set_ssh_pubkey(ssh_public_key)"
   ]
  },
  {
   "cell_type": "code",
   "execution_count": null,
   "metadata": {
    "hidden": true,
    "lc_cell_meme": {
     "current": "f77cd9ce-dd4a-11eb-875b-02420a01000d",
     "next": "f77cdaa0-dd4a-11eb-875b-02420a01000d",
     "previous": "f77cd8e8-dd4a-11eb-875b-02420a01000d"
    },
    "lc_wrapper": {}
   },
   "outputs": [],
   "source": [
    "# 起動するVCノードに固定IPアドレス割当 (ハンズオン用NAT Proxyサーバに設定済みのIPアドレスを使う)\n",
    "spec.ip_addresses = ['172.30.2.201']"
   ]
  },
  {
   "cell_type": "code",
   "execution_count": null,
   "metadata": {
    "hidden": true,
    "lc_cell_meme": {
     "current": "f77cdaa0-dd4a-11eb-875b-02420a01000d",
     "next": "f77cdb68-dd4a-11eb-875b-02420a01000d",
     "previous": "f77cd9ce-dd4a-11eb-875b-02420a01000d"
    },
    "lc_wrapper": {}
   },
   "outputs": [],
   "source": [
    "# spec内容確認\n",
    "print(spec)"
   ]
  },
  {
   "cell_type": "code",
   "execution_count": null,
   "metadata": {
    "hidden": true,
    "lc_cell_meme": {
     "current": "f77cdb68-dd4a-11eb-875b-02420a01000d",
     "next": "f77cdc30-dd4a-11eb-875b-02420a01000d",
     "previous": "f77cdaa0-dd4a-11eb-875b-02420a01000d"
    },
    "lc_wrapper": {}
   },
   "outputs": [],
   "source": [
    "# Unit 作成（VCノード起動）\n",
    "unit = unit_group.create_unit('aws-server', spec)"
   ]
  },
  {
   "cell_type": "code",
   "execution_count": null,
   "metadata": {
    "hidden": true,
    "lc_cell_meme": {
     "current": "f77cdc30-dd4a-11eb-875b-02420a01000d",
     "next": "f77cdcee-dd4a-11eb-875b-02420a01000d",
     "previous": "f77cdb68-dd4a-11eb-875b-02420a01000d"
    },
    "lc_wrapper": {}
   },
   "outputs": [],
   "source": [
    "# VCノード情報確認\n",
    "unit_group.df_nodes()"
   ]
  },
  {
   "cell_type": "markdown",
   "metadata": {
    "hidden": true,
    "lc_cell_meme": {
     "current": "f77cdcee-dd4a-11eb-875b-02420a01000d",
     "next": "f77cddde-dd4a-11eb-875b-02420a01000d",
     "previous": "f77cdc30-dd4a-11eb-875b-02420a01000d"
    }
   },
   "source": [
    "### VCノードにSSHログイン\n",
    "\n",
    "NotebookのTerminalを開いてsshコマンドを実行してログインします。\n",
    "```bash\n",
    "ssh root@172.30.2.201\n",
    "```\n",
    "\n",
    "あるいは、[301-AWSスポットインスタンスの利用](./301-AWSスポットインスタンスの利用.ipynb) と同様にNotebookのセルにsshコマンドを記述して実行する方法もあります。"
   ]
  },
  {
   "cell_type": "markdown",
   "metadata": {
    "hidden": true,
    "lc_cell_meme": {
     "current": "f77cddde-dd4a-11eb-875b-02420a01000d",
     "next": "f77cdeb0-dd4a-11eb-875b-02420a01000d",
     "previous": "f77cdcee-dd4a-11eb-875b-02420a01000d"
    }
   },
   "source": [
    "### Docker Compose 設定ファイルを記述\n",
    "\n",
    "WordPress または ownCloud のどちらか一方を選択して実行してください。  \n",
    "**!!注意!!** 今回のハンズオン環境では、1つのVCノードに WordPress と ownCloud の両方を同時に起動することはできません。\n",
    "\n",
    "- **WordPress** の場合\n",
    "  1. NotebookのTerminalから [Quickstart: Compose and WordPress](https://docs.docker.com/compose/wordpress/) に記載されている docker-compose.yml の内容をコピーし、  \n",
    "VCノード上に `docker-compose.yml` ファイルを作成します。\n",
    "\n",
    "----\n",
    "\n",
    "- **ownCloud** の場合\n",
    "  1. [ownCloudの公式ドキュメント](https://doc.owncloud.com/server/10.2/admin_manual/installation/docker/) の手順にしたがってVCノード上に `docker-compose.yml` ファイルを作成します。  \n",
    "     以下のコマンドをVCノード上で実行してファイルを取得できます。\n",
    "\n",
    "  ```bash\n",
    "  wget -O docker-compose.yml \\\n",
    "      https://raw.githubusercontent.com/owncloud/docs/master/modules/admin_manual/examples/installation/docker/docker-compose.yml\n",
    "\n",
    "  ```\n",
    "  \n",
    "  2. 環境変数を設定するために以下のコマンドをVCノード上で実行します。   \n",
    "     ★今回のハンズオン環境では **`HTTP_PORT`** を **`8000`** に指定してください。★\n",
    "  \n",
    "  ```bash\n",
    "  cat << EOF >| .env\n",
    "  OWNCLOUD_VERSION=10.0\n",
    "  OWNCLOUD_DOMAIN=localhost\n",
    "  ADMIN_USERNAME=admin\n",
    "  ADMIN_PASSWORD=admin\n",
    "  HTTP_PORT=8000\n",
    "  EOF\n",
    "  ```"
   ]
  },
  {
   "cell_type": "markdown",
   "metadata": {
    "hidden": true,
    "lc_cell_meme": {
     "current": "f77cdeb0-dd4a-11eb-875b-02420a01000d",
     "next": "f77cdf82-dd4a-11eb-875b-02420a01000d",
     "previous": "f77cddde-dd4a-11eb-875b-02420a01000d"
    }
   },
   "source": [
    "### Docker Compose 起動\n",
    "\n",
    "VCノード上で `docker-compose.yml` ファイルを配置したディレクトリで `docker-compose up` コマンドを実行します。\n",
    "\n",
    "```bash\n",
    "docker-compose up -d\n",
    "```\n",
    "\n",
    "Docker Composeにより起動されたコンテナを確認します。\n",
    "\n",
    "```bash\n",
    "docker-compose ps\n",
    "```"
   ]
  },
  {
   "cell_type": "markdown",
   "metadata": {
    "hidden": true,
    "lc_cell_meme": {
     "current": "f77cdf82-dd4a-11eb-875b-02420a01000d",
     "next": "f77ce05e-dd4a-11eb-875b-02420a01000d",
     "previous": "f77cdeb0-dd4a-11eb-875b-02420a01000d"
    }
   },
   "source": [
    "### ブラウザからアクセス\n",
    "\n",
    "アクセス先URLのリンクをここで生成します。"
   ]
  },
  {
   "cell_type": "code",
   "execution_count": null,
   "metadata": {
    "hidden": true,
    "lc_cell_meme": {
     "current": "f77ce05e-dd4a-11eb-875b-02420a01000d",
     "next": "f77ce126-dd4a-11eb-875b-02420a01000d",
     "previous": "f77cdf82-dd4a-11eb-875b-02420a01000d"
    },
    "lc_wrapper": {}
   },
   "outputs": [],
   "source": [
    "vcc_ctr = vcp.vcc_info()['host']\n",
    "print(\"https://{}/\".format(vcc_ctr.split(':')[0]))"
   ]
  },
  {
   "cell_type": "markdown",
   "metadata": {
    "heading_collapsed": true,
    "hidden": true,
    "lc_cell_meme": {
     "current": "f77ce126-dd4a-11eb-875b-02420a01000d",
     "next": "f77ce1e4-dd4a-11eb-875b-02420a01000d",
     "previous": "f77ce05e-dd4a-11eb-875b-02420a01000d"
    },
    "lc_wrapper": {}
   },
   "source": [
    "### 使用したVCノードを削除する"
   ]
  },
  {
   "cell_type": "code",
   "execution_count": null,
   "metadata": {
    "hidden": true,
    "lc_cell_meme": {
     "current": "f77ce1e4-dd4a-11eb-875b-02420a01000d",
     "next": "f77ce2ac-dd4a-11eb-875b-02420a01000d",
     "previous": "f77ce126-dd4a-11eb-875b-02420a01000d"
    },
    "lc_wrapper": {}
   },
   "outputs": [],
   "source": [
    "# unit_group = vcp.get_ugroup('handson401')\n",
    "unit_group.cleanup()\n",
    "vcp.df_ugroups()"
   ]
  },
  {
   "cell_type": "markdown",
   "metadata": {
    "lc_cell_meme": {
     "current": "f77ce2ac-dd4a-11eb-875b-02420a01000d",
     "next": null,
     "previous": "f77ce1e4-dd4a-11eb-875b-02420a01000d"
    }
   },
   "source": [
    "## (参考) VCPで利用可能なDockerイメージを入手するには？\n",
    "\n",
    "Dockerには開発元の Docker, Inc. により運営されているコンテナイメージの共有サービス [Docker Hub](https://hub.docker.com) があります。\n",
    "\n",
    "Docker Hubでは、自分で作成したDockerイメージを保存したり、公開イメージとして配布したりすることが可能です。  \n",
    "また、公開されているイメージを検索し、ダウンロードして自分のDocker環境で利用できます。\n",
    "\n",
    "今回の演習課題でも Docker Hub から公開イメージをVCノード上に取得して実行しています。\n",
    "\n",
    "演習で使用しているイメージ以外にも、基本OS (Ubuntu, CentOS) や一般的なプログラミング言語のランタイムなどを含む多くのソフトウェア製品が [Official Images](https://docs.docker.com/docker-hub/official_images/) として登録されており、これらは専門のチームによって品質とセキュリティの問題が発生するリスクを軽減するように対策されています。\n",
    "\n",
    "![Docker architecture](https://docs.docker.com/engine/images/architecture.svg)\n",
    "> [Docker architecture](https://docs.docker.com/engine/docker-overview/#docker-architecture)\n",
    "> \n",
    "> Public Registry サービスとして Docker Hub があり、DockerクライアントはデフォルトでDocker Hub上のイメージを検索するように構成されています。\n"
   ]
  }
 ],
 "metadata": {
  "kernelspec": {
   "display_name": "Python 3",
   "language": "python",
   "name": "python3"
  },
  "language_info": {
   "file_extension": ".py",
   "mimetype": "text/x-python",
   "name": "python",
   "nbconvert_exporter": "python",
   "pygments_lexer": "ipython3",
   "version": "3.7.3"
  },
  "toc": {
   "base_numbering": 1,
   "nav_menu": {},
   "number_sections": true,
   "sideBar": true,
   "skip_h1_title": false,
   "title_cell": "Table of Contents",
   "title_sidebar": "Contents",
   "toc_cell": false,
   "toc_position": {
    "height": "calc(100% - 180px)",
    "left": "10px",
    "top": "150px",
    "width": "365.4px"
   },
   "toc_section_display": true,
   "toc_window_display": true
  }
 },
 "nbformat": 4,
 "nbformat_minor": 2
}
