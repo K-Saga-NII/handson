{
 "cells": [
  {
   "cell_type": "markdown",
   "metadata": {
    "lc_cell_meme": {
     "current": "f589d55e-dd4a-11eb-80ba-02420a01000d-1-02f7",
     "next": "f589d6bc-dd4a-11eb-80ba-02420a01000d-1-9d6d",
     "previous": null
    }
   },
   "source": [
    "# README"
   ]
  },
  {
   "cell_type": "markdown",
   "metadata": {
    "lc_cell_meme": {
     "current": "f589d6bc-dd4a-11eb-80ba-02420a01000d-1-9d6d",
     "next": "f589d7a2-dd4a-11eb-80ba-02420a01000d-1-9b5f",
     "previous": "f589d55e-dd4a-11eb-80ba-02420a01000d-1-02f7"
    }
   },
   "source": [
    "# 実行環境の前提条件"
   ]
  },
  {
   "cell_type": "markdown",
   "metadata": {
    "lc_cell_meme": {
     "current": "f589d7a2-dd4a-11eb-80ba-02420a01000d-1-9b5f",
     "next": "f589d978-dd4a-11eb-80ba-02420a01000d-1-f2e2",
     "previous": "f589d6bc-dd4a-11eb-80ba-02420a01000d-1-9d6d"
    }
   },
   "source": [
    "* Notebook環境\n",
    "  - [Jupyter Notebook for Literate Computing for Reproducible Infrastructure](https://github.com/NII-cloud-operation/Jupyter-LC_docker)\n",
    "* VCP SDK\n",
    "  - バージョン: 20.10.0\n",
    "* Python\n",
    "  - 3.6\n",
    "* クラウドプロバイダ\n",
    "  - AWS\n",
    "  - Microsoft Azure"
   ]
  },
  {
   "cell_type": "markdown",
   "metadata": {
    "lc_cell_meme": {
     "current": "f589d978-dd4a-11eb-80ba-02420a01000d-1-f2e2",
     "next": "f589da40-dd4a-11eb-80ba-02420a01000d-1-f703",
     "previous": "f589d7a2-dd4a-11eb-80ba-02420a01000d-1-9b5f"
    }
   },
   "source": [
    "# VCP SDK"
   ]
  },
  {
   "cell_type": "markdown",
   "metadata": {
    "lc_cell_meme": {
     "current": "f589da40-dd4a-11eb-80ba-02420a01000d-1-f703",
     "next": "f589db1c-dd4a-11eb-80ba-02420a01000d-1-ebbc",
     "previous": "f589d978-dd4a-11eb-80ba-02420a01000d-1-f2e2"
    }
   },
   "source": [
    "## VCP SDKとは？"
   ]
  },
  {
   "cell_type": "markdown",
   "metadata": {
    "lc_cell_meme": {
     "current": "f589db1c-dd4a-11eb-80ba-02420a01000d-1-ebbc",
     "next": "f589dc02-dd4a-11eb-80ba-02420a01000d-1-9c88",
     "previous": "f589da40-dd4a-11eb-80ba-02420a01000d-1-f703"
    }
   },
   "source": [
    "![VCP SDK](images/000-003.png)\n",
    "\n",
    "* VCPを操作するための Python3 ライブラリ\n",
    "* VCコントローラの REST API に対するラッパーライブラリ(vcplib)を呼び出している\n",
    "* クラウドごとの制御APIの差異を吸収\n",
    "* 仮想マシン(Amazon EC2インスタンス, Microsoft Azure VM, ...)などの計算資源と、Amazon EBS, Microsoft Azure Managed Disksなどの記録媒体を作成、削除することができる"
   ]
  },
  {
   "cell_type": "markdown",
   "metadata": {
    "lc_cell_meme": {
     "current": "f589dc02-dd4a-11eb-80ba-02420a01000d-1-9c88",
     "next": "f589dce8-dd4a-11eb-80ba-02420a01000d-1-88fb",
     "previous": "f589db1c-dd4a-11eb-80ba-02420a01000d-1-ebbc"
    },
    "vcp_tutorial": {
     "url": "view/DOC/index.html"
    }
   },
   "source": [
    "<!---\n",
    "VCP SDK の詳細については「[VCPSDK APIドキュメント](/handson/view/DOC/index.html)」から確認できます。\n",
    "--->"
   ]
  },
  {
   "cell_type": "markdown",
   "metadata": {
    "lc_cell_meme": {
     "current": "f589dce8-dd4a-11eb-80ba-02420a01000d-1-88fb",
     "next": "f589ddb0-dd4a-11eb-80ba-02420a01000d-1-8005",
     "previous": "f589dc02-dd4a-11eb-80ba-02420a01000d-1-9c88"
    }
   },
   "source": [
    "## 基本的な構成要素\n",
    "\n",
    "VCP SDKが扱う構成要素を以下に記します。\n",
    "\n",
    "* VC(Virtual Cloud)\n",
    "  - 複数のクラウドにまたがって構築されたひとつの仮想システム環境\n",
    "* UnitGroup\n",
    "  - 複数のUnitをまとめて扱うためのものです\n",
    "  - サーバ、クライアントなどの相互に関係をもつ異質なNode群をグループとしてまとめます\n",
    "  - `compute` と `storage` の2つのタイプがあります\n",
    "    + `compute` は仮想マシンなどの計算資源で構成されています\n",
    "    + `storage` はブロックデバイスなどの記録媒体で構成されています\n",
    "* Unit\n",
    "  - 同質（同じ計算資源(cpu, memory, ...)、同じクラウド、同じ用途、...）であるNodeをまとめて扱うためのものです\n",
    "  - Unitに属するNodeをスケールアウト、スケールインすることができます\n",
    "* Node\n",
    "  - UnitGroupを構成する個々のノード\n",
    "  - UnitGroupのタイプが `compute`の場合\n",
    "    - [Amazon EC2インスタンス](https://aws.amazon.com/jp/ec2/), [Microsoft Azure VM](https://azure.microsoft.com/ja-jp/services/virtual-machines/) など\n",
    "    - VCP SDKではこのNodeをVCノードと呼びます\n",
    "  - UnitGroupのタイプが `storage`の場合\n",
    "    - [Amazon EBS](https://aws.amazon.com/jp/ebs/), [Microsoft Azure Managed Disks](https://azure.microsoft.com/ja-jp/services/storage/disks/) など\n",
    "    - VCP SDKではこのNodeをVCディスクと呼びます\n",
    "\n",
    "VC, UnitGroup, Unit の例を以下の図に示します。\n",
    "\n",
    "![VCP](images/000-001.png)"
   ]
  },
  {
   "cell_type": "markdown",
   "metadata": {
    "lc_cell_meme": {
     "current": "f589ddb0-dd4a-11eb-80ba-02420a01000d-1-8005",
     "next": "f589de8c-dd4a-11eb-80ba-02420a01000d-1-5d87",
     "previous": "f589dce8-dd4a-11eb-80ba-02420a01000d-1-88fb"
    }
   },
   "source": [
    "* UnitGroup1: ３つの Unit から構成されている `compute` タイプのUnitGroup\n",
    "  - Unit1A\n",
    "    * Amazon EC2 m5.large インスタンスで構成されている Unit\n",
    "  - Unit1B\n",
    "    * Amazon EC2 c5.large インスタンスで構成されている Unit\n",
    "  - Unit1C\n",
    "    * Microsoft Azure VM NV6 で構成されている Unit\n",
    "* UnitGroup2: ３つの Unit から構成されている compute タイプのUnitGroup\n",
    "  - Unit2A\n",
    "    * Amazon EC2 m5.large で構成されている Unit\n",
    "  - Unit2B\n",
    "    * Amazon EC2 m5.large で構成されている Unit\n",
    "  - Unit2C\n",
    "    * Microsoft Azure VM D2 v3 で構成されている Unit\n",
    "* UnitGroup3: １つの Unit から構成されている storage タイプのUnitGroup\n",
    "  - Unit3\n",
    "    * Amazon EBS から構成されている Unit"
   ]
  },
  {
   "cell_type": "markdown",
   "metadata": {
    "lc_cell_meme": {
     "current": "f589de8c-dd4a-11eb-80ba-02420a01000d-1-5d87",
     "next": "f589df68-dd4a-11eb-80ba-02420a01000d-1-13b9",
     "previous": "f589ddb0-dd4a-11eb-80ba-02420a01000d-1-8005"
    }
   },
   "source": [
    "## VCノードについて"
   ]
  },
  {
   "cell_type": "markdown",
   "metadata": {
    "lc_cell_meme": {
     "current": "f589df68-dd4a-11eb-80ba-02420a01000d-1-13b9",
     "next": "f589e044-dd4a-11eb-80ba-02420a01000d-1-ba90",
     "previous": "f589de8c-dd4a-11eb-80ba-02420a01000d-1-5d87"
    }
   },
   "source": [
    "VCPの計算資源として利用できる環境はパブリッククラウドの仮想マシン(Amazon EC2, Microsoft Azure VM, ...)やベアメタル(BM)など多岐にわたっています。VCPではそのいずれに対しても同一の環境を提供できるようにするために[Docker コンテナ](https://www.docker.com/)を利用しています。クラウド上のVM/BMをVCノードとして組み入れる際にVCPが各VM/BMに共通環境となるコンテナを起動します。VCPではこのコンテナのことをBaseコンテナと呼んでいます。またBaseコンテナはVCノードのモニタリングなどのVCPの共通機能を提供するための役割も担っています。"
   ]
  },
  {
   "cell_type": "markdown",
   "metadata": {
    "lc_cell_meme": {
     "current": "f589e044-dd4a-11eb-80ba-02420a01000d-1-ba90",
     "next": "f589e120-dd4a-11eb-80ba-02420a01000d-1-f130",
     "previous": "f589df68-dd4a-11eb-80ba-02420a01000d-1-13b9"
    }
   },
   "source": [
    "![BC](images/000-002.png)"
   ]
  },
  {
   "cell_type": "markdown",
   "metadata": {
    "lc_cell_meme": {
     "current": "f589e120-dd4a-11eb-80ba-02420a01000d-1-f130",
     "next": "f589e1e8-dd4a-11eb-80ba-02420a01000d-1-f4cb",
     "previous": "f589e044-dd4a-11eb-80ba-02420a01000d-1-ba90"
    }
   },
   "source": [
    "標準のBaseコンテナは以下のような特徴を有しています。\n",
    "\n",
    "* [Alpine Linux コンテナ](https://hub.docker.com/_/alpine/)\n",
    "* sshでログイン可能\n",
    "* docker 実行環境(Docker in Docker)\n",
    "\n",
    "標準のBaseコンテナは Alpine Linuxベースですが、他に Ubuntuベース、CentOSベースのものも用意しています。\n",
    "また汎用的なBaseコンテナ以外にNFSサーバやGPU利用などの特定目的をもったBaseコンテナを用意しています。"
   ]
  },
  {
   "cell_type": "markdown",
   "metadata": {
    "lc_cell_meme": {
     "current": "f589e1e8-dd4a-11eb-80ba-02420a01000d-1-f4cb",
     "next": "f589e2ce-dd4a-11eb-80ba-02420a01000d-1-20f2",
     "previous": "f589e120-dd4a-11eb-80ba-02420a01000d-1-f130"
    }
   },
   "source": [
    "# ハンズオン環境へのアクセス（参考）"
   ]
  },
  {
   "cell_type": "markdown",
   "metadata": {
    "lc_cell_meme": {
     "current": "f589e2ce-dd4a-11eb-80ba-02420a01000d-1-20f2",
     "next": "f589e3a0-dd4a-11eb-80ba-02420a01000d-1-d0ca",
     "previous": "f589e1e8-dd4a-11eb-80ba-02420a01000d-1-f4cb"
    }
   },
   "source": [
    "ハンズオンのNotebook環境はNIIのCoursewareHub上にあり、VCコントローラやVCノードにはAWSのパブリックサブネットに配置したNATインスタンスのリバースプロキシ(Nginx)を経由してアクセスできるように設定されています。  \n",
    "VCP SDKによって起動されるVCノードはプライベートサブネットに配置されます。"
   ]
  },
  {
   "cell_type": "markdown",
   "metadata": {
    "lc_cell_meme": {
     "current": "f589e3a0-dd4a-11eb-80ba-02420a01000d-1-d0ca",
     "next": "f589e468-dd4a-11eb-80ba-02420a01000d-1-44c9",
     "previous": "f589e2ce-dd4a-11eb-80ba-02420a01000d-1-20f2"
    }
   },
   "source": [
    "![ハンズオン環境](images/000-004-handson.png)"
   ]
  },
  {
   "cell_type": "markdown",
   "metadata": {
    "lc_cell_meme": {
     "current": "f589e468-dd4a-11eb-80ba-02420a01000d-1-44c9",
     "next": "f589e54e-dd4a-11eb-80ba-02420a01000d-1-d169",
     "previous": "f589e3a0-dd4a-11eb-80ba-02420a01000d-1-d0ca"
    }
   },
   "source": [
    "# 準備\n",
    "\n",
    "この後に実行するNotebookで必要となるSSHの公開鍵認証のための鍵ファイルを作成します。\n",
    "作成したSSHの鍵ファイルはこのNotebook環境からVCノードにログインする際に利用します。"
   ]
  },
  {
   "cell_type": "markdown",
   "metadata": {
    "lc_cell_meme": {
     "current": "f589e54e-dd4a-11eb-80ba-02420a01000d-1-d169",
     "next": "f589e620-dd4a-11eb-80ba-02420a01000d-1-87b3",
     "previous": "f589e468-dd4a-11eb-80ba-02420a01000d-1-44c9"
    }
   },
   "source": [
    "次のセルを実行してください。"
   ]
  },
  {
   "cell_type": "code",
   "execution_count": 1,
   "metadata": {
    "deletable": false,
    "editable": false,
    "lc_cell_meme": {
     "current": "f589e620-dd4a-11eb-80ba-02420a01000d-1-87b3",
     "execution_end_time": "2021-07-05T06:04:19.751600Z",
     "next": "f589e6e8-dd4a-11eb-80ba-02420a01000d-1-9dc7",
     "previous": "f589e54e-dd4a-11eb-80ba-02420a01000d-1-d169"
    },
    "lc_wrapper": {},
    "run_through_control": {
     "frozen": true
    }
   },
   "outputs": [
    {
     "name": "stdout",
     "output_type": "stream",
     "text": [
      "total 20\n",
      "drwx------  2 jovyan users   93 Jul  5 15:04 .\n",
      "drwxr-xr-x 14 jovyan  1002 4096 Jul  5 15:00 ..\n",
      "-rw-------  1 jovyan users 1679 Jul  5 15:04 id_rsa\n",
      "-rw-r--r--  1 jovyan users  409 Jul  5 15:04 id_rsa.pub\n",
      "-rw-------  1 jovyan users    0 Jul  5 15:04 known_hosts\n"
     ]
    }
   ],
   "source": [
    "!mkdir -p -m 700 ~/.ssh\n",
    "!touch ~/.ssh/known_hosts && chmod 600 ~/.ssh/known_hosts\n",
    "!test -f ~/.ssh/id_rsa || ssh-keygen -t rsa -f ~/.ssh/id_rsa -N \"\"\n",
    "!ls -la ~/.ssh"
   ]
  },
  {
   "cell_type": "markdown",
   "metadata": {
    "lc_cell_meme": {
     "current": "f589e6e8-dd4a-11eb-80ba-02420a01000d-1-9dc7",
     "next": "f589e7ce-dd4a-11eb-80ba-02420a01000d-1-5a5b",
     "previous": "f589e620-dd4a-11eb-80ba-02420a01000d-1-87b3"
    }
   },
   "source": [
    "次に、クラウドのクレデンシャル情報をVaultに書き込みます。 以下のセルを実行してJupyterNotebookのTerminalを開きます。"
   ]
  },
  {
   "cell_type": "code",
   "execution_count": 2,
   "metadata": {
    "deletable": false,
    "editable": false,
    "lc_cell_meme": {
     "current": "f589e7ce-dd4a-11eb-80ba-02420a01000d-1-5a5b",
     "execution_end_time": "2021-07-05T06:04:29.226879Z",
     "next": "f589e8aa-dd4a-11eb-80ba-02420a01000d-1-2fbb",
     "previous": "f589e6e8-dd4a-11eb-80ba-02420a01000d-1-9dc7"
    },
    "lc_wrapper": {},
    "run_through_control": {
     "frozen": true
    }
   },
   "outputs": [
    {
     "data": {
      "text/html": [
       "<a target=\"_blank\" href=\"/jupyter/terminals/1\">Open Terminal</a>"
      ],
      "text/plain": [
       "<IPython.core.display.HTML object>"
      ]
     },
     "execution_count": 2,
     "metadata": {},
     "output_type": "execute_result"
    }
   ],
   "source": [
    "user = !whoami\n",
    "\n",
    "from IPython.display import HTML\n",
    "HTML('<a target=\"_blank\" href=\"/user/{}/terminals/1\">Open Terminal</a>'.format(user[0]))"
   ]
  },
  {
   "cell_type": "markdown",
   "metadata": {
    "lc_cell_meme": {
     "current": "f589e8aa-dd4a-11eb-80ba-02420a01000d-1-2fbb",
     "next": "f589e986-dd4a-11eb-80ba-02420a01000d-1-927a",
     "previous": "f589e7ce-dd4a-11eb-80ba-02420a01000d-1-5a5b"
    }
   },
   "source": [
    "Terminal上で以下を実行します。\n",
    "\n",
    "```\n",
    "$ sh vault.sh <VCP REST APIアクセストークン文字列>\n",
    "```"
   ]
  },
  {
   "cell_type": "markdown",
   "metadata": {
    "lc_cell_meme": {
     "current": "f589e986-dd4a-11eb-80ba-02420a01000d-1-927a",
     "next": "f589ea4e-dd4a-11eb-80ba-02420a01000d-1-d9aa",
     "previous": "f589e8aa-dd4a-11eb-80ba-02420a01000d-1-2fbb"
    }
   },
   "source": [
    "# Notebook一覧"
   ]
  },
  {
   "cell_type": "markdown",
   "metadata": {
    "lc_cell_meme": {
     "current": "f589ea4e-dd4a-11eb-80ba-02420a01000d-1-d9aa",
     "next": "f589eb2a-dd4a-11eb-80ba-02420a01000d-1-e672",
     "previous": "f589e986-dd4a-11eb-80ba-02420a01000d-1-927a"
    }
   },
   "source": [
    "次のセルを実行するとNotebookの一覧が表示されます。\n",
    "\n",
    "<!---\n",
    "生成するには\n",
    "```\n",
    "from IPython.display import SVG\n",
    "%run scripts/generate-diagram.py\n",
    "SVG(filename=generate_svg_diag(diag='images/notebooks.diag', nb_dir='.', verbose=False))\n",
    "```\n",
    "--->"
   ]
  },
  {
   "cell_type": "code",
   "execution_count": 3,
   "metadata": {
    "deletable": false,
    "editable": false,
    "lc_cell_meme": {
     "current": "f589eb2a-dd4a-11eb-80ba-02420a01000d-1-e672",
     "execution_end_time": "2021-07-05T06:04:34.423229Z",
     "next": null,
     "previous": "f589ea4e-dd4a-11eb-80ba-02420a01000d-1-d9aa"
    },
    "lc_wrapper": {},
    "run_through_control": {
     "frozen": true
    }
   },
   "outputs": [
    {
     "data": {
      "image/svg+xml": [
       "<svg viewBox=\"0 0 1156 760\" xmlns=\"http://www.w3.org/2000/svg\" xmlns:inkspace=\"http://www.inkscape.org/namespaces/inkscape\" xmlns:xlink=\"http://www.w3.org/1999/xlink\">\n",
       "  <defs id=\"defs_block\">\n",
       "    <filter height=\"1.504\" id=\"filter_blur\" inkspace:collect=\"always\" width=\"1.1575\" x=\"-0.07875\" y=\"-0.252\">\n",
       "      <feGaussianBlur id=\"feGaussianBlur3780\" inkspace:collect=\"always\" stdDeviation=\"4.2\"/>\n",
       "    </filter>\n",
       "  </defs>\n",
       "  <title>blockdiag</title>\n",
       "  <desc>blockdiag {\n",
       "    node_width = 300;\n",
       "    node_height = 200;\n",
       "\n",
       "    group {\n",
       "        label = &quot;基本操作&quot;;\n",
       "        shape = line;\n",
       "        style = dashed;\n",
       "        &quot;101&quot; -&gt; &quot;102&quot;;\n",
       "        &quot;101&quot; -&gt; &quot;103&quot; -&gt; &quot;104&quot;;\n",
       "    }\n",
       "\n",
       "    group {\n",
       "        label = &quot;アプリケーションコンテナの実行&quot;;\n",
       "        shape = line;\n",
       "        style = dashed;\n",
       "        orientation = portrait;\n",
       "        &quot;201&quot;;\n",
       "    }\n",
       "}\n",
       "</desc>\n",
       "  <rect fill=\"rgb(0,0,0)\" height=\"200\" stroke=\"rgb(0,0,0)\" style=\"filter:url(#filter_blur);opacity:0.7;fill-opacity:1\" width=\"300\" x=\"67\" y=\"46\"/>\n",
       "  <rect fill=\"rgb(0,0,0)\" height=\"200\" stroke=\"rgb(0,0,0)\" style=\"filter:url(#filter_blur);opacity:0.7;fill-opacity:1\" width=\"300\" x=\"431\" y=\"46\"/>\n",
       "  <rect fill=\"rgb(0,0,0)\" height=\"200\" stroke=\"rgb(0,0,0)\" style=\"filter:url(#filter_blur);opacity:0.7;fill-opacity:1\" width=\"300\" x=\"431\" y=\"286\"/>\n",
       "  <rect fill=\"rgb(0,0,0)\" height=\"200\" stroke=\"rgb(0,0,0)\" style=\"filter:url(#filter_blur);opacity:0.7;fill-opacity:1\" width=\"300\" x=\"795\" y=\"286\"/>\n",
       "  <rect fill=\"rgb(0,0,0)\" height=\"200\" stroke=\"rgb(0,0,0)\" style=\"filter:url(#filter_blur);opacity:0.7;fill-opacity:1\" width=\"300\" x=\"67\" y=\"526\"/>\n",
       "  <rect fill=\"rgb(255,255,255)\" height=\"200\" stroke=\"rgb(0,0,0)\" width=\"300\" x=\"64\" y=\"40\"/>\n",
       "  <text fill=\"rgb(0,0,0)\" font-anchor=\"middle\" font-family=\"sans-serif\" font-size=\"9\" font-style=\"normal\" font-weight=\"normal\" width=\"296\" x=\"66\" y=\"164\">全てのVCノードを削除する</text><text fill=\"rgb(0,0,0)\" font-anchor=\"middle\" font-family=\"sans-serif\" font-size=\"9\" font-style=\"normal\" font-weight=\"normal\" width=\"296\" x=\"66\" y=\"153\">別のクラウド(Microsoft Azure)でVCノードを起動する</text><text fill=\"rgb(0,0,0)\" font-anchor=\"middle\" font-family=\"sans-serif\" font-size=\"9\" font-style=\"normal\" font-weight=\"normal\" width=\"296\" x=\"66\" y=\"142\">VCノードのスケールアウト、スケールイン</text><text fill=\"rgb(0,0,0)\" font-anchor=\"middle\" font-family=\"sans-serif\" font-size=\"9\" font-style=\"normal\" font-weight=\"normal\" width=\"296\" x=\"66\" y=\"131\">GrafanaでVCノードの利用状況を確認する</text><text fill=\"rgb(0,0,0)\" font-anchor=\"middle\" font-family=\"sans-serif\" font-size=\"9\" font-style=\"normal\" font-weight=\"normal\" width=\"296\" x=\"66\" y=\"120\">VCノードに ssh でログインして操作する</text><text fill=\"rgb(0,0,0)\" font-anchor=\"middle\" font-family=\"sans-serif\" font-size=\"9\" font-style=\"normal\" font-weight=\"normal\" width=\"296\" x=\"66\" y=\"109\">VCノード(Amazon EC2インスタンス)の起動</text><text fill=\"rgb(0,0,0)\" font-anchor=\"middle\" font-family=\"sans-serif\" font-size=\"9\" font-style=\"italic\" font-weight=\"normal\" width=\"296\" x=\"66\" y=\"85\"/><a xlink:href=\"./101-VCノードの起動、削除.ipynb\"><text fill=\"rgb(0,0,0)\" font-anchor=\"middle\" font-family=\"sans-serif\" font-size=\"11\" font-style=\"normal\" font-weight=\"bold\" width=\"296\" x=\"66\" y=\"56\">101: VCノードの</text><text fill=\"rgb(0,0,0)\" font-anchor=\"middle\" font-family=\"sans-serif\" font-size=\"11\" font-style=\"normal\" font-weight=\"bold\" width=\"296\" x=\"66\" y=\"69\">起動、削除</text></a><rect fill=\"rgb(255,255,255)\" height=\"200\" stroke=\"rgb(0,0,0)\" width=\"300\" x=\"428\" y=\"40\"/>\n",
       "  <text fill=\"rgb(0,0,0)\" font-anchor=\"middle\" font-family=\"sans-serif\" font-size=\"9\" font-style=\"normal\" font-weight=\"normal\" width=\"296\" x=\"430\" y=\"131\">AWSの認証情報を Vaultサーバから読み込むようにVCP SDKの設定を変更する</text><text fill=\"rgb(0,0,0)\" font-anchor=\"middle\" font-family=\"sans-serif\" font-size=\"9\" font-style=\"normal\" font-weight=\"normal\" width=\"296\" x=\"430\" y=\"120\">Vaultサーバにアクセスする</text><text fill=\"rgb(0,0,0)\" font-anchor=\"middle\" font-family=\"sans-serif\" font-size=\"9\" font-style=\"normal\" font-weight=\"normal\" width=\"296\" x=\"430\" y=\"109\">Vaultサーバにアクセスするための準備</text><text fill=\"rgb(0,0,0)\" font-anchor=\"middle\" font-family=\"sans-serif\" font-size=\"9\" font-style=\"italic\" font-weight=\"normal\" width=\"296\" x=\"430\" y=\"85\"/><a xlink:href=\"./102-秘密情報管理サーバの利用.ipynb\"><text fill=\"rgb(0,0,0)\" font-anchor=\"middle\" font-family=\"sans-serif\" font-size=\"11\" font-style=\"normal\" font-weight=\"bold\" width=\"296\" x=\"430\" y=\"56\">102: 秘密情報管理サーバの</text><text fill=\"rgb(0,0,0)\" font-anchor=\"middle\" font-family=\"sans-serif\" font-size=\"11\" font-style=\"normal\" font-weight=\"bold\" width=\"296\" x=\"430\" y=\"69\">利用</text></a><rect fill=\"rgb(255,255,255)\" height=\"200\" stroke=\"rgb(0,0,0)\" width=\"300\" x=\"428\" y=\"280\"/>\n",
       "  <text fill=\"rgb(0,0,0)\" font-anchor=\"middle\" font-family=\"sans-serif\" font-size=\"9\" font-style=\"normal\" font-weight=\"normal\" width=\"296\" x=\"430\" y=\"393\">後始末</text><text fill=\"rgb(0,0,0)\" font-anchor=\"middle\" font-family=\"sans-serif\" font-size=\"9\" font-style=\"normal\" font-weight=\"normal\" width=\"296\" x=\"430\" y=\"382\">Ansibleを利用した VCノードの操作（続き）</text><text fill=\"rgb(0,0,0)\" font-anchor=\"middle\" font-family=\"sans-serif\" font-size=\"9\" font-style=\"normal\" font-weight=\"normal\" width=\"296\" x=\"430\" y=\"371\">Ansibleを利用した VCノードの操作</text><text fill=\"rgb(0,0,0)\" font-anchor=\"middle\" font-family=\"sans-serif\" font-size=\"9\" font-style=\"normal\" font-weight=\"normal\" width=\"296\" x=\"430\" y=\"360\">sshで VCノードを操作する</text><text fill=\"rgb(0,0,0)\" font-anchor=\"middle\" font-family=\"sans-serif\" font-size=\"9\" font-style=\"normal\" font-weight=\"normal\" width=\"296\" x=\"430\" y=\"349\">VCノードを起動する</text><text fill=\"rgb(0,0,0)\" font-anchor=\"middle\" font-family=\"sans-serif\" font-size=\"9\" font-style=\"italic\" font-weight=\"normal\" width=\"296\" x=\"430\" y=\"325\"/><a xlink:href=\"./103-Ansibleを利用したVCノードの操作.ipynb\"><text fill=\"rgb(0,0,0)\" font-anchor=\"middle\" font-family=\"sans-serif\" font-size=\"11\" font-style=\"normal\" font-weight=\"bold\" width=\"296\" x=\"430\" y=\"296\">103: Ansibleを利用したVCノードの</text><text fill=\"rgb(0,0,0)\" font-anchor=\"middle\" font-family=\"sans-serif\" font-size=\"11\" font-style=\"normal\" font-weight=\"bold\" width=\"296\" x=\"430\" y=\"309\">操作</text></a><rect fill=\"rgb(255,255,255)\" height=\"200\" stroke=\"rgb(0,0,0)\" width=\"300\" x=\"792\" y=\"280\"/>\n",
       "  <text fill=\"rgb(0,0,0)\" font-anchor=\"middle\" font-family=\"sans-serif\" font-size=\"9\" font-style=\"normal\" font-weight=\"normal\" width=\"296\" x=\"794\" y=\"426\">後始末</text><text fill=\"rgb(0,0,0)\" font-anchor=\"middle\" font-family=\"sans-serif\" font-size=\"9\" font-style=\"normal\" font-weight=\"normal\" width=\"296\" x=\"794\" y=\"415\">新たなVCノードにVCディスクを再びアタッチする</text><text fill=\"rgb(0,0,0)\" font-anchor=\"middle\" font-family=\"sans-serif\" font-size=\"9\" font-style=\"normal\" font-weight=\"normal\" width=\"296\" x=\"794\" y=\"404\">VCノードの削除</text><text fill=\"rgb(0,0,0)\" font-anchor=\"middle\" font-family=\"sans-serif\" font-size=\"9\" font-style=\"normal\" font-weight=\"normal\" width=\"296\" x=\"794\" y=\"393\">NFSクライアントの設定</text><text fill=\"rgb(0,0,0)\" font-anchor=\"middle\" font-family=\"sans-serif\" font-size=\"9\" font-style=\"normal\" font-weight=\"normal\" width=\"296\" x=\"794\" y=\"382\">NFSサーバの設定</text><text fill=\"rgb(0,0,0)\" font-anchor=\"middle\" font-family=\"sans-serif\" font-size=\"9\" font-style=\"normal\" font-weight=\"normal\" width=\"296\" x=\"794\" y=\"371\">NFSクライアント用VCノードの起動</text><text fill=\"rgb(0,0,0)\" font-anchor=\"middle\" font-family=\"sans-serif\" font-size=\"9\" font-style=\"normal\" font-weight=\"normal\" width=\"296\" x=\"794\" y=\"360\">NFSサーバ用VCノードの起動</text><text fill=\"rgb(0,0,0)\" font-anchor=\"middle\" font-family=\"sans-serif\" font-size=\"9\" font-style=\"normal\" font-weight=\"normal\" width=\"296\" x=\"794\" y=\"349\">ディスクの作成</text><text fill=\"rgb(0,0,0)\" font-anchor=\"middle\" font-family=\"sans-serif\" font-size=\"9\" font-style=\"italic\" font-weight=\"normal\" width=\"296\" x=\"794\" y=\"325\"/><a xlink:href=\"./104-VCディスク（Amazon EBS）を利用したVCノードの起動、削除、再起動.ipynb\"><text fill=\"rgb(0,0,0)\" font-anchor=\"middle\" font-family=\"sans-serif\" font-size=\"11\" font-style=\"normal\" font-weight=\"bold\" width=\"296\" x=\"794\" y=\"296\">104: VCディスク(Amazon EBS)を利用したVCノードの</text><text fill=\"rgb(0,0,0)\" font-anchor=\"middle\" font-family=\"sans-serif\" font-size=\"11\" font-style=\"normal\" font-weight=\"bold\" width=\"296\" x=\"794\" y=\"309\">起動、削除、再起動</text></a><rect fill=\"rgb(255,255,255)\" height=\"200\" stroke=\"rgb(0,0,0)\" width=\"300\" x=\"64\" y=\"520\"/>\n",
       "  <text fill=\"rgb(0,0,0)\" font-anchor=\"middle\" font-family=\"sans-serif\" font-size=\"9\" font-style=\"normal\" font-weight=\"normal\" width=\"296\" x=\"66\" y=\"622\">後始末</text><text fill=\"rgb(0,0,0)\" font-anchor=\"middle\" font-family=\"sans-serif\" font-size=\"9\" font-style=\"normal\" font-weight=\"normal\" width=\"296\" x=\"66\" y=\"611\">GPU環境の利用</text><text fill=\"rgb(0,0,0)\" font-anchor=\"middle\" font-family=\"sans-serif\" font-size=\"9\" font-style=\"normal\" font-weight=\"normal\" width=\"296\" x=\"66\" y=\"600\">GPU環境の確認</text><text fill=\"rgb(0,0,0)\" font-anchor=\"middle\" font-family=\"sans-serif\" font-size=\"9\" font-style=\"normal\" font-weight=\"normal\" width=\"296\" x=\"66\" y=\"589\">GPU用VCノードを起動する</text><text fill=\"rgb(0,0,0)\" font-anchor=\"middle\" font-family=\"sans-serif\" font-size=\"9\" font-style=\"italic\" font-weight=\"normal\" width=\"296\" x=\"66\" y=\"565\"/><a xlink:href=\"./201-GPUインスタンスの利用.ipynb\"><text fill=\"rgb(0,0,0)\" font-anchor=\"middle\" font-family=\"sans-serif\" font-size=\"11\" font-style=\"normal\" font-weight=\"bold\" width=\"296\" x=\"66\" y=\"536\">201: GPUの</text><text fill=\"rgb(0,0,0)\" font-anchor=\"middle\" font-family=\"sans-serif\" font-size=\"11\" font-style=\"normal\" font-weight=\"bold\" width=\"296\" x=\"66\" y=\"549\">利用</text></a><path d=\"M 364 140 L 420 140\" fill=\"none\" stroke=\"rgb(0,0,0)\"/>\n",
       "  <polygon fill=\"rgb(0,0,0)\" points=\"427,140 420,136 420,144 427,140\" stroke=\"rgb(0,0,0)\"/>\n",
       "  <path d=\"M 364 140 L 396 140\" fill=\"none\" stroke=\"rgb(0,0,0)\"/>\n",
       "  <path d=\"M 396 140 L 396 380\" fill=\"none\" stroke=\"rgb(0,0,0)\"/>\n",
       "  <path d=\"M 396 380 L 420 380\" fill=\"none\" stroke=\"rgb(0,0,0)\"/>\n",
       "  <polygon fill=\"rgb(0,0,0)\" points=\"427,380 420,376 420,384 427,380\" stroke=\"rgb(0,0,0)\"/>\n",
       "  <path d=\"M 728 380 L 784 380\" fill=\"none\" stroke=\"rgb(0,0,0)\"/>\n",
       "  <polygon fill=\"rgb(0,0,0)\" points=\"791,380 784,376 784,384 791,380\" stroke=\"rgb(0,0,0)\"/>\n",
       "  <rect fill=\"none\" height=\"460\" stroke=\"rgb(243,152,0)\" stroke-dasharray=\"12\" stroke-width=\"3\" width=\"1044\" x=\"56\" y=\"30\"/>\n",
       "  <rect fill=\"none\" height=\"220\" stroke=\"rgb(243,152,0)\" stroke-dasharray=\"12\" stroke-width=\"3\" width=\"316\" x=\"56\" y=\"510\"/>\n",
       "  <text fill=\"rgb(0,0,0)\" font-family=\"sans-serif\" font-size=\"11\" font-style=\"normal\" font-weight=\"normal\" text-anchor=\"middle\" textLength=\"44\" x=\"578.0\" y=\"36\">基本操作</text>\n",
       "  <text fill=\"rgb(0,0,0)\" font-family=\"sans-serif\" font-size=\"11\" font-style=\"normal\" font-weight=\"normal\" text-anchor=\"middle\" textLength=\"165\" x=\"214.5\" y=\"516\">アプリケーションコンテナの実行</text>\n",
       "</svg>"
      ],
      "text/plain": [
       "<IPython.core.display.SVG object>"
      ]
     },
     "execution_count": 3,
     "metadata": {},
     "output_type": "execute_result"
    }
   ],
   "source": [
    "from IPython.core.display import SVG\n",
    "SVG(filename='images/notebooks.svg')"
   ]
  }
 ],
 "metadata": {
  "kernelspec": {
   "display_name": "Python 3",
   "language": "python",
   "name": "python3"
  },
  "language_info": {
   "file_extension": ".py",
   "mimetype": "text/x-python",
   "name": "python",
   "nbconvert_exporter": "python",
   "pygments_lexer": "ipython3",
   "version": "3.7.6"
  },
  "toc": {
   "base_numbering": 1,
   "nav_menu": {},
   "number_sections": true,
   "sideBar": true,
   "skip_h1_title": false,
   "title_cell": "Table of Contents",
   "title_sidebar": "Contents",
   "toc_cell": false,
   "toc_position": {},
   "toc_section_display": "block",
   "toc_window_display": true
  }
 },
 "nbformat": 4,
 "nbformat_minor": 2
}
