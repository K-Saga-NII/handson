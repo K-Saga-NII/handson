{
 "cells": [
  {
   "cell_type": "markdown",
   "metadata": {
    "lc_cell_meme": {
     "current": "3a8e1478-c2df-11e8-9925-0242ac110002",
     "next": "3a8e1540-c2df-11e8-9925-0242ac110002",
     "previous": null
    }
   },
   "source": [
    "# README"
   ]
  },
  {
   "cell_type": "markdown",
   "metadata": {
    "lc_cell_meme": {
     "current": "3a8e1540-c2df-11e8-9925-0242ac110002",
     "next": "3a8e15ea-c2df-11e8-9925-0242ac110002",
     "previous": "3a8e1478-c2df-11e8-9925-0242ac110002"
    }
   },
   "source": [
    "# 実行環境の前提条件"
   ]
  },
  {
   "cell_type": "markdown",
   "metadata": {
    "lc_cell_meme": {
     "current": "3a8e15ea-c2df-11e8-9925-0242ac110002",
     "next": "3a8e168a-c2df-11e8-9925-0242ac110002",
     "previous": "3a8e1540-c2df-11e8-9925-0242ac110002"
    }
   },
   "source": [
    "* Notebook環境\n",
    "  - [Jupyter Notebook for Literate Computing for Reproducible Infrastructure](https://github.com/NII-cloud-operation/Jupyter-LC_docker)\n",
    "* VCP SDK\n",
    "  - バージョン: 18.10.0\n",
    "* クラウドプロバイダ\n",
    "  - AWS\n",
    "  - Microsoft Azure\n",
    "    \n",
    "<!---\n",
    "  - VCPSDK APIドキュメント\n",
    "    + /notebooks/notebook/DOC/ に配置されていることを想定しています\n",
    "--->"
   ]
  },
  {
   "cell_type": "markdown",
   "metadata": {
    "lc_cell_meme": {
     "current": "3a8e168a-c2df-11e8-9925-0242ac110002",
     "next": "3a8e172a-c2df-11e8-9925-0242ac110002",
     "previous": "3a8e15ea-c2df-11e8-9925-0242ac110002"
    }
   },
   "source": [
    "# VCP SDK"
   ]
  },
  {
   "cell_type": "markdown",
   "metadata": {
    "lc_cell_meme": {
     "current": "3a8e172a-c2df-11e8-9925-0242ac110002",
     "history": [
      {
       "current": "3a8e172a-c2df-11e8-9925-0242ac110002",
       "next": "3a8e17c0-c2df-11e8-9925-0242ac110002",
       "previous": "3a8e168a-c2df-11e8-9925-0242ac110002"
      }
     ],
     "next": "3a8e1860-c2df-11e8-9925-0242ac110002",
     "previous": "3a8e168a-c2df-11e8-9925-0242ac110002"
    }
   },
   "source": [
    "## VCP SDKとは？"
   ]
  },
  {
   "attachments": {},
   "cell_type": "markdown",
   "metadata": {
    "lc_cell_meme": {
     "current": "3a8e1860-c2df-11e8-9925-0242ac110002",
     "history": [
      {
       "current": "3a8e1860-c2df-11e8-9925-0242ac110002",
       "next": "3a8e18ec-c2df-11e8-9925-0242ac110002",
       "previous": "3a8e17c0-c2df-11e8-9925-0242ac110002"
      }
     ],
     "next": "3a8e198c-c2df-11e8-9925-0242ac110002",
     "previous": "3a8e172a-c2df-11e8-9925-0242ac110002"
    }
   },
   "source": [
    "![000-003.png](images/000-003.png)\n",
    "\n",
    "* VCPを操作するための Python3 ライブラリ\n",
    "* VCコントローラの REST API に対するラッパーライブラリ(vcplib)を呼び出している\n",
    "* クラウドごとの制御APIの差異を吸収\n",
    "* 仮想マシン(Amazon EC2インスタンス, Microsoft Azure VM, ...)などの計算資源と、Amazon EBS, Microsoft Azure Managed Disksなどの記録媒体を作成、削除することができる"
   ]
  },
  {
   "attachments": {},
   "cell_type": "markdown",
   "metadata": {
    "heading_collapsed": true,
    "lc_cell_meme": {
     "current": "3a8e198c-c2df-11e8-9925-0242ac110002",
     "history": [
      {
       "current": "3a8e198c-c2df-11e8-9925-0242ac110002",
       "next": "3a8e1a22-c2df-11e8-9925-0242ac110002",
       "previous": "3a8e18ec-c2df-11e8-9925-0242ac110002"
      }
     ],
     "next": "3a8e1a22-c2df-11e8-9925-0242ac110002",
     "previous": "3a8e1860-c2df-11e8-9925-0242ac110002"
    }
   },
   "source": [
    "## 基本的な構成要素\n",
    "\n",
    "VCP SDKが扱う構成要素を以下に記します。\n",
    "\n",
    "* VC(Virtual Cloud)\n",
    "  - 複数のクラウドにまたがって構築されたひとつの仮想システム環境\n",
    "* UnitGroup\n",
    "  - 複数のUnitをまとめて扱うためのものです\n",
    "  - サーバ、クライアントなどの相互に関係をもつ異質なNode群をグループとしてまとめます\n",
    "  - `compute` と `storage` の2つのタイプがあります\n",
    "    + `compute` は仮想マシンなどの計算資源で構成されています\n",
    "    + `storage` はブロックデバイスなどの記録媒体で構成されています\n",
    "* Unit\n",
    "  - 同質（同じ計算資源(cpu, memory, ...)、同じクラウド、同じ用途、...）であるNodeをまとめて扱うためのものです\n",
    "  - Unitに属するNodeをスケールアウト、スケールインすることができます\n",
    "* Node\n",
    "  - UnitGroupを構成する個々のノード\n",
    "  - UnitGroupのタイプが `compute`の場合\n",
    "    - [Amazon EC2インスタンス](https://aws.amazon.com/jp/ec2/), [Microsoft Azure VM](https://azure.microsoft.com/ja-jp/services/virtual-machines/) など\n",
    "    - VCP SDKではこのNodeをVCノードと呼びます\n",
    "  - UnitGroupのタイプが `storage`の場合\n",
    "    - [Amazon EBS](https://aws.amazon.com/jp/ebs/), [Microsoft Azure Managed Disks](https://azure.microsoft.com/ja-jp/services/storage/disks/) など\n",
    "    - VCP SDKではこのNodeをVCディスクと呼びます\n",
    "\n",
    "VC, UnitGroup, Unit の例を以下の図に示します。\n",
    "\n",
    "![VC](images/000-001.png)"
   ]
  },
  {
   "cell_type": "markdown",
   "metadata": {
    "hidden": true,
    "lc_cell_meme": {
     "current": "3a8e1a22-c2df-11e8-9925-0242ac110002",
     "next": "3a8e1aae-c2df-11e8-9925-0242ac110002",
     "previous": "3a8e198c-c2df-11e8-9925-0242ac110002"
    }
   },
   "source": [
    "* UnitGroup1: ３つの Unit から構成されている `compute` タイプのUnitGroup\n",
    "  - Unit1A\n",
    "    * Amazon EC2 m5.large インスタンスで構成されている Unit\n",
    "  - Unit1B\n",
    "    * Amazon EC2 c5.large インスタンスで構成されている Unit\n",
    "  - Unit1C\n",
    "    * Microsoft Azure VM NV6 で構成されている Unit\n",
    "* UnitGroup2: ３つの Unit から構成されている compute タイプのUnitGroup\n",
    "  - Unit2A\n",
    "    * Amazon EC2 m5.large で構成されている Unit\n",
    "  - Unit2B\n",
    "    * Amazon EC2 m5.large で構成されている Unit\n",
    "  - Unit2C\n",
    "    * Microsoft Azure VM D2 v3 で構成されている Unit\n",
    "* UnitGroup3: １つの Unit から構成されている storage タイプのUnitGroup\n",
    "  - Unit3\n",
    "    * Amazon EBS から構成されている Unit"
   ]
  },
  {
   "cell_type": "markdown",
   "metadata": {
    "lc_cell_meme": {
     "current": "3a8e1aae-c2df-11e8-9925-0242ac110002",
     "next": "3a8e1b44-c2df-11e8-9925-0242ac110002",
     "previous": "3a8e1a22-c2df-11e8-9925-0242ac110002"
    }
   },
   "source": [
    "## VCノードについて"
   ]
  },
  {
   "cell_type": "markdown",
   "metadata": {
    "lc_cell_meme": {
     "current": "3a8e1b44-c2df-11e8-9925-0242ac110002",
     "history": [
      {
       "current": "3a8e1b44-c2df-11e8-9925-0242ac110002",
       "next": "3a8e1be4-c2df-11e8-9925-0242ac110002",
       "previous": "3a8e1aae-c2df-11e8-9925-0242ac110002"
      }
     ],
     "next": "3a8e1c7a-c2df-11e8-9925-0242ac110002",
     "previous": "3a8e1aae-c2df-11e8-9925-0242ac110002"
    }
   },
   "source": [
    "VCPの計算資源として利用できる環境はパブリッククラウドの仮想マシン(Amazon EC2, Microsoft Azure VM, ...)やベアメタル(BM)など多岐にわたっています。VCPではそのいずれに対しても同一の環境を提供できるようにするために[Docker コンテナ](https://www.docker.com/)を利用しています。クラウド上のVM/BMをVCノードとして組み入れる際にVCPが各VM/BMに共通環境となるコンテナを起動します。VCPではこのコンテナのことをBaseコンテナと呼んでいます。またBaseコンテナはVCノードのモニタリングなどのVCPの共通機能を提供するための役割も担っています。"
   ]
  },
  {
   "attachments": {},
   "cell_type": "markdown",
   "metadata": {
    "lc_cell_meme": {
     "current": "3a8e1c7a-c2df-11e8-9925-0242ac110002",
     "history": [
      {
       "current": "3a8e1c7a-c2df-11e8-9925-0242ac110002",
       "next": "3a8e1d10-c2df-11e8-9925-0242ac110002",
       "previous": "3a8e1be4-c2df-11e8-9925-0242ac110002"
      }
     ],
     "next": "3a8e1d10-c2df-11e8-9925-0242ac110002",
     "previous": "3a8e1b44-c2df-11e8-9925-0242ac110002"
    }
   },
   "source": [
    "![BC](images/000-002.png)\n",
    "\n",
    "標準のBaseコンテナは以下のような特徴を有しています。\n",
    "\n",
    "* [Alpine Linux コンテナ](https://hub.docker.com/_/alpine/)\n",
    "* sshでログイン可能\n",
    "* docker 実行環境(Docker in Docker)\n",
    "\n",
    "標準のBaseコンテナは Alpine Linuxベースですが、他に Ubuntuベース、CentOSベースのものも用意しています。\n",
    "また汎用的なBaseコンテナ以外にNFSサーバやGPU利用などの特定目的をもったBaseコンテナを用意しています。"
   ]
  },
  {
   "cell_type": "markdown",
   "metadata": {
    "lc_cell_meme": {
     "current": "3a8e1d10-c2df-11e8-9925-0242ac110002",
     "next": "3a8e1db0-c2df-11e8-9925-0242ac110002",
     "previous": "3a8e1c7a-c2df-11e8-9925-0242ac110002"
    }
   },
   "source": [
    "# ハンズオン環境へのアクセス（参考）"
   ]
  },
  {
   "attachments": {},
   "cell_type": "markdown",
   "metadata": {
    "lc_cell_meme": {
     "current": "3a8e1db0-c2df-11e8-9925-0242ac110002",
     "history": [
      {
       "current": "3a8e1db0-c2df-11e8-9925-0242ac110002",
       "next": "3a8e1e46-c2df-11e8-9925-0242ac110002",
       "previous": "3a8e1d10-c2df-11e8-9925-0242ac110002"
      }
     ],
     "next": "3a8e1ee6-c2df-11e8-9925-0242ac110002",
     "previous": "3a8e1d10-c2df-11e8-9925-0242ac110002"
    }
   },
   "source": [
    "ハンズオンのNotebook環境にはAWSのパブリックサブネットに配置したNATインスタンスのリバースプロキシ(Nginx)を経由してアクセスできるように設定されています。Notebook環境とVCP SDKによって起動されるVCノードはプライベートサブネットに配置されます。\n",
    "\n",
    "![ハンズオン環境](images/000-004.png)"
   ]
  },
  {
   "cell_type": "markdown",
   "metadata": {
    "heading_collapsed": true,
    "lc_cell_meme": {
     "current": "3a8e1ee6-c2df-11e8-9925-0242ac110002",
     "history": [
      {
       "current": "3a8e1ee6-c2df-11e8-9925-0242ac110002",
       "next": "3a8e1f72-c2df-11e8-9925-0242ac110002",
       "previous": "3a8e1e46-c2df-11e8-9925-0242ac110002"
      }
     ],
     "next": "3a8e1f72-c2df-11e8-9925-0242ac110002",
     "previous": "3a8e1db0-c2df-11e8-9925-0242ac110002"
    }
   },
   "source": [
    "# 準備\n",
    "\n",
    "この後に実行するNotebookで必要となるSSHの公開鍵認証のための鍵ファイルを作成します。\n",
    "作成したSSHの鍵ファイルはこのNotebook環境からVCノードにログインする際に利用します。"
   ]
  },
  {
   "cell_type": "markdown",
   "metadata": {
    "hidden": true,
    "lc_cell_meme": {
     "current": "3a8e1f72-c2df-11e8-9925-0242ac110002",
     "next": "3a8e2008-c2df-11e8-9925-0242ac110002",
     "previous": "3a8e1ee6-c2df-11e8-9925-0242ac110002"
    }
   },
   "source": [
    "次のセルを実行してください。"
   ]
  },
  {
   "cell_type": "code",
   "execution_count": 1,
   "metadata": {
    "deletable": false,
    "editable": false,
    "hidden": true,
    "lc_cell_meme": {
     "current": "3a8e2008-c2df-11e8-9925-0242ac110002",
     "next": "3a8e20a8-c2df-11e8-9925-0242ac110002",
     "previous": "3a8e1f72-c2df-11e8-9925-0242ac110002"
    },
    "run_through_control": {
     "frozen": true,
     "read_only": false
    }
   },
   "outputs": [
    {
     "name": "stdout",
     "output_type": "stream",
     "text": [
      "total 40\r\n",
      "drwx------  2 bit_kun users 4096 Sep 21 18:03 .\r\n",
      "drwxr-xr-x 25 bit_kun users 4096 Sep 21 18:23 ..\r\n",
      "-rw-r--r--  1 bit_kun users  222 Sep 21 18:03 config\r\n",
      "-rw-------  1 bit_kun users 1676 Jul 29 16:55 id_rsa\r\n",
      "-rw-------  1 bit_kun users 3760 Sep  7 20:33 known_hosts\r\n",
      "-rw-------  1 bit_kun users 2212 Aug 20 14:57 known_hosts.old\r\n"
     ]
    }
   ],
   "source": [
    "!mkdir -p ~/.ssh\n",
    "!test -f ~/.ssh/id_rsa || ssh-keygen -t rsa -f ~/.ssh/id_rsa -N \"\"\n",
    "!ls -la ~/.ssh"
   ]
  },
  {
   "cell_type": "markdown",
   "metadata": {
    "lc_cell_meme": {
     "current": "3a8e20a8-c2df-11e8-9925-0242ac110002",
     "next": "3a8e2134-c2df-11e8-9925-0242ac110002",
     "previous": "3a8e2008-c2df-11e8-9925-0242ac110002"
    }
   },
   "source": [
    "# Notebook一覧"
   ]
  },
  {
   "attachments": {},
   "cell_type": "markdown",
   "metadata": {
    "lc_cell_meme": {
     "current": "3a8e2134-c2df-11e8-9925-0242ac110002",
     "next": null,
     "previous": "3a8e20a8-c2df-11e8-9925-0242ac110002"
    }
   },
   "source": [
    "![notebooks.svg](images/notebooks.svg)"
   ]
  }
 ],
 "metadata": {
  "kernelspec": {
   "display_name": "Python 3",
   "language": "python",
   "name": "python3"
  },
  "language_info": {
   "codemirror_mode": {
    "name": "ipython",
    "version": 3
   },
   "file_extension": ".py",
   "mimetype": "text/x-python",
   "name": "python",
   "nbconvert_exporter": "python",
   "pygments_lexer": "ipython3",
   "version": "3.5.2"
  },
  "lc_notebook_meme": {
   "current": "3a8e12a2-c2df-11e8-9925-0242ac110002",
   "lc_server_signature": {
    "current": {
     "notebook_dir": "/notebooks/notebook",
     "notebook_path": "/handson/vcp-tutorial",
     "server_url": "http://13.231.115.112:8888/red/",
     "signature_id": "9618e102-9304-11e8-ab91-0242ac110002"
    },
    "history": []
   }
  },
  "toc": {
   "nav_menu": {},
   "number_sections": true,
   "sideBar": true,
   "skip_h1_title": false,
   "toc_cell": false,
   "toc_position": {},
   "toc_section_display": "block",
   "toc_window_display": false
  }
 },
 "nbformat": 4,
 "nbformat_minor": 2
}
