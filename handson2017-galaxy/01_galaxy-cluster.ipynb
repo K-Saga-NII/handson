{
 "cells": [
  {
   "cell_type": "markdown",
   "metadata": {
    "lc_cell_meme": {
     "current": "02686b48-6138-11e7-8a3b-9660ba7e074f",
     "history": [
     ],
     "next": "7e03786e-6233-11e7-bf4a-0eddbbd8be7a",
     "previous": null
    }
   },
   "source": [
    "# Construct a virtual cloud for Galaxy + SLURM cluster\n",
    "\n",
    "\n",
    "AWSクラウドの上にGalaxyクラスタ環境の VC (Virtual Cloud) を作成する。\n",
    "- Galaxyサーバとそのジョブ実行先となる計算ノード群をSLURMクラスタとして構成する。\n",
    "- RNA-Seq用マッピングツールのHISAT2をGalaxyツールとして登録し、SLURMノード上で実行可能な環境を構築する。"
   ]
  },
  {
   "cell_type": "markdown",
   "metadata": {
    "lc_cell_meme": {
     "current": "7e03786e-6233-11e7-bf4a-0eddbbd8be7a",
     "history": [
     ],
     "next": "e543ba18-d83d-11e7-8605-0242ac110002",
     "previous": "02686b48-6138-11e7-8a3b-9660ba7e074f"
    }
   },
   "source": [
    "![galaxy-slurm-cluster](media/galaxy-slurm.png)\n",
    "\n",
    "| VC Node | Cloud (type) | Role |\n",
    "|:--------|:-------------|:----------------------|\n",
    "| 1 | AWS EC2 (m4.large) | NFS, Galaxy, SLURM Controller |\n",
    "| 2 | AWS EC2 (m4.2xlarge) | SLURM Node \\#1 |\n",
    "| 3 | AWS EC2 (m4.2xlarge) | SLURM Node \\#2 |"
   ]
  },
  {
   "cell_type": "markdown",
   "metadata": {
    "lc_cell_meme": {
     "current": "e543ba18-d83d-11e7-8605-0242ac110002",
     "next": "e543bc02-d83d-11e7-8605-0242ac110002",
     "previous": "7e03786e-6233-11e7-bf4a-0eddbbd8be7a"
    }
   },
   "source": [
    "----\n",
    "| 本Notebookで使用する用語について | |\n",
    "|:--|:--|\n",
    "| VC (Virtual Cloud) | Dockerコンテナを使用して複数のクラウドにまたがって構築された一つの仮想システム環境 |\n",
    "| VC Node | VCを構成する個々のノード。<br>各クラウドから確保したクラウドインスタンス（VMもしくはBaremetal）とその上で独占的に動作するBaseコンテナから構成される |\n",
    "| VC Unit | 同質（同じクラウド・同じフレーバ・同じ Base コンテナ）な VC Node を一括して取り扱うための単位 |\n",
    "| Base コンテナ | VC Node 上で独占的に動作する Docker コンテナ。<br>コンテナ内でDocker Engineが稼働し、Docker in Docker 構成でApplicationコンテナを起動することができる。 |\n",
    "| Application コンテナ | Base コンテナ内で Docker in Docker により起動するコンテナ |\n",
    "| Base ネットワーク | Base コンテナ間をL2接続する仮想ネットワーク <br> SINET L2VPNに直結しない商用クラウドなどはL3レベルで接続される |"
   ]
  },
  {
   "cell_type": "markdown",
   "metadata": {
    "lc_cell_meme": {
     "current": "e543bc02-d83d-11e7-8605-0242ac110002",
     "next": "bc156b58-6139-11e7-8a3b-9660ba7e074f",
     "previous": "e543ba18-d83d-11e7-8605-0242ac110002"
    }
   },
   "source": [
    "# Create a new VC\n",
    "\n",
    "新規にGalaxyクラスタ用 VC を作成する作業の流れは以下のようになる。\n",
    "1. Galaxyサーバ用 VC Node 作成\n",
    "2. SLURMクラスタ用 VC Node 作成\n",
    "3. 各 VC Node への SSH 接続設定\n",
    "4. 共有ストレージ（AWSクラウドでは EBS ボリューム）のマウント\n",
    "5. Galaxyサーバアプリケーション（コンテナ）起動\n",
    "6. SLURMクラスタ（コンテナ）起動\n",
    "7. Galaxyツール（HISAT2）設定\n",
    "8. ツール実行 ＆ Grafanaダッシュボードによる負荷状況確認\n",
    "\n",
    "----\n",
    "まず、最初に下図の赤枠・青枠で示した各VC Nodeを作成する。\n",
    "\n",
    "![galaxy-slurm-cluster](media/galaxy-slurm-2.png)"
   ]
  },
  {
   "cell_type": "markdown",
   "metadata": {
    "lc_cell_meme": {
     "current": "bc156b58-6139-11e7-8a3b-9660ba7e074f",
     "history": [
     ],
     "next": "03200d96-613a-11e7-8a3b-9660ba7e074f",
     "previous": "e543bc02-d83d-11e7-8605-0242ac110002"
    }
   },
   "source": [
    "## Configure VCC parameters\n",
    "\n",
    "使用するVCコントローラ環境に合わせてパラメータを設定する。"
   ]
  },
  {
   "cell_type": "code",
   "execution_count": 1,
   "metadata": {
    "collapsed": true,
    "lc_cell_meme": {
     "current": "03200d96-613a-11e7-8a3b-9660ba7e074f",
     "history": [
     ],
     "next": "e543bcfc-d83d-11e7-8605-0242ac110002",
     "previous": "bc156b58-6139-11e7-8a3b-9660ba7e074f"
    }
   },
   "outputs": [],
   "source": [
    "# VCC API Access KEY\n",
    "vcp_access_key = 'KEY_FOR_TEST001'\n",
    "\n",
    "# VC Name\n",
    "my_vc_name = \"galaxy-cluster001\"\n",
    "\n",
    "# Galaxy server IP アドレス\n",
    "# ※ 今回のHands-Onでは内部 DNS を使用せず、固定IPで Galaxy を構成する\n",
    "galaxy_server_ip = '172.30.2.100'\n",
    "\n",
    "# EBS Volume ID  [TODO] 別ファイルにして配る\n",
    "# block_storage_id = \"vol-0e9f4fa0c1a52430c\""
   ]
  },
  {
   "cell_type": "markdown",
   "metadata": {
    "lc_cell_meme": {
     "current": "e543bcfc-d83d-11e7-8605-0242ac110002",
     "next": "e543bdce-d83d-11e7-8605-0242ac110002",
     "previous": "03200d96-613a-11e7-8a3b-9660ba7e074f"
    }
   },
   "source": [
    "## Initialize VCP SDK\n",
    "\n",
    "VCP SDKを初期化する。"
   ]
  },
  {
   "cell_type": "code",
   "execution_count": 2,
   "metadata": {
    "collapsed": true,
    "lc_cell_meme": {
     "current": "e543bdce-d83d-11e7-8605-0242ac110002",
     "next": "e543be96-d83d-11e7-8605-0242ac110002",
     "previous": "e543bcfc-d83d-11e7-8605-0242ac110002"
    }
   },
   "outputs": [],
   "source": [
    "import sys; sys.path.append('/notebooks/notebook/')\n",
    "from common import logsetting\n",
    "from vcpsdk import vcpsdk\n",
    "from vcpsdk import vcp_config\n",
    "\n",
    "v = vcpsdk.VcpSDK(vcp_access_key, my_vc_name)\n",
    "block_storage_id = vcp_config.block_storage_id"
   ]
  },
  {
   "cell_type": "code",
   "execution_count": 3,
   "metadata": {
    "lc_cell_meme": {
     "current": "e543be96-d83d-11e7-8605-0242ac110002",
     "next": "e543bf54-d83d-11e7-8605-0242ac110002",
     "previous": "e543bdce-d83d-11e7-8605-0242ac110002"
    }
   },
   "outputs": [
    {
     "name": "stdout",
     "output_type": "stream",
     "text": [
      "vol-0e9f4fa0c1a52430c\n"
     ]
    }
   ],
   "source": [
    "print(block_storage_id)"
   ]
  },
  {
   "cell_type": "markdown",
   "metadata": {
    "lc_cell_meme": {
     "current": "e543bf54-d83d-11e7-8605-0242ac110002",
     "next": "e543c01c-d83d-11e7-8605-0242ac110002",
     "previous": "e543be96-d83d-11e7-8605-0242ac110002"
    }
   },
   "source": [
    "## Create a node for Galaxy\n",
    "\n",
    "- GalaxyサーバおよびSLURMコントローラ用のノードを作成する。\n",
    "- 共有ストレージもこのノードに置くため、Base コンテナとして NFS Server 機能をインストール済みのイメージを使用する。\n",
    "\n",
    "![galaxy-slurm-cluster](media/galaxy-slurm-2-3.png)"
   ]
  },
  {
   "cell_type": "code",
   "execution_count": 4,
   "metadata": {
    "lc_cell_meme": {
     "current": "e543c01c-d83d-11e7-8605-0242ac110002",
     "next": "56d11eac-6221-11e7-8a3b-9660ba7e074f",
     "previous": "e543bf54-d83d-11e7-8605-0242ac110002"
    }
   },
   "outputs": [
    {
     "name": "stdout",
     "output_type": "stream",
     "text": [
      "2017-12-04 16:27:51,732 - INFO - BOOTING ... 0 sec\n",
      "2017-12-04 16:27:57,039 - INFO - BOOTING ... 5 sec\n",
      "2017-12-04 16:28:02,363 - INFO - BOOTING ... 10 sec\n",
      "2017-12-04 16:28:07,688 - INFO - BOOTING ... 15 sec\n",
      "2017-12-04 16:28:12,996 - INFO - BOOTING ... 20 sec\n",
      "2017-12-04 16:28:18,319 - INFO - BOOTING ... 25 sec\n",
      "2017-12-04 16:28:23,629 - INFO - BOOTING ... 30 sec\n",
      "2017-12-04 16:28:28,937 - INFO - BOOTING ... 35 sec\n",
      "2017-12-04 16:28:34,314 - INFO - BOOTING ... 40 sec\n",
      "2017-12-04 16:28:39,654 - INFO - BOOTING ... 45 sec\n",
      "2017-12-04 16:28:45,019 - INFO - BOOTING ... 50 sec\n",
      "2017-12-04 16:28:50,349 - INFO - BOOTING ... 55 sec\n",
      "2017-12-04 16:28:55,682 - INFO - BOOTING ... 60 sec\n",
      "2017-12-04 16:29:00,995 - INFO - BOOTING ... 65 sec\n",
      "2017-12-04 16:29:06,349 - INFO - unit galaxy is RUNNING\n"
     ]
    }
   ],
   "source": [
    "#\n",
    "# 作成する Node の Spec 情報を作成\n",
    "#\n",
    "spec = v.spec.find_spec(\"aws\", \"small\")\n",
    "\n",
    "# Node 台数を指定 （IPアドレスを指定して起動する場合は、アドレス個数に依存）\n",
    "#spec.num_nodes = 1\n",
    "spec.node_ips = [galaxy_server_ip]\n",
    "\n",
    "# インスタンスタイプを強制指定\n",
    "spec.instance_type = \"m4.large\"\n",
    "\n",
    "# Base Container Image\n",
    "spec.image = 'vcp/base-nfs:1.0'                 \n",
    "\n",
    "# Base Container Options\n",
    "spec.params_v = ['/var/lib/docker', '/dev:/dev']\n",
    "spec.params_e = ['NFS_AUTOSTART=true']\n",
    "\n",
    "# NFS で利用する共有ストレージ用 EBS Volume ID を指定\n",
    "spec.volume_id = [block_storage_id]\n",
    "\n",
    "#\n",
    "# 作成した Spec 情報を利用して Server(Unit) を起動\n",
    "#\n",
    "nodes = v.unit.create(\"galaxy\", spec, wait_for=True, verbose=0)\n",
    "galaxy_node = nodes[0]"
   ]
  },
  {
   "cell_type": "markdown",
   "metadata": {
    "lc_cell_meme": {
     "current": "56d11eac-6221-11e7-8a3b-9660ba7e074f",
     "history": [
     ],
     "next": "56d11f4c-6221-11e7-8a3b-9660ba7e074f",
     "previous": "e543c01c-d83d-11e7-8605-0242ac110002"
    }
   },
   "source": [
    "## Create a node for a SLURM cluster\n",
    "\n",
    "- SLURMクラスタの Compute ノードを作成する。\n",
    "- ここで作成する2台のノードは、Galaxyジョブを実行するための計算ノードとなる。\n",
    "\n",
    "![galaxy-slurm-cluster](media/galaxy-slurm-2-4.png)"
   ]
  },
  {
   "cell_type": "code",
   "execution_count": 5,
   "metadata": {
    "lc_cell_meme": {
     "current": "56d11f4c-6221-11e7-8a3b-9660ba7e074f",
     "next": "cf91ce44-61e1-11e7-8a3b-9660ba7e074f",
     "previous": "56d11eac-6221-11e7-8a3b-9660ba7e074f"
    }
   },
   "outputs": [
    {
     "name": "stdout",
     "output_type": "stream",
     "text": [
      "2017-12-04 16:32:22,142 - INFO - BOOTING ... 0 sec\n",
      "2017-12-04 16:32:27,603 - INFO - BOOTING ... 5 sec\n",
      "2017-12-04 16:32:33,056 - INFO - BOOTING ... 10 sec\n",
      "2017-12-04 16:32:38,534 - INFO - BOOTING ... 15 sec\n",
      "2017-12-04 16:32:44,008 - INFO - BOOTING ... 20 sec\n",
      "2017-12-04 16:32:49,475 - INFO - BOOTING ... 25 sec\n",
      "2017-12-04 16:32:54,968 - INFO - BOOTING ... 30 sec\n",
      "2017-12-04 16:33:00,517 - INFO - BOOTING ... 35 sec\n",
      "2017-12-04 16:33:06,072 - INFO - BOOTING ... 40 sec\n",
      "2017-12-04 16:33:11,594 - INFO - unit galaxy_compute is RUNNING\n"
     ]
    }
   ],
   "source": [
    "#\n",
    "# 作成する Node の Spec 情報を作成\n",
    "#\n",
    "spec = v.spec.find_spec(\"aws\", \"small\")\n",
    "\n",
    "# 作成する Node の個数を指定（今回の構成では計算ノードを2台）\n",
    "spec.num_nodes = 2\n",
    "\n",
    "# インスタンスタイプを強制指定\n",
    "spec.instance_type = \"m4.2xlarge\"\n",
    "\n",
    "# Base Container Image\n",
    "spec.image = 'vcp/base-nfs:1.0'                 \n",
    "\n",
    "# Base Container Options\n",
    "spec.params_v = ['/var/lib/docker', '/dev:/dev']\n",
    "spec.params_e = ['NFS_AUTOSTART=false']\n",
    "\n",
    "#\n",
    "# 作成したSpec情報を利用して、Server(VC Unit)を起動\n",
    "#\n",
    "nodes = v.unit.create(\"galaxy_compute\", spec, wait_for=True, verbose=0)\n",
    "slurm_nodes = nodes"
   ]
  },
  {
   "cell_type": "markdown",
   "metadata": {
    "lc_cell_meme": {
     "current": "cf91ce44-61e1-11e7-8a3b-9660ba7e074f",
     "history": [
     ],
     "next": "51430bec-620a-11e7-8a3b-9660ba7e074f",
     "previous": "56d11f4c-6221-11e7-8a3b-9660ba7e074f"
    }
   },
   "source": [
    "## Confirm the created VC information\n",
    "\n",
    "現在の VC 情報を確認する。"
   ]
  },
  {
   "cell_type": "markdown",
   "metadata": {
    "lc_cell_meme": {
     "current": "51430bec-620a-11e7-8a3b-9660ba7e074f",
     "next": "1717bce2-61e2-11e7-8a3b-9660ba7e074f",
     "previous": "cf91ce44-61e1-11e7-8a3b-9660ba7e074f"
    }
   },
   "source": [
    "### Show a list of launched nodes\n",
    "\n",
    "起動した VC Node 群の情報を取得する。"
   ]
  },
  {
   "cell_type": "code",
   "execution_count": null,
   "metadata": {
    "lc_cell_meme": {
     "current": "1717bce2-61e2-11e7-8a3b-9660ba7e074f",
     "history": [
     ],
     "next": "51430de0-620a-11e7-8a3b-9660ba7e074f",
     "previous": "51430bec-620a-11e7-8a3b-9660ba7e074f"
    },
    "scrolled": false
   },
   "outputs": [],
   "source": [
    "v.unit.df_node()"
   ]
  },
  {
   "cell_type": "markdown",
   "metadata": {
    "lc_cell_meme": {
     "current": "51430de0-620a-11e7-8a3b-9660ba7e074f",
     "next": "1717be5e-61e2-11e7-8a3b-9660ba7e074f",
     "previous": "1717bce2-61e2-11e7-8a3b-9660ba7e074f"
    }
   },
   "source": [
    "共有ストレージのボリューム情報（AWSクラウドではEBSの Volume ID）を確認する。"
   ]
  },
  {
   "cell_type": "code",
   "execution_count": null,
   "metadata": {
    "lc_cell_meme": {
     "current": "1717be5e-61e2-11e7-8a3b-9660ba7e074f",
     "history": [
     ],
     "next": "cf91cfc0-61e1-11e7-8a3b-9660ba7e074f",
     "previous": "51430de0-620a-11e7-8a3b-9660ba7e074f"
    },
    "scrolled": true
   },
   "outputs": [],
   "source": [
    "print(galaxy_node)\n",
    "for vol in galaxy_node.volumes:\n",
    "    print(vol)"
   ]
  },
  {
   "cell_type": "markdown",
   "metadata": {
    "lc_cell_meme": {
     "current": "cf91cfc0-61e1-11e7-8a3b-9660ba7e074f",
     "history": [
     ],
     "next": "0268799e-6138-11e7-8a3b-9660ba7e074f",
     "previous": "1717be5e-61e2-11e7-8a3b-9660ba7e074f"
    }
   },
   "source": [
    "# Prepare SSH setting for VC nodes\n",
    "\n",
    "各VC Nodeに対してSSH公開鍵認証でアクセスできるように準備する。\n",
    "\n",
    "\n",
    "![galaxy-slurm-cluster](media/galaxy-slurm-3.png)"
   ]
  },
  {
   "cell_type": "markdown",
   "metadata": {
    "lc_cell_meme": {
     "current": "0268799e-6138-11e7-8a3b-9660ba7e074f",
     "history": [
     ],
     "next": "02687aac-6138-11e7-8a3b-9660ba7e074f",
     "previous": "cf91cfc0-61e1-11e7-8a3b-9660ba7e074f"
    }
   },
   "source": [
    "各VC Nodeに対してデフォルトのパスワード認証で接続し、公開鍵配布先ディレクトリを作成する。"
   ]
  },
  {
   "cell_type": "code",
   "execution_count": null,
   "metadata": {
    "lc_cell_meme": {
     "current": "02687aac-6138-11e7-8a3b-9660ba7e074f",
     "history": [
     ],
     "next": "b189897e-61e0-11e7-8a3b-9660ba7e074f",
     "previous": "0268799e-6138-11e7-8a3b-9660ba7e074f"
    },
    "scrolled": true
   },
   "outputs": [],
   "source": [
    "galaxy_server_ip = galaxy_node.cloud_instance_address\n",
    "galaxy_compute_ips = []\n",
    "for node in slurm_nodes:\n",
    "    galaxy_compute_ips.append(node.cloud_instance_address)\n",
    "    \n",
    "!./setup_ssh_login.sh $galaxy_server_ip 1\n",
    "for ip in galaxy_compute_ips:\n",
    "    !./setup_ssh_login.sh $ip 1"
   ]
  },
  {
   "cell_type": "markdown",
   "metadata": {
    "lc_cell_meme": {
     "current": "b189897e-61e0-11e7-8a3b-9660ba7e074f",
     "next": "02687b38-6138-11e7-8a3b-9660ba7e074f",
     "previous": "02687aac-6138-11e7-8a3b-9660ba7e074f"
    }
   },
   "source": [
    "各VC Nodeに対応する鍵ペアを作成し、公開鍵を配置する。"
   ]
  },
  {
   "cell_type": "code",
   "execution_count": null,
   "metadata": {
    "lc_cell_meme": {
     "current": "02687b38-6138-11e7-8a3b-9660ba7e074f",
     "history": [
     ],
     "next": "02687bc4-6138-11e7-8a3b-9660ba7e074f",
     "previous": "b189897e-61e0-11e7-8a3b-9660ba7e074f"
    }
   },
   "outputs": [],
   "source": [
    "!./setup_ssh_login.sh $galaxy_server_ip 2\n",
    "for ip in galaxy_compute_ips:\n",
    "    !./setup_ssh_login.sh $ip 2"
   ]
  },
  {
   "cell_type": "markdown",
   "metadata": {
    "lc_cell_meme": {
     "current": "02687bc4-6138-11e7-8a3b-9660ba7e074f",
     "next": "02687c46-6138-11e7-8a3b-9660ba7e074f",
     "previous": "02687b38-6138-11e7-8a3b-9660ba7e074f"
    }
   },
   "source": [
    "ssh_config のエントリ名を用いて各VC Nodeにログインできるようにする。"
   ]
  },
  {
   "cell_type": "code",
   "execution_count": 10,
   "metadata": {
    "collapsed": true,
    "lc_cell_meme": {
     "current": "02687c46-6138-11e7-8a3b-9660ba7e074f",
     "history": [
     ],
     "next": "e543c0da-d83d-11e7-8605-0242ac110002",
     "previous": "02687bc4-6138-11e7-8a3b-9660ba7e074f"
    }
   },
   "outputs": [],
   "source": [
    "SERVER_SSH_CONF = '''\\\n",
    "StrictHostKeyChecking no\n",
    "Host galaxy-server\n",
    "  User root\n",
    "  HostName {gip}\n",
    "  Port 10022\n",
    "  IdentityFile ssh/id_{gip}\n",
    "\n",
    "'''\n",
    "\n",
    "COMPUTE_SSH_CONF = '''\\\n",
    "Host galaxy-compute-{id}\n",
    "  User root\n",
    "  HostName {cip}\n",
    "  Port 10022\n",
    "  IdentityFile ssh/id_{cip}\n",
    "\n",
    "'''\n",
    "\n",
    "# Galaxy node\n",
    "ssh_config = SERVER_SSH_CONF.format(gip=galaxy_server_ip)\n",
    "\n",
    "# SLURM nodes\n",
    "num = 1\n",
    "for ip in galaxy_compute_ips:\n",
    "    config = COMPUTE_SSH_CONF.format(id=num, cip=ip)\n",
    "    ssh_config += config\n",
    "    num += 1\n",
    "\n",
    "!echo \"$ssh_config\" > tmp/ssh_config.ga"
   ]
  },
  {
   "cell_type": "code",
   "execution_count": 11,
   "metadata": {
    "lc_cell_meme": {
     "current": "e543c0da-d83d-11e7-8605-0242ac110002",
     "next": "d3d9bae2-6228-11e7-bf4a-0eddbbd8be7a",
     "previous": "02687c46-6138-11e7-8a3b-9660ba7e074f"
    }
   },
   "outputs": [
    {
     "name": "stdout",
     "output_type": "stream",
     "text": [
      "StrictHostKeyChecking no\n",
      "Host galaxy-server\n",
      "  User root\n",
      "  HostName 172.30.2.100\n",
      "  Port 10022\n",
      "  IdentityFile ssh/id_172.30.2.100\n",
      "\n",
      "Host galaxy-compute-1\n",
      "  User root\n",
      "  HostName 172.30.2.167\n",
      "  Port 10022\n",
      "  IdentityFile ssh/id_172.30.2.167\n",
      "\n",
      "Host galaxy-compute-2\n",
      "  User root\n",
      "  HostName 172.30.2.59\n",
      "  Port 10022\n",
      "  IdentityFile ssh/id_172.30.2.59\n",
      "\n",
      "\n"
     ]
    }
   ],
   "source": [
    "print(ssh_config)"
   ]
  },
  {
   "cell_type": "markdown",
   "metadata": {
    "lc_cell_meme": {
     "current": "d3d9bae2-6228-11e7-bf4a-0eddbbd8be7a",
     "history": [
     ],
     "next": "1b5ea724-6229-11e7-bf4a-0eddbbd8be7a",
     "previous": "e543c0da-d83d-11e7-8605-0242ac110002"
    }
   },
   "source": [
    "# Setup Base containers\n",
    "\n",
    "各VC NodeのBaseコンテナ機能をセットアップする。\n",
    "\n",
    "\n",
    "![galaxy-slurm-cluster](media/galaxy-slurm-4.png)"
   ]
  },
  {
   "cell_type": "markdown",
   "metadata": {
    "lc_cell_meme": {
     "current": "1b5ea724-6229-11e7-bf4a-0eddbbd8be7a",
     "next": "1b5ea896-6229-11e7-bf4a-0eddbbd8be7a",
     "previous": "d3d9bae2-6228-11e7-bf4a-0eddbbd8be7a"
    }
   },
   "source": [
    "## Mount the NFS volume\n",
    "\n",
    "EBS ボリュームは、Galaxyサーバ用ノード起動時のSpec情報で記述した順に `/dev/xvd[f]` から割り当てられ、 `/dev/xvd[p]` までの最大12個を使用可能。\n",
    "\n",
    "まず、最初に Galaxyサーバ用ノードで、EBSボリューム `/dev/xvdf1` を `/export` へマウントする。  \n",
    "（`/export` は NFS サーバインストール済み Base コンテナの起動時に NFS のエクスポート・ディレクトリとして設定されている）"
   ]
  },
  {
   "cell_type": "code",
   "execution_count": 12,
   "metadata": {
    "lc_cell_meme": {
     "current": "1b5ea896-6229-11e7-bf4a-0eddbbd8be7a",
     "history": [
     ],
     "next": "7e0379f4-6233-11e7-bf4a-0eddbbd8be7a",
     "previous": "1b5ea724-6229-11e7-bf4a-0eddbbd8be7a"
    }
   },
   "outputs": [
    {
     "name": "stdout",
     "output_type": "stream",
     "text": [
      "Filesystem                Size      Used Available Use% Mounted on\r\n",
      "/dev/xvdf1               62.9G     11.8G     47.9G  20% /export\r\n"
     ]
    }
   ],
   "source": [
    "!ssh -F tmp/ssh_config.ga galaxy-server \"mkdir -p /export && mount /dev/xvdf1 /export\"\n",
    "!ssh -F tmp/ssh_config.ga galaxy-server df -h /export"
   ]
  },
  {
   "cell_type": "markdown",
   "metadata": {
    "lc_cell_meme": {
     "current": "7e0379f4-6233-11e7-bf4a-0eddbbd8be7a",
     "history": [
     ],
     "next": "c58b2592-6233-11e7-bf4a-0eddbbd8be7a",
     "previous": "1b5ea896-6229-11e7-bf4a-0eddbbd8be7a"
    }
   },
   "source": [
    "続いて、各SLURM NodeからGalaxyサーバ上のNFSボリュームをマウントする。"
   ]
  },
  {
   "cell_type": "code",
   "execution_count": 13,
   "metadata": {
    "collapsed": true,
    "lc_cell_meme": {
     "current": "c58b2592-6233-11e7-bf4a-0eddbbd8be7a",
     "history": [
     ],
     "next": "d31b0e86-d329-11e7-8f3c-39d2bcc805df",
     "previous": "7e0379f4-6233-11e7-bf4a-0eddbbd8be7a"
    }
   },
   "outputs": [],
   "source": [
    "num=1\n",
    "for ip in galaxy_compute_ips:\n",
    "    !ssh -F tmp/ssh_config.ga galaxy-compute-$num \"rpcbind && mkdir -p /export\"\n",
    "    !ssh -F tmp/ssh_config.ga galaxy-compute-$num mount -t nfs $galaxy_server_ip:/export /export\n",
    "    num += 1"
   ]
  },
  {
   "cell_type": "markdown",
   "metadata": {
    "lc_cell_meme": {
     "current": "d31b0e86-d329-11e7-8f3c-39d2bcc805df",
     "next": "3f961194-6234-11e7-bf4a-0eddbbd8be7a",
     "previous": "c58b2592-6233-11e7-bf4a-0eddbbd8be7a"
    }
   },
   "source": [
    "各SLURM NodeのNFSマウント状態を確認する。"
   ]
  },
  {
   "cell_type": "code",
   "execution_count": 14,
   "metadata": {
    "lc_cell_meme": {
     "current": "3f961194-6234-11e7-bf4a-0eddbbd8be7a",
     "history": [
     ],
     "next": "dae04b56-61df-11e7-8a3b-9660ba7e074f",
     "previous": "d31b0e86-d329-11e7-8f3c-39d2bcc805df"
    },
    "scrolled": true
   },
   "outputs": [
    {
     "name": "stdout",
     "output_type": "stream",
     "text": [
      "galaxy-compute-1\n",
      "Filesystem                Size      Used Available Use% Mounted on\n",
      "172.30.2.100:/export     62.9G     11.8G     47.9G  20% /export\n",
      "galaxy-compute-2\n",
      "Filesystem                Size      Used Available Use% Mounted on\n",
      "172.30.2.100:/export     62.9G     11.8G     47.9G  20% /export\n"
     ]
    }
   ],
   "source": [
    "num = 1\n",
    "for ip in galaxy_compute_ips:\n",
    "    !echo galaxy-compute-$num\n",
    "    !ssh -F tmp/ssh_config.ga galaxy-compute-$num df -h /export\n",
    "    num += 1"
   ]
  },
  {
   "cell_type": "markdown",
   "metadata": {
    "lc_cell_meme": {
     "current": "dae04b56-61df-11e7-8a3b-9660ba7e074f",
     "history": [
     ],
     "next": "d960360e-d338-11e7-8f3c-39d2bcc805df",
     "previous": "3f961194-6234-11e7-bf4a-0eddbbd8be7a"
    }
   },
   "source": [
    "# Setup Application containers\n",
    "\n",
    "各Baseコンテナ上でGalaxyサーバと計算ノード用の各コンテナをセットアップする。\n",
    "\n",
    "\n",
    "![galaxy-slurm-cluster](media/galaxy-slurm-5.png)"
   ]
  },
  {
   "cell_type": "markdown",
   "metadata": {
    "lc_cell_meme": {
     "current": "d960360e-d338-11e7-8f3c-39d2bcc805df",
     "history": [
     ],
     "next": "d96036fe-d338-11e7-8f3c-39d2bcc805df",
     "previous": "dae04b56-61df-11e7-8a3b-9660ba7e074f"
    }
   },
   "source": [
    "## Configure hostname resolution\n",
    "\n",
    "- SLURMクラスタを運用する場合、各ホストはIPアドレスではなくホスト名でアクセスできなければならない。  \n",
    "  内部向けDNS Serviceを起動する方法もあるが、今回はクラスタ構成が固定のため /etc/hosts に記述することでDNS解決を行う。\n",
    "- GalaxyおよびSLURM用 Applicationコンテナに設定する `/etc/hosts` の内容を作成する。  \n",
    "  これを Applicationコンテナを `docker run` する際のオプションとして指定することができる。 "
   ]
  },
  {
   "cell_type": "code",
   "execution_count": 15,
   "metadata": {
    "collapsed": true,
    "lc_cell_meme": {
     "current": "d96036fe-d338-11e7-8f3c-39d2bcc805df",
     "history": [
     ],
     "next": "01715a2e-d352-11e7-8f3c-39d2bcc805df",
     "previous": "d960360e-d338-11e7-8f3c-39d2bcc805df"
    }
   },
   "outputs": [],
   "source": [
    "add_host_opt = '--add-host master:%s' % (galaxy_server_ip)\n",
    "i = 1\n",
    "galaxy_compute_nodes = v.unit.find_node(\"galaxy_compute\")\n",
    "for node in galaxy_compute_nodes:\n",
    "    add_host_opt += ' --add-host c%d:%s' % (i, node.cloud_instance_address)\n",
    "    i += 1"
   ]
  },
  {
   "cell_type": "code",
   "execution_count": 16,
   "metadata": {
    "lc_cell_meme": {
     "current": "01715a2e-d352-11e7-8f3c-39d2bcc805df",
     "history": [
     ],
     "next": "dc524976-62ca-11e7-bf4a-0eddbbd8be7a",
     "previous": "d96036fe-d338-11e7-8f3c-39d2bcc805df"
    },
    "scrolled": false
   },
   "outputs": [
    {
     "name": "stdout",
     "output_type": "stream",
     "text": [
      "--add-host master:172.30.2.100 --add-host c1:172.30.2.167 --add-host c2:172.30.2.59\n"
     ]
    }
   ],
   "source": [
    "print(add_host_opt)"
   ]
  },
  {
   "cell_type": "markdown",
   "metadata": {
    "lc_cell_meme": {
     "current": "dc524976-62ca-11e7-bf4a-0eddbbd8be7a",
     "history": [
     ],
     "next": "fe0c8132-62d7-11e7-bf4a-0eddbbd8be7a",
     "previous": "01715a2e-d352-11e7-8f3c-39d2bcc805df"
    }
   },
   "source": [
    "## Start the Galaxy container\n",
    "\n",
    "今回のハンズオン環境ではGalaxyサーバの共有ストレージにあらかじめ以下の情報がセットアップされている。\n",
    "\n",
    "1. Galaxy Server用データアーカイブが /export/ 直下に展開済み。\n",
    "2. HISAT2用インデックスアーカイブが /export/genome/ 直下に展開済み。"
   ]
  },
  {
   "cell_type": "markdown",
   "metadata": {
    "lc_cell_meme": {
     "current": "fe0c8132-62d7-11e7-bf4a-0eddbbd8be7a",
     "next": "b2e6deac-62cb-11e7-bf4a-0eddbbd8be7a",
     "previous": "dc524976-62ca-11e7-bf4a-0eddbbd8be7a"
    }
   },
   "source": [
    "Galaxyの公式Dockerイメージ  `bgruening/galaxy-stable` を起動する。  \n",
    "  * `bgruening/galaxy-stable` イメージは起動時に Docker Hub から取得することもできるが、  \n",
    "     今回のハンズオン環境では利用者毎の Application コンテナレジストリに登録しておいたものを利用する。"
   ]
  },
  {
   "cell_type": "code",
   "execution_count": 17,
   "metadata": {
    "collapsed": true,
    "lc_cell_meme": {
     "current": "b2e6deac-62cb-11e7-bf4a-0eddbbd8be7a",
     "history": [
     ],
     "next": "e769d464-62ed-11e7-bf4a-0eddbbd8be7a",
     "previous": "fe0c8132-62d7-11e7-bf4a-0eddbbd8be7a"
    }
   },
   "outputs": [],
   "source": [
    "BOOT_GALAXY_TMPL = '''\\\n",
    "/usr/local/bin/docker run -d --net=host \\\n",
    "  {add_host_opt} \\\n",
    "  --hostname master --name galaxy\\\n",
    "  -v /export/:/export/ \\\n",
    "  -e \"NONUSE=nodejs,proftp,reports,slurmctld,slurmd,condor\" \\\n",
    "  -e \"PROXY_PREFIX=/galaxy\" \\\n",
    "  10.0.0.1:5001/galaxy-stable:20171018 \\\n",
    "  2>&1 | tail -n3\n",
    "'''\n",
    "boot_galaxy_cmd = BOOT_GALAXY_TMPL.format(add_host_opt=add_host_opt)"
   ]
  },
  {
   "cell_type": "code",
   "execution_count": 18,
   "metadata": {
    "lc_cell_meme": {
     "current": "e769d464-62ed-11e7-bf4a-0eddbbd8be7a",
     "history": [
     ],
     "next": "fe0c82a4-62d7-11e7-bf4a-0eddbbd8be7a",
     "previous": "b2e6deac-62cb-11e7-bf4a-0eddbbd8be7a"
    },
    "scrolled": false
   },
   "outputs": [
    {
     "name": "stdout",
     "output_type": "stream",
     "text": [
      "Digest: sha256:64c2690ef5594b9aed69fff68d2eecf62ddbf8d5df23c73bb40ac7d4e0152f45\r\n",
      "Status: Downloaded newer image for 10.0.0.1:5001/galaxy-stable:20171018\r\n",
      "aac907dc6a1add61ff11c1e8ac76a95322dc3fbf230149645d7159f41e958a7c\r\n"
     ]
    }
   ],
   "source": [
    "!ssh -F tmp/ssh_config.ga galaxy-server $boot_galaxy_cmd"
   ]
  },
  {
   "cell_type": "markdown",
   "metadata": {
    "lc_cell_meme": {
     "current": "fe0c82a4-62d7-11e7-bf4a-0eddbbd8be7a",
     "history": [
     ],
     "next": "2ef1bb30-62ee-11e7-bf4a-0eddbbd8be7a",
     "previous": "e769d464-62ed-11e7-bf4a-0eddbbd8be7a"
    }
   },
   "source": [
    "起動が完了するまで数分程度を要する。以下の2つの worker に関するログが出力されていることを確認する。\n",
    "\n",
    "- starting galaxy control worker for main.1\n",
    "- starting galaxy control worker for main.2"
   ]
  },
  {
   "cell_type": "code",
   "execution_count": 20,
   "metadata": {
    "lc_cell_meme": {
     "current": "2ef1bb30-62ee-11e7-bf4a-0eddbbd8be7a",
     "next": "459835dc-62d8-11e7-bf4a-0eddbbd8be7a",
     "previous": "fe0c82a4-62d7-11e7-bf4a-0eddbbd8be7a"
    },
    "scrolled": false
   },
   "outputs": [
    {
     "name": "stdout",
     "output_type": "stream",
     "text": [
      "2017-12-04T07:44:59.741353635Z galaxy.webapps.util DEBUG 2017-12-04 07:44:59,439 Enabling 'BatchMiddleware' middleware\r\n",
      "2017-12-04T07:44:59.741357869Z galaxy.webapps.galaxy.buildapp DEBUG 2017-12-04 07:44:59,439 Prior to webapp return, Galaxy thread <_MainThread(MainThread, started 139638697883456)> is alive.\r\n",
      "2017-12-04T07:44:59.741362191Z Mon Dec  4 07:44:59 2017 - WSGI app 0 (mountpoint='') ready in 15 seconds on interpreter 0x20250a0 pid: 287 (default app)\r\n",
      "2017-12-04T07:44:59.741366064Z Mon Dec  4 07:44:59 2017 - *** uWSGI is running in multiple interpreter mode ***\r\n",
      "2017-12-04T07:44:59.741369731Z Mon Dec  4 07:44:59 2017 - spawned uWSGI master process (pid: 287)\r\n",
      "2017-12-04T07:44:59.741373748Z Mon Dec  4 07:44:59 2017 - spawned uWSGI worker 1 (pid: 399, cores: 4)\r\n",
      "2017-12-04T07:44:59.741377639Z Mon Dec  4 07:44:59 2017 - spawned uWSGI worker 2 (pid: 402, cores: 4)\r\n",
      "2017-12-04T07:44:59.741381853Z Mon Dec  4 07:44:59 2017 - *** Stats server enabled on 127.0.0.1:9191 fd: 12 ***\r\n",
      "2017-12-04T07:44:59.741385495Z galaxy.queue_worker INFO 2017-12-04 07:44:59,445 Binding and starting galaxy control worker for main.1\r\n",
      "2017-12-04T07:44:59.741389421Z galaxy.queue_worker INFO 2017-12-04 07:44:59,453 Binding and starting galaxy control worker for main.2\r\n"
     ]
    }
   ],
   "source": [
    "!ssh -F tmp/ssh_config.ga galaxy-server /usr/local/bin/docker logs -t --tail 10 galaxy"
   ]
  },
  {
   "cell_type": "markdown",
   "metadata": {
    "lc_cell_meme": {
     "current": "459835dc-62d8-11e7-bf4a-0eddbbd8be7a",
     "history": [
     ],
     "next": "45983758-62d8-11e7-bf4a-0eddbbd8be7a",
     "previous": "2ef1bb30-62ee-11e7-bf4a-0eddbbd8be7a"
    }
   },
   "source": [
    "Galaxyサーバ上にあるSLURMコントローラ( `slurmctld` )を再起動する。\n",
    "  * 共有ストレージ `/export/slurm.conf` にある事前に用意したSLURM設定ファイルを読み込むように設定する。"
   ]
  },
  {
   "cell_type": "code",
   "execution_count": 21,
   "metadata": {
    "collapsed": true,
    "lc_cell_meme": {
     "current": "45983758-62d8-11e7-bf4a-0eddbbd8be7a",
     "history": [
     ],
     "next": "2ef1bcac-62ee-11e7-bf4a-0eddbbd8be7a",
     "previous": "459835dc-62d8-11e7-bf4a-0eddbbd8be7a"
    }
   },
   "outputs": [],
   "source": [
    "slurm_restart_cmd = '''\\\n",
    "pkill slurmctld\n",
    "pkill munged\n",
    "munged --key-file=/export/munge.key -f\n",
    "slurmctld -L /home/galaxy/logs/slurmctld.log -f /export/slurm.conf\n",
    "'''\n",
    "\n",
    "!echo \"$slurm_restart_cmd\" > tmp/slurm_restart.sh"
   ]
  },
  {
   "cell_type": "code",
   "execution_count": 22,
   "metadata": {
    "lc_cell_meme": {
     "current": "2ef1bcac-62ee-11e7-bf4a-0eddbbd8be7a",
     "history": [
     ],
     "next": "e543c198-d83d-11e7-8605-0242ac110002",
     "previous": "45983758-62d8-11e7-bf4a-0eddbbd8be7a"
    },
    "scrolled": true
   },
   "outputs": [
    {
     "name": "stdout",
     "output_type": "stream",
     "text": [
      "\r",
      "slurm_restart.sh                                0%    0     0.0KB/s   --:-- ETA\r",
      "slurm_restart.sh                              100%  136     0.1KB/s   00:00    \r\n"
     ]
    }
   ],
   "source": [
    "!scp -F tmp/ssh_config.ga tmp/slurm_restart.sh galaxy-server:\n",
    "!ssh -F tmp/ssh_config.ga galaxy-server /usr/local/bin/docker cp slurm_restart.sh galaxy:/tmp/\n",
    "!ssh -F tmp/ssh_config.ga galaxy-server /usr/local/bin/docker exec -i galaxy sh /tmp/slurm_restart.sh"
   ]
  },
  {
   "cell_type": "markdown",
   "metadata": {
    "lc_cell_meme": {
     "current": "e543c198-d83d-11e7-8605-0242ac110002",
     "next": "2ef1bd74-62ee-11e7-bf4a-0eddbbd8be7a",
     "previous": "2ef1bcac-62ee-11e7-bf4a-0eddbbd8be7a"
    }
   },
   "source": [
    "現段階では、STATE が \"`unk`\" (unknown) のノードが2つ見えることを確認する。"
   ]
  },
  {
   "cell_type": "code",
   "execution_count": 23,
   "metadata": {
    "lc_cell_meme": {
     "current": "2ef1bd74-62ee-11e7-bf4a-0eddbbd8be7a",
     "history": [
     ],
     "next": "e543c256-d83d-11e7-8605-0242ac110002",
     "previous": "e543c198-d83d-11e7-8605-0242ac110002"
    },
    "scrolled": true
   },
   "outputs": [
    {
     "name": "stdout",
     "output_type": "stream",
     "text": [
      "PARTITION AVAIL  TIMELIMIT  NODES  STATE NODELIST\r\n",
      "work*        up   infinite      2   unk* c[1-2]\r\n"
     ]
    }
   ],
   "source": [
    "!ssh -F tmp/ssh_config.ga galaxy-server /usr/local/bin/docker exec -i galaxy sinfo"
   ]
  },
  {
   "cell_type": "markdown",
   "metadata": {
    "lc_cell_meme": {
     "current": "e543c256-d83d-11e7-8605-0242ac110002",
     "next": "e543c314-d83d-11e7-8605-0242ac110002",
     "previous": "2ef1bd74-62ee-11e7-bf4a-0eddbbd8be7a"
    }
   },
   "source": [
    "`bgruening/galaxy-stable` のDockerイメージに `samtools` が含まれていないため、パッケージを追加でインストールする。\n",
    "  * samtools が無いと HISAT2 実行時に Galaxy サーバが結果のBAMファイルを格納する際にエラーとなるため。\n",
    " "
   ]
  },
  {
   "cell_type": "code",
   "execution_count": null,
   "metadata": {
    "lc_cell_meme": {
     "current": "e543c314-d83d-11e7-8605-0242ac110002",
     "next": "23de7594-62cb-11e7-bf4a-0eddbbd8be7a",
     "previous": "e543c256-d83d-11e7-8605-0242ac110002"
    },
    "scrolled": true
   },
   "outputs": [],
   "source": [
    "!ssh -F tmp/ssh_config.ga galaxy-server /usr/local/bin/docker exec -i galaxy apt-get update\n",
    "!ssh -F tmp/ssh_config.ga galaxy-server /usr/local/bin/docker exec -i galaxy apt-get -y install samtools"
   ]
  },
  {
   "cell_type": "markdown",
   "metadata": {
    "lc_cell_meme": {
     "current": "23de7594-62cb-11e7-bf4a-0eddbbd8be7a",
     "history": [
     ],
     "next": "2ef1be1e-62ee-11e7-bf4a-0eddbbd8be7a",
     "previous": "e543c314-d83d-11e7-8605-0242ac110002"
    }
   },
   "source": [
    "## Start SLURM containers\n",
    "\n",
    "Galaxy用に設定されたSLURM Computeノード向けコンテナとして `docker-galaxy-stable` で提供されているものが利用できる。\n",
    "  * https://github.com/bgruening/docker-galaxy-stable/tree/master/test/slurm\n",
    "\n",
    "今回はこれを事前にビルドしてApplicationコンテナレジストリに登録しておいたものを利用する。  \n",
    "なお、このコンテナには、今回のハンズオンで実行するツールとして `HISAT2` がインストール済みである。"
   ]
  },
  {
   "cell_type": "code",
   "execution_count": 25,
   "metadata": {
    "lc_cell_meme": {
     "current": "2ef1be1e-62ee-11e7-bf4a-0eddbbd8be7a",
     "next": "6b63c8c4-62cb-11e7-bf4a-0eddbbd8be7a",
     "previous": "23de7594-62cb-11e7-bf4a-0eddbbd8be7a"
    }
   },
   "outputs": [
    {
     "name": "stdout",
     "output_type": "stream",
     "text": [
      "slurm_bootstrap.sh                            100%  236     0.2KB/s   00:00    \n",
      "Digest: sha256:1ff7887a9fe424a70ee0cad364dcbf07262dd17cbbc76059e0205f8f0d6ff0cb\n",
      "Status: Downloaded newer image for 10.0.0.1:5001/galaxy-slurm:20171027\n",
      "0d7421858eac09087ca710aabbd9dc2bea63dcc92543c94502a03c4914bdae65\n",
      "slurm_bootstrap.sh                            100%  236     0.2KB/s   00:00    \n",
      "Digest: sha256:1ff7887a9fe424a70ee0cad364dcbf07262dd17cbbc76059e0205f8f0d6ff0cb\n",
      "Status: Downloaded newer image for 10.0.0.1:5001/galaxy-slurm:20171027\n",
      "9b86d2a500059a483abec8129576a76699a0b4ef14168504334b94e956286046\n"
     ]
    }
   ],
   "source": [
    "BOOT_SLURM_TMPL = '''\\\n",
    "/usr/local/bin/docker run -d --net=host \\\n",
    "  {add_host_opt} \\\n",
    "  --hostname c{id} --name slurm{id} \\\n",
    "  -v /export/:/export/ \\\n",
    "  10.0.0.1:5001/galaxy-slurm:20171027 \\\n",
    "  2>&1 | tail -n3\n",
    "'''\n",
    "\n",
    "num=1\n",
    "for ip in galaxy_compute_ips:\n",
    "    boot_slurm_cmd = BOOT_SLURM_TMPL.format(add_host_opt=add_host_opt, id=num)\n",
    "    !echo \"$boot_slurm_cmd\" > tmp/slurm_bootstrap.sh\n",
    "    !scp -F tmp/ssh_config.ga tmp/slurm_bootstrap.sh galaxy-compute-$num:\n",
    "    !ssh -F tmp/ssh_config.ga galaxy-compute-$num sh ./slurm_bootstrap.sh\n",
    "    num += 1"
   ]
  },
  {
   "cell_type": "markdown",
   "metadata": {
    "lc_cell_meme": {
     "current": "6b63c8c4-62cb-11e7-bf4a-0eddbbd8be7a",
     "history": [
     ],
     "next": "2ef1bebe-62ee-11e7-bf4a-0eddbbd8be7a",
     "previous": "2ef1be1e-62ee-11e7-bf4a-0eddbbd8be7a"
    }
   },
   "source": [
    "Galaxy サーバ (SLURM Controller側) から各計算ノードに構成されたSLURMクラスタの情報を取得する。\n",
    "\n",
    "STATE が \"`idle`\" のノードが2つ表示されることを確認する。"
   ]
  },
  {
   "cell_type": "code",
   "execution_count": 26,
   "metadata": {
    "lc_cell_meme": {
     "current": "2ef1bebe-62ee-11e7-bf4a-0eddbbd8be7a",
     "history": [
     ],
     "next": "e543c3d2-d83d-11e7-8605-0242ac110002",
     "previous": "6b63c8c4-62cb-11e7-bf4a-0eddbbd8be7a"
    },
    "scrolled": false
   },
   "outputs": [
    {
     "name": "stdout",
     "output_type": "stream",
     "text": [
      "Mon Dec  4 07:51:05 2017\r\n",
      "PARTITION AVAIL  TIMELIMIT   JOB_SIZE ROOT SHARE     GROUPS  NODES       STATE NODELIST\r\n",
      "work*        up   infinite 1-infinite   no YES:4        all      2        idle c[1-2]\r\n"
     ]
    }
   ],
   "source": [
    "!ssh -F tmp/ssh_config.ga galaxy-server /usr/local/bin/docker exec -i galaxy sinfo --long"
   ]
  },
  {
   "cell_type": "markdown",
   "metadata": {
    "lc_cell_meme": {
     "current": "e543c3d2-d83d-11e7-8605-0242ac110002",
     "next": "2ef1bebe-62ee-11e7-bf4a-0eddbbd8be7a",
     "previous": "2ef1bebe-62ee-11e7-bf4a-0eddbbd8be7a"
    }
   },
   "source": [
    "SLURMノードの詳細情報を確認する。"
   ]
  },
  {
   "cell_type": "code",
   "execution_count": 27,
   "metadata": {
    "lc_cell_meme": {
     "current": "2ef1bebe-62ee-11e7-bf4a-0eddbbd8be7a",
     "history": [
     ],
     "next": "d31b0fc6-d329-11e7-8f3c-39d2bcc805df",
     "previous": "e543c3d2-d83d-11e7-8605-0242ac110002"
    },
    "scrolled": false
   },
   "outputs": [
    {
     "name": "stdout",
     "output_type": "stream",
     "text": [
      "NodeName=c1 Arch=x86_64 CoresPerSocket=1\r\n",
      "   CPUAlloc=0 CPUErr=0 CPUTot=8 CPULoad=0.07 Features=(null)\r\n",
      "   Gres=(null)\r\n",
      "   NodeAddr=c1 NodeHostName=c1\r\n",
      "   OS=Linux RealMemory=20000 AllocMem=0 Sockets=8 Boards=1\r\n",
      "   State=IDLE ThreadsPerCore=1 TmpDisk=0 Weight=1\r\n",
      "   BootTime=2017-12-04T07:32:46 SlurmdStartTime=2017-12-04T07:50:33\r\n",
      "   CurrentWatts=0 LowestJoules=0 ConsumedJoules=0\r\n",
      "   ExtSensorsJoules=n/s ExtSensorsWatts=0 ExtSensorsTemp=n/s\r\n",
      "   \r\n",
      "\r\n",
      "NodeName=c2 Arch=x86_64 CoresPerSocket=1\r\n",
      "   CPUAlloc=0 CPUErr=0 CPUTot=8 CPULoad=0.04 Features=(null)\r\n",
      "   Gres=(null)\r\n",
      "   NodeAddr=c2 NodeHostName=c2\r\n",
      "   OS=Linux RealMemory=20000 AllocMem=0 Sockets=8 Boards=1\r\n",
      "   State=IDLE ThreadsPerCore=1 TmpDisk=0 Weight=1\r\n",
      "   BootTime=2017-12-04T07:32:47 SlurmdStartTime=2017-12-04T07:50:58\r\n",
      "   CurrentWatts=0 LowestJoules=0 ConsumedJoules=0\r\n",
      "   ExtSensorsJoules=n/s ExtSensorsWatts=0 ExtSensorsTemp=n/s\r\n",
      "   \r\n",
      "\r\n"
     ]
    }
   ],
   "source": [
    "!ssh -F tmp/ssh_config.ga galaxy-server /usr/local/bin/docker exec -i galaxy scontrol show node c[1-2]"
   ]
  },
  {
   "cell_type": "markdown",
   "metadata": {
    "lc_cell_meme": {
     "current": "d31b0fc6-d329-11e7-8f3c-39d2bcc805df",
     "next": "d31b102a-d329-11e7-8f3c-39d2bcc805df",
     "previous": "2ef1bebe-62ee-11e7-bf4a-0eddbbd8be7a"
    }
   },
   "source": [
    "## Configure Galaxy job runner\n",
    "\n",
    "Galaxyがジョブ実行プラグイン(Job Runner)として `SlurmJobRunner` を使うように設定する。"
   ]
  },
  {
   "cell_type": "code",
   "execution_count": null,
   "metadata": {
    "lc_cell_meme": {
     "current": "d31b102a-d329-11e7-8f3c-39d2bcc805df",
     "next": "d31b1070-d329-11e7-8f3c-39d2bcc805df",
     "previous": "d31b0fc6-d329-11e7-8f3c-39d2bcc805df"
    }
   },
   "outputs": [],
   "source": [
    "# https://github.com/bgruening/docker-galaxy-stable/blob/master/test/slurm/job_conf.xml\n",
    "job_conf = '''\\\n",
    "<?xml version=\"1.0\"?>\n",
    "<job_conf>\n",
    "    <plugins workers=\"2\">\n",
    "        <plugin id=\"slurm\" type=\"runner\" load=\"galaxy.jobs.runners.slurm:SlurmJobRunner\">\n",
    "            <param id=\"drmaa_library_path\">/usr/lib/slurm-drmaa/lib/libdrmaa.so</param>\n",
    "        </plugin>\n",
    "        <plugin id=\"local\" type=\"runner\" load=\"galaxy.jobs.runners.local:LocalJobRunner\" workers=\"2\"/>\n",
    "    </plugins>\n",
    "    <handlers default=\"handlers\">\n",
    "        <handler id=\"handler0\" tags=\"handlers\"/>\n",
    "        <handler id=\"handler1\" tags=\"handlers\"/>\n",
    "    </handlers>\n",
    "    <destinations default=\"slurm_cluster\">\n",
    "        <destination id=\"slurm_cluster\" runner=\"slurm\">\n",
    "            <param id=\"nativeSpecification\">-p work -n 8</param>\n",
    "            <param id=\"embed_metadata_in_job\">False</param>\n",
    "            <env file=\"/export/galaxy-central/.venv/bin/activate\" />\n",
    "        </destination>\n",
    "        <destination id=\"local\" runner=\"local\"/>\n",
    "    </destinations>\n",
    "    <tools>\n",
    "        <tool id=\"upload1\" destination=\"local\"/>\n",
    "    </tools>\n",
    "    <limits>\n",
    "    </limits>\n",
    "</job_conf>\n",
    "'''\n",
    "\n",
    "f = open('tmp/job_conf.xml', 'w')\n",
    "f.write(job_conf)\n",
    "f.close()\n",
    "\n",
    "!scp -F tmp/ssh_config.ga tmp/job_conf.xml galaxy-server:\n",
    "!ssh -F tmp/ssh_config.ga galaxy-server /usr/local/bin/docker cp job_conf.xml galaxy:/etc/galaxy/"
   ]
  },
  {
   "cell_type": "markdown",
   "metadata": {
    "lc_cell_meme": {
     "current": "d31b1070-d329-11e7-8f3c-39d2bcc805df",
     "next": "d31b10ac-d329-11e7-8f3c-39d2bcc805df",
     "previous": "d31b102a-d329-11e7-8f3c-39d2bcc805df"
    }
   },
   "source": [
    "## Install a galaxy tool (HISAT2)\n",
    "\n",
    "Galaxy で HISAT2 を実行するためのツール定義を作成し、Galaxyのツール設定に追加する。  \n",
    "  * 今回のハンズオン向けに、起動オプション等は省略している。"
   ]
  },
  {
   "cell_type": "code",
   "execution_count": null,
   "metadata": {
    "lc_cell_meme": {
     "current": "d31b10ac-d329-11e7-8f3c-39d2bcc805df",
     "history": [
     ],
     "next": "e543c490-d83d-11e7-8605-0242ac110002",
     "previous": "d31b1070-d329-11e7-8f3c-39d2bcc805df"
    }
   },
   "outputs": [],
   "source": [
    "# sample tool 定義を作成\n",
    "tool_config = '''\\\n",
    "<tool id=\"hisat2\" name=\"HISAT2\" version=\"2.1.0\">\n",
    "    <description>A fast and sensitive alignment program</description>\n",
    "    <stdio>\n",
    "        <regex level=\"fatal\" match=\"hisat2-align exited with value 1\" source=\"both\" />\n",
    "        <regex level=\"fatal\" match=\"hisat2: not found\" source=\"both\" />\n",
    "        <exit_code range=\"1:\" />\n",
    "    </stdio>\n",
    "    <version_command>hisat2 --version</version_command>\n",
    "    <command><![CDATA[\n",
    "hisat2 -p 8 -x /export/genome/hisat2-index/hg19 --dta --dta-cufflinks $input1 | samtools view -bS - | samtools sort -o - tmp > $mapped_reads;\n",
    "]]>\n",
    "  </command>\n",
    "  \n",
    "  <inputs>\n",
    "    <param name=\"input1\" format=\"fastq\" type=\"data\" label=\"fastq\" />\n",
    "  </inputs>\n",
    "\n",
    "  <outputs>\n",
    "     <data name=\"mapped_reads\" format=\"bam\" label=\"${tool.name} on ${on_string}: mapped reads\" from_work_dir=\"Aligned.sortedByCoord.out.bam\"/>\n",
    "  </outputs>\n",
    "\n",
    "  <help></help>\n",
    "\n",
    "</tool>\n",
    "'''\n",
    "\n",
    "f = open('tmp/hisat2.xml', 'w')\n",
    "f.write(tool_config)\n",
    "f.close()\n",
    "\n",
    "!scp -F tmp/ssh_config.ga tmp/hisat2.xml galaxy-server:\n",
    "!ssh -F tmp/ssh_config.ga galaxy-server /usr/local/bin/docker exec -i galaxy mkdir -p tools/test\n",
    "!ssh -F tmp/ssh_config.ga galaxy-server /usr/local/bin/docker cp hisat2.xml galaxy:/galaxy-central/tools/test/"
   ]
  },
  {
   "cell_type": "markdown",
   "metadata": {
    "lc_cell_meme": {
     "current": "e543c490-d83d-11e7-8605-0242ac110002",
     "next": "e543c558-d83d-11e7-8605-0242ac110002",
     "previous": "d31b10ac-d329-11e7-8f3c-39d2bcc805df"
    }
   },
   "source": [
    "Galaxy のツール定義リスト設定ファイル `tool_conf.xml` の末尾に HISAT2 用のツール定義を追加する。\n",
    "\n",
    "（修正前）\n",
    "```\n",
    "root@master:~# tail /export/galaxy-central/config/tool_conf.xml.sample \n",
    "  <section id=\"stats\" name=\"Statistics\">\n",
    "    <tool file=\"stats/gsummary.xml\" />\n",
    "    <tool file=\"filters/uniq.xml\" />\n",
    "  </section>\n",
    "  <section id=\"plots\" name=\"Graph/Display Data\">\n",
    "    <tool file=\"plotting/bar_chart.xml\" />\n",
    "    <tool file=\"plotting/boxplot.xml\" />\n",
    "    <tool file=\"maf/vcf_to_maf_customtrack.xml\" />\n",
    "  </section>\n",
    "</toolbox>\n",
    "```\n",
    "----\n",
    "（修正後）\n",
    "```\n",
    "  <section id=\"stats\" name=\"Statistics\">\n",
    "    <tool file=\"stats/gsummary.xml\" />\n",
    "    <tool file=\"filters/uniq.xml\" />\n",
    "  </section>\n",
    "  <section id=\"plots\" name=\"Graph/Display Data\">\n",
    "    <tool file=\"plotting/bar_chart.xml\" />\n",
    "    <tool file=\"plotting/boxplot.xml\" />\n",
    "    <tool file=\"maf/vcf_to_maf_customtrack.xml\" />\n",
    "  </section>\n",
    "  <section id=\"test\" name=\"RNA Seq\">\n",
    "    <tool file=\"test/hisat2.xml\" />\n",
    "  </section>\n",
    "</toolbox>\n",
    "```"
   ]
  },
  {
   "cell_type": "code",
   "execution_count": null,
   "metadata": {
    "lc_cell_meme": {
     "current": "e543c558-d83d-11e7-8605-0242ac110002",
     "next": "d31b1188-d329-11e7-8f3c-39d2bcc805df",
     "previous": "e543c490-d83d-11e7-8605-0242ac110002"
    }
   },
   "outputs": [],
   "source": [
    "update_tool_config = '''\\\n",
    "sed -i 's|</toolbox>|<section id=\"test\" name=\"RNA Seq\"><tool file=\"test/hisat2.xml\" /></section></toolbox>|' /export/galaxy-central/config/tool_conf.xml.sample\n",
    "'''\n",
    "\n",
    "f = open('tmp/tool_conf_update.sh', 'w')\n",
    "f.write(update_tool_config)\n",
    "f.close()\n",
    "\n",
    "!scp -F tmp/ssh_config.ga tmp/tool_conf_update.sh galaxy-server:\n",
    "!ssh -F tmp/ssh_config.ga galaxy-server /usr/local/bin/docker cp tool_conf_update.sh galaxy:/tmp/\n",
    "!ssh -F tmp/ssh_config.ga galaxy-server /usr/local/bin/docker exec galaxy sh /tmp/tool_conf_update.sh"
   ]
  },
  {
   "cell_type": "markdown",
   "metadata": {
    "lc_cell_meme": {
     "current": "d31b1188-d329-11e7-8f3c-39d2bcc805df",
     "history": [
     ],
     "next": "d31b11e2-d329-11e7-8f3c-39d2bcc805df",
     "previous": "e543c558-d83d-11e7-8605-0242ac110002"
    }
   },
   "source": [
    "## Restart Galaxy server\n",
    "\n",
    "ジョブ実行設定を反映させるために、Galaxy Serverを再起動する。"
   ]
  },
  {
   "cell_type": "code",
   "execution_count": null,
   "metadata": {
    "lc_cell_meme": {
     "current": "d31b11e2-d329-11e7-8f3c-39d2bcc805df",
     "history": [
     ],
     "next": "8c32ae1c-d346-11e7-8f3c-39d2bcc805df",
     "previous": "d31b1188-d329-11e7-8f3c-39d2bcc805df"
    }
   },
   "outputs": [],
   "source": [
    "!ssh -F tmp/ssh_config.ga galaxy-server /usr/local/bin/docker exec -i galaxy supervisorctl restart galaxy:"
   ]
  },
  {
   "cell_type": "markdown",
   "metadata": {
    "collapsed": true,
    "lc_cell_meme": {
     "current": "8c32ae1c-d346-11e7-8f3c-39d2bcc805df",
     "history": [
     ],
     "next": "e543c60c-d83d-11e7-8605-0242ac110002",
     "previous": "d31b11e2-d329-11e7-8f3c-39d2bcc805df"
    }
   },
   "source": [
    "# Access to Galaxy web\n",
    "\n",
    "[Galaxy Web](/galaxy/)\n",
    "  * Username `admin@galaxy.org`, Password `admin` でログイン\n",
    "\n",
    "\n",
    "## Get sample data (FASTQ file) \n",
    "Galaxy Web UI の Get Data > Upload File メニューから下図の手順で取得する。\n",
    "\n",
    "次のダウンロード先URLを入力 ⇒ `https://s3-ap-northeast-1.amazonaws.com/vcp-hands-on/fastq/SRR934273_1.fastq`\n",
    "\n",
    "![get-fastq-data](media/get-fastq-data.png)\n",
    "\n",
    "## Execute HISAT2\n",
    "\n",
    "![exec-hisat2](media/exec-hisat2.png)\n",
    "\n",
    "## Show  Grafana graphs\n",
    "\n",
    "[Grafanaダッシュボード](/grafana/dashboard/db/vcp1204?orgId=1&refresh=5s&from=now-15m&to=now)\n",
    "  * User `admin`, Password `admin` でログイン"
   ]
  },
  {
   "cell_type": "markdown",
   "metadata": {
    "lc_cell_meme": {
     "current": "e543c60c-d83d-11e7-8605-0242ac110002",
     "next": "e543c6d4-d83d-11e7-8605-0242ac110002",
     "previous": "8c32ae1c-d346-11e7-8f3c-39d2bcc805df"
    }
   },
   "source": [
    "# Check status of the SLURM cluster\n",
    "\n",
    "Galaxy Web で HISAT2 を実行すると、SLURM のノード使用状況が変化することが確認できる。（必要に応じて）"
   ]
  },
  {
   "cell_type": "code",
   "execution_count": 32,
   "metadata": {
    "lc_cell_meme": {
     "current": "e543c6d4-d83d-11e7-8605-0242ac110002",
     "next": "e543c788-d83d-11e7-8605-0242ac110002",
     "previous": "e543c60c-d83d-11e7-8605-0242ac110002"
    },
    "scrolled": true
   },
   "outputs": [
    {
     "name": "stdout",
     "output_type": "stream",
     "text": [
      "Mon Dec  4 07:58:50 2017\r\n",
      "PARTITION AVAIL  TIMELIMIT   JOB_SIZE ROOT SHARE     GROUPS  NODES       STATE NODELIST\r\n",
      "work*        up   infinite 1-infinite   no YES:4        all      1   allocated c1\r\n",
      "work*        up   infinite 1-infinite   no YES:4        all      1        idle c2\r\n"
     ]
    }
   ],
   "source": [
    "!ssh -F tmp/ssh_config.ga galaxy-server /usr/local/bin/docker exec -i galaxy sinfo --long"
   ]
  },
  {
   "cell_type": "markdown",
   "metadata": {
    "lc_cell_meme": {
     "current": "e543c788-d83d-11e7-8605-0242ac110002",
     "next": "e543c850-d83d-11e7-8605-0242ac110002",
     "previous": "e543c6d4-d83d-11e7-8605-0242ac110002"
    }
   },
   "source": [
    "# Cleanup VC\n",
    "\n",
    "ここまでで作成した Galaxy 用 VC を丸ごと破棄することができる。\n",
    "\n",
    "** ※ 今回のハンズオンでは Cleanup を実行せず、環境をそのまま放置していただいて構いません。**"
   ]
  },
  {
   "cell_type": "code",
   "execution_count": 40,
   "metadata": {
    "collapsed": true,
    "lc_cell_meme": {
     "current": "e543c850-d83d-11e7-8605-0242ac110002",
     "next": "e543c90e-d83d-11e7-8605-0242ac110002",
     "previous": "e543c788-d83d-11e7-8605-0242ac110002"
    }
   },
   "outputs": [],
   "source": [
    "v.cleanup()"
   ]
  },
  {
   "cell_type": "markdown",
   "metadata": {
    "collapsed": true,
    "lc_cell_meme": {
     "current": "e543c90e-d83d-11e7-8605-0242ac110002",
     "next": "e543c9cc-d83d-11e7-8605-0242ac110002",
     "previous": "e543c850-d83d-11e7-8605-0242ac110002"
    }
   },
   "source": [
    "# Appendix\n",
    "\n",
    "## Scale-out a virtual cloud for Galaxy + SLURM cluster\n",
    "\n",
    "[SC17](https://sc17.supercomputing.org/) にて、Galaxyクラスタを複数クラウドにまたがってスケールアウトさせるデモ環境を構築した。\n",
    "- NIIクラウドで構築したGalaxyクラスタ環境の VC (Virtual Cloud) をAWSに拡張する。\n",
    "- Galaxyのジョブ実行先となる計算ノード群のSLURMクラスタにAWS上のノードを追加する。\n",
    "\n",
    "![galaxy-slurm-cluster](media/SC17-galaxy-slurm.png)\n",
    "\n",
    "| VC Node | Cloud (type) | Role |\n",
    "|:--------|:-------------|:----------------------|\n",
    "| 1 | NII Cloud (cpu:20 ram:128G) | NFS / DNS / Galaxy / SLURM Controller |\n",
    "| 2 | NII Cloud (cpu:20 ram:128G) | SLURM Node \\#1 |\n",
    "| 3 | NII Cloud (cpu:20 ram:128G) | SLURM Node \\#2 |\n",
    "| 4 | Amazon Web Services (m4.4xlarge)     | SLURM Node \\#3 |\n",
    "| 5 | Amazon Web Services (m4.4xlarge)     | SLURM Node \\#4 |\n"
   ]
  },
  {
   "cell_type": "code",
   "execution_count": 35,
   "metadata": {
    "lc_cell_meme": {
     "current": "e543c9cc-d83d-11e7-8605-0242ac110002",
     "history": [
     ],
     "next": "f88f5ec2-dad8-11e7-8605-0242ac110002",
     "previous": "e543c90e-d83d-11e7-8605-0242ac110002"
    }
   },
   "outputs": [
    {
     "name": "stdout",
     "output_type": "stream",
     "text": [
      "Wed Dec  6 22:58:14 2017\r\n",
      "PARTITION AVAIL  TIMELIMIT   JOB_SIZE ROOT SHARE     GROUPS  NODES       STATE NODELIST\r\n",
      "work*        up   infinite 1-infinite   no YES:4        all      2        idle c[1-2]\r\n"
     ]
    }
   ],
   "source": [
    "!ssh -F tmp/ssh_config.ga galaxy-server /usr/local/bin/docker exec -i galaxy sinfo --long"
   ]
  },
  {
   "cell_type": "code",
   "execution_count": null,
   "metadata": {
    "collapsed": true,
    "lc_cell_meme": {
     "current": "f88f5ec2-dad8-11e7-8605-0242ac110002",
     "next": null,
     "previous": "e543c9cc-d83d-11e7-8605-0242ac110002"
    }
   },
   "outputs": [],
   "source": []
  }
 ],
 "metadata": {
  "kernelspec": {
   "display_name": "Python 3",
   "language": "python",
   "name": "python3"
  },
  "language_info": {
   "codemirror_mode": {
    "name": "ipython",
    "version": 3
   },
   "file_extension": ".py",
   "mimetype": "text/x-python",
   "name": "python",
   "nbconvert_exporter": "python",
   "pygments_lexer": "ipython3",
   "version": "3.5.2"
  },
  "lc_notebook_meme": {
   "current": "026868c8-6138-11e7-8a3b-9660ba7e074f",
   "lc_server_signature": {
    "current": {
     "notebook_dir": "/notebooks/notebook",
     "notebook_path": "/handson",
     "server_url": "/blue/",
     "signature_id": "46534cdc-d82b-11e7-8605-0242ac110002"
    },
    "history": [
    ]
   }
  },
  "toc": {
   "nav_menu": {
    "height": "66px",
    "width": "252px"
   },
   "number_sections": true,
   "sideBar": true,
   "skip_h1_title": false,
   "toc_cell": false,
   "toc_position": {
    "height": "494px",
    "left": "0px",
    "right": "822px",
    "top": "106px",
    "width": "300px"
   },
   "toc_section_display": "block",
   "toc_window_display": true
  }
 },
 "nbformat": 4,
 "nbformat_minor": 1
}
